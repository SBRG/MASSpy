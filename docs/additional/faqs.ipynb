{
 "cells": [
  {
   "cell_type": "markdown",
   "metadata": {},
   "source": [
    "# Frequently Asked Questions (FAQs)\n",
    "\n",
    "Have a question? Try searching the FAQs!"
   ]
  },
  {
   "cell_type": "markdown",
   "metadata": {},
   "source": [
    "## How do I install MASSpy?\n",
    "There are several ways to install MASSpy. To use ``pip`` to [install MASSpy from PyPI](https://pypi.python.org/pypi/masspy)\n",
    "\n",
    "```python\n",
    "pip install masspy\n",
    "```\n",
    "\n",
    "Check out the [Quick Start Guide](../installation/quickstart.rst) to learn more about getting started!"
   ]
  },
  {
   "cell_type": "markdown",
   "metadata": {},
   "source": [
    "## How do I cite MASSpy?\n",
    "\n",
    "A manuscript is in preparation for publication and will be the proper reference for citing the **MASSpy** software package in the future. In the meantime, feel free to cite the preprint <cite data-cite=\"HZK+20\">MASSpy: Building, simulating, and visualizing dynamic biological models in Python using mass action kinetics</cite>, which can be found at [bioRxiv](https://www.biorxiv.org/content/10.1101/2020.07.31.230334v1)."
   ]
  },
  {
   "cell_type": "markdown",
   "metadata": {},
   "source": [
    "## How do I change the rate expression for a reaction?\n",
    "\n",
    "Use the `MassModel.add_custom_rate()` method."
   ]
  },
  {
   "cell_type": "code",
   "execution_count": 1,
   "metadata": {
    "execution": {
     "iopub.execute_input": "2020-10-20T20:10:48.332953Z",
     "iopub.status.busy": "2020-10-20T20:10:48.331999Z",
     "iopub.status.idle": "2020-10-20T20:10:54.805848Z",
     "shell.execute_reply": "2020-10-20T20:10:54.806648Z"
    }
   },
   "outputs": [
    {
     "name": "stdout",
     "output_type": "stream",
     "text": [
      "Using license file /Users/zhaiman/opt/licenses/gurobi.lic\n",
      "Academic license - for non-commercial use only\n"
     ]
    }
   ],
   "source": [
    "import mass.test\n",
    "\n",
    "model = mass.test.create_test_model(\"textbook\")"
   ]
  },
  {
   "cell_type": "markdown",
   "metadata": {},
   "source": [
    "When metabolites are added to reactions, **MASSpy** will generates rate expressions automatically based on mass action kinetics and the kinetic reversibility given by the `MassReaction.reversible` attribute."
   ]
  },
  {
   "cell_type": "code",
   "execution_count": 2,
   "metadata": {
    "execution": {
     "iopub.execute_input": "2020-10-20T20:10:54.823759Z",
     "iopub.status.busy": "2020-10-20T20:10:54.822065Z",
     "iopub.status.idle": "2020-10-20T20:10:54.828232Z",
     "shell.execute_reply": "2020-10-20T20:10:54.829035Z"
    }
   },
   "outputs": [
    {
     "name": "stdout",
     "output_type": "stream",
     "text": [
      "kf_PGI*(g6p_c(t) - f6p_c(t)/Keq_PGI)\n"
     ]
    }
   ],
   "source": [
    "print(model.reactions.PGI.rate)"
   ]
  },
  {
   "cell_type": "markdown",
   "metadata": {},
   "source": [
    "If a reaction is associated with a model, a custom rate expression can be set using the `MassModel.add_custom_rate()` method. The `add_custom_rate()` method requires the corresponding reaction object and a string representing the custom rate expression to set. For example, to set a simple Michaelis Menten rate expression with $V_{max}$ and $K_{m}$ parameters:"
   ]
  },
  {
   "cell_type": "code",
   "execution_count": 3,
   "metadata": {
    "execution": {
     "iopub.execute_input": "2020-10-20T20:10:54.842816Z",
     "iopub.status.busy": "2020-10-20T20:10:54.841242Z",
     "iopub.status.idle": "2020-10-20T20:10:54.845025Z",
     "shell.execute_reply": "2020-10-20T20:10:54.845553Z"
    }
   },
   "outputs": [
    {
     "name": "stdout",
     "output_type": "stream",
     "text": [
      "vmax_PGI*g6p_c(t)/(Km_PGI + g6p_c(t))\n"
     ]
    }
   ],
   "source": [
    "custom_parameter_dict = {\"vmax_PGI\": None, \"Km_PGI\": None}\n",
    "\n",
    "model.add_custom_rate(\n",
    "    model.reactions.PGI,\n",
    "    custom_rate=\"(vmax_PGI * g6p_c)/(Km_PGI + g6p_c)\",\n",
    "    custom_parameters=custom_parameter_dict)\n",
    "print(model.reactions.PGI.rate)"
   ]
  },
  {
   "cell_type": "markdown",
   "metadata": {},
   "source": [
    "The reaction rate expression is converted from a string to a symbolic expression using the `sympy.sympify()` function. All metabolites and standard reaction parameters (i.e. returned by the `MassReaction.all_parameter_ids`), and boundary conditions are recognized. However, all additional parameters must be set as a custom parameter in the `MassModel.custom_parameters` attribute."
   ]
  },
  {
   "cell_type": "code",
   "execution_count": 4,
   "metadata": {
    "execution": {
     "iopub.execute_input": "2020-10-20T20:10:54.852677Z",
     "iopub.status.busy": "2020-10-20T20:10:54.850373Z",
     "iopub.status.idle": "2020-10-20T20:10:54.855126Z",
     "shell.execute_reply": "2020-10-20T20:10:54.855649Z"
    }
   },
   "outputs": [
    {
     "name": "stdout",
     "output_type": "stream",
     "text": [
      "Recognized Parameters: ['kf_PGI', 'Keq_PGI', 'kr_PGI', 'v_PGI']\n",
      "Custom Parameters: ['vmax_PGI', 'Km_PGI']\n"
     ]
    }
   ],
   "source": [
    "print(\"Recognized Parameters: {!r}\".format(model.reactions.PGI.all_parameter_ids))\n",
    "print(\"Custom Parameters: {!r}\".format(list(custom_parameter_dict)))"
   ]
  },
  {
   "cell_type": "markdown",
   "metadata": {},
   "source": [
    "Additional information about the underlying `sympify()` function can be found [here](https://docs.sympy.org/latest/modules/core.html)."
   ]
  }
 ],
 "metadata": {
  "kernelspec": {
   "display_name": "Python 3",
   "language": "python",
   "name": "python3"
  },
  "language_info": {
   "codemirror_mode": {
    "name": "ipython",
    "version": 3
   },
   "file_extension": ".py",
   "mimetype": "text/x-python",
   "name": "python",
   "nbconvert_exporter": "python",
   "pygments_lexer": "ipython3",
   "version": "3.7.9"
  }
 },
 "nbformat": 4,
 "nbformat_minor": 2
}
