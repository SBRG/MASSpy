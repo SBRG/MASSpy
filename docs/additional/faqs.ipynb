{
 "cells": [
  {
   "cell_type": "markdown",
   "metadata": {},
   "source": [
    "# Frequently Asked Questions (FAQs)\n",
    "\n",
    "Have a question? Try searching the FAQs!"
   ]
  },
  {
   "cell_type": "markdown",
   "metadata": {},
   "source": [
    "## How do I install MASSpy?\n",
    "There are several ways to install MASSpy. To use ``pip`` to [install MASSpy from PyPI](https://pypi.org/project/masspy/)\n",
    "\n",
    "```python\n",
    "pip install masspy\n",
    "```\n",
    "\n",
    "Check out the [Quick Start Guide](../installation/quickstart.rst) to learn more about getting started!"
   ]
  },
  {
   "cell_type": "markdown",
   "metadata": {},
   "source": [
    "## How do I cite MASSpy?\n",
    "\n",
    "To cite the **MASSpy** software publication:\n",
    "\n",
    "> Haiman ZB, Zielinski DC, Koike Y, Yurkovich JT, Palsson BO (2021)\n",
    "> MASSpy: Building, simulating, and visualizing dynamic biological models in Python using mass action kinetics.\n",
    "> PLOS Computational Biology 17(1): e1008208. https://doi.org/10.1371/journal.pcbi.1008208\n",
    "\n",
    "Additionally, please consider citing **COBRApy**, **libRoadRunner**, and other software dependencies of MASSpy! Citations and links to several dependencies as well as other useful literature sources are found in the [Works Cited](../references.rst) and [Code Repositories](../additional/code_repositories.rst) sections of the documentation."
   ]
  },
  {
   "cell_type": "markdown",
   "metadata": {},
   "source": [
    "## How do I change the rate expression for a reaction?\n",
    "\n",
    "Use the `MassModel.add_custom_rate()` method."
   ]
  },
  {
   "cell_type": "code",
   "execution_count": 1,
   "metadata": {
    "execution": {
     "iopub.execute_input": "2021-01-25T17:18:46.828432Z",
     "iopub.status.busy": "2021-01-25T17:18:46.827229Z",
     "iopub.status.idle": "2021-01-25T17:18:52.606514Z",
     "shell.execute_reply": "2021-01-25T17:18:52.607039Z"
    }
   },
   "outputs": [
    {
     "name": "stdout",
     "output_type": "stream",
     "text": [
      "Set parameter Username\n"
     ]
    }
   ],
   "source": [
    "import mass.example_data\n",
    "\n",
    "model = mass.example_data.create_example_model(\"textbook\")"
   ]
  },
  {
   "cell_type": "markdown",
   "metadata": {},
   "source": [
    "When metabolites are added to reactions, **MASSpy** will generates rate expressions automatically based on mass action kinetics and the kinetic reversibility given by the `MassReaction.reversible` attribute."
   ]
  },
  {
   "cell_type": "code",
   "execution_count": 2,
   "metadata": {
    "execution": {
     "iopub.execute_input": "2021-01-25T17:18:52.620414Z",
     "iopub.status.busy": "2021-01-25T17:18:52.619569Z",
     "iopub.status.idle": "2021-01-25T17:18:52.622575Z",
     "shell.execute_reply": "2021-01-25T17:18:52.623109Z"
    }
   },
   "outputs": [
    {
     "name": "stdout",
     "output_type": "stream",
     "text": [
      "kf_PGI*(g6p_c(t) - f6p_c(t)/Keq_PGI)\n"
     ]
    }
   ],
   "source": [
    "print(model.reactions.PGI.rate)"
   ]
  },
  {
   "cell_type": "markdown",
   "metadata": {},
   "source": [
    "If a reaction is associated with a model, a custom rate expression can be set using the `MassModel.add_custom_rate()` method. The `add_custom_rate()` method requires the corresponding reaction object and a string representing the custom rate expression to set. For example, to set a simple Michaelis Menten rate expression with $V_{max}$ and $K_{m}$ parameters:"
   ]
  },
  {
   "cell_type": "code",
   "execution_count": 3,
   "metadata": {
    "execution": {
     "iopub.execute_input": "2021-01-25T17:18:52.632656Z",
     "iopub.status.busy": "2021-01-25T17:18:52.631853Z",
     "iopub.status.idle": "2021-01-25T17:18:52.634553Z",
     "shell.execute_reply": "2021-01-25T17:18:52.634999Z"
    }
   },
   "outputs": [
    {
     "name": "stdout",
     "output_type": "stream",
     "text": [
      "vmax_PGI*g6p_c(t)/(Km_PGI + g6p_c(t))\n"
     ]
    }
   ],
   "source": [
    "custom_parameter_dict = {\"vmax_PGI\": None, \"Km_PGI\": None}\n",
    "\n",
    "model.add_custom_rate(\n",
    "    model.reactions.PGI,\n",
    "    custom_rate=\"(vmax_PGI * g6p_c)/(Km_PGI + g6p_c)\",\n",
    "    custom_parameters=custom_parameter_dict)\n",
    "print(model.reactions.PGI.rate)"
   ]
  },
  {
   "cell_type": "markdown",
   "metadata": {},
   "source": [
    "The reaction rate expression is converted from a string to a symbolic expression using the `sympy.sympify()` function. All metabolites and standard reaction parameters (i.e. returned by the `MassReaction.all_parameter_ids`), and boundary conditions are recognized. However, all additional parameters must be set as a custom parameter in the `MassModel.custom_parameters` attribute."
   ]
  },
  {
   "cell_type": "code",
   "execution_count": 4,
   "metadata": {
    "execution": {
     "iopub.execute_input": "2021-01-25T17:18:52.639462Z",
     "iopub.status.busy": "2021-01-25T17:18:52.638796Z",
     "iopub.status.idle": "2021-01-25T17:18:52.642211Z",
     "shell.execute_reply": "2021-01-25T17:18:52.641713Z"
    }
   },
   "outputs": [
    {
     "name": "stdout",
     "output_type": "stream",
     "text": [
      "Recognized Parameters: ['kf_PGI', 'Keq_PGI', 'kr_PGI', 'v_PGI']\n",
      "Custom Parameters: ['vmax_PGI', 'Km_PGI']\n"
     ]
    }
   ],
   "source": [
    "print(\"Recognized Parameters: {!r}\".format(model.reactions.PGI.all_parameter_ids))\n",
    "print(\"Custom Parameters: {!r}\".format(list(custom_parameter_dict)))"
   ]
  },
  {
   "cell_type": "markdown",
   "metadata": {},
   "source": [
    "Additional information about the underlying `sympify()` function can be found [here](https://docs.sympy.org/latest/modules/core.html)."
   ]
  }
 ],
 "metadata": {
  "kernelspec": {
   "display_name": "Python 3 (ipykernel)",
   "language": "python",
   "name": "python3"
  },
  "language_info": {
   "codemirror_mode": {
    "name": "ipython",
    "version": 3
   },
   "file_extension": ".py",
   "mimetype": "text/x-python",
   "name": "python",
   "nbconvert_exporter": "python",
   "pygments_lexer": "ipython3",
   "version": "3.8.12"
  }
 },
 "nbformat": 4,
 "nbformat_minor": 2
}
