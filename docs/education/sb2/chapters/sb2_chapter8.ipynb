{
 "cells": [
  {
   "cell_type": "markdown",
   "metadata": {},
   "source": [
    "# Stoichiometric Structure\n",
    "Part I of this book introduced the basics of dynamic simulation. The process for setting up dynamic equations, their simulation, and processing of the output was presented in Chapter 3. Several concepts of dynamic analysis of networks were illustrated through the use of simple examples of chemical reaction mechanisms in Chapters 4 through 6. Most of these examples were conceptual and had limited direct biological relevance. In Chapter 7 we began to estimate the numerical values and ranges for key quantities in dynamic models. With this background, we now begin the process of addressing issues that are important when one builds realistic dynamic models of biological functions. We start by exploring the consequences of reaction bilinearity and that of the stoichiometric structure of a network. In Part III we then extend the material in this chapter to well-known metabolic pathways.  \n",
    "\n",
    "**MASSpy** will be used to demonstrate some of the topics in this chapter.  "
   ]
  },
  {
   "cell_type": "code",
   "execution_count": 1,
   "metadata": {
    "execution": {
     "iopub.execute_input": "2020-10-20T20:20:24.845825Z",
     "iopub.status.busy": "2020-10-20T20:20:24.844027Z",
     "iopub.status.idle": "2020-10-20T20:20:27.263692Z",
     "shell.execute_reply": "2020-10-20T20:20:27.264160Z"
    }
   },
   "outputs": [],
   "source": [
    "from mass import (\n",
    "    MassModel, MassMetabolite, MassReaction,\n",
    "    Simulation, MassSolution, strip_time)\n",
    "from mass.util.matrix import nullspace, left_nullspace\n",
    "from mass.visualization import plot_time_profile, plot_phase_portrait"
   ]
  },
  {
   "cell_type": "markdown",
   "metadata": {},
   "source": [
    "Other useful packages are also imported at this time."
   ]
  },
  {
   "cell_type": "code",
   "execution_count": 2,
   "metadata": {
    "execution": {
     "iopub.execute_input": "2020-10-20T20:20:27.269098Z",
     "iopub.status.busy": "2020-10-20T20:20:27.268441Z",
     "iopub.status.idle": "2020-10-20T20:20:27.270817Z",
     "shell.execute_reply": "2020-10-20T20:20:27.271295Z"
    }
   },
   "outputs": [],
   "source": [
    "import numpy as np\n",
    "import pandas as pd\n",
    "import sympy as sym\n",
    "import matplotlib.pyplot as plt\n",
    "XL_FONT = {\"size\": \"x-large\"}"
   ]
  },
  {
   "cell_type": "markdown",
   "metadata": {},
   "source": [
    "## Bilinearity in Biochemical Reactions\n",
    "### Bilinear reactions \n",
    "They are of the form:\n",
    "\n",
    "$$\\begin{equation} x + y \\rightarrow z \\tag{8.1} \\end{equation}$$\n",
    "\n",
    "Two molecules come together to form a new molecule through the breaking and forming of covalent bonds, or a complex through the formation of hydrogen bonds. As illustrated with the pool formations in the bilinear examples in Chapter 4, such reactions come with moiety exchanges. \n",
    "\n",
    "### Enzyme classification  \n",
    "Enzyme catalyzed reactions are classified in to seven categories by Enzyme Commission (EC) numbers, see Figure 8.1a.  These categories are: oxidoreductases, transferases, hydrolases, lyases, isomerases, and ligases. All these chemical transformations are bilinear with the exception of isomerases that simply rearrange a molecule without the participation of other reactants. Thus, the vast majority of biochemical reactions are bilinear. An overall pseudo-elementary representation (i.e., without treating the enzyme itself as a reactant, and just representing the un-catalyzed reaction) is bilinear. \n",
    "\n",
    "![Figure-8-1](../images/Ch8/Figure-8-1.png)\n",
    "\n",
    "**Figure 8.1:** The bilinear nature of biochemical reactions. (a) The classification of enzyme catalyzed reactions into seven categories by the enzyme commission (EC) number system. (b) The detailed view of the role of coenzymes and prosthetic groups in enzyme catalyzed reactions. Coenzymes are often referred to as cofactors. Both images from Koolman, 2005 (reprinted with permission).\n",
    "\n",
    "### Coenzymes and prosthetic groups  \n",
    "There are coenzymes and prosthetic groups that are involved in many biochemical reactions. These molecules are involved in group transfer reactions as illustrated in Figure 8.1b. They can transfer various chemical moieties or redox equivalents, see Table 8.1. Coenzymes act like a reactant and product in a reaction.  They can work with many enzymes performing reactions that need them.  Prosthetic groups  associate with a particular enzyme to give it chemical functionalities that the protein itself does not have, Figure 8.1b. The heme group on hemoglobin is perhaps the most familiar example (see Chapter 13) that allows the protein tetramer to acquire a ferrous ion thus enabling the binding of oxygen.  This binding allows the red blood cell to perform its oxygen delivery functions. There are many such capabilities 'grafted' onto proteins in the form of prosthetic groups. Many of the vitamins confer functions on protein complexes. "
   ]
  },
  {
   "cell_type": "markdown",
   "metadata": {},
   "source": [
    "## Bilinearity Leads to a Tangle of Cycles\n",
    "### Moiety exchange:  \n",
    "Biochemical reaction networks are primarily made up of bilinear reactions. A fundamental consequence of this characteristic is a deliberate exchange of chemical moieties and properties between molecules. This exchange is illustrated in Figure 8.2. Here, an incoming molecule, $XA$, puts the moiety, $A$, onto a carrier molecule, $C$. The carrier molecule, now in a 'charged' form $(CA)$, can donate the $A$ moiety to another molecule, $Y$, to form $YA$. The terms _coenzyme,_ _cofactor_ or _carrier_ are used to describe the $C$ molecule.\n",
    "\n",
    "![Figure-8-2](../images/Ch8/Figure-8-2.png)\n",
    "\n",
    "**Figure 8.2:** Carrier $(C)$ mediated transfer of chemical moiety $A$ from compound $X$ to compound $Y$.\n",
    "\n",
    "### Formation of cycles:  \n",
    "The ability of bilinear reactions to exchange moieties in this fashion leads to the formation of distribution networks of chemical moieties and other properties of interest through the formation of a deliberate 'supply-chain' network. The structure of such a network must be thermodynamically feasible and conform to environmental constraints. \n",
    "\n",
    "Bilinearization in biochemical reaction networks leads to a 'tangle of cycles,' where different moieties and properties are being moved around the network. While a property of all biochemical networks, this trafficking of chemical and other properties is best known in metabolism. The major chemical properties that are being exchanged in metabolism are summarized in Table 8.1. These properties include energy, redox potential, one-carbon units, two-carbon units, amide groups, amine groups, etc. We now consider some specific cases. \n",
    "\n",
    "**Table 8.1:** Some activated carriers or coenzymes in metabolism, modified from Kurganov, 1983.\n",
    "\n",
    "![Table-8-1](../images/Ch8/Table-8-1.png)\n",
    "\n",
    "#### Example: Redox and energy trafficking in the core _E. coli_ metabolic pathways  \n",
    "Energy metabolism revolves around the generation of redox potential and chemical energy in the form of high-energy phosphate bonds. The degradation of substrates through a series of chemical reactions culminates in the storage of these properties on key carrier molecules; see Table 8.1. \n",
    "\n",
    "The core metabolic pathways in _E. coli_ illustrate this feature, Figure 8.3. The transmission of redox equivalents through this core set of pathways is shown in Figure 8.3a. Each pathway is coupled to a redox carrier in a particular way. This pathway map can be drawn to show the cofactors rather than the primary metabolites and the main pathways (Figure 8.3b). This figure clearly shows how the cofactors interact and how the bilinear property of the stoichiometry of the core set of pathways leads to a tangle of cycles among the redox carriers. \n",
    "\n",
    "![Figure-8-3](../images/Ch8/Figure-8-3.png)\n",
    "\n",
    "**Figure 8.3:** The tangle of cycles in trafficking of redox potential (R) in _E. coli_ core metabolic pathways. (a) A map organized around the core pathways. (b) The tangle of cycles seen by viewing the cofactors and how they are coupled. Prepared by Jeff Orth.\n",
    "\n",
    "#### Example: Protein trafficking in signaling pathways  \n",
    "Although the considerations above are illustrated using well-known metabolic pathways, these same features are also observed in signaling pathways. Incoming molecules (ligands) trigger a well-defined series of charging and discharging of the protein that make up a signaling network, most often with a phosphate group. "
   ]
  },
  {
   "cell_type": "markdown",
   "metadata": {},
   "source": [
    "## Trafficking of High-Energy Phosphate Bonds\n",
    "Given the bilinear nature of biochemical reaction networks and the key role that cofactors play, we begin the process of building biologically meaningful simulation models by studying the use and formation of high-energy phosphate bonds. Cellular energy is stored in high-energy phosphate bonds in ATP. The dynamic balance of the rates of use and formation of ATP is thus a common denominator in all cellular processes, and thus foundational to the living process. We study the dynamic properties of this system in a bottom-up fashion by starting with its simple elements and making the description progressively more complicated. Throughout the text we make explicit use of the basic methods in **MASSpy**.\n",
    "\n",
    "![Figure-8-4](../images/Ch8/Figure-8-4.png)\n",
    "\n",
    "**Figure 8.4:** Representation of the exchange of high energy phosphate bonds among the adenosine phosphates. (a) The chemical reactions. (b) The molecules with open circles showing the \"vacant\" places for high energy bonds. The capacity to carry high-energy phosphate bonds, the occupancy of high-energy bonds, and the energy charge are shown. (c) The reaction schema of (a) in pictorial form. The solid squares represent AMP and the solid circles the high energy phosphate bonds. (d) The same concepts as in (b) represented in pictorial form.\n",
    "\n",
    "### Distribution of high-energy phosphate groups: adenylate kinase (EC 2.7.4.3)\n",
    "The Adenylate Kinase is an important part in intracellular energy homeostasis. Adenylate Kinase is a phosphotransferase enzyme and it is the enzyme responsible for the redistribution of the phosphate groups among the adenosine phosphates. The redistribution reaction the Adenylate Kinase catalyzes is seen in Figure 8.4a.\n",
    "\n",
    "#### The mass balance:  adenylate kinase\n",
    "The redistribution of the phosphate groups among the adenosine phosphates by the adenylate kinase is given by the following kinetic equations:\n",
    "\n",
    "$$\\begin{equation} \\frac{d\\text{ATP}}{dt} = v_{\\mathrm{distr}}, \\ \\frac{d\\text{ADP}}{dt} = -2\\ v_{\\mathrm{distr}}, \\ \\frac{d\\text{AMP}}{dt} = v_{\\mathrm{distr}} \\tag{8.2} \\end{equation}$$\n",
    "\n",
    "#### The reaction rates: adenylate kinase\n",
    "The mass action form of these basic reaction rates are \n",
    "\n",
    "$$\\begin{equation} v_{\\mathrm{distr}} = k_{\\mathrm{distr}}^\\rightarrow\\text{ADP}^2 - k_{\\mathrm{distr}}^\\leftarrow\\text{ATP}*\\text{AMP} \\tag{8.3} \\end{equation}$$\n",
    "\n",
    "#### Numerical values: adenylate kinase\n",
    "The approximate numerical values of the parameters in this system can be estimated. In metabolically active tissues, the ATP concentration is about 1.6 mM, the ADP concentration is about 0.4 mM, and the AMP concentration is about 0.1 mM.  Total adenosine phosphates are thus about 2.1 mM. Because this reaction is considerably faster compared to other metabolic processes, we set $k_{\\mathrm{distr}}^\\rightarrow$ to 1000/Min. $K_{\\mathrm{distr}}$ for the distribution reaction is approximately unity. We then construct a model of the redistribution of phosphate groups among the adenosine phosphates by adenylate kinase using the above constraints.  This is simple reversible reaction that equilibrates quickly.\n",
    "\n",
    "![Figure-8-5](../images/Ch8/Figure-8-5.png)\n",
    "\n",
    "**Figure 8.5:** The redistribution of phosphate groups among the adenosine phosphates by adenylate kinase."
   ]
  },
  {
   "cell_type": "code",
   "execution_count": 3,
   "metadata": {
    "execution": {
     "iopub.execute_input": "2020-10-20T20:20:27.285068Z",
     "iopub.status.busy": "2020-10-20T20:20:27.284252Z",
     "iopub.status.idle": "2020-10-20T20:20:27.286347Z",
     "shell.execute_reply": "2020-10-20T20:20:27.286804Z"
    }
   },
   "outputs": [],
   "source": [
    "phos_traffic = MassModel(\"Phosphate_Trafficking\", array_type=\"DataFrame\",\n",
    "                         dtype=np.int64)\n",
    "# Define metabolites\n",
    "atp = MassMetabolite(\"atp\")\n",
    "adp = MassMetabolite(\"adp\")\n",
    "amp = MassMetabolite(\"amp\")\n",
    "# Define reactions\n",
    "v_distr = MassReaction(\"distr\")\n",
    "v_distr.add_metabolites({adp: -2, amp: 1, atp:1})\n",
    "\n",
    "# Add reactions to model\n",
    "phos_traffic.add_reactions([v_distr])\n",
    "\n",
    "# Define initial conditions and parameters\n",
    "atp.ic = 1.6\n",
    "adp.ic = 0.4\n",
    "amp.ic = 0.1\n",
    "\n",
    "v_distr.kf = 1000\n",
    "v_distr.Keq = 1"
   ]
  },
  {
   "cell_type": "markdown",
   "metadata": {},
   "source": [
    "#### Null spaces: adenylate kinase\n",
    "The stoichiometric matrix is basically a column vector."
   ]
  },
  {
   "cell_type": "code",
   "execution_count": 4,
   "metadata": {
    "execution": {
     "iopub.execute_input": "2020-10-20T20:20:27.295323Z",
     "iopub.status.busy": "2020-10-20T20:20:27.294653Z",
     "iopub.status.idle": "2020-10-20T20:20:27.300942Z",
     "shell.execute_reply": "2020-10-20T20:20:27.300493Z"
    },
    "scrolled": true
   },
   "outputs": [
    {
     "data": {
      "text/html": [
       "<div>\n",
       "<style scoped>\n",
       "    .dataframe tbody tr th:only-of-type {\n",
       "        vertical-align: middle;\n",
       "    }\n",
       "\n",
       "    .dataframe tbody tr th {\n",
       "        vertical-align: top;\n",
       "    }\n",
       "\n",
       "    .dataframe thead th {\n",
       "        text-align: right;\n",
       "    }\n",
       "</style>\n",
       "<table border=\"1\" class=\"dataframe\">\n",
       "  <thead>\n",
       "    <tr style=\"text-align: right;\">\n",
       "      <th></th>\n",
       "      <th>distr</th>\n",
       "    </tr>\n",
       "  </thead>\n",
       "  <tbody>\n",
       "    <tr>\n",
       "      <th>adp</th>\n",
       "      <td>-2</td>\n",
       "    </tr>\n",
       "    <tr>\n",
       "      <th>amp</th>\n",
       "      <td>1</td>\n",
       "    </tr>\n",
       "    <tr>\n",
       "      <th>atp</th>\n",
       "      <td>1</td>\n",
       "    </tr>\n",
       "  </tbody>\n",
       "</table>\n",
       "</div>"
      ],
      "text/plain": [
       "     distr\n",
       "adp     -2\n",
       "amp      1\n",
       "atp      1"
      ]
     },
     "execution_count": 1,
     "metadata": {},
     "output_type": "execute_result"
    }
   ],
   "source": [
    "phos_traffic.S"
   ]
  },
  {
   "cell_type": "markdown",
   "metadata": {},
   "source": [
    "It has an empty null space; i.e. zero dimensional."
   ]
  },
  {
   "cell_type": "code",
   "execution_count": 5,
   "metadata": {
    "execution": {
     "iopub.execute_input": "2020-10-20T20:20:27.306459Z",
     "iopub.status.busy": "2020-10-20T20:20:27.305685Z",
     "iopub.status.idle": "2020-10-20T20:20:27.309144Z",
     "shell.execute_reply": "2020-10-20T20:20:27.309689Z"
    }
   },
   "outputs": [
    {
     "data": {
      "text/plain": [
       "array([], shape=(1, 0), dtype=float64)"
      ]
     },
     "execution_count": 1,
     "metadata": {},
     "output_type": "execute_result"
    }
   ],
   "source": [
    "nullspace(phos_traffic.S, rtol=1e-1)"
   ]
  },
  {
   "cell_type": "markdown",
   "metadata": {},
   "source": [
    "However, the left null space has two dimensions and it thus has two conservation pools. "
   ]
  },
  {
   "cell_type": "code",
   "execution_count": 6,
   "metadata": {
    "execution": {
     "iopub.execute_input": "2020-10-20T20:20:27.320563Z",
     "iopub.status.busy": "2020-10-20T20:20:27.319744Z",
     "iopub.status.idle": "2020-10-20T20:20:27.322873Z",
     "shell.execute_reply": "2020-10-20T20:20:27.323313Z"
    }
   },
   "outputs": [
    {
     "data": {
      "text/html": [
       "<div>\n",
       "<style scoped>\n",
       "    .dataframe tbody tr th:only-of-type {\n",
       "        vertical-align: middle;\n",
       "    }\n",
       "\n",
       "    .dataframe tbody tr th {\n",
       "        vertical-align: top;\n",
       "    }\n",
       "\n",
       "    .dataframe thead th {\n",
       "        text-align: right;\n",
       "    }\n",
       "</style>\n",
       "<table border=\"1\" class=\"dataframe\">\n",
       "  <thead>\n",
       "    <tr style=\"text-align: right;\">\n",
       "      <th></th>\n",
       "      <th>adp</th>\n",
       "      <th>amp</th>\n",
       "      <th>atp</th>\n",
       "    </tr>\n",
       "  </thead>\n",
       "  <tbody>\n",
       "    <tr>\n",
       "      <th>Vacancy</th>\n",
       "      <td>1</td>\n",
       "      <td>2</td>\n",
       "      <td>0</td>\n",
       "    </tr>\n",
       "    <tr>\n",
       "      <th>Occupancy</th>\n",
       "      <td>1</td>\n",
       "      <td>0</td>\n",
       "      <td>2</td>\n",
       "    </tr>\n",
       "  </tbody>\n",
       "</table>\n",
       "</div>"
      ],
      "text/plain": [
       "           adp  amp  atp\n",
       "Vacancy      1    2    0\n",
       "Occupancy    1    0    2"
      ]
     },
     "execution_count": 1,
     "metadata": {},
     "output_type": "execute_result"
    }
   ],
   "source": [
    "# Obtain left nullspace\n",
    "lns = left_nullspace(phos_traffic.S, rtol=1e-1)\n",
    "# Iterate through left nullspace, \n",
    "# dividing by the smallest value in each row. \n",
    "for i, row in enumerate(lns):\n",
    "    minval = np.min(abs(row[np.nonzero(row)]))\n",
    "    new_row = np.array(row/minval)\n",
    "    # Round to ensure the left nullspace is composed of only integers\n",
    "    lns[i] = np.array([round(value) for value in new_row])\n",
    "\n",
    "# Ensure positive stoichiometric coefficients if all are negative\n",
    "for i, space in enumerate(lns):\n",
    "    lns[i] = np.negative(space) if all([num <= 0 for num in space]) else space\n",
    "\n",
    "# Create a pandas.DataFrame to represent the left nullspace\n",
    "pd.DataFrame(lns, index=[\"Vacancy\", \"Occupancy\"], \n",
    "             columns=phos_traffic.metabolites, dtype=np.int64)"
   ]
  },
  {
   "cell_type": "markdown",
   "metadata": {},
   "source": [
    "The interpretation of these pools is remarkably interesting:  the first one counts the number of high energy phosphate bonds in the system, while the second counts the number of vacant spots where high energy phosphate bonds can be added.  The left null space is spanned by these two vectors that we can think of as a conjugate pair.  Furthermore, the summation of the two is the total amount of the 'A' nucleotide in the system times two; ie the total number of possible high-energy phosphate bonds that the system can carry.  "
   ]
  },
  {
   "cell_type": "code",
   "execution_count": 7,
   "metadata": {
    "execution": {
     "iopub.execute_input": "2020-10-20T20:20:27.331492Z",
     "iopub.status.busy": "2020-10-20T20:20:27.330703Z",
     "iopub.status.idle": "2020-10-20T20:20:27.333881Z",
     "shell.execute_reply": "2020-10-20T20:20:27.334582Z"
    }
   },
   "outputs": [
    {
     "data": {
      "text/html": [
       "<div>\n",
       "<style scoped>\n",
       "    .dataframe tbody tr th:only-of-type {\n",
       "        vertical-align: middle;\n",
       "    }\n",
       "\n",
       "    .dataframe tbody tr th {\n",
       "        vertical-align: top;\n",
       "    }\n",
       "\n",
       "    .dataframe thead th {\n",
       "        text-align: right;\n",
       "    }\n",
       "</style>\n",
       "<table border=\"1\" class=\"dataframe\">\n",
       "  <thead>\n",
       "    <tr style=\"text-align: right;\">\n",
       "      <th></th>\n",
       "      <th>adp</th>\n",
       "      <th>amp</th>\n",
       "      <th>atp</th>\n",
       "    </tr>\n",
       "  </thead>\n",
       "  <tbody>\n",
       "    <tr>\n",
       "      <th>Capacity</th>\n",
       "      <td>2</td>\n",
       "      <td>2</td>\n",
       "      <td>2</td>\n",
       "    </tr>\n",
       "  </tbody>\n",
       "</table>\n",
       "</div>"
      ],
      "text/plain": [
       "          adp  amp  atp\n",
       "Capacity    2    2    2"
      ]
     },
     "execution_count": 1,
     "metadata": {},
     "output_type": "execute_result"
    }
   ],
   "source": [
    "# Sum the elements of each row to obtain the capacity pool\n",
    "capacity = np.array([np.sum(lns, axis=0)])\n",
    "pd.DataFrame(capacity, index=[\"Capacity\"],\n",
    "             columns=phos_traffic.metabolites, dtype=np.int64)"
   ]
  },
  {
   "cell_type": "markdown",
   "metadata": {},
   "source": [
    "Note that any activity of this reaction does not change the sizes of these two pools as the left null space is orthogonal to the reaction vector (or the column vector of $(\\textbf{S})$, that represents the direction of motion.\n",
    "\n",
    "### Using and generating high-energy phosphate groups  \n",
    "We now introduce the 'use' and 'formation' reactions for ATP into the above system.  These represent aggregate processes in the cell using and forming high energy bonds.\n",
    "\n",
    "#### The mass balances: trafficking high-energy phosphate bonds\n",
    "$$\\begin{align} \\frac{d\\text{ATP}}{dt} &= -v_{\\mathrm{use}} + v_{\\mathrm{form}} + v_{\\mathrm{distr}} \\tag{8.4} \\\\ \\frac{d\\text{ADP}}{dt} &= v_{\\mathrm{use}} - v_{\\mathrm{form}} - 2\\ v_{\\mathrm{distr}} \\tag{8.5} \\\\ \\frac{d\\text{AMP}}{dt} &= v_{\\mathrm{distr}} \\tag{8.6} \\end{align}$$\n",
    "\n",
    "where $v_{\\mathrm{use}}$ is the rate of use of ATP, $v_{\\mathrm{form}}$ is the rate of formation of ATP, and, as above, $v_{\\mathrm{distr}}$ is the redistribution of the phosphate group among the adenosine phosphates by adenylate kinase. \n",
    "\n",
    "#### The reaction rates: trafficking high-energy phosphate bonds\n",
    "Elementary mass action form for the two additional rate equations are \n",
    "\n",
    "$$\\begin{equation} v_{\\mathrm{use}} = k_{\\mathrm{use}}^\\rightarrow \\text{ATP},\\ v_{\\mathrm{form}} = k_{\\mathrm{form}}^\\rightarrow\\text{ADP}\\tag{8.7} \\end{equation}$$ \n",
    "\n",
    "#### Numerical values: trafficking high-energy phosphate bonds\n",
    "We use the equilibrium concentrations from the distribution model and estimate in the numerical values for the rate constants of ATP use and formation based on the fact that typical use and formation rates of ATP are about 10 mM/min. Using the steady state concentrations, we can calculate $k_{\\mathrm{use}}^\\rightarrow$ and $k_{\\mathrm{form}}^\\rightarrow$, resulting in $k_{\\mathrm{use}}^\\rightarrow=6.25\\ min^{-1}$ and $k_{\\mathrm{form}}^\\rightarrow=25\\ min^{-1}$. These constants are known as Pseudo-Elementary Rate Constants (PERCs). They are a ratio between the flux through a reaction and the concentrations of the involved species, and the simplify the network dynamic analysis. However they are condition dependent and result in a condition dependent kinetic model. What comprises the PERCs is explored further in the later chapters.  \n",
    "\n",
    "We update the distribution model with the additional reactions and parameters. \n",
    "\n",
    "![Figure-8-6](../images/Ch8/Figure-8-6.png)\n",
    "\n",
    "**Figure 8.6:** The trafficking of high-energy phosphate bonds."
   ]
  },
  {
   "cell_type": "code",
   "execution_count": 8,
   "metadata": {
    "execution": {
     "iopub.execute_input": "2020-10-20T20:20:27.350232Z",
     "iopub.status.busy": "2020-10-20T20:20:27.349415Z",
     "iopub.status.idle": "2020-10-20T20:20:27.352205Z",
     "shell.execute_reply": "2020-10-20T20:20:27.352692Z"
    }
   },
   "outputs": [
    {
     "name": "stdout",
     "output_type": "stream",
     "text": [
      "kf_distr*(adp(t)**2 - amp(t)*atp(t)/Keq_distr)\n"
     ]
    }
   ],
   "source": [
    "# Create utilization reaction\n",
    "v_use = MassReaction(\"use\", reversible=False)\n",
    "v_use.add_metabolites({atp: -1, adp: 1})\n",
    "v_use.kf = 6.25\n",
    "\n",
    "# Create formation reaction\n",
    "v_form = MassReaction(\"form\", reversible=False)\n",
    "v_form.add_metabolites({adp: -1, atp: 1})\n",
    "v_form.kf = 25\n",
    "\n",
    "# Add reactions to model\n",
    "phos_traffic.add_reactions([v_use, v_form])\n",
    "\n",
    "# View rate of distribution reaction\n",
    "print(v_distr.rate)"
   ]
  },
  {
   "cell_type": "markdown",
   "metadata": {},
   "source": [
    "From the model we also see that the net rate for the redistribution of high-energy bonds is\n",
    "\n",
    "$$\\begin{align} v_{\\mathrm{distr}} &= k_{\\mathrm{distr}}^\\rightarrow\\ \\text{ADP}^2 - k_{\\mathrm{distr}}^\\leftarrow\\text{ATP}*\\text{AMP} \\\\ &= k_{\\mathrm{distr}}^\\rightarrow( \\text{ADP}^2 - \\text{ATP}*\\text{AMP}/K_{\\mathrm{distr}}) \\end{align} \\tag{8.8}$$\n",
    "\n",
    "#### Null spaces: trafficking high-energy phosphate bonds\n",
    "Now the stoichiometric matrix three columns. "
   ]
  },
  {
   "cell_type": "code",
   "execution_count": 9,
   "metadata": {
    "execution": {
     "iopub.execute_input": "2020-10-20T20:20:27.360296Z",
     "iopub.status.busy": "2020-10-20T20:20:27.359485Z",
     "iopub.status.idle": "2020-10-20T20:20:27.362492Z",
     "shell.execute_reply": "2020-10-20T20:20:27.362935Z"
    }
   },
   "outputs": [
    {
     "data": {
      "text/html": [
       "<div>\n",
       "<style scoped>\n",
       "    .dataframe tbody tr th:only-of-type {\n",
       "        vertical-align: middle;\n",
       "    }\n",
       "\n",
       "    .dataframe tbody tr th {\n",
       "        vertical-align: top;\n",
       "    }\n",
       "\n",
       "    .dataframe thead th {\n",
       "        text-align: right;\n",
       "    }\n",
       "</style>\n",
       "<table border=\"1\" class=\"dataframe\">\n",
       "  <thead>\n",
       "    <tr style=\"text-align: right;\">\n",
       "      <th></th>\n",
       "      <th>distr</th>\n",
       "      <th>use</th>\n",
       "      <th>form</th>\n",
       "    </tr>\n",
       "  </thead>\n",
       "  <tbody>\n",
       "    <tr>\n",
       "      <th>adp</th>\n",
       "      <td>-2</td>\n",
       "      <td>1</td>\n",
       "      <td>-1</td>\n",
       "    </tr>\n",
       "    <tr>\n",
       "      <th>amp</th>\n",
       "      <td>1</td>\n",
       "      <td>0</td>\n",
       "      <td>0</td>\n",
       "    </tr>\n",
       "    <tr>\n",
       "      <th>atp</th>\n",
       "      <td>1</td>\n",
       "      <td>-1</td>\n",
       "      <td>1</td>\n",
       "    </tr>\n",
       "  </tbody>\n",
       "</table>\n",
       "</div>"
      ],
      "text/plain": [
       "     distr  use  form\n",
       "adp     -2    1    -1\n",
       "amp      1    0     0\n",
       "atp      1   -1     1"
      ]
     },
     "execution_count": 1,
     "metadata": {},
     "output_type": "execute_result"
    }
   ],
   "source": [
    "phos_traffic.S"
   ]
  },
  {
   "cell_type": "markdown",
   "metadata": {},
   "source": [
    "It has a one-dimensional null space, that represents an internal loop as the use and formation reactions are the exact opposites of each other."
   ]
  },
  {
   "cell_type": "code",
   "execution_count": 10,
   "metadata": {
    "execution": {
     "iopub.execute_input": "2020-10-20T20:20:27.372792Z",
     "iopub.status.busy": "2020-10-20T20:20:27.372077Z",
     "iopub.status.idle": "2020-10-20T20:20:27.375387Z",
     "shell.execute_reply": "2020-10-20T20:20:27.375929Z"
    }
   },
   "outputs": [
    {
     "data": {
      "text/html": [
       "<div>\n",
       "<style scoped>\n",
       "    .dataframe tbody tr th:only-of-type {\n",
       "        vertical-align: middle;\n",
       "    }\n",
       "\n",
       "    .dataframe tbody tr th {\n",
       "        vertical-align: top;\n",
       "    }\n",
       "\n",
       "    .dataframe thead th {\n",
       "        text-align: right;\n",
       "    }\n",
       "</style>\n",
       "<table border=\"1\" class=\"dataframe\">\n",
       "  <thead>\n",
       "    <tr style=\"text-align: right;\">\n",
       "      <th></th>\n",
       "      <th>Path 1</th>\n",
       "    </tr>\n",
       "  </thead>\n",
       "  <tbody>\n",
       "    <tr>\n",
       "      <th>distr</th>\n",
       "      <td>0</td>\n",
       "    </tr>\n",
       "    <tr>\n",
       "      <th>use</th>\n",
       "      <td>1</td>\n",
       "    </tr>\n",
       "    <tr>\n",
       "      <th>form</th>\n",
       "      <td>1</td>\n",
       "    </tr>\n",
       "  </tbody>\n",
       "</table>\n",
       "</div>"
      ],
      "text/plain": [
       "       Path 1\n",
       "distr       0\n",
       "use         1\n",
       "form        1"
      ]
     },
     "execution_count": 1,
     "metadata": {},
     "output_type": "execute_result"
    }
   ],
   "source": [
    "# Obtain nullspace\n",
    "ns = nullspace(phos_traffic.S, rtol=1e-1)\n",
    "# Transpose and iterate through nullspace, \n",
    "# dividing by the smallest value in each row.\n",
    "ns = ns.T\n",
    "for i, row in enumerate(ns):\n",
    "    minval = np.min(abs(row[np.nonzero(row)]))\n",
    "    new_row = np.array(row/minval)\n",
    "    # Round to ensure the nullspace is composed of only integers\n",
    "    ns[i] = np.array([round(value) for value in new_row])\n",
    "\n",
    "    \n",
    "# Ensure positive stoichiometric coefficients if all are negative\n",
    "for i, space in enumerate(ns):\n",
    "    ns[i] = np.negative(space) if all([num <= 0 for num in space]) else space\n",
    "\n",
    "# Revert transpose\n",
    "ns = ns.T\n",
    "# Create a pandas.DataFrame to represent the nullspace\n",
    "pd.DataFrame(ns, index=[rxn.id for rxn in phos_traffic.reactions],\n",
    "             columns=[\"Path 1\"], dtype=np.int64)"
   ]
  },
  {
   "cell_type": "markdown",
   "metadata": {},
   "source": [
    "The left null space is now one-dimensional;"
   ]
  },
  {
   "cell_type": "code",
   "execution_count": 11,
   "metadata": {
    "execution": {
     "iopub.execute_input": "2020-10-20T20:20:27.386373Z",
     "iopub.status.busy": "2020-10-20T20:20:27.385651Z",
     "iopub.status.idle": "2020-10-20T20:20:27.388763Z",
     "shell.execute_reply": "2020-10-20T20:20:27.389209Z"
    }
   },
   "outputs": [
    {
     "data": {
      "text/html": [
       "<div>\n",
       "<style scoped>\n",
       "    .dataframe tbody tr th:only-of-type {\n",
       "        vertical-align: middle;\n",
       "    }\n",
       "\n",
       "    .dataframe tbody tr th {\n",
       "        vertical-align: top;\n",
       "    }\n",
       "\n",
       "    .dataframe thead th {\n",
       "        text-align: right;\n",
       "    }\n",
       "</style>\n",
       "<table border=\"1\" class=\"dataframe\">\n",
       "  <thead>\n",
       "    <tr style=\"text-align: right;\">\n",
       "      <th></th>\n",
       "      <th>adp</th>\n",
       "      <th>amp</th>\n",
       "      <th>atp</th>\n",
       "    </tr>\n",
       "  </thead>\n",
       "  <tbody>\n",
       "    <tr>\n",
       "      <th>Total AxP</th>\n",
       "      <td>1</td>\n",
       "      <td>1</td>\n",
       "      <td>1</td>\n",
       "    </tr>\n",
       "  </tbody>\n",
       "</table>\n",
       "</div>"
      ],
      "text/plain": [
       "           adp  amp  atp\n",
       "Total AxP    1    1    1"
      ]
     },
     "execution_count": 1,
     "metadata": {},
     "output_type": "execute_result"
    }
   ],
   "source": [
    "# Obtain left nullspace\n",
    "lns = left_nullspace(phos_traffic.S, rtol=1e-1)\n",
    "# Iterate through left nullspace, \n",
    "# dividing by the smallest value in each row. \n",
    "for i, row in enumerate(lns):\n",
    "    minval = np.min(abs(row[np.nonzero(row)]))\n",
    "    new_row = np.array(row/minval)\n",
    "    # Round to ensure the left nullspace is composed of only integers\n",
    "    lns[i] = np.array([round(value) for value in new_row])\n",
    "\n",
    "# Ensure positive stoichiometric coefficients if all are negative\n",
    "for i, space in enumerate(lns):\n",
    "    lns[i] = np.negative(space) if all([num <= 0 for num in space]) else space\n",
    "\n",
    "# Create a pandas.DataFrame to represent the left nullspace\n",
    "pd.DataFrame(lns, index=[\"Total AxP\"], \n",
    "             columns=phos_traffic.metabolites, dtype=np.int64)"
   ]
  },
  {
   "cell_type": "markdown",
   "metadata": {},
   "source": [
    "#### Dynamic simulations: trafficking high-energy phosphate bonds \n",
    "The system is steady at the initial conditions given"
   ]
  },
  {
   "cell_type": "code",
   "execution_count": 12,
   "metadata": {
    "execution": {
     "iopub.execute_input": "2020-10-20T20:20:27.395121Z",
     "iopub.status.busy": "2020-10-20T20:20:27.394290Z",
     "iopub.status.idle": "2020-10-20T20:20:27.504498Z",
     "shell.execute_reply": "2020-10-20T20:20:27.504948Z"
    },
    "tags": [
     "remove_cell"
    ]
   },
   "outputs": [
    {
     "name": "stderr",
     "output_type": "stream",
     "text": [
      "\u001b[93mWARNING:\u001b[0m \u001b[93mNo compartments found in model. Therefore creating compartment 'compartment' for entire model.\u001b[0m\n"
     ]
    },
    {
     "name": "stdout",
     "output_type": "stream",
     "text": [
      "Successfully loaded MassModel 'Phosphate_Trafficking' into RoadRunner.\n",
      "Getting time points\n",
      "Setting output selections\n",
      "Setting simulation values for 'Phosphate_Trafficking'\n",
      "Simulating 'Phosphate_Trafficking'\n",
      "Simulation for 'Phosphate_Trafficking' successful\n",
      "Adding 'Phosphate_Trafficking' simulation solutions to output\n",
      "Updating stored solutions\n"
     ]
    }
   ],
   "source": [
    "t0, tf = (0, 1e3)\n",
    "sim = Simulation(phos_traffic, verbose=True)\n",
    "conc_sol, flux_sol = sim.simulate(\n",
    "    phos_traffic, time=(t0, tf, tf*10 + 1), interpolate=True,\n",
    "    verbose=True)"
   ]
  },
  {
   "cell_type": "code",
   "execution_count": 13,
   "metadata": {
    "execution": {
     "iopub.execute_input": "2020-10-20T20:20:27.545487Z",
     "iopub.status.busy": "2020-10-20T20:20:27.544724Z",
     "iopub.status.idle": "2020-10-20T20:20:28.433346Z",
     "shell.execute_reply": "2020-10-20T20:20:28.433935Z"
    },
    "tags": [
     "remove_cell"
    ]
   },
   "outputs": [
    {
     "data": {
      "text/plain": [
       "<matplotlib.axes._subplots.AxesSubplot at 0x7faf1bbed2d0>"
      ]
     },
     "execution_count": 1,
     "metadata": {},
     "output_type": "execute_result"
    },
    {
     "data": {
      "image/png": "[encoded data removed]",
      "text/plain": [
       "<Figure size 576x288 with 2 Axes>"
      ]
     },
     "metadata": {
      "needs_background": "light"
     },
     "output_type": "display_data"
    }
   ],
   "source": [
    "fig, axes = plt.subplots(nrows=2, ncols=1, figsize=(8, 4),\n",
    "                         )\n",
    "(ax1, ax2) = axes.flatten()\n",
    "\n",
    "plot_time_profile(\n",
    "    conc_sol, ax=ax1,\n",
    "    legend=\"right outside\",plot_function=\"semilogx\", \n",
    "    xlabel=\"Time [min]\", ylabel=\"Concentrations [mM]\", \n",
    "    title=(\"Concentration Profile\", XL_FONT));\n",
    "\n",
    "plot_time_profile(\n",
    "    flux_sol, ax=ax2,\n",
    "    legend=\"right outside\", plot_function=\"semilogx\", \n",
    "    xlabel=\"Time [min]\", ylabel=\"Fluxes [mM/min]\", \n",
    "    title=(\"Flux Profile\", XL_FONT));"
   ]
  },
  {
   "cell_type": "markdown",
   "metadata": {},
   "source": [
    "We can induce motion in the system by taking 0.2 mM of ADP and splitting it into 0.1 mM addition to AMP and ATP, and set the initial conditions as ATP is 1.7 mM, ADP is 0.2 mM, and AMP is 0.2 mM and simulate the dynamic response.  We graph the concentration profiles, as well as the two pools and the disequilibrium variable: $\\text{ADP}^2 - \\text{ATP}*\\text{AMP}$ that is zero at the equilibrium"
   ]
  },
  {
   "cell_type": "code",
   "execution_count": 14,
   "metadata": {
    "execution": {
     "iopub.execute_input": "2020-10-20T20:20:28.442446Z",
     "iopub.status.busy": "2020-10-20T20:20:28.441767Z",
     "iopub.status.idle": "2020-10-20T20:20:28.946001Z",
     "shell.execute_reply": "2020-10-20T20:20:28.946532Z"
    }
   },
   "outputs": [
    {
     "data": {
      "text/plain": [
       "<matplotlib.axes._subplots.AxesSubplot at 0x7faf1c1a5090>"
      ]
     },
     "execution_count": 1,
     "metadata": {},
     "output_type": "execute_result"
    },
    {
     "data": {
      "image/png": "[encoded data removed]",
      "text/plain": [
       "<Figure size 576x432 with 3 Axes>"
      ]
     },
     "metadata": {
      "needs_background": "light"
     },
     "output_type": "display_data"
    }
   ],
   "source": [
    "# Define pools and perturbations\n",
    "pools = {\"Occupancy\": \"adp + 2*atp\", \n",
    "         \"Vacancy\": \"adp + 2*amp\", \n",
    "         \"Disequilibrium\": \"adp**2 - atp*amp\"}\n",
    "\n",
    "# Simulate with disturbance\n",
    "conc_sol, flux_sol = sim.simulate(\n",
    "    phos_traffic, time=(t0, tf, tf*10 + 1),\n",
    "    perturbations={\"atp\": 1.7, \"adp\": 0.2, \"amp\": 0.2})\n",
    "\n",
    "# Determine pools\n",
    "for pool_id, equation_str in pools.items():\n",
    "    conc_sol.make_aggregate_solution(\n",
    "        pool_id, equation=equation_str, update=True)\n",
    "\n",
    "# Visualize solutions\n",
    "fig_8_7, axes = plt.subplots(nrows=3, ncols=1, figsize=(8, 6),)\n",
    "(ax1, ax2, ax3) = axes.flatten()\n",
    "\n",
    "plot_time_profile(\n",
    "    conc_sol, ax=ax1, observable=phos_traffic.metabolites,\n",
    "    legend=\"right outside\", plot_function=\"semilogx\", ylim=(0, 1.8),\n",
    "    xlabel=\"Time [min]\", ylabel=\"Concentration [mM]\",\n",
    "    title=(\"(a) Concentration Profile\", XL_FONT));\n",
    "\n",
    "plot_time_profile(\n",
    "    conc_sol, observable=[\"Occupancy\", \"Vacancy\"], ax=ax2, \n",
    "    legend=\"right outside\", plot_function=\"semilogx\", ylim=(0., 4.),\n",
    "    xlabel=\"Time [min]\", ylabel=\"Concentration [mM]\",\n",
    "    title=(\"(b) Occupancy and Vacancy Pools\", XL_FONT));\n",
    "\n",
    "plot_time_profile(\n",
    "    conc_sol, observable=[\"Disequilibrium\"], ax=ax3,\n",
    "    legend=\"right outside\", plot_function=\"semilogx\", ylim=(-.4, 0.1),\n",
    "    xlabel=\"Time [min]\", ylabel=\"Concentration [mM]\",\n",
    "    title=(\"(c) Disequilibrium Variable\", XL_FONT));"
   ]
  },
  {
   "cell_type": "markdown",
   "metadata": {},
   "source": [
    "**Figure 8.7:** The time response of the adenylate kinase reaction (\"distr\") and with the addition of ATP use and formation to a change in the initial conditions. (a) The concentrations. (b) The occupancy and capacity pools. (c) The disequilibrium variable.\n",
    "\n",
    "#### Towards a realistic simulation of a dynamic response\n",
    "Next, we simulate the response of this system to a more realistic perturbation: a 50% increase in the rate of ATP use. This would represent a sudden increase in energy use by a cell.  At time zero, we have the network in a steady state and we change $k_{\\mathrm{use}}^\\rightarrow$ from $6.25/min$ to $1.5*6.25=9.375/min$, and the rate of ATP use instantly becomes 15 mM/min. \n",
    "\n",
    "The response of the system is perhaps best visualized by showing the phase portrait of the rate of ATP use versus ATP formation. Prior to the increased load, the system is on the 45 degree line, where the rate of ATP formation and use balances.  Then at time zero it is instantly imbalanced by changing $k_{\\mathrm{use}}^\\rightarrow$ above or below its initial value. If $k_{\\mathrm{use}}^\\rightarrow$ is increased then the initial point moved into the region where more ATP is used than formed. From this initial perturbation the response of the system is to move directly towards the 45 degree line to regain balance between ATP use and formation."
   ]
  },
  {
   "cell_type": "code",
   "execution_count": 15,
   "metadata": {
    "execution": {
     "iopub.execute_input": "2020-10-20T20:20:28.953836Z",
     "iopub.status.busy": "2020-10-20T20:20:28.953185Z",
     "iopub.status.idle": "2020-10-20T20:20:28.964773Z",
     "shell.execute_reply": "2020-10-20T20:20:28.965315Z"
    }
   },
   "outputs": [
    {
     "name": "stdout",
     "output_type": "stream",
     "text": [
      "Getting time points\n",
      "Parsing perturbations\n",
      "Setting output selections\n",
      "Setting simulation values for 'Phosphate_Trafficking'\n",
      "Simulating 'Phosphate_Trafficking'\n",
      "Simulation for 'Phosphate_Trafficking' successful\n",
      "Adding 'Phosphate_Trafficking' simulation solutions to output\n",
      "Updating stored solutions\n"
     ]
    }
   ],
   "source": [
    "t0, tf = (0, 1e3)\n",
    "# Simulate with disturbance\n",
    "conc_sol, flux_sol = sim.simulate(\n",
    "    phos_traffic, time=(t0, tf, tf*10 + 1), \n",
    "    perturbations={\"kf_use\": \"kf_use * 1.5\"},\n",
    "    verbose=True)\n",
    "\n",
    "# Determine pools\n",
    "for pool_id, equation_str in pools.items():\n",
    "    conc_sol.make_aggregate_solution(\n",
    "        pool_id, equation=equation_str, update=True)"
   ]
  },
  {
   "cell_type": "code",
   "execution_count": 16,
   "metadata": {
    "execution": {
     "iopub.execute_input": "2020-10-20T20:20:29.023033Z",
     "iopub.status.busy": "2020-10-20T20:20:29.022373Z",
     "iopub.status.idle": "2020-10-20T20:20:30.258007Z",
     "shell.execute_reply": "2020-10-20T20:20:30.258450Z"
    },
    "tags": [
     "remove_cell"
    ]
   },
   "outputs": [
    {
     "data": {
      "image/png": "[encoded data removed]",
      "text/plain": [
       "<Figure size 1080x360 with 4 Axes>"
      ]
     },
     "metadata": {
      "needs_background": "light"
     },
     "output_type": "display_data"
    }
   ],
   "source": [
    "fig_8_8 = plt.figure(figsize=(15, 5))\n",
    "gs = fig_8_8.add_gridspec(nrows=3, ncols=2, width_ratios=[1, 1.5])\n",
    "\n",
    "ax1 = fig_8_8.add_subplot(gs[:, 0])\n",
    "ax2 = fig_8_8.add_subplot(gs[0, 1])\n",
    "ax3 = fig_8_8.add_subplot(gs[1, 1])\n",
    "ax4 = fig_8_8.add_subplot(gs[2, 1])\n",
    "\n",
    "label = \"{0} [mM/min]\"\n",
    "plot_phase_portrait(\n",
    "    flux_sol, x=v_use, y=v_form, ax=ax1,\n",
    "    time_vector=np.linspace(t0, 1, int(1e4)),\n",
    "    xlabel=label.format(v_use.id), ylabel=label.format(v_form.id), \n",
    "    xlim=(4, 21), ylim=(4, 21), \n",
    "    title=(\"(a) Phase Portrait of ATP use vs. formation\", XL_FONT),\n",
    "    annotate_time_points=\"endpoints\",\n",
    "    annotate_time_points_labels=True);\n",
    "\n",
    "line_data = [i for i in range(0, 22)]\n",
    "ax1.plot(line_data, line_data, ls=\"--\", color=\"black\")\n",
    "ax1.annotate(\"use < form\", xy=(6, 15))\n",
    "ax1.annotate(\"use > form\", xy=(15, 6))\n",
    "ax1.annotate(\"Steady-state line:\\n     use=form\", xy=(15, 19))\n",
    "ax1.annotate(\"initial perturbation\", xy=(9.5, 9), xycoords=\"data\")\n",
    "ax1.annotate(\"\", xy=(flux_sol[v_use.id][0], flux_sol[v_form.id][0]),\n",
    "             xytext=(10, 10), textcoords=\"data\",\n",
    "             arrowprops=dict(arrowstyle=\"->\",connectionstyle=\"arc3\"))\n",
    "\n",
    "plot_time_profile(\n",
    "    conc_sol, observable=phos_traffic.metabolites,\n",
    "    ax=ax2, legend=\"right outside\",\n",
    "    time_vector=np.linspace(t0, 1, int(1e5)),\n",
    "    xlim=(t0, 1), ylim=(0, 2),\n",
    "    xlabel=\"Time [min]\", ylabel=\"Concentration [mM]\",\n",
    "    title=(\"(b) Concentration Profiles\", XL_FONT));\n",
    "\n",
    "plot_time_profile(\n",
    "    flux_sol, observable=[v_use],\n",
    "    ax=ax3, legend=\"right outside\",\n",
    "    time_vector=np.linspace(t0, 1, int(1e5)),\n",
    "    xlim=(t0, 1), ylim=(12, 16),\n",
    "    xlabel=\"Time [min]\", ylabel=\"Flux [mM/min]\",\n",
    "    title=(\"(c) Net ATP use\", XL_FONT));\n",
    "\n",
    "plot_time_profile(\n",
    "    conc_sol, observable=\"Disequilibrium\",\n",
    "    ax=ax4, legend=\"right outside\",\n",
    "    time_vector=np.linspace(t0, 1, int(1e5)), plot_function=\"semilogx\", \n",
    "    xlabel=\"Time [min]\", ylabel=\"Concentration [mM]\",\n",
    "    xlim=(1e-6, 1), ylim=(-.0001, 0.0015),\n",
    "    title=(\"(d) Disequilibrium\", XL_FONT));\n",
    "fig_8_8.tight_layout()"
   ]
  },
  {
   "cell_type": "markdown",
   "metadata": {},
   "source": [
    "**Figure 8.8:** Dynamic responses for Eqs (8.4 - 8.8). (a) The phase portrait for the rates of use and formation of ATP. (b) The concentrations of ATP, ADP, and AMP. (c) Net ATP use (d) The disequilibrium variable for Adenylate kinase.\n",
    "\n",
    "#### Pooling and interpretation: trafficking high-energy phosphate bonds\n",
    "Since AMP is not being synthesized and degraded, the sum of $\\text{ATP} + \\text{ADP} +\\text{AMP}$, or the capacity to carry high-energy phosphate bonds, is a constant. The Atkinson's energy charge \n",
    "\n",
    "$$\\begin{equation} \\text{E.C.} = \\frac{2\\ \\text{ATP} + \\text{ADP}}{2\\ \\text{ATP}+\\text{ADP}+\\text{AMP}} = \\frac{\\text{occupancy}}{\\text{capacity}} \\tag{8.9} \\end{equation}$$\n",
    "\n",
    "shows a monotonic decay to a lower state in response to the increased load  (see Figure 8.9). "
   ]
  },
  {
   "cell_type": "code",
   "execution_count": 17,
   "metadata": {
    "execution": {
     "iopub.execute_input": "2020-10-20T20:20:30.275519Z",
     "iopub.status.busy": "2020-10-20T20:20:30.274878Z",
     "iopub.status.idle": "2020-10-20T20:20:30.276887Z",
     "shell.execute_reply": "2020-10-20T20:20:30.277418Z"
    }
   },
   "outputs": [],
   "source": [
    "pools.update({\"EC\": \"(2*atp + adp) / (2*(atp + adp + amp))\"})\n",
    "# Determine pools\n",
    "for pool_id, equation_str in pools.items():\n",
    "    conc_sol.make_aggregate_solution(\n",
    "        pool_id, equation=equation_str, update=True)"
   ]
  },
  {
   "cell_type": "code",
   "execution_count": 18,
   "metadata": {
    "execution": {
     "iopub.execute_input": "2020-10-20T20:20:30.352475Z",
     "iopub.status.busy": "2020-10-20T20:20:30.325076Z",
     "iopub.status.idle": "2020-10-20T20:20:30.691734Z",
     "shell.execute_reply": "2020-10-20T20:20:30.692184Z"
    },
    "tags": [
     "remove_cell"
    ]
   },
   "outputs": [
    {
     "data": {
      "image/png": "[encoded data removed]",
      "text/plain": [
       "<Figure size 864x288 with 2 Axes>"
      ]
     },
     "metadata": {
      "needs_background": "light"
     },
     "output_type": "display_data"
    }
   ],
   "source": [
    "fig_8_9, axes = plt.subplots(nrows=1, ncols=2, figsize=(12, 4))\n",
    "(ax1, ax2) = axes.flatten()\n",
    "\n",
    "plot_time_profile(\n",
    "    conc_sol, observable=[\"EC\"], ax=ax1, legend=\"best\",\n",
    "    plot_function=\"semilogx\", ylim= (.7, 1),\n",
    "    xlabel=\"Time [min]\", ylabel=\"Concentration [mM]\",\n",
    "    title=(\"(a) Energy Charge\", XL_FONT));\n",
    "\n",
    "plot_time_profile(\n",
    "    conc_sol, observable=[\"Occupancy\", \"Vacancy\"], ax=ax2, \n",
    "    legend=\"right outside\", plot_function=\"semilogx\",\n",
    "    ylim=(0., 4.), xlabel=\"Time [min]\", ylabel=\"Concentration [mM]\",\n",
    "    title=(\"(b) Charge Pools\", XL_FONT));\n",
    "fig_8_9.tight_layout()"
   ]
  },
  {
   "cell_type": "markdown",
   "metadata": {},
   "source": [
    "**Figure 8.9:** (a) The Atkinson's energy charge (Eq. 8.9). (b) The occupancy and vacancy pools move in the opposite directions. Increasing the load drops the occupancy pool and increases the vacancy pool as the system becomes discharged. Reduced loads have the opposite reaction.\n",
    "\n",
    "![Figure-8-10](../images/Ch8/Figure-8-10.png)\n",
    "\n",
    "**Figure 8.10:** Graphical representation of the energy charge (x-direction) versus the capacity (y-direction). The drop in the charge is indicated by the arrow. The capacity is a constant in this case.\n",
    "\n",
    "### Buffering the energy charge  \n",
    "#### Reaction mechanism:  E.C. buffering\n",
    "In many situations, there is a buffering effect on the energy charge by a coupled carrier of high energy bonds. This exchange is: \n",
    "\n",
    "$$\\begin{equation} \\text{ATP}\\ + \\text{B} \\leftrightharpoons \\text{ADP}\\ + \\text{BP} \\tag{8.10} \\end{equation}$$\n",
    "\n",
    "where the buffering molecule, $\\text{B}$, picks up the high-energy phosphate group through a fast equilibrating reaction. \n",
    "\n",
    "![Figure-8-11](../images/Ch8/Figure-8-11.png)\n",
    "\n",
    "**Figure 8.11:** The trafficking of high-energy phosphate bonds with the buffer molecule exchange reaction."
   ]
  },
  {
   "cell_type": "code",
   "execution_count": 19,
   "metadata": {
    "execution": {
     "iopub.execute_input": "2020-10-20T20:20:30.698698Z",
     "iopub.status.busy": "2020-10-20T20:20:30.698063Z",
     "iopub.status.idle": "2020-10-20T20:20:30.713712Z",
     "shell.execute_reply": "2020-10-20T20:20:30.714229Z"
    }
   },
   "outputs": [],
   "source": [
    "# Copy the model to create a new, yet identical model instance \n",
    "phos_buffered = phos_traffic.copy()\n",
    "phos_buffered.id += \"_Buffered\"\n",
    "\n",
    "# Create the buffer metabolites\n",
    "b = MassMetabolite(\"b\")\n",
    "bp = MassMetabolite(\"bp\")\n",
    "\n",
    "# Create the buffer reaction and add the metaolites\n",
    "v_buff = MassReaction(\"buff\")\n",
    "v_buff.add_metabolites({atp:-1, b:-1, adp:1, bp:1})\n",
    "\n",
    "# Update model\n",
    "phos_buffered.add_reactions(v_buff)"
   ]
  },
  {
   "cell_type": "markdown",
   "metadata": {},
   "source": [
    "The rate equation of the buffering reaction is:"
   ]
  },
  {
   "cell_type": "code",
   "execution_count": 20,
   "metadata": {
    "execution": {
     "iopub.execute_input": "2020-10-20T20:20:30.736268Z",
     "iopub.status.busy": "2020-10-20T20:20:30.735624Z",
     "iopub.status.idle": "2020-10-20T20:20:30.738243Z",
     "shell.execute_reply": "2020-10-20T20:20:30.738808Z"
    }
   },
   "outputs": [
    {
     "name": "stdout",
     "output_type": "stream",
     "text": [
      "kf_buff*(atp*b - adp*bp/Keq_buff)\n"
     ]
    }
   ],
   "source": [
    "print(strip_time(phos_buffered.rates[v_buff]))"
   ]
  },
  {
   "cell_type": "markdown",
   "metadata": {},
   "source": [
    "#### Examples of buffer molecules  \n",
    "In Eq. (8.10), $\\text{B}$ represents a phosphagen, which is a compound containing a high-energy phosphate bond that is used as energy storage to buffer the ATP/ADP ratio. The most well-known phosphagen is creatine, which is found in the muscles of mammals. Marine organisms have other phosphagens (arginine, taurocyamine, glycocyamine), while earthworms use lombricine (Nguyen, 1960). \n",
    "\n",
    "#### Buffering:  \n",
    "When the reaction in Eq. 8.10 is at equilibrium we have \n",
    "\n",
    "$$\\begin{equation} k_{\\mathrm{buff}}^\\rightarrow\\text{ATP}*\\text{B} = k_{\\mathrm{buff}}^\\leftarrow \\text{ADP}*\\text{BP} \\tag{8.11} \\end{equation}$$\n",
    "\n",
    "This equation can be rearranged as \n",
    "\n",
    "$$\\begin{equation} 4 K_{\\mathrm{buff}} = \\text{BP}/\\text{B} \\tag{8.12} \\end{equation}$$\n",
    "\n",
    "where $\\text{ATP}/\\text{ADP}=1.6/0.4=4$ in the steady state, and $K_{\\mathrm{buff}} = k_{\\mathrm{buff}}/k_{-buff}$. If the buffering molecule is present in a constant amount, then \n",
    "\n",
    "$$\\begin{equation} \\text{B}_{\\mathrm{tot}} = \\text{B} + \\text{BP} \\tag{8.13} \\end{equation}$$\n",
    "\n",
    "We can rearrange equations  (8.12) and (8.13) as:\n",
    "\n",
    "$$\\begin{equation} \\frac{\\text{BP}}{\\text{B}_{\\mathrm{tot}}} = \\frac{4 K_{\\mathrm{buff}}}{4 K_{\\mathrm{buff}} + 1} \\tag{8.14} \\end{equation}$$\n",
    "\n",
    "In this equation, $\\text{B}_{\\mathrm{tot}}$ is the capacity of the buffer to carry the high energy phosphate bond whereas $\\text{BP}/\\text{B}_{\\mathrm{tot}}$ is the energy charge of the buffer. \n",
    "\n",
    "We note that the value of $K_{\\mathrm{buff}}$ is a key variable. If $K_{\\mathrm{buff}} = 1/4$ then the buffer is half charged at equilibrium, whereas if $K_{\\mathrm{buff}}=1$ then the buffer is 80% charged. Thus, this numerical value (a thermodynamic quantity) is key and will specify the relative charge on the buffer and the adenosine phosphates. The effect of $K_{\\mathrm{buff}}$ can be determined through simulation. \n",
    "\n",
    "#### Updating the model with the buffering reaction\n",
    "It is assumed that the buffering reaction is at equilibrium and that the amount of buffering molecules is constant:"
   ]
  },
  {
   "cell_type": "code",
   "execution_count": 21,
   "metadata": {
    "execution": {
     "iopub.execute_input": "2020-10-20T20:20:30.764585Z",
     "iopub.status.busy": "2020-10-20T20:20:30.763922Z",
     "iopub.status.idle": "2020-10-20T20:20:30.766461Z",
     "shell.execute_reply": "2020-10-20T20:20:30.766859Z"
    }
   },
   "outputs": [
    {
     "name": "stdout",
     "output_type": "stream",
     "text": [
      "            ⎛         adp⋅bp ⎞\n",
      "0 = kf_buff⋅⎜atp⋅b - ────────⎟\n",
      "            ⎝        Keq_buff⎠\n",
      "b + bp = 10\n"
     ]
    }
   ],
   "source": [
    "# Use sympy to set up a symbolic equation for the buffer equilibrium\n",
    "buff_equilibrium = sym.Eq(\n",
    "    sym.S.Zero, strip_time(phos_buffered.rates[v_buff]))\n",
    "\n",
    "# Set amount of buffer molecules\n",
    "btot = 10\n",
    "\n",
    "# Use sympy to set up a symbolic equation for the buffer pool\n",
    "b_sym = sym.Symbol(b.id)\n",
    "bp_sym = sym.Symbol(bp.id)\n",
    "buff_pool = sym.Eq(b_sym + bp_sym, btot)\n",
    "\n",
    "# Pretty print the equations\n",
    "sym.pprint(buff_equilibrium)\n",
    "sym.pprint(buff_pool)"
   ]
  },
  {
   "cell_type": "markdown",
   "metadata": {},
   "source": [
    "Solve the equilibrium system:"
   ]
  },
  {
   "cell_type": "code",
   "execution_count": 22,
   "metadata": {
    "execution": {
     "iopub.execute_input": "2020-10-20T20:20:30.854156Z",
     "iopub.status.busy": "2020-10-20T20:20:30.811491Z",
     "iopub.status.idle": "2020-10-20T20:20:30.866715Z",
     "shell.execute_reply": "2020-10-20T20:20:30.867203Z"
    }
   },
   "outputs": [
    {
     "name": "stdout",
     "output_type": "stream",
     "text": [
      "{bp: 40.0*Keq_buff/(4.0*Keq_buff + 1.0), b: 10.0/(4.0*Keq_buff + 1.0)}\n"
     ]
    }
   ],
   "source": [
    "# Obtain a dict of ic values for substitution into the sympy expressions\n",
    "ic_dict = {sym.Symbol(met.id): ic \n",
    "          for met, ic in phos_buffered.initial_conditions.items()}\n",
    "# Substitute known concentrations\n",
    "buff_equilibrium = buff_equilibrium.subs(ic_dict)\n",
    "\n",
    "# Obtain solutions for B and BP\n",
    "buff_sol = sym.solve([buff_equilibrium, buff_pool], [b_sym, bp_sym])\n",
    "# Pretty print the equation\n",
    "print(buff_sol)"
   ]
  },
  {
   "cell_type": "markdown",
   "metadata": {},
   "source": [
    "Set $K_{\\mathrm{buff}}$ and $k_{\\mathrm{buff}}^\\rightarrow$:"
   ]
  },
  {
   "cell_type": "code",
   "execution_count": 23,
   "metadata": {
    "execution": {
     "iopub.execute_input": "2020-10-20T20:20:30.874759Z",
     "iopub.status.busy": "2020-10-20T20:20:30.874040Z",
     "iopub.status.idle": "2020-10-20T20:20:30.876907Z",
     "shell.execute_reply": "2020-10-20T20:20:30.877367Z"
    }
   },
   "outputs": [
    {
     "name": "stdout",
     "output_type": "stream",
     "text": [
      "adp: 0.4 mM\n",
      "amp: 0.1 mM\n",
      "atp: 1.6 mM\n",
      "b: 2.0 mM\n",
      "bp: 8.0 mM\n"
     ]
    }
   ],
   "source": [
    "v_buff.kf = 1000\n",
    "v_buff.Keq = 1\n",
    "\n",
    "# Obtain a dict of parameter values for substitution into the sympy expressions\n",
    "param_dict = {\n",
    "    sym.Symbol(parameter): value \n",
    "    for parameter, value in v_buff.parameters.items()}\n",
    "\n",
    "buffer_ics = {\n",
    "    phos_buffered.metabolites.get_by_id(str(met)): float(expr.subs(param_dict))\n",
    "    for met, expr in buff_sol.items()}\n",
    "\n",
    "# Update initial conditions with buffer molecule concentrations\n",
    "phos_buffered.update_initial_conditions(buffer_ics)\n",
    "for met, ic in phos_buffered.initial_conditions.items():\n",
    "    print(\"{0}: {1} mM\".format(met, ic))"
   ]
  },
  {
   "cell_type": "markdown",
   "metadata": {},
   "source": [
    "#### Null spaces: E.C. buffering\n",
    "With the addition of the buffer, stoichiometric matrix four columns."
   ]
  },
  {
   "cell_type": "code",
   "execution_count": 24,
   "metadata": {
    "execution": {
     "iopub.execute_input": "2020-10-20T20:20:30.885491Z",
     "iopub.status.busy": "2020-10-20T20:20:30.884711Z",
     "iopub.status.idle": "2020-10-20T20:20:30.887787Z",
     "shell.execute_reply": "2020-10-20T20:20:30.888227Z"
    },
    "tags": [
     "remove_cell"
    ]
   },
   "outputs": [
    {
     "data": {
      "text/html": [
       "<div>\n",
       "<style scoped>\n",
       "    .dataframe tbody tr th:only-of-type {\n",
       "        vertical-align: middle;\n",
       "    }\n",
       "\n",
       "    .dataframe tbody tr th {\n",
       "        vertical-align: top;\n",
       "    }\n",
       "\n",
       "    .dataframe thead th {\n",
       "        text-align: right;\n",
       "    }\n",
       "</style>\n",
       "<table border=\"1\" class=\"dataframe\">\n",
       "  <thead>\n",
       "    <tr style=\"text-align: right;\">\n",
       "      <th></th>\n",
       "      <th>distr</th>\n",
       "      <th>use</th>\n",
       "      <th>form</th>\n",
       "      <th>buff</th>\n",
       "    </tr>\n",
       "  </thead>\n",
       "  <tbody>\n",
       "    <tr>\n",
       "      <th>adp</th>\n",
       "      <td>-2</td>\n",
       "      <td>1</td>\n",
       "      <td>-1</td>\n",
       "      <td>1</td>\n",
       "    </tr>\n",
       "    <tr>\n",
       "      <th>amp</th>\n",
       "      <td>1</td>\n",
       "      <td>0</td>\n",
       "      <td>0</td>\n",
       "      <td>0</td>\n",
       "    </tr>\n",
       "    <tr>\n",
       "      <th>atp</th>\n",
       "      <td>1</td>\n",
       "      <td>-1</td>\n",
       "      <td>1</td>\n",
       "      <td>-1</td>\n",
       "    </tr>\n",
       "    <tr>\n",
       "      <th>b</th>\n",
       "      <td>0</td>\n",
       "      <td>0</td>\n",
       "      <td>0</td>\n",
       "      <td>-1</td>\n",
       "    </tr>\n",
       "    <tr>\n",
       "      <th>bp</th>\n",
       "      <td>0</td>\n",
       "      <td>0</td>\n",
       "      <td>0</td>\n",
       "      <td>1</td>\n",
       "    </tr>\n",
       "  </tbody>\n",
       "</table>\n",
       "</div>"
      ],
      "text/plain": [
       "     distr  use  form  buff\n",
       "adp     -2    1    -1     1\n",
       "amp      1    0     0     0\n",
       "atp      1   -1     1    -1\n",
       "b        0    0     0    -1\n",
       "bp       0    0     0     1"
      ]
     },
     "execution_count": 1,
     "metadata": {},
     "output_type": "execute_result"
    }
   ],
   "source": [
    "phos_buffered.S"
   ]
  },
  {
   "cell_type": "markdown",
   "metadata": {},
   "source": [
    "It has still has a one-dimensional null space, that represents and internal loop as the use and formation reactions are the exact opposites of each other. "
   ]
  },
  {
   "cell_type": "code",
   "execution_count": 25,
   "metadata": {
    "execution": {
     "iopub.execute_input": "2020-10-20T20:20:30.898753Z",
     "iopub.status.busy": "2020-10-20T20:20:30.898019Z",
     "iopub.status.idle": "2020-10-20T20:20:30.901157Z",
     "shell.execute_reply": "2020-10-20T20:20:30.901605Z"
    },
    "tags": [
     "remove_cell"
    ]
   },
   "outputs": [
    {
     "data": {
      "text/html": [
       "<div>\n",
       "<style scoped>\n",
       "    .dataframe tbody tr th:only-of-type {\n",
       "        vertical-align: middle;\n",
       "    }\n",
       "\n",
       "    .dataframe tbody tr th {\n",
       "        vertical-align: top;\n",
       "    }\n",
       "\n",
       "    .dataframe thead th {\n",
       "        text-align: right;\n",
       "    }\n",
       "</style>\n",
       "<table border=\"1\" class=\"dataframe\">\n",
       "  <thead>\n",
       "    <tr style=\"text-align: right;\">\n",
       "      <th></th>\n",
       "      <th>Path 1</th>\n",
       "    </tr>\n",
       "  </thead>\n",
       "  <tbody>\n",
       "    <tr>\n",
       "      <th>distr</th>\n",
       "      <td>0</td>\n",
       "    </tr>\n",
       "    <tr>\n",
       "      <th>use</th>\n",
       "      <td>1</td>\n",
       "    </tr>\n",
       "    <tr>\n",
       "      <th>form</th>\n",
       "      <td>1</td>\n",
       "    </tr>\n",
       "    <tr>\n",
       "      <th>buff</th>\n",
       "      <td>0</td>\n",
       "    </tr>\n",
       "  </tbody>\n",
       "</table>\n",
       "</div>"
      ],
      "text/plain": [
       "       Path 1\n",
       "distr       0\n",
       "use         1\n",
       "form        1\n",
       "buff        0"
      ]
     },
     "execution_count": 1,
     "metadata": {},
     "output_type": "execute_result"
    }
   ],
   "source": [
    "# Obtain nullspace\n",
    "ns = nullspace(phos_buffered.S, rtol=1e-1)\n",
    "# Transpose and iterate through nullspace, \n",
    "# dividing by the smallest value in each row.\n",
    "ns = ns.T\n",
    "for i, row in enumerate(ns):\n",
    "    minval = np.min(abs(row[np.nonzero(row)]))\n",
    "    new_row = np.array(row/minval)\n",
    "    # Round to ensure the nullspace is composed of only integers\n",
    "    ns[i] = np.array([round(value) for value in new_row])\n",
    "\n",
    "# Ensure positive stoichiometric coefficients if all are negative\n",
    "for i, space in enumerate(ns):\n",
    "    ns[i] = np.negative(space) if all([num <= 0 for num in space]) else space\n",
    "\n",
    "# Revert transpose\n",
    "ns = ns.T\n",
    "# Create a pandas.DataFrame to represent the nullspace\n",
    "pd.DataFrame(ns, index=[rxn.id for rxn in phos_buffered.reactions],\n",
    "             columns=[\"Path 1\"], dtype=np.int64)"
   ]
  },
  {
   "cell_type": "markdown",
   "metadata": {},
   "source": [
    "The left null space is  two-dimensional.  It represents conservation of the nucleotide and the buffer molecule. Neither AxP or B is produced or destroyed in the model;"
   ]
  },
  {
   "cell_type": "code",
   "execution_count": 26,
   "metadata": {
    "execution": {
     "iopub.execute_input": "2020-10-20T20:20:30.912707Z",
     "iopub.status.busy": "2020-10-20T20:20:30.911942Z",
     "iopub.status.idle": "2020-10-20T20:20:30.915128Z",
     "shell.execute_reply": "2020-10-20T20:20:30.915569Z"
    },
    "tags": [
     "remove_cell"
    ]
   },
   "outputs": [
    {
     "data": {
      "text/html": [
       "<div>\n",
       "<style scoped>\n",
       "    .dataframe tbody tr th:only-of-type {\n",
       "        vertical-align: middle;\n",
       "    }\n",
       "\n",
       "    .dataframe tbody tr th {\n",
       "        vertical-align: top;\n",
       "    }\n",
       "\n",
       "    .dataframe thead th {\n",
       "        text-align: right;\n",
       "    }\n",
       "</style>\n",
       "<table border=\"1\" class=\"dataframe\">\n",
       "  <thead>\n",
       "    <tr style=\"text-align: right;\">\n",
       "      <th></th>\n",
       "      <th>adp</th>\n",
       "      <th>amp</th>\n",
       "      <th>atp</th>\n",
       "      <th>b</th>\n",
       "      <th>bp</th>\n",
       "    </tr>\n",
       "  </thead>\n",
       "  <tbody>\n",
       "    <tr>\n",
       "      <th>Total AxP</th>\n",
       "      <td>1</td>\n",
       "      <td>1</td>\n",
       "      <td>1</td>\n",
       "      <td>0</td>\n",
       "      <td>0</td>\n",
       "    </tr>\n",
       "    <tr>\n",
       "      <th>Total B</th>\n",
       "      <td>0</td>\n",
       "      <td>0</td>\n",
       "      <td>0</td>\n",
       "      <td>1</td>\n",
       "      <td>1</td>\n",
       "    </tr>\n",
       "  </tbody>\n",
       "</table>\n",
       "</div>"
      ],
      "text/plain": [
       "           adp  amp  atp  b  bp\n",
       "Total AxP    1    1    1  0   0\n",
       "Total B      0    0    0  1   1"
      ]
     },
     "execution_count": 1,
     "metadata": {},
     "output_type": "execute_result"
    }
   ],
   "source": [
    "# Obtain left nullspace\n",
    "lns = left_nullspace(phos_buffered.S, rtol=1e-1)\n",
    "# Iterate through left nullspace, \n",
    "# dividing by the smallest value in each row. \n",
    "for i, row in enumerate(lns):\n",
    "    minval = np.min(abs(row[np.nonzero(row)]))\n",
    "    new_row = np.array(row/minval)\n",
    "    # Round to ensure the left nullspace is composed of only integers\n",
    "    lns[i] = np.array([round(value) for value in new_row])\n",
    "\n",
    "# Ensure positive stoichiometric coefficients if all are negative\n",
    "for i, space in enumerate(lns):\n",
    "    lns[i] = np.negative(space) if all([num <= 0 for num in space]) else space\n",
    "\n",
    "# Create a pandas.DataFrame to represent the left nullspace\n",
    "pd.DataFrame(lns, index=[\"Total AxP\", \"Total B\"], \n",
    "             columns=phos_buffered.metabolites, dtype=np.int64)"
   ]
  },
  {
   "cell_type": "markdown",
   "metadata": {},
   "source": [
    "#### Dynamic simulation: E.C. buffering\n",
    "The model is initially in steady state."
   ]
  },
  {
   "cell_type": "code",
   "execution_count": 27,
   "metadata": {
    "execution": {
     "iopub.execute_input": "2020-10-20T20:20:30.920880Z",
     "iopub.status.busy": "2020-10-20T20:20:30.920240Z",
     "iopub.status.idle": "2020-10-20T20:20:31.044272Z",
     "shell.execute_reply": "2020-10-20T20:20:31.043783Z"
    }
   },
   "outputs": [
    {
     "name": "stderr",
     "output_type": "stream",
     "text": [
      "\u001b[93mWARNING:\u001b[0m \u001b[93mNo compartments found in model. Therefore creating compartment 'compartment' for entire model.\u001b[0m\n"
     ]
    },
    {
     "name": "stdout",
     "output_type": "stream",
     "text": [
      "Successfully loaded MassModel 'Phosphate_Trafficking_Buffered' into RoadRunner.\n",
      "Getting time points\n",
      "Setting output selections\n",
      "Setting simulation values for 'Phosphate_Trafficking_Buffered'\n",
      "Simulating 'Phosphate_Trafficking_Buffered'\n",
      "Simulation for 'Phosphate_Trafficking_Buffered' successful\n",
      "Adding 'Phosphate_Trafficking_Buffered' simulation solutions to output\n",
      "Updating stored solutions\n"
     ]
    }
   ],
   "source": [
    "t0, tf = (0, 1e3)\n",
    "sim = Simulation(phos_buffered, verbose=True)\n",
    "conc_sol, flux_sol = sim.simulate(phos_buffered, time=(t0, tf, tf*10 + 1),\n",
    "                                  verbose=True)"
   ]
  },
  {
   "cell_type": "code",
   "execution_count": 28,
   "metadata": {
    "execution": {
     "iopub.execute_input": "2020-10-20T20:20:31.086156Z",
     "iopub.status.busy": "2020-10-20T20:20:31.085411Z",
     "iopub.status.idle": "2020-10-20T20:20:31.847510Z",
     "shell.execute_reply": "2020-10-20T20:20:31.848125Z"
    },
    "tags": [
     "remove_cell"
    ]
   },
   "outputs": [
    {
     "data": {
      "text/plain": [
       "<matplotlib.axes._subplots.AxesSubplot at 0x7faeff049990>"
      ]
     },
     "execution_count": 1,
     "metadata": {},
     "output_type": "execute_result"
    },
    {
     "data": {
      "image/png": "[encoded data removed]",
      "text/plain": [
       "<Figure size 576x288 with 2 Axes>"
      ]
     },
     "metadata": {
      "needs_background": "light"
     },
     "output_type": "display_data"
    }
   ],
   "source": [
    "fig, axes = plt.subplots(nrows=2, ncols=1, figsize=(8, 4),\n",
    "                         )\n",
    "(ax1, ax2) = axes.flatten()\n",
    "\n",
    "plot_time_profile(\n",
    "    conc_sol, ax=ax1, legend=\"right outside\", \n",
    "    plot_function=\"semilogx\", \n",
    "    xlabel=\"Time [min]\", ylabel=\"Concentrations [mM]\", \n",
    "    title=(\"Concentration Profile\", XL_FONT));\n",
    "\n",
    "plot_time_profile(\n",
    "    flux_sol, ax=ax2, legend=\"right outside\",\n",
    "    plot_function=\"semilogx\", \n",
    "    xlabel=\"Time [min]\", ylabel=\"Fluxes [mM/min]\", \n",
    "    title=(\"Flux Profile\", XL_FONT));"
   ]
  },
  {
   "cell_type": "markdown",
   "metadata": {},
   "source": [
    "We can compare the flux dynamics of the buffered vs. unbuffered system.  The buffered system has a much longer response time.  Once again, we consider a simulation where we increase the ATP use rate by a 'multiplier' in this figure:"
   ]
  },
  {
   "cell_type": "code",
   "execution_count": 29,
   "metadata": {
    "execution": {
     "iopub.execute_input": "2020-10-20T20:20:31.866612Z",
     "iopub.status.busy": "2020-10-20T20:20:31.865943Z",
     "iopub.status.idle": "2020-10-20T20:20:32.250011Z",
     "shell.execute_reply": "2020-10-20T20:20:32.250533Z"
    }
   },
   "outputs": [
    {
     "name": "stderr",
     "output_type": "stream",
     "text": [
      "\u001b[93mWARNING:\u001b[0m \u001b[93mNo compartments found in model. Therefore creating compartment 'compartment' for entire model.\u001b[0m\n",
      "\u001b[93mWARNING:\u001b[0m \u001b[93mNo compartments found in model. Therefore creating compartment 'compartment' for entire model.\u001b[0m\n"
     ]
    },
    {
     "data": {
      "image/png": "[encoded data removed]",
      "text/plain": [
       "<Figure size 576x288 with 1 Axes>"
      ]
     },
     "metadata": {
      "needs_background": "light"
     },
     "output_type": "display_data"
    }
   ],
   "source": [
    "fig, ax = plt.subplots(nrows=1, ncols=1, figsize=(8, 4),\n",
    "                       )\n",
    "\n",
    "buff_strs = [\"unbuffered\", \"buffered\"]\n",
    "linestyles = [\"--\", \"-\"]\n",
    "\n",
    "t0, tf = (0, 1e3)\n",
    "# Simulate both models with the disturbance\n",
    "for i, model in enumerate([phos_traffic, phos_buffered]):\n",
    "    sim = Simulation(model)\n",
    "    conc_sol, flux_sol = sim.simulate(\n",
    "        model, time=(t0, tf, tf*10 + 1),\n",
    "        perturbations={\"kf_use\": \"kf_use * 1.5\"})\n",
    "\n",
    "    plot_time_profile(\n",
    "        flux_sol, observable=[\"use\", \"form\"], ax=ax, \n",
    "        legend=([\"use \" + buff_strs[i], \"form \" + buff_strs[i]],\n",
    "                \"right outside\"),\n",
    "        plot_function=\"semilogx\",\n",
    "        xlabel=\"Time [min]\", ylabel=\"Fluxes [mM/min]\", \n",
    "        color=[\"red\", \"blue\"], linestyle=linestyles[i])"
   ]
  },
  {
   "cell_type": "markdown",
   "metadata": {},
   "source": [
    "**Figure 8.12:** The fluxes of ATP use and formation respond more slowly when the ATP buffer is present.\n",
    "\n",
    "The response of the adenosine phosphate system can be simulated in the presence of a buffer. We choose the parameters as $\\text{B}_{\\mathrm{tot}}=10\\ mM$, $K_{\\mathrm{buff}}=1$, and $k_{\\mathrm{buff}}=1000/min$ and all other conditions as in Figure 8.8. The results of the simulation are shown in Figure 8.13. The time response of the energy charge is shown, along with the buffer charge $\\text{BP}/\\text{B}_{\\mathrm{tot}}$. We see that the fast response in the energy charge is now slower as the initial reaction is buffered by release of the high energy bonds that are bound to the buffer. The overall change in the energy charge is the same: it goes from 0.86 to 0.78. The charge of the buffer drops from 0.80 to 0.73 at the same time. \n",
    "\n",
    "![Figure-8-13](../images/Ch8/Figure-8-13.png)\n",
    "\n",
    "**Figure 8.13:** Pictorial representation of the phosphate exchange among the adenosine phosphates and a buffering molecule. (a) The reaction schema. (b) A pictorial representation of the molecules, their charged states, and the definition of pooled variables*\n",
    "\n",
    "#### Pooling and interpretation: E.C. buffering\n",
    "\n",
    "A pictorial representation of the phosphate buffering is given in Figure 8.13. Here, a generalized definition of the overall phosphate charge is: \n",
    "\n",
    "$$\\begin{equation} \\text{overall charge} =  \\frac{\\text{overall occupancy}}{\\text{overall capacity}} = \\frac{2\\ \\text{ATP}+\\text{ADP}+\\text{BP}}{2\\ (\\text{ATP}+\\text{ADP}+\\text{AMP})+\\text{BP} + \\text{B}} \\tag{8.15} \\end{equation}$$\n",
    "\n",
    "This combined charge system can be represented similarly to the representation in Figure 8.10.  Figure 8.14 shows a stacking of the buffer and adenosine phosphate capacity versus their charge. The total capacity to carry high-energy bonds is now 14.2 mM. The overall charge is 0.82 (or 11.64 mM concentration of high-energy bonds) in the system before the perturbation. The increased load brings the overall charge down to 0.74. \n",
    "\n",
    "![Figure-8-14](../images/Ch8/Figure-8-14.png)\n",
    "\n",
    "**Figure 8.14:**  The representation of the energy and buffer charge versus the capacity (in mM on y-axis). The lumping of the two quantities into ‘overall’ quantities is illustrated. The case considered corresponds to the simulation in Figure 8.15.\n",
    "\n",
    "To understand this effect, we first define more pools:"
   ]
  },
  {
   "cell_type": "code",
   "execution_count": 30,
   "metadata": {
    "execution": {
     "iopub.execute_input": "2020-10-20T20:20:32.254804Z",
     "iopub.status.busy": "2020-10-20T20:20:32.254021Z",
     "iopub.status.idle": "2020-10-20T20:20:32.256163Z",
     "shell.execute_reply": "2020-10-20T20:20:32.256610Z"
    }
   },
   "outputs": [],
   "source": [
    "pools.update({\n",
    "    \"BC\": \"bp / (bp + b)\",\n",
    "    \"Overall_Charge\": \"(2*atp + adp + bp) / (2*(atp + adp + amp) + bp + b)\"})"
   ]
  },
  {
   "cell_type": "markdown",
   "metadata": {},
   "source": [
    "and then plot the dynamic responses of the pools:"
   ]
  },
  {
   "cell_type": "code",
   "execution_count": 31,
   "metadata": {
    "execution": {
     "iopub.execute_input": "2020-10-20T20:20:32.286853Z",
     "iopub.status.busy": "2020-10-20T20:20:32.286185Z",
     "iopub.status.idle": "2020-10-20T20:20:32.747318Z",
     "shell.execute_reply": "2020-10-20T20:20:32.747738Z"
    }
   },
   "outputs": [
    {
     "name": "stderr",
     "output_type": "stream",
     "text": [
      "\u001b[93mWARNING:\u001b[0m \u001b[93mNo compartments found in model. Therefore creating compartment 'compartment' for entire model.\u001b[0m\n",
      "\u001b[93mWARNING:\u001b[0m \u001b[93mNo compartments found in model. Therefore creating compartment 'compartment' for entire model.\u001b[0m\n"
     ]
    },
    {
     "data": {
      "image/png": "[encoded data removed]",
      "text/plain": [
       "<Figure size 576x432 with 2 Axes>"
      ]
     },
     "metadata": {
      "needs_background": "light"
     },
     "output_type": "display_data"
    }
   ],
   "source": [
    "fig_8_15, axes = plt.subplots(nrows=2, ncols=1, figsize=(8, 6),)\n",
    "(ax1, ax2) = axes.flatten()\n",
    "legend_labels = [\"E.C. Unbuffered\", \"E.C. Buffered\"]\n",
    "for i, model in enumerate([phos_traffic, phos_buffered]):\n",
    "    sim = Simulation(model)\n",
    "    conc_sol, flux_sol = sim.simulate(\n",
    "        model, time=(t0, tf, tf*10 + 1),\n",
    "        perturbations={\"kf_use\": \"kf_use * 1.5\"})\n",
    "\n",
    "    # Determine pools\n",
    "    for pool_id, equation_str in pools.items():\n",
    "        # Skip buffered charge for model with no buffer\n",
    "        if i == 0 and pool_id in [\"BC\", \"Overall_Charge\"]:\n",
    "            continue\n",
    "        conc_sol.make_aggregate_solution(\n",
    "            pool_id, equation=equation_str, update=True)\n",
    "\n",
    "    if i == 1:\n",
    "        # Plot the charge pools for the buffered solution\n",
    "        plot_time_profile(\n",
    "            conc_sol, observable=[\"EC\", \"BC\", \"Overall_Charge\"], ax=ax1,\n",
    "            legend=([\"E.C.\", \"B.C.\", \"Overall Charge\"], \"right outside\"),\n",
    "            xlabel=\"Time [min]\", ylabel=\"Charge\", \n",
    "            xlim=(t0, 1), ylim=(.7, .9),\n",
    "            title=(\"(a) Charge Pools of Buffered Model\", XL_FONT));\n",
    "\n",
    "    # Compare the buffered and unbuffered solutions\n",
    "    plot_time_profile(\n",
    "        conc_sol, observable=[\"EC\"], ax=ax2,\n",
    "        legend=(legend_labels[i], \"right outside\"),\n",
    "        xlabel=\"Time [min]\", ylabel=\"Charge\", \n",
    "        xlim=(t0, 1), ylim=(.7, .9),\n",
    "        title=(\"(b) E.C. Unbuffered Vs Buffered\", XL_FONT));\n",
    "fig_8_15.tight_layout()"
   ]
  },
  {
   "cell_type": "markdown",
   "metadata": {},
   "source": [
    "**Figure 8.15:** Dynamic responses for Eqs.(8.4 - 8.8) with the buffering effect (Eq. (8.10)). (a) The Atkinson's energy charge (Eq. (8.9)) the buffer charge (Eq. (8.14)), and the overall charge (Eq. (8.15) are shown as a function of time. (b) Comparison of the buffered and unbuffered energy charge. $B_{\\mathrm{tot}}=10 mM$, $K_{\\mathrm{buff}}=1$ and $k_{\\mathrm{buff}}=1000$. All other conditions are as in Figure 8.8; i.e., we simulate the response to a 'multiplier' increase in $k_{\\mathrm{use}}$. Note the slower response of the E.C. in panel (b) when the system is buffered.\n",
    "\n",
    "### Open system: long term adjustment of the capacity  \n",
    "#### Inputs and outputs:  \n",
    "Although the rates of formation and degradation of AMP are low, their effects can be significant. These fluxes will determine the total amount of the adenosine phosphates and thus their capacity to carry high energy bonds. The additional elementary rate laws needed to account for the rate of AMP formation and drain are: \n",
    "\n",
    "$$\\begin{equation} v_{\\mathrm{form,\\ AMP}} = b_{1}, \\ v_{\\mathrm{drain}} = k_{\\mathrm{drain}} * \\text{AMP} \\tag{8.16} \\end{equation}$$\n",
    "\n",
    "where $b_1$ is the net synthesis rate of AMP. The numerical values used are $b_{1}=0.03\\ mM/min$ and $k_{\\mathrm{drain}} = (0.03\\ mM/min)/(0.1\\ mM) = 0.3\\ mM/min$. \n",
    "\n",
    "#### Updating the model for long term capacity adjustment\n",
    "Define the AMP exchange reaction:\n",
    "\n",
    "![Figure-8-16](../images/Ch8/Figure-8-16.png)\n",
    "\n",
    "**Figure 8.16:** The trafficking of high-energy phosphate bonds with the buffer molecule and AMP exchange reactions."
   ]
  },
  {
   "cell_type": "code",
   "execution_count": 32,
   "metadata": {
    "execution": {
     "iopub.execute_input": "2020-10-20T20:20:32.755681Z",
     "iopub.status.busy": "2020-10-20T20:20:32.754988Z",
     "iopub.status.idle": "2020-10-20T20:20:32.789308Z",
     "shell.execute_reply": "2020-10-20T20:20:32.789776Z"
    }
   },
   "outputs": [
    {
     "name": "stdout",
     "output_type": "stream",
     "text": [
      "-amp*kf_drain + kf_b1\n",
      "0\n"
     ]
    }
   ],
   "source": [
    "# Copy the model to create a new, yet identical model instance \n",
    "phos_open = phos_buffered.copy()\n",
    "phos_open.id += \"_Open\"\n",
    "\n",
    "# Get MassMetabolite amp assoicated with the new copied model\n",
    "amp = phos_open.metabolites.amp\n",
    "\n",
    "# Define AMP formation\n",
    "b1 = MassReaction(\"b1\", reversible=False)\n",
    "b1.add_metabolites({amp:1})\n",
    "b1.kf = 0.03\n",
    "\n",
    "# Define AMP drain\n",
    "drain = MassReaction(\"drain\", reversible=False)\n",
    "drain.add_metabolites({amp:-1})\n",
    "drain.kf = 0.3\n",
    "# Add reactions to the model\n",
    "phos_open.add_reactions([b1, drain])\n",
    "# Set custom rate for formation of AMP\n",
    "phos_open.add_custom_rate(b1, custom_rate=b1.kf_str)\n",
    "\n",
    "# Display the net rate for AMP synthesis and draining\n",
    "rate = strip_time(phos_open.rates[b1] - phos_open.rates[drain])\n",
    "print(rate)\n",
    "# Substitute values to check if steady state\n",
    "print(rate.subs({\n",
    "    sym.Symbol('amp'): amp.ic, # AMP concentration at steady state\n",
    "    sym.Symbol('kf_drain'): drain.kf, # forward rate constant for drain reaction\n",
    "    sym.Symbol('kf_b1'): b1.kf})) # Synthesis rate"
   ]
  },
  {
   "cell_type": "markdown",
   "metadata": {},
   "source": [
    "With the specified parameters and initial conditions, the system is in a steady state, i.e. no net exchange of AMP."
   ]
  },
  {
   "cell_type": "markdown",
   "metadata": {},
   "source": [
    "#### Null spaces:  long term capacity adjustment\n",
    "With the addition of the AMP exchanges, stoichiometric matrix six columns. "
   ]
  },
  {
   "cell_type": "code",
   "execution_count": 33,
   "metadata": {
    "execution": {
     "iopub.execute_input": "2020-10-20T20:20:32.799101Z",
     "iopub.status.busy": "2020-10-20T20:20:32.798281Z",
     "iopub.status.idle": "2020-10-20T20:20:32.801442Z",
     "shell.execute_reply": "2020-10-20T20:20:32.801886Z"
    },
    "tags": [
     "remove_cell"
    ]
   },
   "outputs": [
    {
     "data": {
      "text/html": [
       "<div>\n",
       "<style scoped>\n",
       "    .dataframe tbody tr th:only-of-type {\n",
       "        vertical-align: middle;\n",
       "    }\n",
       "\n",
       "    .dataframe tbody tr th {\n",
       "        vertical-align: top;\n",
       "    }\n",
       "\n",
       "    .dataframe thead th {\n",
       "        text-align: right;\n",
       "    }\n",
       "</style>\n",
       "<table border=\"1\" class=\"dataframe\">\n",
       "  <thead>\n",
       "    <tr style=\"text-align: right;\">\n",
       "      <th></th>\n",
       "      <th>distr</th>\n",
       "      <th>use</th>\n",
       "      <th>form</th>\n",
       "      <th>buff</th>\n",
       "      <th>b1</th>\n",
       "      <th>drain</th>\n",
       "    </tr>\n",
       "  </thead>\n",
       "  <tbody>\n",
       "    <tr>\n",
       "      <th>adp</th>\n",
       "      <td>-2</td>\n",
       "      <td>1</td>\n",
       "      <td>-1</td>\n",
       "      <td>1</td>\n",
       "      <td>0</td>\n",
       "      <td>0</td>\n",
       "    </tr>\n",
       "    <tr>\n",
       "      <th>amp</th>\n",
       "      <td>1</td>\n",
       "      <td>0</td>\n",
       "      <td>0</td>\n",
       "      <td>0</td>\n",
       "      <td>1</td>\n",
       "      <td>-1</td>\n",
       "    </tr>\n",
       "    <tr>\n",
       "      <th>atp</th>\n",
       "      <td>1</td>\n",
       "      <td>-1</td>\n",
       "      <td>1</td>\n",
       "      <td>-1</td>\n",
       "      <td>0</td>\n",
       "      <td>0</td>\n",
       "    </tr>\n",
       "    <tr>\n",
       "      <th>b</th>\n",
       "      <td>0</td>\n",
       "      <td>0</td>\n",
       "      <td>0</td>\n",
       "      <td>-1</td>\n",
       "      <td>0</td>\n",
       "      <td>0</td>\n",
       "    </tr>\n",
       "    <tr>\n",
       "      <th>bp</th>\n",
       "      <td>0</td>\n",
       "      <td>0</td>\n",
       "      <td>0</td>\n",
       "      <td>1</td>\n",
       "      <td>0</td>\n",
       "      <td>0</td>\n",
       "    </tr>\n",
       "  </tbody>\n",
       "</table>\n",
       "</div>"
      ],
      "text/plain": [
       "     distr  use  form  buff  b1  drain\n",
       "adp     -2    1    -1     1   0      0\n",
       "amp      1    0     0     0   1     -1\n",
       "atp      1   -1     1    -1   0      0\n",
       "b        0    0     0    -1   0      0\n",
       "bp       0    0     0     1   0      0"
      ]
     },
     "execution_count": 1,
     "metadata": {},
     "output_type": "execute_result"
    }
   ],
   "source": [
    "phos_open.S"
   ]
  },
  {
   "cell_type": "markdown",
   "metadata": {},
   "source": [
    "It has still has a two-dimensional null space, that 1) represents and internal loop as the use and formation reactions are the exact opposites of each other, as before, and 2) an exchange pathways of AMP coming into the system and leaving the system. "
   ]
  },
  {
   "cell_type": "code",
   "execution_count": 34,
   "metadata": {
    "execution": {
     "iopub.execute_input": "2020-10-20T20:20:32.812565Z",
     "iopub.status.busy": "2020-10-20T20:20:32.811781Z",
     "iopub.status.idle": "2020-10-20T20:20:32.815003Z",
     "shell.execute_reply": "2020-10-20T20:20:32.815445Z"
    },
    "tags": [
     "remove_cell"
    ]
   },
   "outputs": [
    {
     "data": {
      "text/html": [
       "<div>\n",
       "<style scoped>\n",
       "    .dataframe tbody tr th:only-of-type {\n",
       "        vertical-align: middle;\n",
       "    }\n",
       "\n",
       "    .dataframe tbody tr th {\n",
       "        vertical-align: top;\n",
       "    }\n",
       "\n",
       "    .dataframe thead th {\n",
       "        text-align: right;\n",
       "    }\n",
       "</style>\n",
       "<table border=\"1\" class=\"dataframe\">\n",
       "  <thead>\n",
       "    <tr style=\"text-align: right;\">\n",
       "      <th></th>\n",
       "      <th>Path 1</th>\n",
       "      <th>Path 2</th>\n",
       "    </tr>\n",
       "  </thead>\n",
       "  <tbody>\n",
       "    <tr>\n",
       "      <th>distr</th>\n",
       "      <td>0</td>\n",
       "      <td>0</td>\n",
       "    </tr>\n",
       "    <tr>\n",
       "      <th>use</th>\n",
       "      <td>1</td>\n",
       "      <td>0</td>\n",
       "    </tr>\n",
       "    <tr>\n",
       "      <th>form</th>\n",
       "      <td>1</td>\n",
       "      <td>0</td>\n",
       "    </tr>\n",
       "    <tr>\n",
       "      <th>buff</th>\n",
       "      <td>0</td>\n",
       "      <td>0</td>\n",
       "    </tr>\n",
       "    <tr>\n",
       "      <th>b1</th>\n",
       "      <td>0</td>\n",
       "      <td>1</td>\n",
       "    </tr>\n",
       "    <tr>\n",
       "      <th>drain</th>\n",
       "      <td>0</td>\n",
       "      <td>1</td>\n",
       "    </tr>\n",
       "  </tbody>\n",
       "</table>\n",
       "</div>"
      ],
      "text/plain": [
       "       Path 1  Path 2\n",
       "distr       0       0\n",
       "use         1       0\n",
       "form        1       0\n",
       "buff        0       0\n",
       "b1          0       1\n",
       "drain       0       1"
      ]
     },
     "execution_count": 1,
     "metadata": {},
     "output_type": "execute_result"
    }
   ],
   "source": [
    "# Obtain nullspace\n",
    "ns = nullspace(phos_open.S, rtol=1e-1)\n",
    "# Transpose and iterate through nullspace, \n",
    "# dividing by the smallest value in each row.\n",
    "ns = ns.T\n",
    "for i, row in enumerate(ns):\n",
    "    minval = np.min(abs(row[np.nonzero(row)]))\n",
    "    new_row = np.array(row/minval)\n",
    "    # Round to ensure the nullspace is composed of only integers\n",
    "    ns[i] = np.array([round(value) for value in new_row])\n",
    "\n",
    "# Ensure positive stoichiometric coefficients if all are negative\n",
    "for i, space in enumerate(ns):\n",
    "    ns[i] = np.negative(space) if all([num <= 0 for num in space]) else space\n",
    "\n",
    "# Revert transpose\n",
    "ns = ns.T\n",
    "# Create a pandas.DataFrame to represent the nullspace\n",
    "pd.DataFrame(ns, index=[r.id for r in phos_open.reactions],\n",
    "             columns=[\"Path 1\", \"Path 2\"], dtype=np.int64)"
   ]
  },
  {
   "cell_type": "markdown",
   "metadata": {},
   "source": [
    "The left null space becomes one-dimensional.  The total amount of A is no longer conserved as AMP can now enter or leave the system, i.e. pathway 2) can have a net flux.  The buffer molecule, B, on the other hand is always contained within the system"
   ]
  },
  {
   "cell_type": "code",
   "execution_count": 35,
   "metadata": {
    "execution": {
     "iopub.execute_input": "2020-10-20T20:20:32.826126Z",
     "iopub.status.busy": "2020-10-20T20:20:32.825396Z",
     "iopub.status.idle": "2020-10-20T20:20:32.828700Z",
     "shell.execute_reply": "2020-10-20T20:20:32.829220Z"
    },
    "tags": [
     "remove_cell"
    ]
   },
   "outputs": [
    {
     "data": {
      "text/html": [
       "<div>\n",
       "<style scoped>\n",
       "    .dataframe tbody tr th:only-of-type {\n",
       "        vertical-align: middle;\n",
       "    }\n",
       "\n",
       "    .dataframe tbody tr th {\n",
       "        vertical-align: top;\n",
       "    }\n",
       "\n",
       "    .dataframe thead th {\n",
       "        text-align: right;\n",
       "    }\n",
       "</style>\n",
       "<table border=\"1\" class=\"dataframe\">\n",
       "  <thead>\n",
       "    <tr style=\"text-align: right;\">\n",
       "      <th></th>\n",
       "      <th>adp</th>\n",
       "      <th>amp</th>\n",
       "      <th>atp</th>\n",
       "      <th>b</th>\n",
       "      <th>bp</th>\n",
       "    </tr>\n",
       "  </thead>\n",
       "  <tbody>\n",
       "    <tr>\n",
       "      <th>Total B</th>\n",
       "      <td>0</td>\n",
       "      <td>0</td>\n",
       "      <td>0</td>\n",
       "      <td>1</td>\n",
       "      <td>1</td>\n",
       "    </tr>\n",
       "  </tbody>\n",
       "</table>\n",
       "</div>"
      ],
      "text/plain": [
       "         adp  amp  atp  b  bp\n",
       "Total B    0    0    0  1   1"
      ]
     },
     "execution_count": 1,
     "metadata": {},
     "output_type": "execute_result"
    }
   ],
   "source": [
    "# Obtain left nullspace\n",
    "lns = left_nullspace(phos_open.S, rtol=1e-1)\n",
    "# Iterate through left nullspace, \n",
    "# dividing by the smallest value in each row. \n",
    "for i, row in enumerate(lns):\n",
    "    minval = np.min(abs(row[np.nonzero(row)]))\n",
    "    new_row = np.array(row/minval)\n",
    "    # Round to ensure the left nullspace is composed of only integers\n",
    "    lns[i] = np.array([round(value) for value in new_row])\n",
    "\n",
    "# Ensure positive stoichiometric coefficients if all are negative\n",
    "for i, space in enumerate(lns):\n",
    "    lns[i] = np.negative(space) if all([num <= 0 for num in space]) else space\n",
    "\n",
    "# Create a pandas.DataFrame to represent the left nullspace\n",
    "pd.DataFrame(lns, index=[\"Total B\"], \n",
    "             columns=phos_open.metabolites, dtype=np.int64)"
   ]
  },
  {
   "cell_type": "markdown",
   "metadata": {},
   "source": [
    "#### Dynamic simulations: long term capacity adjustment\n",
    "Initially, the open system is in a steady-state. Once again, we consider a simulation where we increase the ATP use rate by a 'multiplier'. This system has a bi-phasic response for the values of the kinetic constants. We can start the system in a steady state at $t=0^-$ and simulate the response for increasing the ATP load by shifting the value of $k_{\\mathrm{use}}^\\rightarrow$ by a 'multiplier' at $t=0$, as before. The initial rapid response is similar to what is shown in Figure 8.8a, where the concentration of ATP drops in response to the load and the concentrations of ADP and AMP rise. This initial response is followed by a much slower response where all three concentrations drop. "
   ]
  },
  {
   "cell_type": "code",
   "execution_count": 36,
   "metadata": {
    "execution": {
     "iopub.execute_input": "2020-10-20T20:20:32.843869Z",
     "iopub.status.busy": "2020-10-20T20:20:32.843228Z",
     "iopub.status.idle": "2020-10-20T20:20:33.001487Z",
     "shell.execute_reply": "2020-10-20T20:20:33.001939Z"
    },
    "tags": [
     "remove_cell"
    ]
   },
   "outputs": [
    {
     "name": "stderr",
     "output_type": "stream",
     "text": [
      "\u001b[93mWARNING:\u001b[0m \u001b[93mNo compartments found in model. Therefore creating compartment 'compartment' for entire model.\u001b[0m\n"
     ]
    },
    {
     "name": "stdout",
     "output_type": "stream",
     "text": [
      "Successfully loaded MassModel 'Phosphate_Trafficking_Buffered_Open' into RoadRunner.\n"
     ]
    }
   ],
   "source": [
    "t0, tf = (0, 1e3)\n",
    "sim = Simulation(phos_open, verbose=True)\n",
    "sim.find_steady_state(models=phos_open, strategy=\"simulate\")\n",
    "conc_sol, flux_sol = sim.simulate(\n",
    "    phos_open, time=(t0, tf, tf*10 + 1), \n",
    "    perturbations={\"kf_use\": \"kf_use * 1.5\"})\n",
    "pools.update({\"Capacity\": \"2*(atp + adp + amp)\"})\n",
    "# Determine pools\n",
    "for pool_id, equation_str in pools.items():\n",
    "    # Skip buffered charge for model with no buffer\n",
    "    conc_sol.make_aggregate_solution(\n",
    "        pool_id, equation=equation_str, update=True)"
   ]
  },
  {
   "cell_type": "code",
   "execution_count": 37,
   "metadata": {
    "execution": {
     "iopub.execute_input": "2020-10-20T20:20:33.021776Z",
     "iopub.status.busy": "2020-10-20T20:20:33.021116Z",
     "iopub.status.idle": "2020-10-20T20:20:33.443219Z",
     "shell.execute_reply": "2020-10-20T20:20:33.443678Z"
    },
    "tags": [
     "remove_cell"
    ]
   },
   "outputs": [
    {
     "data": {
      "image/png": "[encoded data removed]",
      "text/plain": [
       "<Figure size 576x432 with 2 Axes>"
      ]
     },
     "metadata": {
      "needs_background": "light"
     },
     "output_type": "display_data"
    }
   ],
   "source": [
    "fig, axes = plt.subplots(nrows=2, ncols=1, figsize=(8, 6),\n",
    "                         )\n",
    "(ax1, ax2) = axes.flatten()\n",
    "plot_time_profile(\n",
    "    conc_sol, ax=ax1, observable=phos_open.metabolites,\n",
    "    legend=\"right outside\",\n",
    "    plot_function=\"semilogx\", \n",
    "    xlabel=\"Time [min]\", ylabel=\"Concentrations [mM]\", \n",
    "    title=(\"Concentration Profile\", XL_FONT));\n",
    "\n",
    "plot_time_profile(\n",
    "    flux_sol, ax=ax2, observable=phos_open.reactions,\n",
    "    legend=\"right outside\",\n",
    "    plot_function=\"semilogx\", \n",
    "    xlabel=\"Time [min]\", ylabel=\"Fluxes [mM/min]\", \n",
    "    title=(\"Flux Profile\", XL_FONT));\n",
    "fig.tight_layout()"
   ]
  },
  {
   "cell_type": "markdown",
   "metadata": {},
   "source": [
    "#### Interpretation of the bi-phasic response\n",
    "\n",
    "This bi-phasic response can be examined further by looking at dynamic phase portraits of key fluxes (Figure 8.17) and key pools (Figure 8.18). "
   ]
  },
  {
   "cell_type": "code",
   "execution_count": 38,
   "metadata": {
    "execution": {
     "iopub.execute_input": "2020-10-20T20:20:33.484399Z",
     "iopub.status.busy": "2020-10-20T20:20:33.472217Z",
     "iopub.status.idle": "2020-10-20T20:20:33.902064Z",
     "shell.execute_reply": "2020-10-20T20:20:33.902473Z"
    },
    "tags": [
     "remove_cell"
    ]
   },
   "outputs": [
    {
     "data": {
      "image/png": "[encoded data removed]",
      "text/plain": [
       "<Figure size 720x360 with 2 Axes>"
      ]
     },
     "metadata": {
      "needs_background": "light"
     },
     "output_type": "display_data"
    }
   ],
   "source": [
    "fig_8_17, axes = plt.subplots(nrows=1, ncols=2, figsize=(10, 5))\n",
    "(ax1, ax2) = axes.flatten()\n",
    "\n",
    "label = \"{0} [mM/min]\"\n",
    "plot_phase_portrait(\n",
    "    flux_sol, x=\"use\", y=\"form\", ax=ax1,\n",
    "    xlim=(4, 21), ylim=(4, 21), \n",
    "    xlabel=label.format(\"use\"), ylabel=label.format(\"form\"), \n",
    "    title=(\"(a) Phase Portrait of ATP use vs. formation\", XL_FONT),\n",
    "    annotate_time_points=[0, 1e-1, 1e0, 25, 150],\n",
    "    annotate_time_points_color=[\"red\"],\n",
    "    annotate_time_points_labels=True);\n",
    "\n",
    "# Annotate plot\n",
    "line_data = [i for i in range(0, 22)]\n",
    "ax1.plot(line_data, line_data, ls=\"--\", color=\"black\");\n",
    "ax1.annotate(\"use < form\", xy=(6, 15));\n",
    "ax1.annotate(\"use > form\", xy=(15, 6));\n",
    "ax1.annotate(\"Steady-state line:\\n     use=form\", xy=(15, 19));\n",
    "ax1.annotate(\"initial perturbation\", xy=(9.5, 9), xycoords=\"data\");\n",
    "ax1.annotate(\"\", xy=(flux_sol[\"use\"][0], flux_sol[\"form\"][0]),\n",
    "             xytext=(10, 10), textcoords=\"data\",\n",
    "             arrowprops=dict(arrowstyle=\"->\",connectionstyle=\"arc3\"));\n",
    "\n",
    "plot_phase_portrait(\n",
    "    flux_sol, x=\"use\", y=\"drain\", ax=ax2,\n",
    "    xlim=(0, 21), ylim=(0, 0.1), \n",
    "    xlabel=label.format(\"use\"), ylabel=label.format(\"drain\"),\n",
    "    title=(\"(b) Phase Portrait of use vs. drain\", XL_FONT),\n",
    "    annotate_time_points=[0, 1e-1, 1e0, 25, 150],\n",
    "    annotate_time_points_color=[\"red\"],\n",
    "    annotate_time_points_labels=True);\n",
    "\n",
    "# Annotate plot\n",
    "ax2.plot(line_data, [0.03]*22, ls=\"--\", color=\"black\");\n",
    "ax2.annotate(\"net AMP\\ngain\", xy=(1.5, 0.02));\n",
    "ax2.annotate(\"net AMP\\ndrain\", xy=(1.5, 0.04));\n",
    "fig_8_17.tight_layout()"
   ]
  },
  {
   "cell_type": "markdown",
   "metadata": {},
   "source": [
    "**Figure 8.17:** Dynamic phase portraits of fluxes for the simulation of the adenosine phosphate system with formation and drain of AMP (Eq. (8.16)). (a) the ATP use $(v_{\\mathrm{use}})$ versus the ATP formation rate $(v_{\\mathrm{form}})$. (b) the ATP use $(v_{\\mathrm{use}})$ versus the AMP drain $(v_{\\mathrm{drain}})$."
   ]
  },
  {
   "cell_type": "code",
   "execution_count": 39,
   "metadata": {
    "execution": {
     "iopub.execute_input": "2020-10-20T20:20:33.931055Z",
     "iopub.status.busy": "2020-10-20T20:20:33.930366Z",
     "iopub.status.idle": "2020-10-20T20:20:36.938212Z",
     "shell.execute_reply": "2020-10-20T20:20:36.938659Z"
    },
    "tags": [
     "remove_cell"
    ]
   },
   "outputs": [
    {
     "data": {
      "image/png": "[encoded data removed]",
      "text/plain": [
       "<Figure size 864x288 with 2 Axes>"
      ]
     },
     "metadata": {
      "needs_background": "light"
     },
     "output_type": "display_data"
    }
   ],
   "source": [
    "fig_8_18 = plt.figure(figsize=(12, 4))\n",
    "gs = fig_8_18.add_gridspec(nrows=1, ncols=2, width_ratios=[1, 1.5])\n",
    "\n",
    "ax1 = fig_8_18.add_subplot(gs[0, 0])\n",
    "ax2 = fig_8_18.add_subplot(gs[0, 1])\n",
    "\n",
    "plot_phase_portrait(\n",
    "    conc_sol, x=\"Occupancy\", y=\"Capacity\", ax=ax1,\n",
    "    time_vector=np.linspace(t0, 10, int(1e6)),\n",
    "    xlim=(2.7, 4.3), ylim=(2.7, 4.3),\n",
    "    xlabel=\"Occupancy\", ylabel=\"Capacity\",\n",
    "    title=(\"(a) Occupancy vs. Capacity\", XL_FONT),\n",
    "    annotate_time_points=\"endpoints\",\n",
    "    annotate_time_points_labels=True);\n",
    "\n",
    "plot_time_profile(\n",
    "    conc_sol, observable=[\"EC\", \"BC\", \"Overall_Charge\"], ax=ax2,\n",
    "    legend=([\"E.C.\", \"B.C.\", \"Overall Charge\"], \"right outside\"),\n",
    "    time_vector=np.linspace(t0, 10, int(1e6)),\n",
    "    xlabel=\"Time [min]\", ylabel=\"Charge\",\n",
    "    xlim=(t0, 10), ylim=(0.65, 1),\n",
    "    title=(\"(b) Charge Responses\", XL_FONT));\n",
    "fig_8_18.tight_layout()"
   ]
  },
  {
   "cell_type": "markdown",
   "metadata": {},
   "source": [
    "**Figure 8.18:** The Energy Charge response. (a) Dynamic phase portrait of 2ATP+ADP versus 2(ATP+ADP+AMP). (b) The response of E.C., B.C., and overall charge.\n",
    "\n",
    "* First, we examine how the system balances the use of ATP $(v_{\\mathrm{use}})$ with its rate of formation $(v_{\\mathrm{form}})$, see Figure 8.17. At $t=0$ the system is at rest at $v_{\\mathrm{use}}=v_{\\mathrm{form}}=10.0\\ mM/min$. Then the system is perturbed by moving the ATP drain, $v_{\\mathrm{use}}$, to 15.0 mM/min, as before. The initial response is to increase the formation rate of ATP to about 13 mM/min with the simultaneous drop in the use rate to about the same number, due to a net drop in the concentration of ATP during this period. The rate of ATP use and formation is approximately the same at this point in time. Then, during the slower response time, the use and formation rates of ATP are similar and the system moves along the 45 degree line to a new steady state point at 6.67 mM/min. \n",
    "\n",
    "\n",
    "* The slow dynamics are associated with the inventory of the adenosine phosphates (ATP + ADP + AMP). The AMP drain can be graphed versus the ATP use, see Figure 8.17b. Initially, the AMP drain increases rapidly as the increased ATP use leads to ADP buildup that gets converted into AMP by adenylate kinase $(v_{\\mathrm{distr}})$. The AMP drain then drops and sets at the same rate to balance the formation rate, set at 0.03 mM/min. \n",
    "\n",
    "\n",
    "* We can graph the occupancy against the capacity (Figure 8.18a). During the initial response, the occupancy moves while the capacity is a constant. Then, during the slower phase, the two move at a constant ratio. This gives a bi-phasic response of the energy charge (Figure 8.18b). In about a minute, the energy charge changes from 0.86 to about 0.77 and then stays a constant. The energy charge is roughly a constant even though all the other concentrations are changing. \n",
    "\n",
    "\n",
    "This feature of keeping the energy charge a constant while the capacity is changing has a role in a variety of physiological responses, from blood storage to the ischemic response in the heart. Note that this property is a stoichiometric one; no regulation is required to produce this effect. "
   ]
  },
  {
   "cell_type": "markdown",
   "metadata": {},
   "source": [
    "## Charging Substrates and Recovery of High-Energy Bonds\n",
    "### Reaction mechanism: \n",
    "As discussed in Section 8.2, most catabolic pathways generate energy (and other metabolic resources) in the form of activated (or charged) carrier molecules. Before energy can be extracted from a compound, it is typically activated by the use of metabolic resources (a biological equivalent of \"it takes money to make money\"). This basic structure shown in Figure 2.5 is redrawn in Figure 8.19a where one ATP molecule is used to 'charge' a substrate $(x_1)$ with one high-energy bond to form an intermediate $(x_2)$. This intermediate is then degraded through a process wherein two ATP molecules are synthesized and an inorganic phosphate is incorporated. The net gain of ATP is 1 for every $(x_2)$ metabolized, and this ATP molecule can then be used to drive a process $v_{\\mathrm{load}}$ that uses an ATP molecule. The trafficking of high-energy phosphate bonds is shown pictorially in Figure 8.19b. \n",
    "\n",
    "![Figure-8-19](../images/Ch8/Figure-8-19.png)\n",
    "\n",
    "**Figure 8.19:** Coupling of the adenosine phosphates with a skeleton metabolic pathway. (a) The reaction map. (b) A pictorial view of the molecules emphasizing the exchange of the high-energy phosphate group (solid circle). The blue square is AMP. The rate laws used are: $b_1 = 0.03\\ mM/min.$; $b_2 = 5\\ mM/min.$; $k_{\\mathrm{drain}}=b_1/0.1$; $k_{\\mathrm{load}}=5/1.6$; $k_1=5/0.4$. The flux of $b_2$ was set to 5 mM/min, as the ATP production rate is double that number, thus the steady state value for ATP production is 10 mM/min, to match what is discussed in section 8.3."
   ]
  },
  {
   "cell_type": "code",
   "execution_count": 40,
   "metadata": {
    "execution": {
     "iopub.execute_input": "2020-10-20T20:20:36.957413Z",
     "iopub.status.busy": "2020-10-20T20:20:36.956603Z",
     "iopub.status.idle": "2020-10-20T20:20:36.958868Z",
     "shell.execute_reply": "2020-10-20T20:20:36.959316Z"
    }
   },
   "outputs": [],
   "source": [
    "# Create model\n",
    "phos_recovery = MassModel(\"Phosphate_Recovery\", array_type=\"dense\",\n",
    "                          dtype=np.int64)\n",
    "# Define metabolites\n",
    "atp = MassMetabolite(\"atp\")\n",
    "adp = MassMetabolite(\"adp\")\n",
    "amp = MassMetabolite(\"amp\")\n",
    "pi = MassMetabolite(\"pi\")\n",
    "x1 = MassMetabolite(\"x1\")\n",
    "x2 = MassMetabolite(\"x2\")\n",
    "x3 = MassMetabolite(\"x3\")\n",
    "# Define reactions\n",
    "b1 = MassReaction(\"b1\", reversible=False)\n",
    "b1.add_metabolites({amp:1})\n",
    "\n",
    "distr = MassReaction(\"distr\")\n",
    "distr.add_metabolites({adp: -2, amp: 1, atp:1})\n",
    "\n",
    "load = MassReaction(\"load\", reversible=False)\n",
    "load.add_metabolites({atp: -1, adp: 1, pi: 1})\n",
    "\n",
    "drain = MassReaction(\"drain\", reversible=False)\n",
    "drain.add_metabolites({amp:-1})\n",
    "\n",
    "b2 = MassReaction(\"b2\", reversible=False)\n",
    "b2.add_metabolites({x1: 1})\n",
    "\n",
    "v1 = MassReaction(\"v1\", reversible=False)\n",
    "v1.add_metabolites({atp: -1, x1: -1, adp: 1, x2: 1})\n",
    "\n",
    "v2 = MassReaction(\"v2\", reversible=False)\n",
    "v2.add_metabolites({adp: -2, pi: -1, x2: -1, atp: 2, x3: 1})\n",
    "\n",
    "DM_x3 = MassReaction(\"DM_x3\", reversible=False)\n",
    "DM_x3.add_metabolites({x3: -1})\n",
    "\n",
    "# Add reactions to model\n",
    "phos_recovery.add_reactions([b1, distr, load, drain, b2, v1, v2, DM_x3])\n",
    "\n",
    "# Define initial conditions and parameters\n",
    "atp.ic = 1.6\n",
    "adp.ic = 0.4\n",
    "amp.ic = 0.1\n",
    "pi.ic = 2.5\n",
    "x1.ic = 1\n",
    "x2.ic = 1\n",
    "x3.ic = 1\n",
    "\n",
    "b1.kf = 0.03\n",
    "distr.kf = 1000\n",
    "distr.Keq = 1\n",
    "load.kf = 5/1.6\n",
    "drain.kf = 0.3\n",
    "b2.kf = 5\n",
    "v1.kf = 5/1.6\n",
    "v2.kf = 5/0.4\n",
    "DM_x3.kf = 5\n",
    "\n",
    "# Set custom rate for source reactions \n",
    "phos_recovery.add_custom_rate(b1, custom_rate=b1.kf_str)\n",
    "phos_recovery.add_custom_rate(b2, custom_rate=b2.kf_str)"
   ]
  },
  {
   "cell_type": "markdown",
   "metadata": {},
   "source": [
    "#### The dynamic mass balances:  \n",
    "The dynamic mass balance equations that describe this process are: \n",
    "\n",
    "$$\\begin{align} \\frac{dx_1}{dt} &= b_2 - v_1 \\\\ \\frac{dx_2}{dt} &= v_1 - v_2 \\\\ \\frac{d\\text{ATP}}{dt} &= -(v_1 + v_{\\mathrm{load}}) + 2v_2 + v_{\\mathrm{distr}} \\\\ \\frac{d\\text{ADP}}{dt} &= (v_1 + v_{\\mathrm{load}}) - 2v_2 - 2v_{\\mathrm{distr}} \\\\ \\frac{d\\text{AMP}}{dt} &= b_1 - v_{\\mathrm{drain}} + v_{\\mathrm{distr}} \\\\ \\end{align} \\tag{8.17}$$\n",
    "\n",
    "To integrate the reaction schema in Figure 8.13a with this skeleton pathway, we have replaced the use rate of ATP $(v_{\\mathrm{use}})$ with $v_1 + v_{\\mathrm{load}}$ and the formation rate of ATP $(v_{\\mathrm{form}})$ with $2v_2$. \n",
    "\n",
    "#### Dynamic simulation:  \n",
    "The flow of substrate into the cell, given by $b_2$, will be set to 5 mM/min in the simulation to follow to set the gross ATP production at 10 mM/min. The response of this system can be simulated to a change in the ATP load parameter, as in previous examples. The difference from the previous examples here is that the net ATP production rate is 5 mM/min. \n",
    "\n",
    "The time response of the concentrations and fluxes are shown in Figure 8.20, the flux phase portraits in Figure 8.21, and the pools and ratios in Figure 8.22."
   ]
  },
  {
   "cell_type": "code",
   "execution_count": 41,
   "metadata": {
    "execution": {
     "iopub.execute_input": "2020-10-20T20:20:36.981281Z",
     "iopub.status.busy": "2020-10-20T20:20:36.980612Z",
     "iopub.status.idle": "2020-10-20T20:20:37.333696Z",
     "shell.execute_reply": "2020-10-20T20:20:37.333215Z"
    },
    "scrolled": false,
    "tags": [
     "remove_cell"
    ]
   },
   "outputs": [
    {
     "name": "stderr",
     "output_type": "stream",
     "text": [
      "\u001b[93mWARNING:\u001b[0m \u001b[93mNo compartments found in model. Therefore creating compartment 'compartment' for entire model.\u001b[0m\n",
      "\u001b[93mWARNING:\u001b[0m \u001b[93mNo compartments found in model. Therefore creating compartment 'compartment' for entire model.\u001b[0m\n",
      "\u001b[91mERROR:\u001b[0m \u001b[91mSomething unexpected occurred and the model could not be loaded into the current RoadRunner instance. Therefore initializing a new RoadRunner instance for the Simulation.\u001b[0m\n"
     ]
    },
    {
     "name": "stdout",
     "output_type": "stream",
     "text": [
      "Successfully loaded MassModel 'Phosphate_Recovery' into RoadRunner.\n"
     ]
    }
   ],
   "source": [
    "t0, tf = (0, 100)\n",
    "sim = Simulation(phos_recovery, verbose=True)\n",
    "sim.find_steady_state(models=phos_recovery, strategy=\"simulate\",\n",
    "                      update_values=True)\n",
    "conc_sol, flux_sol = sim.simulate(\n",
    "    phos_recovery, time=(t0, tf, tf*10 + 1), \n",
    "    perturbations={\"kf_load\": \"kf_load * 1.5\"},\n",
    "    interpolate=True)\n",
    "\n",
    "pools = {\"Occupancy\": \"adp + 2*atp\", \n",
    "         \"Capacity\": \"2*(atp + adp + amp)\",\n",
    "         \"EC\": \"(2*atp + adp) / (2*(atp + adp + amp))\"}\n",
    "\n",
    "for pool_id, equation_str in pools.items():\n",
    "    conc_sol.make_aggregate_solution(\n",
    "        pool_id, equation=equation_str, update=True)\n",
    "\n",
    "netfluxes = {\n",
    "    \"load_total\": \"v1 + load\", \n",
    "    \"generation\": \"2*v2\", \n",
    "    \"drain_total\": \"drain\"}\n",
    "for flux_id, equation_str in netfluxes.items():\n",
    "    # Skip buffered charge for model with no buffer\n",
    "    flux_sol.make_aggregate_solution(\n",
    "        flux_id, equation=equation_str, update=True)"
   ]
  },
  {
   "cell_type": "code",
   "execution_count": 42,
   "metadata": {
    "execution": {
     "iopub.execute_input": "2020-10-20T20:20:37.372494Z",
     "iopub.status.busy": "2020-10-20T20:20:37.344964Z",
     "iopub.status.idle": "2020-10-20T20:20:37.803867Z",
     "shell.execute_reply": "2020-10-20T20:20:37.804315Z"
    },
    "tags": [
     "remove_cell"
    ]
   },
   "outputs": [
    {
     "data": {
      "image/png": "[encoded data removed]",
      "text/plain": [
       "<Figure size 576x432 with 3 Axes>"
      ]
     },
     "metadata": {
      "needs_background": "light"
     },
     "output_type": "display_data"
    }
   ],
   "source": [
    "fig_8_20, axes = plt.subplots(nrows=3, ncols=1, figsize=(8, 6))\n",
    "(ax1, ax2, ax3) = axes.flatten()\n",
    "\n",
    "plot_time_profile(\n",
    "    conc_sol, observable=phos_recovery.metabolites,\n",
    "    ax=ax1, legend=\"right outside\", \n",
    "    xlim=(t0, 25), ylim=(0, 2.0),\n",
    "    xlabel=\"Time [min]\", ylabel=\"Concentration [mM]\",\n",
    "    title=(\"(a) Concentrations\", XL_FONT));\n",
    "\n",
    "plot_time_profile(\n",
    "    flux_sol, observable=[\"v1\", \"v2\", \"load\"], \n",
    "    ax=ax2, legend=\"right outside\", \n",
    "    xlim=(t0, 25), ylim=(4, 8),\n",
    "    xlabel=\"Time [min]\", ylabel=\"Fluxes [mM/min]\",\n",
    "    title=(\"(b) High-Flux Reactions\", XL_FONT));\n",
    "\n",
    "plot_time_profile(\n",
    "    flux_sol, observable=[\"distr\", \"drain\"], \n",
    "    ax=ax3, legend=\"right outside\", \n",
    "    xlim=(t0, 25), ylim=(0, .4),\n",
    "    xlabel=\"Time [min]\", ylabel=\"Fluxes [mM/min]\",\n",
    "    title=(\"(c) Low-Flux Reactions\", XL_FONT));\n",
    "fig_8_20.tight_layout()"
   ]
  },
  {
   "cell_type": "markdown",
   "metadata": {},
   "source": [
    "**Figure 8.20:** The response of the systems shown in Figure 8.19 to a 50% increase in the ATP load rate constant. (a) Dynamic response of the concentrations on a fast and slow time scale. (b) Dynamic response of the main fluxes on a fast and slow time scale. (c) Dynamic response of the AMP determining fluxes on a fast and slow time scale. Parameter values are the same as in Figure 8.19."
   ]
  },
  {
   "cell_type": "code",
   "execution_count": 43,
   "metadata": {
    "execution": {
     "iopub.execute_input": "2020-10-20T20:20:37.835349Z",
     "iopub.status.busy": "2020-10-20T20:20:37.833714Z",
     "iopub.status.idle": "2020-10-20T20:20:38.206077Z",
     "shell.execute_reply": "2020-10-20T20:20:38.206580Z"
    },
    "tags": [
     "remove_cell"
    ]
   },
   "outputs": [
    {
     "data": {
      "image/png": "[encoded data removed]",
      "text/plain": [
       "<Figure size 720x360 with 2 Axes>"
      ]
     },
     "metadata": {
      "needs_background": "light"
     },
     "output_type": "display_data"
    }
   ],
   "source": [
    "fig_8_21, axes = plt.subplots(nrows=1, ncols=2, figsize=(10, 5))\n",
    "(ax1, ax2) = axes.flatten()\n",
    "\n",
    "plot_phase_portrait(\n",
    "    flux_sol, x=\"load_total\", y=\"generation\", ax=ax1, \n",
    "    xlabel=\"ATP load total\", ylabel=\"ATP Synthesis\", \n",
    "    xlim=(9, 13.5), ylim=(9, 13.5), \n",
    "    title=(\"(a) ATP Load vs. Synthesis\", XL_FONT),\n",
    "    annotate_time_points=\"endpoints\",\n",
    "    annotate_time_points_labels=True);\n",
    "\n",
    "# Annotate plot\n",
    "line_data = [i for i in range(8, 15)]\n",
    "ax1.plot(line_data, line_data, ls=\"--\", color=\"black\");\n",
    "ax1.annotate(\n",
    "    \"\", xy=(flux_sol[\"load_total\"](0), flux_sol[\"generation\"](0)),\n",
    "    xytext=(10, 10), textcoords=\"data\",\n",
    "    arrowprops=dict(arrowstyle=\"->\",connectionstyle=\"arc3\"));\n",
    "ax1.annotate(\"initial perturbation\", xy=(\n",
    "    flux_sol[\"load_total\"](0) - 1.7, \n",
    "    flux_sol[\"generation\"](0) - 0.2));\n",
    "\n",
    "plot_phase_portrait(\n",
    "    flux_sol, x=\"load_total\", y=\"drain_total\", ax=ax2, \n",
    "    xlabel=\"ATP load total\", ylabel=\"AMP drain\", \n",
    "    xlim=(8, 13.5), ylim=(0, 0.125),\n",
    "    title=(\"(a) ATP Load vs. Drain\", XL_FONT),\n",
    "    annotate_time_points=\"endpoints\",\n",
    "    annotate_time_points_labels=True);\n",
    "\n",
    "ax2.plot(line_data, [0.03] * 7, ls=\"--\", color=\"black\");\n",
    "fig_8_21.tight_layout()"
   ]
  },
  {
   "cell_type": "markdown",
   "metadata": {},
   "source": [
    "**Figure 8.21:** The response of the system shown in Figure 8.19 to a change in the ATP load rate constant. (a) ATP load versus ATP synthesis rate. (b) ATP load versus AMP drainage rate. You can compare this response to Figure 8.17."
   ]
  },
  {
   "cell_type": "code",
   "execution_count": 44,
   "metadata": {
    "execution": {
     "iopub.execute_input": "2020-10-20T20:20:38.235388Z",
     "iopub.status.busy": "2020-10-20T20:20:38.234617Z",
     "iopub.status.idle": "2020-10-20T20:20:38.525876Z",
     "shell.execute_reply": "2020-10-20T20:20:38.526323Z"
    },
    "tags": [
     "remove_cell"
    ]
   },
   "outputs": [
    {
     "data": {
      "image/png": "[encoded data removed]",
      "text/plain": [
       "<Figure size 720x288 with 2 Axes>"
      ]
     },
     "metadata": {
      "needs_background": "light"
     },
     "output_type": "display_data"
    }
   ],
   "source": [
    "fig_8_22 = plt.figure(figsize=(10, 4))\n",
    "gs = fig_8_22.add_gridspec(nrows=1, ncols=2, width_ratios=[1, 1.5])\n",
    "\n",
    "ax1 = fig_8_22.add_subplot(gs[0, 0])\n",
    "ax2 = fig_8_22.add_subplot(gs[0, 1])\n",
    "\n",
    "plot_phase_portrait(\n",
    "    conc_sol, x=\"Occupancy\", y=\"Capacity\", ax=ax1,\n",
    "    xlim=(2.3, 4.4), ylim=(2.3, 4.4),\n",
    "    xlabel=\"Occupancy\", ylabel=\"Capacity\",\n",
    "    title=(\"(a) Occupancy vs. Capacity\", XL_FONT),\n",
    "    annotate_time_points=[t0, 1e0, 50],\n",
    "    annotate_time_points_color=[\"red\"],\n",
    "    annotate_time_points_labels=True);\n",
    "# Annotate plot\n",
    "ax1.annotate(\" fast\\nmotion\\n\", xy=(conc_sol[\"Occupancy\"](0.3) - .25, \n",
    "                                   conc_sol[\"Capacity\"](0.3) - .35))\n",
    "\n",
    "plot_time_profile(\n",
    "    conc_sol, observable=[\"EC\"], ax=ax2, legend=\"best\",\n",
    "    xlim=(t0, 50), ylim=(0.65, 1),\n",
    "    xlabel=\"Time [min]\", ylabel=\"Energy Charge\",\n",
    "    title=(\"(b) Stoichiometric Disturbance Rejection Property\", XL_FONT));\n",
    "fig_8_22.tight_layout()"
   ]
  },
  {
   "cell_type": "markdown",
   "metadata": {},
   "source": [
    "**Figure 8.22:** The response of the system shown in Figure 8.19 to a change in the ATP load rate constant. (a) Dynamic phase portrait of the pools 2ATP+ADP versus 2(ATP+ADP+AMP).  (b) Energy charge ratio as a function of time. You can compare this response to Figure 8.18.\n",
    "\n",
    "### Interpretation:  \n",
    "We can make the following observations from this dynamic response: \n",
    "\n",
    "* The concentrations move on two principal time scales (Figure 8.20): a fast time scale that is about three to five minutes, and a slower time scale that is about 50 min. ATP and $x_1$ move primarily on the fast time scale, whereas ADP, AMP, and $x_2$ move on the slower time scale. You can see this clearly by changing time in Figure 8.20.\n",
    "\n",
    "* Initially $v_{\\mathrm{load}}$ increases sharply, and $v_2$ increases and $v_1$ decreases to meet the increased load. The three high flux reactions $v_1$, $v_2$, and $v_{\\mathrm{load}}$ restabilize at about 5 mM/min after about a three to five minute time frame, after which they are closely, but not fully, balanced (Figure 8.20). \n",
    "\n",
    "* The dynamic phase portrait, Figure 8.21a, shows that the overall ATP use $(v_1 + v_{\\mathrm{load}})$ quickly moves to about 12.5 mM/min while the production rate $(2v_2)$ is about 10 mM/min. Following this initial response, the ATP use drops and the ATP synthesis rate increases to move towards the 45 degree line. The 45 degree line is not reached. After 0.1 min, $v_2$ starts to drop and the system moves somewhat parallel to the 45 degree line until 1.5 min have passed. At this time the ATP concentration has dropped to about 1.06 mM, which makes the ATP use and production rate approximately balanced. Following this point, both the use and production rate increase slowly and return the system back to the initial point where both have a value of 10 mM/min. Since the input rate of $x_1$ is a constant, the system has to return to the initial state. \n",
    "\n",
    "* AMP initially increases leading to a net drain of AMP from the system. This drain unfolds on a long time scale leading to a net flux through the adenylate kinase that decays on the slower time scale. The effects of AMP drainage can be seen in the flux phase portrait in Figure 8.21b. Initially the AMP drain increases as the ATP usage drops close to its eventual steady state. Then the vertical motion in the phase portrait shows that there is a slower motion in which the ATP usage does not change much but the AMP drainage rate drops to match its input rate at 0.03 mM/hr. \n",
    "\n",
    "* The dynamic response of the energy charge (Figure 8.22b) shows that it drops on the faster time scale from an initial value of 0.86 to reach a minimum of about 0.67 at about 1.5 min. This initial response results from the increase in the ATP load parameter of 50%. After this initial response, the energy charge increases on the slower time scale to an eventual value of about 0.82. \n",
    "\n",
    "* Notice that this secondary response is not a result of a regulatory mechanism, but is a property that is built into the stoichiometric structure and the values of the rate constants that lead to the time scale separation. "
   ]
  },
  {
   "cell_type": "markdown",
   "metadata": {},
   "source": [
    "## Summary   \n",
    "\n",
    "* Most biochemical reactions are bilinear. Six of the seven categories of enzymes catalyze bilinear reactions. \n",
    "\n",
    "* The bilinear properties of biochemical reactions lead to complex patterns of exchange of key chemical moieties and properties. Many such simultaneous exchange processes lead to a 'tangle of cycles' in biochemical reaction networks. \n",
    "\n",
    "* Skeleton (or scaffold) dynamic models of biochemical processes can be carried out using dynamic mass balances based on elementary reaction representations and mass action kinetics. \n",
    "\n",
    "* Complex kinetic models are built in a bottom-up fashion, adding more details in a step-wise fashion, making sure that every new feature is consistently integrated. This chapter demonstrated a four-step analysis of the ATP cofactor sub-network and then its integration to a skeleton ATP generating pathway. \n",
    "\n",
    "* Once dynamic network models are formulated, the perturbations to which we simulate their responses are in fluxes, typically the exchange and demand fluxes. \n",
    "\n",
    "* A recurring theme is the formation of pools and the state of those pools in terms of how their total concentration is distributed among its constituent members. \n",
    "\n",
    "* Some dynamic properties are a result of the stoichiometric structure and do not result from intricate regulatory mechanisms or complex kinetic expressions. "
   ]
  },
  {
   "cell_type": "markdown",
   "metadata": {},
   "source": [
    "$\\tiny{\\text{© B. Ø. Palsson 2011;}\\ \\text{This publication is in copyright.}\\\\ \\text{Subject to statutory exception and to the provisions of relevant collective licensing agreements,}\\\\ \\text{no reproduction of any part may take place without the written permission of Cambridge University Press.}}$"
   ]
  }
 ],
 "metadata": {
  "kernelspec": {
   "display_name": "Python 3",
   "language": "python",
   "name": "python3"
  },
  "language_info": {
   "codemirror_mode": {
    "name": "ipython",
    "version": 3
   },
   "file_extension": ".py",
   "mimetype": "text/x-python",
   "name": "python",
   "nbconvert_exporter": "python",
   "pygments_lexer": "ipython3",
   "version": "3.7.9"
  }
 },
 "nbformat": 4,
 "nbformat_minor": 2
}
