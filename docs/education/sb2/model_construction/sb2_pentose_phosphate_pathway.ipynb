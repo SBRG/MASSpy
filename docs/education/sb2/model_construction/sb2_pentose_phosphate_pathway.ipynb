{
 "cells": [
  {
   "cell_type": "markdown",
   "metadata": {},
   "source": [
    "# Pentose Phosphate Pathway Model Construction\n",
    "\n",
    "Based on Chapter 11 of <cite data-cite=\"Pal11\">Systems Biology: Simulation of Dynamic Network States</cite>\n",
    "\n",
    "To construct a model of the pentose phosphate pathway (PPP), first we import **MASSpy** and other essential packages. Constants used throughout the notebook are also defined."
   ]
  },
  {
   "cell_type": "code",
   "execution_count": 1,
   "metadata": {
    "execution": {
     "iopub.execute_input": "2021-01-25T17:59:05.234947Z",
     "iopub.status.busy": "2021-01-25T17:59:05.227275Z",
     "iopub.status.idle": "2021-01-25T17:59:08.222576Z",
     "shell.execute_reply": "2021-01-25T17:59:08.223033Z"
    }
   },
   "outputs": [],
   "source": [
    "from os import path\n",
    "\n",
    "import matplotlib.pyplot as plt\n",
    "\n",
    "from cobra import DictList\n",
    "\n",
    "from mass import (\n",
    "    MassConfiguration, MassMetabolite, MassModel,\n",
    "    MassReaction, Simulation, UnitDefinition)\n",
    "from mass.io import json, sbml\n",
    "from mass.util import qcqa_model\n",
    "\n",
    "mass_config = MassConfiguration()\n",
    "\n",
    "mass_config.irreversible_Keq = float(\"inf\")"
   ]
  },
  {
   "cell_type": "markdown",
   "metadata": {},
   "source": [
    "## Model Construction \n",
    "\n",
    "The first step of creating a model of the PPP is to define the `MassModel`. "
   ]
  },
  {
   "cell_type": "code",
   "execution_count": 2,
   "metadata": {
    "execution": {
     "iopub.execute_input": "2021-01-25T17:59:08.232399Z",
     "iopub.status.busy": "2021-01-25T17:59:08.231275Z",
     "iopub.status.idle": "2021-01-25T17:59:08.233702Z",
     "shell.execute_reply": "2021-01-25T17:59:08.234147Z"
    }
   },
   "outputs": [
    {
     "name": "stdout",
     "output_type": "stream",
     "text": [
      "Set parameter Username\n"
     ]
    }
   ],
   "source": [
    "ppp = MassModel(\"PentosePhosphatePathway\")"
   ]
  },
  {
   "cell_type": "markdown",
   "metadata": {},
   "source": [
    "### Metabolites\n",
    "\n",
    "The next step is to define all of the metabolites using the `MassMetabolite` object. Some considerations for this step include the following:\n",
    "\n",
    "1. It is important to use a clear and consistent format for identifiers and names when defining the `MassMetabolite` objects for various reasons, some of which include improvements to model clarity and utility, assurance of unique identifiers (required to add metabolites to the model), and consistency when collaborating and communicating with others. \n",
    "\n",
    "2. In order to ensure our model is physiologically accurate, it is important to provide the `formula` argument with a string representing the chemical formula for each metabolite, and the `charge` argument with an integer representing the metabolite's ionic charge (Note that neutrally charged metabolites are provided with 0). These attributes can always be set later if necessary using the `formula` and `charge` attribute set methods.\n",
    "\n",
    "3. To indicate that the cytosol is the cellular compartment in which the reactions occur, the string \"c\" is provided to the `compartment` argument.\n",
    "\n",
    "This model will be created using identifiers and names found in the [BiGG Database](http://bigg.ucsd.edu/).\n",
    "\n",
    "In this model, there are 17 metabolites inside the cytosol compartment. "
   ]
  },
  {
   "cell_type": "code",
   "execution_count": 3,
   "metadata": {
    "execution": {
     "iopub.execute_input": "2021-01-25T17:59:08.246417Z",
     "iopub.status.busy": "2021-01-25T17:59:08.245614Z",
     "iopub.status.idle": "2021-01-25T17:59:08.247528Z",
     "shell.execute_reply": "2021-01-25T17:59:08.247972Z"
    }
   },
   "outputs": [],
   "source": [
    "g6p_c = MassMetabolite(\n",
    "    \"g6p_c\",\n",
    "    name=\"D-Glucose 6-phosphate\",\n",
    "    formula=\"C6H11O9P\",\n",
    "    charge=-2,\n",
    "    compartment=\"c\",\n",
    "    fixed=False)\n",
    "\n",
    "_6pgl_c = MassMetabolite(\n",
    "    \"_6pgl_c\",\n",
    "    name=\"6-Phospho-D-gluco-1,5-lactone\",\n",
    "    formula=\"C6H9O9P\",\n",
    "    charge=-2,\n",
    "    compartment=\"c\",\n",
    "    fixed=False)\n",
    "\n",
    "_6pgc_c = MassMetabolite(\n",
    "    \"_6pgc_c\",\n",
    "    name=\"6-Phospho-D-gluconate\",\n",
    "    formula=\"C6H10O10P\",\n",
    "    charge=-3,\n",
    "    compartment=\"c\",\n",
    "    fixed=False)\n",
    "\n",
    "ru5p__D_c = MassMetabolite(\n",
    "    \"ru5p__D_c\",\n",
    "    name=\"D-Ribulose 5-phosphate\",\n",
    "    formula=\"C5H9O8P\",\n",
    "    charge=-2,\n",
    "    compartment=\"c\",\n",
    "    fixed=False)\n",
    "\n",
    "r5p_c = MassMetabolite(\n",
    "    \"r5p_c\",\n",
    "    name=\"Alpha-D-Ribose 5-phosphate\",\n",
    "    formula=\"C5H9O8P\",\n",
    "    charge=-2,\n",
    "    compartment=\"c\",\n",
    "    fixed=False)\n",
    "\n",
    "xu5p__D_c = MassMetabolite(\n",
    "    \"xu5p__D_c\",\n",
    "    name=\"D-Xylulose 5-phosphate\",\n",
    "    formula=\"C5H9O8P\",\n",
    "    charge=-2,\n",
    "    compartment=\"c\",\n",
    "    fixed=False)\n",
    "\n",
    "g3p_c = MassMetabolite(\n",
    "    \"g3p_c\",\n",
    "    name=\"Glyceraldehyde 3-phosphate\",\n",
    "    formula=\"C3H5O6P\",\n",
    "    charge=-2,\n",
    "    compartment=\"c\",\n",
    "    fixed=False)\n",
    "\n",
    "s7p_c = MassMetabolite(\n",
    "    \"s7p_c\",\n",
    "    name=\"Sedoheptulose 7-phosphate\",\n",
    "    formula=\"C7H13O10P\",\n",
    "    charge=-2,\n",
    "    compartment=\"c\",\n",
    "    fixed=False)\n",
    "\n",
    "f6p_c = MassMetabolite(\n",
    "    \"f6p_c\",\n",
    "    name=\"D-Fructose 6-phosphate\",\n",
    "    formula=\"C6H11O9P\",\n",
    "    charge=-2,\n",
    "    compartment=\"c\",\n",
    "    fixed=False)\n",
    "\n",
    "e4p_c = MassMetabolite(\n",
    "    \"e4p_c\",\n",
    "    name=\"D-Erythrose 4-phosphate\",\n",
    "    formula=\"C4H7O7P\",\n",
    "    charge=-2,\n",
    "    compartment=\"c\",\n",
    "    fixed=False)\n",
    "\n",
    "h_c = MassMetabolite(\n",
    "    \"h_c\",\n",
    "    name=\"H+\",\n",
    "    formula=\"H\",\n",
    "    charge=1,\n",
    "    compartment=\"c\",\n",
    "    fixed=False)\n",
    "\n",
    "nadp_c = MassMetabolite(\n",
    "    \"nadp_c\",\n",
    "    name=\"Nicotinamide adenine dinucleotide phosphate\",\n",
    "    formula=\"[NADP]-C21H25N7O17P3\",\n",
    "    charge=-3,\n",
    "    compartment=\"c\",\n",
    "    fixed=False)\n",
    "\n",
    "nadph_c = MassMetabolite(\n",
    "    \"nadph_c\",\n",
    "    name=\"Nicotinamide adenine dinucleotide phosphate - reduced\",\n",
    "    formula=\"[NADP]-C21H26N7O17P3\",\n",
    "    charge=-4,\n",
    "    compartment=\"c\",\n",
    "    fixed=False)\n",
    "\n",
    "h2o_c = MassMetabolite(\n",
    "    \"h2o_c\",\n",
    "    name=\"H2O\",\n",
    "    formula=\"H2O\",\n",
    "    charge=0,\n",
    "    compartment=\"c\",\n",
    "    fixed=False)\n",
    "\n",
    "gthox_c = MassMetabolite(\n",
    "    \"gthox_c\",\n",
    "    name=\"Oxidized glutathione\",\n",
    "    formula=\"C20H30N6O12S2\",\n",
    "    charge=-2,\n",
    "    compartment=\"c\",\n",
    "    fixed=False)\n",
    "\n",
    "gthrd_c = MassMetabolite(\n",
    "    \"gthrd_c\",\n",
    "    name=\"Reduced glutathione\",\n",
    "    formula=\"C10H16N3O6S\",\n",
    "    charge=-1,\n",
    "    compartment=\"c\",\n",
    "    fixed=False)\n",
    "\n",
    "co2_c = MassMetabolite(\n",
    "    \"co2_c\",\n",
    "    name=\"CO2\",\n",
    "    formula=\"CO2\",\n",
    "    charge=0,\n",
    "    compartment=\"c\",\n",
    "    fixed=False)"
   ]
  },
  {
   "cell_type": "markdown",
   "metadata": {},
   "source": [
    "### Reactions\n",
    "\n",
    "Once all of the `MassMetabolite` objects for each metabolite, the next step is to define all of the reactions that occur and their stoichiometry.\n",
    "\n",
    "1. As with the metabolites, it is also important to use a clear and consistent format for identifiers and names when defining when defining the `MassReaction` objects.\n",
    "\n",
    "2. To make this model useful for integration with other models, it is important to provide a string to the `subsystem` argument. By providing the subsystem, the reactions can be easily obtained even when integrated with a significantly larger model through the `subsystem` attribute.\n",
    "\n",
    "3. After the creation of each `MassReaction` object, the metabolites are added to the reaction using a dictionary where keys are the `MassMetabolite` objects and values are the stoichiometric coefficients (reactants have negative coefficients, products have positive ones). \n",
    "\n",
    "This model will be created using identifiers and names found in the [BiGG Database](http://bigg.ucsd.edu/).\n",
    "\n",
    "In this model, there are 10 reactions occuring inside the cytosol compartment."
   ]
  },
  {
   "cell_type": "code",
   "execution_count": 4,
   "metadata": {
    "execution": {
     "iopub.execute_input": "2021-01-25T17:59:08.259281Z",
     "iopub.status.busy": "2021-01-25T17:59:08.258503Z",
     "iopub.status.idle": "2021-01-25T17:59:08.260414Z",
     "shell.execute_reply": "2021-01-25T17:59:08.260854Z"
    }
   },
   "outputs": [],
   "source": [
    "G6PDH2r = MassReaction(\n",
    "    \"G6PDH2r\",\n",
    "    name=\"Glucose 6-phosphate dehydrogenase\",\n",
    "    subsystem=ppp.id,\n",
    "    reversible=True)\n",
    "G6PDH2r.add_metabolites({\n",
    "    g6p_c: -1,\n",
    "    nadp_c: -1,\n",
    "    _6pgl_c: 1,\n",
    "    nadph_c: 1,\n",
    "    h_c: 1})\n",
    "\n",
    "PGL = MassReaction(\n",
    "    \"PGL\",\n",
    "    name=\"6-phosphogluconolactonase\",\n",
    "    subsystem=ppp.id,\n",
    "    reversible=True)\n",
    "PGL.add_metabolites({\n",
    "    _6pgl_c: -1,\n",
    "    h2o_c: -1,\n",
    "    _6pgc_c: 1,\n",
    "    h_c: 1})\n",
    "\n",
    "GND = MassReaction(\n",
    "    \"GND\",\n",
    "    name=\"Phosphogluconate dehydrogenase\",\n",
    "    subsystem=ppp.id,\n",
    "    reversible=True)\n",
    "GND.add_metabolites({\n",
    "    _6pgc_c: -1,\n",
    "    nadp_c: -1,\n",
    "    nadph_c: 1,\n",
    "    co2_c: 1,\n",
    "    ru5p__D_c: 1})\n",
    "\n",
    "RPI = MassReaction(\n",
    "    \"RPI\",\n",
    "    name=\"Ribulose 5-Phosphate Isomerase\",\n",
    "    subsystem=ppp.id,\n",
    "    reversible=True)\n",
    "RPI.add_metabolites({\n",
    "    ru5p__D_c: -1,\n",
    "    r5p_c: 1})\n",
    "\n",
    "RPE = MassReaction(\n",
    "    \"RPE\",\n",
    "    name=\"Ribulose 5-phosphate 3-epimerase\",\n",
    "    subsystem=ppp.id,\n",
    "    reversible=True)\n",
    "RPE.add_metabolites({\n",
    "    ru5p__D_c: -1,\n",
    "    xu5p__D_c: 1})\n",
    "\n",
    "TKT1 = MassReaction(\n",
    "    \"TKT1\",\n",
    "    name=\"Transketolase\",\n",
    "    subsystem=ppp.id,\n",
    "    reversible=True)\n",
    "TKT1.add_metabolites({\n",
    "    r5p_c: -1,\n",
    "    xu5p__D_c: -1,\n",
    "    g3p_c: 1,\n",
    "    s7p_c: 1})\n",
    "\n",
    "TALA = MassReaction(\n",
    "    \"TALA\",\n",
    "    name=\"Transaldolase\",\n",
    "    subsystem=ppp.id,\n",
    "    reversible=True)\n",
    "TALA.add_metabolites({\n",
    "    g3p_c: -1,\n",
    "    s7p_c: -1,\n",
    "    e4p_c: 1,\n",
    "    f6p_c: 1})\n",
    "\n",
    "TKT2 = MassReaction(\n",
    "    \"TKT2\",\n",
    "    name=\"Transketolase\",\n",
    "    subsystem=ppp.id,\n",
    "    reversible=True)\n",
    "TKT2.add_metabolites({\n",
    "    e4p_c: -1,\n",
    "    xu5p__D_c: -1,\n",
    "    f6p_c: 1,\n",
    "    g3p_c: 1})\n",
    "\n",
    "GTHOr = MassReaction(\n",
    "    \"GTHOr\",\n",
    "    name=\"Glutathione oxidoreductase\",\n",
    "    subsystem=\"Misc.\",\n",
    "    reversible=True)\n",
    "GTHOr.add_metabolites({\n",
    "    gthox_c: -1,\n",
    "    h_c: -1,\n",
    "    nadph_c: -1,\n",
    "    gthrd_c: 2,\n",
    "    nadp_c: 1})\n",
    "\n",
    "GSHR = MassReaction(\n",
    "    \"GSHR\",\n",
    "    name=\"Glutathione-disulfide reductase\",\n",
    "    subsystem=\"Misc.\",\n",
    "    reversible=True)\n",
    "GSHR.add_metabolites({\n",
    "    gthrd_c: -2,\n",
    "    gthox_c: 1,\n",
    "    h_c: 2})"
   ]
  },
  {
   "cell_type": "markdown",
   "metadata": {},
   "source": [
    "After generating the reactions, all reactions are added to the model through the `MassModel.add_reactions` class method. Adding the `MassReaction` objects will also add their associated `MassMetabolite` objects if they have not already been added to the model. "
   ]
  },
  {
   "cell_type": "code",
   "execution_count": 5,
   "metadata": {
    "execution": {
     "iopub.execute_input": "2021-01-25T17:59:08.272037Z",
     "iopub.status.busy": "2021-01-25T17:59:08.271240Z",
     "iopub.status.idle": "2021-01-25T17:59:08.275580Z",
     "shell.execute_reply": "2021-01-25T17:59:08.276363Z"
    }
   },
   "outputs": [
    {
     "name": "stdout",
     "output_type": "stream",
     "text": [
      "G6PDH2r: g6p_c + nadp_c <=> _6pgl_c + h_c + nadph_c\n",
      "PGL: _6pgl_c + h2o_c <=> _6pgc_c + h_c\n",
      "GND: _6pgc_c + nadp_c <=> co2_c + nadph_c + ru5p__D_c\n",
      "RPI: ru5p__D_c <=> r5p_c\n",
      "RPE: ru5p__D_c <=> xu5p__D_c\n",
      "TKT1: r5p_c + xu5p__D_c <=> g3p_c + s7p_c\n",
      "TALA: g3p_c + s7p_c <=> e4p_c + f6p_c\n",
      "TKT2: e4p_c + xu5p__D_c <=> f6p_c + g3p_c\n",
      "GTHOr: gthox_c + h_c + nadph_c <=> 2 gthrd_c + nadp_c\n",
      "GSHR: 2 gthrd_c <=> gthox_c + 2 h_c\n"
     ]
    }
   ],
   "source": [
    "ppp.add_reactions([\n",
    "    G6PDH2r, PGL, GND, RPI, RPE, TKT1, TALA, TKT2, GTHOr, GSHR])\n",
    "\n",
    "for reaction in ppp.reactions:\n",
    "    print(reaction)"
   ]
  },
  {
   "cell_type": "markdown",
   "metadata": {},
   "source": [
    "### Boundary reactions\n",
    "\n",
    "After generating the reactions, the next step is to add the boundary reactions and boundary conditions (the concentrations of the boundary 'metabolites' of the system). This can easily be done using the `MassModel.add_boundary` method. With the generation of the boundary reactions, the system becomes an open system, allowing for the flow of mass through the biochemical pathways of the model. Once added, the model will be able to return the boundary conditions as a dictionary through the `MassModel.boundary_conditions` attribute.\n",
    "\n",
    "All boundary reactions are originally created with the metabolite as the reactant. However, there are times where it would be preferable to represent the metabolite as the product. For these situtations, the `MassReaction.reverse_stoichiometry` method can be used with its `inplace` argument to create a new `MassReaction` or simply reverse the stoichiometry for the current `MassReaction.` \n",
    "\n",
    "In this model, there are 7 boundary reactions that must be defined."
   ]
  },
  {
   "cell_type": "code",
   "execution_count": 6,
   "metadata": {
    "execution": {
     "iopub.execute_input": "2021-01-25T17:59:08.300238Z",
     "iopub.status.busy": "2021-01-25T17:59:08.299573Z",
     "iopub.status.idle": "2021-01-25T17:59:08.302250Z",
     "shell.execute_reply": "2021-01-25T17:59:08.302701Z"
    }
   },
   "outputs": [
    {
     "name": "stdout",
     "output_type": "stream",
     "text": [
      "Boundary Reactions and Values\n",
      "-----------------------------\n",
      "DM_f6p_c: f6p_c --> \n",
      "f6p_b: 1.0\n",
      "\n",
      "DM_r5p_c: r5p_c --> \n",
      "r5p_b: 1.0\n",
      "\n",
      "DM_g3p_c: g3p_c --> \n",
      "g3p_b: 1.0\n",
      "\n",
      "SK_g6p_c:  <=> g6p_c\n",
      "g6p_b: 1.0\n",
      "\n",
      "SK_h_c: h_c <=> \n",
      "h_b: 6.30957e-05\n",
      "\n",
      "SK_h2o_c: h2o_c <=> \n",
      "h2o_b: 1.0\n",
      "\n",
      "SK_co2_c: co2_c <=> \n",
      "co2_b: 1.0\n",
      "\n"
     ]
    }
   ],
   "source": [
    "DM_f6p_c = ppp.add_boundary(\n",
    "    metabolite=f6p_c, boundary_type=\"demand\", subsystem=\"Pseudoreaction\",\n",
    "    boundary_condition=1)\n",
    "\n",
    "DM_r5p_c = ppp.add_boundary(\n",
    "    metabolite=r5p_c, boundary_type=\"demand\", subsystem=\"Pseudoreaction\",\n",
    "    boundary_condition=1)\n",
    "\n",
    "DM_g3p_c = ppp.add_boundary(\n",
    "    metabolite=g3p_c, boundary_type=\"demand\", subsystem=\"Pseudoreaction\",\n",
    "    boundary_condition=1)\n",
    "SK_g6p_c = ppp.add_boundary(\n",
    "    metabolite=g6p_c, boundary_type=\"sink\", subsystem=\"Pseudoreaction\",\n",
    "    boundary_condition=1)\n",
    "SK_g6p_c.reverse_stoichiometry(inplace=True)\n",
    "\n",
    "SK_h_c = ppp.add_boundary(\n",
    "    metabolite=h_c, boundary_type=\"sink\", subsystem=\"Pseudoreaction\",\n",
    "    boundary_condition=6.30957e-05)\n",
    "\n",
    "SK_h2o_c = ppp.add_boundary(\n",
    "    metabolite=h2o_c, boundary_type=\"sink\", subsystem=\"Pseudoreaction\",\n",
    "    boundary_condition=1)\n",
    "\n",
    "SK_co2_c = ppp.add_boundary(\n",
    "    metabolite=co2_c, boundary_type=\"sink\", subsystem=\"Pseudoreaction\",\n",
    "    boundary_condition=1)\n",
    "\n",
    "print(\"Boundary Reactions and Values\\n-----------------------------\")\n",
    "for reaction in ppp.boundary:\n",
    "    boundary_met = reaction.boundary_metabolite\n",
    "    bc_value = ppp.boundary_conditions.get(boundary_met)\n",
    "    print(\"{0}\\n{1}: {2}\\n\".format(\n",
    "        reaction, boundary_met, bc_value))"
   ]
  },
  {
   "cell_type": "markdown",
   "metadata": {},
   "source": [
    "### Ordering of internal species and reactions\n",
    "\n",
    "Sometimes, it is also desirable to reorder the metabolite and reaction objects inside the model to follow the physiology. To reorder the internal objects, one can use `cobra.DictList` containers and the `DictList.get_by_any` method with the list of object identifiers in the desirable order. To ensure all objects are still present and not forgotten in the model, a small QA check is also performed. "
   ]
  },
  {
   "cell_type": "code",
   "execution_count": 7,
   "metadata": {
    "execution": {
     "iopub.execute_input": "2021-01-25T17:59:08.311205Z",
     "iopub.status.busy": "2021-01-25T17:59:08.310539Z",
     "iopub.status.idle": "2021-01-25T17:59:08.328008Z",
     "shell.execute_reply": "2021-01-25T17:59:08.328449Z"
    }
   },
   "outputs": [
    {
     "data": {
      "text/html": [
       "<div>\n",
       "<style scoped>\n",
       "    .dataframe tbody tr th:only-of-type {\n",
       "        vertical-align: middle;\n",
       "    }\n",
       "\n",
       "    .dataframe tbody tr th {\n",
       "        vertical-align: top;\n",
       "    }\n",
       "\n",
       "    .dataframe thead th {\n",
       "        text-align: right;\n",
       "    }\n",
       "</style>\n",
       "<table border=\"1\" class=\"dataframe\">\n",
       "  <thead>\n",
       "    <tr style=\"text-align: right;\">\n",
       "      <th></th>\n",
       "      <th>G6PDH2r</th>\n",
       "      <th>PGL</th>\n",
       "      <th>GND</th>\n",
       "      <th>RPE</th>\n",
       "      <th>RPI</th>\n",
       "      <th>TKT1</th>\n",
       "      <th>TKT2</th>\n",
       "      <th>TALA</th>\n",
       "      <th>GTHOr</th>\n",
       "      <th>GSHR</th>\n",
       "      <th>SK_g6p_c</th>\n",
       "      <th>DM_f6p_c</th>\n",
       "      <th>DM_g3p_c</th>\n",
       "      <th>DM_r5p_c</th>\n",
       "      <th>SK_co2_c</th>\n",
       "      <th>SK_h_c</th>\n",
       "      <th>SK_h2o_c</th>\n",
       "    </tr>\n",
       "  </thead>\n",
       "  <tbody>\n",
       "    <tr>\n",
       "      <th>f6p_c</th>\n",
       "      <td>0</td>\n",
       "      <td>0</td>\n",
       "      <td>0</td>\n",
       "      <td>0</td>\n",
       "      <td>0</td>\n",
       "      <td>0</td>\n",
       "      <td>1</td>\n",
       "      <td>1</td>\n",
       "      <td>0</td>\n",
       "      <td>0</td>\n",
       "      <td>0</td>\n",
       "      <td>-1</td>\n",
       "      <td>0</td>\n",
       "      <td>0</td>\n",
       "      <td>0</td>\n",
       "      <td>0</td>\n",
       "      <td>0</td>\n",
       "    </tr>\n",
       "    <tr>\n",
       "      <th>g6p_c</th>\n",
       "      <td>-1</td>\n",
       "      <td>0</td>\n",
       "      <td>0</td>\n",
       "      <td>0</td>\n",
       "      <td>0</td>\n",
       "      <td>0</td>\n",
       "      <td>0</td>\n",
       "      <td>0</td>\n",
       "      <td>0</td>\n",
       "      <td>0</td>\n",
       "      <td>1</td>\n",
       "      <td>0</td>\n",
       "      <td>0</td>\n",
       "      <td>0</td>\n",
       "      <td>0</td>\n",
       "      <td>0</td>\n",
       "      <td>0</td>\n",
       "    </tr>\n",
       "    <tr>\n",
       "      <th>g3p_c</th>\n",
       "      <td>0</td>\n",
       "      <td>0</td>\n",
       "      <td>0</td>\n",
       "      <td>0</td>\n",
       "      <td>0</td>\n",
       "      <td>1</td>\n",
       "      <td>1</td>\n",
       "      <td>-1</td>\n",
       "      <td>0</td>\n",
       "      <td>0</td>\n",
       "      <td>0</td>\n",
       "      <td>0</td>\n",
       "      <td>-1</td>\n",
       "      <td>0</td>\n",
       "      <td>0</td>\n",
       "      <td>0</td>\n",
       "      <td>0</td>\n",
       "    </tr>\n",
       "    <tr>\n",
       "      <th>_6pgl_c</th>\n",
       "      <td>1</td>\n",
       "      <td>-1</td>\n",
       "      <td>0</td>\n",
       "      <td>0</td>\n",
       "      <td>0</td>\n",
       "      <td>0</td>\n",
       "      <td>0</td>\n",
       "      <td>0</td>\n",
       "      <td>0</td>\n",
       "      <td>0</td>\n",
       "      <td>0</td>\n",
       "      <td>0</td>\n",
       "      <td>0</td>\n",
       "      <td>0</td>\n",
       "      <td>0</td>\n",
       "      <td>0</td>\n",
       "      <td>0</td>\n",
       "    </tr>\n",
       "    <tr>\n",
       "      <th>_6pgc_c</th>\n",
       "      <td>0</td>\n",
       "      <td>1</td>\n",
       "      <td>-1</td>\n",
       "      <td>0</td>\n",
       "      <td>0</td>\n",
       "      <td>0</td>\n",
       "      <td>0</td>\n",
       "      <td>0</td>\n",
       "      <td>0</td>\n",
       "      <td>0</td>\n",
       "      <td>0</td>\n",
       "      <td>0</td>\n",
       "      <td>0</td>\n",
       "      <td>0</td>\n",
       "      <td>0</td>\n",
       "      <td>0</td>\n",
       "      <td>0</td>\n",
       "    </tr>\n",
       "    <tr>\n",
       "      <th>ru5p__D_c</th>\n",
       "      <td>0</td>\n",
       "      <td>0</td>\n",
       "      <td>1</td>\n",
       "      <td>-1</td>\n",
       "      <td>-1</td>\n",
       "      <td>0</td>\n",
       "      <td>0</td>\n",
       "      <td>0</td>\n",
       "      <td>0</td>\n",
       "      <td>0</td>\n",
       "      <td>0</td>\n",
       "      <td>0</td>\n",
       "      <td>0</td>\n",
       "      <td>0</td>\n",
       "      <td>0</td>\n",
       "      <td>0</td>\n",
       "      <td>0</td>\n",
       "    </tr>\n",
       "    <tr>\n",
       "      <th>xu5p__D_c</th>\n",
       "      <td>0</td>\n",
       "      <td>0</td>\n",
       "      <td>0</td>\n",
       "      <td>1</td>\n",
       "      <td>0</td>\n",
       "      <td>-1</td>\n",
       "      <td>-1</td>\n",
       "      <td>0</td>\n",
       "      <td>0</td>\n",
       "      <td>0</td>\n",
       "      <td>0</td>\n",
       "      <td>0</td>\n",
       "      <td>0</td>\n",
       "      <td>0</td>\n",
       "      <td>0</td>\n",
       "      <td>0</td>\n",
       "      <td>0</td>\n",
       "    </tr>\n",
       "    <tr>\n",
       "      <th>r5p_c</th>\n",
       "      <td>0</td>\n",
       "      <td>0</td>\n",
       "      <td>0</td>\n",
       "      <td>0</td>\n",
       "      <td>1</td>\n",
       "      <td>-1</td>\n",
       "      <td>0</td>\n",
       "      <td>0</td>\n",
       "      <td>0</td>\n",
       "      <td>0</td>\n",
       "      <td>0</td>\n",
       "      <td>0</td>\n",
       "      <td>0</td>\n",
       "      <td>-1</td>\n",
       "      <td>0</td>\n",
       "      <td>0</td>\n",
       "      <td>0</td>\n",
       "    </tr>\n",
       "    <tr>\n",
       "      <th>s7p_c</th>\n",
       "      <td>0</td>\n",
       "      <td>0</td>\n",
       "      <td>0</td>\n",
       "      <td>0</td>\n",
       "      <td>0</td>\n",
       "      <td>1</td>\n",
       "      <td>0</td>\n",
       "      <td>-1</td>\n",
       "      <td>0</td>\n",
       "      <td>0</td>\n",
       "      <td>0</td>\n",
       "      <td>0</td>\n",
       "      <td>0</td>\n",
       "      <td>0</td>\n",
       "      <td>0</td>\n",
       "      <td>0</td>\n",
       "      <td>0</td>\n",
       "    </tr>\n",
       "    <tr>\n",
       "      <th>e4p_c</th>\n",
       "      <td>0</td>\n",
       "      <td>0</td>\n",
       "      <td>0</td>\n",
       "      <td>0</td>\n",
       "      <td>0</td>\n",
       "      <td>0</td>\n",
       "      <td>-1</td>\n",
       "      <td>1</td>\n",
       "      <td>0</td>\n",
       "      <td>0</td>\n",
       "      <td>0</td>\n",
       "      <td>0</td>\n",
       "      <td>0</td>\n",
       "      <td>0</td>\n",
       "      <td>0</td>\n",
       "      <td>0</td>\n",
       "      <td>0</td>\n",
       "    </tr>\n",
       "    <tr>\n",
       "      <th>nadp_c</th>\n",
       "      <td>-1</td>\n",
       "      <td>0</td>\n",
       "      <td>-1</td>\n",
       "      <td>0</td>\n",
       "      <td>0</td>\n",
       "      <td>0</td>\n",
       "      <td>0</td>\n",
       "      <td>0</td>\n",
       "      <td>1</td>\n",
       "      <td>0</td>\n",
       "      <td>0</td>\n",
       "      <td>0</td>\n",
       "      <td>0</td>\n",
       "      <td>0</td>\n",
       "      <td>0</td>\n",
       "      <td>0</td>\n",
       "      <td>0</td>\n",
       "    </tr>\n",
       "    <tr>\n",
       "      <th>nadph_c</th>\n",
       "      <td>1</td>\n",
       "      <td>0</td>\n",
       "      <td>1</td>\n",
       "      <td>0</td>\n",
       "      <td>0</td>\n",
       "      <td>0</td>\n",
       "      <td>0</td>\n",
       "      <td>0</td>\n",
       "      <td>-1</td>\n",
       "      <td>0</td>\n",
       "      <td>0</td>\n",
       "      <td>0</td>\n",
       "      <td>0</td>\n",
       "      <td>0</td>\n",
       "      <td>0</td>\n",
       "      <td>0</td>\n",
       "      <td>0</td>\n",
       "    </tr>\n",
       "    <tr>\n",
       "      <th>gthrd_c</th>\n",
       "      <td>0</td>\n",
       "      <td>0</td>\n",
       "      <td>0</td>\n",
       "      <td>0</td>\n",
       "      <td>0</td>\n",
       "      <td>0</td>\n",
       "      <td>0</td>\n",
       "      <td>0</td>\n",
       "      <td>2</td>\n",
       "      <td>-2</td>\n",
       "      <td>0</td>\n",
       "      <td>0</td>\n",
       "      <td>0</td>\n",
       "      <td>0</td>\n",
       "      <td>0</td>\n",
       "      <td>0</td>\n",
       "      <td>0</td>\n",
       "    </tr>\n",
       "    <tr>\n",
       "      <th>gthox_c</th>\n",
       "      <td>0</td>\n",
       "      <td>0</td>\n",
       "      <td>0</td>\n",
       "      <td>0</td>\n",
       "      <td>0</td>\n",
       "      <td>0</td>\n",
       "      <td>0</td>\n",
       "      <td>0</td>\n",
       "      <td>-1</td>\n",
       "      <td>1</td>\n",
       "      <td>0</td>\n",
       "      <td>0</td>\n",
       "      <td>0</td>\n",
       "      <td>0</td>\n",
       "      <td>0</td>\n",
       "      <td>0</td>\n",
       "      <td>0</td>\n",
       "    </tr>\n",
       "    <tr>\n",
       "      <th>co2_c</th>\n",
       "      <td>0</td>\n",
       "      <td>0</td>\n",
       "      <td>1</td>\n",
       "      <td>0</td>\n",
       "      <td>0</td>\n",
       "      <td>0</td>\n",
       "      <td>0</td>\n",
       "      <td>0</td>\n",
       "      <td>0</td>\n",
       "      <td>0</td>\n",
       "      <td>0</td>\n",
       "      <td>0</td>\n",
       "      <td>0</td>\n",
       "      <td>0</td>\n",
       "      <td>-1</td>\n",
       "      <td>0</td>\n",
       "      <td>0</td>\n",
       "    </tr>\n",
       "    <tr>\n",
       "      <th>h_c</th>\n",
       "      <td>1</td>\n",
       "      <td>1</td>\n",
       "      <td>0</td>\n",
       "      <td>0</td>\n",
       "      <td>0</td>\n",
       "      <td>0</td>\n",
       "      <td>0</td>\n",
       "      <td>0</td>\n",
       "      <td>-1</td>\n",
       "      <td>2</td>\n",
       "      <td>0</td>\n",
       "      <td>0</td>\n",
       "      <td>0</td>\n",
       "      <td>0</td>\n",
       "      <td>0</td>\n",
       "      <td>-1</td>\n",
       "      <td>0</td>\n",
       "    </tr>\n",
       "    <tr>\n",
       "      <th>h2o_c</th>\n",
       "      <td>0</td>\n",
       "      <td>-1</td>\n",
       "      <td>0</td>\n",
       "      <td>0</td>\n",
       "      <td>0</td>\n",
       "      <td>0</td>\n",
       "      <td>0</td>\n",
       "      <td>0</td>\n",
       "      <td>0</td>\n",
       "      <td>0</td>\n",
       "      <td>0</td>\n",
       "      <td>0</td>\n",
       "      <td>0</td>\n",
       "      <td>0</td>\n",
       "      <td>0</td>\n",
       "      <td>0</td>\n",
       "      <td>-1</td>\n",
       "    </tr>\n",
       "  </tbody>\n",
       "</table>\n",
       "</div>"
      ],
      "text/plain": [
       "           G6PDH2r  PGL  GND  RPE  RPI  TKT1  TKT2  TALA  GTHOr  GSHR  \\\n",
       "f6p_c            0    0    0    0    0     0     1     1      0     0   \n",
       "g6p_c           -1    0    0    0    0     0     0     0      0     0   \n",
       "g3p_c            0    0    0    0    0     1     1    -1      0     0   \n",
       "_6pgl_c          1   -1    0    0    0     0     0     0      0     0   \n",
       "_6pgc_c          0    1   -1    0    0     0     0     0      0     0   \n",
       "ru5p__D_c        0    0    1   -1   -1     0     0     0      0     0   \n",
       "xu5p__D_c        0    0    0    1    0    -1    -1     0      0     0   \n",
       "r5p_c            0    0    0    0    1    -1     0     0      0     0   \n",
       "s7p_c            0    0    0    0    0     1     0    -1      0     0   \n",
       "e4p_c            0    0    0    0    0     0    -1     1      0     0   \n",
       "nadp_c          -1    0   -1    0    0     0     0     0      1     0   \n",
       "nadph_c          1    0    1    0    0     0     0     0     -1     0   \n",
       "gthrd_c          0    0    0    0    0     0     0     0      2    -2   \n",
       "gthox_c          0    0    0    0    0     0     0     0     -1     1   \n",
       "co2_c            0    0    1    0    0     0     0     0      0     0   \n",
       "h_c              1    1    0    0    0     0     0     0     -1     2   \n",
       "h2o_c            0   -1    0    0    0     0     0     0      0     0   \n",
       "\n",
       "           SK_g6p_c  DM_f6p_c  DM_g3p_c  DM_r5p_c  SK_co2_c  SK_h_c  SK_h2o_c  \n",
       "f6p_c             0        -1         0         0         0       0         0  \n",
       "g6p_c             1         0         0         0         0       0         0  \n",
       "g3p_c             0         0        -1         0         0       0         0  \n",
       "_6pgl_c           0         0         0         0         0       0         0  \n",
       "_6pgc_c           0         0         0         0         0       0         0  \n",
       "ru5p__D_c         0         0         0         0         0       0         0  \n",
       "xu5p__D_c         0         0         0         0         0       0         0  \n",
       "r5p_c             0         0         0        -1         0       0         0  \n",
       "s7p_c             0         0         0         0         0       0         0  \n",
       "e4p_c             0         0         0         0         0       0         0  \n",
       "nadp_c            0         0         0         0         0       0         0  \n",
       "nadph_c           0         0         0         0         0       0         0  \n",
       "gthrd_c           0         0         0         0         0       0         0  \n",
       "gthox_c           0         0         0         0         0       0         0  \n",
       "co2_c             0         0         0         0        -1       0         0  \n",
       "h_c               0         0         0         0         0      -1         0  \n",
       "h2o_c             0         0         0         0         0       0        -1  "
      ]
     },
     "execution_count": 7,
     "metadata": {},
     "output_type": "execute_result"
    }
   ],
   "source": [
    "new_metabolite_order = [\n",
    "    \"f6p_c\", \"g6p_c\", \"g3p_c\", \"_6pgl_c\", \"_6pgc_c\",\n",
    "    \"ru5p__D_c\", \"xu5p__D_c\", \"r5p_c\", \"s7p_c\", \"e4p_c\",\n",
    "    \"nadp_c\", \"nadph_c\", \"gthrd_c\", \"gthox_c\", \"co2_c\",\n",
    "    \"h_c\", \"h2o_c\"]\n",
    "\n",
    "if len(ppp.metabolites) == len(new_metabolite_order):\n",
    "    ppp.metabolites = DictList(\n",
    "        ppp.metabolites.get_by_any(new_metabolite_order))\n",
    "    \n",
    "new_reaction_order = [\n",
    "    \"G6PDH2r\", \"PGL\", \"GND\", \"RPE\", \"RPI\",\n",
    "    \"TKT1\", \"TKT2\", \"TALA\", \"GTHOr\", \"GSHR\",\n",
    "    \"SK_g6p_c\", \"DM_f6p_c\", \"DM_g3p_c\",\"DM_r5p_c\", \n",
    "    \"SK_co2_c\", \"SK_h_c\", \"SK_h2o_c\"]\n",
    "\n",
    "if len(ppp.reactions) == len(new_reaction_order):\n",
    "    ppp.reactions = DictList(\n",
    "        ppp.reactions.get_by_any(new_reaction_order))\n",
    "    \n",
    "ppp.update_S(array_type=\"DataFrame\", dtype=int)"
   ]
  },
  {
   "cell_type": "markdown",
   "metadata": {},
   "source": [
    "## Model Parameterization\n",
    "### Steady State fluxes\n",
    "Steady state fluxes can be computed as a summation of the MinSpan pathway vectors. Pathways are obtained using [MinSpan](https://github.com/SBRG/minspan). \n",
    "\n",
    "Using these pathways and literature sources, independent fluxes can be defined in order to calculate the steady state flux vector. For this model, the flux of glucose-6-phosphate uptake is fixed at 0.21 mM/hr, and the flux of Alpha-D-Ribose 5-phosphate uptake is fixed at 0.01 mM/hr. The former value represents a typical flux through the pentose pathway while the latter will couple at a low flux level to the AMP pathways \n",
    "\n",
    "With these pathays and numerical values, the steady state flux vector can be computed as the weighted sum of the corresponding basis vectors. The steady state flux vector is computed as an inner product:"
   ]
  },
  {
   "cell_type": "code",
   "execution_count": 8,
   "metadata": {
    "execution": {
     "iopub.execute_input": "2021-01-25T17:59:08.335384Z",
     "iopub.status.busy": "2021-01-25T17:59:08.334470Z",
     "iopub.status.idle": "2021-01-25T17:59:08.338324Z",
     "shell.execute_reply": "2021-01-25T17:59:08.337597Z"
    }
   },
   "outputs": [
    {
     "name": "stdout",
     "output_type": "stream",
     "text": [
      "Steady State Fluxes\n",
      "-------------------\n",
      "v_G6PDH2r: 0.210000\n",
      "v_PGL: 0.210000\n",
      "v_GND: 0.210000\n",
      "v_RPE: 0.133333\n",
      "v_RPI: 0.076667\n",
      "v_TKT1: 0.066667\n",
      "v_TKT2: 0.066667\n",
      "v_TALA: 0.066667\n",
      "v_GTHOr: 0.420000\n",
      "v_GSHR: 0.420000\n",
      "v_SK_g6p_c: 0.210000\n",
      "v_DM_f6p_c: 0.133333\n",
      "v_DM_g3p_c: 0.066667\n",
      "v_DM_r5p_c: 0.010000\n",
      "v_SK_co2_c: 0.210000\n",
      "v_SK_h_c: 0.840000\n",
      "v_SK_h2o_c: -0.210000\n"
     ]
    }
   ],
   "source": [
    "minspan_paths = [\n",
    "    [1, 1, 1, 2/3, 1/3, 1/3, 1/3, 1/3, 2, 2, 1, 2/3, 1/3, 0, 1, 4, -1],\n",
    "    [1, 1, 1,  0,   1,   0,   0,   0,  2, 2, 1,  0,   0,  1, 1, 4, -1]]\n",
    "ppp.compute_steady_state_fluxes(\n",
    "    pathways=minspan_paths,\n",
    "    independent_fluxes={\n",
    "        SK_g6p_c: 0.21,\n",
    "        DM_r5p_c: 0.01},\n",
    "    update_reactions=True)\n",
    "\n",
    "print(\"Steady State Fluxes\\n-------------------\")\n",
    "for reaction, steady_state_flux in ppp.steady_state_fluxes.items():\n",
    "    print(\"{0}: {1:.6f}\".format(reaction.flux_symbol_str, steady_state_flux))"
   ]
  },
  {
   "cell_type": "markdown",
   "metadata": {},
   "source": [
    "### Initial Conditions\n",
    "\n",
    "Once the network has been built, the concentrations can be added to the metabolites. These concentrations are also treated as the initial conditions required to integrate and simulate the model's ordinary differential equations (ODEs). The metabolite concentrations are added to each individual metabolite using the `MassMetabolite.initial_condition` (alias: `MassMetabolite.ic`) attribute setter methods. Once added, the model will be able to return the initial conditions as a dictionary through the `MassModel.initial_conditions` attribute."
   ]
  },
  {
   "cell_type": "code",
   "execution_count": 9,
   "metadata": {
    "execution": {
     "iopub.execute_input": "2021-01-25T17:59:08.345359Z",
     "iopub.status.busy": "2021-01-25T17:59:08.344561Z",
     "iopub.status.idle": "2021-01-25T17:59:08.348042Z",
     "shell.execute_reply": "2021-01-25T17:59:08.348712Z"
    }
   },
   "outputs": [
    {
     "name": "stdout",
     "output_type": "stream",
     "text": [
      "Initial Conditions\n",
      "------------------\n",
      "f6p_c: 0.0198\n",
      "g6p_c: 0.0486\n",
      "g3p_c: 0.00728\n",
      "_6pgl_c: 0.00175424\n",
      "_6pgc_c: 0.0374753\n",
      "ru5p__D_c: 0.00493679\n",
      "xu5p__D_c: 0.0147842\n",
      "r5p_c: 0.0126689\n",
      "s7p_c: 0.023988\n",
      "e4p_c: 0.00507507\n",
      "nadp_c: 0.0002\n",
      "nadph_c: 0.0658\n",
      "gthrd_c: 3.2\n",
      "gthox_c: 0.12\n",
      "co2_c: 1\n",
      "h_c: 7.14957e-05\n",
      "h2o_c: 1\n"
     ]
    }
   ],
   "source": [
    "g6p_c.ic = 0.0486\n",
    "f6p_c.ic = 0.0198\n",
    "g3p_c.ic = 0.00728\n",
    "_6pgl_c.ic = 0.00175424\n",
    "_6pgc_c.ic = 0.0374753\n",
    "ru5p__D_c.ic = 0.00493679\n",
    "xu5p__D_c.ic = 0.0147842\n",
    "r5p_c.ic = 0.0126689\n",
    "s7p_c.ic = 0.023988\n",
    "e4p_c.ic = 0.00507507\n",
    "nadp_c.ic = 0.0002\n",
    "nadph_c.ic = 0.0658\n",
    "gthrd_c.ic = 3.2\n",
    "gthox_c.ic = 0.12\n",
    "co2_c.ic = 1\n",
    "h_c.ic = 0.0000714957\n",
    "h2o_c.ic = 1\n",
    "\n",
    "print(\"Initial Conditions\\n------------------\")\n",
    "for metabolite, ic_value in ppp.initial_conditions.items():\n",
    "    print(\"{0}: {1}\".format(metabolite, ic_value))"
   ]
  },
  {
   "cell_type": "markdown",
   "metadata": {},
   "source": [
    "### Equilibirum Constants\n",
    "\n",
    "After adding initial conditions and steady state fluxes, the equilibrium constants are defined using the `MassReaction.equilibrium_constant` (alias: `MassReaction.Keq`) setter method. "
   ]
  },
  {
   "cell_type": "code",
   "execution_count": 10,
   "metadata": {
    "execution": {
     "iopub.execute_input": "2021-01-25T17:59:08.355395Z",
     "iopub.status.busy": "2021-01-25T17:59:08.354614Z",
     "iopub.status.idle": "2021-01-25T17:59:08.357340Z",
     "shell.execute_reply": "2021-01-25T17:59:08.357807Z"
    }
   },
   "outputs": [
    {
     "name": "stdout",
     "output_type": "stream",
     "text": [
      "Equilibrium Constants\n",
      "---------------------\n",
      "Keq_G6PDH2r: 1000\n",
      "Keq_PGL: 1000\n",
      "Keq_GND: 1000\n",
      "Keq_RPE: 3\n",
      "Keq_RPI: 2.57\n",
      "Keq_TKT1: 1.2\n",
      "Keq_TKT2: 10.3\n",
      "Keq_TALA: 1.05\n",
      "Keq_GTHOr: 100\n",
      "Keq_GSHR: 2\n",
      "Keq_SK_g6p_c: 1\n",
      "Keq_DM_f6p_c: inf\n",
      "Keq_DM_g3p_c: inf\n",
      "Keq_DM_r5p_c: inf\n",
      "Keq_SK_co2_c: 1\n",
      "Keq_SK_h_c: 1\n",
      "Keq_SK_h2o_c: 1\n"
     ]
    }
   ],
   "source": [
    "G6PDH2r.Keq = 1000\n",
    "PGL.Keq = 1000\n",
    "GND.Keq = 1000\n",
    "RPE.Keq = 3\n",
    "RPI.Keq = 2.57\n",
    "TKT1.Keq = 1.2\n",
    "TKT2.Keq = 10.3\n",
    "TALA.Keq = 1.05\n",
    "GTHOr.Keq = 100\n",
    "GSHR.Keq = 2\n",
    "\n",
    "SK_g6p_c.Keq = 1\n",
    "SK_h_c.Keq = 1\n",
    "SK_h2o_c.Keq = 1\n",
    "SK_co2_c.Keq = 1\n",
    "\n",
    "print(\"Equilibrium Constants\\n---------------------\")\n",
    "for reaction in ppp.reactions:\n",
    "    print(\"{0}: {1}\".format(reaction.Keq_str, reaction.Keq))"
   ]
  },
  {
   "cell_type": "markdown",
   "metadata": {},
   "source": [
    "### Calculation of PERCs\n",
    "By defining the equilibrium constant and steady state parameters, the values of the pseudo rate constants (PERCs) can be calculated and added to the model using the `MassModel.calculate_PERCs` method."
   ]
  },
  {
   "cell_type": "code",
   "execution_count": 11,
   "metadata": {
    "execution": {
     "iopub.execute_input": "2021-01-25T17:59:08.426889Z",
     "iopub.status.busy": "2021-01-25T17:59:08.399137Z",
     "iopub.status.idle": "2021-01-25T17:59:09.124128Z",
     "shell.execute_reply": "2021-01-25T17:59:09.123574Z"
    },
    "scrolled": false
   },
   "outputs": [
    {
     "name": "stdout",
     "output_type": "stream",
     "text": [
      "Forward Rate Constants\n",
      "----------------------\n",
      "kf_G6PDH2r: 21864.589249\n",
      "kf_PGL: 122.323112\n",
      "kf_GND: 29287.807474\n",
      "kf_RPE: 15284.677111\n",
      "kf_RPI: 10564.620051\n",
      "kf_TKT1: 1595.951975\n",
      "kf_TKT2: 1092.246435\n",
      "kf_TALA: 844.616138\n",
      "kf_GTHOr: 53.329812\n",
      "kf_GSHR: 0.041257\n",
      "kf_SK_g6p_c: 0.220727\n",
      "kf_DM_f6p_c: 6.734007\n",
      "kf_DM_g3p_c: 9.157509\n",
      "kf_DM_r5p_c: 0.789335\n",
      "kf_SK_co2_c: 100000.000000\n",
      "kf_SK_h_c: 100000.000000\n",
      "kf_SK_h2o_c: 100000.000000\n"
     ]
    }
   ],
   "source": [
    "ppp.calculate_PERCs(update_reactions=True)\n",
    "\n",
    "print(\"Forward Rate Constants\\n----------------------\")\n",
    "for reaction in ppp.reactions:\n",
    "    print(\"{0}: {1:.6f}\".format(reaction.kf_str, reaction.kf))"
   ]
  },
  {
   "cell_type": "markdown",
   "metadata": {},
   "source": [
    "## QC/QA Model\n",
    "\n",
    "Before simulating the model, it is important to ensure that the model is elementally balanced, and that the model can simulate. Therefore, the `qcqa_model` function from the `mass.util.qcqa` submodule is used to provide a report on the model quality and indicate whether simulation is possible and if not, what parameters and/or initial conditions are missing. \n",
    "\n",
    "Generally, pseudoreactions (e.g. boundary exchanges, sinks, demands) are not elementally balanced. The `qcqa_model` function does not include elemental balancing of boundary reactions. However, some models contain pseudoreactions reprsenting a simplified mechanism, and show up in the returned report. The elemental imbalance of these pseudoreactions is therefore expected in certain reaction and should not be a cause for concern. \n",
    "\n",
    "In this model of the PPP, the GSHR reaction is a simplified pseudoreaction that represents oxidative stress due to gluthathione and is not expected to be balanced."
   ]
  },
  {
   "cell_type": "code",
   "execution_count": 12,
   "metadata": {
    "execution": {
     "iopub.execute_input": "2021-01-25T17:59:09.134481Z",
     "iopub.status.busy": "2021-01-25T17:59:09.133573Z",
     "iopub.status.idle": "2021-01-25T17:59:09.136921Z",
     "shell.execute_reply": "2021-01-25T17:59:09.137430Z"
    }
   },
   "outputs": [
    {
     "name": "stdout",
     "output_type": "stream",
     "text": [
      "╒══════════════════════════════════════════════╕\n",
      "│ MODEL ID: PentosePhosphatePathway            │\n",
      "│ SIMULATABLE: True                            │\n",
      "│ PARAMETERS NUMERICALY CONSISTENT: True       │\n",
      "╞══════════════════════════════════════════════╡\n",
      "│ ============================================ │\n",
      "│             CONSISTENCY CHECKS               │\n",
      "│ ============================================ │\n",
      "│ Elemental                                    │\n",
      "│ -------------------                          │\n",
      "│ GSHR: {charge: 2.0}                          │\n",
      "│ ============================================ │\n",
      "╘══════════════════════════════════════════════╛\n"
     ]
    }
   ],
   "source": [
    "qcqa_model(ppp, parameters=True, concentrations=True, \n",
    "           fluxes=True, superfluous=True, elemental=True)"
   ]
  },
  {
   "cell_type": "markdown",
   "metadata": {},
   "source": [
    "From the results of the QC/QA test, it can be seen that the model can be simulated and is numerically consistent."
   ]
  },
  {
   "cell_type": "markdown",
   "metadata": {},
   "source": [
    "## Steady State and Model Validation \n",
    "\n",
    "To find the steady state of the model and perform simulations, the model must first be loaded into a `Simulation`. In order to load a model into a `Simulation`, the model must be simulatable, meaning there are no missing numerical values that would prevent the integration of the ODEs that comprise the model. The `verbose` argument can be used while loading a model to produce a message indicating the successful loading of a model, or why a model could not load.\n",
    "\n",
    "Once loaded into a `Simulation`, the `find_steady_state` method can be used with the `update_values` argument in order to update the initial conditions and fluxes of the model to a steady state (if necessary). The model can be simulated using the `simulate` method by passing the model to simulate, and a tuple containing the start time and the end time. The number of time points can also be included, but is optional.\n",
    "\n",
    "After a successful simulation, two `MassSolution` objects are returned. The first `MassSolution` contains the concentration results of the simulation, and the second contains the flux results of the simulation. \n",
    "\n",
    "To visually validate the steady state of the model, concentration and flux solutions can be plotted using the `plot_time_profile` function from `mass.visualization`. Alternatively, the `MassSolution.view_time_profile` property can be used to quickly generate a time profile for the results."
   ]
  },
  {
   "cell_type": "code",
   "execution_count": 13,
   "metadata": {
    "execution": {
     "iopub.execute_input": "2021-01-25T17:59:09.200040Z",
     "iopub.status.busy": "2021-01-25T17:59:09.181437Z",
     "iopub.status.idle": "2021-01-25T17:59:11.203791Z",
     "shell.execute_reply": "2021-01-25T17:59:11.204297Z"
    }
   },
   "outputs": [
    {
     "name": "stdout",
     "output_type": "stream",
     "text": [
      "Successfully loaded MassModel 'PentosePhosphatePathway' into RoadRunner.\n"
     ]
    },
    {
     "data": {
      "image/png": "[encoded data removed]",
      "text/plain": [
       "<Figure size 432x288 with 1 Axes>"
      ]
     },
     "metadata": {
      "needs_background": "light"
     },
     "output_type": "display_data"
    }
   ],
   "source": [
    "# Setup simulation object\n",
    "sim = Simulation(ppp, verbose=True)\n",
    "# Simulate from 0 to 1000 with 10001 points in the output\n",
    "conc_sol, flux_sol = sim.simulate(ppp, time=(0, 1e3))\n",
    "# Quickly render and display time profiles\n",
    "conc_sol.view_time_profile()"
   ]
  },
  {
   "cell_type": "markdown",
   "metadata": {},
   "source": [
    "### Storing information and references\n",
    "#### Compartment\n",
    "Because the character \"c\" represents the cytosol compartment, it is recommended to define and set the compartment in the `MassModel.compartments` attribute."
   ]
  },
  {
   "cell_type": "code",
   "execution_count": 14,
   "metadata": {
    "execution": {
     "iopub.execute_input": "2021-01-25T17:59:11.208452Z",
     "iopub.status.busy": "2021-01-25T17:59:11.207773Z",
     "iopub.status.idle": "2021-01-25T17:59:11.213203Z",
     "shell.execute_reply": "2021-01-25T17:59:11.214016Z"
    },
    "scrolled": true
   },
   "outputs": [
    {
     "name": "stdout",
     "output_type": "stream",
     "text": [
      "{'c': 'Cytosol'}\n"
     ]
    }
   ],
   "source": [
    "ppp.compartments = {\"c\": \"Cytosol\"}\n",
    "print(ppp.compartments)"
   ]
  },
  {
   "cell_type": "markdown",
   "metadata": {},
   "source": [
    "#### Units\n",
    "All of the units for the numerical values used in this model are \"Millimoles\" for amount and \"Liters\" for volume (giving a concentration unit of 'Millimolar'), and \"Hours\" for time. In order to ensure that future users understand the numerical values for model, it is important to define the `MassModel.units` attribute.\n",
    "\n",
    "The `MassModel.units` is a `cobra.DictList` that contains only `UnitDefinition` objects from the `mass.core.unit` submodule. Each `UnitDefinition` is created from `Unit` objects representing the base units that comprise the `UnitDefinition`. These `Units` are stored in the `list_of_units` attribute. Pre-built units can be viewed using the `print_defined_unit_values` function from the `mass.core.unit` submodule. Alternatively, custom units can also be created using the `UnitDefinition.create_unit` method. For more information about units, please see the module docstring for `mass.core.unit` submodule.\n",
    "\n",
    "__Note:__ It is important to note that this attribute will NOT track units, but instead acts as a reference for the user and others so that they can perform necessary unit conversions."
   ]
  },
  {
   "cell_type": "code",
   "execution_count": 15,
   "metadata": {
    "execution": {
     "iopub.execute_input": "2021-01-25T17:59:11.219924Z",
     "iopub.status.busy": "2021-01-25T17:59:11.218999Z",
     "iopub.status.idle": "2021-01-25T17:59:11.221961Z",
     "shell.execute_reply": "2021-01-25T17:59:11.222418Z"
    }
   },
   "outputs": [
    {
     "name": "stdout",
     "output_type": "stream",
     "text": [
      "[<UnitDefinition Millimolar \"mM\" at 0x7fd9f93fd2b0>, <UnitDefinition hour \"hr\" at 0x7fd9f93fd190>]\n"
     ]
    }
   ],
   "source": [
    "# Using pre-build units to define UnitDefinitions\n",
    "concentration = UnitDefinition(\"mM\", name=\"Millimolar\",\n",
    "                               list_of_units=[\"millimole\", \"per_litre\"])\n",
    "time = UnitDefinition(\"hr\", name=\"hour\", list_of_units=[\"hour\"])\n",
    "\n",
    "# Add units to model\n",
    "ppp.add_units([concentration, time])\n",
    "print(ppp.units)"
   ]
  },
  {
   "cell_type": "markdown",
   "metadata": {},
   "source": [
    "## Export\n",
    "\n",
    "After validation, the model is ready to be saved. The model can either be exported as a \".json\" file or as an \".sbml\" (\".xml\") file using their repsective submodules in `mass.io`.\n",
    "\n",
    "To export the model, only the path to the directory and the model object itself need to be specified."
   ]
  },
  {
   "cell_type": "markdown",
   "metadata": {},
   "source": [
    "### Export using SBML"
   ]
  },
  {
   "cell_type": "code",
   "execution_count": 16,
   "metadata": {
    "execution": {
     "iopub.execute_input": "2021-01-25T17:59:11.308196Z",
     "iopub.status.busy": "2021-01-25T17:59:11.264596Z",
     "iopub.status.idle": "2021-01-25T17:59:11.667650Z",
     "shell.execute_reply": "2021-01-25T17:59:11.668175Z"
    },
    "scrolled": false
   },
   "outputs": [],
   "source": [
    "sbml.write_sbml_model(mass_model=ppp, filename=\"SB2_\" + ppp.id + \".xml\")"
   ]
  },
  {
   "cell_type": "markdown",
   "metadata": {},
   "source": [
    "### Export using JSON"
   ]
  },
  {
   "cell_type": "code",
   "execution_count": 17,
   "metadata": {
    "execution": {
     "iopub.execute_input": "2021-01-25T17:59:11.675728Z",
     "iopub.status.busy": "2021-01-25T17:59:11.674210Z",
     "iopub.status.idle": "2021-01-25T17:59:11.681406Z",
     "shell.execute_reply": "2021-01-25T17:59:11.681980Z"
    },
    "scrolled": false
   },
   "outputs": [],
   "source": [
    "json.save_json_model(mass_model=ppp, filename=\"SB2_\" + ppp.id + \".json\")"
   ]
  }
 ],
 "metadata": {
  "kernelspec": {
   "display_name": "Python 3 (ipykernel)",
   "language": "python",
   "name": "python3"
  },
  "language_info": {
   "codemirror_mode": {
    "name": "ipython",
    "version": 3
   },
   "file_extension": ".py",
   "mimetype": "text/x-python",
   "name": "python",
   "nbconvert_exporter": "python",
   "pygments_lexer": "ipython3",
   "version": "3.8.12"
  },
  "latex_envs": {
   "LaTeX_envs_menu_present": true,
   "autoclose": false,
   "autocomplete": true,
   "bibliofile": "biblio.bib",
   "cite_by": "apalike",
   "current_citInitial": 1,
   "eqLabelWithNumbers": true,
   "eqNumInitial": 1,
   "hotkeys": {
    "equation": "Ctrl-E",
    "itemize": "Ctrl-I"
   },
   "labels_anchors": false,
   "latex_user_defs": false,
   "report_style_numbering": false,
   "user_envs_cfg": false
  }
 },
 "nbformat": 4,
 "nbformat_minor": 2
}
