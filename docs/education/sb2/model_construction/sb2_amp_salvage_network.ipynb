{
 "cells": [
  {
   "cell_type": "markdown",
   "metadata": {},
   "source": [
    "# AMP Salvage Network Model Construction\n",
    "\n",
    "Based on Chapter 12 of <cite data-cite=\"Pal11\">Systems Biology: Simulation of Dynamic Network States</cite>\n",
    "\n",
    "To construct a model of the AMP Salvage Network (AMPSN), first we import **MASSpy** and other essential packages. Constants used throughout the notebook are also defined."
   ]
  },
  {
   "cell_type": "code",
   "execution_count": 1,
   "metadata": {
    "execution": {
     "iopub.execute_input": "2021-01-25T17:58:29.752944Z",
     "iopub.status.busy": "2021-01-25T17:58:29.752019Z",
     "iopub.status.idle": "2021-01-25T17:58:33.005908Z",
     "shell.execute_reply": "2021-01-25T17:58:33.006701Z"
    }
   },
   "outputs": [],
   "source": [
    "from os import path\n",
    "\n",
    "import matplotlib.pyplot as plt\n",
    "\n",
    "from cobra import DictList\n",
    "\n",
    "from mass import (\n",
    "    MassConfiguration, MassMetabolite, MassModel,\n",
    "    MassReaction, Simulation, UnitDefinition)\n",
    "from mass.io import json, sbml\n",
    "from mass.util.qcqa import qcqa_model\n",
    "\n",
    "mass_config = MassConfiguration()\n",
    "\n",
    "mass_config.irreversible_Keq = float(\"inf\")"
   ]
  },
  {
   "cell_type": "markdown",
   "metadata": {},
   "source": [
    "## Model Construction \n",
    "\n",
    "The first step of creating a model of the AMPSN is to define the `MassModel`. "
   ]
  },
  {
   "cell_type": "code",
   "execution_count": 2,
   "metadata": {
    "execution": {
     "iopub.execute_input": "2021-01-25T17:58:33.030487Z",
     "iopub.status.busy": "2021-01-25T17:58:33.014421Z",
     "iopub.status.idle": "2021-01-25T17:58:33.040552Z",
     "shell.execute_reply": "2021-01-25T17:58:33.041691Z"
    }
   },
   "outputs": [
    {
     "name": "stdout",
     "output_type": "stream",
     "text": [
      "Set parameter Username\n"
     ]
    }
   ],
   "source": [
    "ampsn = MassModel(\"AMPSalvageNetwork\")"
   ]
  },
  {
   "cell_type": "markdown",
   "metadata": {},
   "source": [
    "### Metabolites\n",
    "\n",
    "The next step is to define all of the metabolites using the `MassMetabolite` object. Some considerations for this step include the following:\n",
    "\n",
    "1. It is important to use a clear and consistent format for identifiers and names when defining the `MassMetabolite` objects for various reasons, some of which include improvements to model clarity and utility, assurance of unique identifiers (required to add metabolites to the model), and consistency when collaborating and communicating with others. \n",
    "\n",
    "2. In order to ensure our model is physiologically accurate, it is important to provide the `formula` argument with a string representing the chemical formula for each metabolite, and the `charge` argument with an integer representing the metabolite's ionic charge (Note that neutrally charged metabolites are provided with 0). These attributes can always be set later if necessary using the `formula` and `charge` attribute set methods.\n",
    "\n",
    "3. To indicate that the cytosol is the cellular compartment in which the reactions occur, the string \"c\" is provided to the `compartment` argument.\n",
    "\n",
    "This model will be created using identifiers and names found in the [BiGG Database](http://bigg.ucsd.edu/).\n",
    "\n",
    "In this model, there are 15 metabolites inside the cytosol compartment. "
   ]
  },
  {
   "cell_type": "code",
   "execution_count": 3,
   "metadata": {
    "execution": {
     "iopub.execute_input": "2021-01-25T17:58:33.049835Z",
     "iopub.status.busy": "2021-01-25T17:58:33.046357Z",
     "iopub.status.idle": "2021-01-25T17:58:33.067011Z",
     "shell.execute_reply": "2021-01-25T17:58:33.067524Z"
    }
   },
   "outputs": [],
   "source": [
    "adn_c = MassMetabolite(\n",
    "    \"adn_c\",\n",
    "    name=\"Adenosine\",\n",
    "    formula=\"C10H13N5O4\",\n",
    "    charge=0,\n",
    "    compartment=\"c\",\n",
    "    fixed=False)\n",
    "\n",
    "ade_c = MassMetabolite(\n",
    "    \"ade_c\",\n",
    "    name=\"Adenine\",\n",
    "    formula=\"C5H5N5\",\n",
    "    charge=0,\n",
    "    compartment=\"c\",\n",
    "    fixed=False)\n",
    "\n",
    "imp_c = MassMetabolite(\n",
    "    \"imp_c\",\n",
    "    name=\"Inosine monophosphate\",\n",
    "    formula=\"C10H11N4O8P\",\n",
    "    charge=-2,\n",
    "    compartment=\"c\",\n",
    "    fixed=False)\n",
    "\n",
    "ins_c = MassMetabolite(\n",
    "    \"ins_c\",\n",
    "    name=\"Inosine\",\n",
    "    formula=\"C10H12N4O5\",\n",
    "    charge=0,\n",
    "    compartment=\"c\",\n",
    "    fixed=False)\n",
    "\n",
    "hxan_c = MassMetabolite(\n",
    "    \"hxan_c\",\n",
    "    name=\"Hypoxanthine\",\n",
    "    formula=\"C5H4N4O\",\n",
    "    charge=0,\n",
    "    compartment=\"c\",\n",
    "    fixed=False)\n",
    "\n",
    "r1p_c = MassMetabolite(\n",
    "    \"r1p_c\",\n",
    "    name=\"Alpha-D-Ribose 1-phosphate\",\n",
    "    formula=\"C5H9O8P\",\n",
    "    charge=-2,\n",
    "    compartment=\"c\",\n",
    "    fixed=False)\n",
    "\n",
    "r5p_c = MassMetabolite(\n",
    "    \"r5p_c\",\n",
    "    name=\"Alpha-D-Ribose 5-phosphate\",\n",
    "    formula=\"C5H9O8P\",\n",
    "    charge=-2,\n",
    "    compartment=\"c\",\n",
    "    fixed=False)\n",
    "\n",
    "prpp_c = MassMetabolite(\n",
    "    \"prpp_c\",\n",
    "    name=\"5-Phospho-alpha-D-ribose 1-diphosphate\",\n",
    "    formula=\"C5H8O14P3\",\n",
    "    charge=-5,\n",
    "    compartment=\"c\",\n",
    "    fixed=False)\n",
    "\n",
    "atp_c = MassMetabolite(\n",
    "    \"atp_c\",\n",
    "    name=\"ATP\",\n",
    "    formula=\"C10H12N5O13P3\",\n",
    "    charge=-4,\n",
    "    compartment=\"c\",\n",
    "    fixed=False)\n",
    "\n",
    "adp_c = MassMetabolite(\n",
    "    \"adp_c\",\n",
    "    name=\"ADP\",\n",
    "    formula=\"C10H12N5O10P2\",\n",
    "    charge=-3,\n",
    "    compartment=\"c\",\n",
    "    fixed=False)\n",
    "\n",
    "amp_c = MassMetabolite(\n",
    "    \"amp_c\",\n",
    "    name=\"AMP\",\n",
    "    formula=\"C10H12N5O7P\",\n",
    "    charge=-2,\n",
    "    compartment=\"c\",\n",
    "    fixed=False)\n",
    "\n",
    "h_c = MassMetabolite(\n",
    "    \"h_c\",\n",
    "    name=\"H+\",\n",
    "    formula=\"H\",\n",
    "    charge=1,\n",
    "    compartment=\"c\",\n",
    "    fixed=False)\n",
    "\n",
    "h2o_c = MassMetabolite(\n",
    "    \"h2o_c\",\n",
    "    name=\"H2O\",\n",
    "    formula=\"H2O\",\n",
    "    charge=0,\n",
    "    compartment=\"c\",\n",
    "    fixed=False)\n",
    "\n",
    "pi_c = MassMetabolite(\n",
    "    \"pi_c\",\n",
    "    name=\"Phosphate\",\n",
    "    formula=\"HPO4\",\n",
    "    charge=-2,\n",
    "    compartment=\"c\",\n",
    "    fixed=False)\n",
    "\n",
    "nh3_c = MassMetabolite(\n",
    "    \"nh3_c\",\n",
    "    name=\"Ammonia\",\n",
    "    formula=\"H3N\",\n",
    "    charge=0,\n",
    "    compartment=\"c\",\n",
    "    fixed=False)"
   ]
  },
  {
   "cell_type": "markdown",
   "metadata": {},
   "source": [
    "### Reactions\n",
    "\n",
    "Once all of the `MassMetabolite` objects for each metabolite, the next step is to define all of the reactions that occur and their stoichiometry.\n",
    "\n",
    "1. As with the metabolites, it is also important to use a clear and consistent format for identifiers and names when defining when defining the `MassReaction` objects.\n",
    "\n",
    "2. To make this model useful for integration with other models, it is important to provide a string to the `subsystem` argument. By providing the subsystem, the reactions can be easily obtained even when integrated with a significantly larger model through the `subsystem` attribute.\n",
    "\n",
    "3. After the creation of each `MassReaction` object, the metabolites are added to the reaction using a dictionary where keys are the `MassMetabolite` objects and values are the stoichiometric coefficients (reactants have negative coefficients, products have positive ones). \n",
    "\n",
    "This model will be created using identifiers and names found in the [BiGG Database](http://bigg.ucsd.edu/).\n",
    "\n",
    "In this model, there are 10 reactions occuring inside the cytosol compartment."
   ]
  },
  {
   "cell_type": "code",
   "execution_count": 4,
   "metadata": {
    "execution": {
     "iopub.execute_input": "2021-01-25T17:58:33.093440Z",
     "iopub.status.busy": "2021-01-25T17:58:33.070781Z",
     "iopub.status.idle": "2021-01-25T17:58:33.099508Z",
     "shell.execute_reply": "2021-01-25T17:58:33.101173Z"
    }
   },
   "outputs": [],
   "source": [
    "ADNK1 = MassReaction(\n",
    "    \"ADNK1\",\n",
    "    name=\"Adenosine kinase\",\n",
    "    subsystem=ampsn.id, \n",
    "    reversible=False)\n",
    "ADNK1.add_metabolites({\n",
    "    adn_c: -1,\n",
    "    atp_c: -1,\n",
    "    adp_c: 1,\n",
    "    amp_c: 1,\n",
    "    h_c: 1})\n",
    "\n",
    "NTD7 = MassReaction(\n",
    "    \"NTD7\",\n",
    "    name=\"5'-nucleotidase (AMP)\",\n",
    "    subsystem=ampsn.id, \n",
    "    reversible=False)\n",
    "NTD7.add_metabolites({\n",
    "    amp_c: -1,\n",
    "    h2o_c: -1,\n",
    "    adn_c: 1,\n",
    "    pi_c: 1})\n",
    "\n",
    "AMPDA = MassReaction(\n",
    "    \"AMPDA\",\n",
    "    name=\"Adenosine monophosphate deaminase\",\n",
    "    subsystem=ampsn.id, \n",
    "    reversible=False)\n",
    "AMPDA.add_metabolites({\n",
    "    amp_c: -1,\n",
    "    h2o_c: -1,\n",
    "    imp_c: 1,\n",
    "    nh3_c: 1})\n",
    "\n",
    "NTD11 = MassReaction(\n",
    "    \"NTD11\",\n",
    "    name=\"5'-nucleotidase (IMP)\",\n",
    "    subsystem=ampsn.id, \n",
    "    reversible=False)\n",
    "NTD11.add_metabolites({\n",
    "    imp_c: -1,\n",
    "    h2o_c: -1,\n",
    "    ins_c: 1,\n",
    "    pi_c: 1})\n",
    "\n",
    "ADA = MassReaction(\n",
    "    \"ADA\",\n",
    "    name=\"Adenosine deaminase\",\n",
    "    subsystem=ampsn.id, \n",
    "    reversible=False)\n",
    "ADA.add_metabolites({\n",
    "    adn_c: -1,\n",
    "    h2o_c: -1,\n",
    "    ins_c: 1,\n",
    "    nh3_c: 1})\n",
    "\n",
    "PUNP5 = MassReaction(\n",
    "    \"PUNP5\",\n",
    "    name=\"Purine-nucleoside phosphorylase (Inosine)\",\n",
    "    subsystem=ampsn.id,\n",
    "    reversible=True)\n",
    "PUNP5.add_metabolites({\n",
    "    ins_c: -1,\n",
    "    pi_c: -1,\n",
    "    hxan_c: 1,\n",
    "    r1p_c: 1})\n",
    "\n",
    "PPM = MassReaction(\n",
    "    \"PPM\",\n",
    "    name=\"Phosphopentomutase\",\n",
    "    subsystem=ampsn.id,\n",
    "    reversible=True)\n",
    "PPM.add_metabolites({\n",
    "    r1p_c: -1,\n",
    "    r5p_c: 1})\n",
    "# Must account for lack of ADK1 reaction in this model. \n",
    "# Therefore, coefficients of atp_c and adp_c are -2 and 2\n",
    "PRPPS = MassReaction(\n",
    "    \"PRPPS\",\n",
    "    name=\"Phosphoribosylpyrophosphate synthetase\",\n",
    "    subsystem=ampsn.id, \n",
    "    reversible=False)\n",
    "PRPPS.add_metabolites({\n",
    "    atp_c: -2,\n",
    "    r5p_c: -1,\n",
    "    adp_c: 2,\n",
    "    h_c: 1,\n",
    "    prpp_c: 1})\n",
    "\n",
    "ADPT = MassReaction(\n",
    "    \"ADPT\",\n",
    "    subsystem=ampsn.id, \n",
    "    reversible=False)\n",
    "ADPT.add_metabolites({\n",
    "    ade_c: -1,\n",
    "    h2o_c: -1,\n",
    "    prpp_c: -1,\n",
    "    amp_c: 1,\n",
    "    h_c: 1,\n",
    "    pi_c: 2\n",
    "})\n",
    "\n",
    "ATPM = MassReaction(\n",
    "    \"ATPM\",\n",
    "    name=\"ATP maintenance requirement\",\n",
    "    subsystem=\"Misc.\", \n",
    "    reversible=False)\n",
    "ATPM.add_metabolites({\n",
    "    adp_c: -1,\n",
    "    h_c: -1,\n",
    "    pi_c: -1, \n",
    "    atp_c: 1,\n",
    "    h2o_c: 1})"
   ]
  },
  {
   "cell_type": "markdown",
   "metadata": {},
   "source": [
    "After generating the reactions, all reactions are added to the model through the `MassModel.add_reactions` class method. Adding the `MassReaction` objects will also add their associated `MassMetabolite` objects if they have not already been added to the model. "
   ]
  },
  {
   "cell_type": "code",
   "execution_count": 5,
   "metadata": {
    "execution": {
     "iopub.execute_input": "2021-01-25T17:58:33.138034Z",
     "iopub.status.busy": "2021-01-25T17:58:33.136571Z",
     "iopub.status.idle": "2021-01-25T17:58:33.145668Z",
     "shell.execute_reply": "2021-01-25T17:58:33.148632Z"
    }
   },
   "outputs": [
    {
     "name": "stdout",
     "output_type": "stream",
     "text": [
      "ADNK1: adn_c + atp_c --> adp_c + amp_c + h_c\n",
      "NTD7: amp_c + h2o_c --> adn_c + pi_c\n",
      "AMPDA: amp_c + h2o_c --> imp_c + nh3_c\n",
      "NTD11: h2o_c + imp_c --> ins_c + pi_c\n",
      "ADA: adn_c + h2o_c --> ins_c + nh3_c\n",
      "PUNP5: ins_c + pi_c <=> hxan_c + r1p_c\n",
      "PPM: r1p_c <=> r5p_c\n",
      "PRPPS: 2 atp_c + r5p_c --> 2 adp_c + h_c + prpp_c\n",
      "ADPT: ade_c + h2o_c + prpp_c --> amp_c + h_c + 2 pi_c\n",
      "ATPM: adp_c + h_c + pi_c --> atp_c + h2o_c\n"
     ]
    }
   ],
   "source": [
    "ampsn.add_reactions([\n",
    "    ADNK1, NTD7, AMPDA, NTD11, ADA, PUNP5, PPM, PRPPS, ADPT, ATPM])\n",
    "\n",
    "for reaction in ampsn.reactions:\n",
    "    print(reaction)"
   ]
  },
  {
   "cell_type": "markdown",
   "metadata": {},
   "source": [
    "### Boundary reactions\n",
    "\n",
    "After generating the reactions, the next step is to add the boundary reactions and boundary conditions (the concentrations of the boundary 'metabolites' of the system). This can easily be done using the `MassModel.add_boundary` method. With the generation of the boundary reactions, the system becomes an open system, allowing for the flow of mass through the biochemical pathways of the model. Once added, the model will be able to return the boundary conditions as a dictionary through the `MassModel.boundary_conditions` attribute.\n",
    "\n",
    "All boundary reactions are originally created with the metabolite as the reactant. However, there are times where it would be preferable to represent the metabolite as the product. For these situtations, the `MassReaction.reverse_stoichiometry` method can be used with its `inplace` argument to create a new `MassReaction` or simply reverse the stoichiometry for the current `MassReaction.` \n",
    "\n",
    "In this model, there are 8 boundary reactions that must be defined.\n"
   ]
  },
  {
   "cell_type": "code",
   "execution_count": 6,
   "metadata": {
    "execution": {
     "iopub.execute_input": "2021-01-25T17:58:33.202375Z",
     "iopub.status.busy": "2021-01-25T17:58:33.152760Z",
     "iopub.status.idle": "2021-01-25T17:58:33.227618Z",
     "shell.execute_reply": "2021-01-25T17:58:33.230314Z"
    }
   },
   "outputs": [
    {
     "name": "stdout",
     "output_type": "stream",
     "text": [
      "Boundary Reactions and Values\n",
      "-----------------------------\n",
      "SK_adn_c: adn_c <=> \n",
      "adn_b: 0.0012\n",
      "\n",
      "SK_ade_c: ade_c <=> \n",
      "ade_b: 0.001\n",
      "\n",
      "SK_ins_c: ins_c <=> \n",
      "ins_b: 0.001\n",
      "\n",
      "SK_hxan_c: hxan_c <=> \n",
      "hxan_b: 0.002\n",
      "\n",
      "SK_amp_c: amp_c <=> \n",
      "amp_b: 0.0867281\n",
      "\n",
      "SK_h_c: h_c <=> \n",
      "h_b: 6.30957e-05\n",
      "\n",
      "SK_h2o_c: h2o_c <=> \n",
      "h2o_b: 1.0\n",
      "\n",
      "SK_pi_c: pi_c <=> \n",
      "pi_b: 2.5\n",
      "\n",
      "SK_nh3_c: nh3_c <=> \n",
      "nh3_b: 0.091002\n",
      "\n"
     ]
    }
   ],
   "source": [
    "SK_adn_c = ampsn.add_boundary(\n",
    "    metabolite=adn_c, boundary_type=\"sink\", subsystem=\"Pseudoreaction\",\n",
    "    boundary_condition=1.2e-3)\n",
    "\n",
    "SK_ade_c = ampsn.add_boundary(\n",
    "    metabolite=ade_c, boundary_type=\"sink\", subsystem=\"Pseudoreaction\",\n",
    "    boundary_condition=1.0e-3)\n",
    "\n",
    "SK_ins_c = ampsn.add_boundary(\n",
    "    metabolite=ins_c, boundary_type=\"sink\", subsystem=\"Pseudoreaction\",\n",
    "    boundary_condition=1.0e-3)\n",
    "\n",
    "SK_hxan_c = ampsn.add_boundary(\n",
    "    metabolite=hxan_c, boundary_type=\"sink\", subsystem=\"Pseudoreaction\",\n",
    "    boundary_condition=2.0e-3)\n",
    "\n",
    "SK_amp_c = ampsn.add_boundary(\n",
    "    metabolite=amp_c, boundary_type=\"sink\", subsystem=\"Pseudoreaction\",\n",
    "    boundary_condition=8.67281e-2)\n",
    "\n",
    "SK_h_c = ampsn.add_boundary(\n",
    "    metabolite=h_c, boundary_type=\"sink\", subsystem=\"Pseudoreaction\",\n",
    "    boundary_condition=6.30957e-5)\n",
    "\n",
    "SK_h2o_c = ampsn.add_boundary(\n",
    "    metabolite=h2o_c, boundary_type=\"sink\", subsystem=\"Pseudoreaction\",\n",
    "    boundary_condition=1)\n",
    "\n",
    "SK_pi_c = ampsn.add_boundary(\n",
    "    metabolite=pi_c, boundary_type=\"sink\", subsystem=\"Pseudoreaction\",\n",
    "    boundary_condition=2.5)\n",
    "\n",
    "SK_nh3_c = ampsn.add_boundary(\n",
    "    metabolite=nh3_c, boundary_type=\"sink\", subsystem=\"Pseudoreaction\",\n",
    "    boundary_condition=9.1002e-2)\n",
    "\n",
    "print(\"Boundary Reactions and Values\\n-----------------------------\")\n",
    "for reaction in ampsn.boundary:\n",
    "    boundary_met = reaction.boundary_metabolite\n",
    "    bc_value = ampsn.boundary_conditions.get(boundary_met)\n",
    "    print(\"{0}\\n{1}: {2}\\n\".format(\n",
    "        reaction, boundary_met, bc_value))"
   ]
  },
  {
   "cell_type": "markdown",
   "metadata": {},
   "source": [
    "### Ordering of internal species and reactions\n",
    "\n",
    "Sometimes, it is also desirable to reorder the metabolite and reaction objects inside the model to follow the physiology. To reorder the internal objects, one can use `cobra.DictList` containers and the `DictList.get_by_any` method with the list of object identifiers in the desirable order. To ensure all objects are still present and not forgotten in the model, a small QA check is also performed. "
   ]
  },
  {
   "cell_type": "code",
   "execution_count": 7,
   "metadata": {
    "execution": {
     "iopub.execute_input": "2021-01-25T17:58:33.322888Z",
     "iopub.status.busy": "2021-01-25T17:58:33.320604Z",
     "iopub.status.idle": "2021-01-25T17:58:33.328548Z",
     "shell.execute_reply": "2021-01-25T17:58:33.330629Z"
    }
   },
   "outputs": [
    {
     "data": {
      "text/html": [
       "<div>\n",
       "<style scoped>\n",
       "    .dataframe tbody tr th:only-of-type {\n",
       "        vertical-align: middle;\n",
       "    }\n",
       "\n",
       "    .dataframe tbody tr th {\n",
       "        vertical-align: top;\n",
       "    }\n",
       "\n",
       "    .dataframe thead th {\n",
       "        text-align: right;\n",
       "    }\n",
       "</style>\n",
       "<table border=\"1\" class=\"dataframe\">\n",
       "  <thead>\n",
       "    <tr style=\"text-align: right;\">\n",
       "      <th></th>\n",
       "      <th>ADNK1</th>\n",
       "      <th>NTD7</th>\n",
       "      <th>AMPDA</th>\n",
       "      <th>NTD11</th>\n",
       "      <th>ADA</th>\n",
       "      <th>PUNP5</th>\n",
       "      <th>PPM</th>\n",
       "      <th>PRPPS</th>\n",
       "      <th>ADPT</th>\n",
       "      <th>ATPM</th>\n",
       "      <th>SK_adn_c</th>\n",
       "      <th>SK_ade_c</th>\n",
       "      <th>SK_ins_c</th>\n",
       "      <th>SK_hxan_c</th>\n",
       "      <th>SK_nh3_c</th>\n",
       "      <th>SK_pi_c</th>\n",
       "      <th>SK_amp_c</th>\n",
       "      <th>SK_h_c</th>\n",
       "      <th>SK_h2o_c</th>\n",
       "    </tr>\n",
       "  </thead>\n",
       "  <tbody>\n",
       "    <tr>\n",
       "      <th>adn_c</th>\n",
       "      <td>-1</td>\n",
       "      <td>1</td>\n",
       "      <td>0</td>\n",
       "      <td>0</td>\n",
       "      <td>-1</td>\n",
       "      <td>0</td>\n",
       "      <td>0</td>\n",
       "      <td>0</td>\n",
       "      <td>0</td>\n",
       "      <td>0</td>\n",
       "      <td>-1</td>\n",
       "      <td>0</td>\n",
       "      <td>0</td>\n",
       "      <td>0</td>\n",
       "      <td>0</td>\n",
       "      <td>0</td>\n",
       "      <td>0</td>\n",
       "      <td>0</td>\n",
       "      <td>0</td>\n",
       "    </tr>\n",
       "    <tr>\n",
       "      <th>ade_c</th>\n",
       "      <td>0</td>\n",
       "      <td>0</td>\n",
       "      <td>0</td>\n",
       "      <td>0</td>\n",
       "      <td>0</td>\n",
       "      <td>0</td>\n",
       "      <td>0</td>\n",
       "      <td>0</td>\n",
       "      <td>-1</td>\n",
       "      <td>0</td>\n",
       "      <td>0</td>\n",
       "      <td>-1</td>\n",
       "      <td>0</td>\n",
       "      <td>0</td>\n",
       "      <td>0</td>\n",
       "      <td>0</td>\n",
       "      <td>0</td>\n",
       "      <td>0</td>\n",
       "      <td>0</td>\n",
       "    </tr>\n",
       "    <tr>\n",
       "      <th>imp_c</th>\n",
       "      <td>0</td>\n",
       "      <td>0</td>\n",
       "      <td>1</td>\n",
       "      <td>-1</td>\n",
       "      <td>0</td>\n",
       "      <td>0</td>\n",
       "      <td>0</td>\n",
       "      <td>0</td>\n",
       "      <td>0</td>\n",
       "      <td>0</td>\n",
       "      <td>0</td>\n",
       "      <td>0</td>\n",
       "      <td>0</td>\n",
       "      <td>0</td>\n",
       "      <td>0</td>\n",
       "      <td>0</td>\n",
       "      <td>0</td>\n",
       "      <td>0</td>\n",
       "      <td>0</td>\n",
       "    </tr>\n",
       "    <tr>\n",
       "      <th>ins_c</th>\n",
       "      <td>0</td>\n",
       "      <td>0</td>\n",
       "      <td>0</td>\n",
       "      <td>1</td>\n",
       "      <td>1</td>\n",
       "      <td>-1</td>\n",
       "      <td>0</td>\n",
       "      <td>0</td>\n",
       "      <td>0</td>\n",
       "      <td>0</td>\n",
       "      <td>0</td>\n",
       "      <td>0</td>\n",
       "      <td>-1</td>\n",
       "      <td>0</td>\n",
       "      <td>0</td>\n",
       "      <td>0</td>\n",
       "      <td>0</td>\n",
       "      <td>0</td>\n",
       "      <td>0</td>\n",
       "    </tr>\n",
       "    <tr>\n",
       "      <th>hxan_c</th>\n",
       "      <td>0</td>\n",
       "      <td>0</td>\n",
       "      <td>0</td>\n",
       "      <td>0</td>\n",
       "      <td>0</td>\n",
       "      <td>1</td>\n",
       "      <td>0</td>\n",
       "      <td>0</td>\n",
       "      <td>0</td>\n",
       "      <td>0</td>\n",
       "      <td>0</td>\n",
       "      <td>0</td>\n",
       "      <td>0</td>\n",
       "      <td>-1</td>\n",
       "      <td>0</td>\n",
       "      <td>0</td>\n",
       "      <td>0</td>\n",
       "      <td>0</td>\n",
       "      <td>0</td>\n",
       "    </tr>\n",
       "    <tr>\n",
       "      <th>r1p_c</th>\n",
       "      <td>0</td>\n",
       "      <td>0</td>\n",
       "      <td>0</td>\n",
       "      <td>0</td>\n",
       "      <td>0</td>\n",
       "      <td>1</td>\n",
       "      <td>-1</td>\n",
       "      <td>0</td>\n",
       "      <td>0</td>\n",
       "      <td>0</td>\n",
       "      <td>0</td>\n",
       "      <td>0</td>\n",
       "      <td>0</td>\n",
       "      <td>0</td>\n",
       "      <td>0</td>\n",
       "      <td>0</td>\n",
       "      <td>0</td>\n",
       "      <td>0</td>\n",
       "      <td>0</td>\n",
       "    </tr>\n",
       "    <tr>\n",
       "      <th>r5p_c</th>\n",
       "      <td>0</td>\n",
       "      <td>0</td>\n",
       "      <td>0</td>\n",
       "      <td>0</td>\n",
       "      <td>0</td>\n",
       "      <td>0</td>\n",
       "      <td>1</td>\n",
       "      <td>-1</td>\n",
       "      <td>0</td>\n",
       "      <td>0</td>\n",
       "      <td>0</td>\n",
       "      <td>0</td>\n",
       "      <td>0</td>\n",
       "      <td>0</td>\n",
       "      <td>0</td>\n",
       "      <td>0</td>\n",
       "      <td>0</td>\n",
       "      <td>0</td>\n",
       "      <td>0</td>\n",
       "    </tr>\n",
       "    <tr>\n",
       "      <th>prpp_c</th>\n",
       "      <td>0</td>\n",
       "      <td>0</td>\n",
       "      <td>0</td>\n",
       "      <td>0</td>\n",
       "      <td>0</td>\n",
       "      <td>0</td>\n",
       "      <td>0</td>\n",
       "      <td>1</td>\n",
       "      <td>-1</td>\n",
       "      <td>0</td>\n",
       "      <td>0</td>\n",
       "      <td>0</td>\n",
       "      <td>0</td>\n",
       "      <td>0</td>\n",
       "      <td>0</td>\n",
       "      <td>0</td>\n",
       "      <td>0</td>\n",
       "      <td>0</td>\n",
       "      <td>0</td>\n",
       "    </tr>\n",
       "    <tr>\n",
       "      <th>atp_c</th>\n",
       "      <td>-1</td>\n",
       "      <td>0</td>\n",
       "      <td>0</td>\n",
       "      <td>0</td>\n",
       "      <td>0</td>\n",
       "      <td>0</td>\n",
       "      <td>0</td>\n",
       "      <td>-2</td>\n",
       "      <td>0</td>\n",
       "      <td>1</td>\n",
       "      <td>0</td>\n",
       "      <td>0</td>\n",
       "      <td>0</td>\n",
       "      <td>0</td>\n",
       "      <td>0</td>\n",
       "      <td>0</td>\n",
       "      <td>0</td>\n",
       "      <td>0</td>\n",
       "      <td>0</td>\n",
       "    </tr>\n",
       "    <tr>\n",
       "      <th>adp_c</th>\n",
       "      <td>1</td>\n",
       "      <td>0</td>\n",
       "      <td>0</td>\n",
       "      <td>0</td>\n",
       "      <td>0</td>\n",
       "      <td>0</td>\n",
       "      <td>0</td>\n",
       "      <td>2</td>\n",
       "      <td>0</td>\n",
       "      <td>-1</td>\n",
       "      <td>0</td>\n",
       "      <td>0</td>\n",
       "      <td>0</td>\n",
       "      <td>0</td>\n",
       "      <td>0</td>\n",
       "      <td>0</td>\n",
       "      <td>0</td>\n",
       "      <td>0</td>\n",
       "      <td>0</td>\n",
       "    </tr>\n",
       "    <tr>\n",
       "      <th>amp_c</th>\n",
       "      <td>1</td>\n",
       "      <td>-1</td>\n",
       "      <td>-1</td>\n",
       "      <td>0</td>\n",
       "      <td>0</td>\n",
       "      <td>0</td>\n",
       "      <td>0</td>\n",
       "      <td>0</td>\n",
       "      <td>1</td>\n",
       "      <td>0</td>\n",
       "      <td>0</td>\n",
       "      <td>0</td>\n",
       "      <td>0</td>\n",
       "      <td>0</td>\n",
       "      <td>0</td>\n",
       "      <td>0</td>\n",
       "      <td>-1</td>\n",
       "      <td>0</td>\n",
       "      <td>0</td>\n",
       "    </tr>\n",
       "    <tr>\n",
       "      <th>pi_c</th>\n",
       "      <td>0</td>\n",
       "      <td>1</td>\n",
       "      <td>0</td>\n",
       "      <td>1</td>\n",
       "      <td>0</td>\n",
       "      <td>-1</td>\n",
       "      <td>0</td>\n",
       "      <td>0</td>\n",
       "      <td>2</td>\n",
       "      <td>-1</td>\n",
       "      <td>0</td>\n",
       "      <td>0</td>\n",
       "      <td>0</td>\n",
       "      <td>0</td>\n",
       "      <td>0</td>\n",
       "      <td>-1</td>\n",
       "      <td>0</td>\n",
       "      <td>0</td>\n",
       "      <td>0</td>\n",
       "    </tr>\n",
       "    <tr>\n",
       "      <th>nh3_c</th>\n",
       "      <td>0</td>\n",
       "      <td>0</td>\n",
       "      <td>1</td>\n",
       "      <td>0</td>\n",
       "      <td>1</td>\n",
       "      <td>0</td>\n",
       "      <td>0</td>\n",
       "      <td>0</td>\n",
       "      <td>0</td>\n",
       "      <td>0</td>\n",
       "      <td>0</td>\n",
       "      <td>0</td>\n",
       "      <td>0</td>\n",
       "      <td>0</td>\n",
       "      <td>-1</td>\n",
       "      <td>0</td>\n",
       "      <td>0</td>\n",
       "      <td>0</td>\n",
       "      <td>0</td>\n",
       "    </tr>\n",
       "    <tr>\n",
       "      <th>h_c</th>\n",
       "      <td>1</td>\n",
       "      <td>0</td>\n",
       "      <td>0</td>\n",
       "      <td>0</td>\n",
       "      <td>0</td>\n",
       "      <td>0</td>\n",
       "      <td>0</td>\n",
       "      <td>1</td>\n",
       "      <td>1</td>\n",
       "      <td>-1</td>\n",
       "      <td>0</td>\n",
       "      <td>0</td>\n",
       "      <td>0</td>\n",
       "      <td>0</td>\n",
       "      <td>0</td>\n",
       "      <td>0</td>\n",
       "      <td>0</td>\n",
       "      <td>-1</td>\n",
       "      <td>0</td>\n",
       "    </tr>\n",
       "    <tr>\n",
       "      <th>h2o_c</th>\n",
       "      <td>0</td>\n",
       "      <td>-1</td>\n",
       "      <td>-1</td>\n",
       "      <td>-1</td>\n",
       "      <td>-1</td>\n",
       "      <td>0</td>\n",
       "      <td>0</td>\n",
       "      <td>0</td>\n",
       "      <td>-1</td>\n",
       "      <td>1</td>\n",
       "      <td>0</td>\n",
       "      <td>0</td>\n",
       "      <td>0</td>\n",
       "      <td>0</td>\n",
       "      <td>0</td>\n",
       "      <td>0</td>\n",
       "      <td>0</td>\n",
       "      <td>0</td>\n",
       "      <td>-1</td>\n",
       "    </tr>\n",
       "  </tbody>\n",
       "</table>\n",
       "</div>"
      ],
      "text/plain": [
       "        ADNK1  NTD7  AMPDA  NTD11  ADA  PUNP5  PPM  PRPPS  ADPT  ATPM  \\\n",
       "adn_c      -1     1      0      0   -1      0    0      0     0     0   \n",
       "ade_c       0     0      0      0    0      0    0      0    -1     0   \n",
       "imp_c       0     0      1     -1    0      0    0      0     0     0   \n",
       "ins_c       0     0      0      1    1     -1    0      0     0     0   \n",
       "hxan_c      0     0      0      0    0      1    0      0     0     0   \n",
       "r1p_c       0     0      0      0    0      1   -1      0     0     0   \n",
       "r5p_c       0     0      0      0    0      0    1     -1     0     0   \n",
       "prpp_c      0     0      0      0    0      0    0      1    -1     0   \n",
       "atp_c      -1     0      0      0    0      0    0     -2     0     1   \n",
       "adp_c       1     0      0      0    0      0    0      2     0    -1   \n",
       "amp_c       1    -1     -1      0    0      0    0      0     1     0   \n",
       "pi_c        0     1      0      1    0     -1    0      0     2    -1   \n",
       "nh3_c       0     0      1      0    1      0    0      0     0     0   \n",
       "h_c         1     0      0      0    0      0    0      1     1    -1   \n",
       "h2o_c       0    -1     -1     -1   -1      0    0      0    -1     1   \n",
       "\n",
       "        SK_adn_c  SK_ade_c  SK_ins_c  SK_hxan_c  SK_nh3_c  SK_pi_c  SK_amp_c  \\\n",
       "adn_c         -1         0         0          0         0        0         0   \n",
       "ade_c          0        -1         0          0         0        0         0   \n",
       "imp_c          0         0         0          0         0        0         0   \n",
       "ins_c          0         0        -1          0         0        0         0   \n",
       "hxan_c         0         0         0         -1         0        0         0   \n",
       "r1p_c          0         0         0          0         0        0         0   \n",
       "r5p_c          0         0         0          0         0        0         0   \n",
       "prpp_c         0         0         0          0         0        0         0   \n",
       "atp_c          0         0         0          0         0        0         0   \n",
       "adp_c          0         0         0          0         0        0         0   \n",
       "amp_c          0         0         0          0         0        0        -1   \n",
       "pi_c           0         0         0          0         0       -1         0   \n",
       "nh3_c          0         0         0          0        -1        0         0   \n",
       "h_c            0         0         0          0         0        0         0   \n",
       "h2o_c          0         0         0          0         0        0         0   \n",
       "\n",
       "        SK_h_c  SK_h2o_c  \n",
       "adn_c        0         0  \n",
       "ade_c        0         0  \n",
       "imp_c        0         0  \n",
       "ins_c        0         0  \n",
       "hxan_c       0         0  \n",
       "r1p_c        0         0  \n",
       "r5p_c        0         0  \n",
       "prpp_c       0         0  \n",
       "atp_c        0         0  \n",
       "adp_c        0         0  \n",
       "amp_c        0         0  \n",
       "pi_c         0         0  \n",
       "nh3_c        0         0  \n",
       "h_c         -1         0  \n",
       "h2o_c        0        -1  "
      ]
     },
     "execution_count": 7,
     "metadata": {},
     "output_type": "execute_result"
    }
   ],
   "source": [
    "new_metabolite_order = [\n",
    "    \"adn_c\", \"ade_c\", \"imp_c\", \"ins_c\", \"hxan_c\", \n",
    "    \"r1p_c\", \"r5p_c\", \"prpp_c\", \"atp_c\", \"adp_c\", \n",
    "    \"amp_c\", \"pi_c\", \"nh3_c\", \"h_c\", \"h2o_c\"]\n",
    "\n",
    "if len(ampsn.metabolites) == len(new_metabolite_order):\n",
    "    ampsn.metabolites = DictList(\n",
    "        ampsn.metabolites.get_by_any(new_metabolite_order))\n",
    "    \n",
    "new_reaction_order = [\n",
    "    \"ADNK1\", \"NTD7\", \"AMPDA\", \"NTD11\", \n",
    "    \"ADA\", \"PUNP5\", \"PPM\", \"PRPPS\",\n",
    "    \"ADPT\", \"ATPM\", \"SK_adn_c\", \"SK_ade_c\",\n",
    "    \"SK_ins_c\", \"SK_hxan_c\", \"SK_nh3_c\", \"SK_pi_c\",\n",
    "    \"SK_amp_c\", \"SK_h_c\", \"SK_h2o_c\"]\n",
    "\n",
    "if len(ampsn.reactions) == len(new_reaction_order):\n",
    "    ampsn.reactions = DictList(\n",
    "        ampsn.reactions.get_by_any(new_reaction_order))\n",
    "    \n",
    "ampsn.update_S(array_type=\"DataFrame\", dtype=int)"
   ]
  },
  {
   "cell_type": "markdown",
   "metadata": {},
   "source": [
    "## Model Parameterization\n",
    "### Steady State fluxes\n",
    "Steady state fluxes can be computed as a summation of the MinSpan pathway vectors. Pathways are obtained using [MinSpan](https://github.com/SBRG/minspan). \n",
    "\n",
    "Using these pathways and literature sources, independent fluxes can be defined in order to calculate the steady state flux vector. Because we have five pathways, we have to specify five fluxes to set the steady state. \n",
    "\n",
    "1. In a steady state, the synthesis of AMP is balanced by degradation, that is $v_{EX_{amp}}=0$. Thus, the sum of the flux through the first three pathways must be balanced by the fourth to make the AMP exchange rate zero. Note that the fifth pathway has no net AMP exchange rate. \n",
    "\n",
    "2. The fifth pathway is uniquely defined by either the exchange rate of hypoxanthine or adenine. These two exchange rates are not independent. The uptake rate of adenine is approximately 0.014 mM/hr (Joshi, 1990). \n",
    "\n",
    "3. The exchange rate of adenosine would specify the relative rate of pathways one and four. The rate of $v_{ADNK1}$ is set to 0.12 mM/hr, specifying the flux through $\\textbf{p}_{4}$. The net uptake rate of adenosine is set at 0.01 mM/hr, specifying the flux of $\\textbf{p}_{1}$ to be 0.11 mM/hr.\n",
    "\n",
    "4. Since $\\textbf{p}_{1}$ and $\\textbf{p}_{4}$ differ by 0.01 mM/hr in favor of AMP synthesis, it means that the sum of $\\textbf{p}_{2}$ and $\\textbf{p}_{3}$ has to be 0.01 mM/hr. To specify the contributions to that sum of the two pathways, we would have to know one of the internal rates, such as the deaminases or the phosphorylases. We set the flux of adenosine deaminase to 0.01 mM/hr as it a very low flux enzyme based on an earlier model (Joshi, 1990).\n",
    "\n",
    "5. This assignment sets the flux of $\\textbf{p}_{2}$ to zero and $\\textbf{p}_{3}$ to 0.01 mM/hr. We pick the flux through $\\textbf{p}_{2}$ to be zero since it overlaps with  $\\textbf{p}_{5}$ and gives flux values to all the reactions in the pathways. \n",
    "\n",
    "With these pathays and numerical values, the steady state flux vector can be computed as the weighted sum of the corresponding basis vectors. The steady state flux vector is computed as an inner product:"
   ]
  },
  {
   "cell_type": "code",
   "execution_count": 8,
   "metadata": {
    "execution": {
     "iopub.execute_input": "2021-01-25T17:58:33.359755Z",
     "iopub.status.busy": "2021-01-25T17:58:33.358076Z",
     "iopub.status.idle": "2021-01-25T17:58:33.368084Z",
     "shell.execute_reply": "2021-01-25T17:58:33.370442Z"
    }
   },
   "outputs": [
    {
     "name": "stdout",
     "output_type": "stream",
     "text": [
      "Steady State Fluxes\n",
      "-------------------\n",
      "v_ADNK1: 0.120000\n",
      "v_NTD7: 0.120000\n",
      "v_AMPDA: 0.014000\n",
      "v_NTD11: 0.014000\n",
      "v_ADA: 0.010000\n",
      "v_PUNP5: 0.014000\n",
      "v_PPM: 0.014000\n",
      "v_PRPPS: 0.014000\n",
      "v_ADPT: 0.014000\n",
      "v_ATPM: 0.148000\n",
      "v_SK_adn_c: -0.010000\n",
      "v_SK_ade_c: -0.014000\n",
      "v_SK_ins_c: 0.010000\n",
      "v_SK_hxan_c: 0.014000\n",
      "v_SK_nh3_c: 0.024000\n",
      "v_SK_pi_c: 0.000000\n",
      "v_SK_amp_c: 0.000000\n",
      "v_SK_h_c: 0.000000\n",
      "v_SK_h2o_c: -0.024000\n"
     ]
    }
   ],
   "source": [
    "minspan_paths = [\n",
    "    [0, 1, 0, 0, 0, 0, 0, 0, 0, 0, 1, 0, 0, 0, 0, 1,-1, 1,-1],\n",
    "    [0, 0, 1, 1, 0, 0, 0, 0, 0, 0, 0, 0, 1, 0, 1, 1,-1, 1,-2],\n",
    "    [0, 1, 0, 0, 1, 0, 0, 0, 0, 0, 0, 0, 1, 0, 1, 1,-1, 1,-2],\n",
    "    [1, 0, 0, 0, 0, 0, 0, 0, 0, 1,-1, 0, 0, 0, 0,-1, 1,-1, 1],\n",
    "    [0, 0, 1, 1, 0, 1, 1, 1, 1, 2, 0,-1, 0, 1, 1, 0, 0, 0,-1]]\n",
    "ampsn.compute_steady_state_fluxes(\n",
    "    pathways=minspan_paths,\n",
    "    independent_fluxes={\n",
    "        SK_amp_c: 0.0,\n",
    "        SK_ade_c: -0.014,\n",
    "        ADNK1: 0.12,\n",
    "        SK_adn_c: -0.01,\n",
    "        AMPDA: 0.014},\n",
    "    update_reactions=True)\n",
    "\n",
    "print(\"Steady State Fluxes\\n-------------------\")\n",
    "for reaction, steady_state_flux in ampsn.steady_state_fluxes.items():\n",
    "    print(\"{0}: {1:.6f}\".format(reaction.flux_symbol_str, steady_state_flux))"
   ]
  },
  {
   "cell_type": "markdown",
   "metadata": {},
   "source": [
    "### Initial Conditions\n",
    "\n",
    "Once the network has been built, the concentrations can be added to the metabolites. These concentrations are also treated as the initial conditions required to integrate and simulate the model's ordinary differential equations (ODEs). The metabolite concentrations are added to each individual metabolite using the `MassMetabolite.initial_condition` (alias: `MassMetabolite.ic`) attribute setter methods. Once added, the model will be able to return the initial conditions as a dictionary through the `MassModel.initial_conditions` attribute."
   ]
  },
  {
   "cell_type": "code",
   "execution_count": 9,
   "metadata": {
    "execution": {
     "iopub.execute_input": "2021-01-25T17:58:33.389448Z",
     "iopub.status.busy": "2021-01-25T17:58:33.387421Z",
     "iopub.status.idle": "2021-01-25T17:58:33.405526Z",
     "shell.execute_reply": "2021-01-25T17:58:33.409976Z"
    }
   },
   "outputs": [
    {
     "name": "stdout",
     "output_type": "stream",
     "text": [
      "Initial Conditions\n",
      "------------------\n",
      "adn_c: 0.0012\n",
      "ade_c: 0.001\n",
      "imp_c: 0.01\n",
      "ins_c: 0.001\n",
      "hxan_c: 0.002\n",
      "r1p_c: 0.06\n",
      "r5p_c: 0.00494\n",
      "prpp_c: 0.005\n",
      "atp_c: 1.6\n",
      "adp_c: 0.29\n",
      "amp_c: 0.0867281\n",
      "pi_c: 2.5\n",
      "nh3_c: 0.091002\n",
      "h_c: 6.30957e-05\n",
      "h2o_c: 1\n"
     ]
    }
   ],
   "source": [
    "adn_c.ic = 1.2e-3\n",
    "ade_c.ic = 1.0e-3\n",
    "imp_c.ic = 1.0e-2\n",
    "ins_c.ic = 1.0e-3\n",
    "hxan_c.ic = 2.0e-3\n",
    "r1p_c.ic = 6.0e-2\n",
    "r5p_c.ic = 4.94e-3\n",
    "prpp_c.ic = 5.0e-3\n",
    "atp_c.ic = 1.6\n",
    "adp_c.ic = 0.29\n",
    "amp_c.ic = 8.67281e-2\n",
    "pi_c.ic = 2.5\n",
    "nh3_c.ic = 9.1002e-2\n",
    "h_c.ic = 6.30957e-5\n",
    "h2o_c.ic = 1\n",
    "\n",
    "print(\"Initial Conditions\\n------------------\")\n",
    "for metabolite, ic_value in ampsn.initial_conditions.items():\n",
    "    print(\"{0}: {1}\".format(metabolite, ic_value))"
   ]
  },
  {
   "cell_type": "markdown",
   "metadata": {},
   "source": [
    "### Equilibirum Constants\n",
    "\n",
    "After adding initial conditions and steady state fluxes, the equilibrium constants are defined using the `MassReaction.equilibrium_constant` (alias: `MassReaction.Keq`) setter method. "
   ]
  },
  {
   "cell_type": "code",
   "execution_count": 10,
   "metadata": {
    "execution": {
     "iopub.execute_input": "2021-01-25T17:58:33.435045Z",
     "iopub.status.busy": "2021-01-25T17:58:33.428376Z",
     "iopub.status.idle": "2021-01-25T17:58:33.445179Z",
     "shell.execute_reply": "2021-01-25T17:58:33.451824Z"
    }
   },
   "outputs": [
    {
     "name": "stdout",
     "output_type": "stream",
     "text": [
      "Equilibrium Constants\n",
      "---------------------\n",
      "Keq_ADNK1: inf\n",
      "Keq_NTD7: inf\n",
      "Keq_AMPDA: inf\n",
      "Keq_NTD11: inf\n",
      "Keq_ADA: inf\n",
      "Keq_PUNP5: 0.09\n",
      "Keq_PPM: 13.3\n",
      "Keq_PRPPS: inf\n",
      "Keq_ADPT: inf\n",
      "Keq_ATPM: inf\n",
      "Keq_SK_adn_c: 1\n",
      "Keq_SK_ade_c: 1\n",
      "Keq_SK_ins_c: 1\n",
      "Keq_SK_hxan_c: 1\n",
      "Keq_SK_nh3_c: 1\n",
      "Keq_SK_pi_c: 1\n",
      "Keq_SK_amp_c: 1\n",
      "Keq_SK_h_c: 1\n",
      "Keq_SK_h2o_c: 1\n"
     ]
    }
   ],
   "source": [
    "PUNP5.Keq = 0.09\n",
    "PPM.Keq = 13.3\n",
    "\n",
    "SK_adn_c.Keq = 1\n",
    "SK_ade_c.Keq = 1\n",
    "SK_ins_c.Keq = 1\n",
    "SK_hxan_c.Keq = 1 \n",
    "SK_amp_c.Keq = 1\n",
    "SK_h_c.Keq = 1\n",
    "SK_h2o_c.Keq = 1\n",
    "SK_pi_c.Keq = 1\n",
    "SK_nh3_c.Keq = 1\n",
    "\n",
    "print(\"Equilibrium Constants\\n---------------------\")\n",
    "for reaction in ampsn.reactions:\n",
    "    print(\"{0}: {1}\".format(reaction.Keq_str, reaction.Keq))"
   ]
  },
  {
   "cell_type": "markdown",
   "metadata": {},
   "source": [
    "### Calculation of PERCs\n",
    "By defining the equilibrium constant and steady state parameters, the values of the pseudo rate constants (PERCs) can be calculated and added to the model using the `MassModel.calculate_PERCs` method."
   ]
  },
  {
   "cell_type": "code",
   "execution_count": 11,
   "metadata": {
    "execution": {
     "iopub.execute_input": "2021-01-25T17:58:33.504283Z",
     "iopub.status.busy": "2021-01-25T17:58:33.502830Z",
     "iopub.status.idle": "2021-01-25T17:58:34.003232Z",
     "shell.execute_reply": "2021-01-25T17:58:34.004036Z"
    },
    "scrolled": false
   },
   "outputs": [
    {
     "name": "stdout",
     "output_type": "stream",
     "text": [
      "Forward Rate Constants\n",
      "----------------------\n",
      "kf_ADNK1: 62.500000\n",
      "kf_NTD7: 1.383635\n",
      "kf_AMPDA: 0.161424\n",
      "kf_NTD11: 1.400000\n",
      "kf_ADA: 8.333333\n",
      "kf_PUNP5: 12.000000\n",
      "kf_PPM: 0.234787\n",
      "kf_PRPPS: 1.107034\n",
      "kf_ADPT: 2800.000000\n",
      "kf_ATPM: 0.204138\n",
      "kf_SK_adn_c: 100000.000000\n",
      "kf_SK_ade_c: 100000.000000\n",
      "kf_SK_ins_c: 100000.000000\n",
      "kf_SK_hxan_c: 100000.000000\n",
      "kf_SK_nh3_c: 100000.000000\n",
      "kf_SK_pi_c: 100000.000000\n",
      "kf_SK_amp_c: 100000.000000\n",
      "kf_SK_h_c: 100000.000000\n",
      "kf_SK_h2o_c: 100000.000000\n"
     ]
    }
   ],
   "source": [
    "percs = ampsn.calculate_PERCs(update_reactions=True)\n",
    "\n",
    "print(\"Forward Rate Constants\\n----------------------\")\n",
    "for reaction in ampsn.reactions:\n",
    "    print(\"{0}: {1:.6f}\".format(reaction.kf_str, reaction.kf))"
   ]
  },
  {
   "cell_type": "markdown",
   "metadata": {},
   "source": [
    "## QC/QA Model\n",
    "\n",
    "Before simulating the model, it is important to ensure that the model is elementally balanced, and that the model can simulate. Therefore, the `qcqa_model` function from the `mass.util.qcqa` submodule is used to provide a report on the model quality and indicate whether simulation is possible and if not, what parameters and/or initial conditions are missing. \n",
    "\n",
    "Generally, pseudoreactions (e.g. boundary exchanges, sinks, demands) are not elementally balanced. The `qcqa_model` function does not include elemental balancing of boundary reactions. However, some models contain pseudoreactions reprsenting a simplified mechanism, and show up in the returned report. The elemental imbalance of these pseudoreactions is therefore expected in certain reaction and should not be a cause for concern. "
   ]
  },
  {
   "cell_type": "code",
   "execution_count": 12,
   "metadata": {
    "execution": {
     "iopub.execute_input": "2021-01-25T17:58:34.012858Z",
     "iopub.status.busy": "2021-01-25T17:58:34.011742Z",
     "iopub.status.idle": "2021-01-25T17:58:34.016137Z",
     "shell.execute_reply": "2021-01-25T17:58:34.016799Z"
    }
   },
   "outputs": [
    {
     "name": "stdout",
     "output_type": "stream",
     "text": [
      "╒══════════════════════════════════════════╕\n",
      "│ MODEL ID: AMPSalvageNetwork              │\n",
      "│ SIMULATABLE: True                        │\n",
      "│ PARAMETERS NUMERICALY CONSISTENT: True   │\n",
      "╞══════════════════════════════════════════╡\n",
      "╘══════════════════════════════════════════╛\n"
     ]
    }
   ],
   "source": [
    "qcqa_model(ampsn, parameters=True, concentrations=True, \n",
    "           fluxes=True, superfluous=True, elemental=True)"
   ]
  },
  {
   "cell_type": "markdown",
   "metadata": {},
   "source": [
    "From the results of the QC/QA test, it can be seen that the model can be simulated and is numerically consistent."
   ]
  },
  {
   "cell_type": "markdown",
   "metadata": {},
   "source": [
    "## Steady State and Model Validation \n",
    "\n",
    "To find the steady state of the model and perform simulations, the model must first be loaded into a `Simulation`. In order to load a model into a `Simulation`, the model must be simulatable, meaning there are no missing numerical values that would prevent the integration of the ODEs that comprise the model. The `verbose` argument can be used while loading a model to produce a message indicating the successful loading of a model, or why a model could not load.\n",
    "\n",
    "Once loaded into a `Simulation`, the `find_steady_state` method can be used with the `update_values` argument in order to update the initial conditions and fluxes of the model to a steady state (if necessary). The model can be simulated using the `simulate` method by passing the model to simulate, and a tuple containing the start time and the end time. The number of time points can also be included, but is optional.\n",
    "\n",
    "After a successful simulation, two `MassSolution` objects are returned. The first `MassSolution` contains the concentration results of the simulation, and the second contains the flux results of the simulation. \n",
    "\n",
    "To visually validate the steady state of the model, concentration and flux solutions can be plotted using the `plot_time_profile` function from `mass.visualization`. Alternatively, the `MassSolution.view_time_profile` property can be used to quickly generate a time profile for the results."
   ]
  },
  {
   "cell_type": "code",
   "execution_count": 13,
   "metadata": {
    "execution": {
     "iopub.execute_input": "2021-01-25T17:58:34.020128Z",
     "iopub.status.busy": "2021-01-25T17:58:34.019454Z",
     "iopub.status.idle": "2021-01-25T17:58:36.628266Z",
     "shell.execute_reply": "2021-01-25T17:58:36.628811Z"
    }
   },
   "outputs": [
    {
     "name": "stdout",
     "output_type": "stream",
     "text": [
      "Successfully loaded MassModel 'AMPSalvageNetwork' into RoadRunner.\n"
     ]
    },
    {
     "data": {
      "image/png": "[encoded data removed]",
      "text/plain": [
       "<Figure size 432x288 with 1 Axes>"
      ]
     },
     "metadata": {
      "needs_background": "light"
     },
     "output_type": "display_data"
    }
   ],
   "source": [
    "# Setup simulation object\n",
    "sim = Simulation(ampsn, verbose=True)\n",
    "# Simulate from 0 to 1000 with 10001 points in the output\n",
    "conc_sol, flux_sol = sim.simulate(ampsn, time=(0, 1e3))\n",
    "# Quickly render and display time profiles\n",
    "conc_sol.view_time_profile()"
   ]
  },
  {
   "cell_type": "markdown",
   "metadata": {},
   "source": [
    "### Storing information and references\n",
    "#### Compartment\n",
    "Because the character \"c\" represents the cytosol compartment, it is recommended to define and set the compartment in the `MassModel.compartments` attribute."
   ]
  },
  {
   "cell_type": "code",
   "execution_count": 14,
   "metadata": {
    "execution": {
     "iopub.execute_input": "2021-01-25T17:58:36.633383Z",
     "iopub.status.busy": "2021-01-25T17:58:36.632599Z",
     "iopub.status.idle": "2021-01-25T17:58:36.635248Z",
     "shell.execute_reply": "2021-01-25T17:58:36.635706Z"
    },
    "scrolled": true
   },
   "outputs": [
    {
     "name": "stdout",
     "output_type": "stream",
     "text": [
      "{'c': 'Cytosol'}\n"
     ]
    }
   ],
   "source": [
    "ampsn.compartments = {\"c\": \"Cytosol\"}\n",
    "print(ampsn.compartments)"
   ]
  },
  {
   "cell_type": "markdown",
   "metadata": {},
   "source": [
    "#### Units\n",
    "All of the units for the numerical values used in this model are \"Millimoles\" for amount and \"Liters\" for volume (giving a concentration unit of 'Millimolar'), and \"Hours\" for time. In order to ensure that future users understand the numerical values for model, it is important to define the `MassModel.units` attribute.\n",
    "\n",
    "The `MassModel.units` is a `cobra.DictList` that contains only `UnitDefinition` objects from the `mass.core.unit` submodule. Each `UnitDefinition` is created from `Unit` objects representing the base units that comprise the `UnitDefinition`. These `Units` are stored in the `list_of_units` attribute. Pre-built units can be viewed using the `print_defined_unit_values` function from the `mass.core.unit` submodule. Alternatively, custom units can also be created using the `UnitDefinition.create_unit` method. For more information about units, please see the module docstring for `mass.core.unit` submodule.\n",
    "\n",
    "__Note:__ It is important to note that this attribute will NOT track units, but instead acts as a reference for the user and others so that they can perform necessary unit conversions."
   ]
  },
  {
   "cell_type": "code",
   "execution_count": 15,
   "metadata": {
    "execution": {
     "iopub.execute_input": "2021-01-25T17:58:36.641354Z",
     "iopub.status.busy": "2021-01-25T17:58:36.640399Z",
     "iopub.status.idle": "2021-01-25T17:58:36.643184Z",
     "shell.execute_reply": "2021-01-25T17:58:36.643623Z"
    }
   },
   "outputs": [
    {
     "name": "stdout",
     "output_type": "stream",
     "text": [
      "[<UnitDefinition Millimolar \"mM\" at 0x7fc73885fca0>, <UnitDefinition hour \"hr\" at 0x7fc73885f670>]\n"
     ]
    }
   ],
   "source": [
    "# Using pre-build units to define UnitDefinitions\n",
    "concentration = UnitDefinition(\"mM\", name=\"Millimolar\",\n",
    "                               list_of_units=[\"millimole\", \"per_litre\"])\n",
    "time = UnitDefinition(\"hr\", name=\"hour\", list_of_units=[\"hour\"])\n",
    "\n",
    "# Add units to model\n",
    "ampsn.add_units([concentration, time])\n",
    "print(ampsn.units)"
   ]
  },
  {
   "cell_type": "markdown",
   "metadata": {},
   "source": [
    "## Export\n",
    "\n",
    "After validation, the model is ready to be saved. The model can either be exported as a \".json\" file or as an \".sbml\" (\".xml\") file using their repsective submodules in `mass.io`.\n",
    "\n",
    "To export the model, only the path to the directory and the model object itself need to be specified."
   ]
  },
  {
   "cell_type": "markdown",
   "metadata": {},
   "source": [
    "### Export using SBML"
   ]
  },
  {
   "cell_type": "code",
   "execution_count": 16,
   "metadata": {
    "execution": {
     "iopub.execute_input": "2021-01-25T17:58:36.812374Z",
     "iopub.status.busy": "2021-01-25T17:58:36.689398Z",
     "iopub.status.idle": "2021-01-25T17:58:37.030606Z",
     "shell.execute_reply": "2021-01-25T17:58:37.031518Z"
    },
    "scrolled": false
   },
   "outputs": [],
   "source": [
    "sbml.write_sbml_model(mass_model=ampsn, filename=\"SB2_\" + ampsn.id + \".xml\")"
   ]
  },
  {
   "cell_type": "markdown",
   "metadata": {},
   "source": [
    "### Export using JSON"
   ]
  },
  {
   "cell_type": "code",
   "execution_count": 17,
   "metadata": {
    "execution": {
     "iopub.execute_input": "2021-01-25T17:58:37.037766Z",
     "iopub.status.busy": "2021-01-25T17:58:37.036994Z",
     "iopub.status.idle": "2021-01-25T17:58:37.042622Z",
     "shell.execute_reply": "2021-01-25T17:58:37.043104Z"
    },
    "scrolled": false
   },
   "outputs": [],
   "source": [
    "json.save_json_model(mass_model=ampsn, filename=\"SB2_\" + ampsn.id + \".json\")"
   ]
  }
 ],
 "metadata": {
  "kernelspec": {
   "display_name": "Python 3 (ipykernel)",
   "language": "python",
   "name": "python3"
  },
  "language_info": {
   "codemirror_mode": {
    "name": "ipython",
    "version": 3
   },
   "file_extension": ".py",
   "mimetype": "text/x-python",
   "name": "python",
   "nbconvert_exporter": "python",
   "pygments_lexer": "ipython3",
   "version": "3.8.12"
  },
  "latex_envs": {
   "LaTeX_envs_menu_present": true,
   "autoclose": false,
   "autocomplete": true,
   "bibliofile": "biblio.bib",
   "cite_by": "apalike",
   "current_citInitial": 1,
   "eqLabelWithNumbers": true,
   "eqNumInitial": 1,
   "hotkeys": {
    "equation": "Ctrl-E",
    "itemize": "Ctrl-I"
   },
   "labels_anchors": false,
   "latex_user_defs": false,
   "report_style_numbering": false,
   "user_envs_cfg": false
  }
 },
 "nbformat": 4,
 "nbformat_minor": 2
}
