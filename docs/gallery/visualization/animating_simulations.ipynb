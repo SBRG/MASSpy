{
 "cells": [
  {
   "cell_type": "markdown",
   "metadata": {},
   "source": [
    "# Animating Simulations with Escher\n",
    "\n",
    "This example shows how simulation results can be displayed on an escher map. Using the reactive options of Escher, the results of a simulation can also be animated. \n",
    "\n",
    "For this particular example, a simple toy model is used."
   ]
  },
  {
   "cell_type": "code",
   "execution_count": 1,
   "metadata": {
    "execution": {
     "iopub.execute_input": "2021-01-25T18:45:02.387938Z",
     "iopub.status.busy": "2021-01-25T18:45:02.387195Z",
     "iopub.status.idle": "2021-01-25T18:45:04.674323Z",
     "shell.execute_reply": "2021-01-25T18:45:04.673767Z"
    }
   },
   "outputs": [],
   "source": [
    "from os import path\n",
    "from time import sleep\n",
    "\n",
    "from matplotlib.cm import get_cmap\n",
    "import numpy as np\n",
    "\n",
    "import escher\n",
    "\n",
    "from mass import MassConfiguration, Simulation\n",
    "from mass.example_data import create_example_model, MAPS_DIR\n",
    "\n",
    "\n",
    "mass_config = MassConfiguration()\n",
    "mass_config.decimal_precision = 8\n",
    "# Turns off the warning message when leaving or refreshing this page.\n",
    "escher.rc['never_ask_before_quit'] = True"
   ]
  },
  {
   "cell_type": "markdown",
   "metadata": {},
   "source": [
    "## Load Model and Map"
   ]
  },
  {
   "cell_type": "code",
   "execution_count": 2,
   "metadata": {
    "execution": {
     "iopub.execute_input": "2021-01-25T18:45:04.678478Z",
     "iopub.status.busy": "2021-01-25T18:45:04.677786Z",
     "iopub.status.idle": "2021-01-25T18:45:04.690628Z",
     "shell.execute_reply": "2021-01-25T18:45:04.691095Z"
    }
   },
   "outputs": [
    {
     "name": "stdout",
     "output_type": "stream",
     "text": [
      "Scaling...\n",
      " A: min|aij| =  1.000e+00  max|aij| =  1.000e+00  ratio =  1.000e+00\n",
      "Problem data seem to be well scaled\n"
     ]
    }
   ],
   "source": [
    "model = create_example_model(\"Simple_Toy\")\n",
    "\n",
    "# Set the path to the map file\n",
    "map_filepath = path.join(MAPS_DIR, \"simple_toy_map.json\")"
   ]
  },
  {
   "cell_type": "markdown",
   "metadata": {},
   "source": [
    "## Make color scales"
   ]
  },
  {
   "cell_type": "markdown",
   "metadata": {},
   "source": [
    "### Metabolites"
   ]
  },
  {
   "cell_type": "code",
   "execution_count": 3,
   "metadata": {
    "execution": {
     "iopub.execute_input": "2021-01-25T18:45:04.700518Z",
     "iopub.status.busy": "2021-01-25T18:45:04.699639Z",
     "iopub.status.idle": "2021-01-25T18:45:04.704163Z",
     "shell.execute_reply": "2021-01-25T18:45:04.703704Z"
    }
   },
   "outputs": [],
   "source": [
    "num_scales = 6\n",
    "min_value, max_value = (0, 1)\n",
    "min_size, max_size = (10, 30)\n",
    "colors = 255 * get_cmap(\"bwr\", num_scales)(np.linspace(0, 1, num_scales))\n",
    "colors = np.flip(colors, axis=0)\n",
    "\n",
    "metabolite_data_scale = []\n",
    "for i in range(num_scales):\n",
    "    scale_stop = {}\n",
    "    scale_stop[\"type\"] = \"value\"\n",
    "    if i == 0:\n",
    "        scale_stop[\"value\"] = min_value\n",
    "        scale_stop[\"size\"] = min_size\n",
    "    elif i == num_scales - 1:\n",
    "        scale_stop[\"value\"] = max_value\n",
    "        scale_stop[\"size\"] = max_size\n",
    "    else:\n",
    "        scale_stop[\"value\"] = i*(max_value - min_value)/(num_scales - 1)\n",
    "        scale_stop[\"size\"] = min_size + i * (max_size - min_size)/(num_scales - 1)\n",
    "    scale_stop[\"color\"] = \"rgb({0}, {1}, {2})\".format(*colors[i])\n",
    "    metabolite_data_scale.append(scale_stop)"
   ]
  },
  {
   "cell_type": "markdown",
   "metadata": {},
   "source": [
    "### Reactions"
   ]
  },
  {
   "cell_type": "code",
   "execution_count": 4,
   "metadata": {
    "execution": {
     "iopub.execute_input": "2021-01-25T18:45:04.712514Z",
     "iopub.status.busy": "2021-01-25T18:45:04.711864Z",
     "iopub.status.idle": "2021-01-25T18:45:04.713759Z",
     "shell.execute_reply": "2021-01-25T18:45:04.714370Z"
    }
   },
   "outputs": [],
   "source": [
    "stops = [\"min\", \"Q1\", \"median\", \"Q3\", \"max\"]\n",
    "num_scales = len(stops)\n",
    "min_value, max_value = (0, 1)\n",
    "min_size, max_size = (10, 30)\n",
    "colors = 255 * get_cmap(\"Purples\", num_scales)(np.linspace(0, 1, num_scales))\n",
    "\n",
    "reaction_data_scale = []\n",
    "for i, stop_type in enumerate(stops):\n",
    "    scale_stop = {}\n",
    "    scale_stop[\"type\"] = stop_type\n",
    "    scale_stop[\"color\"] = \"rgb({0}, {1}, {2})\".format(*colors[i])\n",
    "    scale_stop[\"size\"] = min_size + i * (max_size - min_size)/(num_scales - 1)\n",
    "    reaction_data_scale.append(scale_stop)\n",
    "reaction_data_scale.append(\n",
    "    {\"type\": \"value\", \"value\": 0, \"color\": \"grey\", \"size\": 8})"
   ]
  },
  {
   "cell_type": "markdown",
   "metadata": {},
   "source": [
    "## Animate Simulation"
   ]
  },
  {
   "cell_type": "markdown",
   "metadata": {},
   "source": [
    "### Simulate model"
   ]
  },
  {
   "cell_type": "code",
   "execution_count": 5,
   "metadata": {
    "execution": {
     "iopub.execute_input": "2021-01-25T18:45:04.722070Z",
     "iopub.status.busy": "2021-01-25T18:45:04.720501Z",
     "iopub.status.idle": "2021-01-25T18:45:04.881391Z",
     "shell.execute_reply": "2021-01-25T18:45:04.881893Z"
    }
   },
   "outputs": [
    {
     "name": "stderr",
     "output_type": "stream",
     "text": [
      "\u001b[93mWARNING:\u001b[0m \u001b[93mNo compartments found in model. Therefore creating compartment 'compartment' for entire model.\u001b[0m\n"
     ]
    },
    {
     "name": "stdout",
     "output_type": "stream",
     "text": [
      "Successfully loaded MassModel 'Simple_Toy' into RoadRunner.\n"
     ]
    }
   ],
   "source": [
    "sim = Simulation(model, verbose=True)\n",
    "conc_sol, flux_sol = sim.simulate(model, time=(0, 1e6),\n",
    "                                  decimal_precision=True)"
   ]
  },
  {
   "cell_type": "markdown",
   "metadata": {},
   "source": [
    "### Render map"
   ]
  },
  {
   "cell_type": "code",
   "execution_count": 6,
   "metadata": {
    "execution": {
     "iopub.execute_input": "2021-01-25T18:45:04.891087Z",
     "iopub.status.busy": "2021-01-25T18:45:04.890285Z",
     "iopub.status.idle": "2021-01-25T18:45:04.897267Z",
     "shell.execute_reply": "2021-01-25T18:45:04.897713Z"
    }
   },
   "outputs": [
    {
     "data": {
      "application/vnd.jupyter.widget-view+json": {
       "model_id": "dd27580601844cbe88c6cda58df94735",
       "version_major": 2,
       "version_minor": 0
      },
      "text/plain": [
       "Builder(metabolite_scale=({'type': 'value', 'value': 0, 'size': 10, 'color': 'rgb(255.0, 0.0, 0.0)'}, {'type':…"
      ]
     },
     "metadata": {},
     "output_type": "display_data"
    }
   ],
   "source": [
    "escher_builder = escher.Builder(\n",
    "    model=model,\n",
    "    map_json=map_filepath,\n",
    "    reaction_scale=tuple(reaction_data_scale),\n",
    "    metabolite_scale=tuple(metabolite_data_scale)\n",
    ")\n",
    "escher_builder"
   ]
  },
  {
   "cell_type": "markdown",
   "metadata": {},
   "source": [
    "### Animate results"
   ]
  },
  {
   "cell_type": "code",
   "execution_count": 7,
   "metadata": {
    "execution": {
     "iopub.execute_input": "2021-01-25T18:45:04.903441Z",
     "iopub.status.busy": "2021-01-25T18:45:04.902820Z",
     "iopub.status.idle": "2021-01-25T18:45:25.039806Z",
     "shell.execute_reply": "2021-01-25T18:45:25.041197Z"
    }
   },
   "outputs": [],
   "source": [
    "for i in range(len(conc_sol.time)):\n",
    "    # Map metabolite data onto map per solution point\n",
    "    escher_builder.metabolite_data = {\n",
    "        met: solution[i] for met, solution in conc_sol.items()}\n",
    "    # Map reaction data onto map per solution point\n",
    "    escher_builder.reaction_data = {\n",
    "        rxn: solution[i] for rxn, solution in flux_sol.items()}\n",
    "    sleep(0.05)"
   ]
  },
  {
   "cell_type": "markdown",
   "metadata": {},
   "source": [
    "The video of the created animation:"
   ]
  },
  {
   "cell_type": "code",
   "execution_count": 14,
   "metadata": {
    "execution": {
     "iopub.execute_input": "2021-01-25T18:45:25.052848Z",
     "iopub.status.busy": "2021-01-25T18:45:25.051123Z",
     "iopub.status.idle": "2021-01-25T18:45:25.103279Z",
     "shell.execute_reply": "2021-01-25T18:45:25.103915Z"
    },
    "scrolled": true
   },
   "outputs": [
    {
     "data": {
      "text/html": [
       "<video controls  width=\"500\" >\n",
       " <source src=\"data:None;base64,..../media/videos/escher_toy_animation.mp4\" type=\"None\">\n",
       " Your browser does not support the video tag.\n",
       " </video>"
      ],
      "text/plain": [
       "<IPython.core.display.Video object>"
      ]
     },
     "execution_count": 14,
     "metadata": {},
     "output_type": "execute_result"
    }
   ],
   "source": [
    "from IPython.display import Video\n",
    "Video(\"../../media/videos/escher_toy_animation.mp4\", embed=True, width=500)"
   ]
  }
 ],
 "metadata": {
  "celltoolbar": "Edit Metadata",
  "kernelspec": {
   "display_name": "Python 3",
   "language": "python",
   "name": "python3"
  },
  "language_info": {
   "codemirror_mode": {
    "name": "ipython",
    "version": 3
   },
   "file_extension": ".py",
   "mimetype": "text/x-python",
   "name": "python",
   "nbconvert_exporter": "python",
   "pygments_lexer": "ipython3",
   "version": "3.9.5"
  },
  "widgets": {
   "application/vnd.jupyter.widget-state+json": {
    "state": {
     "1e71834848b349e98cc2a242f76cbdf3": {
      "model_module": "escher",
      "model_module_version": "1.7.3",
      "model_name": "EscherMapModel",
      "state": {
       "_dom_classes": [],
       "_loaded_map_json": "[{\"map_name\":\"new_map\",\"map_id\":\"jFxye0KmrqND\",\"map_description\":\"\\nLast Modified Tue Oct 29 2019 14:51:20 GMT-0700 (Pacific Daylight Time)\",\"homepage\":\"https://escher.github.io\",\"schema\":\"https://escher.github.io/escher/jsonschema/1-0-0#\"},{\"reactions\":{\"0\":{\"name\":\"\",\"bigg_id\":\"v1\",\"reversibility\":false,\"label_x\":341,\"label_y\":-184.50003051757812,\"gene_reaction_rule\":\"\",\"genes\":[],\"metabolites\":[{\"bigg_id\":\"x1\",\"coefficient\":-1},{\"bigg_id\":\"x2\",\"coefficient\":1}],\"segments\":{\"0\":{\"from_node_id\":\"1\",\"to_node_id\":\"2\",\"b1\":null,\"b2\":null},\"1\":{\"from_node_id\":\"3\",\"to_node_id\":\"2\",\"b1\":null,\"b2\":null},\"2\":{\"from_node_id\":\"1\",\"to_node_id\":\"0\",\"b1\":{\"x\":329,\"y\":-144.50003051757812},\"b2\":{\"x\":274.75,\"y\":-144.50003051757812}},\"3\":{\"from_node_id\":\"3\",\"to_node_id\":\"4\",\"b1\":{\"x\":453,\"y\":-144.50003051757812},\"b2\":{\"x\":507.25,\"y\":-144.50003051757812}}}},\"1\":{\"name\":\"\",\"bigg_id\":\"v2\",\"reversibility\":false,\"label_x\":691,\"label_y\":-184.50003051757812,\"gene_reaction_rule\":\"\",\"genes\":[],\"metabolites\":[{\"bigg_id\":\"x2\",\"coefficient\":-1},{\"bigg_id\":\"x3\",\"coefficient\":1}],\"segments\":{\"4\":{\"from_node_id\":\"5\",\"to_node_id\":\"6\",\"b1\":null,\"b2\":null},\"5\":{\"from_node_id\":\"7\",\"to_node_id\":\"6\",\"b1\":null,\"b2\":null},\"6\":{\"from_node_id\":\"5\",\"to_node_id\":\"4\",\"b1\":{\"x\":679,\"y\":-144.50003051757812},\"b2\":{\"x\":624.75,\"y\":-144.50003051757812}},\"7\":{\"from_node_id\":\"7\",\"to_node_id\":\"8\",\"b1\":{\"x\":803,\"y\":-144.50003051757812},\"b2\":{\"x\":857.25,\"y\":-144.50003051757812}}}},\"2\":{\"name\":\"\",\"bigg_id\":\"v3\",\"reversibility\":false,\"label_x\":1041,\"label_y\":-184.50003051757812,\"gene_reaction_rule\":\"\",\"genes\":[],\"metabolites\":[{\"bigg_id\":\"x3\",\"coefficient\":-1},{\"bigg_id\":\"x4\",\"coefficient\":1}],\"segments\":{\"8\":{\"from_node_id\":\"9\",\"to_node_id\":\"10\",\"b1\":null,\"b2\":null},\"9\":{\"from_node_id\":\"11\",\"to_node_id\":\"10\",\"b1\":null,\"b2\":null},\"10\":{\"from_node_id\":\"9\",\"to_node_id\":\"8\",\"b1\":{\"x\":1029,\"y\":-144.50003051757812},\"b2\":{\"x\":974.75,\"y\":-144.50003051757812}},\"11\":{\"from_node_id\":\"11\",\"to_node_id\":\"12\",\"b1\":{\"x\":1153,\"y\":-144.50003051757812},\"b2\":{\"x\":1207.25,\"y\":-144.50003051757812}}}}},\"nodes\":{\"0\":{\"node_type\":\"metabolite\",\"x\":216,\"y\":-144.50003051757812,\"bigg_id\":\"x1\",\"name\":\"\",\"label_x\":205.2,\"label_y\":-76.64847564697266,\"node_is_primary\":true},\"1\":{\"node_type\":\"multimarker\",\"x\":371,\"y\":-144.50003051757812},\"2\":{\"node_type\":\"midmarker\",\"x\":391,\"y\":-144.50003051757812},\"3\":{\"node_type\":\"multimarker\",\"x\":411,\"y\":-144.50003051757812},\"4\":{\"node_type\":\"metabolite\",\"x\":566,\"y\":-144.50003051757812,\"bigg_id\":\"x2\",\"name\":\"\",\"label_x\":555.2,\"label_y\":-75.57725524902344,\"node_is_primary\":true},\"5\":{\"node_type\":\"multimarker\",\"x\":721,\"y\":-144.50003051757812},\"6\":{\"node_type\":\"midmarker\",\"x\":741,\"y\":-144.50003051757812},\"7\":{\"node_type\":\"multimarker\",\"x\":761,\"y\":-144.50003051757812},\"8\":{\"node_type\":\"metabolite\",\"x\":916,\"y\":-144.50003051757812,\"bigg_id\":\"x3\",\"name\":\"\",\"label_x\":905.2,\"label_y\":-74.50604248046875,\"node_is_primary\":true},\"9\":{\"node_type\":\"multimarker\",\"x\":1071,\"y\":-144.50003051757812},\"10\":{\"node_type\":\"midmarker\",\"x\":1091,\"y\":-144.50003051757812},\"11\":{\"node_type\":\"multimarker\",\"x\":1111,\"y\":-144.50003051757812},\"12\":{\"node_type\":\"metabolite\",\"x\":1266,\"y\":-144.50003051757812,\"bigg_id\":\"x4\",\"name\":\"\",\"label_x\":1254.1287109375,\"label_y\":-74.50604248046875,\"node_is_primary\":true}},\"text_labels\":{},\"canvas\":{\"x\":87.25651550292969,\"y\":-298.0172119140625,\"width\":1285.4567413330078,\"height\":264.366361618042}}]\n",
       "_loaded_model_json": "{\"metabolites\": [{\"id\": \"x1\", \"name\": \"\", \"compartment\": \"\"}, {\"id\": \"x2\", \"name\": \"\", \"compartment\": \"\"}, {\"id\": \"x3\", \"name\": \"\", \"compartment\": \"\"}, {\"id\": \"x4\", \"name\": \"\", \"compartment\": \"\"}], \"reactions\": [{\"id\": \"v1\", \"name\": \"\", \"metabolites\": {\"x1\": -1, \"x2\": 1}, \"lower_bound\": -1000.0, \"upper_bound\": 1000.0, \"gene_reaction_rule\": \"\"}, {\"id\": \"v2\", \"name\": \"\", \"metabolites\": {\"x2\": -1, \"x3\": 1}, \"lower_bound\": -1000.0, \"upper_bound\": 1000.0, \"gene_reaction_rule\": \"\"}, {\"id\": \"v3\", \"name\": \"\", \"metabolites\": {\"x3\": -1, \"x4\": 1}, \"lower_bound\": -1000.0, \"upper_bound\": 1000.0, \"gene_reaction_rule\": \"\"}], \"genes\": [], \"id\": \"Simple_Toy\", \"compartments\": {}, \"version\": \"1\"}",
       "_model_module": "escher",
       "_model_module_version": "1.7.3",
       "_model_name": "EscherMapModel",
       "_view_count": null,
       "_view_module": "escher",
       "_view_module_version": "1.7.3",
       "_view_name": "EscherMapView",
       "allow_building_duplicate_reactions": null,
       "and_method_in_gene_reaction_rule": null,
       "canvas_size_and_loc": null,
       "cofactors": null,
       "disabled_buttons": null,
       "embedded_css": null,
       "enable_editing": null,
       "enable_keys": false,
       "enable_keys_with_tooltip": null,
       "enable_search": null,
       "enable_tooltips": false,
       "full_screen_button": {
        "enable_editing": true,
        "enable_keys": true,
        "enable_tooltips": [
         "label"
        ],
        "menu": "all",
        "scroll_behavior": "pan"
       },
       "gene_data": null,
       "gene_font_size": null,
       "height": 500,
       "hide_all_labels": null,
       "hide_secondary_metabolites": null,
       "highlight_missing": null,
       "identifiers_on_map": null,
       "layout": "IPY_MODEL_848d6f80e5004b3b89f17fe79eb92156",
       "marker_radius": null,
       "menu": null,
       "metabolite_compare_style": null,
       "metabolite_data": {
        "x1": 0,
        "x2": 0,
        "x3": 0,
        "x4": 0.99999999
       },
       "metabolite_no_data_color": null,
       "metabolite_no_data_size": null,
       "metabolite_scale": [
        {
         "color": "rgb(255.0, 0.0, 0.0)",
         "size": 10,
         "type": "value",
         "value": 0
        },
        {
         "color": "rgb(255.0, 102.0, 102.0)",
         "size": 14,
         "type": "value",
         "value": 0.2
        },
        {
         "color": "rgb(255.0, 203.99999999999994, 203.99999999999994)",
         "size": 18,
         "type": "value",
         "value": 0.4
        },
        {
         "color": "rgb(204.0, 204.0, 255.0)",
         "size": 22,
         "type": "value",
         "value": 0.6
        },
        {
         "color": "rgb(102.0, 102.0, 255.0)",
         "size": 26,
         "type": "value",
         "value": 0.8
        },
        {
         "color": "rgb(0.0, 0.0, 255.0)",
         "size": 30,
         "type": "value",
         "value": 1
        }
       ],
       "metabolite_scale_preset": null,
       "metabolite_styles": null,
       "never_ask_before_quit": true,
       "primary_metabolite_radius": null,
       "reaction_compare_style": null,
       "reaction_data": {
        "v1": 0,
        "v2": 0,
        "v3": 0
       },
       "reaction_no_data_color": null,
       "reaction_no_data_size": null,
       "reaction_scale": [
        {
         "color": "rgb(252.0, 251.0, 253.0)",
         "size": 10,
         "type": "min"
        },
        {
         "color": "rgb(218.0, 218.0, 235.0)",
         "size": 15,
         "type": "Q1"
        },
        {
         "color": "rgb(158.0, 154.0, 200.0)",
         "size": 20,
         "type": "median"
        },
        {
         "color": "rgb(106.0, 81.0, 163.0)",
         "size": 25,
         "type": "Q3"
        },
        {
         "color": "rgb(63.0, 0.0, 125.0)",
         "size": 30,
         "type": "max"
        },
        {
         "color": "grey",
         "size": 8,
         "type": "value",
         "value": 0
        }
       ],
       "reaction_scale_preset": null,
       "reaction_styles": null,
       "scroll_behavior": "none",
       "secondary_metabolite_radius": null,
       "semantic_zoom": null,
       "show_gene_reaction_rules": null,
       "starting_reaction": null,
       "use_3d_transform": null,
       "zoom_to_element": null
      }
     },
     "848d6f80e5004b3b89f17fe79eb92156": {
      "model_module": "@jupyter-widgets/base",
      "model_module_version": "1.2.0",
      "model_name": "LayoutModel",
      "state": {
       "_model_module": "@jupyter-widgets/base",
       "_model_module_version": "1.2.0",
       "_model_name": "LayoutModel",
       "_view_count": null,
       "_view_module": "@jupyter-widgets/base",
       "_view_module_version": "1.2.0",
       "_view_name": "LayoutView",
       "align_content": null,
       "align_items": null,
       "align_self": null,
       "border": null,
       "bottom": null,
       "display": null,
       "flex": null,
       "flex_flow": null,
       "grid_area": null,
       "grid_auto_columns": null,
       "grid_auto_flow": null,
       "grid_auto_rows": null,
       "grid_column": null,
       "grid_gap": null,
       "grid_row": null,
       "grid_template_areas": null,
       "grid_template_columns": null,
       "grid_template_rows": null,
       "height": null,
       "justify_content": null,
       "justify_items": null,
       "left": null,
       "margin": null,
       "max_height": null,
       "max_width": null,
       "min_height": null,
       "min_width": null,
       "object_fit": null,
       "object_position": null,
       "order": null,
       "overflow": null,
       "overflow_x": null,
       "overflow_y": null,
       "padding": null,
       "right": null,
       "top": null,
       "visibility": null,
       "width": null
      }
     }
    },
    "version_major": 2,
    "version_minor": 0
   }
  }
 },
 "nbformat": 4,
 "nbformat_minor": 2
}
