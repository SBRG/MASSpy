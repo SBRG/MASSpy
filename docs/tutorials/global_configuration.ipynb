{
 "cells": [
  {
   "cell_type": "markdown",
   "metadata": {},
   "source": [
    "# Global Configuration\n",
    "\n",
    "This notebook example demonstrates how the global configuration object, the `MassConfiguration`, is used to configure the default behaviors for various **COBRApy** and **MASSpy** methods."
   ]
  },
  {
   "cell_type": "code",
   "execution_count": 1,
   "metadata": {
    "execution": {
     "iopub.execute_input": "2020-10-11T03:31:33.120921Z",
     "iopub.status.busy": "2020-10-11T03:31:33.119999Z",
     "iopub.status.idle": "2020-10-11T03:31:35.453717Z",
     "shell.execute_reply": "2020-10-11T03:31:35.454248Z"
    }
   },
   "outputs": [],
   "source": [
    "import cobra\n",
    "\n",
    "import mass\n",
    "from mass.test import create_test_model\n",
    "\n",
    "cobra_config = cobra.Configuration()"
   ]
  },
  {
   "cell_type": "markdown",
   "metadata": {},
   "source": [
    "Note that changing the global configuration values is the most useful at the beginning of a work session."
   ]
  },
  {
   "cell_type": "markdown",
   "metadata": {},
   "source": [
    "## The MassConfiguration Object\n",
    "\n",
    "Similar to the `cobra.Configuration` object, the `MassConfiguration` object is a [singleton](https://en.wikipedia.org/wiki/Singleton_pattern), meaning that only one instance can exist and is respected everywhere in **MASSpy**. \n",
    "\n",
    "The `MassConfiguration` is retrieved via the following:"
   ]
  },
  {
   "cell_type": "code",
   "execution_count": 2,
   "metadata": {
    "execution": {
     "iopub.execute_input": "2020-10-11T03:31:35.458763Z",
     "iopub.status.busy": "2020-10-11T03:31:35.458138Z",
     "iopub.status.idle": "2020-10-11T03:31:35.460505Z",
     "shell.execute_reply": "2020-10-11T03:31:35.460943Z"
    }
   },
   "outputs": [],
   "source": [
    "mass_config = mass.MassConfiguration()"
   ]
  },
  {
   "cell_type": "markdown",
   "metadata": {},
   "source": [
    "The `MassConfiguration` is synchronized with the `cobra.Configuration` singleton object such that a change in one configuration object affects the other."
   ]
  },
  {
   "cell_type": "code",
   "execution_count": 3,
   "metadata": {
    "execution": {
     "iopub.execute_input": "2020-10-11T03:31:35.465748Z",
     "iopub.status.busy": "2020-10-11T03:31:35.464935Z",
     "iopub.status.idle": "2020-10-11T03:31:35.468233Z",
     "shell.execute_reply": "2020-10-11T03:31:35.468722Z"
    }
   },
   "outputs": [
    {
     "name": "stdout",
     "output_type": "stream",
     "text": [
      "cobra configuration before: (-1000.0, 1000.0)\n",
      "cobra configuration after: (-444, 444)\n"
     ]
    }
   ],
   "source": [
    "print(\"cobra configuration before: {0!r}\".format(cobra_config.bounds))\n",
    "# Change bounds using the MassConfiguration object\n",
    "mass_config.bounds = (-444, 444)\n",
    "print(\"cobra configuration after: {0!r}\".format(cobra_config.bounds))"
   ]
  },
  {
   "cell_type": "markdown",
   "metadata": {},
   "source": [
    "This means that changes only need to be made to the `MassConfiguration` object for workflows that involve both the **COBRApy** and **MASSpy** packages. The shared configuration attributes can be viewed using the `MassConfiguration.shared_state` attribute."
   ]
  },
  {
   "cell_type": "code",
   "execution_count": 4,
   "metadata": {
    "execution": {
     "iopub.execute_input": "2020-10-11T03:31:35.474843Z",
     "iopub.status.busy": "2020-10-11T03:31:35.474124Z",
     "iopub.status.idle": "2020-10-11T03:31:35.477620Z",
     "shell.execute_reply": "2020-10-11T03:31:35.478065Z"
    }
   },
   "outputs": [
    {
     "data": {
      "text/plain": [
       "['solver', 'tolerance', 'lower_bound', 'upper_bound', 'processes']"
      ]
     },
     "execution_count": 1,
     "metadata": {},
     "output_type": "execute_result"
    }
   ],
   "source": [
    "list(mass_config.shared_state)"
   ]
  },
  {
   "cell_type": "markdown",
   "metadata": {},
   "source": [
    "## Attributes for Model Construction\n",
    "\n",
    "The following attributes of the `MassConfiguration` alter default behaviors for constructing models and importing/exporting models via [SBML](http://sbml.org/Main_Page)."
   ]
  },
  {
   "cell_type": "code",
   "execution_count": 5,
   "metadata": {
    "execution": {
     "iopub.execute_input": "2020-10-11T03:31:35.482160Z",
     "iopub.status.busy": "2020-10-11T03:31:35.481546Z",
     "iopub.status.idle": "2020-10-11T03:31:35.484143Z",
     "shell.execute_reply": "2020-10-11T03:31:35.484665Z"
    }
   },
   "outputs": [],
   "source": [
    "from mass import MassMetabolite, MassReaction"
   ]
  },
  {
   "cell_type": "markdown",
   "metadata": {},
   "source": [
    "### For irreversible reactions\n",
    "\n",
    "When an irreversible reaction is created, the equilibrium constant and reverse rate constant are automatically set based on the `irreversible_Keq` and `irreversible_kr` attributes, respectively."
   ]
  },
  {
   "cell_type": "code",
   "execution_count": 6,
   "metadata": {
    "execution": {
     "iopub.execute_input": "2020-10-11T03:31:35.490783Z",
     "iopub.status.busy": "2020-10-11T03:31:35.489898Z",
     "iopub.status.idle": "2020-10-11T03:31:35.493587Z",
     "shell.execute_reply": "2020-10-11T03:31:35.494022Z"
    }
   },
   "outputs": [
    {
     "name": "stdout",
     "output_type": "stream",
     "text": [
      "Irreversible Keq: inf\n",
      "Irreversible kr: 0\n"
     ]
    },
    {
     "data": {
      "text/plain": [
       "{'Keq_R1': inf, 'kr_R1': 0}"
      ]
     },
     "execution_count": 1,
     "metadata": {},
     "output_type": "execute_result"
    }
   ],
   "source": [
    "mass_config.irreversible_Keq = float(\"inf\")\n",
    "mass_config.irreversible_kr = 0\n",
    "\n",
    "print(\"Irreversible Keq: {0}\".format(mass_config.irreversible_Keq))\n",
    "print(\"Irreversible kr: {0}\".format(mass_config.irreversible_kr))\n",
    "R1 = MassReaction(\"R1\", reversible=False)\n",
    "R1.parameters"
   ]
  },
  {
   "cell_type": "markdown",
   "metadata": {},
   "source": [
    "Changing the `irreversible_Keq` and `irreversible_kr` attributes affects newly created `MassReaction` objects."
   ]
  },
  {
   "cell_type": "code",
   "execution_count": 7,
   "metadata": {
    "execution": {
     "iopub.execute_input": "2020-10-11T03:31:35.499272Z",
     "iopub.status.busy": "2020-10-11T03:31:35.498370Z",
     "iopub.status.idle": "2020-10-11T03:31:35.501477Z",
     "shell.execute_reply": "2020-10-11T03:31:35.502030Z"
    }
   },
   "outputs": [
    {
     "name": "stdout",
     "output_type": "stream",
     "text": [
      "Irreversible Keq: 10000000.0\n",
      "Irreversible kr: 1e-06\n",
      "\n",
      "{'Keq_R2': 10000000.0, 'kr_R2': 1e-06}\n"
     ]
    }
   ],
   "source": [
    "mass_config.irreversible_Keq = 10e6\n",
    "mass_config.irreversible_kr = 1e-6\n",
    "print(\"Irreversible Keq: {0}\".format(mass_config.irreversible_Keq))\n",
    "print(\"Irreversible kr: {0}\\n\".format(mass_config.irreversible_kr))\n",
    "\n",
    "# Create new reaction\n",
    "R2 = MassReaction(\"R2\", reversible=False)\n",
    "print(R2.parameters)"
   ]
  },
  {
   "cell_type": "markdown",
   "metadata": {},
   "source": [
    "Existing reactions are not affected."
   ]
  },
  {
   "cell_type": "code",
   "execution_count": 8,
   "metadata": {
    "execution": {
     "iopub.execute_input": "2020-10-11T03:31:35.506119Z",
     "iopub.status.busy": "2020-10-11T03:31:35.505490Z",
     "iopub.status.idle": "2020-10-11T03:31:35.508279Z",
     "shell.execute_reply": "2020-10-11T03:31:35.508775Z"
    }
   },
   "outputs": [
    {
     "name": "stdout",
     "output_type": "stream",
     "text": [
      "{'Keq_R1': inf, 'kr_R1': 0}\n"
     ]
    }
   ],
   "source": [
    "print(R1.parameters)"
   ]
  },
  {
   "cell_type": "markdown",
   "metadata": {},
   "source": [
    "### For rate expressions\n",
    "\n",
    "Automatic generation of rate expressions are affected using the `exclude_metabolites_from_rates` and `exclude_compartment_volumes_in_rates` attributes."
   ]
  },
  {
   "cell_type": "code",
   "execution_count": 9,
   "metadata": {
    "execution": {
     "iopub.execute_input": "2020-10-11T03:31:35.513177Z",
     "iopub.status.busy": "2020-10-11T03:31:35.512457Z",
     "iopub.status.idle": "2020-10-11T03:31:35.668977Z",
     "shell.execute_reply": "2020-10-11T03:31:35.669497Z"
    }
   },
   "outputs": [],
   "source": [
    "model = create_test_model(\"textbook\")"
   ]
  },
  {
   "cell_type": "markdown",
   "metadata": {},
   "source": [
    "#### Excluding metabolites from rates\n",
    "\n",
    "The `exclude_metabolites_from_rates` attribute determines which metabolites to exclude from rate expressions by using a dictionary that contains a metabolite attribute for filtering, and a list of values to be excluded."
   ]
  },
  {
   "cell_type": "code",
   "execution_count": 10,
   "metadata": {
    "execution": {
     "iopub.execute_input": "2020-10-11T03:31:35.674094Z",
     "iopub.status.busy": "2020-10-11T03:31:35.673100Z",
     "iopub.status.idle": "2020-10-11T03:31:35.676130Z",
     "shell.execute_reply": "2020-10-11T03:31:35.676757Z"
    }
   },
   "outputs": [
    {
     "data": {
      "text/plain": [
       "{'elements': [{'H': 2, 'O': 1}, {'H': 1}]}"
      ]
     },
     "execution_count": 1,
     "metadata": {},
     "output_type": "execute_result"
    }
   ],
   "source": [
    "mass_config.exclude_metabolites_from_rates"
   ]
  },
  {
   "cell_type": "markdown",
   "metadata": {},
   "source": [
    "The default setting utilizes the `MassMetabolite.elements` attribute for filtering, excluding any metabolite that returns the elements for hydrogen and water."
   ]
  },
  {
   "cell_type": "code",
   "execution_count": 11,
   "metadata": {
    "execution": {
     "iopub.execute_input": "2020-10-11T03:31:35.689010Z",
     "iopub.status.busy": "2020-10-11T03:31:35.688360Z",
     "iopub.status.idle": "2020-10-11T03:31:35.694001Z",
     "shell.execute_reply": "2020-10-11T03:31:35.694456Z"
    }
   },
   "outputs": [
    {
     "name": "stdout",
     "output_type": "stream",
     "text": [
      "kf_ENO*(_2pg_c(t) - pep_c(t)/Keq_ENO)\n"
     ]
    }
   ],
   "source": [
    "ENO = model.reactions.get_by_id(\"ENO\")\n",
    "print(ENO.rate)"
   ]
  },
  {
   "cell_type": "markdown",
   "metadata": {},
   "source": [
    "The `exclude_metabolites_from_rates` attribute can be changed by providing a `dict` that contains a metabolite attribute for filtering and the list of values to be excluded. For example, to exclude \"2pg_c\" by using its `name` attribute as the criteria for exclusion:"
   ]
  },
  {
   "cell_type": "code",
   "execution_count": 12,
   "metadata": {
    "execution": {
     "iopub.execute_input": "2020-10-11T03:31:35.703544Z",
     "iopub.status.busy": "2020-10-11T03:31:35.702813Z",
     "iopub.status.idle": "2020-10-11T03:31:35.705985Z",
     "shell.execute_reply": "2020-10-11T03:31:35.706423Z"
    }
   },
   "outputs": [
    {
     "name": "stdout",
     "output_type": "stream",
     "text": [
      "kf_ENO*(1 - h2o_c(t)*pep_c(t)/Keq_ENO)\n"
     ]
    }
   ],
   "source": [
    "mass_config.exclude_metabolites_from_rates = {\"name\": [\"D-Glycerate 2-phosphate\"]}\n",
    "ENO = model.reactions.get_by_id(\"ENO\")\n",
    "print(ENO.rate)"
   ]
  },
  {
   "cell_type": "markdown",
   "metadata": {},
   "source": [
    "Or, to exclude hydrogen and water by using their identifiers:"
   ]
  },
  {
   "cell_type": "code",
   "execution_count": 13,
   "metadata": {
    "execution": {
     "iopub.execute_input": "2020-10-11T03:31:35.717255Z",
     "iopub.status.busy": "2020-10-11T03:31:35.710325Z",
     "iopub.status.idle": "2020-10-11T03:31:35.719647Z",
     "shell.execute_reply": "2020-10-11T03:31:35.720086Z"
    }
   },
   "outputs": [
    {
     "name": "stdout",
     "output_type": "stream",
     "text": [
      "kf_ENO*(_2pg_c(t) - pep_c(t)/Keq_ENO)\n"
     ]
    }
   ],
   "source": [
    "mass_config.exclude_metabolites_from_rates = {\"id\": [\"h_c\", \"h2o_c\"]}\n",
    "ENO = model.reactions.get_by_id(\"ENO\")\n",
    "print(ENO.rate)"
   ]
  },
  {
   "cell_type": "markdown",
   "metadata": {},
   "source": [
    "Boundary reactions are unaffected by the `exclude_metabolites_from_rates` attribute:"
   ]
  },
  {
   "cell_type": "code",
   "execution_count": 14,
   "metadata": {
    "execution": {
     "iopub.execute_input": "2020-10-11T03:31:35.739543Z",
     "iopub.status.busy": "2020-10-11T03:31:35.738819Z",
     "iopub.status.idle": "2020-10-11T03:31:35.741678Z",
     "shell.execute_reply": "2020-10-11T03:31:35.742205Z"
    }
   },
   "outputs": [
    {
     "name": "stdout",
     "output_type": "stream",
     "text": [
      "kf_SK_h_c*(h_c(t) - h_b/Keq_SK_h_c)\n",
      "kf_SK_h2o_c*(h2o_c(t) - h2o_b/Keq_SK_h2o_c)\n"
     ]
    }
   ],
   "source": [
    "for rid in [\"SK_h_c\", \"SK_h2o_c\"]:\n",
    "    reaction = model.reactions.get_by_id(rid)\n",
    "    print(reaction.rate)"
   ]
  },
  {
   "cell_type": "markdown",
   "metadata": {},
   "source": [
    "#### Excluding compartments from rates\n",
    "\n",
    "The `exclude_compartment_volumes_in_rates` attribute determines whether compartment volumes are factored into rate expressions. By default, compartment volumes are not included in automatically generated rate expressions:"
   ]
  },
  {
   "cell_type": "code",
   "execution_count": 15,
   "metadata": {
    "execution": {
     "iopub.execute_input": "2020-10-11T03:31:35.755297Z",
     "iopub.status.busy": "2020-10-11T03:31:35.754563Z",
     "iopub.status.idle": "2020-10-11T03:31:35.757574Z",
     "shell.execute_reply": "2020-10-11T03:31:35.758033Z"
    }
   },
   "outputs": [
    {
     "name": "stdout",
     "output_type": "stream",
     "text": [
      "kf_PGI*(g6p_c(t) - f6p_c(t)/Keq_PGI)\n"
     ]
    }
   ],
   "source": [
    "PGI = model.reactions.get_by_id(\"PGI\")\n",
    "print(PGI.rate)"
   ]
  },
  {
   "cell_type": "markdown",
   "metadata": {},
   "source": [
    "When the `exclude_compartment_volumes_in_rates` attribute is set as `False`, compartments are included in rate expressions as \"volume_CID\", with \"CID\" referring to the compartment identifier. "
   ]
  },
  {
   "cell_type": "code",
   "execution_count": 16,
   "metadata": {
    "execution": {
     "iopub.execute_input": "2020-10-11T03:31:35.769846Z",
     "iopub.status.busy": "2020-10-11T03:31:35.769109Z",
     "iopub.status.idle": "2020-10-11T03:31:35.772323Z",
     "shell.execute_reply": "2020-10-11T03:31:35.772765Z"
    }
   },
   "outputs": [
    {
     "name": "stdout",
     "output_type": "stream",
     "text": [
      "kf_PGI*volume_c*(g6p_c(t) - f6p_c(t)/Keq_PGI)\n"
     ]
    }
   ],
   "source": [
    "mass_config.exclude_compartment_volumes_in_rates = False\n",
    "\n",
    "PGI = model.reactions.get_by_id(\"PGI\")\n",
    "model.custom_parameters[\"volume_c\"] = 1\n",
    "\n",
    "print(PGI.rate)"
   ]
  },
  {
   "cell_type": "markdown",
   "metadata": {},
   "source": [
    "The compartment volume is currently treated as a custom parameter. This behavior is subject to change in future updates following the release of COBRApy compartment objects. "
   ]
  },
  {
   "cell_type": "markdown",
   "metadata": {},
   "source": [
    "### For compartments and SBML"
   ]
  },
  {
   "cell_type": "markdown",
   "metadata": {},
   "source": [
    "The `boundary_compartment` attribute defines the compartment for any external boundary species. "
   ]
  },
  {
   "cell_type": "code",
   "execution_count": 17,
   "metadata": {
    "execution": {
     "iopub.execute_input": "2020-10-11T03:31:35.778088Z",
     "iopub.status.busy": "2020-10-11T03:31:35.777337Z",
     "iopub.status.idle": "2020-10-11T03:31:35.781008Z",
     "shell.execute_reply": "2020-10-11T03:31:35.781520Z"
    }
   },
   "outputs": [
    {
     "name": "stdout",
     "output_type": "stream",
     "text": [
      "{'b': 'boundary'}\n"
     ]
    },
    {
     "data": {
      "text/plain": [
       "'x1_b'"
      ]
     },
     "execution_count": 1,
     "metadata": {},
     "output_type": "execute_result"
    }
   ],
   "source": [
    "# Create a boundary reaction\n",
    "x1_c = MassMetabolite(\"x1_c\", compartment=\"c\")\n",
    "R3 = MassReaction(\"R1\")\n",
    "R3.add_metabolites({x1_c: -1})\n",
    "\n",
    "print(mass_config.boundary_compartment)\n",
    "R3.boundary_metabolite"
   ]
  },
  {
   "cell_type": "markdown",
   "metadata": {},
   "source": [
    "The `boundary_compartment` can be changed using a `dict` that contains the new compartment identifier and its full name. "
   ]
  },
  {
   "cell_type": "code",
   "execution_count": 18,
   "metadata": {
    "execution": {
     "iopub.execute_input": "2020-10-11T03:31:35.785972Z",
     "iopub.status.busy": "2020-10-11T03:31:35.785230Z",
     "iopub.status.idle": "2020-10-11T03:31:35.788601Z",
     "shell.execute_reply": "2020-10-11T03:31:35.789128Z"
    }
   },
   "outputs": [
    {
     "data": {
      "text/plain": [
       "'x1_xt'"
      ]
     },
     "execution_count": 1,
     "metadata": {},
     "output_type": "execute_result"
    }
   ],
   "source": [
    "mass_config.boundary_compartment = {\"xt\": \"external\"}\n",
    "R3.boundary_metabolite"
   ]
  },
  {
   "cell_type": "markdown",
   "metadata": {},
   "source": [
    "Because the `mass.Simulation` object uses the **libRoadRunner** package, a simulator for SBML models, a model cannot be simulated without defining at least one compartment. The `default_compartment` attribute is used to define the compartment of the model when no compartments have been defined."
   ]
  },
  {
   "cell_type": "code",
   "execution_count": 19,
   "metadata": {
    "execution": {
     "iopub.execute_input": "2020-10-11T03:31:35.793843Z",
     "iopub.status.busy": "2020-10-11T03:31:35.793044Z",
     "iopub.status.idle": "2020-10-11T03:31:35.796360Z",
     "shell.execute_reply": "2020-10-11T03:31:35.796808Z"
    }
   },
   "outputs": [
    {
     "data": {
      "text/plain": [
       "{'compartment': 'default_compartment'}"
      ]
     },
     "execution_count": 1,
     "metadata": {},
     "output_type": "execute_result"
    }
   ],
   "source": [
    "mass_config.default_compartment"
   ]
  },
  {
   "cell_type": "markdown",
   "metadata": {},
   "source": [
    "As with the `boundary_compartment` attribute, the `default_compartment` attribute can be changed using a `dict`:"
   ]
  },
  {
   "cell_type": "code",
   "execution_count": 20,
   "metadata": {
    "execution": {
     "iopub.execute_input": "2020-10-11T03:31:35.801182Z",
     "iopub.status.busy": "2020-10-11T03:31:35.800460Z",
     "iopub.status.idle": "2020-10-11T03:31:35.803610Z",
     "shell.execute_reply": "2020-10-11T03:31:35.804227Z"
    }
   },
   "outputs": [
    {
     "data": {
      "text/plain": [
       "{'def': 'default_compartment'}"
      ]
     },
     "execution_count": 1,
     "metadata": {},
     "output_type": "execute_result"
    }
   ],
   "source": [
    "mass_config.default_compartment = {\"def\": \"default_compartment\"}\n",
    "mass_config.default_compartment"
   ]
  },
  {
   "cell_type": "markdown",
   "metadata": {},
   "source": [
    "#### Model creator\n",
    "\n",
    "SBML also allows for a model creator to be defined when exporting models:"
   ]
  },
  {
   "cell_type": "code",
   "execution_count": 21,
   "metadata": {
    "execution": {
     "iopub.execute_input": "2020-10-11T03:31:35.808781Z",
     "iopub.status.busy": "2020-10-11T03:31:35.807952Z",
     "iopub.status.idle": "2020-10-11T03:31:35.811204Z",
     "shell.execute_reply": "2020-10-11T03:31:35.811646Z"
    }
   },
   "outputs": [
    {
     "data": {
      "text/plain": [
       "{'familyName': '', 'givenName': '', 'organization': '', 'email': ''}"
      ]
     },
     "execution_count": 1,
     "metadata": {},
     "output_type": "execute_result"
    }
   ],
   "source": [
    "mass_config.model_creator"
   ]
  },
  {
   "cell_type": "markdown",
   "metadata": {},
   "source": [
    "The `model_creator` attribute of the `MassConfiguration` allows the model creator to be set at the time of export by using a `dict`, with valid keys as \"familyName\", \"givenName\", \"organization\", and \"email\"."
   ]
  },
  {
   "cell_type": "code",
   "execution_count": 22,
   "metadata": {
    "execution": {
     "iopub.execute_input": "2020-10-11T03:31:35.816565Z",
     "iopub.status.busy": "2020-10-11T03:31:35.815791Z",
     "iopub.status.idle": "2020-10-11T03:31:35.819097Z",
     "shell.execute_reply": "2020-10-11T03:31:35.819547Z"
    }
   },
   "outputs": [
    {
     "data": {
      "text/plain": [
       "{'familyName': 'Smith',\n",
       " 'givenName': 'John',\n",
       " 'organization': 'Systems Biology Research Group @UCSD',\n",
       " 'email': ''}"
      ]
     },
     "execution_count": 1,
     "metadata": {},
     "output_type": "execute_result"
    }
   ],
   "source": [
    "mass_config.model_creator = {\n",
    "    \"familyName\": \"Smith\",\n",
    "    \"givenName\": \"John\",\n",
    "    \"organization\": \"Systems Biology Research Group @UCSD\"}\n",
    "mass_config.model_creator"
   ]
  },
  {
   "cell_type": "markdown",
   "metadata": {},
   "source": [
    "## Attributes for Simulation and Analysis\n",
    "\n",
    "The following attributes of the `MassConfiguration` alter default behaviors of various simulation and analytical methods."
   ]
  },
  {
   "cell_type": "code",
   "execution_count": 23,
   "metadata": {
    "execution": {
     "iopub.execute_input": "2020-10-11T03:31:35.824232Z",
     "iopub.status.busy": "2020-10-11T03:31:35.823574Z",
     "iopub.status.idle": "2020-10-11T03:31:36.442985Z",
     "shell.execute_reply": "2020-10-11T03:31:36.443595Z"
    }
   },
   "outputs": [
    {
     "name": "stdout",
     "output_type": "stream",
     "text": [
      "Successfully loaded MassModel 'Glycolysis' into RoadRunner.\n"
     ]
    }
   ],
   "source": [
    "from mass import Simulation\n",
    "\n",
    "# Reset configurations before loading model\n",
    "mass_config.boundary_compartment = {\"b\": \"boundary\"}\n",
    "mass_config.exclude_compartment_volumes_in_rates = True\n",
    "\n",
    "model = create_test_model(\"Glycolysis\")\n",
    "sim = Simulation(model, verbose=True)"
   ]
  },
  {
   "cell_type": "markdown",
   "metadata": {},
   "source": [
    "### Steady state threshold\n",
    "\n",
    "The `MassConfiguration.steady_state_threshold` attribute determines whether a model has reached a steady state using the following criteria:\n",
    "\n",
    "* With simulations (i.e., `strategy=simulate`), the absolute difference between the last two solution points must be less than or equal to the steady state threshold.\n",
    "\n",
    "* With steady state solvers, the sum of squares of the steady state solutions must be less than or equal to the steady state threshold.\n",
    "\n",
    "In general, compared values must be less than or equal to the `steady_state_threshold` attribute to be considered at a steady state."
   ]
  },
  {
   "cell_type": "code",
   "execution_count": 24,
   "metadata": {
    "execution": {
     "iopub.execute_input": "2020-10-11T03:31:36.448447Z",
     "iopub.status.busy": "2020-10-11T03:31:36.447806Z",
     "iopub.status.idle": "2020-10-11T03:31:36.466301Z",
     "shell.execute_reply": "2020-10-11T03:31:36.466751Z"
    }
   },
   "outputs": [
    {
     "name": "stderr",
     "output_type": "stream",
     "text": [
      "mass/simulation/simulation.py:828 \u001b[1;31mUserWarning\u001b[0m: Unable to find a steady state for one or more models. Check the log for more details.\n",
      "\u001b[91mERROR:\u001b[0m \u001b[91mUnable to find a steady state for 'Glycolysis' using strategy 'simulate' due to the following: For MassModel \"Glycolysis\", absolute difference for \"['[fdp_c]']\" is greater than the steady state threshold.\u001b[0m\n"
     ]
    },
    {
     "data": {
      "text/plain": [
       "False"
      ]
     },
     "execution_count": 1,
     "metadata": {},
     "output_type": "execute_result"
    }
   ],
   "source": [
    "mass_config.steady_state_threshold = 1e-20\n",
    "conc_sol, flux_sol = sim.find_steady_state(model, strategy=\"simulate\")\n",
    "bool(conc_sol)  # Empty solution objects return False"
   ]
  },
  {
   "cell_type": "markdown",
   "metadata": {},
   "source": [
    "Changing the threshold affects whether solution values are considered to be at steady state:"
   ]
  },
  {
   "cell_type": "code",
   "execution_count": 25,
   "metadata": {
    "execution": {
     "iopub.execute_input": "2020-10-11T03:31:36.471618Z",
     "iopub.status.busy": "2020-10-11T03:31:36.470980Z",
     "iopub.status.idle": "2020-10-11T03:31:36.489284Z",
     "shell.execute_reply": "2020-10-11T03:31:36.489725Z"
    },
    "scrolled": true
   },
   "outputs": [
    {
     "data": {
      "text/plain": [
       "True"
      ]
     },
     "execution_count": 1,
     "metadata": {},
     "output_type": "execute_result"
    }
   ],
   "source": [
    "mass_config.steady_state_threshold = 1e-6\n",
    "conc_sol, flux_sol = sim.find_steady_state(model, strategy=\"simulate\")\n",
    "bool(conc_sol)  # Filled solution objects return False"
   ]
  },
  {
   "cell_type": "markdown",
   "metadata": {},
   "source": [
    "### Decimal precision\n",
    "\n",
    "The `MassConfiguration.decimal_precision` attribute is a special attribute used in several `mass` methods. The value of the attribute determines how many digits in rounding after the decimal to preserve.\n",
    "\n",
    "For many methods, the `decimal_precision` attribute will not be applied unless a `decimal_precision` kwarg is set as `True`."
   ]
  },
  {
   "cell_type": "code",
   "execution_count": 26,
   "metadata": {
    "execution": {
     "iopub.execute_input": "2020-10-11T03:31:36.495186Z",
     "iopub.status.busy": "2020-10-11T03:31:36.494472Z",
     "iopub.status.idle": "2020-10-11T03:31:36.527844Z",
     "shell.execute_reply": "2020-10-11T03:31:36.528292Z"
    }
   },
   "outputs": [
    {
     "name": "stdout",
     "output_type": "stream",
     "text": [
      "1.0000003633303345\n",
      "1.00000036\n"
     ]
    }
   ],
   "source": [
    "# Set decimal precision\n",
    "mass_config.decimal_precision = 8\n",
    "\n",
    "# Will not apply decimal precision to steady state solutions\n",
    "conc_sol, flux_sol = sim.find_steady_state(model, strategy=\"simulate\",\n",
    "                                           decimal_precision=False)\n",
    "print(conc_sol[\"glc__D_c\"])\n",
    "\n",
    "# Will apply decimal precision to steady state solutions\n",
    "conc_sol, flux_sol = sim.find_steady_state(model, strategy=\"simulate\",\n",
    "                                           decimal_precision=True)\n",
    "print(conc_sol[\"glc__D_c\"])"
   ]
  },
  {
   "cell_type": "markdown",
   "metadata": {},
   "source": [
    "If `MassConfiguration.decimal_precision` is `None`, no rounding will occur."
   ]
  },
  {
   "cell_type": "code",
   "execution_count": 27,
   "metadata": {
    "execution": {
     "iopub.execute_input": "2020-10-11T03:31:36.533196Z",
     "iopub.status.busy": "2020-10-11T03:31:36.532414Z",
     "iopub.status.idle": "2020-10-11T03:31:36.549493Z",
     "shell.execute_reply": "2020-10-11T03:31:36.549987Z"
    }
   },
   "outputs": [
    {
     "name": "stdout",
     "output_type": "stream",
     "text": [
      "1.0000003633303345\n"
     ]
    }
   ],
   "source": [
    "mass_config.decimal_precision = None\n",
    "\n",
    "# Will apply decimal precision to steady state solutions\n",
    "conc_sol, flux_sol = sim.find_steady_state(model, strategy=\"simulate\",\n",
    "                                           decimal_precision=True)\n",
    "print(conc_sol[\"glc__D_c\"])"
   ]
  },
  {
   "cell_type": "markdown",
   "metadata": {},
   "source": [
    "## Shared COBRA Attributes\n",
    "\n",
    "The following attributes are those shared with the `cobra.Configuration` object."
   ]
  },
  {
   "cell_type": "markdown",
   "metadata": {},
   "source": [
    "### Bounds\n",
    "\n",
    "When a reaction is created, its default bound values are determined by the `lower_bound` and `upper_bound` attributes of the `MassConfiguration`:"
   ]
  },
  {
   "cell_type": "code",
   "execution_count": 28,
   "metadata": {
    "execution": {
     "iopub.execute_input": "2020-10-11T03:31:36.554487Z",
     "iopub.status.busy": "2020-10-11T03:31:36.553836Z",
     "iopub.status.idle": "2020-10-11T03:31:36.556596Z",
     "shell.execute_reply": "2020-10-11T03:31:36.557047Z"
    }
   },
   "outputs": [
    {
     "name": "stdout",
     "output_type": "stream",
     "text": [
      "R4 bounds: (-1000, 1000)\n"
     ]
    }
   ],
   "source": [
    "mass_config.lower_bound = -1000\n",
    "mass_config.upper_bound = 1000\n",
    "R4 = MassReaction(\"R4\")\n",
    "print(\"R4 bounds: {0}\".format(R4.bounds))"
   ]
  },
  {
   "cell_type": "markdown",
   "metadata": {},
   "source": [
    "Changing the bounds affects newly created reactions, but not existing ones:"
   ]
  },
  {
   "cell_type": "code",
   "execution_count": 29,
   "metadata": {
    "execution": {
     "iopub.execute_input": "2020-10-11T03:31:36.561759Z",
     "iopub.status.busy": "2020-10-11T03:31:36.561100Z",
     "iopub.status.idle": "2020-10-11T03:31:36.563561Z",
     "shell.execute_reply": "2020-10-11T03:31:36.563999Z"
    }
   },
   "outputs": [
    {
     "name": "stdout",
     "output_type": "stream",
     "text": [
      "R5 bounds: (-444, 444)\n",
      "R4 bounds: (-1000, 1000)\n"
     ]
    }
   ],
   "source": [
    "mass_config.bounds = (-444, 444)\n",
    "R5 = MassReaction(\"R5\")\n",
    "print(\"R5 bounds: {0}\".format(R5.bounds))\n",
    "print(\"R4 bounds: {0}\".format(R4.bounds))"
   ]
  },
  {
   "cell_type": "markdown",
   "metadata": {},
   "source": [
    "### Solver\n",
    "\n",
    "The default solver and solver tolerance attributes are determined by the `solver` and `tolerance` attributes of the `MassConfiguration`. The `solver` and `tolerance` attributes are utilized by newly instantiated models and `ConcSolver` objects."
   ]
  },
  {
   "cell_type": "code",
   "execution_count": 30,
   "metadata": {
    "execution": {
     "iopub.execute_input": "2020-10-11T03:31:36.568892Z",
     "iopub.status.busy": "2020-10-11T03:31:36.568061Z",
     "iopub.status.idle": "2020-10-11T03:31:36.789079Z",
     "shell.execute_reply": "2020-10-11T03:31:36.789668Z"
    }
   },
   "outputs": [
    {
     "name": "stdout",
     "output_type": "stream",
     "text": [
      "Solver <optlang.gurobi_interface.Model object at 0x7f872d83fa90>\n",
      "Tolerance 1e-07\n"
     ]
    }
   ],
   "source": [
    "model = create_test_model(\"textbook\")\n",
    "print(\"Solver {0!r}\".format(model.solver))\n",
    "print(\"Tolerance {0}\".format(model.tolerance))"
   ]
  },
  {
   "cell_type": "markdown",
   "metadata": {},
   "source": [
    "The default solver can be changed, depending on the solvers installed in the current environment. GLPK is assumed to always be present in the environment.\n",
    "\n",
    "The solver tolerance is similarly set using the `tolerance` attribute."
   ]
  },
  {
   "cell_type": "code",
   "execution_count": 31,
   "metadata": {
    "execution": {
     "iopub.execute_input": "2020-10-11T03:31:36.827647Z",
     "iopub.status.busy": "2020-10-11T03:31:36.827027Z",
     "iopub.status.idle": "2020-10-11T03:31:36.885834Z",
     "shell.execute_reply": "2020-10-11T03:31:36.885289Z"
    }
   },
   "outputs": [
    {
     "name": "stdout",
     "output_type": "stream",
     "text": [
      "Solver <optlang.glpk_interface.Model object at 0x7f872da9be10>\n",
      "Tolerance 0.0001\n"
     ]
    }
   ],
   "source": [
    "# Change solver and solver tolerance\n",
    "mass_config.solver = \"glpk\"\n",
    "mass_config.tolerance = 1e-4\n",
    "\n",
    "# Instantiate a new model to observe changes\n",
    "model = create_test_model(\"textbook\")\n",
    "print(\"Solver {0!r}\".format(model.solver))\n",
    "print(\"Tolerance {0}\".format(model.tolerance))"
   ]
  },
  {
   "cell_type": "markdown",
   "metadata": {},
   "source": [
    "### Number of processes\n",
    "\n",
    "The `MassConfiguration.processes` determines the default number of processes used when multiprocessing is possible. The default number corresponds to the number of available cores (hyperthreads)."
   ]
  },
  {
   "cell_type": "code",
   "execution_count": 32,
   "metadata": {
    "execution": {
     "iopub.execute_input": "2020-10-11T03:31:36.890168Z",
     "iopub.status.busy": "2020-10-11T03:31:36.889398Z",
     "iopub.status.idle": "2020-10-11T03:31:36.892295Z",
     "shell.execute_reply": "2020-10-11T03:31:36.892961Z"
    }
   },
   "outputs": [
    {
     "data": {
      "text/plain": [
       "3"
      ]
     },
     "execution_count": 1,
     "metadata": {},
     "output_type": "execute_result"
    }
   ],
   "source": [
    "mass_config.processes"
   ]
  }
 ],
 "metadata": {
  "kernelspec": {
   "display_name": "Python 3",
   "language": "python",
   "name": "python3"
  },
  "language_info": {
   "codemirror_mode": {
    "name": "ipython",
    "version": 3
   },
   "file_extension": ".py",
   "mimetype": "text/x-python",
   "name": "python",
   "nbconvert_exporter": "python",
   "pygments_lexer": "ipython3",
   "version": "3.7.9"
  }
 },
 "nbformat": 4,
 "nbformat_minor": 2
}
