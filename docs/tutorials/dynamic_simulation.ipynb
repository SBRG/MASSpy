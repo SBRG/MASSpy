{
 "cells": [
  {
   "cell_type": "markdown",
   "metadata": {},
   "source": [
    "# Dynamic Simulation of Models\n",
    "\n",
    "This notebook example provides a basic demonstration on how to dynamically simulate models."
   ]
  },
  {
   "cell_type": "code",
   "execution_count": 1,
   "metadata": {
    "execution": {
     "iopub.execute_input": "2021-01-25T18:00:09.743939Z",
     "iopub.status.busy": "2021-01-25T18:00:09.743038Z",
     "iopub.status.idle": "2021-01-25T18:00:13.504852Z",
     "shell.execute_reply": "2021-01-25T18:00:13.505687Z"
    }
   },
   "outputs": [],
   "source": [
    "import mass.example_data\n",
    "\n",
    "model = mass.example_data.create_example_model(\"Phosphate_Trafficking\")"
   ]
  },
  {
   "cell_type": "markdown",
   "metadata": {},
   "source": [
    "## Creating a Simulation\n",
    "\n",
    "The `Simulation` object manages all aspects related to simulating one or more model. This includes interfacing with the `RoadRunner` object from the [libRoadRunner](https://libroadrunner.readthedocs.io/en/latest/index.html) package, which is utilized for JIT compilation of the model, integration of model ODEs, and returning simulation output."
   ]
  },
  {
   "cell_type": "code",
   "execution_count": 2,
   "metadata": {
    "execution": {
     "iopub.execute_input": "2021-01-25T18:00:13.512347Z",
     "iopub.status.busy": "2021-01-25T18:00:13.511340Z",
     "iopub.status.idle": "2021-01-25T18:00:13.513264Z",
     "shell.execute_reply": "2021-01-25T18:00:13.513706Z"
    }
   },
   "outputs": [],
   "source": [
    "from mass import Simulation"
   ]
  },
  {
   "cell_type": "markdown",
   "metadata": {},
   "source": [
    "### Loading a model\n",
    "\n",
    "A `Simulation` object is initialized by providing a `MassModel` to be loaded into the underlying `RoadRunner` object. The provided `MassModel` is treated as the `reference_model` of the `Simulation`. \n",
    "\n",
    "`RoadRunner` is designed to simulate models in [SBML](http://sbml.org/Main_Page) format. Therefore, models must be SBML compliant to be loaded into the `RoadRunner` instance."
   ]
  },
  {
   "cell_type": "code",
   "execution_count": 3,
   "metadata": {
    "execution": {
     "iopub.execute_input": "2021-01-25T18:00:13.596500Z",
     "iopub.status.busy": "2021-01-25T18:00:13.557745Z",
     "iopub.status.idle": "2021-01-25T18:00:13.743932Z",
     "shell.execute_reply": "2021-01-25T18:00:13.744555Z"
    }
   },
   "outputs": [
    {
     "name": "stdout",
     "output_type": "stream",
     "text": [
      "Successfully loaded MassModel 'Phosphate_Trafficking' into RoadRunner.\n"
     ]
    }
   ],
   "source": [
    "sim = Simulation(reference_model=model, verbose=True)"
   ]
  },
  {
   "cell_type": "markdown",
   "metadata": {},
   "source": [
    "The reference `MassModel` is accessed using the `reference_model` attribute."
   ]
  },
  {
   "cell_type": "code",
   "execution_count": 4,
   "metadata": {
    "execution": {
     "iopub.execute_input": "2021-01-25T18:00:13.752920Z",
     "iopub.status.busy": "2021-01-25T18:00:13.751925Z",
     "iopub.status.idle": "2021-01-25T18:00:13.757001Z",
     "shell.execute_reply": "2021-01-25T18:00:13.758365Z"
    }
   },
   "outputs": [
    {
     "data": {
      "text/html": [
       "\n",
       "            <table>\n",
       "                <tr>\n",
       "                    <td><strong>Name</strong></td><td>Phosphate_Trafficking</td>\n",
       "                </tr><tr>\n",
       "                    <td><strong>Memory address</strong></td><td>0x07f9fbc738050</td>\n",
       "                </tr><tr>\n",
       "                    <td><strong>Stoichiometric Matrix</strong></td>\n",
       "                    <td>5x6</td>\n",
       "                </tr><tr>\n",
       "                    <td><strong>Matrix Rank</strong></td>\n",
       "                    <td>4</td>\n",
       "                </tr><tr>\n",
       "                    <td><strong>Number of metabolites</strong></td>\n",
       "                    <td>5</td>\n",
       "                </tr><tr>\n",
       "                    <td><strong>Initial conditions defined</strong></td>\n",
       "                    <td>5/5</td>\n",
       "                </tr><tr>\n",
       "                    <td><strong>Number of reactions</strong></td>\n",
       "                    <td>6</td>\n",
       "                </tr><tr>\n",
       "                    <td><strong>Number of genes</strong></td>\n",
       "                    <td>0</td>\n",
       "                </tr><tr>\n",
       "                    <td><strong>Number of enzyme modules</strong></td>\n",
       "                    <td>0</td>\n",
       "                </tr><tr>\n",
       "                    <td><strong>Number of groups</strong></td>\n",
       "                    <td>0</td>\n",
       "                </tr><tr>\n",
       "                    <td><strong>Objective expression</strong></td>\n",
       "                    <td>0</td>\n",
       "                </tr><tr>\n",
       "                    <td><strong>Compartments</strong></td>\n",
       "                    <td>compartment</td>\n",
       "                </tr>\n",
       "            </table>\n",
       "        "
      ],
      "text/plain": [
       "<MassModel Phosphate_Trafficking at 0x7f9fbc738050>"
      ]
     },
     "execution_count": 1,
     "metadata": {},
     "output_type": "execute_result"
    }
   ],
   "source": [
    "sim.reference_model"
   ]
  },
  {
   "cell_type": "markdown",
   "metadata": {},
   "source": [
    "The underlying `RoadRunner` instance can be accessed using the `roadrunner` attribute:"
   ]
  },
  {
   "cell_type": "code",
   "execution_count": 5,
   "metadata": {
    "execution": {
     "iopub.execute_input": "2021-01-25T18:00:13.763855Z",
     "iopub.status.busy": "2021-01-25T18:00:13.762634Z",
     "iopub.status.idle": "2021-01-25T18:00:13.768252Z",
     "shell.execute_reply": "2021-01-25T18:00:13.768752Z"
    }
   },
   "outputs": [
    {
     "data": {
      "text/plain": [
       "<roadrunner.RoadRunner() { this = 0x7f9fbc8187e0 }>"
      ]
     },
     "execution_count": 1,
     "metadata": {},
     "output_type": "execute_result"
    }
   ],
   "source": [
    "sim.roadrunner"
   ]
  },
  {
   "cell_type": "markdown",
   "metadata": {},
   "source": [
    "Upon loading a model into a `Simulation`, the numerical values for species' initial conditions and reaction parameters are extracted. Dictionaries containing values are retrieved using the `get_model_simulation_values()` method."
   ]
  },
  {
   "cell_type": "code",
   "execution_count": 6,
   "metadata": {
    "execution": {
     "iopub.execute_input": "2021-01-25T18:00:13.809197Z",
     "iopub.status.busy": "2021-01-25T18:00:13.807513Z",
     "iopub.status.idle": "2021-01-25T18:00:13.815094Z",
     "shell.execute_reply": "2021-01-25T18:00:13.816521Z"
    }
   },
   "outputs": [
    {
     "name": "stdout",
     "output_type": "stream",
     "text": [
      "adp_c: 0.2\n",
      "atp_c: 1.7\n",
      "amp_c: 0.2\n",
      "B: 2\n",
      "BP: 8\n"
     ]
    }
   ],
   "source": [
    "initial_conditions, parameters = sim.get_model_simulation_values(model)\n",
    "for metabolite, initial_condition in initial_conditions.items():\n",
    "    print(\"{0}: {1}\".format(metabolite, initial_condition))"
   ]
  },
  {
   "cell_type": "markdown",
   "metadata": {},
   "source": [
    "## Running Dynamic Simulations\n",
    "### Simulating a model\n",
    "\n",
    "Once a model has been loaded, it can be simulated using the `Simulation.simulate()` method. The `simulate()` method requires a model identifier or `MassModel` object of a loaded model and a tuple that contains the initial and final time points."
   ]
  },
  {
   "cell_type": "code",
   "execution_count": 7,
   "metadata": {
    "execution": {
     "iopub.execute_input": "2021-01-25T18:00:13.831765Z",
     "iopub.status.busy": "2021-01-25T18:00:13.830729Z",
     "iopub.status.idle": "2021-01-25T18:00:13.834053Z",
     "shell.execute_reply": "2021-01-25T18:00:13.834802Z"
    }
   },
   "outputs": [
    {
     "data": {
      "text/plain": [
       "(<MassSolution Phosphate_Trafficking_ConcSols at 0x7f9fbc920350>,\n",
       " <MassSolution Phosphate_Trafficking_FluxSols at 0x7f9fbc9203b0>)"
      ]
     },
     "execution_count": 1,
     "metadata": {},
     "output_type": "execute_result"
    }
   ],
   "source": [
    "# Simulate the model from 0 to 100 time units\n",
    "solutions = sim.simulate(model, time=(0, 100))\n",
    "solutions"
   ]
  },
  {
   "cell_type": "markdown",
   "metadata": {},
   "source": [
    "After a model has been simulated, the concentration and flux solutions are returned in two specialized dictionaries known as `MassSolution` objects. "
   ]
  },
  {
   "cell_type": "code",
   "execution_count": 8,
   "metadata": {
    "execution": {
     "iopub.execute_input": "2021-01-25T18:00:13.845940Z",
     "iopub.status.busy": "2021-01-25T18:00:13.845014Z",
     "iopub.status.idle": "2021-01-25T18:00:13.848470Z",
     "shell.execute_reply": "2021-01-25T18:00:13.849194Z"
    }
   },
   "outputs": [
    {
     "name": "stdout",
     "output_type": "stream",
     "text": [
      "adp_c: [0.2        0.20020374 0.20040726 0.20095514 0.2015016 ]\n",
      "atp_c: [1.7        1.69982168 1.69964357 1.69916416 1.69868608]\n",
      "amp_c: [0.2        0.19997458 0.19994916 0.19988069 0.1998123 ]\n",
      "B: [2.         1.99984758 1.99969535 1.99928569 1.99887727]\n",
      "BP: [8.         8.00015242 8.00030465 8.00071431 8.00112273]\n"
     ]
    }
   ],
   "source": [
    "conc_sol, flux_sol = solutions\n",
    "\n",
    "# List the first 5 points of concentration solutions\n",
    "for metabolite, solution in conc_sol.items():\n",
    "    print(\"{0}: {1}\".format(metabolite, solution[:5]))"
   ]
  },
  {
   "cell_type": "markdown",
   "metadata": {},
   "source": [
    "By default, solutions are returned as `numpy.ndarrays`. To return interpolating functions instead, the `interpolate` argument is set as `True`."
   ]
  },
  {
   "cell_type": "code",
   "execution_count": 9,
   "metadata": {
    "execution": {
     "iopub.execute_input": "2021-01-25T18:00:13.856144Z",
     "iopub.status.busy": "2021-01-25T18:00:13.854898Z",
     "iopub.status.idle": "2021-01-25T18:00:13.865147Z",
     "shell.execute_reply": "2021-01-25T18:00:13.865871Z"
    }
   },
   "outputs": [
    {
     "name": "stdout",
     "output_type": "stream",
     "text": [
      "adp_c: <scipy.interpolate.interpolate.interp1d object at 0x7f9fbc9204d0>\n",
      "atp_c: <scipy.interpolate.interpolate.interp1d object at 0x7f9fbc920410>\n",
      "amp_c: <scipy.interpolate.interpolate.interp1d object at 0x7f9fbc920110>\n",
      "B: <scipy.interpolate.interpolate.interp1d object at 0x7f9fbc920050>\n",
      "BP: <scipy.interpolate.interpolate.interp1d object at 0x7f9fbc920650>\n"
     ]
    }
   ],
   "source": [
    "conc_sol, flux_sol = sim.simulate(model, time=(0, 100), interpolate=True)\n",
    "\n",
    "for metabolite, solution in conc_sol.items():\n",
    "    print(\"{0}: {1}\".format(metabolite, solution))"
   ]
  },
  {
   "cell_type": "markdown",
   "metadata": {},
   "source": [
    "### Setting integration options\n",
    "\n",
    "Although the integrator options are set to accomadate a variety of models, there are circumestances in which the integrator options need to be changed. The underlying integrator can be accessed using the `integrator` property:"
   ]
  },
  {
   "cell_type": "code",
   "execution_count": 10,
   "metadata": {
    "execution": {
     "iopub.execute_input": "2021-01-25T18:00:13.872494Z",
     "iopub.status.busy": "2021-01-25T18:00:13.871501Z",
     "iopub.status.idle": "2021-01-25T18:00:13.875054Z",
     "shell.execute_reply": "2021-01-25T18:00:13.876728Z"
    }
   },
   "outputs": [
    {
     "name": "stdout",
     "output_type": "stream",
     "text": [
      "< roadrunner.Integrator() >\n",
      "  name: cvode\n",
      "  settings:\n",
      "      relative_tolerance: 0.000001\n",
      "      absolute_tolerance: 0.000000000001\n",
      "                   stiff: true\n",
      "       maximum_bdf_order: 5\n",
      "     maximum_adams_order: 12\n",
      "       maximum_num_steps: 20000\n",
      "       maximum_time_step: 0\n",
      "       minimum_time_step: 0\n",
      "       initial_time_step: 0\n",
      "          multiple_steps: false\n",
      "      variable_step_size: true\n",
      "         max_output_rows: 100000\n",
      "\n"
     ]
    }
   ],
   "source": [
    "print(sim.integrator)"
   ]
  },
  {
   "cell_type": "markdown",
   "metadata": {},
   "source": [
    "Each setting comes with a brief description that can be viewed:"
   ]
  },
  {
   "cell_type": "code",
   "execution_count": 11,
   "metadata": {
    "execution": {
     "iopub.execute_input": "2021-01-25T18:00:13.881140Z",
     "iopub.status.busy": "2021-01-25T18:00:13.880435Z",
     "iopub.status.idle": "2021-01-25T18:00:13.883726Z",
     "shell.execute_reply": "2021-01-25T18:00:13.883115Z"
    }
   },
   "outputs": [
    {
     "name": "stdout",
     "output_type": "stream",
     "text": [
      "(bool) Enabling this setting will allow the integrator to adapt the size of each time step. This will result in a non-uniform time column.  The number of steps or points will be ignored, and the max number of output rows will be used instead.\n"
     ]
    }
   ],
   "source": [
    "print(sim.integrator.getDescription(\"variable_step_size\"))"
   ]
  },
  {
   "cell_type": "markdown",
   "metadata": {},
   "source": [
    "For example, to change the integration options so a uniform time vector is returned instead of one with a variable step size:"
   ]
  },
  {
   "cell_type": "code",
   "execution_count": 12,
   "metadata": {
    "execution": {
     "iopub.execute_input": "2021-01-25T18:00:13.890195Z",
     "iopub.status.busy": "2021-01-25T18:00:13.889246Z",
     "iopub.status.idle": "2021-01-25T18:00:13.895890Z",
     "shell.execute_reply": "2021-01-25T18:00:13.896410Z"
    }
   },
   "outputs": [
    {
     "name": "stdout",
     "output_type": "stream",
     "text": [
      "[ 0.  2.  4.  6.  8. 10. 12. 14. 16. 18.]\n"
     ]
    }
   ],
   "source": [
    "sim.integrator.variable_step_size = False\n",
    "\n",
    "# Simulate the model from 0 to 100 time units\n",
    "# with output returned at evenly spaced time points\n",
    "conc_sol, flux_sol = sim.simulate(model, time=(0, 100))\n",
    "\n",
    "# Print the time vector\n",
    "print(conc_sol.time[:10])"
   ]
  },
  {
   "cell_type": "markdown",
   "metadata": {},
   "source": [
    "When encountering exceptions from the integrator, [libRoadRunner recommends](https://libroadrunner.readthedocs.io/en/latest/simulation_and_integration.html) specifying an initial time step and tighter absolute and relative tolerances.\n",
    "\n",
    "See the [libRoadRunner documentation](https://libroadrunner.readthedocs.io/en/latest/PythonAPIReference/cls_Integrator.html) about the `roadrunner.Integrator` class for more information on the integrator."
   ]
  },
  {
   "cell_type": "markdown",
   "metadata": {},
   "source": [
    "### Simulation results and the MassSolution object\n",
    "For every model simulated, two `MassSolution` objects are returned per model. `MassSolution` objects are always outputted as pairs, with one `MassSolution` object containing the solutions for metabolite concentrations, and the other containing the solutions for reaction fluxes."
   ]
  },
  {
   "cell_type": "code",
   "execution_count": 13,
   "metadata": {
    "execution": {
     "iopub.execute_input": "2021-01-25T18:00:13.962457Z",
     "iopub.status.busy": "2021-01-25T18:00:13.933484Z",
     "iopub.status.idle": "2021-01-25T18:00:13.979061Z",
     "shell.execute_reply": "2021-01-25T18:00:13.979773Z"
    }
   },
   "outputs": [],
   "source": [
    "# Simulate the model from 0 to 100 time units\n",
    "sim = Simulation(model)\n",
    "conc_sol, flux_sol = sim.simulate(model, time=(0, 100))"
   ]
  },
  {
   "cell_type": "markdown",
   "metadata": {},
   "source": [
    "A `MassSolution` for a successful simulation contains string identifiers of objects and their corresponding solutions. Because `MassSolution` objects are specialized dictionaries, solutions can be retrieved using the object identifier as `dict` keys. For example, to access the solution for \"atp_c\":"
   ]
  },
  {
   "cell_type": "code",
   "execution_count": 14,
   "metadata": {
    "execution": {
     "iopub.execute_input": "2021-01-25T18:00:13.991020Z",
     "iopub.status.busy": "2021-01-25T18:00:13.989803Z",
     "iopub.status.idle": "2021-01-25T18:00:13.993220Z",
     "shell.execute_reply": "2021-01-25T18:00:13.993700Z"
    }
   },
   "outputs": [
    {
     "data": {
      "text/plain": [
       "array([1.7       , 1.69982168, 1.69964357, 1.69916416, 1.69868608,\n",
       "       1.69820944, 1.69773427, 1.69673394, 1.69460788, 1.6925119 ])"
      ]
     },
     "execution_count": 1,
     "metadata": {},
     "output_type": "execute_result"
    }
   ],
   "source": [
    "# Print first 10 solution values for ATP\n",
    "conc_sol[\"atp_c\"][:10]"
   ]
  },
  {
   "cell_type": "markdown",
   "metadata": {},
   "source": [
    "If care is taken when assigning object identifiers (e.g., does not start with a number, does not contain certain characters such as “-”), it is possible to access solutions inside of a `MassSolution` as if the corresponding keys were attributes."
   ]
  },
  {
   "cell_type": "code",
   "execution_count": 15,
   "metadata": {
    "execution": {
     "iopub.execute_input": "2021-01-25T18:00:13.999253Z",
     "iopub.status.busy": "2021-01-25T18:00:13.998433Z",
     "iopub.status.idle": "2021-01-25T18:00:14.001377Z",
     "shell.execute_reply": "2021-01-25T18:00:14.001892Z"
    }
   },
   "outputs": [
    {
     "data": {
      "text/plain": [
       "array([1.7       , 1.69982168, 1.69964357, 1.69916416, 1.69868608,\n",
       "       1.69820944, 1.69773427, 1.69673394, 1.69460788, 1.6925119 ])"
      ]
     },
     "execution_count": 1,
     "metadata": {},
     "output_type": "execute_result"
    }
   ],
   "source": [
    "# Print first 10 solution values for ATP\n",
    "conc_sol.atp_c[:10]"
   ]
  },
  {
   "cell_type": "markdown",
   "metadata": {},
   "source": [
    "The time points returned by the integrator are accessible using the `MassSolution.time` attribute:"
   ]
  },
  {
   "cell_type": "code",
   "execution_count": 16,
   "metadata": {
    "execution": {
     "iopub.execute_input": "2021-01-25T18:00:14.008031Z",
     "iopub.status.busy": "2021-01-25T18:00:14.007259Z",
     "iopub.status.idle": "2021-01-25T18:00:14.011608Z",
     "shell.execute_reply": "2021-01-25T18:00:14.010839Z"
    }
   },
   "outputs": [
    {
     "name": "stdout",
     "output_type": "stream",
     "text": [
      "[0.00000000e+00 8.47847116e-08 1.69569423e-07 3.98257356e-07\n",
      " 6.26945288e-07 8.55633221e-07 1.08432115e-06 1.56811392e-06\n",
      " 2.60709564e-06 3.64607737e-06]\n"
     ]
    }
   ],
   "source": [
    "# Print the first 10 time points\n",
    "print(conc_sol.time[0:10])"
   ]
  },
  {
   "cell_type": "markdown",
   "metadata": {},
   "source": [
    "The solutions contained within the `MassSolution` can be obtained as a `pandas.DataFrame` using the `to_frame()` method."
   ]
  },
  {
   "cell_type": "code",
   "execution_count": 17,
   "metadata": {
    "execution": {
     "iopub.execute_input": "2021-01-25T18:00:14.020217Z",
     "iopub.status.busy": "2021-01-25T18:00:14.018962Z",
     "iopub.status.idle": "2021-01-25T18:00:14.036339Z",
     "shell.execute_reply": "2021-01-25T18:00:14.036865Z"
    }
   },
   "outputs": [
    {
     "data": {
      "text/html": [
       "<div>\n",
       "<style scoped>\n",
       "    .dataframe tbody tr th:only-of-type {\n",
       "        vertical-align: middle;\n",
       "    }\n",
       "\n",
       "    .dataframe tbody tr th {\n",
       "        vertical-align: top;\n",
       "    }\n",
       "\n",
       "    .dataframe thead th {\n",
       "        text-align: right;\n",
       "    }\n",
       "</style>\n",
       "<table border=\"1\" class=\"dataframe\">\n",
       "  <thead>\n",
       "    <tr style=\"text-align: right;\">\n",
       "      <th></th>\n",
       "      <th>adp_c</th>\n",
       "      <th>atp_c</th>\n",
       "      <th>amp_c</th>\n",
       "      <th>B</th>\n",
       "      <th>BP</th>\n",
       "    </tr>\n",
       "    <tr>\n",
       "      <th>Time</th>\n",
       "      <th></th>\n",
       "      <th></th>\n",
       "      <th></th>\n",
       "      <th></th>\n",
       "      <th></th>\n",
       "    </tr>\n",
       "  </thead>\n",
       "  <tbody>\n",
       "    <tr>\n",
       "      <th>0.000000e+00</th>\n",
       "      <td>0.200000</td>\n",
       "      <td>1.700000</td>\n",
       "      <td>0.200000</td>\n",
       "      <td>2.000000</td>\n",
       "      <td>8.000000</td>\n",
       "    </tr>\n",
       "    <tr>\n",
       "      <th>8.478471e-08</th>\n",
       "      <td>0.200204</td>\n",
       "      <td>1.699822</td>\n",
       "      <td>0.199975</td>\n",
       "      <td>1.999848</td>\n",
       "      <td>8.000152</td>\n",
       "    </tr>\n",
       "    <tr>\n",
       "      <th>1.695694e-07</th>\n",
       "      <td>0.200407</td>\n",
       "      <td>1.699644</td>\n",
       "      <td>0.199949</td>\n",
       "      <td>1.999695</td>\n",
       "      <td>8.000305</td>\n",
       "    </tr>\n",
       "    <tr>\n",
       "      <th>3.982574e-07</th>\n",
       "      <td>0.200955</td>\n",
       "      <td>1.699164</td>\n",
       "      <td>0.199881</td>\n",
       "      <td>1.999286</td>\n",
       "      <td>8.000714</td>\n",
       "    </tr>\n",
       "    <tr>\n",
       "      <th>6.269453e-07</th>\n",
       "      <td>0.201502</td>\n",
       "      <td>1.698686</td>\n",
       "      <td>0.199812</td>\n",
       "      <td>1.998877</td>\n",
       "      <td>8.001123</td>\n",
       "    </tr>\n",
       "    <tr>\n",
       "      <th>...</th>\n",
       "      <td>...</td>\n",
       "      <td>...</td>\n",
       "      <td>...</td>\n",
       "      <td>...</td>\n",
       "      <td>...</td>\n",
       "    </tr>\n",
       "    <tr>\n",
       "      <th>3.012599e+01</th>\n",
       "      <td>0.399998</td>\n",
       "      <td>1.599991</td>\n",
       "      <td>0.099999</td>\n",
       "      <td>2.000000</td>\n",
       "      <td>8.000000</td>\n",
       "    </tr>\n",
       "    <tr>\n",
       "      <th>3.828512e+01</th>\n",
       "      <td>0.399998</td>\n",
       "      <td>1.599992</td>\n",
       "      <td>0.100000</td>\n",
       "      <td>2.000000</td>\n",
       "      <td>8.000000</td>\n",
       "    </tr>\n",
       "    <tr>\n",
       "      <th>5.517474e+01</th>\n",
       "      <td>0.399998</td>\n",
       "      <td>1.599994</td>\n",
       "      <td>0.100000</td>\n",
       "      <td>2.000000</td>\n",
       "      <td>8.000000</td>\n",
       "    </tr>\n",
       "    <tr>\n",
       "      <th>8.169531e+01</th>\n",
       "      <td>0.399999</td>\n",
       "      <td>1.599996</td>\n",
       "      <td>0.100000</td>\n",
       "      <td>2.000000</td>\n",
       "      <td>8.000000</td>\n",
       "    </tr>\n",
       "    <tr>\n",
       "      <th>1.000000e+02</th>\n",
       "      <td>0.399999</td>\n",
       "      <td>1.599997</td>\n",
       "      <td>0.100000</td>\n",
       "      <td>2.000000</td>\n",
       "      <td>8.000000</td>\n",
       "    </tr>\n",
       "  </tbody>\n",
       "</table>\n",
       "<p>171 rows × 5 columns</p>\n",
       "</div>"
      ],
      "text/plain": [
       "                 adp_c     atp_c     amp_c         B        BP\n",
       "Time                                                          \n",
       "0.000000e+00  0.200000  1.700000  0.200000  2.000000  8.000000\n",
       "8.478471e-08  0.200204  1.699822  0.199975  1.999848  8.000152\n",
       "1.695694e-07  0.200407  1.699644  0.199949  1.999695  8.000305\n",
       "3.982574e-07  0.200955  1.699164  0.199881  1.999286  8.000714\n",
       "6.269453e-07  0.201502  1.698686  0.199812  1.998877  8.001123\n",
       "...                ...       ...       ...       ...       ...\n",
       "3.012599e+01  0.399998  1.599991  0.099999  2.000000  8.000000\n",
       "3.828512e+01  0.399998  1.599992  0.100000  2.000000  8.000000\n",
       "5.517474e+01  0.399998  1.599994  0.100000  2.000000  8.000000\n",
       "8.169531e+01  0.399999  1.599996  0.100000  2.000000  8.000000\n",
       "1.000000e+02  0.399999  1.599997  0.100000  2.000000  8.000000\n",
       "\n",
       "[171 rows x 5 columns]"
      ]
     },
     "execution_count": 1,
     "metadata": {},
     "output_type": "execute_result"
    }
   ],
   "source": [
    "conc_sol.to_frame()"
   ]
  },
  {
   "cell_type": "markdown",
   "metadata": {},
   "source": [
    "Solutions also can be viewed visually using the `view_time_profile()` method. Note that this requires `matplotlib` to be installed in the environment. See [Plotting and Visualization](./plot_visualization.ipynb) for more information."
   ]
  },
  {
   "cell_type": "code",
   "execution_count": 18,
   "metadata": {
    "execution": {
     "iopub.execute_input": "2021-01-25T18:00:14.082498Z",
     "iopub.status.busy": "2021-01-25T18:00:14.053506Z",
     "iopub.status.idle": "2021-01-25T18:00:14.630335Z",
     "shell.execute_reply": "2021-01-25T18:00:14.630785Z"
    }
   },
   "outputs": [
    {
     "data": {
      "image/png": "[encoded data removed]",
      "text/plain": [
       "<Figure size 432x288 with 1 Axes>"
      ]
     },
     "metadata": {
      "needs_background": "light"
     },
     "output_type": "display_data"
    }
   ],
   "source": [
    "conc_sol.view_time_profile()"
   ]
  },
  {
   "cell_type": "markdown",
   "metadata": {},
   "source": [
    "### Aggregate variables and solutions\n",
    "\n",
    "Often, it is desirable to look at mathematical combinations of metabolites concentrations or reaction fluxes. To create an aggregate variable, the `MassSolution.make_aggregate_solution()` method is used. To use the method, three inputs are required:\n",
    "\n",
    "1. A unique ID for the aggregate variable.\n",
    "2. The mathematical equation for the aggregate variable given as a `str`.\n",
    "3. A list of the `MassSolution` keys representing variables used in the equation.\n",
    "\n",
    "For example, to make the Adenylate Energy Charge <cite data-cite=\"Atk68\">(Atkinson, 1968)</cite>, the occupancy and capacity pools are first defined:"
   ]
  },
  {
   "cell_type": "code",
   "execution_count": 19,
   "metadata": {
    "execution": {
     "iopub.execute_input": "2021-01-25T18:00:14.638951Z",
     "iopub.status.busy": "2021-01-25T18:00:14.638262Z",
     "iopub.status.idle": "2021-01-25T18:00:14.658908Z",
     "shell.execute_reply": "2021-01-25T18:00:14.659382Z"
    }
   },
   "outputs": [
    {
     "name": "stdout",
     "output_type": "stream",
     "text": [
      "['adp_c', 'atp_c', 'amp_c', 'B', 'BP', 'occupancy']\n"
     ]
    }
   ],
   "source": [
    "occupancy = conc_sol.make_aggregate_solution(\n",
    "    aggregate_id=\"occupancy\",\n",
    "    equation=\"(atp_c + 0.5 * adp_c)\",\n",
    "    variables=[\"atp_c\", \"adp_c\"])\n",
    "conc_sol.update(occupancy)\n",
    "print(list(conc_sol.keys()))"
   ]
  },
  {
   "cell_type": "markdown",
   "metadata": {},
   "source": [
    "The aggregate variables are returned as a `dict`, which can be added to the `MassSolution` object. Alternatively, the `update` flag can be set as `True` to automatically add an aggregate variable to the solution after creation."
   ]
  },
  {
   "cell_type": "code",
   "execution_count": 20,
   "metadata": {
    "execution": {
     "iopub.execute_input": "2021-01-25T18:00:14.668511Z",
     "iopub.status.busy": "2021-01-25T18:00:14.667442Z",
     "iopub.status.idle": "2021-01-25T18:00:14.670475Z",
     "shell.execute_reply": "2021-01-25T18:00:14.670933Z"
    }
   },
   "outputs": [
    {
     "name": "stdout",
     "output_type": "stream",
     "text": [
      "['adp_c', 'atp_c', 'amp_c', 'B', 'BP', 'occupancy', 'capacity']\n"
     ]
    }
   ],
   "source": [
    "capacity = conc_sol.make_aggregate_solution(\n",
    "    aggregate_id=\"capacity\",\n",
    "    equation=\"(atp_c + adp_c + amp_c)\",\n",
    "    variables=[\"atp_c\", \"adp_c\", \"amp_c\"], \n",
    "    update=True)\n",
    "print(list(conc_sol.keys()))"
   ]
  },
  {
   "cell_type": "markdown",
   "metadata": {},
   "source": [
    "Aggregate variables formed from other aggregate variables also can be created using the `make_aggregate_solution()` method as long as the aggregate variables have been added to the `MassSolution`. To make the energy charge from the occupancy and capacity aggregate variables:"
   ]
  },
  {
   "cell_type": "code",
   "execution_count": 21,
   "metadata": {
    "execution": {
     "iopub.execute_input": "2021-01-25T18:00:14.679061Z",
     "iopub.status.busy": "2021-01-25T18:00:14.678365Z",
     "iopub.status.idle": "2021-01-25T18:00:14.680524Z",
     "shell.execute_reply": "2021-01-25T18:00:14.681005Z"
    }
   },
   "outputs": [],
   "source": [
    "ec = conc_sol.make_aggregate_solution(\n",
    "    aggregate_id=\"energy_charge\",\n",
    "    equation=\"occupancy / capacity\",\n",
    "    variables=[\"occupancy\", \"capacity\"],\n",
    "    update=True)"
   ]
  },
  {
   "cell_type": "markdown",
   "metadata": {},
   "source": [
    "If care is taken when assigning aggregate variable identifiers, it is possible to access aggregate variable solutions inside of a `MassSolution`, as if aggregate variable keys were attributes."
   ]
  },
  {
   "cell_type": "code",
   "execution_count": 22,
   "metadata": {
    "execution": {
     "iopub.execute_input": "2021-01-25T18:00:14.687236Z",
     "iopub.status.busy": "2021-01-25T18:00:14.686540Z",
     "iopub.status.idle": "2021-01-25T18:00:14.689236Z",
     "shell.execute_reply": "2021-01-25T18:00:14.689746Z"
    }
   },
   "outputs": [
    {
     "data": {
      "text/plain": [
       "array([0.85714286, 0.85710645, 0.8570701 , 0.85697226, 0.85687471,\n",
       "       0.85677749, 0.85668059, 0.85647669, 0.85604374, 0.85561747])"
      ]
     },
     "execution_count": 1,
     "metadata": {},
     "output_type": "execute_result"
    }
   ],
   "source": [
    "# Print first 10 solution points for the energy charge\n",
    "conc_sol.energy_charge[:10]"
   ]
  },
  {
   "cell_type": "markdown",
   "metadata": {},
   "source": [
    "## Perturbing a Model\n",
    "\n",
    "To simulate various disturbances in the system, the `perturbations` argument of the `simulate()` method can be used. There are several types of perturbations that can be implemented for a given simulation as long as they adhere to the following guidelines:\n",
    "\n",
    "1. Perturbations are provided to the method as a `dict` with dictionary keys that correspond to variables to be changed. Dictionary values are the new numerical values or mathematical expressions as strings that indicate how the value is to be changed.\n",
    "\n",
    "2. A formula for the perturbation can be provided as a `str` as long as the formula string can be sympified via the `sympy.sympify()` function. The formula can have one variable that is identical to the corresponding `dict` key.\n",
    "\n",
    "3. Boundary conditions can be set as a function of time. The above rules still apply, but allow for the time \"t\", as a second variable.\n",
    "\n",
    "Some examples are demonstrated below.\n",
    "\n",
    "A simulation without perturbations:"
   ]
  },
  {
   "cell_type": "code",
   "execution_count": 23,
   "metadata": {
    "execution": {
     "iopub.execute_input": "2021-01-25T18:00:14.695216Z",
     "iopub.status.busy": "2021-01-25T18:00:14.694554Z",
     "iopub.status.idle": "2021-01-25T18:00:15.349639Z",
     "shell.execute_reply": "2021-01-25T18:00:15.350272Z"
    }
   },
   "outputs": [
    {
     "data": {
      "image/png": "[encoded data removed]",
      "text/plain": [
       "<Figure size 432x288 with 1 Axes>"
      ]
     },
     "metadata": {
      "needs_background": "light"
     },
     "output_type": "display_data"
    }
   ],
   "source": [
    "conc_sol, flux_sol = sim.simulate(model, time=(0, 1000))\n",
    "conc_sol.view_time_profile()"
   ]
  },
  {
   "cell_type": "markdown",
   "metadata": {},
   "source": [
    "Perturbing the initial concentration of ATP from 1.6 to 2.5:"
   ]
  },
  {
   "cell_type": "code",
   "execution_count": 24,
   "metadata": {
    "execution": {
     "iopub.execute_input": "2021-01-25T18:00:15.355095Z",
     "iopub.status.busy": "2021-01-25T18:00:15.354467Z",
     "iopub.status.idle": "2021-01-25T18:00:15.977796Z",
     "shell.execute_reply": "2021-01-25T18:00:15.977290Z"
    }
   },
   "outputs": [
    {
     "data": {
      "image/png": "[encoded data removed]",
      "text/plain": [
       "<Figure size 432x288 with 1 Axes>"
      ]
     },
     "metadata": {
      "needs_background": "light"
     },
     "output_type": "display_data"
    }
   ],
   "source": [
    "conc_sol, flux_sol = sim.simulate(\n",
    "    model, time=(0, 1000), perturbations={\"atp_c\": 2.5})\n",
    "conc_sol.view_time_profile()"
   ]
  },
  {
   "cell_type": "markdown",
   "metadata": {},
   "source": [
    "Increasing the rate constant of ATP use by 50%:"
   ]
  },
  {
   "cell_type": "code",
   "execution_count": 25,
   "metadata": {
    "execution": {
     "iopub.execute_input": "2021-01-25T18:00:15.985363Z",
     "iopub.status.busy": "2021-01-25T18:00:15.984736Z",
     "iopub.status.idle": "2021-01-25T18:00:16.441461Z",
     "shell.execute_reply": "2021-01-25T18:00:16.441949Z"
    }
   },
   "outputs": [
    {
     "data": {
      "image/png": "[encoded data removed]",
      "text/plain": [
       "<Figure size 432x288 with 1 Axes>"
      ]
     },
     "metadata": {
      "needs_background": "light"
     },
     "output_type": "display_data"
    }
   ],
   "source": [
    "conc_sol, flux_sol = sim.simulate(\n",
    "    model, time=(0, 1000), perturbations={\"kf_use\": \"kf_use * 1.5\"})\n",
    "conc_sol.view_time_profile()"
   ]
  },
  {
   "cell_type": "markdown",
   "metadata": {},
   "source": [
    "## Determining Steady State\n",
    "The steady state for models can be found using the `Simulation.find_steady_state()` method. This method requires a model identifier or a `MassModel` object and a string thats indicates a strategy for finding the steady state. For example, to find the steady state by simulating the model for a long time:"
   ]
  },
  {
   "cell_type": "code",
   "execution_count": 26,
   "metadata": {
    "execution": {
     "iopub.execute_input": "2021-01-25T18:00:16.545556Z",
     "iopub.status.busy": "2021-01-25T18:00:16.498695Z",
     "iopub.status.idle": "2021-01-25T18:00:16.985892Z",
     "shell.execute_reply": "2021-01-25T18:00:16.986791Z"
    }
   },
   "outputs": [
    {
     "name": "stdout",
     "output_type": "stream",
     "text": [
      "adp_c: 0.3999999999999983\n",
      "atp_c: 1.5999999999999932\n",
      "amp_c: 0.09999999999999959\n",
      "B: 1.999999999999997\n",
      "BP: 7.999999999999988\n"
     ]
    }
   ],
   "source": [
    "sim = Simulation(reference_model=model)\n",
    "\n",
    "conc_sol, flux_sol = sim.find_steady_state(model, strategy=\"simulate\")\n",
    "for metabolite, solution in conc_sol.items():\n",
    "    print(\"{0}: {1}\".format(metabolite, solution))"
   ]
  },
  {
   "cell_type": "markdown",
   "metadata": {},
   "source": [
    "Alternatively, a steady state solver can be utilized with a root-finding algorithm to determine the steady state. For example, to use a non-linear equation solver that implements a global Newton method with adaptive damping strategies ([NLEQ2](http://elib.zib.de/pub/elib/codelib/NewtonLib/)):"
   ]
  },
  {
   "cell_type": "code",
   "execution_count": 27,
   "metadata": {
    "execution": {
     "iopub.execute_input": "2021-01-25T18:00:16.996338Z",
     "iopub.status.busy": "2021-01-25T18:00:16.995135Z",
     "iopub.status.idle": "2021-01-25T18:00:17.018804Z",
     "shell.execute_reply": "2021-01-25T18:00:17.020054Z"
    }
   },
   "outputs": [
    {
     "name": "stderr",
     "output_type": "stream",
     "text": [
      "mass/simulation/simulation.py:901 \u001b[1;31mUserWarning\u001b[0m: Unable to find a steady state for one or more models. Check the log for more details.\n",
      "\u001b[91mERROR:\u001b[0m \u001b[91mUnable to find a steady state for 'Phosphate_Trafficking' using strategy 'nleq2' due to the following: Both steady state solver and approximation routine failed: Jacobian matrix singular in NLEQ. Failed to converge to steady state. Check if Jacobian matrix is non-invertible or steady state solution does not exist.; Failed to converge while running approximation routine. Try increasing the time or maximum number of iteration via changing the settings under r.steadyStateSolver where r is an roadrunner instance. Model might not have a steady state.\u001b[0m\n"
     ]
    }
   ],
   "source": [
    "conc_sol, flux_sol = sim.find_steady_state(model, strategy=\"nleq2\")\n",
    "for metabolite, solution in conc_sol.items():\n",
    "    print(\"{0}: {1}\".format(metabolite, solution))"
   ]
  },
  {
   "cell_type": "markdown",
   "metadata": {},
   "source": [
    "Setting `update_values=True` updates the model initial conditions and fluxes with the steady state solution:"
   ]
  },
  {
   "cell_type": "code",
   "execution_count": 28,
   "metadata": {
    "execution": {
     "iopub.execute_input": "2021-01-25T18:00:17.040105Z",
     "iopub.status.busy": "2021-01-25T18:00:17.038400Z",
     "iopub.status.idle": "2021-01-25T18:00:17.162764Z",
     "shell.execute_reply": "2021-01-25T18:00:17.163583Z"
    }
   },
   "outputs": [
    {
     "name": "stderr",
     "output_type": "stream",
     "text": [
      "\u001b[91mERROR:\u001b[0m \u001b[91mUnable to find a steady state for 'Phosphate_Trafficking' using strategy 'nleq2' due to the following: Both steady state solver and approximation routine failed: Jacobian matrix singular in NLEQ. Failed to converge to steady state. Check if Jacobian matrix is non-invertible or steady state solution does not exist.; Failed to converge while running approximation routine. Try increasing the time or maximum number of iteration via changing the settings under r.steadyStateSolver where r is an roadrunner instance. Model might not have a steady state.\u001b[0m\n"
     ]
    },
    {
     "data": {
      "text/plain": [
       "{<MassMetabolite adp_c at 0x7f9fbc7381d0>: 0.2,\n",
       " <MassMetabolite atp_c at 0x7f9fbc7380d0>: 1.7,\n",
       " <MassMetabolite amp_c at 0x7f9fbc738490>: 0.2,\n",
       " <MassMetabolite B at 0x7f9fbc738450>: 2,\n",
       " <MassMetabolite BP at 0x7f9fbc7384d0>: 8}"
      ]
     },
     "execution_count": 1,
     "metadata": {},
     "output_type": "execute_result"
    }
   ],
   "source": [
    "conc_sol, flux_sol = sim.find_steady_state(model, strategy=\"nleq2\",\n",
    "                                           update_values=True)\n",
    "model.initial_conditions  # Same object as reference model in Simulation"
   ]
  },
  {
   "cell_type": "markdown",
   "metadata": {},
   "source": [
    "The `find_steady_state()` method also allows for perturbations to be made before determining a steady state solution:"
   ]
  },
  {
   "cell_type": "code",
   "execution_count": 29,
   "metadata": {
    "execution": {
     "iopub.execute_input": "2021-01-25T18:00:17.485583Z",
     "iopub.status.busy": "2021-01-25T18:00:17.183292Z",
     "iopub.status.idle": "2021-01-25T18:00:17.489613Z",
     "shell.execute_reply": "2021-01-25T18:00:17.491430Z"
    }
   },
   "outputs": [
    {
     "name": "stdout",
     "output_type": "stream",
     "text": [
      "adp_c: 0.2666666666666696\n",
      "atp_c: 0.711111111111119\n",
      "amp_c: 0.10000000000000112\n",
      "B: 2.7272727272732684\n",
      "BP: 7.272727272728717\n"
     ]
    }
   ],
   "source": [
    "conc_sol, flux_sol = sim.find_steady_state(\n",
    "    model, strategy=\"simulate\", perturbations={\"kf_use\": \"kf_use * 1.5\"})\n",
    "\n",
    "for metabolite, solution in conc_sol.items():\n",
    "    print(\"{0}: {1}\".format(metabolite, solution))"
   ]
  },
  {
   "cell_type": "markdown",
   "metadata": {},
   "source": [
    "### The steady state solver\n",
    "\n",
    "Although the steady state solver options are set to accommodate a variety of models, there are circumstances in which the steady state solver options need to be changed. The underlying solver can be accessed using the `steady_state_solver` property:"
   ]
  },
  {
   "cell_type": "code",
   "execution_count": 30,
   "metadata": {
    "execution": {
     "iopub.execute_input": "2021-01-25T18:00:17.498056Z",
     "iopub.status.busy": "2021-01-25T18:00:17.497066Z",
     "iopub.status.idle": "2021-01-25T18:00:17.501474Z",
     "shell.execute_reply": "2021-01-25T18:00:17.502150Z"
    }
   },
   "outputs": [
    {
     "name": "stdout",
     "output_type": "stream",
     "text": [
      "< roadrunner.SteadyStateSolver() >\n",
      "  name: nleq2\n",
      "  settings:\n",
      "     allow_presimulation: false\n",
      "    presimulation_maximum_steps: 100\n",
      "      presimulation_time: 100\n",
      "            allow_approx: true\n",
      "        approx_tolerance: 0.000001\n",
      "    approx_maximum_steps: 10000\n",
      "             approx_time: 10000\n",
      "      relative_tolerance: 0.000000000001\n",
      "      maximum_iterations: 100\n",
      "         minimum_damping: 1e-20\n",
      "          broyden_method: 0\n",
      "               linearity: 3\n",
      "\n"
     ]
    }
   ],
   "source": [
    "print(sim.steady_state_solver)"
   ]
  },
  {
   "cell_type": "markdown",
   "metadata": {},
   "source": [
    "Analogous to the integrator, each setting for the steady state solver comes with a brief description that can be viewed:"
   ]
  },
  {
   "cell_type": "code",
   "execution_count": 31,
   "metadata": {
    "execution": {
     "iopub.execute_input": "2021-01-25T18:00:17.508955Z",
     "iopub.status.busy": "2021-01-25T18:00:17.508075Z",
     "iopub.status.idle": "2021-01-25T18:00:17.512600Z",
     "shell.execute_reply": "2021-01-25T18:00:17.513139Z"
    }
   },
   "outputs": [
    {
     "name": "stdout",
     "output_type": "stream",
     "text": [
      "The maximum number of iterations the solver is allowed to use (int)\n"
     ]
    }
   ],
   "source": [
    "print(sim.steady_state_solver.getHint(\"maximum_iterations\"))"
   ]
  },
  {
   "cell_type": "markdown",
   "metadata": {},
   "source": [
    "For example, to change the solver options to allow for a larger maximum number of iterations:"
   ]
  },
  {
   "cell_type": "code",
   "execution_count": 32,
   "metadata": {
    "execution": {
     "iopub.execute_input": "2021-01-25T18:00:17.519029Z",
     "iopub.status.busy": "2021-01-25T18:00:17.517993Z",
     "iopub.status.idle": "2021-01-25T18:00:17.520196Z",
     "shell.execute_reply": "2021-01-25T18:00:17.520888Z"
    }
   },
   "outputs": [],
   "source": [
    "sim.steady_state_solver.maximum_iterations = 500"
   ]
  },
  {
   "cell_type": "markdown",
   "metadata": {},
   "source": [
    "For more information on steady state solver options, see the [libRoadRunner documentation](https://libroadrunner.readthedocs.io/en/latest/PythonAPIReference/cls_SteadyStateSolver.html) about the `roadrunner.SteadyStateSolver` class."
   ]
  },
  {
   "cell_type": "markdown",
   "metadata": {},
   "source": [
    "## Simulating Multiple Models\n",
    "\n",
    "Multiple models can be added to a `Simulation` object in order to perform simulations on several models. Below, a simple example utilizing a copy of the model with a smaller total buffer concentration is made for demonstration purposes:"
   ]
  },
  {
   "cell_type": "code",
   "execution_count": 33,
   "metadata": {
    "execution": {
     "iopub.execute_input": "2021-01-25T18:00:17.567366Z",
     "iopub.status.busy": "2021-01-25T18:00:17.530210Z",
     "iopub.status.idle": "2021-01-25T18:00:17.639203Z",
     "shell.execute_reply": "2021-01-25T18:00:17.646177Z"
    }
   },
   "outputs": [],
   "source": [
    "model = mass.example_data.create_example_model(\"Phosphate_Trafficking\")\n",
    "sim = Simulation(model)\n",
    "\n",
    "# Make a modified model\n",
    "modified = model.copy()\n",
    "modified.id = \"Phosphate_Trafficking_Modified\"\n",
    "modified.update_initial_conditions({\"BP\": 4, \"B\": 1})"
   ]
  },
  {
   "cell_type": "markdown",
   "metadata": {},
   "source": [
    "To add an additional model to an existing `Simulation` object, three criteria must be met:\n",
    "\n",
    "1. The model must have equivalent ODEs to the `reference_model` used in creating the `Simulation`.\n",
    "2. All models in the `Simulation` must have unique identifiers.\n",
    "3. Numerical values necessary for simulation must be already defined for a model.\n",
    "\n",
    "Use the `MassModel.has_equivalent_odes()` method to check if ODEs are equivalent."
   ]
  },
  {
   "cell_type": "code",
   "execution_count": 34,
   "metadata": {
    "execution": {
     "iopub.execute_input": "2021-01-25T18:00:17.744219Z",
     "iopub.status.busy": "2021-01-25T18:00:17.705255Z",
     "iopub.status.idle": "2021-01-25T18:00:17.767375Z",
     "shell.execute_reply": "2021-01-25T18:00:17.766844Z"
    }
   },
   "outputs": [
    {
     "data": {
      "text/plain": [
       "True"
      ]
     },
     "execution_count": 1,
     "metadata": {},
     "output_type": "execute_result"
    }
   ],
   "source": [
    "sim.reference_model.has_equivalent_odes(modified, verbose=True)"
   ]
  },
  {
   "cell_type": "markdown",
   "metadata": {},
   "source": [
    "Use the `Simulation.add_models()` method to load the additional model."
   ]
  },
  {
   "cell_type": "code",
   "execution_count": 35,
   "metadata": {
    "execution": {
     "iopub.execute_input": "2021-01-25T18:00:17.846559Z",
     "iopub.status.busy": "2021-01-25T18:00:17.812434Z",
     "iopub.status.idle": "2021-01-25T18:00:17.849174Z",
     "shell.execute_reply": "2021-01-25T18:00:17.849632Z"
    }
   },
   "outputs": [
    {
     "name": "stdout",
     "output_type": "stream",
     "text": [
      "Successfully loaded MassModel 'Phosphate_Trafficking_Modified'.\n"
     ]
    }
   ],
   "source": [
    "sim.add_models(models=[modified], verbose=True)"
   ]
  },
  {
   "cell_type": "markdown",
   "metadata": {},
   "source": [
    "Use the `simulate()` method to simulate multiple models by providing a list of model objects or their identifiers."
   ]
  },
  {
   "cell_type": "code",
   "execution_count": 36,
   "metadata": {
    "execution": {
     "iopub.execute_input": "2021-01-25T18:00:17.855024Z",
     "iopub.status.busy": "2021-01-25T18:00:17.853826Z",
     "iopub.status.idle": "2021-01-25T18:00:17.862013Z",
     "shell.execute_reply": "2021-01-25T18:00:17.862461Z"
    }
   },
   "outputs": [],
   "source": [
    "conc_sol_list, flux_sol_list = sim.simulate(\n",
    "    models=[model, modified], time=(0, 100))"
   ]
  },
  {
   "cell_type": "markdown",
   "metadata": {},
   "source": [
    "After simulating multiple models, the `MassSolution` objects are returned in two `cobra.DictList` objects. The first `DictList` contains the concentrations solutions, and the second `DictList` contains the flux solutions for simulated models."
   ]
  },
  {
   "cell_type": "code",
   "execution_count": 37,
   "metadata": {
    "execution": {
     "iopub.execute_input": "2021-01-25T18:00:17.866848Z",
     "iopub.status.busy": "2021-01-25T18:00:17.866138Z",
     "iopub.status.idle": "2021-01-25T18:00:17.869845Z",
     "shell.execute_reply": "2021-01-25T18:00:17.870534Z"
    }
   },
   "outputs": [
    {
     "data": {
      "text/plain": [
       "[<MassSolution Phosphate_Trafficking_ConcSols at 0x7f9fbcc5fad0>,\n",
       " <MassSolution Phosphate_Trafficking_Modified_ConcSols at 0x7f9fbcc5fd70>]"
      ]
     },
     "execution_count": 1,
     "metadata": {},
     "output_type": "execute_result"
    }
   ],
   "source": [
    "conc_sol_list"
   ]
  },
  {
   "cell_type": "markdown",
   "metadata": {},
   "source": [
    "The `get_by_id()` method can be used to access a specific solution:"
   ]
  },
  {
   "cell_type": "code",
   "execution_count": 38,
   "metadata": {
    "execution": {
     "iopub.execute_input": "2021-01-25T18:00:17.876151Z",
     "iopub.status.busy": "2021-01-25T18:00:17.874920Z",
     "iopub.status.idle": "2021-01-25T18:00:17.878015Z",
     "shell.execute_reply": "2021-01-25T18:00:17.878453Z"
    }
   },
   "outputs": [
    {
     "data": {
      "text/plain": [
       "<MassSolution Phosphate_Trafficking_Modified_ConcSols at 0x7f9fbcc5fd70>"
      ]
     },
     "execution_count": 1,
     "metadata": {},
     "output_type": "execute_result"
    }
   ],
   "source": [
    "conc_sol_list.get_by_id(\"_\".join((modified.id, \"ConcSols\")))"
   ]
  },
  {
   "cell_type": "markdown",
   "metadata": {},
   "source": [
    "For additional information on simulating multiple models, see [Simulating an Ensemble of Models](./ensemble_modeling.ipynb#Simulating-an-Ensemble-of-Models)."
   ]
  }
 ],
 "metadata": {
  "kernelspec": {
   "display_name": "Python 3",
   "language": "python",
   "name": "python3"
  },
  "language_info": {
   "codemirror_mode": {
    "name": "ipython",
    "version": 3
   },
   "file_extension": ".py",
   "mimetype": "text/x-python",
   "name": "python",
   "nbconvert_exporter": "python",
   "pygments_lexer": "ipython3",
   "version": "3.7.9"
  }
 },
 "nbformat": 4,
 "nbformat_minor": 2
}
