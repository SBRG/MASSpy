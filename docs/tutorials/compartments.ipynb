{
 "cells": [
  {
   "cell_type": "markdown",
   "metadata": {},
   "source": [
    "# Multi-compartment Modeling\n",
    "\n",
    "This notebook example provides a basic demonstration on how to create and dynamically simulate multi-compartment models.\n",
    "\n",
    "**IMPORTANT**: The following notebook demonstrates how current MASSpy capabilities are used to model and simulate multiple compartments. However, COBRApy is currently in the process of developing improved compartment handling. These changes are outlined in the following COBRApy issues:\n",
    "\n",
    "* https://github.com/opencobra/cobrapy/pull/725\n",
    "* https://github.com/opencobra/cobrapy/projects/5\n",
    "\n",
    "Due to the MASSpy dependence on the COBRApy modeling framework, MASSpy is awaiting these COBRApy changes in order to improve how compartments are handled in dynamic simulations, SBML compatibity, etc. \n",
    "\n",
    "Once these changes have been implemented in COBRApy, a new version of MASSpy will be developed and released with improved behavior around compartments. "
   ]
  },
  {
   "cell_type": "code",
   "execution_count": null,
   "metadata": {},
   "outputs": [],
   "source": []
  }
 ],
 "metadata": {
  "kernelspec": {
   "display_name": "Python 3",
   "language": "python",
   "name": "python3"
  },
  "language_info": {
   "codemirror_mode": {
    "name": "ipython",
    "version": 3
   },
   "file_extension": ".py",
   "mimetype": "text/x-python",
   "name": "python",
   "nbconvert_exporter": "python",
   "pygments_lexer": "ipython3",
   "version": "3.7.7"
  }
 },
 "nbformat": 4,
 "nbformat_minor": 4
}