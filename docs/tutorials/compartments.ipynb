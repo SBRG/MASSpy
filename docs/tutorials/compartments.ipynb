{
 "cells": [
  {
   "cell_type": "markdown",
   "metadata": {},
   "source": [
    "# Modeling Volumes and Multiple Compartments \n",
    "\n",
    "This notebook example provides a basic demonstration on how to create and dynamically simulate multi-compartment models. \n",
    "\n",
    "Illustrated below is the multi-compartment model utilized in this notebook:\n",
    "\n",
    "![MultiCompartment](../media/images/multicompartment.png)\n",
    "\n",
    "In the above example:\n",
    "* For metabolite **x**:\n",
    "    * The biochemical pathway for the conversion of **x** occurs in the `large` compartment outlined by the <font color='black'> <strong>dotted black line</strong></font>.\n",
    "* For metabolite **y**:\n",
    "    * Cofactor **y** is necessary for the conversion of metabolite **x** in the biochemical pathway.\n",
    "    * The synthesis of **y** occurs in the `medium` compartment outlined by the <font color='#44bcd8'><strong>blue line</strong></font>.\n",
    "    * `R_Ytr` is an antiporter, coupling the import of **y2** into the `large` compartment with the export of **y3** to the `medium` compartment.\n",
    "* For metabolite **z**:\n",
    "    * Protein **z** is synthesized in the `small` compartment outlined by the <font color='red'><strong>red line</strong></font>.\n",
    "    * Protein **z** is also to facilitate the conversion of **x5** back into **x4** and for metabolic functions outside of the model's scope.\n",
    "\n",
    "The reaction converting **x5** back to **x4** converted into **x5** The pair of irreversible reactions `R3_X` and `R_XZ` form a cycle that is used to  The synthesis and degradation of metabolite **y** occurs in the **medium compartment** outlined in blue.\n",
    "\n",
    "\n",
    "<div class=\"alert alert-warning\"> \n",
    "\n",
    "COBRApy is currently in the process of developing improved compartment handling. These changes are outlined in the following COBRApy issues:\n",
    "\n",
    "* https://github.com/opencobra/cobrapy/pull/725\n",
    "* https://github.com/opencobra/cobrapy/projects/5\n",
    "\n",
    "MASSpy is awaiting these COBRApy changes in order to improve how compartments are handled in dynamic simulations, SBML compatibity, etc. Once these changes have been implemented in COBRApy, a new version of MASSpy will be developed and released with improved functionality around compartments and their handling.\n",
    "\n",
    "</div>"
   ]
  },
  {
   "cell_type": "markdown",
   "metadata": {},
   "source": [
    "## Models with Multiple Compartments"
   ]
  },
  {
   "cell_type": "code",
   "execution_count": 1,
   "metadata": {
    "execution": {
     "iopub.execute_input": "2021-01-25T17:59:53.025590Z",
     "iopub.status.busy": "2021-01-25T17:59:53.024643Z",
     "iopub.status.idle": "2021-01-25T17:59:55.318796Z",
     "shell.execute_reply": "2021-01-25T17:59:55.319382Z"
    }
   },
   "outputs": [
    {
     "name": "stdout",
     "output_type": "stream",
     "text": [
      "Set parameter Username\n"
     ]
    }
   ],
   "source": [
    "import sympy as sym\n",
    "\n",
    "from mass import (\n",
    "    MassConfiguration, MassMetabolite, MassModel, MassReaction, Simulation)\n",
    "from mass.example_data import create_example_model\n",
    "from mass.visualization import plot_time_profile\n",
    "model = create_example_model(\"MultiCompartment\")"
   ]
  },
  {
   "cell_type": "markdown",
   "metadata": {},
   "source": [
    "### Viewing compartments in a model\n",
    "The `MassModel.compartments` attribute is used to get `dict` with compartment identifiers and their corresponding names."
   ]
  },
  {
   "cell_type": "code",
   "execution_count": 2,
   "metadata": {
    "execution": {
     "iopub.execute_input": "2021-01-25T17:59:55.328937Z",
     "iopub.status.busy": "2021-01-25T17:59:55.327995Z",
     "iopub.status.idle": "2021-01-25T17:59:55.332267Z",
     "shell.execute_reply": "2021-01-25T17:59:55.332770Z"
    }
   },
   "outputs": [
    {
     "data": {
      "text/plain": [
       "{'l': 'Large', 'm': 'Medium', 's': 'Small'}"
      ]
     },
     "execution_count": 2,
     "metadata": {},
     "output_type": "execute_result"
    }
   ],
   "source": [
    "model.compartments"
   ]
  },
  {
   "cell_type": "markdown",
   "metadata": {},
   "source": [
    "The names for the compartments can be reset or changed by using the `MassModel.compartments` attribute setter method. To reset compartment names, pass an empty dict:"
   ]
  },
  {
   "cell_type": "code",
   "execution_count": 3,
   "metadata": {
    "execution": {
     "iopub.execute_input": "2021-01-25T17:59:55.338227Z",
     "iopub.status.busy": "2021-01-25T17:59:55.337195Z",
     "iopub.status.idle": "2021-01-25T17:59:55.341016Z",
     "shell.execute_reply": "2021-01-25T17:59:55.341623Z"
    }
   },
   "outputs": [],
   "source": [
    "model.compartments = {}"
   ]
  },
  {
   "cell_type": "markdown",
   "metadata": {},
   "source": [
    "To set a new name for a compartment, set a `dict` using the `MassModel.compartments` method with the compartment identifer as the key and the compartment name as the value. Compartments can be set one at a time, or multiple at once:"
   ]
  },
  {
   "cell_type": "code",
   "execution_count": 4,
   "metadata": {
    "execution": {
     "iopub.execute_input": "2021-01-25T17:59:55.347077Z",
     "iopub.status.busy": "2021-01-25T17:59:55.346000Z",
     "iopub.status.idle": "2021-01-25T17:59:55.349440Z",
     "shell.execute_reply": "2021-01-25T17:59:55.350031Z"
    }
   },
   "outputs": [
    {
     "name": "stdout",
     "output_type": "stream",
     "text": [
      "{'l': 'the large compartment', 'm': '', 's': ''}\n",
      "{'l': 'the large compartment', 'm': 'the medium compartment', 's': 'the small compartment'}\n"
     ]
    }
   ],
   "source": [
    "model.compartments = {\"l\": \"the large compartment\"}\n",
    "print(model.compartments)\n",
    "\n",
    "model.compartments = {\"m\": \"the medium compartment\", \"s\": \"the small compartment\"}\n",
    "print(model.compartments)"
   ]
  },
  {
   "cell_type": "markdown",
   "metadata": {},
   "source": [
    "#### Volume units"
   ]
  },
  {
   "cell_type": "markdown",
   "metadata": {},
   "source": [
    "To get a list of all UnitDefinition(s) that contain a volume base unit, an modified filter that scans the base units can be applied:"
   ]
  },
  {
   "cell_type": "code",
   "execution_count": 5,
   "metadata": {
    "execution": {
     "iopub.execute_input": "2021-01-25T17:59:55.358139Z",
     "iopub.status.busy": "2021-01-25T17:59:55.357134Z",
     "iopub.status.idle": "2021-01-25T17:59:55.360571Z",
     "shell.execute_reply": "2021-01-25T17:59:55.361203Z"
    }
   },
   "outputs": [
    {
     "name": "stdout",
     "output_type": "stream",
     "text": [
      "[<UnitDefinition Milliliters \"mL\" at 0x7f7af86e95e0>, <UnitDefinition Concentration \"mol_per_mL\" at 0x7f7af86e9730>]\n"
     ]
    }
   ],
   "source": [
    "def volumes_filter(udef):\n",
    "    if list(filter(lambda u: u.kind in [\"liter\",\"litre\"], udef.list_of_units)):\n",
    "        return True\n",
    "    return False\n",
    "print(model.units.query(volumes_filter))"
   ]
  },
  {
   "cell_type": "markdown",
   "metadata": {},
   "source": [
    "### Enabling compartment volumes in rate laws\n",
    "By default, the ``MassConfiguration.exclude_compartment_volumes_in_rates`` is set as ``True``."
   ]
  },
  {
   "cell_type": "code",
   "execution_count": 6,
   "metadata": {
    "execution": {
     "iopub.execute_input": "2021-01-25T17:59:55.365849Z",
     "iopub.status.busy": "2021-01-25T17:59:55.365117Z",
     "iopub.status.idle": "2021-01-25T17:59:55.367680Z",
     "shell.execute_reply": "2021-01-25T17:59:55.368130Z"
    }
   },
   "outputs": [
    {
     "name": "stdout",
     "output_type": "stream",
     "text": [
      "True\n"
     ]
    }
   ],
   "source": [
    "mass_config = MassConfiguration()\n",
    "print(mass_config.exclude_compartment_volumes_in_rates)"
   ]
  },
  {
   "cell_type": "markdown",
   "metadata": {},
   "source": [
    "Therefore, all automatically generated mass action rate laws do not include the compartment volume:"
   ]
  },
  {
   "cell_type": "code",
   "execution_count": 7,
   "metadata": {
    "execution": {
     "iopub.execute_input": "2021-01-25T17:59:55.376767Z",
     "iopub.status.busy": "2021-01-25T17:59:55.374963Z",
     "iopub.status.idle": "2021-01-25T17:59:55.379004Z",
     "shell.execute_reply": "2021-01-25T17:59:55.381062Z"
    }
   },
   "outputs": [
    {
     "name": "stdout",
     "output_type": "stream",
     "text": [
      "kf_R2_X*x3_l(t)\n"
     ]
    }
   ],
   "source": [
    "print(model.reactions.get_by_id(\"R2_X\").rate)"
   ]
  },
  {
   "cell_type": "markdown",
   "metadata": {},
   "source": [
    "To enable compartment volumes in rate laws, the ``MassConfiguration.exclude_compartment_volumes_in_rates`` attribute must be set to ``False``."
   ]
  },
  {
   "cell_type": "code",
   "execution_count": 8,
   "metadata": {
    "execution": {
     "iopub.execute_input": "2021-01-25T17:59:55.392595Z",
     "iopub.status.busy": "2021-01-25T17:59:55.391501Z",
     "iopub.status.idle": "2021-01-25T17:59:55.394679Z",
     "shell.execute_reply": "2021-01-25T17:59:55.395164Z"
    }
   },
   "outputs": [
    {
     "name": "stdout",
     "output_type": "stream",
     "text": [
      "kf_R2_X*volume_l*x3_l(t)\n"
     ]
    }
   ],
   "source": [
    "mass_config.exclude_compartment_volumes_in_rates = False\n",
    "print(model.reactions.get_by_id(\"R2_X\").rate)"
   ]
  },
  {
   "cell_type": "markdown",
   "metadata": {},
   "source": [
    "As seen above, volume parameters are added into the rate laws to represent compartment volumes. The volume parameters\n",
    "have identifiers of format `volume_CID` , with `CID` referring to the compartment identifier (e.g., \"l\" for large compartment). \n",
    "For a reaction that crosses compartments, more than one \"volume\" parameter will appear as a variable in the rate: "
   ]
  },
  {
   "cell_type": "code",
   "execution_count": 9,
   "metadata": {
    "execution": {
     "iopub.execute_input": "2021-01-25T17:59:55.407908Z",
     "iopub.status.busy": "2021-01-25T17:59:55.407143Z",
     "iopub.status.idle": "2021-01-25T17:59:55.409869Z",
     "shell.execute_reply": "2021-01-25T17:59:55.410426Z"
    }
   },
   "outputs": [
    {
     "name": "stdout",
     "output_type": "stream",
     "text": [
      "volume_m\n",
      "volume_l\n"
     ]
    }
   ],
   "source": [
    "for param in model.reactions.get_by_id(\"R_Ytr\").rate.atoms(sym.Symbol):\n",
    "    if str(param).find(\"volume\") != -1:\n",
    "        print(param)"
   ]
  },
  {
   "cell_type": "markdown",
   "metadata": {},
   "source": [
    "\n",
    "See the section on [Excluding compartments from rates](../tutorials/global_configuration.ipynb#excluding-compartments-from-rates) in the [Global Configuration](../tutorials/global_configuration.ipynb) tutorial for more information about the ``exclude_compartment_volumes_in_rates`` attribute."
   ]
  },
  {
   "cell_type": "markdown",
   "metadata": {},
   "source": [
    "### The \"boundary\" compartment\n",
    "\n",
    "In boundary reactions (e.g., pseudeoreactions such as sinks, demands, and exchanges), metabolites that exist in the `boundary` a.k,a. the boundary conditions, are given a default \"boundary\" compartment with the identifier \"b\". This compartment is treated as a pseudo-compartment, and therefore the 'boundary' metabolites are treated as pseudo-metabolites, meaning no corresponding object is created for them. \n",
    "\n",
    "Boundary metabolites can be accessed either through the `MassReaction.boundary_metabolite` method."
   ]
  },
  {
   "cell_type": "code",
   "execution_count": 10,
   "metadata": {
    "execution": {
     "iopub.execute_input": "2021-01-25T17:59:55.415603Z",
     "iopub.status.busy": "2021-01-25T17:59:55.414735Z",
     "iopub.status.idle": "2021-01-25T17:59:55.418631Z",
     "shell.execute_reply": "2021-01-25T17:59:55.418166Z"
    }
   },
   "outputs": [
    {
     "data": {
      "text/plain": [
       "'x1_b'"
      ]
     },
     "execution_count": 10,
     "metadata": {},
     "output_type": "execute_result"
    }
   ],
   "source": [
    "x1_b = model.reactions.get_by_id(\"SK_x1_l\").boundary_metabolite\n",
    "x1_b"
   ]
  },
  {
   "cell_type": "markdown",
   "metadata": {},
   "source": [
    "If a reaction is not a boundary reaction (i.e., `MassReaction.boundary==False`) then `None` will be returned:"
   ]
  },
  {
   "cell_type": "code",
   "execution_count": 11,
   "metadata": {
    "execution": {
     "iopub.execute_input": "2021-01-25T17:59:55.423257Z",
     "iopub.status.busy": "2021-01-25T17:59:55.422573Z",
     "iopub.status.idle": "2021-01-25T17:59:55.425263Z",
     "shell.execute_reply": "2021-01-25T17:59:55.425719Z"
    }
   },
   "outputs": [
    {
     "name": "stdout",
     "output_type": "stream",
     "text": [
      "None\n"
     ]
    }
   ],
   "source": [
    "print(model.reactions.get_by_id(\"R_Ytr\").boundary_metabolite)"
   ]
  },
  {
   "cell_type": "markdown",
   "metadata": {},
   "source": [
    "The `boundary_metabolite` attribute is useful for getting and setting values in the `MassModel.boundary_conditions` attribute."
   ]
  },
  {
   "cell_type": "code",
   "execution_count": 12,
   "metadata": {
    "execution": {
     "iopub.execute_input": "2021-01-25T17:59:55.430143Z",
     "iopub.status.busy": "2021-01-25T17:59:55.429446Z",
     "iopub.status.idle": "2021-01-25T17:59:55.432477Z",
     "shell.execute_reply": "2021-01-25T17:59:55.432889Z"
    }
   },
   "outputs": [
    {
     "data": {
      "text/plain": [
       "{'x1_b': 2}"
      ]
     },
     "execution_count": 12,
     "metadata": {},
     "output_type": "execute_result"
    }
   ],
   "source": [
    "model.boundary_conditions[x1_b] = 2\n",
    "model.boundary_conditions"
   ]
  },
  {
   "cell_type": "markdown",
   "metadata": {},
   "source": [
    "To change the 'boundary' compartment identifier and name, a `dict` is passed to the `MassConfiguration.boundary_compartment` attribute setter:"
   ]
  },
  {
   "cell_type": "code",
   "execution_count": 13,
   "metadata": {
    "execution": {
     "iopub.execute_input": "2021-01-25T17:59:55.438417Z",
     "iopub.status.busy": "2021-01-25T17:59:55.437291Z",
     "iopub.status.idle": "2021-01-25T17:59:55.440803Z",
     "shell.execute_reply": "2021-01-25T17:59:55.441555Z"
    }
   },
   "outputs": [
    {
     "name": "stdout",
     "output_type": "stream",
     "text": [
      "Before: {'b': 'boundary'}\n",
      "['x1_b', 'x5_b', 'y1_b', 'y4_b', 'z1_b', 'z2_b']\n",
      "\n",
      "After: {'xt': 'External compartment'}\n",
      "['x1_xt', 'x5_xt', 'y1_xt', 'y4_xt', 'z1_xt', 'z2_xt']\n"
     ]
    }
   ],
   "source": [
    "print(\"Before: {0}\\n{1}\".format(mass_config.boundary_compartment, model.boundary_metabolites))\n",
    "mass_config.boundary_compartment = {\"xt\": \"External compartment\"}\n",
    "print(\"\\nAfter: {0}\\n{1}\".format(mass_config.boundary_compartment, model.boundary_metabolites))"
   ]
  },
  {
   "cell_type": "markdown",
   "metadata": {},
   "source": [
    "The \"boundary\" compartment is automatically assumed to have a volume of 1, and therefore is not factored in the rate laws. It is also ignored by the `MassModel.compartments` attribute, even when explicitly set:"
   ]
  },
  {
   "cell_type": "code",
   "execution_count": 14,
   "metadata": {
    "execution": {
     "iopub.execute_input": "2021-01-25T17:59:55.454265Z",
     "iopub.status.busy": "2021-01-25T17:59:55.450529Z",
     "iopub.status.idle": "2021-01-25T17:59:55.467924Z",
     "shell.execute_reply": "2021-01-25T17:59:55.468491Z"
    }
   },
   "outputs": [
    {
     "name": "stdout",
     "output_type": "stream",
     "text": [
      "SK_y1_m: kf_SK_y1_m*y1_xt\n",
      "SK_z1_s: kf_SK_z1_s*z1_xt\n"
     ]
    },
    {
     "data": {
      "text/plain": [
       "{'l': 'the large compartment',\n",
       " 'm': 'the medium compartment',\n",
       " 's': 'the small compartment'}"
      ]
     },
     "execution_count": 14,
     "metadata": {},
     "output_type": "execute_result"
    }
   ],
   "source": [
    "for r in model.sinks:\n",
    "    print(\"{0}: {1}\".format(r.id, r.get_mass_action_rate()))\n",
    "model.compartments = {\"xt\": \"External compartment\"}\n",
    "model.compartments"
   ]
  },
  {
   "cell_type": "markdown",
   "metadata": {},
   "source": [
    "See the section on [For compartments and SBML](../tutorials/global_configuration.ipynb#for-compartments-and-SBML) in the [Global Configuration](../tutorials/global_configuration.ipynb) tutorial for more information about the ``boundary_compartment`` attribute.\n",
    "\n",
    "<div class=\"alert alert-info\"> \n",
    "\n",
    "The 'boundary' pseudo-compartment and 'boundary' pseudo-metabolites are designed to make working with boundary conditions convenient at the cost of having finer user control. This primarily useful for \n",
    "* Setting functions as boundary conditions (e.g., an oscillating function for external oxygen concentration)\n",
    "* Using custom rates to set fixed inputs, causing irrelevant boundary conditions to be ignored altogether.\n",
    "\n",
    "However, for finer control over external compartment and boundary conditions (and general best practices for SBML compatibility in MASSpy), it is recommended to (1) create new `MassMetabolite` objects, define their `compartment` and `initial_condition` attributes, (2) set the  `fixed` attribute as `True`, and (3) add the metabolites to the appropriate reactions. This ensures the concentration of the metabolite is fixed at a constant value, and that its initial condition value is treated as a boundary condition. \n",
    "\n",
    "</div>"
   ]
  },
  {
   "cell_type": "markdown",
   "metadata": {},
   "source": [
    "#### Fixed inputs\n",
    "To bypass using the 'boundary' pseudo-compartment, it is recommended to set a fixed input using a custom rate law:"
   ]
  },
  {
   "cell_type": "code",
   "execution_count": 15,
   "metadata": {
    "execution": {
     "iopub.execute_input": "2021-01-25T17:59:55.479533Z",
     "iopub.status.busy": "2021-01-25T17:59:55.478631Z",
     "iopub.status.idle": "2021-01-25T17:59:55.481636Z",
     "shell.execute_reply": "2021-01-25T17:59:55.482160Z"
    }
   },
   "outputs": [
    {
     "name": "stdout",
     "output_type": "stream",
     "text": [
      "SK_x1_l: kf_SK_x1_l\n",
      "SK_y1_m: kf_SK_y1_m\n",
      "SK_z1_s: kf_SK_z1_s\n"
     ]
    }
   ],
   "source": [
    "for r in model.reactions.get_by_any([\"SK_x1_l\", \"SK_y1_m\", \"SK_z1_s\"]):\n",
    "    model.add_custom_rate(r, custom_rate=r.kf_str)\n",
    "    print(\"{0}: {1}\".format(r.id, r.rate))"
   ]
  },
  {
   "cell_type": "markdown",
   "metadata": {},
   "source": [
    "## Getting and setting compartment volumes\n",
    "Support for compartment volumes is currently through the `MassModel.custom_parameters` attribute. To view what compartment volumes are set:"
   ]
  },
  {
   "cell_type": "code",
   "execution_count": 16,
   "metadata": {
    "execution": {
     "iopub.execute_input": "2021-01-25T17:59:55.492379Z",
     "iopub.status.busy": "2021-01-25T17:59:55.490621Z",
     "iopub.status.idle": "2021-01-25T17:59:55.496706Z",
     "shell.execute_reply": "2021-01-25T17:59:55.498009Z"
    }
   },
   "outputs": [
    {
     "name": "stdout",
     "output_type": "stream",
     "text": [
      "volume_l: 10.0\n",
      "volume_m: 5.0\n",
      "volume_s: 1.0\n"
     ]
    }
   ],
   "source": [
    "def volume_filter(parameter):\n",
    "    if str(parameter).startswith(\"volume\"):\n",
    "        return True\n",
    "    return False\n",
    "\n",
    "for vol_id in filter(volume_filter, model.custom_parameters):\n",
    "    print(\"{0}: {1}\".format(vol_id, model.custom_parameters[vol_id]))"
   ]
  },
  {
   "cell_type": "markdown",
   "metadata": {},
   "source": [
    "To set or change a compartment volume, the value in the `MassModel.custom_parameters` dict is set using the volume parameter ID as the key:"
   ]
  },
  {
   "cell_type": "code",
   "execution_count": 17,
   "metadata": {
    "execution": {
     "iopub.execute_input": "2021-01-25T17:59:55.519294Z",
     "iopub.status.busy": "2021-01-25T17:59:55.518054Z",
     "iopub.status.idle": "2021-01-25T17:59:55.523423Z",
     "shell.execute_reply": "2021-01-25T17:59:55.522584Z"
    }
   },
   "outputs": [
    {
     "name": "stdout",
     "output_type": "stream",
     "text": [
      "volume_l: 15\n",
      "volume_m: 10.0\n",
      "volume_s: 0.9\n"
     ]
    }
   ],
   "source": [
    "# Set the large compartment volume to 15 \n",
    "model.custom_parameters[\"volume_l\"] = 15\n",
    "\n",
    "# Double current medium compartment volume\n",
    "model.custom_parameters[\"volume_m\"] = model.custom_parameters[\"volume_m\"] * 2\n",
    "\n",
    "# 10% decrease to current small compartment volume\n",
    "model.custom_parameters[\"volume_s\"] = model.custom_parameters[\"volume_s\"] * (1 + (-10/100))\n",
    "\n",
    "for vol_id in filter(volume_filter, model.custom_parameters):\n",
    "    print(\"{0}: {1}\".format(vol_id, model.custom_parameters[vol_id]))"
   ]
  },
  {
   "cell_type": "markdown",
   "metadata": {},
   "source": [
    "## Simulating with Volumes and Multiple Compartments\n",
    "Using a newly loaded model, the following section provides guidance on dynamic simulations for models with multiple compartments and includes examples on perturbing compartment volume."
   ]
  },
  {
   "cell_type": "code",
   "execution_count": 18,
   "metadata": {
    "execution": {
     "iopub.execute_input": "2021-01-25T17:59:55.531226Z",
     "iopub.status.busy": "2021-01-25T17:59:55.530088Z",
     "iopub.status.idle": "2021-01-25T17:59:55.553035Z",
     "shell.execute_reply": "2021-01-25T17:59:55.553582Z"
    }
   },
   "outputs": [
    {
     "name": "stdout",
     "output_type": "stream",
     "text": [
      "volume_l: 10.0\n",
      "volume_m: 5.0\n",
      "volume_s: 1.0\n"
     ]
    }
   ],
   "source": [
    "# Ensure compartments are active and boundary compartment is reset\n",
    "mass_config.exclude_compartment_volumes_in_rates = False\n",
    "mass_config.boundary_compartment = {'b': 'boundary'}\n",
    "\n",
    "# Start with a fresh model, checking to ensure compartment volumes are reset\n",
    "model = create_example_model(\"MultiCompartment\")\n",
    "for vol_id in filter(volume_filter, model.custom_parameters):\n",
    "    print(\"{0}: {1}\".format(vol_id, model.custom_parameters[vol_id]))"
   ]
  },
  {
   "cell_type": "markdown",
   "metadata": {},
   "source": [
    "As always, a model must first must be loaded into the `mass.Simulation`. object in order to run a simulation. A quick simulation shows that the model is already at a steady state:"
   ]
  },
  {
   "cell_type": "code",
   "execution_count": 19,
   "metadata": {
    "execution": {
     "iopub.execute_input": "2021-01-25T17:59:55.613508Z",
     "iopub.status.busy": "2021-01-25T17:59:55.612177Z",
     "iopub.status.idle": "2021-01-25T17:59:57.088781Z",
     "shell.execute_reply": "2021-01-25T17:59:57.089245Z"
    }
   },
   "outputs": [
    {
     "name": "stdout",
     "output_type": "stream",
     "text": [
      "Successfully loaded MassModel 'MultiCompartment' into RoadRunner.\n"
     ]
    },
    {
     "data": {
      "text/plain": [
       "<AxesSubplot:>"
      ]
     },
     "execution_count": 19,
     "metadata": {},
     "output_type": "execute_result"
    },
    {
     "data": {
      "image/png": "[encoded data removed]",
      "text/plain": [
       "<Figure size 432x288 with 1 Axes>"
      ]
     },
     "metadata": {
      "needs_background": "light"
     },
     "output_type": "display_data"
    }
   ],
   "source": [
    "simulation = Simulation(model, verbose=True)\n",
    "conc_sol = simulation.simulate(model, time=(0, 1000))[0]\n",
    "plot_time_profile(conc_sol, plot_function=\"loglog\", legend=\"right outside\")"
   ]
  },
  {
   "cell_type": "markdown",
   "metadata": {},
   "source": [
    "A volume parameter can be perturbed just like any other parameter using a `dict`. For example, suppose volume of the large compartment `volume_m` lost 40% of its volume:"
   ]
  },
  {
   "cell_type": "code",
   "execution_count": 20,
   "metadata": {
    "execution": {
     "iopub.execute_input": "2021-01-25T17:59:57.096216Z",
     "iopub.status.busy": "2021-01-25T17:59:57.095412Z",
     "iopub.status.idle": "2021-01-25T17:59:57.675098Z",
     "shell.execute_reply": "2021-01-25T17:59:57.675585Z"
    }
   },
   "outputs": [
    {
     "data": {
      "text/plain": [
       "<AxesSubplot:>"
      ]
     },
     "execution_count": 20,
     "metadata": {},
     "output_type": "execute_result"
    },
    {
     "data": {
      "image/png": "[encoded data removed]",
      "text/plain": [
       "<Figure size 432x288 with 1 Axes>"
      ]
     },
     "metadata": {
      "needs_background": "light"
     },
     "output_type": "display_data"
    }
   ],
   "source": [
    "conc_sol = simulation.simulate(model, time=(0, 1000), perturbations={\n",
    "    \"volume_m\": \"volume_m * (1 - 0.4)\",\n",
    "})[0]\n",
    "plot_time_profile(conc_sol, plot_function=\"loglog\", legend=\"right outside\")"
   ]
  },
  {
   "cell_type": "markdown",
   "metadata": {},
   "source": [
    "Note that in the above simulation, several of the metabolite concentrations in the large compartment changed. The `observable` argument can be used with the `MassMetabolite.compartment` attribute to look at metabolites in a specific compartment for futher examination"
   ]
  },
  {
   "cell_type": "code",
   "execution_count": 21,
   "metadata": {
    "execution": {
     "iopub.execute_input": "2021-01-25T17:59:57.701479Z",
     "iopub.status.busy": "2021-01-25T17:59:57.700748Z",
     "iopub.status.idle": "2021-01-25T17:59:57.903861Z",
     "shell.execute_reply": "2021-01-25T17:59:57.904324Z"
    }
   },
   "outputs": [
    {
     "data": {
      "text/plain": [
       "<AxesSubplot:>"
      ]
     },
     "execution_count": 21,
     "metadata": {},
     "output_type": "execute_result"
    },
    {
     "data": {
      "image/png": "[encoded data removed]",
      "text/plain": [
       "<Figure size 432x288 with 1 Axes>"
      ]
     },
     "metadata": {
      "needs_background": "light"
     },
     "output_type": "display_data"
    }
   ],
   "source": [
    "plot_time_profile(conc_sol, observable=list(model.metabolites.query(lambda m: m.compartment == \"m\")),\n",
    "                  plot_function=\"semilogx\", legend=\"right outside\")"
   ]
  },
  {
   "cell_type": "markdown",
   "metadata": {},
   "source": [
    "Multiple volumes also can be perturbed simultaneously. For example, suppose 1 mL of fluid from the `large` compartment was transfered to the `small` compartment, while 1.5 mL was transfered to the `medium` compartment:"
   ]
  },
  {
   "cell_type": "code",
   "execution_count": 22,
   "metadata": {
    "execution": {
     "iopub.execute_input": "2021-01-25T17:59:57.912655Z",
     "iopub.status.busy": "2021-01-25T17:59:57.912019Z",
     "iopub.status.idle": "2021-01-25T17:59:58.491246Z",
     "shell.execute_reply": "2021-01-25T17:59:58.492519Z"
    }
   },
   "outputs": [
    {
     "data": {
      "text/plain": [
       "<AxesSubplot:>"
      ]
     },
     "execution_count": 22,
     "metadata": {},
     "output_type": "execute_result"
    },
    {
     "data": {
      "image/png": "[encoded data removed]",
      "text/plain": [
       "<Figure size 432x288 with 1 Axes>"
      ]
     },
     "metadata": {
      "needs_background": "light"
     },
     "output_type": "display_data"
    }
   ],
   "source": [
    "conc_sol = simulation.simulate(model, time=(0, 1000), perturbations={\n",
    "    \"volume_l\": \"volume_l - 2.5\",\n",
    "    \"volume_m\": \"volume_m + 1.5\",\n",
    "    \"volume_s\": \"volume_s + 1.0\"\n",
    "})[0]\n",
    "plot_time_profile(conc_sol, plot_function=\"loglog\", legend=\"right outside\")"
   ]
  },
  {
   "cell_type": "markdown",
   "metadata": {},
   "source": [
    "<div class=\"alert alert-info\">\n",
    "<strong>Helpful tips</strong>: When enabling compartment volumes, it is up to the user to track their units to ensure that no numerical consistency issues arise. To make this a bit easier, be aware of the following MASSpy expectations and behaviors:\n",
    "    \n",
    "* When <strong><i>compartment volumes are disabled</i></strong>, MASSpy expects that volumes are already factored into initial condition values, and therefore considers values to be <i>initial concentrations</i>. Consequently, metabolite solutions returned by solutions will be for metabolite <strong><i>concentrations</strong></i> (e.g., mol/L, g/cDW)\n",
    "\n",
    "* When <strong><i>compartment volumes are enabled</i></strong>, MASSpy expects that volumes have not been factored factored into initial condition values, and therefore considers values to be <i>initial amounts</i>.\n",
    "    Consequently, metabolite solutions returned by solutions will be for metabolite <strong><i>amounts</strong></i> (e.g., mol, grams)\n",
    "\n",
    "</div>"
   ]
  }
 ],
 "metadata": {
  "kernelspec": {
   "display_name": "Python 3 (ipykernel)",
   "language": "python",
   "name": "python3"
  },
  "language_info": {
   "codemirror_mode": {
    "name": "ipython",
    "version": 3
   },
   "file_extension": ".py",
   "mimetype": "text/x-python",
   "name": "python",
   "nbconvert_exporter": "python",
   "pygments_lexer": "ipython3",
   "version": "3.8.12"
  }
 },
 "nbformat": 4,
 "nbformat_minor": 4
}
