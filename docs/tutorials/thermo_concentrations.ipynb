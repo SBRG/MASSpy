{
 "cells": [
  {
   "cell_type": "markdown",
   "metadata": {},
   "source": [
    "# Thermodynamic Feasibility and Sampling of Metabolite Concentrations\n",
    "This notebook demonstrates how **MASSpy** is used to ensure thermodynamic feasibility in the metabolite concentrations of a model, and how samples of thermodynamically feasible metabolite concentrations are generated for a model."
   ]
  },
  {
   "cell_type": "code",
   "execution_count": 1,
   "metadata": {
    "execution": {
     "iopub.execute_input": "2021-01-25T18:43:57.197702Z",
     "iopub.status.busy": "2021-01-25T18:43:57.196057Z",
     "iopub.status.idle": "2021-01-25T18:43:59.956959Z",
     "shell.execute_reply": "2021-01-25T18:43:59.957408Z"
    }
   },
   "outputs": [],
   "source": [
    "import matplotlib.pyplot as plt\n",
    "\n",
    "import numpy as np\n",
    "\n",
    "import mass.example_data\n",
    "\n",
    "from mass import MassConfiguration\n",
    "from mass.thermo import ConcSolver\n",
    "\n",
    "MASSCONFIGURATION = MassConfiguration()"
   ]
  },
  {
   "cell_type": "markdown",
   "metadata": {},
   "source": [
    "**Note**: Throughout this notebook, the term *thermodynamic feasibility constraint* for a reaction refers to the following:\n",
    "\n",
    "For a given reaction:\n",
    "\n",
    "$$\n",
    "\\textbf{S}^T \\ln{(\\textbf{x})} < \\ln{(\\text{Keq})}\\ - \\epsilon\\ \\text{if}\\ \\text{v}\\ > 0\\\\\n",
    "\\textbf{S}^T \\ln{(\\textbf{x})} > \\ln{(\\text{Keq})}\\ + \\epsilon\\ \\text{if}\\ \\text{v}\\ < 0\\\\\n",
    "$$\n",
    "\n",
    "where\n",
    "\n",
    "* $\\textbf{S}$ refers to the stoichiometry of the reaction\n",
    "* $\\textbf{x}$ refers to the vector of concentrations for the reaction metabolites\n",
    "* $\\text{Keq}$ refers to the equilibrium constant of the reaction\n",
    "* $\\text{v}$ refers to the reaction flux.\n",
    "* $\\epsilon$ refers to a buffer value for the constraint.\n",
    "\n",
    "Based on methods outlined in <cite data-cite=\"KummelPH06\">(Kummel et al., 2006)</cite> and <cite data-cite=\"HDR13\">(Hamilton, et al., 2013)</cite>"
   ]
  },
  {
   "cell_type": "markdown",
   "metadata": {},
   "source": [
    "## The ConcSolver Object\n",
    "\n",
    "Upon initialization of the `ConcSolver` instance, the model becomes associated with the `ConcSolver` instance.\n",
    "Metabolite concentrations and reaction equilibrium constants are added as variables to the `ConcSolver`.Thermodynamic feasibility constraints, based on the reaction's flux direction and stoichiometry, are created and also added to the solver. **All solver variables and constraints exist in logarithmic space.**\n",
    "\n",
    "Metabolite concentrations that should be excluded from the solver can be defined using the `exclude_metabolites` argument (e.g., hydrogen and water). Reactions can also be excluded from the solver using the `exclude_reactions` argument.\n",
    "\n",
    "Reactions that should exist at equilibrium or equilibrate very quickly should be set using the `equilibrium_reactions` argument. These reactions, such as the hemoglobin binding reactions and the adenylate kinase (ADK1) reaction, typically have a steady state flux value of 0."
   ]
  },
  {
   "cell_type": "code",
   "execution_count": 2,
   "metadata": {
    "execution": {
     "iopub.execute_input": "2021-01-25T18:43:59.965212Z",
     "iopub.status.busy": "2021-01-25T18:43:59.964294Z",
     "iopub.status.idle": "2021-01-25T18:44:00.191111Z",
     "shell.execute_reply": "2021-01-25T18:44:00.191935Z"
    }
   },
   "outputs": [
    {
     "name": "stdout",
     "output_type": "stream",
     "text": [
      "Set parameter Username\n"
     ]
    }
   ],
   "source": [
    "# Load the JSON version of the textbook model\n",
    "model = mass.example_data.create_example_model(\"textbook\")"
   ]
  },
  {
   "cell_type": "code",
   "execution_count": 3,
   "metadata": {
    "execution": {
     "iopub.execute_input": "2021-01-25T18:44:00.281721Z",
     "iopub.status.busy": "2021-01-25T18:44:00.235691Z",
     "iopub.status.idle": "2021-01-25T18:44:00.587384Z",
     "shell.execute_reply": "2021-01-25T18:44:00.587785Z"
    }
   },
   "outputs": [
    {
     "data": {
      "text/html": [
       "\n",
       "            <table>\n",
       "                <tr>\n",
       "                    <td><strong>Name</strong></td><td>RBC_PFK</td>\n",
       "                </tr><tr>\n",
       "                    <td><strong>Memory address</strong></td><td>0x07f7cf009bee0</td>\n",
       "                </tr><tr>\n",
       "                    <td><strong>Stoichiometric Matrix</strong></td>\n",
       "                    <td>68x76</td>\n",
       "                </tr><tr>\n",
       "                    <td><strong>Matrix Rank</strong></td>\n",
       "                    <td>63</td>\n",
       "                </tr><tr>\n",
       "                    <td><strong>Number of metabolites</strong></td>\n",
       "                    <td>68</td>\n",
       "                </tr><tr>\n",
       "                    <td><strong>Initial conditions defined</strong></td>\n",
       "                    <td>68/68</td>\n",
       "                </tr><tr>\n",
       "                    <td><strong>Number of reactions</strong></td>\n",
       "                    <td>76</td>\n",
       "                </tr><tr>\n",
       "                    <td><strong>Number of genes</strong></td>\n",
       "                    <td>0</td>\n",
       "                </tr><tr>\n",
       "                    <td><strong>Number of enzyme modules</strong></td>\n",
       "                    <td>1</td>\n",
       "                </tr><tr>\n",
       "                    <td><strong>Number of groups</strong></td>\n",
       "                    <td>16</td>\n",
       "                </tr><tr>\n",
       "                    <td><strong>Objective expression</strong></td>\n",
       "                    <td>0</td>\n",
       "                </tr><tr>\n",
       "                    <td><strong>Compartments</strong></td>\n",
       "                    <td>Cytosol</td>\n",
       "                </tr>\n",
       "            </table>\n",
       "        "
      ],
      "text/plain": [
       "<MassModel RBC_PFK at 0x7f7cf009bee0>"
      ]
     },
     "execution_count": 3,
     "metadata": {},
     "output_type": "execute_result"
    }
   ],
   "source": [
    "conc_solver = ConcSolver(\n",
    "    model,\n",
    "    excluded_metabolites=[\"h_c\", \"h2o_c\"],\n",
    "    excluded_reactions=None,\n",
    "    equilibrium_reactions=[\"HBDPG\", \"HBO1\", \"HBO2\", \"HBO3\", \"HBO4\", \"ADK1\",\n",
    "                           \"PFK_L\"])\n",
    "# View the model in the ConcSolver\n",
    "conc_solver.model"
   ]
  },
  {
   "cell_type": "markdown",
   "metadata": {},
   "source": [
    "The `ConcSolver` also becomes associated with the loaded model."
   ]
  },
  {
   "cell_type": "code",
   "execution_count": 4,
   "metadata": {
    "execution": {
     "iopub.execute_input": "2021-01-25T18:44:00.593994Z",
     "iopub.status.busy": "2021-01-25T18:44:00.592838Z",
     "iopub.status.idle": "2021-01-25T18:44:00.596696Z",
     "shell.execute_reply": "2021-01-25T18:44:00.597169Z"
    }
   },
   "outputs": [
    {
     "name": "stdout",
     "output_type": "stream",
     "text": [
      "<ConcSolver RBC_PFK at 0x7f7d20c210d0>\n"
     ]
    }
   ],
   "source": [
    "print(model.conc_solver)"
   ]
  },
  {
   "cell_type": "markdown",
   "metadata": {},
   "source": [
    "Concentrations and equilibrium constants cannot be negative numbers; therefore, the bounds for each variable are set to ensure such behavior. Because $\\ln(0)$ results in a domain error, the `ConcSolver` has the `zero_value_log_substitute` attribute. The value of the attribute is substituted for 0 to avoid any errors.\n",
    "\n",
    "For example, if `zero_value_log_substitute=1e-10`, then taking the logarithm of 0 is treated as $\\ln(0) \\approx \\ln(1*10^{-10}) = -23.026$."
   ]
  },
  {
   "cell_type": "code",
   "execution_count": 5,
   "metadata": {
    "execution": {
     "iopub.execute_input": "2021-01-25T18:44:00.602158Z",
     "iopub.status.busy": "2021-01-25T18:44:00.601538Z",
     "iopub.status.idle": "2021-01-25T18:44:00.603912Z",
     "shell.execute_reply": "2021-01-25T18:44:00.604393Z"
    }
   },
   "outputs": [
    {
     "name": "stdout",
     "output_type": "stream",
     "text": [
      "Substitute for ln(0): ln(1.0e-10)\n"
     ]
    }
   ],
   "source": [
    "print(\"Substitute for ln(0): ln({0:.1e})\".format(\n",
    "    conc_solver.zero_value_log_substitute))"
   ]
  },
  {
   "cell_type": "markdown",
   "metadata": {},
   "source": [
    "Variables can be accessed through the `variables` attribute. The number of variables equals the combined total of  the number of included metabolites and the number of included reactions. Specific variables can be accessed using their identifiers as a key."
   ]
  },
  {
   "cell_type": "code",
   "execution_count": 6,
   "metadata": {
    "execution": {
     "iopub.execute_input": "2021-01-25T18:44:00.610843Z",
     "iopub.status.busy": "2021-01-25T18:44:00.609795Z",
     "iopub.status.idle": "2021-01-25T18:44:00.613077Z",
     "shell.execute_reply": "2021-01-25T18:44:00.613769Z"
    }
   },
   "outputs": [
    {
     "name": "stdout",
     "output_type": "stream",
     "text": [
      "Number of included metabolites: 66 \n",
      "Number of included reactions: 48 \n",
      "Total number of variables: 114\n",
      "\n",
      "The glucose concentration variable \n",
      "----------------------------------\n",
      " -23.025850929940457 <= glc__D_c <= inf\n"
     ]
    }
   ],
   "source": [
    "print(\"Number of included metabolites: {0}\".format(len(conc_solver.included_metabolites)),\n",
    "      \"\\nNumber of included reactions: {0}\".format(len(conc_solver.included_reactions)),\n",
    "      \"\\nTotal number of variables: {0}\\n\".format(len(conc_solver.variables)))\n",
    "\n",
    "# Access the glucose concentration variable\n",
    "variable = conc_solver.variables[\"glc__D_c\"]\n",
    "print(\"The glucose concentration variable\",\n",
    "      \"\\n----------------------------------\\n\",\n",
    "      variable)"
   ]
  },
  {
   "cell_type": "markdown",
   "metadata": {},
   "source": [
    "Constraints can be accessed through the `constraints` attribute. The number of constraints equals the number of included reactions. Just like variables, specific constraints can be accessed using reaction identifiers as a key."
   ]
  },
  {
   "cell_type": "code",
   "execution_count": 7,
   "metadata": {
    "execution": {
     "iopub.execute_input": "2021-01-25T18:44:00.623235Z",
     "iopub.status.busy": "2021-01-25T18:44:00.621387Z",
     "iopub.status.idle": "2021-01-25T18:44:00.627138Z",
     "shell.execute_reply": "2021-01-25T18:44:00.627597Z"
    }
   },
   "outputs": [
    {
     "name": "stdout",
     "output_type": "stream",
     "text": [
      "Total number of constraints: 48\n",
      "\n",
      "Thermodynamic feasibility constraint for HEX1 \n",
      "-------------------------------------------\n",
      " HEX1: -1.0*Keq_HEX1 + 1.0*adp_c - 1.0*atp_c + 1.0*g6p_c - 1.0*glc__D_c <= 0\n"
     ]
    }
   ],
   "source": [
    "print(\"Total number of constraints: {0}\\n\".format(len(conc_solver.constraints)))\n",
    "# Access the hexokinase thermodynamic feasibility constraint\n",
    "print(\"Thermodynamic feasibility constraint for HEX1\",\n",
    "      \"\\n-------------------------------------------\\n\",\n",
    "      conc_solver.constraints[\"HEX1\"])"
   ]
  },
  {
   "cell_type": "markdown",
   "metadata": {},
   "source": [
    "Currently, the constraints do not have an error buffer, which provides some flexibility when solving the underlying mathematical problem of the `ConcSolver`. The `constraint_buffer` attribute can be used to set the *epsilon* value of the constraint. The constraints must be reset in order for the changed buffer value to take effect."
   ]
  },
  {
   "cell_type": "code",
   "execution_count": 8,
   "metadata": {
    "execution": {
     "iopub.execute_input": "2021-01-25T18:44:00.654519Z",
     "iopub.status.busy": "2021-01-25T18:44:00.653589Z",
     "iopub.status.idle": "2021-01-25T18:44:00.656275Z",
     "shell.execute_reply": "2021-01-25T18:44:00.656677Z"
    }
   },
   "outputs": [
    {
     "name": "stdout",
     "output_type": "stream",
     "text": [
      "Thermodynamic feasibility constraint for HEX1 \n",
      "-------------------------------------------\n",
      " HEX1: -1.0*Keq_HEX1 + 1.0*adp_c - 1.0*atp_c + 1.0*g6p_c - 1.0*glc__D_c <= -1e-07\n"
     ]
    }
   ],
   "source": [
    "conc_solver.constraint_buffer = 1e-7\n",
    "conc_solver.reset_constraints()\n",
    "print(\"Thermodynamic feasibility constraint for HEX1\",\n",
    "      \"\\n-------------------------------------------\\n\",\n",
    "      conc_solver.constraints[\"HEX1\"])"
   ]
  },
  {
   "cell_type": "markdown",
   "metadata": {},
   "source": [
    "Upon initialization of the `ConcSolver`, the `ConcSolver.problem_type` is considered generic and no objective is set."
   ]
  },
  {
   "cell_type": "code",
   "execution_count": 9,
   "metadata": {
    "execution": {
     "iopub.execute_input": "2021-01-25T18:44:00.662547Z",
     "iopub.status.busy": "2021-01-25T18:44:00.661729Z",
     "iopub.status.idle": "2021-01-25T18:44:00.664179Z",
     "shell.execute_reply": "2021-01-25T18:44:00.664575Z"
    }
   },
   "outputs": [
    {
     "name": "stdout",
     "output_type": "stream",
     "text": [
      "generic\n",
      "Maximize\n",
      "0\n"
     ]
    }
   ],
   "source": [
    "print(conc_solver.problem_type)\n",
    "print(conc_solver.objective)"
   ]
  },
  {
   "cell_type": "markdown",
   "metadata": {},
   "source": [
    "The following sections demonstrate different types of problems that can be solved using the `ConcSolver`."
   ]
  },
  {
   "cell_type": "markdown",
   "metadata": {},
   "source": [
    "## Solving for Feasible Concentrations\n",
    "### Creating the QP problem\n",
    "\n",
    "In order to determine thermodynamically feasible concentrations, a quadratic programming (QP) problem can be set up as follows:\n",
    "\n",
    "Minimize\n",
    "$$\\ln( (\\textbf{x}/\\textbf{x}_0)^{2} )$$\n",
    "\n",
    "subject to\n",
    "\n",
    "$$\n",
    "\\textbf{S}^T \\ln{(\\textbf{x})} \\lt \\ln{(\\text{Keq}_i)}\\ - \\epsilon\\ \\text{if}\\ \\text{v}_i\\ \\gt 0 \\\\\n",
    "\\textbf{S}^T \\ln{(\\textbf{x})} \\gt \\ln{(\\text{Keq}_i)}\\ + \\epsilon\\ \\text{if}\\ \\text{v}_i\\ \\lt 0 \\\\\n",
    "\\ln(\\text{Keq}_{i,\\ lb}) \\leq \\ln(\\text{Keq}_i) \\leq \\ln(\\text{Keq}_{i,\\ ub}) \\\\\n",
    "\\ln(\\text{x}_{j,\\ lb}) \\leq \\ln(\\text{x}_j) \\leq \\ln(\\text{x}_{j,\\ ub}) \\\\\n",
    "$$\n",
    "\n",
    "where \n",
    "\n",
    "* $\\textbf{S}$ refers to the stoichiometric matrix.\n",
    "* $\\textbf{x}$ refers to the vector of metabolite concentrations.\n",
    "* $\\textbf{x}_0$ refers to the vector of initial metabolite concentrations.\n",
    "* $\\text{Keq}_i$ refers to the equilibrium constant of reaction $i$.\n",
    "* $\\text{v}_i$ refers to the flux for reaction $i$.\n",
    "* $\\text{x}_j$ refers to the concentration of metabolite $j$.\n",
    "* $\\epsilon$ refers to a buffer value for the constraint.\n",
    "\n",
    "Note that solving the QP problem requires a capable solver. Although **MASSpy** does not come with any QP solvers installed, it can interface with an installed version of [gurobi](https://www.gurobi.com/) through the **optlang** package."
   ]
  },
  {
   "cell_type": "markdown",
   "metadata": {},
   "source": [
    "The first step is to set the optimization solver to one that is capable of handling quadratic objectives. "
   ]
  },
  {
   "cell_type": "code",
   "execution_count": 10,
   "metadata": {
    "execution": {
     "iopub.execute_input": "2021-01-25T18:44:00.668808Z",
     "iopub.status.busy": "2021-01-25T18:44:00.668148Z",
     "iopub.status.idle": "2021-01-25T18:44:00.671460Z",
     "shell.execute_reply": "2021-01-25T18:44:00.671919Z"
    }
   },
   "outputs": [
    {
     "name": "stdout",
     "output_type": "stream",
     "text": [
      "<optlang.gurobi_interface.Model object at 0x7f7d20c211f0>\n"
     ]
    }
   ],
   "source": [
    "conc_solver.solver = conc_solver.choose_solver(qp=True)\n",
    "print(repr(conc_solver.solver))"
   ]
  },
  {
   "cell_type": "markdown",
   "metadata": {},
   "source": [
    "To set up the underlying mathematical problem in the `ConcSolver`, the `setup_feasible_qp_problem()` method can be used. The `fixed_conc_bounds` and `fixed_Keq_bounds` arguments can be used to set the upper and lower bounds of the corresponding variables equal to one other, fixing the variable's value. In this example, the metabolite concentrations are allowed to change, while the equilibrium constants are fixed at their original value."
   ]
  },
  {
   "cell_type": "code",
   "execution_count": 11,
   "metadata": {
    "execution": {
     "iopub.execute_input": "2021-01-25T18:44:00.765375Z",
     "iopub.status.busy": "2021-01-25T18:44:00.722754Z",
     "iopub.status.idle": "2021-01-25T18:44:01.359135Z",
     "shell.execute_reply": "2021-01-25T18:44:01.359581Z"
    }
   },
   "outputs": [],
   "source": [
    "conc_solver.setup_feasible_qp_problem(\n",
    "    fixed_Keq_bounds=conc_solver.model.reactions)"
   ]
  },
  {
   "cell_type": "markdown",
   "metadata": {},
   "source": [
    "Using the `setup_feasible_qp_problem()` method also sets the objective for the optimization."
   ]
  },
  {
   "cell_type": "code",
   "execution_count": 12,
   "metadata": {
    "execution": {
     "iopub.execute_input": "2021-01-25T18:44:01.364024Z",
     "iopub.status.busy": "2021-01-25T18:44:01.363297Z",
     "iopub.status.idle": "2021-01-25T18:44:01.366671Z",
     "shell.execute_reply": "2021-01-25T18:44:01.367067Z"
    }
   },
   "outputs": [
    {
     "name": "stdout",
     "output_type": "stream",
     "text": [
      "min\n"
     ]
    },
    {
     "data": {
      "text/plain": [
       "<optlang.gurobi_interface.Objective at 0x7f7d209065e0>"
      ]
     },
     "execution_count": 12,
     "metadata": {},
     "output_type": "execute_result"
    }
   ],
   "source": [
    "print(conc_solver.objective_direction)\n",
    "conc_solver.objective"
   ]
  },
  {
   "cell_type": "markdown",
   "metadata": {},
   "source": [
    "After using the `setup_feasible_qp_problem()` method, the `ConcSolver` is ready for optimization. The `problem_type` is automatically changed to reflect the current problem setup."
   ]
  },
  {
   "cell_type": "code",
   "execution_count": 13,
   "metadata": {
    "execution": {
     "iopub.execute_input": "2021-01-25T18:44:01.370906Z",
     "iopub.status.busy": "2021-01-25T18:44:01.370254Z",
     "iopub.status.idle": "2021-01-25T18:44:01.372535Z",
     "shell.execute_reply": "2021-01-25T18:44:01.373032Z"
    }
   },
   "outputs": [
    {
     "name": "stdout",
     "output_type": "stream",
     "text": [
      "feasible_qp\n"
     ]
    }
   ],
   "source": [
    "print(conc_solver.problem_type)"
   ]
  },
  {
   "cell_type": "markdown",
   "metadata": {},
   "source": [
    "### The ConcSolution Object\n",
    "Once the `ConcSolver` is set up to solve the QP, the next step is to use the `optimize()` method to solve the QP. A successful optimization returns a `ConcSolution` object. All values are transformed back into linear space upon being returned."
   ]
  },
  {
   "cell_type": "code",
   "execution_count": 14,
   "metadata": {
    "execution": {
     "iopub.execute_input": "2021-01-25T18:44:01.377381Z",
     "iopub.status.busy": "2021-01-25T18:44:01.376338Z",
     "iopub.status.idle": "2021-01-25T18:44:01.651801Z",
     "shell.execute_reply": "2021-01-25T18:44:01.652220Z"
    }
   },
   "outputs": [
    {
     "data": {
      "text/html": [
       "<strong><em>Optimal</em> solution with objective value 0.000</strong><br><div>\n",
       "<style scoped>\n",
       "    .dataframe tbody tr th:only-of-type {\n",
       "        vertical-align: middle;\n",
       "    }\n",
       "\n",
       "    .dataframe tbody tr th {\n",
       "        vertical-align: top;\n",
       "    }\n",
       "\n",
       "    .dataframe thead th {\n",
       "        text-align: right;\n",
       "    }\n",
       "</style>\n",
       "<table border=\"1\" class=\"dataframe\">\n",
       "  <thead>\n",
       "    <tr style=\"text-align: right;\">\n",
       "      <th></th>\n",
       "      <th>variables</th>\n",
       "      <th>reduced_costs</th>\n",
       "    </tr>\n",
       "  </thead>\n",
       "  <tbody>\n",
       "    <tr>\n",
       "      <th>glc__D_c</th>\n",
       "      <td>1.296763</td>\n",
       "      <td>0.000000</td>\n",
       "    </tr>\n",
       "    <tr>\n",
       "      <th>g6p_c</th>\n",
       "      <td>0.165018</td>\n",
       "      <td>0.000000</td>\n",
       "    </tr>\n",
       "    <tr>\n",
       "      <th>f6p_c</th>\n",
       "      <td>0.067532</td>\n",
       "      <td>0.000000</td>\n",
       "    </tr>\n",
       "    <tr>\n",
       "      <th>fdp_c</th>\n",
       "      <td>0.016615</td>\n",
       "      <td>0.000000</td>\n",
       "    </tr>\n",
       "    <tr>\n",
       "      <th>dhap_c</th>\n",
       "      <td>0.169711</td>\n",
       "      <td>0.000000</td>\n",
       "    </tr>\n",
       "    <tr>\n",
       "      <th>...</th>\n",
       "      <td>...</td>\n",
       "      <td>...</td>\n",
       "    </tr>\n",
       "    <tr>\n",
       "      <th>Keq_PFK_L</th>\n",
       "      <td>0.001100</td>\n",
       "      <td>-0.103955</td>\n",
       "    </tr>\n",
       "    <tr>\n",
       "      <th>Keq_PFK_T1</th>\n",
       "      <td>10.000000</td>\n",
       "      <td>-1.097455</td>\n",
       "    </tr>\n",
       "    <tr>\n",
       "      <th>Keq_PFK_T2</th>\n",
       "      <td>10.000000</td>\n",
       "      <td>-0.408917</td>\n",
       "    </tr>\n",
       "    <tr>\n",
       "      <th>Keq_PFK_T3</th>\n",
       "      <td>10.000000</td>\n",
       "      <td>0.000000</td>\n",
       "    </tr>\n",
       "    <tr>\n",
       "      <th>Keq_PFK_T4</th>\n",
       "      <td>10.000000</td>\n",
       "      <td>0.000000</td>\n",
       "    </tr>\n",
       "  </tbody>\n",
       "</table>\n",
       "<p>114 rows × 2 columns</p>\n",
       "</div>"
      ],
      "text/plain": [
       "<Solution 0.000 at 0x7f7d20c4ed30>"
      ]
     },
     "execution_count": 14,
     "metadata": {},
     "output_type": "execute_result"
    }
   ],
   "source": [
    "conc_solution = conc_solver.optimize()\n",
    "conc_solution"
   ]
  },
  {
   "cell_type": "markdown",
   "metadata": {},
   "source": [
    "The `ConcSolution` object has several methods for viewing the results of the optimization and returning `pandas` objects containing the numerical solutions."
   ]
  },
  {
   "cell_type": "code",
   "execution_count": 15,
   "metadata": {
    "execution": {
     "iopub.execute_input": "2021-01-25T18:44:01.656553Z",
     "iopub.status.busy": "2021-01-25T18:44:01.655844Z",
     "iopub.status.idle": "2021-01-25T18:44:01.658943Z",
     "shell.execute_reply": "2021-01-25T18:44:01.659639Z"
    }
   },
   "outputs": [
    {
     "data": {
      "text/plain": [
       "['Keq_reduced_costs',\n",
       " 'Keqs',\n",
       " 'Keqs_to_frame',\n",
       " 'concentration_reduced_costs',\n",
       " 'concentrations',\n",
       " 'concentrations_to_frame',\n",
       " 'get_primal_by_id',\n",
       " 'objective_value',\n",
       " 'shadow_prices',\n",
       " 'status',\n",
       " 'to_frame']"
      ]
     },
     "execution_count": 15,
     "metadata": {},
     "output_type": "execute_result"
    }
   ],
   "source": [
    "dir(conc_solution)"
   ]
  },
  {
   "cell_type": "code",
   "execution_count": 16,
   "metadata": {
    "execution": {
     "iopub.execute_input": "2021-01-25T18:44:01.663706Z",
     "iopub.status.busy": "2021-01-25T18:44:01.662934Z",
     "iopub.status.idle": "2021-01-25T18:44:01.664940Z",
     "shell.execute_reply": "2021-01-25T18:44:01.665497Z"
    }
   },
   "outputs": [],
   "source": [
    "from mass.visualization import plot_comparison"
   ]
  },
  {
   "cell_type": "markdown",
   "metadata": {},
   "source": [
    "Through visualization features of **MASSPy**, the predicted values can be plotted against the original model values for comparison using the `plot_comparison()` function."
   ]
  },
  {
   "cell_type": "code",
   "execution_count": 17,
   "metadata": {
    "execution": {
     "iopub.execute_input": "2021-01-25T18:44:01.686065Z",
     "iopub.status.busy": "2021-01-25T18:44:01.685447Z",
     "iopub.status.idle": "2021-01-25T18:44:03.432321Z",
     "shell.execute_reply": "2021-01-25T18:44:03.432731Z"
    }
   },
   "outputs": [
    {
     "data": {
      "image/png": "[encoded data removed]",
      "text/plain": [
       "<Figure size 432x432 with 1 Axes>"
      ]
     },
     "metadata": {
      "needs_background": "light"
     },
     "output_type": "display_data"
    }
   ],
   "source": [
    "# Create figure\n",
    "fig, ax = plt.subplots(figsize=(6, 6))\n",
    "\n",
    "# Compare values\n",
    "plot_comparison(\n",
    "    x=model, y=conc_solution, compare=\"concentrations\",\n",
    "    observable=conc_solver.included_metabolites, legend=\"right outside\",\n",
    "    xlabel=\"Current Concentrations [mM]\",\n",
    "    ylabel=\"Predicted Concentrations [mM]\",\n",
    "    plot_function=\"loglog\", xy_line=True, xy_legend=\"best\");"
   ]
  },
  {
   "cell_type": "markdown",
   "metadata": {},
   "source": [
    "The model in the `ConcSolver` can be updated with the results contained within the `ConcSolution` using the `update_model_with_solution()` method. Setting `inplace=True` updates the current model in the `ConcSolver`, while setting `inplace=False` replaces the model in the `ConcSolver` with an updated copy the model without modifying the original. Setting `inplace=False` also removes the previous model's association with the `ConcSolver`."
   ]
  },
  {
   "cell_type": "code",
   "execution_count": 18,
   "metadata": {
    "execution": {
     "iopub.execute_input": "2021-01-25T18:44:03.451986Z",
     "iopub.status.busy": "2021-01-25T18:44:03.451346Z",
     "iopub.status.idle": "2021-01-25T18:44:03.616432Z",
     "shell.execute_reply": "2021-01-25T18:44:03.616978Z"
    }
   },
   "outputs": [
    {
     "name": "stdout",
     "output_type": "stream",
     "text": [
      "Same model object? False\n",
      "None\n"
     ]
    }
   ],
   "source": [
    "conc_solver.update_model_with_solution(\n",
    "    conc_solution, concentrations=True, Keqs=False, inplace=False)\n",
    "print(\"Same model object? {0}\".format(conc_solver.model == model))\n",
    "print(model.conc_solver)"
   ]
  },
  {
   "cell_type": "markdown",
   "metadata": {},
   "source": [
    "## Concentration Sampling\n",
    "### Basic usage\n",
    "\n",
    "The easiest method of sampling concentrations is to use the `sample_concentrations()` function in the `conc_sampling` submodule."
   ]
  },
  {
   "cell_type": "code",
   "execution_count": 19,
   "metadata": {
    "execution": {
     "iopub.execute_input": "2021-01-25T18:44:03.622171Z",
     "iopub.status.busy": "2021-01-25T18:44:03.621489Z",
     "iopub.status.idle": "2021-01-25T18:44:03.623563Z",
     "shell.execute_reply": "2021-01-25T18:44:03.624164Z"
    }
   },
   "outputs": [],
   "source": [
    "from mass.thermo.conc_sampling import sample_concentrations"
   ]
  },
  {
   "cell_type": "markdown",
   "metadata": {},
   "source": [
    "To set up the `ConcSolver` for sampling, the `setup_sampling_problem` method is used. The `conc_percent_deviation` and `Keq_percent_deviation` arguments can be used to set the variable bounds for sampling. For this example, the defined concentrations are allowed to deviate up to %75 from their baseline value, while the defined equilibrium constants remain fixed at their current values. "
   ]
  },
  {
   "cell_type": "code",
   "execution_count": 20,
   "metadata": {
    "execution": {
     "iopub.execute_input": "2021-01-25T18:44:03.637001Z",
     "iopub.status.busy": "2021-01-25T18:44:03.636291Z",
     "iopub.status.idle": "2021-01-25T18:44:03.638842Z",
     "shell.execute_reply": "2021-01-25T18:44:03.639247Z"
    }
   },
   "outputs": [
    {
     "name": "stdout",
     "output_type": "stream",
     "text": [
      "sampling\n"
     ]
    }
   ],
   "source": [
    "conc_solver.setup_sampling_problem(\n",
    "    conc_percent_deviation=0.75,\n",
    "    Keq_percent_deviation=0)\n",
    "print(conc_solver.problem_type)"
   ]
  },
  {
   "cell_type": "markdown",
   "metadata": {},
   "source": [
    "Using the `sample_concentrations()` function requires at least two arguments: a `ConcSolver` that has been set up for sampling, and the number of samples to generate."
   ]
  },
  {
   "cell_type": "code",
   "execution_count": 21,
   "metadata": {
    "execution": {
     "iopub.execute_input": "2021-01-25T18:44:03.653867Z",
     "iopub.status.busy": "2021-01-25T18:44:03.653174Z",
     "iopub.status.idle": "2021-01-25T18:44:04.327896Z",
     "shell.execute_reply": "2021-01-25T18:44:04.328468Z"
    }
   },
   "outputs": [
    {
     "data": {
      "text/html": [
       "<div>\n",
       "<style scoped>\n",
       "    .dataframe tbody tr th:only-of-type {\n",
       "        vertical-align: middle;\n",
       "    }\n",
       "\n",
       "    .dataframe tbody tr th {\n",
       "        vertical-align: top;\n",
       "    }\n",
       "\n",
       "    .dataframe thead th {\n",
       "        text-align: right;\n",
       "    }\n",
       "</style>\n",
       "<table border=\"1\" class=\"dataframe\">\n",
       "  <thead>\n",
       "    <tr style=\"text-align: right;\">\n",
       "      <th></th>\n",
       "      <th>glc__D_c</th>\n",
       "      <th>g6p_c</th>\n",
       "      <th>f6p_c</th>\n",
       "      <th>fdp_c</th>\n",
       "      <th>dhap_c</th>\n",
       "      <th>g3p_c</th>\n",
       "      <th>_13dpg_c</th>\n",
       "      <th>_3pg_c</th>\n",
       "      <th>_2pg_c</th>\n",
       "      <th>pep_c</th>\n",
       "      <th>...</th>\n",
       "      <th>pfk_R3_A_c</th>\n",
       "      <th>pfk_R3_AF_c</th>\n",
       "      <th>pfk_R4_c</th>\n",
       "      <th>pfk_R4_A_c</th>\n",
       "      <th>pfk_R4_AF_c</th>\n",
       "      <th>pfk_T0_c</th>\n",
       "      <th>pfk_T1_c</th>\n",
       "      <th>pfk_T2_c</th>\n",
       "      <th>pfk_T3_c</th>\n",
       "      <th>pfk_T4_c</th>\n",
       "    </tr>\n",
       "  </thead>\n",
       "  <tbody>\n",
       "    <tr>\n",
       "      <th>0</th>\n",
       "      <td>1.776031</td>\n",
       "      <td>0.225999</td>\n",
       "      <td>0.089964</td>\n",
       "      <td>0.020589</td>\n",
       "      <td>0.154565</td>\n",
       "      <td>0.008504</td>\n",
       "      <td>0.000416</td>\n",
       "      <td>0.102543</td>\n",
       "      <td>0.011834</td>\n",
       "      <td>0.020057</td>\n",
       "      <td>...</td>\n",
       "      <td>0.000014</td>\n",
       "      <td>2.261391e-06</td>\n",
       "      <td>1.888078e-06</td>\n",
       "      <td>0.000007</td>\n",
       "      <td>3.013082e-07</td>\n",
       "      <td>4.227295e-11</td>\n",
       "      <td>9.171097e-10</td>\n",
       "      <td>1.284325e-08</td>\n",
       "      <td>1.304504e-07</td>\n",
       "      <td>3.808015e-07</td>\n",
       "    </tr>\n",
       "    <tr>\n",
       "      <th>1</th>\n",
       "      <td>1.584736</td>\n",
       "      <td>0.219790</td>\n",
       "      <td>0.087706</td>\n",
       "      <td>0.018811</td>\n",
       "      <td>0.137524</td>\n",
       "      <td>0.006709</td>\n",
       "      <td>0.000414</td>\n",
       "      <td>0.082037</td>\n",
       "      <td>0.010206</td>\n",
       "      <td>0.014495</td>\n",
       "      <td>...</td>\n",
       "      <td>0.000006</td>\n",
       "      <td>9.566485e-07</td>\n",
       "      <td>7.988064e-07</td>\n",
       "      <td>0.000003</td>\n",
       "      <td>2.393127e-07</td>\n",
       "      <td>4.203981e-11</td>\n",
       "      <td>7.653907e-10</td>\n",
       "      <td>1.484397e-08</td>\n",
       "      <td>1.450826e-07</td>\n",
       "      <td>4.380999e-07</td>\n",
       "    </tr>\n",
       "    <tr>\n",
       "      <th>2</th>\n",
       "      <td>1.476564</td>\n",
       "      <td>0.203249</td>\n",
       "      <td>0.075462</td>\n",
       "      <td>0.016502</td>\n",
       "      <td>0.122260</td>\n",
       "      <td>0.006041</td>\n",
       "      <td>0.000394</td>\n",
       "      <td>0.070950</td>\n",
       "      <td>0.009434</td>\n",
       "      <td>0.013528</td>\n",
       "      <td>...</td>\n",
       "      <td>0.000005</td>\n",
       "      <td>8.413586e-07</td>\n",
       "      <td>6.497424e-07</td>\n",
       "      <td>0.000002</td>\n",
       "      <td>2.212789e-07</td>\n",
       "      <td>3.343054e-11</td>\n",
       "      <td>6.646832e-10</td>\n",
       "      <td>1.393792e-08</td>\n",
       "      <td>1.401509e-07</td>\n",
       "      <td>4.242574e-07</td>\n",
       "    </tr>\n",
       "    <tr>\n",
       "      <th>3</th>\n",
       "      <td>1.611821</td>\n",
       "      <td>0.218186</td>\n",
       "      <td>0.078626</td>\n",
       "      <td>0.015716</td>\n",
       "      <td>0.117922</td>\n",
       "      <td>0.006131</td>\n",
       "      <td>0.000429</td>\n",
       "      <td>0.045345</td>\n",
       "      <td>0.006051</td>\n",
       "      <td>0.008962</td>\n",
       "      <td>...</td>\n",
       "      <td>0.000005</td>\n",
       "      <td>1.109585e-06</td>\n",
       "      <td>8.686517e-07</td>\n",
       "      <td>0.000003</td>\n",
       "      <td>3.090001e-07</td>\n",
       "      <td>4.128989e-11</td>\n",
       "      <td>7.914225e-10</td>\n",
       "      <td>1.757626e-08</td>\n",
       "      <td>1.561635e-07</td>\n",
       "      <td>4.600968e-07</td>\n",
       "    </tr>\n",
       "    <tr>\n",
       "      <th>4</th>\n",
       "      <td>2.148799</td>\n",
       "      <td>0.261852</td>\n",
       "      <td>0.100766</td>\n",
       "      <td>0.008254</td>\n",
       "      <td>0.068786</td>\n",
       "      <td>0.003777</td>\n",
       "      <td>0.000408</td>\n",
       "      <td>0.029591</td>\n",
       "      <td>0.004135</td>\n",
       "      <td>0.006085</td>\n",
       "      <td>...</td>\n",
       "      <td>0.000006</td>\n",
       "      <td>1.097732e-06</td>\n",
       "      <td>1.088903e-06</td>\n",
       "      <td>0.000003</td>\n",
       "      <td>5.549445e-07</td>\n",
       "      <td>6.531665e-11</td>\n",
       "      <td>1.573526e-09</td>\n",
       "      <td>4.263682e-08</td>\n",
       "      <td>2.259306e-07</td>\n",
       "      <td>6.118950e-07</td>\n",
       "    </tr>\n",
       "  </tbody>\n",
       "</table>\n",
       "<p>5 rows × 66 columns</p>\n",
       "</div>"
      ],
      "text/plain": [
       "   glc__D_c     g6p_c     f6p_c     fdp_c    dhap_c     g3p_c  _13dpg_c  \\\n",
       "0  1.776031  0.225999  0.089964  0.020589  0.154565  0.008504  0.000416   \n",
       "1  1.584736  0.219790  0.087706  0.018811  0.137524  0.006709  0.000414   \n",
       "2  1.476564  0.203249  0.075462  0.016502  0.122260  0.006041  0.000394   \n",
       "3  1.611821  0.218186  0.078626  0.015716  0.117922  0.006131  0.000429   \n",
       "4  2.148799  0.261852  0.100766  0.008254  0.068786  0.003777  0.000408   \n",
       "\n",
       "     _3pg_c    _2pg_c     pep_c  ...  pfk_R3_A_c   pfk_R3_AF_c      pfk_R4_c  \\\n",
       "0  0.102543  0.011834  0.020057  ...    0.000014  2.261391e-06  1.888078e-06   \n",
       "1  0.082037  0.010206  0.014495  ...    0.000006  9.566485e-07  7.988064e-07   \n",
       "2  0.070950  0.009434  0.013528  ...    0.000005  8.413586e-07  6.497424e-07   \n",
       "3  0.045345  0.006051  0.008962  ...    0.000005  1.109585e-06  8.686517e-07   \n",
       "4  0.029591  0.004135  0.006085  ...    0.000006  1.097732e-06  1.088903e-06   \n",
       "\n",
       "   pfk_R4_A_c   pfk_R4_AF_c      pfk_T0_c      pfk_T1_c      pfk_T2_c  \\\n",
       "0    0.000007  3.013082e-07  4.227295e-11  9.171097e-10  1.284325e-08   \n",
       "1    0.000003  2.393127e-07  4.203981e-11  7.653907e-10  1.484397e-08   \n",
       "2    0.000002  2.212789e-07  3.343054e-11  6.646832e-10  1.393792e-08   \n",
       "3    0.000003  3.090001e-07  4.128989e-11  7.914225e-10  1.757626e-08   \n",
       "4    0.000003  5.549445e-07  6.531665e-11  1.573526e-09  4.263682e-08   \n",
       "\n",
       "       pfk_T3_c      pfk_T4_c  \n",
       "0  1.304504e-07  3.808015e-07  \n",
       "1  1.450826e-07  4.380999e-07  \n",
       "2  1.401509e-07  4.242574e-07  \n",
       "3  1.561635e-07  4.600968e-07  \n",
       "4  2.259306e-07  6.118950e-07  \n",
       "\n",
       "[5 rows x 66 columns]"
      ]
     },
     "execution_count": 21,
     "metadata": {},
     "output_type": "execute_result"
    }
   ],
   "source": [
    "samples = sample_concentrations(conc_solver, n=20)\n",
    "samples.head()"
   ]
  },
  {
   "cell_type": "markdown",
   "metadata": {},
   "source": [
    "By default `sample_concentrations` uses the `optgp` method <cite data-cite=\"MHM14\">\n",
    "(Megchelenbrink, Huynen, and Marchiori, 2014)</cite>, as it is suited for larger models and can run in parallel. The number of processes can be changed by using the `processes` argument."
   ]
  },
  {
   "cell_type": "code",
   "execution_count": 22,
   "metadata": {
    "execution": {
     "iopub.execute_input": "2021-01-25T18:44:04.344046Z",
     "iopub.status.busy": "2021-01-25T18:44:04.343294Z",
     "iopub.status.idle": "2021-01-25T18:44:36.177838Z",
     "shell.execute_reply": "2021-01-25T18:44:36.178602Z"
    }
   },
   "outputs": [
    {
     "name": "stdout",
     "output_type": "stream",
     "text": [
      "One process:\n",
      "CPU times: user 12.7 s, sys: 357 ms, total: 13.1 s\n",
      "Wall time: 11.7 s\n",
      "\n",
      "Two processes:\n",
      "CPU times: user 695 ms, sys: 199 ms, total: 895 ms\n",
      "Wall time: 9.44 s\n"
     ]
    }
   ],
   "source": [
    "print(\"One process:\")\n",
    "%time samples = sample_concentrations(conc_solver, n=1000, processes=1)\n",
    "print(\"\\nTwo processes:\")\n",
    "%time samples = sample_concentrations(conc_solver, n=1000, processes=2)"
   ]
  },
  {
   "cell_type": "markdown",
   "metadata": {},
   "source": [
    "Alternatively, the Artificial Centering Hit-and-Run for sampling <cite data-cite=\"KS98\">\n",
    "(Kaufman and Smith, 1998)</cite> can be utilized by setting the method to `achr`. The `achr` method does not support parallel execution, but it has good convergence and is almost Markovian."
   ]
  },
  {
   "cell_type": "code",
   "execution_count": 23,
   "metadata": {
    "execution": {
     "iopub.execute_input": "2021-01-25T18:44:36.200562Z",
     "iopub.status.busy": "2021-01-25T18:44:36.199618Z",
     "iopub.status.idle": "2021-01-25T18:44:38.163260Z",
     "shell.execute_reply": "2021-01-25T18:44:38.163712Z"
    }
   },
   "outputs": [],
   "source": [
    "samples = sample_concentrations(conc_solver, n=100, method=\"achr\")"
   ]
  },
  {
   "cell_type": "markdown",
   "metadata": {},
   "source": [
    "In general, setting up the sampler is expensive since initial search directions are generated by solving many linear programming problems. Thus, it is recommended to generate as many samples as possible in one go. However, generating large numbers of samples might require finer control over the sampling procedure, as described in the following section."
   ]
  },
  {
   "cell_type": "markdown",
   "metadata": {},
   "source": [
    "### Advance usage\n",
    "#### Sampler objects\n",
    "\n",
    "The concentration sampling process can be controlled on a lower level by using the sampler classes directly, found in the `conc_sampling` submodule."
   ]
  },
  {
   "cell_type": "code",
   "execution_count": 24,
   "metadata": {
    "execution": {
     "iopub.execute_input": "2021-01-25T18:44:38.168002Z",
     "iopub.status.busy": "2021-01-25T18:44:38.167228Z",
     "iopub.status.idle": "2021-01-25T18:44:38.169256Z",
     "shell.execute_reply": "2021-01-25T18:44:38.169705Z"
    }
   },
   "outputs": [],
   "source": [
    "from mass.thermo.conc_sampling import ConcACHRSampler, ConcOptGPSampler"
   ]
  },
  {
   "cell_type": "markdown",
   "metadata": {},
   "source": [
    "Both concentration sampler classes have standardized interfaces and take some additional arguments. \n",
    "\n",
    "For example, one such argument is the thinning factor, where “thinning” means only recording samples every `x` iterations where `x` is the thinning factor. Higher thinning factors mean less correlated samples but also larger computation times.\n",
    "\n",
    "By default, the samplers use a thinning factor of 100, which creates roughly uncorrelated samples. Increasing the thinning factor leads to better mixing of samples, while lowering the thinning factor leads to more correlated samples. For example, it may be desirable to set a thinning factor of 1 to obtain all iterates when studying convergence for a model.\n",
    "\n",
    "Samplers can be seeded so that they produce the same results each time they are run."
   ]
  },
  {
   "cell_type": "code",
   "execution_count": 25,
   "metadata": {
    "execution": {
     "iopub.execute_input": "2021-01-25T18:44:38.181186Z",
     "iopub.status.busy": "2021-01-25T18:44:38.180443Z",
     "iopub.status.idle": "2021-01-25T18:44:38.509984Z",
     "shell.execute_reply": "2021-01-25T18:44:38.510444Z"
    }
   },
   "outputs": [
    {
     "data": {
      "text/html": [
       "<div>\n",
       "<style scoped>\n",
       "    .dataframe tbody tr th:only-of-type {\n",
       "        vertical-align: middle;\n",
       "    }\n",
       "\n",
       "    .dataframe tbody tr th {\n",
       "        vertical-align: top;\n",
       "    }\n",
       "\n",
       "    .dataframe thead th {\n",
       "        text-align: right;\n",
       "    }\n",
       "</style>\n",
       "<table border=\"1\" class=\"dataframe\">\n",
       "  <thead>\n",
       "    <tr style=\"text-align: right;\">\n",
       "      <th></th>\n",
       "      <th>glc__D_c</th>\n",
       "      <th>g6p_c</th>\n",
       "      <th>f6p_c</th>\n",
       "      <th>fdp_c</th>\n",
       "      <th>dhap_c</th>\n",
       "      <th>g3p_c</th>\n",
       "      <th>_13dpg_c</th>\n",
       "      <th>_3pg_c</th>\n",
       "      <th>_2pg_c</th>\n",
       "      <th>pep_c</th>\n",
       "      <th>...</th>\n",
       "      <th>pfk_R3_A_c</th>\n",
       "      <th>pfk_R3_AF_c</th>\n",
       "      <th>pfk_R4_c</th>\n",
       "      <th>pfk_R4_A_c</th>\n",
       "      <th>pfk_R4_AF_c</th>\n",
       "      <th>pfk_T0_c</th>\n",
       "      <th>pfk_T1_c</th>\n",
       "      <th>pfk_T2_c</th>\n",
       "      <th>pfk_T3_c</th>\n",
       "      <th>pfk_T4_c</th>\n",
       "    </tr>\n",
       "  </thead>\n",
       "  <tbody>\n",
       "    <tr>\n",
       "      <th>0</th>\n",
       "      <td>1.592336</td>\n",
       "      <td>0.197568</td>\n",
       "      <td>0.078832</td>\n",
       "      <td>0.018910</td>\n",
       "      <td>0.142081</td>\n",
       "      <td>0.007510</td>\n",
       "      <td>0.000472</td>\n",
       "      <td>0.090709</td>\n",
       "      <td>0.013006</td>\n",
       "      <td>0.021494</td>\n",
       "      <td>...</td>\n",
       "      <td>0.000003</td>\n",
       "      <td>4.536657e-07</td>\n",
       "      <td>3.693232e-07</td>\n",
       "      <td>0.000001</td>\n",
       "      <td>2.228541e-07</td>\n",
       "      <td>3.305772e-11</td>\n",
       "      <td>6.624519e-10</td>\n",
       "      <td>1.327504e-08</td>\n",
       "      <td>1.311206e-07</td>\n",
       "      <td>3.905462e-07</td>\n",
       "    </tr>\n",
       "    <tr>\n",
       "      <th>1</th>\n",
       "      <td>2.248172</td>\n",
       "      <td>0.285898</td>\n",
       "      <td>0.116922</td>\n",
       "      <td>0.004324</td>\n",
       "      <td>0.043806</td>\n",
       "      <td>0.002030</td>\n",
       "      <td>0.000364</td>\n",
       "      <td>0.022330</td>\n",
       "      <td>0.003282</td>\n",
       "      <td>0.005558</td>\n",
       "      <td>...</td>\n",
       "      <td>0.000002</td>\n",
       "      <td>3.634455e-07</td>\n",
       "      <td>3.032560e-07</td>\n",
       "      <td>0.000001</td>\n",
       "      <td>1.922307e-07</td>\n",
       "      <td>2.714412e-11</td>\n",
       "      <td>5.768461e-10</td>\n",
       "      <td>1.225869e-08</td>\n",
       "      <td>1.236426e-07</td>\n",
       "      <td>3.810419e-07</td>\n",
       "    </tr>\n",
       "    <tr>\n",
       "      <th>2</th>\n",
       "      <td>2.263896</td>\n",
       "      <td>0.288041</td>\n",
       "      <td>0.117857</td>\n",
       "      <td>0.004522</td>\n",
       "      <td>0.045433</td>\n",
       "      <td>0.002117</td>\n",
       "      <td>0.000370</td>\n",
       "      <td>0.023388</td>\n",
       "      <td>0.003439</td>\n",
       "      <td>0.005827</td>\n",
       "      <td>...</td>\n",
       "      <td>0.000002</td>\n",
       "      <td>3.618207e-07</td>\n",
       "      <td>3.020507e-07</td>\n",
       "      <td>0.000001</td>\n",
       "      <td>1.916574e-07</td>\n",
       "      <td>2.703623e-11</td>\n",
       "      <td>5.752355e-10</td>\n",
       "      <td>1.223898e-08</td>\n",
       "      <td>1.234960e-07</td>\n",
       "      <td>3.808523e-07</td>\n",
       "    </tr>\n",
       "    <tr>\n",
       "      <th>3</th>\n",
       "      <td>2.258775</td>\n",
       "      <td>0.287343</td>\n",
       "      <td>0.117552</td>\n",
       "      <td>0.004406</td>\n",
       "      <td>0.044485</td>\n",
       "      <td>0.002067</td>\n",
       "      <td>0.000366</td>\n",
       "      <td>0.022777</td>\n",
       "      <td>0.003348</td>\n",
       "      <td>0.005673</td>\n",
       "      <td>...</td>\n",
       "      <td>0.000002</td>\n",
       "      <td>3.623478e-07</td>\n",
       "      <td>3.024418e-07</td>\n",
       "      <td>0.000001</td>\n",
       "      <td>1.918435e-07</td>\n",
       "      <td>2.707124e-11</td>\n",
       "      <td>5.757583e-10</td>\n",
       "      <td>1.224538e-08</td>\n",
       "      <td>1.235436e-07</td>\n",
       "      <td>3.809139e-07</td>\n",
       "    </tr>\n",
       "    <tr>\n",
       "      <th>4</th>\n",
       "      <td>2.267224</td>\n",
       "      <td>0.288494</td>\n",
       "      <td>0.109154</td>\n",
       "      <td>0.004331</td>\n",
       "      <td>0.043882</td>\n",
       "      <td>0.002036</td>\n",
       "      <td>0.000365</td>\n",
       "      <td>0.022409</td>\n",
       "      <td>0.003295</td>\n",
       "      <td>0.005585</td>\n",
       "      <td>...</td>\n",
       "      <td>0.000002</td>\n",
       "      <td>3.614792e-07</td>\n",
       "      <td>3.017973e-07</td>\n",
       "      <td>0.000001</td>\n",
       "      <td>1.915368e-07</td>\n",
       "      <td>2.701355e-11</td>\n",
       "      <td>5.748966e-10</td>\n",
       "      <td>1.223483e-08</td>\n",
       "      <td>1.234651e-07</td>\n",
       "      <td>3.808123e-07</td>\n",
       "    </tr>\n",
       "  </tbody>\n",
       "</table>\n",
       "<p>5 rows × 66 columns</p>\n",
       "</div>"
      ],
      "text/plain": [
       "   glc__D_c     g6p_c     f6p_c     fdp_c    dhap_c     g3p_c  _13dpg_c  \\\n",
       "0  1.592336  0.197568  0.078832  0.018910  0.142081  0.007510  0.000472   \n",
       "1  2.248172  0.285898  0.116922  0.004324  0.043806  0.002030  0.000364   \n",
       "2  2.263896  0.288041  0.117857  0.004522  0.045433  0.002117  0.000370   \n",
       "3  2.258775  0.287343  0.117552  0.004406  0.044485  0.002067  0.000366   \n",
       "4  2.267224  0.288494  0.109154  0.004331  0.043882  0.002036  0.000365   \n",
       "\n",
       "     _3pg_c    _2pg_c     pep_c  ...  pfk_R3_A_c   pfk_R3_AF_c      pfk_R4_c  \\\n",
       "0  0.090709  0.013006  0.021494  ...    0.000003  4.536657e-07  3.693232e-07   \n",
       "1  0.022330  0.003282  0.005558  ...    0.000002  3.634455e-07  3.032560e-07   \n",
       "2  0.023388  0.003439  0.005827  ...    0.000002  3.618207e-07  3.020507e-07   \n",
       "3  0.022777  0.003348  0.005673  ...    0.000002  3.623478e-07  3.024418e-07   \n",
       "4  0.022409  0.003295  0.005585  ...    0.000002  3.614792e-07  3.017973e-07   \n",
       "\n",
       "   pfk_R4_A_c   pfk_R4_AF_c      pfk_T0_c      pfk_T1_c      pfk_T2_c  \\\n",
       "0    0.000001  2.228541e-07  3.305772e-11  6.624519e-10  1.327504e-08   \n",
       "1    0.000001  1.922307e-07  2.714412e-11  5.768461e-10  1.225869e-08   \n",
       "2    0.000001  1.916574e-07  2.703623e-11  5.752355e-10  1.223898e-08   \n",
       "3    0.000001  1.918435e-07  2.707124e-11  5.757583e-10  1.224538e-08   \n",
       "4    0.000001  1.915368e-07  2.701355e-11  5.748966e-10  1.223483e-08   \n",
       "\n",
       "       pfk_T3_c      pfk_T4_c  \n",
       "0  1.311206e-07  3.905462e-07  \n",
       "1  1.236426e-07  3.810419e-07  \n",
       "2  1.234960e-07  3.808523e-07  \n",
       "3  1.235436e-07  3.809139e-07  \n",
       "4  1.234651e-07  3.808123e-07  \n",
       "\n",
       "[5 rows x 66 columns]"
      ]
     },
     "execution_count": 25,
     "metadata": {},
     "output_type": "execute_result"
    }
   ],
   "source": [
    "conc_achr = ConcACHRSampler(conc_solver, thinning=1, seed=5)\n",
    "samples = conc_achr.sample(10, concs=True)\n",
    "# Display only the first 5 samples\n",
    "samples.head(5)"
   ]
  },
  {
   "cell_type": "markdown",
   "metadata": {},
   "source": [
    "The `sample()` method also comes with the `concs` argument that controls the sample output. Setting `concs=True` returns only concentration variables, while setting `concs=False` returns the equilibrium constant variables and any additional variables."
   ]
  },
  {
   "cell_type": "code",
   "execution_count": 26,
   "metadata": {
    "execution": {
     "iopub.execute_input": "2021-01-25T18:44:38.514970Z",
     "iopub.status.busy": "2021-01-25T18:44:38.514104Z",
     "iopub.status.idle": "2021-01-25T18:44:38.520460Z",
     "shell.execute_reply": "2021-01-25T18:44:38.521053Z"
    }
   },
   "outputs": [
    {
     "name": "stdout",
     "output_type": "stream",
     "text": [
      "Index(['ade_c', 'adn_c', 'imp_c', 'prpp_c', 'nh3_c', 'glc__D_c', 'g6p_c',\n",
      "       'adp_c', 'atp_c', 'Keq_HEX1',\n",
      "       ...\n",
      "       'pfk_T0_c', 'Keq_PFK_L', 'pfk_T1_c', 'Keq_PFK_T1', 'pfk_T2_c',\n",
      "       'Keq_PFK_T2', 'pfk_T3_c', 'Keq_PFK_T3', 'pfk_T4_c', 'Keq_PFK_T4'],\n",
      "      dtype='object', length=114)\n"
     ]
    }
   ],
   "source": [
    "samples = conc_achr.sample(10, concs=False)\n",
    "print(samples.columns)"
   ]
  },
  {
   "cell_type": "markdown",
   "metadata": {},
   "source": [
    "The `ConcOptGPSampler` has an additional `processes` argument that specifies how many processes are used to create parallel sampling chains. The number of processes should be in the order of available CPU cores for maximum efficiency. As noted before, the class initialization can take up to a few minutes due to generation of initial search directions. On the other hand, sampling is quicker."
   ]
  },
  {
   "cell_type": "code",
   "execution_count": 27,
   "metadata": {
    "execution": {
     "iopub.execute_input": "2021-01-25T18:44:38.532444Z",
     "iopub.status.busy": "2021-01-25T18:44:38.531695Z",
     "iopub.status.idle": "2021-01-25T18:44:39.131219Z",
     "shell.execute_reply": "2021-01-25T18:44:39.132008Z"
    }
   },
   "outputs": [],
   "source": [
    "conc_optgp = ConcOptGPSampler(conc_solver, processes=4, seed=5)"
   ]
  },
  {
   "cell_type": "markdown",
   "metadata": {},
   "source": [
    "For the `ConcOptGPSampler`, the number of samples should be a multiple of the number of processes. Otherwise, the number is increased automatically to the nearest multiple."
   ]
  },
  {
   "cell_type": "code",
   "execution_count": 28,
   "metadata": {
    "execution": {
     "iopub.execute_input": "2021-01-25T18:44:39.137360Z",
     "iopub.status.busy": "2021-01-25T18:44:39.136268Z",
     "iopub.status.idle": "2021-01-25T18:44:39.288403Z",
     "shell.execute_reply": "2021-01-25T18:44:39.289349Z"
    }
   },
   "outputs": [
    {
     "name": "stdout",
     "output_type": "stream",
     "text": [
      "Number of samples generated: 12\n"
     ]
    }
   ],
   "source": [
    "samples = conc_optgp.sample(10)\n",
    "print(\"Number of samples generated: {0}\".format(len(samples)))"
   ]
  },
  {
   "cell_type": "markdown",
   "metadata": {},
   "source": [
    "#### Batch sampling\n",
    "\n",
    "Sampler objects are made for generating billions of samples, however using the sampling functions might quickly fill up the computer RAM when working with genome-scale models. \n",
    "\n",
    "In this scenario, the batch method of the sampler objects might be useful. The `batch` method takes two arguments: the number of samples in each batch and the number of batches.\n",
    "\n",
    "Suppose the concentration of ATP, ADP and AMP are unknown. The batch sampler could be used to generate 10 batches of feasible concentrations with 100 samples each. The samples could be averaged to get the mean metabolite concentrations per batch. Finally, the mean metabolite concentrations and standard deviation could be calculated."
   ]
  },
  {
   "cell_type": "code",
   "execution_count": 29,
   "metadata": {
    "execution": {
     "iopub.execute_input": "2021-01-25T18:44:39.314551Z",
     "iopub.status.busy": "2021-01-25T18:44:39.313598Z",
     "iopub.status.idle": "2021-01-25T18:44:59.115736Z",
     "shell.execute_reply": "2021-01-25T18:44:59.116202Z"
    },
    "scrolled": false
   },
   "outputs": [
    {
     "name": "stdout",
     "output_type": "stream",
     "text": [
      "Ave. atp_c concentration: 2.17516 +- 0.10551\n",
      "Ave. adp_c concentration: 0.24789 +- 0.01742\n",
      "Ave. amp_c concentration: 0.12479 +- 0.00738\n"
     ]
    }
   ],
   "source": [
    "# Remove current initial conditions for example\n",
    "conc_solver.model.metabolites.atp_c.ic = None\n",
    "conc_solver.model.metabolites.adp_c.ic = None\n",
    "conc_solver.model.metabolites.amp_c.ic = None\n",
    "# Set up concentration sampling problem\n",
    "conc_solver.setup_sampling_problem(\n",
    "    conc_percent_deviation=0.5,\n",
    "    Keq_percent_deviation=0)\n",
    "\n",
    "# Get batch samples\n",
    "conc_optgp = ConcOptGPSampler(conc_solver, processes=1, seed=5)\n",
    "batch_samples = [sample for sample in conc_optgp.batch(100, 10)]\n",
    "\n",
    "# Determine average metabolite concentrations per batch\n",
    "for met in [\"atp_c\", \"adp_c\", \"amp_c\"]:\n",
    "    met = conc_solver.model.metabolites.get_by_id(met)\n",
    "    per_batch_axp_ave = [\n",
    "        np.mean(sample[met.id])\n",
    "        for sample in batch_samples]\n",
    "    print(\"Ave. {2} concentration: {0:.5f} +- {1:.5f}\".format(\n",
    "        np.mean(per_batch_axp_ave), np.std(per_batch_axp_ave), met.id))\n",
    "    met.ic = np.mean(per_batch_axp_ave)"
   ]
  }
 ],
 "metadata": {
  "kernelspec": {
   "display_name": "Python 3 (ipykernel)",
   "language": "python",
   "name": "python3"
  },
  "language_info": {
   "codemirror_mode": {
    "name": "ipython",
    "version": 3
   },
   "file_extension": ".py",
   "mimetype": "text/x-python",
   "name": "python",
   "nbconvert_exporter": "python",
   "pygments_lexer": "ipython3",
   "version": "3.8.12"
  },
  "nbsphinx": {
   "timeout": -1
  }
 },
 "nbformat": 4,
 "nbformat_minor": 2
}
