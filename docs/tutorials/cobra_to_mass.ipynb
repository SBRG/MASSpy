{
 "cells": [
  {
   "cell_type": "markdown",
   "metadata": {},
   "source": [
    "# Using COBRApy with MASSpy\n",
    "\n",
    "This notebook example demonstrates how to convert **COBRApy** objects into their equivalent **MASSpy** objects, and highlights some of the differences between them."
   ]
  },
  {
   "cell_type": "code",
   "execution_count": 1,
   "metadata": {
    "execution": {
     "iopub.execute_input": "2021-01-25T17:59:46.710964Z",
     "iopub.status.busy": "2021-01-25T17:59:46.709947Z",
     "iopub.status.idle": "2021-01-25T17:59:49.088364Z",
     "shell.execute_reply": "2021-01-25T17:59:49.088796Z"
    }
   },
   "outputs": [],
   "source": [
    "import cobra.test\n",
    "\n",
    "from mass import MassMetabolite, MassModel, MassReaction"
   ]
  },
  {
   "cell_type": "markdown",
   "metadata": {},
   "source": [
    "## Converting COBRA to MASS\n",
    "\n",
    "Converting **COBRApy** objects into their **MASSpy** equivalents is a simple process. It only requires the user to instantiate the **MASSpy** object using the **COBRApy** object. "
   ]
  },
  {
   "cell_type": "code",
   "execution_count": 2,
   "metadata": {
    "execution": {
     "iopub.execute_input": "2021-01-25T17:59:49.093575Z",
     "iopub.status.busy": "2021-01-25T17:59:49.092821Z",
     "iopub.status.idle": "2021-01-25T17:59:49.339210Z",
     "shell.execute_reply": "2021-01-25T17:59:49.339866Z"
    }
   },
   "outputs": [
    {
     "name": "stdout",
     "output_type": "stream",
     "text": [
      "Set parameter Username\n"
     ]
    }
   ],
   "source": [
    "# Get some COBRA objects\n",
    "cobra_model = cobra.test.create_test_model(\"textbook\")\n",
    "cobra_metabolite = cobra_model.metabolites.get_by_id(\"atp_c\")\n",
    "cobra_reaction = cobra_model.reactions.get_by_id(\"PGI\")"
   ]
  },
  {
   "cell_type": "markdown",
   "metadata": {},
   "source": [
    "### Metabolite to MassMetabolite\n",
    "To convert a `cobra.Metabolite` to a `mass.MassMetabolite`:"
   ]
  },
  {
   "cell_type": "code",
   "execution_count": 3,
   "metadata": {
    "execution": {
     "iopub.execute_input": "2021-01-25T17:59:49.346956Z",
     "iopub.status.busy": "2021-01-25T17:59:49.346137Z",
     "iopub.status.idle": "2021-01-25T17:59:49.350154Z",
     "shell.execute_reply": "2021-01-25T17:59:49.350636Z"
    }
   },
   "outputs": [
    {
     "data": {
      "text/html": [
       "\n",
       "        <table>\n",
       "            <tr>\n",
       "                <td><strong>MassMetabolite identifier</strong></td>\n",
       "                <td>atp_c</td>\n",
       "            </tr><tr>\n",
       "                <td><strong>Name</strong></td>\n",
       "                <td>ATP</td>\n",
       "            </tr><tr>\n",
       "                <td><strong>Memory address</strong></td>\n",
       "                <td>0x07faa782df6a0</td>\n",
       "            </tr><tr>\n",
       "                <td><strong>Formula</strong></td>\n",
       "                <td>C10H12N5O13P3</td>\n",
       "            </tr><tr>\n",
       "                <td><strong>Compartment</strong></td>\n",
       "                <td>c</td>\n",
       "            </tr><tr>\n",
       "                <td><strong>Initial Condition</strong></td>\n",
       "                <td>None</td>\n",
       "            </tr><tr>\n",
       "                <td><strong>In 0 reaction(s)</strong></td>\n",
       "                <td></td>\n",
       "            </tr>\n",
       "        </table>"
      ],
      "text/plain": [
       "<MassMetabolite atp_c at 0x7faa782df6a0>"
      ]
     },
     "execution_count": 3,
     "metadata": {},
     "output_type": "execute_result"
    }
   ],
   "source": [
    "mass_metabolite = MassMetabolite(cobra_metabolite)\n",
    "mass_metabolite"
   ]
  },
  {
   "cell_type": "markdown",
   "metadata": {},
   "source": [
    "Note that converted metabolites do not retain any references to the previously associated `cobra.Reaction` or `cobra.Model`."
   ]
  },
  {
   "cell_type": "code",
   "execution_count": 4,
   "metadata": {
    "execution": {
     "iopub.execute_input": "2021-01-25T17:59:49.355754Z",
     "iopub.status.busy": "2021-01-25T17:59:49.354585Z",
     "iopub.status.idle": "2021-01-25T17:59:49.357910Z",
     "shell.execute_reply": "2021-01-25T17:59:49.358485Z"
    }
   },
   "outputs": [
    {
     "name": "stdout",
     "output_type": "stream",
     "text": [
      "Number of Reactions: 13; Model: e_coli_core\n",
      "Number of Reactions: 0; Model: None\n"
     ]
    }
   ],
   "source": [
    "for metabolite in [cobra_metabolite, mass_metabolite]:\n",
    "    print(\"Number of Reactions: {0}; Model: {1}\".format(len(metabolite.reactions), metabolite.model))"
   ]
  },
  {
   "cell_type": "markdown",
   "metadata": {},
   "source": [
    "However, all attributes that the `mass.MassMetabolite` object inherits from the `cobra.Metabolite` object are preserved:"
   ]
  },
  {
   "cell_type": "code",
   "execution_count": 5,
   "metadata": {
    "execution": {
     "iopub.execute_input": "2021-01-25T17:59:49.363163Z",
     "iopub.status.busy": "2021-01-25T17:59:49.362463Z",
     "iopub.status.idle": "2021-01-25T17:59:49.364871Z",
     "shell.execute_reply": "2021-01-25T17:59:49.365317Z"
    },
    "scrolled": false
   },
   "outputs": [
    {
     "name": "stdout",
     "output_type": "stream",
     "text": [
      "Identical 'id': True\n",
      "Identical 'name': True\n",
      "Identical 'formula': True\n",
      "Identical 'charge': True\n",
      "Identical 'compartment': True\n"
     ]
    }
   ],
   "source": [
    "for attr in [\"id\", \"name\", \"formula\", \"charge\", \"compartment\"]:\n",
    "    print(\"Identical '{0}': {1}\".format(\n",
    "        attr, getattr(cobra_metabolite, attr) == getattr(mass_metabolite, attr)))"
   ]
  },
  {
   "cell_type": "markdown",
   "metadata": {},
   "source": [
    "### Reaction to MassReaction\n",
    "To convert a `cobra.Reaction` to a `mass.MassReaction`:"
   ]
  },
  {
   "cell_type": "code",
   "execution_count": 6,
   "metadata": {
    "execution": {
     "iopub.execute_input": "2021-01-25T17:59:49.369724Z",
     "iopub.status.busy": "2021-01-25T17:59:49.368909Z",
     "iopub.status.idle": "2021-01-25T17:59:49.372456Z",
     "shell.execute_reply": "2021-01-25T17:59:49.372956Z"
    }
   },
   "outputs": [
    {
     "data": {
      "text/html": [
       "\n",
       "            <table>\n",
       "                <tr>\n",
       "                    <td><strong>Reaction identifier</strong></td>\n",
       "                    <td>PGI</td>\n",
       "                </tr><tr>\n",
       "                    <td><strong>Name</strong></td>\n",
       "                    <td>glucose-6-phosphate isomerase</td>\n",
       "                </tr><tr>\n",
       "                    <td><strong>Memory address</strong></td>\n",
       "                    <td>0x07faa68f6c730</td>\n",
       "                </tr><tr>\n",
       "                    <td><strong>Subsystem</strong></td>\n",
       "                    <td></td>\n",
       "                </tr><tr>\n",
       "                    <td><strong>Kinetic Reversibility</strong></td>\n",
       "                    <td>True</td>\n",
       "                </tr><tr>\n",
       "                    <td><strong>Stoichiometry</strong></td>\n",
       "                    <td>\n",
       "                        <p style='text-align:right'>g6p_c <=> f6p_c</p>\n",
       "                        <p style='text-align:right'>D-Glucose 6-phosphate <=> D-Fructose 6-phosphate</p>\n",
       "                    </td>\n",
       "                </tr><tr>\n",
       "                    <td><strong>GPR</strong></td><td>b4025</td>\n",
       "                </tr><tr>\n",
       "                    <td><strong>Bounds</strong></td><td>(-1000.0, 1000.0)</td>\n",
       "                </tr>\n",
       "            </table>\n",
       "        "
      ],
      "text/plain": [
       "<MassReaction PGI at 0x7faa68f6c730>"
      ]
     },
     "execution_count": 6,
     "metadata": {},
     "output_type": "execute_result"
    }
   ],
   "source": [
    "mass_reaction = MassReaction(cobra_reaction)\n",
    "mass_reaction"
   ]
  },
  {
   "cell_type": "markdown",
   "metadata": {},
   "source": [
    "Upon conversion of a reaction, all associated `cobra.Metabolite` objects are converted to `mass.MassMetabolite` objects."
   ]
  },
  {
   "cell_type": "code",
   "execution_count": 7,
   "metadata": {
    "execution": {
     "iopub.execute_input": "2021-01-25T17:59:49.377361Z",
     "iopub.status.busy": "2021-01-25T17:59:49.376647Z",
     "iopub.status.idle": "2021-01-25T17:59:49.382368Z",
     "shell.execute_reply": "2021-01-25T17:59:49.383420Z"
    }
   },
   "outputs": [
    {
     "name": "stdout",
     "output_type": "stream",
     "text": [
      "g6p_c <class 'mass.core.mass_metabolite.MassMetabolite'>\n",
      "f6p_c <class 'mass.core.mass_metabolite.MassMetabolite'>\n"
     ]
    }
   ],
   "source": [
    "for metabolite in mass_reaction.metabolites:\n",
    "    print(metabolite, type(metabolite))"
   ]
  },
  {
   "cell_type": "markdown",
   "metadata": {},
   "source": [
    "If there are genes present, they are copied from one reaction to another in order to create a new `cobra.Gene` object for the `MassReaction`."
   ]
  },
  {
   "cell_type": "code",
   "execution_count": 8,
   "metadata": {
    "execution": {
     "iopub.execute_input": "2021-01-25T17:59:49.388555Z",
     "iopub.status.busy": "2021-01-25T17:59:49.387424Z",
     "iopub.status.idle": "2021-01-25T17:59:49.392495Z",
     "shell.execute_reply": "2021-01-25T17:59:49.393079Z"
    }
   },
   "outputs": [
    {
     "name": "stdout",
     "output_type": "stream",
     "text": [
      "frozenset({<Gene b4025 at 0x7faa68ffc100>})\n",
      "frozenset({<Gene b4025 at 0x7faa68f6c910>})\n"
     ]
    }
   ],
   "source": [
    "print(cobra_reaction.genes)\n",
    "print(mass_reaction.genes)"
   ]
  },
  {
   "cell_type": "markdown",
   "metadata": {},
   "source": [
    "All other references to **COBRApy** objects are removed."
   ]
  },
  {
   "cell_type": "code",
   "execution_count": 9,
   "metadata": {
    "execution": {
     "iopub.execute_input": "2021-01-25T17:59:49.397976Z",
     "iopub.status.busy": "2021-01-25T17:59:49.397234Z",
     "iopub.status.idle": "2021-01-25T17:59:49.400024Z",
     "shell.execute_reply": "2021-01-25T17:59:49.400513Z"
    }
   },
   "outputs": [
    {
     "name": "stdout",
     "output_type": "stream",
     "text": [
      "e_coli_core\n",
      "None\n"
     ]
    }
   ],
   "source": [
    "print(cobra_reaction.model)\n",
    "print(mass_reaction.model)"
   ]
  },
  {
   "cell_type": "markdown",
   "metadata": {},
   "source": [
    "All attributes that the `mass.MassReaction` object inherits from the `cobra.Reaction` object are preserved upon conversion."
   ]
  },
  {
   "cell_type": "code",
   "execution_count": 10,
   "metadata": {
    "execution": {
     "iopub.execute_input": "2021-01-25T17:59:49.406051Z",
     "iopub.status.busy": "2021-01-25T17:59:49.404907Z",
     "iopub.status.idle": "2021-01-25T17:59:49.408088Z",
     "shell.execute_reply": "2021-01-25T17:59:49.408563Z"
    }
   },
   "outputs": [
    {
     "name": "stdout",
     "output_type": "stream",
     "text": [
      "Identical 'id': True\n",
      "Identical 'name': True\n",
      "Identical 'subsystem': True\n",
      "Identical 'bounds': True\n",
      "Identical 'compartments': True\n",
      "Identical 'gene_reaction_rule': True\n"
     ]
    }
   ],
   "source": [
    "for attr in [\"id\", \"name\", \"subsystem\", \"bounds\", \"compartments\", \"gene_reaction_rule\"]:\n",
    "    print(\"Identical '{0}': {1}\".format(\n",
    "        attr, getattr(cobra_reaction, attr) == getattr(mass_reaction, attr)))"
   ]
  },
  {
   "cell_type": "markdown",
   "metadata": {},
   "source": [
    "### Model to MassModel\n",
    "To convert a `cobra.Model` to a `mass.MassModel`:"
   ]
  },
  {
   "cell_type": "code",
   "execution_count": 11,
   "metadata": {
    "execution": {
     "iopub.execute_input": "2021-01-25T17:59:49.420395Z",
     "iopub.status.busy": "2021-01-25T17:59:49.419697Z",
     "iopub.status.idle": "2021-01-25T17:59:49.428175Z",
     "shell.execute_reply": "2021-01-25T17:59:49.428626Z"
    }
   },
   "outputs": [
    {
     "data": {
      "text/html": [
       "\n",
       "            <table>\n",
       "                <tr>\n",
       "                    <td><strong>Name</strong></td><td>e_coli_core</td>\n",
       "                </tr><tr>\n",
       "                    <td><strong>Memory address</strong></td><td>0x07faa69050c40</td>\n",
       "                </tr><tr>\n",
       "                    <td><strong>Stoichiometric Matrix</strong></td>\n",
       "                    <td>72x95</td>\n",
       "                </tr><tr>\n",
       "                    <td><strong>Matrix Rank</strong></td>\n",
       "                    <td>67</td>\n",
       "                </tr><tr>\n",
       "                    <td><strong>Number of metabolites</strong></td>\n",
       "                    <td>72</td>\n",
       "                </tr><tr>\n",
       "                    <td><strong>Initial conditions defined</strong></td>\n",
       "                    <td>0/72</td>\n",
       "                </tr><tr>\n",
       "                    <td><strong>Number of reactions</strong></td>\n",
       "                    <td>95</td>\n",
       "                </tr><tr>\n",
       "                    <td><strong>Number of genes</strong></td>\n",
       "                    <td>137</td>\n",
       "                </tr><tr>\n",
       "                    <td><strong>Number of enzyme modules</strong></td>\n",
       "                    <td>0</td>\n",
       "                </tr><tr>\n",
       "                    <td><strong>Number of groups</strong></td>\n",
       "                    <td>0</td>\n",
       "                </tr><tr>\n",
       "                    <td><strong>Objective expression</strong></td>\n",
       "                    <td>1.0*Biomass_Ecoli_core - 1.0*Biomass_Ecoli_core_reverse_2cdba</td>\n",
       "                </tr><tr>\n",
       "                    <td><strong>Compartments</strong></td>\n",
       "                    <td>cytosol, extracellular</td>\n",
       "                </tr>\n",
       "            </table>\n",
       "        "
      ],
      "text/plain": [
       "<MassModel e_coli_core at 0x7faa69050c40>"
      ]
     },
     "execution_count": 11,
     "metadata": {},
     "output_type": "execute_result"
    }
   ],
   "source": [
    "mass_model = MassModel(cobra_model)\n",
    "mass_model"
   ]
  },
  {
   "cell_type": "markdown",
   "metadata": {},
   "source": [
    "During conversion, the original `cobra.Model` remains untouched, while a new `mass.MassModel` is created using the equivalent `mass` objects. All references to the original `cobra.Model` are updated with references to the newly created `mass.MassModel`."
   ]
  },
  {
   "cell_type": "code",
   "execution_count": 12,
   "metadata": {
    "execution": {
     "iopub.execute_input": "2021-01-25T17:59:49.433685Z",
     "iopub.status.busy": "2021-01-25T17:59:49.432907Z",
     "iopub.status.idle": "2021-01-25T17:59:49.435548Z",
     "shell.execute_reply": "2021-01-25T17:59:49.435991Z"
    }
   },
   "outputs": [
    {
     "name": "stdout",
     "output_type": "stream",
     "text": [
      "All MassMetabolites: True\n",
      "All MassReactions: True\n"
     ]
    }
   ],
   "source": [
    "print(\"All MassMetabolites: {0}\".format(\n",
    "    all([isinstance(met, MassMetabolite)\n",
    "         for met in mass_model.metabolites])))\n",
    "print(\"All MassReactions: {0}\".format(\n",
    "    all([isinstance(rxn, MassReaction)\n",
    "         for rxn in mass_model.reactions])))"
   ]
  },
  {
   "cell_type": "markdown",
   "metadata": {},
   "source": [
    "## Differences between COBRA and MASS\n",
    "\n",
    "Although there are several similarities between **COBRApy** and **MASSpy**, there are some key differences in behavior that are worth highlighting.\n",
    "\n",
    "### COBRA vs. MASS reactions\n",
    "\n",
    "There are some key differences between `cobra.Reaction` and `mass.MassReaction` objects. They are summarized below:\n",
    "\n",
    "#### `reversible` vs. `reversibility` attributes\n",
    "One key difference observed is how a reaction direction is determined. A `cobra.Reaction` utilizes the lower and upper bound values to determine the `reversibility` attribute."
   ]
  },
  {
   "cell_type": "code",
   "execution_count": 13,
   "metadata": {
    "execution": {
     "iopub.execute_input": "2021-01-25T17:59:49.441706Z",
     "iopub.status.busy": "2021-01-25T17:59:49.440911Z",
     "iopub.status.idle": "2021-01-25T17:59:49.443662Z",
     "shell.execute_reply": "2021-01-25T17:59:49.444135Z"
    }
   },
   "outputs": [
    {
     "name": "stdout",
     "output_type": "stream",
     "text": [
      "g6p_c <=> f6p_c\n",
      "(-1000.0, 1000.0)\n",
      "True\n"
     ]
    }
   ],
   "source": [
    "print(cobra_reaction.reaction)\n",
    "print(cobra_reaction.bounds)\n",
    "print(cobra_reaction.reversibility)"
   ]
  },
  {
   "cell_type": "markdown",
   "metadata": {},
   "source": [
    "Changing the reaction bounds affects the direction a reaction can proceed:"
   ]
  },
  {
   "cell_type": "code",
   "execution_count": 14,
   "metadata": {
    "execution": {
     "iopub.execute_input": "2021-01-25T17:59:49.450269Z",
     "iopub.status.busy": "2021-01-25T17:59:49.449535Z",
     "iopub.status.idle": "2021-01-25T17:59:49.452430Z",
     "shell.execute_reply": "2021-01-25T17:59:49.452888Z"
    },
    "scrolled": true
   },
   "outputs": [
    {
     "name": "stdout",
     "output_type": "stream",
     "text": [
      "Both Directions\n",
      "---------------\n",
      "g6p_c <=> f6p_c\n",
      "(-1000, 1000)\n",
      "Reversibility: True\n",
      "\n",
      "Forward Direction\n",
      "-----------------\n",
      "g6p_c --> f6p_c\n",
      "(0, 1000)\n",
      "Reversibility: False\n",
      "\n",
      "Reverse Direction\n",
      "-----------------\n",
      "g6p_c <-- f6p_c\n",
      "(-1000, 0)\n",
      "Reversibility: False\n",
      "\n"
     ]
    }
   ],
   "source": [
    "for header, bounds in zip([\"Both Directions\", \"Forward Direction\", \"Reverse Direction\"],\n",
    "                          [(-1000, 1000), (0, 1000), (-1000, 0)]):\n",
    "\n",
    "    print(\"\\n\".join((header, \"-\" * len(header))))\n",
    "    cobra_reaction.bounds = bounds\n",
    "    print(cobra_reaction.reaction)\n",
    "    print(cobra_reaction.bounds)\n",
    "    print(\"Reversibility: {0}\\n\".format(cobra_reaction.reversibility))"
   ]
  },
  {
   "cell_type": "markdown",
   "metadata": {},
   "source": [
    "Although `MassReaction` objects still have the `reversibility` attribute based on reaction bounds, the reaction rate equation is based on the `reversible` attribute. Additionally, the displayed reaction arrow for a reaction string now depends on the `reversible` attribute, rather than the `reversibility` attribute. \n",
    "\n",
    "Therefore, even if the flux is constrained to proceed in one direction by the bounds, the kinetic rate expression still accounts for a reverse rate. "
   ]
  },
  {
   "cell_type": "code",
   "execution_count": 15,
   "metadata": {
    "execution": {
     "iopub.execute_input": "2021-01-25T17:59:49.473119Z",
     "iopub.status.busy": "2021-01-25T17:59:49.472311Z",
     "iopub.status.idle": "2021-01-25T17:59:49.475370Z",
     "shell.execute_reply": "2021-01-25T17:59:49.475847Z"
    }
   },
   "outputs": [
    {
     "name": "stdout",
     "output_type": "stream",
     "text": [
      "Forward Direction (Flux)\n",
      "------------------------\n",
      "g6p_c <=> f6p_c\n",
      "(0, 1000)\n",
      "Reversibility: False\n",
      "Reversible (Kinetic): True\n",
      "Rate: kf_PGI*(g6p_c(t) - f6p_c(t)/Keq_PGI)\n",
      "\n",
      "Reverse Direction (Flux)\n",
      "------------------------\n",
      "g6p_c <=> f6p_c\n",
      "(-1000, 0)\n",
      "Reversibility: False\n",
      "Reversible (Kinetic): True\n",
      "Rate: kf_PGI*(g6p_c(t) - f6p_c(t)/Keq_PGI)\n",
      "\n",
      "Both Directions (Flux)\n",
      "----------------------\n",
      "g6p_c <=> f6p_c\n",
      "(-1000, 1000)\n",
      "Reversibility: True\n",
      "Reversible (Kinetic): True\n",
      "Rate: kf_PGI*(g6p_c(t) - f6p_c(t)/Keq_PGI)\n",
      "\n"
     ]
    }
   ],
   "source": [
    "for header, bounds in zip([\"Forward Direction (Flux)\", \"Reverse Direction (Flux)\", \"Both Directions (Flux)\"],\n",
    "                          [(0, 1000), (-1000, 0), (-1000, 1000)]):\n",
    "\n",
    "    print(\"\\n\".join((header, \"-\" * len(header))))\n",
    "    mass_reaction.bounds = bounds\n",
    "    print(mass_reaction.reaction)\n",
    "    print(mass_reaction.bounds)\n",
    "    print(\"Reversibility: {0}\".format(mass_reaction.reversibility))\n",
    "    print(\"Reversible (Kinetic): {0}\".format(mass_reaction.reversible))\n",
    "    print(\"Rate: {0}\\n\".format(mass_reaction.rate))"
   ]
  },
  {
   "cell_type": "markdown",
   "metadata": {},
   "source": [
    "Changing the `reversible` attribute affects the kinetic rate expression for the reaction, but it does not affect the reaction bounds."
   ]
  },
  {
   "cell_type": "code",
   "execution_count": 16,
   "metadata": {
    "execution": {
     "iopub.execute_input": "2021-01-25T17:59:49.486413Z",
     "iopub.status.busy": "2021-01-25T17:59:49.485627Z",
     "iopub.status.idle": "2021-01-25T17:59:49.488222Z",
     "shell.execute_reply": "2021-01-25T17:59:49.489004Z"
    }
   },
   "outputs": [
    {
     "name": "stdout",
     "output_type": "stream",
     "text": [
      "Both Directions (Kinetics)\n",
      "--------------------------\n",
      "g6p_c <=> f6p_c\n",
      "(-1000, 1000)\n",
      "Reversibility: True\n",
      "Reversible (Kinetic): True\n",
      "Rate: kf_PGI*(g6p_c(t) - f6p_c(t)/Keq_PGI)\n",
      "\n",
      "Forward Direction (Kinetics)\n",
      "----------------------------\n",
      "g6p_c --> f6p_c\n",
      "(-1000, 1000)\n",
      "Reversibility: True\n",
      "Reversible (Kinetic): False\n",
      "Rate: kf_PGI*g6p_c(t)\n",
      "\n"
     ]
    }
   ],
   "source": [
    "for header, reversible in zip([\"Both Directions (Kinetics)\", \"Forward Direction (Kinetics)\"], [True, False]):\n",
    "    print(\"\\n\".join((header, \"-\" * len(header))))\n",
    "    mass_reaction.reversible = reversible\n",
    "    print(mass_reaction.reaction)\n",
    "    print(mass_reaction.bounds)\n",
    "    print(\"Reversibility: {0}\".format(mass_reaction.reversibility))\n",
    "    print(\"Reversible (Kinetic): {0}\".format(mass_reaction.reversible))\n",
    "    print(\"Rate: {0}\\n\".format(mass_reaction.rate))"
   ]
  },
  {
   "cell_type": "markdown",
   "metadata": {},
   "source": [
    "To obtain the reaction in the reverse direction instead of the forward direction, the `MassReaction.reverse_stoichiometry()` method can be used. Setting `inplace=False` produces a new reaction, while setting `inplace=True` modifies the existing reaction. Setting `reverse_bounds=True` switches the lower and upper bound values."
   ]
  },
  {
   "cell_type": "code",
   "execution_count": 17,
   "metadata": {
    "execution": {
     "iopub.execute_input": "2021-01-25T17:59:49.497922Z",
     "iopub.status.busy": "2021-01-25T17:59:49.497140Z",
     "iopub.status.idle": "2021-01-25T17:59:49.499936Z",
     "shell.execute_reply": "2021-01-25T17:59:49.500395Z"
    }
   },
   "outputs": [
    {
     "name": "stdout",
     "output_type": "stream",
     "text": [
      "f6p_c --> g6p_c\n",
      "(-1000, 1000)\n",
      "Reversibility: True\n",
      "Reversible (Kinetic): False\n",
      "Rate: kf_PGI*f6p_c(t)\n",
      "\n"
     ]
    }
   ],
   "source": [
    "mass_reaction_rev = mass_reaction.reverse_stoichiometry(inplace=False)\n",
    "print(mass_reaction_rev.reaction)\n",
    "print(mass_reaction_rev.bounds)\n",
    "print(\"Reversibility: {0}\".format(mass_reaction_rev.reversibility))\n",
    "print(\"Reversible (Kinetic): {0}\".format(mass_reaction_rev.reversible))\n",
    "print(\"Rate: {0}\\n\".format(mass_reaction_rev.rate))"
   ]
  },
  {
   "cell_type": "markdown",
   "metadata": {},
   "source": [
    "#### `flux` vs. `steady_state_flux` attributes\n",
    "\n",
    "Another difference observed between `cobra.Reaction` and `mass.MassReaction` is how flux values are stored. When a model is optimized for FBA, the `flux` attribute of the reaction reflects the solution directly produced by the solver."
   ]
  },
  {
   "cell_type": "code",
   "execution_count": 18,
   "metadata": {
    "execution": {
     "iopub.execute_input": "2021-01-25T17:59:49.696917Z",
     "iopub.status.busy": "2021-01-25T17:59:49.653920Z",
     "iopub.status.idle": "2021-01-25T17:59:49.752496Z",
     "shell.execute_reply": "2021-01-25T17:59:49.753295Z"
    }
   },
   "outputs": [
    {
     "data": {
      "text/plain": [
       "4.860861146496812"
      ]
     },
     "execution_count": 18,
     "metadata": {},
     "output_type": "execute_result"
    }
   ],
   "source": [
    "cobra_model = cobra.test.create_test_model(\"textbook\")\n",
    "cobra_model.optimize()\n",
    "cobra_reaction = cobra_model.reactions.get_by_id(\"PGI\")\n",
    "cobra_reaction.flux"
   ]
  },
  {
   "cell_type": "markdown",
   "metadata": {},
   "source": [
    "`MassModel` objects retain their ability to be optimized for FBA. Consequently, the ability to retrieve a solution for a reaction using the `flux` attribute is also retained."
   ]
  },
  {
   "cell_type": "code",
   "execution_count": 19,
   "metadata": {
    "execution": {
     "iopub.execute_input": "2021-01-25T17:59:49.957922Z",
     "iopub.status.busy": "2021-01-25T17:59:49.910838Z",
     "iopub.status.idle": "2021-01-25T17:59:50.007211Z",
     "shell.execute_reply": "2021-01-25T17:59:50.007717Z"
    }
   },
   "outputs": [
    {
     "data": {
      "text/plain": [
       "4.860861146496812"
      ]
     },
     "execution_count": 19,
     "metadata": {},
     "output_type": "execute_result"
    }
   ],
   "source": [
    "cobra_model = cobra.test.create_test_model(\"textbook\")\n",
    "mass_model = MassModel(cobra_model)\n",
    "mass_model.optimize()\n",
    "mass_reaction = mass_model.reactions.get_by_id(\"PGI\")\n",
    "mass_reaction.flux"
   ]
  },
  {
   "cell_type": "markdown",
   "metadata": {},
   "source": [
    "The value of the `flux` attribute is not the same as the `steady_state_flux` attribute, which is used in various `mass` methods:"
   ]
  },
  {
   "cell_type": "code",
   "execution_count": 20,
   "metadata": {
    "execution": {
     "iopub.execute_input": "2021-01-25T17:59:50.012917Z",
     "iopub.status.busy": "2021-01-25T17:59:50.012205Z",
     "iopub.status.idle": "2021-01-25T17:59:50.014813Z",
     "shell.execute_reply": "2021-01-25T17:59:50.015269Z"
    }
   },
   "outputs": [
    {
     "name": "stdout",
     "output_type": "stream",
     "text": [
      "None\n"
     ]
    }
   ],
   "source": [
    "print(mass_reaction.steady_state_flux)"
   ]
  },
  {
   "cell_type": "markdown",
   "metadata": {},
   "source": [
    "To set `steady_state_flux` attributes for all reactions based on the optimization solutions, the `MassModel.set_steady_state_fluxes_from_solver()` method is used."
   ]
  },
  {
   "cell_type": "code",
   "execution_count": 21,
   "metadata": {
    "execution": {
     "iopub.execute_input": "2021-01-25T17:59:50.024749Z",
     "iopub.status.busy": "2021-01-25T17:59:50.023340Z",
     "iopub.status.idle": "2021-01-25T17:59:50.027543Z",
     "shell.execute_reply": "2021-01-25T17:59:50.028104Z"
    }
   },
   "outputs": [
    {
     "name": "stdout",
     "output_type": "stream",
     "text": [
      "ACALD 0.0\n",
      "ACALDt 0.0\n",
      "ACKr 0.0\n",
      "ACONTa 6.007249575350327\n",
      "ACONTb 6.007249575350327\n",
      "ACt2r 0.0\n",
      "ADK1 0.0\n",
      "AKGDH 5.064375661482088\n",
      "AKGt2r 0.0\n",
      "ALCD2x 0.0\n"
     ]
    }
   ],
   "source": [
    "mass_model.set_steady_state_fluxes_from_solver()\n",
    "# Display for first 10 reactions\n",
    "for reaction in mass_model.reactions[:10]:\n",
    "    print(reaction.id, reaction.steady_state_flux)"
   ]
  }
 ],
 "metadata": {
  "kernelspec": {
   "display_name": "Python 3 (ipykernel)",
   "language": "python",
   "name": "python3"
  },
  "language_info": {
   "codemirror_mode": {
    "name": "ipython",
    "version": 3
   },
   "file_extension": ".py",
   "mimetype": "text/x-python",
   "name": "python",
   "nbconvert_exporter": "python",
   "pygments_lexer": "ipython3",
   "version": "3.8.12"
  }
 },
 "nbformat": 4,
 "nbformat_minor": 2
}
