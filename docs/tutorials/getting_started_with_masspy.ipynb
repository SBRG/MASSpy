{
 "cells": [
  {
   "cell_type": "markdown",
   "metadata": {},
   "source": [
    "# Getting Started with MASSpy\n",
    "\n",
    "In this notebook example, objects essential to **MASSpy** are explored."
   ]
  },
  {
   "cell_type": "markdown",
   "metadata": {},
   "source": [
    "## Models\n",
    "\n",
    "In **MASSpy**, a model is represented by a ``mass.MassModel`` object. **MASSpy** comes bundled with example models, including a \"textbook\" model$^1$ of human red blood cell metabolism. To load this example model:"
   ]
  },
  {
   "cell_type": "code",
   "execution_count": 1,
   "metadata": {
    "execution": {
     "iopub.execute_input": "2021-01-25T18:42:35.117734Z",
     "iopub.status.busy": "2021-01-25T18:42:35.116793Z",
     "iopub.status.idle": "2021-01-25T18:42:37.786786Z",
     "shell.execute_reply": "2021-01-25T18:42:37.787979Z"
    }
   },
   "outputs": [
    {
     "name": "stdout",
     "output_type": "stream",
     "text": [
      "Set parameter Username\n"
     ]
    }
   ],
   "source": [
    "from operator import attrgetter\n",
    "\n",
    "import mass\n",
    "import mass.example_data\n",
    "\n",
    "model = mass.example_data.create_example_model(\"textbook\")"
   ]
  },
  {
   "cell_type": "markdown",
   "metadata": {},
   "source": [
    "Several attributes of the `MassModel`, including model reactions and metabolites, are special types of lists that contain objects related to the model. Each specialized list is called a `cobra.DictList` and is made up of the corresponding objects. For example, the `reactions` attribute contains the `mass.MassReaction` objects, and the `metabolites` attribute contains the `mass.MassMetabolite` objects."
   ]
  },
  {
   "cell_type": "code",
   "execution_count": 2,
   "metadata": {
    "execution": {
     "iopub.execute_input": "2021-01-25T18:42:37.793708Z",
     "iopub.status.busy": "2021-01-25T18:42:37.792737Z",
     "iopub.status.idle": "2021-01-25T18:42:37.796696Z",
     "shell.execute_reply": "2021-01-25T18:42:37.797317Z"
    }
   },
   "outputs": [
    {
     "name": "stdout",
     "output_type": "stream",
     "text": [
      "Number of metabolites: 68\n",
      "Number of reactions: 76\n"
     ]
    }
   ],
   "source": [
    "print(\"Number of metabolites: \" + str(len(model.metabolites)))\n",
    "print(\"Number of reactions: \" + str(len(model.reactions)))"
   ]
  },
  {
   "cell_type": "markdown",
   "metadata": {},
   "source": [
    "When using a [Jupyter notebook](https://jupyter-notebook-beginner-guide.readthedocs.io/en/latest/), this type of information is rendered as a table."
   ]
  },
  {
   "cell_type": "code",
   "execution_count": 3,
   "metadata": {
    "execution": {
     "iopub.execute_input": "2021-01-25T18:42:37.808454Z",
     "iopub.status.busy": "2021-01-25T18:42:37.806481Z",
     "iopub.status.idle": "2021-01-25T18:42:37.812156Z",
     "shell.execute_reply": "2021-01-25T18:42:37.812672Z"
    }
   },
   "outputs": [
    {
     "data": {
      "text/html": [
       "\n",
       "            <table>\n",
       "                <tr>\n",
       "                    <td><strong>Name</strong></td><td>RBC_PFK</td>\n",
       "                </tr><tr>\n",
       "                    <td><strong>Memory address</strong></td><td>0x07faa982ae520</td>\n",
       "                </tr><tr>\n",
       "                    <td><strong>Stoichiometric Matrix</strong></td>\n",
       "                    <td>68x76</td>\n",
       "                </tr><tr>\n",
       "                    <td><strong>Matrix Rank</strong></td>\n",
       "                    <td>63</td>\n",
       "                </tr><tr>\n",
       "                    <td><strong>Number of metabolites</strong></td>\n",
       "                    <td>68</td>\n",
       "                </tr><tr>\n",
       "                    <td><strong>Initial conditions defined</strong></td>\n",
       "                    <td>68/68</td>\n",
       "                </tr><tr>\n",
       "                    <td><strong>Number of reactions</strong></td>\n",
       "                    <td>76</td>\n",
       "                </tr><tr>\n",
       "                    <td><strong>Number of genes</strong></td>\n",
       "                    <td>0</td>\n",
       "                </tr><tr>\n",
       "                    <td><strong>Number of enzyme modules</strong></td>\n",
       "                    <td>1</td>\n",
       "                </tr><tr>\n",
       "                    <td><strong>Number of groups</strong></td>\n",
       "                    <td>16</td>\n",
       "                </tr><tr>\n",
       "                    <td><strong>Objective expression</strong></td>\n",
       "                    <td>0</td>\n",
       "                </tr><tr>\n",
       "                    <td><strong>Compartments</strong></td>\n",
       "                    <td>Cytosol</td>\n",
       "                </tr>\n",
       "            </table>\n",
       "        "
      ],
      "text/plain": [
       "<MassModel RBC_PFK at 0x7faa982ae520>"
      ]
     },
     "execution_count": 3,
     "metadata": {},
     "output_type": "execute_result"
    }
   ],
   "source": [
    "model"
   ]
  },
  {
   "cell_type": "markdown",
   "metadata": {},
   "source": [
    "Just like a regular list, objects in a `cobra.DictList` can be retrieved by index. For example, to get the 30th reaction in the model (at index 29 because of [0-indexing](https://en.wikipedia.org/wiki/Zero-based_numbering)):"
   ]
  },
  {
   "cell_type": "code",
   "execution_count": 4,
   "metadata": {
    "execution": {
     "iopub.execute_input": "2021-01-25T18:42:37.817759Z",
     "iopub.status.busy": "2021-01-25T18:42:37.816907Z",
     "iopub.status.idle": "2021-01-25T18:42:37.820616Z",
     "shell.execute_reply": "2021-01-25T18:42:37.821113Z"
    }
   },
   "outputs": [
    {
     "data": {
      "text/html": [
       "\n",
       "            <table>\n",
       "                <tr>\n",
       "                    <td><strong>Reaction identifier</strong></td>\n",
       "                    <td>DPGase</td>\n",
       "                </tr><tr>\n",
       "                    <td><strong>Name</strong></td>\n",
       "                    <td>Diphosphoglycerate phosphatase</td>\n",
       "                </tr><tr>\n",
       "                    <td><strong>Memory address</strong></td>\n",
       "                    <td>0x07faa61e50ac0</td>\n",
       "                </tr><tr>\n",
       "                    <td><strong>Subsystem</strong></td>\n",
       "                    <td>Hemoglobin</td>\n",
       "                </tr><tr>\n",
       "                    <td><strong>Kinetic Reversibility</strong></td>\n",
       "                    <td>False</td>\n",
       "                </tr><tr>\n",
       "                    <td><strong>Stoichiometry</strong></td>\n",
       "                    <td>\n",
       "                        <p style='text-align:right'>_23dpg_c + h2o_c --> _3pg_c + pi_c</p>\n",
       "                        <p style='text-align:right'>2,3-Disphospho-D-glycerate + H2O --> 3-Phospho-D-glycerate + Phosphate</p>\n",
       "                    </td>\n",
       "                </tr><tr>\n",
       "                    <td><strong>GPR</strong></td><td></td>\n",
       "                </tr><tr>\n",
       "                    <td><strong>Bounds</strong></td><td>(-1000.0, 1000.0)</td>\n",
       "                </tr>\n",
       "            </table>\n",
       "        "
      ],
      "text/plain": [
       "<MassReaction DPGase at 0x7faa61e50ac0>"
      ]
     },
     "execution_count": 4,
     "metadata": {},
     "output_type": "execute_result"
    }
   ],
   "source": [
    "model.reactions[29]"
   ]
  },
  {
   "cell_type": "markdown",
   "metadata": {},
   "source": [
    "Items also can be retrieved by their `id` attribute using the `cobra.DictList.get_by_id()` method. For example, to get the cytosolic atp metabolite object with identifier \"atp_c\":"
   ]
  },
  {
   "cell_type": "code",
   "execution_count": 5,
   "metadata": {
    "execution": {
     "iopub.execute_input": "2021-01-25T18:42:37.826019Z",
     "iopub.status.busy": "2021-01-25T18:42:37.825181Z",
     "iopub.status.idle": "2021-01-25T18:42:37.828125Z",
     "shell.execute_reply": "2021-01-25T18:42:37.828678Z"
    }
   },
   "outputs": [
    {
     "data": {
      "text/html": [
       "\n",
       "        <table>\n",
       "            <tr>\n",
       "                <td><strong>MassMetabolite identifier</strong></td>\n",
       "                <td>atp_c</td>\n",
       "            </tr><tr>\n",
       "                <td><strong>Name</strong></td>\n",
       "                <td>ATP</td>\n",
       "            </tr><tr>\n",
       "                <td><strong>Memory address</strong></td>\n",
       "                <td>0x07faa58a4d490</td>\n",
       "            </tr><tr>\n",
       "                <td><strong>Formula</strong></td>\n",
       "                <td>C10H12N5O13P3</td>\n",
       "            </tr><tr>\n",
       "                <td><strong>Compartment</strong></td>\n",
       "                <td>c</td>\n",
       "            </tr><tr>\n",
       "                <td><strong>Initial Condition</strong></td>\n",
       "                <td>1.2338626826140733</td>\n",
       "            </tr><tr>\n",
       "                <td><strong>In 16 reaction(s)</strong></td>\n",
       "                <td>PFK_R01, PFK_R41, PFK_T3, PFK_T1, ADK1, PFK_R31, PFK_R11, PFK_T4, ATPM, ADNK1, PFK_R21, PYK, PFK_T2, HEX1, PRPPS, PGK</td>\n",
       "            </tr>\n",
       "        </table>"
      ],
      "text/plain": [
       "<MassMetabolite atp_c at 0x7faa58a4d490>"
      ]
     },
     "execution_count": 5,
     "metadata": {},
     "output_type": "execute_result"
    }
   ],
   "source": [
    "model.metabolites.get_by_id(\"atp_c\")"
   ]
  },
  {
   "cell_type": "markdown",
   "metadata": {},
   "source": [
    "If care is taken when assigning object identifiers (e.g., does not start with a number, does not contain certain characters such as \"-\"), it is possible to access objects inside of a `cobra.DictList` as if they were attributes."
   ]
  },
  {
   "cell_type": "code",
   "execution_count": 6,
   "metadata": {
    "execution": {
     "iopub.execute_input": "2021-01-25T18:42:37.833359Z",
     "iopub.status.busy": "2021-01-25T18:42:37.832491Z",
     "iopub.status.idle": "2021-01-25T18:42:37.835323Z",
     "shell.execute_reply": "2021-01-25T18:42:37.835929Z"
    }
   },
   "outputs": [
    {
     "name": "stdout",
     "output_type": "stream",
     "text": [
      "DPGase: _23dpg_c + h2o_c --> _3pg_c + pi_c\n"
     ]
    }
   ],
   "source": [
    "print(model.reactions.DPGase)"
   ]
  },
  {
   "cell_type": "markdown",
   "metadata": {},
   "source": [
    "To ensure all identifiers comply with [Systems Biology Markup Language (SBML)](http://sbml.org/Main_Page) and allow for interactive use, utilizing the identifiers from the [BiGG Models database](http://bigg.ucsd.edu/) is highly recommended.\n",
    "\n",
    "Guidelines for BiGG identifiers are found [here](https://github.com/SBRG/bigg_models/wiki/BiGG-Models-ID-Specification-and-Guidelines)."
   ]
  },
  {
   "cell_type": "markdown",
   "metadata": {},
   "source": [
    "## Reactions\n",
    "\n",
    "In **MASSpy**, a reaction is represented by a ``mass.MassReaction`` object. A particular reaction can be retrieved by its `id` using the `cobra.DictList.get_by_id()` method. Below, the reaction with identifier \"PGI\" is inspected."
   ]
  },
  {
   "cell_type": "code",
   "execution_count": 7,
   "metadata": {
    "execution": {
     "iopub.execute_input": "2021-01-25T18:42:37.841077Z",
     "iopub.status.busy": "2021-01-25T18:42:37.840317Z",
     "iopub.status.idle": "2021-01-25T18:42:37.843377Z",
     "shell.execute_reply": "2021-01-25T18:42:37.843923Z"
    }
   },
   "outputs": [
    {
     "data": {
      "text/html": [
       "\n",
       "            <table>\n",
       "                <tr>\n",
       "                    <td><strong>Reaction identifier</strong></td>\n",
       "                    <td>PGI</td>\n",
       "                </tr><tr>\n",
       "                    <td><strong>Name</strong></td>\n",
       "                    <td>Glucose-6-phosphate isomerase</td>\n",
       "                </tr><tr>\n",
       "                    <td><strong>Memory address</strong></td>\n",
       "                    <td>0x07faa58a5d7c0</td>\n",
       "                </tr><tr>\n",
       "                    <td><strong>Subsystem</strong></td>\n",
       "                    <td>Glycolysis</td>\n",
       "                </tr><tr>\n",
       "                    <td><strong>Kinetic Reversibility</strong></td>\n",
       "                    <td>True</td>\n",
       "                </tr><tr>\n",
       "                    <td><strong>Stoichiometry</strong></td>\n",
       "                    <td>\n",
       "                        <p style='text-align:right'>g6p_c <=> f6p_c</p>\n",
       "                        <p style='text-align:right'>D-Glucose 6-phosphate <=> D-Fructose 6-phosphate</p>\n",
       "                    </td>\n",
       "                </tr><tr>\n",
       "                    <td><strong>GPR</strong></td><td></td>\n",
       "                </tr><tr>\n",
       "                    <td><strong>Bounds</strong></td><td>(-1000.0, 1000.0)</td>\n",
       "                </tr>\n",
       "            </table>\n",
       "        "
      ],
      "text/plain": [
       "<MassReaction PGI at 0x7faa58a5d7c0>"
      ]
     },
     "execution_count": 7,
     "metadata": {},
     "output_type": "execute_result"
    }
   ],
   "source": [
    "PGI = model.reactions.get_by_id(\"PGI\")\n",
    "PGI"
   ]
  },
  {
   "cell_type": "markdown",
   "metadata": {},
   "source": [
    "The full name and the chemical reaction are viewed as strings. If defined, the flux value for the reaction at steady state also can be viewed."
   ]
  },
  {
   "cell_type": "code",
   "execution_count": 8,
   "metadata": {
    "execution": {
     "iopub.execute_input": "2021-01-25T18:42:37.848440Z",
     "iopub.status.busy": "2021-01-25T18:42:37.847735Z",
     "iopub.status.idle": "2021-01-25T18:42:37.850338Z",
     "shell.execute_reply": "2021-01-25T18:42:37.851000Z"
    }
   },
   "outputs": [
    {
     "name": "stdout",
     "output_type": "stream",
     "text": [
      "Glucose-6-phosphate isomerase\n",
      "g6p_c <=> f6p_c\n",
      "0.9098871145647632\n"
     ]
    }
   ],
   "source": [
    "print(PGI.name)\n",
    "print(PGI.reaction)\n",
    "print(PGI.steady_state_flux)"
   ]
  },
  {
   "cell_type": "markdown",
   "metadata": {},
   "source": [
    "The symbolic rate equation for the reaction is viewed using the `rate` attribute. The rate is returned as a **SymPy** symbolic expression."
   ]
  },
  {
   "cell_type": "code",
   "execution_count": 9,
   "metadata": {
    "execution": {
     "iopub.execute_input": "2021-01-25T18:42:37.863556Z",
     "iopub.status.busy": "2021-01-25T18:42:37.862823Z",
     "iopub.status.idle": "2021-01-25T18:42:37.865338Z",
     "shell.execute_reply": "2021-01-25T18:42:37.865784Z"
    }
   },
   "outputs": [
    {
     "name": "stdout",
     "output_type": "stream",
     "text": [
      "kf_PGI*(g6p_c(t) - f6p_c(t)/Keq_PGI)\n"
     ]
    }
   ],
   "source": [
    "print(PGI.rate)"
   ]
  },
  {
   "cell_type": "markdown",
   "metadata": {},
   "source": [
    "The above rate is considered a Type 1 rate law because of the reaction parameters used. \n",
    "There are three types of mass action rate laws that can be generated;\n",
    "  * Type 1 rates utilize the forward rate and equilibrium constants.\n",
    "  * Type 2 rates utilize the forward rate and reverse rate constants.\n",
    "  * Type 3 rates utilize the equilibrium and reverse rate constants.\n",
    "  \n",
    "To view the reaction rate as a Type 2 rate equation, the `get_mass_action_rate()` method can be used."
   ]
  },
  {
   "cell_type": "code",
   "execution_count": 10,
   "metadata": {
    "execution": {
     "iopub.execute_input": "2021-01-25T18:42:37.872007Z",
     "iopub.status.busy": "2021-01-25T18:42:37.871230Z",
     "iopub.status.idle": "2021-01-25T18:42:37.873967Z",
     "shell.execute_reply": "2021-01-25T18:42:37.874418Z"
    }
   },
   "outputs": [
    {
     "name": "stdout",
     "output_type": "stream",
     "text": [
      "kf_PGI*g6p_c(t) - kr_PGI*f6p_c(t)\n"
     ]
    }
   ],
   "source": [
    "print(PGI.get_mass_action_rate(rate_type=2))"
   ]
  },
  {
   "cell_type": "markdown",
   "metadata": {},
   "source": [
    "Because the reaction has its `reversible` attribute set as `True`, the net mass action rate contains both forward and reverse rate components."
   ]
  },
  {
   "cell_type": "code",
   "execution_count": 11,
   "metadata": {
    "execution": {
     "iopub.execute_input": "2021-01-25T18:42:37.881608Z",
     "iopub.status.busy": "2021-01-25T18:42:37.880855Z",
     "iopub.status.idle": "2021-01-25T18:42:37.883562Z",
     "shell.execute_reply": "2021-01-25T18:42:37.884016Z"
    },
    "scrolled": true
   },
   "outputs": [
    {
     "name": "stdout",
     "output_type": "stream",
     "text": [
      "Reversible: True\n",
      "Forward rate: kf_PGI*g6p_c(t)\n",
      "Reverse rate: kr_PGI*f6p_c(t)\n",
      "Net reaction rate: kf_PGI*g6p_c(t) - kr_PGI*f6p_c(t)\n"
     ]
    }
   ],
   "source": [
    "print(\"Reversible: {0!r}\".format(PGI.reversible))\n",
    "print(\"Forward rate: {0!r}\".format(\n",
    "    PGI.get_forward_mass_action_rate_expression(rate_type=2)))\n",
    "print(\"Reverse rate: {0!r}\".format(\n",
    "    PGI.get_reverse_mass_action_rate_expression(rate_type=2)))\n",
    "print(\"Net reaction rate: {0!r}\".format(\n",
    "    PGI.get_mass_action_rate(rate_type=2)))"
   ]
  },
  {
   "cell_type": "markdown",
   "metadata": {},
   "source": [
    "To view the defined parameters for the rate and equilibrium constants, the `parameters` attribute is used to return a `dict` containing the parameter identifiers and their values."
   ]
  },
  {
   "cell_type": "code",
   "execution_count": 12,
   "metadata": {
    "execution": {
     "iopub.execute_input": "2021-01-25T18:42:37.890293Z",
     "iopub.status.busy": "2021-01-25T18:42:37.889348Z",
     "iopub.status.idle": "2021-01-25T18:42:37.892666Z",
     "shell.execute_reply": "2021-01-25T18:42:37.893133Z"
    }
   },
   "outputs": [
    {
     "data": {
      "text/plain": [
       "{'kf_PGI': 2961.1111111111486, 'Keq_PGI': 0.41}"
      ]
     },
     "execution_count": 12,
     "metadata": {},
     "output_type": "execute_result"
    }
   ],
   "source": [
    "PGI.parameters"
   ]
  },
  {
   "cell_type": "markdown",
   "metadata": {},
   "source": [
    "Parameter identifiers for a reaction can be obtained using various attributes."
   ]
  },
  {
   "cell_type": "code",
   "execution_count": 13,
   "metadata": {
    "execution": {
     "iopub.execute_input": "2021-01-25T18:42:37.899109Z",
     "iopub.status.busy": "2021-01-25T18:42:37.898413Z",
     "iopub.status.idle": "2021-01-25T18:42:37.901611Z",
     "shell.execute_reply": "2021-01-25T18:42:37.902197Z"
    }
   },
   "outputs": [
    {
     "name": "stdout",
     "output_type": "stream",
     "text": [
      "v_PGI\n",
      "kf_PGI\n",
      "Keq_PGI\n",
      "kr_PGI\n"
     ]
    }
   ],
   "source": [
    "print(PGI.flux_symbol_str)\n",
    "print(PGI.kf_str)\n",
    "print(PGI.Keq_str)\n",
    "print(PGI.kr_str)"
   ]
  },
  {
   "cell_type": "markdown",
   "metadata": {},
   "source": [
    "Changing the `reversible` attribute of the reaction affects the net rate equation:"
   ]
  },
  {
   "cell_type": "code",
   "execution_count": 14,
   "metadata": {
    "execution": {
     "iopub.execute_input": "2021-01-25T18:42:37.908795Z",
     "iopub.status.busy": "2021-01-25T18:42:37.907928Z",
     "iopub.status.idle": "2021-01-25T18:42:37.910984Z",
     "shell.execute_reply": "2021-01-25T18:42:37.911547Z"
    }
   },
   "outputs": [
    {
     "name": "stdout",
     "output_type": "stream",
     "text": [
      "Reversible: False\n",
      "Net reaction rate: kf_PGI*g6p_c(t)\n"
     ]
    }
   ],
   "source": [
    "PGI.reversible = False\n",
    "print(\"Reversible: {0!r}\".format(PGI.reversible))\n",
    "print(\"Net reaction rate: {0!r}\".format(PGI.rate))"
   ]
  },
  {
   "cell_type": "markdown",
   "metadata": {},
   "source": [
    "Note that changing the `reversible` attribute of the reaction can affect the parameters:"
   ]
  },
  {
   "cell_type": "code",
   "execution_count": 15,
   "metadata": {
    "execution": {
     "iopub.execute_input": "2021-01-25T18:42:37.916056Z",
     "iopub.status.busy": "2021-01-25T18:42:37.915316Z",
     "iopub.status.idle": "2021-01-25T18:42:37.918248Z",
     "shell.execute_reply": "2021-01-25T18:42:37.918832Z"
    }
   },
   "outputs": [
    {
     "data": {
      "text/plain": [
       "{'kf_PGI': 2961.1111111111486, 'Keq_PGI': inf}"
      ]
     },
     "execution_count": 15,
     "metadata": {},
     "output_type": "execute_result"
    }
   ],
   "source": [
    "PGI.parameters"
   ]
  },
  {
   "cell_type": "markdown",
   "metadata": {},
   "source": [
    "The reaction can be checked for whether it is mass balanced using the `check_mass_balance()` method. This method returns the elements that violate mass balance. If it comes back empty, then the reaction is mass balanced."
   ]
  },
  {
   "cell_type": "code",
   "execution_count": 16,
   "metadata": {
    "execution": {
     "iopub.execute_input": "2021-01-25T18:42:37.923529Z",
     "iopub.status.busy": "2021-01-25T18:42:37.922598Z",
     "iopub.status.idle": "2021-01-25T18:42:37.925547Z",
     "shell.execute_reply": "2021-01-25T18:42:37.926005Z"
    }
   },
   "outputs": [
    {
     "data": {
      "text/plain": [
       "{}"
      ]
     },
     "execution_count": 16,
     "metadata": {},
     "output_type": "execute_result"
    }
   ],
   "source": [
    "PGI.check_mass_balance()"
   ]
  },
  {
   "cell_type": "markdown",
   "metadata": {},
   "source": [
    "The `add_metabolites()` method can be used to add metabolites to a reaction by passing in a `dict` that contains the `MassMetabolite` objects and their coefficients:"
   ]
  },
  {
   "cell_type": "code",
   "execution_count": 17,
   "metadata": {
    "execution": {
     "iopub.execute_input": "2021-01-25T18:42:37.931306Z",
     "iopub.status.busy": "2021-01-25T18:42:37.930486Z",
     "iopub.status.idle": "2021-01-25T18:42:37.933100Z",
     "shell.execute_reply": "2021-01-25T18:42:37.933548Z"
    }
   },
   "outputs": [
    {
     "name": "stdout",
     "output_type": "stream",
     "text": [
      "PGI: g6p_c + h_c --> f6p_c\n"
     ]
    }
   ],
   "source": [
    "PGI.add_metabolites({model.metabolites.get_by_id(\"h_c\"): -1})\n",
    "print(PGI)"
   ]
  },
  {
   "cell_type": "markdown",
   "metadata": {},
   "source": [
    "The reaction is no longer mass balanced."
   ]
  },
  {
   "cell_type": "code",
   "execution_count": 18,
   "metadata": {
    "execution": {
     "iopub.execute_input": "2021-01-25T18:42:37.938880Z",
     "iopub.status.busy": "2021-01-25T18:42:37.938195Z",
     "iopub.status.idle": "2021-01-25T18:42:37.940855Z",
     "shell.execute_reply": "2021-01-25T18:42:37.941297Z"
    }
   },
   "outputs": [
    {
     "name": "stdout",
     "output_type": "stream",
     "text": [
      "PGI: g6p_c --> f6p_c\n",
      "{}\n"
     ]
    }
   ],
   "source": [
    "PGI.subtract_metabolites({model.metabolites.get_by_id(\"h_c\"): -1})\n",
    "print(PGI)\n",
    "print(PGI.check_mass_balance())"
   ]
  },
  {
   "cell_type": "markdown",
   "metadata": {},
   "source": [
    "## Metabolites\n",
    "\n",
    "In **MASSpy**, a metabolite is represented by a ``MassMetabolite`` object. A particular metabolite can be retrieved by its `id` using the `cobra.DictList.get_by_id()` method. Below, the cytosolic glucose 6-phosphate metabolite with identifier \"g6p_c\" is inspected."
   ]
  },
  {
   "cell_type": "code",
   "execution_count": 19,
   "metadata": {
    "execution": {
     "iopub.execute_input": "2021-01-25T18:42:37.945623Z",
     "iopub.status.busy": "2021-01-25T18:42:37.944920Z",
     "iopub.status.idle": "2021-01-25T18:42:37.947898Z",
     "shell.execute_reply": "2021-01-25T18:42:37.948608Z"
    }
   },
   "outputs": [
    {
     "data": {
      "text/html": [
       "\n",
       "        <table>\n",
       "            <tr>\n",
       "                <td><strong>MassMetabolite identifier</strong></td>\n",
       "                <td>g6p_c</td>\n",
       "            </tr><tr>\n",
       "                <td><strong>Name</strong></td>\n",
       "                <td>D-Glucose 6-phosphate</td>\n",
       "            </tr><tr>\n",
       "                <td><strong>Memory address</strong></td>\n",
       "                <td>0x07faa78bf4d30</td>\n",
       "            </tr><tr>\n",
       "                <td><strong>Formula</strong></td>\n",
       "                <td>C6H11O9P</td>\n",
       "            </tr><tr>\n",
       "                <td><strong>Compartment</strong></td>\n",
       "                <td>c</td>\n",
       "            </tr><tr>\n",
       "                <td><strong>Initial Condition</strong></td>\n",
       "                <td>0.16501847288094948</td>\n",
       "            </tr><tr>\n",
       "                <td><strong>In 3 reaction(s)</strong></td>\n",
       "                <td>HEX1, G6PDH2r, PGI</td>\n",
       "            </tr>\n",
       "        </table>"
      ],
      "text/plain": [
       "<MassMetabolite g6p_c at 0x7faa78bf4d30>"
      ]
     },
     "execution_count": 19,
     "metadata": {},
     "output_type": "execute_result"
    }
   ],
   "source": [
    "g6p_c = model.metabolites.get_by_id(\"g6p_c\")\n",
    "g6p_c"
   ]
  },
  {
   "cell_type": "markdown",
   "metadata": {},
   "source": [
    "The full name and the compartment where the metabolite is located (\"c\" for cytosol) are viewed as strings:"
   ]
  },
  {
   "cell_type": "code",
   "execution_count": 20,
   "metadata": {
    "execution": {
     "iopub.execute_input": "2021-01-25T18:42:37.953486Z",
     "iopub.status.busy": "2021-01-25T18:42:37.952537Z",
     "iopub.status.idle": "2021-01-25T18:42:37.955275Z",
     "shell.execute_reply": "2021-01-25T18:42:37.955715Z"
    }
   },
   "outputs": [
    {
     "name": "stdout",
     "output_type": "stream",
     "text": [
      "D-Glucose 6-phosphate\n",
      "c\n"
     ]
    }
   ],
   "source": [
    "print(g6p_c.name)\n",
    "print(g6p_c.compartment)"
   ]
  },
  {
   "cell_type": "markdown",
   "metadata": {},
   "source": [
    "The chemical formula and associated charge of the metabolite also can be viewed:"
   ]
  },
  {
   "cell_type": "code",
   "execution_count": 21,
   "metadata": {
    "execution": {
     "iopub.execute_input": "2021-01-25T18:42:37.960006Z",
     "iopub.status.busy": "2021-01-25T18:42:37.959246Z",
     "iopub.status.idle": "2021-01-25T18:42:37.961821Z",
     "shell.execute_reply": "2021-01-25T18:42:37.962267Z"
    }
   },
   "outputs": [
    {
     "name": "stdout",
     "output_type": "stream",
     "text": [
      "C6H11O9P\n",
      "-2\n"
     ]
    }
   ],
   "source": [
    "print(g6p_c.formula)\n",
    "print(g6p_c.charge)"
   ]
  },
  {
   "cell_type": "markdown",
   "metadata": {},
   "source": [
    "Reactions in which the metabolite participates are obtained as a `frozenset` from the `reactions` attribute. This can be used to count the number of reactions that utilize the metabolite."
   ]
  },
  {
   "cell_type": "code",
   "execution_count": 22,
   "metadata": {
    "execution": {
     "iopub.execute_input": "2021-01-25T18:42:37.967332Z",
     "iopub.status.busy": "2021-01-25T18:42:37.966263Z",
     "iopub.status.idle": "2021-01-25T18:42:37.969559Z",
     "shell.execute_reply": "2021-01-25T18:42:37.970063Z"
    }
   },
   "outputs": [
    {
     "name": "stdout",
     "output_type": "stream",
     "text": [
      "Number of reactions involving g6p_c: 3\n"
     ]
    }
   ],
   "source": [
    "print(\"Number of reactions involving {0}: {1}\".format(\n",
    "    g6p_c.id, len(g6p_c.reactions)))"
   ]
  },
  {
   "cell_type": "markdown",
   "metadata": {},
   "source": [
    "The ordinary differential equation (ODE), which represents the change in metabolite concentration over time, is determined by reactions that consume or produce the metabolite. The `oridinary_differential_equation` attribute is used to view the current ODE for the metabolite. The ODE is returned as a symbolic expression."
   ]
  },
  {
   "cell_type": "code",
   "execution_count": 23,
   "metadata": {
    "execution": {
     "iopub.execute_input": "2021-01-25T18:42:37.997387Z",
     "iopub.status.busy": "2021-01-25T18:42:37.996370Z",
     "iopub.status.idle": "2021-01-25T18:42:37.999567Z",
     "shell.execute_reply": "2021-01-25T18:42:38.000028Z"
    }
   },
   "outputs": [
    {
     "name": "stdout",
     "output_type": "stream",
     "text": [
      "-kf_G6PDH2r*(g6p_c(t)*nadp_c(t) - _6pgl_c(t)*nadph_c(t)/Keq_G6PDH2r) + kf_HEX1*(atp_c(t)*glc__D_c(t) - adp_c(t)*g6p_c(t)/Keq_HEX1) - kf_PGI*g6p_c(t)\n"
     ]
    }
   ],
   "source": [
    "print(g6p_c.ordinary_differential_equation)"
   ]
  },
  {
   "cell_type": "markdown",
   "metadata": {},
   "source": [
    "Numerical solutions are obtained by integrating ODEs. To integrate an ODE, a metabolite concentration at time $t = 0$ must be defined as an initial condition. Initial conditions are accessed and changed using the `initial_condition` attribute. "
   ]
  },
  {
   "cell_type": "code",
   "execution_count": 24,
   "metadata": {
    "execution": {
     "iopub.execute_input": "2021-01-25T18:42:38.006233Z",
     "iopub.status.busy": "2021-01-25T18:42:38.005081Z",
     "iopub.status.idle": "2021-01-25T18:42:38.008454Z",
     "shell.execute_reply": "2021-01-25T18:42:38.008939Z"
    }
   },
   "outputs": [
    {
     "name": "stdout",
     "output_type": "stream",
     "text": [
      "0.8\n"
     ]
    }
   ],
   "source": [
    "g6p_c.initial_condition = 0.8\n",
    "print(g6p_c.initial_condition)"
   ]
  },
  {
   "cell_type": "markdown",
   "metadata": {},
   "source": [
    "Certain attributes have alias attribute accessors. For example, the `initial_condition` and `ordinary_differential_equation` attributes can be accessed via `ic` and `ode`, respectively."
   ]
  },
  {
   "cell_type": "code",
   "execution_count": 25,
   "metadata": {
    "execution": {
     "iopub.execute_input": "2021-01-25T18:42:38.013305Z",
     "iopub.status.busy": "2021-01-25T18:42:38.012586Z",
     "iopub.status.idle": "2021-01-25T18:42:38.015800Z",
     "shell.execute_reply": "2021-01-25T18:42:38.016353Z"
    }
   },
   "outputs": [
    {
     "name": "stdout",
     "output_type": "stream",
     "text": [
      "0.8\n"
     ]
    }
   ],
   "source": [
    "print(g6p_c.ic)"
   ]
  },
  {
   "cell_type": "markdown",
   "metadata": {},
   "source": [
    "The `fixed` attribute indicates whether the concentration of the metabolite is allowed to vary over time, with `True` meaning that the metabolite's initial condition is treated as a constant concentration value. Fixed metabolites have an ODE equal to 0."
   ]
  },
  {
   "cell_type": "code",
   "execution_count": 26,
   "metadata": {
    "execution": {
     "iopub.execute_input": "2021-01-25T18:42:38.021738Z",
     "iopub.status.busy": "2021-01-25T18:42:38.020977Z",
     "iopub.status.idle": "2021-01-25T18:42:38.023862Z",
     "shell.execute_reply": "2021-01-25T18:42:38.024358Z"
    }
   },
   "outputs": [
    {
     "name": "stdout",
     "output_type": "stream",
     "text": [
      "0\n"
     ]
    }
   ],
   "source": [
    "g6p_c.fixed = True\n",
    "print(g6p_c.ode)"
   ]
  },
  {
   "cell_type": "markdown",
   "metadata": {},
   "source": [
    "## Additional Model Objects\n",
    "\n",
    "The following are additional objects that are stored within a `MassModel`. Unlike metabolites and reactions, which are essential for defining the system of ODEs, these objects are not always necessary for dynamic simulation of models.\n",
    "\n",
    "However, these objects are still important to **MASSpy** and have a variety of uses, which include: aiding in the management of large models, sharing models among users, tracking additional information relevant to the system, and enabling various workflows for genome-scale kinetic models."
   ]
  },
  {
   "cell_type": "markdown",
   "metadata": {},
   "source": [
    "### Genes\n",
    "Because the `mass.MassReaction` inherits from the `cobra.Reaction`, **MASSpy** is also capable of handling genes and gene-protein-reaction (GPR) relationships. Note that **MASSpy** directly utilizes the `cobra.Gene` object for the representation and management of genes.\n",
    "\n",
    "The `gene_reaction_rule` is a Boolean representation of the gene requirements for this reaction to be active <cite data-cite=\"SQF+11\">(Schellenberger et. al, 2011)</cite>.\n",
    "\n",
    "GPRs are stored as the `gene_reaction_rule` of reaction objects.\n",
    "Altering a `gene_reaction_rule` will create new gene objects, if necessary, and update all relationships."
   ]
  },
  {
   "cell_type": "code",
   "execution_count": 27,
   "metadata": {
    "execution": {
     "iopub.execute_input": "2021-01-25T18:42:38.029286Z",
     "iopub.status.busy": "2021-01-25T18:42:38.028339Z",
     "iopub.status.idle": "2021-01-25T18:42:38.031556Z",
     "shell.execute_reply": "2021-01-25T18:42:38.032036Z"
    }
   },
   "outputs": [
    {
     "data": {
      "text/plain": [
       "'New_Gene'"
      ]
     },
     "execution_count": 27,
     "metadata": {},
     "output_type": "execute_result"
    }
   ],
   "source": [
    "PGI.gene_reaction_rule = \"New_Gene\"\n",
    "PGI.gene_reaction_rule"
   ]
  },
  {
   "cell_type": "markdown",
   "metadata": {},
   "source": [
    "`Gene` objects are returned from a reaction as a `frozenset`:"
   ]
  },
  {
   "cell_type": "code",
   "execution_count": 28,
   "metadata": {
    "execution": {
     "iopub.execute_input": "2021-01-25T18:42:38.038412Z",
     "iopub.status.busy": "2021-01-25T18:42:38.036758Z",
     "iopub.status.idle": "2021-01-25T18:42:38.042323Z",
     "shell.execute_reply": "2021-01-25T18:42:38.042858Z"
    }
   },
   "outputs": [
    {
     "data": {
      "text/plain": [
       "frozenset({<Gene New_Gene at 0x7faaa8fcf2e0>})"
      ]
     },
     "execution_count": 28,
     "metadata": {},
     "output_type": "execute_result"
    }
   ],
   "source": [
    "PGI.genes"
   ]
  },
  {
   "cell_type": "markdown",
   "metadata": {},
   "source": [
    "Newly created genes are added to the model upon creation. The gene objects are stored in a `cobra.DictList` as a part of the `genes` attribute. To access a gene from the model:"
   ]
  },
  {
   "cell_type": "code",
   "execution_count": 29,
   "metadata": {
    "execution": {
     "iopub.execute_input": "2021-01-25T18:42:38.048158Z",
     "iopub.status.busy": "2021-01-25T18:42:38.047262Z",
     "iopub.status.idle": "2021-01-25T18:42:38.050369Z",
     "shell.execute_reply": "2021-01-25T18:42:38.051091Z"
    }
   },
   "outputs": [
    {
     "data": {
      "text/html": [
       "\n",
       "        <table>\n",
       "            <tr>\n",
       "                <td><strong>Gene identifier</strong></td><td>New_Gene</td>\n",
       "            </tr><tr>\n",
       "                <td><strong>Name</strong></td><td></td>\n",
       "            </tr><tr>\n",
       "                <td><strong>Memory address</strong></td>\n",
       "                <td>0x07faaa8fcf2e0</td>\n",
       "            </tr><tr>\n",
       "                <td><strong>Functional</strong></td><td>True</td>\n",
       "            </tr><tr>\n",
       "                <td><strong>In 1 reaction(s)</strong></td><td>\n",
       "                    PGI</td>\n",
       "            </tr>\n",
       "        </table>"
      ],
      "text/plain": [
       "<Gene New_Gene at 0x7faaa8fcf2e0>"
      ]
     },
     "execution_count": 29,
     "metadata": {},
     "output_type": "execute_result"
    }
   ],
   "source": [
    "new_gene = model.genes.get_by_id(\"New_Gene\")\n",
    "new_gene"
   ]
  },
  {
   "cell_type": "markdown",
   "metadata": {},
   "source": [
    "Gene objects are tracked by both its associated reaction objects and the the model. Changing a reaction's `gene_reaction_rule` may remove the gene's association from the reaction, but it does not remove the gene from the model."
   ]
  },
  {
   "cell_type": "code",
   "execution_count": 30,
   "metadata": {
    "execution": {
     "iopub.execute_input": "2021-01-25T18:42:38.056670Z",
     "iopub.status.busy": "2021-01-25T18:42:38.055768Z",
     "iopub.status.idle": "2021-01-25T18:42:38.059970Z",
     "shell.execute_reply": "2021-01-25T18:42:38.060438Z"
    }
   },
   "outputs": [
    {
     "name": "stdout",
     "output_type": "stream",
     "text": [
      "Reaction Genes: frozenset()\n"
     ]
    },
    {
     "data": {
      "text/html": [
       "\n",
       "        <table>\n",
       "            <tr>\n",
       "                <td><strong>Gene identifier</strong></td><td>New_Gene</td>\n",
       "            </tr><tr>\n",
       "                <td><strong>Name</strong></td><td></td>\n",
       "            </tr><tr>\n",
       "                <td><strong>Memory address</strong></td>\n",
       "                <td>0x07faaa8fcf2e0</td>\n",
       "            </tr><tr>\n",
       "                <td><strong>Functional</strong></td><td>True</td>\n",
       "            </tr><tr>\n",
       "                <td><strong>In 0 reaction(s)</strong></td><td>\n",
       "                    </td>\n",
       "            </tr>\n",
       "        </table>"
      ],
      "text/plain": [
       "<Gene New_Gene at 0x7faaa8fcf2e0>"
      ]
     },
     "execution_count": 30,
     "metadata": {},
     "output_type": "execute_result"
    }
   ],
   "source": [
    "PGI.gene_reaction_rule = \"\"\n",
    "print(\"Reaction Genes: {0!r}\".format(PGI.genes))\n",
    "new_gene"
   ]
  },
  {
   "cell_type": "markdown",
   "metadata": {},
   "source": [
    "### EnzymeModules\n",
    "A `mass.EnzymeModule` is a specialized `MassModel` that represents a reconstruction of an enzyme's mechanism. Upon merging an `EnzymeModule` into a `MassModel`, the `EnzymeModule` is converted into a `mass.EnzymeModuleDict`, a specialized dictionary object. The `EnzymeModuleDict` is subsequently stored in a `cobra.DictList` and is accessible through the `enzyme_modules` attribute."
   ]
  },
  {
   "cell_type": "code",
   "execution_count": 31,
   "metadata": {
    "execution": {
     "iopub.execute_input": "2021-01-25T18:42:38.065496Z",
     "iopub.status.busy": "2021-01-25T18:42:38.064741Z",
     "iopub.status.idle": "2021-01-25T18:42:38.067481Z",
     "shell.execute_reply": "2021-01-25T18:42:38.068029Z"
    }
   },
   "outputs": [
    {
     "data": {
      "text/html": [
       "\n",
       "            <table>\n",
       "                <tr>\n",
       "                    <td><strong>Name</strong></td><td>PFK</td>\n",
       "                </tr><tr>\n",
       "                    <td><strong>Memory address</strong></td><td>0x07faab8f14040</td>\n",
       "                </tr><tr>\n",
       "                    <td><strong>Stoichiometric Matrix</strong></td>\n",
       "                    <td>26x24</td>\n",
       "                </tr><tr>\n",
       "                    <td><strong>Matrix Rank</strong></td>\n",
       "                    <td>20</td>\n",
       "                </tr><tr>\n",
       "                    <td><strong>Subsystem</strong></td>\n",
       "                    <td>Glycolysis</td>\n",
       "                </tr><tr>\n",
       "                    <td><strong>Number of Ligands</strong></td>\n",
       "                    <td>6</td>\n",
       "                </tr><tr>\n",
       "                    <td><strong>Number of EnzymeForms</strong></td>\n",
       "                    <td>20</td>\n",
       "                </tr><tr>\n",
       "                    <td><strong>Number of EnzymeModuleReactions</strong></td>\n",
       "                    <td>24</td>\n",
       "                </tr><tr>\n",
       "                    <td><strong>Enzyme Concentration Total</strong></td>\n",
       "                    <td>3.3e-05</td>\n",
       "                </tr><tr>\n",
       "                    <td><strong>Enzyme Net Flux</strong></td>\n",
       "                    <td>1.12</td>\n",
       "                </tr>\n",
       "            </table>\n",
       "        "
      ],
      "text/plain": [
       "<EnzymeModuleDict PFK at 0x7faab8f14040>"
      ]
     },
     "execution_count": 31,
     "metadata": {},
     "output_type": "execute_result"
    }
   ],
   "source": [
    "PFK = model.enzyme_modules.get_by_id(\"PFK\")\n",
    "PFK"
   ]
  },
  {
   "cell_type": "markdown",
   "metadata": {},
   "source": [
    "The process of creating an `EnzymeModuleDict` preserves information stored in various attributes specific to the enzyme module and allows them to be accessed quickly after the merging process. Because the `EnzymeModuleDict` inherits from an `OrderedDict`, it has the same methods and behaviors."
   ]
  },
  {
   "cell_type": "code",
   "execution_count": 32,
   "metadata": {
    "execution": {
     "iopub.execute_input": "2021-01-25T18:42:38.073286Z",
     "iopub.status.busy": "2021-01-25T18:42:38.072415Z",
     "iopub.status.idle": "2021-01-25T18:42:38.076594Z",
     "shell.execute_reply": "2021-01-25T18:42:38.076078Z"
    }
   },
   "outputs": [
    {
     "name": "stdout",
     "output_type": "stream",
     "text": [
      "enzyme_module_ligands: 6\n",
      "enzyme_module_forms: 20\n",
      "enzyme_module_reactions: 24\n",
      "enzyme_module_ligands_categorized: 5\n",
      "enzyme_module_forms_categorized: 5\n",
      "enzyme_module_reactions_categorized: 6\n"
     ]
    }
   ],
   "source": [
    "for key, value in PFK.items():\n",
    "    if isinstance(value, list):\n",
    "        print(\"{0}: {1}\".format(key, len(value)))"
   ]
  },
  {
   "cell_type": "markdown",
   "metadata": {},
   "source": [
    "`EnzymeModuleDict` objects also can have their contents accessed by using its `dict` keys as attribute accessors:"
   ]
  },
  {
   "cell_type": "code",
   "execution_count": 33,
   "metadata": {
    "execution": {
     "iopub.execute_input": "2021-01-25T18:42:38.082676Z",
     "iopub.status.busy": "2021-01-25T18:42:38.081680Z",
     "iopub.status.idle": "2021-01-25T18:42:38.085704Z",
     "shell.execute_reply": "2021-01-25T18:42:38.086300Z"
    }
   },
   "outputs": [
    {
     "name": "stdout",
     "output_type": "stream",
     "text": [
      "PFK\n",
      "Glycolysis\n",
      "3.3e-05\n"
     ]
    }
   ],
   "source": [
    "print(PFK.id)\n",
    "print(PFK.subsystem)\n",
    "print(PFK.enzyme_concentration_total)"
   ]
  },
  {
   "cell_type": "markdown",
   "metadata": {},
   "source": [
    "See the section on [EnzymeModules](./enzyme_modules.ipynb) for more information on working with `EnzymeModule` and related objects."
   ]
  },
  {
   "cell_type": "markdown",
   "metadata": {},
   "source": [
    "### Groups\n",
    "Groups are objects for holding information regarding pathways, subsystems, or any custom grouping of objects within a `MassModel`. **MASSpy** directly utilizes the `cobra.Group` object, which are implemented based on the [SBML Group](http://sbml.org/Software/libSBML/5.18.0/docs/python-api/classlibsbml_1_1_group.html) specifications.\n",
    "\n",
    "`Group` objects are stored in a `cobra.DictList` as the `groups` attribute of the `MassModel`."
   ]
  },
  {
   "cell_type": "code",
   "execution_count": 34,
   "metadata": {
    "execution": {
     "iopub.execute_input": "2021-01-25T18:42:38.091564Z",
     "iopub.status.busy": "2021-01-25T18:42:38.090719Z",
     "iopub.status.idle": "2021-01-25T18:42:38.093507Z",
     "shell.execute_reply": "2021-01-25T18:42:38.093957Z"
    }
   },
   "outputs": [
    {
     "name": "stdout",
     "output_type": "stream",
     "text": [
      "Number of groups: 16\n"
     ]
    }
   ],
   "source": [
    "print(\"Number of groups: {0}\".format(len(model.groups)))"
   ]
  },
  {
   "cell_type": "markdown",
   "metadata": {},
   "source": [
    "There are several different ways to work with group objects. One way that **MASSpy** utilizes group objects is to aid with categorizing and grouping various objects associated with `EnzymeModule` objects.\n",
    "\n",
    "For example, the group `Products` contains all of metabolites that are the products of the reaction catalyzed by the `PFK` enzyme. A `set` containing the associated metabolite objects is returned by the `members` attribute."
   ]
  },
  {
   "cell_type": "code",
   "execution_count": 35,
   "metadata": {
    "execution": {
     "iopub.execute_input": "2021-01-25T18:42:38.102343Z",
     "iopub.status.busy": "2021-01-25T18:42:38.099200Z",
     "iopub.status.idle": "2021-01-25T18:42:38.105609Z",
     "shell.execute_reply": "2021-01-25T18:42:38.106191Z"
    }
   },
   "outputs": [
    {
     "data": {
      "text/plain": [
       "[<MassMetabolite h_c at 0x7faa58a4d5b0>,\n",
       " <MassMetabolite fdp_c at 0x7faa78bf4df0>,\n",
       " <MassMetabolite adp_c at 0x7faa58a4d460>]"
      ]
     },
     "execution_count": 35,
     "metadata": {},
     "output_type": "execute_result"
    }
   ],
   "source": [
    "products = model.groups.get_by_id(\"Products\")\n",
    "products.members"
   ]
  },
  {
   "cell_type": "markdown",
   "metadata": {},
   "source": [
    "Groups are also used to categorize reactions. For example, the group `atp_c_binding` contains all of the reactions that represent the binding of ATP to the free active sites of the PFK enzyme."
   ]
  },
  {
   "cell_type": "code",
   "execution_count": 36,
   "metadata": {
    "execution": {
     "iopub.execute_input": "2021-01-25T18:42:38.112408Z",
     "iopub.status.busy": "2021-01-25T18:42:38.111152Z",
     "iopub.status.idle": "2021-01-25T18:42:38.116681Z",
     "shell.execute_reply": "2021-01-25T18:42:38.116016Z"
    }
   },
   "outputs": [
    {
     "name": "stdout",
     "output_type": "stream",
     "text": [
      "PFK_R41: atp_c + pfk_R4_c <=> pfk_R4_A_c\n",
      "PFK_R01: atp_c + pfk_R0_c <=> pfk_R0_A_c\n",
      "PFK_R11: atp_c + pfk_R1_c <=> pfk_R1_A_c\n",
      "PFK_R31: atp_c + pfk_R3_c <=> pfk_R3_A_c\n",
      "PFK_R21: atp_c + pfk_R2_c <=> pfk_R2_A_c\n"
     ]
    }
   ],
   "source": [
    "complexed_w_atp = model.groups.get_by_id(\"atp_c_binding\")\n",
    "for member in complexed_w_atp.members:\n",
    "    print(member)"
   ]
  },
  {
   "cell_type": "markdown",
   "metadata": {},
   "source": [
    "Because groups are sets, members of groups are returned in no particular order. To maintain a consistent order, the `sorted()` function is used with the `attrgetter()` function from the `operator` module to sort members by a particular object attribute."
   ]
  },
  {
   "cell_type": "code",
   "execution_count": 37,
   "metadata": {
    "execution": {
     "iopub.execute_input": "2021-01-25T18:42:38.124053Z",
     "iopub.status.busy": "2021-01-25T18:42:38.122989Z",
     "iopub.status.idle": "2021-01-25T18:42:38.126070Z",
     "shell.execute_reply": "2021-01-25T18:42:38.126598Z"
    }
   },
   "outputs": [
    {
     "name": "stdout",
     "output_type": "stream",
     "text": [
      "PFK_R01: atp_c + pfk_R0_c <=> pfk_R0_A_c\n",
      "PFK_R11: atp_c + pfk_R1_c <=> pfk_R1_A_c\n",
      "PFK_R21: atp_c + pfk_R2_c <=> pfk_R2_A_c\n",
      "PFK_R31: atp_c + pfk_R3_c <=> pfk_R3_A_c\n",
      "PFK_R41: atp_c + pfk_R4_c <=> pfk_R4_A_c\n"
     ]
    }
   ],
   "source": [
    "for member in sorted(complexed_w_atp.members, key=attrgetter(\"id\")):\n",
    "    print(member)"
   ]
  },
  {
   "cell_type": "markdown",
   "metadata": {},
   "source": [
    "### Units\n",
    "\n",
    "`Unit` and `UnitDefinition` objects are implemented, as per the [SBML Unit](http://sbml.org/Software/libSBML/5.18.0/docs/python-api/classlibsbml_1_1_unit.html) and [SBML UnitDefinition](http://sbml.org/Software/libSBML/5.18.0/docs/python-api/classlibsbml_1_1_unit_definition.html) specifications. The primary purpose of these objects is to inform users of the model's units, providing context to model values and observed results.\n",
    "\n",
    "It is important to note that unit consistency is **NOT** checked by the `MassModel`, meaning that it is incumbent upon users to maintain consistency of units and associated numerical values in a model. \n",
    "\n",
    "`UnitDefinition` objects are stored in a `cobra.DictList`, accessible through the `units` attribute."
   ]
  },
  {
   "cell_type": "code",
   "execution_count": 38,
   "metadata": {
    "execution": {
     "iopub.execute_input": "2021-01-25T18:42:38.132144Z",
     "iopub.status.busy": "2021-01-25T18:42:38.130794Z",
     "iopub.status.idle": "2021-01-25T18:42:38.135098Z",
     "shell.execute_reply": "2021-01-25T18:42:38.135792Z"
    }
   },
   "outputs": [
    {
     "data": {
      "text/plain": [
       "[<UnitDefinition Millimolar \"mM\" at 0x7faa61e72550>,\n",
       " <UnitDefinition hour \"hr\" at 0x7faa78bf4cd0>]"
      ]
     },
     "execution_count": 38,
     "metadata": {},
     "output_type": "execute_result"
    }
   ],
   "source": [
    "model.units"
   ]
  },
  {
   "cell_type": "markdown",
   "metadata": {},
   "source": [
    "`UnitDefinition` objects have identifiers and optional names. Therefore, a specific unit can be accessed using the `get_by_id()` method."
   ]
  },
  {
   "cell_type": "code",
   "execution_count": 39,
   "metadata": {
    "execution": {
     "iopub.execute_input": "2021-01-25T18:42:38.141993Z",
     "iopub.status.busy": "2021-01-25T18:42:38.141082Z",
     "iopub.status.idle": "2021-01-25T18:42:38.144020Z",
     "shell.execute_reply": "2021-01-25T18:42:38.144538Z"
    },
    "scrolled": true
   },
   "outputs": [
    {
     "name": "stdout",
     "output_type": "stream",
     "text": [
      "mM\n",
      "Millimolar\n"
     ]
    }
   ],
   "source": [
    "concentration_unit = model.units.get_by_id(\"mM\")\n",
    "print(concentration_unit.id)\n",
    "print(concentration_unit.name)"
   ]
  },
  {
   "cell_type": "markdown",
   "metadata": {},
   "source": [
    "A `UnitDefinition` is comprised of base units, which are stored in the `list_of_units` attribute. Each unit must have a defined `kind`, `exponent`, `scale`, and `multiplier`."
   ]
  },
  {
   "cell_type": "code",
   "execution_count": 40,
   "metadata": {
    "execution": {
     "iopub.execute_input": "2021-01-25T18:42:38.149093Z",
     "iopub.status.busy": "2021-01-25T18:42:38.148362Z",
     "iopub.status.idle": "2021-01-25T18:42:38.151189Z",
     "shell.execute_reply": "2021-01-25T18:42:38.151755Z"
    }
   },
   "outputs": [
    {
     "name": "stdout",
     "output_type": "stream",
     "text": [
      "kind: litre; exponent: -1; scale: 0; multiplier: 1\n",
      "kind: mole; exponent: 1; scale: -3; multiplier: 1\n"
     ]
    }
   ],
   "source": [
    "for unit in concentration_unit.list_of_units:\n",
    "    print(unit)"
   ]
  },
  {
   "cell_type": "markdown",
   "metadata": {},
   "source": [
    "**MASSpy** contains some commonly defined `Unit` objects to aid in the creation of `UnitDefinition` objects, which are viewed using the `print_defined_unit_values()` function."
   ]
  },
  {
   "cell_type": "code",
   "execution_count": 41,
   "metadata": {
    "execution": {
     "iopub.execute_input": "2021-01-25T18:42:38.158016Z",
     "iopub.status.busy": "2021-01-25T18:42:38.157305Z",
     "iopub.status.idle": "2021-01-25T18:42:38.160158Z",
     "shell.execute_reply": "2021-01-25T18:42:38.160633Z"
    }
   },
   "outputs": [
    {
     "name": "stdout",
     "output_type": "stream",
     "text": [
      "╒════════════════════════════════════════════════════════════════════╕\n",
      "│ Pre-defined Units                                                  │\n",
      "╞════════════════════════════════════════════════════════════════════╡\n",
      "│ Unit        Definition                                             │\n",
      "│ ----------  ------------------------------------------------------ │\n",
      "│ mole        kind: mole; exponent: 1; scale: 0; multiplier: 1       │\n",
      "│ millimole   kind: mole; exponent: 1; scale: -3; multiplier: 1      │\n",
      "│ litre       kind: litre; exponent: 1; scale: 0; multiplier: 1      │\n",
      "│ per_litre   kind: litre; exponent: -1; scale: 0; multiplier: 1     │\n",
      "│ second      kind: second; exponent: 1; scale: 0; multiplier: 1     │\n",
      "│ per_second  kind: second; exponent: -1; scale: 0; multiplier: 1    │\n",
      "│ hour        kind: second; exponent: 1; scale: 0; multiplier: 3600  │\n",
      "│ per_hour    kind: second; exponent: -1; scale: 0; multiplier: 3600 │\n",
      "│ per_gDW     kind: gram; exponent: -1; scale: 0; multiplier: 1      │\n",
      "╘════════════════════════════════════════════════════════════════════╛\n"
     ]
    }
   ],
   "source": [
    "mass.core.units.print_defined_unit_values(\"Units\")"
   ]
  },
  {
   "cell_type": "markdown",
   "metadata": {},
   "source": [
    "$^1$ The \"textbook\" model is created from Chapters 10-14 of <cite data-cite=\"Pal11\">Systems Biology: Simulation of Dynamic Network States</cite>"
   ]
  }
 ],
 "metadata": {
  "kernelspec": {
   "display_name": "Python 3 (ipykernel)",
   "language": "python",
   "name": "python3"
  },
  "language_info": {
   "codemirror_mode": {
    "name": "ipython",
    "version": 3
   },
   "file_extension": ".py",
   "mimetype": "text/x-python",
   "name": "python",
   "nbconvert_exporter": "python",
   "pygments_lexer": "ipython3",
   "version": "3.8.12"
  }
 },
 "nbformat": 4,
 "nbformat_minor": 2
}
