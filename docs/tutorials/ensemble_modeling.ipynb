{
 "cells": [
  {
   "cell_type": "markdown",
   "metadata": {},
   "source": [
    "# Ensemble Modeling\n",
    "This notebook demonstrates how **MASSpy** can be used to generate an ensemble of models. "
   ]
  },
  {
   "cell_type": "code",
   "execution_count": 1,
   "metadata": {
    "execution": {
     "iopub.execute_input": "2021-01-25T18:00:22.112387Z",
     "iopub.status.busy": "2021-01-25T18:00:22.111281Z",
     "iopub.status.idle": "2021-01-25T18:00:25.226563Z",
     "shell.execute_reply": "2021-01-25T18:00:25.227025Z"
    }
   },
   "outputs": [],
   "source": [
    "# Disable gurobi logging output for this notebook.\n",
    "try:\n",
    "    import gurobipy\n",
    "    gurobipy.setParam(\"OutputFlag\", 0)\n",
    "except ImportError:\n",
    "    pass\n",
    "\n",
    "import logging\n",
    "logging.getLogger(\"\").setLevel(\"CRITICAL\")\n",
    "\n",
    "# Configure roadrunner to allow for more output rows\n",
    "import roadrunner\n",
    "roadrunner.Config.setValue(\n",
    "    roadrunner.Config.MAX_OUTPUT_ROWS, 1e6)\n",
    "\n",
    "from mass import MassConfiguration, Simulation\n",
    "from mass.example_data import create_example_model\n",
    "\n",
    "mass_config = MassConfiguration()\n",
    "mass_config.decimal_precision = 12 # Round 12 places after decimal\n",
    "\n",
    "# Load the model\n",
    "reference_model = create_example_model(\"Glycolysis\")"
   ]
  },
  {
   "cell_type": "markdown",
   "metadata": {},
   "source": [
    "## Generating Data for Ensembles\n",
    "\n",
    "In addition to loading external sources of data for use (e.g., loading excel sheets), sampling can be used to get valid data for the generation of ensembles. As an example, a small set of samples are generated for use in this notebook."
   ]
  },
  {
   "cell_type": "markdown",
   "metadata": {},
   "source": [
    "Utilizing [COBRApy flux sampling](https://cobrapy.readthedocs.io/en/latest/sampling.html#), the following flux samples are used in generating the ensemble of models. All steady state flux values are set to allow to deviation by up to 80% of their defined baseline values."
   ]
  },
  {
   "cell_type": "code",
   "execution_count": 2,
   "metadata": {
    "execution": {
     "iopub.execute_input": "2021-01-25T18:00:25.231534Z",
     "iopub.status.busy": "2021-01-25T18:00:25.230781Z",
     "iopub.status.idle": "2021-01-25T18:00:25.232730Z",
     "shell.execute_reply": "2021-01-25T18:00:25.233255Z"
    }
   },
   "outputs": [],
   "source": [
    "from cobra.sampling import sample"
   ]
  },
  {
   "cell_type": "code",
   "execution_count": 3,
   "metadata": {
    "execution": {
     "iopub.execute_input": "2021-01-25T18:00:25.241608Z",
     "iopub.status.busy": "2021-01-25T18:00:25.240871Z",
     "iopub.status.idle": "2021-01-25T18:00:25.427527Z",
     "shell.execute_reply": "2021-01-25T18:00:25.427982Z"
    }
   },
   "outputs": [],
   "source": [
    "flux_percent_deviation = 0.8\n",
    "for reaction in reference_model.reactions:\n",
    "    flux = reaction.steady_state_flux\n",
    "    reaction.bounds = sorted([\n",
    "        round(flux * (1 - flux_percent_deviation),\n",
    "              mass_config.decimal_precision),\n",
    "        round(flux * (1 + flux_percent_deviation),\n",
    "              mass_config.decimal_precision)])\n",
    "    \n",
    "flux_samples = sample(reference_model, n=10, seed=25)"
   ]
  },
  {
   "cell_type": "markdown",
   "metadata": {},
   "source": [
    "Utilizing [MASSpy concentration sampling](./thermo_concentrations.ipynb#Concentration-Sampling), the following concentration samples are used in generating the ensemble of models. All concentration values are set to allow deviation by up to 80% of their defined baseline values."
   ]
  },
  {
   "cell_type": "code",
   "execution_count": 4,
   "metadata": {
    "execution": {
     "iopub.execute_input": "2021-01-25T18:00:25.433718Z",
     "iopub.status.busy": "2021-01-25T18:00:25.431641Z",
     "iopub.status.idle": "2021-01-25T18:00:25.459507Z",
     "shell.execute_reply": "2021-01-25T18:00:25.459972Z"
    }
   },
   "outputs": [],
   "source": [
    "from mass.thermo import ConcSolver, sample_concentrations"
   ]
  },
  {
   "cell_type": "code",
   "execution_count": 5,
   "metadata": {
    "execution": {
     "iopub.execute_input": "2021-01-25T18:00:25.547501Z",
     "iopub.status.busy": "2021-01-25T18:00:25.506472Z",
     "iopub.status.idle": "2021-01-25T18:00:25.943058Z",
     "shell.execute_reply": "2021-01-25T18:00:25.944407Z"
    }
   },
   "outputs": [],
   "source": [
    "conc_solver = ConcSolver(\n",
    "    reference_model,\n",
    "    excluded_metabolites=[\"h_c\", \"h2o_c\"],\n",
    "    equilibrium_reactions=[\"ADK1\"],\n",
    "    constraint_buffer=1e-7)\n",
    "\n",
    "conc_solver.setup_sampling_problem(\n",
    "    conc_percent_deviation=0.8,\n",
    "    Keq_percent_deviation=0)\n",
    "\n",
    "conc_samples = sample_concentrations(conc_solver, n=10, seed=25)"
   ]
  },
  {
   "cell_type": "markdown",
   "metadata": {},
   "source": [
    "Because there are 10 flux data sets and 10 concentration data sets being passed to the function, there are $10 * 10 = 100$ models generated in total."
   ]
  },
  {
   "cell_type": "markdown",
   "metadata": {},
   "source": [
    "## Creating an Ensemble"
   ]
  },
  {
   "cell_type": "code",
   "execution_count": 6,
   "metadata": {
    "execution": {
     "iopub.execute_input": "2021-01-25T18:00:25.950534Z",
     "iopub.status.busy": "2021-01-25T18:00:25.949657Z",
     "iopub.status.idle": "2021-01-25T18:00:25.957249Z",
     "shell.execute_reply": "2021-01-25T18:00:25.955842Z"
    }
   },
   "outputs": [],
   "source": [
    "from mass.simulation import ensemble, generate_ensemble_of_models"
   ]
  },
  {
   "cell_type": "markdown",
   "metadata": {},
   "source": [
    "### Generating new models\n",
    "\n",
    "The `ensemble` submodule has two functions for creating models from `pandas.DataFrame` objects:\n",
    "\n",
    "* The `create_models_from_flux_data()` function creates an ensemble of models from a `DataFrame` containing flux data, where rows correspond to samples and columns correspond to reaction identifiers.\n",
    "* The `create_models_from_concentration_data()` function creates an ensemble of models from a `DataFrame` containing concentration data, where rows correspond to samples and columns correspond to metabolite identifiers.\n",
    "\n",
    "The functions can be used separately or together to generate models. In this example, an ensemble of 100 models is generated by utilizing both mode; generation methods. \n",
    "\n",
    "First, the 10 flux samples are used to generate 10 models with varying flux states from a single reference `MassModel`."
   ]
  },
  {
   "cell_type": "code",
   "execution_count": 7,
   "metadata": {
    "execution": {
     "iopub.execute_input": "2021-01-25T18:00:25.970362Z",
     "iopub.status.busy": "2021-01-25T18:00:25.967506Z",
     "iopub.status.idle": "2021-01-25T18:00:27.363078Z",
     "shell.execute_reply": "2021-01-25T18:00:27.364122Z"
    }
   },
   "outputs": [
    {
     "data": {
      "text/plain": [
       "10"
      ]
     },
     "execution_count": 1,
     "metadata": {},
     "output_type": "execute_result"
    }
   ],
   "source": [
    "flux_models = ensemble.create_models_from_flux_data(\n",
    "    reference_model, data=flux_samples)\n",
    "len(flux_models)"
   ]
  },
  {
   "cell_type": "markdown",
   "metadata": {},
   "source": [
    "The `list` of models are passed to the `create_models_from_concentration_data()` function along with the concentration samples to create models with varying concentration states. By treating each of the 10 models with varying flux states as a reference model in addition to providing 10 concentration samples, 100 total models are generated."
   ]
  },
  {
   "cell_type": "code",
   "execution_count": 8,
   "metadata": {
    "execution": {
     "iopub.execute_input": "2021-01-25T18:00:27.373896Z",
     "iopub.status.busy": "2021-01-25T18:00:27.373086Z",
     "iopub.status.idle": "2021-01-25T18:00:40.265482Z",
     "shell.execute_reply": "2021-01-25T18:00:40.266146Z"
    }
   },
   "outputs": [
    {
     "data": {
      "text/plain": [
       "100"
      ]
     },
     "execution_count": 1,
     "metadata": {},
     "output_type": "execute_result"
    }
   ],
   "source": [
    "conc_models = []\n",
    "for ref_model in flux_models:\n",
    "    conc_models += ensemble.create_models_from_concentration_data(\n",
    "        ref_model, data=conc_samples)\n",
    "len(conc_models)"
   ]
  },
  {
   "cell_type": "markdown",
   "metadata": {},
   "source": [
    "Generating models does not always ensure that the models are thermodynamically feasible. The `ensure_positive_percs()` function is used to calculate PERCs (pseudo-elementary rate constants) for all reactions provided to the `reactions` argument. Those that produce all positive PERCs are separated from those that produce at least one negative PERC, and two lists that contain the seperated models are returned.\n",
    "\n",
    "If the `update_values` argument is set to `True`, PERC values are updated for models that produce all positive PERCs."
   ]
  },
  {
   "cell_type": "code",
   "execution_count": 9,
   "metadata": {
    "execution": {
     "iopub.execute_input": "2021-01-25T18:00:40.287675Z",
     "iopub.status.busy": "2021-01-25T18:00:40.269517Z",
     "iopub.status.idle": "2021-01-25T18:01:08.918892Z",
     "shell.execute_reply": "2021-01-25T18:01:08.919358Z"
    }
   },
   "outputs": [
    {
     "name": "stdout",
     "output_type": "stream",
     "text": [
      "Models with positive PERCs: 100\n",
      "Models with negative PERCs: 0\n"
     ]
    }
   ],
   "source": [
    "# Exclude boundary reactions from PERC calculations for the example\n",
    "reactions_to_check_percs = [\n",
    "    r.id for r in reference_model.reactions\n",
    "    if r not in reference_model.boundary]\n",
    "\n",
    "positive, negative = ensemble.ensure_positive_percs(\n",
    "    models=conc_models, reactions=reactions_to_check_percs, \n",
    "    update_values=True)\n",
    "\n",
    "print(\"Models with positive PERCs: {0}\".format(len(positive)))\n",
    "print(\"Models with negative PERCs: {0}\".format(len(negative)))"
   ]
  },
  {
   "cell_type": "markdown",
   "metadata": {},
   "source": [
    "The `ensure_steady_state()` function is used to ensure that models are able to reach a steady state. If `update_values=True`, models that reach a steady state are updated with the new steady state values."
   ]
  },
  {
   "cell_type": "code",
   "execution_count": 10,
   "metadata": {
    "execution": {
     "iopub.execute_input": "2021-01-25T18:01:08.970450Z",
     "iopub.status.busy": "2021-01-25T18:01:08.964052Z",
     "iopub.status.idle": "2021-01-25T18:02:59.274766Z",
     "shell.execute_reply": "2021-01-25T18:02:59.274252Z"
    }
   },
   "outputs": [
    {
     "name": "stderr",
     "output_type": "stream",
     "text": [
      "mass/simulation/simulation.py:901 \u001b[1;31mUserWarning\u001b[0m: Unable to find a steady state for one or more models. Check the log for more details.\n"
     ]
    },
    {
     "name": "stdout",
     "output_type": "stream",
     "text": [
      "Reached steady state: 90\n",
      "No steady state reached: 10\n"
     ]
    }
   ],
   "source": [
    "feasible, infeasible = ensemble.ensure_steady_state(\n",
    "    models=positive, strategy=\"simulate\",\n",
    "    update_values=True, decimal_precision=True)\n",
    "\n",
    "print(\"Reached steady state: {0}\".format(len(feasible)))\n",
    "print(\"No steady state reached: {0}\".format(len(infeasible)))"
   ]
  },
  {
   "cell_type": "markdown",
   "metadata": {},
   "source": [
    "The `perturbations` argument of the `ensure_steady_state()` method is used to check that models are able to reach a steady state with a given perturbation. "
   ]
  },
  {
   "cell_type": "code",
   "execution_count": 11,
   "metadata": {
    "execution": {
     "iopub.execute_input": "2021-01-25T18:02:59.365452Z",
     "iopub.status.busy": "2021-01-25T18:02:59.321356Z",
     "iopub.status.idle": "2021-01-25T18:14:20.267608Z",
     "shell.execute_reply": "2021-01-25T18:14:20.268093Z"
    }
   },
   "outputs": [
    {
     "name": "stderr",
     "output_type": "stream",
     "text": [
      "mass/simulation/simulation.py:901 \u001b[1;31mUserWarning\u001b[0m: Unable to find a steady state for one or more models. Check the log for more details.\n"
     ]
    },
    {
     "name": "stdout",
     "output_type": "stream",
     "text": [
      "Reached steady state: 89\n",
      "No steady state reached: 1\n"
     ]
    }
   ],
   "source": [
    "feasible, infeasible = ensemble.ensure_steady_state(\n",
    "    models=feasible, strategy=\"simulate\",\n",
    "    perturbations={\"kf_ATPM\": \"kf_ATPM * 1.5\"},\n",
    "    update_values=False, decimal_precision=True)\n",
    "\n",
    "print(\"Reached steady state: {0}\".format(len(feasible)))\n",
    "print(\"No steady state reached: {0}\".format(len(infeasible)))"
   ]
  },
  {
   "cell_type": "markdown",
   "metadata": {},
   "source": [
    "All models returned as \"feasible\" are considered to be thermodynamically feasible and able to reach a steady state, even with the given disturbance."
   ]
  },
  {
   "cell_type": "markdown",
   "metadata": {},
   "source": [
    "## Simulating an Ensemble of Models\n",
    "\n",
    "Once an ensemble of models is generated, the `Simulation` object can be used to simulate the ensemble of models."
   ]
  },
  {
   "cell_type": "code",
   "execution_count": 12,
   "metadata": {
    "execution": {
     "iopub.execute_input": "2021-01-25T18:14:20.355533Z",
     "iopub.status.busy": "2021-01-25T18:14:20.314029Z",
     "iopub.status.idle": "2021-01-25T18:14:20.834798Z",
     "shell.execute_reply": "2021-01-25T18:14:20.835337Z"
    }
   },
   "outputs": [
    {
     "name": "stdout",
     "output_type": "stream",
     "text": [
      "Successfully loaded MassModel 'Glycolysis' into RoadRunner.\n"
     ]
    }
   ],
   "source": [
    "sim = Simulation(reference_model, verbose=True)"
   ]
  },
  {
   "cell_type": "markdown",
   "metadata": {},
   "source": [
    "Three criteria must be met to add additional models to an existing `Simulation` object:\n",
    "\n",
    "1. The model must have ODEs equivalent to those of the `Simulation.reference_model`.\n",
    "2. All models must have unique identifiers.\n",
    "3. Numerical values that are necessary for simulation must already be defined for a model.\n",
    "\n",
    "If the criteria are met, additional models can be loaded into the `Simulation` using the `add_models()` method."
   ]
  },
  {
   "cell_type": "code",
   "execution_count": 13,
   "metadata": {
    "execution": {
     "iopub.execute_input": "2021-01-25T18:14:20.925165Z",
     "iopub.status.busy": "2021-01-25T18:14:20.880264Z",
     "iopub.status.idle": "2021-01-25T18:15:03.328960Z",
     "shell.execute_reply": "2021-01-25T18:15:03.328450Z"
    }
   },
   "outputs": [
    {
     "name": "stdout",
     "output_type": "stream",
     "text": [
      "Number of models added: 89\n",
      "Number of models total: 90\n"
     ]
    }
   ],
   "source": [
    "sim.add_models(models=feasible)\n",
    "print(\"Number of models added: {0}\".format(len(feasible)))\n",
    "print(\"Number of models total: {0}\".format(len(sim.models)))"
   ]
  },
  {
   "cell_type": "markdown",
   "metadata": {},
   "source": [
    "The `simulate()` method is used to simulate multiple models. By default, all loaded models are simulated, including the `reference_model`."
   ]
  },
  {
   "cell_type": "code",
   "execution_count": 14,
   "metadata": {
    "execution": {
     "iopub.execute_input": "2021-01-25T18:15:03.333965Z",
     "iopub.status.busy": "2021-01-25T18:15:03.333325Z",
     "iopub.status.idle": "2021-01-25T18:15:07.087621Z",
     "shell.execute_reply": "2021-01-25T18:15:07.088080Z"
    }
   },
   "outputs": [
    {
     "name": "stdout",
     "output_type": "stream",
     "text": [
      "ConcSols returned: 90\n",
      "FluxSols returned: 90\n"
     ]
    }
   ],
   "source": [
    "conc_sol_list, flux_sol_list = sim.simulate(time=(0, 1000))\n",
    "print(\"ConcSols returned: {0}\".format(len(conc_sol_list)))\n",
    "print(\"FluxSols returned: {0}\".format(len(flux_sol_list)))"
   ]
  },
  {
   "cell_type": "markdown",
   "metadata": {},
   "source": [
    "To simulate a subset of the models, a list of models or their identifiers can be provided to the `simulate()` method. For example, to simulate the subset of models with identical concentration states but different flux states:"
   ]
  },
  {
   "cell_type": "code",
   "execution_count": 15,
   "metadata": {
    "execution": {
     "iopub.execute_input": "2021-01-25T18:15:07.094425Z",
     "iopub.status.busy": "2021-01-25T18:15:07.093679Z",
     "iopub.status.idle": "2021-01-25T18:15:07.443585Z",
     "shell.execute_reply": "2021-01-25T18:15:07.443092Z"
    }
   },
   "outputs": [
    {
     "name": "stdout",
     "output_type": "stream",
     "text": [
      "ConcSols returned: 8\n",
      "FluxSols returned: 8\n"
     ]
    }
   ],
   "source": [
    "model_subset = [model for model in sim.models if model.endswith(\"_C0\")]\n",
    "conc_sol_list, flux_sol_list = sim.simulate(\n",
    "    models=model_subset, time=(0, 1000))\n",
    "print(\"ConcSols returned: {0}\".format(len(conc_sol_list)))\n",
    "print(\"FluxSols returned: {0}\".format(len(flux_sol_list)))"
   ]
  },
  {
   "cell_type": "markdown",
   "metadata": {},
   "source": [
    "Similar to the `simulate()` method, the `find_steady_state()` method can be used to determine a steady state for each model in an ensemble or subset of models."
   ]
  },
  {
   "cell_type": "code",
   "execution_count": 16,
   "metadata": {
    "execution": {
     "iopub.execute_input": "2021-01-25T18:15:07.448674Z",
     "iopub.status.busy": "2021-01-25T18:15:07.448032Z",
     "iopub.status.idle": "2021-01-25T18:15:10.852936Z",
     "shell.execute_reply": "2021-01-25T18:15:10.853655Z"
    }
   },
   "outputs": [
    {
     "name": "stdout",
     "output_type": "stream",
     "text": [
      "ConcSols returned: 8\n",
      "FluxSols returned: 8\n"
     ]
    }
   ],
   "source": [
    "conc_sol_list, flux_sol_list = sim.find_steady_state(\n",
    "    models=model_subset, strategy=\"simulate\")\n",
    "print(\"ConcSols returned: {0}\".format(len(conc_sol_list)))\n",
    "print(\"FluxSols returned: {0}\".format(len(flux_sol_list)))"
   ]
  },
  {
   "cell_type": "markdown",
   "metadata": {},
   "source": [
    "If an exception occurs for a model during steady state determination or simulation (e.g., no steady state exists), the MassSolution objects that correspond to the failed model will return empty."
   ]
  },
  {
   "cell_type": "code",
   "execution_count": 17,
   "metadata": {
    "execution": {
     "iopub.execute_input": "2021-01-25T18:15:10.943880Z",
     "iopub.status.busy": "2021-01-25T18:15:10.901750Z",
     "iopub.status.idle": "2021-01-25T18:25:21.277530Z",
     "shell.execute_reply": "2021-01-25T18:25:21.278074Z"
    }
   },
   "outputs": [
    {
     "name": "stdout",
     "output_type": "stream",
     "text": [
      "ConcSols returned: 2\n",
      "FluxSols returned: 2\n",
      "Solutions for Glycolysis: True\n",
      "Solutions for Glycolysis_F0_C0: False\n"
     ]
    },
    {
     "name": "stderr",
     "output_type": "stream",
     "text": [
      "mass/simulation/simulation.py:901 \u001b[1;31mUserWarning\u001b[0m: Unable to find a steady state for one or more models. Check the log for more details.\n"
     ]
    }
   ],
   "source": [
    "# Create a simulation with the reference model and an infeasible one \n",
    "infeasible_sim = Simulation(reference_model)\n",
    "infeasible_sim.add_models(infeasible[0])\n",
    "\n",
    "conc_sol_list, flux_sol_list = infeasible_sim.find_steady_state(\n",
    "    strategy=\"simulate\", perturbations={\"kf_ATPM\": \"kf_ATPM * 1.5\"})\n",
    "\n",
    "print(\"ConcSols returned: {0}\".format(len(conc_sol_list)))\n",
    "print(\"FluxSols returned: {0}\".format(len(flux_sol_list)))\n",
    "\n",
    "for model, sol in zip(sim.models, conc_sol_list):\n",
    "    print(\"Solutions for {0}: {1}\".format(str(model), bool(sol)))"
   ]
  },
  {
   "cell_type": "markdown",
   "metadata": {},
   "source": [
    "### Visualizing Ensemble Results\n",
    "\n",
    "Through visualization features of **MASSPy**, the results of simulating the ensemble can be visualized using the `plot_ensemble_time_profile()` and `plot_ensemble_phase_portrait()` functions."
   ]
  },
  {
   "cell_type": "code",
   "execution_count": 18,
   "metadata": {
    "execution": {
     "iopub.execute_input": "2021-01-25T18:25:21.284748Z",
     "iopub.status.busy": "2021-01-25T18:25:21.283948Z",
     "iopub.status.idle": "2021-01-25T18:25:21.286106Z",
     "shell.execute_reply": "2021-01-25T18:25:21.286968Z"
    }
   },
   "outputs": [],
   "source": [
    "import matplotlib as mpl\n",
    "import matplotlib.pyplot as plt\n",
    "\n",
    "import numpy as np\n",
    "\n",
    "from mass.visualization import (\n",
    "    plot_ensemble_phase_portrait, plot_ensemble_time_profile)"
   ]
  },
  {
   "cell_type": "markdown",
   "metadata": {},
   "source": [
    "A list of `MassSolution` objects is required to use an ensemble visualization function. The output of `simulate()` method for an ensemble of models can be placed into the functions directly."
   ]
  },
  {
   "cell_type": "code",
   "execution_count": 19,
   "metadata": {
    "execution": {
     "iopub.execute_input": "2021-01-25T18:25:21.376356Z",
     "iopub.status.busy": "2021-01-25T18:25:21.332700Z",
     "iopub.status.idle": "2021-01-25T18:26:44.136036Z",
     "shell.execute_reply": "2021-01-25T18:26:44.136570Z"
    }
   },
   "outputs": [
    {
     "name": "stdout",
     "output_type": "stream",
     "text": [
      "Successfully loaded MassModel 'Glycolysis' into RoadRunner.\n"
     ]
    }
   ],
   "source": [
    "sim = Simulation(reference_model, verbose=True)\n",
    "sim.add_models(models=feasible)\n",
    "\n",
    "conc_sol_list, flux_sol_list = sim.simulate(\n",
    "    models=feasible, time=(0, 1000),\n",
    "    perturbations={\"kf_ATPM\": \"kf_ATPM * 1.5\"},\n",
    "    decimal_precision=True)"
   ]
  },
  {
   "cell_type": "markdown",
   "metadata": {},
   "source": [
    "The `plot_ensemble_time_profile()` function works in a manner similar to the `plot_time_profile()` function described in [Time Profiles](./plot_visualization.ipynb#Time-Profiles). The minimal input required is a list of `MassSolution` objects and an iterable that contains strings or objects with identifiers that correspond to keys of the `MassSolution`. The plotted solution lines represent the average (mean) solution."
   ]
  },
  {
   "cell_type": "code",
   "execution_count": 20,
   "metadata": {
    "execution": {
     "iopub.execute_input": "2021-01-25T18:26:44.162490Z",
     "iopub.status.busy": "2021-01-25T18:26:44.161765Z",
     "iopub.status.idle": "2021-01-25T18:26:53.858093Z",
     "shell.execute_reply": "2021-01-25T18:26:53.858549Z"
    }
   },
   "outputs": [
    {
     "data": {
      "text/plain": [
       "<matplotlib.axes._subplots.AxesSubplot at 0x7ffb4ef2aad0>"
      ]
     },
     "execution_count": 1,
     "metadata": {},
     "output_type": "execute_result"
    },
    {
     "data": {
      "image/png": "[encoded data removed]",
      "text/plain": [
       "<Figure size 432x288 with 1 Axes>"
      ]
     },
     "metadata": {
      "needs_background": "light"
     },
     "output_type": "display_data"
    }
   ],
   "source": [
    "plot_ensemble_time_profile(\n",
    "    conc_sol_list, observable=reference_model.metabolites,\n",
    "    interval_type=None,\n",
    "    legend=\"right outside\", plot_function=\"semilogx\",\n",
    "    xlabel=\"Time (hrs)\", ylabel=\"Concentrations (mM)\",\n",
    "    title=\"Mean Concentrations (N={0})\".format(len(conc_sol_list)))"
   ]
  },
  {
   "cell_type": "markdown",
   "metadata": {},
   "source": [
    "Because the plotted lines are the mean solution values over time for the ensemble, there is some uncertainty associated with the solutions. The `interval_type` argument can be specified to plot the results with a confidence interval. For example, to plot the mean PYK flux with a 95% confidence interval:"
   ]
  },
  {
   "cell_type": "code",
   "execution_count": 21,
   "metadata": {
    "execution": {
     "iopub.execute_input": "2021-01-25T18:26:53.876016Z",
     "iopub.status.busy": "2021-01-25T18:26:53.875053Z",
     "iopub.status.idle": "2021-01-25T18:26:54.877214Z",
     "shell.execute_reply": "2021-01-25T18:26:54.877864Z"
    }
   },
   "outputs": [
    {
     "data": {
      "text/plain": [
       "<matplotlib.axes._subplots.AxesSubplot at 0x7ffb50664810>"
      ]
     },
     "execution_count": 1,
     "metadata": {},
     "output_type": "execute_result"
    },
    {
     "data": {
      "image/png": "[encoded data removed]",
      "text/plain": [
       "<Figure size 432x288 with 1 Axes>"
      ]
     },
     "metadata": {
      "needs_background": "light"
     },
     "output_type": "display_data"
    }
   ],
   "source": [
    "plot_ensemble_time_profile(\n",
    "    flux_sol_list, observable=[\"PYK\"], legend=\"best\", \n",
    "    interval_type=\"CI=95\", # Shading for 95% confidence\n",
    "    plot_function=\"semilogx\", xlabel=\"Time (hrs)\",\n",
    "    ylabel=\"Flux (mM/hr)\",\n",
    "    title=\"Mean PYK Flux (N={0})\".format(len(flux_sol_list)),\n",
    "    color=\"red\", mean_line_alpha=1,  # Default opacity of mean line\n",
    "    interval_fill_alpha=0.5,   # Default opacity for interval shading\n",
    "    interval_border_alpha=0.5)  # Default opacity of border lines\n"
   ]
  },
  {
   "cell_type": "markdown",
   "metadata": {},
   "source": [
    "Setting  `interval_type=\"range\"` causes shading between the minimum and maximum solution values. The `mean_line_alpha`, `interval_fill_alpha`, and `interval_border_alpha` kwargs are used to control the opacity of the mean solution, interval borders, and interval shading, respectively."
   ]
  },
  {
   "cell_type": "code",
   "execution_count": 22,
   "metadata": {
    "execution": {
     "iopub.execute_input": "2021-01-25T18:26:54.886807Z",
     "iopub.status.busy": "2021-01-25T18:26:54.886131Z",
     "iopub.status.idle": "2021-01-25T18:26:55.627042Z",
     "shell.execute_reply": "2021-01-25T18:26:55.627588Z"
    }
   },
   "outputs": [
    {
     "data": {
      "text/plain": [
       "<matplotlib.axes._subplots.AxesSubplot at 0x7ffb4e83d550>"
      ]
     },
     "execution_count": 1,
     "metadata": {},
     "output_type": "execute_result"
    },
    {
     "data": {
      "image/png": "[encoded data removed]",
      "text/plain": [
       "<Figure size 432x288 with 1 Axes>"
      ]
     },
     "metadata": {
      "needs_background": "light"
     },
     "output_type": "display_data"
    }
   ],
   "source": [
    "plot_ensemble_time_profile(\n",
    "    flux_sol_list, observable=[\"PYK\"],\n",
    "    interval_type=\"range\", # Shading from min to max value\n",
    "    legend=\"best\", plot_function=\"semilogx\",\n",
    "    xlabel=\"Time (hrs)\", ylabel=\"Flux (mM/hr)\",\n",
    "    title=\"Mean PYK Flux (N={0})\".format(len(flux_sol_list)),\n",
    "    color=\"red\", mean_line_alpha=0.6,  # For opacity of mean line\n",
    "    interval_fill_alpha=0.3, # For lighter interval shading\n",
    "    interval_border_alpha=1  # For darker border lines\n",
    ")"
   ]
  },
  {
   "cell_type": "markdown",
   "metadata": {},
   "source": [
    "Relative deviations are plotted using the `deviation` kwarg. The `deviation_zero_centered` kwarg is used to shift the results to deviate from 0., and the `deviation_normalization` kwarg is used to normalize each solution."
   ]
  },
  {
   "cell_type": "code",
   "execution_count": 23,
   "metadata": {
    "execution": {
     "iopub.execute_input": "2021-01-25T18:26:55.676667Z",
     "iopub.status.busy": "2021-01-25T18:26:55.667167Z",
     "iopub.status.idle": "2021-01-25T18:27:05.565626Z",
     "shell.execute_reply": "2021-01-25T18:27:05.566172Z"
    },
    "scrolled": false
   },
   "outputs": [
    {
     "data": {
      "image/png": "[encoded data removed]",
      "text/plain": [
       "<Figure size 864x576 with 2 Axes>"
      ]
     },
     "metadata": {
      "needs_background": "light"
     },
     "output_type": "display_data"
    }
   ],
   "source": [
    "fig, (ax1, ax2) = plt.subplots(nrows=2, ncols=1, figsize=(12, 8))\n",
    "\n",
    "# Plot all relative flux deviations\n",
    "plot_ensemble_time_profile(\n",
    "    flux_sol_list, observable=reference_model.reactions,\n",
    "    interval_type=None, ax=ax1, legend=\"right outside\",\n",
    "    plot_function=\"semilogx\", xlabel=\"Time (hrs)\",\n",
    "    ylabel=(\"Relative Deviation\\n\" +\\\n",
    "            r\"($\\frac{v - v_{0}}{v_{max} - v_{min}}$)\"),\n",
    "    title=\"Mean Flux Deviations (N={0})\".format(len(flux_sol_list)),\n",
    "    deviation=True,\n",
    "    deviation_zero_centered=True,  # Center around 0\n",
    "    deviation_normalization=\"range\")  # Normalized by value range\n",
    "\n",
    "# Plot PYK relative flux deviations\n",
    "plot_ensemble_time_profile(\n",
    "    flux_sol_list, observable=[\"PYK\"],\n",
    "    interval_type=\"CI=99\",  # 99% confidence interval\n",
    "    ax=ax2, legend=\"lower right\",\n",
    "    plot_function=\"semilogx\", xlabel=\"Time (hrs)\",\n",
    "    ylabel=(\"Relative Deviation\\n\" +\\\n",
    "            r\"($\\frac{v - v_{0}}{v_{0}}$)\"),\n",
    "    title=\"Average PYK Flux Deviation (N={0})\".format(\n",
    "        len(flux_sol_list)),\n",
    "    color=\"red\", deviation=True,\n",
    "    deviation_zero_centered=True,  # Center around 0\n",
    "    deviation_normalization=\"initial value\")  # Normalized by init. value\n",
    "\n",
    "fig.tight_layout()"
   ]
  },
  {
   "cell_type": "markdown",
   "metadata": {},
   "source": [
    "The `plot_ensemble_phase_portrait()` function works in a manner similar to the `plot_phase_portrait()` function described in [Phase Portraits](./plot_visualization.ipynb#Phase-Portraits). The `plot_ensemble_phase_portrait()` function plots the mean solutions for the two ensemble simulation results against each other."
   ]
  },
  {
   "cell_type": "code",
   "execution_count": 24,
   "metadata": {
    "execution": {
     "iopub.execute_input": "2021-01-25T18:27:05.588645Z",
     "iopub.status.busy": "2021-01-25T18:27:05.587946Z",
     "iopub.status.idle": "2021-01-25T18:27:06.590645Z",
     "shell.execute_reply": "2021-01-25T18:27:06.591136Z"
    }
   },
   "outputs": [
    {
     "data": {
      "text/plain": [
       "<matplotlib.axes._subplots.AxesSubplot at 0x7ffb50453090>"
      ]
     },
     "execution_count": 1,
     "metadata": {},
     "output_type": "execute_result"
    },
    {
     "data": {
      "image/png": "[encoded data removed]",
      "text/plain": [
       "<Figure size 360x360 with 1 Axes>"
      ]
     },
     "metadata": {
      "needs_background": "light"
     },
     "output_type": "display_data"
    }
   ],
   "source": [
    "fig, ax = plt.subplots(nrows=1, ncols=1, figsize=(5, 5))\n",
    "\n",
    "# Createt time points and colors for the time points\n",
    "time_points = [0, 1e-1, 1e0, 1e1, 1e2]\n",
    "time_point_colors = [\n",
    "    mpl.colors.to_hex(c)\n",
    "    for c in mpl.cm.Blues(np.linspace(0.3, 1, len(time_points)))]\n",
    "\n",
    "# Plot the phase portrait\n",
    "plot_ensemble_phase_portrait(\n",
    "    flux_sol_list, x=\"ATPM\", y=\"GAPD\", ax=ax, legend=\"upper right\",\n",
    "    xlim=(1.3, 3.5), ylim=(1.3, 3.5),\n",
    "    title=\"ATPM vs. GAPD\",\n",
    "    color=\"orange\", linestyle=\"-\",\n",
    "    annotate_time_points=time_points,\n",
    "    annotate_time_points_color=time_point_colors,\n",
    "    annotate_time_points_legend=\"right outside\");"
   ]
  },
  {
   "cell_type": "markdown",
   "metadata": {},
   "source": [
    "## Fast Ensemble Creation\n",
    "\n",
    "Another function utilized for ensemble creation is the `generate_ensemble_of_models()` function. The `generate_ensemble_of_models()` function is a way to streamline the generation of models for an ensemble with increased performance gains at the cost of user control and increased overhead for setup. Consequently, the `generate_ensemble_of_models()` function may be a more desirable function to use when generating a large number of models. \n",
    "\n",
    "The `generate_ensemble_of_models()` function requires a single `MassModel` as a reference model, and sample data as a `pandas.DataFrame` for the `flux_data` and `conc_data` arguments.\n",
    "\n",
    "* For `flux_data` columns are reaction identifiers, and rows are samples of steady state fluxes.\n",
    "* For `conc_data` columns are metabolite identifiers, and rows are samples of concentrations (initial conditions).\n",
    "\n",
    "At least one of the above arguments must be provided for the function to work. After generating the models, a list that contains the model objects is returned."
   ]
  },
  {
   "cell_type": "code",
   "execution_count": 25,
   "metadata": {
    "execution": {
     "iopub.execute_input": "2021-01-25T18:27:06.597671Z",
     "iopub.status.busy": "2021-01-25T18:27:06.596980Z",
     "iopub.status.idle": "2021-01-25T18:27:17.547817Z",
     "shell.execute_reply": "2021-01-25T18:27:17.548417Z"
    }
   },
   "outputs": [
    {
     "name": "stdout",
     "output_type": "stream",
     "text": [
      "Total models generated: 100\n"
     ]
    }
   ],
   "source": [
    "# Generate the ensemble\n",
    "models = generate_ensemble_of_models(\n",
    "    reference_model=reference_model, \n",
    "    flux_data=flux_samples,\n",
    "    conc_data=conc_samples)"
   ]
  },
  {
   "cell_type": "markdown",
   "metadata": {},
   "source": [
    "To ensure that the PERCs for certain reactions are positive, a `list` of reactions to check can be provided to the `ensure_positive_percs` argument. "
   ]
  },
  {
   "cell_type": "code",
   "execution_count": 26,
   "metadata": {
    "execution": {
     "iopub.execute_input": "2021-01-25T18:27:17.576039Z",
     "iopub.status.busy": "2021-01-25T18:27:17.574590Z",
     "iopub.status.idle": "2021-01-25T18:27:53.655965Z",
     "shell.execute_reply": "2021-01-25T18:27:53.655425Z"
    }
   },
   "outputs": [
    {
     "name": "stdout",
     "output_type": "stream",
     "text": [
      "Total models generated: 100\n",
      "Feasible: 100\n",
      "Infeasible, negative PERCs: 0\n"
     ]
    }
   ],
   "source": [
    "# Exclude boundary reactions from PERC calculations for the example\n",
    "reactions_to_check_percs = [\n",
    "    r.id for r in reference_model.reactions\n",
    "    if r not in reference_model.boundary]\n",
    "\n",
    "# Generate the ensemble\n",
    "ensemble = generate_ensemble_of_models(\n",
    "    reference_model=reference_model, \n",
    "    flux_data=flux_samples,\n",
    "    conc_data=conc_samples,\n",
    "    ensure_positive_percs=reactions_to_check_percs)"
   ]
  },
  {
   "cell_type": "markdown",
   "metadata": {},
   "source": [
    "To ensure that all models can reach a steady state with their new values, a strategy for finding the steady state can be provided to the `strategy` argument. "
   ]
  },
  {
   "cell_type": "code",
   "execution_count": 27,
   "metadata": {
    "execution": {
     "iopub.execute_input": "2021-01-25T18:27:53.748482Z",
     "iopub.status.busy": "2021-01-25T18:27:53.704166Z",
     "iopub.status.idle": "2021-01-25T18:29:15.472746Z",
     "shell.execute_reply": "2021-01-25T18:29:15.473325Z"
    }
   },
   "outputs": [
    {
     "name": "stderr",
     "output_type": "stream",
     "text": [
      "mass/simulation/simulation.py:901 \u001b[1;31mUserWarning\u001b[0m: Unable to find a steady state for one or more models. Check the log for more details.\n"
     ]
    },
    {
     "name": "stdout",
     "output_type": "stream",
     "text": [
      "Total models generated: 100\n",
      "Feasible: 90\n",
      "Infeasible, negative PERCs: 0\n",
      "Infeasible, no steady state found: 10\n"
     ]
    }
   ],
   "source": [
    "# Generate the ensemble\n",
    "models = generate_ensemble_of_models(\n",
    "    reference_model=reference_model, \n",
    "    flux_data=flux_samples,\n",
    "    conc_data=conc_samples,\n",
    "    ensure_positive_percs=reactions_to_check_percs,\n",
    "    strategy=\"simulate\",\n",
    "    decimal_precision=True)"
   ]
  },
  {
   "cell_type": "markdown",
   "metadata": {},
   "source": [
    "To ensure that all models can reach a steady state with their new values after a given perturbation, in addition to passing a value to the `strategy` argument, one or more perturbations can be given to the `perturbations` argument. The `perturbations` argument takes a `list` of dictionaries, each containing perturbations formatted as described in [Dynamic Simulation](./dynamic_simulation.ipynb#Perturbing-a-Model).\n",
    "\n",
    "If it is desirable to return the models that were not deemed 'feasible', the `return_infeasible` kwarg can be set to `True` to return a second list that contains only models deemed 'infeasible'."
   ]
  },
  {
   "cell_type": "code",
   "execution_count": 28,
   "metadata": {
    "execution": {
     "iopub.execute_input": "2021-01-25T18:29:15.603406Z",
     "iopub.status.busy": "2021-01-25T18:29:15.579748Z",
     "iopub.status.idle": "2021-01-25T18:41:44.468296Z",
     "shell.execute_reply": "2021-01-25T18:41:44.468960Z"
    }
   },
   "outputs": [
    {
     "name": "stderr",
     "output_type": "stream",
     "text": [
      "mass/simulation/simulation.py:901 \u001b[1;31mUserWarning\u001b[0m: Unable to find a steady state for one or more models. Check the log for more details.\n",
      "mass/simulation/simulation.py:901 \u001b[1;31mUserWarning\u001b[0m: Unable to find a steady state for one or more models. Check the log for more details.\n"
     ]
    },
    {
     "name": "stdout",
     "output_type": "stream",
     "text": [
      "Total models generated: 100\n",
      "Feasible: 89\n",
      "Infeasible, negative PERCs: 0\n",
      "Infeasible, no steady state found: 10\n",
      "Infeasible, no steady state with pertubration 1: 1\n",
      "Infeasible, no steady state with pertubration 2: 0\n"
     ]
    }
   ],
   "source": [
    "feasible, infeasible = generate_ensemble_of_models(\n",
    "    reference_model=reference_model, \n",
    "    flux_data=flux_samples,\n",
    "    conc_data=conc_samples,\n",
    "    ensure_positive_percs=reactions_to_check_percs,\n",
    "    strategy=\"simulate\",\n",
    "    perturbations=[\n",
    "        {\"kf_ATPM\": \"kf_ATPM * 1.5\"},\n",
    "        {\"kf_ATPM\": \"kf_ATPM * 0.85\"}],\n",
    "    return_infeasible=True,\n",
    "    decimal_precision=True)"
   ]
  },
  {
   "cell_type": "markdown",
   "metadata": {},
   "source": [
    "Note that perturbations are not applied all at once; each `dict` provided corresponds to a new attempt to find a steady state. For example, two dictionaries passed to the `perturbations` argument indicate that three steady state determinations are performed, once for the model without any perturbations and once for each `dict` provided.\n",
    "\n",
    "Generally it is recommended to utilize the functions in the `ensemble` submodule to generate small ensembles while experimenting with various settings, and then to utilize the `generate_ensemble_of_models` function to generate the larger ensemble."
   ]
  }
 ],
 "metadata": {
  "kernelspec": {
   "display_name": "Python 3",
   "language": "python",
   "name": "python3"
  },
  "language_info": {
   "codemirror_mode": {
    "name": "ipython",
    "version": 3
   },
   "file_extension": ".py",
   "mimetype": "text/x-python",
   "name": "python",
   "nbconvert_exporter": "python",
   "pygments_lexer": "ipython3",
   "version": "3.7.9"
  },
  "nbsphinx": {
   "timeout": -1
  }
 },
 "nbformat": 4,
 "nbformat_minor": 2
}
