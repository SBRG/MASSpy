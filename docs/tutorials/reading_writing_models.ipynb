{
 "cells": [
  {
   "cell_type": "markdown",
   "metadata": {},
   "source": [
    "# Reading and Writing Models\n",
    "\n",
    "In this notebook example, the import and export capabilities of **MASSpy** are demonstrated.\n",
    "\n",
    "**MASSpy** supports reading and writing models in the [SBML](http://sbml.org/Main_Page) and [JSON](http://www.json.org/) formats. The preferred format for general use is the SBML with the FBC (Version 2) extension and the Groups (Version 1) extension.\n",
    "\n",
    "The JSON format may be more useful for **MASSpy** specific functionality and for visualizing networks via [Escher](https://escher.github.io/). See the [Network Visualization](./network_visualization.ipynb) section for additional details.\n",
    "\n",
    "The **MASSpy** package also comes with models in various formats for testing purposes."
   ]
  },
  {
   "cell_type": "code",
   "execution_count": 1,
   "metadata": {
    "execution": {
     "iopub.execute_input": "2021-01-25T18:43:46.551716Z",
     "iopub.status.busy": "2021-01-25T18:43:46.550262Z",
     "iopub.status.idle": "2021-01-25T18:43:48.868898Z",
     "shell.execute_reply": "2021-01-25T18:43:48.869551Z"
    },
    "scrolled": true
   },
   "outputs": [],
   "source": [
    "from os.path import join\n",
    "\n",
    "import mass\n",
    "import mass.example_data\n",
    "\n",
    "# To view the list of available models, remove the semicolon\n",
    "mass.example_data.view_example_models();"
   ]
  },
  {
   "cell_type": "markdown",
   "metadata": {},
   "source": [
    "## SBML"
   ]
  },
  {
   "cell_type": "code",
   "execution_count": 2,
   "metadata": {
    "execution": {
     "iopub.execute_input": "2021-01-25T18:43:48.874319Z",
     "iopub.status.busy": "2021-01-25T18:43:48.873597Z",
     "iopub.status.idle": "2021-01-25T18:43:48.875801Z",
     "shell.execute_reply": "2021-01-25T18:43:48.876271Z"
    }
   },
   "outputs": [],
   "source": [
    "from mass.io import sbml"
   ]
  },
  {
   "cell_type": "markdown",
   "metadata": {},
   "source": [
    "The [Systems Biology Markup Language](http://sbml.org/Main_Page) is an XML-based standard format for distributing models.\n",
    "\n",
    "**MASSpy** supports the reading and writing of SBML Level 3. **MASSpy** attempts to convert SBML Level 1 and Level 2 models to Level 3 before loading. "
   ]
  },
  {
   "cell_type": "code",
   "execution_count": 3,
   "metadata": {
    "execution": {
     "iopub.execute_input": "2021-01-25T18:43:48.998476Z",
     "iopub.status.busy": "2021-01-25T18:43:48.956831Z",
     "iopub.status.idle": "2021-01-25T18:43:50.777869Z",
     "shell.execute_reply": "2021-01-25T18:43:50.778471Z"
    }
   },
   "outputs": [
    {
     "name": "stdout",
     "output_type": "stream",
     "text": [
      "Set parameter Username\n"
     ]
    },
    {
     "data": {
      "text/html": [
       "\n",
       "            <table>\n",
       "                <tr>\n",
       "                    <td><strong>Name</strong></td><td>RBC_PFK</td>\n",
       "                </tr><tr>\n",
       "                    <td><strong>Memory address</strong></td><td>0x07f86a8acb4f0</td>\n",
       "                </tr><tr>\n",
       "                    <td><strong>Stoichiometric Matrix</strong></td>\n",
       "                    <td>68x76</td>\n",
       "                </tr><tr>\n",
       "                    <td><strong>Matrix Rank</strong></td>\n",
       "                    <td>63</td>\n",
       "                </tr><tr>\n",
       "                    <td><strong>Number of metabolites</strong></td>\n",
       "                    <td>68</td>\n",
       "                </tr><tr>\n",
       "                    <td><strong>Initial conditions defined</strong></td>\n",
       "                    <td>68/68</td>\n",
       "                </tr><tr>\n",
       "                    <td><strong>Number of reactions</strong></td>\n",
       "                    <td>76</td>\n",
       "                </tr><tr>\n",
       "                    <td><strong>Number of genes</strong></td>\n",
       "                    <td>0</td>\n",
       "                </tr><tr>\n",
       "                    <td><strong>Number of enzyme modules</strong></td>\n",
       "                    <td>1</td>\n",
       "                </tr><tr>\n",
       "                    <td><strong>Number of groups</strong></td>\n",
       "                    <td>16</td>\n",
       "                </tr><tr>\n",
       "                    <td><strong>Objective expression</strong></td>\n",
       "                    <td>0</td>\n",
       "                </tr><tr>\n",
       "                    <td><strong>Compartments</strong></td>\n",
       "                    <td>Cytosol</td>\n",
       "                </tr>\n",
       "            </table>\n",
       "        "
      ],
      "text/plain": [
       "<MassModel RBC_PFK at 0x7f86a8acb4f0>"
      ]
     },
     "execution_count": 3,
     "metadata": {},
     "output_type": "execute_result"
    }
   ],
   "source": [
    "model = sbml.read_sbml_model(join(mass.example_data.MODELS_DIR, \"textbook.xml\"))\n",
    "model"
   ]
  },
  {
   "cell_type": "code",
   "execution_count": 4,
   "metadata": {
    "execution": {
     "iopub.execute_input": "2021-01-25T18:43:50.862646Z",
     "iopub.status.busy": "2021-01-25T18:43:50.822439Z",
     "iopub.status.idle": "2021-01-25T18:43:52.503829Z",
     "shell.execute_reply": "2021-01-25T18:43:52.504277Z"
    }
   },
   "outputs": [],
   "source": [
    "sbml.write_sbml_model(model, \"test_textbook.xml\")"
   ]
  },
  {
   "cell_type": "markdown",
   "metadata": {},
   "source": [
    "**MASSpy** utilizes the [libSBML](http://sbml.org/Software/libSBML/5.18.0/docs/python-api/) package to read and write SBML files, supporting both the [FBC](http://sbml.org/Software/libSBML/5.18.0/docs/python-api/group__fbc.html) (Version 2) and the [Groups](http://sbml.org/Software/libSBML/5.18.0/docs/python-api/group__groups.html) (Version 1) extensions.\n",
    "When reading in a model, **MASSpy** automatically detects whether the FBC and/or Groups extensions were used.\n",
    "\n",
    "To preserve information specific to `EnzymeModule` objects, the SBML Groups extension is used along with the notes section for SBML objects. The `use_groups_package` argument can be utilized to indicate whether to write `cobra.Group` objects to the SBML file, including `EnzymeModule` information. Disabling this extension may result in a loss of some enzyme specific information (e.g., categorized groups), but it does not prevent species and reactions of the enzyme module\n",
    "from being written.\n",
    "\n",
    "When writing a model, the `use_fbc_package` argument can be used to indicate whether to write additional model information (e.g., metabolite formula and charge, genes, reaction bounds) via the FBC extension. "
   ]
  },
  {
   "cell_type": "markdown",
   "metadata": {},
   "source": [
    "## JSON"
   ]
  },
  {
   "cell_type": "code",
   "execution_count": 5,
   "metadata": {
    "execution": {
     "iopub.execute_input": "2021-01-25T18:43:52.508634Z",
     "iopub.status.busy": "2021-01-25T18:43:52.507841Z",
     "iopub.status.idle": "2021-01-25T18:43:52.509840Z",
     "shell.execute_reply": "2021-01-25T18:43:52.510284Z"
    }
   },
   "outputs": [],
   "source": [
    "from mass.io import json"
   ]
  },
  {
   "cell_type": "markdown",
   "metadata": {},
   "source": [
    "**MASSpy** models have a [JSON](http://www.json.org/) representation, allowing for interoperability with the [Escher](https://escher.github.io/). \n",
    "\n",
    "See the [Network Visualization](./network_visualization.ipynb) section for additional details on working with **Escher**."
   ]
  },
  {
   "cell_type": "code",
   "execution_count": 6,
   "metadata": {
    "execution": {
     "iopub.execute_input": "2021-01-25T18:43:52.514510Z",
     "iopub.status.busy": "2021-01-25T18:43:52.513872Z",
     "iopub.status.idle": "2021-01-25T18:43:52.733234Z",
     "shell.execute_reply": "2021-01-25T18:43:52.734067Z"
    }
   },
   "outputs": [
    {
     "data": {
      "text/html": [
       "\n",
       "            <table>\n",
       "                <tr>\n",
       "                    <td><strong>Name</strong></td><td>RBC_PFK</td>\n",
       "                </tr><tr>\n",
       "                    <td><strong>Memory address</strong></td><td>0x07f8638fc1880</td>\n",
       "                </tr><tr>\n",
       "                    <td><strong>Stoichiometric Matrix</strong></td>\n",
       "                    <td>68x76</td>\n",
       "                </tr><tr>\n",
       "                    <td><strong>Matrix Rank</strong></td>\n",
       "                    <td>63</td>\n",
       "                </tr><tr>\n",
       "                    <td><strong>Number of metabolites</strong></td>\n",
       "                    <td>68</td>\n",
       "                </tr><tr>\n",
       "                    <td><strong>Initial conditions defined</strong></td>\n",
       "                    <td>68/68</td>\n",
       "                </tr><tr>\n",
       "                    <td><strong>Number of reactions</strong></td>\n",
       "                    <td>76</td>\n",
       "                </tr><tr>\n",
       "                    <td><strong>Number of genes</strong></td>\n",
       "                    <td>0</td>\n",
       "                </tr><tr>\n",
       "                    <td><strong>Number of enzyme modules</strong></td>\n",
       "                    <td>1</td>\n",
       "                </tr><tr>\n",
       "                    <td><strong>Number of groups</strong></td>\n",
       "                    <td>16</td>\n",
       "                </tr><tr>\n",
       "                    <td><strong>Objective expression</strong></td>\n",
       "                    <td>0</td>\n",
       "                </tr><tr>\n",
       "                    <td><strong>Compartments</strong></td>\n",
       "                    <td>Cytosol</td>\n",
       "                </tr>\n",
       "            </table>\n",
       "        "
      ],
      "text/plain": [
       "<MassModel RBC_PFK at 0x7f8638fc1880>"
      ]
     },
     "execution_count": 6,
     "metadata": {},
     "output_type": "execute_result"
    }
   ],
   "source": [
    "model = json.load_json_model(join(mass.example_data.MODELS_DIR, \"textbook.json\"))\n",
    "model"
   ]
  },
  {
   "cell_type": "code",
   "execution_count": 7,
   "metadata": {
    "execution": {
     "iopub.execute_input": "2021-01-25T18:43:52.774718Z",
     "iopub.status.busy": "2021-01-25T18:43:52.773441Z",
     "iopub.status.idle": "2021-01-25T18:43:52.785686Z",
     "shell.execute_reply": "2021-01-25T18:43:52.786457Z"
    }
   },
   "outputs": [],
   "source": [
    "json.save_json_model(model, \"test_textbook.json\")"
   ]
  },
  {
   "cell_type": "markdown",
   "metadata": {},
   "source": [
    "Consider having the [simplejson](https://pypi.org/project/simplejson/) package to speed up reading/writing of JSON models."
   ]
  },
  {
   "cell_type": "markdown",
   "metadata": {},
   "source": [
    "### JSON schema\n",
    "The JSON schema for **MASSpy** models is stored in [mass.io.json](../autoapi/mass/io/json/index.rst#mass.io.json.JSON_SCHEMA) as the `JSON_SCHEMA` variable. It can be accessed via the following:"
   ]
  },
  {
   "cell_type": "code",
   "execution_count": 8,
   "metadata": {
    "execution": {
     "iopub.execute_input": "2021-01-25T18:43:52.800056Z",
     "iopub.status.busy": "2021-01-25T18:43:52.799131Z",
     "iopub.status.idle": "2021-01-25T18:43:52.802600Z",
     "shell.execute_reply": "2021-01-25T18:43:52.803064Z"
    },
    "scrolled": true
   },
   "outputs": [],
   "source": [
    "# To view the JSON schema, remove the semicolon\n",
    "json.JSON_SCHEMA;"
   ]
  },
  {
   "cell_type": "markdown",
   "metadata": {},
   "source": [
    "## Converting between file formats\n",
    "\n",
    "Often there are times where one program or package is used to execute a specific task, yet a downstream task requires the use of a different program or package. Consequently, the ability to import a model written using one format and subsequently export it to another is essential in these scenarios. The submodules of ``mass.io`` can be used to facilitate the import/export of models in different formats for this purpose. \n",
    "\n",
    "One possible scenario in which the conversion between file formats is necessary involves the visualizion of an SBML model on a network map using the [Escher](https://escher.github.io/) <cite data-cite=\"KDragerE+15\">(King et al., 2015)</cite> visualization tool. \n",
    "\n",
    "See [Visualizing SBML models with Escher in Python](./network_visualization.ipynb#Visualizing-SBML-models-with-Escher-in-Python) for an example demonstrating how **MASSpy** facilitates file conversion for model exchangability."
   ]
  }
 ],
 "metadata": {
  "kernelspec": {
   "display_name": "Python 3 (ipykernel)",
   "language": "python",
   "name": "python3"
  },
  "language_info": {
   "codemirror_mode": {
    "name": "ipython",
    "version": 3
   },
   "file_extension": ".py",
   "mimetype": "text/x-python",
   "name": "python",
   "nbconvert_exporter": "python",
   "pygments_lexer": "ipython3",
   "version": "3.8.12"
  }
 },
 "nbformat": 4,
 "nbformat_minor": 2
}
