{
 "cells": [
  {
   "cell_type": "markdown",
   "metadata": {},
   "source": [
    "# Reading and Writing Models\n",
    "\n",
    "In this notebook example, the import and export capabilities of **MASSpy** are demonstrated.\n",
    "\n",
    "**MASSpy** supports reading and writing models in the [SBML](http://sbml.org/Main_Page) and [JSON](http://www.json.org/) formats. The preferred format for general use is the SBML with the FBC (Version 2) extension and the Groups (Version 1) extension.\n",
    "\n",
    "The JSON format may be more useful for **MASSpy** specific functionality and for visualizing networks via [Escher](https://escher.github.io/). See the [Network Visualization](./network_visualization.ipynb) section for additional details.\n",
    "\n",
    "The **MASSpy** package also comes with models in various formats for testing purposes."
   ]
  },
  {
   "cell_type": "code",
   "execution_count": 1,
   "metadata": {
    "execution": {
     "iopub.execute_input": "2021-01-25T18:43:46.551716Z",
     "iopub.status.busy": "2021-01-25T18:43:46.550262Z",
     "iopub.status.idle": "2021-01-25T18:43:48.868898Z",
     "shell.execute_reply": "2021-01-25T18:43:48.869551Z"
    },
    "scrolled": true
   },
   "outputs": [
    {
     "data": {
      "text/plain": [
       "['Glycolysis.json',\n",
       " 'Glycolysis_FKRM.json',\n",
       " 'Glycolysis_Hb_HEX1.json',\n",
       " 'Glycolysis_Hb_PFK.json',\n",
       " 'Glycolysis_Hb_PYK.json',\n",
       " 'Hemoglobin.json',\n",
       " 'Model_to_Repair.json',\n",
       " 'MultiCompartment.json',\n",
       " 'Phosphate_Trafficking.json',\n",
       " 'SB2_AMPSalvageNetwork.json',\n",
       " 'SB2_Glycolysis.json',\n",
       " 'SB2_Hemoglobin.json',\n",
       " 'SB2_PFK.json',\n",
       " 'SB2_PentosePhosphatePathway.json',\n",
       " 'Simple_Toy.json',\n",
       " 'Simple_Toy.xml',\n",
       " 'WholeCellRBC_MA_Rates.json',\n",
       " 'WholeCellRBC_MA_Rates.xml',\n",
       " 'WholeCellRBC_MM_Rates.json',\n",
       " 'WholeCellRBC_MM_Rates.xml',\n",
       " 'textbook.json',\n",
       " 'textbook.xml']"
      ]
     },
     "execution_count": 1,
     "metadata": {},
     "output_type": "execute_result"
    }
   ],
   "source": [
    "from os.path import join\n",
    "\n",
    "import mass\n",
    "import mass.example_data\n",
    "\n",
    "# To view the list of available models, remove the semicolon\n",
    "mass.example_data.view_example_models();"
   ]
  },
  {
   "cell_type": "markdown",
   "metadata": {},
   "source": [
    "## SBML"
   ]
  },
  {
   "cell_type": "code",
   "execution_count": 2,
   "metadata": {
    "execution": {
     "iopub.execute_input": "2021-01-25T18:43:48.874319Z",
     "iopub.status.busy": "2021-01-25T18:43:48.873597Z",
     "iopub.status.idle": "2021-01-25T18:43:48.875801Z",
     "shell.execute_reply": "2021-01-25T18:43:48.876271Z"
    }
   },
   "outputs": [],
   "source": [
    "from mass.io import sbml"
   ]
  },
  {
   "cell_type": "markdown",
   "metadata": {},
   "source": [
    "The [Systems Biology Markup Language](http://sbml.org/Main_Page) is an XML-based standard format for distributing models.\n",
    "\n",
    "**MASSpy** supports the reading and writing of SBML Level 3. **MASSpy** attempts to convert SBML Level 1 and Level 2 models to Level 3 before loading. "
   ]
  },
  {
   "cell_type": "code",
   "execution_count": 3,
   "metadata": {
    "execution": {
     "iopub.execute_input": "2021-01-25T18:43:48.998476Z",
     "iopub.status.busy": "2021-01-25T18:43:48.956831Z",
     "iopub.status.idle": "2021-01-25T18:43:50.777869Z",
     "shell.execute_reply": "2021-01-25T18:43:50.778471Z"
    }
   },
   "outputs": [
    {
     "data": {
      "text/html": [
       "\n",
       "            <table>\n",
       "                <tr>\n",
       "                    <td><strong>Name</strong></td><td>RBC_PFK</td>\n",
       "                </tr><tr>\n",
       "                    <td><strong>Memory address</strong></td><td>0x07ffb1088aa90</td>\n",
       "                </tr><tr>\n",
       "                    <td><strong>Stoichiometric Matrix</strong></td>\n",
       "                    <td>68x76</td>\n",
       "                </tr><tr>\n",
       "                    <td><strong>Matrix Rank</strong></td>\n",
       "                    <td>63</td>\n",
       "                </tr><tr>\n",
       "                    <td><strong>Number of metabolites</strong></td>\n",
       "                    <td>68</td>\n",
       "                </tr><tr>\n",
       "                    <td><strong>Initial conditions defined</strong></td>\n",
       "                    <td>68/68</td>\n",
       "                </tr><tr>\n",
       "                    <td><strong>Number of reactions</strong></td>\n",
       "                    <td>76</td>\n",
       "                </tr><tr>\n",
       "                    <td><strong>Number of genes</strong></td>\n",
       "                    <td>0</td>\n",
       "                </tr><tr>\n",
       "                    <td><strong>Number of enzyme modules</strong></td>\n",
       "                    <td>1</td>\n",
       "                </tr><tr>\n",
       "                    <td><strong>Number of groups</strong></td>\n",
       "                    <td>16</td>\n",
       "                </tr><tr>\n",
       "                    <td><strong>Objective expression</strong></td>\n",
       "                    <td>0</td>\n",
       "                </tr><tr>\n",
       "                    <td><strong>Compartments</strong></td>\n",
       "                    <td>Cytosol</td>\n",
       "                </tr>\n",
       "            </table>\n",
       "        "
      ],
      "text/plain": [
       "<MassModel RBC_PFK at 0x7ffb1088aa90>"
      ]
     },
     "execution_count": 1,
     "metadata": {},
     "output_type": "execute_result"
    }
   ],
   "source": [
    "model = sbml.read_sbml_model(join(mass.example_data.MODELS_DIR, \"textbook.xml\"))\n",
    "model"
   ]
  },
  {
   "cell_type": "code",
   "execution_count": 4,
   "metadata": {
    "execution": {
     "iopub.execute_input": "2021-01-25T18:43:50.862646Z",
     "iopub.status.busy": "2021-01-25T18:43:50.822439Z",
     "iopub.status.idle": "2021-01-25T18:43:52.503829Z",
     "shell.execute_reply": "2021-01-25T18:43:52.504277Z"
    }
   },
   "outputs": [],
   "source": [
    "sbml.write_sbml_model(model, \"test_textbook.xml\")"
   ]
  },
  {
   "cell_type": "markdown",
   "metadata": {},
   "source": [
    "**MASSpy** utilizes the [libSBML](http://sbml.org/Software/libSBML/5.18.0/docs/python-api/) package to read and write SBML files, supporting both the [FBC](http://sbml.org/Software/libSBML/5.18.0/docs/python-api/group__fbc.html) (Version 2) and the [Groups](http://sbml.org/Software/libSBML/5.18.0/docs/python-api/group__groups.html) (Version 1) extensions.\n",
    "When reading in a model, **MASSpy** automatically detects whether the FBC and/or Groups extensions were used.\n",
    "\n",
    "To preserve information specific to `EnzymeModule` objects, the SBML Groups extension is used along with the notes section for SBML objects. The `use_groups_package` argument can be utilized to indicate whether to write `cobra.Group` objects to the SBML file, including `EnzymeModule` information. Disabling this extension may result in a loss of some enzyme specific information (e.g., categorized groups), but it does not prevent species and reactions of the enzyme module\n",
    "from being written.\n",
    "\n",
    "When writing a model, the `use_fbc_package` argument can be used to indicate whether to write additional model information (e.g., metabolite formula and charge, genes, reaction bounds) via the FBC extension. "
   ]
  },
  {
   "cell_type": "markdown",
   "metadata": {},
   "source": [
    "## JSON"
   ]
  },
  {
   "cell_type": "code",
   "execution_count": 5,
   "metadata": {
    "execution": {
     "iopub.execute_input": "2021-01-25T18:43:52.508634Z",
     "iopub.status.busy": "2021-01-25T18:43:52.507841Z",
     "iopub.status.idle": "2021-01-25T18:43:52.509840Z",
     "shell.execute_reply": "2021-01-25T18:43:52.510284Z"
    }
   },
   "outputs": [],
   "source": [
    "from mass.io import json"
   ]
  },
  {
   "cell_type": "markdown",
   "metadata": {},
   "source": [
    "**MASSpy** models have a [JSON](http://www.json.org/) representation, allowing for interoperability with the [Escher](https://escher.github.io/). \n",
    "\n",
    "See the [Network Visualization](./network_visualization.ipynb) section for additional details on working with **Escher**."
   ]
  },
  {
   "cell_type": "code",
   "execution_count": 6,
   "metadata": {
    "execution": {
     "iopub.execute_input": "2021-01-25T18:43:52.514510Z",
     "iopub.status.busy": "2021-01-25T18:43:52.513872Z",
     "iopub.status.idle": "2021-01-25T18:43:52.733234Z",
     "shell.execute_reply": "2021-01-25T18:43:52.734067Z"
    }
   },
   "outputs": [
    {
     "data": {
      "text/html": [
       "\n",
       "            <table>\n",
       "                <tr>\n",
       "                    <td><strong>Name</strong></td><td>RBC_PFK</td>\n",
       "                </tr><tr>\n",
       "                    <td><strong>Memory address</strong></td><td>0x07ffb10ad9e50</td>\n",
       "                </tr><tr>\n",
       "                    <td><strong>Stoichiometric Matrix</strong></td>\n",
       "                    <td>68x76</td>\n",
       "                </tr><tr>\n",
       "                    <td><strong>Matrix Rank</strong></td>\n",
       "                    <td>63</td>\n",
       "                </tr><tr>\n",
       "                    <td><strong>Number of metabolites</strong></td>\n",
       "                    <td>68</td>\n",
       "                </tr><tr>\n",
       "                    <td><strong>Initial conditions defined</strong></td>\n",
       "                    <td>68/68</td>\n",
       "                </tr><tr>\n",
       "                    <td><strong>Number of reactions</strong></td>\n",
       "                    <td>76</td>\n",
       "                </tr><tr>\n",
       "                    <td><strong>Number of genes</strong></td>\n",
       "                    <td>0</td>\n",
       "                </tr><tr>\n",
       "                    <td><strong>Number of enzyme modules</strong></td>\n",
       "                    <td>1</td>\n",
       "                </tr><tr>\n",
       "                    <td><strong>Number of groups</strong></td>\n",
       "                    <td>16</td>\n",
       "                </tr><tr>\n",
       "                    <td><strong>Objective expression</strong></td>\n",
       "                    <td>0</td>\n",
       "                </tr><tr>\n",
       "                    <td><strong>Compartments</strong></td>\n",
       "                    <td>Cytosol</td>\n",
       "                </tr>\n",
       "            </table>\n",
       "        "
      ],
      "text/plain": [
       "<MassModel RBC_PFK at 0x7ffb10ad9e50>"
      ]
     },
     "execution_count": 1,
     "metadata": {},
     "output_type": "execute_result"
    }
   ],
   "source": [
    "model = json.load_json_model(join(mass.example_data.MODELS_DIR, \"textbook.json\"))\n",
    "model"
   ]
  },
  {
   "cell_type": "code",
   "execution_count": 7,
   "metadata": {
    "execution": {
     "iopub.execute_input": "2021-01-25T18:43:52.774718Z",
     "iopub.status.busy": "2021-01-25T18:43:52.773441Z",
     "iopub.status.idle": "2021-01-25T18:43:52.785686Z",
     "shell.execute_reply": "2021-01-25T18:43:52.786457Z"
    }
   },
   "outputs": [],
   "source": [
    "json.save_json_model(model, \"test_textbook.json\")"
   ]
  },
  {
   "cell_type": "markdown",
   "metadata": {},
   "source": [
    "Consider having the [simplejson](https://pypi.org/project/simplejson/) package to speed up reading/writing of JSON models."
   ]
  },
  {
   "cell_type": "markdown",
   "metadata": {},
   "source": [
    "### JSON schema\n",
    "The JSON schema for **MASSpy** models is stored in [mass.io.json](../autoapi/mass/io/json/index.rst#mass.io.json.JSON_SCHEMA) as the `JSON_SCHEMA` variable. It can be accessed via the following:"
   ]
  },
  {
   "cell_type": "code",
   "execution_count": 8,
   "metadata": {
    "execution": {
     "iopub.execute_input": "2021-01-25T18:43:52.800056Z",
     "iopub.status.busy": "2021-01-25T18:43:52.799131Z",
     "iopub.status.idle": "2021-01-25T18:43:52.802600Z",
     "shell.execute_reply": "2021-01-25T18:43:52.803064Z"
    },
    "scrolled": true
   },
   "outputs": [
    {
     "data": {
      "text/plain": [
       "{'$schema': 'http://json-schema.org/draft-07/schema#',\n",
       " 'title': 'MASS',\n",
       " 'description': 'JSON representation of MASS model',\n",
       " 'type': 'object',\n",
       " 'properties': {'id': {'type': 'string'},\n",
       "  'name': {'type': 'string'},\n",
       "  'version': {'type': 'integer', 'default': 1},\n",
       "  'reactions': {'type': 'array',\n",
       "   'items': {'type': 'object',\n",
       "    'properties': {'id': {'type': 'string'},\n",
       "     'name': {'type': 'string'},\n",
       "     'reversible': {'type': 'boolean'},\n",
       "     'metabolites': {'type': 'object',\n",
       "      'patternProperties': {'.*': {'type': 'number'}}},\n",
       "     'gene_reaction_rule': {'type': 'string'},\n",
       "     'lower_bound': {'type': 'number'},\n",
       "     'upper_bound': {'type': 'number'},\n",
       "     'subsystem': {'type': 'string'},\n",
       "     'steady_state_flux': {'type': 'number'},\n",
       "     'forward_rate_constant': {'type': 'number'},\n",
       "     'reverse_rate_constant': {'type': 'number'},\n",
       "     'equilibriun_constant': {'type': 'number'},\n",
       "     'objective_coefficient': {'type': 'number', 'default': 0},\n",
       "     'variable_kind': {'type': 'string',\n",
       "      'pattern': 'integer|continuous',\n",
       "      'default': 'continuous'},\n",
       "     '_rate': {'type': 'string'},\n",
       "     'notes': {'type': 'object'},\n",
       "     'annotation': {'type': 'object'},\n",
       "     'enzyme_module_id': {'type': 'string'}}},\n",
       "   'required': ['id',\n",
       "    'name',\n",
       "    'reversible',\n",
       "    'metabolites',\n",
       "    'lower_bound',\n",
       "    'upper_bound',\n",
       "    'gene_reaction_rule'],\n",
       "   'additionalProperties': False},\n",
       "  'metabolites': {'type': 'array',\n",
       "   'items': {'type': 'object',\n",
       "    'properties': {'id': {'type': 'string'},\n",
       "     'name': {'type': 'string'},\n",
       "     'formula': {'type': 'string'},\n",
       "     'charge': {'type': 'integer'},\n",
       "     'compartment': {'type': 'string', 'pattern': '[a-z]{1,2}'},\n",
       "     'fixed': {'type': 'boolean'},\n",
       "     '_initial_condition': {'type': 'number',\n",
       "      'minimum': 0,\n",
       "      'exclusiveMinimum': False},\n",
       "     '_constraint_sense': {'type': 'string',\n",
       "      'default': 'E',\n",
       "      'pattern': 'E|L|G'},\n",
       "     '_bound': {'type': 'number', 'default': 0},\n",
       "     'notes': {'type': 'object'},\n",
       "     'annotation': {'type': 'object'},\n",
       "     '_bound_metabolites': {'type': 'object',\n",
       "      'patternProperties': {'.*': {'type': 'number'}}},\n",
       "     'enzyme_module_id': {'type': 'string'}},\n",
       "    'required': ['id', 'name'],\n",
       "    'additionalProperties': False}},\n",
       "  'genes': {'type': 'array',\n",
       "   'items': {'type': 'object',\n",
       "    'properties': {'id': {'type': 'string'},\n",
       "     'name': {'type': 'string'},\n",
       "     'notes': {'type': 'object'},\n",
       "     'annotation': {'type': 'object'}},\n",
       "    'required': ['id', 'name'],\n",
       "    'additionalProperties': False}},\n",
       "  'enzyme_modules': {'type': 'array',\n",
       "   'items': {'type': 'object',\n",
       "    'properties': {'id': {'type': 'string'},\n",
       "     'name': {'type': 'string'},\n",
       "     'subsystem': {'type': 'string'},\n",
       "     'enzyme_module_ligands': {'type': 'array', 'allOf': {'type': 'string'}},\n",
       "     'enzyme_module_forms': {'type': 'array', 'allOf': {'type': 'string'}},\n",
       "     'enzyme_module_reactions': {'type': 'array', 'allOf': {'type': 'string'}},\n",
       "     'enzyme_module_ligands_categorized': {'type': 'object',\n",
       "      'allOf': {'type': 'array', 'allOf': {'type': 'string'}}},\n",
       "     'enzyme_module_forms_categorized': {'type': 'object',\n",
       "      'allOf': {'type': 'array', 'allOf': {'type': 'string'}}},\n",
       "     'enzyme_module_reactions_categorized': {'type': 'object',\n",
       "      'allOf': {'type': 'array', 'allOf': {'type': 'string'}}},\n",
       "     'enzyme_concentration_total': {'type': 'number',\n",
       "      'minimum': 0,\n",
       "      'exclusiveMinimum': False},\n",
       "     'enzyme_rate': {'type': 'number'},\n",
       "     'enzyme_concentration_total_equation': {'type': 'string'},\n",
       "     'enzyme_rate_equation': {'type': 'string'}}},\n",
       "   'required': ['id', 'name'],\n",
       "   'additionalProperties': False},\n",
       "  'units': {'type': 'array',\n",
       "   'items': {'type': 'object',\n",
       "    'properties': {'kind': {'type': 'string'},\n",
       "     'exponent': {'type': 'number'},\n",
       "     'scale': {'type': 'number'},\n",
       "     'multiplier': {'type': 'number'}}}},\n",
       "  'boundary_conditions': {'type': 'object',\n",
       "   'allOf': {'type': 'number', 'minimum': 0}},\n",
       "  'custom_rates': {'type': 'object',\n",
       "   'patternProperties': {'.*': {'type': 'string'}}},\n",
       "  'custom_parameters': {'type': 'object',\n",
       "   'patternProperties': {'.*': {'type': 'number'}}},\n",
       "  'compartments': {'type': 'object',\n",
       "   'patternProperties': {'[a-z]{1,2}': {'type': 'string'}}},\n",
       "  'notes': {'type': 'object'},\n",
       "  'annotation': {'type': 'object'},\n",
       "  'enzyme_module_ligands': {'type': 'array', 'allOf': {'type': 'string'}},\n",
       "  'enzyme_module_forms': {'type': 'array', 'allOf': {'type': 'string'}},\n",
       "  'enzyme_module_reactions': {'type': 'array', 'allOf': {'type': 'string'}},\n",
       "  '_enzyme_module_ligands_categorized': {'type': 'object',\n",
       "   'allOf': {'type': 'array', 'allOf': {'type': 'string'}}},\n",
       "  '_enzyme_module_forms_categorized': {'type': 'object',\n",
       "   'allOf': {'type': 'array', 'allOf': {'type': 'string'}}},\n",
       "  '_enzyme_module_reactions_categorized': {'type': 'object',\n",
       "   'allOf': {'type': 'array', 'allOf': {'type': 'string'}}},\n",
       "  '_enzyme_concentration_total': {'type': 'number',\n",
       "   'minimum': 0,\n",
       "   'exclusiveMinimum': False},\n",
       "  '_enzyme_rate': {'type': 'number'},\n",
       "  '_enzyme_rate_equation': {'type': 'string'}},\n",
       " 'required': ['id', 'reactions', 'metabolites', 'genes'],\n",
       " 'additionalProperties': False}"
      ]
     },
     "execution_count": 1,
     "metadata": {},
     "output_type": "execute_result"
    }
   ],
   "source": [
    "# To view the JSON schema, remove the semicolon\n",
    "json.JSON_SCHEMA;"
   ]
  },
  {
   "cell_type": "markdown",
   "metadata": {},
   "source": [
    "## Converting between file formats\n",
    "\n",
    "Often there are times where one program or package is used to execute a specific task, yet a downstream task requires the use of a different program or package. Consequently, the ability to import a model written using one format and subsequently export it to another is essential in these scenarios. The submodules of ``mass.io`` can be used to facilitate the import/export of models in different formats for this purpose. \n",
    "\n",
    "One possible scenario in which the conversion between file formats is necessary involves the visualizion of an SBML model on a network map using the [Escher](https://escher.github.io/) <cite data-cite=\"KDragerE+15\">(King et al., 2015)</cite> visualization tool. \n",
    "\n",
    "See [Visualizing SBML models with Escher in Python](./network_visualization.ipynb#Visualizing-SBML-models-with-Escher-in-Python) for an example demonstrating how **MASSpy** facilitates file conversion for model exchangability."
   ]
  }
 ],
 "metadata": {
  "kernelspec": {
   "display_name": "Python 3",
   "language": "python",
   "name": "python3"
  },
  "language_info": {
   "codemirror_mode": {
    "name": "ipython",
    "version": 3
   },
   "file_extension": ".py",
   "mimetype": "text/x-python",
   "name": "python",
   "nbconvert_exporter": "python",
   "pygments_lexer": "ipython3",
   "version": "3.7.9"
  }
 },
 "nbformat": 4,
 "nbformat_minor": 2
}
