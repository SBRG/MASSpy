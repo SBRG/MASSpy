{
 "cells": [
  {
   "cell_type": "markdown",
   "metadata": {},
   "source": [
    "# Pyruvate Kinase (PYK)\n",
    "To construct the pyruvate kinase model, first we import __masspy__ and any additional packages that will be necessary.  "
   ]
  },
  {
   "cell_type": "code",
   "execution_count": 1,
   "metadata": {},
   "outputs": [],
   "source": [
    "import matplotlib.pyplot as plt\n",
    "\n",
    "import numpy as np\n",
    "\n",
    "from scipy import optimize\n",
    "\n",
    "import sympy as sym\n",
    "\n",
    "from cobra import DictList\n",
    "\n",
    "from mass import MassMetabolite, Simulation, qcqa_model\n",
    "from mass.enzymes import EnzymeForm, EnzymeModel\n",
    "from mass.io import json#, sbml\n",
    "from mass.util import Keq2k, k2Keq, strip_time"
   ]
  },
  {
   "cell_type": "markdown",
   "metadata": {},
   "source": [
    "Note that the total enzyme concentration of PYK is \\\\(69 nM = 0.069 \\mu M = 0.000069 mM\\\\)."
   ]
  },
  {
   "cell_type": "markdown",
   "metadata": {},
   "source": [
    "## Model Construction\n",
    "The first step of creating the PYK model is to define the EnzymeModel object."
   ]
  },
  {
   "cell_type": "code",
   "execution_count": 2,
   "metadata": {},
   "outputs": [],
   "source": [
    "PYK = EnzymeModel(\"PYK\", name=\"Pyruvate Kinase\", subsystem=\"Glycolysis\")"
   ]
  },
  {
   "cell_type": "markdown",
   "metadata": {},
   "source": [
    "## Metabolites\n",
    "### Ligands\n",
    "The next step is to define all of the ligands involved in the PYK catalytic mechanism using identifiers and the names found in the BiGG Database (http://bigg.ucsd.edu/). In order to ensure our model is physiologically accurate, it is important to provide the __formula__ keyword with a string representing the chemical formula for each metabolite, and the  __charge__ keyword with an integer representing the metabolite's ionic charge (Note that neutrally charged metabolites are provided with 0). To indicate that the cytosol is the cellular compartment in which the enzymatic reaction occurs, the string \"c\" is provided to the __compartment__ keyword.\n",
    "\n",
    "First, the activators, inhibitors, cofactors, and the substrate associated with this enzyme. There are 6 species which must be considered."
   ]
  },
  {
   "cell_type": "code",
   "execution_count": 3,
   "metadata": {},
   "outputs": [],
   "source": [
    "pep_c = MassMetabolite(\n",
    "    id=\"pep_c\",\n",
    "    name=\"Phosphoenolpyruvate\",\n",
    "    formula=\"C3H2O6P\",\n",
    "    charge=-3,\n",
    "    compartment=\"c\")\n",
    "pyr_c = MassMetabolite(\n",
    "    id=\"pyr_c\",\n",
    "    name=\"Pyruvate\",\n",
    "    formula=\"C3H3O3\",\n",
    "    charge=-1,\n",
    "    compartment=\"c\")\n",
    "fdp_c = MassMetabolite(\n",
    "    id=\"fdp_c\",\n",
    "    name=\"D-Fructose 1,6-bisphosphate\",\n",
    "    formula=\"C6H10O12P2\",\n",
    "    charge=-4,\n",
    "    compartment=\"c\")\n",
    "atp_c = MassMetabolite(\n",
    "    id=\"atp_c\",\n",
    "    name=\"ATP\",\n",
    "    formula=\"C10H12N5O13P3\",\n",
    "    charge=-4,\n",
    "    compartment=\"c\")\n",
    "adp_c = MassMetabolite(\n",
    "    id=\"adp_c\",\n",
    "    name=\"ADP\",\n",
    "    formula=\"C10H12N5O10P2\",\n",
    "    charge=-3,\n",
    "    compartment=\"c\")\n",
    "h_c = MassMetabolite(\n",
    "    id=\"h_c\",\n",
    "    name=\"H+\",\n",
    "    formula=\"H\",\n",
    "    charge=1,\n",
    "    compartment=\"c\")"
   ]
  },
  {
   "cell_type": "markdown",
   "metadata": {},
   "source": [
    "After generating the ligands, they are added to the EnzymeModel. The ligands of the EnzymeModel can be viewed using the __EnzymeModel.categorized_ligands__ property. Note that all of the ligands are categorized as undefined. "
   ]
  },
  {
   "cell_type": "code",
   "execution_count": 4,
   "metadata": {},
   "outputs": [
    {
     "name": "stdout",
     "output_type": "stream",
     "text": [
      "Undefined: ['adp_c', 'atp_c', 'fdp_c', 'h_c', 'pep_c', 'pyr_c']\n"
     ]
    }
   ],
   "source": [
    "PYK.add_metabolites([pep_c, adp_c, fdp_c, atp_c, pyr_c, h_c])\n",
    "for category, ligands in PYK.categorized_ligands.items():\n",
    "    print(\"{0}: {1}\".format(category, str([m.id for m in ligands])))"
   ]
  },
  {
   "cell_type": "markdown",
   "metadata": {},
   "source": [
    "When metabolites are first added to an EnzymeModel, they are placed in the \"Undefined\" category. The __EnzymeModel.categorized_ligands__ property can also be used to reassign metabolites to user-defined categories by providing a dictionary where keys are the categories and values are the metabolites. Note that a metabolite can be given placed in more than one category."
   ]
  },
  {
   "cell_type": "code",
   "execution_count": 5,
   "metadata": {},
   "outputs": [
    {
     "name": "stdout",
     "output_type": "stream",
     "text": [
      "Substrates: ['pep_c']\n",
      "Cofactors: ['adp_c', 'h_c']\n",
      "Activators: ['fdp_c']\n",
      "Inhibitors: ['atp_c']\n",
      "Products: ['atp_c', 'pyr_c']\n"
     ]
    }
   ],
   "source": [
    "PYK.categorized_ligands =  {\n",
    "    \"Substrates\": pep_c,\n",
    "    \"Cofactors\": [adp_c, h_c],\n",
    "    \"Activators\": [fdp_c],\n",
    "    \"Inhibitors\": atp_c,\n",
    "    \"Products\": [pyr_c, atp_c]}\n",
    "for category, ligands in PYK.categorized_ligands.items():\n",
    "    print(\"{0}: {1}\".format(category, str([m.id for m in ligands])))"
   ]
  },
  {
   "cell_type": "markdown",
   "metadata": {},
   "source": [
    "### Enzyme Forms\n",
    "\n",
    "This PYK model will be considered a homotetramer with a random sequential mechanism and will be based on the (Monod-Wyman-Changeux) MWC model for ligand binding and allosteric regulation. There is also a categorized enzyme form dictionary, accessible via __EnzymeModel.categorized_enzyme_forms__, that behaves similarly to the __EnzymeModel.categorized_ligands__ attribute, as shown below. Alternatively, one can access a __cobra.DictList__ of all EnzymeForms through the __EnzymeModel.enzyme_forms__ attribute."
   ]
  },
  {
   "cell_type": "code",
   "execution_count": 6,
   "metadata": {},
   "outputs": [
    {
     "name": "stdout",
     "output_type": "stream",
     "text": [
      "Relaxed: ['pyk_R0_AP_c', 'pyk_R0_A_c', 'pyk_R0_P_c', 'pyk_R0_c', 'pyk_R1_AP_c', 'pyk_R1_A_c', 'pyk_R1_P_c', 'pyk_R1_c', 'pyk_R2_AP_c', 'pyk_R2_A_c', 'pyk_R2_P_c', 'pyk_R2_c', 'pyk_R3_AP_c', 'pyk_R3_A_c', 'pyk_R3_P_c', 'pyk_R3_c', 'pyk_R4_AP_c', 'pyk_R4_A_c', 'pyk_R4_P_c', 'pyk_R4_c']\n",
      "Tense: ['pyk_T0_c', 'pyk_T1_c', 'pyk_T2_c', 'pyk_T3_c', 'pyk_T4_c']\n"
     ]
    }
   ],
   "source": [
    "# Number of identical subunits\n",
    "n_subunits = 4\n",
    "\n",
    "for i in range(n_subunits + 1):\n",
    "    # Make enzyme forms per number of bound activators (Up to 4 Total)\n",
    "    PYK.make_enzyme_form(\n",
    "        id=\"pyk_R{0:d}_c\".format(i), \n",
    "        name=\"Automatic\", \n",
    "        categories=\"Relaxed\", \n",
    "        bound_catalytic={},\n",
    "        bound_effectors={fdp_c: i},\n",
    "        compartment=\"c\");\n",
    "\n",
    "    PYK.make_enzyme_form(\n",
    "        id=\"pyk_R{0:d}_A_c\".format(i), \n",
    "        name=\"Automatic\", \n",
    "        categories=\"Relaxed\", \n",
    "        bound_catalytic={adp_c: 1},\n",
    "        bound_effectors={fdp_c: i},\n",
    "        compartment=\"c\");\n",
    "    \n",
    "    PYK.make_enzyme_form(\n",
    "        id=\"pyk_R{0:d}_P_c\".format(i), \n",
    "        name=\"Automatic\", \n",
    "        categories=\"Relaxed\", \n",
    "        bound_catalytic={pep_c: 1},\n",
    "        bound_effectors={fdp_c: i},\n",
    "        compartment=\"c\");\n",
    "    \n",
    "    PYK.make_enzyme_form(\n",
    "        id=\"pyk_R{0:d}_AP_c\".format(i), \n",
    "        name=\"Automatic\", \n",
    "        categories=\"Relaxed\", \n",
    "        bound_catalytic={adp_c: 1, pep_c: 1},\n",
    "        bound_effectors={fdp_c: i},\n",
    "        compartment=\"c\");\n",
    "\n",
    "    # Make enzyme forms per number of bound inhibitors (Up to 4 Total)\n",
    "    PYK.make_enzyme_form(\n",
    "        id=\"pyk_T{0:d}_c\".format(i), \n",
    "        name=\"Automatic\", \n",
    "        categories=\"Tense\", \n",
    "        bound_catalytic={},\n",
    "        bound_effectors={atp_c: i},\n",
    "        compartment=\"c\");\n",
    "    \n",
    "# Display newly made EnzymeForms in their categories\n",
    "for category, enzyme_forms in PYK.categorized_enzyme_forms.items():\n",
    "    print(\"{0}: {1}\".format(category, str([r.id for r in enzyme_forms])))"
   ]
  },
  {
   "cell_type": "markdown",
   "metadata": {},
   "source": [
    "#### Optional: Define compartment"
   ]
  },
  {
   "cell_type": "markdown",
   "metadata": {},
   "source": [
    "Because the character \"c\" represents the cytosol compartment, it is recommended to define and set the compartment in the __EnzymeModel.compartments__ attribute."
   ]
  },
  {
   "cell_type": "code",
   "execution_count": 7,
   "metadata": {},
   "outputs": [
    {
     "name": "stdout",
     "output_type": "stream",
     "text": [
      "{'c': 'Cytosol'}\n"
     ]
    }
   ],
   "source": [
    "PYK.compartments = {\"c\": \"Cytosol\"}\n",
    "print(PYK.compartments)"
   ]
  },
  {
   "cell_type": "markdown",
   "metadata": {},
   "source": [
    "## Reactions\n",
    "### Enzyme Reactions\n",
    "Once all of the MassMetabolite and EnzymeForm objects have been created for each of the species in PYK, the next step is to define all of the reactions that occur in its mechanism. The __EnzymeModel.make_enzyme_reaction__ method can be used to create an enzyme binding reaction, a reaction represnting a transition between states, etc. It requires the same parameters needed to initialize a MassReaction, and it allows for one to define a category for the reaction, similar to how ligands can be categorized and accessible through the __EnzymeModel.enzyme_reactions__ property. Additionally, metabolites and EnzymeForms can also be directly added to the reaction by providing the __add_metabolites__ kwarg a dictionary, where keys can be EnzymeForm and MassMetabolites objects or their ids if they already exist in the EnzymeModel, and values are the stoichiometric coefficients (reactants have negative coefficients, products have positive ones). Note that after the creation of each MassReaction object, the reaction is added to the EnzymeModel.\n",
    "\n",
    "In this model of PYK, there are 34 reactions occuring."
   ]
  },
  {
   "cell_type": "code",
   "execution_count": 8,
   "metadata": {
    "scrolled": false
   },
   "outputs": [
    {
     "name": "stdout",
     "output_type": "stream",
     "text": [
      "pep_c binding: ['PYK_R01', 'PYK_R03', 'PYK_R11', 'PYK_R13', 'PYK_R21', 'PYK_R23', 'PYK_R31', 'PYK_R33', 'PYK_R41', 'PYK_R43']\n",
      "adp_c binding: ['PYK_R02', 'PYK_R04', 'PYK_R12', 'PYK_R14', 'PYK_R22', 'PYK_R24', 'PYK_R32', 'PYK_R34', 'PYK_R42', 'PYK_R44']\n",
      "catalyzation: ['PYK_R05', 'PYK_R15', 'PYK_R25', 'PYK_R35', 'PYK_R45']\n",
      "fdp_c activation: ['PYK_R10', 'PYK_R20', 'PYK_R30', 'PYK_R40']\n",
      "atp_c inhibition: ['PYK_T1', 'PYK_T2', 'PYK_T3', 'PYK_T4']\n",
      "R/T transition: ['PYK_L']\n"
     ]
    }
   ],
   "source": [
    "for i in range(n_subunits + 1):\n",
    "    # Make reactions for enzyme-ligand binding and catalytzation per number of bound activators (Up to 4 Total)\n",
    "    PYK.make_enzyme_reaction(\n",
    "        id=\"PYK_R{0:d}1\".format(i), \n",
    "        name=\"Automatic\",\n",
    "        subsystem=\"Glycolysis\",\n",
    "        reversible=True,\n",
    "        categories=\"pep_c binding\",\n",
    "        metabolites_to_add={\n",
    "            \"pyk_R{0:d}_c\".format(i): -1, \n",
    "            \"pep_c\": -1, \n",
    "            \"pyk_R{0:d}_P_c\".format(i): 1})\n",
    "    \n",
    "    PYK.make_enzyme_reaction(\n",
    "        id=\"PYK_R{0:d}2\".format(i), \n",
    "        name=\"Automatic\",\n",
    "        subsystem=\"Glycolysis\",\n",
    "        reversible=True,\n",
    "        categories=\"adp_c binding\",\n",
    "        metabolites_to_add={\n",
    "            \"pyk_R{0:d}_c\".format(i): -1, \n",
    "            \"adp_c\": -1, \n",
    "            \"pyk_R{0:d}_A_c\".format(i): 1})\n",
    "    \n",
    "    PYK.make_enzyme_reaction(\n",
    "        id=\"PYK_R{0:d}3\".format(i), \n",
    "        name=\"Automatic\",\n",
    "        subsystem=\"Glycolysis\",\n",
    "        reversible=True,\n",
    "        categories=\"pep_c binding\",\n",
    "        metabolites_to_add={\n",
    "            \"pyk_R{0:d}_A_c\".format(i): -1, \n",
    "            \"pep_c\": -1, \n",
    "            \"pyk_R{0:d}_AP_c\".format(i): 1})\n",
    "    \n",
    "    PYK.make_enzyme_reaction(\n",
    "        id=\"PYK_R{0:d}4\".format(i), \n",
    "        name=\"Automatic\",\n",
    "        subsystem=\"Glycolysis\",\n",
    "        reversible=True,\n",
    "        categories=\"adp_c binding\",\n",
    "        metabolites_to_add={\n",
    "            \"pyk_R{0:d}_P_c\".format(i): -1, \n",
    "            \"adp_c\": -1, \n",
    "            \"pyk_R{0:d}_AP_c\".format(i): 1})\n",
    "    \n",
    "    PYK.make_enzyme_reaction(\n",
    "        id=\"PYK_R{0:d}5\".format(i), \n",
    "        name=\"Automatic\",\n",
    "        subsystem=\"Glycolysis\",\n",
    "        reversible=False,\n",
    "        categories=\"catalyzation\",\n",
    "        metabolites_to_add={\n",
    "            \"pyk_R{0:d}_AP_c\".format(i): -1, \n",
    "            \"h_c\": -1, \n",
    "            \"pyk_R{0:d}_c\".format(i): 1, \n",
    "            \"atp_c\": 1, \n",
    "            \"pyr_c\": 1})\n",
    "    \n",
    "    if i < n_subunits:\n",
    "        # Make enzyme reactions for enzyme-activator binding\n",
    "        PYK.make_enzyme_reaction(\n",
    "            id=\"PYK_R{0:d}0\".format(i + 1), \n",
    "            name=\"Automatic\",\n",
    "            subsystem=\"Glycolysis\",\n",
    "            reversible=True,\n",
    "            categories=\"fdp_c activation\",\n",
    "            metabolites_to_add={\n",
    "                \"pyk_R{0:d}_c\".format(i): -1, \n",
    "                \"fdp_c\": -1, \n",
    "                \"pyk_R{0:d}_c\".format(i + 1): 1})\n",
    "\n",
    "        # Make enzyme reactions for enzyme-inhibitor binding\n",
    "        PYK.make_enzyme_reaction(\n",
    "            id=\"PYK_T{0:d}\".format(i + 1), \n",
    "            name=\"Automatic\",\n",
    "            subsystem=\"Glycolysis\",\n",
    "            reversible=True,\n",
    "            categories=\"atp_c inhibition\",\n",
    "            metabolites_to_add={\n",
    "                \"pyk_T{0:d}_c\".format(i): -1, \n",
    "                \"atp_c\": -1, \n",
    "                \"pyk_T{0:d}_c\".format(i + 1): 1})\n",
    "# Make reaction representing enzyme transition from R to T state\n",
    "PYK.make_enzyme_reaction(\n",
    "    id=\"PYK_L\",\n",
    "    name=\"Automatic\",\n",
    "    subsystem=\"Glycolysis\",\n",
    "    reversible=True,\n",
    "    categories=\"R/T transition\",\n",
    "    metabolites_to_add={\n",
    "        \"pyk_R0_c\": -1, \n",
    "        \"pyk_T0_c\": 1})\n",
    "\n",
    "# Display newly made reactions in their categories\n",
    "for category, enzyme_reactions in PYK.categorized_enzyme_reactions.items():\n",
    "    print(\"{0}: {1}\".format(category, str([r.id for r in enzyme_reactions])))"
   ]
  },
  {
   "cell_type": "markdown",
   "metadata": {},
   "source": [
    "### Create and  Unify Rate Parameters\n",
    "The next step is to unify rate parameters of binding steps that are not unique. For example, PEP binding to the enzyme occurs both when the enzyme is free and when the enzyme is bound to the cofactor ADP. Whether ADP is bound does not affect the rate parameters. This also holds true for the activated forms of PYK performing the same reactions. Therefore, custom rate laws are used to reduce the number of parameters that need to be defined and better represent the model.\n",
    "\n",
    "The rate laws can be unified using the __EnzymeModel.unify_rate_parameters__ method. This method requires a list of reactions whose rate laws that should be identical, along with a string representation of the new identifier to use on the unified parameters. There is also the optional kwarg argument __prefix__, which if set to True, prefixes the new parameter identifier with the enzyme model identifier. This can be used to help prevent custom parameters from being replaced when multiple models are merged. \n",
    "\n",
    "#### Allosteric Transitions: Symmetry Model\n",
    "\n",
    "Once rate parameters are unified, the allosteric regulation of this enzyme must be accounted for. Because this model is to be based on the (Monod-Wyman-Changeux) MWC model for ligand binding and allosteric regulation, the rate laws of the allosteric binding reactions must be adjusted to reflect the symmetry in the model using the number of identical binding sites to help determine the scalars for the parameters. \n",
    "\n",
    "For this model, PYK is considered a homotetramer, meaning it has four identical subunits \\\\(\\nu = 4\\\\). Each subunit can be allosterically activated by FDP or inhibited by ATP. The helper functions __k2Keq__ and __Keq2k__ will be used to help facilitate the rate law changes in this example so that the final rate laws are dependent on the forward rate (kf) and equilibrium (Keq) constants."
   ]
  },
  {
   "cell_type": "code",
   "execution_count": 9,
   "metadata": {},
   "outputs": [
    {
     "name": "stdout",
     "output_type": "stream",
     "text": [
      "Category: pep_c binding\n",
      "-----------------------\n",
      "PYK_R01: kf_PYK_P*(pep_c(t)*pyk_R0_c(t) - pyk_R0_P_c(t)/Keq_PYK_P)\n",
      "PYK_R03: kf_PYK_P*(pep_c(t)*pyk_R0_A_c(t) - pyk_R0_AP_c(t)/Keq_PYK_P)\n",
      "PYK_R11: kf_PYK_P*(pep_c(t)*pyk_R1_c(t) - pyk_R1_P_c(t)/Keq_PYK_P)\n",
      "PYK_R13: kf_PYK_P*(pep_c(t)*pyk_R1_A_c(t) - pyk_R1_AP_c(t)/Keq_PYK_P)\n",
      "PYK_R21: kf_PYK_P*(pep_c(t)*pyk_R2_c(t) - pyk_R2_P_c(t)/Keq_PYK_P)\n",
      "PYK_R23: kf_PYK_P*(pep_c(t)*pyk_R2_A_c(t) - pyk_R2_AP_c(t)/Keq_PYK_P)\n",
      "PYK_R31: kf_PYK_P*(pep_c(t)*pyk_R3_c(t) - pyk_R3_P_c(t)/Keq_PYK_P)\n",
      "PYK_R33: kf_PYK_P*(pep_c(t)*pyk_R3_A_c(t) - pyk_R3_AP_c(t)/Keq_PYK_P)\n",
      "PYK_R41: kf_PYK_P*(pep_c(t)*pyk_R4_c(t) - pyk_R4_P_c(t)/Keq_PYK_P)\n",
      "PYK_R43: kf_PYK_P*(pep_c(t)*pyk_R4_A_c(t) - pyk_R4_AP_c(t)/Keq_PYK_P)\n",
      "\n",
      "Category: adp_c binding\n",
      "-----------------------\n",
      "PYK_R02: kf_PYK_A*(adp_c(t)*pyk_R0_c(t) - pyk_R0_A_c(t)/Keq_PYK_A)\n",
      "PYK_R04: kf_PYK_A*(adp_c(t)*pyk_R0_P_c(t) - pyk_R0_AP_c(t)/Keq_PYK_A)\n",
      "PYK_R12: kf_PYK_A*(adp_c(t)*pyk_R1_c(t) - pyk_R1_A_c(t)/Keq_PYK_A)\n",
      "PYK_R14: kf_PYK_A*(adp_c(t)*pyk_R1_P_c(t) - pyk_R1_AP_c(t)/Keq_PYK_A)\n",
      "PYK_R22: kf_PYK_A*(adp_c(t)*pyk_R2_c(t) - pyk_R2_A_c(t)/Keq_PYK_A)\n",
      "PYK_R24: kf_PYK_A*(adp_c(t)*pyk_R2_P_c(t) - pyk_R2_AP_c(t)/Keq_PYK_A)\n",
      "PYK_R32: kf_PYK_A*(adp_c(t)*pyk_R3_c(t) - pyk_R3_A_c(t)/Keq_PYK_A)\n",
      "PYK_R34: kf_PYK_A*(adp_c(t)*pyk_R3_P_c(t) - pyk_R3_AP_c(t)/Keq_PYK_A)\n",
      "PYK_R42: kf_PYK_A*(adp_c(t)*pyk_R4_c(t) - pyk_R4_A_c(t)/Keq_PYK_A)\n",
      "PYK_R44: kf_PYK_A*(adp_c(t)*pyk_R4_P_c(t) - pyk_R4_AP_c(t)/Keq_PYK_A)\n",
      "\n",
      "Category: catalyzation\n",
      "----------------------\n",
      "PYK_R05: kf_PYK*pyk_R0_AP_c(t)\n",
      "PYK_R15: kf_PYK*pyk_R1_AP_c(t)\n",
      "PYK_R25: kf_PYK*pyk_R2_AP_c(t)\n",
      "PYK_R35: kf_PYK*pyk_R3_AP_c(t)\n",
      "PYK_R45: kf_PYK*pyk_R4_AP_c(t)\n",
      "\n",
      "Category: fdp_c activation\n",
      "--------------------------\n",
      "PYK_R10: kf_PYK_ACT*(4*fdp_c(t)*pyk_R0_c(t) - pyk_R1_c(t)/Keq_PYK_ACT)\n",
      "PYK_R20: kf_PYK_ACT*(3*fdp_c(t)*pyk_R1_c(t) - 2*pyk_R2_c(t)/Keq_PYK_ACT)\n",
      "PYK_R30: kf_PYK_ACT*(2*fdp_c(t)*pyk_R2_c(t) - 3*pyk_R3_c(t)/Keq_PYK_ACT)\n",
      "PYK_R40: kf_PYK_ACT*(fdp_c(t)*pyk_R3_c(t) - 4*pyk_R4_c(t)/Keq_PYK_ACT)\n",
      "\n",
      "Category: atp_c inhibition\n",
      "--------------------------\n",
      "PYK_T1: kf_PYK_I*(4*atp_c(t)*pyk_T0_c(t) - pyk_T1_c(t)/Keq_PYK_I)\n",
      "PYK_T2: kf_PYK_I*(3*atp_c(t)*pyk_T1_c(t) - 2*pyk_T2_c(t)/Keq_PYK_I)\n",
      "PYK_T3: kf_PYK_I*(2*atp_c(t)*pyk_T2_c(t) - 3*pyk_T3_c(t)/Keq_PYK_I)\n",
      "PYK_T4: kf_PYK_I*(atp_c(t)*pyk_T3_c(t) - 4*pyk_T4_c(t)/Keq_PYK_I)\n",
      "\n",
      "Category: R/T transition\n",
      "------------------------\n",
      "PYK_L: kf_PYK_L*(pyk_R0_c(t) - pyk_T0_c(t)/Keq_PYK_L)\n",
      "\n"
     ]
    }
   ],
   "source": [
    "enzyme_prefix = True\n",
    "abbreviations = [\"P\", \"A\", \"I\", \"ACT\"]\n",
    "ligands = [pep_c, adp_c, atp_c, fdp_c]\n",
    "\n",
    "for met, unified_id in zip(ligands, abbreviations):\n",
    "    category = {\"P\": \"binding\",\n",
    "                \"A\": \"binding\",\n",
    "                \"I\": \"inhibition\",\n",
    "                \"ACT\": \"activation\"}[unified_id]\n",
    "    reactions = PYK.categorized_enzyme_reactions[\" \".join((met.id, category))]\n",
    "    PYK.unify_rate_parameters(reactions, unified_id, rate_type=2, enzyme_prefix=enzyme_prefix)\n",
    "    # Add the coefficients to make symmetry model rate laws for activation and inhibition \n",
    "    if unified_id in [\"I\", \"ACT\"]:\n",
    "        for i, reaction in enumerate(reactions):\n",
    "            custom_rate = str(strip_time((reaction.rate)))\n",
    "            custom_rate = custom_rate.replace(\"kf_\", \"{0:d}*kf_\".format(n_subunits - i))\n",
    "            custom_rate = custom_rate.replace(\"kr_\", \"{0:d}*kr_\".format(i + 1))\n",
    "            PYK.add_custom_rate(reaction, custom_rate)\n",
    "\n",
    "PYK.unify_rate_parameters(PYK.categorized_enzyme_reactions[\"catalyzation\"], \"PYK\")\n",
    "# Update rate laws to be in terms of kf and Keq\n",
    "PYK.custom_rates.update(k2Keq(PYK.custom_rates))\n",
    "\n",
    "\n",
    "# Display newly made reactions in their categories\n",
    "for category, enzyme_reactions in PYK.categorized_enzyme_reactions.items():\n",
    "    header = \"Category: \" + category\n",
    "    print(header + \"\\n\" + \"-\"*len(header))\n",
    "    for reaction in enzyme_reactions:\n",
    "        print(reaction.id + \": \" + str(reaction.rate))\n",
    "    print()"
   ]
  },
  {
   "cell_type": "markdown",
   "metadata": {},
   "source": [
    "## The Steady State\n",
    "### Solve steady state concentrations symbolically\n",
    "To determine the steady state of the enzyme, first we will identify the enzyme forms and store them in a list. Then, we define a dictionary of the ordinary differential equations as sympy expressions."
   ]
  },
  {
   "cell_type": "code",
   "execution_count": 10,
   "metadata": {},
   "outputs": [],
   "source": [
    "ode_dict = {\n",
    "    sym.Symbol(enzyme_form.id): sym.Eq(strip_time(enzyme_form.ode))\n",
    "    for enzyme_form in PYK.enzyme_forms}"
   ]
  },
  {
   "cell_type": "markdown",
   "metadata": {},
   "source": [
    "We also use the catalyzation reactions in order to create our equation for \\\\(v_{\\mathrm{PYK}}\\\\)."
   ]
  },
  {
   "cell_type": "code",
   "execution_count": 11,
   "metadata": {},
   "outputs": [
    {
     "name": "stdout",
     "output_type": "stream",
     "text": [
      "v_PYK = kf_PYK⋅(pyk_R0_AP_c(t) + pyk_R1_AP_c(t) + pyk_R2_AP_c(t) + pyk_R3_AP_c\n",
      "(t) + pyk_R4_AP_c(t))\n"
     ]
    }
   ],
   "source": [
    "PYK.make_enzyme_net_flux_equation(PYK.categorized_enzyme_reactions[\"catalyzation\"], \n",
    "                                  use_rates=True, update_enzyme=True)\n",
    "sym.pprint(PYK.enzyme_net_flux_equation)"
   ]
  },
  {
   "cell_type": "markdown",
   "metadata": {},
   "source": [
    "We then identify equations for the unknown concentrations we wish to solve for in each reaction. We will treat the completely free form of the enzyme with no bound species as our dependent variable."
   ]
  },
  {
   "cell_type": "code",
   "execution_count": 12,
   "metadata": {},
   "outputs": [],
   "source": [
    "# Get enzyme forms\n",
    "enzyme_forms = PYK.enzyme_forms.copy()\n",
    "# Reverse list for performance\n",
    "enzyme_forms.reverse()\n",
    "\n",
    "enzyme_solutions = {}\n",
    "for enzyme_form in enzyme_forms:\n",
    "    # Skip dependent variable\n",
    "    if \"pyk_R0_c\" == str(enzyme_form):\n",
    "        continue\n",
    "    else:\n",
    "        enzyme_form = sym.Symbol(enzyme_form.id)\n",
    "    # Solve for the enzyme form and update the solution dictionary\n",
    "    sol = list(sym.solveset(ode_dict[enzyme_form].subs(enzyme_solutions), enzyme_form))\n",
    "    enzyme_solutions[enzyme_form] = sol.pop()\n",
    "    enzyme_solutions.update({enzyme_form: sol.subs(enzyme_solutions) \n",
    "                             for enzyme_form, sol in enzyme_solutions.items()})"
   ]
  },
  {
   "cell_type": "markdown",
   "metadata": {},
   "source": [
    "The reaction rate equation can be utilized as the last necessary equation in order to solve for the our final unknown concentration variable in terms of the rate and equilibrium constants. Once the unknown variable has been solved for, we substitute the solution back into our other equations. Because __sym.solveset__ expects the input equations to be equal to 0, we can use the __EnzymeModel.enzyme_net_flux_error__ method to get the appropriate expression."
   ]
  },
  {
   "cell_type": "code",
   "execution_count": 13,
   "metadata": {},
   "outputs": [
    {
     "name": "stdout",
     "output_type": "stream",
     "text": [
      "-kf_PYK⋅(pyk_R0_AP_c + pyk_R1_AP_c + pyk_R2_AP_c + pyk_R3_AP_c + pyk_R4_AP_c) \n",
      "+ v_PYK\n"
     ]
    }
   ],
   "source": [
    "# Solve for enzyme form\n",
    "sym.pprint(strip_time(PYK.enzyme_net_flux_error()))\n",
    "sol = sym.solveset(strip_time(PYK.enzyme_net_flux_error()).subs(enzyme_solutions), \"pyk_R0_c\")\n",
    "# Add to solution dictionary\n",
    "enzyme_solutions[sym.Symbol(\"pyk_R0_c\")] = list(sol).copy().pop()\n",
    "# Update solutions with free variable solutions\n",
    "enzyme_solutions = {enzyme_form: sym.simplify(solution.subs(enzyme_solutions))\n",
    "                    for enzyme_form, solution in enzyme_solutions.items()}"
   ]
  },
  {
   "cell_type": "markdown",
   "metadata": {},
   "source": [
    "#### Numerical Values\n",
    "At this point, numerical values are defined for the dissociation constants and the concentrations of the substrates, cofactors, activators, and inhibitors. Providing these numerical values will speed up the subsequent calculations. \n",
    "\n",
    "To do this, experimental data is used to define the dissociations constants for the different binding steps under the QEA assumption. The concentrations of the non-enzyme species are taken from the glycolysis model. \n",
    "\n",
    "Experimental data gives the following for the dissociation constants: \n",
    "\n",
    "$$\\\\K_i=3.39 mM,\\ K_a=0.005 mM,\\ K_A=0.474 mM,\\ K_P=0.225 mM,\\ $$ and an allosteric constant of \\\\(K_L = 19\\\\)."
   ]
  },
  {
   "cell_type": "code",
   "execution_count": 14,
   "metadata": {},
   "outputs": [
    {
     "name": "stdout",
     "output_type": "stream",
     "text": [
      "v_PYK = 2.24\n",
      "adp_c = 0.29\n",
      "atp_c = 1.6\n",
      "fdp_c = 0.0146\n",
      "h_c = 8.99757e-05\n",
      "pep_c = 0.017\n",
      "pyr_c = 0.060301\n",
      "Keq_PYK_P = 4.444444444444445\n",
      "Keq_PYK_A = 2.109704641350211\n",
      "Keq_PYK_I = 0.2949852507374631\n",
      "Keq_PYK_ACT = 200.0\n",
      "Keq_PYK_L = 19\n"
     ]
    }
   ],
   "source": [
    "numerical_values = {}\n",
    "\n",
    "# Get ligand IDs\n",
    "ligand_ids = sorted([str(ligand) for ligand in PYK.ligands])\n",
    "parameter_ids = [\"_\".join((PYK.id, abbrev)) if enzyme_prefix else abbrev for abbrev in abbreviations + [\"L\"]]\n",
    "\n",
    "# Load the glycolysis model to extract steady state values\n",
    "glycolysis = json.load_json_model(\"../../test-models/json-models/glycolysis.json\")\n",
    "\n",
    "# Get the steady state flux value and add to numerical values\n",
    "PYK.enzyme_net_flux = glycolysis.reactions.get_by_id(PYK.id).steady_state_flux\n",
    "numerical_values.update({PYK.enzyme_flux_symbol: PYK.enzyme_net_flux})\n",
    "\n",
    "# Get the steady state concentration values and add to numerical values\n",
    "initial_conditions = {\n",
    "    str(ligand): glycolysis.initial_conditions[glycolysis.metabolites.get_by_id(ligand)]\n",
    "    for ligand in ligand_ids}\n",
    "numerical_values.update(initial_conditions)\n",
    "\n",
    "# Define parameter values and add to numerical values\n",
    "parameter_values = {\n",
    "    \"Keq_\" + parameter_id: value \n",
    "    for parameter_id, value in zip(parameter_ids, [1/0.225, 1/0.474, 1/3.39, 1/0.005, 19])}\n",
    "numerical_values.update(parameter_values)\n",
    "\n",
    "# Substitute values into equations\n",
    "enzyme_solutions = {enzyme_form: sym.simplify(solution.subs(numerical_values))\n",
    "                    for enzyme_form, solution in enzyme_solutions.items()}\n",
    "\n",
    "# Display numerical values\n",
    "for k, v in numerical_values.items():\n",
    "    print(\"{0} = {1}\".format(k, v))"
   ]
  },
  {
   "cell_type": "markdown",
   "metadata": {},
   "source": [
    "The last part of this step is to simplify the solutions for the enzyme forms and, as a QCQA, ensure that only rate constants are the only symbolic arguments in the solutions. "
   ]
  },
  {
   "cell_type": "code",
   "execution_count": 15,
   "metadata": {},
   "outputs": [
    {
     "name": "stdout",
     "output_type": "stream",
     "text": [
      "('kf_PYK', 'kf_PYK_A', 'kf_PYK_P')\n"
     ]
    }
   ],
   "source": [
    "args = tuple(sorted(set([\n",
    "    str(arg) for sol in enzyme_solutions.values() \n",
    "    for arg in list(sol.atoms(sym.Symbol))])))\n",
    "print(args)"
   ]
  },
  {
   "cell_type": "markdown",
   "metadata": {},
   "source": [
    "### Determine rate constants\n",
    "#### Total Enzyme Concentration and $r_{T}$ \n",
    "After solving for the enzyme forms, the next step is to define equations for the total enzyme concentration and for the fraction of the enzyme in the T state to be used as constraints for determining the rate parameters. To view the equation for the total enzyme concentration, we can use the __EnzymeModel.total_enzyme_equation__ property."
   ]
  },
  {
   "cell_type": "code",
   "execution_count": 16,
   "metadata": {
    "scrolled": true
   },
   "outputs": [
    {
     "name": "stdout",
     "output_type": "stream",
     "text": [
      "PYK_Total = pyk_R0_AP_c(t) + pyk_R0_A_c(t) + pyk_R0_P_c(t) + pyk_R0_c(t) + pyk\n",
      "_R1_AP_c(t) + pyk_R1_A_c(t) + pyk_R1_P_c(t) + pyk_R1_c(t) + pyk_R2_AP_c(t) + p\n",
      "yk_R2_A_c(t) + pyk_R2_P_c(t) + pyk_R2_c(t) + pyk_R3_AP_c(t) + pyk_R3_A_c(t) + \n",
      "pyk_R3_P_c(t) + pyk_R3_c(t) + pyk_R4_AP_c(t) + pyk_R4_A_c(t) + pyk_R4_P_c(t) +\n",
      " pyk_R4_c(t) + pyk_T0_c(t) + pyk_T1_c(t) + pyk_T2_c(t) + pyk_T3_c(t) + pyk_T4_\n",
      "c(t)\n"
     ]
    }
   ],
   "source": [
    "sym.pprint(PYK.enzyme_concentration_total_equation)"
   ]
  },
  {
   "cell_type": "markdown",
   "metadata": {},
   "source": [
    "The total concentration of PYK is 0.000069 mM. The __EnzymeModel.total_enzyme_concentration__ atrribute can be used to set and store this concentration."
   ]
  },
  {
   "cell_type": "code",
   "execution_count": 17,
   "metadata": {},
   "outputs": [
    {
     "name": "stdout",
     "output_type": "stream",
     "text": [
      "6.9e-05\n"
     ]
    }
   ],
   "source": [
    "PYK.enzyme_concentration_total = 69e-6\n",
    "print(PYK.enzyme_concentration_total)"
   ]
  },
  {
   "cell_type": "markdown",
   "metadata": {},
   "source": [
    "To determine the rate constants, we can set up an optimization problem where we minimize the error between the measured and calculated total enzyme concentrations. We start by creating the objective function based on the absolute error between the measured and calculated total enzyme concentrations. We can use the __EnzymeModel.enzyme_concentration_total_error__ method to get the symbolic expression for the constraint. "
   ]
  },
  {
   "cell_type": "code",
   "execution_count": 18,
   "metadata": {},
   "outputs": [
    {
     "name": "stdout",
     "output_type": "stream",
     "text": [
      "│-PYK_Total + pyk_R0_AP_c + pyk_R0_A_c + pyk_R0_P_c + pyk_R0_c + pyk_R1_AP_c +\n",
      " pyk_R1_A_c + pyk_R1_P_c + pyk_R1_c + pyk_R2_AP_c + pyk_R2_A_c + pyk_R2_P_c + \n",
      "pyk_R2_c + pyk_R3_AP_c + pyk_R3_A_c + pyk_R3_P_c + pyk_R3_c + pyk_R4_AP_c + py\n",
      "k_R4_A_c + pyk_R4_P_c + pyk_R4_c + pyk_T0_c + pyk_T1_c + pyk_T2_c + pyk_T3_c +\n",
      " pyk_T4_c│\n"
     ]
    }
   ],
   "source": [
    "enzyme_total_constraint = abs(strip_time(PYK.enzyme_concentration_total_error()))\n",
    "sym.pprint(enzyme_total_constraint)"
   ]
  },
  {
   "cell_type": "markdown",
   "metadata": {},
   "source": [
    "We introduce our solutions for the enzyme forms to get an equation for the error in the enzyme total concentration in terms of the rate constants."
   ]
  },
  {
   "cell_type": "code",
   "execution_count": 19,
   "metadata": {},
   "outputs": [
    {
     "name": "stdout",
     "output_type": "stream",
     "text": [
      "│                                   3                                         \n",
      "│- 0.836100255986198⋅kf_PYK⋅kf_PYK_A ⋅kf_PYK_P + 1970846.95903256⋅kf_PYK⋅kf_PY\n",
      "│─────────────────────────────────────────────────────────────────────────────\n",
      "│                                                                             \n",
      "│                                                                             \n",
      "\n",
      "   3                                    2         2                           \n",
      "K_A  - 0.529676078399633⋅kf_PYK⋅kf_PYK_A ⋅kf_PYK_P  + 2260396.08862658⋅kf_PYK⋅\n",
      "──────────────────────────────────────────────────────────────────────────────\n",
      "                                                                              \n",
      "                                                                       kf_PYK⋅\n",
      "\n",
      "        2                                                       3             \n",
      "kf_PYK_A ⋅kf_PYK_P - 0.0838884888564864⋅kf_PYK⋅kf_PYK_A⋅kf_PYK_P  + 558307.934\n",
      "──────────────────────────────────────────────────────────────────────────────\n",
      "                  ⎛                         2                                 \n",
      "kf_PYK_A⋅kf_PYK_P⋅⎝12117.3950142927⋅kf_PYK_A  + 7676.46490434251⋅kf_PYK_A⋅kf_P\n",
      "\n",
      "                               2                                   3          \n",
      "744754⋅kf_PYK⋅kf_PYK_A⋅kf_PYK_P  + 12689.0623404794⋅kf_PYK⋅kf_PYK_P  + 1239744\n",
      "──────────────────────────────────────────────────────────────────────────────\n",
      "                                2⎞                                            \n",
      "YK_P + 1215.77520081864⋅kf_PYK_P ⎠                                            \n",
      "\n",
      "                  3                                     2         2           \n",
      ".19789433⋅kf_PYK_A ⋅kf_PYK_P + 785387.685577039⋅kf_PYK_A ⋅kf_PYK_P  + 124387.3\n",
      "──────────────────────────────────────────────────────────────────────────────\n",
      "                                                                              \n",
      "                                                                              \n",
      "\n",
      "                          3│\n",
      "16694793⋅kf_PYK_A⋅kf_PYK_P │\n",
      "───────────────────────────│\n",
      "                           │\n",
      "                           │\n"
     ]
    }
   ],
   "source": [
    "enzyme_total_constraint = sym.simplify(enzyme_total_constraint.subs(\n",
    "    enzyme_solutions).subs({PYK.enzyme_total_symbol: PYK.enzyme_concentration_total}))\n",
    "sym.pprint(enzyme_total_constraint)\n",
    "obj_func = lambda x: sym.lambdify(args, enzyme_total_constraint)(*x)"
   ]
  },
  {
   "cell_type": "markdown",
   "metadata": {},
   "source": [
    "Another constraint can be set on the amount of inhibited enzyme in the steady state of the system using the T fraction (denoted as \\\\(r_{T}\\\\)). This fraction is simply the amount of inhibited enzyme over the total amount of enzyme. Assume 15-25% of PYK is in inhibited form for this constraint. \n",
    "\n",
    "To make the fraction expression, we can use the __EnzymeModel.make_enzyme_fraction__ method. This method is designed to assist in making fractions and ratios by providing a string identifying the categorized dict attribute (either \"forms\" for the __EnzymeModel.categorized_enzyme_forms__ or \"reactions\" for the __EnzymeModel.enzyme_reactions__), two strings identifying the categories from the attribute to sum and use in the numerator and the denominator, and a bool indicating whether to substitute numerical values into the expression to return a float or to keep the ratio as a sympy expression.\n",
    "\n",
    "__Note:__ \"Equation\" can be passed to either the numerator or the denominator to utilize the formula for the corresponding equation attrubute(i.e.  __EnzymeModel.enzyme_concentration_total_equation__ for \"forms\" or  __EnzymeModel.enzyme_net_flux_equation__ for \"reactions\")."
   ]
  },
  {
   "cell_type": "code",
   "execution_count": 20,
   "metadata": {},
   "outputs": [],
   "source": [
    "lb_t_fraction, ub_t_fraction = (0.15, 0.25)\n",
    "\n",
    "r_T_expr = PYK.make_enzyme_fraction(\"forms\", top=\"Tense\", bottom=\"Equation\")\n",
    "r_T_expr = sym.simplify(strip_time(r_T_expr).subs(enzyme_solutions))\n",
    "\n",
    "r_T_lb_constraint_func = lambda x: sym.lambdify(args, r_T_expr - lb_t_fraction)(*x)\n",
    "r_T_ub_constraint_func = lambda x: sym.lambdify(args, ub_t_fraction - r_T_expr)(*x)"
   ]
  },
  {
   "cell_type": "markdown",
   "metadata": {},
   "source": [
    "Lastly, we place lower and upper bounds on the rate constants to ensure that the values are non-negative and are within physiological limits, and then we solve the optmization problem. Once the optimization has finished, we check whether it was successful, and if so, what the optimality and errors are associated with this particular solution instance."
   ]
  },
  {
   "cell_type": "code",
   "execution_count": 21,
   "metadata": {
    "scrolled": false
   },
   "outputs": [
    {
     "name": "stdout",
     "output_type": "stream",
     "text": [
      "Ordered Args: ('kf_PYK', 'kf_PYK_A', 'kf_PYK_P')\n",
      "\n"
     ]
    },
    {
     "name": "stderr",
     "output_type": "stream",
     "text": [
      "/miniconda3/envs/masspy-dev/lib/python3.7/site-packages/scipy/optimize/_hessian_update_strategy.py:187 \u001b[1;31mUserWarning\u001b[0m: delta_grad == 0.0. Check if the approximated function is linear. If the function is linear better results can be obtained by defining the Hessian as zero instead of using quasi-Newton approximations.\n"
     ]
    },
    {
     "name": "stdout",
     "output_type": "stream",
     "text": [
      "`xtol` termination condition is satisfied.\n",
      "Number of iterations: 83, function evaluations: 232, CG iterations: 101, optimality: 4.21e-11, constraint violation: 0.00e+00, execution time:  7.2 s.\n",
      "\n",
      "Optimization Success: True\n",
      "Otimization Optimality: 4.2070e-11\n",
      "Optimization Error: 1.9787e-11\n",
      "Parameter Solutions: {'kf_PYK': 1556426.0, 'kf_PYK_A': 69999990.0, 'kf_PYK_P': 69999991.0}\n",
      "Enzyme T-fraction: 0.1794\n"
     ]
    }
   ],
   "source": [
    "print(\"Ordered Args: {0}\\n\".format(str(args)))\n",
    "\n",
    "bounds = ((1e3, 1e9), (1e3, 1e9), (1e3, 1e9))\n",
    "cons = ({\"type\": \"ineq\", \"fun\": r_T_ub_constraint_func},\n",
    "        {\"type\": \"ineq\", \"fun\": r_T_lb_constraint_func})\n",
    "\n",
    "sol = optimize.minimize(\n",
    "    obj_func, [1e6, 7e7, 7e7], method=\"trust-constr\", bounds=bounds, constraints=cons,\n",
    "    options={\"gtol\": 1e-12, \"xtol\": 1e-12, \"maxiter\": 1e4, \"disp\": True})\n",
    "\n",
    "parameter_values.update(dict(zip(args, [round(x) for x in sol.x])))\n",
    "\n",
    "print(\"\\nOptimization Success: {0}\".format(sol.success))\n",
    "if sol.success:\n",
    "    print(\"Otimization Optimality: {0:.4e}\".format(sol.optimality))\n",
    "    print(\"Optimization Error: {0:.4e}\".format(enzyme_total_constraint.subs(parameter_values)))\n",
    "    print(\"Parameter Solutions: {:}\".format(str({arg: parameter_values[arg] for arg in args})))\n",
    "    print(\"Enzyme T-fraction: {:.4f}\".format(r_T_expr.subs(parameter_values)))"
   ]
  },
  {
   "cell_type": "markdown",
   "metadata": {},
   "source": [
    "With a successful optimization, the model is updated with the parameter values.  The inhibition and activation reactions are set to have a high forward rate constant and the allosteric transition even higher, limiting the amount of unbound enzyme and ensuring the R-T transition dynamics are determined only by its allosteric constant. \n",
    "\n",
    "__Note:__ This assumption for the rate constants can be made because none of the enzyme concentrations are dependendent on the activation, inhibition, and allosteric rate constants."
   ]
  },
  {
   "cell_type": "code",
   "execution_count": 22,
   "metadata": {},
   "outputs": [
    {
     "name": "stdout",
     "output_type": "stream",
     "text": [
      "Keq_PYK_P = 4.444444444444445\n",
      "Keq_PYK_A = 2.109704641350211\n",
      "Keq_PYK_I = 0.2949852507374631\n",
      "Keq_PYK_ACT = 200.0\n",
      "Keq_PYK_L = 19\n",
      "kf_PYK = 1556426.0\n",
      "kf_PYK_A = 69999990.0\n",
      "kf_PYK_P = 69999991.0\n",
      "kf_PYK_I = 1000000.0\n",
      "kf_PYK_ACT = 1000000.0\n",
      "kf_PYK_L = 1000000000000.0\n"
     ]
    }
   ],
   "source": [
    "# Add the activation, inhibition, and allosteric rate constants\n",
    "for abbrev, value in zip([\"I\", \"ACT\", \"L\"], [1e6, 1e6, 1e6**2]):\n",
    "    to_join = (\"kf\", PYK.id, abbrev) if enzyme_prefix else (\"kf\", abbrev)\n",
    "    param = \"_\".join(to_join)\n",
    "    parameter_values.update({param: value})\n",
    "# Display values\n",
    "for k, v in parameter_values.items():\n",
    "    print(\"{0} = {1}\".format(k, v))"
   ]
  },
  {
   "cell_type": "markdown",
   "metadata": {},
   "source": [
    "### Solve steady state concentrations numerically"
   ]
  },
  {
   "cell_type": "markdown",
   "metadata": {},
   "source": [
    "Once the rate constants have been defined, the steady state concentrations of the enzyme can be determined."
   ]
  },
  {
   "cell_type": "code",
   "execution_count": 23,
   "metadata": {},
   "outputs": [
    {
     "name": "stdout",
     "output_type": "stream",
     "text": [
      "Ligand Concentrations\n",
      "---------------------\n",
      "pep_c = 0.017\n",
      "adp_c = 0.29\n",
      "fdp_c = 0.0146\n",
      "atp_c = 1.6\n",
      "pyr_c = 0.060301\n",
      "h_c = 8.99757e-05\n",
      "\n",
      "Enzyme Concentrations\n",
      "----------------------\n",
      "pyk_R0_c = 1.38762e-07\n",
      "pyk_R0_A_c = 8.475e-08\n",
      "pyk_R0_P_c = 1.019e-08\n",
      "pyk_R0_AP_c = 6.095e-09\n",
      "pyk_T0_c = 2.636484e-06\n",
      "pyk_R1_c = 1.620744e-06\n",
      "pyk_R1_A_c = 9.89885e-07\n",
      "pyk_R1_P_c = 1.19023e-07\n",
      "pyk_R1_AP_c = 7.119e-08\n",
      "pyk_T1_c = 4.977432e-06\n",
      "pyk_R2_c = 7.098857e-06\n",
      "pyk_R2_A_c = 4.335695e-06\n",
      "pyk_R2_P_c = 5.21319e-07\n",
      "pyk_R2_AP_c = 3.11812e-07\n",
      "pyk_T2_c = 3.523846e-06\n",
      "pyk_R3_c = 1.3819109e-05\n",
      "pyk_R3_A_c = 8.440153e-06\n",
      "pyk_R3_P_c = 1.014834e-06\n",
      "pyk_R3_AP_c = 6.06993e-07\n",
      "pyk_T3_c = 1.108781e-06\n",
      "pyk_R4_c = 1.008795e-05\n",
      "pyk_R4_A_c = 6.161312e-06\n",
      "pyk_R4_P_c = 7.40829e-07\n",
      "pyk_R4_AP_c = 4.43105e-07\n",
      "pyk_T4_c = 1.3083e-07\n"
     ]
    }
   ],
   "source": [
    "# Substitute values into equations\n",
    "initial_conditions.update({\n",
    "    str(enzyme_form): round(float(sym.simplify(solution.subs(parameter_values))), 12)\n",
    "    for enzyme_form, solution in enzyme_solutions.items()})\n",
    "\n",
    "for header, dictlist in zip([\"Ligand\", \"\\nEnzyme\"], [PYK.ligands, PYK.enzyme_forms]):\n",
    "    header += \" Concentrations\"\n",
    "    print(\"\\n\".join([header, \"-\" * len(header)]))\n",
    "    for species in dictlist:\n",
    "        ic = initial_conditions[species.id]\n",
    "        print(\"{0} = {1}\".format(species.id, ic))"
   ]
  },
  {
   "cell_type": "markdown",
   "metadata": {},
   "source": [
    "#### Set Initial Conditions and Parameters\n",
    "Once the steady state concentrations have been determined, the initial conditions and parameters are added to the model."
   ]
  },
  {
   "cell_type": "code",
   "execution_count": 24,
   "metadata": {},
   "outputs": [],
   "source": [
    "# Set initial conditions\n",
    "for met, concentration in initial_conditions.items():\n",
    "    PYK.metabolites.get_by_id(str(met)).ic = concentration\n",
    "PYK.set_initial_conditions()\n",
    "\n",
    "# Add the custom parameters and values for kf and Keq to model\n",
    "PYK.custom_parameters.update(parameter_values)\n",
    "# PYK_L uses standard reaction parameters and not custom parameters\n",
    "PYK_L = PYK.enzyme_reactions.PYK_L\n",
    "PYK_L.kf = PYK.custom_parameters.pop(PYK_L.kf_str)\n",
    "PYK_L.Keq = PYK.custom_parameters[PYK_L.Keq_str]"
   ]
  },
  {
   "cell_type": "markdown",
   "metadata": {},
   "source": [
    "#### Optional: Ordering of internal species and reactions\n",
    "Sometimes, it is also desirable to reorder the metabolite and reaction objects inside the model to follow the physiology. To reorder the internal species, one can use the method __cobra.DictList.get_by_any__ method with the list of metabolite identifiers in the desirable order. To ensure all metabolites are still present and not forgotten in the model, a QC/QA check is also performed. "
   ]
  },
  {
   "cell_type": "code",
   "execution_count": 25,
   "metadata": {},
   "outputs": [
    {
     "data": {
      "text/html": [
       "<div>\n",
       "<style scoped>\n",
       "    .dataframe tbody tr th:only-of-type {\n",
       "        vertical-align: middle;\n",
       "    }\n",
       "\n",
       "    .dataframe tbody tr th {\n",
       "        vertical-align: top;\n",
       "    }\n",
       "\n",
       "    .dataframe thead th {\n",
       "        text-align: right;\n",
       "    }\n",
       "</style>\n",
       "<table border=\"1\" class=\"dataframe\">\n",
       "  <thead>\n",
       "    <tr style=\"text-align: right;\">\n",
       "      <th></th>\n",
       "      <th>PYK_R01</th>\n",
       "      <th>PYK_R02</th>\n",
       "      <th>PYK_R03</th>\n",
       "      <th>PYK_R04</th>\n",
       "      <th>PYK_R05</th>\n",
       "      <th>PYK_R10</th>\n",
       "      <th>PYK_R11</th>\n",
       "      <th>PYK_R12</th>\n",
       "      <th>PYK_R13</th>\n",
       "      <th>PYK_R14</th>\n",
       "      <th>...</th>\n",
       "      <th>PYK_R41</th>\n",
       "      <th>PYK_R42</th>\n",
       "      <th>PYK_R43</th>\n",
       "      <th>PYK_R44</th>\n",
       "      <th>PYK_R45</th>\n",
       "      <th>PYK_L</th>\n",
       "      <th>PYK_T1</th>\n",
       "      <th>PYK_T2</th>\n",
       "      <th>PYK_T3</th>\n",
       "      <th>PYK_T4</th>\n",
       "    </tr>\n",
       "  </thead>\n",
       "  <tbody>\n",
       "    <tr>\n",
       "      <th>pep_c</th>\n",
       "      <td>-1</td>\n",
       "      <td>0</td>\n",
       "      <td>-1</td>\n",
       "      <td>0</td>\n",
       "      <td>0</td>\n",
       "      <td>0</td>\n",
       "      <td>-1</td>\n",
       "      <td>0</td>\n",
       "      <td>-1</td>\n",
       "      <td>0</td>\n",
       "      <td>...</td>\n",
       "      <td>-1</td>\n",
       "      <td>0</td>\n",
       "      <td>-1</td>\n",
       "      <td>0</td>\n",
       "      <td>0</td>\n",
       "      <td>0</td>\n",
       "      <td>0</td>\n",
       "      <td>0</td>\n",
       "      <td>0</td>\n",
       "      <td>0</td>\n",
       "    </tr>\n",
       "    <tr>\n",
       "      <th>adp_c</th>\n",
       "      <td>0</td>\n",
       "      <td>-1</td>\n",
       "      <td>0</td>\n",
       "      <td>-1</td>\n",
       "      <td>0</td>\n",
       "      <td>0</td>\n",
       "      <td>0</td>\n",
       "      <td>-1</td>\n",
       "      <td>0</td>\n",
       "      <td>-1</td>\n",
       "      <td>...</td>\n",
       "      <td>0</td>\n",
       "      <td>-1</td>\n",
       "      <td>0</td>\n",
       "      <td>-1</td>\n",
       "      <td>0</td>\n",
       "      <td>0</td>\n",
       "      <td>0</td>\n",
       "      <td>0</td>\n",
       "      <td>0</td>\n",
       "      <td>0</td>\n",
       "    </tr>\n",
       "    <tr>\n",
       "      <th>fdp_c</th>\n",
       "      <td>0</td>\n",
       "      <td>0</td>\n",
       "      <td>0</td>\n",
       "      <td>0</td>\n",
       "      <td>0</td>\n",
       "      <td>-1</td>\n",
       "      <td>0</td>\n",
       "      <td>0</td>\n",
       "      <td>0</td>\n",
       "      <td>0</td>\n",
       "      <td>...</td>\n",
       "      <td>0</td>\n",
       "      <td>0</td>\n",
       "      <td>0</td>\n",
       "      <td>0</td>\n",
       "      <td>0</td>\n",
       "      <td>0</td>\n",
       "      <td>0</td>\n",
       "      <td>0</td>\n",
       "      <td>0</td>\n",
       "      <td>0</td>\n",
       "    </tr>\n",
       "    <tr>\n",
       "      <th>atp_c</th>\n",
       "      <td>0</td>\n",
       "      <td>0</td>\n",
       "      <td>0</td>\n",
       "      <td>0</td>\n",
       "      <td>1</td>\n",
       "      <td>0</td>\n",
       "      <td>0</td>\n",
       "      <td>0</td>\n",
       "      <td>0</td>\n",
       "      <td>0</td>\n",
       "      <td>...</td>\n",
       "      <td>0</td>\n",
       "      <td>0</td>\n",
       "      <td>0</td>\n",
       "      <td>0</td>\n",
       "      <td>1</td>\n",
       "      <td>0</td>\n",
       "      <td>-1</td>\n",
       "      <td>-1</td>\n",
       "      <td>-1</td>\n",
       "      <td>-1</td>\n",
       "    </tr>\n",
       "    <tr>\n",
       "      <th>pyr_c</th>\n",
       "      <td>0</td>\n",
       "      <td>0</td>\n",
       "      <td>0</td>\n",
       "      <td>0</td>\n",
       "      <td>1</td>\n",
       "      <td>0</td>\n",
       "      <td>0</td>\n",
       "      <td>0</td>\n",
       "      <td>0</td>\n",
       "      <td>0</td>\n",
       "      <td>...</td>\n",
       "      <td>0</td>\n",
       "      <td>0</td>\n",
       "      <td>0</td>\n",
       "      <td>0</td>\n",
       "      <td>1</td>\n",
       "      <td>0</td>\n",
       "      <td>0</td>\n",
       "      <td>0</td>\n",
       "      <td>0</td>\n",
       "      <td>0</td>\n",
       "    </tr>\n",
       "    <tr>\n",
       "      <th>h_c</th>\n",
       "      <td>0</td>\n",
       "      <td>0</td>\n",
       "      <td>0</td>\n",
       "      <td>0</td>\n",
       "      <td>-1</td>\n",
       "      <td>0</td>\n",
       "      <td>0</td>\n",
       "      <td>0</td>\n",
       "      <td>0</td>\n",
       "      <td>0</td>\n",
       "      <td>...</td>\n",
       "      <td>0</td>\n",
       "      <td>0</td>\n",
       "      <td>0</td>\n",
       "      <td>0</td>\n",
       "      <td>-1</td>\n",
       "      <td>0</td>\n",
       "      <td>0</td>\n",
       "      <td>0</td>\n",
       "      <td>0</td>\n",
       "      <td>0</td>\n",
       "    </tr>\n",
       "    <tr>\n",
       "      <th>pyk_R0_c</th>\n",
       "      <td>-1</td>\n",
       "      <td>-1</td>\n",
       "      <td>0</td>\n",
       "      <td>0</td>\n",
       "      <td>1</td>\n",
       "      <td>-1</td>\n",
       "      <td>0</td>\n",
       "      <td>0</td>\n",
       "      <td>0</td>\n",
       "      <td>0</td>\n",
       "      <td>...</td>\n",
       "      <td>0</td>\n",
       "      <td>0</td>\n",
       "      <td>0</td>\n",
       "      <td>0</td>\n",
       "      <td>0</td>\n",
       "      <td>-1</td>\n",
       "      <td>0</td>\n",
       "      <td>0</td>\n",
       "      <td>0</td>\n",
       "      <td>0</td>\n",
       "    </tr>\n",
       "    <tr>\n",
       "      <th>pyk_R0_A_c</th>\n",
       "      <td>0</td>\n",
       "      <td>1</td>\n",
       "      <td>-1</td>\n",
       "      <td>0</td>\n",
       "      <td>0</td>\n",
       "      <td>0</td>\n",
       "      <td>0</td>\n",
       "      <td>0</td>\n",
       "      <td>0</td>\n",
       "      <td>0</td>\n",
       "      <td>...</td>\n",
       "      <td>0</td>\n",
       "      <td>0</td>\n",
       "      <td>0</td>\n",
       "      <td>0</td>\n",
       "      <td>0</td>\n",
       "      <td>0</td>\n",
       "      <td>0</td>\n",
       "      <td>0</td>\n",
       "      <td>0</td>\n",
       "      <td>0</td>\n",
       "    </tr>\n",
       "    <tr>\n",
       "      <th>pyk_R0_P_c</th>\n",
       "      <td>1</td>\n",
       "      <td>0</td>\n",
       "      <td>0</td>\n",
       "      <td>-1</td>\n",
       "      <td>0</td>\n",
       "      <td>0</td>\n",
       "      <td>0</td>\n",
       "      <td>0</td>\n",
       "      <td>0</td>\n",
       "      <td>0</td>\n",
       "      <td>...</td>\n",
       "      <td>0</td>\n",
       "      <td>0</td>\n",
       "      <td>0</td>\n",
       "      <td>0</td>\n",
       "      <td>0</td>\n",
       "      <td>0</td>\n",
       "      <td>0</td>\n",
       "      <td>0</td>\n",
       "      <td>0</td>\n",
       "      <td>0</td>\n",
       "    </tr>\n",
       "    <tr>\n",
       "      <th>pyk_R0_AP_c</th>\n",
       "      <td>0</td>\n",
       "      <td>0</td>\n",
       "      <td>1</td>\n",
       "      <td>1</td>\n",
       "      <td>-1</td>\n",
       "      <td>0</td>\n",
       "      <td>0</td>\n",
       "      <td>0</td>\n",
       "      <td>0</td>\n",
       "      <td>0</td>\n",
       "      <td>...</td>\n",
       "      <td>0</td>\n",
       "      <td>0</td>\n",
       "      <td>0</td>\n",
       "      <td>0</td>\n",
       "      <td>0</td>\n",
       "      <td>0</td>\n",
       "      <td>0</td>\n",
       "      <td>0</td>\n",
       "      <td>0</td>\n",
       "      <td>0</td>\n",
       "    </tr>\n",
       "    <tr>\n",
       "      <th>pyk_T0_c</th>\n",
       "      <td>0</td>\n",
       "      <td>0</td>\n",
       "      <td>0</td>\n",
       "      <td>0</td>\n",
       "      <td>0</td>\n",
       "      <td>0</td>\n",
       "      <td>0</td>\n",
       "      <td>0</td>\n",
       "      <td>0</td>\n",
       "      <td>0</td>\n",
       "      <td>...</td>\n",
       "      <td>0</td>\n",
       "      <td>0</td>\n",
       "      <td>0</td>\n",
       "      <td>0</td>\n",
       "      <td>0</td>\n",
       "      <td>1</td>\n",
       "      <td>-1</td>\n",
       "      <td>0</td>\n",
       "      <td>0</td>\n",
       "      <td>0</td>\n",
       "    </tr>\n",
       "    <tr>\n",
       "      <th>pyk_R1_c</th>\n",
       "      <td>0</td>\n",
       "      <td>0</td>\n",
       "      <td>0</td>\n",
       "      <td>0</td>\n",
       "      <td>0</td>\n",
       "      <td>1</td>\n",
       "      <td>-1</td>\n",
       "      <td>-1</td>\n",
       "      <td>0</td>\n",
       "      <td>0</td>\n",
       "      <td>...</td>\n",
       "      <td>0</td>\n",
       "      <td>0</td>\n",
       "      <td>0</td>\n",
       "      <td>0</td>\n",
       "      <td>0</td>\n",
       "      <td>0</td>\n",
       "      <td>0</td>\n",
       "      <td>0</td>\n",
       "      <td>0</td>\n",
       "      <td>0</td>\n",
       "    </tr>\n",
       "    <tr>\n",
       "      <th>pyk_R1_A_c</th>\n",
       "      <td>0</td>\n",
       "      <td>0</td>\n",
       "      <td>0</td>\n",
       "      <td>0</td>\n",
       "      <td>0</td>\n",
       "      <td>0</td>\n",
       "      <td>0</td>\n",
       "      <td>1</td>\n",
       "      <td>-1</td>\n",
       "      <td>0</td>\n",
       "      <td>...</td>\n",
       "      <td>0</td>\n",
       "      <td>0</td>\n",
       "      <td>0</td>\n",
       "      <td>0</td>\n",
       "      <td>0</td>\n",
       "      <td>0</td>\n",
       "      <td>0</td>\n",
       "      <td>0</td>\n",
       "      <td>0</td>\n",
       "      <td>0</td>\n",
       "    </tr>\n",
       "    <tr>\n",
       "      <th>pyk_R1_P_c</th>\n",
       "      <td>0</td>\n",
       "      <td>0</td>\n",
       "      <td>0</td>\n",
       "      <td>0</td>\n",
       "      <td>0</td>\n",
       "      <td>0</td>\n",
       "      <td>1</td>\n",
       "      <td>0</td>\n",
       "      <td>0</td>\n",
       "      <td>-1</td>\n",
       "      <td>...</td>\n",
       "      <td>0</td>\n",
       "      <td>0</td>\n",
       "      <td>0</td>\n",
       "      <td>0</td>\n",
       "      <td>0</td>\n",
       "      <td>0</td>\n",
       "      <td>0</td>\n",
       "      <td>0</td>\n",
       "      <td>0</td>\n",
       "      <td>0</td>\n",
       "    </tr>\n",
       "    <tr>\n",
       "      <th>pyk_R1_AP_c</th>\n",
       "      <td>0</td>\n",
       "      <td>0</td>\n",
       "      <td>0</td>\n",
       "      <td>0</td>\n",
       "      <td>0</td>\n",
       "      <td>0</td>\n",
       "      <td>0</td>\n",
       "      <td>0</td>\n",
       "      <td>1</td>\n",
       "      <td>1</td>\n",
       "      <td>...</td>\n",
       "      <td>0</td>\n",
       "      <td>0</td>\n",
       "      <td>0</td>\n",
       "      <td>0</td>\n",
       "      <td>0</td>\n",
       "      <td>0</td>\n",
       "      <td>0</td>\n",
       "      <td>0</td>\n",
       "      <td>0</td>\n",
       "      <td>0</td>\n",
       "    </tr>\n",
       "    <tr>\n",
       "      <th>pyk_T1_c</th>\n",
       "      <td>0</td>\n",
       "      <td>0</td>\n",
       "      <td>0</td>\n",
       "      <td>0</td>\n",
       "      <td>0</td>\n",
       "      <td>0</td>\n",
       "      <td>0</td>\n",
       "      <td>0</td>\n",
       "      <td>0</td>\n",
       "      <td>0</td>\n",
       "      <td>...</td>\n",
       "      <td>0</td>\n",
       "      <td>0</td>\n",
       "      <td>0</td>\n",
       "      <td>0</td>\n",
       "      <td>0</td>\n",
       "      <td>0</td>\n",
       "      <td>1</td>\n",
       "      <td>-1</td>\n",
       "      <td>0</td>\n",
       "      <td>0</td>\n",
       "    </tr>\n",
       "    <tr>\n",
       "      <th>pyk_R2_c</th>\n",
       "      <td>0</td>\n",
       "      <td>0</td>\n",
       "      <td>0</td>\n",
       "      <td>0</td>\n",
       "      <td>0</td>\n",
       "      <td>0</td>\n",
       "      <td>0</td>\n",
       "      <td>0</td>\n",
       "      <td>0</td>\n",
       "      <td>0</td>\n",
       "      <td>...</td>\n",
       "      <td>0</td>\n",
       "      <td>0</td>\n",
       "      <td>0</td>\n",
       "      <td>0</td>\n",
       "      <td>0</td>\n",
       "      <td>0</td>\n",
       "      <td>0</td>\n",
       "      <td>0</td>\n",
       "      <td>0</td>\n",
       "      <td>0</td>\n",
       "    </tr>\n",
       "    <tr>\n",
       "      <th>pyk_R2_A_c</th>\n",
       "      <td>0</td>\n",
       "      <td>0</td>\n",
       "      <td>0</td>\n",
       "      <td>0</td>\n",
       "      <td>0</td>\n",
       "      <td>0</td>\n",
       "      <td>0</td>\n",
       "      <td>0</td>\n",
       "      <td>0</td>\n",
       "      <td>0</td>\n",
       "      <td>...</td>\n",
       "      <td>0</td>\n",
       "      <td>0</td>\n",
       "      <td>0</td>\n",
       "      <td>0</td>\n",
       "      <td>0</td>\n",
       "      <td>0</td>\n",
       "      <td>0</td>\n",
       "      <td>0</td>\n",
       "      <td>0</td>\n",
       "      <td>0</td>\n",
       "    </tr>\n",
       "    <tr>\n",
       "      <th>pyk_R2_P_c</th>\n",
       "      <td>0</td>\n",
       "      <td>0</td>\n",
       "      <td>0</td>\n",
       "      <td>0</td>\n",
       "      <td>0</td>\n",
       "      <td>0</td>\n",
       "      <td>0</td>\n",
       "      <td>0</td>\n",
       "      <td>0</td>\n",
       "      <td>0</td>\n",
       "      <td>...</td>\n",
       "      <td>0</td>\n",
       "      <td>0</td>\n",
       "      <td>0</td>\n",
       "      <td>0</td>\n",
       "      <td>0</td>\n",
       "      <td>0</td>\n",
       "      <td>0</td>\n",
       "      <td>0</td>\n",
       "      <td>0</td>\n",
       "      <td>0</td>\n",
       "    </tr>\n",
       "    <tr>\n",
       "      <th>pyk_R2_AP_c</th>\n",
       "      <td>0</td>\n",
       "      <td>0</td>\n",
       "      <td>0</td>\n",
       "      <td>0</td>\n",
       "      <td>0</td>\n",
       "      <td>0</td>\n",
       "      <td>0</td>\n",
       "      <td>0</td>\n",
       "      <td>0</td>\n",
       "      <td>0</td>\n",
       "      <td>...</td>\n",
       "      <td>0</td>\n",
       "      <td>0</td>\n",
       "      <td>0</td>\n",
       "      <td>0</td>\n",
       "      <td>0</td>\n",
       "      <td>0</td>\n",
       "      <td>0</td>\n",
       "      <td>0</td>\n",
       "      <td>0</td>\n",
       "      <td>0</td>\n",
       "    </tr>\n",
       "    <tr>\n",
       "      <th>pyk_T2_c</th>\n",
       "      <td>0</td>\n",
       "      <td>0</td>\n",
       "      <td>0</td>\n",
       "      <td>0</td>\n",
       "      <td>0</td>\n",
       "      <td>0</td>\n",
       "      <td>0</td>\n",
       "      <td>0</td>\n",
       "      <td>0</td>\n",
       "      <td>0</td>\n",
       "      <td>...</td>\n",
       "      <td>0</td>\n",
       "      <td>0</td>\n",
       "      <td>0</td>\n",
       "      <td>0</td>\n",
       "      <td>0</td>\n",
       "      <td>0</td>\n",
       "      <td>0</td>\n",
       "      <td>1</td>\n",
       "      <td>-1</td>\n",
       "      <td>0</td>\n",
       "    </tr>\n",
       "    <tr>\n",
       "      <th>pyk_R3_c</th>\n",
       "      <td>0</td>\n",
       "      <td>0</td>\n",
       "      <td>0</td>\n",
       "      <td>0</td>\n",
       "      <td>0</td>\n",
       "      <td>0</td>\n",
       "      <td>0</td>\n",
       "      <td>0</td>\n",
       "      <td>0</td>\n",
       "      <td>0</td>\n",
       "      <td>...</td>\n",
       "      <td>0</td>\n",
       "      <td>0</td>\n",
       "      <td>0</td>\n",
       "      <td>0</td>\n",
       "      <td>0</td>\n",
       "      <td>0</td>\n",
       "      <td>0</td>\n",
       "      <td>0</td>\n",
       "      <td>0</td>\n",
       "      <td>0</td>\n",
       "    </tr>\n",
       "    <tr>\n",
       "      <th>pyk_R3_A_c</th>\n",
       "      <td>0</td>\n",
       "      <td>0</td>\n",
       "      <td>0</td>\n",
       "      <td>0</td>\n",
       "      <td>0</td>\n",
       "      <td>0</td>\n",
       "      <td>0</td>\n",
       "      <td>0</td>\n",
       "      <td>0</td>\n",
       "      <td>0</td>\n",
       "      <td>...</td>\n",
       "      <td>0</td>\n",
       "      <td>0</td>\n",
       "      <td>0</td>\n",
       "      <td>0</td>\n",
       "      <td>0</td>\n",
       "      <td>0</td>\n",
       "      <td>0</td>\n",
       "      <td>0</td>\n",
       "      <td>0</td>\n",
       "      <td>0</td>\n",
       "    </tr>\n",
       "    <tr>\n",
       "      <th>pyk_R3_P_c</th>\n",
       "      <td>0</td>\n",
       "      <td>0</td>\n",
       "      <td>0</td>\n",
       "      <td>0</td>\n",
       "      <td>0</td>\n",
       "      <td>0</td>\n",
       "      <td>0</td>\n",
       "      <td>0</td>\n",
       "      <td>0</td>\n",
       "      <td>0</td>\n",
       "      <td>...</td>\n",
       "      <td>0</td>\n",
       "      <td>0</td>\n",
       "      <td>0</td>\n",
       "      <td>0</td>\n",
       "      <td>0</td>\n",
       "      <td>0</td>\n",
       "      <td>0</td>\n",
       "      <td>0</td>\n",
       "      <td>0</td>\n",
       "      <td>0</td>\n",
       "    </tr>\n",
       "    <tr>\n",
       "      <th>pyk_R3_AP_c</th>\n",
       "      <td>0</td>\n",
       "      <td>0</td>\n",
       "      <td>0</td>\n",
       "      <td>0</td>\n",
       "      <td>0</td>\n",
       "      <td>0</td>\n",
       "      <td>0</td>\n",
       "      <td>0</td>\n",
       "      <td>0</td>\n",
       "      <td>0</td>\n",
       "      <td>...</td>\n",
       "      <td>0</td>\n",
       "      <td>0</td>\n",
       "      <td>0</td>\n",
       "      <td>0</td>\n",
       "      <td>0</td>\n",
       "      <td>0</td>\n",
       "      <td>0</td>\n",
       "      <td>0</td>\n",
       "      <td>0</td>\n",
       "      <td>0</td>\n",
       "    </tr>\n",
       "    <tr>\n",
       "      <th>pyk_T3_c</th>\n",
       "      <td>0</td>\n",
       "      <td>0</td>\n",
       "      <td>0</td>\n",
       "      <td>0</td>\n",
       "      <td>0</td>\n",
       "      <td>0</td>\n",
       "      <td>0</td>\n",
       "      <td>0</td>\n",
       "      <td>0</td>\n",
       "      <td>0</td>\n",
       "      <td>...</td>\n",
       "      <td>0</td>\n",
       "      <td>0</td>\n",
       "      <td>0</td>\n",
       "      <td>0</td>\n",
       "      <td>0</td>\n",
       "      <td>0</td>\n",
       "      <td>0</td>\n",
       "      <td>0</td>\n",
       "      <td>1</td>\n",
       "      <td>-1</td>\n",
       "    </tr>\n",
       "    <tr>\n",
       "      <th>pyk_R4_c</th>\n",
       "      <td>0</td>\n",
       "      <td>0</td>\n",
       "      <td>0</td>\n",
       "      <td>0</td>\n",
       "      <td>0</td>\n",
       "      <td>0</td>\n",
       "      <td>0</td>\n",
       "      <td>0</td>\n",
       "      <td>0</td>\n",
       "      <td>0</td>\n",
       "      <td>...</td>\n",
       "      <td>-1</td>\n",
       "      <td>-1</td>\n",
       "      <td>0</td>\n",
       "      <td>0</td>\n",
       "      <td>1</td>\n",
       "      <td>0</td>\n",
       "      <td>0</td>\n",
       "      <td>0</td>\n",
       "      <td>0</td>\n",
       "      <td>0</td>\n",
       "    </tr>\n",
       "    <tr>\n",
       "      <th>pyk_R4_A_c</th>\n",
       "      <td>0</td>\n",
       "      <td>0</td>\n",
       "      <td>0</td>\n",
       "      <td>0</td>\n",
       "      <td>0</td>\n",
       "      <td>0</td>\n",
       "      <td>0</td>\n",
       "      <td>0</td>\n",
       "      <td>0</td>\n",
       "      <td>0</td>\n",
       "      <td>...</td>\n",
       "      <td>0</td>\n",
       "      <td>1</td>\n",
       "      <td>-1</td>\n",
       "      <td>0</td>\n",
       "      <td>0</td>\n",
       "      <td>0</td>\n",
       "      <td>0</td>\n",
       "      <td>0</td>\n",
       "      <td>0</td>\n",
       "      <td>0</td>\n",
       "    </tr>\n",
       "    <tr>\n",
       "      <th>pyk_R4_P_c</th>\n",
       "      <td>0</td>\n",
       "      <td>0</td>\n",
       "      <td>0</td>\n",
       "      <td>0</td>\n",
       "      <td>0</td>\n",
       "      <td>0</td>\n",
       "      <td>0</td>\n",
       "      <td>0</td>\n",
       "      <td>0</td>\n",
       "      <td>0</td>\n",
       "      <td>...</td>\n",
       "      <td>1</td>\n",
       "      <td>0</td>\n",
       "      <td>0</td>\n",
       "      <td>-1</td>\n",
       "      <td>0</td>\n",
       "      <td>0</td>\n",
       "      <td>0</td>\n",
       "      <td>0</td>\n",
       "      <td>0</td>\n",
       "      <td>0</td>\n",
       "    </tr>\n",
       "    <tr>\n",
       "      <th>pyk_R4_AP_c</th>\n",
       "      <td>0</td>\n",
       "      <td>0</td>\n",
       "      <td>0</td>\n",
       "      <td>0</td>\n",
       "      <td>0</td>\n",
       "      <td>0</td>\n",
       "      <td>0</td>\n",
       "      <td>0</td>\n",
       "      <td>0</td>\n",
       "      <td>0</td>\n",
       "      <td>...</td>\n",
       "      <td>0</td>\n",
       "      <td>0</td>\n",
       "      <td>1</td>\n",
       "      <td>1</td>\n",
       "      <td>-1</td>\n",
       "      <td>0</td>\n",
       "      <td>0</td>\n",
       "      <td>0</td>\n",
       "      <td>0</td>\n",
       "      <td>0</td>\n",
       "    </tr>\n",
       "    <tr>\n",
       "      <th>pyk_T4_c</th>\n",
       "      <td>0</td>\n",
       "      <td>0</td>\n",
       "      <td>0</td>\n",
       "      <td>0</td>\n",
       "      <td>0</td>\n",
       "      <td>0</td>\n",
       "      <td>0</td>\n",
       "      <td>0</td>\n",
       "      <td>0</td>\n",
       "      <td>0</td>\n",
       "      <td>...</td>\n",
       "      <td>0</td>\n",
       "      <td>0</td>\n",
       "      <td>0</td>\n",
       "      <td>0</td>\n",
       "      <td>0</td>\n",
       "      <td>0</td>\n",
       "      <td>0</td>\n",
       "      <td>0</td>\n",
       "      <td>0</td>\n",
       "      <td>1</td>\n",
       "    </tr>\n",
       "  </tbody>\n",
       "</table>\n",
       "<p>31 rows × 34 columns</p>\n",
       "</div>"
      ],
      "text/plain": [
       "             PYK_R01  PYK_R02  PYK_R03  PYK_R04  PYK_R05  PYK_R10  PYK_R11  \\\n",
       "pep_c             -1        0       -1        0        0        0       -1   \n",
       "adp_c              0       -1        0       -1        0        0        0   \n",
       "fdp_c              0        0        0        0        0       -1        0   \n",
       "atp_c              0        0        0        0        1        0        0   \n",
       "pyr_c              0        0        0        0        1        0        0   \n",
       "h_c                0        0        0        0       -1        0        0   \n",
       "pyk_R0_c          -1       -1        0        0        1       -1        0   \n",
       "pyk_R0_A_c         0        1       -1        0        0        0        0   \n",
       "pyk_R0_P_c         1        0        0       -1        0        0        0   \n",
       "pyk_R0_AP_c        0        0        1        1       -1        0        0   \n",
       "pyk_T0_c           0        0        0        0        0        0        0   \n",
       "pyk_R1_c           0        0        0        0        0        1       -1   \n",
       "pyk_R1_A_c         0        0        0        0        0        0        0   \n",
       "pyk_R1_P_c         0        0        0        0        0        0        1   \n",
       "pyk_R1_AP_c        0        0        0        0        0        0        0   \n",
       "pyk_T1_c           0        0        0        0        0        0        0   \n",
       "pyk_R2_c           0        0        0        0        0        0        0   \n",
       "pyk_R2_A_c         0        0        0        0        0        0        0   \n",
       "pyk_R2_P_c         0        0        0        0        0        0        0   \n",
       "pyk_R2_AP_c        0        0        0        0        0        0        0   \n",
       "pyk_T2_c           0        0        0        0        0        0        0   \n",
       "pyk_R3_c           0        0        0        0        0        0        0   \n",
       "pyk_R3_A_c         0        0        0        0        0        0        0   \n",
       "pyk_R3_P_c         0        0        0        0        0        0        0   \n",
       "pyk_R3_AP_c        0        0        0        0        0        0        0   \n",
       "pyk_T3_c           0        0        0        0        0        0        0   \n",
       "pyk_R4_c           0        0        0        0        0        0        0   \n",
       "pyk_R4_A_c         0        0        0        0        0        0        0   \n",
       "pyk_R4_P_c         0        0        0        0        0        0        0   \n",
       "pyk_R4_AP_c        0        0        0        0        0        0        0   \n",
       "pyk_T4_c           0        0        0        0        0        0        0   \n",
       "\n",
       "             PYK_R12  PYK_R13  PYK_R14   ...    PYK_R41  PYK_R42  PYK_R43  \\\n",
       "pep_c              0       -1        0   ...         -1        0       -1   \n",
       "adp_c             -1        0       -1   ...          0       -1        0   \n",
       "fdp_c              0        0        0   ...          0        0        0   \n",
       "atp_c              0        0        0   ...          0        0        0   \n",
       "pyr_c              0        0        0   ...          0        0        0   \n",
       "h_c                0        0        0   ...          0        0        0   \n",
       "pyk_R0_c           0        0        0   ...          0        0        0   \n",
       "pyk_R0_A_c         0        0        0   ...          0        0        0   \n",
       "pyk_R0_P_c         0        0        0   ...          0        0        0   \n",
       "pyk_R0_AP_c        0        0        0   ...          0        0        0   \n",
       "pyk_T0_c           0        0        0   ...          0        0        0   \n",
       "pyk_R1_c          -1        0        0   ...          0        0        0   \n",
       "pyk_R1_A_c         1       -1        0   ...          0        0        0   \n",
       "pyk_R1_P_c         0        0       -1   ...          0        0        0   \n",
       "pyk_R1_AP_c        0        1        1   ...          0        0        0   \n",
       "pyk_T1_c           0        0        0   ...          0        0        0   \n",
       "pyk_R2_c           0        0        0   ...          0        0        0   \n",
       "pyk_R2_A_c         0        0        0   ...          0        0        0   \n",
       "pyk_R2_P_c         0        0        0   ...          0        0        0   \n",
       "pyk_R2_AP_c        0        0        0   ...          0        0        0   \n",
       "pyk_T2_c           0        0        0   ...          0        0        0   \n",
       "pyk_R3_c           0        0        0   ...          0        0        0   \n",
       "pyk_R3_A_c         0        0        0   ...          0        0        0   \n",
       "pyk_R3_P_c         0        0        0   ...          0        0        0   \n",
       "pyk_R3_AP_c        0        0        0   ...          0        0        0   \n",
       "pyk_T3_c           0        0        0   ...          0        0        0   \n",
       "pyk_R4_c           0        0        0   ...         -1       -1        0   \n",
       "pyk_R4_A_c         0        0        0   ...          0        1       -1   \n",
       "pyk_R4_P_c         0        0        0   ...          1        0        0   \n",
       "pyk_R4_AP_c        0        0        0   ...          0        0        1   \n",
       "pyk_T4_c           0        0        0   ...          0        0        0   \n",
       "\n",
       "             PYK_R44  PYK_R45  PYK_L  PYK_T1  PYK_T2  PYK_T3  PYK_T4  \n",
       "pep_c              0        0      0       0       0       0       0  \n",
       "adp_c             -1        0      0       0       0       0       0  \n",
       "fdp_c              0        0      0       0       0       0       0  \n",
       "atp_c              0        1      0      -1      -1      -1      -1  \n",
       "pyr_c              0        1      0       0       0       0       0  \n",
       "h_c                0       -1      0       0       0       0       0  \n",
       "pyk_R0_c           0        0     -1       0       0       0       0  \n",
       "pyk_R0_A_c         0        0      0       0       0       0       0  \n",
       "pyk_R0_P_c         0        0      0       0       0       0       0  \n",
       "pyk_R0_AP_c        0        0      0       0       0       0       0  \n",
       "pyk_T0_c           0        0      1      -1       0       0       0  \n",
       "pyk_R1_c           0        0      0       0       0       0       0  \n",
       "pyk_R1_A_c         0        0      0       0       0       0       0  \n",
       "pyk_R1_P_c         0        0      0       0       0       0       0  \n",
       "pyk_R1_AP_c        0        0      0       0       0       0       0  \n",
       "pyk_T1_c           0        0      0       1      -1       0       0  \n",
       "pyk_R2_c           0        0      0       0       0       0       0  \n",
       "pyk_R2_A_c         0        0      0       0       0       0       0  \n",
       "pyk_R2_P_c         0        0      0       0       0       0       0  \n",
       "pyk_R2_AP_c        0        0      0       0       0       0       0  \n",
       "pyk_T2_c           0        0      0       0       1      -1       0  \n",
       "pyk_R3_c           0        0      0       0       0       0       0  \n",
       "pyk_R3_A_c         0        0      0       0       0       0       0  \n",
       "pyk_R3_P_c         0        0      0       0       0       0       0  \n",
       "pyk_R3_AP_c        0        0      0       0       0       0       0  \n",
       "pyk_T3_c           0        0      0       0       0       1      -1  \n",
       "pyk_R4_c           0        1      0       0       0       0       0  \n",
       "pyk_R4_A_c         0        0      0       0       0       0       0  \n",
       "pyk_R4_P_c        -1        0      0       0       0       0       0  \n",
       "pyk_R4_AP_c        1       -1      0       0       0       0       0  \n",
       "pyk_T4_c           0        0      0       0       0       0       1  \n",
       "\n",
       "[31 rows x 34 columns]"
      ]
     },
     "execution_count": 25,
     "metadata": {},
     "output_type": "execute_result"
    }
   ],
   "source": [
    "new_metabolite_order = ['pep_c', 'pyr_c', 'fdp_c', 'adp_c', 'atp_c',\n",
    "                        'pyk_R0_c', 'pyk_R0_P_c', 'pyk_R0_A_c', 'pyk_R0_AP_c', \n",
    "                        'pyk_R1_c', 'pyk_R1_P_c', 'pyk_R1_A_c', 'pyk_R1_AP_c',\n",
    "                        'pyk_R2_c', 'pyk_R2_P_c', 'pyk_R2_A_c', 'pyk_R2_AP_c',\n",
    "                        'pyk_R3_c', 'pyk_R3_P_c', 'pyk_R3_A_c', 'pyk_R3_AP_c',\n",
    "                        'pyk_R4_c', 'pyk_R4_P_c', 'pyk_R4_A_c', 'pyk_R4_AP_c',\n",
    "                        'pyk_T0_c', 'pyk_T1_c', 'pyk_T2_c', 'pyk_T3_c', 'pyk_T4_c']\n",
    "\n",
    "if len(PYK.metabolites) == len(new_metabolite_order):\n",
    "    PYK.metabolites = DictList(PYK.metabolites.get_by_any(new_metabolite_order))\n",
    "    \n",
    "new_reaction_order = [\"PYK_R01\", \"PYK_R02\", \"PYK_R03\", \"PYK_R04\", \"PYK_R05\", \"PYK_R10\",\n",
    "                      \"PYK_R11\", \"PYK_R12\", \"PYK_R13\", \"PYK_R14\", \"PYK_R15\", \"PYK_R20\",\n",
    "                      \"PYK_R21\", \"PYK_R22\", \"PYK_R23\", \"PYK_R24\", \"PYK_R25\", \"PYK_R30\", \n",
    "                      \"PYK_R31\", \"PYK_R32\", \"PYK_R33\", \"PYK_R34\", \"PYK_R35\", \"PYK_R40\", \n",
    "                      \"PYK_R41\", \"PYK_R42\", \"PYK_R43\", \"PYK_R44\", \"PYK_R45\", \"PYK_L\",\n",
    "                      \"PYK_T1\", \"PYK_T2\", \"PYK_T3\", \"PYK_T4\"]\n",
    "\n",
    "if len(PYK.reactions) == len(new_reaction_order):\n",
    "    PYK.reactions = DictList(PYK.reactions.get_by_any(new_reaction_order))\n",
    "    \n",
    "PYK.update_S(matrix_type=\"DataFrame\", dtype=np.int64)"
   ]
  },
  {
   "cell_type": "markdown",
   "metadata": {},
   "source": [
    "## Model Validation \n",
    "### QC/QA model\n",
    "Before saving the model, it is important to ensure that the model is elementally balanced, and that the model can be integrated into a larger network for simulation. Therefore, the __qcqa_model__ method is used to provide a report on the model quality and indicate whether simulation is possible and if not, what parameters and/or initial conditions are missing."
   ]
  },
  {
   "cell_type": "code",
   "execution_count": 26,
   "metadata": {},
   "outputs": [
    {
     "name": "stdout",
     "output_type": "stream",
     "text": [
      "╒═══════════════════════════════╕\n",
      "│ MODEL ID: PYK                 │\n",
      "│ SIMULATABLE: True;            │\n",
      "│ NUMERICAL CONSISTENCY: True   │\n",
      "╞═══════════════════════════════╡\n",
      "╘═══════════════════════════════╛\n"
     ]
    }
   ],
   "source": [
    "qcqa_model(PYK, parameters=True, concentrations=True, \n",
    "           fluxes=False, superfluous=True, elemental=True)"
   ]
  },
  {
   "cell_type": "markdown",
   "metadata": {},
   "source": [
    "### Constraint Satisfaction and Error Values\n",
    "Another QC/QA check we perform is to substitute the steady state numerical values back into the constraints used in determining the rate constants in order to ensure that the constraints remain satisified, and that errors are small. "
   ]
  },
  {
   "cell_type": "code",
   "execution_count": 27,
   "metadata": {},
   "outputs": [
    {
     "name": "stdout",
     "output_type": "stream",
     "text": [
      "Enzyme T-fraction: 0.1794\n",
      "Constraints Satisfied: True\n",
      "\n",
      "Concentration Absolute Error: 2.0000e-11\n",
      "Flux Absolute Error: 5.1707e-07\n"
     ]
    }
   ],
   "source": [
    "t_fraction = PYK.make_enzyme_fraction(\"forms\", top=\"Tense\", bottom=\"Equation\", use_values=True)\n",
    "print(\"Enzyme T-fraction: {:.4f}\".format(t_fraction))\n",
    "print(\"Constraints Satisfied: {0}\\n\".format(\n",
    "    lb_t_fraction <= t_fraction and t_fraction <= ub_t_fraction))\n",
    "\n",
    "print(\"Concentration Absolute Error: {0:.4e}\".format(abs(PYK.enzyme_concentration_total_error(use_values=True))))\n",
    "print(\"Flux Absolute Error: {0:.4e}\".format(abs(PYK.enzyme_net_flux_error(use_values=True))))"
   ]
  },
  {
   "cell_type": "markdown",
   "metadata": {},
   "source": [
    "### Add Enzyme to MassModel\n",
    "In order to determine whether the model can be successfully integrated into a model, another model can be loaded, merged with the model, and simulated. To validate this model, it will be merged with a __glycolysis__ model.\n",
    "\n",
    "To integrate the EnzymeModel into the MassModel, we first remove the reaction that the EnzymeModel will be replacing. Afterwards, we can use the __MassModel.merge__ method to add the EnzymeModel. When merging an EnzymeModel and a MassModel, the EnzymeModel should always be merged into the MassModel."
   ]
  },
  {
   "cell_type": "code",
   "execution_count": 28,
   "metadata": {},
   "outputs": [],
   "source": [
    "# Load the glycolysis model\n",
    "glycolysis = json.load_json_model(\"../../test-models/json-models/glycolysis.json\")\n",
    "\n",
    "# Remove the PYK MassReaction, then merge the EnzymeModel into the MassModel\n",
    "glycolysis.remove_reactions(glycolysis.reactions.get_by_id(\"PYK\"))\n",
    "glycolysis_PYK = glycolysis.merge(PYK)"
   ]
  },
  {
   "cell_type": "markdown",
   "metadata": {},
   "source": [
    "Using __MassModel.merge(EnzymeModel)__ enables the EnzymeModel and MassModel to be merged like regular MassModel objects. However, all attributes specific to the EnzymeModel (e.g categorized attributes) are condensed into a speciailzed container called an __EnzymeDict__. The EnzymeDict is a special in that its contents can be accessed as if they were attributes. These attributes can be viewed using __EnzymeDict.keys()__.\n",
    "All __EnzymeDicts__ can be accessed via __MassModel.enzymes__.\n"
   ]
  },
  {
   "cell_type": "code",
   "execution_count": 29,
   "metadata": {},
   "outputs": [
    {
     "name": "stdout",
     "output_type": "stream",
     "text": [
      "[<Enzyme PYK at 0x121508f28>]\n",
      "\n",
      "Attribute Accessors: id; name; subsystem; ligands; enzyme_forms; enzyme_reactions; categorized_ligands; categorized_enzyme_forms; categorized_enzyme_reactions; enzyme_concentration_total; enzyme_net_flux; enzyme_net_flux_equation; description; S; model\n",
      "\n"
     ]
    },
    {
     "data": {
      "text/html": [
       "\n",
       "            <table>\n",
       "                <tr>\n",
       "                    <td><strong>Name</strong></td><td>PYK</td>\n",
       "                </tr><tr>\n",
       "                    <td><strong>Memory address</strong></td><td>0x0121508f28</td>\n",
       "                </tr><tr>\n",
       "                    <td><strong>Stoichiometric Matrix</strong></td>\n",
       "                    <td>31x34</td>\n",
       "                </tr><tr>\n",
       "                    <td><strong>Matrix Rank</strong></td>\n",
       "                    <td>25</td>\n",
       "                </tr><tr>\n",
       "                    <td><strong>Subsystem</strong></td>\n",
       "                    <td>Glycolysis</td>\n",
       "                </tr><tr>\n",
       "                    <td><strong>Number of Ligands</strong></td>\n",
       "                    <td>6</td>\n",
       "                </tr><tr>\n",
       "                    <td><strong>Number of EnzymeForms</strong></td>\n",
       "                    <td>25</td>\n",
       "                </tr><tr>\n",
       "                    <td><strong>Number of Enzyme Reactions</strong></td>\n",
       "                    <td>34</td>\n",
       "                </tr><tr>\n",
       "                    <td><strong>Total Enzyme Concentration</strong></td>\n",
       "                    <td>6.9e-05</td>\n",
       "                </tr><tr>\n",
       "                    <td><strong>Enzyme Net Flux</strong></td>\n",
       "                    <td>2.24</td>\n",
       "                </tr>\n",
       "            </table>\n",
       "        "
      ],
      "text/plain": [
       "<Enzyme PYK at 0x121508f28>"
      ]
     },
     "execution_count": 29,
     "metadata": {},
     "output_type": "execute_result"
    }
   ],
   "source": [
    "print(str(glycolysis_PYK.enzymes) + \"\\n\")\n",
    "print(\"Attribute Accessors: \" + \"; \".join(list(\n",
    "    glycolysis_PYK.enzymes.PYK.keys())) + \"\\n\")\n",
    "glycolysis_PYK.enzymes.PYK"
   ]
  },
  {
   "cell_type": "markdown",
   "metadata": {},
   "source": [
    "### Validate Steady State\n",
    "To find the steady state of the model, the __Simulation.find_steady_state_model__ method can used. \n",
    "To validate the steady state of the model, concentration and flux solutions can be plotted using the __plot_simulation__ function."
   ]
  },
  {
   "cell_type": "code",
   "execution_count": 30,
   "metadata": {},
   "outputs": [
    {
     "data": {
      "image/png": "[encoded data removed]",
      "text/plain": [
       "<Figure size 432x288 with 1 Axes>"
      ]
     },
     "metadata": {
      "needs_background": "light"
     },
     "output_type": "display_data"
    }
   ],
   "source": [
    "# Setup simulation object, ensure model is at steady state\n",
    "sim = Simulation(glycolysis_PYK)\n",
    "options={'method': 'LSODA', 'atol': 1e-15}\n",
    "sim.find_steady_state_model(model=glycolysis_PYK, strategy=\"simulate\",\n",
    "                            update_initial_conditions=True, \n",
    "                            update_reactions=True, **options)\n",
    "\n",
    "t0, tf = (0, 1e4)\n",
    "conc_sol, flux_sol = sim.simulate_model(glycolysis_PYK, time=(t0, tf), **options)\n",
    "conc_sol.preview_time_profile"
   ]
  },
  {
   "cell_type": "markdown",
   "metadata": {},
   "source": [
    "### Optional Information: Storing references\n",
    "#### Compartment\n",
    "Because the character \"c\" represents the cytosol compartment, it is recommended to define and set the compartment in the __EnzymeModel.compartments__ attribute."
   ]
  },
  {
   "cell_type": "code",
   "execution_count": 31,
   "metadata": {
    "scrolled": true
   },
   "outputs": [
    {
     "name": "stdout",
     "output_type": "stream",
     "text": [
      "{'c': 'Cytosol'}\n"
     ]
    }
   ],
   "source": [
    "PYK.compartments = {\"c\": \"Cytosol\"}\n",
    "print(PYK.compartments)"
   ]
  },
  {
   "cell_type": "markdown",
   "metadata": {},
   "source": [
    "#### Units\n",
    "All of the units for the numerical values used in this model are \"Millimoles\" for amount, \"Liters\" for volume, and \"Hours\" for time. In order to ensure that future users understand the numerical values for model, it is important to define the __EnzymeModel.units__ attribute. Like the __compartment__ attribute, the __units__ attribute is a dictionary and can easily be updated using the same methods.\n",
    "\n",
    "Note that this attribute will NOT track units, but instead acts as a reference for the user and others so that they can perform necessary unit conversions."
   ]
  },
  {
   "cell_type": "code",
   "execution_count": 32,
   "metadata": {},
   "outputs": [
    {
     "data": {
      "text/plain": [
       "{'N': 'Millimoles', 'Vol': 'Liters', 'Time': 'Hours'}"
      ]
     },
     "execution_count": 32,
     "metadata": {},
     "output_type": "execute_result"
    }
   ],
   "source": [
    "PYK.units = {'N': 'Millimoles', 'Vol': 'Liters', 'Time': 'Hours'}\n",
    "PYK.units"
   ]
  },
  {
   "cell_type": "markdown",
   "metadata": {},
   "source": [
    "## Export\n",
    "After validation, the model is ready to be saved. The model can either be exported as a \".json\" file or if the model conforms to SBML standards, as a \".xml\" file using the classes in __mass.io__. To export the model, only the path to the directory and the name of the model need to be specified. Both are shown. "
   ]
  },
  {
   "cell_type": "markdown",
   "metadata": {},
   "source": [
    "### Export using JSON"
   ]
  },
  {
   "cell_type": "code",
   "execution_count": 33,
   "metadata": {},
   "outputs": [],
   "source": [
    "json.save_json_model(PYK, \"../../test-models/json-models/PYK.json\")"
   ]
  },
  {
   "cell_type": "markdown",
   "metadata": {},
   "source": [
    "### Export using SBML"
   ]
  },
  {
   "cell_type": "code",
   "execution_count": 34,
   "metadata": {},
   "outputs": [],
   "source": [
    "# sbml.write_sbml_model(PYK, \"../../test-models/sbml-models/PYK.xml\")"
   ]
  }
 ],
 "metadata": {
  "kernelspec": {
   "display_name": "Python 3",
   "language": "python",
   "name": "python3"
  },
  "language_info": {
   "codemirror_mode": {
    "name": "ipython",
    "version": 3
   },
   "file_extension": ".py",
   "mimetype": "text/x-python",
   "name": "python",
   "nbconvert_exporter": "python",
   "pygments_lexer": "ipython3",
   "version": "3.7.2"
  }
 },
 "nbformat": 4,
 "nbformat_minor": 2
}
