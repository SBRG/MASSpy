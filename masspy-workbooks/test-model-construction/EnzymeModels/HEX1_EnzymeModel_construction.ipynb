{
 "cells": [
  {
   "cell_type": "markdown",
   "metadata": {},
   "source": [
    "# Hexokinase (HEX1)\n",
    "To construct the hexokinase model, first we import __masspy__ and any additional packages that will be necessary.  "
   ]
  },
  {
   "cell_type": "code",
   "execution_count": 1,
   "metadata": {},
   "outputs": [],
   "source": [
    "import matplotlib.pyplot as plt\n",
    "\n",
    "import numpy as np\n",
    "\n",
    "from scipy import optimize\n",
    "\n",
    "import sympy as sym\n",
    "\n",
    "from cobra import DictList\n",
    "\n",
    "from mass import MassMetabolite, Simulation, qcqa_model\n",
    "from mass.enzymes import EnzymeForm, EnzymeModel\n",
    "from mass.io import json#, sbml\n",
    "from mass.util import Keq2k, k2Keq, strip_time"
   ]
  },
  {
   "cell_type": "markdown",
   "metadata": {},
   "source": [
    "Note that the total enzyme concentration of HEX1 is \\\\(24 nM = 0.024 \\mu M = 0.000024 mM\\\\)."
   ]
  },
  {
   "cell_type": "markdown",
   "metadata": {},
   "source": [
    "## Model Construction\n",
    "The first step of creating the HEX1 model is to define the EnzymeModel object."
   ]
  },
  {
   "cell_type": "code",
   "execution_count": 2,
   "metadata": {},
   "outputs": [],
   "source": [
    "HEX1 = EnzymeModel(\"HEX1\", name=\"Hexokinase (D-glucose:ATP)\", subsystem=\"Glycolysis\")"
   ]
  },
  {
   "cell_type": "markdown",
   "metadata": {},
   "source": [
    "## Metabolites\n",
    "### Ligands\n",
    "The next step is to define all of the ligands involved in the HEX1 catalytic mechanism using identifiers and the names found in the BiGG Database (http://bigg.ucsd.edu/). In order to ensure our model is physiologically accurate, it is important to provide the __formula__ keyword with a string representing the chemical formula for each metabolite, and the  __charge__ keyword with an integer representing the metabolite's ionic charge (Note that neutrally charged metabolites are provided with 0). To indicate that the cytosol is the cellular compartment in which the enzymatic reaction occurs, the string \"c\" is provided to the __compartment__ keyword.\n",
    "\n",
    "First, the inhibitors, cofactors, and the substrate associated with this enzyme. There are 6 species which must be considered."
   ]
  },
  {
   "cell_type": "code",
   "execution_count": 3,
   "metadata": {},
   "outputs": [],
   "source": [
    "glc__D_c = MassMetabolite(\n",
    "    id=\"glc__D_c\",\n",
    "    name=\"D-Glucose\",\n",
    "    formula=\"C6H12O6\",\n",
    "    charge=0,\n",
    "    compartment=\"c\")\n",
    "g6p_c = MassMetabolite(\n",
    "    id=\"g6p_c\",\n",
    "    name=\"D-Glucose 6-phosphate\",\n",
    "    formula=\"C6H11O9P\",\n",
    "    charge=-2,\n",
    "    compartment=\"c\")\n",
    "atp_c = MassMetabolite(\n",
    "    id=\"atp_c\",\n",
    "    name=\"ATP\",\n",
    "    formula=\"C10H12N5O13P3\",\n",
    "    charge=-4,\n",
    "    compartment=\"c\")\n",
    "adp_c = MassMetabolite(\n",
    "    id=\"adp_c\",\n",
    "    name=\"ADP\",\n",
    "    formula=\"C10H12N5O10P2\",\n",
    "    charge=-3,\n",
    "    compartment=\"c\")\n",
    "_23dpg_c = MassMetabolite(\n",
    "    id=\"_23dpg_c\", \n",
    "    name=\"2,3-Disphospho-D-glycerate\", \n",
    "    formula=\"C3H3O10P2\",\n",
    "    charge=-5,\n",
    "    compartment=\"c\")\n",
    "h_c = MassMetabolite(\n",
    "    id=\"h_c\",\n",
    "    name=\"H+\",\n",
    "    formula=\"H\",\n",
    "    charge=1,\n",
    "    compartment=\"c\")"
   ]
  },
  {
   "cell_type": "markdown",
   "metadata": {},
   "source": [
    "After generating the ligands, they are added to the EnzymeModel. The ligands of the EnzymeModel can be viewed using the __EnzymeModel.categorized_ligands__ property. Note that all of the ligands are categorized as undefined. "
   ]
  },
  {
   "cell_type": "code",
   "execution_count": 4,
   "metadata": {},
   "outputs": [
    {
     "name": "stdout",
     "output_type": "stream",
     "text": [
      "Undefined: ['_23dpg_c', 'adp_c', 'atp_c', 'g6p_c', 'glc__D_c', 'h_c']\n"
     ]
    }
   ],
   "source": [
    "HEX1.add_metabolites([glc__D_c, g6p_c, atp_c, adp_c, _23dpg_c, h_c])\n",
    "for category, ligands in HEX1.categorized_ligands.items():\n",
    "    print(\"{0}: {1}\".format(category, str([m.id for m in ligands])))"
   ]
  },
  {
   "cell_type": "markdown",
   "metadata": {},
   "source": [
    "When metabolites are first added to an EnzymeModel, they are placed in the \"Undefined\" category. The __EnzymeModel.categorized_ligands__ property can also be used to reassign metabolites to user-defined categories by providing a dictionary where keys are the categories and values are the metabolites. Note that a metabolite can be given placed in more than one category."
   ]
  },
  {
   "cell_type": "code",
   "execution_count": 5,
   "metadata": {},
   "outputs": [
    {
     "name": "stdout",
     "output_type": "stream",
     "text": [
      "Substrates: ['glc__D_c']\n",
      "Cofactors: ['atp_c']\n",
      "Inhibitors: ['_23dpg_c']\n",
      "Products: ['adp_c', 'g6p_c', 'h_c']\n"
     ]
    }
   ],
   "source": [
    "HEX1.categorized_ligands =  {\n",
    "    \"Substrates\": glc__D_c,\n",
    "    \"Cofactors\": atp_c,\n",
    "    \"Inhibitors\": _23dpg_c,\n",
    "    \"Products\": [adp_c, g6p_c, h_c]}\n",
    "for category, ligands in HEX1.categorized_ligands.items():\n",
    "    print(\"{0}: {1}\".format(category, str([m.id for m in ligands])))"
   ]
  },
  {
   "cell_type": "markdown",
   "metadata": {},
   "source": [
    "### Enzyme Forms\n",
    "\n",
    "This HEX1 model will be considered a monomer with a random sequential mechanism. There is also a categorized enzyme form dictionary, accessible via __EnzymeModel.categorized_enzyme_forms__, that behaves similarly to the __EnzymeModel.categorized_ligands__ attribute, as shown below. Alternatively, one can access a __cobra.DictList__ of all EnzymeForms through the __EnzymeModel.enzyme_forms__ attribute."
   ]
  },
  {
   "cell_type": "code",
   "execution_count": 6,
   "metadata": {},
   "outputs": [
    {
     "name": "stdout",
     "output_type": "stream",
     "text": [
      "Free: ['hex1_AG_c', 'hex1_A_c', 'hex1_G_c', 'hex1_c']\n",
      "Inhibited: ['hex1_A_PI_c', 'hex1_G_CI_c', 'hex1_G_PI_c']\n"
     ]
    }
   ],
   "source": [
    "HEX1.make_enzyme_form(\n",
    "    id=\"hex1_c\",\n",
    "    name=\"Automatic\",\n",
    "    categories=\"Free\",\n",
    "    compartment=\"c\")\n",
    "HEX1.make_enzyme_form(\n",
    "    id=\"hex1_A_c\",\n",
    "    name=\"Automatic\",\n",
    "    categories=\"Free\",\n",
    "    bound_catalytic={atp_c: 1},\n",
    "    compartment=\"c\")\n",
    "HEX1.make_enzyme_form(\n",
    "    id=\"hex1_G_c\",\n",
    "    name=\"Automatic\",\n",
    "    categories=\"Free\",\n",
    "    bound_catalytic={glc__D_c: 1},\n",
    "    compartment=\"c\")\n",
    "HEX1.make_enzyme_form(\n",
    "    id=\"hex1_AG_c\",\n",
    "    name=\"Automatic\",\n",
    "    categories=\"Free\",\n",
    "    bound_catalytic={glc__D_c: 1, atp_c: 1},\n",
    "    compartment=\"c\")\n",
    "HEX1.make_enzyme_form(\n",
    "    id=\"hex1_G_CI_c\",\n",
    "    name=\"Automatic\",\n",
    "    categories=\"Inhibited\",\n",
    "    bound_catalytic={glc__D_c: 1, _23dpg_c: 1},\n",
    "    compartment=\"c\")\n",
    "HEX1.make_enzyme_form(\n",
    "    id=\"hex1_A_PI_c\",\n",
    "    name=\"Automatic\",\n",
    "    categories=\"Inhibited\",\n",
    "    bound_catalytic={adp_c: 1},\n",
    "    compartment=\"c\")\n",
    "HEX1.make_enzyme_form(\n",
    "    id=\"hex1_G_PI_c\",\n",
    "    name=\"Automatic\",\n",
    "    categories=\"Inhibited\",\n",
    "    bound_catalytic={g6p_c: 1},\n",
    "    compartment=\"c\")\n",
    "\n",
    "# Display newly made EnzymeForms in their categories\n",
    "for category, enzyme_forms in HEX1.categorized_enzyme_forms.items():\n",
    "    print(\"{0}: {1}\".format(category, str([r.id for r in enzyme_forms])))"
   ]
  },
  {
   "cell_type": "markdown",
   "metadata": {},
   "source": [
    "## Reactions\n",
    "### Enzyme Reactions\n",
    "Once all of the MassMetabolite and EnzymeForm objects have been created for each of the species in HEX1, the next step is to define all of the reactions that occur in its mechanism. The __EnzymeModel.make_enzyme_reaction__ method can be used to create an enzyme binding reaction, a reaction represnting a transition between states, etc. It requires the same parameters needed to initialize a MassReaction, and it allows for one to define a category for the reaction, similar to how ligands can be categorized and accessible through the __EnzymeModel.enzyme_reactions__ property. Additionally, metabolites and EnzymeForms can also be directly added to the reaction by providing the __add_metabolites__ kwarg a dictionary, where keys can be EnzymeForm and MassMetabolites objects or their ids if they already exist in the EnzymeModel, and values are the stoichiometric coefficients (reactants have negative coefficients, products have positive ones). Note that after the creation of each MassReaction object, the reaction is added to the EnzymeModel.\n",
    "\n",
    "In this model of HEX1, there are 8 reactions occuring."
   ]
  },
  {
   "cell_type": "code",
   "execution_count": 7,
   "metadata": {},
   "outputs": [
    {
     "name": "stdout",
     "output_type": "stream",
     "text": [
      "product inhibition: ['HEX1_1', 'HEX1_2']\n",
      "glc__D_c binding: ['HEX1_3', 'HEX1_7']\n",
      "atp_c binding: ['HEX1_4', 'HEX1_6']\n",
      "competitive inhibition: ['HEX1_5']\n",
      "catalyzation: ['HEX1_8']\n"
     ]
    }
   ],
   "source": [
    "HEX1.make_enzyme_reaction(\n",
    "    id=\"HEX1_1\",\n",
    "    name=\"Automatic\",\n",
    "    subsystem=\"Glycolysis\",\n",
    "    reversible=True,\n",
    "    categories=\"product inhibition\",\n",
    "    metabolites_to_add={\n",
    "        \"hex1_c\": -1,\n",
    "        \"adp_c\": -1,\n",
    "        \"hex1_A_PI_c\": 1})\n",
    "\n",
    "HEX1.make_enzyme_reaction(\n",
    "    id=\"HEX1_2\",\n",
    "    name=\"Automatic\",\n",
    "    subsystem=\"Glycolysis\",\n",
    "    reversible=True,\n",
    "    categories=\"product inhibition\",\n",
    "    metabolites_to_add={\n",
    "        \"hex1_c\": -1,\n",
    "        \"g6p_c\": -1,\n",
    "        \"hex1_G_PI_c\": 1})\n",
    "\n",
    "HEX1.make_enzyme_reaction(\n",
    "    id=\"HEX1_3\",\n",
    "    name=\"Automatic\",\n",
    "    subsystem=\"Glycolysis\",\n",
    "    reversible=True,\n",
    "    categories=\"glc__D_c binding\",\n",
    "    metabolites_to_add={\n",
    "        \"hex1_c\": -1,\n",
    "        \"glc__D_c\": -1,\n",
    "        \"hex1_G_c\": 1})\n",
    "\n",
    "HEX1.make_enzyme_reaction(\n",
    "    id=\"HEX1_4\",\n",
    "    name=\"Automatic\",\n",
    "    subsystem=\"Glycolysis\",\n",
    "    reversible=True,\n",
    "    categories=\"atp_c binding\",\n",
    "    metabolites_to_add={\n",
    "        \"hex1_c\": -1,\n",
    "        \"atp_c\": -1,\n",
    "        \"hex1_A_c\": 1})\n",
    "\n",
    "HEX1.make_enzyme_reaction(\n",
    "    id=\"HEX1_5\",\n",
    "    name=\"Automatic\",\n",
    "    subsystem=\"Glycolysis\",\n",
    "    reversible=True,\n",
    "    categories=\"competitive inhibition\",\n",
    "    metabolites_to_add={\n",
    "        \"hex1_G_c\": -1,\n",
    "        \"_23dpg_c\": -1,\n",
    "        \"hex1_G_CI_c\": 1})\n",
    "\n",
    "HEX1.make_enzyme_reaction(\n",
    "    id=\"HEX1_6\",\n",
    "    name=\"Automatic\",\n",
    "    subsystem=\"Glycolysis\",\n",
    "    reversible=True,\n",
    "    categories=\"atp_c binding\",\n",
    "    metabolites_to_add={\n",
    "        \"hex1_G_c\": -1,\n",
    "        \"atp_c\": -1,\n",
    "        \"hex1_AG_c\": 1})\n",
    "\n",
    "HEX1.make_enzyme_reaction(\n",
    "    id=\"HEX1_7\",\n",
    "    name=\"Automatic\",\n",
    "    subsystem=\"Glycolysis\",\n",
    "    reversible=True,\n",
    "    categories=\"glc__D_c binding\",\n",
    "    metabolites_to_add={\n",
    "        \"hex1_A_c\": -1,\n",
    "        \"glc__D_c\": -1,\n",
    "        \"hex1_AG_c\": 1})\n",
    "\n",
    "HEX1.make_enzyme_reaction(\n",
    "    id=\"HEX1_8\",\n",
    "    name=\"Automatic\",\n",
    "    subsystem=\"Glycolysis\",\n",
    "    reversible=True,\n",
    "    categories=\"catalyzation\",\n",
    "    metabolites_to_add={\n",
    "        \"hex1_AG_c\": -1,\n",
    "        \"hex1_c\": 1,\n",
    "        \"adp_c\": 1,\n",
    "        \"g6p_c\": 1,\n",
    "        \"h_c\": 1})\n",
    "\n",
    "# Display newly made reactions in their categories\n",
    "for category, enzyme_reactions in HEX1.categorized_enzyme_reactions.items():\n",
    "    print(\"{0}: {1}\".format(category, str([r.id for r in enzyme_reactions])))"
   ]
  },
  {
   "cell_type": "markdown",
   "metadata": {},
   "source": [
    "### Create and  Unify Rate Parameters\n",
    "The next step is to unify rate parameters of binding steps that are not unique. For example, glucose binding to the enzyme occurs both when the enzyme is free and when the enzyme is bound to the cofactor ATP. Whether ATP is bound does not affect the rate parameters. Therefore, custom rate laws are used to reduce the number of parameters that need to be defined and better represent the model.\n",
    "\n",
    "The rate laws can be unified using the __EnzymeModel.unify_rate_parameters__ method. This method requires a list of reactions whose rate laws that should be identical, along with a string representation of the new identifier to use on the unified parameters. There is also the optional kwarg argument __prefix__, which if set to True, prefixes the new parameter identifier with the enzyme model identifier. This can be used to help prevent custom parameters from being replaced when multiple models are merged. "
   ]
  },
  {
   "cell_type": "code",
   "execution_count": 8,
   "metadata": {},
   "outputs": [
    {
     "name": "stdout",
     "output_type": "stream",
     "text": [
      "Category: product inhibition\n",
      "----------------------------\n",
      "HEX1_1: kf_HEX1_1*(adp_c(t)*hex1_c(t) - hex1_A_PI_c(t)/Keq_HEX1_1)\n",
      "HEX1_2: kf_HEX1_2*(g6p_c(t)*hex1_c(t) - hex1_G_PI_c(t)/Keq_HEX1_2)\n",
      "\n",
      "Category: glc__D_c binding\n",
      "--------------------------\n",
      "HEX1_3: kf_HEX1_G*(glc__D_c(t)*hex1_c(t) - hex1_G_c(t)/Keq_HEX1_G)\n",
      "HEX1_7: kf_HEX1_G*(glc__D_c(t)*hex1_A_c(t) - hex1_AG_c(t)/Keq_HEX1_G)\n",
      "\n",
      "Category: atp_c binding\n",
      "-----------------------\n",
      "HEX1_4: kf_HEX1_A*(atp_c(t)*hex1_c(t) - hex1_A_c(t)/Keq_HEX1_A)\n",
      "HEX1_6: kf_HEX1_A*(atp_c(t)*hex1_G_c(t) - hex1_AG_c(t)/Keq_HEX1_A)\n",
      "\n",
      "Category: competitive inhibition\n",
      "--------------------------------\n",
      "HEX1_5: kf_HEX1_5*(_23dpg_c(t)*hex1_G_c(t) - hex1_G_CI_c(t)/Keq_HEX1_5)\n",
      "\n",
      "Category: catalyzation\n",
      "----------------------\n",
      "HEX1_8: kf_HEX1*(hex1_AG_c(t) - adp_c(t)*g6p_c(t)*hex1_c(t)/Keq_HEX1)\n",
      "\n"
     ]
    }
   ],
   "source": [
    "enzyme_prefix = True\n",
    "abbreviations = [\"A\", \"G\"]\n",
    "ligands = [atp_c, glc__D_c]\n",
    "\n",
    "for met, unified_id in zip(ligands, abbreviations):\n",
    "    reactions = HEX1.categorized_enzyme_reactions[met.id + \" binding\"]\n",
    "    HEX1.unify_rate_parameters(reactions, unified_id, rate_type=1, enzyme_prefix=enzyme_prefix)\n",
    "\n",
    "HEX1.unify_rate_parameters(HEX1.categorized_enzyme_reactions[\"catalyzation\"], \"HEX1\")\n",
    "    \n",
    "# Display newly made reactions in their categories\n",
    "for category, enzyme_reactions in HEX1.categorized_enzyme_reactions.items():\n",
    "    header = \"Category: \" + category\n",
    "    print(header + \"\\n\" + \"-\"*len(header))\n",
    "    for reaction in enzyme_reactions:\n",
    "        print(reaction.id + \": \" + str(reaction.rate))\n",
    "    print()"
   ]
  },
  {
   "cell_type": "markdown",
   "metadata": {},
   "source": [
    "## The Steady State\n",
    "### Solve steady state concentrations symbolically\n",
    "To determine the steady state of the enzyme, first we will identify the enzyme forms and store them in a list. Then, we define a dictionary of the ordinary differential equations as sympy expressions."
   ]
  },
  {
   "cell_type": "code",
   "execution_count": 9,
   "metadata": {},
   "outputs": [],
   "source": [
    "ode_dict = {\n",
    "    sym.Symbol(enzyme_form.id): sym.Eq(strip_time(enzyme_form.ode))\n",
    "    for enzyme_form in HEX1.enzyme_forms}"
   ]
  },
  {
   "cell_type": "markdown",
   "metadata": {},
   "source": [
    "We also use the catalyzation reactions in order to create our equation for \\\\(v_{\\mathrm{HEX1}}\\\\)."
   ]
  },
  {
   "cell_type": "code",
   "execution_count": 10,
   "metadata": {},
   "outputs": [
    {
     "name": "stdout",
     "output_type": "stream",
     "text": [
      "         kf_HEX1⋅(Keq_HEX1⋅hex_1_AG_c(t) - adp_c(t)⋅g6p_c(t)⋅hex_1_c(t))\n",
      "v_HEX1 = ───────────────────────────────────────────────────────────────\n",
      "                                     Keq_HEX1                           \n"
     ]
    }
   ],
   "source": [
    "HEX1.make_enzyme_net_flux_equation(HEX1.categorized_enzyme_reactions[\"catalyzation\"], \n",
    "                                   use_rates=True, update_enzyme=True)\n",
    "sym.pprint(HEX1.enzyme_net_flux_equation)"
   ]
  },
  {
   "cell_type": "markdown",
   "metadata": {},
   "source": [
    "We then identify equations for the unknown concentrations we wish to solve for in each reaction. We will treat the completely free form of the enzyme with no bound species as our dependent variable."
   ]
  },
  {
   "cell_type": "code",
   "execution_count": 11,
   "metadata": {},
   "outputs": [],
   "source": [
    "# Get enzyme forms\n",
    "enzyme_forms = HEX1.enzyme_forms.copy()\n",
    "# Reverse list for performance\n",
    "enzyme_forms.reverse()\n",
    "\n",
    "enzyme_solutions = {}\n",
    "for enzyme_form in enzyme_forms:\n",
    "    # Skip dependent variable\n",
    "    if \"hex1_c\" == str(enzyme_form):\n",
    "        continue\n",
    "    else:\n",
    "        enzyme_form = sym.Symbol(enzyme_form.id)\n",
    "    # Solve for the enzyme form and update the solution dictionary\n",
    "    sol = list(sym.solveset(ode_dict[enzyme_form].subs(enzyme_solutions), enzyme_form))\n",
    "    enzyme_solutions[enzyme_form] = sol.pop()\n",
    "    enzyme_solutions.update({enzyme_form: sol.subs(enzyme_solutions) \n",
    "                             for enzyme_form, sol in enzyme_solutions.items()})"
   ]
  },
  {
   "cell_type": "markdown",
   "metadata": {},
   "source": [
    "The reaction rate equation can be utilized as the last necessary equation in order to solve for the our final unknown concentration variable in terms of the rate and equilibrium constants. Once the unknown variable has been solved for, we substitute the solution back into our other equations. Because __sym.solveset__ expects the input equations to be equal to 0, we can use the __EnzymeModel.enzyme_net_flux_error__ method to get the appropriate expression."
   ]
  },
  {
   "cell_type": "code",
   "execution_count": 12,
   "metadata": {},
   "outputs": [
    {
     "name": "stdout",
     "output_type": "stream",
     "text": [
      "         kf_HEX1⋅(Keq_HEX1⋅hex_1_AG_c - adp_c⋅g6p_c⋅hex_1_c)\n",
      "v_HEX1 - ───────────────────────────────────────────────────\n",
      "                               Keq_HEX1                     \n"
     ]
    }
   ],
   "source": [
    "# Solve for enzyme form\n",
    "sym.pprint(strip_time(HEX1.enzyme_net_flux_error()))\n",
    "sol = sym.solveset(strip_time(HEX1.enzyme_net_flux_error()).subs(enzyme_solutions), \"hex1_c\")\n",
    "# Add to solution dictionary\n",
    "enzyme_solutions[sym.Symbol(\"hex1_c\")] = list(sol).copy().pop()\n",
    "# Update solutions with free variable solutions\n",
    "enzyme_solutions = {enzyme_form: sym.simplify(solution.subs(enzyme_solutions))\n",
    "                    for enzyme_form, solution in enzyme_solutions.items()}"
   ]
  },
  {
   "cell_type": "markdown",
   "metadata": {},
   "source": [
    "#### Numerical Values\n",
    "At this point, numerical values are defined for the dissociation constants and the concentrations of the substrates, cofactors, activators, and inhibitors. Providing these numerical values will speed up the subsequent calculations. \n",
    "\n",
    "To do this, experimental data is used to define the dissociations constants for the different binding steps under the QEA assumption. The concentrations of the non-enzyme species are taken from the glycolysis model. \n",
    "\n",
    "Experimental data gives the following for the dissociation constants: \n",
    "\n",
    "$$K_{i, \\text{ADP}} = 1,\\ K_{i, \\text{G6P}} = 1/0.015,\\ K_{\\text{GLC}} = 0.038,\\ K_{\\text{ATP}} = 2.06,\\ K_{\\text{23DPG}} = 5.5,\\$$ \n",
    "\n",
    "which gives us a value of $K_{\\text{HEX1}} = \\frac{4000}{\\frac{1}{K_{\\text{GLC}}}*\\frac{1}{K_{\\text{ATP}}}}$ for the catalyzation step."
   ]
  },
  {
   "cell_type": "code",
   "execution_count": 13,
   "metadata": {},
   "outputs": [
    {
     "name": "stdout",
     "output_type": "stream",
     "text": [
      "v_HEX1 = 1.12\n",
      "_23dpg_c = 3.1\n",
      "adp_c = 0.29\n",
      "atp_c = 1.6\n",
      "g6p_c = 0.0486\n",
      "glc__D_c = 1.0\n",
      "h_c = 8.99757e-05\n",
      "Keq_HEX1_A = 0.4854368932038835\n",
      "Keq_HEX1_G = 26.315789473684212\n",
      "Keq_HEX1 = 313.11999999999995\n",
      "Keq_HEX1_1 = 1\n",
      "Keq_HEX1_2 = 0.015\n",
      "Keq_HEX1_5 = 0.18181818181818182\n"
     ]
    }
   ],
   "source": [
    "numerical_values = {}\n",
    "\n",
    "# Get ligand IDs\n",
    "ligand_ids = sorted([str(ligand) for ligand in HEX1.ligands])\n",
    "parameter_ids = [\"_\".join((HEX1.id, abbrev)) \n",
    "                 if enzyme_prefix else abbrev \n",
    "                 for abbrev in abbreviations]\n",
    "parameter_ids.extend([HEX1.id])\n",
    "\n",
    "# Load the glycolysis model and hemoglobin model to extract steady state values\n",
    "glycolysis = json.load_json_model(\"../../test-models/json-models/glycolysis.json\")\n",
    "hemoglobin= json.load_json_model(\"../../test-models/json-models/hemoglobin.json\")\n",
    "glycolysis_hb = glycolysis.merge(hemoglobin)\n",
    "\n",
    "\n",
    "# Get the steady state flux value and add to numerical values\n",
    "HEX1.enzyme_net_flux = glycolysis_hb.reactions.get_by_id(HEX1.id).steady_state_flux\n",
    "numerical_values.update({HEX1.enzyme_flux_symbol: HEX1.enzyme_net_flux})\n",
    "\n",
    "# Get the steady state concentration values and add to numerical values\n",
    "initial_conditions = {\n",
    "    str(ligand): glycolysis_hb.initial_conditions[glycolysis_hb.metabolites.get_by_id(ligand)]\n",
    "    for ligand in ligand_ids}\n",
    "numerical_values.update(initial_conditions)\n",
    "\n",
    "# Define parameter values and add to numerical values\n",
    "parameter_values = {\n",
    "    \"Keq_\" + parameter_id: value \n",
    "    for parameter_id, value in zip(parameter_ids, [1/2.06, 1/0.038, 4000/((1/2.06) * (1/0.038))])}\n",
    "for reaction, value in zip([\"HEX1_1\", \"HEX1_2\", \"HEX1_5\"], [1, 0.015, 1/5.5]):\n",
    "    reaction = HEX1.reactions.get_by_id(reaction)\n",
    "    parameter_values[reaction.Keq_str] = value\n",
    "    \n",
    "numerical_values.update(parameter_values)\n",
    "\n",
    "# Substitute values into equations\n",
    "enzyme_solutions = {enzyme_form: sym.simplify(solution.subs(numerical_values))\n",
    "                    for enzyme_form, solution in enzyme_solutions.items()}\n",
    "\n",
    "# Display numerical values\n",
    "for k, v in numerical_values.items():\n",
    "    print(\"{0} = {1}\".format(k, v))"
   ]
  },
  {
   "cell_type": "markdown",
   "metadata": {},
   "source": [
    "The last part of this step is to simplify the solutions for the enzyme forms and, as a QCQA, ensure that only rate constants are the only symbolic arguments in the solutions. "
   ]
  },
  {
   "cell_type": "code",
   "execution_count": 14,
   "metadata": {},
   "outputs": [
    {
     "name": "stdout",
     "output_type": "stream",
     "text": [
      "('kf_HEX1', 'kf_HEX1_A', 'kf_HEX1_G')\n"
     ]
    }
   ],
   "source": [
    "args = tuple(sorted(set([\n",
    "    str(arg) for sol in enzyme_solutions.values() \n",
    "    for arg in list(sol.atoms(sym.Symbol))])))\n",
    "print(args)"
   ]
  },
  {
   "cell_type": "markdown",
   "metadata": {},
   "source": [
    "### Determine rate constants\n",
    "#### Total Enzyme Concentration and $r_{T}$ \n",
    "After solving for the enzyme forms, the next step is to define equations for the total enzyme concentration and for the fraction of the enzyme in the inhibited state to be used as constraints for determining the rate parameters. To view the equation for the total enzyme concentration, we can use the __EnzymeModel.total_enzyme_equation__ property."
   ]
  },
  {
   "cell_type": "code",
   "execution_count": 15,
   "metadata": {
    "scrolled": true
   },
   "outputs": [
    {
     "name": "stdout",
     "output_type": "stream",
     "text": [
      "HEX_1_Total = hex_1_AG_c(t) + hex_1_A_PI_c(t) + hex_1_A_c(t) + hex_1_G_CI_c(t)\n",
      " + hex_1_G_PI_c(t) + hex_1_G_c(t) + hex_1_c(t)\n"
     ]
    }
   ],
   "source": [
    "sym.pprint(HEX1.enzyme_concentration_total_equation)"
   ]
  },
  {
   "cell_type": "markdown",
   "metadata": {},
   "source": [
    "The total concentration of HEX1 is 0.000024 mM. The __EnzymeModel.total_enzyme_concentration__ atrribute can be used to set and store this concentration."
   ]
  },
  {
   "cell_type": "code",
   "execution_count": 16,
   "metadata": {},
   "outputs": [
    {
     "name": "stdout",
     "output_type": "stream",
     "text": [
      "2.4e-05\n"
     ]
    }
   ],
   "source": [
    "HEX1.enzyme_concentration_total = 24e-6\n",
    "print(HEX1.enzyme_concentration_total)"
   ]
  },
  {
   "cell_type": "markdown",
   "metadata": {},
   "source": [
    "To determine the rate constants, we can set up an optimization problem where we minimize the error between the measured and calculated total enzyme concentrations. We start by creating the objective function based on the absolute error between the measured and calculated total enzyme concentrations. We can use the __EnzymeModel.enzyme_concentration_total_error__ method to get the symbolic expression for the constraint. "
   ]
  },
  {
   "cell_type": "code",
   "execution_count": 17,
   "metadata": {},
   "outputs": [
    {
     "name": "stdout",
     "output_type": "stream",
     "text": [
      "│-HEX_1_Total + hex_1_AG_c + hex_1_A_PI_c + hex_1_A_c + hex_1_G_CI_c + hex_1_G\n",
      "_PI_c + hex_1_G_c + hex_1_c│\n"
     ]
    }
   ],
   "source": [
    "enzyme_total_constraint = abs(strip_time(HEX1.enzyme_concentration_total_error()))\n",
    "sym.pprint(enzyme_total_constraint)"
   ]
  },
  {
   "cell_type": "markdown",
   "metadata": {},
   "source": [
    "We introduce our solutions for the enzyme forms to get an equation for the error in the enzyme total concentration in terms of the rate constants."
   ]
  },
  {
   "cell_type": "code",
   "execution_count": 18,
   "metadata": {},
   "outputs": [
    {
     "name": "stdout",
     "output_type": "stream",
     "text": [
      "│                                    3                                        \n",
      "│- 335.776885207799⋅kf_HEX1⋅kf_HEX1_A ⋅kf_HEX1_G + 18234907.2265803⋅kf_HEX1⋅kf\n",
      "│─────────────────────────────────────────────────────────────────────────────\n",
      "│                                                                             \n",
      "│                                                                             \n",
      "\n",
      "       3                                     2          2                     \n",
      "_HEX1_A  - 190.457052921145⋅kf_HEX1⋅kf_HEX1_A ⋅kf_HEX1_G  + 19750278.9130872⋅k\n",
      "──────────────────────────────────────────────────────────────────────────────\n",
      "                                                                              \n",
      "                                                                              \n",
      "\n",
      "                2                                                         3   \n",
      "f_HEX1⋅kf_HEX1_A ⋅kf_HEX1_G - 27.0074345535722⋅kf_HEX1⋅kf_HEX1_A⋅kf_HEX1_G  + \n",
      "──────────────────────────────────────────────────────────────────────────────\n",
      "                            ⎛                         2                       \n",
      "kf_HEX1⋅kf_HEX1_A⋅kf_HEX1_G⋅⎝13990703.550325⋅kf_HEX1_A  + 7935710.53838105⋅kf_\n",
      "\n",
      "                                            2                                 \n",
      "8449888.85349162⋅kf_HEX1⋅kf_HEX1_A⋅kf_HEX1_G  + 1223836.7957811⋅kf_HEX1⋅kf_HEX\n",
      "──────────────────────────────────────────────────────────────────────────────\n",
      "                                             2⎞                               \n",
      "HEX1_A⋅kf_HEX1_G + 1125309.77306551⋅kf_HEX1_G ⎠                               \n",
      "\n",
      "   3                             3                                       2    \n",
      "1_G  + 48800386.8994508⋅kf_HEX1_A ⋅kf_HEX1_G + 27680219.4544426⋅kf_HEX1_A ⋅kf_\n",
      "──────────────────────────────────────────────────────────────────────────────\n",
      "                                                                              \n",
      "                                                                              \n",
      "\n",
      "      2                                       3│\n",
      "HEX1_G  + 3925145.87345784⋅kf_HEX1_A⋅kf_HEX1_G │\n",
      "───────────────────────────────────────────────│\n",
      "                                               │\n",
      "                                               │\n"
     ]
    }
   ],
   "source": [
    "enzyme_total_constraint = sym.simplify(enzyme_total_constraint.subs(\n",
    "    enzyme_solutions).subs({HEX1.enzyme_total_symbol: HEX1.enzyme_concentration_total}))\n",
    "sym.pprint(enzyme_total_constraint)\n",
    "obj_func = lambda x: sym.lambdify(args, enzyme_total_constraint)(*x)"
   ]
  },
  {
   "cell_type": "markdown",
   "metadata": {},
   "source": [
    "Another constraint can be set on the amount of inhibited enzyme in the steady state of the system using the inhibited fraction (denoted as \\\\(r_{T}\\\\)). This fraction is simply the amount of inhibited enzyme over the total amount of enzyme. Assume 15-25% of HEX1 is in inhibited form for this constraint. \n",
    "\n",
    "To make the fraction expression, we can use the __EnzymeModel.make_enzyme_fraction__ method. This method is designed to assist in making fractions and ratios by providing a string identifying the categorized dict attribute (either \"forms\" for the __EnzymeModel.categorized_enzyme_forms__ or \"reactions\" for the __EnzymeModel.enzyme_reactions__), two strings identifying the categories from the attribute to sum and use in the numerator and the denominator, and a bool indicating whether to substitute numerical values into the expression to return a float or to keep the ratio as a sympy expression.\n",
    "\n",
    "__Note:__ \"Equation\" can be passed to either the numerator or the denominator to utilize the formula for the corresponding equation attrubute(i.e.  __EnzymeModel.enzyme_concentration_total_equation__ for \"forms\" or  __EnzymeModel.enzyme_net_flux_equation__ for \"reactions\")."
   ]
  },
  {
   "cell_type": "code",
   "execution_count": 19,
   "metadata": {},
   "outputs": [],
   "source": [
    "lb_t_fraction, ub_t_fraction = (0.15, 0.25)\n",
    "\n",
    "r_T_expr = HEX1.make_enzyme_fraction(\"forms\", top=\"Inhibited\", bottom=\"Equation\")\n",
    "r_T_expr = sym.simplify(strip_time(r_T_expr).subs(enzyme_solutions))\n",
    "\n",
    "r_T_lb_constraint_func = lambda x: sym.lambdify(args, r_T_expr - lb_t_fraction)(*x)\n",
    "r_T_ub_constraint_func = lambda x: sym.lambdify(args, ub_t_fraction - r_T_expr)(*x)"
   ]
  },
  {
   "cell_type": "markdown",
   "metadata": {},
   "source": [
    "Lastly, we place lower and upper bounds on the rate constants to ensure that the values are non-negative and are within physiological limits, and then we solve the optmization problem. Once the optimization has finished, we check whether it was successful, and if so, what the optimality and errors are associated with this particular solution instance."
   ]
  },
  {
   "cell_type": "code",
   "execution_count": 20,
   "metadata": {
    "scrolled": false
   },
   "outputs": [
    {
     "name": "stdout",
     "output_type": "stream",
     "text": [
      "Ordered Args: ('kf_HEX1', 'kf_HEX1_A', 'kf_HEX1_G')\n",
      "\n"
     ]
    },
    {
     "name": "stderr",
     "output_type": "stream",
     "text": [
      "/miniconda3/envs/masspy-dev/lib/python3.7/site-packages/scipy/optimize/_hessian_update_strategy.py:187 \u001b[1;31mUserWarning\u001b[0m: delta_grad == 0.0. Check if the approximated function is linear. If the function is linear better results can be obtained by defining the Hessian as zero instead of using quasi-Newton approximations.\n"
     ]
    },
    {
     "name": "stdout",
     "output_type": "stream",
     "text": [
      "`xtol` termination condition is satisfied.\n",
      "Number of iterations: 132, function evaluations: 552, CG iterations: 193, optimality: 5.46e-11, constraint violation: 0.00e+00, execution time: 2.3e+01 s.\n",
      "\n",
      "Optimization Success: True\n",
      "Otimization Optimality: 5.4562e-11\n",
      "Optimization Error: 3.2352e-12\n",
      "Parameter Solutions: {'kf_HEX1': 248732.0, 'kf_HEX1_A': 322772.0, 'kf_HEX1_G': 168666.0}\n",
      "Enzyme T-fraction: 0.2202\n"
     ]
    }
   ],
   "source": [
    "print(\"Ordered Args: {0}\\n\".format(str(args)))\n",
    "\n",
    "bounds = ((1e3, 1e9), (1e3, 1e9), (1e3, 1e9))\n",
    "cons = ({\"type\": \"ineq\", \"fun\": r_T_ub_constraint_func},\n",
    "        {\"type\": \"ineq\", \"fun\": r_T_lb_constraint_func})\n",
    "\n",
    "sol = optimize.minimize(\n",
    "    obj_func, [1e3, 1e4, 1e4], method=\"trust-constr\", bounds=bounds, constraints=cons,\n",
    "    options={\"gtol\": 1e-12, \"xtol\": 1e-12, \"maxiter\": 1e4, \"disp\": True})\n",
    "\n",
    "parameter_values.update(dict(zip(args, [round(x) for x in sol.x])))\n",
    "\n",
    "print(\"\\nOptimization Success: {0}\".format(sol.success))\n",
    "if sol.success:\n",
    "    print(\"Otimization Optimality: {0:.4e}\".format(sol.optimality))\n",
    "    print(\"Optimization Error: {0:.4e}\".format(enzyme_total_constraint.subs(parameter_values)))\n",
    "    print(\"Parameter Solutions: {:}\".format(str({arg: parameter_values[arg] for arg in args})))\n",
    "    print(\"Enzyme T-fraction: {:.4f}\".format(r_T_expr.subs(parameter_values)))"
   ]
  },
  {
   "cell_type": "markdown",
   "metadata": {},
   "source": [
    "With a successful optimization, the model is updated with the parameter values.  The inhibition and activation reactions are set to have a high forward rate constant and the allosteric transition even higher, limiting the amount of unbound enzyme and ensuring the R-T transition dynamics are determined only by its allosteric constant. \n",
    "\n",
    "__Note:__ This assumption for the rate constants can be made because none of the enzyme concentrations are dependendent on the activation, inhibition, and allosteric rate constants."
   ]
  },
  {
   "cell_type": "code",
   "execution_count": 21,
   "metadata": {},
   "outputs": [],
   "source": [
    "# Add the inhibition rate constants\n",
    "parameter_values.update({\"kf_\" + rxn: 1e6 for rxn in [\"HEX1_1\", \"HEX1_2\", \"HEX1_5\"]})"
   ]
  },
  {
   "cell_type": "markdown",
   "metadata": {},
   "source": [
    "### Solve steady state concentrations numerically"
   ]
  },
  {
   "cell_type": "markdown",
   "metadata": {},
   "source": [
    "Once the rate constants have been defined, the steady state concentrations of the enzyme can be determined."
   ]
  },
  {
   "cell_type": "code",
   "execution_count": 22,
   "metadata": {},
   "outputs": [
    {
     "name": "stdout",
     "output_type": "stream",
     "text": [
      "Ligand Concentrations\n",
      "---------------------\n",
      "glc__D_c = 1.0\n",
      "g6p_c = 0.0486\n",
      "atp_c = 1.6\n",
      "adp_c = 0.29\n",
      "_23dpg_c = 3.1\n",
      "h_c = 8.99757e-05\n",
      "\n",
      "Enzyme Concentrations\n",
      "----------------------\n",
      "hex1_c = 4.351719e-06\n",
      "hex1_A_c = 2.730695e-06\n",
      "hex1_G_c = 7.13042e-06\n",
      "hex1_AG_c = 4.503034e-06\n",
      "hex1_G_CI_c = 4.018964e-06\n",
      "hex1_A_PI_c = 1.261999e-06\n",
      "hex1_G_PI_c = 3.172e-09\n"
     ]
    }
   ],
   "source": [
    "# Substitute values into equations\n",
    "initial_conditions.update({\n",
    "    str(enzyme_form): round(float(sym.simplify(solution.subs(parameter_values))), 12)\n",
    "    for enzyme_form, solution in enzyme_solutions.items()})\n",
    "\n",
    "for header, dictlist in zip([\"Ligand\", \"\\nEnzyme\"], [HEX1.ligands, HEX1.enzyme_forms]):\n",
    "    header += \" Concentrations\"\n",
    "    print(\"\\n\".join([header, \"-\" * len(header)]))\n",
    "    for species in dictlist:\n",
    "        ic = initial_conditions[species.id]\n",
    "        print(\"{0} = {1}\".format(species.id, ic))"
   ]
  },
  {
   "cell_type": "markdown",
   "metadata": {},
   "source": [
    "#### Set Initial Conditions and Parameters\n",
    "Once the steady state concentrations have been determined, the initial conditions and parameters are added to the model."
   ]
  },
  {
   "cell_type": "code",
   "execution_count": 23,
   "metadata": {},
   "outputs": [],
   "source": [
    "# Set initial conditions\n",
    "for met, concentration in initial_conditions.items():\n",
    "    HEX1.metabolites.get_by_id(str(met)).ic = concentration\n",
    "HEX1.set_initial_conditions()\n",
    "\n",
    "# Add the custom parameters and values for kf and Keq to model\n",
    "HEX1.custom_parameters.update(parameter_values)\n",
    "# Assign parameter values for reactions that do not use custom parameters\n",
    "for reaction in HEX1.reactions:\n",
    "    if reaction not in HEX1.custom_rates:\n",
    "        reaction.kf = HEX1.custom_parameters.pop(reaction.kf_str)\n",
    "        reaction.Keq = HEX1.custom_parameters.pop(reaction.Keq_str)"
   ]
  },
  {
   "cell_type": "markdown",
   "metadata": {},
   "source": [
    "#### Optional: Ordering of internal species and reactions\n",
    "Sometimes, it is also desirable to reorder the metabolite and reaction objects inside the model to follow the physiology. To reorder the internal species, one can use the method __cobra.DictList.get_by_any__ method with the list of metabolite identifiers in the desirable order. To ensure all metabolites are still present and not forgotten in the model, a QC/QA check is also performed. "
   ]
  },
  {
   "cell_type": "code",
   "execution_count": 24,
   "metadata": {},
   "outputs": [
    {
     "data": {
      "text/html": [
       "<div>\n",
       "<style scoped>\n",
       "    .dataframe tbody tr th:only-of-type {\n",
       "        vertical-align: middle;\n",
       "    }\n",
       "\n",
       "    .dataframe tbody tr th {\n",
       "        vertical-align: top;\n",
       "    }\n",
       "\n",
       "    .dataframe thead th {\n",
       "        text-align: right;\n",
       "    }\n",
       "</style>\n",
       "<table border=\"1\" class=\"dataframe\">\n",
       "  <thead>\n",
       "    <tr style=\"text-align: right;\">\n",
       "      <th></th>\n",
       "      <th>HEX1_1</th>\n",
       "      <th>HEX1_2</th>\n",
       "      <th>HEX1_3</th>\n",
       "      <th>HEX1_4</th>\n",
       "      <th>HEX1_5</th>\n",
       "      <th>HEX1_6</th>\n",
       "      <th>HEX1_7</th>\n",
       "      <th>HEX1_8</th>\n",
       "    </tr>\n",
       "  </thead>\n",
       "  <tbody>\n",
       "    <tr>\n",
       "      <th>glc__D_c</th>\n",
       "      <td>0</td>\n",
       "      <td>0</td>\n",
       "      <td>-1</td>\n",
       "      <td>0</td>\n",
       "      <td>0</td>\n",
       "      <td>0</td>\n",
       "      <td>-1</td>\n",
       "      <td>0</td>\n",
       "    </tr>\n",
       "    <tr>\n",
       "      <th>g6p_c</th>\n",
       "      <td>0</td>\n",
       "      <td>-1</td>\n",
       "      <td>0</td>\n",
       "      <td>0</td>\n",
       "      <td>0</td>\n",
       "      <td>0</td>\n",
       "      <td>0</td>\n",
       "      <td>1</td>\n",
       "    </tr>\n",
       "    <tr>\n",
       "      <th>_23dpg_c</th>\n",
       "      <td>0</td>\n",
       "      <td>0</td>\n",
       "      <td>0</td>\n",
       "      <td>0</td>\n",
       "      <td>-1</td>\n",
       "      <td>0</td>\n",
       "      <td>0</td>\n",
       "      <td>0</td>\n",
       "    </tr>\n",
       "    <tr>\n",
       "      <th>atp_c</th>\n",
       "      <td>0</td>\n",
       "      <td>0</td>\n",
       "      <td>0</td>\n",
       "      <td>-1</td>\n",
       "      <td>0</td>\n",
       "      <td>-1</td>\n",
       "      <td>0</td>\n",
       "      <td>0</td>\n",
       "    </tr>\n",
       "    <tr>\n",
       "      <th>adp_c</th>\n",
       "      <td>-1</td>\n",
       "      <td>0</td>\n",
       "      <td>0</td>\n",
       "      <td>0</td>\n",
       "      <td>0</td>\n",
       "      <td>0</td>\n",
       "      <td>0</td>\n",
       "      <td>1</td>\n",
       "    </tr>\n",
       "    <tr>\n",
       "      <th>h_c</th>\n",
       "      <td>0</td>\n",
       "      <td>0</td>\n",
       "      <td>0</td>\n",
       "      <td>0</td>\n",
       "      <td>0</td>\n",
       "      <td>0</td>\n",
       "      <td>0</td>\n",
       "      <td>1</td>\n",
       "    </tr>\n",
       "    <tr>\n",
       "      <th>hex1_c</th>\n",
       "      <td>-1</td>\n",
       "      <td>-1</td>\n",
       "      <td>-1</td>\n",
       "      <td>-1</td>\n",
       "      <td>0</td>\n",
       "      <td>0</td>\n",
       "      <td>0</td>\n",
       "      <td>1</td>\n",
       "    </tr>\n",
       "    <tr>\n",
       "      <th>hex1_A_c</th>\n",
       "      <td>0</td>\n",
       "      <td>0</td>\n",
       "      <td>0</td>\n",
       "      <td>1</td>\n",
       "      <td>0</td>\n",
       "      <td>0</td>\n",
       "      <td>-1</td>\n",
       "      <td>0</td>\n",
       "    </tr>\n",
       "    <tr>\n",
       "      <th>hex1_G_c</th>\n",
       "      <td>0</td>\n",
       "      <td>0</td>\n",
       "      <td>1</td>\n",
       "      <td>0</td>\n",
       "      <td>-1</td>\n",
       "      <td>-1</td>\n",
       "      <td>0</td>\n",
       "      <td>0</td>\n",
       "    </tr>\n",
       "    <tr>\n",
       "      <th>hex1_AG_c</th>\n",
       "      <td>0</td>\n",
       "      <td>0</td>\n",
       "      <td>0</td>\n",
       "      <td>0</td>\n",
       "      <td>0</td>\n",
       "      <td>1</td>\n",
       "      <td>1</td>\n",
       "      <td>-1</td>\n",
       "    </tr>\n",
       "    <tr>\n",
       "      <th>hex1_G_CI_c</th>\n",
       "      <td>0</td>\n",
       "      <td>0</td>\n",
       "      <td>0</td>\n",
       "      <td>0</td>\n",
       "      <td>1</td>\n",
       "      <td>0</td>\n",
       "      <td>0</td>\n",
       "      <td>0</td>\n",
       "    </tr>\n",
       "    <tr>\n",
       "      <th>hex1_A_PI_c</th>\n",
       "      <td>1</td>\n",
       "      <td>0</td>\n",
       "      <td>0</td>\n",
       "      <td>0</td>\n",
       "      <td>0</td>\n",
       "      <td>0</td>\n",
       "      <td>0</td>\n",
       "      <td>0</td>\n",
       "    </tr>\n",
       "    <tr>\n",
       "      <th>hex1_G_PI_c</th>\n",
       "      <td>0</td>\n",
       "      <td>1</td>\n",
       "      <td>0</td>\n",
       "      <td>0</td>\n",
       "      <td>0</td>\n",
       "      <td>0</td>\n",
       "      <td>0</td>\n",
       "      <td>0</td>\n",
       "    </tr>\n",
       "  </tbody>\n",
       "</table>\n",
       "</div>"
      ],
      "text/plain": [
       "             HEX1_1  HEX1_2  HEX1_3  HEX1_4  HEX1_5  HEX1_6  HEX1_7  HEX1_8\n",
       "glc__D_c          0       0      -1       0       0       0      -1       0\n",
       "g6p_c             0      -1       0       0       0       0       0       1\n",
       "_23dpg_c          0       0       0       0      -1       0       0       0\n",
       "atp_c             0       0       0      -1       0      -1       0       0\n",
       "adp_c            -1       0       0       0       0       0       0       1\n",
       "h_c               0       0       0       0       0       0       0       1\n",
       "hex1_c           -1      -1      -1      -1       0       0       0       1\n",
       "hex1_A_c          0       0       0       1       0       0      -1       0\n",
       "hex1_G_c          0       0       1       0      -1      -1       0       0\n",
       "hex1_AG_c         0       0       0       0       0       1       1      -1\n",
       "hex1_G_CI_c       0       0       0       0       1       0       0       0\n",
       "hex1_A_PI_c       1       0       0       0       0       0       0       0\n",
       "hex1_G_PI_c       0       1       0       0       0       0       0       0"
      ]
     },
     "execution_count": 24,
     "metadata": {},
     "output_type": "execute_result"
    }
   ],
   "source": [
    "new_metabolite_order = [\"glc__D_c\",\"g6p_c\", \"_23dpg_c\", \"atp_c\", \"adp_c\", \"h_c\", \n",
    "                        \"hex1_c\", \"hex1_A_c\", \"hex1_G_c\",\"hex1_AG_c\", \"hex1_G_CI_c\", \n",
    "                        \"hex1_A_PI_c\", \"hex1_G_PI_c\"]\n",
    "\n",
    "if len(HEX1.metabolites) == len(new_metabolite_order):\n",
    "    HEX1.metabolites = DictList(HEX1.metabolites.get_by_any(new_metabolite_order))\n",
    "    \n",
    "new_reaction_order = [\"HEX1_1\", \"HEX1_2\", \"HEX1_3\", \"HEX1_4\",\n",
    "                      \"HEX1_5\", \"HEX1_6\", \"HEX1_7\", \"HEX1_8\"]\n",
    "\n",
    "if len(HEX1.reactions) == len(new_reaction_order):\n",
    "    HEX1.reactions = DictList(HEX1.reactions.get_by_any(new_reaction_order))\n",
    "    \n",
    "HEX1.update_S(matrix_type=\"DataFrame\", dtype=np.int64)"
   ]
  },
  {
   "cell_type": "markdown",
   "metadata": {},
   "source": [
    "## Model Validation \n",
    "### QC/QA Model\n",
    "Before saving the model, it is important to ensure that the model is elementally balanced, and that the model can be integrated into a larger network for simulation. Therefore, the __qcqa_model__ method is used to provide a report on the model quality and indicate whether simulation is possible and if not, what parameters and/or initial conditions are missing."
   ]
  },
  {
   "cell_type": "code",
   "execution_count": 25,
   "metadata": {},
   "outputs": [
    {
     "name": "stdout",
     "output_type": "stream",
     "text": [
      "╒═══════════════════════════════╕\n",
      "│ MODEL ID: HEX1                │\n",
      "│ SIMULATABLE: True;            │\n",
      "│ NUMERICAL CONSISTENCY: True   │\n",
      "╞═══════════════════════════════╡\n",
      "╘═══════════════════════════════╛\n"
     ]
    }
   ],
   "source": [
    "qcqa_model(HEX1, parameters=True, concentrations=True, \n",
    "           fluxes=False, superfluous=True, elemental=True)"
   ]
  },
  {
   "cell_type": "markdown",
   "metadata": {},
   "source": [
    "### Constraint Satisfaction and Error Values\n",
    "Another QC/QA check we perform is to substitute the steady state numerical values back into the constraints used in determining the rate constants in order to ensure that the constraints remain satisified, and that errors are small. "
   ]
  },
  {
   "cell_type": "code",
   "execution_count": 26,
   "metadata": {},
   "outputs": [
    {
     "name": "stdout",
     "output_type": "stream",
     "text": [
      "Enzyme T-fraction: 0.2202\n",
      "Constraints Satisfied: True\n",
      "\n",
      "Concentration Absolute Error: 3.0000e-12\n",
      "Flux Absolute Error: 6.8086e-08\n"
     ]
    }
   ],
   "source": [
    "t_fraction = HEX1.make_enzyme_fraction(\"forms\", top=\"Inhibited\", bottom=\"Equation\", use_values=True)\n",
    "print(\"Enzyme T-fraction: {:.4f}\".format(t_fraction))\n",
    "print(\"Constraints Satisfied: {0}\\n\".format(\n",
    "    lb_t_fraction <= t_fraction and t_fraction <= ub_t_fraction))\n",
    "\n",
    "print(\"Concentration Absolute Error: {0:.4e}\".format(abs(HEX1.enzyme_concentration_total_error(use_values=True))))\n",
    "print(\"Flux Absolute Error: {0:.4e}\".format(abs(HEX1.enzyme_net_flux_error(use_values=True))))"
   ]
  },
  {
   "cell_type": "markdown",
   "metadata": {},
   "source": [
    "### Add Enzyme to MassModel\n",
    "In order to determine whether the model can be successfully integrated into a model, another model can be loaded, merged with the model, and simulated. To validate this model, it will be merged with a __glycolysis__ model and a __hemoglobin__ model. \n",
    "\n",
    "To integrate the EnzymeModel into the MassModel, we first remove the reaction that the EnzymeModel will be replacing. Afterwards, we can use the __MassModel.merge__ method to add the EnzymeModel. When merging an EnzymeModel and a MassModel, the EnzymeModel should always be merged into the MassModel."
   ]
  },
  {
   "cell_type": "code",
   "execution_count": 27,
   "metadata": {},
   "outputs": [
    {
     "data": {
      "text/html": [
       "\n",
       "            <table>\n",
       "                <tr>\n",
       "                    <td><strong>Name</strong></td><td>Glycolysis_Hemoglobin_HEX1</td>\n",
       "                </tr><tr>\n",
       "                    <td><strong>Memory address</strong></td><td>0x0127d668d0</td>\n",
       "                </tr><tr>\n",
       "                    <td><strong>Stoichiometric Matrix</strong></td>\n",
       "                    <td>35x37</td>\n",
       "                </tr><tr>\n",
       "                    <td><strong>Matrix Rank</strong></td>\n",
       "                    <td>32</td>\n",
       "                </tr><tr>\n",
       "                    <td><strong>Matrix Type</strong></td>\n",
       "                    <td>dense, float64</td>\n",
       "                </tr><tr>\n",
       "                    <td><strong>Number of Metabolites</strong></td>\n",
       "                    <td>35</td>\n",
       "                </tr><tr>\n",
       "                    <td><strong>Number of Reactions</strong></td>\n",
       "                    <td>37</td>\n",
       "                </tr><tr>\n",
       "                    <td><strong>Number of Initial Conditions</strong></td>\n",
       "                    <td>35</td>\n",
       "                </tr><tr>\n",
       "                    <td><strong>Number of Forward Rate Constants</strong></td>\n",
       "                    <td>32</td>\n",
       "                </tr><tr>\n",
       "                    <td><strong>Number of Equilibrium Constants</strong></td>\n",
       "                    <td>32</td>\n",
       "                </tr><tr>\n",
       "                    <td><strong>Number of Irreversible Reactions</strong></td>\n",
       "                    <td>6</td>\n",
       "                </tr><tr>\n",
       "                    <td><strong>Number of Exchanges</strong></td>\n",
       "                    <td>9</td>\n",
       "                </tr><tr>\n",
       "                    <td><strong>Number of Fixed Concentrations</strong></td>\n",
       "                    <td>8</td>\n",
       "                </tr><tr>\n",
       "                    <td><strong>Number of Custom Rates</strong></td>\n",
       "                    <td>5</td>\n",
       "                </tr><tr>\n",
       "                    <td><strong>Number of Genes</strong></td>\n",
       "                    <td>0</td>\n",
       "                </tr><tr>\n",
       "                    <td><strong>Number of Enzymes</strong></td>\n",
       "                    <td>1</td>\n",
       "                </tr><tr>\n",
       "                    <td><strong>Modules</strong></td>\n",
       "                    <td>Hemoglobin<br> Glycolysis<br> HEX1</br></td>\n",
       "                </tr><tr>\n",
       "                    <td><strong>Compartments</strong></td>\n",
       "                    <td>Cytosol</td>\n",
       "                </tr><tr>\n",
       "                    <td><strong>Units</strong></td>\n",
       "                    <td>Millimoles, Hours, Liters</td>\n",
       "                </tr>\n",
       "            </table>\n",
       "        "
      ],
      "text/plain": [
       "<MassModel Glycolysis_Hemoglobin_HEX1 at 0x127d668d0>"
      ]
     },
     "execution_count": 27,
     "metadata": {},
     "output_type": "execute_result"
    }
   ],
   "source": [
    "# Load and merge glycolysis and hemoglobin models\n",
    "glycolysis = json.load_json_model(\"../../test-models/json-models/glycolysis.json\")\n",
    "hemoglobin= json.load_json_model(\"../../test-models/json-models/hemoglobin.json\")\n",
    "glycolysis_hb = glycolysis.merge(hemoglobin)\n",
    "glycolysis_hb.modules.add(glycolysis.id)\n",
    "# Remove the HEX1 MassReaction, then merge the EnzymeModel into the MassModel\n",
    "glycolysis_hb.remove_reactions(glycolysis_hb.reactions.get_by_id(\"HEX1\"))\n",
    "glycolysis_hb_HEX1 = glycolysis_hb.merge(HEX1)\n",
    "glycolysis_hb_HEX1"
   ]
  },
  {
   "cell_type": "markdown",
   "metadata": {},
   "source": [
    "Using __MassModel.merge(EnzymeModel)__ enables the EnzymeModel and MassModel to be merged like regular MassModel objects. However, all attributes specific to the EnzymeModel (e.g categorized attributes) are condensed into a speciailzed container called an __EnzymeDict__. The EnzymeDict is a special in that its contents can be accessed as if they were attributes. These attributes can be viewed using __EnzymeDict.keys()__.\n",
    "All __EnzymeDicts__ can be accessed via __MassModel.enzymes__.\n"
   ]
  },
  {
   "cell_type": "code",
   "execution_count": 28,
   "metadata": {},
   "outputs": [
    {
     "name": "stdout",
     "output_type": "stream",
     "text": [
      "[<Enzyme HEX1 at 0x12565f840>]\n",
      "\n",
      "Attribute Accessors: id; name; subsystem; ligands; enzyme_forms; enzyme_reactions; categorized_ligands; categorized_enzyme_forms; categorized_enzyme_reactions; enzyme_concentration_total; enzyme_net_flux; enzyme_net_flux_equation; description; S; model\n",
      "\n"
     ]
    },
    {
     "data": {
      "text/html": [
       "\n",
       "            <table>\n",
       "                <tr>\n",
       "                    <td><strong>Name</strong></td><td>HEX1</td>\n",
       "                </tr><tr>\n",
       "                    <td><strong>Memory address</strong></td><td>0x012565f840</td>\n",
       "                </tr><tr>\n",
       "                    <td><strong>Stoichiometric Matrix</strong></td>\n",
       "                    <td>13x8</td>\n",
       "                </tr><tr>\n",
       "                    <td><strong>Matrix Rank</strong></td>\n",
       "                    <td>7</td>\n",
       "                </tr><tr>\n",
       "                    <td><strong>Subsystem</strong></td>\n",
       "                    <td>Glycolysis</td>\n",
       "                </tr><tr>\n",
       "                    <td><strong>Number of Ligands</strong></td>\n",
       "                    <td>6</td>\n",
       "                </tr><tr>\n",
       "                    <td><strong>Number of EnzymeForms</strong></td>\n",
       "                    <td>7</td>\n",
       "                </tr><tr>\n",
       "                    <td><strong>Number of Enzyme Reactions</strong></td>\n",
       "                    <td>8</td>\n",
       "                </tr><tr>\n",
       "                    <td><strong>Total Enzyme Concentration</strong></td>\n",
       "                    <td>2.4e-05</td>\n",
       "                </tr><tr>\n",
       "                    <td><strong>Enzyme Net Flux</strong></td>\n",
       "                    <td>1.12</td>\n",
       "                </tr>\n",
       "            </table>\n",
       "        "
      ],
      "text/plain": [
       "<Enzyme HEX1 at 0x12565f840>"
      ]
     },
     "execution_count": 28,
     "metadata": {},
     "output_type": "execute_result"
    }
   ],
   "source": [
    "print(str(glycolysis_hb_HEX1.enzymes) + \"\\n\")\n",
    "print(\"Attribute Accessors: \" + \"; \".join(list(\n",
    "    glycolysis_hb_HEX1.enzymes.HEX1.keys())) + \"\\n\")\n",
    "glycolysis_hb_HEX1.enzymes.HEX1"
   ]
  },
  {
   "cell_type": "markdown",
   "metadata": {},
   "source": [
    "### Validate Steady State\n",
    "To find the steady state of the model, the __Simulation.find_steady_state_model__ method can used. \n",
    "To validate the steady state of the model, concentration and flux solutions can be plotted using the __plot_simulation__ function."
   ]
  },
  {
   "cell_type": "code",
   "execution_count": 29,
   "metadata": {},
   "outputs": [
    {
     "data": {
      "image/png": "[encoded data removed]",
      "text/plain": [
       "<Figure size 432x288 with 1 Axes>"
      ]
     },
     "metadata": {
      "needs_background": "light"
     },
     "output_type": "display_data"
    }
   ],
   "source": [
    "# Setup simulation object, ensure model is at steady state\n",
    "sim = Simulation(glycolysis_hb_HEX1)\n",
    "options={'method': 'LSODA', 'atol': 1e-15}\n",
    "sim.find_steady_state_model(model=glycolysis_hb_HEX1, strategy=\"simulate\",\n",
    "                            update_initial_conditions=True, \n",
    "                            update_reactions=True, **options)\n",
    "\n",
    "t0, tf = (0, 1e4)\n",
    "conc_sol, flux_sol = sim.simulate_model(glycolysis_hb_HEX1, time=(t0, tf), **options)\n",
    "conc_sol.preview_time_profile"
   ]
  },
  {
   "cell_type": "markdown",
   "metadata": {},
   "source": [
    "### Optional Information: Storing references\n",
    "#### Compartment\n",
    "Because the character \"c\" represents the cytosol compartment, it is recommended to define and set the compartment in the __EnzymeModel.compartments__ attribute."
   ]
  },
  {
   "cell_type": "code",
   "execution_count": 30,
   "metadata": {
    "scrolled": true
   },
   "outputs": [
    {
     "name": "stdout",
     "output_type": "stream",
     "text": [
      "{'c': 'Cytosol'}\n"
     ]
    }
   ],
   "source": [
    "HEX1.compartments = {\"c\": \"Cytosol\"}\n",
    "print(HEX1.compartments)"
   ]
  },
  {
   "cell_type": "markdown",
   "metadata": {},
   "source": [
    "#### Units\n",
    "All of the units for the numerical values used in this model are \"Millimoles\" for amount, \"Liters\" for volume, and \"Hours\" for time. In order to ensure that future users understand the numerical values for model, it is important to define the __EnzymeModel.units__ attribute. Like the __compartment__ attribute, the __units__ attribute is a dictionary and can easily be updated using the same methods.\n",
    "\n",
    "Note that this attribute will NOT track units, but instead acts as a reference for the user and others so that they can perform necessary unit conversions."
   ]
  },
  {
   "cell_type": "code",
   "execution_count": 31,
   "metadata": {},
   "outputs": [
    {
     "data": {
      "text/plain": [
       "{'N': 'Millimoles', 'Vol': 'Liters', 'Time': 'Hours'}"
      ]
     },
     "execution_count": 31,
     "metadata": {},
     "output_type": "execute_result"
    }
   ],
   "source": [
    "HEX1.units = {'N': 'Millimoles', 'Vol': 'Liters', 'Time': 'Hours'}\n",
    "HEX1.units"
   ]
  },
  {
   "cell_type": "markdown",
   "metadata": {},
   "source": [
    "## Export\n",
    "After validation, the model is ready to be saved. The model can either be exported as a \".json\" file or if the model conforms to SBML standards, as a \".xml\" file using the classes in __mass.io__. To export the model, only the path to the directory and the name of the model need to be specified. Both are shown. "
   ]
  },
  {
   "cell_type": "markdown",
   "metadata": {},
   "source": [
    "### Export using JSON"
   ]
  },
  {
   "cell_type": "code",
   "execution_count": 32,
   "metadata": {},
   "outputs": [],
   "source": [
    "json.save_json_model(HEX1, \"../../test-models/json-models/HEX1.json\")"
   ]
  },
  {
   "cell_type": "markdown",
   "metadata": {},
   "source": [
    "### Export using SBML"
   ]
  },
  {
   "cell_type": "code",
   "execution_count": 33,
   "metadata": {},
   "outputs": [],
   "source": [
    "# sbml.write_sbml_model(HEX1, \"../../test-models/sbml-models/HEX1.xml\")"
   ]
  }
 ],
 "metadata": {
  "kernelspec": {
   "display_name": "Python 3",
   "language": "python",
   "name": "python3"
  },
  "language_info": {
   "codemirror_mode": {
    "name": "ipython",
    "version": 3
   },
   "file_extension": ".py",
   "mimetype": "text/x-python",
   "name": "python",
   "nbconvert_exporter": "python",
   "pygments_lexer": "ipython3",
   "version": "3.7.2"
  }
 },
 "nbformat": 4,
 "nbformat_minor": 2
}
