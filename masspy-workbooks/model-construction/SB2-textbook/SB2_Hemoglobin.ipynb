{
 "cells": [
  {
   "cell_type": "markdown",
   "metadata": {
    "collapsed": true
   },
   "source": [
    "# Hemoglobin\n",
    "\n",
    "To construct the hemoglobin module, first we import  __masspy__ . "
   ]
  },
  {
   "cell_type": "code",
   "execution_count": 1,
   "metadata": {},
   "outputs": [],
   "source": [
    "import matplotlib.pyplot as plt\n",
    "\n",
    "import sympy as sym\n",
    "\n",
    "from mass import (\n",
    "    io, MassMetabolite, MassReaction, MassModel, Simulation, plot_simulation, qcqa_model)"
   ]
  },
  {
   "cell_type": "markdown",
   "metadata": {},
   "source": [
    "## Model Construction\n",
    "The first step of creating the hemoglobin module is to define the MassModel object."
   ]
  },
  {
   "cell_type": "code",
   "execution_count": 2,
   "metadata": {},
   "outputs": [],
   "source": [
    "hemoglobin = MassModel(\"Hemoglobin\")"
   ]
  },
  {
   "cell_type": "markdown",
   "metadata": {},
   "source": [
    "### Metabolites\n",
    "\n",
    "The next step is to define all of the metabolites in the hemoglobin using identifiers and the names found in the BiGG Database (http://bigg.ucsd.edu/). In order to ensure our module is physiologically accurate, it is important to provide the __formula__ keyword with a string representing the chemical formula for each metabolite, and the  __charge__ keyword with an integer representing the metabolite's ionic charge (Note that neutrally charged metabolites are provided with 0). To indicate that the cytosol is the cellular compartment in which glycolysis occurs, the string \"c\" is provided to the __compartment__ keyword. \n",
    "\n",
    "In this module of hemoglobin, there are 13 metabolites inside the cytosol compartment. Note that for metabolites without BiGG identifiers are given ones that are similar to BiGG style. "
   ]
  },
  {
   "cell_type": "code",
   "execution_count": 3,
   "metadata": {},
   "outputs": [],
   "source": [
    "# Hemoglobin and intermediates\n",
    "hb_c = MassMetabolite(\n",
    "    id=\"hb_c\", \n",
    "    name=\"Hemoglobin\", \n",
    "    formula=\"[Hb]\",\n",
    "    charge=0,\n",
    "    compartment=\"c\")\n",
    "hb_1o2_c = MassMetabolite(\n",
    "    id=\"hb_1o2_c\", \n",
    "    name=\"Oxyhemoglobin (1)\", \n",
    "    formula=\"[Hb]-O2\",\n",
    "    charge=0,\n",
    "    compartment=\"c\")\n",
    "hb_2o2_c = MassMetabolite(\n",
    "    id=\"hb_2o2_c\", \n",
    "    name=\"Oxyhemoglobin (2)\", \n",
    "    formula=\"[Hb]-O4\",\n",
    "    charge=0,\n",
    "    compartment=\"c\")\n",
    "hb_3o2_c = MassMetabolite(\n",
    "    id=\"hb_3o2_c\", \n",
    "    name=\"Oxyhemoglobin (3)\", \n",
    "    formula=\"[Hb]-O6\",\n",
    "    charge=0,\n",
    "    compartment=\"c\")\n",
    "hb_4o2_c = MassMetabolite(\n",
    "    id=\"hb_4o2_c\", \n",
    "    name=\"Oxyhemoglobin (4)\", \n",
    "    formula=\"[Hb]-O8\",\n",
    "    charge=0,\n",
    "    compartment=\"c\")\n",
    "dhb_c = MassMetabolite(\n",
    "    id=\"dhb_c\", \n",
    "    name=\"Deoxyhemoglobin\", \n",
    "    formula=\"[Hb]-C3H3O10P2\",\n",
    "    charge=-5,\n",
    "    compartment=\"c\")\n",
    "_23dpg_c = MassMetabolite(\n",
    "    id=\"_23dpg_c\", \n",
    "    name=\"2,3-Disphospho-D-glycerate\", \n",
    "    formula=\"C3H3O10P2\",\n",
    "    charge=-5,\n",
    "    compartment=\"c\")\n",
    "_13dpg_c = MassMetabolite(\n",
    "    id=\"_13dpg_c\",\n",
    "    name=\"3-Phospho-D-glyceroyl phosphate\",\n",
    "    formula=\"C3H4O10P2\",\n",
    "    charge=-4,\n",
    "    compartment=\"c\")\n",
    "_3pg_c = MassMetabolite(\n",
    "    id=\"_3pg_c\",\n",
    "    name=\"3-Phospho-D-glycerate\",\n",
    "    formula=\"C3H4O7P\",\n",
    "    charge=-3,\n",
    "    compartment=\"c\")\n",
    "\n",
    "# Cofactors\n",
    "o2_c = MassMetabolite(\n",
    "    id=\"o2_c\",\n",
    "    name=\"Oxygen\",\n",
    "    formula=\"O2\",\n",
    "    charge=0,\n",
    "    compartment=\"c\")\n",
    "h_c = MassMetabolite(\n",
    "    id=\"h_c\",\n",
    "    name=\"H+\",\n",
    "    formula=\"H\",\n",
    "    charge=1,\n",
    "    compartment=\"c\")\n",
    "pi_c = MassMetabolite(\n",
    "    id=\"pi_c\",\n",
    "    name=\"Phosphate\",\n",
    "    formula=\"HPO4\",\n",
    "    charge=-2,\n",
    "    compartment=\"c\")\n",
    "h2o_c = MassMetabolite(\n",
    "    id=\"h2o_c\",\n",
    "    name=\"H2O\",\n",
    "    formula=\"H2O\",\n",
    "    charge=0,\n",
    "    compartment=\"c\")\n",
    "\n",
    "metabolite_list = [_23dpg_c, hb_c, hb_1o2_c, hb_2o2_c, \n",
    "                   hb_3o2_c, hb_4o2_c, dhb_c, _13dpg_c,\n",
    "                   _3pg_c, o2_c, pi_c, h_c, h2o_c]"
   ]
  },
  {
   "cell_type": "markdown",
   "metadata": {},
   "source": [
    "After generating the metabolites, all metabolites are added to the model."
   ]
  },
  {
   "cell_type": "code",
   "execution_count": 4,
   "metadata": {},
   "outputs": [],
   "source": [
    "hemoglobin.add_metabolites(metabolite_list)"
   ]
  },
  {
   "cell_type": "markdown",
   "metadata": {},
   "source": [
    "### Reactions\n",
    "\n",
    "Once all of the MassMetabolite objects have been created for each of the species in hemoglobin, the next step is to define all of the reactions that occur inside the cytosol compartment using BiGG idenfifiers and reaction names. To make this module useful for integration with other modules, it is important to provide the string \"Hemoglobin\" to the __subsystem__ keyword. By providing the subsystem, the reactions can be easily obtained even when integrated with a significantly larger module. \n",
    "\n",
    "Note that after the creation of each MassReaction object, the metabolites are added to the reaction using a dictionary where keys are the metabolites and values are the stoichiometric coefficients (reactants have negative coefficients, products have positive ones). \n",
    "\n",
    "In this module of hemoglobin, there are 7 reactions occuring."
   ]
  },
  {
   "cell_type": "code",
   "execution_count": 5,
   "metadata": {},
   "outputs": [],
   "source": [
    "DPGase = MassReaction(\n",
    "    id=\"DPGase\",\n",
    "    name=\"Diphosphoglycerate phosphatase\",\n",
    "    subsystem=\"Hemoglobin\", \n",
    "    reversible=False)\n",
    "DPGase.add_metabolites({\n",
    "    h2o_c: -1,\n",
    "    _23dpg_c: -1,\n",
    "    _3pg_c: 1,\n",
    "    pi_c: 1})\n",
    "\n",
    "DPGM = MassReaction(\n",
    "    id=\"DPGM\",\n",
    "    name=\"Diphosphoglyceromutase\",\n",
    "    subsystem=\"Hemoglobin\")\n",
    "DPGM.add_metabolites({\n",
    "    _13dpg_c: -1,\n",
    "    _23dpg_c: 1,\n",
    "    h_c: 1})\n",
    "\n",
    "HBDPG = MassReaction(\n",
    "    id=\"HBDPG\",\n",
    "    name=\"Hemoglobin-23dpg binding\",\n",
    "    subsystem=\"Hemoglobin\")\n",
    "HBDPG.add_metabolites({\n",
    "    hb_c: -1,\n",
    "    _23dpg_c: -1,\n",
    "    dhb_c: 1})\n",
    "\n",
    "HBO1 = MassReaction(\n",
    "    id=\"HBO1\",\n",
    "    name=\"Oxygen Loading (1)\",\n",
    "    subsystem=\"Hemoglobin\")\n",
    "HBO1.add_metabolites({\n",
    "    hb_c: -1,\n",
    "    o2_c: -1,\n",
    "    hb_1o2_c: 1})\n",
    "\n",
    "HBO2 = MassReaction(\n",
    "    id=\"HBO2\",\n",
    "    name=\"Oxygen Loading (2)\",\n",
    "    subsystem=\"Hemoglobin\")\n",
    "HBO2.add_metabolites({\n",
    "    hb_1o2_c: -1,\n",
    "    o2_c: -1,\n",
    "    hb_2o2_c: 1})\n",
    "\n",
    "HBO3 = MassReaction(\n",
    "    id=\"HBO3\",\n",
    "    name=\"Oxygen Loading (3)\",\n",
    "    subsystem=\"Hemoglobin\")\n",
    "HBO3.add_metabolites({\n",
    "    hb_2o2_c: -1,\n",
    "    o2_c: -1,\n",
    "    hb_3o2_c: 1})\n",
    "\n",
    "HBO4 = MassReaction(\n",
    "    id=\"HBO4\",\n",
    "    name=\"Oxygen Loading (4)\",\n",
    "    subsystem=\"Hemoglobin\")\n",
    "HBO4.add_metabolites({\n",
    "    hb_3o2_c: -1,\n",
    "    o2_c: -1,\n",
    "    hb_4o2_c: 1})\n",
    "\n",
    "reaction_list = [DPGase, DPGM, HBDPG, HBO1, HBO2, HBO3, HBO4]"
   ]
  },
  {
   "cell_type": "markdown",
   "metadata": {},
   "source": [
    "After generating the reactions, all reactions are added to the glycolysis model. Adding the MassReaction objects will also add their associated MassMetabolite objects if they have not already been added to the model. "
   ]
  },
  {
   "cell_type": "code",
   "execution_count": 6,
   "metadata": {},
   "outputs": [],
   "source": [
    "hemoglobin.add_reactions(reaction_list)"
   ]
  },
  {
   "cell_type": "markdown",
   "metadata": {},
   "source": [
    "### Exchange reactions\n",
    "\n",
    "After generating the reactions, the next step is to add the exchange reactions and fix the concentrations of the external metabolites of the system. This can easily be done using the __MassModel.add_exchange__ method. With the generation of the exchange reactions, the character \"e\" is used to defined the \"Extracellular\" compartment. \n",
    "\n",
    "In this module of hemoglobin, there is 1 exchange reaction."
   ]
  },
  {
   "cell_type": "code",
   "execution_count": 7,
   "metadata": {},
   "outputs": [
    {
     "data": {
      "text/html": [
       "\n",
       "            <table>\n",
       "                <tr>\n",
       "                    <td><strong>Name</strong></td><td>Hemoglobin</td>\n",
       "                </tr><tr>\n",
       "                    <td><strong>Memory address</strong></td><td>0x011bb2ff60</td>\n",
       "                </tr><tr>\n",
       "                    <td><strong>Stoichiometric Matrix</strong></td>\n",
       "                    <td>13x8</td>\n",
       "                </tr><tr>\n",
       "                    <td><strong>Matrix Rank</strong></td>\n",
       "                    <td>8</td>\n",
       "                </tr><tr>\n",
       "                    <td><strong>Matrix Type</strong></td>\n",
       "                    <td>dense, float64</td>\n",
       "                </tr><tr>\n",
       "                    <td><strong>Number of Metabolites</strong></td>\n",
       "                    <td>13</td>\n",
       "                </tr><tr>\n",
       "                    <td><strong>Number of Reactions</strong></td>\n",
       "                    <td>8</td>\n",
       "                </tr><tr>\n",
       "                    <td><strong>Number of Initial Conditions</strong></td>\n",
       "                    <td>0</td>\n",
       "                </tr><tr>\n",
       "                    <td><strong>Number of Forward Rate Constants</strong></td>\n",
       "                    <td>0</td>\n",
       "                </tr><tr>\n",
       "                    <td><strong>Number of Equilibrium Constants</strong></td>\n",
       "                    <td>1</td>\n",
       "                </tr><tr>\n",
       "                    <td><strong>Number of Irreversible Reactions</strong></td>\n",
       "                    <td>1</td>\n",
       "                </tr><tr>\n",
       "                    <td><strong>Number of Exchanges</strong></td>\n",
       "                    <td>1</td>\n",
       "                </tr><tr>\n",
       "                    <td><strong>Number of Fixed Concentrations</strong></td>\n",
       "                    <td>1</td>\n",
       "                </tr><tr>\n",
       "                    <td><strong>Number of Custom Rates</strong></td>\n",
       "                    <td>0</td>\n",
       "                </tr><tr>\n",
       "                    <td><strong>Number of Genes</strong></td>\n",
       "                    <td>0</td>\n",
       "                </tr><tr>\n",
       "                    <td><strong>Number of Enzymes</strong></td>\n",
       "                    <td>0</td>\n",
       "                </tr><tr>\n",
       "                    <td><strong>Modules</strong></td>\n",
       "                    <td></br></td>\n",
       "                </tr><tr>\n",
       "                    <td><strong>Compartments</strong></td>\n",
       "                    <td>c</td>\n",
       "                </tr><tr>\n",
       "                    <td><strong>Units</strong></td>\n",
       "                    <td></td>\n",
       "                </tr>\n",
       "            </table>\n",
       "        "
      ],
      "text/plain": [
       "<MassModel Hemoglobin at 0x11bb2ff60>"
      ]
     },
     "execution_count": 7,
     "metadata": {},
     "output_type": "execute_result"
    }
   ],
   "source": [
    "EX_o2_e = EX_pi_e = hemoglobin.add_exchange(o2_c, exchange_type=\"exchange\", \n",
    "                                 external_concentration=0.0200788)\n",
    "hemoglobin"
   ]
  },
  {
   "cell_type": "markdown",
   "metadata": {},
   "source": [
    "### Computing the steady state concentrations. \n",
    "\n",
    "The binding of the two ligands, oxygen and DPG23, to hemoglobin is a rapid process. Since hemoglobin is confined to the RBC, we can use equilibrium assumptions for the binding reactions. \n",
    "\n",
    "1. The binding of oxygen is at equilibrium for each form of oxygenated hemoglobin.\n",
    "2. The binding of DPG23 to hemoglobin is also at equilibrium \n",
    "3. The total mass of hemoglobin is a constant \n",
    "\n",
    "These six equations have six unknowns (the six forms of Hb) and need to be solved simultaneously as a function of the oxygen and DPG23 concentrations. The equilibrium relationships can be combined with the $\\text{Hb}_{\\mathrm{tot}}$ mass balance, and this equation is solved for  $\\text{Hb}_{\\mathrm{0}}$ for given oxygen and 23DPG concentrations. Then the steady state concentrations for all other forms of hemoglobin can be computed from the equilibrium relationships. \n",
    "\n",
    "To do this, the equilibrium constants are defined and then the equilibrium expressions are converted into __sympy.Equality__ objects for symbolic calculations. "
   ]
  },
  {
   "cell_type": "code",
   "execution_count": 8,
   "metadata": {},
   "outputs": [
    {
     "name": "stdout",
     "output_type": "stream",
     "text": [
      "                                                                              \n",
      "Hb-Total = Keq_HBDPG⋅_23dpg_c⋅hb_c + Keq_HBO1⋅Keq_HBO2⋅Keq_HBO3⋅Keq_HBO4⋅hb_c⋅\n",
      "\n",
      "     4                                        3                               \n",
      "o_2_c  + Keq_HBO1⋅Keq_HBO2⋅Keq_HBO3⋅hb_c⋅o_2_c  + Keq_HBO1⋅Keq_HBO2⋅hb_c⋅o_2_c\n",
      "\n",
      "2                             \n",
      "  + Keq_HBO1⋅hb_c⋅o_2_c + hb_c\n"
     ]
    }
   ],
   "source": [
    "metabs = dict((m.id, sym.Symbol(m.id)) for m in hemoglobin.metabolites)\n",
    "\n",
    "equations = dict()\n",
    "# Iterate through reactions assumed to be at equilibrium\n",
    "for rxn in [HBO1, HBO2, HBO3, HBO4, HBDPG]:\n",
    "    reactants = \"*\".join([m.id for m in rxn.reactants])\n",
    "    products = \"*\".join([m.id for m in rxn.products])\n",
    "    # Find the hemoglobin form being made as a product (bound to most oxygen)\n",
    "    hem_prod = [sym.Symbol(m.id) \n",
    "                for m in rxn.products \n",
    "                if m not in [_23dpg_c, hb_c, o2_c]].pop()\n",
    "    # Set up the equation and solve it for the desired form hemoglobin \n",
    "    equation = sym.Eq(sym.Symbol(rxn.Keq_str), sym.sympify(\"({0}) / ({1})\".format(products, reactants), \n",
    "                                         locals=metabs))\n",
    "    equation = list(sym.solveset(equation, hem_prod)).pop()\n",
    "    # Update equation dictionary with the equation for the bound form of hemoglobin\n",
    "    # These equations will be dependent on hb_c, o2_c, and _23dpg_c\n",
    "    equations.update({hem_prod: equation.subs(equations)})\n",
    "# Specify an equation for the total amount of hemoglobin\n",
    "Hb_tot = sym.Eq(sym.Symbol(\"Hb-Total\"), \n",
    "                  sym.sympify(\"+\".join([m.id for m in hemoglobin.metabolites \n",
    "                                       if \"hb\" in m.id]), locals=metabs))\n",
    "# Substitute in equations for each bound form to have total hemoglobin as a function of \n",
    "# Oxygen concentration, free hemoglobin, and 23dpg.\n",
    "Hb_tot = Hb_tot.subs(equations)\n",
    "sym.pprint(Hb_tot)"
   ]
  },
  {
   "cell_type": "markdown",
   "metadata": {},
   "source": [
    "At this point, the numerical values for the equilibrium constant and the total concetration of hemoglobin are specified. The total amount of hemoglobin is a constant, at circa 7.3 mM. These values are substituted into the current equations. "
   ]
  },
  {
   "cell_type": "code",
   "execution_count": 9,
   "metadata": {},
   "outputs": [
    {
     "name": "stdout",
     "output_type": "stream",
     "text": [
      "                                                     4                        \n",
      "7.3 = 0.25⋅_23dpg_c⋅hb_c + 702446487.27335⋅hb_c⋅o_2_c  + 544565.932207695⋅hb_c\n",
      "\n",
      "      3                          2                            \n",
      "⋅o_2_c  + 3062.8177448⋅hb_c⋅o_2_c  + 41.8352⋅hb_c⋅o_2_c + hb_c\n"
     ]
    }
   ],
   "source": [
    "numerical_values = {sym.Symbol(\"Hb-Total\"): 7.3}\n",
    "DPGM.Keq = 2.3*1e6\n",
    "HBO1.Keq = 41.8352\n",
    "HBO2.Keq = 73.2115\n",
    "HBO3.Keq = 177.799 \n",
    "HBO4.Keq = 1289.92 \n",
    "HBDPG.Keq = 1/4\n",
    "EX_o2_e.Keq = 1\n",
    "\n",
    "numerical_values.update(dict((sym.Symbol(Keq), value) \n",
    "                             for Keq, value in hemoglobin.parameters[\"Keq\"].items()))\n",
    "\n",
    "equations.update(dict((hem_form, equation.subs(numerical_values)) \n",
    "                      for hem_form, equation in equations.items()))\n",
    "Hb_tot = Hb_tot.subs(numerical_values)\n",
    "sym.pprint(Hb_tot)"
   ]
  },
  {
   "cell_type": "markdown",
   "metadata": {},
   "source": [
    "To find the steady state, we have to specify the numerical values of the variables that characterize the network environment. The flux through the Rapoport-Luebering shunt is typically about 0.44 mM/hr (Schrader 1993).  The steady state concentration of 23DPG is typically about 3.1 mM (Mehta 2005). The concentration of oxygen that we chose to solve for the steady state is 70 mmHg, that is mid way between 100 mmHg in the lung, and 40 mmHg in tissue. Using these numbers, the computed steady state concentrations are obtained, as: "
   ]
  },
  {
   "cell_type": "code",
   "execution_count": 10,
   "metadata": {},
   "outputs": [
    {
     "data": {
      "text/plain": [
       "{_23dpg_c: 3.1,\n",
       " o2_c: 0.0200788,\n",
       " hb_c: 0.0596253007092338,\n",
       " hb_1o2_c: 0.0500852891913810,\n",
       " hb_2o2_c: 0.0736253283416870,\n",
       " hb_3o2_c: 0.262841727245073,\n",
       " hb_4o2_c: 6.80761274646297,\n",
       " dhb_c: 0.0462096080496562}"
      ]
     },
     "execution_count": 10,
     "metadata": {},
     "output_type": "execute_result"
    }
   ],
   "source": [
    "# Define known concentrations\n",
    "concentrations = {metabs[\"_23dpg_c\"]: 3.1, \n",
    "                  metabs[\"o2_c\"]: 70*2.8684*1e-4}\n",
    "# Convert the solution set into a list, pop the solution out of the set, \n",
    "# and convert it into a numerical value\n",
    "hb_conc = list(sym.solveset(Hb_tot.subs(concentrations), sym.Symbol(\"hb_c\"))).pop()\n",
    "concentrations.update({metabs[\"hb_c\"] :hb_conc})\n",
    "# Solve for the rest of the hemoglobin concentrations\n",
    "for hb_form, equation in equations.items():\n",
    "    equation = equation.subs(concentrations)\n",
    "    concentrations.update({hb_form: equation})\n",
    "concentrations"
   ]
  },
  {
   "cell_type": "markdown",
   "metadata": {},
   "source": [
    "Once the steady state concentrations have been determined, the hemoglobin module can be updated. The remaining concentrations are obtained from the experimental data used to generate the glycolysis module. "
   ]
  },
  {
   "cell_type": "code",
   "execution_count": 11,
   "metadata": {},
   "outputs": [
    {
     "name": "stdout",
     "output_type": "stream",
     "text": [
      "_23dpg_c: 3.100000\n",
      "hb_c: 0.059625\n",
      "hb_1o2_c: 0.050085\n",
      "hb_2o2_c: 0.073625\n",
      "hb_3o2_c: 0.262842\n",
      "hb_4o2_c: 6.807613\n",
      "dhb_c: 0.046210\n",
      "_13dpg_c: 0.000243\n",
      "_3pg_c: 0.077300\n",
      "o2_c: 0.020079\n",
      "pi_c: 2.500000\n",
      "h_c: 0.000090\n",
      "h2o_c: 1.000000\n"
     ]
    }
   ],
   "source": [
    "for metab_sym, value_sym in concentrations.items():\n",
    "    metab = hemoglobin.metabolites.get_by_id(str(metab_sym))\n",
    "    metab.ic = float(value_sym)\n",
    "    \n",
    "_13dpg_c.ic = 0.000243\n",
    "_3pg_c.ic = 0.0773\n",
    "pi_c.ic = 2.5\n",
    "h_c.ic = 0.0000899757\n",
    "h2o_c.ic = 1.0\n",
    "\n",
    "hemoglobin.set_initial_conditions()\n",
    "for metab, ic in hemoglobin.initial_conditions.items():\n",
    "    print(\"%s: %.6f\" % (metab.id, ic))"
   ]
  },
  {
   "cell_type": "markdown",
   "metadata": {},
   "source": [
    "With the steady state concentrations and steady state flux values, the PERCs can be calculated. For this module, the PERCs for the binding of hemoglobin to oxygen will be set manually to better reflect the physiology.\n",
    "\n",
    "Note: Reactions at equilibrium have a steady state flux of 0. "
   ]
  },
  {
   "cell_type": "code",
   "execution_count": 12,
   "metadata": {},
   "outputs": [],
   "source": [
    "DPGM.v = 0.441\n",
    "DPGase.v = 0.441\n",
    "HBO1.v = 0\n",
    "HBO2.v = 0\n",
    "HBO3.v = 0\n",
    "HBO4.v = 0\n",
    "HBDPG.v = 0\n",
    "EX_o2_e.v = 0\n",
    "\n",
    "hemoglobin.calculate_PERCs(update_reactions=True);\n",
    "EX_o2_e.kf = 509726\n",
    "HBDPG.kf =519613\n",
    "HBO1.kf = 506935\n",
    "HBO2.kf = 511077\n",
    "HBO3.kf = 509243\n",
    "HBO4.kf = 501595"
   ]
  },
  {
   "cell_type": "markdown",
   "metadata": {},
   "source": [
    "## QC/QA Model\n",
    "\n",
    "Before saving the module, it is important to ensure that the module is elementally balanced, and that the module can be integrated into a larger network for simulation. Therefore, the __qcqa_model__ method is used to provide a report on the module quality and indicate whether simulation is possible and if not, what parameters and/or initial conditions are missing. "
   ]
  },
  {
   "cell_type": "code",
   "execution_count": 13,
   "metadata": {},
   "outputs": [
    {
     "name": "stdout",
     "output_type": "stream",
     "text": [
      "╒═══════════════════════════════╕\n",
      "│ MODEL ID: Hemoglobin          │\n",
      "│ SIMULATABLE: True;            │\n",
      "│ NUMERICAL CONSISTENCY: True   │\n",
      "╞═══════════════════════════════╡\n",
      "╘═══════════════════════════════╛\n"
     ]
    }
   ],
   "source": [
    "qcqa_model(hemoglobin,  parameters=True, concentrations=True, \n",
    "           fluxes=True, superfluous=True, elemental=True)"
   ]
  },
  {
   "cell_type": "markdown",
   "metadata": {},
   "source": [
    "### Optional: Ordering of internal species and reactions\n",
    "\n",
    "Sometimes, it is also desirable to reorder the metabolite and reaction objects inside the module to follow the physiology. To reorder the internal species, one can use the method __cobra.DictList.get_by_any__ method with the list of metabolite identifiers in the desirable order. To ensure all metabolites are still present and not forgotten in the module, a QC/QA check is also performed. "
   ]
  },
  {
   "cell_type": "code",
   "execution_count": 14,
   "metadata": {},
   "outputs": [],
   "source": [
    "from cobra import DictList"
   ]
  },
  {
   "cell_type": "code",
   "execution_count": 15,
   "metadata": {
    "scrolled": false
   },
   "outputs": [
    {
     "data": {
      "text/html": [
       "<div>\n",
       "<style scoped>\n",
       "    .dataframe tbody tr th:only-of-type {\n",
       "        vertical-align: middle;\n",
       "    }\n",
       "\n",
       "    .dataframe tbody tr th {\n",
       "        vertical-align: top;\n",
       "    }\n",
       "\n",
       "    .dataframe thead th {\n",
       "        text-align: right;\n",
       "    }\n",
       "</style>\n",
       "<table border=\"1\" class=\"dataframe\">\n",
       "  <thead>\n",
       "    <tr style=\"text-align: right;\">\n",
       "      <th></th>\n",
       "      <th>DPGM</th>\n",
       "      <th>DPGase</th>\n",
       "      <th>HBO1</th>\n",
       "      <th>HBO2</th>\n",
       "      <th>HBO3</th>\n",
       "      <th>HBO4</th>\n",
       "      <th>HBDPG</th>\n",
       "      <th>EX_o2_e</th>\n",
       "    </tr>\n",
       "  </thead>\n",
       "  <tbody>\n",
       "    <tr>\n",
       "      <th>_23dpg_c</th>\n",
       "      <td>1.0</td>\n",
       "      <td>-1.0</td>\n",
       "      <td>0.0</td>\n",
       "      <td>0.0</td>\n",
       "      <td>0.0</td>\n",
       "      <td>0.0</td>\n",
       "      <td>-1.0</td>\n",
       "      <td>0.0</td>\n",
       "    </tr>\n",
       "    <tr>\n",
       "      <th>hb_c</th>\n",
       "      <td>0.0</td>\n",
       "      <td>0.0</td>\n",
       "      <td>-1.0</td>\n",
       "      <td>0.0</td>\n",
       "      <td>0.0</td>\n",
       "      <td>0.0</td>\n",
       "      <td>-1.0</td>\n",
       "      <td>0.0</td>\n",
       "    </tr>\n",
       "    <tr>\n",
       "      <th>hb_1o2_c</th>\n",
       "      <td>0.0</td>\n",
       "      <td>0.0</td>\n",
       "      <td>1.0</td>\n",
       "      <td>-1.0</td>\n",
       "      <td>0.0</td>\n",
       "      <td>0.0</td>\n",
       "      <td>0.0</td>\n",
       "      <td>0.0</td>\n",
       "    </tr>\n",
       "    <tr>\n",
       "      <th>hb_2o2_c</th>\n",
       "      <td>0.0</td>\n",
       "      <td>0.0</td>\n",
       "      <td>0.0</td>\n",
       "      <td>1.0</td>\n",
       "      <td>-1.0</td>\n",
       "      <td>0.0</td>\n",
       "      <td>0.0</td>\n",
       "      <td>0.0</td>\n",
       "    </tr>\n",
       "    <tr>\n",
       "      <th>hb_3o2_c</th>\n",
       "      <td>0.0</td>\n",
       "      <td>0.0</td>\n",
       "      <td>0.0</td>\n",
       "      <td>0.0</td>\n",
       "      <td>1.0</td>\n",
       "      <td>-1.0</td>\n",
       "      <td>0.0</td>\n",
       "      <td>0.0</td>\n",
       "    </tr>\n",
       "    <tr>\n",
       "      <th>hb_4o2_c</th>\n",
       "      <td>0.0</td>\n",
       "      <td>0.0</td>\n",
       "      <td>0.0</td>\n",
       "      <td>0.0</td>\n",
       "      <td>0.0</td>\n",
       "      <td>1.0</td>\n",
       "      <td>0.0</td>\n",
       "      <td>0.0</td>\n",
       "    </tr>\n",
       "    <tr>\n",
       "      <th>dhb_c</th>\n",
       "      <td>0.0</td>\n",
       "      <td>0.0</td>\n",
       "      <td>0.0</td>\n",
       "      <td>0.0</td>\n",
       "      <td>0.0</td>\n",
       "      <td>0.0</td>\n",
       "      <td>1.0</td>\n",
       "      <td>0.0</td>\n",
       "    </tr>\n",
       "    <tr>\n",
       "      <th>_13dpg_c</th>\n",
       "      <td>-1.0</td>\n",
       "      <td>0.0</td>\n",
       "      <td>0.0</td>\n",
       "      <td>0.0</td>\n",
       "      <td>0.0</td>\n",
       "      <td>0.0</td>\n",
       "      <td>0.0</td>\n",
       "      <td>0.0</td>\n",
       "    </tr>\n",
       "    <tr>\n",
       "      <th>_3pg_c</th>\n",
       "      <td>0.0</td>\n",
       "      <td>1.0</td>\n",
       "      <td>0.0</td>\n",
       "      <td>0.0</td>\n",
       "      <td>0.0</td>\n",
       "      <td>0.0</td>\n",
       "      <td>0.0</td>\n",
       "      <td>0.0</td>\n",
       "    </tr>\n",
       "    <tr>\n",
       "      <th>o2_c</th>\n",
       "      <td>0.0</td>\n",
       "      <td>0.0</td>\n",
       "      <td>-1.0</td>\n",
       "      <td>-1.0</td>\n",
       "      <td>-1.0</td>\n",
       "      <td>-1.0</td>\n",
       "      <td>0.0</td>\n",
       "      <td>-1.0</td>\n",
       "    </tr>\n",
       "    <tr>\n",
       "      <th>pi_c</th>\n",
       "      <td>0.0</td>\n",
       "      <td>1.0</td>\n",
       "      <td>0.0</td>\n",
       "      <td>0.0</td>\n",
       "      <td>0.0</td>\n",
       "      <td>0.0</td>\n",
       "      <td>0.0</td>\n",
       "      <td>0.0</td>\n",
       "    </tr>\n",
       "    <tr>\n",
       "      <th>h_c</th>\n",
       "      <td>1.0</td>\n",
       "      <td>0.0</td>\n",
       "      <td>0.0</td>\n",
       "      <td>0.0</td>\n",
       "      <td>0.0</td>\n",
       "      <td>0.0</td>\n",
       "      <td>0.0</td>\n",
       "      <td>0.0</td>\n",
       "    </tr>\n",
       "    <tr>\n",
       "      <th>h2o_c</th>\n",
       "      <td>0.0</td>\n",
       "      <td>-1.0</td>\n",
       "      <td>0.0</td>\n",
       "      <td>0.0</td>\n",
       "      <td>0.0</td>\n",
       "      <td>0.0</td>\n",
       "      <td>0.0</td>\n",
       "      <td>0.0</td>\n",
       "    </tr>\n",
       "  </tbody>\n",
       "</table>\n",
       "</div>"
      ],
      "text/plain": [
       "          DPGM  DPGase  HBO1  HBO2  HBO3  HBO4  HBDPG  EX_o2_e\n",
       "_23dpg_c   1.0    -1.0   0.0   0.0   0.0   0.0   -1.0      0.0\n",
       "hb_c       0.0     0.0  -1.0   0.0   0.0   0.0   -1.0      0.0\n",
       "hb_1o2_c   0.0     0.0   1.0  -1.0   0.0   0.0    0.0      0.0\n",
       "hb_2o2_c   0.0     0.0   0.0   1.0  -1.0   0.0    0.0      0.0\n",
       "hb_3o2_c   0.0     0.0   0.0   0.0   1.0  -1.0    0.0      0.0\n",
       "hb_4o2_c   0.0     0.0   0.0   0.0   0.0   1.0    0.0      0.0\n",
       "dhb_c      0.0     0.0   0.0   0.0   0.0   0.0    1.0      0.0\n",
       "_13dpg_c  -1.0     0.0   0.0   0.0   0.0   0.0    0.0      0.0\n",
       "_3pg_c     0.0     1.0   0.0   0.0   0.0   0.0    0.0      0.0\n",
       "o2_c       0.0     0.0  -1.0  -1.0  -1.0  -1.0    0.0     -1.0\n",
       "pi_c       0.0     1.0   0.0   0.0   0.0   0.0    0.0      0.0\n",
       "h_c        1.0     0.0   0.0   0.0   0.0   0.0    0.0      0.0\n",
       "h2o_c      0.0    -1.0   0.0   0.0   0.0   0.0    0.0      0.0"
      ]
     },
     "execution_count": 15,
     "metadata": {},
     "output_type": "execute_result"
    }
   ],
   "source": [
    "new_metabolite_order = [\"_23dpg_c\", \"hb_c\", \"hb_1o2_c\", \"hb_2o2_c\", \n",
    "                        \"hb_3o2_c\", \"hb_4o2_c\", \"dhb_c\", \"_13dpg_c\",\n",
    "                        \"_3pg_c\",  \"o2_c\", \"pi_c\", \"h_c\", \"h2o_c\"]\n",
    "\n",
    "if len(hemoglobin.metabolites) == len(new_metabolite_order):\n",
    "    hemoglobin.metabolites = DictList(hemoglobin.metabolites.get_by_any(new_metabolite_order))\n",
    "    \n",
    "new_reaction_order = [\"DPGM\", \"DPGase\", \"HBO1\", \"HBO2\", \n",
    "                      \"HBO3\", \"HBO4\", \"HBDPG\", \"EX_o2_e\"]\n",
    "\n",
    "if len(hemoglobin.reactions) == len(new_reaction_order):\n",
    "    hemoglobin.reactions = DictList(hemoglobin.reactions.get_by_any(new_reaction_order))\n",
    "    \n",
    "hemoglobin.update_S(matrix_type=\"DataFrame\")"
   ]
  },
  {
   "cell_type": "markdown",
   "metadata": {},
   "source": [
    "## Steady State and and Model Validation \n",
    "\n",
    "In order to determine whether the module can be successfully integrated into a model, another model can be loaded, merged with the module, and simulated. To validate this module, it will be merged with a __glycolysis__ model. \n",
    "\n",
    "To find the steady state of the model, the __Simulation.find_steady_state_model__ method can be used and will update the values in the Simulation object with the steady state values if \\\\(\\textbf{update_initial_conditions}\\\\) and \\\\(\\textbf{update_reactions}\\\\) arguments are set to True. \n",
    "To validate the steady state of the model, concentration and flux solutions can be plotted using the __plot_simulation__ function."
   ]
  },
  {
   "cell_type": "code",
   "execution_count": 16,
   "metadata": {},
   "outputs": [
    {
     "data": {
      "image/png": "[encoded data removed]",
      "text/plain": [
       "<Figure size 792x576 with 2 Axes>"
      ]
     },
     "metadata": {
      "needs_background": "light"
     },
     "output_type": "display_data"
    }
   ],
   "source": [
    "glycolysis = io.json.load_json_model(\"../../models/json-models/glycolysis.json\")\n",
    "glyc_hb = glycolysis.merge(hemoglobin, new_model_id=\"GlycHB\")\n",
    "\n",
    "# Setup simulation object, ensure model is at steady state\n",
    "sim = Simulation(glyc_hb)\n",
    "sim.find_steady_state_model(model=glyc_hb, strategy=\"simulate\", \n",
    "                            update_initial_conditions=True, \n",
    "                            update_reactions=True)\n",
    "\n",
    "t0, tf = (0, 1e6)\n",
    "conc_sol, flux_sol = sim.simulate_model(glyc_hb, time=(t0, tf))\n",
    "\n",
    "fig, (ax1, ax2) = plt.subplots(nrows=2, ncols=1, figsize=(11, 8), constrained_layout=True);\n",
    "\n",
    "plot_simulation(conc_sol, ax=ax1, legend=\"right outside\",\n",
    "                plot_function=\"semilogx\", xlabel=\"Time [hr]\",\n",
    "                ylabel=\"Concentrations [mM]\");\n",
    "\n",
    "plot_simulation(flux_sol, ax=ax2, legend=\"right outside\",\n",
    "                plot_function=\"semilogx\", xlabel=\"Time [hr]\",\n",
    "                ylabel=\"Fluxes [mM]\");"
   ]
  },
  {
   "cell_type": "markdown",
   "metadata": {},
   "source": [
    "### Optional Information: Storing references\n",
    "#### Compartment\n",
    "Because the character \"c\" represents the cytosol compartment, it is recommended to define and set the compartment in the __MassModel.compartments__ attribute."
   ]
  },
  {
   "cell_type": "code",
   "execution_count": 17,
   "metadata": {
    "scrolled": true
   },
   "outputs": [
    {
     "name": "stdout",
     "output_type": "stream",
     "text": [
      "{'c': 'Cytosol'}\n"
     ]
    }
   ],
   "source": [
    "hemoglobin.compartments = {\"c\": \"Cytosol\"}\n",
    "print(hemoglobin.compartments)"
   ]
  },
  {
   "cell_type": "markdown",
   "metadata": {},
   "source": [
    "#### Units\n",
    "All of the units for the numerical values used in this model are \"Millimoles\" for amount, \"Liters\" for volume, and \"Hours\" for time. In order to ensure that future users understand the numerical values for model, it is important to define the __MassModel.units__ attribute. Like the __compartment__ attribute, the __units__ attribute is a dictionary and can easily be updated using the same methods.\n",
    "\n",
    "Note that this attribute will NOT track units, but instead acts as a reference for the user and others so that they can perform necessary unit conversions."
   ]
  },
  {
   "cell_type": "code",
   "execution_count": 18,
   "metadata": {},
   "outputs": [
    {
     "data": {
      "text/plain": [
       "{'N': 'Millimoles', 'Vol': 'Liters', 'Time': 'Hours'}"
      ]
     },
     "execution_count": 18,
     "metadata": {},
     "output_type": "execute_result"
    }
   ],
   "source": [
    "hemoglobin.units = {'N': 'Millimoles', 'Vol': 'Liters', 'Time': 'Hours'}\n",
    "hemoglobin.units"
   ]
  },
  {
   "cell_type": "markdown",
   "metadata": {},
   "source": [
    "#### Literature\n",
    "\n",
    "Because specific sources of literature were used in the building of this module, it is important for others who wish to use this module to be able to access those same literature sources. In general, to preserve information for users, either the __notes__ attribute or the __annotation__ attribute can be used. In this case, the literature source is placed in __notes__. "
   ]
  },
  {
   "cell_type": "code",
   "execution_count": 19,
   "metadata": {},
   "outputs": [
    {
     "data": {
      "text/plain": [
       "{'Literature': ['M.C. Schrader, C.J. Eskey, V. Simplaceanu, and C. Ho. A carbon-13 nu- clear magnetic resonance investigation of the metabolic fluxes associated with glucose metabolism in human erythrocytes. Biochim Biophys Acta., 1182(2):162–178, 1993.',\n",
       "  'M. Mehta, M. Haripalsingh, and S.S. Sonawat. Malaria parasite-infected erythrocytes inhibit glucose utilization in uninfected red cells. FEBS Let- ters, 579(27):6151–6158, 2005']}"
      ]
     },
     "execution_count": 19,
     "metadata": {},
     "output_type": "execute_result"
    }
   ],
   "source": [
    "hemoglobin.notes.update({\"Literature\": \n",
    "    [\"M.C. Schrader, C.J. Eskey, V. Simplaceanu, and C. Ho. A carbon-13 nu- clear magnetic resonance investigation of the metabolic fluxes associated with glucose metabolism in human erythrocytes. Biochim Biophys Acta., 1182(2):162–178, 1993.\",\n",
    "     \"M. Mehta, M. Haripalsingh, and S.S. Sonawat. Malaria parasite-infected erythrocytes inhibit glucose utilization in uninfected red cells. FEBS Let- ters, 579(27):6151–6158, 2005\"]})\n",
    "hemoglobin.notes"
   ]
  },
  {
   "cell_type": "markdown",
   "metadata": {},
   "source": [
    "## Export\n",
    "\n",
    "After validation, the model is ready to be saved. The model can either be exported as a \".json\" file or if the model conforms to SBML standards, as a \".xml\" file using the classes in __mass.io__. To export the model, only the path to the directory and the name of the model need to be specified. Both are shown. "
   ]
  },
  {
   "cell_type": "markdown",
   "metadata": {},
   "source": [
    "### Export using JSON"
   ]
  },
  {
   "cell_type": "code",
   "execution_count": 20,
   "metadata": {
    "scrolled": false
   },
   "outputs": [],
   "source": [
    "io.json.save_json_model(hemoglobin, \"../../models/json-models/hemoglobin.json\")"
   ]
  },
  {
   "cell_type": "markdown",
   "metadata": {},
   "source": [
    "### Export using SBML"
   ]
  },
  {
   "cell_type": "code",
   "execution_count": 21,
   "metadata": {},
   "outputs": [],
   "source": [
    "# io.sbml.write_sbml_model(hemoglobin, \"../../models/sbml-models/hemoglobin.xml\")"
   ]
  }
 ],
 "metadata": {
  "kernelspec": {
   "display_name": "Python 3",
   "language": "python",
   "name": "python3"
  },
  "language_info": {
   "codemirror_mode": {
    "name": "ipython",
    "version": 3
   },
   "file_extension": ".py",
   "mimetype": "text/x-python",
   "name": "python",
   "nbconvert_exporter": "python",
   "pygments_lexer": "ipython3",
   "version": "3.7.2"
  }
 },
 "nbformat": 4,
 "nbformat_minor": 2
}
