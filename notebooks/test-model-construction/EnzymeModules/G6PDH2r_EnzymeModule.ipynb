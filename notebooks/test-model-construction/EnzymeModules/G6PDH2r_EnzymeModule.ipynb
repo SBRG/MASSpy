{
 "cells": [
  {
   "cell_type": "markdown",
   "metadata": {},
   "source": [
    "# Glucose-6-Phosphate Dehydrogenase, reversible (G6PDH2r)\n",
    "To construct the glucose-6-phosphate dehydrogenase module, first we import __masspy__ and any additional packages that will be necessary.  "
   ]
  },
  {
   "cell_type": "code",
   "execution_count": 1,
   "metadata": {},
   "outputs": [],
   "source": [
    "import os\n",
    "\n",
    "import matplotlib.pyplot as plt\n",
    "\n",
    "import numpy as np\n",
    "\n",
    "from scipy import optimize\n",
    "\n",
    "import sympy as sym\n",
    "\n",
    "from cobra import DictList\n",
    "\n",
    "from mass import MassMetabolite, Simulation, qcqa_model\n",
    "from mass.enzyme_modules import EnzymeModule\n",
    "from mass.io import json#, sbml\n",
    "from mass.util import Keq2k, k2Keq, strip_time"
   ]
  },
  {
   "cell_type": "markdown",
   "metadata": {},
   "source": [
    "Note that the total enzyme concentration of G6PDH2r is \\\\(1 \\mu M = 0.001 mM\\\\)."
   ]
  },
  {
   "cell_type": "markdown",
   "metadata": {},
   "source": [
    "## Module Construction\n",
    "The first step of creating the G6PDH2r module is to define the EnzymeModule object.\n",
    "\n",
    "__Note:__ All EnzymeModule specific attributes start will start the prefix \"enzyme\" or \"enzyme_module\"."
   ]
  },
  {
   "cell_type": "code",
   "execution_count": 2,
   "metadata": {},
   "outputs": [],
   "source": [
    "G6PDH2r = EnzymeModule(\"G6PDH2r\", name=\"Glucose 6-phosphate dehydrogenase\",\n",
    "                      subsystem=\"Pentose Phosphate Pathway\")"
   ]
  },
  {
   "cell_type": "markdown",
   "metadata": {},
   "source": [
    "## Metabolites\n",
    "### Ligands\n",
    "The next step is to define all of the ligands involved in the G6PDH2r catalytic mechanism using identifiers and the names found in the BiGG Database (http://bigg.ucsd.edu/). In order to ensure our module is physiologically accurate, it is important to provide the __formula__ keyword with a string representing the chemical formula for each metabolite, and the  __charge__ keyword with an integer representing the metabolite's ionic charge (Note that neutrally charged metabolites are provided with 0). To indicate that the cytosol is the cellular compartment in which the enzymatic reaction occurs, the string \"c\" is provided to the __compartment__ keyword.\n",
    "\n",
    "First, the inhibitors, cofactors, and the substrate associated with this enzyme. There are 6 species which must be considered."
   ]
  },
  {
   "cell_type": "code",
   "execution_count": 3,
   "metadata": {},
   "outputs": [],
   "source": [
    "g6p_c = MassMetabolite(\n",
    "    id=\"g6p_c\",\n",
    "    name=\"D-Glucose 6-phosphate\",\n",
    "    formula=\"C6H11O9P\",\n",
    "    charge=-2,\n",
    "    compartment=\"c\")\n",
    "_6pgl_c = MassMetabolite(\n",
    "    id=\"_6pgl_c\",\n",
    "    name=\"6-Phospho-D-gluco-1,5-lactone\",\n",
    "    formula=\"C6H9O9P\",\n",
    "    charge=-2,\n",
    "    compartment=\"c\")\n",
    "nadp_c = MassMetabolite(\n",
    "    id=\"nadp_c\",\n",
    "    name=\"Nicotinamide adenine dinucleotide phosphate\",\n",
    "    formula=\"C21H25N7O17P3\",\n",
    "    charge=-3,\n",
    "    compartment=\"c\")\n",
    "nadph_c = MassMetabolite(\n",
    "    id=\"nadph_c\",\n",
    "    name=\"Nicotinamide adenine dinucleotide phosphate - reduced\",\n",
    "    formula=\"C21H26N7O17P3\",\n",
    "    charge=-4,\n",
    "    compartment=\"c\")\n",
    "atp_c = MassMetabolite(\n",
    "    id=\"atp_c\",\n",
    "    name=\"ATP\",\n",
    "    formula=\"C10H12N5O13P3\",\n",
    "    charge=-4,\n",
    "    compartment=\"c\")\n",
    "h_c = MassMetabolite(\n",
    "    id=\"h_c\",\n",
    "    name=\"H+\",\n",
    "    formula=\"H\",\n",
    "    charge=1,\n",
    "    compartment=\"c\")"
   ]
  },
  {
   "cell_type": "markdown",
   "metadata": {},
   "source": [
    "After generating the ligands, they are added to the EnzymeModule. The ligands of the EnzymeModule can be viewed using the __EnzymeModule.enzyme_module_ligands_categorized__ property. Note that all of the ligands are categorized as undefined. "
   ]
  },
  {
   "cell_type": "code",
   "execution_count": 4,
   "metadata": {},
   "outputs": [
    {
     "name": "stdout",
     "output_type": "stream",
     "text": [
      "Undefined: ['_6pgl_c', 'atp_c', 'g6p_c', 'h_c', 'nadp_c', 'nadph_c']\n"
     ]
    }
   ],
   "source": [
    "G6PDH2r.add_metabolites([g6p_c, _6pgl_c, nadp_c, nadph_c, atp_c, h_c])\n",
    "for category, ligands in G6PDH2r.enzyme_module_ligands_categorized.items():\n",
    "    print(\"{0}: {1}\".format(category, str([m.id for m in ligands])))"
   ]
  },
  {
   "cell_type": "markdown",
   "metadata": {},
   "source": [
    "When metabolites are first added to an EnzymeModule, they are placed in the \"Undefined\" category. The __EnzymeModule.enzyme_module_ligands_categorized__ property can also be used to reassign metabolites to user-defined categories by providing a dictionary where keys are the categories and values are the metabolites. Note that a metabolite can be given placed in more than one category."
   ]
  },
  {
   "cell_type": "code",
   "execution_count": 5,
   "metadata": {},
   "outputs": [
    {
     "name": "stdout",
     "output_type": "stream",
     "text": [
      "Substrates: ['g6p_c']\n",
      "Cofactors: ['nadp_c']\n",
      "Inhibitors: ['atp_c']\n",
      "Products: ['_6pgl_c', 'h_c', 'nadph_c']\n"
     ]
    }
   ],
   "source": [
    "G6PDH2r.enzyme_module_ligands_categorized =  {\n",
    "    \"Substrates\": g6p_c,\n",
    "    \"Cofactors\": nadp_c,\n",
    "    \"Inhibitors\": atp_c,\n",
    "    \"Products\": [_6pgl_c, nadph_c, h_c]}\n",
    "for category, ligands in G6PDH2r.enzyme_module_ligands_categorized.items():\n",
    "    print(\"{0}: {1}\".format(category, str([m.id for m in ligands])))"
   ]
  },
  {
   "cell_type": "markdown",
   "metadata": {},
   "source": [
    "### Enzyme Forms\n",
    "\n",
    "This G6PDH2r module will be considered a monomer with a ordered sequential mechanism. There is also a categorized enzyme form dictionary, accessible via __EnzymeModule.enzyme_module_forms_categorized__, that behaves similarly to the __EnzymeModule.enzyme_module_ligands_categorized__ attribute, as shown below. Alternatively, one can access a __cobra.DictList__ of all EnzymeForms through the __EnzymeModule.enzyme_module_forms__ attribute."
   ]
  },
  {
   "cell_type": "code",
   "execution_count": 6,
   "metadata": {},
   "outputs": [
    {
     "name": "stdout",
     "output_type": "stream",
     "text": [
      "Free: ['g6pdh2r_GN_P_c', 'g6pdh2r_GN_c', 'g6pdh2r_G_P_c', 'g6pdh2r_G_c', 'g6pdh2r_c']\n",
      "Inhibited: ['g6pdh2r_A_CI_c', 'g6pdh2r_N_PI_c']\n"
     ]
    }
   ],
   "source": [
    "G6PDH2r.make_enzyme_module_form(\n",
    "    id=\"g6pdh2r_c\",\n",
    "    name=\"Automatic\",\n",
    "    categories=\"Free\",\n",
    "    compartment=\"c\")\n",
    "G6PDH2r.make_enzyme_module_form(\n",
    "    id=\"g6pdh2r_G_c\",\n",
    "    name=\"Automatic\",\n",
    "    categories=\"Free\",\n",
    "    bound_catalytic={g6p_c: 1},\n",
    "    compartment=\"c\")\n",
    "G6PDH2r.make_enzyme_module_form(\n",
    "    id=\"g6pdh2r_GN_c\",\n",
    "    name=\"Automatic\",\n",
    "    categories=\"Free\",\n",
    "    bound_catalytic={g6p_c: 1, nadp_c: 1},\n",
    "    compartment=\"c\")\n",
    "G6PDH2r.make_enzyme_module_form(\n",
    "    id=\"g6pdh2r_GN_P_c\",\n",
    "    name=\"Automatic\",\n",
    "    categories=\"Free\",\n",
    "    bound_catalytic={_6pgl_c: 1, nadph_c: 1},\n",
    "    compartment=\"c\")\n",
    "G6PDH2r.make_enzyme_module_form(\n",
    "    id=\"g6pdh2r_G_P_c\",\n",
    "    name=\"Automatic\",\n",
    "    categories=\"Free\",\n",
    "    bound_catalytic={_6pgl_c: 1},\n",
    "    compartment=\"c\")\n",
    "G6PDH2r.make_enzyme_module_form(\n",
    "    id=\"g6pdh2r_N_PI_c\",\n",
    "    name=\"Automatic\",\n",
    "    categories=\"Inhibited\",\n",
    "    bound_catalytic={nadph_c: 1},\n",
    "    compartment=\"c\")\n",
    "G6PDH2r.make_enzyme_module_form(\n",
    "    id=\"g6pdh2r_A_CI_c\",\n",
    "    name=\"Automatic\",\n",
    "    categories=\"Inhibited\",\n",
    "    bound_catalytic={atp_c: 1},\n",
    "    compartment=\"c\")\n",
    "\n",
    "# Display newly made EnzymeForms in their categories\n",
    "for category, enzyme_module_forms in G6PDH2r.enzyme_module_forms_categorized.items():\n",
    "    print(\"{0}: {1}\".format(category, str([r.id for r in enzyme_module_forms])))"
   ]
  },
  {
   "cell_type": "markdown",
   "metadata": {},
   "source": [
    "## Reactions\n",
    "### Enzyme Reactions\n",
    "Once all of the MassMetabolite and EnzymeForm objects have been created for each of the species in G6PDH2r, the next step is to define all of the reactions that occur in its mechanism. The __EnzymeModule.make_enzyme_module_reaction__ method can be used to create an enzyme binding reaction, a reaction represnting a transition between states, etc. It requires the same parameters needed to initialize a MassReaction, and it allows for one to define a category for the reaction, similar to how ligands can be categorized and accessible through the __EnzymeModule.enzyme_module_reactions__ property. Additionally, metabolites and EnzymeForms can also be directly added to the reaction by providing the __add_metabolites__ kwarg a dictionary, where keys can be EnzymeForm and MassMetabolites objects or their ids if they already exist in the EnzymeModule, and values are the stoichiometric coefficients (reactants have negative coefficients, products have positive ones). Note that after the creation of each MassReaction object, the reaction is added to the EnzymeModule.\n",
    "\n",
    "In this module of G6PDH2r, there are 7 reactions occuring."
   ]
  },
  {
   "cell_type": "code",
   "execution_count": 7,
   "metadata": {},
   "outputs": [
    {
     "name": "stdout",
     "output_type": "stream",
     "text": [
      "product inhibition: ['G6PDH2r_1', 'G6PDH2r_2']\n",
      "g6p_c binding: ['G6PDH2r_3']\n",
      "_6pgl_c release: ['G6PDH2r_4']\n",
      "nadp_c binding: ['G6PDH2r_5']\n",
      "nadph_c release: ['G6PDH2r_6']\n",
      "catalyzation: ['G6PDH2r_7']\n"
     ]
    }
   ],
   "source": [
    "G6PDH2r.make_enzyme_module_reaction(\n",
    "    id=\"G6PDH2r_1\",\n",
    "    name=\"Automatic\",\n",
    "    subsystem=\"Pentose Phosphate Pathway\",\n",
    "    reversible=True,\n",
    "    categories=\"product inhibition\",\n",
    "    metabolites_to_add={\n",
    "        \"g6pdh2r_c\": -1,\n",
    "        \"nadph_c\": -1,\n",
    "        \"g6pdh2r_N_PI_c\": 1})\n",
    "\n",
    "G6PDH2r.make_enzyme_module_reaction(\n",
    "    id=\"G6PDH2r_2\",\n",
    "    name=\"Automatic\",\n",
    "    subsystem=\"Pentose Phosphate Pathway\",\n",
    "    reversible=True,\n",
    "    categories=\"product inhibition\",\n",
    "    metabolites_to_add={\n",
    "        \"g6pdh2r_c\": -1,\n",
    "        \"atp_c\": -1,\n",
    "        \"g6pdh2r_A_CI_c\": 1})\n",
    "\n",
    "G6PDH2r.make_enzyme_module_reaction(\n",
    "    id=\"G6PDH2r_3\",\n",
    "    name=\"Automatic\",\n",
    "    subsystem=\"Pentose Phosphate Pathway\",\n",
    "    reversible=True,\n",
    "    categories=\"g6p_c binding\",\n",
    "    metabolites_to_add={\n",
    "        \"g6pdh2r_c\": -1,\n",
    "        \"g6p_c\": -1,\n",
    "        \"g6pdh2r_G_c\": 1})\n",
    "\n",
    "G6PDH2r.make_enzyme_module_reaction(\n",
    "    id=\"G6PDH2r_4\",\n",
    "    name=\"Automatic\",\n",
    "    subsystem=\"Pentose Phosphate Pathway\",\n",
    "    reversible=True,\n",
    "    categories=\"_6pgl_c release\",\n",
    "    metabolites_to_add={\n",
    "        \"g6pdh2r_G_P_c\": -1,\n",
    "        \"_6pgl_c\": 1,\n",
    "        \"g6pdh2r_c\": 1})\n",
    "\n",
    "G6PDH2r.make_enzyme_module_reaction(\n",
    "    id=\"G6PDH2r_5\",\n",
    "    name=\"Automatic\",\n",
    "    subsystem=\"Pentose Phosphate Pathway\",\n",
    "    reversible=True,\n",
    "    categories=\"nadp_c binding\",\n",
    "    metabolites_to_add={\n",
    "        \"g6pdh2r_G_c\": -1,\n",
    "        \"nadp_c\": -1,\n",
    "        \"g6pdh2r_GN_c\": 1})\n",
    "\n",
    "G6PDH2r.make_enzyme_module_reaction(\n",
    "    id=\"G6PDH2r_6\",\n",
    "    name=\"Automatic\",\n",
    "    subsystem=\"Pentose Phosphate Pathway\",\n",
    "    reversible=True,\n",
    "    categories=\"nadph_c release\",\n",
    "    metabolites_to_add={\n",
    "        \"g6pdh2r_GN_P_c\": -1,\n",
    "        \"nadph_c\": 1,\n",
    "        \"g6pdh2r_G_P_c\": 1})\n",
    "\n",
    "G6PDH2r.make_enzyme_module_reaction(\n",
    "    id=\"G6PDH2r_7\",\n",
    "    name=\"Automatic\",\n",
    "    subsystem=\"Pentose Phosphate Pathway\",\n",
    "    reversible=True,\n",
    "    categories=\"catalyzation\",\n",
    "    metabolites_to_add={\n",
    "        \"g6pdh2r_GN_c\": -1,\n",
    "        \"g6pdh2r_GN_P_c\": 1,\n",
    "        \"h_c\": 1})\n",
    "\n",
    "# Display newly made reactions in their categories\n",
    "for category, enzyme_module_reactions in G6PDH2r.enzyme_module_reactions_categorized.items():\n",
    "    print(\"{0}: {1}\".format(category, str([r.id for r in enzyme_module_reactions])))"
   ]
  },
  {
   "cell_type": "markdown",
   "metadata": {},
   "source": [
    "## The Steady State\n",
    "### Solve steady state concentrations symbolically\n",
    "To determine the steady state of the enzyme, first we will identify the enzyme forms and store them in a list. Then, we define a dictionary of the ordinary differential equations as sympy expressions."
   ]
  },
  {
   "cell_type": "code",
   "execution_count": 8,
   "metadata": {},
   "outputs": [],
   "source": [
    "ode_dict = {\n",
    "    sym.Symbol(enzyme_module_form.id): sym.Eq(strip_time(enzyme_module_form.ode))\n",
    "    for enzyme_module_form in G6PDH2r.enzyme_module_forms}"
   ]
  },
  {
   "cell_type": "markdown",
   "metadata": {},
   "source": [
    "We also use the catalyzation reactions in order to create our equation for \\\\(v_{\\mathrm{G6PDH2r}}\\\\)."
   ]
  },
  {
   "cell_type": "code",
   "execution_count": 9,
   "metadata": {},
   "outputs": [
    {
     "name": "stdout",
     "output_type": "stream",
     "text": [
      "            kf_G6PDH2r_7⋅(Keq_G6PDH2r_7⋅g6pdh2r_GN_c(t) - g6pdh2r_GN_P_c(t))\n",
      "v_G6PDH2r = ────────────────────────────────────────────────────────────────\n",
      "                                     Keq_G6PDH2r_7                          \n"
     ]
    }
   ],
   "source": [
    "G6PDH2r.make_enzyme_net_flux_equation(G6PDH2r.enzyme_module_reactions_categorized[\"catalyzation\"], \n",
    "                                      use_rates=True, update_enzyme=True)\n",
    "sym.pprint(G6PDH2r.enzyme_net_flux_equation)"
   ]
  },
  {
   "cell_type": "markdown",
   "metadata": {},
   "source": [
    "We then identify equations for the unknown concentrations we wish to solve for in each reaction. We will treat the completely free form of the enzyme with no bound species as our dependent variable."
   ]
  },
  {
   "cell_type": "code",
   "execution_count": 10,
   "metadata": {},
   "outputs": [],
   "source": [
    "# Get enzyme forms\n",
    "enzyme_module_forms = G6PDH2r.enzyme_module_forms.copy()\n",
    "\n",
    "enzyme_solutions = {}\n",
    "for enzyme_module_form in enzyme_module_forms:\n",
    "    # Skip dependent variable\n",
    "    if \"g6pdh2r_c\" == str(enzyme_module_form):\n",
    "        continue\n",
    "    else:\n",
    "        enzyme_module_form = sym.Symbol(enzyme_module_form.id)\n",
    "    # Solve for the enzyme form and update the solution dictionary\n",
    "    sol = list(sym.solveset(ode_dict[enzyme_module_form].subs(enzyme_solutions), enzyme_module_form))\n",
    "    enzyme_solutions[enzyme_module_form] = sol.pop()\n",
    "    enzyme_solutions.update({enzyme_module_form: sol.subs(enzyme_solutions) \n",
    "                             for enzyme_module_form, sol in enzyme_solutions.items()})"
   ]
  },
  {
   "cell_type": "markdown",
   "metadata": {},
   "source": [
    "The reaction rate equation can be utilized as the last necessary equation in order to solve for the our final unknown concentration variable in terms of the rate and equilibrium constants. Once the unknown variable has been solved for, we substitute the solution back into our other equations. Because __sym.solveset__ expects the input equations to be equal to 0, we can use the __EnzymeModule.enzyme_net_flux_error__ method to get the appropriate expression."
   ]
  },
  {
   "cell_type": "code",
   "execution_count": 11,
   "metadata": {},
   "outputs": [
    {
     "name": "stdout",
     "output_type": "stream",
     "text": [
      "            kf_G6PDH2r_7⋅(Keq_G6PDH2r_7⋅g6pdh2r_GN_c - g6pdh2r_GN_P_c)\n",
      "v_G6PDH2r - ──────────────────────────────────────────────────────────\n",
      "                                  Keq_G6PDH2r_7                       \n"
     ]
    }
   ],
   "source": [
    "# Solve for enzyme form\n",
    "sym.pprint(strip_time(G6PDH2r.enzyme_net_flux_error()))\n",
    "sol = sym.solveset(strip_time(G6PDH2r.enzyme_net_flux_error()).subs(enzyme_solutions), \n",
    "                   \"g6pdh2r_c\")\n",
    "# Add to solution dictionary\n",
    "enzyme_solutions[sym.Symbol(\"g6pdh2r_c\")] = list(sol).copy().pop()\n",
    "# Update solutions with free variable solutions\n",
    "enzyme_solutions = {enzyme_module_form: sym.simplify(solution.subs(enzyme_solutions))\n",
    "                    for enzyme_module_form, solution in enzyme_solutions.items()}"
   ]
  },
  {
   "cell_type": "markdown",
   "metadata": {},
   "source": [
    "#### Numerical Values\n",
    "At this point, numerical values are defined for the dissociation constants and the concentrations of the substrates, cofactors, activators, and inhibitors. Providing these numerical values will speed up the subsequent calculations. \n",
    "\n",
    "To do this, experimental data is used to define the dissociations constants for the different binding steps under the QEA assumption. The concentrations of the non-enzyme species are taken from the glycolysis model. \n",
    "\n",
    "Experimental data gives the following for the dissociation constants: \n",
    "\n",
    "$$K_{i, \\text{NADPH}} = 0.024,\\ K_{i, \\text{ATP}} = 0.044,\\ K_{\\text{G6P}} = 0.027,\\ K_{\\text{GL6P}} = 0.050,\\ K_{\\text{NADP}} = 0.019,\\ K_{\\text{NADPH}} = 0.0105$$ \n",
    "\n",
    "which gives us a value of $K_{\\text{G6PDH2r}} = \\frac{1000}{\\frac{K_{\\text{GL6P}}K_{\\text{NADPH}}}{K_{\\text{G6P}}K_{\\text{NADP}}}} = \\frac{1000}{\\frac{0.050\\ *\\ 0.0105}{0.027\\ *\\ 0.019}}$ for the catalyzation step."
   ]
  },
  {
   "cell_type": "code",
   "execution_count": 12,
   "metadata": {},
   "outputs": [
    {
     "name": "stderr",
     "output_type": "stream",
     "text": [
      "Ignoring reaction 'EX_h_e' since it already exists.\n"
     ]
    },
    {
     "name": "stderr",
     "output_type": "stream",
     "text": [
      "Ignoring reaction 'EX_h2o_e' since it already exists.\n"
     ]
    },
    {
     "name": "stdout",
     "output_type": "stream",
     "text": [
      "v_G6PDH2r = 0.21\n",
      "_6pgl_c = 0.00175424\n",
      "atp_c = 1.6\n",
      "g6p_c = 0.0486\n",
      "h_c = 8.99757e-05\n",
      "nadp_c = 0.0002\n",
      "nadph_c = 0.0658\n",
      "Keq_G6PDH2r_1 = 41.666666666666664\n",
      "Keq_G6PDH2r_2 = 22.72727272727273\n",
      "Keq_G6PDH2r_3 = 37.03703703703704\n",
      "Keq_G6PDH2r_4 = 0.05\n",
      "Keq_G6PDH2r_5 = 52.631578947368425\n",
      "Keq_G6PDH2r_6 = 0.0105\n",
      "Keq_G6PDH2r_7 = 977.1428571428569\n"
     ]
    }
   ],
   "source": [
    "numerical_values = {}\n",
    "\n",
    "# Get ligand IDs\n",
    "ligand_ids = sorted([str(ligand) for ligand in G6PDH2r.enzyme_module_ligands])\n",
    "parameter_ids = [r.Keq_str for r in G6PDH2r.enzyme_module_reactions]\n",
    "# Load the glycolysis model and hemoglobin model to extract steady state values\n",
    "glycolysis = json.load_json_model(os.path.abspath(\"../../test-models/json-models/glycolysis.json\"))\n",
    "ppp = json.load_json_model(os.path.abspath(\"../../test-models/json-models/pentose_phosphate_pathway.json\"))\n",
    "fullppp = glycolysis.merge(ppp)\n",
    "\n",
    "# Get the steady state flux value and add to numerical values\n",
    "G6PDH2r.enzyme_net_flux = fullppp.reactions.get_by_id(G6PDH2r.id).steady_state_flux\n",
    "numerical_values.update({G6PDH2r.enzyme_flux_symbol: G6PDH2r.enzyme_net_flux})\n",
    "\n",
    "# Get the steady state concentration values and add to numerical values\n",
    "initial_conditions = {\n",
    "    str(ligand): fullppp.initial_conditions[fullppp.metabolites.get_by_id(ligand)]\n",
    "    for ligand in ligand_ids}\n",
    "numerical_values.update(initial_conditions)\n",
    "\n",
    "# Define parameter values and add to numerical values\n",
    "G6PDH2r.enzyme_module_reactions.G6PDH2r_1.Keq = 1/0.024\n",
    "G6PDH2r.enzyme_module_reactions.G6PDH2r_2.Keq = 1/0.044\n",
    "G6PDH2r.enzyme_module_reactions.G6PDH2r_3.Keq = 1/0.027\n",
    "G6PDH2r.enzyme_module_reactions.G6PDH2r_4.Keq = 0.050\n",
    "G6PDH2r.enzyme_module_reactions.G6PDH2r_5.Keq = 1/0.019\n",
    "G6PDH2r.enzyme_module_reactions.G6PDH2r_6.Keq = 0.0105\n",
    "G6PDH2r.enzyme_module_reactions.G6PDH2r_7.Keq = 1000/((0.05*0.0105)/(0.019*0.027))\n",
    "\n",
    "numerical_values.update({reaction.Keq_str: reaction.Keq \n",
    "                         for reaction in G6PDH2r.enzyme_module_reactions})\n",
    "\n",
    "# Substitute values into equations\n",
    "enzyme_solutions = {enzyme_module_form: sym.simplify(solution.subs(numerical_values))\n",
    "                    for enzyme_module_form, solution in enzyme_solutions.items()}\n",
    "\n",
    "# Display numerical values\n",
    "for k, v in numerical_values.items():\n",
    "    print(\"{0} = {1}\".format(k, v))"
   ]
  },
  {
   "cell_type": "markdown",
   "metadata": {},
   "source": [
    "The last part of this step is to simplify the solutions for the enzyme forms and, as a QCQA, ensure that only rate constants are the only symbolic arguments in the solutions. "
   ]
  },
  {
   "cell_type": "code",
   "execution_count": 13,
   "metadata": {},
   "outputs": [
    {
     "name": "stdout",
     "output_type": "stream",
     "text": [
      "('kf_G6PDH2r_3', 'kf_G6PDH2r_4', 'kf_G6PDH2r_5', 'kf_G6PDH2r_6', 'kf_G6PDH2r_7')\n"
     ]
    }
   ],
   "source": [
    "args = tuple(sorted(set([\n",
    "    str(arg) for sol in enzyme_solutions.values() \n",
    "    for arg in list(sol.atoms(sym.Symbol))])))\n",
    "print(args)"
   ]
  },
  {
   "cell_type": "markdown",
   "metadata": {},
   "source": [
    "### Determine rate constants\n",
    "#### Total Enzyme Concentration and $r_{T}$ \n",
    "After solving for the enzyme forms, the next step is to define equations for the total enzyme concentration and for the fraction of the enzyme in the inhibited state to be used as constraints for determining the rate parameters. To view the equation for the total enzyme concentration, we can use the __EnzymeModule.total_enzyme_equation__ property."
   ]
  },
  {
   "cell_type": "code",
   "execution_count": 14,
   "metadata": {
    "scrolled": true
   },
   "outputs": [
    {
     "name": "stdout",
     "output_type": "stream",
     "text": [
      "G6PDH2r_Total = g6pdh2r_A_CI_c(t) + g6pdh2r_GN_P_c(t) + g6pdh2r_GN_c(t) + g6pd\n",
      "h2r_G_P_c(t) + g6pdh2r_G_c(t) + g6pdh2r_N_PI_c(t) + g6pdh2r_c(t)\n"
     ]
    }
   ],
   "source": [
    "sym.pprint(G6PDH2r.enzyme_concentration_total_equation)"
   ]
  },
  {
   "cell_type": "markdown",
   "metadata": {},
   "source": [
    "The total concentration of G6PDH2r is 0.001 mM. The __EnzymeModule.total_enzyme_concentration__ atrribute can be used to set and store this concentration."
   ]
  },
  {
   "cell_type": "code",
   "execution_count": 15,
   "metadata": {},
   "outputs": [
    {
     "name": "stdout",
     "output_type": "stream",
     "text": [
      "0.001\n"
     ]
    }
   ],
   "source": [
    "G6PDH2r.enzyme_concentration_total = 1e-3\n",
    "print(G6PDH2r.enzyme_concentration_total)"
   ]
  },
  {
   "cell_type": "markdown",
   "metadata": {},
   "source": [
    "To determine the rate constants, we can set up an optimization problem where we minimize the error between the measured and calculated total enzyme concentrations. We start by creating the objective function based on the absolute error between the measured and calculated total enzyme concentrations. We can use the __EnzymeModule.enzyme_concentration_total_error__ method to get the symbolic expression for the constraint. "
   ]
  },
  {
   "cell_type": "code",
   "execution_count": 16,
   "metadata": {},
   "outputs": [
    {
     "name": "stdout",
     "output_type": "stream",
     "text": [
      "│-G6PDH2r_Total + g6pdh2r_A_CI_c + g6pdh2r_GN_P_c + g6pdh2r_GN_c + g6pdh2r_G_P\n",
      "_c + g6pdh2r_G_c + g6pdh2r_N_PI_c + g6pdh2r_c│\n"
     ]
    }
   ],
   "source": [
    "enzyme_total_constraint = abs(strip_time(G6PDH2r.enzyme_concentration_total_error()))\n",
    "sym.pprint(enzyme_total_constraint)"
   ]
  },
  {
   "cell_type": "markdown",
   "metadata": {},
   "source": [
    "We introduce our solutions for the enzyme forms to get an equation for the error in the enzyme total concentration in terms of the rate constants."
   ]
  },
  {
   "cell_type": "code",
   "execution_count": 17,
   "metadata": {},
   "outputs": [
    {
     "name": "stdout",
     "output_type": "stream",
     "text": [
      "│         473.104442284003   0.694171212863746   24889.1811728423   4.56013960\n",
      "│-0.001 + ──────────────── + ───────────────── + ──────────────── + ──────────\n",
      "│           kf_G6PDH2r_7        kf_G6PDH2r_6       kf_G6PDH2r_5       kf_G6PDH\n",
      "\n",
      "061281   176.586527206239│\n",
      "────── + ────────────────│\n",
      "2r_4       kf_G6PDH2r_3  │\n"
     ]
    }
   ],
   "source": [
    "enzyme_total_constraint = sym.simplify(enzyme_total_constraint.subs(\n",
    "    enzyme_solutions).subs({G6PDH2r.enzyme_total_symbol: G6PDH2r.enzyme_concentration_total}))\n",
    "sym.pprint(enzyme_total_constraint)\n",
    "obj_func = lambda x: sym.lambdify(args, enzyme_total_constraint)(*x)"
   ]
  },
  {
   "cell_type": "markdown",
   "metadata": {},
   "source": [
    "Lastly, we place lower and upper bounds on the rate constants to ensure that the values are non-negative and are within physiological limits, and then we solve the optmization problem. Once the optimization has finished, we check whether it was successful, and if so, what the optimality and errors are associated with this particular solution instance."
   ]
  },
  {
   "cell_type": "code",
   "execution_count": 18,
   "metadata": {
    "scrolled": false
   },
   "outputs": [
    {
     "name": "stdout",
     "output_type": "stream",
     "text": [
      "Ordered Args: ('kf_G6PDH2r_3', 'kf_G6PDH2r_4', 'kf_G6PDH2r_5', 'kf_G6PDH2r_6', 'kf_G6PDH2r_7')\n",
      "\n"
     ]
    },
    {
     "name": "stdout",
     "output_type": "stream",
     "text": [
      "`xtol` termination condition is satisfied.\n",
      "Number of iterations: 121, function evaluations: 600, CG iterations: 330, optimality: 3.32e-11, constraint violation: 0.00e+00, execution time:  2.3 s.\n",
      "\n",
      "Optimization Success: True\n",
      "Otimization Optimality: 3.3218e-11\n",
      "Optimization Error: 5.1513e-12\n",
      "Parameter Solutions: {'kf_G6PDH2r_3': 2603675.0, 'kf_G6PDH2r_4': 471114.0, 'kf_G6PDH2r_5': 31681489.0, 'kf_G6PDH2r_6': 162428.0, 'kf_G6PDH2r_7': 3567413.0}\n",
      "Enzyme T-fraction: 0.9260\n"
     ]
    },
    {
     "name": "stderr",
     "output_type": "stream",
     "text": [
      "/Users/zhaiman/miniconda3/envs/masspy-dev/lib/python3.7/site-packages/scipy/optimize/_hessian_update_strategy.py:187 \u001b[1;31mUserWarning\u001b[0m: delta_grad == 0.0. Check if the approximated function is linear. If the function is linear better results can be obtained by defining the Hessian as zero instead of using quasi-Newton approximations.\n"
     ]
    }
   ],
   "source": [
    "r_T_expr = G6PDH2r.make_enzyme_fraction(\"forms\", top=\"Inhibited\", bottom=\"Equation\")\n",
    "r_T_expr = sym.simplify(strip_time(r_T_expr).subs(enzyme_solutions))\n",
    "\n",
    "print(\"Ordered Args: {0}\\n\".format(str(args)))\n",
    "\n",
    "bounds = ((1e3, 1e9), (1e3, 1e9), (1e3, 1e9), (1e3, 1e9), (1e3, 1e9))\n",
    "\n",
    "sol = optimize.minimize(\n",
    "    obj_func, [1e4, 1e4, 1e4, 1e4, 1e4], method=\"trust-constr\", bounds=bounds, \n",
    "    options={\"gtol\": 1e-12, \"xtol\": 1e-12, \"maxiter\": 1e4, \"disp\": True})\n",
    "\n",
    "parameter_values = dict(zip(args, [round(x) for x in sol.x]))\n",
    "\n",
    "print(\"\\nOptimization Success: {0}\".format(sol.success))\n",
    "if sol.success:\n",
    "    print(\"Otimization Optimality: {0:.4e}\".format(sol.optimality))\n",
    "    print(\"Optimization Error: {0:.4e}\".format(enzyme_total_constraint.subs(parameter_values)))\n",
    "    print(\"Parameter Solutions: {:}\".format(str({arg: parameter_values[arg] for arg in args})))\n",
    "    print(\"Enzyme T-fraction: {:.4f}\".format(r_T_expr.subs(parameter_values)))"
   ]
  },
  {
   "cell_type": "markdown",
   "metadata": {},
   "source": [
    "With a successful optimization, the module is updated with the parameter values.  The inhibition and activation reactions are set to have a high forward rate constant and the allosteric transition even higher, limiting the amount of unbound enzyme and ensuring the R-T transition dynamics are determined only by its allosteric constant. \n",
    "\n",
    "__Note:__ This assumption for the rate constants can be made because none of the enzyme concentrations are dependendent on the activation, inhibition, and allosteric rate constants."
   ]
  },
  {
   "cell_type": "code",
   "execution_count": 19,
   "metadata": {},
   "outputs": [],
   "source": [
    "# Add the inhibition rate constants\n",
    "parameter_values.update({\"kf_\" + rxn: 1e6 for rxn in [\"G6PDH2r_1\", \"G6PDH2r_2\"]})"
   ]
  },
  {
   "cell_type": "markdown",
   "metadata": {},
   "source": [
    "### Solve steady state concentrations numerically"
   ]
  },
  {
   "cell_type": "markdown",
   "metadata": {},
   "source": [
    "Once the rate constants have been defined, the steady state concentrations of the enzyme can be determined."
   ]
  },
  {
   "cell_type": "code",
   "execution_count": 20,
   "metadata": {},
   "outputs": [
    {
     "name": "stdout",
     "output_type": "stream",
     "text": [
      "Ligand Concentrations\n",
      "---------------------\n",
      "g6p_c = 0.0486\n",
      "_6pgl_c = 0.00175424\n",
      "nadp_c = 0.0002\n",
      "nadph_c = 0.0658\n",
      "atp_c = 1.6\n",
      "h_c = 8.99757e-05\n",
      "\n",
      "Enzyme Concentrations\n",
      "----------------------\n",
      "g6pdh2r_c = 2.3680761e-05\n",
      "g6pdh2r_G_c = 3.9638138e-05\n",
      "g6pdh2r_GN_c = 6.8376e-08\n",
      "g6pdh2r_GN_P_c = 9.292824e-06\n",
      "g6pdh2r_G_P_c = 1.276587e-06\n",
      "g6pdh2r_N_PI_c = 6.4924752e-05\n",
      "g6pdh2r_A_CI_c = 0.000861118567\n"
     ]
    }
   ],
   "source": [
    "# Substitute values into equations\n",
    "initial_conditions.update({\n",
    "    str(enzyme_module_form): round(float(sym.simplify(solution.subs(parameter_values))), 12)\n",
    "    for enzyme_module_form, solution in enzyme_solutions.items()})\n",
    "\n",
    "for header, dictlist in zip([\"Ligand\", \"\\nEnzyme\"], [G6PDH2r.enzyme_module_ligands, G6PDH2r.enzyme_module_forms]):\n",
    "    header += \" Concentrations\"\n",
    "    print(\"\\n\".join([header, \"-\" * len(header)]))\n",
    "    for species in dictlist:\n",
    "        ic = initial_conditions[species.id]\n",
    "        print(\"{0} = {1}\".format(species.id, ic))"
   ]
  },
  {
   "cell_type": "markdown",
   "metadata": {},
   "source": [
    "#### Set Initial Conditions and Parameters\n",
    "Once the steady state concentrations have been determined, the initial conditions and parameters are added to the module."
   ]
  },
  {
   "cell_type": "code",
   "execution_count": 21,
   "metadata": {},
   "outputs": [],
   "source": [
    "# Set initial conditions\n",
    "for met, concentration in initial_conditions.items():\n",
    "    G6PDH2r.metabolites.get_by_id(str(met)).ic = concentration\n",
    "G6PDH2r.set_initial_conditions()\n",
    "\n",
    "# Assign parameter values for reactions that do not use custom parameters\n",
    "for reaction in G6PDH2r.reactions:\n",
    "    reaction.kf = parameter_values[reaction.kf_str]"
   ]
  },
  {
   "cell_type": "markdown",
   "metadata": {},
   "source": [
    "#### Optional: Ordering of internal species and reactions\n",
    "Sometimes, it is also desirable to reorder the metabolite and reaction objects inside the module to follow the physiology. To reorder the internal species, one can use the method __cobra.DictList.get_by_any__ method with the list of metabolite identifiers in the desirable order. To ensure all metabolites are still present and not forgotten in the module, a QC/QA check is also performed. "
   ]
  },
  {
   "cell_type": "code",
   "execution_count": 22,
   "metadata": {},
   "outputs": [
    {
     "data": {
      "text/html": [
       "<div>\n",
       "<style scoped>\n",
       "    .dataframe tbody tr th:only-of-type {\n",
       "        vertical-align: middle;\n",
       "    }\n",
       "\n",
       "    .dataframe tbody tr th {\n",
       "        vertical-align: top;\n",
       "    }\n",
       "\n",
       "    .dataframe thead th {\n",
       "        text-align: right;\n",
       "    }\n",
       "</style>\n",
       "<table border=\"1\" class=\"dataframe\">\n",
       "  <thead>\n",
       "    <tr style=\"text-align: right;\">\n",
       "      <th></th>\n",
       "      <th>G6PDH2r_1</th>\n",
       "      <th>G6PDH2r_2</th>\n",
       "      <th>G6PDH2r_3</th>\n",
       "      <th>G6PDH2r_4</th>\n",
       "      <th>G6PDH2r_5</th>\n",
       "      <th>G6PDH2r_6</th>\n",
       "      <th>G6PDH2r_7</th>\n",
       "    </tr>\n",
       "  </thead>\n",
       "  <tbody>\n",
       "    <tr>\n",
       "      <th>g6p_c</th>\n",
       "      <td>0</td>\n",
       "      <td>0</td>\n",
       "      <td>-1</td>\n",
       "      <td>0</td>\n",
       "      <td>0</td>\n",
       "      <td>0</td>\n",
       "      <td>0</td>\n",
       "    </tr>\n",
       "    <tr>\n",
       "      <th>_6pgl_c</th>\n",
       "      <td>0</td>\n",
       "      <td>0</td>\n",
       "      <td>0</td>\n",
       "      <td>1</td>\n",
       "      <td>0</td>\n",
       "      <td>0</td>\n",
       "      <td>0</td>\n",
       "    </tr>\n",
       "    <tr>\n",
       "      <th>atp_c</th>\n",
       "      <td>0</td>\n",
       "      <td>-1</td>\n",
       "      <td>0</td>\n",
       "      <td>0</td>\n",
       "      <td>0</td>\n",
       "      <td>0</td>\n",
       "      <td>0</td>\n",
       "    </tr>\n",
       "    <tr>\n",
       "      <th>nadp_c</th>\n",
       "      <td>0</td>\n",
       "      <td>0</td>\n",
       "      <td>0</td>\n",
       "      <td>0</td>\n",
       "      <td>-1</td>\n",
       "      <td>0</td>\n",
       "      <td>0</td>\n",
       "    </tr>\n",
       "    <tr>\n",
       "      <th>nadph_c</th>\n",
       "      <td>-1</td>\n",
       "      <td>0</td>\n",
       "      <td>0</td>\n",
       "      <td>0</td>\n",
       "      <td>0</td>\n",
       "      <td>1</td>\n",
       "      <td>0</td>\n",
       "    </tr>\n",
       "    <tr>\n",
       "      <th>h_c</th>\n",
       "      <td>0</td>\n",
       "      <td>0</td>\n",
       "      <td>0</td>\n",
       "      <td>0</td>\n",
       "      <td>0</td>\n",
       "      <td>0</td>\n",
       "      <td>1</td>\n",
       "    </tr>\n",
       "    <tr>\n",
       "      <th>g6pdh2r_c</th>\n",
       "      <td>-1</td>\n",
       "      <td>-1</td>\n",
       "      <td>-1</td>\n",
       "      <td>1</td>\n",
       "      <td>0</td>\n",
       "      <td>0</td>\n",
       "      <td>0</td>\n",
       "    </tr>\n",
       "    <tr>\n",
       "      <th>g6pdh2r_G_c</th>\n",
       "      <td>0</td>\n",
       "      <td>0</td>\n",
       "      <td>1</td>\n",
       "      <td>0</td>\n",
       "      <td>-1</td>\n",
       "      <td>0</td>\n",
       "      <td>0</td>\n",
       "    </tr>\n",
       "    <tr>\n",
       "      <th>g6pdh2r_GN_c</th>\n",
       "      <td>0</td>\n",
       "      <td>0</td>\n",
       "      <td>0</td>\n",
       "      <td>0</td>\n",
       "      <td>1</td>\n",
       "      <td>0</td>\n",
       "      <td>-1</td>\n",
       "    </tr>\n",
       "    <tr>\n",
       "      <th>g6pdh2r_GN_P_c</th>\n",
       "      <td>0</td>\n",
       "      <td>0</td>\n",
       "      <td>0</td>\n",
       "      <td>0</td>\n",
       "      <td>0</td>\n",
       "      <td>-1</td>\n",
       "      <td>1</td>\n",
       "    </tr>\n",
       "    <tr>\n",
       "      <th>g6pdh2r_G_P_c</th>\n",
       "      <td>0</td>\n",
       "      <td>0</td>\n",
       "      <td>0</td>\n",
       "      <td>-1</td>\n",
       "      <td>0</td>\n",
       "      <td>1</td>\n",
       "      <td>0</td>\n",
       "    </tr>\n",
       "    <tr>\n",
       "      <th>g6pdh2r_A_CI_c</th>\n",
       "      <td>0</td>\n",
       "      <td>1</td>\n",
       "      <td>0</td>\n",
       "      <td>0</td>\n",
       "      <td>0</td>\n",
       "      <td>0</td>\n",
       "      <td>0</td>\n",
       "    </tr>\n",
       "    <tr>\n",
       "      <th>g6pdh2r_N_PI_c</th>\n",
       "      <td>1</td>\n",
       "      <td>0</td>\n",
       "      <td>0</td>\n",
       "      <td>0</td>\n",
       "      <td>0</td>\n",
       "      <td>0</td>\n",
       "      <td>0</td>\n",
       "    </tr>\n",
       "  </tbody>\n",
       "</table>\n",
       "</div>"
      ],
      "text/plain": [
       "                G6PDH2r_1  G6PDH2r_2  G6PDH2r_3  G6PDH2r_4  G6PDH2r_5  \\\n",
       "g6p_c                   0          0         -1          0          0   \n",
       "_6pgl_c                 0          0          0          1          0   \n",
       "atp_c                   0         -1          0          0          0   \n",
       "nadp_c                  0          0          0          0         -1   \n",
       "nadph_c                -1          0          0          0          0   \n",
       "h_c                     0          0          0          0          0   \n",
       "g6pdh2r_c              -1         -1         -1          1          0   \n",
       "g6pdh2r_G_c             0          0          1          0         -1   \n",
       "g6pdh2r_GN_c            0          0          0          0          1   \n",
       "g6pdh2r_GN_P_c          0          0          0          0          0   \n",
       "g6pdh2r_G_P_c           0          0          0         -1          0   \n",
       "g6pdh2r_A_CI_c          0          1          0          0          0   \n",
       "g6pdh2r_N_PI_c          1          0          0          0          0   \n",
       "\n",
       "                G6PDH2r_6  G6PDH2r_7  \n",
       "g6p_c                   0          0  \n",
       "_6pgl_c                 0          0  \n",
       "atp_c                   0          0  \n",
       "nadp_c                  0          0  \n",
       "nadph_c                 1          0  \n",
       "h_c                     0          1  \n",
       "g6pdh2r_c               0          0  \n",
       "g6pdh2r_G_c             0          0  \n",
       "g6pdh2r_GN_c            0         -1  \n",
       "g6pdh2r_GN_P_c         -1          1  \n",
       "g6pdh2r_G_P_c           1          0  \n",
       "g6pdh2r_A_CI_c          0          0  \n",
       "g6pdh2r_N_PI_c          0          0  "
      ]
     },
     "execution_count": 22,
     "metadata": {},
     "output_type": "execute_result"
    }
   ],
   "source": [
    "new_metabolite_order = [\"g6p_c\",\"_6pgl_c\", \"atp_c\", \"nadp_c\", \"nadph_c\", \"h_c\", \n",
    "                        \"g6pdh2r_c\", \"g6pdh2r_G_c\", \"g6pdh2r_GN_c\",\n",
    "                        \"g6pdh2r_GN_P_c\", \"g6pdh2r_G_P_c\", \n",
    "                        \"g6pdh2r_A_CI_c\", \"g6pdh2r_N_PI_c\"]\n",
    "\n",
    "if len(G6PDH2r.metabolites) == len(new_metabolite_order):\n",
    "    G6PDH2r.metabolites = DictList(G6PDH2r.metabolites.get_by_any(new_metabolite_order))\n",
    "    \n",
    "new_reaction_order = [\"G6PDH2r_1\", \"G6PDH2r_2\", \"G6PDH2r_3\", \"G6PDH2r_4\", \n",
    "                      \"G6PDH2r_5\", \"G6PDH2r_6\", \"G6PDH2r_7\"]\n",
    "\n",
    "if len(G6PDH2r.reactions) == len(new_reaction_order):\n",
    "    G6PDH2r.reactions = DictList(G6PDH2r.reactions.get_by_any(new_reaction_order))\n",
    "    \n",
    "G6PDH2r.update_S(matrix_type=\"DataFrame\", dtype=np.int64)"
   ]
  },
  {
   "cell_type": "markdown",
   "metadata": {},
   "source": [
    "## Module Validation \n",
    "### QC/QA Model\n",
    "Before saving the module, it is important to ensure that the module is elementally balanced, and that the module can be integrated into a larger network for simulation. Therefore, the __qcqa_model__ method is used to provide a report on the module quality and indicate whether simulation is possible and if not, what parameters and/or initial conditions are missing."
   ]
  },
  {
   "cell_type": "code",
   "execution_count": 23,
   "metadata": {},
   "outputs": [
    {
     "name": "stdout",
     "output_type": "stream",
     "text": [
      "╒═══════════════════════════════╕\n",
      "│ MODEL ID: G6PDH2r             │\n",
      "│ SIMULATABLE: True;            │\n",
      "│ NUMERICAL CONSISTENCY: True   │\n",
      "╞═══════════════════════════════╡\n",
      "╘═══════════════════════════════╛\n"
     ]
    }
   ],
   "source": [
    "qcqa_model(G6PDH2r, parameters=True, concentrations=True, \n",
    "           fluxes=False, superfluous=True, elemental=True)"
   ]
  },
  {
   "cell_type": "markdown",
   "metadata": {},
   "source": [
    "### Constraint Satisfaction and Error Values\n",
    "Another QC/QA check we perform is to substitute the steady state numerical values back into the constraints used in determining the rate constants in order to ensure that the constraints remain satisified, and that errors are small. "
   ]
  },
  {
   "cell_type": "code",
   "execution_count": 24,
   "metadata": {},
   "outputs": [
    {
     "name": "stdout",
     "output_type": "stream",
     "text": [
      "Concentration Absolute Error: 5.0000e-12\n",
      "Flux Absolute Error: 1.3798e-06\n"
     ]
    }
   ],
   "source": [
    "print(\"Concentration Absolute Error: {0:.4e}\".format(\n",
    "    abs(G6PDH2r.enzyme_concentration_total_error(use_values=True))))\n",
    "print(\"Flux Absolute Error: {0:.4e}\".format(\n",
    "    abs(G6PDH2r.enzyme_net_flux_error(use_values=True))))"
   ]
  },
  {
   "cell_type": "markdown",
   "metadata": {},
   "source": [
    "### Add Enzyme to MassModel\n",
    "In order to determine whether the module can be successfully integrated into a model, another model can be loaded, merged with the module, and simulated. To validate this module, it will be merged with a __glycolysis__ model and a __hemoglobin__ module. \n",
    "\n",
    "To integrate the EnzymeModule into the MassModel, we first remove the reaction that the EnzymeModule will be replacing. Afterwards, we can use the __MassModel.merge__ method to add the EnzymeModule. When merging an EnzymeModule and a MassModel, the EnzymeModule should always be merged into the MassModel."
   ]
  },
  {
   "cell_type": "code",
   "execution_count": 25,
   "metadata": {},
   "outputs": [
    {
     "name": "stderr",
     "output_type": "stream",
     "text": [
      "Ignoring reaction 'EX_h_e' since it already exists.\n"
     ]
    },
    {
     "name": "stderr",
     "output_type": "stream",
     "text": [
      "Ignoring reaction 'EX_h2o_e' since it already exists.\n"
     ]
    },
    {
     "data": {
      "text/html": [
       "\n",
       "            <table>\n",
       "                <tr>\n",
       "                    <td><strong>Name</strong></td><td>Glycolysis_Pentose_Phosphate_Pathway_G6PDH2r</td>\n",
       "                </tr><tr>\n",
       "                    <td><strong>Memory address</strong></td><td>0x01231297b8</td>\n",
       "                </tr><tr>\n",
       "                    <td><strong>Stoichiometric Matrix</strong></td>\n",
       "                    <td>39x43</td>\n",
       "                </tr><tr>\n",
       "                    <td><strong>Matrix Rank</strong></td>\n",
       "                    <td>35</td>\n",
       "                </tr><tr>\n",
       "                    <td><strong>Matrix Type</strong></td>\n",
       "                    <td>dense, float64</td>\n",
       "                </tr><tr>\n",
       "                    <td><strong>Number of Metabolites</strong></td>\n",
       "                    <td>39</td>\n",
       "                </tr><tr>\n",
       "                    <td><strong>Number of Reactions</strong></td>\n",
       "                    <td>43</td>\n",
       "                </tr><tr>\n",
       "                    <td><strong>Number of Initial Conditions</strong></td>\n",
       "                    <td>39</td>\n",
       "                </tr><tr>\n",
       "                    <td><strong>Number of Forward Rate Constants</strong></td>\n",
       "                    <td>43</td>\n",
       "                </tr><tr>\n",
       "                    <td><strong>Number of Equilibrium Constants</strong></td>\n",
       "                    <td>43</td>\n",
       "                </tr><tr>\n",
       "                    <td><strong>Number of Irreversible Reactions</strong></td>\n",
       "                    <td>8</td>\n",
       "                </tr><tr>\n",
       "                    <td><strong>Number of Exchanges</strong></td>\n",
       "                    <td>13</td>\n",
       "                </tr><tr>\n",
       "                    <td><strong>Number of Fixed Concentrations</strong></td>\n",
       "                    <td>12</td>\n",
       "                </tr><tr>\n",
       "                    <td><strong>Number of Custom Rates</strong></td>\n",
       "                    <td>0</td>\n",
       "                </tr><tr>\n",
       "                    <td><strong>Number of Genes</strong></td>\n",
       "                    <td>0</td>\n",
       "                </tr><tr>\n",
       "                    <td><strong>Number of Enzymes</strong></td>\n",
       "                    <td>1</td>\n",
       "                </tr><tr>\n",
       "                    <td><strong>Modules</strong></td>\n",
       "                    <td>G6PDH2r<br> Pentose_Phosphate_Pathway<br> Glycolysis</br></td>\n",
       "                </tr><tr>\n",
       "                    <td><strong>Compartments</strong></td>\n",
       "                    <td>Cytosol</td>\n",
       "                </tr><tr>\n",
       "                    <td><strong>Units</strong></td>\n",
       "                    <td>Millimoles, Hours, Liters</td>\n",
       "                </tr>\n",
       "            </table>\n",
       "        "
      ],
      "text/plain": [
       "<MassModel Glycolysis_Pentose_Phosphate_Pathway_G6PDH2r at 0x1231297b8>"
      ]
     },
     "execution_count": 25,
     "metadata": {},
     "output_type": "execute_result"
    }
   ],
   "source": [
    "# Load and merge glycolysis and hemoglobin models\n",
    "glycolysis = json.load_json_model(os.path.abspath(\"../../test-models/json-models/glycolysis.json\"))\n",
    "ppp = json.load_json_model(os.path.abspath(\"../../test-models/json-models/pentose_phosphate_pathway.json\"))\n",
    "fullppp = glycolysis.merge(ppp)\n",
    "fullppp.modules.add(glycolysis.id)\n",
    "# Remove the G6PDH2r MassReaction, then merge the EnzymeModule into the MassModel\n",
    "fullppp.remove_reactions(fullppp.reactions.get_by_id(\"G6PDH2r\"))\n",
    "fullppp_G6PDH2r = fullppp.merge(G6PDH2r)\n",
    "fullppp_G6PDH2r"
   ]
  },
  {
   "cell_type": "markdown",
   "metadata": {},
   "source": [
    "Using __MassModel.merge(EnzymeModule)__ enables the EnzymeModule and MassModel to be merged like regular MassModel objects. However, all attributes specific to the EnzymeModule (e.g categorized attributes) are condensed into a speciailzed container called an __EnzymeModuleDict__. The EnzymeModuleDict is a special in that its contents can be accessed as if they were attributes. These attributes can be viewed using __EnzymeModuleDict.keys()__.\n",
    "All __EnzymeModuleDicts__ can be accessed via __MassModel.enzyme_modules__.\n"
   ]
  },
  {
   "cell_type": "code",
   "execution_count": 26,
   "metadata": {},
   "outputs": [
    {
     "name": "stdout",
     "output_type": "stream",
     "text": [
      "[<EnzymeModule G6PDH2r at 0x122f4e158>]\n",
      "\n",
      "Attribute Accessors:\n",
      "-------------------\n",
      "id\n",
      "name\n",
      "subsystem\n",
      "enzyme_module_ligands\n",
      "enzyme_module_forms\n",
      "enzyme_module_reactions\n",
      "enzyme_module_ligands_categorized\n",
      "enzyme_module_forms_categorized\n",
      "enzyme_module_reactions_categorized\n",
      "enzyme_concentration_total\n",
      "enzyme_net_flux\n",
      "enzyme_net_flux_equation\n",
      "description\n",
      "S\n",
      "model\n",
      "\n"
     ]
    },
    {
     "data": {
      "text/html": [
       "\n",
       "            <table>\n",
       "                <tr>\n",
       "                    <td><strong>Name</strong></td><td>G6PDH2r</td>\n",
       "                </tr><tr>\n",
       "                    <td><strong>Memory address</strong></td><td>0x0122f4e158</td>\n",
       "                </tr><tr>\n",
       "                    <td><strong>Stoichiometric Matrix</strong></td>\n",
       "                    <td>13x7</td>\n",
       "                </tr><tr>\n",
       "                    <td><strong>Matrix Rank</strong></td>\n",
       "                    <td>7</td>\n",
       "                </tr><tr>\n",
       "                    <td><strong>Subsystem</strong></td>\n",
       "                    <td>Pentose Phosphate Pathway</td>\n",
       "                </tr><tr>\n",
       "                    <td><strong>Number of Ligands</strong></td>\n",
       "                    <td>6</td>\n",
       "                </tr><tr>\n",
       "                    <td><strong>Number of EnzymeForms</strong></td>\n",
       "                    <td>7</td>\n",
       "                </tr><tr>\n",
       "                    <td><strong>Number of EnzymeModuleReactions</strong></td>\n",
       "                    <td>7</td>\n",
       "                </tr><tr>\n",
       "                    <td><strong>Enzyme Concentration Total</strong></td>\n",
       "                    <td>0.001</td>\n",
       "                </tr><tr>\n",
       "                    <td><strong>Enzyme Net Flux</strong></td>\n",
       "                    <td>0.21</td>\n",
       "                </tr>\n",
       "            </table>\n",
       "        "
      ],
      "text/plain": [
       "<EnzymeModule G6PDH2r at 0x122f4e158>"
      ]
     },
     "execution_count": 26,
     "metadata": {},
     "output_type": "execute_result"
    }
   ],
   "source": [
    "print(str(fullppp_G6PDH2r.enzyme_modules) + \"\\n\")\n",
    "print(\"Attribute Accessors:\\n-------------------\\n\" + \"\\n\".join(list(\n",
    "    fullppp_G6PDH2r.enzyme_modules.G6PDH2r.keys())) + \"\\n\")\n",
    "fullppp_G6PDH2r.enzyme_modules.G6PDH2r"
   ]
  },
  {
   "cell_type": "markdown",
   "metadata": {},
   "source": [
    "### Validate Steady State\n",
    "To find the steady state of the model, the __Simulation.find_steady_state_model__ method can used. \n",
    "To validate the steady state of the model, concentration and flux solutions can be plotted using the __plot_simulation__ function."
   ]
  },
  {
   "cell_type": "code",
   "execution_count": 27,
   "metadata": {},
   "outputs": [
    {
     "data": {
      "image/png": "[encoded data removed]",
      "text/plain": [
       "<Figure size 432x288 with 1 Axes>"
      ]
     },
     "metadata": {
      "needs_background": "light"
     },
     "output_type": "display_data"
    }
   ],
   "source": [
    "# Setup simulation object, ensure model is at steady state\n",
    "sim = Simulation(fullppp_G6PDH2r)\n",
    "options={'method': 'LSODA', 'atol': 1e-15}\n",
    "sim.find_steady_state_model(model=fullppp_G6PDH2r, strategy=\"simulate\",\n",
    "                            update_initial_conditions=True, \n",
    "                            update_reactions=True, **options)\n",
    "\n",
    "t0, tf = (0, 1e4)\n",
    "conc_sol, flux_sol = sim.simulate_model(fullppp_G6PDH2r, time=(t0, tf), **options)\n",
    "conc_sol.preview_time_profile"
   ]
  },
  {
   "cell_type": "markdown",
   "metadata": {},
   "source": [
    "### Optional Information: Storing references\n",
    "#### Compartment\n",
    "Because the character \"c\" represents the cytosol compartment, it is recommended to define and set the compartment in the __EnzymeModule.compartments__ attribute."
   ]
  },
  {
   "cell_type": "code",
   "execution_count": 28,
   "metadata": {
    "scrolled": true
   },
   "outputs": [
    {
     "name": "stdout",
     "output_type": "stream",
     "text": [
      "{'c': 'Cytosol'}\n"
     ]
    }
   ],
   "source": [
    "G6PDH2r.compartments = {\"c\": \"Cytosol\"}\n",
    "print(G6PDH2r.compartments)"
   ]
  },
  {
   "cell_type": "markdown",
   "metadata": {},
   "source": [
    "#### Units\n",
    "All of the units for the numerical values used in this module are \"Millimoles\" for amount, \"Liters\" for volume, and \"Hours\" for time. In order to ensure that future users understand the numerical values for module, it is important to define the __EnzymeModule.units__ attribute. Like the __compartment__ attribute, the __units__ attribute is a dictionary and can easily be updated using the same methods.\n",
    "\n",
    "Note that this attribute will NOT track units, but instead acts as a reference for the user and others so that they can perform necessary unit conversions."
   ]
  },
  {
   "cell_type": "code",
   "execution_count": 29,
   "metadata": {},
   "outputs": [
    {
     "data": {
      "text/plain": [
       "{'N': 'Millimoles', 'Vol': 'Liters', 'Time': 'Hours'}"
      ]
     },
     "execution_count": 29,
     "metadata": {},
     "output_type": "execute_result"
    }
   ],
   "source": [
    "G6PDH2r.units = {'N': 'Millimoles', 'Vol': 'Liters', 'Time': 'Hours'}\n",
    "G6PDH2r.units"
   ]
  },
  {
   "cell_type": "markdown",
   "metadata": {},
   "source": [
    "## Export\n",
    "After validation, the module is ready to be saved. The module can either be exported as a \".json\" file or if the module conforms to SBML standards, as a \".xml\" file using the classes in __mass.io__. To export the module, only the path to the directory and the name of the module need to be specified. Both are shown. "
   ]
  },
  {
   "cell_type": "markdown",
   "metadata": {},
   "source": [
    "### Export using JSON"
   ]
  },
  {
   "cell_type": "code",
   "execution_count": 30,
   "metadata": {},
   "outputs": [],
   "source": [
    "json.save_json_model(G6PDH2r, os.path.abspath(\"../../test-models/json-models/G6PDH2r.json\"))"
   ]
  },
  {
   "cell_type": "markdown",
   "metadata": {},
   "source": [
    "### Export using SBML"
   ]
  },
  {
   "cell_type": "code",
   "execution_count": 31,
   "metadata": {},
   "outputs": [],
   "source": [
    "# sbml.write_sbml_model(G6PDH2r, \"os.path.abspath(../../test-models/sbml-models/G6PDH2r.xml\"))"
   ]
  }
 ],
 "metadata": {
  "kernelspec": {
   "display_name": "Python 3",
   "language": "python",
   "name": "python3"
  },
  "language_info": {
   "codemirror_mode": {
    "name": "ipython",
    "version": 3
   },
   "file_extension": ".py",
   "mimetype": "text/x-python",
   "name": "python",
   "nbconvert_exporter": "python",
   "pygments_lexer": "ipython3",
   "version": "3.7.3"
  }
 },
 "nbformat": 4,
 "nbformat_minor": 2
}
