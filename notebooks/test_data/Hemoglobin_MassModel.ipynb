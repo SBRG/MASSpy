{
 "cells": [
  {
   "cell_type": "markdown",
   "metadata": {},
   "source": [
    "# Hemoglobin\n",
    "\n",
    "To construct a module of hemoglobin, first we import <b>masspy</b> and other essential packages. Constants used throughout the notebook are also defined."
   ]
  },
  {
   "cell_type": "code",
   "execution_count": 1,
   "metadata": {},
   "outputs": [],
   "source": [
    "from os import path\n",
    "\n",
    "import matplotlib.pyplot as plt\n",
    "\n",
    "from sympy import Equality, Symbol, solveset, sympify, pprint\n",
    "\n",
    "from cobra import DictList\n",
    "\n",
    "from mass import (\n",
    "    MassConfiguration, MassMetabolite, MassModel,\n",
    "    MassReaction, Simulation, UnitDefinition)\n",
    "from mass.io import json, sbml\n",
    "from mass.util import strip_time, qcqa_model"
   ]
  },
  {
   "cell_type": "markdown",
   "metadata": {},
   "source": [
    "## Model Construction \n",
    "\n",
    "The first step of creating a model of hemoglobin is to define the <font color=#4682B4>MassModel</font>. "
   ]
  },
  {
   "cell_type": "code",
   "execution_count": 2,
   "metadata": {},
   "outputs": [
    {
     "name": "stdout",
     "output_type": "stream",
     "text": [
      "Academic license - for non-commercial use only\n"
     ]
    }
   ],
   "source": [
    "hemoglobin = MassModel(\"Hemoglobin\")"
   ]
  },
  {
   "cell_type": "markdown",
   "metadata": {},
   "source": [
    "### Metabolites\n",
    "\n",
    "The next step is to define all of the metabolites using the <font color=#4682B4>MassMetabolite</font> object. Some considerations for this step include the following:\n",
    "\n",
    "1. It is important to use a clear and consistent format for identifiers and names when defining the <font color=#4682B4>MassMetabolite</font> objects for various reasons, some of which include improvements to model clarity and utility, assurance of unique identifiers (required to add metabolites to the model), and consistency when collaborating and communicating with others. \n",
    "\n",
    "\n",
    "2. In order to ensure our model is physiologically accurate, it is important to provide the <font color=#B22222>formula</font> argument with a string representing the chemical formula for each metabolite, and the <font color=#B22222>charge</font> argument with an integer representing the metabolite's ionic charge (Note that neutrally charged metabolites are provided with 0). These attributes can always be set later if necessary using the <font color=#1E90FF>formula</font> and <font color=#1E90FF>charge</font> attribute set methods. \n",
    "\n",
    "    To include the Hemoglobin macromolecule in the formula, brackets are used (e.g. [HB]).\n",
    "\n",
    "\n",
    "3. To indicate that the cytosol is the cellular compartment in which the reactions occur, the string \"c\" is provided to the <font color=#B22222>compartment</font> argument.\n",
    "\n",
    "This model will be created using identifiers and names found in the [BiGG Database](http://bigg.ucsd.edu/).\n",
    "\n",
    "In this model, there are 13 metabolites inside the cytosol compartment. Note that for metabolites without BiGG identifiers are given ones that are similar to BiGG style. "
   ]
  },
  {
   "cell_type": "code",
   "execution_count": 3,
   "metadata": {},
   "outputs": [],
   "source": [
    "hb_c = MassMetabolite(\n",
    "    \"hb_c\", \n",
    "    name=\"Hemoglobin\", \n",
    "    formula=\"[HB]\",\n",
    "    charge=0,\n",
    "    compartment=\"c\",\n",
    "    fixed=False)\n",
    "\n",
    "hb_1o2_c = MassMetabolite(\n",
    "    \"hb_1o2_c\", \n",
    "    name=\"Oxyhemoglobin (1)\", \n",
    "    formula=\"[HB]-O2\",\n",
    "    charge=0,\n",
    "    compartment=\"c\",\n",
    "    fixed=False)\n",
    "\n",
    "hb_2o2_c = MassMetabolite(\n",
    "    \"hb_2o2_c\", \n",
    "    name=\"Oxyhemoglobin (2)\", \n",
    "    formula=\"[HB]-O4\",\n",
    "    charge=0,\n",
    "    compartment=\"c\",\n",
    "    fixed=False)\n",
    "\n",
    "hb_3o2_c = MassMetabolite(\n",
    "    \"hb_3o2_c\", \n",
    "    name=\"Oxyhemoglobin (3)\", \n",
    "    formula=\"[HB]-O6\",\n",
    "    charge=0,\n",
    "    compartment=\"c\",\n",
    "    fixed=False)\n",
    "\n",
    "hb_4o2_c = MassMetabolite(\n",
    "    \"hb_4o2_c\", \n",
    "    name=\"Oxyhemoglobin (4)\", \n",
    "    formula=\"[HB]-O8\",\n",
    "    charge=0,\n",
    "    compartment=\"c\",\n",
    "    fixed=False)\n",
    "\n",
    "dhb_c = MassMetabolite(\n",
    "    \"dhb_c\", \n",
    "    name=\"Deoxyhemoglobin\", \n",
    "    formula=\"[HB]-C3H3O10P2\",\n",
    "    charge=-5,\n",
    "    compartment=\"c\",\n",
    "    fixed=False)\n",
    "\n",
    "_23dpg_c = MassMetabolite(\n",
    "    \"_23dpg_c\", \n",
    "    name=\"2,3-Disphospho-D-glycerate\", \n",
    "    formula=\"C3H3O10P2\",\n",
    "    charge=-5,\n",
    "    compartment=\"c\",\n",
    "    fixed=False)\n",
    "\n",
    "_13dpg_c = MassMetabolite(\n",
    "    \"_13dpg_c\",\n",
    "    name=\"3-Phospho-D-glyceroyl phosphate\",\n",
    "    formula=\"C3H4O10P2\",\n",
    "    charge=-4,\n",
    "    compartment=\"c\",\n",
    "    fixed=False)\n",
    "\n",
    "_3pg_c = MassMetabolite(\n",
    "    \"_3pg_c\",\n",
    "    name=\"3-Phospho-D-glycerate\",\n",
    "    formula=\"C3H4O7P\",\n",
    "    charge=-3,\n",
    "    compartment=\"c\",\n",
    "    fixed=False)\n",
    "\n",
    "o2_c = MassMetabolite(\n",
    "    \"o2_c\",\n",
    "    name=\"Oxygen\",\n",
    "    formula=\"O2\",\n",
    "    charge=0,\n",
    "    compartment=\"c\",\n",
    "    fixed=False)\n",
    "\n",
    "h_c = MassMetabolite(\n",
    "    \"h_c\",\n",
    "    name=\"H+\",\n",
    "    formula=\"H\",\n",
    "    charge=1,\n",
    "    compartment=\"c\",\n",
    "    fixed=False)\n",
    "\n",
    "pi_c = MassMetabolite(\n",
    "    \"pi_c\",\n",
    "    name=\"Phosphate\",\n",
    "    formula=\"HPO4\",\n",
    "    charge=-2,\n",
    "    compartment=\"c\",\n",
    "    fixed=False)\n",
    "\n",
    "h2o_c = MassMetabolite(\n",
    "    \"h2o_c\",\n",
    "    name=\"H2O\",\n",
    "    formula=\"H2O\",\n",
    "    charge=0,\n",
    "    compartment=\"c\",\n",
    "    fixed=False)"
   ]
  },
  {
   "cell_type": "markdown",
   "metadata": {},
   "source": [
    "### Reactions\n",
    "\n",
    "Once all of the <font color=#4682B4>MassMetabolites</font> for each metabolite, the next step is to define all of the reactions that occur and their stoichiometry.\n",
    "\n",
    "1. As with the metabolites, it is also important to use a clear and consistent format for identifiers and names when defining when defining the <font color=#4682B4>MassReactions</font>.\n",
    "\n",
    "\n",
    "2. To make this model useful for integration with other models, it is important to provide a string to the <font color=#B22222>subsystem</font> argument. By providing the subsystem, the reactions can be easily obtained even when integrated with a significantly larger model through the <font color=#1E90FF>subsystem</font> attribute\n",
    "\n",
    "\n",
    "3. After the creation of each <font color=#4682B4>MassReaction</font> object, the metabolites are added to the reaction using a dictionary where keys are the <font color=#4682B4>MassMetabolites</font> and values are the stoichiometric coefficients (reactants have negative coefficients, products have positive ones). \n",
    "\n",
    "This model will be created using identifiers and names found in the [BiGG Database](http://bigg.ucsd.edu/).\n",
    "\n",
    "In this model, there are 7 reactions occuring inside the cytosol compartment."
   ]
  },
  {
   "cell_type": "code",
   "execution_count": 4,
   "metadata": {},
   "outputs": [],
   "source": [
    "DPGase = MassReaction(\n",
    "    \"DPGase\",\n",
    "    name=\"Diphosphoglycerate phosphatase\",\n",
    "    subsystem=hemoglobin.id, \n",
    "    reversible=False)\n",
    "DPGase.add_metabolites({\n",
    "    h2o_c: -1,\n",
    "    _23dpg_c: -1,\n",
    "    _3pg_c: 1,\n",
    "    pi_c: 1})\n",
    "\n",
    "DPGM = MassReaction(\n",
    "    \"DPGM\",\n",
    "    name=\"Diphosphoglyceromutase\",\n",
    "    subsystem=hemoglobin.id,\n",
    "    reversible=True)\n",
    "DPGM.add_metabolites({\n",
    "    _13dpg_c: -1,\n",
    "    _23dpg_c: 1,\n",
    "    h_c: 1})\n",
    "\n",
    "HBDPG = MassReaction(\n",
    "    \"HBDPG\",\n",
    "    name=\"Hemoglobin-23dpg binding\",\n",
    "    subsystem=hemoglobin.id,\n",
    "    reversible=True)\n",
    "HBDPG.add_metabolites({\n",
    "    hb_c: -1,\n",
    "    _23dpg_c: -1,\n",
    "    dhb_c: 1})\n",
    "\n",
    "HBO1 = MassReaction(\n",
    "    \"HBO1\",\n",
    "    name=\"Oxygen Loading (1)\",\n",
    "    subsystem=hemoglobin.id,\n",
    "    reversible=True)\n",
    "HBO1.add_metabolites({\n",
    "    hb_c: -1,\n",
    "    o2_c: -1,\n",
    "    hb_1o2_c: 1})\n",
    "\n",
    "HBO2 = MassReaction(\n",
    "    \"HBO2\",\n",
    "    name=\"Oxygen Loading (2)\",\n",
    "    subsystem=hemoglobin.id,\n",
    "    reversible=True)\n",
    "HBO2.add_metabolites({\n",
    "    hb_1o2_c: -1,\n",
    "    o2_c: -1,\n",
    "    hb_2o2_c: 1})\n",
    "\n",
    "HBO3 = MassReaction(\n",
    "    \"HBO3\",\n",
    "    name=\"Oxygen Loading (3)\",\n",
    "    subsystem=hemoglobin.id,\n",
    "    reversible=True)\n",
    "HBO3.add_metabolites({\n",
    "    hb_2o2_c: -1,\n",
    "    o2_c: -1,\n",
    "    hb_3o2_c: 1})\n",
    "\n",
    "HBO4 = MassReaction(\n",
    "    \"HBO4\",\n",
    "    name=\"Oxygen Loading (4)\",\n",
    "    subsystem=hemoglobin.id,\n",
    "    reversible=True)\n",
    "HBO4.add_metabolites({\n",
    "    hb_3o2_c: -1,\n",
    "    o2_c: -1,\n",
    "    hb_4o2_c: 1})"
   ]
  },
  {
   "cell_type": "markdown",
   "metadata": {},
   "source": [
    "After generating the reactions, all reactions are added to the model through the <font color=#4682B4>MassModel</font><font color=#00008B>.add_reactions</font> class method. Adding the <font color=#4682B4>MassReactions</font> will also add their associated <font color=#4682B4>MassMetabolites</font> if they have not already been added to the model. "
   ]
  },
  {
   "cell_type": "code",
   "execution_count": 5,
   "metadata": {},
   "outputs": [
    {
     "name": "stdout",
     "output_type": "stream",
     "text": [
      "DPGase: _23dpg_c + h2o_c --> _3pg_c + pi_c\n",
      "DPGM: _13dpg_c <=> _23dpg_c + h_c\n",
      "HBDPG: _23dpg_c + hb_c <=> dhb_c\n",
      "HBO1: hb_c + o2_c <=> hb_1o2_c\n",
      "HBO2: hb_1o2_c + o2_c <=> hb_2o2_c\n",
      "HBO3: hb_2o2_c + o2_c <=> hb_3o2_c\n",
      "HBO4: hb_3o2_c + o2_c <=> hb_4o2_c\n"
     ]
    }
   ],
   "source": [
    "hemoglobin.add_reactions([\n",
    "    DPGase, DPGM, HBDPG, HBO1, HBO2, HBO3, HBO4])\n",
    "\n",
    "for reaction in hemoglobin.reactions:\n",
    "    print(reaction)"
   ]
  },
  {
   "cell_type": "markdown",
   "metadata": {},
   "source": [
    "### Boundary reactions\n",
    "\n",
    "After generating the reactions, the next step is to add the boundary reactions and boundary conditions (the concentrations of the boundary 'metabolites' of the system). This can easily be done using the <font color=#4682B4>MassModel</font><font color=#00008B>.add_boundary</font> method. With the generation of the boundary reactions, the system becomes an open system, allowing for the flow of mass through the biochemical pathways of the model.\n",
    "\n",
    "Once added, the model will be able to return the boundary conditions as a dictionary through the <font color=#4682B4>MassModel</font><font color=#1E90FF>.boundary_conditions</font> attribute \n",
    "\n",
    "In this model, there is 1 boundary reaction that must be defined.\n",
    "\n",
    "All boundary reactions are originally created with the metabolite as the reactant. However, there are times where it would be preferable to represent the metabolite as the product. For these situtations, the <font color=#4682B4>MassReaction</font><font color=#1E90FF>.reverse_stoichiometry</font> method can be used with its <font color=#B22222>inplace</font> argument to create a new <font color=#4682B4>MassReaction</font> or simply reverse the stoichiometry for the current <font color=#4682B4>MassReaction.</font> "
   ]
  },
  {
   "cell_type": "code",
   "execution_count": 6,
   "metadata": {},
   "outputs": [
    {
     "name": "stdout",
     "output_type": "stream",
     "text": [
      "Boundary Reactions and Values\n",
      "-----------------------------\n",
      "SK_o2_c: o2_c <=> \n",
      "o2_b: 0.0200788\n",
      "\n"
     ]
    }
   ],
   "source": [
    "SK_o2_c = hemoglobin.add_boundary(\n",
    "    metabolite=o2_c, boundary_type=\"sink\", subsystem=\"Pseudoreaction\",\n",
    "    boundary_condition=0.0200788)\n",
    "\n",
    "print(\"Boundary Reactions and Values\\n-----------------------------\")\n",
    "for reaction in hemoglobin.boundary:\n",
    "    boundary_met = reaction.boundary_metabolite\n",
    "    bc_value = hemoglobin.boundary_conditions.get(boundary_met)\n",
    "    print(\"{0}\\n{1}: {2}\\n\".format(\n",
    "        reaction, boundary_met, bc_value))"
   ]
  },
  {
   "cell_type": "markdown",
   "metadata": {},
   "source": [
    "### Optional: Ordering of internal species and reactions\n",
    "\n",
    "Sometimes, it is also desirable to reorder the metabolite and reaction objects inside the model to follow the physiology. To reorder the internal species, one can use <font color=#008000>cobra</font><font color=#556B2F>.DictLists</font> and the <font color=#556B2F>DictList</font><font color=#006400>.get_by_any</font> with the list of metabolite identifiers in the desirable order. To ensure all metabolites are still present and not forgotten in the model, a small QA check is also performed. "
   ]
  },
  {
   "cell_type": "code",
   "execution_count": 7,
   "metadata": {},
   "outputs": [
    {
     "data": {
      "text/html": [
       "<div>\n",
       "<style scoped>\n",
       "    .dataframe tbody tr th:only-of-type {\n",
       "        vertical-align: middle;\n",
       "    }\n",
       "\n",
       "    .dataframe tbody tr th {\n",
       "        vertical-align: top;\n",
       "    }\n",
       "\n",
       "    .dataframe thead th {\n",
       "        text-align: right;\n",
       "    }\n",
       "</style>\n",
       "<table border=\"1\" class=\"dataframe\">\n",
       "  <thead>\n",
       "    <tr style=\"text-align: right;\">\n",
       "      <th></th>\n",
       "      <th>DPGM</th>\n",
       "      <th>DPGase</th>\n",
       "      <th>HBO1</th>\n",
       "      <th>HBO2</th>\n",
       "      <th>HBO3</th>\n",
       "      <th>HBO4</th>\n",
       "      <th>HBDPG</th>\n",
       "      <th>SK_o2_c</th>\n",
       "    </tr>\n",
       "  </thead>\n",
       "  <tbody>\n",
       "    <tr>\n",
       "      <th>_23dpg_c</th>\n",
       "      <td>1</td>\n",
       "      <td>-1</td>\n",
       "      <td>0</td>\n",
       "      <td>0</td>\n",
       "      <td>0</td>\n",
       "      <td>0</td>\n",
       "      <td>-1</td>\n",
       "      <td>0</td>\n",
       "    </tr>\n",
       "    <tr>\n",
       "      <th>hb_c</th>\n",
       "      <td>0</td>\n",
       "      <td>0</td>\n",
       "      <td>-1</td>\n",
       "      <td>0</td>\n",
       "      <td>0</td>\n",
       "      <td>0</td>\n",
       "      <td>-1</td>\n",
       "      <td>0</td>\n",
       "    </tr>\n",
       "    <tr>\n",
       "      <th>hb_1o2_c</th>\n",
       "      <td>0</td>\n",
       "      <td>0</td>\n",
       "      <td>1</td>\n",
       "      <td>-1</td>\n",
       "      <td>0</td>\n",
       "      <td>0</td>\n",
       "      <td>0</td>\n",
       "      <td>0</td>\n",
       "    </tr>\n",
       "    <tr>\n",
       "      <th>hb_2o2_c</th>\n",
       "      <td>0</td>\n",
       "      <td>0</td>\n",
       "      <td>0</td>\n",
       "      <td>1</td>\n",
       "      <td>-1</td>\n",
       "      <td>0</td>\n",
       "      <td>0</td>\n",
       "      <td>0</td>\n",
       "    </tr>\n",
       "    <tr>\n",
       "      <th>hb_3o2_c</th>\n",
       "      <td>0</td>\n",
       "      <td>0</td>\n",
       "      <td>0</td>\n",
       "      <td>0</td>\n",
       "      <td>1</td>\n",
       "      <td>-1</td>\n",
       "      <td>0</td>\n",
       "      <td>0</td>\n",
       "    </tr>\n",
       "    <tr>\n",
       "      <th>hb_4o2_c</th>\n",
       "      <td>0</td>\n",
       "      <td>0</td>\n",
       "      <td>0</td>\n",
       "      <td>0</td>\n",
       "      <td>0</td>\n",
       "      <td>1</td>\n",
       "      <td>0</td>\n",
       "      <td>0</td>\n",
       "    </tr>\n",
       "    <tr>\n",
       "      <th>dhb_c</th>\n",
       "      <td>0</td>\n",
       "      <td>0</td>\n",
       "      <td>0</td>\n",
       "      <td>0</td>\n",
       "      <td>0</td>\n",
       "      <td>0</td>\n",
       "      <td>1</td>\n",
       "      <td>0</td>\n",
       "    </tr>\n",
       "    <tr>\n",
       "      <th>_13dpg_c</th>\n",
       "      <td>-1</td>\n",
       "      <td>0</td>\n",
       "      <td>0</td>\n",
       "      <td>0</td>\n",
       "      <td>0</td>\n",
       "      <td>0</td>\n",
       "      <td>0</td>\n",
       "      <td>0</td>\n",
       "    </tr>\n",
       "    <tr>\n",
       "      <th>_3pg_c</th>\n",
       "      <td>0</td>\n",
       "      <td>1</td>\n",
       "      <td>0</td>\n",
       "      <td>0</td>\n",
       "      <td>0</td>\n",
       "      <td>0</td>\n",
       "      <td>0</td>\n",
       "      <td>0</td>\n",
       "    </tr>\n",
       "    <tr>\n",
       "      <th>o2_c</th>\n",
       "      <td>0</td>\n",
       "      <td>0</td>\n",
       "      <td>-1</td>\n",
       "      <td>-1</td>\n",
       "      <td>-1</td>\n",
       "      <td>-1</td>\n",
       "      <td>0</td>\n",
       "      <td>-1</td>\n",
       "    </tr>\n",
       "    <tr>\n",
       "      <th>pi_c</th>\n",
       "      <td>0</td>\n",
       "      <td>1</td>\n",
       "      <td>0</td>\n",
       "      <td>0</td>\n",
       "      <td>0</td>\n",
       "      <td>0</td>\n",
       "      <td>0</td>\n",
       "      <td>0</td>\n",
       "    </tr>\n",
       "    <tr>\n",
       "      <th>h_c</th>\n",
       "      <td>1</td>\n",
       "      <td>0</td>\n",
       "      <td>0</td>\n",
       "      <td>0</td>\n",
       "      <td>0</td>\n",
       "      <td>0</td>\n",
       "      <td>0</td>\n",
       "      <td>0</td>\n",
       "    </tr>\n",
       "    <tr>\n",
       "      <th>h2o_c</th>\n",
       "      <td>0</td>\n",
       "      <td>-1</td>\n",
       "      <td>0</td>\n",
       "      <td>0</td>\n",
       "      <td>0</td>\n",
       "      <td>0</td>\n",
       "      <td>0</td>\n",
       "      <td>0</td>\n",
       "    </tr>\n",
       "  </tbody>\n",
       "</table>\n",
       "</div>"
      ],
      "text/plain": [
       "          DPGM  DPGase  HBO1  HBO2  HBO3  HBO4  HBDPG  SK_o2_c\n",
       "_23dpg_c     1      -1     0     0     0     0     -1        0\n",
       "hb_c         0       0    -1     0     0     0     -1        0\n",
       "hb_1o2_c     0       0     1    -1     0     0      0        0\n",
       "hb_2o2_c     0       0     0     1    -1     0      0        0\n",
       "hb_3o2_c     0       0     0     0     1    -1      0        0\n",
       "hb_4o2_c     0       0     0     0     0     1      0        0\n",
       "dhb_c        0       0     0     0     0     0      1        0\n",
       "_13dpg_c    -1       0     0     0     0     0      0        0\n",
       "_3pg_c       0       1     0     0     0     0      0        0\n",
       "o2_c         0       0    -1    -1    -1    -1      0       -1\n",
       "pi_c         0       1     0     0     0     0      0        0\n",
       "h_c          1       0     0     0     0     0      0        0\n",
       "h2o_c        0      -1     0     0     0     0      0        0"
      ]
     },
     "execution_count": 7,
     "metadata": {},
     "output_type": "execute_result"
    }
   ],
   "source": [
    "new_metabolite_order = [\n",
    "    \"_23dpg_c\", \"hb_c\", \"hb_1o2_c\", \"hb_2o2_c\", \n",
    "    \"hb_3o2_c\", \"hb_4o2_c\", \"dhb_c\", \"_13dpg_c\",\n",
    "    \"_3pg_c\",  \"o2_c\", \"pi_c\", \"h_c\", \"h2o_c\"]\n",
    "\n",
    "if len(hemoglobin.metabolites) == len(new_metabolite_order):\n",
    "    hemoglobin.metabolites = DictList(\n",
    "        hemoglobin.metabolites.get_by_any(new_metabolite_order))\n",
    "    \n",
    "new_reaction_order = [\n",
    "    \"DPGM\", \"DPGase\", \"HBO1\", \"HBO2\", \n",
    "    \"HBO3\", \"HBO4\", \"HBDPG\", \"SK_o2_c\"]\n",
    "\n",
    "if len(hemoglobin.reactions) == len(new_reaction_order):\n",
    "    hemoglobin.reactions = DictList(\n",
    "        hemoglobin.reactions.get_by_any(new_reaction_order))\n",
    "    \n",
    "hemoglobin.update_S(array_type=\"DataFrame\", dtype=int)"
   ]
  },
  {
   "cell_type": "markdown",
   "metadata": {},
   "source": [
    "### Computing the steady state concentrations. \n",
    "\n",
    "The binding of the two ligands, oxygen and DPG23, to hemoglobin is a rapid process. Since hemoglobin is confined to the RBC, we can use equilibrium assumptions for the binding reactions. \n",
    "\n",
    "1. The binding of oxygen is at equilibrium for each form of oxygenated hemoglobin.\n",
    "2. The binding of DPG23 to hemoglobin is also at equilibrium \n",
    "3. The total mass of hemoglobin is a constant \n",
    "\n",
    "These six equations have six unknowns (the six forms of Hb) and need to be solved simultaneously as a function of the oxygen and DPG23 concentrations. \n",
    "\n",
    "The equilibrium relationships can be combined with the $\\text{Hb}_{\\mathrm{tot}}$ mass balance, and this equation is solved for  $\\text{Hb}_{\\mathrm{0}}$ for given oxygen and 23DPG concentrations.\n",
    "\n",
    "Then the steady state concentrations for all other forms of hemoglobin can be computed from the equilibrium relationships.\n",
    "\n",
    "To do this, the <b>sympy</b> package is utilized. The metabolites and equilibrium constants are defined as <b>sympy</b><font color=#9400D3>.Symbol</font> objects, and then the equilibrium expressions are converted into <b>sympy</b><font color=#9400D3>.Equality</font> objects for symbolic calculations."
   ]
  },
  {
   "cell_type": "code",
   "execution_count": 8,
   "metadata": {},
   "outputs": [
    {
     "name": "stdout",
     "output_type": "stream",
     "text": [
      "                                                                              \n",
      "HB-Total = Keq_HBDPG⋅_23dpg_c⋅hb_c + Keq_HBO1⋅Keq_HBO2⋅Keq_HBO3⋅Keq_HBO4⋅hb_c⋅\n",
      "\n",
      "     4                                        3                               \n",
      "o_2_c  + Keq_HBO1⋅Keq_HBO2⋅Keq_HBO3⋅hb_c⋅o_2_c  + Keq_HBO1⋅Keq_HBO2⋅hb_c⋅o_2_c\n",
      "\n",
      "2                             \n",
      "  + Keq_HBO1⋅hb_c⋅o_2_c + hb_c\n"
     ]
    }
   ],
   "source": [
    "metabolites = {metabolite.id: Symbol(metabolite.id) \n",
    "               for metabolite in hemoglobin.metabolites}\n",
    "\n",
    "concentration_equations = {}\n",
    "# Iterate through reactions assumed to be at equilibrium\n",
    "for reaction in [HBO1, HBO2, HBO3, HBO4, HBDPG]:\n",
    "    equilibrium_expression = Equality(\n",
    "        Symbol(reaction.Keq_str),\n",
    "        strip_time(reaction.get_mass_action_ratio()))\n",
    "    # Find the hemoglobin form being made as a product (bound to most oxygen)\n",
    "    hb_product = [\n",
    "        Symbol(metabolite.id) for metabolite in reaction.products\n",
    "        if metabolite.id not in [\"_23dpg_c\", \"hb_c\", \"o2_c\"]].pop()\n",
    "    # Solve equation for the desired form hemoglobin \n",
    "    equation = solveset(equilibrium_expression, hb_product)\n",
    "    equation = next(iter(equation))\n",
    "    # Update equilibrium expression dict with the equation\n",
    "    # for the bound form of hemoglobin. These equations will\n",
    "    # be dependent on hb_c, o2_c, and _23dpg_c.\n",
    "    concentration_equations.update({\n",
    "        hb_product: equation.subs(concentration_equations)})\n",
    "# Specify an equation for the total amount of hemoglobin\n",
    "HB_total_symbol = Symbol(\"HB-Total\")\n",
    "HB_total = Equality(\n",
    "    HB_total_symbol,\n",
    "    sympify(\"+\".join([\n",
    "        metabolite.id for metabolite in hemoglobin.metabolites\n",
    "        if \"hb\" in metabolite.id]), locals=metabolites))\n",
    "HB_total = HB_total.subs(concentration_equations)\n",
    "pprint(HB_total)"
   ]
  },
  {
   "cell_type": "markdown",
   "metadata": {},
   "source": [
    "At this point, the numerical values for the equilibrium constant and the total concetration of hemoglobin are specified. The total amount of hemoglobin is a constant, at circa 7.3 mM. These values are substituted into the current equations. "
   ]
  },
  {
   "cell_type": "code",
   "execution_count": 9,
   "metadata": {},
   "outputs": [
    {
     "name": "stdout",
     "output_type": "stream",
     "text": [
      "                                                     4                        \n",
      "7.3 = 0.25⋅_23dpg_c⋅hb_c + 702446487.27335⋅hb_c⋅o_2_c  + 544565.932207695⋅hb_c\n",
      "\n",
      "      3                          2                            \n",
      "⋅o_2_c  + 3062.8177448⋅hb_c⋅o_2_c  + 41.8352⋅hb_c⋅o_2_c + hb_c\n"
     ]
    }
   ],
   "source": [
    "numerical_values = {HB_total_symbol: 7.3}\n",
    "\n",
    "DPGM.Keq = 2.3*1e6\n",
    "HBO1.Keq = 41.8352\n",
    "HBO2.Keq = 73.2115\n",
    "HBO3.Keq = 177.799 \n",
    "HBO4.Keq = 1289.92 \n",
    "HBDPG.Keq = 1/4\n",
    "SK_o2_c.Keq = 1\n",
    "\n",
    "numerical_values.update({\n",
    "    Symbol(reaction.Keq_str): reaction.Keq \n",
    "    for reaction in hemoglobin.reactions})\n",
    "\n",
    "concentration_equations.update({\n",
    "    hb_form: equation.subs(numerical_values)\n",
    "    for hb_form, equation in concentration_equations.items()})\n",
    "HB_total = HB_total.subs(numerical_values)\n",
    "pprint(HB_total)"
   ]
  },
  {
   "cell_type": "markdown",
   "metadata": {},
   "source": [
    "To find the steady state, we have to specify the numerical values of the variables that characterize the network environment. The flux through the Rapoport-Luebering shunt is typically about 0.44 mM/hr (Schrader 1993).  The steady state concentration of 23DPG is typically about 3.1 mM (Mehta 2005). The concentration of oxygen that we chose to solve for the steady state is 70 mmHg, that is mid way between 100 mmHg in the lung, and 40 mmHg in tissue. Using these numbers, the computed steady state concentrations are obtained, as: "
   ]
  },
  {
   "cell_type": "code",
   "execution_count": 10,
   "metadata": {},
   "outputs": [],
   "source": [
    "# Define known concentrations\n",
    "concentrations = {\n",
    "    metabolites[\"_23dpg_c\"]: 3.1, \n",
    "    metabolites[\"o2_c\"]: 70*2.8684*1e-4}\n",
    "# Convert the solution into a numerical value\n",
    "hb_conc =  next(iter(solveset(\n",
    "    HB_total.subs(concentrations),\n",
    "    Symbol(\"hb_c\"))))\n",
    "concentrations.update({metabolites[\"hb_c\"]: hb_conc})\n",
    "# Solve for the rest of the hemoglobin concentrations\n",
    "for hb_form, equation in concentration_equations.items():\n",
    "    equation = equation.subs(concentrations)\n",
    "    concentrations.update({hb_form: equation})"
   ]
  },
  {
   "cell_type": "markdown",
   "metadata": {},
   "source": [
    "Once the steady state concentrations have been determined, the hemoglobin module can be updated. The remaining concentrations are obtained from the glycolysis module. "
   ]
  },
  {
   "cell_type": "code",
   "execution_count": 11,
   "metadata": {},
   "outputs": [
    {
     "name": "stdout",
     "output_type": "stream",
     "text": [
      "_23dpg_c: 3.100000\n",
      "hb_c: 0.059625\n",
      "hb_1o2_c: 0.050085\n",
      "hb_2o2_c: 0.073625\n",
      "hb_3o2_c: 0.262842\n",
      "hb_4o2_c: 6.807613\n",
      "dhb_c: 0.046210\n",
      "_13dpg_c: 0.000243\n",
      "_3pg_c: 0.077300\n",
      "o2_c: 0.020079\n",
      "pi_c: 2.500000\n",
      "h_c: 0.000090\n",
      "h2o_c: 1.000000\n"
     ]
    }
   ],
   "source": [
    "glycolysis = json.load_json_model(\n",
    "    path.realpath(path.join(\"models\", \"Glycolysis.json\")))\n",
    "\n",
    "for metabolite_symbol, value_symbol in concentrations.items():\n",
    "    metabolite = hemoglobin.metabolites.get_by_id(str(metabolite_symbol))\n",
    "    metabolite.ic = float(value_symbol)\n",
    "\n",
    "for met in hemoglobin.metabolites:\n",
    "    if met.ic is None:\n",
    "        met.ic = glycolysis.metabolites.get_by_id(str(met)).ic\n",
    "\n",
    "for metabolite, concentration in hemoglobin.initial_conditions.items():\n",
    "    print(\"{0}: {1:.6f}\".format(metabolite, concentration))"
   ]
  },
  {
   "cell_type": "markdown",
   "metadata": {},
   "source": [
    "With the steady state concentrations and steady state flux values, the PERCs can be calculated. For this module, the PERCs for the binding of hemoglobin to oxygen will be set manually to better reflect the physiology.\n",
    "\n",
    "__Note:__ Reactions at equilibrium have a steady state flux of 0. "
   ]
  },
  {
   "cell_type": "code",
   "execution_count": 12,
   "metadata": {},
   "outputs": [],
   "source": [
    "DPGM.v = 0.441\n",
    "DPGase.v = 0.441\n",
    "HBO1.v = 0\n",
    "HBO2.v = 0\n",
    "HBO3.v = 0\n",
    "HBO4.v = 0\n",
    "HBDPG.v = 0\n",
    "SK_o2_c.v = 0\n",
    "\n",
    "hemoglobin.calculate_PERCs(update_reactions=True)\n",
    "\n",
    "HBO1.kf = 506935\n",
    "HBO2.kf = 511077\n",
    "HBO3.kf = 509243\n",
    "HBO4.kf = 501595\n",
    "HBDPG.kf =519613\n",
    "SK_o2_c.kf = 509726"
   ]
  },
  {
   "cell_type": "markdown",
   "metadata": {},
   "source": [
    "## QC/QA Model\n",
    "\n",
    "Before simulating the model, it is important to ensure that the model is elementally balanced, and that the model can simulate. Therefore, the <font color=#00008B>qcqa_model</font> function from <font color=#0000FF>mass.util.qcqa</font></td> is used to provide a report on the model quality and indicate whether simulation is possible and if not, what parameters and/or initial conditions are missing. "
   ]
  },
  {
   "cell_type": "code",
   "execution_count": 13,
   "metadata": {},
   "outputs": [
    {
     "name": "stdout",
     "output_type": "stream",
     "text": [
      "╒════════════════════════════════╕\n",
      "│ MODEL ID: Hemoglobin           │\n",
      "│ SIMULATABLE: True;             │\n",
      "│ NUMERICALLY CONSISTENT: True   │\n",
      "╞════════════════════════════════╡\n",
      "╘════════════════════════════════╛\n"
     ]
    }
   ],
   "source": [
    "qcqa_model(hemoglobin,  parameters=True, concentrations=True, \n",
    "           fluxes=True, superfluous=True, elemental=True)"
   ]
  },
  {
   "cell_type": "markdown",
   "metadata": {},
   "source": [
    "From the results of the QC/QA test, it can be seen that the model can be simulated and is numerically consistent."
   ]
  },
  {
   "cell_type": "markdown",
   "metadata": {},
   "source": [
    "## Steady State and Model Validation \n",
    "\n",
    "In order to determine whether the module can be successfully integrated into a model, another model can be loaded, merged with the module, and simulated. To validate this module, it will be merged with a glycolysis model. \n",
    "\n",
    "To find the steady state of the model and perform simulations, the model must first be loaded into a <font color=#4682B4>Simulation</font>. In order to load a model into a <font color=#4682B4>Simulation</font>, the model must be simulatable, meaning there are no missing numerical values that would prevent the integration of the ODEs that comprise the model. The <font color=#B22222>verbose</font> argument can be used while loading a model to produce a message indicating the successful loading of a model, or why a model could not load.\n",
    "\n",
    "Once loaded into a <font color=#4682B4>Simulation</font>, the <font color=#00008B>find_steady_state</font> method can be used with the <font color=#B22222>update_values</font> argument in order to update the initial conditions and fluxes of the model to a steady state (if necessary). The model can be simulated using the <font color=#00008B>simulate</font> method by passing the model to simulate, and a tuple containing the start time and the end time. The number of time points can also be included, but is optional.\n",
    "\n",
    "After a successful simulation, two <font color=#008000>cobra</font><font color=#556B2F>.DictLists</font> are returned. The first <font color=#556B2F>DictList</font> holds a <font color=#4682B4>MassSolution</font> that contains the concentration results of the simulation, and the second <font color=#556B2F>DictList</font> hold a <font color=#4682B4>MassSolution</font> that contains the flux results of the simulation. Note that there will always be two <font color=#4682B4>MassSolutions</font> generated per model simulated.\n",
    "\n",
    "To visually validate the steady state of the model, concentration and flux solutions can be plotted using the <font color=#00008B>plot_time_profile</font> function from <font color=#0000FF>mass.visualization</font></td>. Alternatively, the <font color=#4682B4>MassSolution</font><font color=#1E90FF>.view_time_profile</font> property can be used to quickly generate a time profile for the results."
   ]
  },
  {
   "cell_type": "code",
   "execution_count": 14,
   "metadata": {},
   "outputs": [
    {
     "name": "stdout",
     "output_type": "stream",
     "text": [
      "Read LP format model from file /var/folders/36/g2np3l0d6t9dyr4rk3tvc8f80000gn/T/tmp682p4vmc.lp\n"
     ]
    },
    {
     "name": "stdout",
     "output_type": "stream",
     "text": [
      "Reading time = 0.00 seconds\n"
     ]
    },
    {
     "name": "stdout",
     "output_type": "stream",
     "text": [
      ": 20 rows, 44 columns, 122 nonzeros\n"
     ]
    },
    {
     "name": "stdout",
     "output_type": "stream",
     "text": [
      "Successfully loaded MassModel 'Glycolysis_Hemoglobin' into RoadRunner.\n"
     ]
    },
    {
     "data": {
      "image/png": "[encoded data removed]",
      "text/plain": [
       "<Figure size 432x288 with 1 Axes>"
      ]
     },
     "metadata": {
      "needs_background": "light"
     },
     "output_type": "display_data"
    },
    {
     "data": {
      "image/png": "[encoded data removed]",
      "text/plain": [
       "<Figure size 432x288 with 1 Axes>"
      ]
     },
     "metadata": {
      "needs_background": "light"
     },
     "output_type": "display_data"
    }
   ],
   "source": [
    "glyc_hb = glycolysis.merge(hemoglobin, inplace=False)\n",
    "\n",
    "# Setup simulation object, ensure model is at steady state\n",
    "sim = Simulation(glyc_hb, verbose=True)\n",
    "sim.find_steady_state(glyc_hb, strategy=\"nleq2\", update_values=True)\n",
    "# Simulate from 0 to 1000 with 10001 points in the output\n",
    "conc_sol_list, flux_sol_list = sim.simulate(glyc_hb, time=(0, 1e3, 1e4 + 1))\n",
    "conc_sol, flux_sol = conc_sol_list[0], flux_sol_list[0]\n",
    "# Quickly render and display time profiles \n",
    "for sol in [conc_sol, flux_sol]:\n",
    "    sol.view_time_profile\n",
    "    plt.show()"
   ]
  },
  {
   "cell_type": "markdown",
   "metadata": {},
   "source": [
    "### Optional: Storing information and references\n",
    "#### Compartment\n",
    "Because the character \"c\" represents the cytosol compartment, it is recommended to define and set the compartment in the <font color=#4682B4>MassModel</font><font color=#1E90FF>.compartments</font> attribute."
   ]
  },
  {
   "cell_type": "code",
   "execution_count": 15,
   "metadata": {
    "scrolled": true
   },
   "outputs": [
    {
     "name": "stdout",
     "output_type": "stream",
     "text": [
      "{'c': 'Cytosol'}\n"
     ]
    }
   ],
   "source": [
    "hemoglobin.compartments = {\"c\": \"Cytosol\"}\n",
    "print(hemoglobin.compartments)"
   ]
  },
  {
   "cell_type": "markdown",
   "metadata": {},
   "source": [
    "#### Units\n",
    "All of the units for the numerical values used in this model are \"Millimoles\" for amount and \"Liters\" for volume (giving a concentration unit of 'Millimolar'), and \"Hours\" for time. In order to ensure that future users understand the numerical values for model, it is important to define the <font color=#4682B4>MassModel</font><font color=#1E90FF>.units</font> attribute.\n",
    "\n",
    "The <font color=#4682B4>MassModel</font><font color=#1E90FF>.units</font> is a <font color=#008000>cobra</font><font color=#556B2F>.DictList</font> that contains only <font color=#4682B4>UnitDefinition</font> objects from the <font color=#0000FF>mass.core.unit</font> submodule. \n",
    "\n",
    "Each <font color=#4682B4>UnitDefinition</font> is created from <font color=#4682B4>Unit</font> objects representing the base units that comprise the <font color=#4682B4>UnitDefinition</font>. These <font color=#4682B4>Units</font> are stored in the <font color=#1E90FF>list_of_units</font> attribute. Pre-built units can be viewed using the <font color=#00008B>print_defined_unit_values</font> function from the <font color=#0000FF>mass.core.unit</font></td> submodule. Alternatively, custom units can also be created using the <font color=#4682B4>UnitDefinition</font><font color=#00008B>.create_unit</font> function.\n",
    "\n",
    "For more information about units, please see the module docstring for <font color=#0000FF>mass.core.unit</font> submodule.\n",
    "\n",
    "__Note:__ It is important to note that this attribute will NOT track units, but instead acts as a reference for the user and others so that they can perform necessary unit conversions."
   ]
  },
  {
   "cell_type": "code",
   "execution_count": 16,
   "metadata": {},
   "outputs": [
    {
     "name": "stdout",
     "output_type": "stream",
     "text": [
      "[<UnitDefinition Millimolar \"mM\" at 0x127393198>, <UnitDefinition hour \"hr\" at 0x1272e4b38>]\n"
     ]
    }
   ],
   "source": [
    "# Using pre-build units to define UnitDefinitions\n",
    "concentration = UnitDefinition(\"mM\", name=\"Millimolar\", list_of_units=[\"millimole\", \"per_litre\"])\n",
    "time = UnitDefinition(\"hr\", name=\"hour\", list_of_units=[\"hour\"])\n",
    "\n",
    "# Add units to model\n",
    "hemoglobin.add_units([concentration, time])\n",
    "print(hemoglobin.units)"
   ]
  },
  {
   "cell_type": "markdown",
   "metadata": {},
   "source": [
    "## Export\n",
    "\n",
    "After validation, the model is ready to be saved. The model can either be exported as a \".json\" file or as an \".sbml\" (\".xml\") file using their repsective submodules in <font color=#0000FF>mass.io</font></td>.\n",
    "\n",
    "To export the model, only the path to the directory and the name of the model need to be specified. Both are shown below. "
   ]
  },
  {
   "cell_type": "code",
   "execution_count": 17,
   "metadata": {},
   "outputs": [],
   "source": [
    "filepath = path.realpath(path.join(\"models\", hemoglobin.id))"
   ]
  },
  {
   "cell_type": "markdown",
   "metadata": {},
   "source": [
    "### Export using JSON"
   ]
  },
  {
   "cell_type": "code",
   "execution_count": 18,
   "metadata": {
    "scrolled": false
   },
   "outputs": [],
   "source": [
    "json.save_json_model(mass_model=hemoglobin, filename=filepath + \".json\")"
   ]
  },
  {
   "cell_type": "markdown",
   "metadata": {},
   "source": [
    "### Export using SBML"
   ]
  },
  {
   "cell_type": "code",
   "execution_count": 19,
   "metadata": {},
   "outputs": [],
   "source": [
    "sbml.write_sbml_model(mass_model=hemoglobin, filename=filepath + \".xml\")"
   ]
  }
 ],
 "metadata": {
  "kernelspec": {
   "display_name": "Python 3",
   "language": "python",
   "name": "python3"
  },
  "language_info": {
   "codemirror_mode": {
    "name": "ipython",
    "version": 3
   },
   "file_extension": ".py",
   "mimetype": "text/x-python",
   "name": "python",
   "nbconvert_exporter": "python",
   "pygments_lexer": "ipython3",
   "version": "3.7.3"
  },
  "latex_envs": {
   "LaTeX_envs_menu_present": true,
   "autoclose": false,
   "autocomplete": true,
   "bibliofile": "biblio.bib",
   "cite_by": "apalike",
   "current_citInitial": 1,
   "eqLabelWithNumbers": true,
   "eqNumInitial": 1,
   "hotkeys": {
    "equation": "Ctrl-E",
    "itemize": "Ctrl-I"
   },
   "labels_anchors": false,
   "latex_user_defs": false,
   "report_style_numbering": false,
   "user_envs_cfg": false
  }
 },
 "nbformat": 4,
 "nbformat_minor": 2
}
