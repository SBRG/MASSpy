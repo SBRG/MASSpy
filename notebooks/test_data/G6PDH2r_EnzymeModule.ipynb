{
 "cells": [
  {
   "cell_type": "markdown",
   "metadata": {},
   "source": [
    "# Glucose-6-Phosphate Dehydrogenase, reversible (G6PDH2r)\n",
    "To construct the glucose-6-phosphate dehydrogenase module, first we import <b>masspy</b> and other essential packages. Constants used throughout the notebook are also defined."
   ]
  },
  {
   "cell_type": "code",
   "execution_count": 1,
   "metadata": {},
   "outputs": [],
   "source": [
    "from os import path\n",
    "\n",
    "import matplotlib.pyplot as plt\n",
    "\n",
    "from scipy import optimize\n",
    "\n",
    "import sympy as sym\n",
    "\n",
    "from cobra import DictList\n",
    "\n",
    "from mass.analysis.linear import matrix_rank\n",
    "from mass import MassMetabolite, Simulation, UnitDefinition\n",
    "from mass.enzyme_modules import EnzymeModule\n",
    "from mass.io import json, sbml\n",
    "from mass.util import Keq2k, k2Keq, strip_time, qcqa_model"
   ]
  },
  {
   "cell_type": "markdown",
   "metadata": {},
   "source": [
    "Note that the total enzyme concentration of G6PDH2r is \\\\(1 \\mu M = 0.001 mM\\\\).\n",
    "\n",
    "For the construction of the <font color=#4682B4>EnzymeModule</font> for G6PDH2r, the following assumptions were made:\n",
    "\n",
    "1. The enzyme behaves like a monomer.\n",
    "2. The enzyme binding and catalyzation of substrates occurs in an ordered sequential mechanism.\n",
    "3. The enzyme experiences product inhibtion, and is competitively inhibited by ATP."
   ]
  },
  {
   "cell_type": "markdown",
   "metadata": {},
   "source": [
    "## Module Construction\n",
    "The first step of creating the G6PDH2r module is to define the <font color=#4682B4>EnzymeModule</font>. The <font color=#4682B4>EnzymeModule</font> is an extension of the <font color=#4682B4>MassModel</font>, with additional enzyme-specific attributes that aid in the construction, validation, and utilization of the module.\n",
    "\n",
    "__Note:__ All <font color=#4682B4>EnzymeModule</font> specific attributes start will start the prefix \"enzyme\" or \"enzyme_module\"."
   ]
  },
  {
   "cell_type": "code",
   "execution_count": 2,
   "metadata": {},
   "outputs": [],
   "source": [
    "G6PDH2r = EnzymeModule(\"G6PDH2r\", name=\"Glucose 6-phosphate dehydrogenase\", subsystem=\"PentosePhosphatePathway\")"
   ]
  },
  {
   "cell_type": "markdown",
   "metadata": {},
   "source": [
    "### Metabolites\n",
    "#### Ligands\n",
    "The next step is to define all of the metabolites using the <font color=#4682B4>MassMetabolite</font> object. For <font color=#4682B4>EnzymeModules</font>, the <font color=#4682B4>MassMetabolite</font> objects will be refered to as ligands, for these <font color=#4682B4>MassMetabolite</font> form a complex with the enzyme to serve some biological purpose. Some considerations for this step include the following:\n",
    "\n",
    "1. It is important to use a clear and consistent format for identifiers and names when defining the <font color=#4682B4>MassMetabolite</font> objects for various reasons, some of which include improvements to model clarity and utility, assurance of unique identifiers (required to add metabolites to the model), and consistency when collaborating and communicating with others. \n",
    "\n",
    "\n",
    "2. In order to ensure our model is physiologically accurate, it is important to provide the <font color=#B22222>formula</font> argument with a string representing the chemical formula for each metabolite, and the <font color=#B22222>charge</font> argument with an integer representing the metabolite's ionic charge (Note that neutrally charged metabolites are provided with 0). These attributes can always be set later if necessary using the <font color=#1E90FF>formula</font> and <font color=#1E90FF>charge</font> attribute setter methods.\n",
    "\n",
    "\n",
    "3. To indicate that the cytosol is the cellular compartment in which the reactions occur, the string \"c\" is provided to the <font color=#B22222>compartment</font> argument.\n",
    "\n",
    "This model will be created using identifiers and names found in the [BiGG Database](http://bigg.ucsd.edu/).\n",
    "\n",
    "The ligands correspond to the activators, inhibitors, cofactors, substrates, and products involved in the enzyme catalyzed reaction. In this model, there are 6 species which must be considered."
   ]
  },
  {
   "cell_type": "code",
   "execution_count": 3,
   "metadata": {},
   "outputs": [],
   "source": [
    "g6p_c = MassMetabolite(\n",
    "    \"g6p_c\",\n",
    "    name=\"D-Glucose 6-phosphate\",\n",
    "    formula=\"C6H11O9P\",\n",
    "    charge=-2,\n",
    "    compartment=\"c\")\n",
    "_6pgl_c = MassMetabolite(\n",
    "    \"_6pgl_c\",\n",
    "    name=\"6-Phospho-D-gluco-1,5-lactone\",\n",
    "    formula=\"C6H9O9P\",\n",
    "    charge=-2,\n",
    "    compartment=\"c\")\n",
    "nadp_c = MassMetabolite(\n",
    "    \"nadp_c\",\n",
    "    name=\"Nicotinamide adenine dinucleotide phosphate\",\n",
    "    formula=\"C21H25N7O17P3\",\n",
    "    charge=-3,\n",
    "    compartment=\"c\")\n",
    "nadph_c = MassMetabolite(\n",
    "    \"nadph_c\",\n",
    "    name=\"Nicotinamide adenine dinucleotide phosphate - reduced\",\n",
    "    formula=\"C21H26N7O17P3\",\n",
    "    charge=-4,\n",
    "    compartment=\"c\")\n",
    "atp_c = MassMetabolite(\n",
    "    \"atp_c\",\n",
    "    name=\"ATP\",\n",
    "    formula=\"C10H12N5O13P3\",\n",
    "    charge=-4,\n",
    "    compartment=\"c\")\n",
    "h_c = MassMetabolite(\n",
    "    \"h_c\",\n",
    "    name=\"H+\",\n",
    "    formula=\"H\",\n",
    "    charge=1,\n",
    "    compartment=\"c\")"
   ]
  },
  {
   "cell_type": "markdown",
   "metadata": {},
   "source": [
    "After generating the ligands, they are added to the <font color=#4682B4>EnzymeModule</font> through the <font color=#00008B>add_metabolites</font> method. The ligands of the <font color=#4682B4>EnzymeModule</font> can be viewed as a DictList through the <font color=#1E90FF>enzyme_module_ligands</font> attribute, or through user-defined categorizes using the <font color=#1E90FF>enzyme_module_ligands_categorized</font> attribute. Note that all of the ligands are originally categorized as undefined. "
   ]
  },
  {
   "cell_type": "code",
   "execution_count": 4,
   "metadata": {},
   "outputs": [
    {
     "name": "stdout",
     "output_type": "stream",
     "text": [
      "All G6PDH2r Ligands: g6p_c; _6pgl_c; nadp_c; nadph_c; atp_c; h_c\n",
      "\n",
      "Undefined: ['_6pgl_c', 'atp_c', 'g6p_c', 'h_c', 'nadp_c', 'nadph_c']\n"
     ]
    }
   ],
   "source": [
    "G6PDH2r.add_metabolites([g6p_c, _6pgl_c, nadp_c, nadph_c, atp_c, h_c])\n",
    "# Access DictList of ligands and print\n",
    "print(\"All {0} Ligands: {1}\\n\".format(\n",
    "    G6PDH2r.id, \"; \".join([m.id for m in G6PDH2r.enzyme_module_ligands])))\n",
    "# Access categorized dict attribute for ligands and print\n",
    "for category, ligands in G6PDH2r.enzyme_module_ligands_categorized.items():\n",
    "    print(\"{0}: {1}\".format(\n",
    "        category, str([m.id for m in ligands])))"
   ]
  },
  {
   "cell_type": "markdown",
   "metadata": {},
   "source": [
    "When metabolites are first added to an <font color=#4682B4>EnzymeModule</font>, they are placed in the \"Undefined\" category. The <font color=#1E90FF>enzyme_module_ligands_categorized</font> attribute can also be used to reassign metabolites to user-defined categories by providing a dictionary where keys are the categories and values are the metabolites. Note that any metabolite can be placed in more than one category."
   ]
  },
  {
   "cell_type": "code",
   "execution_count": 5,
   "metadata": {},
   "outputs": [
    {
     "name": "stdout",
     "output_type": "stream",
     "text": [
      "All G6PDH2r ligands (6 total):\n",
      "['g6p_c', '_6pgl_c', 'nadp_c', 'nadph_c', 'atp_c', 'h_c']\n",
      "\n",
      "Substrates: ['g6p_c']\n",
      "Cofactors: ['nadp_c']\n",
      "Inhibitors: ['atp_c']\n",
      "Products: ['_6pgl_c', 'h_c', 'nadph_c']\n"
     ]
    }
   ],
   "source": [
    "G6PDH2r.enzyme_module_ligands_categorized =  {\n",
    "    \"Substrates\": g6p_c,\n",
    "    \"Cofactors\": nadp_c,\n",
    "    \"Inhibitors\": atp_c,\n",
    "    \"Products\": [_6pgl_c, nadph_c, h_c]}\n",
    "# Access DictList of ligands and print\n",
    "print(\"All {0} ligands ({1} total):\\n{2}\\n\".format(\n",
    "    G6PDH2r.id, len(G6PDH2r.enzyme_module_ligands), str([m.id for m in G6PDH2r.enzyme_module_ligands])))\n",
    "# Access categorized dict attribute for ligands and print\n",
    "for category, ligands in G6PDH2r.enzyme_module_ligands_categorized.items():\n",
    "    print(\"{0}: {1}\".format(\n",
    "        category,str([m.id for m in ligands])))"
   ]
  },
  {
   "cell_type": "markdown",
   "metadata": {},
   "source": [
    "#### EnzymeModuleSpecies\n",
    "\n",
    "The next step is to define the various states of the enzyme and enzyme-ligand complexes. These states can be represented through an <font color=#4682B4>EnzymeModuleSpecies</font> object. Just like how <font color=#4682B4>EnzymeModules</font> extend <font color=#4682B4>MassModels</font>, the <font color=#4682B4>EnzymeModuleSpecies</font> extend <font color=#4682B4>MassMetabolites</font>, giving them the same functionality as a <font color=#4682B4>MassMetabolite</font>. However, there are three important additional attrubutes that are specific to the <font color=#4682B4>EnzymeModuleSpecies</font>.\n",
    "\n",
    "* The first attribute is the <font color=#1E90FF>enzyme_module_id</font>. It is meant to hold the identifier or name of the <font color=#4682B4>EnzymeModule</font> that the <font color=#4682B4>EnzymeModuleSpecies</font> belongs to.\n",
    "* The second and third attributes are the <font color=#1E90FF>bound_catalytic</font> and <font color=#1E90FF>bound_effectors</font> attributes, designed to contain metabolites bound to the active/catalytic site and effector metabolites bound to the enzyme, respectively. \n",
    "* Automatic generation of the <font color=#1E90FF>name</font>, <font color=#1E90FF>formula</font>, and <font color=#1E90FF>charge</font> attributes attributes utilize the <font color=#1E90FF>bound_catalytic</font> and <font color=#1E90FF>bound_effectors</font> attributes, which can aid in identification of <font color=#4682B4>EnzymeModuleSpecies</font> and mass and charge balancing of the reactions.\n",
    "\n",
    "The most convenient way to make an <font color=#4682B4>EnzymeModuleSpecies</font> is through the <font color=#4682B4>EnzymeModule</font><font color=#00008B>.make_enzyme_module_species</font> method. There are several reasons to use this method to generate the <font color=#4682B4>EnzymeModuleSpecies</font>:\n",
    "\n",
    "1. The only requirement to creating an <font color=#4682B4>EnzymeModuleSpecies</font> is an identifier.\n",
    "2. A string can optionally be provided for the <font color=#B22222>name</font> argument to set the corresponding <font color=#1E90FF>name</font> attribute, or it can automatically be generated and set by setting the string \"Automatic\" (case sensitve). \n",
    "3. The <font color=#1E90FF>enzyme_module_id</font>, <font color=#1E90FF>formula</font> and <font color=#1E90FF>charge</font> attributes are set based on the identifier of the EnzymeModule and the MassMetabolite objects found in <font color=#1E90FF>bound_catalytic</font> and <font color=#1E90FF>bound_effectors</font>\n",
    "4. Just like the <font color=#1E90FF>enzyme_module_ligands_categorized</font> attribute, there is the <font color=#1E90FF>enzyme_module_species_categorized</font> attribute that behaves in a similar manner. Categories can be set at the time of construction by providing a string or a list of strings to the <font color=#B22222>categories</font> argument. \n",
    "5. <font color=#4682B4>EnzymeModuleSpecies</font> are automatically added to the <font color=#4682B4>EnzymeModule</font> once created.\n",
    "\n",
    "For this module, there are 7 <font color=#4682B4>EnzymeModuleSpecies</font> that must be created."
   ]
  },
  {
   "cell_type": "code",
   "execution_count": 6,
   "metadata": {},
   "outputs": [
    {
     "name": "stdout",
     "output_type": "stream",
     "text": [
      "All G6PDH2r EnzymeModuleSpecies (7 total):\n",
      "['g6pdh2r_c', 'g6pdh2r_G_c', 'g6pdh2r_GN_c', 'g6pdh2r_GN_P_c', 'g6pdh2r_G_P_c', 'g6pdh2r_N_PI_c', 'g6pdh2r_A_CI_c']\n",
      "\n",
      "Free: ['g6pdh2r_GN_P_c', 'g6pdh2r_GN_c', 'g6pdh2r_G_P_c', 'g6pdh2r_G_c', 'g6pdh2r_c']\n",
      "\n",
      "Inhibited: ['g6pdh2r_A_CI_c', 'g6pdh2r_N_PI_c']\n",
      "\n"
     ]
    }
   ],
   "source": [
    "G6PDH2r.make_enzyme_module_species(\n",
    "    \"g6pdh2r_c\",\n",
    "    name=\"Automatic\",\n",
    "    categories=\"Free\",\n",
    "    compartment=\"c\")\n",
    "G6PDH2r.make_enzyme_module_species(\n",
    "    \"g6pdh2r_G_c\",\n",
    "    name=\"Automatic\",\n",
    "    categories=\"Free\",\n",
    "    bound_catalytic={g6p_c: 1},\n",
    "    compartment=\"c\")\n",
    "G6PDH2r.make_enzyme_module_species(\n",
    "    \"g6pdh2r_GN_c\",\n",
    "    name=\"Automatic\",\n",
    "    categories=\"Free\",\n",
    "    bound_catalytic={g6p_c: 1, nadp_c: 1},\n",
    "    compartment=\"c\")\n",
    "G6PDH2r.make_enzyme_module_species(\n",
    "    \"g6pdh2r_GN_P_c\",\n",
    "    name=\"Automatic\",\n",
    "    categories=\"Free\",\n",
    "    bound_catalytic={_6pgl_c: 1, nadph_c: 1},\n",
    "    compartment=\"c\")\n",
    "G6PDH2r.make_enzyme_module_species(\n",
    "    \"g6pdh2r_G_P_c\",\n",
    "    name=\"Automatic\",\n",
    "    categories=\"Free\",\n",
    "    bound_catalytic={_6pgl_c: 1},\n",
    "    compartment=\"c\")\n",
    "G6PDH2r.make_enzyme_module_species(\n",
    "    \"g6pdh2r_N_PI_c\",\n",
    "    name=\"Automatic\",\n",
    "    categories=\"Inhibited\",\n",
    "    bound_catalytic={nadph_c: 1},\n",
    "    compartment=\"c\")\n",
    "G6PDH2r.make_enzyme_module_species(\n",
    "    \"g6pdh2r_A_CI_c\",\n",
    "    name=\"Automatic\",\n",
    "    categories=\"Inhibited\",\n",
    "    bound_catalytic={atp_c: 1},\n",
    "    compartment=\"c\")\n",
    "\n",
    "# Access DictList of EnzymeModuleSpecies and print\n",
    "print(\"All {0} EnzymeModuleSpecies ({1} total):\\n{2}\\n\".format(\n",
    "    G6PDH2r.id, len(G6PDH2r.enzyme_module_species), str([m.id for m in G6PDH2r.enzyme_module_species])))\n",
    "# Access categorized dict attribute for EnzymeModuleSpecies and print\n",
    "for category, enz_species in G6PDH2r.enzyme_module_species_categorized.items():\n",
    "    print(\"{0}: {1}\\n\".format(\n",
    "        category, str([m.id for m in enz_species])))"
   ]
  },
  {
   "cell_type": "markdown",
   "metadata": {},
   "source": [
    "## Reactions\n",
    "### EnzymeModuleReactions\n",
    "Once all of the <font color=#4682B4>MassMetabolites</font> and <font color=#4682B4>EnzymeModuleSpecies</font> have been created, the next step is to define all of the enzyme-ligand binding reactions and conformation trasitions that occur in its mechanism.\n",
    "\n",
    "These reactions can be represented through an <font color=#4682B4>EnzymeModuleReaction</font> object. As with the previous enzyme objects,  <font color=#4682B4>EnzymeModuleReactions</font> extend <font color=#4682B4>MassReactions</font> to maintain the same functionality. However, as with the <font color=#4682B4>EnzymeModuleSpecies</font>, the <font color=#4682B4>EnzymeModuleReaction</font> has additional enzyme-specific attributes, such as the <font color=#1E90FF>enzyme_module_id</font>.\n",
    "\n",
    "The most conveient way to make an <font color=#4682B4>EnzymeModuleReaction</font> is through the <font color=#4682B4>EnzymeModule</font><font color=#00008B>.make_enzyme_module_reaction</font> method. There are several reasons to use this method to generate the EnzymeModuleReactions:\n",
    "\n",
    "1. The only requirement to creating an <font color=#4682B4>EnzymeModuleReaction</font> is an identifier.\n",
    "2. A string can optionally be provided for the <font color=#B22222>name</font> argument to set the corresponding <font color=#1E90FF>name</font> attribute, or it can automatically be generated and set by setting the string \"Automatic\" (case sensitve). \n",
    "3. There is an <font color=#1E90FF>enzyme_module_reactions_categorized</font> attribute that behaves in a similar manner as the previous categorized dictionary attributes. Categories can be set at the time of construction by providing a string or a list of strings to the <font color=#B22222>categories</font> argument. \n",
    "4. <font color=#4682B4>MassMetabolites</font> and <font color=#4682B4>EnzymeModuleSpecies</font> that already exist in the <font color=#4682B4>EnzymeModule</font> can be directly added to the newly created <font color=#4682B4>EnzymeModuleReaction</font> by providing a dictionary to the optional <font color=#B22222>metabolites_to_add</font> argument using string identifiers (or the objects) as keys and their stoichiometric coefficients as the values.\n",
    "5. <font color=#4682B4>EnzymeModuleReactions</font> are automatically added to the <font color=#4682B4>EnzymeModule</font> once created.\n",
    "\n",
    "For this module, there are 7 <font color=#4682B4>EnzymeModuleReactions</font> that must be created."
   ]
  },
  {
   "cell_type": "code",
   "execution_count": 7,
   "metadata": {},
   "outputs": [
    {
     "name": "stdout",
     "output_type": "stream",
     "text": [
      "All G6PDH2r EnzymeModuleReactions (7 total):\n",
      "['G6PDH2r_1', 'G6PDH2r_2', 'G6PDH2r_3', 'G6PDH2r_4', 'G6PDH2r_5', 'G6PDH2r_6', 'G6PDH2r_7']\n",
      "\n",
      "product inhibition: ['G6PDH2r_1', 'G6PDH2r_2']\n",
      "\n",
      "g6p_c binding: ['G6PDH2r_3']\n",
      "\n",
      "_6pgl_c release: ['G6PDH2r_4']\n",
      "\n",
      "nadp_c binding: ['G6PDH2r_5']\n",
      "\n",
      "nadph_c release: ['G6PDH2r_6']\n",
      "\n",
      "catalyzation: ['G6PDH2r_7']\n",
      "\n"
     ]
    }
   ],
   "source": [
    "G6PDH2r.make_enzyme_module_reaction(\n",
    "    \"G6PDH2r_1\",\n",
    "    name=\"Automatic\",\n",
    "    subsystem=\"Pentose Phosphate Pathway\",\n",
    "    reversible=True,\n",
    "    categories=\"product inhibition\",\n",
    "    metabolites_to_add={\n",
    "        \"g6pdh2r_c\": -1,\n",
    "        \"nadph_c\": -1,\n",
    "        \"g6pdh2r_N_PI_c\": 1})\n",
    "\n",
    "G6PDH2r.make_enzyme_module_reaction(\n",
    "    \"G6PDH2r_2\",\n",
    "    name=\"Automatic\",\n",
    "    subsystem=\"Pentose Phosphate Pathway\",\n",
    "    reversible=True,\n",
    "    categories=\"product inhibition\",\n",
    "    metabolites_to_add={\n",
    "        \"g6pdh2r_c\": -1,\n",
    "        \"atp_c\": -1,\n",
    "        \"g6pdh2r_A_CI_c\": 1})\n",
    "\n",
    "G6PDH2r.make_enzyme_module_reaction(\n",
    "    \"G6PDH2r_3\",\n",
    "    name=\"Automatic\",\n",
    "    subsystem=\"Pentose Phosphate Pathway\",\n",
    "    reversible=True,\n",
    "    categories=\"g6p_c binding\",\n",
    "    metabolites_to_add={\n",
    "        \"g6pdh2r_c\": -1,\n",
    "        \"g6p_c\": -1,\n",
    "        \"g6pdh2r_G_c\": 1})\n",
    "\n",
    "G6PDH2r.make_enzyme_module_reaction(\n",
    "    \"G6PDH2r_4\",\n",
    "    name=\"Automatic\",\n",
    "    subsystem=\"Pentose Phosphate Pathway\",\n",
    "    reversible=True,\n",
    "    categories=\"_6pgl_c release\",\n",
    "    metabolites_to_add={\n",
    "        \"g6pdh2r_G_P_c\": -1,\n",
    "        \"_6pgl_c\": 1,\n",
    "        \"g6pdh2r_c\": 1})\n",
    "\n",
    "G6PDH2r.make_enzyme_module_reaction(\n",
    "    \"G6PDH2r_5\",\n",
    "    name=\"Automatic\",\n",
    "    subsystem=\"Pentose Phosphate Pathway\",\n",
    "    reversible=True,\n",
    "    categories=\"nadp_c binding\",\n",
    "    metabolites_to_add={\n",
    "        \"g6pdh2r_G_c\": -1,\n",
    "        \"nadp_c\": -1,\n",
    "        \"g6pdh2r_GN_c\": 1})\n",
    "\n",
    "G6PDH2r.make_enzyme_module_reaction(\n",
    "    \"G6PDH2r_6\",\n",
    "    name=\"Automatic\",\n",
    "    subsystem=\"Pentose Phosphate Pathway\",\n",
    "    reversible=True,\n",
    "    categories=\"nadph_c release\",\n",
    "    metabolites_to_add={\n",
    "        \"g6pdh2r_GN_P_c\": -1,\n",
    "        \"nadph_c\": 1,\n",
    "        \"g6pdh2r_G_P_c\": 1})\n",
    "\n",
    "G6PDH2r.make_enzyme_module_reaction(\n",
    "    \"G6PDH2r_7\",\n",
    "    name=\"Automatic\",\n",
    "    subsystem=\"Pentose Phosphate Pathway\",\n",
    "    reversible=True,\n",
    "    categories=\"catalyzation\",\n",
    "    metabolites_to_add={\n",
    "        \"g6pdh2r_GN_c\": -1,\n",
    "        \"g6pdh2r_GN_P_c\": 1,\n",
    "        \"h_c\": 1})\n",
    "\n",
    "# Access DictList of EnzymeModuleReactions and print\n",
    "print(\"All {0} EnzymeModuleReactions ({1} total):\\n{2}\\n\".format(\n",
    "    G6PDH2r.id, len(G6PDH2r.enzyme_module_reactions), str([r.id for r in G6PDH2r.enzyme_module_reactions])))\n",
    "# Access categorized dict attribute for EnzymeModuleReactions and print\n",
    "for category, enz_reactions in G6PDH2r.enzyme_module_reactions_categorized.items():\n",
    "    print(\"{0}: {1}\\n\".format(\n",
    "        category, str([r.id for r in enz_reactions])))"
   ]
  },
  {
   "cell_type": "markdown",
   "metadata": {},
   "source": [
    "## The Steady State\n",
    "### Solve steady state concentrations symbolically\n",
    "To determine the steady state of the enzyme, a dictionary of the ordinary differential equations as symbolic expressions for each of the <font color=#4682B4>EnzymeModuleSpecies</font>. \n",
    "\n",
    "For handling of all symbolic expressions, the <b>sympy</b> package is used."
   ]
  },
  {
   "cell_type": "code",
   "execution_count": 8,
   "metadata": {},
   "outputs": [
    {
     "name": "stdout",
     "output_type": "stream",
     "text": [
      "Rank Deficiency: 1\n"
     ]
    }
   ],
   "source": [
    "ode_dict = {\n",
    "    sym.Symbol(enzyme_module_species.id): sym.Eq(strip_time(enzyme_module_species.ode))\n",
    "    for enzyme_module_species in G6PDH2r.enzyme_module_species}\n",
    "\n",
    "rank = matrix_rank(G6PDH2r.S[6:])\n",
    "print(\"Rank Deficiency: {0}\".format(len(ode_dict) - rank))"
   ]
  },
  {
   "cell_type": "markdown",
   "metadata": {},
   "source": [
    "In order to solve the system of ODEs for the steady state concentrations, an additional equation is required due to the rank deficiency of the stoichiometric matrix. Therefore, the equation for the steady state flux through the enzyme, which will be referred to as the \"enzyme net flux equation\", must be defined. \n",
    "\n",
    "To define the enzyme net flux equation, the <font color=#4682B4>EnzymeModule</font><font color=#00008B>.make_enzyme_netflux_equation</font> class method can be used. \n",
    "\n",
    "* This equation is made by providing a reaction, or a list of reactions to add together.\n",
    "* Passing a bool to <font color=#B22222>use_rates</font> argument determines whether a symbolic equation is a summation of the flux symbols returned by <font color=#4682B4>EnzymeModuleReaction</font><font color=#1E90FF>.flux_symbol</font>, or a summation of the rates laws for those reactions.\n",
    "* The <font color=#B22222>update_enzyme</font> argument determines whether the new rate equation is set in the <font color=#1E90FF>enzyme_net_flux_equation</font> attribute.\n",
    "\n",
    "The flux through the enzyme typically corresponds to the sum of the fluxes through the catalytic reaction steps.\n",
    "Because the catalyzation reactions were assigned to the \"catalyzation\" cateogry, they can be accessed through the <font color=#1E90FF>enzyme_module_reactions_categorized</font> attribute to create the equation for \\\\(v_{\\mathrm{G6PDH2r}}\\\\)."
   ]
  },
  {
   "cell_type": "code",
   "execution_count": 9,
   "metadata": {},
   "outputs": [
    {
     "name": "stdout",
     "output_type": "stream",
     "text": [
      "            kf_G6PDH2r_7⋅(Keq_G6PDH2r_7⋅g6pdh2r_GN_c(t) - g6pdh2r_GN_P_c(t))\n",
      "v_G6PDH2r = ────────────────────────────────────────────────────────────────\n",
      "                                     Keq_G6PDH2r_7                          \n"
     ]
    }
   ],
   "source": [
    "G6PDH2r.make_enzyme_net_flux_equation(G6PDH2r.enzyme_module_reactions_categorized[\"catalyzation\"], \n",
    "                                      use_rates=True, update_enzyme=True)\n",
    "sym.pprint(G6PDH2r.enzyme_net_flux_equation)"
   ]
  },
  {
   "cell_type": "markdown",
   "metadata": {},
   "source": [
    "The next step is to identify equations for the unknown concentrations in each reaction. These equations will need to be solved with a dependent variable before accounting for the enzyme net flux equation. The completely free form of the enzyme with no bound species will be treated as the dependent variable. \n",
    "\n",
    "To verify that all equations are in terms of the rate parameters, ligand concentrations, and the dependent variable, the solutions can be iterated through using the atoms method to identify the equation arguments. \n",
    "\n",
    "There should be no <font color=#4682B4>EnzymeModuleSpecies</font> identifiers with the exception of the dependent variable. "
   ]
  },
  {
   "cell_type": "code",
   "execution_count": 10,
   "metadata": {},
   "outputs": [
    {
     "name": "stdout",
     "output_type": "stream",
     "text": [
      "{Keq_G6PDH2r_4, kf_G6PDH2r_5, nadp_c, nadph_c, _6pgl_c, atp_c, kf_G6PDH2r_6, kf_G6PDH2r_3, g6pdh2r_c, Keq_G6PDH2r_5, Keq_G6PDH2r_2, Keq_G6PDH2r_7, kf_G6PDH2r_7, Keq_G6PDH2r_6, kf_G6PDH2r_4, g6p_c, Keq_G6PDH2r_3, Keq_G6PDH2r_1}\n"
     ]
    }
   ],
   "source": [
    "# Get enzyme module species\n",
    "enzyme_module_species = G6PDH2r.enzyme_module_species.copy()\n",
    "\n",
    "enzyme_solutions = {}\n",
    "for enzyme_module_specie in enzyme_module_species:\n",
    "    # Skip dependent variable\n",
    "    if \"g6pdh2r_c\" == str(enzyme_module_specie):\n",
    "        continue\n",
    "    else:\n",
    "        enzyme_module_specie = sym.Symbol(enzyme_module_specie.id)\n",
    "    # Solve for the enzyme form and update the solution dictionary\n",
    "    sol = list(sym.solveset(ode_dict[enzyme_module_specie].subs(enzyme_solutions), enzyme_module_specie))\n",
    "    enzyme_solutions[enzyme_module_specie] = sol.pop()\n",
    "    enzyme_solutions.update({enzyme_module_specie: sol.subs(enzyme_solutions) \n",
    "                             for enzyme_module_specie, sol in enzyme_solutions.items()})\n",
    "args = set()\n",
    "for sol in enzyme_solutions.values():\n",
    "    args.update(sol.atoms(sym.Symbol))\n",
    "print(args)"
   ]
  },
  {
   "cell_type": "markdown",
   "metadata": {},
   "source": [
    "The enzyme net flux equation can then be utilized as the last equation required to solve for the final unknown concentration variable in terms of the rate and equilibrium constants, allowing for all of the concentration variables to be defined in terms of the parameters and ligand concentrations. Once the unknown variable has been solved for, the solution can be substituted back into the other equations. Because <b>sympy</b><font color=#8B008B>.solveset</font> function expects the input equations to be equal to 0, the <font color=#4682B4>EnzymeModule</font><font color=#00008B>.enzyme_net_flux_error</font> method with the <font color=#B22222>use_values</font>  argument set to False to get the appropriate expression."
   ]
  },
  {
   "cell_type": "code",
   "execution_count": 11,
   "metadata": {},
   "outputs": [
    {
     "name": "stdout",
     "output_type": "stream",
     "text": [
      "Enzyme Net Flux Equation\n",
      "------------------------\n",
      "            kf_G6PDH2r_7⋅(Keq_G6PDH2r_7⋅g6pdh2r_GN_c - g6pdh2r_GN_P_c)\n",
      "v_G6PDH2r - ──────────────────────────────────────────────────────────\n",
      "                                  Keq_G6PDH2r_7                       \n"
     ]
    },
    {
     "name": "stdout",
     "output_type": "stream",
     "text": [
      "\n",
      " {Keq_G6PDH2r_4, kf_G6PDH2r_5, nadph_c, nadp_c, _6pgl_c, atp_c, kf_G6PDH2r_6, kf_G6PDH2r_3, Keq_G6PDH2r_5, Keq_G6PDH2r_2, Keq_G6PDH2r_7, kf_G6PDH2r_7, Keq_G6PDH2r_6, kf_G6PDH2r_4, g6p_c, Keq_G6PDH2r_3, v_G6PDH2r, Keq_G6PDH2r_1}\n"
     ]
    }
   ],
   "source": [
    "enzyme_net_flux_equation = strip_time(G6PDH2r.enzyme_net_flux_error(False))\n",
    "print(\"Enzyme Net Flux Equation\\n\" + \"-\"*24)\n",
    "sym.pprint(enzyme_net_flux_equation)\n",
    "\n",
    "# Solve for last unknown concentration symbolically\n",
    "sol = sym.solveset(enzyme_net_flux_equation.subs(enzyme_solutions), \"g6pdh2r_c\")\n",
    "\n",
    "# Update solution dictionary with the new solution\n",
    "enzyme_solutions[sym.Symbol(\"g6pdh2r_c\")] = list(sol)[0]\n",
    "\n",
    "# Update solutions with free variable solutions\n",
    "enzyme_solutions = {\n",
    "    enzyme_module_species: sym.simplify(solution.subs(enzyme_solutions))\n",
    "    for enzyme_module_species, solution in enzyme_solutions.items()}\n",
    "\n",
    "args = set()\n",
    "for sol in enzyme_solutions.values():\n",
    "    args.update(sol.atoms(sym.Symbol))\n",
    "print(\"\\n\", args)"
   ]
  },
  {
   "cell_type": "markdown",
   "metadata": {},
   "source": [
    "#### Numerical Values\n",
    "At this point, numerical values are defined for the dissociation constants and the concentrations of the substrates, cofactors, activators, and inhibitors. Providing these numerical values will speed up the subsequent calculations. \n",
    "\n",
    "To do this, experimental data is used to define the dissociations constants for the different binding steps under the QEA assumption. The concentrations of the non-enzyme species are taken from the glycolysis model. \n",
    "\n",
    "Experimental data gives the following for the dissociation constants: \n",
    "\n",
    "$$K_{i, \\text{NADPH}} = 0.024,\\ K_{i, \\text{ATP}} = 0.044,\\ K_{\\text{G6P}} = 0.027,\\ K_{\\text{GL6P}} = 0.050,\\ K_{\\text{NADP}} = 0.019,\\ K_{\\text{NADPH}} = 0.0105$$ \n",
    "\n",
    "which gives us a value of $K_{\\text{G6PDH2r}} = \\frac{1000}{\\frac{K_{\\text{GL6P}}K_{\\text{NADPH}}}{K_{\\text{G6P}}K_{\\text{NADP}}}} = \\frac{1000}{\\frac{0.050\\ *\\ 0.0105}{0.027\\ *\\ 0.019}}$ for the catalyzation step."
   ]
  },
  {
   "cell_type": "code",
   "execution_count": 12,
   "metadata": {},
   "outputs": [
    {
     "name": "stderr",
     "output_type": "stream",
     "text": [
      "mass_model WARNING: Ignoring reaction 'SK_h_c' since it already exists.\n"
     ]
    },
    {
     "name": "stderr",
     "output_type": "stream",
     "text": [
      "mass_model WARNING: Ignoring reaction 'SK_h2o_c' since it already exists.\n"
     ]
    },
    {
     "name": "stdout",
     "output_type": "stream",
     "text": [
      "Ligand IDs: ['_6pgl_c', 'atp_c', 'g6p_c', 'h_c', 'nadp_c', 'nadph_c']\n",
      "Parameter IDs: ['Keq_G6PDH2r_1', 'Keq_G6PDH2r_2', 'Keq_G6PDH2r_3', 'Keq_G6PDH2r_4', 'Keq_G6PDH2r_5', 'Keq_G6PDH2r_6', 'Keq_G6PDH2r_7']\n",
      "v_G6PDH2r = 0.20999999999999638\n",
      "_6pgl_c = 0.0017542400034099464\n",
      "atp_c = 1.5999999999999996\n",
      "g6p_c = 0.048600000000718034\n",
      "h_c = 8.99757e-05\n",
      "nadp_c = 0.0002000000000045456\n",
      "nadph_c = 0.06579999999999545\n",
      "Keq_G6PDH2r_1 = 41.666666666666664\n",
      "Keq_G6PDH2r_2 = 22.72727272727273\n",
      "Keq_G6PDH2r_3 = 37.03703703703704\n",
      "Keq_G6PDH2r_4 = 0.05\n",
      "Keq_G6PDH2r_5 = 52.631578947368425\n",
      "Keq_G6PDH2r_6 = 0.0105\n",
      "Keq_G6PDH2r_7 = 977.1428571428569\n"
     ]
    },
    {
     "name": "stderr",
     "output_type": "stream",
     "text": [
      "mass/core/mass_model.py:1106 \u001b[1;31mUserWarning\u001b[0m: Skipping 'mM' for it already exists in the model.\n",
      "mass/core/mass_model.py:1106 \u001b[1;31mUserWarning\u001b[0m: Skipping 'hr' for it already exists in the model.\n"
     ]
    }
   ],
   "source": [
    "numerical_values = {}\n",
    "\n",
    "# Get ligand IDs\n",
    "ligand_ids = sorted([str(ligand) for ligand in G6PDH2r.enzyme_module_ligands])\n",
    "parameter_ids = [r.Keq_str for r in G6PDH2r.enzyme_module_reactions]\n",
    "print(\"Ligand IDs: \" + str(ligand_ids))\n",
    "print(\"Parameter IDs: \" + str(parameter_ids))\n",
    "\n",
    "# Load the glycolysis model and hemoglobin model to extract steady state values\n",
    "glycolysis = json.load_json_model(path.realpath(path.join(\"models\", \"Glycolysis.json\")))\n",
    "ppp = json.load_json_model(path.realpath(path.join(\"models\", \"PentosePhosphatePathway.json\")))\n",
    "fullppp = glycolysis.merge(ppp)\n",
    "\n",
    "# Get the steady state flux value and add to numerical values\n",
    "G6PDH2r.enzyme_net_flux = fullppp.reactions.get_by_id(G6PDH2r.id).steady_state_flux\n",
    "numerical_values.update({G6PDH2r.enzyme_flux_symbol: G6PDH2r.enzyme_net_flux})\n",
    "\n",
    "# Get the steady state concentration values and add to numerical values\n",
    "initial_conditions = {\n",
    "    str(ligand): fullppp.initial_conditions[fullppp.metabolites.get_by_id(ligand)]\n",
    "    for ligand in ligand_ids}\n",
    "numerical_values.update(initial_conditions)\n",
    "\n",
    "# Define parameter values and add to numerical values\n",
    "G6PDH2r.enzyme_module_reactions.G6PDH2r_1.Keq = 1/0.024\n",
    "G6PDH2r.enzyme_module_reactions.G6PDH2r_2.Keq = 1/0.044\n",
    "G6PDH2r.enzyme_module_reactions.G6PDH2r_3.Keq = 1/0.027\n",
    "G6PDH2r.enzyme_module_reactions.G6PDH2r_4.Keq = 0.050\n",
    "G6PDH2r.enzyme_module_reactions.G6PDH2r_5.Keq = 1/0.019\n",
    "G6PDH2r.enzyme_module_reactions.G6PDH2r_6.Keq = 0.0105\n",
    "G6PDH2r.enzyme_module_reactions.G6PDH2r_7.Keq = 1000/((0.05*0.0105)/(0.019*0.027))\n",
    "\n",
    "numerical_values.update({reaction.Keq_str: reaction.Keq \n",
    "                         for reaction in G6PDH2r.enzyme_module_reactions})\n",
    "# Display numerical values\n",
    "for k, v in numerical_values.items():\n",
    "    print(\"{0} = {1}\".format(k, v))"
   ]
  },
  {
   "cell_type": "markdown",
   "metadata": {},
   "source": [
    "The last part of this step is to simplify the solutions for the enzyme forms and, as a QCQA, ensure that only rate constants are the only symbolic arguments in the solutions. "
   ]
  },
  {
   "cell_type": "code",
   "execution_count": 13,
   "metadata": {},
   "outputs": [
    {
     "name": "stdout",
     "output_type": "stream",
     "text": [
      "{kf_G6PDH2r_5, kf_G6PDH2r_7, kf_G6PDH2r_4, kf_G6PDH2r_6, kf_G6PDH2r_3}\n"
     ]
    }
   ],
   "source": [
    "# Substitute values into equations\n",
    "enzyme_solutions = {\n",
    "    enzyme_module_species: sym.simplify(solution.subs(numerical_values))\n",
    "    for enzyme_module_species, solution in enzyme_solutions.items()}\n",
    "\n",
    "args = set()\n",
    "for sol in enzyme_solutions.values():\n",
    "    args.update(sol.atoms(sym.Symbol))\n",
    "print(args)"
   ]
  },
  {
   "cell_type": "markdown",
   "metadata": {},
   "source": [
    "### Determine rate constants\n",
    "#### Total Enzyme Concentration and $r_{T}$ \n",
    "After solving for the enzyme forms, the next step is to define equations for the total enzyme concentration and for the fraction of the enzyme in the T state. These two equations can be used as constraints for determining the rate parameters. To view the equation for the total enzyme concentration, we can use the <font color=#4682B4>EnzymeModule</font><font color=1E90FF>.enzyme_concentration_total_equation</font> property."
   ]
  },
  {
   "cell_type": "code",
   "execution_count": 14,
   "metadata": {
    "scrolled": true
   },
   "outputs": [
    {
     "name": "stdout",
     "output_type": "stream",
     "text": [
      "G6PDH2r_Total = g6pdh2r_A_CI_c(t) + g6pdh2r_GN_P_c(t) + g6pdh2r_GN_c(t) + g6pd\n",
      "h2r_G_P_c(t) + g6pdh2r_G_c(t) + g6pdh2r_N_PI_c(t) + g6pdh2r_c(t)\n"
     ]
    }
   ],
   "source": [
    "sym.pprint(G6PDH2r.enzyme_concentration_total_equation)"
   ]
  },
  {
   "cell_type": "markdown",
   "metadata": {},
   "source": [
    "The total concentration of G6PDH2r is 1 \\\\(\\mu\\\\) M (=0.001 mM). The <font color=#4682B4>EnzymeModule</font><font color=1E90FF>.enzyme_concentration_total</font> atrribute can be used to set and store this concentration."
   ]
  },
  {
   "cell_type": "code",
   "execution_count": 15,
   "metadata": {},
   "outputs": [
    {
     "name": "stdout",
     "output_type": "stream",
     "text": [
      "0.001\n"
     ]
    }
   ],
   "source": [
    "G6PDH2r.enzyme_concentration_total = 1e-3\n",
    "print(G6PDH2r.enzyme_concentration_total)"
   ]
  },
  {
   "cell_type": "markdown",
   "metadata": {},
   "source": [
    "To determine the rate constants, an optimization problem where the objective function is to minimize the error between the measured and calculated total enzyme concentrations. To create the objective function, the <font color=#4682B4>EnzymeModule</font><font color=#00008B>.enzyme_concentration_total_error</font> method with the <font color=#B22222>use_values</font> argument set as False to get the symbolic expression of the constraint. "
   ]
  },
  {
   "cell_type": "code",
   "execution_count": 16,
   "metadata": {},
   "outputs": [
    {
     "name": "stdout",
     "output_type": "stream",
     "text": [
      "│-G6PDH2r_Total + g6pdh2r_A_CI_c + g6pdh2r_GN_P_c + g6pdh2r_GN_c + g6pdh2r_G_P\n",
      "_c + g6pdh2r_G_c + g6pdh2r_N_PI_c + g6pdh2r_c│\n"
     ]
    }
   ],
   "source": [
    "enzyme_total_constraint = abs(strip_time(G6PDH2r.enzyme_concentration_total_error(use_values=False)))\n",
    "sym.pprint(enzyme_total_constraint)"
   ]
  },
  {
   "cell_type": "markdown",
   "metadata": {},
   "source": [
    "Substitute the solutions for the enzyme forms to get an equation for the error in the enzyme total concentration in terms of the rate constants."
   ]
  },
  {
   "cell_type": "code",
   "execution_count": 17,
   "metadata": {},
   "outputs": [
    {
     "name": "stdout",
     "output_type": "stream",
     "text": [
      "│         473.104442282954   0.694171212862668   24889.181172787   4.560139600\n",
      "│-0.001 + ──────────────── + ───────────────── + ─────────────── + ───────────\n",
      "│           kf_G6PDH2r_7        kf_G6PDH2r_6       kf_G6PDH2r_5      kf_G6PDH2\n",
      "\n",
      "60575   176.58652721002│\n",
      "───── + ───────────────│\n",
      "r_4       kf_G6PDH2r_3 │\n"
     ]
    }
   ],
   "source": [
    "# Substitute value for enzyme concentration total\n",
    "enzyme_total_constraint = enzyme_total_constraint.subs({G6PDH2r.enzyme_total_symbol: G6PDH2r.enzyme_concentration_total})\n",
    "# Substitute solutions into constraint and simplify\n",
    "enzyme_total_constraint = sym.simplify(enzyme_total_constraint.subs(enzyme_solutions))\n",
    "sym.pprint(enzyme_total_constraint)"
   ]
  },
  {
   "cell_type": "markdown",
   "metadata": {},
   "source": [
    "To create the objective function in a format suitable for the minimization method from the <b>scipy</b><font color=#800080>.optimize</font> submodule, the <b>sympy</b><font color=#8B008B>.lambdify</font> function can be used to convert the symbolic expression into a lambda function with the rate constants as the arguments. This lambda function can then be used to generate the objective function for the <font color=#800080>optimize</font><font color=#8B008B>.minimize</font> method."
   ]
  },
  {
   "cell_type": "code",
   "execution_count": 18,
   "metadata": {},
   "outputs": [],
   "source": [
    "# Create a sorted tuple of the arguments to ensure the input format does not change\n",
    "args = tuple(sorted([str(arg) for arg in list(args)]))\n",
    "# Create the objective function as a lambda function\n",
    "objective_function = lambda x: sym.lambdify(args, enzyme_total_constraint)(*x)"
   ]
  },
  {
   "cell_type": "markdown",
   "metadata": {},
   "source": [
    "Lastly, we place lower and upper bounds on the rate constants to ensure that the values are non-negative and are within physiological limits, and then we solve the optmization problem. Once the optimization has finished, we check whether it was successful, and if so, what the optimality and errors are associated with this particular solution instance."
   ]
  },
  {
   "cell_type": "code",
   "execution_count": 19,
   "metadata": {
    "scrolled": false
   },
   "outputs": [
    {
     "name": "stdout",
     "output_type": "stream",
     "text": [
      "Ordered Args: ('kf_G6PDH2r_3', 'kf_G6PDH2r_4', 'kf_G6PDH2r_5', 'kf_G6PDH2r_6', 'kf_G6PDH2r_7')\n",
      "\n"
     ]
    },
    {
     "name": "stdout",
     "output_type": "stream",
     "text": [
      "`xtol` termination condition is satisfied.\n",
      "Number of iterations: 128, function evaluations: 636, CG iterations: 327, optimality: 4.06e-11, constraint violation: 0.00e+00, execution time:  2.5 s.\n",
      "\n",
      "Optimization Success: True\n",
      "Optimization Optimality: 4.0607e-11\n",
      "Parameter Solutions: {'kf_G6PDH2r_3': 2246662.0, 'kf_G6PDH2r_4': 671430.0, 'kf_G6PDH2r_5': 32233627.0, 'kf_G6PDH2r_6': 181563.0, 'kf_G6PDH2r_7': 3412567.0}\n",
      "Optimization Error: 8.9974e-12\n",
      "Enzyme T-fraction: 0.9275\n"
     ]
    },
    {
     "name": "stderr",
     "output_type": "stream",
     "text": [
      "/Users/zhaiman/miniconda3/envs/masspy-dev/lib/python3.7/site-packages/scipy/optimize/_hessian_update_strategy.py:187 \u001b[1;31mUserWarning\u001b[0m: delta_grad == 0.0. Check if the approximated function is linear. If the function is linear better results can be obtained by defining the Hessian as zero instead of using quasi-Newton approximations.\n"
     ]
    }
   ],
   "source": [
    "r_T_expr = G6PDH2r.make_enzyme_fraction(\"species\", top=\"Inhibited\", bottom=\"Equation\")\n",
    "r_T_expr = sym.simplify(strip_time(r_T_expr).subs(enzyme_solutions))\n",
    "\n",
    "print(\"Ordered Args: {0}\\n\".format(str(args)))\n",
    "# Set arguments for minimization \n",
    "initial_guess = [1e4, 1e4, 1e4, 1e4, 1e4]\n",
    "kf_bounds = ((1e3, 1e9), (1e3, 1e9), (1e3, 1e9), (1e3, 1e9), (1e3, 1e9))\n",
    "\n",
    "# Find a feasible solution\n",
    "sol = optimize.minimize(\n",
    "    objective_function, x0=initial_guess, method=\"trust-constr\", bounds=kf_bounds,\n",
    "    options={\"gtol\": 1e-12, \"xtol\": 1e-12, \"maxiter\": 1e4, \"disp\": True})\n",
    "\n",
    "# Check whether optimzation was successful\n",
    "print(\"\\nOptimization Success: {0}\".format(sol.success))\n",
    "if sol.success:\n",
    "    # Update the paramter values dictionary with the feasible solution\n",
    "    parameter_values = dict(zip(args, [round(x) for x in sol.x]))\n",
    "    print(\"Optimization Optimality: {0:.4e}\".format(sol.optimality))\n",
    "    print(\"Parameter Solutions: {:}\".format(str({arg: parameter_values[arg] for arg in args})))\n",
    "    # Plug solutions back into constraints for validation\n",
    "    print(\"Optimization Error: {0:.4e}\".format(enzyme_total_constraint.subs(parameter_values)))\n",
    "    print(\"Enzyme T-fraction: {:.4f}\".format(r_T_expr.subs(parameter_values)))"
   ]
  },
  {
   "cell_type": "markdown",
   "metadata": {},
   "source": [
    "With a successful optimization, the module is updated with the parameter values.  The inhibition and activation reactions are set to have a high forward rate constant and the allosteric transition even higher, limiting the amount of unbound enzyme and ensuring that the dynamics are determined by the dissociation and allosteric constants. \n",
    "\n",
    "__Note:__ This assumption for the rate constants can be made because none of the enzyme concentrations are dependendent on the activation, inhibition, and allosteric rate constants."
   ]
  },
  {
   "cell_type": "code",
   "execution_count": 20,
   "metadata": {},
   "outputs": [
    {
     "name": "stdout",
     "output_type": "stream",
     "text": [
      "kf_G6PDH2r_3 = 2246662.0\n",
      "kf_G6PDH2r_4 = 671430.0\n",
      "kf_G6PDH2r_5 = 32233627.0\n",
      "kf_G6PDH2r_6 = 181563.0\n",
      "kf_G6PDH2r_7 = 3412567.0\n",
      "kf_G6PDH2r_1 = 1000000.0\n",
      "kf_G6PDH2r_2 = 1000000.0\n"
     ]
    }
   ],
   "source": [
    "# Add the inhibition rate constants\n",
    "parameter_values.update({\"kf_\" + rxn: 1e6 for rxn in [\"G6PDH2r_1\", \"G6PDH2r_2\"]})\n",
    "# Display numerical values\n",
    "for k, v in parameter_values.items():\n",
    "    print(\"{0} = {1}\".format(k, v))"
   ]
  },
  {
   "cell_type": "markdown",
   "metadata": {},
   "source": [
    "### Solve steady state concentrations numerically\n",
    "Once the rate constants have been defined, the steady state concentrations of the enzyme can be determined."
   ]
  },
  {
   "cell_type": "code",
   "execution_count": 21,
   "metadata": {},
   "outputs": [
    {
     "name": "stdout",
     "output_type": "stream",
     "text": [
      "Ligand Concentrations\n",
      "---------------------\n",
      "g6p_c = 0.048600000000718034\n",
      "_6pgl_c = 0.0017542400034099464\n",
      "nadp_c = 0.0002000000000045456\n",
      "nadph_c = 0.06579999999999545\n",
      "atp_c = 1.5999999999999996\n",
      "h_c = 8.99757e-05\n",
      "\n",
      "Enzyme Concentrations\n",
      "----------------------\n",
      "g6pdh2r_c = 2.3718133e-05\n",
      "g6pdh2r_G_c = 3.9230714e-05\n",
      "g6pdh2r_GN_c = 7.0064e-08\n",
      "g6pdh2r_GN_P_c = 8.331401e-06\n",
      "g6pdh2r_G_P_c = 1.144911e-06\n",
      "g6pdh2r_N_PI_c = 6.5027215e-05\n",
      "g6pdh2r_A_CI_c = 0.000862477572\n"
     ]
    }
   ],
   "source": [
    "# Substitute values into equations\n",
    "initial_conditions.update({\n",
    "    str(enzyme_module_species): round(float(sym.simplify(solution.subs(parameter_values))), 12)\n",
    "    for enzyme_module_species, solution in enzyme_solutions.items()})\n",
    "\n",
    "for header, dictlist in zip([\"Ligand\", \"\\nEnzyme\"], [G6PDH2r.enzyme_module_ligands, G6PDH2r.enzyme_module_species]):\n",
    "    header += \" Concentrations\"\n",
    "    print(\"\\n\".join([header, \"-\" * len(header)]))\n",
    "    for species in dictlist:\n",
    "        ic = initial_conditions[species.id]\n",
    "        print(\"{0} = {1}\".format(species.id, ic))"
   ]
  },
  {
   "cell_type": "markdown",
   "metadata": {},
   "source": [
    "#### Set Initial Conditions and Parameters\n",
    "Once the steady state concentrations have been determined, the initial conditions and parameters are added to the module. All custom parameter are added to the custom_parameter attribute. The allosteric transition uses the standard parameter identifiers (returned by <font color=1E90FF>kf_str</font> and <font color=1E90FF>Keq_str</font> properties of the <font color=#4682B4>EnzymeModuleReaction</font>), so they are popped out of the custom parameters and set through their respective attribute setter methods. "
   ]
  },
  {
   "cell_type": "code",
   "execution_count": 22,
   "metadata": {},
   "outputs": [],
   "source": [
    "# Set initial conditions\n",
    "for met, concentration in initial_conditions.items():\n",
    "    G6PDH2r.metabolites.get_by_id(str(met)).ic = concentration\n",
    "\n",
    "# Assign parameter values for reactions that do not use custom parameters\n",
    "for reaction in G6PDH2r.reactions:\n",
    "    reaction.kf = parameter_values[reaction.kf_str]"
   ]
  },
  {
   "cell_type": "markdown",
   "metadata": {},
   "source": [
    "#### Ordering of internal species and reactions\n",
    "\n",
    "Sometimes, it is also desirable to reorder the metabolite and reaction objects inside the model to follow the physiology. To reorder the internal species, one can use <font color=#008000>cobra</font><font color=#556B2F>.DictLists</font> and the <font color=#556B2F>DictList</font><font color=#006400>.get_by_any</font> with the list of metabolite identifiers in the desirable order. To ensure all metabolites and reactions are still present and not forgotten in the model, a small QA check is also performed. "
   ]
  },
  {
   "cell_type": "code",
   "execution_count": 23,
   "metadata": {},
   "outputs": [
    {
     "data": {
      "text/html": [
       "<div>\n",
       "<style scoped>\n",
       "    .dataframe tbody tr th:only-of-type {\n",
       "        vertical-align: middle;\n",
       "    }\n",
       "\n",
       "    .dataframe tbody tr th {\n",
       "        vertical-align: top;\n",
       "    }\n",
       "\n",
       "    .dataframe thead th {\n",
       "        text-align: right;\n",
       "    }\n",
       "</style>\n",
       "<table border=\"1\" class=\"dataframe\">\n",
       "  <thead>\n",
       "    <tr style=\"text-align: right;\">\n",
       "      <th></th>\n",
       "      <th>G6PDH2r_1</th>\n",
       "      <th>G6PDH2r_2</th>\n",
       "      <th>G6PDH2r_3</th>\n",
       "      <th>G6PDH2r_4</th>\n",
       "      <th>G6PDH2r_5</th>\n",
       "      <th>G6PDH2r_6</th>\n",
       "      <th>G6PDH2r_7</th>\n",
       "    </tr>\n",
       "  </thead>\n",
       "  <tbody>\n",
       "    <tr>\n",
       "      <th>g6p_c</th>\n",
       "      <td>0</td>\n",
       "      <td>0</td>\n",
       "      <td>-1</td>\n",
       "      <td>0</td>\n",
       "      <td>0</td>\n",
       "      <td>0</td>\n",
       "      <td>0</td>\n",
       "    </tr>\n",
       "    <tr>\n",
       "      <th>_6pgl_c</th>\n",
       "      <td>0</td>\n",
       "      <td>0</td>\n",
       "      <td>0</td>\n",
       "      <td>1</td>\n",
       "      <td>0</td>\n",
       "      <td>0</td>\n",
       "      <td>0</td>\n",
       "    </tr>\n",
       "    <tr>\n",
       "      <th>atp_c</th>\n",
       "      <td>0</td>\n",
       "      <td>-1</td>\n",
       "      <td>0</td>\n",
       "      <td>0</td>\n",
       "      <td>0</td>\n",
       "      <td>0</td>\n",
       "      <td>0</td>\n",
       "    </tr>\n",
       "    <tr>\n",
       "      <th>nadp_c</th>\n",
       "      <td>0</td>\n",
       "      <td>0</td>\n",
       "      <td>0</td>\n",
       "      <td>0</td>\n",
       "      <td>-1</td>\n",
       "      <td>0</td>\n",
       "      <td>0</td>\n",
       "    </tr>\n",
       "    <tr>\n",
       "      <th>nadph_c</th>\n",
       "      <td>-1</td>\n",
       "      <td>0</td>\n",
       "      <td>0</td>\n",
       "      <td>0</td>\n",
       "      <td>0</td>\n",
       "      <td>1</td>\n",
       "      <td>0</td>\n",
       "    </tr>\n",
       "    <tr>\n",
       "      <th>h_c</th>\n",
       "      <td>0</td>\n",
       "      <td>0</td>\n",
       "      <td>0</td>\n",
       "      <td>0</td>\n",
       "      <td>0</td>\n",
       "      <td>0</td>\n",
       "      <td>1</td>\n",
       "    </tr>\n",
       "    <tr>\n",
       "      <th>g6pdh2r_c</th>\n",
       "      <td>-1</td>\n",
       "      <td>-1</td>\n",
       "      <td>-1</td>\n",
       "      <td>1</td>\n",
       "      <td>0</td>\n",
       "      <td>0</td>\n",
       "      <td>0</td>\n",
       "    </tr>\n",
       "    <tr>\n",
       "      <th>g6pdh2r_G_c</th>\n",
       "      <td>0</td>\n",
       "      <td>0</td>\n",
       "      <td>1</td>\n",
       "      <td>0</td>\n",
       "      <td>-1</td>\n",
       "      <td>0</td>\n",
       "      <td>0</td>\n",
       "    </tr>\n",
       "    <tr>\n",
       "      <th>g6pdh2r_GN_c</th>\n",
       "      <td>0</td>\n",
       "      <td>0</td>\n",
       "      <td>0</td>\n",
       "      <td>0</td>\n",
       "      <td>1</td>\n",
       "      <td>0</td>\n",
       "      <td>-1</td>\n",
       "    </tr>\n",
       "    <tr>\n",
       "      <th>g6pdh2r_GN_P_c</th>\n",
       "      <td>0</td>\n",
       "      <td>0</td>\n",
       "      <td>0</td>\n",
       "      <td>0</td>\n",
       "      <td>0</td>\n",
       "      <td>-1</td>\n",
       "      <td>1</td>\n",
       "    </tr>\n",
       "    <tr>\n",
       "      <th>g6pdh2r_G_P_c</th>\n",
       "      <td>0</td>\n",
       "      <td>0</td>\n",
       "      <td>0</td>\n",
       "      <td>-1</td>\n",
       "      <td>0</td>\n",
       "      <td>1</td>\n",
       "      <td>0</td>\n",
       "    </tr>\n",
       "    <tr>\n",
       "      <th>g6pdh2r_A_CI_c</th>\n",
       "      <td>0</td>\n",
       "      <td>1</td>\n",
       "      <td>0</td>\n",
       "      <td>0</td>\n",
       "      <td>0</td>\n",
       "      <td>0</td>\n",
       "      <td>0</td>\n",
       "    </tr>\n",
       "    <tr>\n",
       "      <th>g6pdh2r_N_PI_c</th>\n",
       "      <td>1</td>\n",
       "      <td>0</td>\n",
       "      <td>0</td>\n",
       "      <td>0</td>\n",
       "      <td>0</td>\n",
       "      <td>0</td>\n",
       "      <td>0</td>\n",
       "    </tr>\n",
       "  </tbody>\n",
       "</table>\n",
       "</div>"
      ],
      "text/plain": [
       "                G6PDH2r_1  G6PDH2r_2  G6PDH2r_3  G6PDH2r_4  G6PDH2r_5  \\\n",
       "g6p_c                   0          0         -1          0          0   \n",
       "_6pgl_c                 0          0          0          1          0   \n",
       "atp_c                   0         -1          0          0          0   \n",
       "nadp_c                  0          0          0          0         -1   \n",
       "nadph_c                -1          0          0          0          0   \n",
       "h_c                     0          0          0          0          0   \n",
       "g6pdh2r_c              -1         -1         -1          1          0   \n",
       "g6pdh2r_G_c             0          0          1          0         -1   \n",
       "g6pdh2r_GN_c            0          0          0          0          1   \n",
       "g6pdh2r_GN_P_c          0          0          0          0          0   \n",
       "g6pdh2r_G_P_c           0          0          0         -1          0   \n",
       "g6pdh2r_A_CI_c          0          1          0          0          0   \n",
       "g6pdh2r_N_PI_c          1          0          0          0          0   \n",
       "\n",
       "                G6PDH2r_6  G6PDH2r_7  \n",
       "g6p_c                   0          0  \n",
       "_6pgl_c                 0          0  \n",
       "atp_c                   0          0  \n",
       "nadp_c                  0          0  \n",
       "nadph_c                 1          0  \n",
       "h_c                     0          1  \n",
       "g6pdh2r_c               0          0  \n",
       "g6pdh2r_G_c             0          0  \n",
       "g6pdh2r_GN_c            0         -1  \n",
       "g6pdh2r_GN_P_c         -1          1  \n",
       "g6pdh2r_G_P_c           1          0  \n",
       "g6pdh2r_A_CI_c          0          0  \n",
       "g6pdh2r_N_PI_c          0          0  "
      ]
     },
     "execution_count": 23,
     "metadata": {},
     "output_type": "execute_result"
    }
   ],
   "source": [
    "new_metabolite_order = [\n",
    "    \"g6p_c\",\"_6pgl_c\", \"atp_c\", \"nadp_c\", \"nadph_c\", \"h_c\", \n",
    "    \"g6pdh2r_c\", \"g6pdh2r_G_c\", \"g6pdh2r_GN_c\",\n",
    "    \"g6pdh2r_GN_P_c\", \"g6pdh2r_G_P_c\", \n",
    "    \"g6pdh2r_A_CI_c\", \"g6pdh2r_N_PI_c\"]\n",
    "\n",
    "if len(G6PDH2r.metabolites) == len(new_metabolite_order):\n",
    "    G6PDH2r.metabolites = DictList(\n",
    "        G6PDH2r.metabolites.get_by_any(new_metabolite_order))\n",
    "    \n",
    "new_reaction_order = [\n",
    "    \"G6PDH2r_1\", \"G6PDH2r_2\", \"G6PDH2r_3\", \"G6PDH2r_4\", \n",
    "    \"G6PDH2r_5\", \"G6PDH2r_6\", \"G6PDH2r_7\"]\n",
    "\n",
    "if len(G6PDH2r.reactions) == len(new_reaction_order):\n",
    "    G6PDH2r.reactions = DictList(\n",
    "        G6PDH2r.reactions.get_by_any(new_reaction_order))\n",
    "    \n",
    "G6PDH2r.update_S(matrix_type=\"DataFrame\", dtype=int)"
   ]
  },
  {
   "cell_type": "markdown",
   "metadata": {},
   "source": [
    "## Module Validation \n",
    "### QC/QA model\n",
    "Before saving the module, it is important to ensure that the module is elementally balanced, and that the module can be integrated into a larger network for simulation. Therefore, the <font color=#00008B>qcqa_model</font> function from <font color=#0000FF>mass.util.qcqa</font></td> is used to provide a report on the module quality and and indicate whether simulation is possible and if not, what parameters and/or initial conditions are missing. "
   ]
  },
  {
   "cell_type": "code",
   "execution_count": 24,
   "metadata": {},
   "outputs": [
    {
     "name": "stdout",
     "output_type": "stream",
     "text": [
      "╒════════════════════════════════╕\n",
      "│ MODEL ID: G6PDH2r              │\n",
      "│ SIMULATABLE: True;             │\n",
      "│ NUMERICALLY CONSISTENT: True   │\n",
      "╞════════════════════════════════╡\n",
      "╘════════════════════════════════╛\n"
     ]
    }
   ],
   "source": [
    "qcqa_model(G6PDH2r, parameters=True, concentrations=True, \n",
    "           fluxes=False, superfluous=True, elemental=True)"
   ]
  },
  {
   "cell_type": "markdown",
   "metadata": {},
   "source": [
    "### Constraint Satisfaction and Error Values\n",
    "Another QA check we perform is to substitute the steady state numerical values back into the constraints used in determining the rate constants in order to ensure that the constraints remain satisified, and that errors are small. "
   ]
  },
  {
   "cell_type": "code",
   "execution_count": 25,
   "metadata": {},
   "outputs": [
    {
     "name": "stdout",
     "output_type": "stream",
     "text": [
      "Concentration Absolute Error: 1.0000e-11\n",
      "Flux Absolute Error: 1.5667e-06\n"
     ]
    }
   ],
   "source": [
    "print(\"Concentration Absolute Error: {0:.4e}\".format(\n",
    "    abs(G6PDH2r.enzyme_concentration_total_error(use_values=True))))\n",
    "print(\"Flux Absolute Error: {0:.4e}\".format(\n",
    "    abs(G6PDH2r.enzyme_net_flux_error(use_values=True))))"
   ]
  },
  {
   "cell_type": "markdown",
   "metadata": {},
   "source": [
    "### Add Enzyme to MassModel\n",
    "In order to determine whether the module can be successfully integrated into a model, another model can be loaded, merged with the module, and simulated. To validate this module, it will be merged with a glycolysis model and a pentose phosphate pathway model \n",
    "\n",
    "To integrate the <font color=#4682B4>EnzymeModule</font> into the <font color=#4682B4>MassModel</font>, the reaction that the EnzymeModule will be replacing is first removed. The <font color=#4682B4>MassModel</font><font color=#00008B>.merge</font> method can then be utilized to add the <font color=#4682B4>EnzymeModule</font> to the <font color=#4682B4>MassModel</font>. \n",
    "\n",
    "When merging an <font color=#4682B4>EnzymeModule</font> and a <font color=#4682B4>MassModel</font>, the <font color=#4682B4>EnzymeModule</font> should always be merged into the <font color=#4682B4>MassModel</font>."
   ]
  },
  {
   "cell_type": "code",
   "execution_count": 26,
   "metadata": {},
   "outputs": [
    {
     "name": "stderr",
     "output_type": "stream",
     "text": [
      "mass_model WARNING: Ignoring reaction 'SK_h_c' since it already exists.\n"
     ]
    },
    {
     "name": "stderr",
     "output_type": "stream",
     "text": [
      "mass_model WARNING: Ignoring reaction 'SK_h2o_c' since it already exists.\n"
     ]
    },
    {
     "data": {
      "text/html": [
       "\n",
       "            <table>\n",
       "                <tr>\n",
       "                    <td><strong>Name</strong></td><td>Glycolysis_PentosePhosphatePathway_G6PDH2r</td>\n",
       "                </tr><tr>\n",
       "                    <td><strong>Memory address</strong></td><td>0x0127375d68</td>\n",
       "                </tr><tr>\n",
       "                    <td><strong>Stoichiometric Matrix</strong></td>\n",
       "                    <td>39x43</td>\n",
       "                </tr><tr>\n",
       "                    <td><strong>Matrix Rank</strong></td>\n",
       "                    <td>35</td>\n",
       "                </tr><tr>\n",
       "                    <td><strong>Number of metabolites</strong></td>\n",
       "                    <td>39</td>\n",
       "                </tr><tr>\n",
       "                    <td><strong>Initial conditions defined</strong></td>\n",
       "                    <td>39/39</td>\n",
       "                </tr><tr>\n",
       "                    <td><strong>Number of reactions</strong></td>\n",
       "                    <td>43</td>\n",
       "                </tr><tr>\n",
       "                    <td><strong>Number of Genes</strong></td>\n",
       "                    <td>0</td>\n",
       "                </tr><tr>\n",
       "                    <td><strong>Number of Enzyme Modules</strong></td>\n",
       "                    <td>1</td>\n",
       "                </tr><tr>\n",
       "                    <td><strong>Compartments</strong></td>\n",
       "                    <td>Cytosol</td>\n",
       "                </tr>\n",
       "            </table>\n",
       "        "
      ],
      "text/plain": [
       "<MassModel Glycolysis_PentosePhosphatePathway_G6PDH2r at 0x127375d68>"
      ]
     },
     "execution_count": 26,
     "metadata": {},
     "output_type": "execute_result"
    }
   ],
   "source": [
    "# Load and merge glycolysis and hemoglobin models\n",
    "glycolysis = json.load_json_model(path.realpath(path.join(\"models\", \"Glycolysis.json\")))\n",
    "ppp = json.load_json_model(path.realpath(path.join(\"models\", \"PentosePhosphatePathway.json\")))\n",
    "fullppp = glycolysis.merge(ppp)\n",
    "\n",
    "# Remove the G6PDH2r MassReaction, then merge the EnzymeModule into the MassModel\n",
    "fullppp.remove_reactions(fullppp.reactions.get_by_id(\"G6PDH2r\"))\n",
    "fullppp_G6PDH2r = fullppp.merge(G6PDH2r)\n",
    "fullppp_G6PDH2r"
   ]
  },
  {
   "cell_type": "markdown",
   "metadata": {},
   "source": [
    "Using <font color=#4682B4>MassModel</font><font color=#00008B>.merge</font> class method enables the <font color=#4682B4>EnzymeModule</font> and <font color=#4682B4>MassModel</font> to be merged like as if they were both <font color=#4682B4>MassModel</font> objects. However, all attributes specific to the <font color=#4682B4>EnzymeModule</font> (e.g the categorized dictionary attributes) are condensed into a speciailzed container called an <font color=#4682B4>EnzymeModuleDict</font>.\n",
    "\n",
    "The <font color=#4682B4>EnzymeModuleDict</font> behaves like an ordered dictionary, but is unique in that its contents can be accessed as if they were attributes. These attributes can be viewed using <font color=#4682B4>EnzymeModuleDict</font><font color=#00008B>.keys</font> method.\n",
    "\n",
    "All <font color=#4682B4>EnzymeModuleDicts</font> associated with a MassModel can be accessed via <font color=#4682B4>MassModel</font><font color=1E90FF>.enzyme_modules</font> attribute."
   ]
  },
  {
   "cell_type": "code",
   "execution_count": 27,
   "metadata": {},
   "outputs": [
    {
     "name": "stdout",
     "output_type": "stream",
     "text": [
      "[<EnzymeModuleDict G6PDH2r at 0x124fd8f28>]\n",
      "\n",
      "Attribute Accessors:\n",
      "-------------------\n",
      "id\n",
      "name\n",
      "subsystem\n",
      "enzyme_module_ligands\n",
      "enzyme_module_species\n",
      "enzyme_module_reactions\n",
      "enzyme_module_ligands_categorized\n",
      "enzyme_module_species_categorized\n",
      "enzyme_module_reactions_categorized\n",
      "enzyme_concentration_total\n",
      "enzyme_net_flux\n",
      "enzyme_concentration_total_equation\n",
      "enzyme_net_flux_equation\n",
      "description\n",
      "S\n",
      "model\n",
      "\n"
     ]
    },
    {
     "data": {
      "text/html": [
       "\n",
       "            <table>\n",
       "                <tr>\n",
       "                    <td><strong>Name</strong></td><td>G6PDH2r</td>\n",
       "                </tr><tr>\n",
       "                    <td><strong>Memory address</strong></td><td>0x0124fd8f28</td>\n",
       "                </tr><tr>\n",
       "                    <td><strong>Stoichiometric Matrix</strong></td>\n",
       "                    <td>13x7</td>\n",
       "                </tr><tr>\n",
       "                    <td><strong>Matrix Rank</strong></td>\n",
       "                    <td>7</td>\n",
       "                </tr><tr>\n",
       "                    <td><strong>Subsystem</strong></td>\n",
       "                    <td>PentosePhosphatePathway</td>\n",
       "                </tr><tr>\n",
       "                    <td><strong>Number of Ligands</strong></td>\n",
       "                    <td>6</td>\n",
       "                </tr><tr>\n",
       "                    <td><strong>Number of EnzymeForms</strong></td>\n",
       "                    <td>7</td>\n",
       "                </tr><tr>\n",
       "                    <td><strong>Number of EnzymeModuleReactions</strong></td>\n",
       "                    <td>7</td>\n",
       "                </tr><tr>\n",
       "                    <td><strong>Enzyme Concentration Total</strong></td>\n",
       "                    <td>0.001</td>\n",
       "                </tr><tr>\n",
       "                    <td><strong>Enzyme Net Flux</strong></td>\n",
       "                    <td>0.20999999999999638</td>\n",
       "                </tr>\n",
       "            </table>\n",
       "        "
      ],
      "text/plain": [
       "<EnzymeModuleDict G6PDH2r at 0x124fd8f28>"
      ]
     },
     "execution_count": 27,
     "metadata": {},
     "output_type": "execute_result"
    }
   ],
   "source": [
    "print(str(fullppp_G6PDH2r.enzyme_modules) + \"\\n\")\n",
    "print(\"Attribute Accessors:\\n-------------------\\n\" + \"\\n\".join(list(\n",
    "    fullppp_G6PDH2r.enzyme_modules.G6PDH2r.keys())) + \"\\n\")\n",
    "fullppp_G6PDH2r.enzyme_modules.G6PDH2r"
   ]
  },
  {
   "cell_type": "markdown",
   "metadata": {},
   "source": [
    "### Validate Steady State\n",
    "\n",
    "To find the steady state of the model and perform simulations, the model must first be loaded into a <font color=#4682B4>Simulation</font>. In order to load a model into a <font color=#4682B4>Simulation</font>, the model must be simulatable, meaning there are no missing numerical values that would prevent the integration of the ODEs that comprise the model. The <font color=#B22222>verbose</font> argument can be used while loading a model to produce a message indicating the successful loading of a model, or why a model could not load.\n",
    "\n",
    "Once loaded into a <font color=#4682B4>Simulation</font>, the <font color=#00008B>find_steady_state</font> method can be used with the <font color=#B22222>update_values</font> argument in order to update the initial conditions and fluxes of the model to a steady state. The model can then be simulated using the <font color=#00008B>simulate</font> method by passing the model to simulate, and a tuple containing the start time and the end time. The number of time points can also be included, but is optional.\n",
    "\n",
    "After a successful simulation, two <font color=#008000>cobra</font><font color=#556B2F>.DictLists</font> are returned. The first <font color=#556B2F>DictList</font> holds a <font color=#4682B4>MassSolution</font> that contains the concentration results of the simulation, and the second <font color=#556B2F>DictList</font> hold a <font color=#4682B4>MassSolution</font> that contains the flux results of the simulation. Note that there will always be two <font color=#4682B4>MassSolutions</font> generated per model simulated.\n",
    "\n",
    "To visually validate the steady state of the model, concentration and flux solutions can be plotted using the <font color=#00008B>plot_time_profile</font> function from <font color=#0000FF>mass.visualization</font></td>. Alternatively, the <font color=#4682B4>MassSolution</font><font color=#1E90FF>.view_time_profile</font> property can be used to quickly generate a time profile for the results."
   ]
  },
  {
   "cell_type": "code",
   "execution_count": 28,
   "metadata": {
    "scrolled": false
   },
   "outputs": [
    {
     "name": "stderr",
     "output_type": "stream",
     "text": [
      "\u001b[34m'roadrunner Notice: Successfully loaded Model 'Glycolysis_PentosePhosphatePathway_G6PDH2r' into RoadRunner.'\u001b[0m\n"
     ]
    },
    {
     "name": "stderr",
     "output_type": "stream",
     "text": [
      "\u001b[1m\u001b[33m'roadrunner Warning: Conserved Moiety Analysis is not enabled, steady state may fail with singular Jacobian'\u001b[0m\n"
     ]
    },
    {
     "name": "stderr",
     "output_type": "stream",
     "text": [
      "\u001b[1m\u001b[33m'roadrunner Warning: Conserved Moiety Analysis may be enabled via the conservedMoeityAnalysis property or via the configuration file or the Config class setValue, see roadrunner documentation'\u001b[0m\n"
     ]
    },
    {
     "name": "stderr",
     "output_type": "stream",
     "text": [
      "\u001b[1m\u001b[33m'roadrunner Warning: to remove this warning, set ROADRUNNER_DISABLE_WARNINGS to 1 or 3 in the config file'\u001b[0m\n"
     ]
    },
    {
     "name": "stderr",
     "output_type": "stream",
     "text": [
      "\u001b[35m'roadrunner Error: Error :Maximum iterations exceeded'\u001b[0m\n"
     ]
    },
    {
     "name": "stderr",
     "output_type": "stream",
     "text": [
      "\u001b[1m\u001b[33m'roadrunner Warning: Steady state solver failed. However, RoadRunner approximated the solution successfully.'\u001b[0m\n"
     ]
    },
    {
     "name": "stderr",
     "output_type": "stream",
     "text": [
      "\u001b[1m\u001b[33m'roadrunner Warning: Conserved Moiety Analysis is not enabled, steady state may fail with singular Jacobian'\u001b[0m\n"
     ]
    },
    {
     "name": "stderr",
     "output_type": "stream",
     "text": [
      "\u001b[1m\u001b[33m'roadrunner Warning: Conserved Moiety Analysis may be enabled via the conservedMoeityAnalysis property or via the configuration file or the Config class setValue, see roadrunner documentation'\u001b[0m\n"
     ]
    },
    {
     "name": "stderr",
     "output_type": "stream",
     "text": [
      "\u001b[1m\u001b[33m'roadrunner Warning: to remove this warning, set ROADRUNNER_DISABLE_WARNINGS to 1 or 3 in the config file'\u001b[0m\n"
     ]
    },
    {
     "name": "stderr",
     "output_type": "stream",
     "text": [
      "\u001b[35m'roadrunner Error: Error :Jacobian matrix singular in NLEQ. Failed to converge to steady state. Check if Jacobian matrix is non-invertible or steady state solution does not exist.'\u001b[0m\n"
     ]
    },
    {
     "name": "stderr",
     "output_type": "stream",
     "text": [
      "\u001b[1m\u001b[33m'roadrunner Warning: Steady state solver failed. However, RoadRunner approximated the solution successfully.'\u001b[0m\n"
     ]
    },
    {
     "data": {
      "image/png": "[encoded data removed]",
      "text/plain": [
       "<Figure size 432x288 with 1 Axes>"
      ]
     },
     "metadata": {
      "needs_background": "light"
     },
     "output_type": "display_data"
    },
    {
     "data": {
      "image/png": "[encoded data removed]",
      "text/plain": [
       "<Figure size 432x288 with 1 Axes>"
      ]
     },
     "metadata": {
      "needs_background": "light"
     },
     "output_type": "display_data"
    }
   ],
   "source": [
    "# Setup simulation object, ensure model is at steady state\n",
    "sim = Simulation(fullppp_G6PDH2r, verbose=True)\n",
    "sim.find_steady_state(fullppp_G6PDH2r, strategy=\"nleq2\", update_values=True)\n",
    "# Simulate from 0 to 1000 with 10001 points in the output\n",
    "conc_sol_list, flux_sol_list = sim.simulate(fullppp_G6PDH2r, time=(0, 1e3, 1e4 + 1))\n",
    "conc_sol, flux_sol = conc_sol_list[0], flux_sol_list[0]\n",
    "# Quickly render and display time profiles \n",
    "for sol in [conc_sol, flux_sol]:\n",
    "    sol.view_time_profile\n",
    "    plt.show()"
   ]
  },
  {
   "cell_type": "markdown",
   "metadata": {},
   "source": [
    "### Storing information and references\n",
    "#### Compartment\n",
    "Because the character \"c\" represents the cytosol compartment, it is recommended to define and set the compartment in the <font color=#4682B4>EnzymeModule</font><font color=#1E90FF>.compartments</font> attribute."
   ]
  },
  {
   "cell_type": "code",
   "execution_count": 29,
   "metadata": {
    "scrolled": true
   },
   "outputs": [
    {
     "name": "stdout",
     "output_type": "stream",
     "text": [
      "{'c': 'Cytosol'}\n"
     ]
    }
   ],
   "source": [
    "G6PDH2r.compartments = {\"c\": \"Cytosol\"}\n",
    "print(G6PDH2r.compartments)"
   ]
  },
  {
   "cell_type": "markdown",
   "metadata": {},
   "source": [
    "#### Units\n",
    "All of the units for the numerical values used in this model are \"Millimoles\" for amount and \"Liters\" for volume (giving a concentration unit of 'Millimolar'), and \"Hours\" for time. In order to ensure that future users understand the numerical values for model, it is important to define the <font color=#4682B4>EnzymeModule</font><font color=#1E90FF>.units</font> attribute.\n",
    "\n",
    "The <font color=#4682B4>EnzymeModule</font><font color=#1E90FF>.units</font> is a <font color=#008000>cobra</font><font color=#556B2F>.DictList</font> that contains only <font color=#4682B4>UnitDefinition</font> objects from the <font color=#0000FF>mass.core.unit</font> submodule. \n",
    "\n",
    "Each <font color=#4682B4>UnitDefinition</font> is created from <font color=#4682B4>Unit</font> objects representing the base units that comprise the <font color=#4682B4>UnitDefinition</font>. These <font color=#4682B4>Units</font> are stored in the <font color=#1E90FF>list_of_units</font> attribute. Pre-built units can be viewed using the <font color=#00008B>print_defined_unit_values</font> function from the <font color=#0000FF>mass.core.unit</font></td> submodule. Alternatively, custom units can also be created using the <font color=#4682B4>UnitDefinition</font><font color=#00008B>.create_unit</font> function.\n",
    "\n",
    "For more information about units, please see the module docstring for <font color=#0000FF>mass.core.unit</font> submodule.\n",
    "\n",
    "__Note:__ It is important to note that this attribute will NOT track units, but instead acts as a reference for the user and others so that they can perform necessary unit conversions."
   ]
  },
  {
   "cell_type": "code",
   "execution_count": 30,
   "metadata": {},
   "outputs": [
    {
     "name": "stdout",
     "output_type": "stream",
     "text": [
      "[<UnitDefinition Millimolar \"mM\" at 0x12cb43d30>, <UnitDefinition hour \"hr\" at 0x12cb430b8>]\n"
     ]
    }
   ],
   "source": [
    "# Using pre-build units to define UnitDefinitions\n",
    "concentration = UnitDefinition(\"mM\", name=\"Millimolar\", list_of_units=[\"millimole\", \"per_litre\"])\n",
    "time = UnitDefinition(\"hr\", name=\"hour\", list_of_units=[\"hour\"])\n",
    "\n",
    "# Add units to model\n",
    "G6PDH2r.add_units([concentration, time])\n",
    "print(G6PDH2r.units)"
   ]
  },
  {
   "cell_type": "markdown",
   "metadata": {},
   "source": [
    "## Export\n",
    "\n",
    "After validation, the model is ready to be saved. The model can either be exported as a \".json\" file or as an \".sbml\" (\".xml\") file using their repsective submodules in <font color=#0000FF>mass.io</font></td>.\n",
    "\n",
    "To export the model, only the path to the directory and the name of the model need to be specified. Both are shown below. "
   ]
  },
  {
   "cell_type": "code",
   "execution_count": 31,
   "metadata": {},
   "outputs": [],
   "source": [
    "filepath = path.realpath(path.join(\"models\", G6PDH2r.id))"
   ]
  },
  {
   "cell_type": "markdown",
   "metadata": {},
   "source": [
    "### Export using JSON"
   ]
  },
  {
   "cell_type": "code",
   "execution_count": 32,
   "metadata": {},
   "outputs": [],
   "source": [
    "json.save_json_model(mass_model=G6PDH2r, filename=filepath + \".json\")"
   ]
  },
  {
   "cell_type": "markdown",
   "metadata": {},
   "source": [
    "### Export using SBML"
   ]
  },
  {
   "cell_type": "code",
   "execution_count": 33,
   "metadata": {},
   "outputs": [],
   "source": [
    "sbml.write_sbml_model(mass_model=G6PDH2r, filename=filepath + \".xml\")"
   ]
  }
 ],
 "metadata": {
  "kernelspec": {
   "display_name": "Python 3",
   "language": "python",
   "name": "python3"
  },
  "language_info": {
   "codemirror_mode": {
    "name": "ipython",
    "version": 3
   },
   "file_extension": ".py",
   "mimetype": "text/x-python",
   "name": "python",
   "nbconvert_exporter": "python",
   "pygments_lexer": "ipython3",
   "version": "3.7.3"
  }
 },
 "nbformat": 4,
 "nbformat_minor": 2
}
