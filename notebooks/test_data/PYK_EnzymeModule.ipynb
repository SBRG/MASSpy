{
 "cells": [
  {
   "cell_type": "markdown",
   "metadata": {},
   "source": [
    "# Pyruvate Kinase (PYK)\n",
    "To construct the pyruvate kinase module, first we import <b>masspy</b> and other essential packages. Constants used throughout the notebook are also defined.\n"
   ]
  },
  {
   "cell_type": "code",
   "execution_count": 1,
   "metadata": {},
   "outputs": [],
   "source": [
    "from os import path\n",
    "\n",
    "import matplotlib.pyplot as plt\n",
    "\n",
    "from scipy import optimize\n",
    "\n",
    "import sympy as sym\n",
    "\n",
    "from cobra import DictList\n",
    "\n",
    "from mass.analysis.linear import matrix_rank\n",
    "from mass import MassMetabolite, Simulation, UnitDefinition\n",
    "from mass.enzyme_modules import EnzymeModule\n",
    "from mass.io import json, sbml\n",
    "from mass.util import Keq2k, k2Keq, strip_time, qcqa_model"
   ]
  },
  {
   "cell_type": "markdown",
   "metadata": {},
   "source": [
    "Note that the total enzyme concentration of PYK is \\\\(69 nM = 0.069 \\mu M = 0.000069 mM\\\\).\n",
    "\n",
    "For the construction of the <font color=#4682B4>EnzymeModule</font> for PYK, the following assumptions were made:\n",
    "\n",
    "1. The enzyme is a homotetramer.\n",
    "2. The enzyme binding and catalyzation of substrates occurs in a random sequential mechanism.\n",
    "3. The mechanism of allosteric regulation is based on the Monod-Wyman-Changeux (MWC) model for allosteric transitions of homoproteins."
   ]
  },
  {
   "cell_type": "markdown",
   "metadata": {},
   "source": [
    "## Module Construction\n",
    "The first step of creating the PYK module is to define the <font color=#4682B4>EnzymeModule</font>. The <font color=#4682B4>EnzymeModule</font> is an extension of the <font color=#4682B4>MassModel</font>, with additional enzyme-specific attributes that aid in the construction, validation, and utilization of the module.\n",
    "\n",
    "__Note:__ All <font color=#4682B4>EnzymeModule</font> specific attributes start will start the prefix \"enzyme\" or \"enzyme_module\"."
   ]
  },
  {
   "cell_type": "code",
   "execution_count": 2,
   "metadata": {},
   "outputs": [],
   "source": [
    "PYK = EnzymeModule(\"PYK\", name=\"Pyruvate Kinase\", subsystem=\"Glycolysis\")"
   ]
  },
  {
   "cell_type": "markdown",
   "metadata": {},
   "source": [
    "### Metabolites\n",
    "#### Ligands\n",
    "The next step is to define all of the metabolites using the <font color=#4682B4>MassMetabolite</font> object. For <font color=#4682B4>EnzymeModules</font>, the <font color=#4682B4>MassMetabolite</font> objects will be refered to as ligands, for these <font color=#4682B4>MassMetabolite</font> form a complex with the enzyme to serve some biological purpose. Some considerations for this step include the following:\n",
    "\n",
    "1. It is important to use a clear and consistent format for identifiers and names when defining the <font color=#4682B4>MassMetabolite</font> objects for various reasons, some of which include improvements to model clarity and utility, assurance of unique identifiers (required to add metabolites to the model), and consistency when collaborating and communicating with others. \n",
    "\n",
    "\n",
    "2. In order to ensure our model is physiologically accurate, it is important to provide the <font color=#B22222>formula</font> argument with a string representing the chemical formula for each metabolite, and the <font color=#B22222>charge</font> argument with an integer representing the metabolite's ionic charge (Note that neutrally charged metabolites are provided with 0). These attributes can always be set later if necessary using the <font color=#1E90FF>formula</font> and <font color=#1E90FF>charge</font> attribute setter methods.\n",
    "\n",
    "\n",
    "3. To indicate that the cytosol is the cellular compartment in which the reactions occur, the string \"c\" is provided to the <font color=#B22222>compartment</font> argument.\n",
    "\n",
    "This model will be created using identifiers and names found in the [BiGG Database](http://bigg.ucsd.edu/).\n",
    "\n",
    "The ligands correspond to the activators, inhibitors, cofactors, substrates, and products involved in the enzyme catalyzed reaction. In this model, there are 6 species which must be considered."
   ]
  },
  {
   "cell_type": "code",
   "execution_count": 3,
   "metadata": {},
   "outputs": [],
   "source": [
    "pep_c = MassMetabolite(\n",
    "    \"pep_c\",\n",
    "    name=\"Phosphoenolpyruvate\",\n",
    "    formula=\"C3H2O6P\",\n",
    "    charge=-3,\n",
    "    compartment=\"c\")\n",
    "pyr_c = MassMetabolite(\n",
    "    \"pyr_c\",\n",
    "    name=\"Pyruvate\",\n",
    "    formula=\"C3H3O3\",\n",
    "    charge=-1,\n",
    "    compartment=\"c\")\n",
    "fdp_c = MassMetabolite(\n",
    "    \"fdp_c\",\n",
    "    name=\"D-Fructose 1,6-bisphosphate\",\n",
    "    formula=\"C6H10O12P2\",\n",
    "    charge=-4,\n",
    "    compartment=\"c\")\n",
    "atp_c = MassMetabolite(\n",
    "    \"atp_c\",\n",
    "    name=\"ATP\",\n",
    "    formula=\"C10H12N5O13P3\",\n",
    "    charge=-4,\n",
    "    compartment=\"c\")\n",
    "adp_c = MassMetabolite(\n",
    "    \"adp_c\",\n",
    "    name=\"ADP\",\n",
    "    formula=\"C10H12N5O10P2\",\n",
    "    charge=-3,\n",
    "    compartment=\"c\")\n",
    "h_c = MassMetabolite(\n",
    "    \"h_c\",\n",
    "    name=\"H+\",\n",
    "    formula=\"H\",\n",
    "    charge=1,\n",
    "    compartment=\"c\")"
   ]
  },
  {
   "cell_type": "markdown",
   "metadata": {},
   "source": [
    "After generating the ligands, they are added to the <font color=#4682B4>EnzymeModule</font> through the <font color=#00008B>add_metabolites</font> method. The ligands of the <font color=#4682B4>EnzymeModule</font> can be viewed as a DictList through the <font color=#1E90FF>enzyme_module_ligands</font> attribute, or through user-defined categorizes using the <font color=#1E90FF>enzyme_module_ligands_categorized</font> attribute. Note that all of the ligands are originally categorized as undefined. "
   ]
  },
  {
   "cell_type": "code",
   "execution_count": 4,
   "metadata": {},
   "outputs": [
    {
     "name": "stdout",
     "output_type": "stream",
     "text": [
      "All PYK Ligands: pep_c; adp_c; fdp_c; atp_c; pyr_c; h_c\n",
      "\n"
     ]
    }
   ],
   "source": [
    "# Add the metabolites to the EnzymeModule\n",
    "PYK.add_metabolites([pep_c, adp_c, fdp_c, atp_c, pyr_c, h_c])\n",
    "# Access DictList of ligands and print\n",
    "print(\"All {0} Ligands: {1}\\n\".format(\n",
    "    PYK.id, \"; \".join([m.id for m in PYK.enzyme_module_ligands])))"
   ]
  },
  {
   "cell_type": "markdown",
   "metadata": {},
   "source": [
    "The <font color=#1E90FF>enzyme_module_ligands_categorized</font> attribute can be used to assign metabolites to groups of user-defined categories by providing a dictionary where keys are the categories and values are the metabolites. Note that any metabolite can be placed in more than one category."
   ]
  },
  {
   "cell_type": "code",
   "execution_count": 5,
   "metadata": {},
   "outputs": [
    {
     "name": "stdout",
     "output_type": "stream",
     "text": [
      "All PYK ligands (6 total):\n",
      "['pep_c', 'adp_c', 'fdp_c', 'atp_c', 'pyr_c', 'h_c']\n",
      "\n",
      "Substrates: ['pep_c']\n",
      "Cofactors: ['adp_c', 'h_c']\n",
      "Activators: ['fdp_c']\n",
      "Inhibitors: ['atp_c']\n",
      "Products: ['pyr_c', 'atp_c']\n"
     ]
    }
   ],
   "source": [
    "PYK.enzyme_module_ligands_categorized =  {\n",
    "    \"Substrates\": pep_c,\n",
    "    \"Cofactors\": [adp_c, h_c],\n",
    "    \"Activators\": [fdp_c],\n",
    "    \"Inhibitors\": atp_c,\n",
    "    \"Products\": [pyr_c, atp_c]}\n",
    "\n",
    "# Access DictList of ligands and print\n",
    "print(\"All {0} ligands ({1} total):\\n{2}\\n\".format(\n",
    "    PYK.id, len(PYK.enzyme_module_ligands),\n",
    "    str([m.id for m in PYK.enzyme_module_ligands])))\n",
    "\n",
    "# Access categorized attribute for ligands and print\n",
    "for group in PYK.enzyme_module_ligands_categorized:\n",
    "    print(\"{0}: {1}\".format(\n",
    "        group.id, str([m.id for m in group.members])))"
   ]
  },
  {
   "cell_type": "markdown",
   "metadata": {},
   "source": [
    "#### EnzymeModuleSpecies\n",
    "\n",
    "The next step is to define the various states of the enzyme and enzyme-ligand complexes. These states can be represented through an <font color=#4682B4>EnzymeModuleSpecies</font> object. Just like how <font color=#4682B4>EnzymeModules</font> extend <font color=#4682B4>MassModels</font>, the <font color=#4682B4>EnzymeModuleSpecies</font> extend <font color=#4682B4>MassMetabolites</font>, giving them the same functionality as a <font color=#4682B4>MassMetabolite</font>. However, there are three important additional attrubutes that are specific to the <font color=#4682B4>EnzymeModuleSpecies</font>.\n",
    "\n",
    "* The first attribute is the <font color=#1E90FF>enzyme_module_id</font>. It is meant to hold the identifier or name of the <font color=#4682B4>EnzymeModule</font> that the <font color=#4682B4>EnzymeModuleSpecies</font> belongs to.\n",
    "* The second and third attributes are the <font color=#1E90FF>bound_catalytic</font> and <font color=#1E90FF>bound_effectors</font> attributes, designed to contain metabolites bound to the active/catalytic site and effector metabolites bound to the enzyme, respectively. \n",
    "* Automatic generation of the <font color=#1E90FF>name</font>, <font color=#1E90FF>formula</font>, and <font color=#1E90FF>charge</font> attributes attributes utilize the <font color=#1E90FF>bound_catalytic</font> and <font color=#1E90FF>bound_effectors</font> attributes, which can aid in identification of <font color=#4682B4>EnzymeModuleSpecies</font> and mass and charge balancing of the reactions.\n",
    "\n",
    "The most convenient way to make an <font color=#4682B4>EnzymeModuleSpecies</font> is through the <font color=#4682B4>EnzymeModule</font><font color=#00008B>.make_enzyme_module_species</font> method. There are several reasons to use this method to generate the <font color=#4682B4>EnzymeModuleSpecies</font>:\n",
    "\n",
    "1. The only requirement to creating an <font color=#4682B4>EnzymeModuleSpecies</font> is an identifier.\n",
    "2. A string can optionally be provided for the <font color=#B22222>name</font> argument to set the corresponding <font color=#1E90FF>name</font> attribute, or it can automatically be generated and set by setting the string \"Automatic\" (case sensitve). \n",
    "3. The <font color=#1E90FF>enzyme_module_id</font>, <font color=#1E90FF>formula</font> and <font color=#1E90FF>charge</font> attributes are set based on the identifier of the EnzymeModule and the MassMetabolite objects found in <font color=#1E90FF>bound_catalytic</font> and <font color=#1E90FF>bound_effectors</font>\n",
    "4. Just like the <font color=#1E90FF>enzyme_module_ligands_categorized</font> attribute, there is the <font color=#1E90FF>enzyme_module_species_categorized</font> attribute that behaves in a similar manner. Categories can be set at the time of construction by providing a string or a list of strings to the <font color=#B22222>categories</font> argument. \n",
    "5. <font color=#4682B4>EnzymeModuleSpecies</font> are automatically added to the <font color=#4682B4>EnzymeModule</font> once created.\n",
    "\n",
    "For this module, there are 25 <font color=#4682B4>EnzymeModuleSpecies</font> that must be created. Because of the assumptions made for this module, a loop can be used to help automate the construction of the <font color=#4682B4>EnzymeModuleSpecies</font>."
   ]
  },
  {
   "cell_type": "code",
   "execution_count": 6,
   "metadata": {},
   "outputs": [
    {
     "name": "stdout",
     "output_type": "stream",
     "text": [
      "All PYK enzyme module species (25 total):\n",
      "['pyk_R0_c', 'pyk_R0_A_c', 'pyk_R0_P_c', 'pyk_R0_AP_c', 'pyk_T0_c', 'pyk_R1_c', 'pyk_R1_A_c', 'pyk_R1_P_c', 'pyk_R1_AP_c', 'pyk_T1_c', 'pyk_R2_c', 'pyk_R2_A_c', 'pyk_R2_P_c', 'pyk_R2_AP_c', 'pyk_T2_c', 'pyk_R3_c', 'pyk_R3_A_c', 'pyk_R3_P_c', 'pyk_R3_AP_c', 'pyk_T3_c', 'pyk_R4_c', 'pyk_R4_A_c', 'pyk_R4_P_c', 'pyk_R4_AP_c', 'pyk_T4_c']\n",
      "\n",
      "Relaxed: ['pyk_R4_P_c', 'pyk_R1_c', 'pyk_R4_AP_c', 'pyk_R1_A_c', 'pyk_R1_P_c', 'pyk_R1_AP_c', 'pyk_R2_A_c', 'pyk_R2_c', 'pyk_R2_P_c', 'pyk_R2_AP_c', 'pyk_R3_A_c', 'pyk_R0_c', 'pyk_R3_c', 'pyk_R0_A_c', 'pyk_R0_AP_c', 'pyk_R3_P_c', 'pyk_R3_AP_c', 'pyk_R4_A_c', 'pyk_R0_P_c', 'pyk_R4_c']\n",
      "\n",
      "Tense: ['pyk_T0_c', 'pyk_T2_c', 'pyk_T3_c', 'pyk_T4_c', 'pyk_T1_c']\n",
      "\n"
     ]
    }
   ],
   "source": [
    "# Number of identical subunits\n",
    "n_subunits = 4\n",
    "\n",
    "for i in range(n_subunits + 1):\n",
    "    # Make enzyme module species per number of bound activators (Up to 4 Total)\n",
    "    PYK.make_enzyme_module_species(\n",
    "        \"pyk_R{0:d}_c\".format(i), \n",
    "        name=\"Automatic\", \n",
    "        categories=\"Relaxed\", \n",
    "        bound_catalytic={},\n",
    "        bound_effectors={fdp_c: i},\n",
    "        compartment=\"c\");\n",
    "\n",
    "    PYK.make_enzyme_module_species(\n",
    "        \"pyk_R{0:d}_A_c\".format(i), \n",
    "        name=\"Automatic\", \n",
    "        categories=\"Relaxed\", \n",
    "        bound_catalytic={adp_c: 1},\n",
    "        bound_effectors={fdp_c: i},\n",
    "        compartment=\"c\");\n",
    "    \n",
    "    PYK.make_enzyme_module_species(\n",
    "        \"pyk_R{0:d}_P_c\".format(i), \n",
    "        name=\"Automatic\", \n",
    "        categories=\"Relaxed\", \n",
    "        bound_catalytic={pep_c: 1},\n",
    "        bound_effectors={fdp_c: i},\n",
    "        compartment=\"c\");\n",
    "    \n",
    "    PYK.make_enzyme_module_species(\n",
    "        \"pyk_R{0:d}_AP_c\".format(i), \n",
    "        name=\"Automatic\", \n",
    "        categories=\"Relaxed\", \n",
    "        bound_catalytic={adp_c: 1, pep_c: 1},\n",
    "        bound_effectors={fdp_c: i},\n",
    "        compartment=\"c\");\n",
    "\n",
    "    # Make enzyme module species per number of bound inhibitors (Up to 4 Total)\n",
    "    PYK.make_enzyme_module_species(\n",
    "        \"pyk_T{0:d}_c\".format(i), \n",
    "        name=\"Automatic\", \n",
    "        categories=\"Tense\", \n",
    "        bound_catalytic={},\n",
    "        bound_effectors={atp_c: i},\n",
    "        compartment=\"c\");\n",
    "\n",
    "\n",
    "# Access DictList of enzyme module species and print\n",
    "print(\"All {0} enzyme module species ({1} total):\\n{2}\\n\".format(\n",
    "    PYK.id, len(PYK.enzyme_module_species),\n",
    "    str([m.id for m in PYK.enzyme_module_species])))\n",
    "\n",
    "# Access categorized attribute for enzyme module species and print\n",
    "for group in PYK.enzyme_module_species_categorized:\n",
    "    print(\"{0}: {1}\\n\".format(\n",
    "        group.id, str([m.id for m in group.members])))"
   ]
  },
  {
   "cell_type": "markdown",
   "metadata": {},
   "source": [
    "## Reactions\n",
    "### EnzymeModuleReactions\n",
    "Once all of the <font color=#4682B4>MassMetabolites</font> and <font color=#4682B4>EnzymeModuleSpecies</font> have been created, the next step is to define all of the enzyme-ligand binding reactions and conformation trasitions that occur in its mechanism.\n",
    "\n",
    "These reactions can be represented through an <font color=#4682B4>EnzymeModuleReaction</font> object. As with the previous enzyme objects,  <font color=#4682B4>EnzymeModuleReactions</font> extend <font color=#4682B4>MassReactions</font> to maintain the same functionality. However, as with the <font color=#4682B4>EnzymeModuleSpecies</font>, the <font color=#4682B4>EnzymeModuleReaction</font> has additional enzyme-specific attributes, such as the <font color=#1E90FF>enzyme_module_id</font>.\n",
    "\n",
    "The most conveient way to make an <font color=#4682B4>EnzymeModuleReaction</font> is through the <font color=#4682B4>EnzymeModule</font><font color=#00008B>.make_enzyme_module_reaction</font> method. There are several reasons to use this method to generate the EnzymeModuleReactions:\n",
    "\n",
    "1. The only requirement to creating an <font color=#4682B4>EnzymeModuleReaction</font> is an identifier.\n",
    "2. A string can optionally be provided for the <font color=#B22222>name</font> argument to set the corresponding <font color=#1E90FF>name</font> attribute, or it can automatically be generated and set by setting the string \"Automatic\" (case sensitve). \n",
    "3. There is an <font color=#1E90FF>enzyme_module_reactions_categorized</font> attribute that behaves in a similar manner as the previous categorized attributes. Categories can be set at the time of construction by providing a string or a list of strings to the <font color=#B22222>categories</font> argument. \n",
    "4. <font color=#4682B4>MassMetabolites</font> and <font color=#4682B4>EnzymeModuleSpecies</font> that already exist in the <font color=#4682B4>EnzymeModule</font> can be directly added to the newly created <font color=#4682B4>EnzymeModuleReaction</font> by providing a dictionary to the optional <font color=#B22222>metabolites_to_add</font> argument using string identifiers (or the objects) as keys and their stoichiometric coefficients as the values.\n",
    "5. <font color=#4682B4>EnzymeModuleReactions</font> are automatically added to the <font color=#4682B4>EnzymeModule</font> once created.\n",
    "\n",
    "For this module, there are 34 <font color=#4682B4>EnzymeModuleReactions</font> that must be created. Because of the assumptions made for this module, a loop can be used to help automate the construction of the <font color=#4682B4>EnzymeModuleReactions</font>."
   ]
  },
  {
   "cell_type": "code",
   "execution_count": 7,
   "metadata": {
    "scrolled": false
   },
   "outputs": [
    {
     "name": "stdout",
     "output_type": "stream",
     "text": [
      "All PYK enzyme module reactions (34 total):\n",
      "['PYK_R01', 'PYK_R02', 'PYK_R03', 'PYK_R04', 'PYK_R05', 'PYK_R10', 'PYK_T1', 'PYK_R11', 'PYK_R12', 'PYK_R13', 'PYK_R14', 'PYK_R15', 'PYK_R20', 'PYK_T2', 'PYK_R21', 'PYK_R22', 'PYK_R23', 'PYK_R24', 'PYK_R25', 'PYK_R30', 'PYK_T3', 'PYK_R31', 'PYK_R32', 'PYK_R33', 'PYK_R34', 'PYK_R35', 'PYK_R40', 'PYK_T4', 'PYK_R41', 'PYK_R42', 'PYK_R43', 'PYK_R44', 'PYK_R45', 'PYK_L']\n",
      "\n",
      "pep_c_binding: ['PYK_R33', 'PYK_R21', 'PYK_R31', 'PYK_R03', 'PYK_R13', 'PYK_R43', 'PYK_R23', 'PYK_R41', 'PYK_R11', 'PYK_R01']\n",
      "\n",
      "adp_c_binding: ['PYK_R02', 'PYK_R44', 'PYK_R12', 'PYK_R14', 'PYK_R42', 'PYK_R22', 'PYK_R04', 'PYK_R24', 'PYK_R32', 'PYK_R34']\n",
      "\n",
      "catalyzation: ['PYK_R45', 'PYK_R05', 'PYK_R35', 'PYK_R15', 'PYK_R25']\n",
      "\n",
      "fdp_c_activation: ['PYK_R40', 'PYK_R30', 'PYK_R10', 'PYK_R20']\n",
      "\n",
      "atp_c_inhibition: ['PYK_T4', 'PYK_T3', 'PYK_T2', 'PYK_T1']\n",
      "\n",
      "RT_transition: ['PYK_L']\n",
      "\n"
     ]
    }
   ],
   "source": [
    "for i in range(n_subunits + 1):\n",
    "    # Make reactions for enzyme-ligand binding and catalytzation per number of bound activators (Up to 4 Total)\n",
    "    PYK.make_enzyme_module_reaction(\n",
    "        \"PYK_R{0:d}1\".format(i), \n",
    "        name=\"Automatic\",\n",
    "        subsystem=\"Glycolysis\",\n",
    "        reversible=True,\n",
    "        categories=\"pep_c_binding\",\n",
    "        metabolites_to_add={\n",
    "            \"pyk_R{0:d}_c\".format(i): -1, \n",
    "            \"pep_c\": -1, \n",
    "            \"pyk_R{0:d}_P_c\".format(i): 1})\n",
    "    \n",
    "    PYK.make_enzyme_module_reaction(\n",
    "        \"PYK_R{0:d}2\".format(i), \n",
    "        name=\"Automatic\",\n",
    "        subsystem=\"Glycolysis\",\n",
    "        reversible=True,\n",
    "        categories=\"adp_c_binding\",\n",
    "        metabolites_to_add={\n",
    "            \"pyk_R{0:d}_c\".format(i): -1, \n",
    "            \"adp_c\": -1, \n",
    "            \"pyk_R{0:d}_A_c\".format(i): 1})\n",
    "    \n",
    "    PYK.make_enzyme_module_reaction(\n",
    "        \"PYK_R{0:d}3\".format(i), \n",
    "        name=\"Automatic\",\n",
    "        subsystem=\"Glycolysis\",\n",
    "        reversible=True,\n",
    "        categories=\"pep_c_binding\",\n",
    "        metabolites_to_add={\n",
    "            \"pyk_R{0:d}_A_c\".format(i): -1, \n",
    "            \"pep_c\": -1, \n",
    "            \"pyk_R{0:d}_AP_c\".format(i): 1})\n",
    "    \n",
    "    PYK.make_enzyme_module_reaction(\n",
    "        \"PYK_R{0:d}4\".format(i), \n",
    "        name=\"Automatic\",\n",
    "        subsystem=\"Glycolysis\",\n",
    "        reversible=True,\n",
    "        categories=\"adp_c_binding\",\n",
    "        metabolites_to_add={\n",
    "            \"pyk_R{0:d}_P_c\".format(i): -1, \n",
    "            \"adp_c\": -1, \n",
    "            \"pyk_R{0:d}_AP_c\".format(i): 1})\n",
    "    \n",
    "    PYK.make_enzyme_module_reaction(\n",
    "        \"PYK_R{0:d}5\".format(i), \n",
    "        name=\"Automatic\",\n",
    "        subsystem=\"Glycolysis\",\n",
    "        reversible=False,\n",
    "        categories=\"catalyzation\",\n",
    "        metabolites_to_add={\n",
    "            \"pyk_R{0:d}_AP_c\".format(i): -1, \n",
    "            \"h_c\": -1, \n",
    "            \"pyk_R{0:d}_c\".format(i): 1, \n",
    "            \"atp_c\": 1, \n",
    "            \"pyr_c\": 1})\n",
    "    \n",
    "    if i < n_subunits:\n",
    "        # Make enzyme reactions for enzyme-activator binding\n",
    "        PYK.make_enzyme_module_reaction(\n",
    "            \"PYK_R{0:d}0\".format(i + 1), \n",
    "            name=\"Automatic\",\n",
    "            subsystem=\"Glycolysis\",\n",
    "            reversible=True,\n",
    "            categories=\"fdp_c_activation\",\n",
    "            metabolites_to_add={\n",
    "                \"pyk_R{0:d}_c\".format(i): -1, \n",
    "                \"fdp_c\": -1, \n",
    "                \"pyk_R{0:d}_c\".format(i + 1): 1})\n",
    "\n",
    "        # Make enzyme reactions for enzyme-inhibitor binding\n",
    "        PYK.make_enzyme_module_reaction(\n",
    "            \"PYK_T{0:d}\".format(i + 1), \n",
    "            name=\"Automatic\",\n",
    "            subsystem=\"Glycolysis\",\n",
    "            reversible=True,\n",
    "            categories=\"atp_c_inhibition\",\n",
    "            metabolites_to_add={\n",
    "                \"pyk_T{0:d}_c\".format(i): -1, \n",
    "                \"atp_c\": -1, \n",
    "                \"pyk_T{0:d}_c\".format(i + 1): 1})\n",
    "# Make reaction representing enzyme transition from R to T state\n",
    "PYK.make_enzyme_module_reaction(\n",
    "    \"PYK_L\",\n",
    "    name=\"Automatic\",\n",
    "    subsystem=\"Glycolysis\",\n",
    "    reversible=True,\n",
    "    categories=\"RT_transition\",\n",
    "    metabolites_to_add={\n",
    "        \"pyk_R0_c\": -1, \n",
    "        \"pyk_T0_c\": 1})\n",
    "\n",
    "# Access DictList of enzyme module reactions and print\n",
    "print(\"All {0} enzyme module reactions ({1} total):\\n{2}\\n\".format(\n",
    "    PYK.id, len(PYK.enzyme_module_reactions),\n",
    "    str([m.id for m in PYK.enzyme_module_reactions])))\n",
    "\n",
    "# Access categorized attribute for enzyme module reactions and print\n",
    "for group in PYK.enzyme_module_reactions_categorized:\n",
    "    print(\"{0}: {1}\\n\".format(\n",
    "        group.id, str([m.id for m in group.members])))"
   ]
  },
  {
   "cell_type": "markdown",
   "metadata": {},
   "source": [
    "### Create and  Unify Rate Parameters\n",
    "The next step is to unify rate parameters of binding steps that are not unique, allowing for those parameter values to be defined once and stored in the same place. Therefore, custom rate laws with custom parameters are used to reduce the number of parameters that need to be defined and better represent the module.\n",
    "\n",
    "The rate law parameters can be unified using the <font color=#4682B4>EnzymeModule</font><font color=#00008B>.unify_rate_parameters</font> class method. This method requires a list of reactions whose rate laws that should be identical, along with a string representation of the new identifier to use on the unified parameters. There is also the optional <font color=#B22222>prefix </font> argument, which if set to True, will ensure the new parameter identifiers are prefixed with the <font color=#4682B4>EnzymeModule</font> identifier. This can be used to help prevent custom parameters from being replaced when multiple models are merged.\n",
    "\n",
    "#### Allosteric Transitions: Symmetry Model\n",
    "\n",
    "Once rate parameters are unified, the allosteric regulation of this enzyme must be accounted for. Because this module is to be based on the (Monod-Wyman-Changeux) MWC model for ligand binding and allosteric regulation, the rate laws of the allosteric binding reactions must be adjusted to reflect the symmetry in the module using the number of identical binding sites to help determine the scalars for the parameters. \n",
    "\n",
    "For this module, PYK is considered a homotetramer, meaning it has four identical subunits \\\\(\\nu = 4\\\\). Each subunit can be allosterically activated by FDP or inhibited by ATP. The helper functions <font color=#00008B>k2Keq</font>, <font color=#00008B>Keq2k</font>, and <font color=#00008B>strip_time</font> from the <font color=#0000FF>mass.util</font> submodule will be used to help facilitate the rate law changes in this example so that the final rate laws are dependent on the forward rate (kf) and equilibrium (Keq) constants."
   ]
  },
  {
   "cell_type": "code",
   "execution_count": 8,
   "metadata": {},
   "outputs": [
    {
     "name": "stdout",
     "output_type": "stream",
     "text": [
      "\n",
      "Category: pep_c_binding\n",
      "-----------------------\n",
      "PYK_R33: kf_PYK_P*(Keq_PYK_P*pep_c(t)*pyk_R3_A_c(t) - pyk_R3_AP_c(t))/Keq_PYK_P\n",
      "PYK_R21: kf_PYK_P*(Keq_PYK_P*pep_c(t)*pyk_R2_c(t) - pyk_R2_P_c(t))/Keq_PYK_P\n",
      "PYK_R31: kf_PYK_P*(Keq_PYK_P*pep_c(t)*pyk_R3_c(t) - pyk_R3_P_c(t))/Keq_PYK_P\n",
      "PYK_R03: kf_PYK_P*(Keq_PYK_P*pep_c(t)*pyk_R0_A_c(t) - pyk_R0_AP_c(t))/Keq_PYK_P\n",
      "PYK_R13: kf_PYK_P*(Keq_PYK_P*pep_c(t)*pyk_R1_A_c(t) - pyk_R1_AP_c(t))/Keq_PYK_P\n",
      "PYK_R43: kf_PYK_P*(Keq_PYK_P*pep_c(t)*pyk_R4_A_c(t) - pyk_R4_AP_c(t))/Keq_PYK_P\n",
      "PYK_R23: kf_PYK_P*(Keq_PYK_P*pep_c(t)*pyk_R2_A_c(t) - pyk_R2_AP_c(t))/Keq_PYK_P\n",
      "PYK_R41: kf_PYK_P*(Keq_PYK_P*pep_c(t)*pyk_R4_c(t) - pyk_R4_P_c(t))/Keq_PYK_P\n",
      "PYK_R11: kf_PYK_P*(Keq_PYK_P*pep_c(t)*pyk_R1_c(t) - pyk_R1_P_c(t))/Keq_PYK_P\n",
      "PYK_R01: kf_PYK_P*(Keq_PYK_P*pep_c(t)*pyk_R0_c(t) - pyk_R0_P_c(t))/Keq_PYK_P\n",
      "\n",
      "Category: adp_c_binding\n",
      "-----------------------\n",
      "PYK_R02: kf_PYK_A*(Keq_PYK_A*adp_c(t)*pyk_R0_c(t) - pyk_R0_A_c(t))/Keq_PYK_A\n",
      "PYK_R44: kf_PYK_A*(Keq_PYK_A*adp_c(t)*pyk_R4_P_c(t) - pyk_R4_AP_c(t))/Keq_PYK_A\n",
      "PYK_R12: kf_PYK_A*(Keq_PYK_A*adp_c(t)*pyk_R1_c(t) - pyk_R1_A_c(t))/Keq_PYK_A\n",
      "PYK_R14: kf_PYK_A*(Keq_PYK_A*adp_c(t)*pyk_R1_P_c(t) - pyk_R1_AP_c(t))/Keq_PYK_A\n",
      "PYK_R42: kf_PYK_A*(Keq_PYK_A*adp_c(t)*pyk_R4_c(t) - pyk_R4_A_c(t))/Keq_PYK_A\n",
      "PYK_R22: kf_PYK_A*(Keq_PYK_A*adp_c(t)*pyk_R2_c(t) - pyk_R2_A_c(t))/Keq_PYK_A\n",
      "PYK_R04: kf_PYK_A*(Keq_PYK_A*adp_c(t)*pyk_R0_P_c(t) - pyk_R0_AP_c(t))/Keq_PYK_A\n",
      "PYK_R24: kf_PYK_A*(Keq_PYK_A*adp_c(t)*pyk_R2_P_c(t) - pyk_R2_AP_c(t))/Keq_PYK_A\n",
      "PYK_R32: kf_PYK_A*(Keq_PYK_A*adp_c(t)*pyk_R3_c(t) - pyk_R3_A_c(t))/Keq_PYK_A\n",
      "PYK_R34: kf_PYK_A*(Keq_PYK_A*adp_c(t)*pyk_R3_P_c(t) - pyk_R3_AP_c(t))/Keq_PYK_A\n",
      "\n",
      "Category: catalyzation\n",
      "----------------------\n",
      "PYK_R45: kf_PYK*pyk_R4_AP_c(t)\n",
      "PYK_R05: kf_PYK*pyk_R0_AP_c(t)\n",
      "PYK_R35: kf_PYK*pyk_R3_AP_c(t)\n",
      "PYK_R15: kf_PYK*pyk_R1_AP_c(t)\n",
      "PYK_R25: kf_PYK*pyk_R2_AP_c(t)\n",
      "\n",
      "Category: fdp_c_activation\n",
      "--------------------------\n",
      "PYK_R40: kf_PYK_ACT*(4*Keq_PYK_ACT*fdp_c(t)*pyk_R3_c(t) - pyk_R4_c(t))/Keq_PYK_ACT\n",
      "PYK_R30: kf_PYK_ACT*(3*Keq_PYK_ACT*fdp_c(t)*pyk_R2_c(t) - 2*pyk_R3_c(t))/Keq_PYK_ACT\n",
      "PYK_R10: kf_PYK_ACT*(2*Keq_PYK_ACT*fdp_c(t)*pyk_R0_c(t) - 3*pyk_R1_c(t))/Keq_PYK_ACT\n",
      "PYK_R20: kf_PYK_ACT*(Keq_PYK_ACT*fdp_c(t)*pyk_R1_c(t) - 4*pyk_R2_c(t))/Keq_PYK_ACT\n",
      "\n",
      "Category: atp_c_inhibition\n",
      "--------------------------\n",
      "PYK_T4: kf_PYK_I*(4*Keq_PYK_I*atp_c(t)*pyk_T3_c(t) - pyk_T4_c(t))/Keq_PYK_I\n",
      "PYK_T3: kf_PYK_I*(3*Keq_PYK_I*atp_c(t)*pyk_T2_c(t) - 2*pyk_T3_c(t))/Keq_PYK_I\n",
      "PYK_T2: kf_PYK_I*(2*Keq_PYK_I*atp_c(t)*pyk_T1_c(t) - 3*pyk_T2_c(t))/Keq_PYK_I\n",
      "PYK_T1: kf_PYK_I*(Keq_PYK_I*atp_c(t)*pyk_T0_c(t) - 4*pyk_T1_c(t))/Keq_PYK_I\n",
      "\n",
      "Category: RT_transition\n",
      "-----------------------\n",
      "PYK_L: kf_PYK_L*(pyk_R0_c(t) - pyk_T0_c(t)/Keq_PYK_L)\n"
     ]
    }
   ],
   "source": [
    "enzyme_prefix = True\n",
    "abbreviations = [\"P\", \"A\", \"I\", \"ACT\"]\n",
    "ligands = [pep_c, adp_c, atp_c, fdp_c]\n",
    "\n",
    "for met, unified_id in zip(ligands, abbreviations):\n",
    "    category = {\"P\": \"binding\",\n",
    "                \"A\": \"binding\",\n",
    "                \"I\": \"inhibition\",\n",
    "                \"ACT\": \"activation\"}[unified_id]\n",
    "    group = PYK.enzyme_module_reactions_categorized.get_by_id(\n",
    "        \"_\".join((met.id, category)))\n",
    "    reactions = group.members\n",
    "    PYK.unify_rate_parameters(reactions, unified_id,\n",
    "                              rate_type=2, enzyme_prefix=True)\n",
    "    # Add the coefficients to make symmetry model rate laws for activation and inhibition \n",
    "    if unified_id in [\"I\", \"ACT\"]:\n",
    "        for i, reaction in enumerate(reactions):\n",
    "            custom_rate = str(strip_time((reaction.rate)))\n",
    "            custom_rate = custom_rate.replace(\"kf_\", \"{0:d}*kf_\".format(n_subunits - i))\n",
    "            custom_rate = custom_rate.replace(\"kr_\", \"{0:d}*kr_\".format(i + 1))\n",
    "            PYK.add_custom_rate(reaction, custom_rate)\n",
    "\n",
    "PYK.unify_rate_parameters(\n",
    "    PYK.enzyme_module_reactions_categorized.get_by_id(\"catalyzation\").members,\n",
    "    \"PYK\")\n",
    "# Update rate laws to be in terms of kf and Keq\n",
    "PYK.custom_rates.update(k2Keq(PYK.custom_rates))\n",
    "\n",
    "# Access categorized attribute for enzyme module reactions and print\n",
    "for group in PYK.enzyme_module_reactions_categorized:\n",
    "    header = \"Category: \" + group.id\n",
    "    print(\"\\n\" + header + \"\\n\" + \"-\" * len(header))\n",
    "    for reaction in group.members:\n",
    "        print(reaction.id + \": \" + str(reaction.rate))"
   ]
  },
  {
   "cell_type": "markdown",
   "metadata": {},
   "source": [
    "## The Steady State\n",
    "### Solve steady state concentrations symbolically\n",
    "To determine the steady state of the enzyme, a dictionary of the ordinary differential equations as symbolic expressions for each of the <font color=#4682B4>EnzymeModuleSpecies</font>. \n",
    "\n",
    "For handling of all symbolic expressions, the <b>sympy</b> package is used."
   ]
  },
  {
   "cell_type": "code",
   "execution_count": 9,
   "metadata": {},
   "outputs": [
    {
     "name": "stdout",
     "output_type": "stream",
     "text": [
      "Rank Deficiency: 1\n"
     ]
    }
   ],
   "source": [
    "ode_dict = {\n",
    "    sym.Symbol(enzyme_module_species.id): sym.Eq(strip_time(enzyme_module_species.ode))\n",
    "    for enzyme_module_species in PYK.enzyme_module_species}\n",
    "\n",
    "rank = matrix_rank(PYK.S[6:])\n",
    "print(\"Rank Deficiency: {0}\".format(len(ode_dict) - rank))"
   ]
  },
  {
   "cell_type": "markdown",
   "metadata": {},
   "source": [
    "In order to solve the system of ODEs for the steady state concentrations, an additional equation is required due to the rank deficiency of the stoichiometric matrix. Therefore, the equation for the steady state flux through the enzyme, which will be referred to as the \"enzyme net flux equation\", must be defined. \n",
    "\n",
    "To define the enzyme net flux equation, the <font color=#4682B4>EnzymeModule</font><font color=#00008B>.make_enzyme_netflux_equation</font> class method can be used. \n",
    "\n",
    "* This equation is made by providing a reaction, or a list of reactions to add together.\n",
    "* Passing a bool to <font color=#B22222>use_rates</font> argument determines whether a symbolic equation is a summation of the flux symbols returned by <font color=#4682B4>EnzymeModuleReaction</font><font color=#1E90FF>.flux_symbol</font>, or a summation of the rates laws for those reactions.\n",
    "* The <font color=#B22222>update_enzyme</font> argument determines whether the new rate equation is set in the <font color=#1E90FF>enzyme_net_flux_equation</font> attribute.\n",
    "\n",
    "The flux through the enzyme typically corresponds to the sum of the fluxes through the catalytic reaction steps.\n",
    "Because the catalyzation reactions were assigned to the \"catalyzation\" cateogry, they can be accessed through the <font color=#1E90FF>enzyme_module_reactions_categorized</font> attribute to create the equation for \\\\(v_{\\mathrm{PYK}}\\\\)."
   ]
  },
  {
   "cell_type": "code",
   "execution_count": 10,
   "metadata": {},
   "outputs": [
    {
     "name": "stdout",
     "output_type": "stream",
     "text": [
      "v_PYK = kf_PYK⋅(pyk_R0_AP_c(t) + pyk_R1_AP_c(t) + pyk_R2_AP_c(t) + pyk_R3_AP_c\n",
      "(t) + pyk_R4_AP_c(t))\n"
     ]
    }
   ],
   "source": [
    "reactions = PYK.enzyme_module_reactions_categorized.get_by_id(\n",
    "    \"catalyzation\").members\n",
    "PYK.make_enzyme_net_flux_equation(\n",
    "    reactions,\n",
    "    use_rates=True, update_enzyme=True)\n",
    "sym.pprint(PYK.enzyme_net_flux_equation)"
   ]
  },
  {
   "cell_type": "markdown",
   "metadata": {},
   "source": [
    "The next step is to identify equations for the unknown concentrations in each reaction. These equations will need to be solved with a dependent variable before accounting for the enzyme net flux equation. The completely free form of the enzyme with no bound species will be treated as the dependent variable. \n",
    "\n",
    "To verify that all equations are in terms of the rate parameters, ligand concentrations, and the dependent variable, the solutions can be iterated through using the atoms method to identify the equation arguments. \n",
    "\n",
    "There should be no <font color=#4682B4>EnzymeModuleSpecies</font> identifiers with the exception of the dependent variable. "
   ]
  },
  {
   "cell_type": "code",
   "execution_count": 11,
   "metadata": {},
   "outputs": [
    {
     "name": "stdout",
     "output_type": "stream",
     "text": [
      "{kf_PYK, Keq_PYK_L, Keq_PYK_I, adp_c, pep_c, Keq_PYK_ACT, kf_PYK_A, Keq_PYK_P, kf_PYK_P, atp_c, fdp_c, pyk_R0_c, Keq_PYK_A}\n"
     ]
    }
   ],
   "source": [
    "# Get enzyme module species\n",
    "enzyme_module_species = PYK.enzyme_module_species.copy()\n",
    "# Reverse list for increased performance (due to symmetry assumption)\n",
    "# by solving for the most activated/inhibitors bound first.\n",
    "enzyme_module_species.reverse()\n",
    "\n",
    "enzyme_solutions = {}\n",
    "for enzyme_module_specie in enzyme_module_species:\n",
    "    # Skip dependent variable\n",
    "    if \"pyk_R0_c\" == str(enzyme_module_specie):\n",
    "        continue\n",
    "    enzyme_module_specie = sym.Symbol(enzyme_module_specie.id)\n",
    "    # Susbtitute in previous solutions and solve for the enzyme module specie, \n",
    "    equation = ode_dict[enzyme_module_specie]\n",
    "    sol = sym.solveset(equation.subs(enzyme_solutions), enzyme_module_specie)\n",
    "    enzyme_solutions[enzyme_module_specie] = list(sol)[0]\n",
    "    # Update the dictionary of solutions with the solutions\n",
    "    enzyme_solutions.update({enzyme_module_specie: sol.subs(enzyme_solutions) \n",
    "                             for enzyme_module_specie, sol in enzyme_solutions.items()})\n",
    "args = set()\n",
    "for sol in enzyme_solutions.values():\n",
    "    args.update(sol.atoms(sym.Symbol))\n",
    "print(args)"
   ]
  },
  {
   "cell_type": "markdown",
   "metadata": {},
   "source": [
    "The enzyme net flux equation can then be utilized as the last equation required to solve for the final unknown concentration variable in terms of the rate and equilibrium constants, allowing for all of the concentration variables to be defined in terms of the parameters and ligand concentrations. Once the unknown variable has been solved for, the solution can be substituted back into the other equations. Because <b>sympy</b><font color=#8B008B>.solveset</font> function expects the input equations to be equal to 0, the <font color=#4682B4>EnzymeModule</font><font color=#00008B>.enzyme_net_flux_error</font> method with the <font color=#B22222>use_values</font>  argument set to False to get the appropriate expression."
   ]
  },
  {
   "cell_type": "code",
   "execution_count": 12,
   "metadata": {},
   "outputs": [
    {
     "name": "stdout",
     "output_type": "stream",
     "text": [
      "Enzyme Net Flux Equation\n",
      "------------------------\n",
      "-kf_PYK⋅(pyk_R0_AP_c + pyk_R1_AP_c + pyk_R2_AP_c + pyk_R3_AP_c + pyk_R4_AP_c) \n",
      "+ v_PYK\n"
     ]
    },
    {
     "name": "stdout",
     "output_type": "stream",
     "text": [
      "\n",
      " {kf_PYK, Keq_PYK_L, Keq_PYK_I, adp_c, pep_c, v_PYK, Keq_PYK_ACT, kf_PYK_A, Keq_PYK_P, kf_PYK_P, atp_c, fdp_c, Keq_PYK_A}\n"
     ]
    }
   ],
   "source": [
    "enzyme_net_flux_equation = strip_time(PYK.enzyme_net_flux_error(False))\n",
    "print(\"Enzyme Net Flux Equation\\n\" + \"-\"*24)\n",
    "sym.pprint(enzyme_net_flux_equation)\n",
    "\n",
    "# Solve for last unknown concentration symbolically\n",
    "sol = sym.solveset(enzyme_net_flux_equation.subs(enzyme_solutions), \"pyk_R0_c\")\n",
    "\n",
    "# Update solution dictionary with the new solution\n",
    "enzyme_solutions[sym.Symbol(\"pyk_R0_c\")] = list(sol)[0]\n",
    "\n",
    "# Update solutions with free variable solutions\n",
    "enzyme_solutions = {\n",
    "    enzyme_module_species: sym.simplify(solution.subs(enzyme_solutions))\n",
    "    for enzyme_module_species, solution in enzyme_solutions.items()}\n",
    "\n",
    "args = set()\n",
    "for sol in enzyme_solutions.values():\n",
    "    args.update(sol.atoms(sym.Symbol))\n",
    "print(\"\\n\", args)"
   ]
  },
  {
   "cell_type": "markdown",
   "metadata": {},
   "source": [
    "#### Numerical Values\n",
    "At this point, numerical values are defined for the dissociation constants and the concentrations of the substrates, cofactors, activators, and inhibitors. Providing these numerical values will speed up the subsequent calculations. \n",
    "\n",
    "To do this, experimental data is used to define the dissociations constants for the different binding steps under the QEA assumption. The concentrations of the non-enzyme species are taken from the glycolysis model. \n",
    "\n",
    "Experimental data gives the following for the dissociation constants: \n",
    "\n",
    "$$\\\\K_i=3.39 mM,\\ K_a=0.005 mM,\\ K_A=0.474 mM,\\ K_P=0.225 mM,\\ $$ and an allosteric constant of \\\\(K_L = 19\\\\)."
   ]
  },
  {
   "cell_type": "code",
   "execution_count": 13,
   "metadata": {},
   "outputs": [
    {
     "name": "stdout",
     "output_type": "stream",
     "text": [
      "Ligand IDs: ['adp_c', 'atp_c', 'fdp_c', 'h_c', 'pep_c', 'pyr_c']\n",
      "Parameter IDs: ['PYK_P', 'PYK_A', 'PYK_I', 'PYK_ACT', 'PYK_L']\n",
      "\n",
      "Numerical Values\n",
      "----------------\n",
      "v_PYK = 2.2399999999999998\n",
      "adp_c = 0.2899999582027138\n",
      "atp_c = 1.5999999999999996\n",
      "fdp_c = 0.014600002607780488\n",
      "h_c = 8.99757e-05\n",
      "pep_c = 0.017000002450186093\n",
      "pyr_c = 0.060301\n",
      "Keq_PYK_P = 4.444444444444445\n",
      "Keq_PYK_A = 2.109704641350211\n",
      "Keq_PYK_I = 0.2949852507374631\n",
      "Keq_PYK_ACT = 200.0\n",
      "Keq_PYK_L = 19\n"
     ]
    }
   ],
   "source": [
    "numerical_values = {}\n",
    "\n",
    "# Get ligand IDs and parameter IDs\n",
    "ligand_ids = sorted([str(ligand) for ligand in PYK.enzyme_module_ligands])\n",
    "parameter_ids = [\"_\".join((PYK.id, abbrev)) for abbrev in abbreviations + [\"L\"]]\n",
    "print(\"Ligand IDs: \" + str(ligand_ids))\n",
    "print(\"Parameter IDs: \" + str(parameter_ids))\n",
    "\n",
    "# Load the glycolysis model to extract steady state values\n",
    "glycolysis = json.load_json_model(path.realpath(path.join(\"models\", \"Glycolysis.json\")))\n",
    "\n",
    "# Get the steady state flux value and add to numerical values\n",
    "PYK.enzyme_net_flux = glycolysis.reactions.get_by_id(PYK.id).steady_state_flux\n",
    "numerical_values.update({PYK.enzyme_flux_symbol: PYK.enzyme_net_flux})\n",
    "\n",
    "# Get the steady state concentration values and add to numerical values\n",
    "initial_conditions = {\n",
    "    str(ligand): glycolysis.initial_conditions[glycolysis.metabolites.get_by_id(ligand)]\n",
    "    for ligand in ligand_ids}\n",
    "numerical_values.update(initial_conditions)\n",
    "# Define parameter values and add to numerical values\n",
    "# Because of the QEA, invert dissociation constants for Keq\n",
    "parameter_values = {\n",
    "    \"Keq_\" + parameter_id: value \n",
    "    for parameter_id, value in zip(parameter_ids, [1/0.225, 1/0.474, 1/3.39, 1/0.005, 19])}\n",
    "numerical_values.update(parameter_values)\n",
    "\n",
    "# Display numerical values\n",
    "print(\"\\nNumerical Values\\n----------------\")\n",
    "for k, v in numerical_values.items():\n",
    "    print(\"{0} = {1}\".format(k, v))"
   ]
  },
  {
   "cell_type": "markdown",
   "metadata": {},
   "source": [
    "The last part of this step is to simplify the solutions for the enzyme forms and, as a QA check, ensure that only rate constants are the only symbolic arguments in the solutions. "
   ]
  },
  {
   "cell_type": "code",
   "execution_count": 14,
   "metadata": {},
   "outputs": [
    {
     "name": "stdout",
     "output_type": "stream",
     "text": [
      "{kf_PYK, kf_PYK_A, kf_PYK_P}\n"
     ]
    }
   ],
   "source": [
    "# Substitute values into equations\n",
    "enzyme_solutions = {\n",
    "    enzyme_module_species: sym.simplify(solution.subs(numerical_values))\n",
    "    for enzyme_module_species, solution in enzyme_solutions.items()}\n",
    "\n",
    "args = set()\n",
    "for sol in enzyme_solutions.values():\n",
    "    args.update(sol.atoms(sym.Symbol))\n",
    "print(args)"
   ]
  },
  {
   "cell_type": "markdown",
   "metadata": {},
   "source": [
    "### Determine rate constants\n",
    "#### Total Enzyme Concentration and $r_{T}$ \n",
    "After solving for the enzyme forms, the next step is to define equations for the total enzyme concentration and for the fraction of the enzyme in the T state. These two equations can be used as constraints for determining the rate parameters. To view the equation for the total enzyme concentration, we can use the <font color=#4682B4>EnzymeModule</font><font color=1E90FF>.enzyme_concentration_total_equation</font> property."
   ]
  },
  {
   "cell_type": "code",
   "execution_count": 15,
   "metadata": {
    "scrolled": true
   },
   "outputs": [
    {
     "name": "stdout",
     "output_type": "stream",
     "text": [
      "PYK_Total = pyk_R0_AP_c(t) + pyk_R0_A_c(t) + pyk_R0_P_c(t) + pyk_R0_c(t) + pyk\n",
      "_R1_AP_c(t) + pyk_R1_A_c(t) + pyk_R1_P_c(t) + pyk_R1_c(t) + pyk_R2_AP_c(t) + p\n",
      "yk_R2_A_c(t) + pyk_R2_P_c(t) + pyk_R2_c(t) + pyk_R3_AP_c(t) + pyk_R3_A_c(t) + \n",
      "pyk_R3_P_c(t) + pyk_R3_c(t) + pyk_R4_AP_c(t) + pyk_R4_A_c(t) + pyk_R4_P_c(t) +\n",
      " pyk_R4_c(t) + pyk_T0_c(t) + pyk_T1_c(t) + pyk_T2_c(t) + pyk_T3_c(t) + pyk_T4_\n",
      "c(t)\n"
     ]
    }
   ],
   "source": [
    "sym.pprint(PYK.enzyme_concentration_total_equation)"
   ]
  },
  {
   "cell_type": "markdown",
   "metadata": {},
   "source": [
    "The total concentration of PYK is 69 nM (=0.000069 mM). The <font color=#4682B4>EnzymeModule</font><font color=1E90FF>.enzyme_concentration_total</font> atrribute can be used to set and store this concentration."
   ]
  },
  {
   "cell_type": "code",
   "execution_count": 16,
   "metadata": {},
   "outputs": [
    {
     "name": "stdout",
     "output_type": "stream",
     "text": [
      "6.9e-05\n"
     ]
    }
   ],
   "source": [
    "PYK.enzyme_concentration_total = 69e-6\n",
    "print(PYK.enzyme_concentration_total)"
   ]
  },
  {
   "cell_type": "markdown",
   "metadata": {},
   "source": [
    "To determine the rate constants, an optimization problem where the objective function is to minimize the error between the measured and calculated total enzyme concentrations. To create the objective function, the <font color=#4682B4>EnzymeModule</font><font color=#00008B>.enzyme_concentration_total_error</font> method with the <font color=#B22222>use_values</font> argument set as False to get the symbolic expression of the constraint. "
   ]
  },
  {
   "cell_type": "code",
   "execution_count": 17,
   "metadata": {},
   "outputs": [
    {
     "name": "stdout",
     "output_type": "stream",
     "text": [
      "│-PYK_Total + pyk_R0_AP_c + pyk_R0_A_c + pyk_R0_P_c + pyk_R0_c + pyk_R1_AP_c +\n",
      " pyk_R1_A_c + pyk_R1_P_c + pyk_R1_c + pyk_R2_AP_c + pyk_R2_A_c + pyk_R2_P_c + \n",
      "pyk_R2_c + pyk_R3_AP_c + pyk_R3_A_c + pyk_R3_P_c + pyk_R3_c + pyk_R4_AP_c + py\n",
      "k_R4_A_c + pyk_R4_P_c + pyk_R4_c + pyk_T0_c + pyk_T1_c + pyk_T2_c + pyk_T3_c +\n",
      " pyk_T4_c│\n"
     ]
    }
   ],
   "source": [
    "enzyme_total_constraint = abs(strip_time(PYK.enzyme_concentration_total_error(use_values=False)))\n",
    "sym.pprint(enzyme_total_constraint)"
   ]
  },
  {
   "cell_type": "markdown",
   "metadata": {},
   "source": [
    "Substitute the solutions for the enzyme forms to get an equation for the error in the enzyme total concentration in terms of the rate constants."
   ]
  },
  {
   "cell_type": "code",
   "execution_count": 18,
   "metadata": {},
   "outputs": [],
   "source": [
    "# Substitute value for enzyme concentration total\n",
    "enzyme_total_constraint = enzyme_total_constraint.subs({PYK.enzyme_total_symbol: PYK.enzyme_concentration_total})\n",
    "# Substitute solutions into constraint and simplify\n",
    "enzyme_total_constraint = sym.simplify(enzyme_total_constraint.subs(enzyme_solutions))"
   ]
  },
  {
   "cell_type": "markdown",
   "metadata": {},
   "source": [
    "To create the objective function in a format suitable for the minimization method from the <b>scipy</b><font color=#800080>.optimize</font> submodule, the <b>sympy</b><font color=#8B008B>.lambdify</font> function can be used to convert the symbolic expression into a lambda function with the rate constants as the arguments. This lambda function can then be used to generate the objective function for the <font color=#800080>optimize</font><font color=#8B008B>.minimize</font> method."
   ]
  },
  {
   "cell_type": "code",
   "execution_count": 19,
   "metadata": {},
   "outputs": [],
   "source": [
    "# Create a sorted tuple of the arguments to ensure the input format does not change\n",
    "args = tuple(sorted([str(arg) for arg in list(args)]))\n",
    "# Create the objective function as a lambda function\n",
    "objective_function = lambda x: sym.lambdify(args, enzyme_total_constraint)(*x)"
   ]
  },
  {
   "cell_type": "markdown",
   "metadata": {},
   "source": [
    "Another constraint can be set on the amount of inhibited enzyme in the steady state of the system using the T fraction (denoted as \\\\(r_{T}\\\\)). This fraction is simply the amount of inhibited enzyme over the total amount of enzyme. Assume 15-25% of PYK is in inhibited form for this constraint. \n",
    "\n",
    "To make the fraction as a symbolic expression, we can use the <font color=#4682B4>EnzymeModule</font><font color=#00008B>.make_enzyme_fraction</font> method. This method is designed to assist in making fractions and ratios by passing to the function:\n",
    "1. A string to the <font color=#B22222>categorized_attr</font> argument identifying which categorized attribute (either \"species\" for the <font color=#4682B4>EnzymeModule</font><font color=1E90FF>.enzyme_module_species_categorized</font> or \"reactions\" for the <font color=#4682B4>EnzymeModule</font><font color=1E90FF>.enzyme_module_reactions_categorized</font>).\n",
    "2. A string for the <font color=#B22222>top</font> argument and a string for the <font color=#B22222>bottom</font> argument identifying the categories to sum and use in the numerator and the denominator, respectively.\n",
    "3. A bool to the <font color=#B22222>use_values</font> argument indicating whether to substitute numerical values into the expression to return a float or to keep the ratio as a sympy expression.\n",
    "\n",
    "__Note:__ The string \"Equation\" can be passed to either the <font color=#B22222>top</font> or <font color=#B22222>bottom</font> arguments to utilize the equation stored either in <font color=1E90FF>enzyme_concentration_total_equation</font> (for <font color=#B22222>categorized_attr</font>=\"species\"), or   <font color=1E90FF>enzyme_net_flux_equation</font> (for <font color=#B22222>categorized_attr</font>=\"reactions\")."
   ]
  },
  {
   "cell_type": "code",
   "execution_count": 20,
   "metadata": {},
   "outputs": [],
   "source": [
    "# Set the values for the constraint bounds\n",
    "r_T_lb, r_T_ub = (0.15, 0.25)\n",
    "# Make a symbolic expression for enzyme fraction.\n",
    "r_T_expr = PYK.make_enzyme_fraction(categorized_attr=\"species\", top=\"Tense\", bottom=\"Equation\", use_values=False)\n",
    "# Substitute solutions into the expression to make\n",
    "# solely dependent on the rate constants\n",
    "r_T_expr = sym.simplify(strip_time(r_T_expr).subs(enzyme_solutions))\n",
    "\n",
    "# Make lambda functions for the T fraction constraint\n",
    "r_T_lb_constraint = lambda x: sym.lambdify(args, r_T_expr - r_T_lb)(*x)\n",
    "r_T_ub_constraint = lambda x: sym.lambdify(args, r_T_ub - r_T_expr)(*x)"
   ]
  },
  {
   "cell_type": "markdown",
   "metadata": {},
   "source": [
    "Lastly, we place lower and upper bounds on the rate constants to ensure that the values are non-negative and are within physiological limits, and then we solve the optmization problem. Once the optimization has finished, we check whether it was successful, and if so, what the optimality and errors are associated with this particular solution instance."
   ]
  },
  {
   "cell_type": "code",
   "execution_count": 21,
   "metadata": {
    "scrolled": false
   },
   "outputs": [
    {
     "name": "stdout",
     "output_type": "stream",
     "text": [
      "Ordered Args: ('kf_PYK', 'kf_PYK_A', 'kf_PYK_P')\n",
      "\n",
      "| niter |f evals|CG iter|  obj func   |tr radius |   opt    |  c viol  |\n",
      "|-------|-------|-------|-------------|----------|----------|----------|\n",
      "|   1   |   4   |   0   | +4.3786e-03 | 1.00e+00 | 1.43e-06 | 2.72e-03 |\n"
     ]
    },
    {
     "name": "stdout",
     "output_type": "stream",
     "text": [
      "|   2   |   8   |   1   | +4.3786e-03 | 5.60e+00 | 1.62e-06 | 2.72e-03 |\n",
      "|   3   |  12   |   2   | +4.3783e-03 | 3.92e+01 | 1.83e-06 | 2.72e-03 |\n"
     ]
    },
    {
     "name": "stdout",
     "output_type": "stream",
     "text": [
      "|   4   |  16   |   3   | +4.3759e-03 | 2.74e+02 | 1.96e-06 | 2.73e-03 |\n",
      "|   5   |  20   |   4   | +4.3590e-03 | 1.92e+03 | 2.02e-06 | 2.73e-03 |\n"
     ]
    },
    {
     "name": "stdout",
     "output_type": "stream",
     "text": [
      "|   6   |  24   |   5   | +4.2443e-03 | 1.34e+04 | 2.00e-06 | 2.73e-03 |\n",
      "|   7   |  28   |   6   | +3.5847e-03 | 9.41e+04 | 1.69e-06 | 2.76e-03 |\n"
     ]
    },
    {
     "name": "stdout",
     "output_type": "stream",
     "text": [
      "|   8   |  32   |   8   | +1.8330e-03 | 5.83e+05 | 8.32e-07 | 2.96e-03 |\n",
      "|   9   |  36   |  11   | +9.6135e-04 | 1.10e+06 | 4.10e-07 | 3.30e-03 |\n"
     ]
    },
    {
     "name": "stdout",
     "output_type": "stream",
     "text": [
      "|  10   |  40   |  14   | +5.2653e-04 | 1.99e+06 | 1.81e-07 | 3.84e-03 |\n",
      "|  11   |  44   |  17   | +3.6919e-04 | 1.99e+06 | 4.51e-07 | 4.28e-03 |\n"
     ]
    },
    {
     "name": "stdout",
     "output_type": "stream",
     "text": [
      "|  12   |  48   |  20   | +4.6862e-04 | 1.99e+06 | 3.35e-07 | 3.97e-03 |\n",
      "|  13   |  52   |  23   | +5.7817e-04 | 1.99e+06 | 3.10e-07 | 3.74e-03 |\n"
     ]
    },
    {
     "name": "stdout",
     "output_type": "stream",
     "text": [
      "|  14   |  56   |  26   | +6.9533e-04 | 1.99e+06 | 3.10e-07 | 3.56e-03 |\n",
      "|  15   |  60   |  29   | +8.3756e-04 | 1.99e+06 | 3.08e-07 | 3.40e-03 |\n"
     ]
    },
    {
     "name": "stdout",
     "output_type": "stream",
     "text": [
      "|  16   |  64   |  32   | +1.0045e-03 | 1.99e+06 | 3.05e-07 | 3.27e-03 |\n",
      "|  17   |  68   |  34   | +1.1495e-03 | 1.99e+06 | 3.08e-07 | 3.12e-03 |\n"
     ]
    },
    {
     "name": "stdout",
     "output_type": "stream",
     "text": [
      "|  18   |  72   |  37   | +6.2427e-04 | 5.60e+06 | 3.53e-06 | 1.87e-03 |\n",
      "|  19   |  76   |  39   | +7.0437e-04 | 5.60e+06 | 3.20e-06 | 1.15e-03 |\n",
      "|  20   |  80   |  41   | +8.0865e-04 | 5.60e+06 | 3.43e-06 | 0.00e+00 |\n"
     ]
    },
    {
     "name": "stdout",
     "output_type": "stream",
     "text": [
      "|  21   |  84   |  42   | +8.4737e-04 | 5.60e+06 | 4.18e-06 | 0.00e+00 |\n",
      "|  22   |  88   |  43   | +9.1350e-04 | 5.60e+06 | 3.56e-06 | 0.00e+00 |\n",
      "|  23   |  88   |  43   | +9.1350e-04 | 2.80e+07 | 7.08e-07 | 0.00e+00 |\n",
      "|  24   |  88   |  43   | +9.1350e-04 | 1.40e+08 | 1.37e-07 | 0.00e+00 |\n",
      "|  25   |  88   |  43   | +9.1350e-04 | 7.00e+08 | 2.33e-08 | 0.00e+00 |\n",
      "|  26   |  88   |  43   | +9.1350e-04 | 3.50e+09 | 3.00e-09 | 0.00e+00 |\n"
     ]
    },
    {
     "name": "stdout",
     "output_type": "stream",
     "text": [
      "|  27   |  96   |  46   | +6.1775e-04 | 3.50e+09 | 1.50e-09 | 0.00e+00 |\n",
      "|  28   |  96   |  46   | +6.1775e-04 | 1.75e+10 | 2.24e-09 | 0.00e+00 |\n",
      "|  29   |  96   |  46   | +6.1775e-04 | 8.75e+10 | 2.65e-09 | 0.00e+00 |\n",
      "|  30   |  96   |  46   | +6.1775e-04 | 4.37e+11 | 2.74e-09 | 0.00e+00 |\n",
      "|  31   |  96   |  46   | +6.1775e-04 | 2.19e+12 | 2.75e-09 | 0.00e+00 |\n",
      "|  32   |  96   |  46   | +6.1775e-04 | 1.09e+13 | 2.76e-09 | 0.00e+00 |\n",
      "|  33   |  100  |  47   | +6.1724e-04 | 1.09e+13 | 2.75e-09 | 0.00e+00 |\n"
     ]
    },
    {
     "name": "stdout",
     "output_type": "stream",
     "text": [
      "|  34   |  108  |  48   | +5.4273e-04 | 1.09e+13 | 1.61e-09 | 0.00e+00 |\n",
      "|  35   |  112  |  50   | +5.3055e-04 | 1.09e+13 | 1.54e-09 | 0.00e+00 |\n"
     ]
    },
    {
     "name": "stdout",
     "output_type": "stream",
     "text": [
      "|  36   |  116  |  52   | +5.1537e-04 | 1.09e+13 | 1.46e-09 | 0.00e+00 |\n",
      "|  37   |  120  |  54   | +3.3993e-04 | 1.09e+13 | 6.72e-10 | 0.00e+00 |\n"
     ]
    },
    {
     "name": "stdout",
     "output_type": "stream",
     "text": [
      "|  38   |  124  |  56   | +2.6154e-04 | 1.09e+13 | 4.16e-10 | 0.00e+00 |\n",
      "|  39   |  128  |  58   | +1.8759e-04 | 1.09e+13 | 2.87e-10 | 0.00e+00 |\n",
      "|  40   |  132  |  61   | +1.8759e-04 | 1.09e+12 | 2.87e-10 | 0.00e+00 |\n"
     ]
    },
    {
     "name": "stdout",
     "output_type": "stream",
     "text": [
      "|  41   |  140  |  64   | +1.8759e-04 | 1.09e+11 | 2.87e-10 | 0.00e+00 |\n",
      "|  42   |  148  |  67   | +1.8759e-04 | 1.09e+10 | 2.87e-10 | 0.00e+00 |\n"
     ]
    },
    {
     "name": "stdout",
     "output_type": "stream",
     "text": [
      "|  43   |  156  |  70   | +1.8759e-04 | 1.09e+09 | 2.87e-10 | 0.00e+00 |\n"
     ]
    },
    {
     "name": "stdout",
     "output_type": "stream",
     "text": [
      "|  44   |  164  |  73   | +1.8759e-04 | 1.09e+08 | 2.87e-10 | 0.00e+00 |\n",
      "|  45   |  172  |  76   | +1.8759e-04 | 1.09e+07 | 2.87e-10 | 0.00e+00 |\n"
     ]
    },
    {
     "name": "stdout",
     "output_type": "stream",
     "text": [
      "|  46   |  180  |  79   | +1.8759e-04 | 1.09e+06 | 2.87e-10 | 0.00e+00 |\n"
     ]
    },
    {
     "name": "stdout",
     "output_type": "stream",
     "text": [
      "|  47   |  188  |  81   | +1.8759e-04 | 1.09e+05 | 2.87e-10 | 0.00e+00 |\n"
     ]
    },
    {
     "name": "stdout",
     "output_type": "stream",
     "text": [
      "|  48   |  196  |  83   | +1.7527e-04 | 7.65e+05 | 1.06e-09 | 0.00e+00 |\n",
      "|  49   |  200  |  84   | +1.7528e-04 | 7.65e+05 | 4.75e-10 | 0.00e+00 |\n",
      "|  50   |  200  |  84   | +1.7528e-04 | 3.83e+06 | 9.53e-11 | 0.00e+00 |\n",
      "\n",
      "`gtol` termination condition is satisfied.\n",
      "Number of iterations: 50, function evaluations: 200, CG iterations: 84, optimality: 9.53e-11, constraint violation: 0.00e+00, execution time:  6.2 s.\n",
      "\n",
      "Optimization Success: True\n",
      "Optimization Optimality: 9.5325e-11\n",
      "Parameter Solutions: {'kf_PYK': 2343052.0, 'kf_PYK_A': 291049.0, 'kf_PYK_P': 1773303.0}\n",
      "Optimization Error: 1.7528e-4\n",
      "Enzyme T-fraction: 0.1500\n"
     ]
    }
   ],
   "source": [
    "print(\"Ordered Args: {0}\\n\".format(str(args)))\n",
    "# Set arguments for minimization \n",
    "initial_guess = [1e6, 5e4, 5e4]\n",
    "kf_bounds = ((1e3, 1e9), (1e3, 1e9), (1e3, 1e9))\n",
    "constraints = (\n",
    "    {\"type\": \"ineq\", \"fun\": r_T_ub_constraint},\n",
    "    {\"type\": \"ineq\", \"fun\": r_T_lb_constraint})\n",
    "\n",
    "# Find a feasible solution\n",
    "sol = optimize.minimize(\n",
    "    objective_function, x0=initial_guess, method=\"trust-constr\",\n",
    "    bounds=kf_bounds, constraints=constraints,\n",
    "    options={\"gtol\": 1e-10, \"xtol\": 1e-10, \"maxiter\": 1e4, \"verbose\": 2})\n",
    "\n",
    "# Check whether optimzation was successful\n",
    "print(\"\\nOptimization Success: {0}\".format(sol.success))\n",
    "if sol.success:\n",
    "    # Update the paramter values dictionary with the feasible solution\n",
    "    parameter_values.update(dict(zip(args, [round(x) for x in sol.x])))\n",
    "    print(\"Optimization Optimality: {0:.4e}\".format(sol.optimality))\n",
    "    print(\"Parameter Solutions: {:}\".format(str({arg: parameter_values[arg] for arg in args})))\n",
    "    # Plug solutions back into constraints for validation\n",
    "    print(\"Optimization Error: {0:.4e}\".format(enzyme_total_constraint.subs(parameter_values)))\n",
    "    print(\"Enzyme T-fraction: {:.4f}\".format(r_T_expr.subs(parameter_values)))"
   ]
  },
  {
   "cell_type": "markdown",
   "metadata": {},
   "source": [
    "With a successful optimization, the module is updated with the parameter values.  The inhibition and activation reactions are set to have a high forward rate constant and the allosteric transition even higher, limiting the amount of unbound enzyme and ensuring that the dynamics are determined by the dissociation and allosteric constants. \n",
    "\n",
    "__Note:__ This assumption for the rate constants can be made because none of the enzyme concentrations are dependendent on the activation, inhibition, and allosteric rate constants."
   ]
  },
  {
   "cell_type": "code",
   "execution_count": 22,
   "metadata": {},
   "outputs": [
    {
     "name": "stdout",
     "output_type": "stream",
     "text": [
      "Keq_PYK_P = 4.444444444444445\n",
      "Keq_PYK_A = 2.109704641350211\n",
      "Keq_PYK_I = 0.2949852507374631\n",
      "Keq_PYK_ACT = 200.0\n",
      "Keq_PYK_L = 19\n",
      "kf_PYK = 2343052.0\n",
      "kf_PYK_A = 291049.0\n",
      "kf_PYK_P = 1773303.0\n",
      "kf_PYK_I = 1000000.0\n",
      "kf_PYK_ACT = 1000000.0\n",
      "kf_PYK_L = 1000000000000.0\n"
     ]
    }
   ],
   "source": [
    "# Add the activation, inhibition, and allosteric rate constants\n",
    "for abbrev, value in zip([\"I\", \"ACT\", \"L\"], [1e6, 1e6, 1e6**2]):\n",
    "    to_join = (\"kf\", PYK.id, abbrev) if enzyme_prefix else (\"kf\", abbrev)\n",
    "    param = \"_\".join(to_join)\n",
    "    parameter_values.update({param: value})\n",
    "# Display values\n",
    "for k, v in parameter_values.items():\n",
    "    print(\"{0} = {1}\".format(k, v))"
   ]
  },
  {
   "cell_type": "markdown",
   "metadata": {},
   "source": [
    "### Solve steady state concentrations numerically\n",
    "Once the rate constants have been defined, the steady state concentrations of the enzyme can be determined."
   ]
  },
  {
   "cell_type": "code",
   "execution_count": 23,
   "metadata": {},
   "outputs": [
    {
     "name": "stdout",
     "output_type": "stream",
     "text": [
      "Ligand Concentrations\n",
      "---------------------\n",
      "pep_c = 0.017000002450186093\n",
      "adp_c = 0.2899999582027138\n",
      "fdp_c = 0.014600002607780488\n",
      "atp_c = 1.5999999999999996\n",
      "pyr_c = 0.060301\n",
      "h_c = 8.99757e-05\n",
      "\n",
      "Enzyme Concentrations\n",
      "----------------------\n",
      "pyk_R0_c = 1.566609e-06\n",
      "pyk_R0_A_c = 8.13833e-07\n",
      "pyk_R0_P_c = 1.00974e-07\n",
      "pyk_R0_AP_c = 1.1478e-08\n",
      "pyk_T0_c = 2.9765576e-05\n",
      "pyk_R1_c = 3.049667e-06\n",
      "pyk_R1_A_c = 1.584261e-06\n",
      "pyk_R1_P_c = 1.96563e-07\n",
      "pyk_R1_AP_c = 2.2344e-08\n",
      "pyk_T1_c = 3.512162e-06\n",
      "pyk_R2_c = 2.226257e-06\n",
      "pyk_R2_A_c = 1.156511e-06\n",
      "pyk_R2_P_c = 1.43491e-07\n",
      "pyk_R2_AP_c = 1.6311e-08\n",
      "pyk_T2_c = 1.105105e-06\n",
      "pyk_R3_c = 9.751007e-06\n",
      "pyk_R3_A_c = 5.065519e-06\n",
      "pyk_R3_P_c = 6.28492e-07\n",
      "pyk_R3_AP_c = 7.1442e-08\n",
      "pyk_T3_c = 7.82375e-07\n",
      "pyk_R4_c = 0.000113891786\n",
      "pyk_R4_A_c = 5.916527e-05\n",
      "pyk_R4_P_c = 7.340787e-06\n",
      "pyk_R4_AP_c = 8.34443e-07\n",
      "pyk_T4_c = 1.477051e-06\n"
     ]
    }
   ],
   "source": [
    "# Substitute values into equations\n",
    "initial_conditions.update({\n",
    "    str(enzyme_module_species): round(float(sym.simplify(solution.subs(parameter_values))), 12)\n",
    "    for enzyme_module_species, solution in enzyme_solutions.items()})\n",
    "\n",
    "for header, dictlist in zip([\"Ligand\", \"\\nEnzyme\"], [PYK.enzyme_module_ligands, PYK.enzyme_module_species]):\n",
    "    header += \" Concentrations\"\n",
    "    print(\"\\n\".join([header, \"-\" * len(header)]))\n",
    "    for species in dictlist:\n",
    "        ic = initial_conditions[species.id]\n",
    "        print(\"{0} = {1}\".format(species.id, ic))"
   ]
  },
  {
   "cell_type": "markdown",
   "metadata": {},
   "source": [
    "#### Set Initial Conditions and Parameters\n",
    "Once the steady state concentrations have been determined, the initial conditions and parameters are added to the module. All custom parameter are added to the custom_parameter attribute. The allosteric transition uses the standard parameter identifiers (returned by <font color=1E90FF>kf_str</font> and <font color=1E90FF>Keq_str</font> properties of the <font color=#4682B4>EnzymeModuleReaction</font>), so they are popped out of the custom parameters and set through their respective attribute setter methods. "
   ]
  },
  {
   "cell_type": "code",
   "execution_count": 24,
   "metadata": {},
   "outputs": [],
   "source": [
    "# Set initial conditions\n",
    "for met, concentration in initial_conditions.items():\n",
    "    PYK.metabolites.get_by_id(str(met)).ic = concentration\n",
    "\n",
    "# Add the custom parameters and values for kf and Keq to model\n",
    "PYK.custom_parameters.update(parameter_values)\n",
    "# PYK_L uses standard reaction parameters and not custom parameters\n",
    "PYK_L = PYK.enzyme_module_reactions.PYK_L\n",
    "PYK_L.kf = PYK.custom_parameters.pop(PYK_L.kf_str)\n",
    "PYK_L.Keq = PYK.custom_parameters.pop(PYK_L.Keq_str)"
   ]
  },
  {
   "cell_type": "markdown",
   "metadata": {},
   "source": [
    "#### Ordering of internal species and reactions\n",
    "\n",
    "Sometimes, it is also desirable to reorder the metabolite and reaction objects inside the model to follow the physiology. To reorder the internal species, one can use <font color=#008000>cobra</font><font color=#556B2F>.DictLists</font> and the <font color=#556B2F>DictList</font><font color=#006400>.get_by_any</font> with the list of metabolite identifiers in the desirable order. To ensure all metabolites and reactions are still present and not forgotten in the model, a small QA check is also performed. "
   ]
  },
  {
   "cell_type": "code",
   "execution_count": 25,
   "metadata": {},
   "outputs": [
    {
     "data": {
      "text/html": [
       "<div>\n",
       "<style scoped>\n",
       "    .dataframe tbody tr th:only-of-type {\n",
       "        vertical-align: middle;\n",
       "    }\n",
       "\n",
       "    .dataframe tbody tr th {\n",
       "        vertical-align: top;\n",
       "    }\n",
       "\n",
       "    .dataframe thead th {\n",
       "        text-align: right;\n",
       "    }\n",
       "</style>\n",
       "<table border=\"1\" class=\"dataframe\">\n",
       "  <thead>\n",
       "    <tr style=\"text-align: right;\">\n",
       "      <th></th>\n",
       "      <th>PYK_R01</th>\n",
       "      <th>PYK_R02</th>\n",
       "      <th>PYK_R03</th>\n",
       "      <th>PYK_R04</th>\n",
       "      <th>PYK_R05</th>\n",
       "      <th>PYK_R10</th>\n",
       "      <th>PYK_R11</th>\n",
       "      <th>PYK_R12</th>\n",
       "      <th>PYK_R13</th>\n",
       "      <th>PYK_R14</th>\n",
       "      <th>...</th>\n",
       "      <th>PYK_R41</th>\n",
       "      <th>PYK_R42</th>\n",
       "      <th>PYK_R43</th>\n",
       "      <th>PYK_R44</th>\n",
       "      <th>PYK_R45</th>\n",
       "      <th>PYK_L</th>\n",
       "      <th>PYK_T1</th>\n",
       "      <th>PYK_T2</th>\n",
       "      <th>PYK_T3</th>\n",
       "      <th>PYK_T4</th>\n",
       "    </tr>\n",
       "  </thead>\n",
       "  <tbody>\n",
       "    <tr>\n",
       "      <th>pep_c</th>\n",
       "      <td>-1</td>\n",
       "      <td>0</td>\n",
       "      <td>-1</td>\n",
       "      <td>0</td>\n",
       "      <td>0</td>\n",
       "      <td>0</td>\n",
       "      <td>-1</td>\n",
       "      <td>0</td>\n",
       "      <td>-1</td>\n",
       "      <td>0</td>\n",
       "      <td>...</td>\n",
       "      <td>-1</td>\n",
       "      <td>0</td>\n",
       "      <td>-1</td>\n",
       "      <td>0</td>\n",
       "      <td>0</td>\n",
       "      <td>0</td>\n",
       "      <td>0</td>\n",
       "      <td>0</td>\n",
       "      <td>0</td>\n",
       "      <td>0</td>\n",
       "    </tr>\n",
       "    <tr>\n",
       "      <th>adp_c</th>\n",
       "      <td>0</td>\n",
       "      <td>-1</td>\n",
       "      <td>0</td>\n",
       "      <td>-1</td>\n",
       "      <td>0</td>\n",
       "      <td>0</td>\n",
       "      <td>0</td>\n",
       "      <td>-1</td>\n",
       "      <td>0</td>\n",
       "      <td>-1</td>\n",
       "      <td>...</td>\n",
       "      <td>0</td>\n",
       "      <td>-1</td>\n",
       "      <td>0</td>\n",
       "      <td>-1</td>\n",
       "      <td>0</td>\n",
       "      <td>0</td>\n",
       "      <td>0</td>\n",
       "      <td>0</td>\n",
       "      <td>0</td>\n",
       "      <td>0</td>\n",
       "    </tr>\n",
       "    <tr>\n",
       "      <th>fdp_c</th>\n",
       "      <td>0</td>\n",
       "      <td>0</td>\n",
       "      <td>0</td>\n",
       "      <td>0</td>\n",
       "      <td>0</td>\n",
       "      <td>-1</td>\n",
       "      <td>0</td>\n",
       "      <td>0</td>\n",
       "      <td>0</td>\n",
       "      <td>0</td>\n",
       "      <td>...</td>\n",
       "      <td>0</td>\n",
       "      <td>0</td>\n",
       "      <td>0</td>\n",
       "      <td>0</td>\n",
       "      <td>0</td>\n",
       "      <td>0</td>\n",
       "      <td>0</td>\n",
       "      <td>0</td>\n",
       "      <td>0</td>\n",
       "      <td>0</td>\n",
       "    </tr>\n",
       "    <tr>\n",
       "      <th>atp_c</th>\n",
       "      <td>0</td>\n",
       "      <td>0</td>\n",
       "      <td>0</td>\n",
       "      <td>0</td>\n",
       "      <td>1</td>\n",
       "      <td>0</td>\n",
       "      <td>0</td>\n",
       "      <td>0</td>\n",
       "      <td>0</td>\n",
       "      <td>0</td>\n",
       "      <td>...</td>\n",
       "      <td>0</td>\n",
       "      <td>0</td>\n",
       "      <td>0</td>\n",
       "      <td>0</td>\n",
       "      <td>1</td>\n",
       "      <td>0</td>\n",
       "      <td>-1</td>\n",
       "      <td>-1</td>\n",
       "      <td>-1</td>\n",
       "      <td>-1</td>\n",
       "    </tr>\n",
       "    <tr>\n",
       "      <th>pyr_c</th>\n",
       "      <td>0</td>\n",
       "      <td>0</td>\n",
       "      <td>0</td>\n",
       "      <td>0</td>\n",
       "      <td>1</td>\n",
       "      <td>0</td>\n",
       "      <td>0</td>\n",
       "      <td>0</td>\n",
       "      <td>0</td>\n",
       "      <td>0</td>\n",
       "      <td>...</td>\n",
       "      <td>0</td>\n",
       "      <td>0</td>\n",
       "      <td>0</td>\n",
       "      <td>0</td>\n",
       "      <td>1</td>\n",
       "      <td>0</td>\n",
       "      <td>0</td>\n",
       "      <td>0</td>\n",
       "      <td>0</td>\n",
       "      <td>0</td>\n",
       "    </tr>\n",
       "    <tr>\n",
       "      <th>h_c</th>\n",
       "      <td>0</td>\n",
       "      <td>0</td>\n",
       "      <td>0</td>\n",
       "      <td>0</td>\n",
       "      <td>-1</td>\n",
       "      <td>0</td>\n",
       "      <td>0</td>\n",
       "      <td>0</td>\n",
       "      <td>0</td>\n",
       "      <td>0</td>\n",
       "      <td>...</td>\n",
       "      <td>0</td>\n",
       "      <td>0</td>\n",
       "      <td>0</td>\n",
       "      <td>0</td>\n",
       "      <td>-1</td>\n",
       "      <td>0</td>\n",
       "      <td>0</td>\n",
       "      <td>0</td>\n",
       "      <td>0</td>\n",
       "      <td>0</td>\n",
       "    </tr>\n",
       "    <tr>\n",
       "      <th>pyk_R0_c</th>\n",
       "      <td>-1</td>\n",
       "      <td>-1</td>\n",
       "      <td>0</td>\n",
       "      <td>0</td>\n",
       "      <td>1</td>\n",
       "      <td>-1</td>\n",
       "      <td>0</td>\n",
       "      <td>0</td>\n",
       "      <td>0</td>\n",
       "      <td>0</td>\n",
       "      <td>...</td>\n",
       "      <td>0</td>\n",
       "      <td>0</td>\n",
       "      <td>0</td>\n",
       "      <td>0</td>\n",
       "      <td>0</td>\n",
       "      <td>-1</td>\n",
       "      <td>0</td>\n",
       "      <td>0</td>\n",
       "      <td>0</td>\n",
       "      <td>0</td>\n",
       "    </tr>\n",
       "    <tr>\n",
       "      <th>pyk_R0_A_c</th>\n",
       "      <td>0</td>\n",
       "      <td>1</td>\n",
       "      <td>-1</td>\n",
       "      <td>0</td>\n",
       "      <td>0</td>\n",
       "      <td>0</td>\n",
       "      <td>0</td>\n",
       "      <td>0</td>\n",
       "      <td>0</td>\n",
       "      <td>0</td>\n",
       "      <td>...</td>\n",
       "      <td>0</td>\n",
       "      <td>0</td>\n",
       "      <td>0</td>\n",
       "      <td>0</td>\n",
       "      <td>0</td>\n",
       "      <td>0</td>\n",
       "      <td>0</td>\n",
       "      <td>0</td>\n",
       "      <td>0</td>\n",
       "      <td>0</td>\n",
       "    </tr>\n",
       "    <tr>\n",
       "      <th>pyk_R0_P_c</th>\n",
       "      <td>1</td>\n",
       "      <td>0</td>\n",
       "      <td>0</td>\n",
       "      <td>-1</td>\n",
       "      <td>0</td>\n",
       "      <td>0</td>\n",
       "      <td>0</td>\n",
       "      <td>0</td>\n",
       "      <td>0</td>\n",
       "      <td>0</td>\n",
       "      <td>...</td>\n",
       "      <td>0</td>\n",
       "      <td>0</td>\n",
       "      <td>0</td>\n",
       "      <td>0</td>\n",
       "      <td>0</td>\n",
       "      <td>0</td>\n",
       "      <td>0</td>\n",
       "      <td>0</td>\n",
       "      <td>0</td>\n",
       "      <td>0</td>\n",
       "    </tr>\n",
       "    <tr>\n",
       "      <th>pyk_R0_AP_c</th>\n",
       "      <td>0</td>\n",
       "      <td>0</td>\n",
       "      <td>1</td>\n",
       "      <td>1</td>\n",
       "      <td>-1</td>\n",
       "      <td>0</td>\n",
       "      <td>0</td>\n",
       "      <td>0</td>\n",
       "      <td>0</td>\n",
       "      <td>0</td>\n",
       "      <td>...</td>\n",
       "      <td>0</td>\n",
       "      <td>0</td>\n",
       "      <td>0</td>\n",
       "      <td>0</td>\n",
       "      <td>0</td>\n",
       "      <td>0</td>\n",
       "      <td>0</td>\n",
       "      <td>0</td>\n",
       "      <td>0</td>\n",
       "      <td>0</td>\n",
       "    </tr>\n",
       "    <tr>\n",
       "      <th>pyk_T0_c</th>\n",
       "      <td>0</td>\n",
       "      <td>0</td>\n",
       "      <td>0</td>\n",
       "      <td>0</td>\n",
       "      <td>0</td>\n",
       "      <td>0</td>\n",
       "      <td>0</td>\n",
       "      <td>0</td>\n",
       "      <td>0</td>\n",
       "      <td>0</td>\n",
       "      <td>...</td>\n",
       "      <td>0</td>\n",
       "      <td>0</td>\n",
       "      <td>0</td>\n",
       "      <td>0</td>\n",
       "      <td>0</td>\n",
       "      <td>1</td>\n",
       "      <td>-1</td>\n",
       "      <td>0</td>\n",
       "      <td>0</td>\n",
       "      <td>0</td>\n",
       "    </tr>\n",
       "    <tr>\n",
       "      <th>pyk_R1_c</th>\n",
       "      <td>0</td>\n",
       "      <td>0</td>\n",
       "      <td>0</td>\n",
       "      <td>0</td>\n",
       "      <td>0</td>\n",
       "      <td>1</td>\n",
       "      <td>-1</td>\n",
       "      <td>-1</td>\n",
       "      <td>0</td>\n",
       "      <td>0</td>\n",
       "      <td>...</td>\n",
       "      <td>0</td>\n",
       "      <td>0</td>\n",
       "      <td>0</td>\n",
       "      <td>0</td>\n",
       "      <td>0</td>\n",
       "      <td>0</td>\n",
       "      <td>0</td>\n",
       "      <td>0</td>\n",
       "      <td>0</td>\n",
       "      <td>0</td>\n",
       "    </tr>\n",
       "    <tr>\n",
       "      <th>pyk_R1_A_c</th>\n",
       "      <td>0</td>\n",
       "      <td>0</td>\n",
       "      <td>0</td>\n",
       "      <td>0</td>\n",
       "      <td>0</td>\n",
       "      <td>0</td>\n",
       "      <td>0</td>\n",
       "      <td>1</td>\n",
       "      <td>-1</td>\n",
       "      <td>0</td>\n",
       "      <td>...</td>\n",
       "      <td>0</td>\n",
       "      <td>0</td>\n",
       "      <td>0</td>\n",
       "      <td>0</td>\n",
       "      <td>0</td>\n",
       "      <td>0</td>\n",
       "      <td>0</td>\n",
       "      <td>0</td>\n",
       "      <td>0</td>\n",
       "      <td>0</td>\n",
       "    </tr>\n",
       "    <tr>\n",
       "      <th>pyk_R1_P_c</th>\n",
       "      <td>0</td>\n",
       "      <td>0</td>\n",
       "      <td>0</td>\n",
       "      <td>0</td>\n",
       "      <td>0</td>\n",
       "      <td>0</td>\n",
       "      <td>1</td>\n",
       "      <td>0</td>\n",
       "      <td>0</td>\n",
       "      <td>-1</td>\n",
       "      <td>...</td>\n",
       "      <td>0</td>\n",
       "      <td>0</td>\n",
       "      <td>0</td>\n",
       "      <td>0</td>\n",
       "      <td>0</td>\n",
       "      <td>0</td>\n",
       "      <td>0</td>\n",
       "      <td>0</td>\n",
       "      <td>0</td>\n",
       "      <td>0</td>\n",
       "    </tr>\n",
       "    <tr>\n",
       "      <th>pyk_R1_AP_c</th>\n",
       "      <td>0</td>\n",
       "      <td>0</td>\n",
       "      <td>0</td>\n",
       "      <td>0</td>\n",
       "      <td>0</td>\n",
       "      <td>0</td>\n",
       "      <td>0</td>\n",
       "      <td>0</td>\n",
       "      <td>1</td>\n",
       "      <td>1</td>\n",
       "      <td>...</td>\n",
       "      <td>0</td>\n",
       "      <td>0</td>\n",
       "      <td>0</td>\n",
       "      <td>0</td>\n",
       "      <td>0</td>\n",
       "      <td>0</td>\n",
       "      <td>0</td>\n",
       "      <td>0</td>\n",
       "      <td>0</td>\n",
       "      <td>0</td>\n",
       "    </tr>\n",
       "    <tr>\n",
       "      <th>pyk_T1_c</th>\n",
       "      <td>0</td>\n",
       "      <td>0</td>\n",
       "      <td>0</td>\n",
       "      <td>0</td>\n",
       "      <td>0</td>\n",
       "      <td>0</td>\n",
       "      <td>0</td>\n",
       "      <td>0</td>\n",
       "      <td>0</td>\n",
       "      <td>0</td>\n",
       "      <td>...</td>\n",
       "      <td>0</td>\n",
       "      <td>0</td>\n",
       "      <td>0</td>\n",
       "      <td>0</td>\n",
       "      <td>0</td>\n",
       "      <td>0</td>\n",
       "      <td>1</td>\n",
       "      <td>-1</td>\n",
       "      <td>0</td>\n",
       "      <td>0</td>\n",
       "    </tr>\n",
       "    <tr>\n",
       "      <th>pyk_R2_c</th>\n",
       "      <td>0</td>\n",
       "      <td>0</td>\n",
       "      <td>0</td>\n",
       "      <td>0</td>\n",
       "      <td>0</td>\n",
       "      <td>0</td>\n",
       "      <td>0</td>\n",
       "      <td>0</td>\n",
       "      <td>0</td>\n",
       "      <td>0</td>\n",
       "      <td>...</td>\n",
       "      <td>0</td>\n",
       "      <td>0</td>\n",
       "      <td>0</td>\n",
       "      <td>0</td>\n",
       "      <td>0</td>\n",
       "      <td>0</td>\n",
       "      <td>0</td>\n",
       "      <td>0</td>\n",
       "      <td>0</td>\n",
       "      <td>0</td>\n",
       "    </tr>\n",
       "    <tr>\n",
       "      <th>pyk_R2_A_c</th>\n",
       "      <td>0</td>\n",
       "      <td>0</td>\n",
       "      <td>0</td>\n",
       "      <td>0</td>\n",
       "      <td>0</td>\n",
       "      <td>0</td>\n",
       "      <td>0</td>\n",
       "      <td>0</td>\n",
       "      <td>0</td>\n",
       "      <td>0</td>\n",
       "      <td>...</td>\n",
       "      <td>0</td>\n",
       "      <td>0</td>\n",
       "      <td>0</td>\n",
       "      <td>0</td>\n",
       "      <td>0</td>\n",
       "      <td>0</td>\n",
       "      <td>0</td>\n",
       "      <td>0</td>\n",
       "      <td>0</td>\n",
       "      <td>0</td>\n",
       "    </tr>\n",
       "    <tr>\n",
       "      <th>pyk_R2_P_c</th>\n",
       "      <td>0</td>\n",
       "      <td>0</td>\n",
       "      <td>0</td>\n",
       "      <td>0</td>\n",
       "      <td>0</td>\n",
       "      <td>0</td>\n",
       "      <td>0</td>\n",
       "      <td>0</td>\n",
       "      <td>0</td>\n",
       "      <td>0</td>\n",
       "      <td>...</td>\n",
       "      <td>0</td>\n",
       "      <td>0</td>\n",
       "      <td>0</td>\n",
       "      <td>0</td>\n",
       "      <td>0</td>\n",
       "      <td>0</td>\n",
       "      <td>0</td>\n",
       "      <td>0</td>\n",
       "      <td>0</td>\n",
       "      <td>0</td>\n",
       "    </tr>\n",
       "    <tr>\n",
       "      <th>pyk_R2_AP_c</th>\n",
       "      <td>0</td>\n",
       "      <td>0</td>\n",
       "      <td>0</td>\n",
       "      <td>0</td>\n",
       "      <td>0</td>\n",
       "      <td>0</td>\n",
       "      <td>0</td>\n",
       "      <td>0</td>\n",
       "      <td>0</td>\n",
       "      <td>0</td>\n",
       "      <td>...</td>\n",
       "      <td>0</td>\n",
       "      <td>0</td>\n",
       "      <td>0</td>\n",
       "      <td>0</td>\n",
       "      <td>0</td>\n",
       "      <td>0</td>\n",
       "      <td>0</td>\n",
       "      <td>0</td>\n",
       "      <td>0</td>\n",
       "      <td>0</td>\n",
       "    </tr>\n",
       "    <tr>\n",
       "      <th>pyk_T2_c</th>\n",
       "      <td>0</td>\n",
       "      <td>0</td>\n",
       "      <td>0</td>\n",
       "      <td>0</td>\n",
       "      <td>0</td>\n",
       "      <td>0</td>\n",
       "      <td>0</td>\n",
       "      <td>0</td>\n",
       "      <td>0</td>\n",
       "      <td>0</td>\n",
       "      <td>...</td>\n",
       "      <td>0</td>\n",
       "      <td>0</td>\n",
       "      <td>0</td>\n",
       "      <td>0</td>\n",
       "      <td>0</td>\n",
       "      <td>0</td>\n",
       "      <td>0</td>\n",
       "      <td>1</td>\n",
       "      <td>-1</td>\n",
       "      <td>0</td>\n",
       "    </tr>\n",
       "    <tr>\n",
       "      <th>pyk_R3_c</th>\n",
       "      <td>0</td>\n",
       "      <td>0</td>\n",
       "      <td>0</td>\n",
       "      <td>0</td>\n",
       "      <td>0</td>\n",
       "      <td>0</td>\n",
       "      <td>0</td>\n",
       "      <td>0</td>\n",
       "      <td>0</td>\n",
       "      <td>0</td>\n",
       "      <td>...</td>\n",
       "      <td>0</td>\n",
       "      <td>0</td>\n",
       "      <td>0</td>\n",
       "      <td>0</td>\n",
       "      <td>0</td>\n",
       "      <td>0</td>\n",
       "      <td>0</td>\n",
       "      <td>0</td>\n",
       "      <td>0</td>\n",
       "      <td>0</td>\n",
       "    </tr>\n",
       "    <tr>\n",
       "      <th>pyk_R3_A_c</th>\n",
       "      <td>0</td>\n",
       "      <td>0</td>\n",
       "      <td>0</td>\n",
       "      <td>0</td>\n",
       "      <td>0</td>\n",
       "      <td>0</td>\n",
       "      <td>0</td>\n",
       "      <td>0</td>\n",
       "      <td>0</td>\n",
       "      <td>0</td>\n",
       "      <td>...</td>\n",
       "      <td>0</td>\n",
       "      <td>0</td>\n",
       "      <td>0</td>\n",
       "      <td>0</td>\n",
       "      <td>0</td>\n",
       "      <td>0</td>\n",
       "      <td>0</td>\n",
       "      <td>0</td>\n",
       "      <td>0</td>\n",
       "      <td>0</td>\n",
       "    </tr>\n",
       "    <tr>\n",
       "      <th>pyk_R3_P_c</th>\n",
       "      <td>0</td>\n",
       "      <td>0</td>\n",
       "      <td>0</td>\n",
       "      <td>0</td>\n",
       "      <td>0</td>\n",
       "      <td>0</td>\n",
       "      <td>0</td>\n",
       "      <td>0</td>\n",
       "      <td>0</td>\n",
       "      <td>0</td>\n",
       "      <td>...</td>\n",
       "      <td>0</td>\n",
       "      <td>0</td>\n",
       "      <td>0</td>\n",
       "      <td>0</td>\n",
       "      <td>0</td>\n",
       "      <td>0</td>\n",
       "      <td>0</td>\n",
       "      <td>0</td>\n",
       "      <td>0</td>\n",
       "      <td>0</td>\n",
       "    </tr>\n",
       "    <tr>\n",
       "      <th>pyk_R3_AP_c</th>\n",
       "      <td>0</td>\n",
       "      <td>0</td>\n",
       "      <td>0</td>\n",
       "      <td>0</td>\n",
       "      <td>0</td>\n",
       "      <td>0</td>\n",
       "      <td>0</td>\n",
       "      <td>0</td>\n",
       "      <td>0</td>\n",
       "      <td>0</td>\n",
       "      <td>...</td>\n",
       "      <td>0</td>\n",
       "      <td>0</td>\n",
       "      <td>0</td>\n",
       "      <td>0</td>\n",
       "      <td>0</td>\n",
       "      <td>0</td>\n",
       "      <td>0</td>\n",
       "      <td>0</td>\n",
       "      <td>0</td>\n",
       "      <td>0</td>\n",
       "    </tr>\n",
       "    <tr>\n",
       "      <th>pyk_T3_c</th>\n",
       "      <td>0</td>\n",
       "      <td>0</td>\n",
       "      <td>0</td>\n",
       "      <td>0</td>\n",
       "      <td>0</td>\n",
       "      <td>0</td>\n",
       "      <td>0</td>\n",
       "      <td>0</td>\n",
       "      <td>0</td>\n",
       "      <td>0</td>\n",
       "      <td>...</td>\n",
       "      <td>0</td>\n",
       "      <td>0</td>\n",
       "      <td>0</td>\n",
       "      <td>0</td>\n",
       "      <td>0</td>\n",
       "      <td>0</td>\n",
       "      <td>0</td>\n",
       "      <td>0</td>\n",
       "      <td>1</td>\n",
       "      <td>-1</td>\n",
       "    </tr>\n",
       "    <tr>\n",
       "      <th>pyk_R4_c</th>\n",
       "      <td>0</td>\n",
       "      <td>0</td>\n",
       "      <td>0</td>\n",
       "      <td>0</td>\n",
       "      <td>0</td>\n",
       "      <td>0</td>\n",
       "      <td>0</td>\n",
       "      <td>0</td>\n",
       "      <td>0</td>\n",
       "      <td>0</td>\n",
       "      <td>...</td>\n",
       "      <td>-1</td>\n",
       "      <td>-1</td>\n",
       "      <td>0</td>\n",
       "      <td>0</td>\n",
       "      <td>1</td>\n",
       "      <td>0</td>\n",
       "      <td>0</td>\n",
       "      <td>0</td>\n",
       "      <td>0</td>\n",
       "      <td>0</td>\n",
       "    </tr>\n",
       "    <tr>\n",
       "      <th>pyk_R4_A_c</th>\n",
       "      <td>0</td>\n",
       "      <td>0</td>\n",
       "      <td>0</td>\n",
       "      <td>0</td>\n",
       "      <td>0</td>\n",
       "      <td>0</td>\n",
       "      <td>0</td>\n",
       "      <td>0</td>\n",
       "      <td>0</td>\n",
       "      <td>0</td>\n",
       "      <td>...</td>\n",
       "      <td>0</td>\n",
       "      <td>1</td>\n",
       "      <td>-1</td>\n",
       "      <td>0</td>\n",
       "      <td>0</td>\n",
       "      <td>0</td>\n",
       "      <td>0</td>\n",
       "      <td>0</td>\n",
       "      <td>0</td>\n",
       "      <td>0</td>\n",
       "    </tr>\n",
       "    <tr>\n",
       "      <th>pyk_R4_P_c</th>\n",
       "      <td>0</td>\n",
       "      <td>0</td>\n",
       "      <td>0</td>\n",
       "      <td>0</td>\n",
       "      <td>0</td>\n",
       "      <td>0</td>\n",
       "      <td>0</td>\n",
       "      <td>0</td>\n",
       "      <td>0</td>\n",
       "      <td>0</td>\n",
       "      <td>...</td>\n",
       "      <td>1</td>\n",
       "      <td>0</td>\n",
       "      <td>0</td>\n",
       "      <td>-1</td>\n",
       "      <td>0</td>\n",
       "      <td>0</td>\n",
       "      <td>0</td>\n",
       "      <td>0</td>\n",
       "      <td>0</td>\n",
       "      <td>0</td>\n",
       "    </tr>\n",
       "    <tr>\n",
       "      <th>pyk_R4_AP_c</th>\n",
       "      <td>0</td>\n",
       "      <td>0</td>\n",
       "      <td>0</td>\n",
       "      <td>0</td>\n",
       "      <td>0</td>\n",
       "      <td>0</td>\n",
       "      <td>0</td>\n",
       "      <td>0</td>\n",
       "      <td>0</td>\n",
       "      <td>0</td>\n",
       "      <td>...</td>\n",
       "      <td>0</td>\n",
       "      <td>0</td>\n",
       "      <td>1</td>\n",
       "      <td>1</td>\n",
       "      <td>-1</td>\n",
       "      <td>0</td>\n",
       "      <td>0</td>\n",
       "      <td>0</td>\n",
       "      <td>0</td>\n",
       "      <td>0</td>\n",
       "    </tr>\n",
       "    <tr>\n",
       "      <th>pyk_T4_c</th>\n",
       "      <td>0</td>\n",
       "      <td>0</td>\n",
       "      <td>0</td>\n",
       "      <td>0</td>\n",
       "      <td>0</td>\n",
       "      <td>0</td>\n",
       "      <td>0</td>\n",
       "      <td>0</td>\n",
       "      <td>0</td>\n",
       "      <td>0</td>\n",
       "      <td>...</td>\n",
       "      <td>0</td>\n",
       "      <td>0</td>\n",
       "      <td>0</td>\n",
       "      <td>0</td>\n",
       "      <td>0</td>\n",
       "      <td>0</td>\n",
       "      <td>0</td>\n",
       "      <td>0</td>\n",
       "      <td>0</td>\n",
       "      <td>1</td>\n",
       "    </tr>\n",
       "  </tbody>\n",
       "</table>\n",
       "<p>31 rows × 34 columns</p>\n",
       "</div>"
      ],
      "text/plain": [
       "             PYK_R01  PYK_R02  PYK_R03  PYK_R04  PYK_R05  PYK_R10  PYK_R11  \\\n",
       "pep_c             -1        0       -1        0        0        0       -1   \n",
       "adp_c              0       -1        0       -1        0        0        0   \n",
       "fdp_c              0        0        0        0        0       -1        0   \n",
       "atp_c              0        0        0        0        1        0        0   \n",
       "pyr_c              0        0        0        0        1        0        0   \n",
       "h_c                0        0        0        0       -1        0        0   \n",
       "pyk_R0_c          -1       -1        0        0        1       -1        0   \n",
       "pyk_R0_A_c         0        1       -1        0        0        0        0   \n",
       "pyk_R0_P_c         1        0        0       -1        0        0        0   \n",
       "pyk_R0_AP_c        0        0        1        1       -1        0        0   \n",
       "pyk_T0_c           0        0        0        0        0        0        0   \n",
       "pyk_R1_c           0        0        0        0        0        1       -1   \n",
       "pyk_R1_A_c         0        0        0        0        0        0        0   \n",
       "pyk_R1_P_c         0        0        0        0        0        0        1   \n",
       "pyk_R1_AP_c        0        0        0        0        0        0        0   \n",
       "pyk_T1_c           0        0        0        0        0        0        0   \n",
       "pyk_R2_c           0        0        0        0        0        0        0   \n",
       "pyk_R2_A_c         0        0        0        0        0        0        0   \n",
       "pyk_R2_P_c         0        0        0        0        0        0        0   \n",
       "pyk_R2_AP_c        0        0        0        0        0        0        0   \n",
       "pyk_T2_c           0        0        0        0        0        0        0   \n",
       "pyk_R3_c           0        0        0        0        0        0        0   \n",
       "pyk_R3_A_c         0        0        0        0        0        0        0   \n",
       "pyk_R3_P_c         0        0        0        0        0        0        0   \n",
       "pyk_R3_AP_c        0        0        0        0        0        0        0   \n",
       "pyk_T3_c           0        0        0        0        0        0        0   \n",
       "pyk_R4_c           0        0        0        0        0        0        0   \n",
       "pyk_R4_A_c         0        0        0        0        0        0        0   \n",
       "pyk_R4_P_c         0        0        0        0        0        0        0   \n",
       "pyk_R4_AP_c        0        0        0        0        0        0        0   \n",
       "pyk_T4_c           0        0        0        0        0        0        0   \n",
       "\n",
       "             PYK_R12  PYK_R13  PYK_R14   ...    PYK_R41  PYK_R42  PYK_R43  \\\n",
       "pep_c              0       -1        0   ...         -1        0       -1   \n",
       "adp_c             -1        0       -1   ...          0       -1        0   \n",
       "fdp_c              0        0        0   ...          0        0        0   \n",
       "atp_c              0        0        0   ...          0        0        0   \n",
       "pyr_c              0        0        0   ...          0        0        0   \n",
       "h_c                0        0        0   ...          0        0        0   \n",
       "pyk_R0_c           0        0        0   ...          0        0        0   \n",
       "pyk_R0_A_c         0        0        0   ...          0        0        0   \n",
       "pyk_R0_P_c         0        0        0   ...          0        0        0   \n",
       "pyk_R0_AP_c        0        0        0   ...          0        0        0   \n",
       "pyk_T0_c           0        0        0   ...          0        0        0   \n",
       "pyk_R1_c          -1        0        0   ...          0        0        0   \n",
       "pyk_R1_A_c         1       -1        0   ...          0        0        0   \n",
       "pyk_R1_P_c         0        0       -1   ...          0        0        0   \n",
       "pyk_R1_AP_c        0        1        1   ...          0        0        0   \n",
       "pyk_T1_c           0        0        0   ...          0        0        0   \n",
       "pyk_R2_c           0        0        0   ...          0        0        0   \n",
       "pyk_R2_A_c         0        0        0   ...          0        0        0   \n",
       "pyk_R2_P_c         0        0        0   ...          0        0        0   \n",
       "pyk_R2_AP_c        0        0        0   ...          0        0        0   \n",
       "pyk_T2_c           0        0        0   ...          0        0        0   \n",
       "pyk_R3_c           0        0        0   ...          0        0        0   \n",
       "pyk_R3_A_c         0        0        0   ...          0        0        0   \n",
       "pyk_R3_P_c         0        0        0   ...          0        0        0   \n",
       "pyk_R3_AP_c        0        0        0   ...          0        0        0   \n",
       "pyk_T3_c           0        0        0   ...          0        0        0   \n",
       "pyk_R4_c           0        0        0   ...         -1       -1        0   \n",
       "pyk_R4_A_c         0        0        0   ...          0        1       -1   \n",
       "pyk_R4_P_c         0        0        0   ...          1        0        0   \n",
       "pyk_R4_AP_c        0        0        0   ...          0        0        1   \n",
       "pyk_T4_c           0        0        0   ...          0        0        0   \n",
       "\n",
       "             PYK_R44  PYK_R45  PYK_L  PYK_T1  PYK_T2  PYK_T3  PYK_T4  \n",
       "pep_c              0        0      0       0       0       0       0  \n",
       "adp_c             -1        0      0       0       0       0       0  \n",
       "fdp_c              0        0      0       0       0       0       0  \n",
       "atp_c              0        1      0      -1      -1      -1      -1  \n",
       "pyr_c              0        1      0       0       0       0       0  \n",
       "h_c                0       -1      0       0       0       0       0  \n",
       "pyk_R0_c           0        0     -1       0       0       0       0  \n",
       "pyk_R0_A_c         0        0      0       0       0       0       0  \n",
       "pyk_R0_P_c         0        0      0       0       0       0       0  \n",
       "pyk_R0_AP_c        0        0      0       0       0       0       0  \n",
       "pyk_T0_c           0        0      1      -1       0       0       0  \n",
       "pyk_R1_c           0        0      0       0       0       0       0  \n",
       "pyk_R1_A_c         0        0      0       0       0       0       0  \n",
       "pyk_R1_P_c         0        0      0       0       0       0       0  \n",
       "pyk_R1_AP_c        0        0      0       0       0       0       0  \n",
       "pyk_T1_c           0        0      0       1      -1       0       0  \n",
       "pyk_R2_c           0        0      0       0       0       0       0  \n",
       "pyk_R2_A_c         0        0      0       0       0       0       0  \n",
       "pyk_R2_P_c         0        0      0       0       0       0       0  \n",
       "pyk_R2_AP_c        0        0      0       0       0       0       0  \n",
       "pyk_T2_c           0        0      0       0       1      -1       0  \n",
       "pyk_R3_c           0        0      0       0       0       0       0  \n",
       "pyk_R3_A_c         0        0      0       0       0       0       0  \n",
       "pyk_R3_P_c         0        0      0       0       0       0       0  \n",
       "pyk_R3_AP_c        0        0      0       0       0       0       0  \n",
       "pyk_T3_c           0        0      0       0       0       1      -1  \n",
       "pyk_R4_c           0        1      0       0       0       0       0  \n",
       "pyk_R4_A_c         0        0      0       0       0       0       0  \n",
       "pyk_R4_P_c        -1        0      0       0       0       0       0  \n",
       "pyk_R4_AP_c        1       -1      0       0       0       0       0  \n",
       "pyk_T4_c           0        0      0       0       0       0       1  \n",
       "\n",
       "[31 rows x 34 columns]"
      ]
     },
     "execution_count": 25,
     "metadata": {},
     "output_type": "execute_result"
    }
   ],
   "source": [
    "new_metabolite_order = [\n",
    "    'pep_c', 'pyr_c', 'fdp_c', 'adp_c', 'atp_c',\n",
    "    'pyk_R0_c', 'pyk_R0_P_c', 'pyk_R0_A_c', 'pyk_R0_AP_c', \n",
    "    'pyk_R1_c', 'pyk_R1_P_c', 'pyk_R1_A_c', 'pyk_R1_AP_c',\n",
    "    'pyk_R2_c', 'pyk_R2_P_c', 'pyk_R2_A_c', 'pyk_R2_AP_c',\n",
    "    'pyk_R3_c', 'pyk_R3_P_c', 'pyk_R3_A_c', 'pyk_R3_AP_c',\n",
    "    'pyk_R4_c', 'pyk_R4_P_c', 'pyk_R4_A_c', 'pyk_R4_AP_c',\n",
    "    'pyk_T0_c', 'pyk_T1_c', 'pyk_T2_c', 'pyk_T3_c', 'pyk_T4_c']\n",
    "\n",
    "if len(PYK.metabolites) == len(new_metabolite_order):\n",
    "    PYK.metabolites = DictList(\n",
    "        PYK.metabolites.get_by_any(new_metabolite_order))\n",
    "    \n",
    "new_reaction_order = [\n",
    "    \"PYK_R01\", \"PYK_R02\", \"PYK_R03\", \"PYK_R04\", \"PYK_R05\", \"PYK_R10\",\n",
    "    \"PYK_R11\", \"PYK_R12\", \"PYK_R13\", \"PYK_R14\", \"PYK_R15\", \"PYK_R20\",\n",
    "    \"PYK_R21\", \"PYK_R22\", \"PYK_R23\", \"PYK_R24\", \"PYK_R25\", \"PYK_R30\", \n",
    "    \"PYK_R31\", \"PYK_R32\", \"PYK_R33\", \"PYK_R34\", \"PYK_R35\", \"PYK_R40\", \n",
    "    \"PYK_R41\", \"PYK_R42\", \"PYK_R43\", \"PYK_R44\", \"PYK_R45\", \"PYK_L\",\n",
    "    \"PYK_T1\", \"PYK_T2\", \"PYK_T3\", \"PYK_T4\"]\n",
    "\n",
    "if len(PYK.reactions) == len(new_reaction_order):\n",
    "    PYK.reactions = DictList(\n",
    "        PYK.reactions.get_by_any(new_reaction_order))\n",
    "    \n",
    "PYK.update_S(matrix_type=\"DataFrame\", dtype=int)"
   ]
  },
  {
   "cell_type": "markdown",
   "metadata": {},
   "source": [
    "## Module Validation \n",
    "### QC/QA model\n",
    "Before saving the module, it is important to ensure that the module is elementally balanced, and that the module can be integrated into a larger network for simulation. Therefore, the <font color=#00008B>qcqa_model</font> function from <font color=#0000FF>mass.util.qcqa</font></td> is used to provide a report on the module quality and and indicate whether simulation is possible and if not, what parameters and/or initial conditions are missing. "
   ]
  },
  {
   "cell_type": "code",
   "execution_count": 26,
   "metadata": {},
   "outputs": [
    {
     "name": "stdout",
     "output_type": "stream",
     "text": [
      "╒════════════════════════════════╕\n",
      "│ MODEL ID: PYK                  │\n",
      "│ SIMULATABLE: True;             │\n",
      "│ NUMERICALLY CONSISTENT: True   │\n",
      "╞════════════════════════════════╡\n",
      "╘════════════════════════════════╛\n"
     ]
    }
   ],
   "source": [
    "qcqa_model(PYK, parameters=True, concentrations=True, \n",
    "           fluxes=False, superfluous=True, elemental=True)"
   ]
  },
  {
   "cell_type": "markdown",
   "metadata": {},
   "source": [
    "### Constraint Satisfaction and Error Values\n",
    "Another QA check we perform is to substitute the steady state numerical values back into the constraints used in determining the rate constants in order to ensure that the constraints remain satisified, and that errors are small. "
   ]
  },
  {
   "cell_type": "code",
   "execution_count": 27,
   "metadata": {},
   "outputs": [
    {
     "name": "stdout",
     "output_type": "stream",
     "text": [
      "Enzyme T-fraction: 0.1500\n",
      "Constraints Satisfied: True\n",
      "\n",
      "Concentration Absolute Error: 1.7528e-04\n",
      "Flux Absolute Error: 1.1306e-07\n"
     ]
    }
   ],
   "source": [
    "t_fraction = PYK.make_enzyme_fraction(\"species\", top=\"Tense\", bottom=\"Equation\", use_values=True)\n",
    "print(\"Enzyme T-fraction: {:.4f}\".format(t_fraction))\n",
    "print(\"Constraints Satisfied: {0}\\n\".format(\n",
    "    r_T_lb <= t_fraction and t_fraction <= r_T_ub))\n",
    "\n",
    "print(\"Concentration Absolute Error: {0:.4e}\".format(abs(PYK.enzyme_concentration_total_error(use_values=True))))\n",
    "print(\"Flux Absolute Error: {0:.4e}\".format(abs(PYK.enzyme_net_flux_error(use_values=True))))"
   ]
  },
  {
   "cell_type": "markdown",
   "metadata": {},
   "source": [
    "### Add Enzyme to MassModel\n",
    "In order to determine whether the module can be successfully integrated into a model, another model can be loaded, merged with the module, and simulated. To validate this module, it will be merged with a glycolysis model. \n",
    "\n",
    "To integrate the <font color=#4682B4>EnzymeModule</font> into the <font color=#4682B4>MassModel</font>, the reaction that the EnzymeModule will be replacing is first removed. The <font color=#4682B4>MassModel</font><font color=#00008B>.merge</font> method can then be utilized to add the <font color=#4682B4>EnzymeModule</font> to the <font color=#4682B4>MassModel</font>. \n",
    "\n",
    "When merging an <font color=#4682B4>EnzymeModule</font> and a <font color=#4682B4>MassModel</font>, the <font color=#4682B4>EnzymeModule</font> should always be merged into the <font color=#4682B4>MassModel</font>."
   ]
  },
  {
   "cell_type": "code",
   "execution_count": 28,
   "metadata": {},
   "outputs": [
    {
     "data": {
      "text/html": [
       "\n",
       "            <table>\n",
       "                <tr>\n",
       "                    <td><strong>Name</strong></td><td>Glycolysis</td>\n",
       "                </tr><tr>\n",
       "                    <td><strong>Memory address</strong></td><td>0x012a1ff898</td>\n",
       "                </tr><tr>\n",
       "                    <td><strong>Stoichiometric Matrix</strong></td>\n",
       "                    <td>45x55</td>\n",
       "                </tr><tr>\n",
       "                    <td><strong>Matrix Rank</strong></td>\n",
       "                    <td>43</td>\n",
       "                </tr><tr>\n",
       "                    <td><strong>Number of metabolites</strong></td>\n",
       "                    <td>45</td>\n",
       "                </tr><tr>\n",
       "                    <td><strong>Initial conditions defined</strong></td>\n",
       "                    <td>45/45</td>\n",
       "                </tr><tr>\n",
       "                    <td><strong>Number of reactions</strong></td>\n",
       "                    <td>55</td>\n",
       "                </tr><tr>\n",
       "                    <td><strong>Number of genes</strong></td>\n",
       "                    <td>0</td>\n",
       "                </tr><tr>\n",
       "                    <td><strong>Number of enzyme modules</strong></td>\n",
       "                    <td>1</td>\n",
       "                </tr><tr>\n",
       "                    <td><strong>Number of groups</strong></td>\n",
       "                    <td>13</td>\n",
       "                </tr><tr>\n",
       "                    <td><strong>Objective expression</strong></td>\n",
       "                    <td>0</td>\n",
       "                </tr><tr>\n",
       "                    <td><strong>Compartments</strong></td>\n",
       "                    <td>Cytosol</td>\n",
       "                </tr>\n",
       "            </table>\n",
       "        "
      ],
      "text/plain": [
       "<MassModel Glycolysis at 0x12a1ff898>"
      ]
     },
     "execution_count": 28,
     "metadata": {},
     "output_type": "execute_result"
    }
   ],
   "source": [
    "# Load and merge glycolysis and hemoglobin models\n",
    "glycolysis = json.load_json_model(path.realpath(path.join(\"models\", \"Glycolysis.json\")))\n",
    "# Remove the PYK MassReaction, then merge the EnzymeModule into the MassModel\n",
    "glycolysis.remove_reactions([glycolysis.reactions.get_by_id(\"PYK\")])\n",
    "glycolysis_PYK = glycolysis.merge(PYK)\n",
    "glycolysis_PYK"
   ]
  },
  {
   "cell_type": "markdown",
   "metadata": {},
   "source": [
    "Using <font color=#4682B4>MassModel</font><font color=#00008B>.merge</font> class method enables the <font color=#4682B4>EnzymeModule</font> and <font color=#4682B4>MassModel</font> to be merged like as if they were both <font color=#4682B4>MassModel</font> objects. However, all attributes specific to the <font color=#4682B4>EnzymeModule</font> (e.g the categorized attributes) are condensed into a speciailzed container called an <font color=#4682B4>EnzymeModuleDict</font>.\n",
    "\n",
    "The <font color=#4682B4>EnzymeModuleDict</font> behaves like an ordered dictionary, but is unique in that its contents can be accessed as if they were attributes. These attributes can be viewed using <font color=#4682B4>EnzymeModuleDict</font><font color=#00008B>.keys</font> method.\n",
    "\n",
    "All <font color=#4682B4>EnzymeModuleDicts</font> associated with a MassModel can be accessed via <font color=#4682B4>MassModel</font><font color=1E90FF>.enzyme_modules</font> attribute."
   ]
  },
  {
   "cell_type": "code",
   "execution_count": 29,
   "metadata": {},
   "outputs": [
    {
     "name": "stdout",
     "output_type": "stream",
     "text": [
      "[<EnzymeModuleDict PYK at 0x12a3017b8>]\n",
      "\n",
      "Attribute Accessors:\n",
      "-------------------\n",
      "id\n",
      "name\n",
      "subsystem\n",
      "enzyme_module_ligands\n",
      "enzyme_module_species\n",
      "enzyme_module_reactions\n",
      "enzyme_module_ligands_categorized\n",
      "enzyme_module_species_categorized\n",
      "enzyme_module_reactions_categorized\n",
      "enzyme_concentration_total\n",
      "enzyme_net_flux\n",
      "enzyme_concentration_total_equation\n",
      "enzyme_net_flux_equation\n",
      "description\n",
      "S\n",
      "model\n",
      "\n"
     ]
    },
    {
     "data": {
      "text/html": [
       "\n",
       "            <table>\n",
       "                <tr>\n",
       "                    <td><strong>Name</strong></td><td>PYK</td>\n",
       "                </tr><tr>\n",
       "                    <td><strong>Memory address</strong></td><td>0x012a3017b8</td>\n",
       "                </tr><tr>\n",
       "                    <td><strong>Stoichiometric Matrix</strong></td>\n",
       "                    <td>31x34</td>\n",
       "                </tr><tr>\n",
       "                    <td><strong>Matrix Rank</strong></td>\n",
       "                    <td>25</td>\n",
       "                </tr><tr>\n",
       "                    <td><strong>Subsystem</strong></td>\n",
       "                    <td>Glycolysis</td>\n",
       "                </tr><tr>\n",
       "                    <td><strong>Number of Ligands</strong></td>\n",
       "                    <td>6</td>\n",
       "                </tr><tr>\n",
       "                    <td><strong>Number of EnzymeForms</strong></td>\n",
       "                    <td>25</td>\n",
       "                </tr><tr>\n",
       "                    <td><strong>Number of EnzymeModuleReactions</strong></td>\n",
       "                    <td>34</td>\n",
       "                </tr><tr>\n",
       "                    <td><strong>Enzyme Concentration Total</strong></td>\n",
       "                    <td>6.9e-05</td>\n",
       "                </tr><tr>\n",
       "                    <td><strong>Enzyme Net Flux</strong></td>\n",
       "                    <td>2.2399999999999998</td>\n",
       "                </tr>\n",
       "            </table>\n",
       "        "
      ],
      "text/plain": [
       "<EnzymeModuleDict PYK at 0x12a3017b8>"
      ]
     },
     "execution_count": 29,
     "metadata": {},
     "output_type": "execute_result"
    }
   ],
   "source": [
    "print(str(glycolysis_PYK.enzyme_modules) + \"\\n\")\n",
    "print(\"Attribute Accessors:\\n-------------------\\n\" + \"\\n\".join(list(\n",
    "    glycolysis_PYK.enzyme_modules.PYK.keys())) + \"\\n\")\n",
    "glycolysis_PYK.enzyme_modules.PYK"
   ]
  },
  {
   "cell_type": "markdown",
   "metadata": {},
   "source": [
    "### Validate Steady State\n",
    "\n",
    "To find the steady state of the model and perform simulations, the model must first be loaded into a <font color=#4682B4>Simulation</font>. In order to load a model into a <font color=#4682B4>Simulation</font>, the model must be simulatable, meaning there are no missing numerical values that would prevent the integration of the ODEs that comprise the model. The <font color=#B22222>verbose</font> argument can be used while loading a model to produce a message indicating the successful loading of a model, or why a model could not load.\n",
    "\n",
    "Once loaded into a <font color=#4682B4>Simulation</font>, the <font color=#00008B>find_steady_state</font> method can be used with the <font color=#B22222>update_values</font> argument in order to update the initial conditions and fluxes of the model to a steady state. The model can then be simulated using the <font color=#00008B>simulate</font> method by passing the model to simulate, and a tuple containing the start time and the end time. The number of time points can also be included, but is optional.\n",
    "\n",
    "After a successful simulation, two <font color=#008000>cobra</font><font color=#556B2F>.DictLists</font> are returned. The first <font color=#556B2F>DictList</font> holds a <font color=#4682B4>MassSolution</font> that contains the concentration results of the simulation, and the second <font color=#556B2F>DictList</font> hold a <font color=#4682B4>MassSolution</font> that contains the flux results of the simulation. Note that there will always be two <font color=#4682B4>MassSolutions</font> generated per model simulated.\n",
    "\n",
    "To visually validate the steady state of the model, concentration and flux solutions can be plotted using the <font color=#00008B>plot_time_profile</font> function from <font color=#0000FF>mass.visualization</font></td>. Alternatively, the <font color=#4682B4>MassSolution</font><font color=#1E90FF>.view_time_profile</font> property can be used to quickly generate a time profile for the results."
   ]
  },
  {
   "cell_type": "code",
   "execution_count": 30,
   "metadata": {},
   "outputs": [
    {
     "name": "stderr",
     "output_type": "stream",
     "text": [
      "\u001b[34m'roadrunner Notice: Successfully loaded Model 'Glycolysis' into RoadRunner.'\u001b[0m\n"
     ]
    },
    {
     "name": "stderr",
     "output_type": "stream",
     "text": [
      "\u001b[1m\u001b[33m'roadrunner Warning: Conserved Moiety Analysis is not enabled, steady state may fail with singular Jacobian'\u001b[0m\n"
     ]
    },
    {
     "name": "stderr",
     "output_type": "stream",
     "text": [
      "\u001b[1m\u001b[33m'roadrunner Warning: Conserved Moiety Analysis may be enabled via the conservedMoeityAnalysis property or via the configuration file or the Config class setValue, see roadrunner documentation'\u001b[0m\n"
     ]
    },
    {
     "name": "stderr",
     "output_type": "stream",
     "text": [
      "\u001b[1m\u001b[33m'roadrunner Warning: to remove this warning, set ROADRUNNER_DISABLE_WARNINGS to 1 or 3 in the config file'\u001b[0m\n"
     ]
    },
    {
     "name": "stderr",
     "output_type": "stream",
     "text": [
      "\u001b[35m'roadrunner Error: Error :Jacobian matrix singular in NLEQ. Failed to converge to steady state. Check if Jacobian matrix is non-invertible or steady state solution does not exist.'\u001b[0m\n"
     ]
    },
    {
     "name": "stderr",
     "output_type": "stream",
     "text": [
      "\u001b[1m\u001b[33m'roadrunner Warning: Steady state solver failed. However, RoadRunner approximated the solution successfully.'\u001b[0m\n"
     ]
    },
    {
     "name": "stderr",
     "output_type": "stream",
     "text": [
      "\u001b[1m\u001b[33m'roadrunner Warning: Conserved Moiety Analysis is not enabled, steady state may fail with singular Jacobian'\u001b[0m\n"
     ]
    },
    {
     "name": "stderr",
     "output_type": "stream",
     "text": [
      "\u001b[1m\u001b[33m'roadrunner Warning: Conserved Moiety Analysis may be enabled via the conservedMoeityAnalysis property or via the configuration file or the Config class setValue, see roadrunner documentation'\u001b[0m\n"
     ]
    },
    {
     "name": "stderr",
     "output_type": "stream",
     "text": [
      "\u001b[1m\u001b[33m'roadrunner Warning: to remove this warning, set ROADRUNNER_DISABLE_WARNINGS to 1 or 3 in the config file'\u001b[0m\n"
     ]
    },
    {
     "name": "stderr",
     "output_type": "stream",
     "text": [
      "\u001b[35m'roadrunner Error: Error :Jacobian matrix singular in NLEQ. Failed to converge to steady state. Check if Jacobian matrix is non-invertible or steady state solution does not exist.'\u001b[0m\n"
     ]
    },
    {
     "name": "stderr",
     "output_type": "stream",
     "text": [
      "\u001b[1m\u001b[33m'roadrunner Warning: Steady state solver failed. However, RoadRunner approximated the solution successfully.'\u001b[0m\n"
     ]
    },
    {
     "data": {
      "image/png": "[encoded data removed]",
      "text/plain": [
       "<Figure size 432x288 with 1 Axes>"
      ]
     },
     "metadata": {
      "needs_background": "light"
     },
     "output_type": "display_data"
    },
    {
     "data": {
      "image/png": "[encoded data removed]",
      "text/plain": [
       "<Figure size 432x288 with 1 Axes>"
      ]
     },
     "metadata": {
      "needs_background": "light"
     },
     "output_type": "display_data"
    }
   ],
   "source": [
    "# Setup simulation object, ensure model is at steady state\n",
    "sim = Simulation(glycolysis_PYK, verbose=True)\n",
    "sim.find_steady_state(glycolysis_PYK, strategy=\"nleq2\", update_values=True)\n",
    "# Simulate from 0 to 1000 with 10001 points in the output\n",
    "conc_sol_list, flux_sol_list = sim.simulate(glycolysis_PYK, time=(0, 1e3, 1e4 + 1))\n",
    "conc_sol, flux_sol = conc_sol_list[0], flux_sol_list[0]\n",
    "# Quickly render and display time profiles \n",
    "for sol in [conc_sol, flux_sol]:\n",
    "    sol.view_time_profile\n",
    "    plt.show()"
   ]
  },
  {
   "cell_type": "markdown",
   "metadata": {},
   "source": [
    "### Storing information and references\n",
    "#### Compartment\n",
    "Because the character \"c\" represents the cytosol compartment, it is recommended to define and set the compartment in the <font color=#4682B4>EnzymeModule</font><font color=#1E90FF>.compartments</font> attribute."
   ]
  },
  {
   "cell_type": "code",
   "execution_count": 31,
   "metadata": {
    "scrolled": true
   },
   "outputs": [
    {
     "name": "stdout",
     "output_type": "stream",
     "text": [
      "{'c': 'Cytosol'}\n"
     ]
    }
   ],
   "source": [
    "PYK.compartments = {\"c\": \"Cytosol\"}\n",
    "print(PYK.compartments)"
   ]
  },
  {
   "cell_type": "markdown",
   "metadata": {},
   "source": [
    "#### Units\n",
    "All of the units for the numerical values used in this model are \"Millimoles\" for amount and \"Liters\" for volume (giving a concentration unit of 'Millimolar'), and \"Hours\" for time. In order to ensure that future users understand the numerical values for model, it is important to define the <font color=#4682B4>EnzymeModule</font><font color=#1E90FF>.units</font> attribute.\n",
    "\n",
    "The <font color=#4682B4>EnzymeModule</font><font color=#1E90FF>.units</font> is a <font color=#008000>cobra</font><font color=#556B2F>.DictList</font> that contains only <font color=#4682B4>UnitDefinition</font> objects from the <font color=#0000FF>mass.core.unit</font> submodule. \n",
    "\n",
    "Each <font color=#4682B4>UnitDefinition</font> is created from <font color=#4682B4>Unit</font> objects representing the base units that comprise the <font color=#4682B4>UnitDefinition</font>. These <font color=#4682B4>Units</font> are stored in the <font color=#1E90FF>list_of_units</font> attribute. Pre-built units can be viewed using the <font color=#00008B>print_defined_unit_values</font> function from the <font color=#0000FF>mass.core.unit</font></td> submodule. Alternatively, custom units can also be created using the <font color=#4682B4>UnitDefinition</font><font color=#00008B>.create_unit</font> function.\n",
    "\n",
    "For more information about units, please see the module docstring for <font color=#0000FF>mass.core.unit</font> submodule.\n",
    "\n",
    "__Note:__ It is important to note that this attribute will NOT track units, but instead acts as a reference for the user and others so that they can perform necessary unit conversions."
   ]
  },
  {
   "cell_type": "code",
   "execution_count": 32,
   "metadata": {},
   "outputs": [
    {
     "name": "stdout",
     "output_type": "stream",
     "text": [
      "[<UnitDefinition Millimolar \"mM\" at 0x132e42400>, <UnitDefinition hour \"hr\" at 0x132e33080>]\n"
     ]
    }
   ],
   "source": [
    "# Using pre-build units to define UnitDefinitions\n",
    "concentration = UnitDefinition(\"mM\", name=\"Millimolar\", list_of_units=[\"millimole\", \"per_litre\"])\n",
    "time = UnitDefinition(\"hr\", name=\"hour\", list_of_units=[\"hour\"])\n",
    "\n",
    "# Add units to model\n",
    "PYK.add_units([concentration, time])\n",
    "print(PYK.units)"
   ]
  },
  {
   "cell_type": "markdown",
   "metadata": {},
   "source": [
    "## Export\n",
    "\n",
    "After validation, the model is ready to be saved. The model can either be exported as a \".json\" file or as an \".sbml\" (\".xml\") file using their repsective submodules in <font color=#0000FF>mass.io</font></td>.\n",
    "\n",
    "To export the model, only the path to the directory and the name of the model need to be specified. Both are shown below. "
   ]
  },
  {
   "cell_type": "code",
   "execution_count": 33,
   "metadata": {},
   "outputs": [],
   "source": [
    "filepath = path.realpath(path.join(\"models\", PYK.id))"
   ]
  },
  {
   "cell_type": "markdown",
   "metadata": {},
   "source": [
    "### Export using JSON"
   ]
  },
  {
   "cell_type": "code",
   "execution_count": 34,
   "metadata": {
    "scrolled": false
   },
   "outputs": [],
   "source": [
    "json.save_json_model(mass_model=PYK, filename=filepath + \".json\")"
   ]
  },
  {
   "cell_type": "markdown",
   "metadata": {},
   "source": [
    "### Export using SBML"
   ]
  },
  {
   "cell_type": "code",
   "execution_count": 35,
   "metadata": {},
   "outputs": [],
   "source": [
    "sbml.write_sbml_model(mass_model=PYK, filename=filepath + \".xml\")"
   ]
  }
 ],
 "metadata": {
  "kernelspec": {
   "display_name": "Python 3",
   "language": "python",
   "name": "python3"
  },
  "language_info": {
   "codemirror_mode": {
    "name": "ipython",
    "version": 3
   },
   "file_extension": ".py",
   "mimetype": "text/x-python",
   "name": "python",
   "nbconvert_exporter": "python",
   "pygments_lexer": "ipython3",
   "version": "3.7.3"
  }
 },
 "nbformat": 4,
 "nbformat_minor": 2
}
