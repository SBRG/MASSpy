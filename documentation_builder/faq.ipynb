{
 "cells": [
  {
   "cell_type": "markdown",
   "metadata": {},
   "source": [
    "# FAQ\n",
    "\n",
    "This document will address frequently asked questions not addressed in other pages of the documentation."
   ]
  },
  {
   "cell_type": "markdown",
   "metadata": {},
   "source": [
    "## How do I install MASSpy?\n",
    "The recommended method is to install **MASSpy** is to use ``pip`` to [install MASSpy from PyPI](https://pypi.python.org/pypi/masspy). It is recommended to do this inside a [virtual environment](http://docs.python-guide.org/en/latest/dev/virtualenvs/):\n",
    "\n",
    "```python\n",
    "pip install masspy\n",
    "```\n",
    "\n",
    "To install with all optional features and dependencies enabled,\n",
    "\n",
    "```python\n",
    "pip install masspy[all]\n",
    "```\n",
    "\n",
    "If you downloaded the source code, run:\n",
    "\n",
    "```python\n",
    "pip install -e .\n",
    "```\n",
    "\n",
    "in the ``masspy`` source directory.\n",
    "\n",
    "\n",
    "For additional information, please refer to the the [detailed installation instructions](https://github.com/SBRG/MASSpy/blob/master/INSTALL.rst)."
   ]
  },
  {
   "cell_type": "markdown",
   "metadata": {},
   "source": [
    "## How do I cite MASSpy?\n",
    "\n",
    "A manuscript is in preparation for publication and will be the proper reference\n",
    "for citing the **MASSpy** in the future."
   ]
  }
 ],
 "metadata": {
  "kernelspec": {
   "display_name": "Python 3",
   "language": "python",
   "name": "python3"
  },
  "language_info": {
   "codemirror_mode": {
    "name": "ipython",
    "version": 3
   },
   "file_extension": ".py",
   "mimetype": "text/x-python",
   "name": "python",
   "nbconvert_exporter": "python",
   "pygments_lexer": "ipython3",
   "version": "3.7.3"
  }
 },
 "nbformat": 4,
 "nbformat_minor": 2
}
