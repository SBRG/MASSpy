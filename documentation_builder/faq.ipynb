{
 "cells": [
  {
   "cell_type": "markdown",
   "metadata": {},
   "source": [
    "# FAQ\n",
    "\n",
    "This document will address frequently asked questions not addressed in other pages of the documentation."
   ]
  },
  {
   "cell_type": "markdown",
   "metadata": {},
   "source": [
    "## How do I install MASSpy?\n",
    "The recommended method is to install **MASSpy** is to use ``pip`` to [install MASSpy from PyPI](https://pypi.python.org/pypi/masspy). It is recommended to do this inside a [virtual environment](http://docs.python-guide.org/en/latest/dev/virtualenvs/):\n",
    "\n",
    "```python\n",
    "pip install masspy\n",
    "```\n",
    "\n",
    "To install with all optional features and dependencies enabled,\n",
    "\n",
    "```python\n",
    "pip install masspy[all]\n",
    "```\n",
    "\n",
    "If you downloaded the source code, run:\n",
    "\n",
    "```python\n",
    "pip install -e .\n",
    "```\n",
    "\n",
    "in the ``MASSpy`` source directory.\n",
    "\n",
    "\n",
    "For additional information, please refer to the the [detailed installation instructions](https://github.com/SBRG/MASSpy/blob/master/INSTALL.rst)."
   ]
  },
  {
   "cell_type": "markdown",
   "metadata": {},
   "source": [
    "## How do I cite MASSpy?\n",
    "\n",
    "A manuscript is in preparation for publication and will be the proper reference\n",
    "for citing the **MASSpy** in the future."
   ]
  },
  {
   "cell_type": "markdown",
   "metadata": {},
   "source": [
    "## How do I change the rate expression for a reaction?\n",
    "\n",
    "Use the `MassModel.add_custom_rate` method."
   ]
  },
  {
   "cell_type": "code",
   "execution_count": null,
   "metadata": {},
   "outputs": [],
   "source": [
    "import mass.test\n",
    "\n",
    "model = mass.test.create_test_model(\"textbook\")"
   ]
  },
  {
   "cell_type": "markdown",
   "metadata": {},
   "source": [
    "When metabolites are added to reactions, **MASSpy** will generates rate expressions automatically based on mass action kinetics and the kinetic reversibility given by the `MassReaction.reversible` attribute."
   ]
  },
  {
   "cell_type": "code",
   "execution_count": null,
   "metadata": {},
   "outputs": [],
   "source": [
    "print(model.reactions.PGI.rate)"
   ]
  },
  {
   "cell_type": "markdown",
   "metadata": {},
   "source": [
    "If a reaction is associated with a model, a custom rate expression can be set using the `MassModel.add_custom_rate` method. The `add_custom_rate` requires the corresponding reaction object and a string representing the custom rate expression to set. For example, to set a simple Michaelis Menten rate expression with $V_{max}$ and $K_{m}$ parameters:"
   ]
  },
  {
   "cell_type": "code",
   "execution_count": null,
   "metadata": {},
   "outputs": [],
   "source": [
    "custom_parameter_dict = {\"vmax_PGI\": None, \"Km_PGI\": None}\n",
    "\n",
    "model.add_custom_rate(\n",
    "    model.reactions.PGI,\n",
    "    custom_rate=\"(vmax_PGI * g6p_c)/(Km_PGI + g6p_c)\",\n",
    "    custom_parameters=custom_parameter_dict)\n",
    "print(model.reactions.PGI.rate)"
   ]
  },
  {
   "cell_type": "markdown",
   "metadata": {},
   "source": [
    "The reaction rate expression is converted from a string to a symbolic expression using the `sympy.sympify` function. All metabolites and standard reaction parameters (i.e. returned by the `MassReaction.all_parameter_ids`), and boundary conditions are recognized. However, all additional parameters must be set as a custom parameter in the `MassModel.custom_parameters` attribute."
   ]
  },
  {
   "cell_type": "code",
   "execution_count": null,
   "metadata": {},
   "outputs": [],
   "source": [
    "print(\"Recognized Parameters: {!r}\".format(model.reactions.PGI.all_parameter_ids))\n",
    "print(\"Custom Parameters: {!r}\".format(list(custom_parameter_dict)))"
   ]
  },
  {
   "cell_type": "markdown",
   "metadata": {},
   "source": [
    "Additional information about the underlying `sympify` function can be found [here](https://docs.sympy.org/latest/modules/core.html)."
   ]
  }
 ],
 "metadata": {
  "kernelspec": {
   "display_name": "Python 3",
   "language": "python",
   "name": "python3"
  },
  "language_info": {
   "codemirror_mode": {
    "name": "ipython",
    "version": 3
   },
   "file_extension": ".py",
   "mimetype": "text/x-python",
   "name": "python",
   "nbconvert_exporter": "python",
   "pygments_lexer": "ipython3",
   "version": "3.7.4"
  }
 },
 "nbformat": 4,
 "nbformat_minor": 2
}
