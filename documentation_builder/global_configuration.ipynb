{
 "cells": [
  {
   "cell_type": "markdown",
   "metadata": {},
   "source": [
    "# Global Configuration\n",
    "\n",
    "This notebook example demonstrates how the global configuration object, the `MassConfiguration`, can be used to configure default behavior for various **MASSpy** methods as well as the default behavior for **COBRApy**."
   ]
  },
  {
   "cell_type": "code",
   "execution_count": null,
   "metadata": {},
   "outputs": [],
   "source": [
    "import cobra\n",
    "\n",
    "import mass\n",
    "from mass.test import create_test_model\n",
    "\n",
    "cobra_config = cobra.Configuration()"
   ]
  },
  {
   "cell_type": "markdown",
   "metadata": {},
   "source": [
    "Note that changing global configuration values is mostly useful at the beginning of a work session."
   ]
  },
  {
   "cell_type": "markdown",
   "metadata": {},
   "source": [
    "## The MassConfiguration Object"
   ]
  },
  {
   "cell_type": "markdown",
   "metadata": {},
   "source": [
    "Just like the `cobra.Configuration` object, the `MassConfiguration` object is a [singleton](https://en.wikipedia.org/wiki/Singleton_pattern), meaning that only one instance can exist and therefore is respected everywhere in **MASSpy**. \n",
    "\n",
    "The `MassConfiguration` can retrieved via the following:"
   ]
  },
  {
   "cell_type": "code",
   "execution_count": null,
   "metadata": {},
   "outputs": [],
   "source": [
    "mass_config = mass.MassConfiguration()"
   ]
  },
  {
   "cell_type": "markdown",
   "metadata": {},
   "source": [
    "The `MassConfiguration` is synchronized with the `cobra.Configuration` singleton object such that a change in one configuration object affects the other."
   ]
  },
  {
   "cell_type": "code",
   "execution_count": null,
   "metadata": {},
   "outputs": [],
   "source": [
    "print(\"cobra configuration before: {0!r}\".format(cobra_config.bounds))\n",
    "mass_config.bounds = (-444, 444)\n",
    "print(\"cobra configuration after: {0!r}\".format(cobra_config.bounds))"
   ]
  },
  {
   "cell_type": "markdown",
   "metadata": {},
   "source": [
    "This means that changes only need to be made to the `MassConfiguration` object for workflows involving both the **COBRApy** and **MASSpy** package. The shared values can be viewed using the `shared_state` attribute"
   ]
  },
  {
   "cell_type": "code",
   "execution_count": null,
   "metadata": {},
   "outputs": [],
   "source": [
    "mass_config.shared_state"
   ]
  },
  {
   "cell_type": "markdown",
   "metadata": {},
   "source": [
    "## Attributes for Model Construction\n",
    "\n",
    "The following attributes of the `MassConfiguration` alter default behavior for constructing models as well as importing/exporting models via [SBML](http://sbml.org/Main_Page)."
   ]
  },
  {
   "cell_type": "code",
   "execution_count": null,
   "metadata": {},
   "outputs": [],
   "source": [
    "from mass import MassMetabolite, MassReaction"
   ]
  },
  {
   "cell_type": "markdown",
   "metadata": {},
   "source": [
    "### For Irreversible Reactions\n",
    "\n",
    "When an irreversible reaction is created, the equilibrium constant and reverse rate constant are automatically set based on the `irreversible_Keq` and `irreversible_kr` attributes, respectively."
   ]
  },
  {
   "cell_type": "code",
   "execution_count": null,
   "metadata": {},
   "outputs": [],
   "source": [
    "print(\"Irreversible Keq: {0}\".format(mass_config.irreversible_Keq))\n",
    "print(\"Irreversible kr: {0}\".format(mass_config.irreversible_kr))\n",
    "R1 = MassReaction(\"R1\", reversible=False)\n",
    "R1.parameters"
   ]
  },
  {
   "cell_type": "markdown",
   "metadata": {},
   "source": [
    "Changing the `irreversible_Keq` and `irreversible_kr` attributes affects newly created `MassReaction` objects."
   ]
  },
  {
   "cell_type": "code",
   "execution_count": null,
   "metadata": {},
   "outputs": [],
   "source": [
    "mass_config.irreversible_Keq = 10e6\n",
    "mass_config.irreversible_kr = 1e-6\n",
    "print(\"Irreversible Keq: {0}\".format(mass_config.irreversible_Keq))\n",
    "print(\"Irreversible kr: {0}\\n\".format(mass_config.irreversible_kr))\n",
    "\n",
    "# Create new reaction\n",
    "R2 = MassReaction(\"R2\", reversible=False)\n",
    "print(R2.parameters)"
   ]
  },
  {
   "cell_type": "markdown",
   "metadata": {},
   "source": [
    "Existing reactions are not affected."
   ]
  },
  {
   "cell_type": "code",
   "execution_count": null,
   "metadata": {},
   "outputs": [],
   "source": [
    "print(R1.parameters)"
   ]
  },
  {
   "cell_type": "markdown",
   "metadata": {},
   "source": [
    "### For Rate Expressions\n",
    "\n",
    "Automatic generation of rate expressions can be affected using the `exclude_metabolites_from_rates` and `exclude_compartment_volumes_in_rates` attributes."
   ]
  },
  {
   "cell_type": "code",
   "execution_count": null,
   "metadata": {},
   "outputs": [],
   "source": [
    "model = create_test_model(\"textbook\")"
   ]
  },
  {
   "cell_type": "markdown",
   "metadata": {},
   "source": [
    "The `exclude_metabolites_from_rates` determines which metabolites to exclude from rate expressions using a dictionary containing the metabolite attribute to use for filtering, and the values to be excluded."
   ]
  },
  {
   "cell_type": "code",
   "execution_count": null,
   "metadata": {},
   "outputs": [],
   "source": [
    "mass_config.exclude_metabolites_from_rates"
   ]
  },
  {
   "cell_type": "markdown",
   "metadata": {},
   "source": [
    "The default setting is to use the `elements` attribute of `MassMetabolite` objects and excludes any metabolite that returns the elements for hydrogen and for water."
   ]
  },
  {
   "cell_type": "code",
   "execution_count": null,
   "metadata": {},
   "outputs": [],
   "source": [
    "ENO = model.reactions.get_by_id(\"ENO\")\n",
    "print(ENO.rate)"
   ]
  },
  {
   "cell_type": "markdown",
   "metadata": {},
   "source": [
    "The `exclude_metabolites_from_rates` can be changed by passing a `dict` containing a metabolite attribute and a list of values to be excluded. For example, to exclude \"2pg_c\" using its name as a criteria:"
   ]
  },
  {
   "cell_type": "code",
   "execution_count": null,
   "metadata": {},
   "outputs": [],
   "source": [
    "mass_config.exclude_metabolites_from_rates = {\"name\": [\"D-Glycerate 2-phosphate\"]}\n",
    "ENO = model.reactions.get_by_id(\"ENO\")\n",
    "print(ENO.rate)"
   ]
  },
  {
   "cell_type": "markdown",
   "metadata": {},
   "source": [
    "Or to exclude hydrogen and water using their identifiers:"
   ]
  },
  {
   "cell_type": "code",
   "execution_count": null,
   "metadata": {},
   "outputs": [],
   "source": [
    "mass_config.exclude_metabolites_from_rates = {\"id\": [\"h_c\", \"h2o_c\"]}\n",
    "ENO = model.reactions.get_by_id(\"ENO\")\n",
    "print(ENO.rate)"
   ]
  },
  {
   "cell_type": "markdown",
   "metadata": {},
   "source": [
    "Boundary reactions are not affected by the `exclude_metabolites_from_rates` attribute:"
   ]
  },
  {
   "cell_type": "code",
   "execution_count": null,
   "metadata": {},
   "outputs": [],
   "source": [
    "for rid in [\"SK_h_c\", \"SK_h2o_c\"]:\n",
    "    reaction = model.reactions.get_by_id(rid)\n",
    "    print(reaction.rate)"
   ]
  },
  {
   "cell_type": "markdown",
   "metadata": {},
   "source": [
    "The `exclude_compartment_volumes_in_rates` attribute determines whether compartment volumes should be factored into rate expressions. By default, compartment volumes are not included in automatically generated rate expressions "
   ]
  },
  {
   "cell_type": "code",
   "execution_count": null,
   "metadata": {},
   "outputs": [],
   "source": [
    "PGI = model.reactions.get_by_id(\"PGI\")\n",
    "print(PGI.rate)"
   ]
  },
  {
   "cell_type": "markdown",
   "metadata": {},
   "source": [
    "When `exclude_compartment_volumes_in_rates` is set as `False`, compartments are included in rate expressions as \"volume_CID\", where \"CID\" refers to the compartment identifier. "
   ]
  },
  {
   "cell_type": "code",
   "execution_count": null,
   "metadata": {},
   "outputs": [],
   "source": [
    "mass_config.exclude_compartment_volumes_in_rates = False\n",
    "\n",
    "PGI = model.reactions.get_by_id(\"PGI\")\n",
    "model.custom_parameters[\"volume_c\"] = 1\n",
    "\n",
    "print(PGI.rate)"
   ]
  },
  {
   "cell_type": "markdown",
   "metadata": {},
   "source": [
    "The compartment volume is currently treated as a custom parameter. This behavior is subject to change in future updates following the release of COBRApy compartment objects. "
   ]
  },
  {
   "cell_type": "markdown",
   "metadata": {},
   "source": [
    "### For Compartments and SBML"
   ]
  },
  {
   "cell_type": "markdown",
   "metadata": {},
   "source": [
    "The `boundary_compartment` attribute defines the compartment for any external boundary species. "
   ]
  },
  {
   "cell_type": "code",
   "execution_count": null,
   "metadata": {},
   "outputs": [],
   "source": [
    "# Create a boundary reaction\n",
    "x1_c = MassMetabolite(\"x1_c\", compartment=\"c\")\n",
    "R3 = MassReaction(\"R1\")\n",
    "R3.add_metabolites({x1_c: -1})\n",
    "\n",
    "print(mass_config.boundary_compartment)\n",
    "R3.boundary_metabolite"
   ]
  },
  {
   "cell_type": "markdown",
   "metadata": {},
   "source": [
    "The `boundary_compartment` can be changed using a `dict`, where the key is the compartment identifier and the value is the compartment name."
   ]
  },
  {
   "cell_type": "code",
   "execution_count": null,
   "metadata": {},
   "outputs": [],
   "source": [
    "mass_config.boundary_compartment = {\"xt\": \"external\"}\n",
    "R3.boundary_metabolite"
   ]
  },
  {
   "cell_type": "markdown",
   "metadata": {},
   "source": [
    "Because the `mass.Simulation` object uses the `libroadrunner`, an integrator for SBML models, a model cannot be simulated without defining a compartment. The `default_compartment` attribute is used as the compartment for the model when no compartments have been defined."
   ]
  },
  {
   "cell_type": "code",
   "execution_count": null,
   "metadata": {},
   "outputs": [],
   "source": [
    "mass_config.default_compartment"
   ]
  },
  {
   "cell_type": "markdown",
   "metadata": {},
   "source": [
    "As with the `boundary_compartment`, the `default_compartment` can be changed using a `dict`."
   ]
  },
  {
   "cell_type": "code",
   "execution_count": null,
   "metadata": {},
   "outputs": [],
   "source": [
    "mass_config.default_compartment = {\"def\": \"default_compartment\"}\n",
    "mass_config.default_compartment"
   ]
  },
  {
   "cell_type": "markdown",
   "metadata": {},
   "source": [
    "SBML also allows for a model creator to be defined when exporting models"
   ]
  },
  {
   "cell_type": "code",
   "execution_count": null,
   "metadata": {},
   "outputs": [],
   "source": [
    "mass_config.model_creator"
   ]
  },
  {
   "cell_type": "markdown",
   "metadata": {},
   "source": [
    "The `model_creator` attribute of the `MassConfiguration` allows the model creator to be set using a `dict`, where valid keys are \"familyName\", \"givenName\", \"organization\", and \"email\"."
   ]
  },
  {
   "cell_type": "code",
   "execution_count": null,
   "metadata": {},
   "outputs": [],
   "source": [
    "mass_config.model_creator = {\n",
    "    \"familyName\": \"Smith\",\n",
    "    \"givenName\": \"John\",\n",
    "    \"organization\": \"Systems Biology Research Group @UCSD\"}\n",
    "mass_config.model_creator"
   ]
  },
  {
   "cell_type": "markdown",
   "metadata": {},
   "source": [
    "## Attributes for Simulation and Analysis\n",
    "\n",
    "The following attributes of the `MassConfiguration` alter default behavior for various simulation and analytical methods in **MASSPy**."
   ]
  },
  {
   "cell_type": "code",
   "execution_count": null,
   "metadata": {},
   "outputs": [],
   "source": [
    "from mass import Simulation\n",
    "\n",
    "# Reset configurations before loading model\n",
    "mass_config.boundary_compartment = {\"b\": \"boundary\"}\n",
    "mass_config.exclude_compartment_volumes_in_rates = True\n",
    "\n",
    "model = create_test_model(\"Glycolysis\")\n",
    "sim = Simulation(model, verbose=True)"
   ]
  },
  {
   "cell_type": "markdown",
   "metadata": {},
   "source": [
    "### Steady State threshold\n",
    "\n",
    "The `MassConfiguration.steady_state_threshold` attribute determines whether a model has reached a steady state. In general, compared values must be less than the `steady_state_threshold` attribute to be considered at steady state.\n",
    "\n",
    "* With simulations. the absolute difference between the last two points must be less than the steady state threshold.\n",
    "\n",
    "* With steady state solvers, the sum of squares of the steady state solution must be less than the steady state threshold."
   ]
  },
  {
   "cell_type": "code",
   "execution_count": null,
   "metadata": {},
   "outputs": [],
   "source": [
    "mass_config.steady_state_threshold = 1e-20\n",
    "conc_sol, flux_sol = sim.find_steady_state(model, strategy=\"simulate\")\n",
    "bool(conc_sol)  # Empty solution objects return False"
   ]
  },
  {
   "cell_type": "markdown",
   "metadata": {},
   "source": [
    "Changing the threshold affects whether solution values are considered to be at steady state:"
   ]
  },
  {
   "cell_type": "code",
   "execution_count": null,
   "metadata": {
    "scrolled": true
   },
   "outputs": [],
   "source": [
    "mass_config.steady_state_threshold = 1e-6\n",
    "conc_sol, flux_sol = sim.find_steady_state(model, strategy=\"simulate\")\n",
    "bool(conc_sol)  # Filled solution objects return False"
   ]
  },
  {
   "cell_type": "markdown",
   "metadata": {},
   "source": [
    "### Decimal Precision\n",
    "\n",
    "The `MassConfiguration.decimal_precision` attribute is a special configuration attribute used in several `mass` methods. The value of the attribute determines how many digits after the decimal to preserve in rounding.\n",
    "\n",
    "For many methods, the decimal precision will not be applied unless a `decimal_precision` kwarg is set as `True`. "
   ]
  },
  {
   "cell_type": "code",
   "execution_count": null,
   "metadata": {},
   "outputs": [],
   "source": [
    "# Set decimal precision\n",
    "mass_config.decimal_precision = 8\n",
    "\n",
    "# Will not apply decimal precision to steady state solutions\n",
    "conc_sol, flux_sol = sim.find_steady_state(model, strategy=\"simulate\",\n",
    "                                           decimal_precision=False)\n",
    "print(conc_sol[\"glc__D_c\"])\n",
    "\n",
    "# Will apply decimal precision to steady state solutions\n",
    "conc_sol, flux_sol = sim.find_steady_state(model, strategy=\"simulate\",\n",
    "                                           decimal_precision=True)\n",
    "print(conc_sol[\"glc__D_c\"])"
   ]
  },
  {
   "cell_type": "markdown",
   "metadata": {},
   "source": [
    "If `MassConfiguration.decimal_precision` is `None`, no rounding will occur."
   ]
  },
  {
   "cell_type": "code",
   "execution_count": null,
   "metadata": {},
   "outputs": [],
   "source": [
    "mass_config.decimal_precision = None\n",
    "\n",
    "# Will apply decimal precision to steady state solutions\n",
    "conc_sol, flux_sol = sim.find_steady_state(model, strategy=\"simulate\",\n",
    "                                           decimal_precision=True)\n",
    "print(conc_sol[\"glc__D_c\"])"
   ]
  },
  {
   "cell_type": "markdown",
   "metadata": {},
   "source": [
    "## Shared Attributes\n",
    "\n",
    "The following attributes are those shared with the `cobra.Configuration` object."
   ]
  },
  {
   "cell_type": "markdown",
   "metadata": {},
   "source": [
    "### Bounds"
   ]
  },
  {
   "cell_type": "markdown",
   "metadata": {},
   "source": [
    "When a reaction is created, its default bounds are determined by the  `lower_bound` and `upper_bound` values of the `MassConfiguration`:"
   ]
  },
  {
   "cell_type": "code",
   "execution_count": null,
   "metadata": {},
   "outputs": [],
   "source": [
    "mass_config.lower_bound = -1000\n",
    "mass_config.upper_bound = 1000\n",
    "R4 = MassReaction(\"R4\")\n",
    "print(\"R4 bounds: {0}\".format(R4.bounds))"
   ]
  },
  {
   "cell_type": "markdown",
   "metadata": {},
   "source": [
    "Changing the bounds will affect newly created reactions, but not existing ones:"
   ]
  },
  {
   "cell_type": "code",
   "execution_count": null,
   "metadata": {},
   "outputs": [],
   "source": [
    "mass_config.bounds = (-444, 444)\n",
    "R5 = MassReaction(\"R5\")\n",
    "print(\"R5 bounds: {0}\".format(R5.bounds))\n",
    "print(\"R4 bounds: {0}\".format(R4.bounds))"
   ]
  },
  {
   "cell_type": "markdown",
   "metadata": {},
   "source": [
    "### Solver\n",
    "\n",
    "The default solver and solver tolerance utilized by newly instantiated models and `ConcSolver` objects is determined by the `solver` and `tolerance` attributes defined in the `MassConfiguration`."
   ]
  },
  {
   "cell_type": "code",
   "execution_count": null,
   "metadata": {},
   "outputs": [],
   "source": [
    "model = create_test_model(\"textbook\")\n",
    "print(\"Solver {0!r}\".format(model.solver))\n",
    "print(\"Tolerance {0}\".format(model.tolerance))"
   ]
  },
  {
   "cell_type": "markdown",
   "metadata": {},
   "source": [
    "The default solver can be changed depending on the solvers installed in the environment containing the **MASSpy** package. GLPK is assumed to always be present in the environment. \n",
    "\n",
    "The solver tolerance is similarly set using the `tolerance` attribute."
   ]
  },
  {
   "cell_type": "code",
   "execution_count": null,
   "metadata": {},
   "outputs": [],
   "source": [
    "# Change solver and solver tolerance\n",
    "mass_config.solver = \"glpk\"\n",
    "mass_config.tolerance = 1e-4\n",
    "\n",
    "# Instantiate a new model to observe changes\n",
    "model = create_test_model(\"textbook\")\n",
    "print(\"Solver {0!r}\".format(model.solver))\n",
    "print(\"Tolerance {0}\".format(model.tolerance))"
   ]
  },
  {
   "cell_type": "markdown",
   "metadata": {},
   "source": [
    "### Number of Processes\n",
    "\n",
    "The `MassConfiguration.processes` controls the number of processes used when multiprocessing is possible. The default number corresponds to the number of available cores (hyperthreads)."
   ]
  },
  {
   "cell_type": "code",
   "execution_count": null,
   "metadata": {},
   "outputs": [],
   "source": [
    "mass_config.processes"
   ]
  }
 ],
 "metadata": {
  "kernelspec": {
   "display_name": "Python 3",
   "language": "python",
   "name": "python3"
  },
  "language_info": {
   "codemirror_mode": {
    "name": "ipython",
    "version": 3
   },
   "file_extension": ".py",
   "mimetype": "text/x-python",
   "name": "python",
   "nbconvert_exporter": "python",
   "pygments_lexer": "ipython3",
   "version": "3.7.4"
  }
 },
 "nbformat": 4,
 "nbformat_minor": 2
}
