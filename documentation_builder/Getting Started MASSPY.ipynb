{
 "cells": [
  {
   "cell_type": "markdown",
   "metadata": {},
   "source": [
    "# 1. Getting Started"
   ]
  },
  {
   "cell_type": "markdown",
   "metadata": {},
   "source": [
    "## 1.1 Loading a Model and Inspecting It"
   ]
  },
  {
   "cell_type": "markdown",
   "metadata": {},
   "source": [
    "To begin with, __masspy__ incorporates <font color=#1E90FF>metabolites, reactions, initial conditions </font>for a given metabolite and rate equations for each reaction in order to create models for simulations of cell reactions. To load a test model, type: "
   ]
  },
  {
   "cell_type": "code",
   "execution_count": 9,
   "metadata": {},
   "outputs": [],
   "source": [
    "from mass import MassReaction, MassMetabolite, MassModel\n",
    "from mass.test import create_test_model\n",
    "#Incorporates RBC Core Model as a test model\n",
    "model= create_test_model(\"textbook\")"
   ]
  },
  {
   "cell_type": "markdown",
   "metadata": {},
   "source": [
    "The <font color=#1E90FF>reactions, metabolites and initial contditions</font> reactions, metabolites and initial contditions are attributes of the masspy model which corresponds to a special type of list called a <font color='#556B2F'>cobra.DictList</font>, and each one is made up of <font color=#4682B4>mass.reaction</font> and <font color='#4682B4'>mass.metabolite</font> and many more respectively.\n"
   ]
  },
  {
   "cell_type": "code",
   "execution_count": 2,
   "metadata": {},
   "outputs": [
    {
     "name": "stdout",
     "output_type": "stream",
     "text": [
      "53\n",
      "48\n"
     ]
    }
   ],
   "source": [
    "print(len(model.reactions))\n",
    "print(len(model.metabolites))"
   ]
  },
  {
   "cell_type": "markdown",
   "metadata": {},
   "source": [
    "When using Jupyter Notebook, this type of information is rendered in a table. "
   ]
  },
  {
   "cell_type": "code",
   "execution_count": 3,
   "metadata": {},
   "outputs": [
    {
     "data": {
      "text/html": [
       "\n",
       "            <table>\n",
       "                <tr>\n",
       "                    <td><strong>Name</strong></td><td>Core_RBC_Model</td>\n",
       "                </tr><tr>\n",
       "                    <td><strong>Memory address</strong></td><td>0x012c362cc0</td>\n",
       "                </tr><tr>\n",
       "                    <td><strong>Stoichiometric Matrix</strong></td>\n",
       "                    <td>48x53</td>\n",
       "                </tr><tr>\n",
       "                    <td><strong>Matrix Rank</strong></td>\n",
       "                    <td>44</td>\n",
       "                </tr><tr>\n",
       "                    <td><strong>Matrix Type</strong></td>\n",
       "                    <td>dense, float64</td>\n",
       "                </tr><tr>\n",
       "                    <td><strong>Number of Metabolites</strong></td>\n",
       "                    <td>48</td>\n",
       "                </tr><tr>\n",
       "                    <td><strong>Number of Reactions</strong></td>\n",
       "                    <td>53</td>\n",
       "                </tr><tr>\n",
       "                    <td><strong>Number of Initial Conditions</strong></td>\n",
       "                    <td>48</td>\n",
       "                </tr><tr>\n",
       "                    <td><strong>Number of Forward Rate Constants</strong></td>\n",
       "                    <td>53</td>\n",
       "                </tr><tr>\n",
       "                    <td><strong>Number of Equilibrium Constants</strong></td>\n",
       "                    <td>53</td>\n",
       "                </tr><tr>\n",
       "                    <td><strong>Number of Irreversible Reactions</strong></td>\n",
       "                    <td>11</td>\n",
       "                </tr><tr>\n",
       "                    <td><strong>Number of Exchanges</strong></td>\n",
       "                    <td>13</td>\n",
       "                </tr><tr>\n",
       "                    <td><strong>Number of Fixed Concentrations</strong></td>\n",
       "                    <td>13</td>\n",
       "                </tr><tr>\n",
       "                    <td><strong>Number of Custom Rates</strong></td>\n",
       "                    <td>0</td>\n",
       "                </tr><tr>\n",
       "                    <td><strong>Number of Genes</strong></td>\n",
       "                    <td>0</td>\n",
       "                </tr><tr>\n",
       "                    <td><strong>Number of Enzymes</strong></td>\n",
       "                    <td>0</td>\n",
       "                </tr><tr>\n",
       "                    <td><strong>Modules</strong></td>\n",
       "                    <td>Glycolysis<br> Pentose_Phosphate_Pathway<br> AMP_Salvage_Network<br> Hemoglobin</br></td>\n",
       "                </tr><tr>\n",
       "                    <td><strong>Compartments</strong></td>\n",
       "                    <td>Cytosol</td>\n",
       "                </tr><tr>\n",
       "                    <td><strong>Units</strong></td>\n",
       "                    <td>Millimoles, Hours, Liters</td>\n",
       "                </tr>\n",
       "            </table>\n",
       "        "
      ],
      "text/plain": [
       "<MassModel Core_RBC_Model at 0x12c362cc0>"
      ]
     },
     "execution_count": 3,
     "metadata": {},
     "output_type": "execute_result"
    }
   ],
   "source": [
    "model"
   ]
  },
  {
   "cell_type": "markdown",
   "metadata": {},
   "source": [
    "Just like a regular list, objects in the DictList can be retrieved by indexing. For example, to get the 30th reaction in the model (at index 29 because of *0-indexing*)"
   ]
  },
  {
   "cell_type": "code",
   "execution_count": 4,
   "metadata": {},
   "outputs": [
    {
     "data": {
      "text/html": [
       "\n",
       "            <table>\n",
       "                <tr>\n",
       "                    <td><strong>Reaction identifier</strong></td>\n",
       "                    <td>DPGM</td>\n",
       "                </tr><tr>\n",
       "                    <td><strong>Name</strong></td>\n",
       "                    <td>Diphosphoglyceromutase</td>\n",
       "                </tr><tr>\n",
       "                    <td><strong>Memory address</strong></td>\n",
       "                    <td>0x012c3999b0</td>\n",
       "                </tr><tr>\n",
       "                    <td><strong>Subsystem</strong></td>\n",
       "                    <td>Hemoglobin</td>\n",
       "                </tr><tr>\n",
       "                    <td><strong>Stoichiometry</strong></td>\n",
       "                    <td>\n",
       "                        <p style='text-align:right'>_13dpg_c <=> _23dpg_c + h_c</p>\n",
       "                        <p style='text-align:right'>3-Phospho-D-glyceroyl phosphate <=> 2,3-Disphospho-D-glycerate + H+</p>\n",
       "                    </td>\n",
       "                </tr><tr>\n",
       "                    <td><strong>GPR</strong></td>\n",
       "                    <td></td>\n",
       "                </tr><tr>\n",
       "                    <td><strong>Kinetic Reversibility</strong></td>\n",
       "                    <td>True</td>\n",
       "                </tr>\n",
       "            </table>\n",
       "        "
      ],
      "text/plain": [
       "<MassReaction DPGM at 0x12c3999b0>"
      ]
     },
     "execution_count": 4,
     "metadata": {},
     "output_type": "execute_result"
    }
   ],
   "source": [
    "model.reactions[29]"
   ]
  },
  {
   "cell_type": "markdown",
   "metadata": {},
   "source": [
    "Additionally, items can be retrieved by their ID using the <font color=#B22222>DictList.get_by_id()</font> function. For example, to get the cytosolic atp metabolite object in our RBC core model(the ID is \"atp_c\"), we can do the following:"
   ]
  },
  {
   "cell_type": "code",
   "execution_count": 5,
   "metadata": {},
   "outputs": [
    {
     "data": {
      "text/html": [
       "\n",
       "        <table>\n",
       "            <tr>\n",
       "                <td><strong>MassMetabolite identifier</strong></td>\n",
       "                <td>atp_c</td>\n",
       "            </tr><tr>\n",
       "                <td><strong>Name</strong></td>\n",
       "                <td>ATP</td>\n",
       "            </tr><tr>\n",
       "                <td><strong>Memory address</strong></td>\n",
       "                <td>0x012c36a588</td>\n",
       "            </tr><tr>\n",
       "                <td><strong>Formula</strong></td>\n",
       "                <td>C10H12N5O13P3</td>\n",
       "            </tr><tr>\n",
       "                <td><strong>Compartment</strong></td>\n",
       "                <td>c</td>\n",
       "            </tr><tr>\n",
       "                <td><strong>Initial Condition</strong></td>\n",
       "                <td>1.6</td>\n",
       "            </tr><tr>\n",
       "                <td><strong>Gibbs formation energy</strong></td>\n",
       "                <td>None</td>\n",
       "            </tr><tr>\n",
       "                <td><strong>In 8 reaction(s)</strong></td>\n",
       "                <td>ADNK1, PGK, PFK, PYK, ADK1, PRPPS, ATPM, HEX1</td>\n",
       "            </tr>\n",
       "        <table>"
      ],
      "text/plain": [
       "<MassMetabolite atp_c at 0x12c36a588>"
      ]
     },
     "execution_count": 5,
     "metadata": {},
     "output_type": "execute_result"
    }
   ],
   "source": [
    "model.metabolites.get_by_id(\"atp_c\")"
   ]
  },
  {
   "cell_type": "markdown",
   "metadata": {},
   "source": [
    "Users with an interactive shell such as Jupyter Notebook will be able to tab complete list elements inside a list. While this is not recommended behavior for most code because of the possibility of characters like \"-\" inside ids, this is very useful while in an interactive prompt:"
   ]
  },
  {
   "cell_type": "code",
   "execution_count": 6,
   "metadata": {},
   "outputs": [
    {
     "name": "stdout",
     "output_type": "stream",
     "text": [
      "5.789814814814814\n",
      "1\n"
     ]
    }
   ],
   "source": [
    "print(model.reactions.EX_lac__L_e.forward_rate_constant)\n",
    "print(model.reactions.EX_lac__L_e.equilibrium_constant)\n",
    "#put in forward and reverse rate constants"
   ]
  },
  {
   "cell_type": "markdown",
   "metadata": {},
   "source": [
    "__MassPy__ functionality allows us to call up it's specific attributes: a portion of class. Class and object functions can be visualized as compartmentalization and organizational methods. Classes program functions within the objects to comprise an attribute; similar to organizing a compartmentalized network of systems. Here, we display a function which only calls the attributes associated with __masspy__,"
   ]
  },
  {
   "cell_type": "code",
   "execution_count": 7,
   "metadata": {},
   "outputs": [],
   "source": [
    "def attribute(obj):\n",
    "    \n",
    "    \"A portion of the class; classes program functions within the objects to comprise an attribute\"\n",
    "    pass"
   ]
  },
  {
   "cell_type": "markdown",
   "metadata": {},
   "source": [
    "To see all the available attributes within the model being out object, we can do:  \n"
   ]
  },
  {
   "cell_type": "code",
   "execution_count": null,
   "metadata": {
    "scrolled": true
   },
   "outputs": [],
   "source": [
    "dir(MassReaction)"
   ]
  },
  {
   "cell_type": "markdown",
   "metadata": {},
   "source": [
    "To inspect the MassModel objects, various methods exist as outline above; to highlight a few, "
   ]
  },
  {
   "cell_type": "code",
   "execution_count": null,
   "metadata": {
    "scrolled": true
   },
   "outputs": [],
   "source": [
    "model.reactions"
   ]
  },
  {
   "cell_type": "markdown",
   "metadata": {},
   "source": [
    "As part of the DictList function, we can view all of the reactions if we so choose to; this would require us to not index the particular reaction and list out all reactions if necessary. "
   ]
  },
  {
   "cell_type": "code",
   "execution_count": null,
   "metadata": {
    "scrolled": true
   },
   "outputs": [],
   "source": [
    "model.metabolites"
   ]
  },
  {
   "cell_type": "markdown",
   "metadata": {},
   "source": [
    "To examine the stoichiometric matrix, we can do,"
   ]
  },
  {
   "cell_type": "code",
   "execution_count": null,
   "metadata": {
    "scrolled": false
   },
   "outputs": [],
   "source": [
    "model.S"
   ]
  },
  {
   "cell_type": "markdown",
   "metadata": {},
   "source": [
    "This would be better viewed through the <font color='#8A2BE2'>pandas.DataFrame</font> table; to do so, "
   ]
  },
  {
   "cell_type": "code",
   "execution_count": null,
   "metadata": {},
   "outputs": [],
   "source": [
    "import pandas as pd"
   ]
  },
  {
   "cell_type": "code",
   "execution_count": null,
   "metadata": {
    "scrolled": true
   },
   "outputs": [],
   "source": [
    "model.update_S(matrix_type=\"DataFrame\", update_model=True)"
   ]
  },
  {
   "cell_type": "markdown",
   "metadata": {},
   "source": [
    "We can't really observe all of the reactions taking place here; therefore, we can set the amount of rows and columns displayed so that we can observe all of the values of said reaction,"
   ]
  },
  {
   "cell_type": "code",
   "execution_count": null,
   "metadata": {},
   "outputs": [],
   "source": [
    "pd.set_option(\"display.max_rows\",100)\n",
    "pd.set_option(\"display.max_columns\",100)\n",
    "pd.set_option(\"display.max_colwidth\",-1)\n",
    "pd.options.display.float_format = '{:,.3f}'.format #sets the amount of decimal places numbers have"
   ]
  },
  {
   "cell_type": "markdown",
   "metadata": {},
   "source": [
    "When we call for the data frame again, we see that all the reactions and the corresponding concentrations can be viewed in the table now,"
   ]
  },
  {
   "cell_type": "code",
   "execution_count": null,
   "metadata": {},
   "outputs": [],
   "source": [
    "model.update_S(matrix_type=\"DataFrame\", update_model=True)"
   ]
  },
  {
   "cell_type": "markdown",
   "metadata": {},
   "source": [
    "Model rates can be examined by iterating using a \"for\" loop,"
   ]
  },
  {
   "cell_type": "code",
   "execution_count": null,
   "metadata": {
    "scrolled": true
   },
   "outputs": [],
   "source": [
    "for rxn, rate in model.rates.items():\n",
    "    print(\"%s: %s\" % (rxn.id, rate))"
   ]
  },
  {
   "cell_type": "markdown",
   "metadata": {},
   "source": [
    "The above loop displays  rates and the datatype is a *dictionary list*. Dictionary (from now on referred to as *Dict*) list refers to the dictionary input which you will use heavily in __masspy__. It's important to note the distinction in the type of data that you call upon because this can make extraction of information much easier."
   ]
  },
  {
   "cell_type": "code",
   "execution_count": null,
   "metadata": {},
   "outputs": [],
   "source": [
    "model.rates[model.reactions.PPM]"
   ]
  },
  {
   "cell_type": "markdown",
   "metadata": {},
   "source": [
    "Using <font color=#FF00FF>dict.get(key,None)</font> methodology ensures more efficient iterations and it returns the value or any given key. If key is not present, it would return \"None\". In our case, we have reactions as keys and rates acting as a standard dictionary."
   ]
  },
  {
   "cell_type": "code",
   "execution_count": null,
   "metadata": {
    "scrolled": true
   },
   "outputs": [],
   "source": [
    "print(model.rates.get(model.reactions.PGL,None))\n",
    "print(model.rates.get(\"model.reactions.PCC\",None))"
   ]
  },
  {
   "cell_type": "markdown",
   "metadata": {},
   "source": [
    "It's essential to note that the datatype for rates and ODE's are based on preceding rate law formulations and thereby are sympy symbolic objects. Symbolic objects are inherited from a basic object such as lists, dictionaries, etc. Comprising all these basic object in sympy results in the sympy expression we see below.   "
   ]
  },
  {
   "cell_type": "code",
   "execution_count": null,
   "metadata": {
    "scrolled": false
   },
   "outputs": [],
   "source": [
    "import sympy as sym\n",
    "from sympy import init_printing"
   ]
  },
  {
   "cell_type": "code",
   "execution_count": null,
   "metadata": {},
   "outputs": [],
   "source": [
    "print(model.rates[model.reactions.HEX1])\n",
    "print(type(model.rates[model.reactions.HEX1]))\n",
    "print(type(str(model.rates[model.reactions.HEX1])))\n",
    "print(isinstance(model.rates[model.reactions.HEX1], str))"
   ]
  },
  {
   "cell_type": "code",
   "execution_count": null,
   "metadata": {},
   "outputs": [],
   "source": [
    "print(type(model.odes[model.metabolites.glc__D_c]))\n",
    "print(type(str(model.odes[model.metabolites.glc__D_c])))\n",
    "print(isinstance(model.odes[model.metabolites.glc__D_c], str))"
   ]
  },
  {
   "cell_type": "markdown",
   "metadata": {},
   "source": [
    "Pretty printing can be utilized in these functions in order to ensure that the "
   ]
  },
  {
   "cell_type": "code",
   "execution_count": null,
   "metadata": {
    "scrolled": true
   },
   "outputs": [],
   "source": [
    "from sympy import pprint\n",
    "eqn = model.rates[model.reactions.HEX1]\n",
    "sym.pprint(eqn)"
   ]
  },
  {
   "cell_type": "markdown",
   "metadata": {},
   "source": [
    "The same goes for ODE's; the following function is not being printed for the sake of organization"
   ]
  },
  {
   "cell_type": "code",
   "execution_count": null,
   "metadata": {
    "scrolled": true
   },
   "outputs": [],
   "source": [
    "for metabolite, ode in model.odes.items():\n",
    "    print(\"%s:%s\" % (metabolite.id,ode))"
   ]
  },
  {
   "cell_type": "markdown",
   "metadata": {},
   "source": [
    "Similarly, one ODE can be pulled out,"
   ]
  },
  {
   "cell_type": "code",
   "execution_count": null,
   "metadata": {},
   "outputs": [],
   "source": [
    "model.odes[model.metabolites.glc__D_c] #*metabolites don't have ODE until they are put in*"
   ]
  },
  {
   "cell_type": "markdown",
   "metadata": {},
   "source": [
    "## 1.2 Reactions"
   ]
  },
  {
   "cell_type": "markdown",
   "metadata": {},
   "source": [
    "We will consider the reaction glucose-6-phosphate isomerase, which interconverts glucose-6-phosphate to fructose-6-phosphate. The reaction model for this reaction in our test model is PGI"
   ]
  },
  {
   "cell_type": "code",
   "execution_count": null,
   "metadata": {},
   "outputs": [],
   "source": [
    "pgi= model.reactions.get_by_id(\"PGI\")\n",
    "pgi"
   ]
  },
  {
   "cell_type": "markdown",
   "metadata": {},
   "source": [
    "We can view the full name and reaction catalyzed as strings."
   ]
  },
  {
   "cell_type": "code",
   "execution_count": null,
   "metadata": {
    "scrolled": true
   },
   "outputs": [],
   "source": [
    "print(pgi.name)\n",
    "print(pgi.reaction)"
   ]
  },
  {
   "cell_type": "markdown",
   "metadata": {},
   "source": [
    "We can also ensure the reaction is mass balanced. This function will return elements which violate mass balance. If it comes back empty, then the reaction is mass balanced."
   ]
  },
  {
   "cell_type": "code",
   "execution_count": null,
   "metadata": {},
   "outputs": [],
   "source": [
    "pgi.check_mass_balance()"
   ]
  },
  {
   "cell_type": "markdown",
   "metadata": {},
   "source": [
    "In order to add a metabolite, we parse through a *dict list* with the metabolite object and its coefficient."
   ]
  },
  {
   "cell_type": "code",
   "execution_count": null,
   "metadata": {},
   "outputs": [],
   "source": [
    "pgi.add_metabolites({model.metabolites.get_by_id(\"h_c\"):-1})\n",
    "pgi.reaction"
   ]
  },
  {
   "cell_type": "markdown",
   "metadata": {},
   "source": [
    "The reaction is no longer mass balanced."
   ]
  },
  {
   "cell_type": "code",
   "execution_count": null,
   "metadata": {},
   "outputs": [],
   "source": [
    "pgi.check_mass_balance()"
   ]
  },
  {
   "cell_type": "markdown",
   "metadata": {},
   "source": [
    "We can remove metabolite and the reaction can be balanced once again."
   ]
  },
  {
   "cell_type": "code",
   "execution_count": null,
   "metadata": {
    "scrolled": true
   },
   "outputs": [],
   "source": [
    "pgi.subtract_metabolites({model.metabolites.get_by_id(\"h_c\"):-1})\n",
    "print(pgi.reaction)\n",
    "print(pgi.check_mass_balance())"
   ]
  },
  {
   "cell_type": "markdown",
   "metadata": {},
   "source": [
    "Further inspection of the reaction itself can be accomplished through several methods listed below:"
   ]
  },
  {
   "cell_type": "code",
   "execution_count": null,
   "metadata": {},
   "outputs": [],
   "source": [
    "pgi.id"
   ]
  },
  {
   "cell_type": "code",
   "execution_count": null,
   "metadata": {},
   "outputs": [],
   "source": [
    "pgi.reactants"
   ]
  },
  {
   "cell_type": "code",
   "execution_count": null,
   "metadata": {},
   "outputs": [],
   "source": [
    "pgi.products"
   ]
  },
  {
   "cell_type": "code",
   "execution_count": null,
   "metadata": {},
   "outputs": [],
   "source": [
    "pgi.stoichiometry"
   ]
  },
  {
   "cell_type": "markdown",
   "metadata": {},
   "source": [
    "As stated above, <font color=#800080>dir(MassReaction)</font> can pull up the documentation for MassReaction Class."
   ]
  },
  {
   "cell_type": "code",
   "execution_count": 10,
   "metadata": {
    "collapsed": true
   },
   "outputs": [
    {
     "data": {
      "text/plain": [
       "['ADA',\n",
       " 'ADK1',\n",
       " 'ADNK1',\n",
       " 'ADPT',\n",
       " 'AMPDA',\n",
       " 'ATPM',\n",
       " 'DM_nadh',\n",
       " 'DPGM',\n",
       " 'DPGase',\n",
       " 'ENO',\n",
       " 'EX_ade_e',\n",
       " 'EX_adn_e',\n",
       " 'EX_co2_e',\n",
       " 'EX_h2o_e',\n",
       " 'EX_h_e',\n",
       " 'EX_hxan_e',\n",
       " 'EX_ins_e',\n",
       " 'EX_lac__L_e',\n",
       " 'EX_nh3_e',\n",
       " 'EX_o2_e',\n",
       " 'EX_pi_e',\n",
       " 'EX_pyr_e',\n",
       " 'FBA',\n",
       " 'G6PDH2r',\n",
       " 'GAPD',\n",
       " 'GND',\n",
       " 'GSHR',\n",
       " 'GTHOr',\n",
       " 'HBDPG',\n",
       " 'HBO1',\n",
       " 'HBO2',\n",
       " 'HBO3',\n",
       " 'HBO4',\n",
       " 'HEX1',\n",
       " 'LDH_L',\n",
       " 'NTD11',\n",
       " 'NTD7',\n",
       " 'PFK',\n",
       " 'PGI',\n",
       " 'PGK',\n",
       " 'PGL',\n",
       " 'PGM',\n",
       " 'PPM',\n",
       " 'PRPPS',\n",
       " 'PUNP5',\n",
       " 'PYK',\n",
       " 'RPE',\n",
       " 'RPI',\n",
       " 'S_glc__D_e',\n",
       " 'TALA',\n",
       " 'TKT1',\n",
       " 'TKT2',\n",
       " 'TPI',\n",
       " '__add__',\n",
       " '__class__',\n",
       " '__contains__',\n",
       " '__copy__',\n",
       " '__delattr__',\n",
       " '__delitem__',\n",
       " '__delslice__',\n",
       " '__dict__',\n",
       " '__dir__',\n",
       " '__doc__',\n",
       " '__eq__',\n",
       " '__format__',\n",
       " '__ge__',\n",
       " '__getattr__',\n",
       " '__getattribute__',\n",
       " '__getitem__',\n",
       " '__getslice__',\n",
       " '__getstate__',\n",
       " '__gt__',\n",
       " '__hash__',\n",
       " '__iadd__',\n",
       " '__imul__',\n",
       " '__init__',\n",
       " '__init_subclass__',\n",
       " '__isub__',\n",
       " '__iter__',\n",
       " '__le__',\n",
       " '__len__',\n",
       " '__lt__',\n",
       " '__module__',\n",
       " '__mul__',\n",
       " '__ne__',\n",
       " '__new__',\n",
       " '__reduce__',\n",
       " '__reduce_ex__',\n",
       " '__repr__',\n",
       " '__reversed__',\n",
       " '__rmul__',\n",
       " '__setattr__',\n",
       " '__setitem__',\n",
       " '__setslice__',\n",
       " '__setstate__',\n",
       " '__sizeof__',\n",
       " '__str__',\n",
       " '__sub__',\n",
       " '__subclasshook__',\n",
       " '__weakref__',\n",
       " '_check',\n",
       " '_dict',\n",
       " '_extend_nocheck',\n",
       " '_generate_index',\n",
       " '_replace_on_id',\n",
       " 'add',\n",
       " 'append',\n",
       " 'clear',\n",
       " 'copy',\n",
       " 'count',\n",
       " 'extend',\n",
       " 'get_by_any',\n",
       " 'get_by_id',\n",
       " 'has_id',\n",
       " 'index',\n",
       " 'insert',\n",
       " 'list_attr',\n",
       " 'pop',\n",
       " 'query',\n",
       " 'remove',\n",
       " 'reverse',\n",
       " 'sort',\n",
       " 'union']"
      ]
     },
     "execution_count": 10,
     "metadata": {},
     "output_type": "execute_result"
    }
   ],
   "source": [
    "dir(model.reactions)"
   ]
  },
  {
   "cell_type": "markdown",
   "metadata": {},
   "source": [
    "## 1.3 Metabolites "
   ]
  },
  {
   "cell_type": "markdown",
   "metadata": {},
   "source": [
    "We will consider cytosilic ATP as the metabolite and use id \"atp_c\" within the following test model. "
   ]
  },
  {
   "cell_type": "code",
   "execution_count": null,
   "metadata": {},
   "outputs": [],
   "source": [
    "atp= model.metabolites.get_by_id(\"atp_c\")\n",
    "atp"
   ]
  },
  {
   "cell_type": "markdown",
   "metadata": {},
   "source": [
    "We can print out the metabolite name and compartment (cytosol in this case) directly as string. "
   ]
  },
  {
   "cell_type": "code",
   "execution_count": null,
   "metadata": {},
   "outputs": [],
   "source": [
    "print(atp.name)\n",
    "print(atp.compartment)"
   ]
  },
  {
   "cell_type": "markdown",
   "metadata": {},
   "source": [
    "We can also determine the charge of ATP within the model"
   ]
  },
  {
   "cell_type": "code",
   "execution_count": null,
   "metadata": {},
   "outputs": [],
   "source": [
    "atp.charge"
   ]
  },
  {
   "cell_type": "markdown",
   "metadata": {},
   "source": [
    "Chemical formula of the metabolite can be observed as well. "
   ]
  },
  {
   "cell_type": "code",
   "execution_count": null,
   "metadata": {},
   "outputs": [],
   "source": [
    "print(atp.formula)"
   ]
  },
  {
   "cell_type": "markdown",
   "metadata": {},
   "source": [
    "The reactions attribute gives a frozenset of all reactions using given metabolite. We can use this to count the number of reactions which use ATP."
   ]
  },
  {
   "cell_type": "code",
   "execution_count": null,
   "metadata": {},
   "outputs": [],
   "source": [
    "len(atp.reactions)"
   ]
  },
  {
   "cell_type": "markdown",
   "metadata": {},
   "source": [
    "A metabolite like G6P will participate in fewer reactions."
   ]
  },
  {
   "cell_type": "code",
   "execution_count": null,
   "metadata": {},
   "outputs": [],
   "source": [
    "model.metabolites.get_by_id(\"g6p_c\").reactions"
   ]
  },
  {
   "cell_type": "markdown",
   "metadata": {},
   "source": [
    "## 1.4 Parameters & Initial Conditions"
   ]
  },
  {
   "cell_type": "markdown",
   "metadata": {},
   "source": [
    "Through using __MassPy__ specific attributes, one can inspect initial conditions and parameters placed within the model."
   ]
  },
  {
   "cell_type": "code",
   "execution_count": null,
   "metadata": {
    "scrolled": true
   },
   "outputs": [],
   "source": [
    "model.initial_conditions"
   ]
  },
  {
   "cell_type": "markdown",
   "metadata": {},
   "source": [
    "From the list above, we can inspect one specific initial condition instead of all of them: "
   ]
  },
  {
   "cell_type": "code",
   "execution_count": null,
   "metadata": {},
   "outputs": [],
   "source": [
    "model.initial_conditions[model.metabolites._13dpg_c]\n",
    "#can also get initial conditions through met.ic\n",
    "#important to point out diff b/w met.ic and model.ic\n",
    "#Include kf/ KEq"
   ]
  },
  {
   "cell_type": "markdown",
   "metadata": {},
   "source": [
    "These tools are espiecially important in determining how to inspect models; in the next workbook, we will discuss how to create models from the ground up and contextualize the methods to derive the model. "
   ]
  },
  {
   "cell_type": "markdown",
   "metadata": {},
   "source": [
    "Going through this initialized notebook, we see that a few important distinctions should be noted when comparing other python programs to __MassPy__. Functionality and inspection of models differ from __CobraPy__ to __MassPy__, and the nuances in the syntax is important to observe. We discussed how to load a model and pull up the models along with it's different attributes. After inspecting reactions, metabolites and pandas dataframes, we talked about datatypes and how to index with different methods. thereafter, we went over couple of functionalities for reactions and metabolites with respect to the attributes they have such as checking mass balance and finally ended with talking a little about initial conditions. "
   ]
  }
 ],
 "metadata": {
  "kernelspec": {
   "display_name": "Python 3",
   "language": "python",
   "name": "python3"
  },
  "language_info": {
   "codemirror_mode": {
    "name": "ipython",
    "version": 3
   },
   "file_extension": ".py",
   "mimetype": "text/x-python",
   "name": "python",
   "nbconvert_exporter": "python",
   "pygments_lexer": "ipython3",
   "version": "3.7.3"
  }
 },
 "nbformat": 4,
 "nbformat_minor": 2
}
