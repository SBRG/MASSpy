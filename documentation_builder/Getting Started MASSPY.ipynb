{
 "cells": [
  {
   "cell_type": "markdown",
   "metadata": {},
   "source": [
    "# 1. Getting Started"
   ]
  },
  {
   "cell_type": "markdown",
   "metadata": {},
   "source": [
    "## 1.1 Loading a Model and Inspecting It"
   ]
  },
  {
   "cell_type": "markdown",
   "metadata": {},
   "source": [
    "To begin with, masspy incorporates metabolites, reactions, initial conditions for a given metabolite and rate equations for each reaction in order to create models for simulations of cell reactions. To load a test model, type: "
   ]
  },
  {
   "cell_type": "code",
   "execution_count": 2,
   "metadata": {},
   "outputs": [],
   "source": [
    "from mass import MassReaction, MassMetabolite, MassModel\n",
    "from mass.test import create_test_model\n",
    "#Incorporates RBC Core Model as a test model\n",
    "model= create_test_model(\"textbook\")"
   ]
  },
  {
   "cell_type": "markdown",
   "metadata": {},
   "source": [
    "The reactions, metabolites and initial contditions are attributes of the masspy model which corresponds to a special type of list called a masspy.DictList, and each one is made up of mass.Reaction and mass.Metabolite and many more respectively.\n",
    "\n",
    "<font color='red'>Should be cobra.DictList</font>"
   ]
  },
  {
   "cell_type": "code",
   "execution_count": 3,
   "metadata": {},
   "outputs": [
    {
     "name": "stdout",
     "output_type": "stream",
     "text": [
      "53\n",
      "48\n"
     ]
    }
   ],
   "source": [
    "print(len(model.reactions))\n",
    "print(len(model.metabolites))"
   ]
  },
  {
   "cell_type": "markdown",
   "metadata": {},
   "source": [
    "When using Jupyter Notebook, this type of information is rendered in a table. \n",
    "\n",
    "<font color='red'>iPython/Jupyter</font>"
   ]
  },
  {
   "cell_type": "code",
   "execution_count": 4,
   "metadata": {},
   "outputs": [
    {
     "data": {
      "text/html": [
       "\n",
       "            <table>\n",
       "                <tr>\n",
       "                    <td><strong>Name</strong></td><td>Core_RBC_Model</td>\n",
       "                </tr><tr>\n",
       "                    <td><strong>Memory address</strong></td><td>0x0126755f98</td>\n",
       "                </tr><tr>\n",
       "                    <td><strong>Stoichiometric Matrix</strong></td>\n",
       "                    <td>48x53</td>\n",
       "                </tr><tr>\n",
       "                    <td><strong>Matrix Rank</strong></td>\n",
       "                    <td>44</td>\n",
       "                </tr><tr>\n",
       "                    <td><strong>Matrix Type</strong></td>\n",
       "                    <td>dense, float64</td>\n",
       "                </tr><tr>\n",
       "                    <td><strong>Number of Metabolites</strong></td>\n",
       "                    <td>48</td>\n",
       "                </tr><tr>\n",
       "                    <td><strong>Number of Reactions</strong></td>\n",
       "                    <td>53</td>\n",
       "                </tr><tr>\n",
       "                    <td><strong>Number of Initial Conditions</strong></td>\n",
       "                    <td>48</td>\n",
       "                </tr><tr>\n",
       "                    <td><strong>Number of Forward Rate Constants</strong></td>\n",
       "                    <td>53</td>\n",
       "                </tr><tr>\n",
       "                    <td><strong>Number of Equilibrium Constants</strong></td>\n",
       "                    <td>53</td>\n",
       "                </tr><tr>\n",
       "                    <td><strong>Number of Irreversible Reactions</strong></td>\n",
       "                    <td>11</td>\n",
       "                </tr><tr>\n",
       "                    <td><strong>Number of Exchanges</strong></td>\n",
       "                    <td>13</td>\n",
       "                </tr><tr>\n",
       "                    <td><strong>Number of Fixed Concentrations</strong></td>\n",
       "                    <td>13</td>\n",
       "                </tr><tr>\n",
       "                    <td><strong>Number of Custom Rates</strong></td>\n",
       "                    <td>0</td>\n",
       "                </tr><tr>\n",
       "                    <td><strong>Number of Genes</strong></td>\n",
       "                    <td>0</td>\n",
       "                </tr><tr>\n",
       "                    <td><strong>Number of Enzymes</strong></td>\n",
       "                    <td>0</td>\n",
       "                </tr><tr>\n",
       "                    <td><strong>Modules</strong></td>\n",
       "                    <td>Pentose_Phosphate_Pathway<br> Glycolysis<br> AMP_Salvage_Network<br> Hemoglobin</br></td>\n",
       "                </tr><tr>\n",
       "                    <td><strong>Compartments</strong></td>\n",
       "                    <td>Cytosol</td>\n",
       "                </tr><tr>\n",
       "                    <td><strong>Units</strong></td>\n",
       "                    <td>Millimoles, Hours, Liters</td>\n",
       "                </tr>\n",
       "            </table>\n",
       "        "
      ],
      "text/plain": [
       "<MassModel Core_RBC_Model at 0x126755f98>"
      ]
     },
     "execution_count": 4,
     "metadata": {},
     "output_type": "execute_result"
    }
   ],
   "source": [
    "model"
   ]
  },
  {
   "cell_type": "markdown",
   "metadata": {},
   "source": [
    "Just like a regular list, objects in the DictList can be retrieved by indexing. For example, to get the 30th reaction in the model (at index 29 bc of **0-indexing**)\n",
    "\n",
    "<font color='red'>(bc --> because)</font>"
   ]
  },
  {
   "cell_type": "code",
   "execution_count": 5,
   "metadata": {},
   "outputs": [
    {
     "data": {
      "text/html": [
       "\n",
       "            <table>\n",
       "                <tr>\n",
       "                    <td><strong>Reaction identifier</strong></td>\n",
       "                    <td>DPGM</td>\n",
       "                </tr><tr>\n",
       "                    <td><strong>Name</strong></td>\n",
       "                    <td>Diphosphoglyceromutase</td>\n",
       "                </tr><tr>\n",
       "                    <td><strong>Memory address</strong></td>\n",
       "                    <td>0x012679bc88</td>\n",
       "                </tr><tr>\n",
       "                    <td><strong>Subsystem</strong></td>\n",
       "                    <td>Hemoglobin</td>\n",
       "                </tr><tr>\n",
       "                    <td><strong>Stoichiometry</strong></td>\n",
       "                    <td>\n",
       "                        <p style='text-align:right'>_13dpg_c <=> _23dpg_c + h_c</p>\n",
       "                        <p style='text-align:right'>3-Phospho-D-glyceroyl phosphate <=> 2,3-Disphospho-D-glycerate + H+</p>\n",
       "                    </td>\n",
       "                </tr><tr>\n",
       "                    <td><strong>GPR</strong></td>\n",
       "                    <td></td>\n",
       "                </tr><tr>\n",
       "                    <td><strong>Kinetic Reversibility</strong></td>\n",
       "                    <td>True</td>\n",
       "                </tr>\n",
       "            </table>\n",
       "        "
      ],
      "text/plain": [
       "<MassReaction DPGM at 0x12679bc88>"
      ]
     },
     "execution_count": 5,
     "metadata": {},
     "output_type": "execute_result"
    }
   ],
   "source": [
    "model.reactions[29]"
   ]
  },
  {
   "cell_type": "markdown",
   "metadata": {},
   "source": [
    "Additionally, items can be retrieved by their id using the DictList.get_by_id() function. For example, to get the cytosolic atp metabolite object in our RBC core model(the id is \"atp_c\"), we can do the following:"
   ]
  },
  {
   "cell_type": "code",
   "execution_count": 6,
   "metadata": {},
   "outputs": [
    {
     "data": {
      "text/html": [
       "\n",
       "        <table>\n",
       "            <tr>\n",
       "                <td><strong>MassMetabolite identifier</strong></td>\n",
       "                <td>atp_c</td>\n",
       "            </tr><tr>\n",
       "                <td><strong>Name</strong></td>\n",
       "                <td>ATP</td>\n",
       "            </tr><tr>\n",
       "                <td><strong>Memory address</strong></td>\n",
       "                <td>0x0126760860</td>\n",
       "            </tr><tr>\n",
       "                <td><strong>Formula</strong></td>\n",
       "                <td>C10H12N5O13P3</td>\n",
       "            </tr><tr>\n",
       "                <td><strong>Compartment</strong></td>\n",
       "                <td>c</td>\n",
       "            </tr><tr>\n",
       "                <td><strong>Initial Condition</strong></td>\n",
       "                <td>1.6</td>\n",
       "            </tr><tr>\n",
       "                <td><strong>Gibbs formation energy</strong></td>\n",
       "                <td>None</td>\n",
       "            </tr><tr>\n",
       "                <td><strong>In 8 reaction(s)</strong></td>\n",
       "                <td>PYK, ADK1, PRPPS, HEX1, ATPM, ADNK1, PGK, PFK</td>\n",
       "            </tr>\n",
       "        <table>"
      ],
      "text/plain": [
       "<MassMetabolite atp_c at 0x126760860>"
      ]
     },
     "execution_count": 6,
     "metadata": {},
     "output_type": "execute_result"
    }
   ],
   "source": [
    "model.metabolites.get_by_id(\"atp_c\")"
   ]
  },
  {
   "cell_type": "markdown",
   "metadata": {},
   "source": [
    "Users with an interactive shell such a iPython will be able to tab complete list elements inside a list. While this is not recommended behavior for most code because of the possibility of characters like \"-\" inside ids, this is very useful while in an interactive prompt:"
   ]
  },
  {
   "cell_type": "code",
   "execution_count": 7,
   "metadata": {},
   "outputs": [
    {
     "name": "stdout",
     "output_type": "stream",
     "text": [
      "5.789814814814814\n",
      "1\n"
     ]
    }
   ],
   "source": [
    "print(model.reactions.EX_lac__L_e.forward_rate_constant)\n",
    "print(model.reactions.EX_lac__L_e.equilibrium_constant)\n",
    "\n",
    "#put in forward and reverse rate constants"
   ]
  },
  {
   "cell_type": "markdown",
   "metadata": {},
   "source": [
    "To see all the available attributes within the model being out object, we can do:  \n",
    "\n",
    "<font color='red'>Define an attributes function</font>"
   ]
  },
  {
   "cell_type": "code",
   "execution_count": 9,
   "metadata": {},
   "outputs": [
    {
     "ename": "AttributeError",
     "evalue": "'MassModel' object has no attribute 'attributes'",
     "output_type": "error",
     "traceback": [
      "\u001b[0;31m---------------------------------------------------------------------------\u001b[0m",
      "\u001b[0;31mAttributeError\u001b[0m                            Traceback (most recent call last)",
      "\u001b[0;32m<ipython-input-9-df6a4e42e7a5>\u001b[0m in \u001b[0;36m<module>\u001b[0;34m\u001b[0m\n\u001b[1;32m      3\u001b[0m \u001b[0;34m\u001b[0m\u001b[0m\n\u001b[1;32m      4\u001b[0m \u001b[0;34m\u001b[0m\u001b[0m\n\u001b[0;32m----> 5\u001b[0;31m \u001b[0mmodel\u001b[0m\u001b[0;34m.\u001b[0m\u001b[0mattributes\u001b[0m\u001b[0;34m\u001b[0m\u001b[0;34m\u001b[0m\u001b[0m\n\u001b[0m",
      "\u001b[0;31mAttributeError\u001b[0m: 'MassModel' object has no attribute 'attributes'"
     ]
    }
   ],
   "source": [
    "def attributes(obj):\n",
    "    pass\n",
    "    \n",
    "attributes(obj)"
   ]
  },
  {
   "cell_type": "code",
   "execution_count": 7,
   "metadata": {
    "scrolled": true
   },
   "outputs": [
    {
     "data": {
      "text/plain": [
       "['Keq',\n",
       " 'Keq_str',\n",
       " 'S',\n",
       " '__add__',\n",
       " '__class__',\n",
       " '__copy__',\n",
       " '__deepcopy__',\n",
       " '__delattr__',\n",
       " '__dict__',\n",
       " '__dir__',\n",
       " '__doc__',\n",
       " '__eq__',\n",
       " '__format__',\n",
       " '__ge__',\n",
       " '__getattribute__',\n",
       " '__getstate__',\n",
       " '__gt__',\n",
       " '__hash__',\n",
       " '__iadd__',\n",
       " '__imul__',\n",
       " '__init__',\n",
       " '__init_subclass__',\n",
       " '__isub__',\n",
       " '__le__',\n",
       " '__lt__',\n",
       " '__module__',\n",
       " '__mul__',\n",
       " '__ne__',\n",
       " '__new__',\n",
       " '__reduce__',\n",
       " '__reduce_ex__',\n",
       " '__repr__',\n",
       " '__setattr__',\n",
       " '__setstate__',\n",
       " '__sizeof__',\n",
       " '__str__',\n",
       " '__sub__',\n",
       " '__subclasshook__',\n",
       " '__weakref__',\n",
       " '_associate_gene',\n",
       " '_dissociate_gene',\n",
       " '_repr_html_',\n",
       " '_set_id_with_model',\n",
       " '_update_awareness',\n",
       " 'add_metabolites',\n",
       " 'all_parameter_ids',\n",
       " 'build_reaction_from_string',\n",
       " 'build_reaction_string',\n",
       " 'check_mass_balance',\n",
       " 'compartments',\n",
       " 'copy',\n",
       " 'equilibrium_constant',\n",
       " 'exchange',\n",
       " 'external_metabolite',\n",
       " 'flux_symbol',\n",
       " 'forward_rate_constant',\n",
       " 'functional',\n",
       " 'gene_name_reaction_rule',\n",
       " 'gene_reaction_rule',\n",
       " 'genes',\n",
       " 'get_coefficient',\n",
       " 'get_coefficients',\n",
       " 'get_compartments',\n",
       " 'get_disequilibrium_ratio',\n",
       " 'get_mass_action_ratio',\n",
       " 'get_rate_law',\n",
       " 'id',\n",
       " 'kf',\n",
       " 'kf_str',\n",
       " 'knock_out',\n",
       " 'kr',\n",
       " 'kr_str',\n",
       " 'lower_bound',\n",
       " 'metabolites',\n",
       " 'model',\n",
       " 'parameters',\n",
       " 'products',\n",
       " 'rate',\n",
       " 'reactants',\n",
       " 'reaction',\n",
       " 'remove_from_model',\n",
       " 'reverse_rate_constant',\n",
       " 'reverse_stoichiometry',\n",
       " 'reversible',\n",
       " 'stoichiometry',\n",
       " 'subtract_metabolites',\n",
       " 'upper_bound',\n",
       " 'v']"
      ]
     },
     "execution_count": 7,
     "metadata": {},
     "output_type": "execute_result"
    }
   ],
   "source": [
    "dir(MassReaction)"
   ]
  },
  {
   "cell_type": "markdown",
   "metadata": {},
   "source": [
    "To inspect the MassModel objects, various methods exist as outline above; to highlight a few, "
   ]
  },
  {
   "cell_type": "code",
   "execution_count": 8,
   "metadata": {
    "scrolled": true
   },
   "outputs": [
    {
     "data": {
      "text/plain": [
       "[<MassReaction HEX1 at 0x127778c88>,\n",
       " <MassReaction PGI at 0x127778fd0>,\n",
       " <MassReaction PFK at 0x127788198>,\n",
       " <MassReaction FBA at 0x127788518>,\n",
       " <MassReaction TPI at 0x127788748>,\n",
       " <MassReaction GAPD at 0x1277888d0>,\n",
       " <MassReaction PGK at 0x127788cf8>,\n",
       " <MassReaction PGM at 0x127788fd0>,\n",
       " <MassReaction ENO at 0x127791198>,\n",
       " <MassReaction PYK at 0x1277913c8>,\n",
       " <MassReaction LDH_L at 0x127791748>,\n",
       " <MassReaction G6PDH2r at 0x127791ac8>,\n",
       " <MassReaction PGL at 0x127791e48>,\n",
       " <MassReaction GND at 0x127798198>,\n",
       " <MassReaction RPE at 0x1277984e0>,\n",
       " <MassReaction RPI at 0x127798668>,\n",
       " <MassReaction TKT1 at 0x1277987f0>,\n",
       " <MassReaction TKT2 at 0x127798b00>,\n",
       " <MassReaction TALA at 0x127798dd8>,\n",
       " <MassReaction ADNK1 at 0x1277a10f0>,\n",
       " <MassReaction NTD7 at 0x1277a1438>,\n",
       " <MassReaction ADA at 0x1277a1748>,\n",
       " <MassReaction AMPDA at 0x1277a1a20>,\n",
       " <MassReaction NTD11 at 0x1277a1cf8>,\n",
       " <MassReaction PUNP5 at 0x1277a1fd0>,\n",
       " <MassReaction PPM at 0x1277a82e8>,\n",
       " <MassReaction PRPPS at 0x1277a8438>,\n",
       " <MassReaction ADPT at 0x1277a87b8>,\n",
       " <MassReaction ADK1 at 0x1277a8be0>,\n",
       " <MassReaction DPGM at 0x1277a8e10>,\n",
       " <MassReaction DPGase at 0x1277b1080>,\n",
       " <MassReaction HBDPG at 0x1277b1390>,\n",
       " <MassReaction HBO1 at 0x1277b1588>,\n",
       " <MassReaction HBO2 at 0x1277b17b8>,\n",
       " <MassReaction HBO3 at 0x1277b19e8>,\n",
       " <MassReaction HBO4 at 0x1277b1c18>,\n",
       " <MassReaction ATPM at 0x1277b1e48>,\n",
       " <MassReaction DM_nadh at 0x1277b9208>,\n",
       " <MassReaction GTHOr at 0x1277b9438>,\n",
       " <MassReaction GSHR at 0x1277b97b8>,\n",
       " <MassReaction S_glc__D_e at 0x1277b99e8>,\n",
       " <MassReaction EX_pyr_e at 0x1277b9ac8>,\n",
       " <MassReaction EX_lac__L_e at 0x1277b9ba8>,\n",
       " <MassReaction EX_ade_e at 0x1277b9c88>,\n",
       " <MassReaction EX_adn_e at 0x1277b9d68>,\n",
       " <MassReaction EX_ins_e at 0x1277b9e48>,\n",
       " <MassReaction EX_hxan_e at 0x1277b9f28>,\n",
       " <MassReaction EX_pi_e at 0x1277c1048>,\n",
       " <MassReaction EX_h_e at 0x1277c1128>,\n",
       " <MassReaction EX_h2o_e at 0x1277c1208>,\n",
       " <MassReaction EX_co2_e at 0x1277c12e8>,\n",
       " <MassReaction EX_nh3_e at 0x1277c13c8>,\n",
       " <MassReaction EX_o2_e at 0x1277c14a8>]"
      ]
     },
     "execution_count": 8,
     "metadata": {},
     "output_type": "execute_result"
    }
   ],
   "source": [
    "model.reactions"
   ]
  },
  {
   "cell_type": "markdown",
   "metadata": {},
   "source": [
    "As part of the DictList function, we can view all of the reactions if we so choose to; this would require us to not index the particular reaction and list out all reactions if necessary. "
   ]
  },
  {
   "cell_type": "code",
   "execution_count": 9,
   "metadata": {
    "scrolled": true
   },
   "outputs": [
    {
     "data": {
      "text/plain": [
       "[<MassMetabolite glc__D_c at 0x127778208>,\n",
       " <MassMetabolite g6p_c at 0x127778240>,\n",
       " <MassMetabolite f6p_c at 0x127778278>,\n",
       " <MassMetabolite fdp_c at 0x1277782b0>,\n",
       " <MassMetabolite dhap_c at 0x1277782e8>,\n",
       " <MassMetabolite g3p_c at 0x127778320>,\n",
       " <MassMetabolite _13dpg_c at 0x127778358>,\n",
       " <MassMetabolite _3pg_c at 0x127778390>,\n",
       " <MassMetabolite _2pg_c at 0x1277783c8>,\n",
       " <MassMetabolite pep_c at 0x127778400>,\n",
       " <MassMetabolite pyr_c at 0x127778438>,\n",
       " <MassMetabolite lac__L_c at 0x127778470>,\n",
       " <MassMetabolite _6pgl_c at 0x1277784a8>,\n",
       " <MassMetabolite _6pgc_c at 0x1277784e0>,\n",
       " <MassMetabolite ru5p__D_c at 0x127778518>,\n",
       " <MassMetabolite xu5p__D_c at 0x127778550>,\n",
       " <MassMetabolite r5p_c at 0x127778588>,\n",
       " <MassMetabolite s7p_c at 0x1277785c0>,\n",
       " <MassMetabolite e4p_c at 0x1277785f8>,\n",
       " <MassMetabolite ade_c at 0x127778630>,\n",
       " <MassMetabolite adn_c at 0x127778668>,\n",
       " <MassMetabolite imp_c at 0x1277786a0>,\n",
       " <MassMetabolite ins_c at 0x1277786d8>,\n",
       " <MassMetabolite hxan_c at 0x127778710>,\n",
       " <MassMetabolite r1p_c at 0x127778748>,\n",
       " <MassMetabolite prpp_c at 0x127778780>,\n",
       " <MassMetabolite _23dpg_c at 0x1277787b8>,\n",
       " <MassMetabolite hb_c at 0x1277787f0>,\n",
       " <MassMetabolite hb_1o2_c at 0x127778828>,\n",
       " <MassMetabolite hb_2o2_c at 0x127778860>,\n",
       " <MassMetabolite hb_3o2_c at 0x127778898>,\n",
       " <MassMetabolite hb_4o2_c at 0x1277788d0>,\n",
       " <MassMetabolite dhb_c at 0x127778908>,\n",
       " <MassMetabolite nad_c at 0x127778940>,\n",
       " <MassMetabolite nadh_c at 0x127778978>,\n",
       " <MassMetabolite amp_c at 0x1277789b0>,\n",
       " <MassMetabolite adp_c at 0x1277789e8>,\n",
       " <MassMetabolite atp_c at 0x127778a20>,\n",
       " <MassMetabolite nadp_c at 0x127778a58>,\n",
       " <MassMetabolite nadph_c at 0x127778a90>,\n",
       " <MassMetabolite gthrd_c at 0x127778ac8>,\n",
       " <MassMetabolite gthox_c at 0x127778b00>,\n",
       " <MassMetabolite pi_c at 0x127778b38>,\n",
       " <MassMetabolite h_c at 0x127778b70>,\n",
       " <MassMetabolite h2o_c at 0x127778ba8>,\n",
       " <MassMetabolite co2_c at 0x127778be0>,\n",
       " <MassMetabolite nh3_c at 0x127778c18>,\n",
       " <MassMetabolite o2_c at 0x127778c50>]"
      ]
     },
     "execution_count": 9,
     "metadata": {},
     "output_type": "execute_result"
    }
   ],
   "source": [
    "model.metabolites"
   ]
  },
  {
   "cell_type": "markdown",
   "metadata": {},
   "source": [
    "To examine the stoichiometric matrix, we can do,"
   ]
  },
  {
   "cell_type": "code",
   "execution_count": 10,
   "metadata": {
    "scrolled": false
   },
   "outputs": [
    {
     "data": {
      "text/plain": [
       "array([[-1.,  0.,  0., ...,  0.,  0.,  0.],\n",
       "       [ 1., -1.,  0., ...,  0.,  0.,  0.],\n",
       "       [ 0.,  1., -1., ...,  0.,  0.,  0.],\n",
       "       ...,\n",
       "       [ 0.,  0.,  0., ..., -1.,  0.,  0.],\n",
       "       [ 0.,  0.,  0., ...,  0., -1.,  0.],\n",
       "       [ 0.,  0.,  0., ...,  0.,  0., -1.]])"
      ]
     },
     "execution_count": 10,
     "metadata": {},
     "output_type": "execute_result"
    }
   ],
   "source": [
    "model.S"
   ]
  },
  {
   "cell_type": "markdown",
   "metadata": {},
   "source": [
    "This would be better viewed through the pandas.DataFrame table; to do so, \n",
    "\n",
    "<font color='red'>Show how to increase max rows/columns, and format with pd.options</font>"
   ]
  },
  {
   "cell_type": "code",
   "execution_count": 11,
   "metadata": {
    "scrolled": true
   },
   "outputs": [
    {
     "data": {
      "text/html": [
       "<div>\n",
       "<style scoped>\n",
       "    .dataframe tbody tr th:only-of-type {\n",
       "        vertical-align: middle;\n",
       "    }\n",
       "\n",
       "    .dataframe tbody tr th {\n",
       "        vertical-align: top;\n",
       "    }\n",
       "\n",
       "    .dataframe thead th {\n",
       "        text-align: right;\n",
       "    }\n",
       "</style>\n",
       "<table border=\"1\" class=\"dataframe\">\n",
       "  <thead>\n",
       "    <tr style=\"text-align: right;\">\n",
       "      <th></th>\n",
       "      <th>HEX1</th>\n",
       "      <th>PGI</th>\n",
       "      <th>PFK</th>\n",
       "      <th>FBA</th>\n",
       "      <th>TPI</th>\n",
       "      <th>GAPD</th>\n",
       "      <th>PGK</th>\n",
       "      <th>PGM</th>\n",
       "      <th>ENO</th>\n",
       "      <th>PYK</th>\n",
       "      <th>...</th>\n",
       "      <th>EX_ade_e</th>\n",
       "      <th>EX_adn_e</th>\n",
       "      <th>EX_ins_e</th>\n",
       "      <th>EX_hxan_e</th>\n",
       "      <th>EX_pi_e</th>\n",
       "      <th>EX_h_e</th>\n",
       "      <th>EX_h2o_e</th>\n",
       "      <th>EX_co2_e</th>\n",
       "      <th>EX_nh3_e</th>\n",
       "      <th>EX_o2_e</th>\n",
       "    </tr>\n",
       "  </thead>\n",
       "  <tbody>\n",
       "    <tr>\n",
       "      <th>glc__D_c</th>\n",
       "      <td>-1.0</td>\n",
       "      <td>0.0</td>\n",
       "      <td>0.0</td>\n",
       "      <td>0.0</td>\n",
       "      <td>0.0</td>\n",
       "      <td>0.0</td>\n",
       "      <td>0.0</td>\n",
       "      <td>0.0</td>\n",
       "      <td>0.0</td>\n",
       "      <td>0.0</td>\n",
       "      <td>...</td>\n",
       "      <td>0.0</td>\n",
       "      <td>0.0</td>\n",
       "      <td>0.0</td>\n",
       "      <td>0.0</td>\n",
       "      <td>0.0</td>\n",
       "      <td>0.0</td>\n",
       "      <td>0.0</td>\n",
       "      <td>0.0</td>\n",
       "      <td>0.0</td>\n",
       "      <td>0.0</td>\n",
       "    </tr>\n",
       "    <tr>\n",
       "      <th>g6p_c</th>\n",
       "      <td>1.0</td>\n",
       "      <td>-1.0</td>\n",
       "      <td>0.0</td>\n",
       "      <td>0.0</td>\n",
       "      <td>0.0</td>\n",
       "      <td>0.0</td>\n",
       "      <td>0.0</td>\n",
       "      <td>0.0</td>\n",
       "      <td>0.0</td>\n",
       "      <td>0.0</td>\n",
       "      <td>...</td>\n",
       "      <td>0.0</td>\n",
       "      <td>0.0</td>\n",
       "      <td>0.0</td>\n",
       "      <td>0.0</td>\n",
       "      <td>0.0</td>\n",
       "      <td>0.0</td>\n",
       "      <td>0.0</td>\n",
       "      <td>0.0</td>\n",
       "      <td>0.0</td>\n",
       "      <td>0.0</td>\n",
       "    </tr>\n",
       "    <tr>\n",
       "      <th>f6p_c</th>\n",
       "      <td>0.0</td>\n",
       "      <td>1.0</td>\n",
       "      <td>-1.0</td>\n",
       "      <td>0.0</td>\n",
       "      <td>0.0</td>\n",
       "      <td>0.0</td>\n",
       "      <td>0.0</td>\n",
       "      <td>0.0</td>\n",
       "      <td>0.0</td>\n",
       "      <td>0.0</td>\n",
       "      <td>...</td>\n",
       "      <td>0.0</td>\n",
       "      <td>0.0</td>\n",
       "      <td>0.0</td>\n",
       "      <td>0.0</td>\n",
       "      <td>0.0</td>\n",
       "      <td>0.0</td>\n",
       "      <td>0.0</td>\n",
       "      <td>0.0</td>\n",
       "      <td>0.0</td>\n",
       "      <td>0.0</td>\n",
       "    </tr>\n",
       "    <tr>\n",
       "      <th>fdp_c</th>\n",
       "      <td>0.0</td>\n",
       "      <td>0.0</td>\n",
       "      <td>1.0</td>\n",
       "      <td>-1.0</td>\n",
       "      <td>0.0</td>\n",
       "      <td>0.0</td>\n",
       "      <td>0.0</td>\n",
       "      <td>0.0</td>\n",
       "      <td>0.0</td>\n",
       "      <td>0.0</td>\n",
       "      <td>...</td>\n",
       "      <td>0.0</td>\n",
       "      <td>0.0</td>\n",
       "      <td>0.0</td>\n",
       "      <td>0.0</td>\n",
       "      <td>0.0</td>\n",
       "      <td>0.0</td>\n",
       "      <td>0.0</td>\n",
       "      <td>0.0</td>\n",
       "      <td>0.0</td>\n",
       "      <td>0.0</td>\n",
       "    </tr>\n",
       "    <tr>\n",
       "      <th>dhap_c</th>\n",
       "      <td>0.0</td>\n",
       "      <td>0.0</td>\n",
       "      <td>0.0</td>\n",
       "      <td>1.0</td>\n",
       "      <td>-1.0</td>\n",
       "      <td>0.0</td>\n",
       "      <td>0.0</td>\n",
       "      <td>0.0</td>\n",
       "      <td>0.0</td>\n",
       "      <td>0.0</td>\n",
       "      <td>...</td>\n",
       "      <td>0.0</td>\n",
       "      <td>0.0</td>\n",
       "      <td>0.0</td>\n",
       "      <td>0.0</td>\n",
       "      <td>0.0</td>\n",
       "      <td>0.0</td>\n",
       "      <td>0.0</td>\n",
       "      <td>0.0</td>\n",
       "      <td>0.0</td>\n",
       "      <td>0.0</td>\n",
       "    </tr>\n",
       "    <tr>\n",
       "      <th>g3p_c</th>\n",
       "      <td>0.0</td>\n",
       "      <td>0.0</td>\n",
       "      <td>0.0</td>\n",
       "      <td>1.0</td>\n",
       "      <td>1.0</td>\n",
       "      <td>-1.0</td>\n",
       "      <td>0.0</td>\n",
       "      <td>0.0</td>\n",
       "      <td>0.0</td>\n",
       "      <td>0.0</td>\n",
       "      <td>...</td>\n",
       "      <td>0.0</td>\n",
       "      <td>0.0</td>\n",
       "      <td>0.0</td>\n",
       "      <td>0.0</td>\n",
       "      <td>0.0</td>\n",
       "      <td>0.0</td>\n",
       "      <td>0.0</td>\n",
       "      <td>0.0</td>\n",
       "      <td>0.0</td>\n",
       "      <td>0.0</td>\n",
       "    </tr>\n",
       "    <tr>\n",
       "      <th>_13dpg_c</th>\n",
       "      <td>0.0</td>\n",
       "      <td>0.0</td>\n",
       "      <td>0.0</td>\n",
       "      <td>0.0</td>\n",
       "      <td>0.0</td>\n",
       "      <td>1.0</td>\n",
       "      <td>-1.0</td>\n",
       "      <td>0.0</td>\n",
       "      <td>0.0</td>\n",
       "      <td>0.0</td>\n",
       "      <td>...</td>\n",
       "      <td>0.0</td>\n",
       "      <td>0.0</td>\n",
       "      <td>0.0</td>\n",
       "      <td>0.0</td>\n",
       "      <td>0.0</td>\n",
       "      <td>0.0</td>\n",
       "      <td>0.0</td>\n",
       "      <td>0.0</td>\n",
       "      <td>0.0</td>\n",
       "      <td>0.0</td>\n",
       "    </tr>\n",
       "    <tr>\n",
       "      <th>_3pg_c</th>\n",
       "      <td>0.0</td>\n",
       "      <td>0.0</td>\n",
       "      <td>0.0</td>\n",
       "      <td>0.0</td>\n",
       "      <td>0.0</td>\n",
       "      <td>0.0</td>\n",
       "      <td>1.0</td>\n",
       "      <td>-1.0</td>\n",
       "      <td>0.0</td>\n",
       "      <td>0.0</td>\n",
       "      <td>...</td>\n",
       "      <td>0.0</td>\n",
       "      <td>0.0</td>\n",
       "      <td>0.0</td>\n",
       "      <td>0.0</td>\n",
       "      <td>0.0</td>\n",
       "      <td>0.0</td>\n",
       "      <td>0.0</td>\n",
       "      <td>0.0</td>\n",
       "      <td>0.0</td>\n",
       "      <td>0.0</td>\n",
       "    </tr>\n",
       "    <tr>\n",
       "      <th>_2pg_c</th>\n",
       "      <td>0.0</td>\n",
       "      <td>0.0</td>\n",
       "      <td>0.0</td>\n",
       "      <td>0.0</td>\n",
       "      <td>0.0</td>\n",
       "      <td>0.0</td>\n",
       "      <td>0.0</td>\n",
       "      <td>1.0</td>\n",
       "      <td>-1.0</td>\n",
       "      <td>0.0</td>\n",
       "      <td>...</td>\n",
       "      <td>0.0</td>\n",
       "      <td>0.0</td>\n",
       "      <td>0.0</td>\n",
       "      <td>0.0</td>\n",
       "      <td>0.0</td>\n",
       "      <td>0.0</td>\n",
       "      <td>0.0</td>\n",
       "      <td>0.0</td>\n",
       "      <td>0.0</td>\n",
       "      <td>0.0</td>\n",
       "    </tr>\n",
       "    <tr>\n",
       "      <th>pep_c</th>\n",
       "      <td>0.0</td>\n",
       "      <td>0.0</td>\n",
       "      <td>0.0</td>\n",
       "      <td>0.0</td>\n",
       "      <td>0.0</td>\n",
       "      <td>0.0</td>\n",
       "      <td>0.0</td>\n",
       "      <td>0.0</td>\n",
       "      <td>1.0</td>\n",
       "      <td>-1.0</td>\n",
       "      <td>...</td>\n",
       "      <td>0.0</td>\n",
       "      <td>0.0</td>\n",
       "      <td>0.0</td>\n",
       "      <td>0.0</td>\n",
       "      <td>0.0</td>\n",
       "      <td>0.0</td>\n",
       "      <td>0.0</td>\n",
       "      <td>0.0</td>\n",
       "      <td>0.0</td>\n",
       "      <td>0.0</td>\n",
       "    </tr>\n",
       "    <tr>\n",
       "      <th>pyr_c</th>\n",
       "      <td>0.0</td>\n",
       "      <td>0.0</td>\n",
       "      <td>0.0</td>\n",
       "      <td>0.0</td>\n",
       "      <td>0.0</td>\n",
       "      <td>0.0</td>\n",
       "      <td>0.0</td>\n",
       "      <td>0.0</td>\n",
       "      <td>0.0</td>\n",
       "      <td>1.0</td>\n",
       "      <td>...</td>\n",
       "      <td>0.0</td>\n",
       "      <td>0.0</td>\n",
       "      <td>0.0</td>\n",
       "      <td>0.0</td>\n",
       "      <td>0.0</td>\n",
       "      <td>0.0</td>\n",
       "      <td>0.0</td>\n",
       "      <td>0.0</td>\n",
       "      <td>0.0</td>\n",
       "      <td>0.0</td>\n",
       "    </tr>\n",
       "    <tr>\n",
       "      <th>lac__L_c</th>\n",
       "      <td>0.0</td>\n",
       "      <td>0.0</td>\n",
       "      <td>0.0</td>\n",
       "      <td>0.0</td>\n",
       "      <td>0.0</td>\n",
       "      <td>0.0</td>\n",
       "      <td>0.0</td>\n",
       "      <td>0.0</td>\n",
       "      <td>0.0</td>\n",
       "      <td>0.0</td>\n",
       "      <td>...</td>\n",
       "      <td>0.0</td>\n",
       "      <td>0.0</td>\n",
       "      <td>0.0</td>\n",
       "      <td>0.0</td>\n",
       "      <td>0.0</td>\n",
       "      <td>0.0</td>\n",
       "      <td>0.0</td>\n",
       "      <td>0.0</td>\n",
       "      <td>0.0</td>\n",
       "      <td>0.0</td>\n",
       "    </tr>\n",
       "    <tr>\n",
       "      <th>_6pgl_c</th>\n",
       "      <td>0.0</td>\n",
       "      <td>0.0</td>\n",
       "      <td>0.0</td>\n",
       "      <td>0.0</td>\n",
       "      <td>0.0</td>\n",
       "      <td>0.0</td>\n",
       "      <td>0.0</td>\n",
       "      <td>0.0</td>\n",
       "      <td>0.0</td>\n",
       "      <td>0.0</td>\n",
       "      <td>...</td>\n",
       "      <td>0.0</td>\n",
       "      <td>0.0</td>\n",
       "      <td>0.0</td>\n",
       "      <td>0.0</td>\n",
       "      <td>0.0</td>\n",
       "      <td>0.0</td>\n",
       "      <td>0.0</td>\n",
       "      <td>0.0</td>\n",
       "      <td>0.0</td>\n",
       "      <td>0.0</td>\n",
       "    </tr>\n",
       "    <tr>\n",
       "      <th>_6pgc_c</th>\n",
       "      <td>0.0</td>\n",
       "      <td>0.0</td>\n",
       "      <td>0.0</td>\n",
       "      <td>0.0</td>\n",
       "      <td>0.0</td>\n",
       "      <td>0.0</td>\n",
       "      <td>0.0</td>\n",
       "      <td>0.0</td>\n",
       "      <td>0.0</td>\n",
       "      <td>0.0</td>\n",
       "      <td>...</td>\n",
       "      <td>0.0</td>\n",
       "      <td>0.0</td>\n",
       "      <td>0.0</td>\n",
       "      <td>0.0</td>\n",
       "      <td>0.0</td>\n",
       "      <td>0.0</td>\n",
       "      <td>0.0</td>\n",
       "      <td>0.0</td>\n",
       "      <td>0.0</td>\n",
       "      <td>0.0</td>\n",
       "    </tr>\n",
       "    <tr>\n",
       "      <th>ru5p__D_c</th>\n",
       "      <td>0.0</td>\n",
       "      <td>0.0</td>\n",
       "      <td>0.0</td>\n",
       "      <td>0.0</td>\n",
       "      <td>0.0</td>\n",
       "      <td>0.0</td>\n",
       "      <td>0.0</td>\n",
       "      <td>0.0</td>\n",
       "      <td>0.0</td>\n",
       "      <td>0.0</td>\n",
       "      <td>...</td>\n",
       "      <td>0.0</td>\n",
       "      <td>0.0</td>\n",
       "      <td>0.0</td>\n",
       "      <td>0.0</td>\n",
       "      <td>0.0</td>\n",
       "      <td>0.0</td>\n",
       "      <td>0.0</td>\n",
       "      <td>0.0</td>\n",
       "      <td>0.0</td>\n",
       "      <td>0.0</td>\n",
       "    </tr>\n",
       "    <tr>\n",
       "      <th>xu5p__D_c</th>\n",
       "      <td>0.0</td>\n",
       "      <td>0.0</td>\n",
       "      <td>0.0</td>\n",
       "      <td>0.0</td>\n",
       "      <td>0.0</td>\n",
       "      <td>0.0</td>\n",
       "      <td>0.0</td>\n",
       "      <td>0.0</td>\n",
       "      <td>0.0</td>\n",
       "      <td>0.0</td>\n",
       "      <td>...</td>\n",
       "      <td>0.0</td>\n",
       "      <td>0.0</td>\n",
       "      <td>0.0</td>\n",
       "      <td>0.0</td>\n",
       "      <td>0.0</td>\n",
       "      <td>0.0</td>\n",
       "      <td>0.0</td>\n",
       "      <td>0.0</td>\n",
       "      <td>0.0</td>\n",
       "      <td>0.0</td>\n",
       "    </tr>\n",
       "    <tr>\n",
       "      <th>r5p_c</th>\n",
       "      <td>0.0</td>\n",
       "      <td>0.0</td>\n",
       "      <td>0.0</td>\n",
       "      <td>0.0</td>\n",
       "      <td>0.0</td>\n",
       "      <td>0.0</td>\n",
       "      <td>0.0</td>\n",
       "      <td>0.0</td>\n",
       "      <td>0.0</td>\n",
       "      <td>0.0</td>\n",
       "      <td>...</td>\n",
       "      <td>0.0</td>\n",
       "      <td>0.0</td>\n",
       "      <td>0.0</td>\n",
       "      <td>0.0</td>\n",
       "      <td>0.0</td>\n",
       "      <td>0.0</td>\n",
       "      <td>0.0</td>\n",
       "      <td>0.0</td>\n",
       "      <td>0.0</td>\n",
       "      <td>0.0</td>\n",
       "    </tr>\n",
       "    <tr>\n",
       "      <th>s7p_c</th>\n",
       "      <td>0.0</td>\n",
       "      <td>0.0</td>\n",
       "      <td>0.0</td>\n",
       "      <td>0.0</td>\n",
       "      <td>0.0</td>\n",
       "      <td>0.0</td>\n",
       "      <td>0.0</td>\n",
       "      <td>0.0</td>\n",
       "      <td>0.0</td>\n",
       "      <td>0.0</td>\n",
       "      <td>...</td>\n",
       "      <td>0.0</td>\n",
       "      <td>0.0</td>\n",
       "      <td>0.0</td>\n",
       "      <td>0.0</td>\n",
       "      <td>0.0</td>\n",
       "      <td>0.0</td>\n",
       "      <td>0.0</td>\n",
       "      <td>0.0</td>\n",
       "      <td>0.0</td>\n",
       "      <td>0.0</td>\n",
       "    </tr>\n",
       "    <tr>\n",
       "      <th>e4p_c</th>\n",
       "      <td>0.0</td>\n",
       "      <td>0.0</td>\n",
       "      <td>0.0</td>\n",
       "      <td>0.0</td>\n",
       "      <td>0.0</td>\n",
       "      <td>0.0</td>\n",
       "      <td>0.0</td>\n",
       "      <td>0.0</td>\n",
       "      <td>0.0</td>\n",
       "      <td>0.0</td>\n",
       "      <td>...</td>\n",
       "      <td>0.0</td>\n",
       "      <td>0.0</td>\n",
       "      <td>0.0</td>\n",
       "      <td>0.0</td>\n",
       "      <td>0.0</td>\n",
       "      <td>0.0</td>\n",
       "      <td>0.0</td>\n",
       "      <td>0.0</td>\n",
       "      <td>0.0</td>\n",
       "      <td>0.0</td>\n",
       "    </tr>\n",
       "    <tr>\n",
       "      <th>ade_c</th>\n",
       "      <td>0.0</td>\n",
       "      <td>0.0</td>\n",
       "      <td>0.0</td>\n",
       "      <td>0.0</td>\n",
       "      <td>0.0</td>\n",
       "      <td>0.0</td>\n",
       "      <td>0.0</td>\n",
       "      <td>0.0</td>\n",
       "      <td>0.0</td>\n",
       "      <td>0.0</td>\n",
       "      <td>...</td>\n",
       "      <td>-1.0</td>\n",
       "      <td>0.0</td>\n",
       "      <td>0.0</td>\n",
       "      <td>0.0</td>\n",
       "      <td>0.0</td>\n",
       "      <td>0.0</td>\n",
       "      <td>0.0</td>\n",
       "      <td>0.0</td>\n",
       "      <td>0.0</td>\n",
       "      <td>0.0</td>\n",
       "    </tr>\n",
       "    <tr>\n",
       "      <th>adn_c</th>\n",
       "      <td>0.0</td>\n",
       "      <td>0.0</td>\n",
       "      <td>0.0</td>\n",
       "      <td>0.0</td>\n",
       "      <td>0.0</td>\n",
       "      <td>0.0</td>\n",
       "      <td>0.0</td>\n",
       "      <td>0.0</td>\n",
       "      <td>0.0</td>\n",
       "      <td>0.0</td>\n",
       "      <td>...</td>\n",
       "      <td>0.0</td>\n",
       "      <td>-1.0</td>\n",
       "      <td>0.0</td>\n",
       "      <td>0.0</td>\n",
       "      <td>0.0</td>\n",
       "      <td>0.0</td>\n",
       "      <td>0.0</td>\n",
       "      <td>0.0</td>\n",
       "      <td>0.0</td>\n",
       "      <td>0.0</td>\n",
       "    </tr>\n",
       "    <tr>\n",
       "      <th>imp_c</th>\n",
       "      <td>0.0</td>\n",
       "      <td>0.0</td>\n",
       "      <td>0.0</td>\n",
       "      <td>0.0</td>\n",
       "      <td>0.0</td>\n",
       "      <td>0.0</td>\n",
       "      <td>0.0</td>\n",
       "      <td>0.0</td>\n",
       "      <td>0.0</td>\n",
       "      <td>0.0</td>\n",
       "      <td>...</td>\n",
       "      <td>0.0</td>\n",
       "      <td>0.0</td>\n",
       "      <td>0.0</td>\n",
       "      <td>0.0</td>\n",
       "      <td>0.0</td>\n",
       "      <td>0.0</td>\n",
       "      <td>0.0</td>\n",
       "      <td>0.0</td>\n",
       "      <td>0.0</td>\n",
       "      <td>0.0</td>\n",
       "    </tr>\n",
       "    <tr>\n",
       "      <th>ins_c</th>\n",
       "      <td>0.0</td>\n",
       "      <td>0.0</td>\n",
       "      <td>0.0</td>\n",
       "      <td>0.0</td>\n",
       "      <td>0.0</td>\n",
       "      <td>0.0</td>\n",
       "      <td>0.0</td>\n",
       "      <td>0.0</td>\n",
       "      <td>0.0</td>\n",
       "      <td>0.0</td>\n",
       "      <td>...</td>\n",
       "      <td>0.0</td>\n",
       "      <td>0.0</td>\n",
       "      <td>-1.0</td>\n",
       "      <td>0.0</td>\n",
       "      <td>0.0</td>\n",
       "      <td>0.0</td>\n",
       "      <td>0.0</td>\n",
       "      <td>0.0</td>\n",
       "      <td>0.0</td>\n",
       "      <td>0.0</td>\n",
       "    </tr>\n",
       "    <tr>\n",
       "      <th>hxan_c</th>\n",
       "      <td>0.0</td>\n",
       "      <td>0.0</td>\n",
       "      <td>0.0</td>\n",
       "      <td>0.0</td>\n",
       "      <td>0.0</td>\n",
       "      <td>0.0</td>\n",
       "      <td>0.0</td>\n",
       "      <td>0.0</td>\n",
       "      <td>0.0</td>\n",
       "      <td>0.0</td>\n",
       "      <td>...</td>\n",
       "      <td>0.0</td>\n",
       "      <td>0.0</td>\n",
       "      <td>0.0</td>\n",
       "      <td>-1.0</td>\n",
       "      <td>0.0</td>\n",
       "      <td>0.0</td>\n",
       "      <td>0.0</td>\n",
       "      <td>0.0</td>\n",
       "      <td>0.0</td>\n",
       "      <td>0.0</td>\n",
       "    </tr>\n",
       "    <tr>\n",
       "      <th>r1p_c</th>\n",
       "      <td>0.0</td>\n",
       "      <td>0.0</td>\n",
       "      <td>0.0</td>\n",
       "      <td>0.0</td>\n",
       "      <td>0.0</td>\n",
       "      <td>0.0</td>\n",
       "      <td>0.0</td>\n",
       "      <td>0.0</td>\n",
       "      <td>0.0</td>\n",
       "      <td>0.0</td>\n",
       "      <td>...</td>\n",
       "      <td>0.0</td>\n",
       "      <td>0.0</td>\n",
       "      <td>0.0</td>\n",
       "      <td>0.0</td>\n",
       "      <td>0.0</td>\n",
       "      <td>0.0</td>\n",
       "      <td>0.0</td>\n",
       "      <td>0.0</td>\n",
       "      <td>0.0</td>\n",
       "      <td>0.0</td>\n",
       "    </tr>\n",
       "    <tr>\n",
       "      <th>prpp_c</th>\n",
       "      <td>0.0</td>\n",
       "      <td>0.0</td>\n",
       "      <td>0.0</td>\n",
       "      <td>0.0</td>\n",
       "      <td>0.0</td>\n",
       "      <td>0.0</td>\n",
       "      <td>0.0</td>\n",
       "      <td>0.0</td>\n",
       "      <td>0.0</td>\n",
       "      <td>0.0</td>\n",
       "      <td>...</td>\n",
       "      <td>0.0</td>\n",
       "      <td>0.0</td>\n",
       "      <td>0.0</td>\n",
       "      <td>0.0</td>\n",
       "      <td>0.0</td>\n",
       "      <td>0.0</td>\n",
       "      <td>0.0</td>\n",
       "      <td>0.0</td>\n",
       "      <td>0.0</td>\n",
       "      <td>0.0</td>\n",
       "    </tr>\n",
       "    <tr>\n",
       "      <th>_23dpg_c</th>\n",
       "      <td>0.0</td>\n",
       "      <td>0.0</td>\n",
       "      <td>0.0</td>\n",
       "      <td>0.0</td>\n",
       "      <td>0.0</td>\n",
       "      <td>0.0</td>\n",
       "      <td>0.0</td>\n",
       "      <td>0.0</td>\n",
       "      <td>0.0</td>\n",
       "      <td>0.0</td>\n",
       "      <td>...</td>\n",
       "      <td>0.0</td>\n",
       "      <td>0.0</td>\n",
       "      <td>0.0</td>\n",
       "      <td>0.0</td>\n",
       "      <td>0.0</td>\n",
       "      <td>0.0</td>\n",
       "      <td>0.0</td>\n",
       "      <td>0.0</td>\n",
       "      <td>0.0</td>\n",
       "      <td>0.0</td>\n",
       "    </tr>\n",
       "    <tr>\n",
       "      <th>hb_c</th>\n",
       "      <td>0.0</td>\n",
       "      <td>0.0</td>\n",
       "      <td>0.0</td>\n",
       "      <td>0.0</td>\n",
       "      <td>0.0</td>\n",
       "      <td>0.0</td>\n",
       "      <td>0.0</td>\n",
       "      <td>0.0</td>\n",
       "      <td>0.0</td>\n",
       "      <td>0.0</td>\n",
       "      <td>...</td>\n",
       "      <td>0.0</td>\n",
       "      <td>0.0</td>\n",
       "      <td>0.0</td>\n",
       "      <td>0.0</td>\n",
       "      <td>0.0</td>\n",
       "      <td>0.0</td>\n",
       "      <td>0.0</td>\n",
       "      <td>0.0</td>\n",
       "      <td>0.0</td>\n",
       "      <td>0.0</td>\n",
       "    </tr>\n",
       "    <tr>\n",
       "      <th>hb_1o2_c</th>\n",
       "      <td>0.0</td>\n",
       "      <td>0.0</td>\n",
       "      <td>0.0</td>\n",
       "      <td>0.0</td>\n",
       "      <td>0.0</td>\n",
       "      <td>0.0</td>\n",
       "      <td>0.0</td>\n",
       "      <td>0.0</td>\n",
       "      <td>0.0</td>\n",
       "      <td>0.0</td>\n",
       "      <td>...</td>\n",
       "      <td>0.0</td>\n",
       "      <td>0.0</td>\n",
       "      <td>0.0</td>\n",
       "      <td>0.0</td>\n",
       "      <td>0.0</td>\n",
       "      <td>0.0</td>\n",
       "      <td>0.0</td>\n",
       "      <td>0.0</td>\n",
       "      <td>0.0</td>\n",
       "      <td>0.0</td>\n",
       "    </tr>\n",
       "    <tr>\n",
       "      <th>hb_2o2_c</th>\n",
       "      <td>0.0</td>\n",
       "      <td>0.0</td>\n",
       "      <td>0.0</td>\n",
       "      <td>0.0</td>\n",
       "      <td>0.0</td>\n",
       "      <td>0.0</td>\n",
       "      <td>0.0</td>\n",
       "      <td>0.0</td>\n",
       "      <td>0.0</td>\n",
       "      <td>0.0</td>\n",
       "      <td>...</td>\n",
       "      <td>0.0</td>\n",
       "      <td>0.0</td>\n",
       "      <td>0.0</td>\n",
       "      <td>0.0</td>\n",
       "      <td>0.0</td>\n",
       "      <td>0.0</td>\n",
       "      <td>0.0</td>\n",
       "      <td>0.0</td>\n",
       "      <td>0.0</td>\n",
       "      <td>0.0</td>\n",
       "    </tr>\n",
       "    <tr>\n",
       "      <th>hb_3o2_c</th>\n",
       "      <td>0.0</td>\n",
       "      <td>0.0</td>\n",
       "      <td>0.0</td>\n",
       "      <td>0.0</td>\n",
       "      <td>0.0</td>\n",
       "      <td>0.0</td>\n",
       "      <td>0.0</td>\n",
       "      <td>0.0</td>\n",
       "      <td>0.0</td>\n",
       "      <td>0.0</td>\n",
       "      <td>...</td>\n",
       "      <td>0.0</td>\n",
       "      <td>0.0</td>\n",
       "      <td>0.0</td>\n",
       "      <td>0.0</td>\n",
       "      <td>0.0</td>\n",
       "      <td>0.0</td>\n",
       "      <td>0.0</td>\n",
       "      <td>0.0</td>\n",
       "      <td>0.0</td>\n",
       "      <td>0.0</td>\n",
       "    </tr>\n",
       "    <tr>\n",
       "      <th>hb_4o2_c</th>\n",
       "      <td>0.0</td>\n",
       "      <td>0.0</td>\n",
       "      <td>0.0</td>\n",
       "      <td>0.0</td>\n",
       "      <td>0.0</td>\n",
       "      <td>0.0</td>\n",
       "      <td>0.0</td>\n",
       "      <td>0.0</td>\n",
       "      <td>0.0</td>\n",
       "      <td>0.0</td>\n",
       "      <td>...</td>\n",
       "      <td>0.0</td>\n",
       "      <td>0.0</td>\n",
       "      <td>0.0</td>\n",
       "      <td>0.0</td>\n",
       "      <td>0.0</td>\n",
       "      <td>0.0</td>\n",
       "      <td>0.0</td>\n",
       "      <td>0.0</td>\n",
       "      <td>0.0</td>\n",
       "      <td>0.0</td>\n",
       "    </tr>\n",
       "    <tr>\n",
       "      <th>dhb_c</th>\n",
       "      <td>0.0</td>\n",
       "      <td>0.0</td>\n",
       "      <td>0.0</td>\n",
       "      <td>0.0</td>\n",
       "      <td>0.0</td>\n",
       "      <td>0.0</td>\n",
       "      <td>0.0</td>\n",
       "      <td>0.0</td>\n",
       "      <td>0.0</td>\n",
       "      <td>0.0</td>\n",
       "      <td>...</td>\n",
       "      <td>0.0</td>\n",
       "      <td>0.0</td>\n",
       "      <td>0.0</td>\n",
       "      <td>0.0</td>\n",
       "      <td>0.0</td>\n",
       "      <td>0.0</td>\n",
       "      <td>0.0</td>\n",
       "      <td>0.0</td>\n",
       "      <td>0.0</td>\n",
       "      <td>0.0</td>\n",
       "    </tr>\n",
       "    <tr>\n",
       "      <th>nad_c</th>\n",
       "      <td>0.0</td>\n",
       "      <td>0.0</td>\n",
       "      <td>0.0</td>\n",
       "      <td>0.0</td>\n",
       "      <td>0.0</td>\n",
       "      <td>-1.0</td>\n",
       "      <td>0.0</td>\n",
       "      <td>0.0</td>\n",
       "      <td>0.0</td>\n",
       "      <td>0.0</td>\n",
       "      <td>...</td>\n",
       "      <td>0.0</td>\n",
       "      <td>0.0</td>\n",
       "      <td>0.0</td>\n",
       "      <td>0.0</td>\n",
       "      <td>0.0</td>\n",
       "      <td>0.0</td>\n",
       "      <td>0.0</td>\n",
       "      <td>0.0</td>\n",
       "      <td>0.0</td>\n",
       "      <td>0.0</td>\n",
       "    </tr>\n",
       "    <tr>\n",
       "      <th>nadh_c</th>\n",
       "      <td>0.0</td>\n",
       "      <td>0.0</td>\n",
       "      <td>0.0</td>\n",
       "      <td>0.0</td>\n",
       "      <td>0.0</td>\n",
       "      <td>1.0</td>\n",
       "      <td>0.0</td>\n",
       "      <td>0.0</td>\n",
       "      <td>0.0</td>\n",
       "      <td>0.0</td>\n",
       "      <td>...</td>\n",
       "      <td>0.0</td>\n",
       "      <td>0.0</td>\n",
       "      <td>0.0</td>\n",
       "      <td>0.0</td>\n",
       "      <td>0.0</td>\n",
       "      <td>0.0</td>\n",
       "      <td>0.0</td>\n",
       "      <td>0.0</td>\n",
       "      <td>0.0</td>\n",
       "      <td>0.0</td>\n",
       "    </tr>\n",
       "    <tr>\n",
       "      <th>amp_c</th>\n",
       "      <td>0.0</td>\n",
       "      <td>0.0</td>\n",
       "      <td>0.0</td>\n",
       "      <td>0.0</td>\n",
       "      <td>0.0</td>\n",
       "      <td>0.0</td>\n",
       "      <td>0.0</td>\n",
       "      <td>0.0</td>\n",
       "      <td>0.0</td>\n",
       "      <td>0.0</td>\n",
       "      <td>...</td>\n",
       "      <td>0.0</td>\n",
       "      <td>0.0</td>\n",
       "      <td>0.0</td>\n",
       "      <td>0.0</td>\n",
       "      <td>0.0</td>\n",
       "      <td>0.0</td>\n",
       "      <td>0.0</td>\n",
       "      <td>0.0</td>\n",
       "      <td>0.0</td>\n",
       "      <td>0.0</td>\n",
       "    </tr>\n",
       "    <tr>\n",
       "      <th>adp_c</th>\n",
       "      <td>1.0</td>\n",
       "      <td>0.0</td>\n",
       "      <td>1.0</td>\n",
       "      <td>0.0</td>\n",
       "      <td>0.0</td>\n",
       "      <td>0.0</td>\n",
       "      <td>-1.0</td>\n",
       "      <td>0.0</td>\n",
       "      <td>0.0</td>\n",
       "      <td>-1.0</td>\n",
       "      <td>...</td>\n",
       "      <td>0.0</td>\n",
       "      <td>0.0</td>\n",
       "      <td>0.0</td>\n",
       "      <td>0.0</td>\n",
       "      <td>0.0</td>\n",
       "      <td>0.0</td>\n",
       "      <td>0.0</td>\n",
       "      <td>0.0</td>\n",
       "      <td>0.0</td>\n",
       "      <td>0.0</td>\n",
       "    </tr>\n",
       "    <tr>\n",
       "      <th>atp_c</th>\n",
       "      <td>-1.0</td>\n",
       "      <td>0.0</td>\n",
       "      <td>-1.0</td>\n",
       "      <td>0.0</td>\n",
       "      <td>0.0</td>\n",
       "      <td>0.0</td>\n",
       "      <td>1.0</td>\n",
       "      <td>0.0</td>\n",
       "      <td>0.0</td>\n",
       "      <td>1.0</td>\n",
       "      <td>...</td>\n",
       "      <td>0.0</td>\n",
       "      <td>0.0</td>\n",
       "      <td>0.0</td>\n",
       "      <td>0.0</td>\n",
       "      <td>0.0</td>\n",
       "      <td>0.0</td>\n",
       "      <td>0.0</td>\n",
       "      <td>0.0</td>\n",
       "      <td>0.0</td>\n",
       "      <td>0.0</td>\n",
       "    </tr>\n",
       "    <tr>\n",
       "      <th>nadp_c</th>\n",
       "      <td>0.0</td>\n",
       "      <td>0.0</td>\n",
       "      <td>0.0</td>\n",
       "      <td>0.0</td>\n",
       "      <td>0.0</td>\n",
       "      <td>0.0</td>\n",
       "      <td>0.0</td>\n",
       "      <td>0.0</td>\n",
       "      <td>0.0</td>\n",
       "      <td>0.0</td>\n",
       "      <td>...</td>\n",
       "      <td>0.0</td>\n",
       "      <td>0.0</td>\n",
       "      <td>0.0</td>\n",
       "      <td>0.0</td>\n",
       "      <td>0.0</td>\n",
       "      <td>0.0</td>\n",
       "      <td>0.0</td>\n",
       "      <td>0.0</td>\n",
       "      <td>0.0</td>\n",
       "      <td>0.0</td>\n",
       "    </tr>\n",
       "    <tr>\n",
       "      <th>nadph_c</th>\n",
       "      <td>0.0</td>\n",
       "      <td>0.0</td>\n",
       "      <td>0.0</td>\n",
       "      <td>0.0</td>\n",
       "      <td>0.0</td>\n",
       "      <td>0.0</td>\n",
       "      <td>0.0</td>\n",
       "      <td>0.0</td>\n",
       "      <td>0.0</td>\n",
       "      <td>0.0</td>\n",
       "      <td>...</td>\n",
       "      <td>0.0</td>\n",
       "      <td>0.0</td>\n",
       "      <td>0.0</td>\n",
       "      <td>0.0</td>\n",
       "      <td>0.0</td>\n",
       "      <td>0.0</td>\n",
       "      <td>0.0</td>\n",
       "      <td>0.0</td>\n",
       "      <td>0.0</td>\n",
       "      <td>0.0</td>\n",
       "    </tr>\n",
       "    <tr>\n",
       "      <th>gthrd_c</th>\n",
       "      <td>0.0</td>\n",
       "      <td>0.0</td>\n",
       "      <td>0.0</td>\n",
       "      <td>0.0</td>\n",
       "      <td>0.0</td>\n",
       "      <td>0.0</td>\n",
       "      <td>0.0</td>\n",
       "      <td>0.0</td>\n",
       "      <td>0.0</td>\n",
       "      <td>0.0</td>\n",
       "      <td>...</td>\n",
       "      <td>0.0</td>\n",
       "      <td>0.0</td>\n",
       "      <td>0.0</td>\n",
       "      <td>0.0</td>\n",
       "      <td>0.0</td>\n",
       "      <td>0.0</td>\n",
       "      <td>0.0</td>\n",
       "      <td>0.0</td>\n",
       "      <td>0.0</td>\n",
       "      <td>0.0</td>\n",
       "    </tr>\n",
       "    <tr>\n",
       "      <th>gthox_c</th>\n",
       "      <td>0.0</td>\n",
       "      <td>0.0</td>\n",
       "      <td>0.0</td>\n",
       "      <td>0.0</td>\n",
       "      <td>0.0</td>\n",
       "      <td>0.0</td>\n",
       "      <td>0.0</td>\n",
       "      <td>0.0</td>\n",
       "      <td>0.0</td>\n",
       "      <td>0.0</td>\n",
       "      <td>...</td>\n",
       "      <td>0.0</td>\n",
       "      <td>0.0</td>\n",
       "      <td>0.0</td>\n",
       "      <td>0.0</td>\n",
       "      <td>0.0</td>\n",
       "      <td>0.0</td>\n",
       "      <td>0.0</td>\n",
       "      <td>0.0</td>\n",
       "      <td>0.0</td>\n",
       "      <td>0.0</td>\n",
       "    </tr>\n",
       "    <tr>\n",
       "      <th>pi_c</th>\n",
       "      <td>0.0</td>\n",
       "      <td>0.0</td>\n",
       "      <td>0.0</td>\n",
       "      <td>0.0</td>\n",
       "      <td>0.0</td>\n",
       "      <td>-1.0</td>\n",
       "      <td>0.0</td>\n",
       "      <td>0.0</td>\n",
       "      <td>0.0</td>\n",
       "      <td>0.0</td>\n",
       "      <td>...</td>\n",
       "      <td>0.0</td>\n",
       "      <td>0.0</td>\n",
       "      <td>0.0</td>\n",
       "      <td>0.0</td>\n",
       "      <td>-1.0</td>\n",
       "      <td>0.0</td>\n",
       "      <td>0.0</td>\n",
       "      <td>0.0</td>\n",
       "      <td>0.0</td>\n",
       "      <td>0.0</td>\n",
       "    </tr>\n",
       "    <tr>\n",
       "      <th>h_c</th>\n",
       "      <td>1.0</td>\n",
       "      <td>0.0</td>\n",
       "      <td>1.0</td>\n",
       "      <td>0.0</td>\n",
       "      <td>0.0</td>\n",
       "      <td>1.0</td>\n",
       "      <td>0.0</td>\n",
       "      <td>0.0</td>\n",
       "      <td>0.0</td>\n",
       "      <td>-1.0</td>\n",
       "      <td>...</td>\n",
       "      <td>0.0</td>\n",
       "      <td>0.0</td>\n",
       "      <td>0.0</td>\n",
       "      <td>0.0</td>\n",
       "      <td>0.0</td>\n",
       "      <td>-1.0</td>\n",
       "      <td>0.0</td>\n",
       "      <td>0.0</td>\n",
       "      <td>0.0</td>\n",
       "      <td>0.0</td>\n",
       "    </tr>\n",
       "    <tr>\n",
       "      <th>h2o_c</th>\n",
       "      <td>0.0</td>\n",
       "      <td>0.0</td>\n",
       "      <td>0.0</td>\n",
       "      <td>0.0</td>\n",
       "      <td>0.0</td>\n",
       "      <td>0.0</td>\n",
       "      <td>0.0</td>\n",
       "      <td>0.0</td>\n",
       "      <td>1.0</td>\n",
       "      <td>0.0</td>\n",
       "      <td>...</td>\n",
       "      <td>0.0</td>\n",
       "      <td>0.0</td>\n",
       "      <td>0.0</td>\n",
       "      <td>0.0</td>\n",
       "      <td>0.0</td>\n",
       "      <td>0.0</td>\n",
       "      <td>-1.0</td>\n",
       "      <td>0.0</td>\n",
       "      <td>0.0</td>\n",
       "      <td>0.0</td>\n",
       "    </tr>\n",
       "    <tr>\n",
       "      <th>co2_c</th>\n",
       "      <td>0.0</td>\n",
       "      <td>0.0</td>\n",
       "      <td>0.0</td>\n",
       "      <td>0.0</td>\n",
       "      <td>0.0</td>\n",
       "      <td>0.0</td>\n",
       "      <td>0.0</td>\n",
       "      <td>0.0</td>\n",
       "      <td>0.0</td>\n",
       "      <td>0.0</td>\n",
       "      <td>...</td>\n",
       "      <td>0.0</td>\n",
       "      <td>0.0</td>\n",
       "      <td>0.0</td>\n",
       "      <td>0.0</td>\n",
       "      <td>0.0</td>\n",
       "      <td>0.0</td>\n",
       "      <td>0.0</td>\n",
       "      <td>-1.0</td>\n",
       "      <td>0.0</td>\n",
       "      <td>0.0</td>\n",
       "    </tr>\n",
       "    <tr>\n",
       "      <th>nh3_c</th>\n",
       "      <td>0.0</td>\n",
       "      <td>0.0</td>\n",
       "      <td>0.0</td>\n",
       "      <td>0.0</td>\n",
       "      <td>0.0</td>\n",
       "      <td>0.0</td>\n",
       "      <td>0.0</td>\n",
       "      <td>0.0</td>\n",
       "      <td>0.0</td>\n",
       "      <td>0.0</td>\n",
       "      <td>...</td>\n",
       "      <td>0.0</td>\n",
       "      <td>0.0</td>\n",
       "      <td>0.0</td>\n",
       "      <td>0.0</td>\n",
       "      <td>0.0</td>\n",
       "      <td>0.0</td>\n",
       "      <td>0.0</td>\n",
       "      <td>0.0</td>\n",
       "      <td>-1.0</td>\n",
       "      <td>0.0</td>\n",
       "    </tr>\n",
       "    <tr>\n",
       "      <th>o2_c</th>\n",
       "      <td>0.0</td>\n",
       "      <td>0.0</td>\n",
       "      <td>0.0</td>\n",
       "      <td>0.0</td>\n",
       "      <td>0.0</td>\n",
       "      <td>0.0</td>\n",
       "      <td>0.0</td>\n",
       "      <td>0.0</td>\n",
       "      <td>0.0</td>\n",
       "      <td>0.0</td>\n",
       "      <td>...</td>\n",
       "      <td>0.0</td>\n",
       "      <td>0.0</td>\n",
       "      <td>0.0</td>\n",
       "      <td>0.0</td>\n",
       "      <td>0.0</td>\n",
       "      <td>0.0</td>\n",
       "      <td>0.0</td>\n",
       "      <td>0.0</td>\n",
       "      <td>0.0</td>\n",
       "      <td>-1.0</td>\n",
       "    </tr>\n",
       "  </tbody>\n",
       "</table>\n",
       "<p>48 rows × 53 columns</p>\n",
       "</div>"
      ],
      "text/plain": [
       "           HEX1  PGI  PFK  FBA  TPI  GAPD  PGK  PGM  ENO  PYK   ...     \\\n",
       "glc__D_c   -1.0  0.0  0.0  0.0  0.0   0.0  0.0  0.0  0.0  0.0   ...      \n",
       "g6p_c       1.0 -1.0  0.0  0.0  0.0   0.0  0.0  0.0  0.0  0.0   ...      \n",
       "f6p_c       0.0  1.0 -1.0  0.0  0.0   0.0  0.0  0.0  0.0  0.0   ...      \n",
       "fdp_c       0.0  0.0  1.0 -1.0  0.0   0.0  0.0  0.0  0.0  0.0   ...      \n",
       "dhap_c      0.0  0.0  0.0  1.0 -1.0   0.0  0.0  0.0  0.0  0.0   ...      \n",
       "g3p_c       0.0  0.0  0.0  1.0  1.0  -1.0  0.0  0.0  0.0  0.0   ...      \n",
       "_13dpg_c    0.0  0.0  0.0  0.0  0.0   1.0 -1.0  0.0  0.0  0.0   ...      \n",
       "_3pg_c      0.0  0.0  0.0  0.0  0.0   0.0  1.0 -1.0  0.0  0.0   ...      \n",
       "_2pg_c      0.0  0.0  0.0  0.0  0.0   0.0  0.0  1.0 -1.0  0.0   ...      \n",
       "pep_c       0.0  0.0  0.0  0.0  0.0   0.0  0.0  0.0  1.0 -1.0   ...      \n",
       "pyr_c       0.0  0.0  0.0  0.0  0.0   0.0  0.0  0.0  0.0  1.0   ...      \n",
       "lac__L_c    0.0  0.0  0.0  0.0  0.0   0.0  0.0  0.0  0.0  0.0   ...      \n",
       "_6pgl_c     0.0  0.0  0.0  0.0  0.0   0.0  0.0  0.0  0.0  0.0   ...      \n",
       "_6pgc_c     0.0  0.0  0.0  0.0  0.0   0.0  0.0  0.0  0.0  0.0   ...      \n",
       "ru5p__D_c   0.0  0.0  0.0  0.0  0.0   0.0  0.0  0.0  0.0  0.0   ...      \n",
       "xu5p__D_c   0.0  0.0  0.0  0.0  0.0   0.0  0.0  0.0  0.0  0.0   ...      \n",
       "r5p_c       0.0  0.0  0.0  0.0  0.0   0.0  0.0  0.0  0.0  0.0   ...      \n",
       "s7p_c       0.0  0.0  0.0  0.0  0.0   0.0  0.0  0.0  0.0  0.0   ...      \n",
       "e4p_c       0.0  0.0  0.0  0.0  0.0   0.0  0.0  0.0  0.0  0.0   ...      \n",
       "ade_c       0.0  0.0  0.0  0.0  0.0   0.0  0.0  0.0  0.0  0.0   ...      \n",
       "adn_c       0.0  0.0  0.0  0.0  0.0   0.0  0.0  0.0  0.0  0.0   ...      \n",
       "imp_c       0.0  0.0  0.0  0.0  0.0   0.0  0.0  0.0  0.0  0.0   ...      \n",
       "ins_c       0.0  0.0  0.0  0.0  0.0   0.0  0.0  0.0  0.0  0.0   ...      \n",
       "hxan_c      0.0  0.0  0.0  0.0  0.0   0.0  0.0  0.0  0.0  0.0   ...      \n",
       "r1p_c       0.0  0.0  0.0  0.0  0.0   0.0  0.0  0.0  0.0  0.0   ...      \n",
       "prpp_c      0.0  0.0  0.0  0.0  0.0   0.0  0.0  0.0  0.0  0.0   ...      \n",
       "_23dpg_c    0.0  0.0  0.0  0.0  0.0   0.0  0.0  0.0  0.0  0.0   ...      \n",
       "hb_c        0.0  0.0  0.0  0.0  0.0   0.0  0.0  0.0  0.0  0.0   ...      \n",
       "hb_1o2_c    0.0  0.0  0.0  0.0  0.0   0.0  0.0  0.0  0.0  0.0   ...      \n",
       "hb_2o2_c    0.0  0.0  0.0  0.0  0.0   0.0  0.0  0.0  0.0  0.0   ...      \n",
       "hb_3o2_c    0.0  0.0  0.0  0.0  0.0   0.0  0.0  0.0  0.0  0.0   ...      \n",
       "hb_4o2_c    0.0  0.0  0.0  0.0  0.0   0.0  0.0  0.0  0.0  0.0   ...      \n",
       "dhb_c       0.0  0.0  0.0  0.0  0.0   0.0  0.0  0.0  0.0  0.0   ...      \n",
       "nad_c       0.0  0.0  0.0  0.0  0.0  -1.0  0.0  0.0  0.0  0.0   ...      \n",
       "nadh_c      0.0  0.0  0.0  0.0  0.0   1.0  0.0  0.0  0.0  0.0   ...      \n",
       "amp_c       0.0  0.0  0.0  0.0  0.0   0.0  0.0  0.0  0.0  0.0   ...      \n",
       "adp_c       1.0  0.0  1.0  0.0  0.0   0.0 -1.0  0.0  0.0 -1.0   ...      \n",
       "atp_c      -1.0  0.0 -1.0  0.0  0.0   0.0  1.0  0.0  0.0  1.0   ...      \n",
       "nadp_c      0.0  0.0  0.0  0.0  0.0   0.0  0.0  0.0  0.0  0.0   ...      \n",
       "nadph_c     0.0  0.0  0.0  0.0  0.0   0.0  0.0  0.0  0.0  0.0   ...      \n",
       "gthrd_c     0.0  0.0  0.0  0.0  0.0   0.0  0.0  0.0  0.0  0.0   ...      \n",
       "gthox_c     0.0  0.0  0.0  0.0  0.0   0.0  0.0  0.0  0.0  0.0   ...      \n",
       "pi_c        0.0  0.0  0.0  0.0  0.0  -1.0  0.0  0.0  0.0  0.0   ...      \n",
       "h_c         1.0  0.0  1.0  0.0  0.0   1.0  0.0  0.0  0.0 -1.0   ...      \n",
       "h2o_c       0.0  0.0  0.0  0.0  0.0   0.0  0.0  0.0  1.0  0.0   ...      \n",
       "co2_c       0.0  0.0  0.0  0.0  0.0   0.0  0.0  0.0  0.0  0.0   ...      \n",
       "nh3_c       0.0  0.0  0.0  0.0  0.0   0.0  0.0  0.0  0.0  0.0   ...      \n",
       "o2_c        0.0  0.0  0.0  0.0  0.0   0.0  0.0  0.0  0.0  0.0   ...      \n",
       "\n",
       "           EX_ade_e  EX_adn_e  EX_ins_e  EX_hxan_e  EX_pi_e  EX_h_e  EX_h2o_e  \\\n",
       "glc__D_c        0.0       0.0       0.0        0.0      0.0     0.0       0.0   \n",
       "g6p_c           0.0       0.0       0.0        0.0      0.0     0.0       0.0   \n",
       "f6p_c           0.0       0.0       0.0        0.0      0.0     0.0       0.0   \n",
       "fdp_c           0.0       0.0       0.0        0.0      0.0     0.0       0.0   \n",
       "dhap_c          0.0       0.0       0.0        0.0      0.0     0.0       0.0   \n",
       "g3p_c           0.0       0.0       0.0        0.0      0.0     0.0       0.0   \n",
       "_13dpg_c        0.0       0.0       0.0        0.0      0.0     0.0       0.0   \n",
       "_3pg_c          0.0       0.0       0.0        0.0      0.0     0.0       0.0   \n",
       "_2pg_c          0.0       0.0       0.0        0.0      0.0     0.0       0.0   \n",
       "pep_c           0.0       0.0       0.0        0.0      0.0     0.0       0.0   \n",
       "pyr_c           0.0       0.0       0.0        0.0      0.0     0.0       0.0   \n",
       "lac__L_c        0.0       0.0       0.0        0.0      0.0     0.0       0.0   \n",
       "_6pgl_c         0.0       0.0       0.0        0.0      0.0     0.0       0.0   \n",
       "_6pgc_c         0.0       0.0       0.0        0.0      0.0     0.0       0.0   \n",
       "ru5p__D_c       0.0       0.0       0.0        0.0      0.0     0.0       0.0   \n",
       "xu5p__D_c       0.0       0.0       0.0        0.0      0.0     0.0       0.0   \n",
       "r5p_c           0.0       0.0       0.0        0.0      0.0     0.0       0.0   \n",
       "s7p_c           0.0       0.0       0.0        0.0      0.0     0.0       0.0   \n",
       "e4p_c           0.0       0.0       0.0        0.0      0.0     0.0       0.0   \n",
       "ade_c          -1.0       0.0       0.0        0.0      0.0     0.0       0.0   \n",
       "adn_c           0.0      -1.0       0.0        0.0      0.0     0.0       0.0   \n",
       "imp_c           0.0       0.0       0.0        0.0      0.0     0.0       0.0   \n",
       "ins_c           0.0       0.0      -1.0        0.0      0.0     0.0       0.0   \n",
       "hxan_c          0.0       0.0       0.0       -1.0      0.0     0.0       0.0   \n",
       "r1p_c           0.0       0.0       0.0        0.0      0.0     0.0       0.0   \n",
       "prpp_c          0.0       0.0       0.0        0.0      0.0     0.0       0.0   \n",
       "_23dpg_c        0.0       0.0       0.0        0.0      0.0     0.0       0.0   \n",
       "hb_c            0.0       0.0       0.0        0.0      0.0     0.0       0.0   \n",
       "hb_1o2_c        0.0       0.0       0.0        0.0      0.0     0.0       0.0   \n",
       "hb_2o2_c        0.0       0.0       0.0        0.0      0.0     0.0       0.0   \n",
       "hb_3o2_c        0.0       0.0       0.0        0.0      0.0     0.0       0.0   \n",
       "hb_4o2_c        0.0       0.0       0.0        0.0      0.0     0.0       0.0   \n",
       "dhb_c           0.0       0.0       0.0        0.0      0.0     0.0       0.0   \n",
       "nad_c           0.0       0.0       0.0        0.0      0.0     0.0       0.0   \n",
       "nadh_c          0.0       0.0       0.0        0.0      0.0     0.0       0.0   \n",
       "amp_c           0.0       0.0       0.0        0.0      0.0     0.0       0.0   \n",
       "adp_c           0.0       0.0       0.0        0.0      0.0     0.0       0.0   \n",
       "atp_c           0.0       0.0       0.0        0.0      0.0     0.0       0.0   \n",
       "nadp_c          0.0       0.0       0.0        0.0      0.0     0.0       0.0   \n",
       "nadph_c         0.0       0.0       0.0        0.0      0.0     0.0       0.0   \n",
       "gthrd_c         0.0       0.0       0.0        0.0      0.0     0.0       0.0   \n",
       "gthox_c         0.0       0.0       0.0        0.0      0.0     0.0       0.0   \n",
       "pi_c            0.0       0.0       0.0        0.0     -1.0     0.0       0.0   \n",
       "h_c             0.0       0.0       0.0        0.0      0.0    -1.0       0.0   \n",
       "h2o_c           0.0       0.0       0.0        0.0      0.0     0.0      -1.0   \n",
       "co2_c           0.0       0.0       0.0        0.0      0.0     0.0       0.0   \n",
       "nh3_c           0.0       0.0       0.0        0.0      0.0     0.0       0.0   \n",
       "o2_c            0.0       0.0       0.0        0.0      0.0     0.0       0.0   \n",
       "\n",
       "           EX_co2_e  EX_nh3_e  EX_o2_e  \n",
       "glc__D_c        0.0       0.0      0.0  \n",
       "g6p_c           0.0       0.0      0.0  \n",
       "f6p_c           0.0       0.0      0.0  \n",
       "fdp_c           0.0       0.0      0.0  \n",
       "dhap_c          0.0       0.0      0.0  \n",
       "g3p_c           0.0       0.0      0.0  \n",
       "_13dpg_c        0.0       0.0      0.0  \n",
       "_3pg_c          0.0       0.0      0.0  \n",
       "_2pg_c          0.0       0.0      0.0  \n",
       "pep_c           0.0       0.0      0.0  \n",
       "pyr_c           0.0       0.0      0.0  \n",
       "lac__L_c        0.0       0.0      0.0  \n",
       "_6pgl_c         0.0       0.0      0.0  \n",
       "_6pgc_c         0.0       0.0      0.0  \n",
       "ru5p__D_c       0.0       0.0      0.0  \n",
       "xu5p__D_c       0.0       0.0      0.0  \n",
       "r5p_c           0.0       0.0      0.0  \n",
       "s7p_c           0.0       0.0      0.0  \n",
       "e4p_c           0.0       0.0      0.0  \n",
       "ade_c           0.0       0.0      0.0  \n",
       "adn_c           0.0       0.0      0.0  \n",
       "imp_c           0.0       0.0      0.0  \n",
       "ins_c           0.0       0.0      0.0  \n",
       "hxan_c          0.0       0.0      0.0  \n",
       "r1p_c           0.0       0.0      0.0  \n",
       "prpp_c          0.0       0.0      0.0  \n",
       "_23dpg_c        0.0       0.0      0.0  \n",
       "hb_c            0.0       0.0      0.0  \n",
       "hb_1o2_c        0.0       0.0      0.0  \n",
       "hb_2o2_c        0.0       0.0      0.0  \n",
       "hb_3o2_c        0.0       0.0      0.0  \n",
       "hb_4o2_c        0.0       0.0      0.0  \n",
       "dhb_c           0.0       0.0      0.0  \n",
       "nad_c           0.0       0.0      0.0  \n",
       "nadh_c          0.0       0.0      0.0  \n",
       "amp_c           0.0       0.0      0.0  \n",
       "adp_c           0.0       0.0      0.0  \n",
       "atp_c           0.0       0.0      0.0  \n",
       "nadp_c          0.0       0.0      0.0  \n",
       "nadph_c         0.0       0.0      0.0  \n",
       "gthrd_c         0.0       0.0      0.0  \n",
       "gthox_c         0.0       0.0      0.0  \n",
       "pi_c            0.0       0.0      0.0  \n",
       "h_c             0.0       0.0      0.0  \n",
       "h2o_c           0.0       0.0      0.0  \n",
       "co2_c          -1.0       0.0      0.0  \n",
       "nh3_c           0.0      -1.0      0.0  \n",
       "o2_c            0.0       0.0     -1.0  \n",
       "\n",
       "[48 rows x 53 columns]"
      ]
     },
     "execution_count": 11,
     "metadata": {},
     "output_type": "execute_result"
    }
   ],
   "source": [
    "model.update_S(matrix_type=\"DataFrame\", update_model=True)"
   ]
  },
  {
   "cell_type": "markdown",
   "metadata": {},
   "source": [
    "Model rates can be examined by iterating using a \"for\" loop\n",
    "\n",
    "<font color='red'>Explain what the datatype is (e.g. rates are a dict, can be iterated using items() method)</font>"
   ]
  },
  {
   "cell_type": "code",
   "execution_count": 12,
   "metadata": {
    "scrolled": true
   },
   "outputs": [
    {
     "name": "stdout",
     "output_type": "stream",
     "text": [
      "HEX1: kf_HEX1*(atp_c(t)*glc__D_c(t) - adp_c(t)*g6p_c(t)/Keq_HEX1)\n",
      "PGI: kf_PGI*(g6p_c(t) - f6p_c(t)/Keq_PGI)\n",
      "PFK: kf_PFK*(atp_c(t)*f6p_c(t) - adp_c(t)*fdp_c(t)/Keq_PFK)\n",
      "FBA: kf_FBA*(fdp_c(t) - dhap_c(t)*g3p_c(t)/Keq_FBA)\n",
      "TPI: kf_TPI*(dhap_c(t) - g3p_c(t)/Keq_TPI)\n",
      "GAPD: kf_GAPD*(g3p_c(t)*nad_c(t)*pi_c(t) - _13dpg_c(t)*nadh_c(t)/Keq_GAPD)\n",
      "PGK: kf_PGK*(_13dpg_c(t)*adp_c(t) - _3pg_c(t)*atp_c(t)/Keq_PGK)\n",
      "PGM: kf_PGM*(_3pg_c(t) - _2pg_c(t)/Keq_PGM)\n",
      "ENO: kf_ENO*(_2pg_c(t) - pep_c(t)/Keq_ENO)\n",
      "PYK: kf_PYK*(adp_c(t)*pep_c(t) - atp_c(t)*pyr_c(t)/Keq_PYK)\n",
      "LDH_L: kf_LDH_L*(nadh_c(t)*pyr_c(t) - lac__L_c(t)*nad_c(t)/Keq_LDH_L)\n",
      "G6PDH2r: kf_G6PDH2r*(g6p_c(t)*nadp_c(t) - _6pgl_c(t)*nadph_c(t)/Keq_G6PDH2r)\n",
      "PGL: kf_PGL*(_6pgl_c(t) - _6pgc_c(t)/Keq_PGL)\n",
      "GND: kf_GND*(_6pgc_c(t)*nadp_c(t) - co2_c(t)*nadph_c(t)*ru5p__D_c(t)/Keq_GND)\n",
      "RPE: kf_RPE*(ru5p__D_c(t) - xu5p__D_c(t)/Keq_RPE)\n",
      "RPI: kf_RPI*(ru5p__D_c(t) - r5p_c(t)/Keq_RPI)\n",
      "TKT1: kf_TKT1*(r5p_c(t)*xu5p__D_c(t) - g3p_c(t)*s7p_c(t)/Keq_TKT1)\n",
      "TKT2: kf_TKT2*(e4p_c(t)*xu5p__D_c(t) - f6p_c(t)*g3p_c(t)/Keq_TKT2)\n",
      "TALA: kf_TALA*(g3p_c(t)*s7p_c(t) - e4p_c(t)*f6p_c(t)/Keq_TALA)\n",
      "ADNK1: kf_ADNK1*adn_c(t)*atp_c(t)\n",
      "NTD7: kf_NTD7*amp_c(t)\n",
      "ADA: kf_ADA*adn_c(t)\n",
      "AMPDA: kf_AMPDA*amp_c(t)\n",
      "NTD11: kf_NTD11*imp_c(t)\n",
      "PUNP5: kf_PUNP5*(ins_c(t)*pi_c(t) - hxan_c(t)*r1p_c(t)/Keq_PUNP5)\n",
      "PPM: kf_PPM*(r1p_c(t) - r5p_c(t)/Keq_PPM)\n",
      "PRPPS: kf_PRPPS*atp_c(t)*r5p_c(t)\n",
      "ADPT: kf_ADPT*ade_c(t)*prpp_c(t)\n",
      "ADK1: kf_ADK1*(adp_c(t)**2 - amp_c(t)*atp_c(t)/Keq_ADK1)\n",
      "DPGM: kf_DPGM*(_13dpg_c(t) - _23dpg_c(t)/Keq_DPGM)\n",
      "DPGase: kf_DPGase*_23dpg_c(t)\n",
      "HBDPG: kf_HBDPG*(_23dpg_c(t)*hb_c(t) - dhb_c(t)/Keq_HBDPG)\n",
      "HBO1: kf_HBO1*(hb_c(t)*o2_c(t) - hb_1o2_c(t)/Keq_HBO1)\n",
      "HBO2: kf_HBO2*(hb_1o2_c(t)*o2_c(t) - hb_2o2_c(t)/Keq_HBO2)\n",
      "HBO3: kf_HBO3*(hb_2o2_c(t)*o2_c(t) - hb_3o2_c(t)/Keq_HBO3)\n",
      "HBO4: kf_HBO4*(hb_3o2_c(t)*o2_c(t) - hb_4o2_c(t)/Keq_HBO4)\n",
      "ATPM: kf_ATPM*atp_c(t)\n",
      "DM_nadh: kf_DM_nadh*nadh_c(t)\n",
      "GTHOr: kf_GTHOr*(gthox_c(t)*nadph_c(t) - gthrd_c(t)**2*nadp_c(t)/Keq_GTHOr)\n",
      "GSHR: kf_GSHR*(gthrd_c(t)**2 - gthox_c(t)/Keq_GSHR)\n",
      "S_glc__D_e: glc__D_e*kf_S_glc__D_e\n",
      "EX_pyr_e: kf_EX_pyr_e*(pyr_c(t) - pyr_e/Keq_EX_pyr_e)\n",
      "EX_lac__L_e: kf_EX_lac__L_e*(lac__L_c(t) - lac__L_e/Keq_EX_lac__L_e)\n",
      "EX_ade_e: kf_EX_ade_e*(ade_c(t) - ade_e/Keq_EX_ade_e)\n",
      "EX_adn_e: kf_EX_adn_e*(adn_c(t) - adn_e/Keq_EX_adn_e)\n",
      "EX_ins_e: kf_EX_ins_e*(ins_c(t) - ins_e/Keq_EX_ins_e)\n",
      "EX_hxan_e: kf_EX_hxan_e*(hxan_c(t) - hxan_e/Keq_EX_hxan_e)\n",
      "EX_pi_e: kf_EX_pi_e*(pi_c(t) - pi_e/Keq_EX_pi_e)\n",
      "EX_h_e: kf_EX_h_e*(h_c(t) - h_e/Keq_EX_h_e)\n",
      "EX_h2o_e: kf_EX_h2o_e*(h2o_c(t) - h2o_e/Keq_EX_h2o_e)\n",
      "EX_co2_e: kf_EX_co2_e*(co2_c(t) - co2_e/Keq_EX_co2_e)\n",
      "EX_nh3_e: kf_EX_nh3_e*(nh3_c(t) - nh3_e/Keq_EX_nh3_e)\n",
      "EX_o2_e: kf_EX_o2_e*(o2_c(t) - o2_e/Keq_EX_o2_e)\n"
     ]
    }
   ],
   "source": [
    "for rxn, rate in model.rates.items():\n",
    "    print(\"%s: %s\" % (rxn.id, rate))"
   ]
  },
  {
   "cell_type": "markdown",
   "metadata": {},
   "source": [
    "We can also call one rate and inspect it specifically instead of all the rates,\n",
    "\n",
    "<font color='red'>Also show dict.get(key, None) method.\n",
    "Great place to show how to use sympy.pprint()\n",
    "Also explain datatype of rate and ode (e.g. sympy.Basic expression)\n",
    "Turn an expression into a string to show how its done</font>\n"
   ]
  },
  {
   "cell_type": "code",
   "execution_count": 17,
   "metadata": {
    "scrolled": false
   },
   "outputs": [
    {
     "name": "stdout",
     "output_type": "stream",
     "text": [
      "<class 'str'>\n",
      "False\n",
      "Oh no\n"
     ]
    }
   ],
   "source": [
    "import sympy as sym\n",
    "\n",
    "print(type(str(model.rates[model.reactions.HEX1])))\n",
    "print(isinstance(model.rates[model.reactions.HEX1], str))\n",
    "print(model.rates.get(\"hey bb\", \"Oh no\"))"
   ]
  },
  {
   "cell_type": "code",
   "execution_count": 14,
   "metadata": {
    "scrolled": true
   },
   "outputs": [
    {
     "data": {
      "text/plain": [
       "{<MassReaction HEX1 at 0x127778c88>: kf_HEX1*(atp_c(t)*glc__D_c(t) - adp_c(t)*g6p_c(t)/Keq_HEX1),\n",
       " <MassReaction PGI at 0x127778fd0>: kf_PGI*(g6p_c(t) - f6p_c(t)/Keq_PGI),\n",
       " <MassReaction PFK at 0x127788198>: kf_PFK*(atp_c(t)*f6p_c(t) - adp_c(t)*fdp_c(t)/Keq_PFK),\n",
       " <MassReaction FBA at 0x127788518>: kf_FBA*(fdp_c(t) - dhap_c(t)*g3p_c(t)/Keq_FBA),\n",
       " <MassReaction TPI at 0x127788748>: kf_TPI*(dhap_c(t) - g3p_c(t)/Keq_TPI),\n",
       " <MassReaction GAPD at 0x1277888d0>: kf_GAPD*(g3p_c(t)*nad_c(t)*pi_c(t) - _13dpg_c(t)*nadh_c(t)/Keq_GAPD),\n",
       " <MassReaction PGK at 0x127788cf8>: kf_PGK*(_13dpg_c(t)*adp_c(t) - _3pg_c(t)*atp_c(t)/Keq_PGK),\n",
       " <MassReaction PGM at 0x127788fd0>: kf_PGM*(_3pg_c(t) - _2pg_c(t)/Keq_PGM),\n",
       " <MassReaction ENO at 0x127791198>: kf_ENO*(_2pg_c(t) - pep_c(t)/Keq_ENO),\n",
       " <MassReaction PYK at 0x1277913c8>: kf_PYK*(adp_c(t)*pep_c(t) - atp_c(t)*pyr_c(t)/Keq_PYK),\n",
       " <MassReaction LDH_L at 0x127791748>: kf_LDH_L*(nadh_c(t)*pyr_c(t) - lac__L_c(t)*nad_c(t)/Keq_LDH_L),\n",
       " <MassReaction G6PDH2r at 0x127791ac8>: kf_G6PDH2r*(g6p_c(t)*nadp_c(t) - _6pgl_c(t)*nadph_c(t)/Keq_G6PDH2r),\n",
       " <MassReaction PGL at 0x127791e48>: kf_PGL*(_6pgl_c(t) - _6pgc_c(t)/Keq_PGL),\n",
       " <MassReaction GND at 0x127798198>: kf_GND*(_6pgc_c(t)*nadp_c(t) - co2_c(t)*nadph_c(t)*ru5p__D_c(t)/Keq_GND),\n",
       " <MassReaction RPE at 0x1277984e0>: kf_RPE*(ru5p__D_c(t) - xu5p__D_c(t)/Keq_RPE),\n",
       " <MassReaction RPI at 0x127798668>: kf_RPI*(ru5p__D_c(t) - r5p_c(t)/Keq_RPI),\n",
       " <MassReaction TKT1 at 0x1277987f0>: kf_TKT1*(r5p_c(t)*xu5p__D_c(t) - g3p_c(t)*s7p_c(t)/Keq_TKT1),\n",
       " <MassReaction TKT2 at 0x127798b00>: kf_TKT2*(e4p_c(t)*xu5p__D_c(t) - f6p_c(t)*g3p_c(t)/Keq_TKT2),\n",
       " <MassReaction TALA at 0x127798dd8>: kf_TALA*(g3p_c(t)*s7p_c(t) - e4p_c(t)*f6p_c(t)/Keq_TALA),\n",
       " <MassReaction ADNK1 at 0x1277a10f0>: kf_ADNK1*adn_c(t)*atp_c(t),\n",
       " <MassReaction NTD7 at 0x1277a1438>: kf_NTD7*amp_c(t),\n",
       " <MassReaction ADA at 0x1277a1748>: kf_ADA*adn_c(t),\n",
       " <MassReaction AMPDA at 0x1277a1a20>: kf_AMPDA*amp_c(t),\n",
       " <MassReaction NTD11 at 0x1277a1cf8>: kf_NTD11*imp_c(t),\n",
       " <MassReaction PUNP5 at 0x1277a1fd0>: kf_PUNP5*(ins_c(t)*pi_c(t) - hxan_c(t)*r1p_c(t)/Keq_PUNP5),\n",
       " <MassReaction PPM at 0x1277a82e8>: kf_PPM*(r1p_c(t) - r5p_c(t)/Keq_PPM),\n",
       " <MassReaction PRPPS at 0x1277a8438>: kf_PRPPS*atp_c(t)*r5p_c(t),\n",
       " <MassReaction ADPT at 0x1277a87b8>: kf_ADPT*ade_c(t)*prpp_c(t),\n",
       " <MassReaction ADK1 at 0x1277a8be0>: kf_ADK1*(adp_c(t)**2 - amp_c(t)*atp_c(t)/Keq_ADK1),\n",
       " <MassReaction DPGM at 0x1277a8e10>: kf_DPGM*(_13dpg_c(t) - _23dpg_c(t)/Keq_DPGM),\n",
       " <MassReaction DPGase at 0x1277b1080>: kf_DPGase*_23dpg_c(t),\n",
       " <MassReaction HBDPG at 0x1277b1390>: kf_HBDPG*(_23dpg_c(t)*hb_c(t) - dhb_c(t)/Keq_HBDPG),\n",
       " <MassReaction HBO1 at 0x1277b1588>: kf_HBO1*(hb_c(t)*o2_c(t) - hb_1o2_c(t)/Keq_HBO1),\n",
       " <MassReaction HBO2 at 0x1277b17b8>: kf_HBO2*(hb_1o2_c(t)*o2_c(t) - hb_2o2_c(t)/Keq_HBO2),\n",
       " <MassReaction HBO3 at 0x1277b19e8>: kf_HBO3*(hb_2o2_c(t)*o2_c(t) - hb_3o2_c(t)/Keq_HBO3),\n",
       " <MassReaction HBO4 at 0x1277b1c18>: kf_HBO4*(hb_3o2_c(t)*o2_c(t) - hb_4o2_c(t)/Keq_HBO4),\n",
       " <MassReaction ATPM at 0x1277b1e48>: kf_ATPM*atp_c(t),\n",
       " <MassReaction DM_nadh at 0x1277b9208>: kf_DM_nadh*nadh_c(t),\n",
       " <MassReaction GTHOr at 0x1277b9438>: kf_GTHOr*(gthox_c(t)*nadph_c(t) - gthrd_c(t)**2*nadp_c(t)/Keq_GTHOr),\n",
       " <MassReaction GSHR at 0x1277b97b8>: kf_GSHR*(gthrd_c(t)**2 - gthox_c(t)/Keq_GSHR),\n",
       " <MassReaction S_glc__D_e at 0x1277b99e8>: glc__D_e*kf_S_glc__D_e,\n",
       " <MassReaction EX_pyr_e at 0x1277b9ac8>: kf_EX_pyr_e*(pyr_c(t) - pyr_e/Keq_EX_pyr_e),\n",
       " <MassReaction EX_lac__L_e at 0x1277b9ba8>: kf_EX_lac__L_e*(lac__L_c(t) - lac__L_e/Keq_EX_lac__L_e),\n",
       " <MassReaction EX_ade_e at 0x1277b9c88>: kf_EX_ade_e*(ade_c(t) - ade_e/Keq_EX_ade_e),\n",
       " <MassReaction EX_adn_e at 0x1277b9d68>: kf_EX_adn_e*(adn_c(t) - adn_e/Keq_EX_adn_e),\n",
       " <MassReaction EX_ins_e at 0x1277b9e48>: kf_EX_ins_e*(ins_c(t) - ins_e/Keq_EX_ins_e),\n",
       " <MassReaction EX_hxan_e at 0x1277b9f28>: kf_EX_hxan_e*(hxan_c(t) - hxan_e/Keq_EX_hxan_e),\n",
       " <MassReaction EX_pi_e at 0x1277c1048>: kf_EX_pi_e*(pi_c(t) - pi_e/Keq_EX_pi_e),\n",
       " <MassReaction EX_h_e at 0x1277c1128>: kf_EX_h_e*(h_c(t) - h_e/Keq_EX_h_e),\n",
       " <MassReaction EX_h2o_e at 0x1277c1208>: kf_EX_h2o_e*(h2o_c(t) - h2o_e/Keq_EX_h2o_e),\n",
       " <MassReaction EX_co2_e at 0x1277c12e8>: kf_EX_co2_e*(co2_c(t) - co2_e/Keq_EX_co2_e),\n",
       " <MassReaction EX_nh3_e at 0x1277c13c8>: kf_EX_nh3_e*(nh3_c(t) - nh3_e/Keq_EX_nh3_e),\n",
       " <MassReaction EX_o2_e at 0x1277c14a8>: kf_EX_o2_e*(o2_c(t) - o2_e/Keq_EX_o2_e)}"
      ]
     },
     "execution_count": 14,
     "metadata": {},
     "output_type": "execute_result"
    }
   ],
   "source": [
    "model.rates"
   ]
  },
  {
   "cell_type": "markdown",
   "metadata": {},
   "source": [
    "The same goes for ODE's; the following function is not being printed for the sake of organization"
   ]
  },
  {
   "cell_type": "code",
   "execution_count": 41,
   "metadata": {
    "collapsed": true
   },
   "outputs": [
    {
     "name": "stdout",
     "output_type": "stream",
     "text": [
      "glc__D_c:glc__D_e*kf_S_glc__D_e - kf_HEX1*(atp_c(t)*glc__D_c(t) - adp_c(t)*g6p_c(t)/Keq_HEX1)\n",
      "g6p_c:-kf_G6PDH2r*(g6p_c(t)*nadp_c(t) - _6pgl_c(t)*nadph_c(t)/Keq_G6PDH2r) + kf_HEX1*(atp_c(t)*glc__D_c(t) - adp_c(t)*g6p_c(t)/Keq_HEX1) - kf_PGI*(g6p_c(t) - f6p_c(t)/Keq_PGI)\n",
      "f6p_c:-kf_PFK*(atp_c(t)*f6p_c(t) - adp_c(t)*fdp_c(t)/Keq_PFK) + kf_PGI*(g6p_c(t) - f6p_c(t)/Keq_PGI) + kf_TALA*(g3p_c(t)*s7p_c(t) - e4p_c(t)*f6p_c(t)/Keq_TALA) + kf_TKT2*(e4p_c(t)*xu5p__D_c(t) - f6p_c(t)*g3p_c(t)/Keq_TKT2)\n",
      "fdp_c:-kf_FBA*(fdp_c(t) - dhap_c(t)*g3p_c(t)/Keq_FBA) + kf_PFK*(atp_c(t)*f6p_c(t) - adp_c(t)*fdp_c(t)/Keq_PFK)\n",
      "dhap_c:kf_FBA*(fdp_c(t) - dhap_c(t)*g3p_c(t)/Keq_FBA) - kf_TPI*(dhap_c(t) - g3p_c(t)/Keq_TPI)\n",
      "g3p_c:kf_FBA*(fdp_c(t) - dhap_c(t)*g3p_c(t)/Keq_FBA) - kf_GAPD*(g3p_c(t)*nad_c(t)*pi_c(t) - _13dpg_c(t)*nadh_c(t)/Keq_GAPD) - kf_TALA*(g3p_c(t)*s7p_c(t) - e4p_c(t)*f6p_c(t)/Keq_TALA) + kf_TKT1*(r5p_c(t)*xu5p__D_c(t) - g3p_c(t)*s7p_c(t)/Keq_TKT1) + kf_TKT2*(e4p_c(t)*xu5p__D_c(t) - f6p_c(t)*g3p_c(t)/Keq_TKT2) + kf_TPI*(dhap_c(t) - g3p_c(t)/Keq_TPI)\n",
      "_13dpg_c:-kf_DPGM*(_13dpg_c(t) - _23dpg_c(t)/Keq_DPGM) + kf_GAPD*(g3p_c(t)*nad_c(t)*pi_c(t) - _13dpg_c(t)*nadh_c(t)/Keq_GAPD) - kf_PGK*(_13dpg_c(t)*adp_c(t) - _3pg_c(t)*atp_c(t)/Keq_PGK)\n",
      "_3pg_c:kf_DPGase*_23dpg_c(t) + kf_PGK*(_13dpg_c(t)*adp_c(t) - _3pg_c(t)*atp_c(t)/Keq_PGK) - kf_PGM*(_3pg_c(t) - _2pg_c(t)/Keq_PGM)\n",
      "_2pg_c:-kf_ENO*(_2pg_c(t) - pep_c(t)/Keq_ENO) + kf_PGM*(_3pg_c(t) - _2pg_c(t)/Keq_PGM)\n",
      "pep_c:kf_ENO*(_2pg_c(t) - pep_c(t)/Keq_ENO) - kf_PYK*(adp_c(t)*pep_c(t) - atp_c(t)*pyr_c(t)/Keq_PYK)\n",
      "pyr_c:-kf_EX_pyr_e*(pyr_c(t) - pyr_e/Keq_EX_pyr_e) - kf_LDH_L*(nadh_c(t)*pyr_c(t) - lac__L_c(t)*nad_c(t)/Keq_LDH_L) + kf_PYK*(adp_c(t)*pep_c(t) - atp_c(t)*pyr_c(t)/Keq_PYK)\n",
      "lac__L_c:-kf_EX_lac__L_e*(lac__L_c(t) - lac__L_e/Keq_EX_lac__L_e) + kf_LDH_L*(nadh_c(t)*pyr_c(t) - lac__L_c(t)*nad_c(t)/Keq_LDH_L)\n",
      "_6pgl_c:kf_G6PDH2r*(g6p_c(t)*nadp_c(t) - _6pgl_c(t)*nadph_c(t)/Keq_G6PDH2r) - kf_PGL*(_6pgl_c(t) - _6pgc_c(t)/Keq_PGL)\n",
      "_6pgc_c:-kf_GND*(_6pgc_c(t)*nadp_c(t) - co2_c(t)*nadph_c(t)*ru5p__D_c(t)/Keq_GND) + kf_PGL*(_6pgl_c(t) - _6pgc_c(t)/Keq_PGL)\n",
      "ru5p__D_c:kf_GND*(_6pgc_c(t)*nadp_c(t) - co2_c(t)*nadph_c(t)*ru5p__D_c(t)/Keq_GND) - kf_RPE*(ru5p__D_c(t) - xu5p__D_c(t)/Keq_RPE) - kf_RPI*(ru5p__D_c(t) - r5p_c(t)/Keq_RPI)\n",
      "xu5p__D_c:kf_RPE*(ru5p__D_c(t) - xu5p__D_c(t)/Keq_RPE) - kf_TKT1*(r5p_c(t)*xu5p__D_c(t) - g3p_c(t)*s7p_c(t)/Keq_TKT1) - kf_TKT2*(e4p_c(t)*xu5p__D_c(t) - f6p_c(t)*g3p_c(t)/Keq_TKT2)\n",
      "r5p_c:kf_PPM*(r1p_c(t) - r5p_c(t)/Keq_PPM) - kf_PRPPS*atp_c(t)*r5p_c(t) + kf_RPI*(ru5p__D_c(t) - r5p_c(t)/Keq_RPI) - kf_TKT1*(r5p_c(t)*xu5p__D_c(t) - g3p_c(t)*s7p_c(t)/Keq_TKT1)\n",
      "s7p_c:-kf_TALA*(g3p_c(t)*s7p_c(t) - e4p_c(t)*f6p_c(t)/Keq_TALA) + kf_TKT1*(r5p_c(t)*xu5p__D_c(t) - g3p_c(t)*s7p_c(t)/Keq_TKT1)\n",
      "e4p_c:kf_TALA*(g3p_c(t)*s7p_c(t) - e4p_c(t)*f6p_c(t)/Keq_TALA) - kf_TKT2*(e4p_c(t)*xu5p__D_c(t) - f6p_c(t)*g3p_c(t)/Keq_TKT2)\n",
      "ade_c:-kf_ADPT*ade_c(t)*prpp_c(t) - kf_EX_ade_e*(ade_c(t) - ade_e/Keq_EX_ade_e)\n",
      "adn_c:-kf_ADA*adn_c(t) - kf_ADNK1*adn_c(t)*atp_c(t) - kf_EX_adn_e*(adn_c(t) - adn_e/Keq_EX_adn_e) + kf_NTD7*amp_c(t)\n",
      "imp_c:kf_AMPDA*amp_c(t) - kf_NTD11*imp_c(t)\n",
      "ins_c:kf_ADA*adn_c(t) - kf_EX_ins_e*(ins_c(t) - ins_e/Keq_EX_ins_e) + kf_NTD11*imp_c(t) - kf_PUNP5*(ins_c(t)*pi_c(t) - hxan_c(t)*r1p_c(t)/Keq_PUNP5)\n",
      "hxan_c:-kf_EX_hxan_e*(hxan_c(t) - hxan_e/Keq_EX_hxan_e) + kf_PUNP5*(ins_c(t)*pi_c(t) - hxan_c(t)*r1p_c(t)/Keq_PUNP5)\n",
      "r1p_c:-kf_PPM*(r1p_c(t) - r5p_c(t)/Keq_PPM) + kf_PUNP5*(ins_c(t)*pi_c(t) - hxan_c(t)*r1p_c(t)/Keq_PUNP5)\n",
      "prpp_c:-kf_ADPT*ade_c(t)*prpp_c(t) + kf_PRPPS*atp_c(t)*r5p_c(t)\n",
      "_23dpg_c:kf_DPGM*(_13dpg_c(t) - _23dpg_c(t)/Keq_DPGM) - kf_DPGase*_23dpg_c(t) - kf_HBDPG*(_23dpg_c(t)*hb_c(t) - dhb_c(t)/Keq_HBDPG)\n",
      "hb_c:-kf_HBDPG*(_23dpg_c(t)*hb_c(t) - dhb_c(t)/Keq_HBDPG) - kf_HBO1*(hb_c(t)*o2_c(t) - hb_1o2_c(t)/Keq_HBO1)\n",
      "hb_1o2_c:kf_HBO1*(hb_c(t)*o2_c(t) - hb_1o2_c(t)/Keq_HBO1) - kf_HBO2*(hb_1o2_c(t)*o2_c(t) - hb_2o2_c(t)/Keq_HBO2)\n",
      "hb_2o2_c:kf_HBO2*(hb_1o2_c(t)*o2_c(t) - hb_2o2_c(t)/Keq_HBO2) - kf_HBO3*(hb_2o2_c(t)*o2_c(t) - hb_3o2_c(t)/Keq_HBO3)\n",
      "hb_3o2_c:kf_HBO3*(hb_2o2_c(t)*o2_c(t) - hb_3o2_c(t)/Keq_HBO3) - kf_HBO4*(hb_3o2_c(t)*o2_c(t) - hb_4o2_c(t)/Keq_HBO4)\n",
      "hb_4o2_c:kf_HBO4*(hb_3o2_c(t)*o2_c(t) - hb_4o2_c(t)/Keq_HBO4)\n",
      "dhb_c:kf_HBDPG*(_23dpg_c(t)*hb_c(t) - dhb_c(t)/Keq_HBDPG)\n",
      "nad_c:kf_DM_nadh*nadh_c(t) - kf_GAPD*(g3p_c(t)*nad_c(t)*pi_c(t) - _13dpg_c(t)*nadh_c(t)/Keq_GAPD) + kf_LDH_L*(nadh_c(t)*pyr_c(t) - lac__L_c(t)*nad_c(t)/Keq_LDH_L)\n",
      "nadh_c:-kf_DM_nadh*nadh_c(t) + kf_GAPD*(g3p_c(t)*nad_c(t)*pi_c(t) - _13dpg_c(t)*nadh_c(t)/Keq_GAPD) - kf_LDH_L*(nadh_c(t)*pyr_c(t) - lac__L_c(t)*nad_c(t)/Keq_LDH_L)\n",
      "amp_c:kf_ADK1*(adp_c(t)**2 - amp_c(t)*atp_c(t)/Keq_ADK1) + kf_ADNK1*adn_c(t)*atp_c(t) + kf_ADPT*ade_c(t)*prpp_c(t) - kf_AMPDA*amp_c(t) - kf_NTD7*amp_c(t) + kf_PRPPS*atp_c(t)*r5p_c(t)\n",
      "adp_c:-2*kf_ADK1*(adp_c(t)**2 - amp_c(t)*atp_c(t)/Keq_ADK1) + kf_ADNK1*adn_c(t)*atp_c(t) + kf_ATPM*atp_c(t) + kf_HEX1*(atp_c(t)*glc__D_c(t) - adp_c(t)*g6p_c(t)/Keq_HEX1) + kf_PFK*(atp_c(t)*f6p_c(t) - adp_c(t)*fdp_c(t)/Keq_PFK) - kf_PGK*(_13dpg_c(t)*adp_c(t) - _3pg_c(t)*atp_c(t)/Keq_PGK) - kf_PYK*(adp_c(t)*pep_c(t) - atp_c(t)*pyr_c(t)/Keq_PYK)\n",
      "atp_c:kf_ADK1*(adp_c(t)**2 - amp_c(t)*atp_c(t)/Keq_ADK1) - kf_ADNK1*adn_c(t)*atp_c(t) - kf_ATPM*atp_c(t) - kf_HEX1*(atp_c(t)*glc__D_c(t) - adp_c(t)*g6p_c(t)/Keq_HEX1) - kf_PFK*(atp_c(t)*f6p_c(t) - adp_c(t)*fdp_c(t)/Keq_PFK) + kf_PGK*(_13dpg_c(t)*adp_c(t) - _3pg_c(t)*atp_c(t)/Keq_PGK) - kf_PRPPS*atp_c(t)*r5p_c(t) + kf_PYK*(adp_c(t)*pep_c(t) - atp_c(t)*pyr_c(t)/Keq_PYK)\n",
      "nadp_c:-kf_G6PDH2r*(g6p_c(t)*nadp_c(t) - _6pgl_c(t)*nadph_c(t)/Keq_G6PDH2r) - kf_GND*(_6pgc_c(t)*nadp_c(t) - co2_c(t)*nadph_c(t)*ru5p__D_c(t)/Keq_GND) + kf_GTHOr*(gthox_c(t)*nadph_c(t) - gthrd_c(t)**2*nadp_c(t)/Keq_GTHOr)\n",
      "nadph_c:kf_G6PDH2r*(g6p_c(t)*nadp_c(t) - _6pgl_c(t)*nadph_c(t)/Keq_G6PDH2r) + kf_GND*(_6pgc_c(t)*nadp_c(t) - co2_c(t)*nadph_c(t)*ru5p__D_c(t)/Keq_GND) - kf_GTHOr*(gthox_c(t)*nadph_c(t) - gthrd_c(t)**2*nadp_c(t)/Keq_GTHOr)\n",
      "gthrd_c:-2*kf_GSHR*(gthrd_c(t)**2 - gthox_c(t)/Keq_GSHR) + 2*kf_GTHOr*(gthox_c(t)*nadph_c(t) - gthrd_c(t)**2*nadp_c(t)/Keq_GTHOr)\n",
      "gthox_c:kf_GSHR*(gthrd_c(t)**2 - gthox_c(t)/Keq_GSHR) - kf_GTHOr*(gthox_c(t)*nadph_c(t) - gthrd_c(t)**2*nadp_c(t)/Keq_GTHOr)\n",
      "pi_c:2*kf_ADPT*ade_c(t)*prpp_c(t) + kf_ATPM*atp_c(t) + kf_DPGase*_23dpg_c(t) - kf_EX_pi_e*(pi_c(t) - pi_e/Keq_EX_pi_e) - kf_GAPD*(g3p_c(t)*nad_c(t)*pi_c(t) - _13dpg_c(t)*nadh_c(t)/Keq_GAPD) + kf_NTD11*imp_c(t) + kf_NTD7*amp_c(t) - kf_PUNP5*(ins_c(t)*pi_c(t) - hxan_c(t)*r1p_c(t)/Keq_PUNP5)\n",
      "h_c:kf_ADNK1*adn_c(t)*atp_c(t) + kf_ADPT*ade_c(t)*prpp_c(t) + kf_ATPM*atp_c(t) + kf_DM_nadh*nadh_c(t) + kf_DPGM*(_13dpg_c(t) - _23dpg_c(t)/Keq_DPGM) - kf_EX_h_e*(h_c(t) - h_e/Keq_EX_h_e) + kf_G6PDH2r*(g6p_c(t)*nadp_c(t) - _6pgl_c(t)*nadph_c(t)/Keq_G6PDH2r) + kf_GAPD*(g3p_c(t)*nad_c(t)*pi_c(t) - _13dpg_c(t)*nadh_c(t)/Keq_GAPD) + 2*kf_GSHR*(gthrd_c(t)**2 - gthox_c(t)/Keq_GSHR) - kf_GTHOr*(gthox_c(t)*nadph_c(t) - gthrd_c(t)**2*nadp_c(t)/Keq_GTHOr) + kf_HEX1*(atp_c(t)*glc__D_c(t) - adp_c(t)*g6p_c(t)/Keq_HEX1) - kf_LDH_L*(nadh_c(t)*pyr_c(t) - lac__L_c(t)*nad_c(t)/Keq_LDH_L) + kf_PFK*(atp_c(t)*f6p_c(t) - adp_c(t)*fdp_c(t)/Keq_PFK) + kf_PGL*(_6pgl_c(t) - _6pgc_c(t)/Keq_PGL) + kf_PRPPS*atp_c(t)*r5p_c(t) - kf_PYK*(adp_c(t)*pep_c(t) - atp_c(t)*pyr_c(t)/Keq_PYK)\n",
      "h2o_c:-kf_ADA*adn_c(t) - kf_ADPT*ade_c(t)*prpp_c(t) - kf_AMPDA*amp_c(t) - kf_ATPM*atp_c(t) - kf_DPGase*_23dpg_c(t) + kf_ENO*(_2pg_c(t) - pep_c(t)/Keq_ENO) - kf_EX_h2o_e*(h2o_c(t) - h2o_e/Keq_EX_h2o_e) - kf_NTD11*imp_c(t) - kf_NTD7*amp_c(t) - kf_PGL*(_6pgl_c(t) - _6pgc_c(t)/Keq_PGL)\n",
      "co2_c:-kf_EX_co2_e*(co2_c(t) - co2_e/Keq_EX_co2_e) + kf_GND*(_6pgc_c(t)*nadp_c(t) - co2_c(t)*nadph_c(t)*ru5p__D_c(t)/Keq_GND)\n",
      "nh3_c:kf_ADA*adn_c(t) + kf_AMPDA*amp_c(t) - kf_EX_nh3_e*(nh3_c(t) - nh3_e/Keq_EX_nh3_e)\n",
      "o2_c:-kf_EX_o2_e*(o2_c(t) - o2_e/Keq_EX_o2_e) - kf_HBO1*(hb_c(t)*o2_c(t) - hb_1o2_c(t)/Keq_HBO1) - kf_HBO2*(hb_1o2_c(t)*o2_c(t) - hb_2o2_c(t)/Keq_HBO2) - kf_HBO3*(hb_2o2_c(t)*o2_c(t) - hb_3o2_c(t)/Keq_HBO3) - kf_HBO4*(hb_3o2_c(t)*o2_c(t) - hb_4o2_c(t)/Keq_HBO4)\n"
     ]
    }
   ],
   "source": [
    "for metabolite, ode in model.odes.items():\n",
    "    print(\"%s:%s\" % (metabolite.id,ode))"
   ]
  },
  {
   "cell_type": "markdown",
   "metadata": {},
   "source": [
    "Similarly, one ODE can be pulled out,"
   ]
  },
  {
   "cell_type": "code",
   "execution_count": 56,
   "metadata": {},
   "outputs": [
    {
     "data": {
      "text/plain": [
       "glc__D_e*kf_S_glc__D_e - kf_HEX1*(atp_c(t)*glc__D_c(t) - adp_c(t)*g6p_c(t)/Keq_HEX1)"
      ]
     },
     "execution_count": 56,
     "metadata": {},
     "output_type": "execute_result"
    }
   ],
   "source": [
    "model.odes[model.metabolites.glc__D_c] #*metabolites don't have ODE until they are put in*"
   ]
  },
  {
   "cell_type": "markdown",
   "metadata": {},
   "source": [
    "## 1.2 Reactions"
   ]
  },
  {
   "cell_type": "markdown",
   "metadata": {},
   "source": [
    "We will consider the reaction glucose-6-phosphate isomerase, which interconverts glucose-6-phosphate to fructose-6-phosphate. The reaction model for this reaction in our test model is PGI"
   ]
  },
  {
   "cell_type": "code",
   "execution_count": 16,
   "metadata": {},
   "outputs": [
    {
     "data": {
      "text/html": [
       "\n",
       "            <table>\n",
       "                <tr>\n",
       "                    <td><strong>Reaction identifier</strong></td>\n",
       "                    <td>PGI</td>\n",
       "                </tr><tr>\n",
       "                    <td><strong>Name</strong></td>\n",
       "                    <td>Glucose-6-phosphate isomerase</td>\n",
       "                </tr><tr>\n",
       "                    <td><strong>Memory address</strong></td>\n",
       "                    <td>0x0127778fd0</td>\n",
       "                </tr><tr>\n",
       "                    <td><strong>Subsystem</strong></td>\n",
       "                    <td>Glycolysis</td>\n",
       "                </tr><tr>\n",
       "                    <td><strong>Stoichiometry</strong></td>\n",
       "                    <td>\n",
       "                        <p style='text-align:right'>g6p_c <=> f6p_c</p>\n",
       "                        <p style='text-align:right'>D-Glucose 6-phosphate <=> D-Fructose 6-phosphate</p>\n",
       "                    </td>\n",
       "                </tr><tr>\n",
       "                    <td><strong>GPR</strong></td>\n",
       "                    <td></td>\n",
       "                </tr><tr>\n",
       "                    <td><strong>Kinetic Reversibility</strong></td>\n",
       "                    <td>True</td>\n",
       "                </tr>\n",
       "            </table>\n",
       "        "
      ],
      "text/plain": [
       "<MassReaction PGI at 0x127778fd0>"
      ]
     },
     "execution_count": 16,
     "metadata": {},
     "output_type": "execute_result"
    }
   ],
   "source": [
    "pgi= model.reactions.get_by_id(\"PGI\")\n",
    "pgi"
   ]
  },
  {
   "cell_type": "markdown",
   "metadata": {},
   "source": [
    "We can view the full name and reaction catalyzed as strings."
   ]
  },
  {
   "cell_type": "code",
   "execution_count": 17,
   "metadata": {
    "scrolled": true
   },
   "outputs": [
    {
     "name": "stdout",
     "output_type": "stream",
     "text": [
      "Glucose-6-phosphate isomerase\n",
      "g6p_c <=> f6p_c\n"
     ]
    }
   ],
   "source": [
    "print(pgi.name)\n",
    "print(pgi.reaction)"
   ]
  },
  {
   "cell_type": "markdown",
   "metadata": {},
   "source": [
    "We can also view reaction upper and lower bounds. Bc pgi.lower_bound <0 and pgi.upper_bound> 0, pgi is considered reversible."
   ]
  },
  {
   "cell_type": "code",
   "execution_count": 1,
   "metadata": {},
   "outputs": [],
   "source": [
    "# print(pgi.lower_bound, \"< pgi <\", pgi.upper_bound)\n",
    "# print(pgi.reversible) \n",
    "#MASSPY : Technically everythign is reversible; talk about reversibility and refer to the bounds; talk about how rxns have reversible attributes and rev\n",
    "# rxns can be initialized to  bounds for -1000 to 1000 or 0 to 1000 for rev and irrev resp; helps cobrapy to masspy users \n"
   ]
  },
  {
   "cell_type": "markdown",
   "metadata": {},
   "source": [
    "We can also ensure the reaction is mass balanced. This function will return elements which violate mass balance. If it comes back empty, then the reaction is mass balanced."
   ]
  },
  {
   "cell_type": "code",
   "execution_count": 19,
   "metadata": {},
   "outputs": [
    {
     "data": {
      "text/plain": [
       "{}"
      ]
     },
     "execution_count": 19,
     "metadata": {},
     "output_type": "execute_result"
    }
   ],
   "source": [
    "pgi.check_mass_balance()"
   ]
  },
  {
   "cell_type": "markdown",
   "metadata": {},
   "source": [
    "In order to add a metabolite, we pass in a dict with the metabolite object and its coefficient."
   ]
  },
  {
   "cell_type": "code",
   "execution_count": 20,
   "metadata": {},
   "outputs": [
    {
     "data": {
      "text/plain": [
       "'g6p_c + h_c <=> f6p_c'"
      ]
     },
     "execution_count": 20,
     "metadata": {},
     "output_type": "execute_result"
    }
   ],
   "source": [
    "pgi. add_metabolites({model.metabolites.get_by_id(\"h_c\"):-1})\n",
    "pgi.reaction"
   ]
  },
  {
   "cell_type": "markdown",
   "metadata": {},
   "source": [
    "The reaction is no longer mass balanced."
   ]
  },
  {
   "cell_type": "code",
   "execution_count": 21,
   "metadata": {},
   "outputs": [
    {
     "data": {
      "text/plain": [
       "{'charge': -1, 'H': -1}"
      ]
     },
     "execution_count": 21,
     "metadata": {},
     "output_type": "execute_result"
    }
   ],
   "source": [
    "pgi.check_mass_balance()"
   ]
  },
  {
   "cell_type": "markdown",
   "metadata": {},
   "source": [
    "We can remove metabolite and the reaction can be balanced once again."
   ]
  },
  {
   "cell_type": "code",
   "execution_count": 22,
   "metadata": {
    "scrolled": true
   },
   "outputs": [
    {
     "name": "stdout",
     "output_type": "stream",
     "text": [
      "g6p_c <=> f6p_c\n",
      "{}\n"
     ]
    }
   ],
   "source": [
    "pgi.subtract_metabolites({model.metabolites.get_by_id(\"h_c\"):-1})\n",
    "print(pgi.reaction)\n",
    "print(pgi.check_mass_balance())"
   ]
  },
  {
   "cell_type": "markdown",
   "metadata": {},
   "source": [
    "Further inspection of the reaction itself can be accomplished through several methods listed below:"
   ]
  },
  {
   "cell_type": "code",
   "execution_count": 26,
   "metadata": {},
   "outputs": [
    {
     "data": {
      "text/plain": [
       "'PGI'"
      ]
     },
     "execution_count": 26,
     "metadata": {},
     "output_type": "execute_result"
    }
   ],
   "source": [
    "pgi.id"
   ]
  },
  {
   "cell_type": "code",
   "execution_count": 27,
   "metadata": {},
   "outputs": [
    {
     "data": {
      "text/plain": [
       "[<MassMetabolite g6p_c at 0x127778240>]"
      ]
     },
     "execution_count": 27,
     "metadata": {},
     "output_type": "execute_result"
    }
   ],
   "source": [
    "pgi.reactants"
   ]
  },
  {
   "cell_type": "code",
   "execution_count": 28,
   "metadata": {},
   "outputs": [
    {
     "data": {
      "text/plain": [
       "[<MassMetabolite f6p_c at 0x127778278>]"
      ]
     },
     "execution_count": 28,
     "metadata": {},
     "output_type": "execute_result"
    }
   ],
   "source": [
    "pgi.products"
   ]
  },
  {
   "cell_type": "code",
   "execution_count": 29,
   "metadata": {},
   "outputs": [
    {
     "data": {
      "text/plain": [
       "[1, -1]"
      ]
     },
     "execution_count": 29,
     "metadata": {},
     "output_type": "execute_result"
    }
   ],
   "source": [
    "pgi.stoichiometry"
   ]
  },
  {
   "cell_type": "markdown",
   "metadata": {},
   "source": [
    "As stated above, dir(MassReaction) can pull up the documentation for MassReaction Class,"
   ]
  },
  {
   "cell_type": "markdown",
   "metadata": {},
   "source": [
    "## 1.3 Metabolites "
   ]
  },
  {
   "cell_type": "markdown",
   "metadata": {},
   "source": [
    "We will consider cytosilic ATP as the metabolite and use id \"atp_c\" within the following test model. "
   ]
  },
  {
   "cell_type": "code",
   "execution_count": 30,
   "metadata": {},
   "outputs": [
    {
     "data": {
      "text/html": [
       "\n",
       "        <table>\n",
       "            <tr>\n",
       "                <td><strong>MassMetabolite identifier</strong></td>\n",
       "                <td>atp_c</td>\n",
       "            </tr><tr>\n",
       "                <td><strong>Name</strong></td>\n",
       "                <td>ATP</td>\n",
       "            </tr><tr>\n",
       "                <td><strong>Memory address</strong></td>\n",
       "                <td>0x0127778a20</td>\n",
       "            </tr><tr>\n",
       "                <td><strong>Formula</strong></td>\n",
       "                <td>C10H12N5O13P3</td>\n",
       "            </tr><tr>\n",
       "                <td><strong>Compartment</strong></td>\n",
       "                <td>c</td>\n",
       "            </tr><tr>\n",
       "                <td><strong>Initial Condition</strong></td>\n",
       "                <td>1.6</td>\n",
       "            </tr><tr>\n",
       "                <td><strong>Gibbs formation energy</strong></td>\n",
       "                <td>None</td>\n",
       "            </tr><tr>\n",
       "                <td><strong>In 8 reaction(s)</strong></td>\n",
       "                <td>PRPPS, ATPM, HEX1, ADNK1, PGK, PFK, PYK, ADK1</td>\n",
       "            </tr>\n",
       "        <table>"
      ],
      "text/plain": [
       "<MassMetabolite atp_c at 0x127778a20>"
      ]
     },
     "execution_count": 30,
     "metadata": {},
     "output_type": "execute_result"
    }
   ],
   "source": [
    "atp= model.metabolites.get_by_id(\"atp_c\")\n",
    "atp"
   ]
  },
  {
   "cell_type": "markdown",
   "metadata": {},
   "source": [
    "We can print out the metabolite name and compartment (cytosol in this case) directly as string. "
   ]
  },
  {
   "cell_type": "code",
   "execution_count": 31,
   "metadata": {},
   "outputs": [
    {
     "name": "stdout",
     "output_type": "stream",
     "text": [
      "ATP\n",
      "c\n"
     ]
    }
   ],
   "source": [
    "print(atp.name)\n",
    "print(atp.compartment)"
   ]
  },
  {
   "cell_type": "markdown",
   "metadata": {},
   "source": [
    "We can also determine the charge of ATP within the model"
   ]
  },
  {
   "cell_type": "code",
   "execution_count": 32,
   "metadata": {},
   "outputs": [
    {
     "data": {
      "text/plain": [
       "-4"
      ]
     },
     "execution_count": 32,
     "metadata": {},
     "output_type": "execute_result"
    }
   ],
   "source": [
    "atp.charge"
   ]
  },
  {
   "cell_type": "markdown",
   "metadata": {},
   "source": [
    "Chemical formula of the metabolite can be observed as well. "
   ]
  },
  {
   "cell_type": "code",
   "execution_count": 33,
   "metadata": {},
   "outputs": [
    {
     "name": "stdout",
     "output_type": "stream",
     "text": [
      "C10H12N5O13P3\n"
     ]
    }
   ],
   "source": [
    "print(atp.formula)"
   ]
  },
  {
   "cell_type": "markdown",
   "metadata": {},
   "source": [
    "The reactions attribute gives a frozenset of all reactions using given metabolite. We can use this to count the number of reactions which use ATP."
   ]
  },
  {
   "cell_type": "code",
   "execution_count": 34,
   "metadata": {},
   "outputs": [
    {
     "data": {
      "text/plain": [
       "8"
      ]
     },
     "execution_count": 34,
     "metadata": {},
     "output_type": "execute_result"
    }
   ],
   "source": [
    "len(atp.reactions)"
   ]
  },
  {
   "cell_type": "markdown",
   "metadata": {},
   "source": [
    "A metabolite like G6P will participate in fewer reactions."
   ]
  },
  {
   "cell_type": "code",
   "execution_count": 35,
   "metadata": {},
   "outputs": [
    {
     "data": {
      "text/plain": [
       "frozenset({<MassReaction G6PDH2r at 0x127791ac8>,\n",
       "           <MassReaction HEX1 at 0x127778c88>,\n",
       "           <MassReaction PGI at 0x127778fd0>})"
      ]
     },
     "execution_count": 35,
     "metadata": {},
     "output_type": "execute_result"
    }
   ],
   "source": [
    "model.metabolites.get_by_id(\"g6p_c\").reactions"
   ]
  },
  {
   "cell_type": "markdown",
   "metadata": {},
   "source": [
    "## 1.4 Parameters & Initial Conditions"
   ]
  },
  {
   "cell_type": "markdown",
   "metadata": {},
   "source": [
    "Through using MassPy, one can inspect initial conditions and parameters placed within the model."
   ]
  },
  {
   "cell_type": "code",
   "execution_count": 39,
   "metadata": {
    "scrolled": true
   },
   "outputs": [
    {
     "data": {
      "text/plain": [
       "{<MassMetabolite _13dpg_c at 0x127778358>: 0.0003051,\n",
       " <MassMetabolite _23dpg_c at 0x1277787b8>: 3.89225503,\n",
       " <MassMetabolite _2pg_c at 0x1277783c8>: 0.01426657,\n",
       " <MassMetabolite _3pg_c at 0x127778390>: 0.09747345,\n",
       " <MassMetabolite _6pgc_c at 0x1277784e0>: 0.04877853,\n",
       " <MassMetabolite _6pgl_c at 0x1277784a8>: 0.00176584,\n",
       " <MassMetabolite ade_c at 0x127778630>: 0.00099988,\n",
       " <MassMetabolite adn_c at 0x127778668>: 0.00119991,\n",
       " <MassMetabolite adp_c at 0x1277789e8>: 0.22421214,\n",
       " <MassMetabolite amp_c at 0x1277789b0>: 0.067291,\n",
       " <MassMetabolite atp_c at 0x127778a20>: 1.23266821,\n",
       " <MassMetabolite co2_c at 0x127778be0>: 1.0000021,\n",
       " <MassMetabolite dhap_c at 0x1277782e8>: 0.17280752,\n",
       " <MassMetabolite dhb_c at 0x127778908>: 0.05792551,\n",
       " <MassMetabolite e4p_c at 0x1277785f8>: 0.00516196,\n",
       " <MassMetabolite f6p_c at 0x127778278>: 0.02573503,\n",
       " <MassMetabolite fdp_c at 0x1277782b0>: 0.01727449,\n",
       " <MassMetabolite g3p_c at 0x127778320>: 0.00800928,\n",
       " <MassMetabolite g6p_c at 0x127778240>: 0.06307568,\n",
       " <MassMetabolite glc__D_c at 0x127778208>: 1.29799734,\n",
       " <MassMetabolite gthox_c at 0x127778b00>: 0.11986607,\n",
       " <MassMetabolite gthrd_c at 0x127778ac8>: 3.20026785,\n",
       " <MassMetabolite h2o_c at 0x127778ba8>: 0.99999684,\n",
       " <MassMetabolite h_c at 0x127778b70>: 9.001e-05,\n",
       " <MassMetabolite hb_1o2_c at 0x127778828>: 0.05000439,\n",
       " <MassMetabolite hb_2o2_c at 0x127778860>: 0.07350641,\n",
       " <MassMetabolite hb_3o2_c at 0x127778898>: 0.2624172,\n",
       " <MassMetabolite hb_4o2_c at 0x1277788d0>: 6.79661749,\n",
       " <MassMetabolite hb_c at 0x1277787f0>: 0.059529,\n",
       " <MassMetabolite hxan_c at 0x127778710>: 0.00200097,\n",
       " <MassMetabolite imp_c at 0x1277786a0>: 0.00775885,\n",
       " <MassMetabolite ins_c at 0x1277786d8>: 0.00099924,\n",
       " <MassMetabolite lac__L_c at 0x127778470>: 1.36060101,\n",
       " <MassMetabolite nad_c at 0x127778940>: 0.0588501,\n",
       " <MassMetabolite nadh_c at 0x127778978>: 0.0301499,\n",
       " <MassMetabolite nadp_c at 0x127778a58>: 0.00015414,\n",
       " <MassMetabolite nadph_c at 0x127778a90>: 0.06584586,\n",
       " <MassMetabolite nh3_c at 0x127778c18>: 0.09100221,\n",
       " <MassMetabolite o2_c at 0x127778c50>: 0.0200788,\n",
       " <MassMetabolite pep_c at 0x127778400>: 0.02202451,\n",
       " <MassMetabolite pi_c at 0x127778b38>: 2.5,\n",
       " <MassMetabolite prpp_c at 0x127778780>: 0.00411677,\n",
       " <MassMetabolite pyr_c at 0x127778438>: 0.0603015,\n",
       " <MassMetabolite r1p_c at 0x127778748>: 0.05997013,\n",
       " <MassMetabolite r5p_c at 0x127778588>: 0.01353782,\n",
       " <MassMetabolite ru5p__D_c at 0x127778518>: 0.00527413,\n",
       " <MassMetabolite s7p_c at 0x1277785c0>: 0.02573053,\n",
       " <MassMetabolite xu5p__D_c at 0x127778550>: 0.01579602}"
      ]
     },
     "execution_count": 39,
     "metadata": {},
     "output_type": "execute_result"
    }
   ],
   "source": [
    "model.initial_conditions"
   ]
  },
  {
   "cell_type": "markdown",
   "metadata": {},
   "source": [
    "From the list above, we can inspect one specific initial condition instead of all of them: "
   ]
  },
  {
   "cell_type": "code",
   "execution_count": 47,
   "metadata": {},
   "outputs": [
    {
     "data": {
      "text/plain": [
       "0.0003051"
      ]
     },
     "execution_count": 47,
     "metadata": {},
     "output_type": "execute_result"
    }
   ],
   "source": [
    "model.initial_conditions[model.metabolites._13dpg_c]\n",
    "#can also get initial conditions through met.ic\n",
    "#important to point out diff b/w met.ic and model.ic\n",
    "#Include kf/ KEq"
   ]
  },
  {
   "cell_type": "markdown",
   "metadata": {},
   "source": [
    "A very useful functionality within Python is the ability to determine the list of available classes within each attribute utilizing the directory.\n",
    "\n",
    "<font color='red'>Not necessary</font>"
   ]
  },
  {
   "cell_type": "code",
   "execution_count": 48,
   "metadata": {},
   "outputs": [
    {
     "data": {
      "text/plain": [
       "['__class__',\n",
       " '__contains__',\n",
       " '__delattr__',\n",
       " '__delitem__',\n",
       " '__dir__',\n",
       " '__doc__',\n",
       " '__eq__',\n",
       " '__format__',\n",
       " '__ge__',\n",
       " '__getattribute__',\n",
       " '__getitem__',\n",
       " '__gt__',\n",
       " '__hash__',\n",
       " '__init__',\n",
       " '__init_subclass__',\n",
       " '__iter__',\n",
       " '__le__',\n",
       " '__len__',\n",
       " '__lt__',\n",
       " '__ne__',\n",
       " '__new__',\n",
       " '__reduce__',\n",
       " '__reduce_ex__',\n",
       " '__repr__',\n",
       " '__setattr__',\n",
       " '__setitem__',\n",
       " '__sizeof__',\n",
       " '__str__',\n",
       " '__subclasshook__',\n",
       " 'clear',\n",
       " 'copy',\n",
       " 'fromkeys',\n",
       " 'get',\n",
       " 'items',\n",
       " 'keys',\n",
       " 'pop',\n",
       " 'popitem',\n",
       " 'setdefault',\n",
       " 'update',\n",
       " 'values']"
      ]
     },
     "execution_count": 48,
     "metadata": {},
     "output_type": "execute_result"
    }
   ],
   "source": [
    "dir(model.initial_conditions)"
   ]
  },
  {
   "cell_type": "markdown",
   "metadata": {},
   "source": [
    "With this, you can call out and inspect the each attribute"
   ]
  },
  {
   "cell_type": "code",
   "execution_count": 50,
   "metadata": {},
   "outputs": [
    {
     "data": {
      "text/plain": [
       "dict"
      ]
     },
     "execution_count": 50,
     "metadata": {},
     "output_type": "execute_result"
    }
   ],
   "source": [
    "model.initial_conditions.__class__"
   ]
  },
  {
   "cell_type": "code",
   "execution_count": 53,
   "metadata": {},
   "outputs": [
    {
     "data": {
      "text/plain": [
       "<function dict.__format__(format_spec, /)>"
      ]
     },
     "execution_count": 53,
     "metadata": {},
     "output_type": "execute_result"
    }
   ],
   "source": [
    "model.initial_conditions.__format__"
   ]
  },
  {
   "cell_type": "markdown",
   "metadata": {},
   "source": [
    "These tools are espiecially important in determining how to inspect models; in the next workbook, we will discuss how to create models from the ground up and contextualize the methods to derive the model. \n",
    "\n",
    "\n",
    "<font color='red'>Summary of Main Points</font>"
   ]
  },
  {
   "cell_type": "code",
   "execution_count": null,
   "metadata": {},
   "outputs": [],
   "source": []
  }
 ],
 "metadata": {
  "kernelspec": {
   "display_name": "Python 3",
   "language": "python",
   "name": "python3"
  },
  "language_info": {
   "codemirror_mode": {
    "name": "ipython",
    "version": 3
   },
   "file_extension": ".py",
   "mimetype": "text/x-python",
   "name": "python",
   "nbconvert_exporter": "python",
   "pygments_lexer": "ipython3",
   "version": "3.7.3"
  }
 },
 "nbformat": 4,
 "nbformat_minor": 2
}
