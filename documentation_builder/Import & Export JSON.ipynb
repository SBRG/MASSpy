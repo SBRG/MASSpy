{
 "cells": [
  {
   "cell_type": "markdown",
   "metadata": {},
   "source": [
    "# 4. Importing & Exporting JSON and SBML\n",
    "\n",
    "<font color='red'>\n",
    "\n",
    "* Focus on masspy functionality, no need for any cobra in this section.\n",
    "    \n",
    "* Only focus on JSON for now, SBML can come later.\n",
    "\n",
    "* Show how to access JSON schema\n",
    "\n",
    "* You can use the view_available_models method from 'test' to show what test models can be loaded (example below)\n",
    "* For your understanding, check out https://escher.readthedocs.io/en/stable/escher-python.html for info on how Escher works in Python, don't need to include in this section though\n",
    "\n",
    "* Insert hyperlinks for JSON (https://en.wikipedia.org/wiki/JSON) and escher (https://escher.github.io/#/)\n",
    "</font>\n"
   ]
  },
  {
   "cell_type": "code",
   "execution_count": 5,
   "metadata": {},
   "outputs": [
    {
     "name": "stdout",
     "output_type": "stream",
     "text": [
      "G6PDH2r\n",
      "HEX1\n",
      "PFK\n",
      "PYK\n",
      "amp_salvage_network\n",
      "glycolysis\n",
      "hemoglobin\n",
      "pentose_phosphate_pathway\n",
      "textbook\n"
     ]
    }
   ],
   "source": [
    "from mass.test import view_available_models\n",
    "view_available_models()"
   ]
  },
  {
   "cell_type": "code",
   "execution_count": 20,
   "metadata": {},
   "outputs": [
    {
     "name": "stdout",
     "output_type": "stream",
     "text": [
      "pentose_phosphate_pathway.json, G6PDH2r.json, amp_salvage_network.json, hemoglobin.json, HEX1.json, textbook.json, PYK.json, PFK.json, glycolysis.json\n",
      "\n"
     ]
    }
   ],
   "source": [
    "# Alternatively,\n",
    "import os\n",
    "from mass.test import data_dir\n",
    "print(\", \".join(i for i in os.listdir(data_dir + \"/models/json_models/\") if not i.startswith(\".\")))\n",
    "print(\", \".join(i for i in os.listdir(data_dir + \"/models/sbml_models/\") if not i.startswith(\".\")))"
   ]
  },
  {
   "cell_type": "markdown",
   "metadata": {},
   "source": [
    "Reading and writing using SBML and JSON models can be accoplished within cobrapy and can be integral within masspy. Usually, we use the SBML format for general use but JSON can be more useful in cobrapy-specific functionalities."
   ]
  },
  {
   "cell_type": "code",
   "execution_count": 49,
   "metadata": {
    "scrolled": false
   },
   "outputs": [
    {
     "name": "stdout",
     "output_type": "stream",
     "text": [
      "Help on package mass.io in mass:\n",
      "\n",
      "NAME\n",
      "    mass.io - # -*- coding: utf-8 -*-\n",
      "\n",
      "PACKAGE CONTENTS\n",
      "    dict\n",
      "    json\n",
      "    sbml\n",
      "\n",
      "DATA\n",
      "    absolute_import = _Feature((2, 5, 0, 'alpha', 1), (3, 0, 0, 'alpha', 0...\n",
      "\n",
      "FILE\n",
      "    /Users/parnalsinha/github/masspy/mass/io/__init__.py\n",
      "\n",
      "\n",
      "Help on package mass.test in mass:\n",
      "\n",
      "NAME\n",
      "    mass.test - # -*- coding: utf-8 -*-\n",
      "\n",
      "PACKAGE CONTENTS\n",
      "\n",
      "\n",
      "FUNCTIONS\n",
      "    create_test_model(model_name)\n",
      "        Returns a mass.MassModel for testing\n",
      "        \n",
      "        Parameters\n",
      "        ----------\n",
      "        model_name : str\n",
      "            The path to a mass.MassModel, or one of the following prebuilt models\"\n",
      "            {\"glycolysis\", \"ppp\", \"ampsn\", \"hemoglobin\"}\n",
      "        \n",
      "        Note: The priority will always be to try to load SBML before json\n",
      "            unless otherwise specified or if SBML dependencies not installed.\n",
      "        \n",
      "        Return\n",
      "        ------\n",
      "        model : mass.MassModel\n",
      "            The desired mass.MassModel\n",
      "    \n",
      "    listdir(path=None)\n",
      "        Return a list containing the names of the files in the directory.\n",
      "        \n",
      "        path can be specified as either str, bytes, or a path-like object.  If path is bytes,\n",
      "          the filenames returned will also be bytes; in all other circumstances\n",
      "          the filenames returned will be str.\n",
      "        If path is None, uses the path='.'.\n",
      "        On some platforms, path may also be specified as an open file descriptor;\\\n",
      "          the file descriptor must refer to a directory.\n",
      "          If this functionality is unavailable, using it raises NotImplementedError.\n",
      "        \n",
      "        The list is in arbitrary order.  It does not include the special\n",
      "        entries '.' and '..' even if they are present in the directory.\n",
      "    \n",
      "    test_all(args=None)\n",
      "        alias for running all unit-tests on installed mass\n",
      "    \n",
      "    view_available_models()\n",
      "    \n",
      "    warn(message, category=None, stacklevel=1, source=None)\n",
      "        Issue a warning, or maybe ignore it or raise an exception.\n",
      "\n",
      "DATA\n",
      "    absolute_import = _Feature((2, 5, 0, 'alpha', 1), (3, 0, 0, 'alpha', 0...\n",
      "    data_dir = '/Users/parnalsinha/github/masspy/mass/test/data/'\n",
      "    file_re = re.compile('(\\\\s+|\\\\S+)\\\\.(json|txt*)$')\n",
      "    json_re = re.compile('json')\n",
      "    mass_dir = '/Users/parnalsinha/github/masspy/mass'\n",
      "    mass_loc = '/Users/parnalsinha/github/masspy'\n",
      "    pytest = None\n",
      "    txt_re = re.compile('txt')\n",
      "    xml_re = re.compile('xml')\n",
      "\n",
      "FILE\n",
      "    /Users/parnalsinha/github/masspy/mass/test/__init__.py\n",
      "\n",
      "\n",
      "mini test files: \n",
      "mini_fbc2.xml, mini.json, mini_fbc1.xml, mini_fbc2.xml.gz, mini.yml, mini_cobra.xml, mini.mat, mini_fbc2.xml.bz2, mini.pickle\n"
     ]
    }
   ],
   "source": [
    "from mass import  MassModel, MassMetabolite, MassReaction, Simulation, plot_simulation\n",
    "from mass.test import create_test_model\n",
    "from mass.io import json\n",
    "\n",
    "# from mass.io import sbml  for some reason, sbml is not loading up \n",
    "help(\"mass.io\")\n",
    "help(\"mass.test\")\n",
    "# data_dir = mass.data_dir    data_dir is not working; maybe this attribute is not wrtten in the proper way\n",
    "test = create_test_model(\"textbook\")\n",
    "# mass_data_dir = mass.io.json.json_schema\n",
    "# help(\"os\")\n",
    "\n",
    "\n",
    "import cobra.test\n",
    "import os\n",
    "from os.path import join\n",
    "\n",
    "data_dir = cobra.test.data_dir\n",
    "\n",
    "print(\"mini test files: \")\n",
    "print(\", \".join(i for i in os.listdir(data_dir) if i.startswith(\"mini\")))\n",
    "\n",
    "textbook_model = cobra.test.create_test_model(\"textbook\")\n",
    "ecoli_model = cobra.test.create_test_model(\"ecoli\")\n",
    "salmonella_model = cobra.test.create_test_model(\"salmonella\")\n",
    "\n",
    "#We are using cobrapy for the sbml model, will try to integrate json into the notebook. "
   ]
  },
  {
   "cell_type": "code",
   "execution_count": 50,
   "metadata": {},
   "outputs": [
    {
     "name": "stdout",
     "output_type": "stream",
     "text": [
      "No Python documentation found for 'load_json_model'.\n",
      "Use help() to get the interactive help utility.\n",
      "Use help(str) for help on the str class.\n",
      "\n"
     ]
    }
   ],
   "source": [
    "help(\"load_json_model\")"
   ]
  },
  {
   "cell_type": "markdown",
   "metadata": {},
   "source": [
    "## 3.1 SBML"
   ]
  },
  {
   "cell_type": "markdown",
   "metadata": {},
   "source": [
    "SBML (Systems Biology Markup Language) is an XML based standard format for distributing models supporting COBRA models through the FBC extension version 2. "
   ]
  },
  {
   "cell_type": "markdown",
   "metadata": {},
   "source": [
    "Cobrapy *along with masspy* has native support for reading and writing SBML with FBCv2. Please note that all the id's in the model must conform to the SBML SID requirements in order to generate a valid SBML file."
   ]
  },
  {
   "cell_type": "code",
   "execution_count": 51,
   "metadata": {},
   "outputs": [
    {
     "data": {
      "text/html": [
       "\n",
       "        <table>\n",
       "            <tr>\n",
       "                <td><strong>Name</strong></td>\n",
       "                <td>mini_textbook</td>\n",
       "            </tr><tr>\n",
       "                <td><strong>Memory address</strong></td>\n",
       "                <td>0x0130084fd0</td>\n",
       "            </tr><tr>\n",
       "                <td><strong>Number of metabolites</strong></td>\n",
       "                <td>23</td>\n",
       "            </tr><tr>\n",
       "                <td><strong>Number of reactions</strong></td>\n",
       "                <td>18</td>\n",
       "            </tr><tr>\n",
       "                <td><strong>Objective expression</strong></td>\n",
       "                <td>-1.0*ATPM_reverse_5b752 - 1.0*PFK_reverse_d24a6 + 1.0*PFK + 1.0*ATPM</td>\n",
       "            </tr><tr>\n",
       "                <td><strong>Compartments</strong></td>\n",
       "                <td>cytosol, extracellular</td>\n",
       "            </tr>\n",
       "          </table>"
      ],
      "text/plain": [
       "<Model mini_textbook at 0x130084fd0>"
      ]
     },
     "execution_count": 51,
     "metadata": {},
     "output_type": "execute_result"
    }
   ],
   "source": [
    "cobra.io.read_sbml_model(join(data_dir, \"mini_fbc2.xml\"))"
   ]
  },
  {
   "cell_type": "code",
   "execution_count": 52,
   "metadata": {},
   "outputs": [],
   "source": [
    "cobra.io.write_sbml_model(textbook_model, \"mini_fbc2.xml\")"
   ]
  },
  {
   "cell_type": "markdown",
   "metadata": {},
   "source": [
    "Cobrapy can also use libsbml, which is installed sperately to read and write files; this automatically detects whether FBC was used in the model."
   ]
  },
  {
   "cell_type": "markdown",
   "metadata": {},
   "source": [
    "## 3.2 JSON"
   ]
  },
  {
   "cell_type": "markdown",
   "metadata": {},
   "source": [
    "Furthermore, a JSON model or a (JavaScript Object Notation) representation which integrates interoperability with escher."
   ]
  },
  {
   "cell_type": "code",
   "execution_count": 53,
   "metadata": {},
   "outputs": [
    {
     "data": {
      "text/html": [
       "\n",
       "        <table>\n",
       "            <tr>\n",
       "                <td><strong>Name</strong></td>\n",
       "                <td>mini_textbook</td>\n",
       "            </tr><tr>\n",
       "                <td><strong>Memory address</strong></td>\n",
       "                <td>0x012bb42b38</td>\n",
       "            </tr><tr>\n",
       "                <td><strong>Number of metabolites</strong></td>\n",
       "                <td>23</td>\n",
       "            </tr><tr>\n",
       "                <td><strong>Number of reactions</strong></td>\n",
       "                <td>18</td>\n",
       "            </tr><tr>\n",
       "                <td><strong>Objective expression</strong></td>\n",
       "                <td>-1.0*ATPM_reverse_5b752 - 1.0*PFK_reverse_d24a6 + 1.0*PFK + 1.0*ATPM</td>\n",
       "            </tr><tr>\n",
       "                <td><strong>Compartments</strong></td>\n",
       "                <td>cytosol, extracellular</td>\n",
       "            </tr>\n",
       "          </table>"
      ],
      "text/plain": [
       "<Model mini_textbook at 0x12bb42b38>"
      ]
     },
     "execution_count": 53,
     "metadata": {},
     "output_type": "execute_result"
    }
   ],
   "source": [
    "cobra.io.load_json_model(join(data_dir, \"mini.json\"))"
   ]
  },
  {
   "cell_type": "code",
   "execution_count": 54,
   "metadata": {},
   "outputs": [],
   "source": [
    "cobra.io.save_json_model(textbook_model, \"test.json\")"
   ]
  },
  {
   "cell_type": "markdown",
   "metadata": {},
   "source": [
    "__HOW TO INTEGRATE WITH MASSPY??__"
   ]
  },
  {
   "cell_type": "code",
   "execution_count": null,
   "metadata": {},
   "outputs": [],
   "source": []
  }
 ],
 "metadata": {
  "kernelspec": {
   "display_name": "Python 3",
   "language": "python",
   "name": "python3"
  },
  "language_info": {
   "codemirror_mode": {
    "name": "ipython",
    "version": 3
   },
   "file_extension": ".py",
   "mimetype": "text/x-python",
   "name": "python",
   "nbconvert_exporter": "python",
   "pygments_lexer": "ipython3",
   "version": "3.7.3"
  }
 },
 "nbformat": 4,
 "nbformat_minor": 2
}
