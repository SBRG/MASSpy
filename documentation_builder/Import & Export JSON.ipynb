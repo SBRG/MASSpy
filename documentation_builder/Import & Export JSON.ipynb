{
 "cells": [
  {
   "cell_type": "markdown",
   "metadata": {},
   "source": [
    "# 4. Importing and Exporting JSON \n",
    "\n",
    "<font color='red'>\n",
    "\n",
    "* Focus on masspy functionality, no need for any cobra in this section. \n",
    "    \n",
    "* Only focus on JSON for now, SBML can come later. \n",
    "\n",
    "* Show how to access JSON schema\n",
    "\n",
    "* You can use the view_available_models method from 'test' to show what test models can be loaded (example below)\n",
    "* For your understanding, check out https://escher.readthedocs.io/en/stable/escher-python.html for info on how Escher works in Python, don't need to include in this section though\n",
    "\n",
    "* Insert hyperlinks for JSON (https://en.wikipedia.org/wiki/JSON) and escher (https://escher.github.io/#/)\n",
    "</font>\n"
   ]
  },
  {
   "cell_type": "markdown",
   "metadata": {},
   "source": [
    "Importing an exporting JSON "
   ]
  },
  {
   "cell_type": "code",
   "execution_count": 10,
   "metadata": {
    "scrolled": true
   },
   "outputs": [
    {
     "name": "stdout",
     "output_type": "stream",
     "text": [
      "G6PDH2r\n",
      "HEX1\n",
      "PFK\n",
      "PYK\n",
      "amp_salvage_network\n",
      "glycolysis\n",
      "hemoglobin\n",
      "pentose_phosphate_pathway\n",
      "textbook\n"
     ]
    }
   ],
   "source": [
    "from mass.test import view_available_models\n",
    "view_available_models()"
   ]
  },
  {
   "cell_type": "code",
   "execution_count": 22,
   "metadata": {},
   "outputs": [
    {
     "name": "stdout",
     "output_type": "stream",
     "text": [
      "pentose_phosphate_pathway.json, G6PDH2r.json, amp_salvage_network.json, hemoglobin.json, HEX1.json, textbook.json, PYK.json, PFK.json, glycolysis.json\n"
     ]
    }
   ],
   "source": [
    "# Alternatively,\n",
    "import os\n",
    "from mass.test import data_dir\n",
    "print(\", \".join(i for i in os.listdir(data_dir + \"/models/json_models/\") if not i.startswith(\".\")))\n",
    "# print(\", \".join(i for i in os.listdir(data_dir + \"/models/sbml_models/\") if not i.startswith(\".\")))"
   ]
  },
  {
   "cell_type": "code",
   "execution_count": 35,
   "metadata": {
    "scrolled": false
   },
   "outputs": [
    {
     "ename": "AttributeError",
     "evalue": "'tuple' object has no attribute 'id'",
     "output_type": "error",
     "traceback": [
      "\u001b[0;31m---------------------------------------------------------------------------\u001b[0m",
      "\u001b[0;31mAttributeError\u001b[0m                            Traceback (most recent call last)",
      "\u001b[0;32m<ipython-input-35-11bbf11b6f2f>\u001b[0m in \u001b[0;36m<module>\u001b[0;34m\u001b[0m\n\u001b[1;32m     24\u001b[0m \u001b[0;31m# from mass.io import json\u001b[0m\u001b[0;34m\u001b[0m\u001b[0;34m\u001b[0m\u001b[0;34m\u001b[0m\u001b[0m\n\u001b[1;32m     25\u001b[0m \u001b[0;32mfor\u001b[0m \u001b[0mmodel\u001b[0m \u001b[0;32min\u001b[0m \u001b[0mzip\u001b[0m\u001b[0;34m(\u001b[0m\u001b[0;34m[\u001b[0m\u001b[0mmodel\u001b[0m\u001b[0;34m]\u001b[0m\u001b[0;34m)\u001b[0m\u001b[0;34m:\u001b[0m\u001b[0;34m\u001b[0m\u001b[0;34m\u001b[0m\u001b[0m\n\u001b[0;32m---> 26\u001b[0;31m     \u001b[0mfilepath\u001b[0m \u001b[0;34m=\u001b[0m \u001b[0;34m\"./{0}.json\"\u001b[0m\u001b[0;34m.\u001b[0m\u001b[0mformat\u001b[0m\u001b[0;34m(\u001b[0m\u001b[0mmodel\u001b[0m\u001b[0;34m.\u001b[0m\u001b[0mid\u001b[0m\u001b[0;34m)\u001b[0m\u001b[0;34m\u001b[0m\u001b[0;34m\u001b[0m\u001b[0m\n\u001b[0m\u001b[1;32m     27\u001b[0m     \u001b[0mjson\u001b[0m\u001b[0;34m.\u001b[0m\u001b[0msave_json_model\u001b[0m\u001b[0;34m(\u001b[0m\u001b[0mmodel\u001b[0m\u001b[0;34m,\u001b[0m \u001b[0mfilepath\u001b[0m\u001b[0;34m)\u001b[0m\u001b[0;34m\u001b[0m\u001b[0;34m\u001b[0m\u001b[0m\n\u001b[1;32m     28\u001b[0m     \u001b[0mprint\u001b[0m\u001b[0;34m(\u001b[0m\u001b[0;34m\"Saved {0} Model\"\u001b[0m\u001b[0;34m.\u001b[0m\u001b[0mformat\u001b[0m\u001b[0;34m(\u001b[0m\u001b[0mmodel\u001b[0m\u001b[0;34m.\u001b[0m\u001b[0mid\u001b[0m\u001b[0;34m)\u001b[0m\u001b[0;34m)\u001b[0m\u001b[0;34m\u001b[0m\u001b[0;34m\u001b[0m\u001b[0m\n",
      "\u001b[0;31mAttributeError\u001b[0m: 'tuple' object has no attribute 'id'"
     ]
    }
   ],
   "source": [
    "from mass import  MassModel, MassMetabolite, MassReaction, Simulation, plot_simulation\n",
    "from mass.test import create_test_model\n",
    "from mass.io import json\n",
    "\n",
    "# test = create_test_model(\"textbook\")\n",
    "# test\n",
    "# test.io.load_json_model(join(data_dir, \"glycoloysis.json\"))\n",
    "\n",
    "#Confused as to why test model is not able to run? \n",
    "#Trying normal model\n",
    "\n",
    "#Model Construction\n",
    "model = MassModel('Toy_Model')\n",
    "model.description = 'Example Model used to Describe Simple Irreversible 2 Step Reaction'\n",
    "x1 = MassMetabolite('x1')\n",
    "x2 = MassMetabolite('x2')\n",
    "x3 = MassMetabolite('x3')\n",
    "v1= MassReaction('v1')\n",
    "v2 = MassReaction('v2', reversible= False)\n",
    "v1.add_metabolites({x1 : -1, x2 : 1})\n",
    "v2.add_metabolites({x2 : -1, x3 : 1})\n",
    "model.add_reactions([v1,v2])\n",
    "\n",
    "# from mass.io import json\n",
    "for model in zip([model]):\n",
    "    filepath = \"./{0}.json\".format(model.id)\n",
    "    json.save_json_model(model, filepath)\n",
    "    print(\"Saved {0} Model\".format(model.id))\n",
    "\n",
    "\n",
    "# model.io.load_json_model(join(data_dir, \"glycolysis.json\"))\n",
    "\n",
    "# from mass.io import json\n",
    "\n",
    "# models = []\n",
    "# for model_id, model_type in zip([MY_BASE_MODEL_ID, MY_MODIFIED_MODEL_ID], [\"BASE\", \"MODIFIED\"]):\n",
    "#     filepath = \"./{0}_{1}.json\".format(model_id, model_type)\n",
    "#     models.append(json.load_json_model(filepath))\n",
    "#     print(\"Loaded {0} Model with ID: {1}\".format(model_type, model_id))\n",
    "# BASE_MODEL, MODIFIED_MODEL = models"
   ]
  },
  {
   "cell_type": "markdown",
   "metadata": {},
   "source": [
    "Furthermore, a JSON model or a (JavaScript Object Notation) representation which integrates interoperability with escher."
   ]
  },
  {
   "cell_type": "code",
   "execution_count": 21,
   "metadata": {},
   "outputs": [
    {
     "ename": "AttributeError",
     "evalue": "'MassModel' object has no attribute 'io'",
     "output_type": "error",
     "traceback": [
      "\u001b[0;31m---------------------------------------------------------------------------\u001b[0m",
      "\u001b[0;31mAttributeError\u001b[0m                            Traceback (most recent call last)",
      "\u001b[0;32m<ipython-input-21-706975283405>\u001b[0m in \u001b[0;36m<module>\u001b[0;34m\u001b[0m\n\u001b[0;32m----> 1\u001b[0;31m \u001b[0mtest\u001b[0m\u001b[0;34m.\u001b[0m\u001b[0mio\u001b[0m\u001b[0;34m.\u001b[0m\u001b[0mload_json_model\u001b[0m\u001b[0;34m(\u001b[0m\u001b[0mjoin\u001b[0m\u001b[0;34m(\u001b[0m\u001b[0mdata_dir\u001b[0m\u001b[0;34m,\u001b[0m \u001b[0;34m\"mini.json\"\u001b[0m\u001b[0;34m)\u001b[0m\u001b[0;34m)\u001b[0m\u001b[0;34m\u001b[0m\u001b[0;34m\u001b[0m\u001b[0m\n\u001b[0m",
      "\u001b[0;31mAttributeError\u001b[0m: 'MassModel' object has no attribute 'io'"
     ]
    }
   ],
   "source": [
    "test.io.save_json_model(join(data_dir, \"mini.json\"))"
   ]
  },
  {
   "cell_type": "code",
   "execution_count": null,
   "metadata": {},
   "outputs": [],
   "source": []
  }
 ],
 "metadata": {
  "kernelspec": {
   "display_name": "Python 3",
   "language": "python",
   "name": "python3"
  },
  "language_info": {
   "codemirror_mode": {
    "name": "ipython",
    "version": 3
   },
   "file_extension": ".py",
   "mimetype": "text/x-python",
   "name": "python",
   "nbconvert_exporter": "python",
   "pygments_lexer": "ipython3",
   "version": "3.7.3"
  }
 },
 "nbformat": 4,
 "nbformat_minor": 2
}
