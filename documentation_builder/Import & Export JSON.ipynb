{
 "cells": [
  {
   "cell_type": "markdown",
   "metadata": {},
   "source": [
    "# 4. Importing and Exporting JSON \n",
    "\n",
    "<font color='red'>\n",
    "    \n",
    "* Only focus on JSON for now, SBML can come later. \n",
    "* For your understanding, check out https://escher.readthedocs.io/en/stable/escher-python.html for info on how Escher works in Python, don't need to include in this section though\n",
    "\n",
    "</font>\n"
   ]
  },
  {
   "cell_type": "markdown",
   "metadata": {},
   "source": [
    "Importing and exporting JSON files are very useful when working with MassPy. The format of JSON mimics interoperability with Escher(https://escher.github.io/#/), but JSON is more convinient and is commonly used in MassPy; it will also be of great use to you when importing and exporting large models. "
   ]
  },
  {
   "cell_type": "code",
   "execution_count": 1,
   "metadata": {
    "scrolled": true
   },
   "outputs": [
    {
     "name": "stdout",
     "output_type": "stream",
     "text": [
      "G6PDH2r\n",
      "HEX1\n",
      "PFK\n",
      "PYK\n",
      "amp_salvage_network\n",
      "glycolysis\n",
      "hemoglobin\n",
      "pentose_phosphate_pathway\n",
      "textbook\n"
     ]
    }
   ],
   "source": [
    "from mass.test import view_available_models\n",
    "view_available_models()"
   ]
  },
  {
   "cell_type": "code",
   "execution_count": 2,
   "metadata": {},
   "outputs": [
    {
     "name": "stdout",
     "output_type": "stream",
     "text": [
      "pentose_phosphate_pathway.json, G6PDH2r.json, amp_salvage_network.json, hemoglobin.json, HEX1.json, textbook.json, PYK.json, PFK.json, glycolysis.json\n"
     ]
    }
   ],
   "source": [
    "# Alternatively,\n",
    "import os\n",
    "from mass.test import data_dir\n",
    "print(\", \".join(i for i in os.listdir(data_dir + \"/models/json_models/\") if not i.startswith(\".\")))\n",
    "# print(\", \".join(i for i in os.listdir(data_dir + \"/models/sbml_models/\") if not i.startswith(\".\")))"
   ]
  },
  {
   "cell_type": "code",
   "execution_count": 3,
   "metadata": {
    "scrolled": false
   },
   "outputs": [
    {
     "name": "stdout",
     "output_type": "stream",
     "text": [
      "Saved Toy_Model Model\n"
     ]
    }
   ],
   "source": [
    "from mass import  MassModel, MassMetabolite, MassReaction, Simulation, plot_simulation\n",
    "from mass.test import create_test_model\n",
    "from mass.io import json\n",
    "\n",
    "#Model Construction\n",
    "model = MassModel('Toy_Model')\n",
    "model.description = 'Example Model used to Describe Simple Irreversible 2 Step Reaction'\n",
    "x1 = MassMetabolite('x1')\n",
    "x2 = MassMetabolite('x2')\n",
    "x3 = MassMetabolite('x3')\n",
    "v1= MassReaction('v1')\n",
    "v2 = MassReaction('v2', reversible= False)\n",
    "v1.add_metabolites({x1 : -1, x2 : 1})\n",
    "v2.add_metabolites({x2 : -1, x3 : 1})\n",
    "model.add_reactions([v1,v2])\n",
    "\n",
    "filepath = \"./{0}.json\".format(model.id)\n",
    "json.save_json_model(model, filepath)\n",
    "print(\"Saved {0} Model\".format(model.id))\n",
    "\n",
    "\n",
    "# model.io.load_json_model(join(data_dir, \"glycolysis.json\"))\n",
    "\n",
    "# from mass.io import json\n",
    "\n",
    "# models = []\n"
   ]
  },
  {
   "cell_type": "markdown",
   "metadata": {},
   "source": [
    "We have succesfully saved a toy model as a JSON file(https://en.wikipedia.org/wiki/JSON). This is espieically useful when we want to initialize a model without constructing the model from scratch,  "
   ]
  },
  {
   "cell_type": "code",
   "execution_count": 16,
   "metadata": {},
   "outputs": [
    {
     "data": {
      "text/html": [
       "\n",
       "            <table>\n",
       "                <tr>\n",
       "                    <td><strong>Name</strong></td><td>Toy_Model</td>\n",
       "                </tr><tr>\n",
       "                    <td><strong>Memory address</strong></td><td>0x0127fd7128</td>\n",
       "                </tr><tr>\n",
       "                    <td><strong>Stoichiometric Matrix</strong></td>\n",
       "                    <td>3x2</td>\n",
       "                </tr><tr>\n",
       "                    <td><strong>Matrix Rank</strong></td>\n",
       "                    <td>2</td>\n",
       "                </tr><tr>\n",
       "                    <td><strong>Matrix Type</strong></td>\n",
       "                    <td>dense, float64</td>\n",
       "                </tr><tr>\n",
       "                    <td><strong>Number of Metabolites</strong></td>\n",
       "                    <td>3</td>\n",
       "                </tr><tr>\n",
       "                    <td><strong>Number of Reactions</strong></td>\n",
       "                    <td>2</td>\n",
       "                </tr><tr>\n",
       "                    <td><strong>Number of Initial Conditions</strong></td>\n",
       "                    <td>0</td>\n",
       "                </tr><tr>\n",
       "                    <td><strong>Number of Forward Rate Constants</strong></td>\n",
       "                    <td>0</td>\n",
       "                </tr><tr>\n",
       "                    <td><strong>Number of Equilibrium Constants</strong></td>\n",
       "                    <td>1</td>\n",
       "                </tr><tr>\n",
       "                    <td><strong>Number of Irreversible Reactions</strong></td>\n",
       "                    <td>1</td>\n",
       "                </tr><tr>\n",
       "                    <td><strong>Number of Exchanges</strong></td>\n",
       "                    <td>0</td>\n",
       "                </tr><tr>\n",
       "                    <td><strong>Number of Fixed Concentrations</strong></td>\n",
       "                    <td>0</td>\n",
       "                </tr><tr>\n",
       "                    <td><strong>Number of Custom Rates</strong></td>\n",
       "                    <td>0</td>\n",
       "                </tr><tr>\n",
       "                    <td><strong>Number of Genes</strong></td>\n",
       "                    <td>0</td>\n",
       "                </tr><tr>\n",
       "                    <td><strong>Number of Enzymes</strong></td>\n",
       "                    <td>0</td>\n",
       "                </tr><tr>\n",
       "                    <td><strong>Modules</strong></td>\n",
       "                    <td></br></td>\n",
       "                </tr><tr>\n",
       "                    <td><strong>Compartments</strong></td>\n",
       "                    <td></td>\n",
       "                </tr><tr>\n",
       "                    <td><strong>Units</strong></td>\n",
       "                    <td></td>\n",
       "                </tr>\n",
       "            </table>\n",
       "        "
      ],
      "text/plain": [
       "<MassModel Toy_Model at 0x127fd7128>"
      ]
     },
     "execution_count": 16,
     "metadata": {},
     "output_type": "execute_result"
    }
   ],
   "source": [
    "json.load_json_model(\"Toy_Model.json\")"
   ]
  },
  {
   "cell_type": "markdown",
   "metadata": {},
   "source": [
    "As depicted above, we can easily pull up the system model and this can serve to be very useful down the road when we have robust models with many metabolites, reactions; merging different models can become much easier if we load them up from JSON files. "
   ]
  }
 ],
 "metadata": {
  "kernelspec": {
   "display_name": "Python 3",
   "language": "python",
   "name": "python3"
  },
  "language_info": {
   "codemirror_mode": {
    "name": "ipython",
    "version": 3
   },
   "file_extension": ".py",
   "mimetype": "text/x-python",
   "name": "python",
   "nbconvert_exporter": "python",
   "pygments_lexer": "ipython3",
   "version": "3.7.3"
  }
 },
 "nbformat": 4,
 "nbformat_minor": 2
}
