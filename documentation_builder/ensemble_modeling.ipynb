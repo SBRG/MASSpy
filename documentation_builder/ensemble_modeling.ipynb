{
 "cells": [
  {
   "cell_type": "markdown",
   "metadata": {},
   "source": [
    "# Ensemble Modeling\n",
    "This notebook will demonstrate how **MASSpy** can be used to generate an ensemble of models. "
   ]
  },
  {
   "cell_type": "code",
   "execution_count": 1,
   "metadata": {},
   "outputs": [
    {
     "name": "stdout",
     "output_type": "stream",
     "text": [
      "Academic license - for non-commercial use only\n"
     ]
    }
   ],
   "source": [
    "# Disable logging output for this notebook.\n",
    "try:\n",
    "    import gurobipy\n",
    "    gurobipy.setParam(\"OutputFlag\", 0)\n",
    "except ImportError:\n",
    "    pass\n",
    "\n",
    "import logging\n",
    "logging.getLogger(\"\").setLevel(\"CRITICAL\")\n",
    "\n",
    "# Configure roadrunner to allow for more output rows\n",
    "import roadrunner\n",
    "roadrunner.Config.setValue(\n",
    "    roadrunner.Config.MAX_OUTPUT_ROWS, 1e6)\n",
    "\n",
    "from cobra.sampling import sample\n",
    "\n",
    "import mass.test\n",
    "\n",
    "from mass.thermo import (\n",
    "    ConcSolver, sample_concentrations)\n",
    "\n",
    "from mass.thermo.ensemble import (\n",
    "    Ensemble, generate_ensemble)\n",
    "\n",
    "# Load the model\n",
    "reference_model = mass.test.create_test_model(\"textbook\", io=\"json\")"
   ]
  },
  {
   "cell_type": "markdown",
   "metadata": {},
   "source": [
    "## Generating Data for Ensembles\n",
    "\n",
    "In addition to loading external sources of data for use (e.g. loading excel sheets), sampling can be used to get valid data for the generation of ensembles. As an example, a small set of samples will be generated for use in this notebook."
   ]
  },
  {
   "cell_type": "markdown",
   "metadata": {},
   "source": [
    "Utilizing [**COBRApy** flux sampling](https://cobrapy.readthedocs.io/en/latest/sampling.html#), the following flux samples will be used in generating the ensemble of models. All steady state flux values will be allowed to deviate by up to 25% of their defined baseline values."
   ]
  },
  {
   "cell_type": "code",
   "execution_count": 2,
   "metadata": {},
   "outputs": [],
   "source": [
    "for reaction in reference_model.reactions:\n",
    "    flux = reaction.steady_state_flux\n",
    "    reaction.bounds = sorted([\n",
    "        round(flux * 0.75, 12), round(flux * 1.25, 12)])\n",
    "    \n",
    "flux_samples = sample(reference_model, n=5, seed=100)"
   ]
  },
  {
   "cell_type": "markdown",
   "metadata": {},
   "source": [
    "Utilizing [**MASSpy** concentration sampling](./thermo_concentrations.ipynb#Concentration-Sampling), the following concentration samples will be used in generating the ensemble of models. All concentration values will be allowed to deviate by up to 75% of their defined baseline values."
   ]
  },
  {
   "cell_type": "code",
   "execution_count": 3,
   "metadata": {},
   "outputs": [],
   "source": [
    "conc_solver = ConcSolver(\n",
    "    reference_model,\n",
    "    excluded_metabolites=[\"h_c\", \"h2o_c\"],\n",
    "    equilibrium_reactions=[\"HBDPG\", \"HBO1\", \"HBO2\", \"HBO3\", \"HBO4\", \"ADK1\"],\n",
    "    constraint_buffer=1e-7)\n",
    "\n",
    "conc_solver.setup_sampling_problem(\n",
    "    conc_percent_deviation=0.75,\n",
    "    Keq_percent_deviation=0)\n",
    "\n",
    "conc_samples = sample_concentrations(conc_solver, n=4,\n",
    "                                     seed=100)"
   ]
  },
  {
   "cell_type": "markdown",
   "metadata": {},
   "source": [
    "Because there are 5 flux data sets and 4 concentration data sets being passed to the function, there will be $5 * 4 = 20$ models generated in total."
   ]
  },
  {
   "cell_type": "markdown",
   "metadata": {},
   "source": [
    "## The Ensemble Object\n",
    "\n",
    "The `Ensemble` object inherits from the `Simulation` object described in [Dynamic Simulation](./dynamic_simulation.ipynb). Just like the `Simulation` object, the `Ensemble` object requires a reference `MassModel` to be initialized."
   ]
  },
  {
   "cell_type": "code",
   "execution_count": 4,
   "metadata": {},
   "outputs": [
    {
     "name": "stdout",
     "output_type": "stream",
     "text": [
      "Successfully loaded MassModel 'RBC_PFK' into RoadRunner.\n"
     ]
    }
   ],
   "source": [
    "ensemble = Ensemble(reference_model=reference_model, verbose=True)"
   ]
  },
  {
   "cell_type": "markdown",
   "metadata": {},
   "source": [
    "The `Ensemble` object has two methods for creating models from `pandas.DataFrame` objects.\n",
    "\n",
    "* The `create_models_from_flux_data` method creates an ensemble of models from a `DataFrame` containing flux data, where rows correspond to samples and columns correspond to reaction identifiers.\n",
    "* The `create_models_from_concentration_data` method creates an ensemble of models from a `DataFrame` containing concentration data, where rows correspond to samples and columns correspond to metabolite identifiers.\n",
    "\n",
    "The methods can be used seperately or together to generate models. In this example, an ensemble of 20 models will be generated by utilizing both modle generation methods. \n",
    "\n",
    "First, the 5 flux samples will be used to generate 5 models with varying flux states from a single reference `MassModel`."
   ]
  },
  {
   "cell_type": "code",
   "execution_count": 5,
   "metadata": {},
   "outputs": [
    {
     "data": {
      "text/plain": [
       "[<MassModel RBC_PFK_F0 at 0x12d8e6e90>,\n",
       " <MassModel RBC_PFK_F1 at 0x11a0dda10>,\n",
       " <MassModel RBC_PFK_F2 at 0x125689f50>,\n",
       " <MassModel RBC_PFK_F3 at 0x12589a210>,\n",
       " <MassModel RBC_PFK_F4 at 0x125a8cf10>]"
      ]
     },
     "execution_count": 5,
     "metadata": {},
     "output_type": "execute_result"
    }
   ],
   "source": [
    "flux_models = ensemble.create_models_from_flux_data(\n",
    "    models=reference_model, data=flux_samples)\n",
    "flux_models"
   ]
  },
  {
   "cell_type": "markdown",
   "metadata": {},
   "source": [
    "Treating each of the 5 models with varying flux states as a reference model, the `list` of models can be passed to the `create_models_from_concentration_data` along with the 4 concentration samples to create 4 models with varying concentration states per flux state, giving a total of 20 models generated."
   ]
  },
  {
   "cell_type": "code",
   "execution_count": 6,
   "metadata": {},
   "outputs": [
    {
     "data": {
      "text/plain": [
       "[<MassModel RBC_PFK_F0_C0 at 0x12ddcdf10>,\n",
       " <MassModel RBC_PFK_F0_C1 at 0x12ddcda10>,\n",
       " <MassModel RBC_PFK_F0_C2 at 0x12dd6c0d0>,\n",
       " <MassModel RBC_PFK_F0_C3 at 0x12e19dd90>,\n",
       " <MassModel RBC_PFK_F1_C0 at 0x12e3a9cd0>,\n",
       " <MassModel RBC_PFK_F1_C1 at 0x12e5c0e50>,\n",
       " <MassModel RBC_PFK_F1_C2 at 0x12e7d3fd0>,\n",
       " <MassModel RBC_PFK_F1_C3 at 0x12e9c7c10>,\n",
       " <MassModel RBC_PFK_F2_C0 at 0x12ebfbb90>,\n",
       " <MassModel RBC_PFK_F2_C1 at 0x12e7aca90>,\n",
       " <MassModel RBC_PFK_F2_C2 at 0x12e1786d0>,\n",
       " <MassModel RBC_PFK_F2_C3 at 0x12f221c90>,\n",
       " <MassModel RBC_PFK_F3_C0 at 0x12effcb50>,\n",
       " <MassModel RBC_PFK_F3_C1 at 0x12f658b90>,\n",
       " <MassModel RBC_PFK_F3_C2 at 0x12f863990>,\n",
       " <MassModel RBC_PFK_F3_C3 at 0x12fb18a90>,\n",
       " <MassModel RBC_PFK_F4_C0 at 0x12f631ad0>,\n",
       " <MassModel RBC_PFK_F4_C1 at 0x12fd13e50>,\n",
       " <MassModel RBC_PFK_F4_C2 at 0x1300b0e10>,\n",
       " <MassModel RBC_PFK_F4_C3 at 0x1302d3e10>]"
      ]
     },
     "execution_count": 6,
     "metadata": {},
     "output_type": "execute_result"
    }
   ],
   "source": [
    "conc_models = ensemble.create_models_from_concentration_data(\n",
    "    models=flux_models, data=conc_samples)\n",
    "conc_models"
   ]
  },
  {
   "cell_type": "markdown",
   "metadata": {},
   "source": [
    "Generating the models does not always ensure that the models will be thermodynamically feasible. The `ensure_positive_percs` method can be used ensure all reactions passed to the `reactions` argument produce positive PERCs for each provided model. Those that produce all positive PERCs are seperated from those that produce at least one negative PERC, and the two lists are returned.\n",
    "\n",
    "If the `update_values` argument is set to `True`, model PERC values will be updated for models that produce all positive PERCs."
   ]
  },
  {
   "cell_type": "code",
   "execution_count": 7,
   "metadata": {},
   "outputs": [
    {
     "name": "stdout",
     "output_type": "stream",
     "text": [
      "Models with positive PERCs: 20\n",
      "Models with negative PERCs: 0\n"
     ]
    }
   ],
   "source": [
    "reactions_to_check_percs = [\n",
    "    r.id for r in reference_model.reactions\n",
    "    if r not in reference_model.boundary\n",
    "    and r not in reference_model.enzyme_modules.PFK.enzyme_module_reactions]\n",
    "\n",
    "positive, negative = ensemble.ensure_positive_percs(\n",
    "    models=conc_models, reactions=reactions_to_check_percs, \n",
    "    update_values=True)\n",
    "\n",
    "print(\"Models with positive PERCs: {0}\".format(len(positive)))\n",
    "print(\"Models with negative PERCs: {0}\".format(len(negative)))"
   ]
  },
  {
   "cell_type": "markdown",
   "metadata": {},
   "source": [
    "To ensure that all generated models can reach a steady state, the `ensure_steady_state` method can be used. If the `update_values` argument is set to `True`, models that can reach a steady state  values will be updated with the steady state values."
   ]
  },
  {
   "cell_type": "code",
   "execution_count": 8,
   "metadata": {
    "scrolled": true
   },
   "outputs": [
    {
     "name": "stderr",
     "output_type": "stream",
     "text": [
      "mass/core/simulation.py:842 \u001b[1;31mUserWarning\u001b[0m: Unable to find a steady state for one or more models. Check the log for more details.\n"
     ]
    },
    {
     "name": "stdout",
     "output_type": "stream",
     "text": [
      "Reached steady state: 15\n",
      "No steady state reached: 5\n"
     ]
    }
   ],
   "source": [
    "feasible, infeasible = ensemble.ensure_steady_state(\n",
    "    models=conc_models, strategy=\"simulate\",\n",
    "    update_values=True)\n",
    "\n",
    "print(\"Reached steady state: {0}\".format(len(feasible)))\n",
    "print(\"No steady state reached: {0}\".format(len(infeasible)))"
   ]
  },
  {
   "cell_type": "markdown",
   "metadata": {},
   "source": [
    "Models that did not reach a steady state can be removed using the \n",
    "`remove_models` method."
   ]
  },
  {
   "cell_type": "code",
   "execution_count": 9,
   "metadata": {},
   "outputs": [
    {
     "name": "stdout",
     "output_type": "stream",
     "text": [
      "Generated models remaining: 15\n"
     ]
    }
   ],
   "source": [
    "ensemble.remove_models(infeasible)\n",
    "print(\"Generated models remaining: {0}\".format(\n",
    "    len(ensemble.models) - 1))  # Subtract one to account for the reference"
   ]
  },
  {
   "cell_type": "markdown",
   "metadata": {},
   "source": [
    "The `perturbations` argument of the `ensure_steady_state` method can be used to ensure that models can reach a steady state with a given perturbation. "
   ]
  },
  {
   "cell_type": "code",
   "execution_count": 10,
   "metadata": {},
   "outputs": [
    {
     "name": "stderr",
     "output_type": "stream",
     "text": [
      "mass/core/simulation.py:842 \u001b[1;31mUserWarning\u001b[0m: Unable to find a steady state for one or more models. Check the log for more details.\n"
     ]
    },
    {
     "name": "stdout",
     "output_type": "stream",
     "text": [
      "Reached steady state: 12\n",
      "No steady state reached: 8\n"
     ]
    }
   ],
   "source": [
    "feasible, infeasible = ensemble.ensure_steady_state(\n",
    "    models=conc_models, strategy=\"simulate\",\n",
    "    perturbations={\"kf_ATPM\": \"kf_ATPM * 1.5\"},\n",
    "    update_values=False)\n",
    "\n",
    "print(\"Reached steady state: {0}\".format(len(feasible)))\n",
    "print(\"No steady state reached: {0}\".format(len(infeasible)))"
   ]
  },
  {
   "cell_type": "markdown",
   "metadata": {},
   "source": [
    "After removing any additional infeasible models, all of the models that remain in the ensemble are thermodynamically feasible and were able to reach a steady state, even with the given disturbance."
   ]
  },
  {
   "cell_type": "code",
   "execution_count": 11,
   "metadata": {},
   "outputs": [
    {
     "name": "stdout",
     "output_type": "stream",
     "text": [
      "Generated models remaining: 12\n",
      "Number of simulation solutions produced: 12\n"
     ]
    }
   ],
   "source": [
    "ensemble.remove_models(infeasible)\n",
    "print(\"Generated models remaining: {0}\".format(\n",
    "    len(ensemble.models) - 1))  # Subtract one to account for the reference\n",
    "\n",
    "conc_sol_list, flux_sol_list = ensemble.simulate(\n",
    "    feasible, time=(0, 1000, 1e4 + 1),\n",
    "    perturbations={\"kf_ATPM\": \"kf_ATPM * 1.5\"})\n",
    "\n",
    "print(\"Number of simulation solutions produced: {0}\".format(len(conc_sol_list)))"
   ]
  },
  {
   "cell_type": "markdown",
   "metadata": {},
   "source": [
    "## Automated Ensemble Creation\n",
    "\n",
    "Perhaps the easiest way of generating an ensemble of models is to utilize the `generate_ensemble` function. The `generate_ensemble` method has been built for performance and therefore, provides less control over the ensemble generation process and has an setup time associated with it. However, for the generation of large ensembles, this may be a more desirable method.\n",
    "\n",
    "This function utilizes a single `MassModel` as a reference model, and then utilizes data provided as a `pandas.DataFrame` for the `flux_data` and `conc_data` arguments. \n",
    "\n",
    "* For `flux_data`, the columns are the reaction identifiers where each value represents the steady state flux of the reaction for the data set given by each row.\n",
    "* For `conc_data`, the columns are the metabolite identifiers where each value represents the concentration/initial condition of the metabolite for the data set given by each row.\n",
    "\n",
    "At least one of the above arguments must be passed to the function. After generating models, an `Ensemble` object containing the models is returned."
   ]
  },
  {
   "cell_type": "code",
   "execution_count": 12,
   "metadata": {},
   "outputs": [
    {
     "name": "stdout",
     "output_type": "stream",
     "text": [
      "Total models generated: 20\n"
     ]
    }
   ],
   "source": [
    "ensemble = generate_ensemble(\n",
    "    reference_model=reference_model, \n",
    "    flux_data=flux_samples,\n",
    "    conc_data=conc_samples)"
   ]
  },
  {
   "cell_type": "markdown",
   "metadata": {},
   "source": [
    "To ensure that the PERCs for certain reactions are positive, a `list` of reactions to check can be passed to the `ensure_positive_percs` argument. "
   ]
  },
  {
   "cell_type": "code",
   "execution_count": 13,
   "metadata": {},
   "outputs": [
    {
     "name": "stdout",
     "output_type": "stream",
     "text": [
      "Total models generated: 20\n",
      "Feasible: 20\n",
      "Infeasible, negative PERCs: 0\n"
     ]
    }
   ],
   "source": [
    "reactions_to_check_percs = [\n",
    "    r.id for r in reference_model.reactions\n",
    "    if r not in reference_model.boundary\n",
    "    and r not in reference_model.enzyme_modules.PFK.enzyme_module_reactions]\n",
    "\n",
    "ensemble = generate_ensemble(\n",
    "    reference_model=reference_model, \n",
    "    flux_data=flux_samples,\n",
    "    conc_data=conc_samples,\n",
    "    ensure_positive_percs=reactions_to_check_percs)"
   ]
  },
  {
   "cell_type": "markdown",
   "metadata": {},
   "source": [
    "To ensure that all models can reach a steady state with their new values, a strategy for finding the steady state can be passed to the `steady_state_strategy` argument. "
   ]
  },
  {
   "cell_type": "code",
   "execution_count": 14,
   "metadata": {},
   "outputs": [
    {
     "name": "stdout",
     "output_type": "stream",
     "text": [
      "Total models generated: 20\n",
      "Feasible: 15\n",
      "Infeasible, negative PERCs: 0\n",
      "Infeasible, no steady state found: 5\n"
     ]
    }
   ],
   "source": [
    "ensemble = generate_ensemble(\n",
    "    reference_model=reference_model, \n",
    "    flux_data=flux_samples,\n",
    "    conc_data=conc_samples,\n",
    "    ensure_positive_percs=reactions_to_check_percs,\n",
    "    steady_state_strategy=\"simulate\")"
   ]
  },
  {
   "cell_type": "markdown",
   "metadata": {},
   "source": [
    "To ensure that all models can reach a steady state with their new values after a given perturbation, in addition to passing a value to the `steady_state_strategy` argument, one or more perturbations can be given to the `perturbations` argument. The `perturbations` argument will take a `list` of `dict` objects containing the perturbations as described in [Dynamic Simulation](./dynamic_simulation.ipynb). "
   ]
  },
  {
   "cell_type": "code",
   "execution_count": 15,
   "metadata": {},
   "outputs": [
    {
     "name": "stdout",
     "output_type": "stream",
     "text": [
      "Total models generated: 20\n",
      "Feasible: 12\n",
      "Infeasible, negative PERCs: 0\n",
      "Infeasible, no steady state found: 5\n",
      "Infeasible, no steady state with pertubration 1: 3\n",
      "Infeasible, no steady state with pertubration 2: 0\n"
     ]
    }
   ],
   "source": [
    "ensemble = generate_ensemble(\n",
    "    reference_model=reference_model, \n",
    "    flux_data=flux_samples,\n",
    "    conc_data=conc_samples,\n",
    "    ensure_positive_percs=reactions_to_check_percs,\n",
    "    steady_state_strategy=\"simulate\",\n",
    "    perturbations=[\n",
    "        {\"kf_ATPM\": \"kf_ATPM * 1.5\"},\n",
    "        {\"kf_ATPM\": \"kf_ATPM * 0.85\"}]\n",
    ")"
   ]
  },
  {
   "cell_type": "markdown",
   "metadata": {},
   "source": [
    "Note that perturbations are not applied all at once; each `dict` provided corresponds to a new attempt to find a steady state. For example, two dictionaries passed to the `perturbations` argument indicate that 3 steady state determinations will be performed, once for the model without any pertubrations and once for each `dict` passed.\n",
    "\n",
    "If it is desirable to return the models that were not `infeasible`, the `return_infeasible` kwarg can be set to `True` to generate and return a second `Ensemble` object containing only infeasible model."
   ]
  },
  {
   "cell_type": "code",
   "execution_count": 16,
   "metadata": {},
   "outputs": [
    {
     "name": "stdout",
     "output_type": "stream",
     "text": [
      "Total models generated: 20\n",
      "Feasible: 12\n",
      "Infeasible, negative PERCs: 0\n",
      "Infeasible, no steady state found: 5\n",
      "Infeasible, no steady state with pertubration 1: 3\n",
      "Infeasible, no steady state with pertubration 2: 0\n",
      "RBC_PFK_Ensemble_Feasible contains 12 generated models\n",
      "RBC_PFK_Ensemble_Infeasible contains 8 generated models\n"
     ]
    }
   ],
   "source": [
    "feasible, infeasible = generate_ensemble(\n",
    "    reference_model=reference_model, \n",
    "    flux_data=flux_samples,\n",
    "    conc_data=conc_samples,\n",
    "    ensure_positive_percs=reactions_to_check_percs,\n",
    "    steady_state_strategy=\"simulate\",\n",
    "    perturbations=[\n",
    "        {\"kf_ATPM\": \"kf_ATPM * 1.5\"},\n",
    "        {\"kf_ATPM\": \"kf_ATPM * 0.85\"}],\n",
    "    return_infeasible=True)\n",
    "\n",
    "for ensemble in [feasible, infeasible]:\n",
    "    print(\"{0} contains {1} generated models\".format(\n",
    "        ensemble.id, len(ensemble.models) - 1)) # Subtract one to account for the reference"
   ]
  },
  {
   "cell_type": "markdown",
   "metadata": {},
   "source": [
    "In general, it is recommended to utilize the methods in the `Ensemble` object to generate small ensembles while experimenting with various settings, and then to utilize the `generate_ensemble` function to generate the larger ensemble."
   ]
  }
 ],
 "metadata": {
  "kernelspec": {
   "display_name": "Python 3",
   "language": "python",
   "name": "python3"
  },
  "language_info": {
   "codemirror_mode": {
    "name": "ipython",
    "version": 3
   },
   "file_extension": ".py",
   "mimetype": "text/x-python",
   "name": "python",
   "nbconvert_exporter": "python",
   "pygments_lexer": "ipython3",
   "version": "3.7.4"
  }
 },
 "nbformat": 4,
 "nbformat_minor": 2
}
