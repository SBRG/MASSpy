{
 "cells": [
  {
   "cell_type": "markdown",
   "metadata": {},
   "source": [
    "# Network Visualization\n",
    "\n",
    "This notebook example will demonstrate how to view **MASSpy** models on network maps using [Escher](https://escher.github.io/#/) visualization tool <cite data-cite=\"KDE+15\">(King et al., 2015)</cite>\n",
    "\n",
    "Escher must already be installed into the environment.\n",
    "\n",
    "## Viewing Model Data with Escher\n",
    "\n",
    "The **MASSpy** package also comes with some maps for testing purposes."
   ]
  },
  {
   "cell_type": "code",
   "execution_count": null,
   "metadata": {},
   "outputs": [],
   "source": [
    "# Disable gurobi logging output for this notebook.\n",
    "try:\n",
    "    import gurobipy\n",
    "    gurobipy.setParam(\"OutputFlag\", 0)\n",
    "except ImportError:\n",
    "    pass\n",
    "\n",
    "from os.path import join\n",
    "\n",
    "import numpy as np\n",
    "\n",
    "import mass.test\n",
    "\n",
    "maps_dir = mass.test.MAPS_DIR\n",
    "\n",
    "# To view available maps\n",
    "print(\"\\n\".join(name for name in mass.test.view_test_maps()))\n",
    "\n",
    "# Load the glycolysis and hemoglobin models, then merge them\n",
    "glycolysis = mass.test.create_test_model(\"Glycolysis\")\n",
    "hemoglobin = mass.test.create_test_model(\"Hemoglobin\")\n",
    "model = glycolysis.merge(hemoglobin, inplace=False)\n",
    "\n",
    "# Set the path to the map file\n",
    "map_filepath = join(maps_dir, \"glycolysis_hemoglobin_map.json\")"
   ]
  },
  {
   "cell_type": "markdown",
   "metadata": {},
   "source": [
    "The primary object for viewing Escher maps is the `escher.Builder`, a Jupyter widget that can be viewed in a Jupyter notebook. "
   ]
  },
  {
   "cell_type": "code",
   "execution_count": null,
   "metadata": {},
   "outputs": [],
   "source": [
    "from escher import Builder"
   ]
  },
  {
   "cell_type": "markdown",
   "metadata": {},
   "source": [
    "To load an existing map, the path to the JSON file of the Escher map is passed to the `map_json` argument of the  `Builder`. The `MassModel` can be loaded using the `model` argument."
   ]
  },
  {
   "cell_type": "code",
   "execution_count": null,
   "metadata": {},
   "outputs": [],
   "source": [
    "escher_builder = Builder(\n",
    "    model=model,\n",
    "    map_json=map_filepath)\n",
    "escher_builder"
   ]
  },
  {
   "cell_type": "markdown",
   "metadata": {},
   "source": [
    "### Reaction Data\n",
    "\n",
    "Reaction data can be displayed on the Escher map by using a dictionary containing reaction identifiers and the values to be mapped to  corresponding reaction arrows and labels. The `dict` can be passed to the `reaction_data` argument upon initialization of the builder.\n",
    "\n",
    "For example, to display the steady state fluxes on the map:"
   ]
  },
  {
   "cell_type": "code",
   "execution_count": null,
   "metadata": {},
   "outputs": [],
   "source": [
    "initial_flux_data = {\n",
    "    reaction.id: flux\n",
    "    for reaction, flux in model.steady_state_fluxes.items()}\n",
    "\n",
    "# New instance to prevent modifications to the existing maps\n",
    "escher_builder = Builder(\n",
    "    model=model,\n",
    "    map_json=map_filepath,\n",
    "    reaction_data=initial_flux_data)\n",
    "\n",
    "# Display map in notebook\n",
    "escher_builder"
   ]
  },
  {
   "cell_type": "markdown",
   "metadata": {},
   "source": [
    "The color and size of the data scale can be altered by passing a tuple of at least two dictionaries. Each dictionary is considered a \"stop\" that defines the color and size at or near that particular value in the data set. The `type` key defines the type for the stop, the `color` key defines the color of the arrow, and `size` defines the thickness of the arrow."
   ]
  },
  {
   "cell_type": "code",
   "execution_count": null,
   "metadata": {},
   "outputs": [],
   "source": [
    "# New instance to prevent modifications to the existing maps\n",
    "escher_builder = Builder(\n",
    "    model=model,\n",
    "    map_json=map_filepath,\n",
    "    reaction_data=initial_flux_data,\n",
    "    reaction_scale=(\n",
    "        {\"type\": 'min', \"color\": 'green', \"size\": 5 },\n",
    "        {\"type\": 'value', \"value\": 1.12, \"color\": 'purple', \"size\": 10},\n",
    "        {\"type\": 'max', \"color\": 'blue', \"size\": 15 }),\n",
    ")\n",
    "\n",
    "escher_builder"
   ]
  },
  {
   "cell_type": "markdown",
   "metadata": {},
   "source": [
    "### Metabolite Data\n",
    "\n",
    "Metabolite data can also be displayed on the Escher map by using a dictionary containing metabolite identifiers and the values to be mapped to corresponding metabolite nodes and labels. In addition to setting the attributes to apply for the map upon initializing the builder, they can also be set for a map after initialization\n",
    "\n",
    "For example, to display the metabolite concentrations on the map:"
   ]
  },
  {
   "cell_type": "code",
   "execution_count": null,
   "metadata": {},
   "outputs": [],
   "source": [
    "initial_conc_data = {\n",
    "    metabolite.id: round(conc, 8)\n",
    "    for metabolite, conc in model.initial_conditions.items()}\n",
    "\n",
    "# New instance to prevent modifications to the existing maps\n",
    "escher_builder = Builder(\n",
    "    model=model,\n",
    "    map_json=map_filepath, \n",
    "    metabolite_data=initial_conc_data)\n",
    "\n",
    "escher_builder"
   ]
  },
  {
   "cell_type": "markdown",
   "metadata": {},
   "source": [
    "The secondary metabolites can be removed by setting `hide_secondary_metabolites` as `True` to provide a cleaner visualization of the primary metabolites in the network."
   ]
  },
  {
   "cell_type": "code",
   "execution_count": null,
   "metadata": {},
   "outputs": [],
   "source": [
    "escher_builder.hide_secondary_metabolites = True"
   ]
  },
  {
   "cell_type": "markdown",
   "metadata": {},
   "source": [
    "Note that made will affect the already displayed map. Here, a preset scale will be applied to the metabolite concentrations."
   ]
  },
  {
   "cell_type": "code",
   "execution_count": null,
   "metadata": {},
   "outputs": [],
   "source": [
    "escher_builder.metabolite_scale_preset = \"RdYlBu\""
   ]
  },
  {
   "cell_type": "markdown",
   "metadata": {},
   "source": [
    "## Animating Simulation Results with Escher\n",
    "\n",
    "Simulation results can also be displayed on an escher map. Using the reactive options of Escher, the results of a simulation can be animated. Here is an example of the simulation results with an oscillating oxygen uptake rate."
   ]
  },
  {
   "cell_type": "code",
   "execution_count": null,
   "metadata": {},
   "outputs": [],
   "source": [
    "from time import sleep\n",
    "\n",
    "from mass import MassConfiguration, Simulation"
   ]
  },
  {
   "cell_type": "markdown",
   "metadata": {},
   "source": [
    "The simulation is performed and results are obtained:"
   ]
  },
  {
   "cell_type": "code",
   "execution_count": null,
   "metadata": {},
   "outputs": [],
   "source": [
    "mc = MassConfiguration()\n",
    "mc.decimal_precision=8"
   ]
  },
  {
   "cell_type": "code",
   "execution_count": null,
   "metadata": {},
   "outputs": [],
   "source": [
    "sim = Simulation(model, verbose=True, variable_step_size=True)\n",
    "\n",
    "tstart = 0\n",
    "tfinal = 20\n",
    "numpoints = 1000\n",
    "\n",
    "conc_sol, flux_sol = sim.simulate(\n",
    "    model, time=(tstart, tfinal, numpoints),\n",
    "    perturbations={\"o2_b\": \"(70 + 30*sin(120*pi*t))*2.8684*1e-4\"},\n",
    "    interpolate=False, decimal_precision=True)"
   ]
  },
  {
   "cell_type": "markdown",
   "metadata": {},
   "source": [
    "The Escher map is loaded and displayed:"
   ]
  },
  {
   "cell_type": "code",
   "execution_count": null,
   "metadata": {
    "scrolled": false
   },
   "outputs": [],
   "source": [
    "escher_builder = Builder(\n",
    "    model=model,\n",
    "    map_json=map_filepath,\n",
    "    reaction_scale=(\n",
    "        {\"type\": \"min\", \"color\": \"rgb(255, 0, 0)\", \"size\": 12},\n",
    "        {\"type\": \"value\", \"value\": 0, \"color\": \"rgb(170, 0, 85)\", \"size\": 16},\n",
    "        {\"type\": \"value\", \"value\": 2.24, \"color\": \"rgb(127, 0, 170)\", \"size\": 20},\n",
    "        {\"type\": \"max\", \"color\": \"rgb(0, 0, 255)\", \"size\": 24}\n",
    "    ),\n",
    "    hide_secondary_metabolites=True)\n",
    "escher_builder"
   ]
  },
  {
   "cell_type": "markdown",
   "metadata": {},
   "source": [
    "The simulation results are looped through and as the loop runs, the Escher map will change to reflect the state of the simulation at that particular point in time."
   ]
  },
  {
   "cell_type": "code",
   "execution_count": null,
   "metadata": {},
   "outputs": [],
   "source": [
    "for i in range(int(numpoints)):\n",
    "    escher_builder.metabolite_data = {\n",
    "        met: conc[i] for met, conc in conc_sol.items()}\n",
    "    escher_builder.reaction_data = {\n",
    "        rxn: flux[i] for rxn, flux in flux_sol.items()}\n",
    "    sleep(0.05)"
   ]
  }
 ],
 "metadata": {
  "kernelspec": {
   "display_name": "Python 3",
   "language": "python",
   "name": "python3"
  },
  "language_info": {
   "codemirror_mode": {
    "name": "ipython",
    "version": 3
   },
   "file_extension": ".py",
   "mimetype": "text/x-python",
   "name": "python",
   "nbconvert_exporter": "python",
   "pygments_lexer": "ipython3",
   "version": "3.7.4"
  },
  "nbsphinx": {
   "timeout": 600
  }
 },
 "nbformat": 4,
 "nbformat_minor": 2
}
