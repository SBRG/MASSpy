{
 "cells": [
  {
   "cell_type": "markdown",
   "metadata": {},
   "source": [
    "# Constructing Models\n",
    "\n",
    "In this notebook example, a step-by-step approach of building a simple model$^1$ of trafficking of high-energy phosphate bonds is demonstrated. A graphical view of the full system is provided below along with the reaction rate equations and numerical values:\n",
    "\n",
    "![phosphate_trafficking](_static/phosphate_trafficking.png)\n",
    "\n",
    "The example starts by creating a model of the \"use\", \"distr\", and \"form\" reactions. The model is then expanded to include the remaining metabolites and reactions as well as any other additional information that should be defined in the model. "
   ]
  },
  {
   "cell_type": "markdown",
   "metadata": {},
   "source": [
    "## Creating a Model"
   ]
  },
  {
   "cell_type": "code",
   "execution_count": 1,
   "metadata": {},
   "outputs": [
    {
     "name": "stdout",
     "output_type": "stream",
     "text": [
      "Academic license - for non-commercial use only\n"
     ]
    }
   ],
   "source": [
    "import numpy as np\n",
    "import pandas as pd\n",
    "\n",
    "from mass import (\n",
    "    MassConfiguration, MassMetabolite, MassModel, MassReaction)\n",
    "from mass.util.matrix import left_nullspace, nullspace\n",
    "\n",
    "mass_config = MassConfiguration()"
   ]
  },
  {
   "cell_type": "markdown",
   "metadata": {},
   "source": [
    "The first step to creating the model is to define the `MassModel` object. A `MassModel` only requires an identifier to be initialized. For best practice, it is recommended to utilize SBML compliant identifiers for all objects."
   ]
  },
  {
   "cell_type": "code",
   "execution_count": 2,
   "metadata": {},
   "outputs": [],
   "source": [
    "model = MassModel(\"Phosphate_Trafficking\")"
   ]
  },
  {
   "cell_type": "markdown",
   "metadata": {},
   "source": [
    "The model is initially empty."
   ]
  },
  {
   "cell_type": "code",
   "execution_count": 3,
   "metadata": {},
   "outputs": [
    {
     "name": "stdout",
     "output_type": "stream",
     "text": [
      "Number of metabolites: 0\n",
      "Number of initial conditions: 0\n",
      "Number of reactions: 0\n"
     ]
    }
   ],
   "source": [
    "print(\"Number of metabolites: {0}\".format(len(model.metabolites)))\n",
    "print(\"Number of initial conditions: {0}\".format(len(model.initial_conditions)))\n",
    "print(\"Number of reactions: {0}\".format(len(model.reactions)))"
   ]
  },
  {
   "cell_type": "markdown",
   "metadata": {},
   "source": [
    " The next step is to create `MassMetabolite` and `MassReaction` objects to represent the metabolites and reactions that should exist in the model."
   ]
  },
  {
   "cell_type": "markdown",
   "metadata": {},
   "source": [
    "### Defining metabolites"
   ]
  },
  {
   "cell_type": "markdown",
   "metadata": {},
   "source": [
    "To create a `MassMetabolite`, a unique identifier is required. The `formula` and `charge` attributes can be set to ensure mass and charge balancing of reactions in which the metabolite is a participant. The `compartment` attribute indicates where the metabolite is located. In this model, all metabolites exist in a single compartment, abbreviated as \"c\". "
   ]
  },
  {
   "cell_type": "code",
   "execution_count": 4,
   "metadata": {},
   "outputs": [],
   "source": [
    "atp_c = MassMetabolite(\n",
    "    \"atp_c\",\n",
    "    name=\"ATP\",\n",
    "    formula=\"C10H12N5O13P3\",\n",
    "    charge=-4,\n",
    "    compartment=\"c\")\n",
    "\n",
    "adp_c = MassMetabolite(\n",
    "    \"adp_c\",\n",
    "    name=\"ADP\",\n",
    "    formula=\"C10H12N5O10P2\",\n",
    "    charge=-3,\n",
    "    compartment=\"c\")\n",
    "\n",
    "amp_c = MassMetabolite(\n",
    "    \"amp_c\",\n",
    "    name=\"AMP\",\n",
    "    formula=\"C10H12N5O7P\",\n",
    "    charge=-2,\n",
    "    compartment=\"c\")"
   ]
  },
  {
   "cell_type": "markdown",
   "metadata": {},
   "source": [
    "The metabolite concentrations can be defined as the initial conditions for the metabolites using the `initial_condition` attribute. As previously stated, the concentrations are $\\text{[ATP]}=1.6$, $\\text{[ADP]}=0.4$, and $\\text{[AMP]}=0.1$."
   ]
  },
  {
   "cell_type": "code",
   "execution_count": 5,
   "metadata": {},
   "outputs": [
    {
     "name": "stdout",
     "output_type": "stream",
     "text": [
      "atp_c: 1.6\n",
      "adp_c: 0.4\n",
      "amp_c: 0.1\n"
     ]
    }
   ],
   "source": [
    "atp_c.initial_condition = 1.6\n",
    "adp_c.ic = 0.4  # Alias for initial_condition\n",
    "amp_c.ic = 0.1\n",
    "\n",
    "for metabolite in [atp_c, adp_c, amp_c]:\n",
    "    print(\"{0}: {1}\".format(metabolite.id, metabolite.initial_condition))"
   ]
  },
  {
   "cell_type": "markdown",
   "metadata": {},
   "source": [
    "The metabolites are currently not a part of any reaction. Consequently, the `ordinary_differential_equation` attribute is `None`. "
   ]
  },
  {
   "cell_type": "code",
   "execution_count": 6,
   "metadata": {},
   "outputs": [
    {
     "name": "stdout",
     "output_type": "stream",
     "text": [
      "None\n",
      "None\n",
      "None\n"
     ]
    }
   ],
   "source": [
    "print(atp_c.ordinary_differential_equation)\n",
    "print(adp_c.ode)  # Alias for ordinary_differential_equation\n",
    "print(amp_c.ode)  "
   ]
  },
  {
   "cell_type": "markdown",
   "metadata": {},
   "source": [
    "Therefore, the next step is to create the reactions that the metabolites participate in."
   ]
  },
  {
   "cell_type": "markdown",
   "metadata": {},
   "source": [
    "### Defining reactions"
   ]
  },
  {
   "cell_type": "markdown",
   "metadata": {},
   "source": [
    "Just like `MassMetabolite` objects, a unique identifier is also required to create a `MassReaction`. The `reversible` attribute determines whether the reaction can proceed in both the forward and reverse direction, or only in the forward direction. "
   ]
  },
  {
   "cell_type": "code",
   "execution_count": 7,
   "metadata": {},
   "outputs": [],
   "source": [
    "distr = MassReaction(\"distr\", name=\"Distribution\", reversible=True)\n",
    "use = MassReaction(\"use\", name=\"ATP Utilization\", reversible=False)\n",
    "form = MassReaction(\"form\", name=\"ATP Formation\", reversible=False)"
   ]
  },
  {
   "cell_type": "markdown",
   "metadata": {},
   "source": [
    "Metabolites are added to reactions using a dictionary of metabolite objects and their stoichiometric coefficients. A group of metabolites can be added all at once, or they can be added one at a time. Negative coefficients indicate that the metabolite is a reactant, while positive coefficients indicate that the metabolite is a product."
   ]
  },
  {
   "cell_type": "code",
   "execution_count": 8,
   "metadata": {},
   "outputs": [
    {
     "name": "stdout",
     "output_type": "stream",
     "text": [
      "distr: 2 adp_c <=> amp_c + atp_c\n",
      "use: atp_c --> adp_c\n",
      "form: adp_c --> atp_c\n"
     ]
    }
   ],
   "source": [
    "distr.add_metabolites({\n",
    "    adp_c: -2,\n",
    "    atp_c: 1,\n",
    "    amp_c: 1})\n",
    "\n",
    "use.add_metabolites({\n",
    "    atp_c: -1,\n",
    "    adp_c: 1})\n",
    "\n",
    "form.add_metabolites({\n",
    "    adp_c: -1,\n",
    "    atp_c: 1})\n",
    "\n",
    "for reaction in [distr, use, form]:\n",
    "    print(reaction)"
   ]
  },
  {
   "cell_type": "markdown",
   "metadata": {},
   "source": [
    "Once the reactions are created, the reaction parameters can be defined. As stated earlier, the distribution reaction is considerably faster compared to the other reactions in the model. Therefore, the forward rate constant, $k^{\\rightarrow}$, represented as `kf`, can be set at $k^{\\rightarrow}_{distr}=1000\\ \\text{min}^{-1}$. The equilibrium constant $K_{eq}$, represented as `Keq`, is approximately $K_{distr}=1$."
   ]
  },
  {
   "cell_type": "code",
   "execution_count": 9,
   "metadata": {
    "scrolled": true
   },
   "outputs": [
    {
     "data": {
      "text/plain": [
       "{'kf_distr': 1000, 'Keq_distr': 1}"
      ]
     },
     "execution_count": 9,
     "metadata": {},
     "output_type": "execute_result"
    }
   ],
   "source": [
    "distr.forward_rate_constant = 1000\n",
    "distr.equilibrium_constant = 1\n",
    "distr.parameters  # Return defined mass action kinetic parameters"
   ]
  },
  {
   "cell_type": "markdown",
   "metadata": {},
   "source": [
    "As stated earlier, the forward rate constants are set as $k^{\\rightarrow}_{use}=6.25\\ \\text{min}^{-1}$ and $k^{\\rightarrow}_{form}=25\\ \\text{min}^{-1}$.\n",
    "Note that the `kf_str` attribute can be used to get the identifier of the forward rate constant as a string."
   ]
  },
  {
   "cell_type": "code",
   "execution_count": 10,
   "metadata": {},
   "outputs": [
    {
     "name": "stdout",
     "output_type": "stream",
     "text": [
      "kf_use: 6.25\n",
      "kf_form: 25\n"
     ]
    }
   ],
   "source": [
    "use.forward_rate_constant = 6.25\n",
    "form.kf = 25  # Alias for forward_rate_constant\n",
    "\n",
    "print(\"{0}: {1}\".format(use.kf_str, use.kf))\n",
    "print(\"{0}: {1}\".format(form.kf_str, form.kf))"
   ]
  },
  {
   "cell_type": "markdown",
   "metadata": {},
   "source": [
    "Because the \"use\" and \"form\" reactions are irreversible, the equilibrium constant is pre-set to the value defined in the `irreversible_Keq` attribute of the `MassConfiguration`. Note that the `Keq_str` attribute can be used to get the identifier of the equilibrium constant as a string."
   ]
  },
  {
   "cell_type": "code",
   "execution_count": 11,
   "metadata": {},
   "outputs": [
    {
     "name": "stdout",
     "output_type": "stream",
     "text": [
      "In MassConfiguration: inf\n",
      "Keq_use: inf\n",
      "Keq_form: inf\n"
     ]
    }
   ],
   "source": [
    "print(\"In MassConfiguration: {0}\".format(mass_config.irreversible_Keq))\n",
    "print(\"{0}: {1}\".format(use.Keq_str, use.Keq))\n",
    "print(\"{0}: {1}\".format(form.Keq_str, form.Keq))"
   ]
  },
  {
   "cell_type": "markdown",
   "metadata": {},
   "source": [
    "Reactions can be added to the model using the `add_reactions` method. Adding the reactions to the model adds all associated metabolites and genes as well."
   ]
  },
  {
   "cell_type": "code",
   "execution_count": 12,
   "metadata": {},
   "outputs": [
    {
     "name": "stdout",
     "output_type": "stream",
     "text": [
      "Number of metabolites: 3\n",
      "Number of initial conditions: 3\n",
      "Number of reactions: 3\n"
     ]
    }
   ],
   "source": [
    "model.add_reactions([distr, use, form])\n",
    "\n",
    "print(\"Number of metabolites: {0}\".format(len(model.metabolites)))\n",
    "print(\"Number of initial conditions: {0}\".format(len(model.initial_conditions)))\n",
    "print(\"Number of reactions: {0}\".format(len(model.reactions)))"
   ]
  },
  {
   "cell_type": "markdown",
   "metadata": {},
   "source": [
    "The stoichiometric matrix of the model is automatically constructed with the addition of the reactions and metabolites to the model. It can be accessed through the `stoichiometric_matrix` property (alias `S`)."
   ]
  },
  {
   "cell_type": "code",
   "execution_count": 13,
   "metadata": {},
   "outputs": [
    {
     "name": "stdout",
     "output_type": "stream",
     "text": [
      "[[-2.  1. -1.]\n",
      " [ 1. -1.  1.]\n",
      " [ 1.  0.  0.]]\n"
     ]
    }
   ],
   "source": [
    "print(model.S)"
   ]
  },
  {
   "cell_type": "markdown",
   "metadata": {},
   "source": [
    "The stoichiometric matrix attribute can be updated and stored in various formats using the `update_S` method. For example, the stoichiometric matrix can be converted and stored as a `pandas.DataFrame`."
   ]
  },
  {
   "cell_type": "code",
   "execution_count": 14,
   "metadata": {},
   "outputs": [
    {
     "data": {
      "text/html": [
       "<div>\n",
       "<style scoped>\n",
       "    .dataframe tbody tr th:only-of-type {\n",
       "        vertical-align: middle;\n",
       "    }\n",
       "\n",
       "    .dataframe tbody tr th {\n",
       "        vertical-align: top;\n",
       "    }\n",
       "\n",
       "    .dataframe thead th {\n",
       "        text-align: right;\n",
       "    }\n",
       "</style>\n",
       "<table border=\"1\" class=\"dataframe\">\n",
       "  <thead>\n",
       "    <tr style=\"text-align: right;\">\n",
       "      <th></th>\n",
       "      <th>distr</th>\n",
       "      <th>use</th>\n",
       "      <th>form</th>\n",
       "    </tr>\n",
       "  </thead>\n",
       "  <tbody>\n",
       "    <tr>\n",
       "      <td>adp_c</td>\n",
       "      <td>-2</td>\n",
       "      <td>1</td>\n",
       "      <td>-1</td>\n",
       "    </tr>\n",
       "    <tr>\n",
       "      <td>atp_c</td>\n",
       "      <td>1</td>\n",
       "      <td>-1</td>\n",
       "      <td>1</td>\n",
       "    </tr>\n",
       "    <tr>\n",
       "      <td>amp_c</td>\n",
       "      <td>1</td>\n",
       "      <td>0</td>\n",
       "      <td>0</td>\n",
       "    </tr>\n",
       "  </tbody>\n",
       "</table>\n",
       "</div>"
      ],
      "text/plain": [
       "       distr  use  form\n",
       "adp_c     -2    1    -1\n",
       "atp_c      1   -1     1\n",
       "amp_c      1    0     0"
      ]
     },
     "execution_count": 14,
     "metadata": {},
     "output_type": "execute_result"
    }
   ],
   "source": [
    "model.update_S(array_type=\"DataFrame\", dtype=np.int_, update_model=True)\n",
    "model.S"
   ]
  },
  {
   "cell_type": "markdown",
   "metadata": {},
   "source": [
    "Associating the metabolites with reactions allows for the mass action reaction rate expressions to be generated based on the stoichiometry."
   ]
  },
  {
   "cell_type": "code",
   "execution_count": 15,
   "metadata": {},
   "outputs": [
    {
     "name": "stdout",
     "output_type": "stream",
     "text": [
      "kf_distr*(adp_c(t)**2 - amp_c(t)*atp_c(t)/Keq_distr)\n"
     ]
    }
   ],
   "source": [
    "print(distr.rate)"
   ]
  },
  {
   "cell_type": "markdown",
   "metadata": {},
   "source": [
    "Generation of the reaction rates also allows for the metabolite ODEs to be generated."
   ]
  },
  {
   "cell_type": "code",
   "execution_count": 16,
   "metadata": {},
   "outputs": [
    {
     "name": "stdout",
     "output_type": "stream",
     "text": [
      "kf_distr*(adp_c(t)**2 - amp_c(t)*atp_c(t)/Keq_distr) + kf_form*adp_c(t) - kf_use*atp_c(t)\n"
     ]
    }
   ],
   "source": [
    "print(atp_c.ode)"
   ]
  },
  {
   "cell_type": "markdown",
   "metadata": {},
   "source": [
    "The `nullspace` method can be used to obtain the null space of the stoichiometric matrix. The nullspace reflects the pathways through the system."
   ]
  },
  {
   "cell_type": "code",
   "execution_count": 17,
   "metadata": {},
   "outputs": [
    {
     "data": {
      "text/html": [
       "<div>\n",
       "<style scoped>\n",
       "    .dataframe tbody tr th:only-of-type {\n",
       "        vertical-align: middle;\n",
       "    }\n",
       "\n",
       "    .dataframe tbody tr th {\n",
       "        vertical-align: top;\n",
       "    }\n",
       "\n",
       "    .dataframe thead th {\n",
       "        text-align: right;\n",
       "    }\n",
       "</style>\n",
       "<table border=\"1\" class=\"dataframe\">\n",
       "  <thead>\n",
       "    <tr style=\"text-align: right;\">\n",
       "      <th></th>\n",
       "      <th>Pathway 1</th>\n",
       "    </tr>\n",
       "  </thead>\n",
       "  <tbody>\n",
       "    <tr>\n",
       "      <td>distr</td>\n",
       "      <td>0</td>\n",
       "    </tr>\n",
       "    <tr>\n",
       "      <td>use</td>\n",
       "      <td>1</td>\n",
       "    </tr>\n",
       "    <tr>\n",
       "      <td>form</td>\n",
       "      <td>1</td>\n",
       "    </tr>\n",
       "  </tbody>\n",
       "</table>\n",
       "</div>"
      ],
      "text/plain": [
       "       Pathway 1\n",
       "distr          0\n",
       "use            1\n",
       "form           1"
      ]
     },
     "execution_count": 17,
     "metadata": {},
     "output_type": "execute_result"
    }
   ],
   "source": [
    "ns = nullspace(model.S)  # Get the null space\n",
    "ns = np.rint(ns / np.min(ns[np.nonzero(ns)]))  # Divide by the minimum and round to nearest integer\n",
    "pd.DataFrame(ns, index=model.reactions.list_attr(\"id\"),  # Rows correspond to reactions\n",
    "             columns=[\"Pathway 1\"],\n",
    "             dtype=np.int_)"
   ]
  },
  {
   "cell_type": "markdown",
   "metadata": {},
   "source": [
    "In a similar fashion the left nullspace can be obtained, representing the conserved moieties in the model."
   ]
  },
  {
   "cell_type": "code",
   "execution_count": 18,
   "metadata": {},
   "outputs": [
    {
     "data": {
      "text/html": [
       "<div>\n",
       "<style scoped>\n",
       "    .dataframe tbody tr th:only-of-type {\n",
       "        vertical-align: middle;\n",
       "    }\n",
       "\n",
       "    .dataframe tbody tr th {\n",
       "        vertical-align: top;\n",
       "    }\n",
       "\n",
       "    .dataframe thead th {\n",
       "        text-align: right;\n",
       "    }\n",
       "</style>\n",
       "<table border=\"1\" class=\"dataframe\">\n",
       "  <thead>\n",
       "    <tr style=\"text-align: right;\">\n",
       "      <th></th>\n",
       "      <th>adp_c</th>\n",
       "      <th>atp_c</th>\n",
       "      <th>amp_c</th>\n",
       "    </tr>\n",
       "  </thead>\n",
       "  <tbody>\n",
       "    <tr>\n",
       "      <td>Total AxP</td>\n",
       "      <td>1</td>\n",
       "      <td>1</td>\n",
       "      <td>1</td>\n",
       "    </tr>\n",
       "  </tbody>\n",
       "</table>\n",
       "</div>"
      ],
      "text/plain": [
       "           adp_c  atp_c  amp_c\n",
       "Total AxP      1      1      1"
      ]
     },
     "execution_count": 18,
     "metadata": {},
     "output_type": "execute_result"
    }
   ],
   "source": [
    "lns = left_nullspace(model.S)\n",
    "lns = np.rint(lns / np.min(lns[np.nonzero(lns)]))  # Divide by the minimum and round to nearest integer\n",
    "pd.DataFrame(lns, index=[\"Total AxP\"],\n",
    "             columns=model.metabolites.list_attr(\"id\"), # Columns correspond to metabolites\n",
    "             dtype=np.int_)"
   ]
  },
  {
   "cell_type": "markdown",
   "metadata": {},
   "source": [
    "## Expanding an existing model\n",
    "\n",
    "The model is now be expanded to include a buffer reaction where a phosphagen is utilized to store a high-energy phosphate in order to buffer the ATP/ADP ratio as needed. Because the buffer molecule represents a generic phosphagen, there is no chemical formula for the molecule. The buffer molecule can therefore be represented as a moiety in the `formula` using square brackets."
   ]
  },
  {
   "cell_type": "code",
   "execution_count": 19,
   "metadata": {},
   "outputs": [],
   "source": [
    "b = MassMetabolite(\n",
    "    \"b\",\n",
    "    name=\"Phosphagen buffer (Free)\",\n",
    "    formula=\"[B]\",\n",
    "    charge=0,\n",
    "    compartment=\"c\")\n",
    "\n",
    "bp = MassMetabolite(\n",
    "    \"bp\",\n",
    "    name=\"Phosphagen buffer (Loaded)\",\n",
    "    formula=\"[B]-PO3\",\n",
    "    charge=-1,\n",
    "    compartment=\"c\")\n",
    "\n",
    "buffer = MassReaction(\"buffer\", name=\"ATP Buffering\")"
   ]
  },
  {
   "cell_type": "markdown",
   "metadata": {},
   "source": [
    "When adding the metabolites to the reaction, the `get_by_id` method is utilized in order to add metabolites that already exist in the model to the reaction."
   ]
  },
  {
   "cell_type": "code",
   "execution_count": 20,
   "metadata": {},
   "outputs": [],
   "source": [
    "buffer.add_metabolites({\n",
    "    b: -1,\n",
    "    model.metabolites.get_by_id(\"atp_c\"): -1,\n",
    "    model.metabolites.get_by_id(\"adp_c\"): 1,\n",
    "    bp: 1})\n",
    "\n",
    "# Add reaction to model\n",
    "model.add_reactions([buffer])"
   ]
  },
  {
   "cell_type": "markdown",
   "metadata": {},
   "source": [
    "For this reaction, $k^{\\rightarrow}_{buffer}=1000\\ \\text{min}^{-1}$ and $K_{buffer}=1$. Because the reaction has already been added to the model, the `MassModel.update_parameters` method can be used to update the reaction parameters using a dictionary:"
   ]
  },
  {
   "cell_type": "code",
   "execution_count": 21,
   "metadata": {},
   "outputs": [
    {
     "data": {
      "text/plain": [
       "{'kf_buffer': 1000, 'Keq_buffer': 1}"
      ]
     },
     "execution_count": 21,
     "metadata": {},
     "output_type": "execute_result"
    }
   ],
   "source": [
    "model.update_parameters({\n",
    "    buffer.kf_str: 1000,\n",
    "    buffer.Keq_str: 1})\n",
    "\n",
    "buffer.parameters"
   ]
  },
  {
   "cell_type": "markdown",
   "metadata": {},
   "source": [
    "Note that adding the reaction to the model expanded the left nullspace to include a conservation pool for the total buffer in the system."
   ]
  },
  {
   "cell_type": "code",
   "execution_count": 22,
   "metadata": {},
   "outputs": [
    {
     "data": {
      "text/html": [
       "<div>\n",
       "<style scoped>\n",
       "    .dataframe tbody tr th:only-of-type {\n",
       "        vertical-align: middle;\n",
       "    }\n",
       "\n",
       "    .dataframe tbody tr th {\n",
       "        vertical-align: top;\n",
       "    }\n",
       "\n",
       "    .dataframe thead th {\n",
       "        text-align: right;\n",
       "    }\n",
       "</style>\n",
       "<table border=\"1\" class=\"dataframe\">\n",
       "  <thead>\n",
       "    <tr style=\"text-align: right;\">\n",
       "      <th></th>\n",
       "      <th>adp_c</th>\n",
       "      <th>atp_c</th>\n",
       "      <th>amp_c</th>\n",
       "      <th>b</th>\n",
       "      <th>bp</th>\n",
       "    </tr>\n",
       "  </thead>\n",
       "  <tbody>\n",
       "    <tr>\n",
       "      <td>Total AxP</td>\n",
       "      <td>1</td>\n",
       "      <td>1</td>\n",
       "      <td>1</td>\n",
       "      <td>0</td>\n",
       "      <td>0</td>\n",
       "    </tr>\n",
       "    <tr>\n",
       "      <td>Total Buffer</td>\n",
       "      <td>0</td>\n",
       "      <td>0</td>\n",
       "      <td>0</td>\n",
       "      <td>1</td>\n",
       "      <td>1</td>\n",
       "    </tr>\n",
       "  </tbody>\n",
       "</table>\n",
       "</div>"
      ],
      "text/plain": [
       "              adp_c  atp_c  amp_c  b  bp\n",
       "Total AxP         1      1      1  0   0\n",
       "Total Buffer      0      0      0  1   1"
      ]
     },
     "execution_count": 22,
     "metadata": {},
     "output_type": "execute_result"
    }
   ],
   "source": [
    "lns = left_nullspace(model.S)\n",
    "for i, row in enumerate(lns):\n",
    "    # Divide by the minimum and round to nearest integer\n",
    "    lns[i] = np.rint(row / np.min(row[np.nonzero(row)]))\n",
    "pd.DataFrame(lns, index=[\"Total AxP\", \"Total Buffer\"],\n",
    "             columns=model.metabolites.list_attr(\"id\"),\n",
    "             dtype=np.int_)"
   ]
  },
  {
   "cell_type": "markdown",
   "metadata": {},
   "source": [
    "### Performing symbolic calculations\n",
    "\n",
    "Although the concentrations for the free and loaded buffer molecules are not known, the total amount of buffer is known and set as $B_{total} = 10$. Because the buffer reaction assumed to be at equilibrium, it becomes possible to solve for the concentrations of the free and loaded buffer molecules.\n",
    "\n",
    "Here, the symbolic capabilities of **sympy** are used to solve for the steady state concentrations of the buffer molecule."
   ]
  },
  {
   "cell_type": "code",
   "execution_count": 23,
   "metadata": {},
   "outputs": [],
   "source": [
    "from sympy import Eq, Symbol, pprint, solve\n",
    "\n",
    "from mass.util import strip_time"
   ]
  },
  {
   "cell_type": "markdown",
   "metadata": {},
   "source": [
    "The first step is to define the equation for the total buffer pool symbolically:"
   ]
  },
  {
   "cell_type": "code",
   "execution_count": 24,
   "metadata": {},
   "outputs": [
    {
     "name": "stdout",
     "output_type": "stream",
     "text": [
      "b + bp = 10\n"
     ]
    }
   ],
   "source": [
    "buffer_total_equation = Eq(Symbol(\"b\") + Symbol(\"bp\"), 10)\n",
    "pprint(buffer_total_equation)"
   ]
  },
  {
   "cell_type": "markdown",
   "metadata": {},
   "source": [
    "The equation for the reaction rate at equilibrium is also defined. The `strip_time` function is used to strip the time dependency from the expression."
   ]
  },
  {
   "cell_type": "code",
   "execution_count": 25,
   "metadata": {},
   "outputs": [
    {
     "name": "stdout",
     "output_type": "stream",
     "text": [
      "0 = 1600.0⋅b - 400.0⋅bp\n"
     ]
    }
   ],
   "source": [
    "buffer_rate_equation = Eq(0, strip_time(buffer.rate))\n",
    "# Substitute defined concentration values into equation\n",
    "buffer_rate_equation = buffer_rate_equation.subs({\n",
    "    \"atp_c\":  atp_c.initial_condition,\n",
    "    \"adp_c\":  adp_c.initial_condition,\n",
    "    \"kf_buffer\": buffer.kf,\n",
    "    \"Keq_buffer\": buffer.Keq})\n",
    "pprint(buffer_rate_equation)"
   ]
  },
  {
   "cell_type": "markdown",
   "metadata": {},
   "source": [
    "These two equations can be solved to get the buffer concentrations:"
   ]
  },
  {
   "cell_type": "code",
   "execution_count": 26,
   "metadata": {},
   "outputs": [
    {
     "data": {
      "text/plain": [
       "{b: 2.00000000000000, bp: 8.00000000000000}"
      ]
     },
     "execution_count": 26,
     "metadata": {},
     "output_type": "execute_result"
    }
   ],
   "source": [
    "buffer_sol = solve([buffer_total_equation, buffer_rate_equation],\n",
    "                   [Symbol(\"b\"), Symbol(\"bp\")])\n",
    "buffer_sol"
   ]
  },
  {
   "cell_type": "markdown",
   "metadata": {},
   "source": [
    "The metabolite concentrations can then be updated accordingly. Since the metabolites already exist in the model, their initial conditions can be updated using the `MassModel.update_initial_conditions` method."
   ]
  },
  {
   "cell_type": "code",
   "execution_count": 27,
   "metadata": {},
   "outputs": [
    {
     "data": {
      "text/plain": [
       "{<MassMetabolite adp_c at 0x11eec8cd0>: 0.4,\n",
       " <MassMetabolite atp_c at 0x11eba4290>: 1.6,\n",
       " <MassMetabolite amp_c at 0x11eec8d10>: 0.1,\n",
       " <MassMetabolite b at 0x11ef75a10>: 2.0,\n",
       " <MassMetabolite bp at 0x11ef759d0>: 8.0}"
      ]
     },
     "execution_count": 27,
     "metadata": {},
     "output_type": "execute_result"
    }
   ],
   "source": [
    "# Replace the symbols in the dict\n",
    "for met_symbol, concentration in buffer_sol.items():\n",
    "    metabolite = model.metabolites.get_by_id(str(met_symbol))\n",
    "    buffer_sol[metabolite] = float(buffer_sol.pop(met_symbol))\n",
    "\n",
    "model.update_initial_conditions(buffer_sol)\n",
    "model.initial_conditions"
   ]
  },
  {
   "cell_type": "markdown",
   "metadata": {},
   "source": [
    "### Adding boundary reactions\n",
    "\n",
    "After adding the buffer reactions, the next step is to define the AMP source and demand reactions. The `add_boundary` method can be utilized to create and add a boundary reaction to a model."
   ]
  },
  {
   "cell_type": "code",
   "execution_count": 28,
   "metadata": {},
   "outputs": [
    {
     "name": "stdout",
     "output_type": "stream",
     "text": [
      "amp_drain: amp_c --> \n",
      "amp_in: amp_c --> \n"
     ]
    }
   ],
   "source": [
    "amp_drain = model.add_boundary(\n",
    "    model.metabolites.amp_c,\n",
    "    boundary_type=\"demand\",\n",
    "    reaction_id=\"amp_drain\")\n",
    "\n",
    "amp_in = model.add_boundary(\n",
    "    model.metabolites.amp_c,\n",
    "    boundary_type=\"demand\",\n",
    "    reaction_id=\"amp_in\")\n",
    "\n",
    "print(amp_drain)\n",
    "print(amp_in)"
   ]
  },
  {
   "cell_type": "markdown",
   "metadata": {},
   "source": [
    "The automatic generation of the boundary reaction can be useful, but sometimes the stoichiometry needs to be switched in order to be intuitive. In this case, the stoichiometry of the AMP source reaction should be reversed, which can be accomplished using the `MassReaction.reverse_stoichiometry` method."
   ]
  },
  {
   "cell_type": "code",
   "execution_count": 29,
   "metadata": {
    "scrolled": true
   },
   "outputs": [
    {
     "name": "stdout",
     "output_type": "stream",
     "text": [
      "amp_in:  --> amp_c\n"
     ]
    }
   ],
   "source": [
    "amp_in.reverse_stoichiometry(inplace=True)\n",
    "print(amp_in)"
   ]
  },
  {
   "cell_type": "markdown",
   "metadata": {},
   "source": [
    "Note that the addition of these two reactions adds an additional pathway through the model:"
   ]
  },
  {
   "cell_type": "code",
   "execution_count": 30,
   "metadata": {},
   "outputs": [
    {
     "data": {
      "text/html": [
       "<div>\n",
       "<style scoped>\n",
       "    .dataframe tbody tr th:only-of-type {\n",
       "        vertical-align: middle;\n",
       "    }\n",
       "\n",
       "    .dataframe tbody tr th {\n",
       "        vertical-align: top;\n",
       "    }\n",
       "\n",
       "    .dataframe thead th {\n",
       "        text-align: right;\n",
       "    }\n",
       "</style>\n",
       "<table border=\"1\" class=\"dataframe\">\n",
       "  <thead>\n",
       "    <tr style=\"text-align: right;\">\n",
       "      <th></th>\n",
       "      <th>Path 1</th>\n",
       "      <th>Path 2</th>\n",
       "    </tr>\n",
       "  </thead>\n",
       "  <tbody>\n",
       "    <tr>\n",
       "      <td>distr</td>\n",
       "      <td>0</td>\n",
       "      <td>0</td>\n",
       "    </tr>\n",
       "    <tr>\n",
       "      <td>use</td>\n",
       "      <td>1</td>\n",
       "      <td>0</td>\n",
       "    </tr>\n",
       "    <tr>\n",
       "      <td>form</td>\n",
       "      <td>1</td>\n",
       "      <td>0</td>\n",
       "    </tr>\n",
       "    <tr>\n",
       "      <td>buffer</td>\n",
       "      <td>0</td>\n",
       "      <td>0</td>\n",
       "    </tr>\n",
       "    <tr>\n",
       "      <td>amp_drain</td>\n",
       "      <td>0</td>\n",
       "      <td>1</td>\n",
       "    </tr>\n",
       "    <tr>\n",
       "      <td>amp_in</td>\n",
       "      <td>0</td>\n",
       "      <td>1</td>\n",
       "    </tr>\n",
       "  </tbody>\n",
       "</table>\n",
       "</div>"
      ],
      "text/plain": [
       "           Path 1  Path 2\n",
       "distr           0       0\n",
       "use             1       0\n",
       "form            1       0\n",
       "buffer          0       0\n",
       "amp_drain       0       1\n",
       "amp_in          0       1"
      ]
     },
     "execution_count": 30,
     "metadata": {},
     "output_type": "execute_result"
    }
   ],
   "source": [
    "ns = nullspace(model.S).T\n",
    "for i, row in enumerate(ns):\n",
    "    # Divide by the minimum to get all integers\n",
    "    ns[i] = np.rint(row / np.min(row[np.nonzero(row)]))\n",
    "ns = ns.T\n",
    "pd.DataFrame(ns, index=model.reactions.list_attr(\"id\"),  # Rows correspond to reactions\n",
    "             columns=[\"Path 1\", \"Path 2\"], dtype=np.int_)"
   ]
  },
  {
   "cell_type": "markdown",
   "metadata": {},
   "source": [
    "### Defining custom rates\n",
    "\n",
    "In this model, the rate for the AMP source reaction should remain at a fixed input value. However, the current rate expression for the AMP source reaction is dependent on an external AMP metabolite that exists as a boundary condition:"
   ]
  },
  {
   "cell_type": "code",
   "execution_count": 31,
   "metadata": {},
   "outputs": [
    {
     "name": "stdout",
     "output_type": "stream",
     "text": [
      "amp_b*kf_amp_in\n"
     ]
    }
   ],
   "source": [
    "print(amp_in.rate)"
   ]
  },
  {
   "cell_type": "markdown",
   "metadata": {},
   "source": [
    "The rate can therefore be set as a fixed input using a custom rate law. Custom rate laws can be set for reactions in a model using the `MassModel.add_custom_rate` method by passing the reaction object, a string representation of the custom rate expression, and a dictionary containing any custom parameters associated with the rate law."
   ]
  },
  {
   "cell_type": "code",
   "execution_count": 32,
   "metadata": {},
   "outputs": [
    {
     "name": "stdout",
     "output_type": "stream",
     "text": [
      "b1\n"
     ]
    }
   ],
   "source": [
    "model.add_custom_rate(amp_in, custom_rate=\"b1\", custom_parameters={\"b1\": 0.03})\n",
    "print(model.rates[amp_in])"
   ]
  },
  {
   "cell_type": "markdown",
   "metadata": {},
   "source": [
    "### Inspecting Rates and ODEs"
   ]
  },
  {
   "cell_type": "markdown",
   "metadata": {},
   "source": [
    "According to the [network schema](#Constructing-Models) at the start of the notebook, the network has been fully reconstructed. The reaction rates and ODEs can be inspected to ensure that the model was built without any issues.\n",
    "\n",
    "The `MassModel.rates` property can be used to return a dictionary containing reactions and symbolic expressions of their rates. The model always prioritized custom rate expressions over automatically generated mass action rates."
   ]
  },
  {
   "cell_type": "code",
   "execution_count": 33,
   "metadata": {},
   "outputs": [
    {
     "name": "stdout",
     "output_type": "stream",
     "text": [
      "distr: kf_distr*(adp_c(t)**2 - amp_c(t)*atp_c(t)/Keq_distr)\n",
      "use: kf_use*atp_c(t)\n",
      "form: kf_form*adp_c(t)\n",
      "buffer: kf_buffer*(atp_c(t)*b(t) - adp_c(t)*bp(t)/Keq_buffer)\n",
      "amp_drain: kf_amp_drain*amp_c(t)\n",
      "amp_in: b1\n"
     ]
    }
   ],
   "source": [
    "for reaction, rate in model.rates.items():\n",
    "    print(\"{0}: {1}\".format(reaction.id, rate))"
   ]
  },
  {
   "cell_type": "markdown",
   "metadata": {},
   "source": [
    "Similarly, the model can access the ODEs for metabolites using the `ordinary_differential_equations` property (alias `odes`) to return a dictionary of metabolites and symbolic expressions of their ODEs."
   ]
  },
  {
   "cell_type": "code",
   "execution_count": 34,
   "metadata": {
    "scrolled": true
   },
   "outputs": [
    {
     "name": "stdout",
     "output_type": "stream",
     "text": [
      "adp_c: kf_buffer*(atp_c(t)*b(t) - adp_c(t)*bp(t)/Keq_buffer) - 2*kf_distr*(adp_c(t)**2 - amp_c(t)*atp_c(t)/Keq_distr) - kf_form*adp_c(t) + kf_use*atp_c(t)\n",
      "atp_c: -kf_buffer*(atp_c(t)*b(t) - adp_c(t)*bp(t)/Keq_buffer) + kf_distr*(adp_c(t)**2 - amp_c(t)*atp_c(t)/Keq_distr) + kf_form*adp_c(t) - kf_use*atp_c(t)\n",
      "amp_c: b1 - kf_amp_drain*amp_c(t) + kf_distr*(adp_c(t)**2 - amp_c(t)*atp_c(t)/Keq_distr)\n",
      "b: -kf_buffer*(atp_c(t)*b(t) - adp_c(t)*bp(t)/Keq_buffer)\n",
      "bp: kf_buffer*(atp_c(t)*b(t) - adp_c(t)*bp(t)/Keq_buffer)\n"
     ]
    }
   ],
   "source": [
    "for metabolite, ode in model.odes.items():\n",
    "    print(\"{0}: {1}\".format(metabolite.id, ode))"
   ]
  },
  {
   "cell_type": "markdown",
   "metadata": {},
   "source": [
    "## Ensuring model completeness"
   ]
  },
  {
   "cell_type": "markdown",
   "metadata": {},
   "source": [
    "### Compartments\n",
    "\n",
    "Compartments defined in metabolites are recognized by the model and can be viewed in the `compartments` attribute."
   ]
  },
  {
   "cell_type": "code",
   "execution_count": 35,
   "metadata": {},
   "outputs": [
    {
     "data": {
      "text/plain": [
       "{'c': ''}"
      ]
     },
     "execution_count": 35,
     "metadata": {},
     "output_type": "execute_result"
    }
   ],
   "source": [
    "model.compartments"
   ]
  },
  {
   "cell_type": "markdown",
   "metadata": {},
   "source": [
    "For this model, \"c\" is an abbreviation for \"compartment\". The `compartments` attribute can be updated to reflect this mapping using a `dict`:"
   ]
  },
  {
   "cell_type": "code",
   "execution_count": 36,
   "metadata": {},
   "outputs": [
    {
     "data": {
      "text/plain": [
       "{'c': 'compartment'}"
      ]
     },
     "execution_count": 36,
     "metadata": {},
     "output_type": "execute_result"
    }
   ],
   "source": [
    "model.compartments = {\"c\": \"compartment\"}\n",
    "model.compartments"
   ]
  },
  {
   "cell_type": "markdown",
   "metadata": {},
   "source": [
    "### Units\n",
    "`Unit` and `UnitDefinition` objects are implemented as per the [SBML Unit](http://sbml.org/Software/libSBML/5.18.0/docs/python-api/classlibsbml_1_1_unit.html) and [SBML UnitDefinition](http://sbml.org/Software/libSBML/5.18.0/docs/python-api/classlibsbml_1_1_unit_definition.html) specifications.\n",
    "It can be useful for comparitive reasons to create `Unit` and `UnitDefinition` objects and add them to the model (e.g. amount, volume, time) in order provide additional context. However, the model does not maintain unit consistency automatically, meaning it is the responsibility of the users to ensure consistency of units and associated numerical values in a model."
   ]
  },
  {
   "cell_type": "code",
   "execution_count": 37,
   "metadata": {},
   "outputs": [],
   "source": [
    "from mass import Unit, UnitDefinition\n",
    "from mass.core.units import print_defined_unit_values"
   ]
  },
  {
   "cell_type": "markdown",
   "metadata": {},
   "source": [
    "SBML definies units using a compositional approach. The `Unit` objects represent references to base units. A `Unit` has four attributes, `kind`, `exponent`, `scale`, and `multiplier`, that define the unit.\n",
    "The `kind` attribute indicates the base unit. Valid base units viewed using the `print_defined_unit_values` method."
   ]
  },
  {
   "cell_type": "code",
   "execution_count": 38,
   "metadata": {},
   "outputs": [
    {
     "name": "stdout",
     "output_type": "stream",
     "text": [
      "╒═════════════════════════════╕\n",
      "│ SBML Base Unit Kinds        │\n",
      "╞═════════════════════════════╡\n",
      "│ Base Unit        SBML Value │\n",
      "│ -------------  ------------ │\n",
      "│ ampere                    0 │\n",
      "│ avogadro                  1 │\n",
      "│ becquerel                 2 │\n",
      "│ candela                   3 │\n",
      "│ coulomb                   5 │\n",
      "│ dimensionless             6 │\n",
      "│ farad                     7 │\n",
      "│ gram                      8 │\n",
      "│ gray                      9 │\n",
      "│ henry                    10 │\n",
      "│ hertz                    11 │\n",
      "│ item                     12 │\n",
      "│ joule                    13 │\n",
      "│ katal                    14 │\n",
      "│ kelvin                   15 │\n",
      "│ kilogram                 16 │\n",
      "│ liter                    17 │\n",
      "│ litre                    18 │\n",
      "│ lumen                    19 │\n",
      "│ lux                      20 │\n",
      "│ meter                    21 │\n",
      "│ metre                    22 │\n",
      "│ mole                     23 │\n",
      "│ newton                   24 │\n",
      "│ ohm                      25 │\n",
      "│ pascal                   26 │\n",
      "│ radian                   27 │\n",
      "│ second                   28 │\n",
      "│ siemens                  29 │\n",
      "│ sievert                  30 │\n",
      "│ steradian                31 │\n",
      "│ tesla                    32 │\n",
      "│ volt                     33 │\n",
      "│ watt                     34 │\n",
      "│ weber                    35 │\n",
      "│ invalid                  36 │\n",
      "╘═════════════════════════════╛\n"
     ]
    }
   ],
   "source": [
    "print_defined_unit_values(\"BaseUnitKinds\")"
   ]
  },
  {
   "cell_type": "markdown",
   "metadata": {},
   "source": [
    "The `exponent`, `scale` and `multiplier` attributes indicate how the base unit kind should be transformed. For this model, the unit for concentration, \"Millimolar\", is represented as millimole per liter. It is composed of the following base units:"
   ]
  },
  {
   "cell_type": "code",
   "execution_count": 39,
   "metadata": {},
   "outputs": [],
   "source": [
    "millimole = Unit(kind=\"mole\", exponent=1, scale=-3, multiplier=1)\n",
    "per_liter = Unit(kind=\"liter\", exponent=-1, scale=1, multiplier=1)"
   ]
  },
  {
   "cell_type": "markdown",
   "metadata": {},
   "source": [
    "Combinations of `Unit` objects are contained inside a `UnitDefintion` object. `UnitDefinition` objects have three attributes, an `id` and optional `name` to represent the combination, and a `list_of_units` attribute containing references to its `Unit` objects. The concentration unit \"Millimolar\", abbreviated as \"mM\" can be defined as follows:"
   ]
  },
  {
   "cell_type": "code",
   "execution_count": 40,
   "metadata": {},
   "outputs": [
    {
     "name": "stdout",
     "output_type": "stream",
     "text": [
      "Millimolar:\n",
      "<Unit at 0x11efe6890 kind: mole; exponent: 1; scale: -3; multiplier: 1>\n",
      "<Unit at 0x11efe6c50 kind: liter; exponent: -1; scale: 1; multiplier: 1>\n"
     ]
    }
   ],
   "source": [
    "concentration_unit = UnitDefinition(id=\"mM\", name=\"Millimolar\",\n",
    "                                    list_of_units=[millimole, per_liter])\n",
    "print(\"{0}:\\n{1!r}\\n{2!r}\".format(\n",
    "    concentration_unit.name, *concentration_unit.list_of_units))"
   ]
  },
  {
   "cell_type": "markdown",
   "metadata": {},
   "source": [
    "`UnitDefinition` objects also have the `create_unit` method to directly create `Unit` objects within the `UnitDefintion`."
   ]
  },
  {
   "cell_type": "code",
   "execution_count": 41,
   "metadata": {},
   "outputs": [
    {
     "name": "stdout",
     "output_type": "stream",
     "text": [
      "min\n",
      "[<Unit at 0x11efe9d10 kind: second; exponent: 1; scale: 1; multiplier: 60>]\n"
     ]
    }
   ],
   "source": [
    "time_unit = UnitDefinition(id=\"min\", name=\"Minute\")\n",
    "time_unit.create_unit(kind=\"second\", exponent=1, scale=1, multiplier=60)\n",
    "print(time_unit)\n",
    "print(time_unit.list_of_units)"
   ]
  },
  {
   "cell_type": "markdown",
   "metadata": {},
   "source": [
    "Once created, `UnitDefintion` objects can be added to the model:"
   ]
  },
  {
   "cell_type": "code",
   "execution_count": 42,
   "metadata": {},
   "outputs": [
    {
     "data": {
      "text/plain": [
       "[<UnitDefinition Millimolar \"mM\" at 0x11efdfad0>,\n",
       " <UnitDefinition Minute \"min\" at 0x11efe9bd0>]"
      ]
     },
     "execution_count": 42,
     "metadata": {},
     "output_type": "execute_result"
    }
   ],
   "source": [
    "model.add_units([concentration_unit, time_unit])\n",
    "model.units"
   ]
  },
  {
   "cell_type": "markdown",
   "metadata": {},
   "source": [
    "### Checking model completeness\n",
    "Once constructed, the model should also be checked for completeness."
   ]
  },
  {
   "cell_type": "code",
   "execution_count": 43,
   "metadata": {},
   "outputs": [],
   "source": [
    "from mass import qcqa_model"
   ]
  },
  {
   "cell_type": "markdown",
   "metadata": {},
   "source": [
    "The `qcqa_model` function can be used to print a report about the model quality based on the flags that are set. Here, it is used to ensure that all numerical values necessary for simulation are defined in the model by setting the `parameters` and `concentrations` flags as `True`."
   ]
  },
  {
   "cell_type": "code",
   "execution_count": 44,
   "metadata": {},
   "outputs": [
    {
     "name": "stdout",
     "output_type": "stream",
     "text": [
      "╒══════════════════════════════════════════════╕\n",
      "│ MODEL ID: Phosphate_Trafficking              │\n",
      "│ SIMULATABLE: False;                          │\n",
      "│ NUMERICALLY CONSISTENT: True                 │\n",
      "╞══════════════════════════════════════════════╡\n",
      "│ ============================================ │\n",
      "│             MISSING PARAMETERS               │\n",
      "│ ============================================ │\n",
      "│ Reaction Parameters                          │\n",
      "│ ---------------------                        │\n",
      "│ amp_drain: kf                                │\n",
      "│ ============================================ │\n",
      "╘══════════════════════════════════════════════╛\n"
     ]
    }
   ],
   "source": [
    "qcqa_model(model, parameters=True, concentrations=True)"
   ]
  },
  {
   "cell_type": "markdown",
   "metadata": {},
   "source": [
    "As shown in the printed report above, it seems that the forward rate constant for the AMP drain reaction was never defined, preventing the model from being simulatable. The forward rate constant is therefore defined and the model is checked again."
   ]
  },
  {
   "cell_type": "code",
   "execution_count": 45,
   "metadata": {
    "scrolled": true
   },
   "outputs": [
    {
     "name": "stdout",
     "output_type": "stream",
     "text": [
      "╒═══════════════════════════════════╕\n",
      "│ MODEL ID: Phosphate_Trafficking   │\n",
      "│ SIMULATABLE: True;                │\n",
      "│ NUMERICALLY CONSISTENT: True      │\n",
      "╞═══════════════════════════════════╡\n",
      "╘═══════════════════════════════════╛\n"
     ]
    }
   ],
   "source": [
    "amp_drain.kf = 0.03\n",
    "\n",
    "qcqa_model(model, parameters=True, concentrations=True)"
   ]
  },
  {
   "cell_type": "markdown",
   "metadata": {},
   "source": [
    "The report now shows that the model is not missing any values necessary for simulation. See [Checking Model Quality](./quality_assurance.ipynb) for more information on quality assurance functions and the `qcqa` submodule."
   ]
  },
  {
   "cell_type": "markdown",
   "metadata": {},
   "source": [
    "$^1$ Trafficking model is created from Chapter 8 of <cite data-cite=\"Pal11\">Systems Biology: Simulation of Dynamic Network States</cite>"
   ]
  }
 ],
 "metadata": {
  "kernelspec": {
   "display_name": "Python 3",
   "language": "python",
   "name": "python3"
  },
  "language_info": {
   "codemirror_mode": {
    "name": "ipython",
    "version": 3
   },
   "file_extension": ".py",
   "mimetype": "text/x-python",
   "name": "python",
   "nbconvert_exporter": "python",
   "pygments_lexer": "ipython3",
   "version": "3.7.4"
  }
 },
 "nbformat": 4,
 "nbformat_minor": 2
}
