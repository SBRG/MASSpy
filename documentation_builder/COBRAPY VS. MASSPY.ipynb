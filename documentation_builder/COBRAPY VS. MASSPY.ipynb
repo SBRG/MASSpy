{
 "cells": [
  {
   "cell_type": "markdown",
   "metadata": {},
   "source": [
    "# 5. COBRA vs. MASS "
   ]
  },
  {
   "cell_type": "markdown",
   "metadata": {},
   "source": [
    "When determining the discrepencies between COBRA and MASS, we have to understand the nuances and certain discrepencies between cobrapy and masspy. This documentation compares and contrasts the differences between the two models and discerns how mass action differs from flux balance analysis. We will start at the very begininning, from the getting started documentation and clarify the differences between cobrapy and masspy as we go through each documentation workbook. \n",
    "\n",
    "<font color='red'>\n",
    "\n",
    "* Nice work, I like where you are going with this.\n",
    "\n",
    "* Instead of using cobra_model and mass_model, use the notations cobra_model and mass_model, cobra_reaction and mass_reaction, etc. (Use prefix cobra_ and mass_ when necessary)\n",
    "    \n",
    "* Leave a section for Genes, but skip making any section content for the time being\n",
    "\n",
    "</font>"
   ]
  },
  {
   "cell_type": "markdown",
   "metadata": {},
   "source": [
    "## 5.1 Inspection "
   ]
  },
  {
   "cell_type": "markdown",
   "metadata": {},
   "source": [
    "### 5.1.1 Importing Model Systems"
   ]
  },
  {
   "cell_type": "markdown",
   "metadata": {},
   "source": [
    "At the beginning or each workflow, we import the speicifc methods that we wish to utilize for data analysis. For __cobrapy__, usual methodology to import the model and it's corresponding objects within the work environment can be accomplish through the following, "
   ]
  },
  {
   "cell_type": "code",
   "execution_count": 1,
   "metadata": {},
   "outputs": [],
   "source": [
    "from __future__ import print_function\n",
    "from cobra import Model, Reaction, Metabolite\n",
    "import cobra.test"
   ]
  },
  {
   "cell_type": "markdown",
   "metadata": {},
   "source": [
    "However, __masspy__ has a slightly different syntax and requires more than just the importing of MASS itself; rather, it needs all of the objects which we utilize, from building models to creations of simulations to visualizing solutions,"
   ]
  },
  {
   "cell_type": "code",
   "execution_count": 2,
   "metadata": {},
   "outputs": [],
   "source": [
    "from mass import (\n",
    "    MassModel, MassMetabolite, MassReaction, Simulation, Solution,\n",
    "    plot_simulation, plot_phase_portrait, plot_tiled_phase_portrait)\n",
    "from mass.test import create_test_model"
   ]
  },
  {
   "cell_type": "markdown",
   "metadata": {},
   "source": [
    "Other packages which are vital for information and visualization of data are also imported seperately, but is not seen to be the case for cobrapy, "
   ]
  },
  {
   "cell_type": "code",
   "execution_count": 3,
   "metadata": {},
   "outputs": [],
   "source": [
    "import numpy as np\n",
    "import pandas as pd\n",
    "import sympy as sym\n",
    "import matplotlib as mpl\n",
    "import matplotlib.pyplot as plt"
   ]
  },
  {
   "cell_type": "markdown",
   "metadata": {},
   "source": [
    "Most of this comes down to the amount of information masspy can derive versus the amount of information cobrapy utilizes. From the basis of cobrapy, COBRA uses constraint based analysis to determine fluxes within and out of a particular system; for such model construction, an immense ammount of information is not required to derive constraints on a system based on it's fluxes. However, masspy requires much more adept analysis as an influx of information is created to determine the mass action stoichiometric solutions of any given model. Whereas COBRA focuses more on the mathematical aspect, MASS constructs models and determines the analytical portion of the model."
   ]
  },
  {
   "cell_type": "markdown",
   "metadata": {},
   "source": [
    "### 5.1.2 General breakdown of class, attributes and objects"
   ]
  },
  {
   "cell_type": "markdown",
   "metadata": {},
   "source": [
    "For this type of analysis, we will create two test models; one is cobra_model and the other is mass_model for cobrapy and masspy models respectively."
   ]
  },
  {
   "cell_type": "code",
   "execution_count": 4,
   "metadata": {},
   "outputs": [],
   "source": [
    "cobra_model = cobra.test.create_test_model(\"textbook\")\n",
    "mass_model = create_test_model(\"textbook\")"
   ]
  },
  {
   "cell_type": "code",
   "execution_count": 5,
   "metadata": {},
   "outputs": [
    {
     "data": {
      "text/html": [
       "\n",
       "        <table>\n",
       "            <tr>\n",
       "                <td><strong>Name</strong></td>\n",
       "                <td>e_coli_core</td>\n",
       "            </tr><tr>\n",
       "                <td><strong>Memory address</strong></td>\n",
       "                <td>0x012c222e48</td>\n",
       "            </tr><tr>\n",
       "                <td><strong>Number of metabolites</strong></td>\n",
       "                <td>72</td>\n",
       "            </tr><tr>\n",
       "                <td><strong>Number of reactions</strong></td>\n",
       "                <td>95</td>\n",
       "            </tr><tr>\n",
       "                <td><strong>Objective expression</strong></td>\n",
       "                <td>-1.0*Biomass_Ecoli_core_reverse_2cdba + 1.0*Biomass_Ecoli_core</td>\n",
       "            </tr><tr>\n",
       "                <td><strong>Compartments</strong></td>\n",
       "                <td>cytosol, extracellular</td>\n",
       "            </tr>\n",
       "          </table>"
      ],
      "text/plain": [
       "<Model e_coli_core at 0x12c222e48>"
      ]
     },
     "execution_count": 5,
     "metadata": {},
     "output_type": "execute_result"
    }
   ],
   "source": [
    "cobra_model"
   ]
  },
  {
   "cell_type": "code",
   "execution_count": 6,
   "metadata": {},
   "outputs": [
    {
     "data": {
      "text/html": [
       "\n",
       "            <table>\n",
       "                <tr>\n",
       "                    <td><strong>Name</strong></td><td>Core_RBC_Model</td>\n",
       "                </tr><tr>\n",
       "                    <td><strong>Memory address</strong></td><td>0x012cf1a128</td>\n",
       "                </tr><tr>\n",
       "                    <td><strong>Stoichiometric Matrix</strong></td>\n",
       "                    <td>48x53</td>\n",
       "                </tr><tr>\n",
       "                    <td><strong>Matrix Rank</strong></td>\n",
       "                    <td>44</td>\n",
       "                </tr><tr>\n",
       "                    <td><strong>Matrix Type</strong></td>\n",
       "                    <td>dense, float64</td>\n",
       "                </tr><tr>\n",
       "                    <td><strong>Number of Metabolites</strong></td>\n",
       "                    <td>48</td>\n",
       "                </tr><tr>\n",
       "                    <td><strong>Number of Reactions</strong></td>\n",
       "                    <td>53</td>\n",
       "                </tr><tr>\n",
       "                    <td><strong>Number of Initial Conditions</strong></td>\n",
       "                    <td>48</td>\n",
       "                </tr><tr>\n",
       "                    <td><strong>Number of Forward Rate Constants</strong></td>\n",
       "                    <td>53</td>\n",
       "                </tr><tr>\n",
       "                    <td><strong>Number of Equilibrium Constants</strong></td>\n",
       "                    <td>53</td>\n",
       "                </tr><tr>\n",
       "                    <td><strong>Number of Irreversible Reactions</strong></td>\n",
       "                    <td>11</td>\n",
       "                </tr><tr>\n",
       "                    <td><strong>Number of Exchanges</strong></td>\n",
       "                    <td>13</td>\n",
       "                </tr><tr>\n",
       "                    <td><strong>Number of Fixed Concentrations</strong></td>\n",
       "                    <td>13</td>\n",
       "                </tr><tr>\n",
       "                    <td><strong>Number of Custom Rates</strong></td>\n",
       "                    <td>0</td>\n",
       "                </tr><tr>\n",
       "                    <td><strong>Number of Genes</strong></td>\n",
       "                    <td>0</td>\n",
       "                </tr><tr>\n",
       "                    <td><strong>Number of Enzymes</strong></td>\n",
       "                    <td>0</td>\n",
       "                </tr><tr>\n",
       "                    <td><strong>Modules</strong></td>\n",
       "                    <td>Pentose_Phosphate_Pathway<br> Glycolysis<br> AMP_Salvage_Network<br> Hemoglobin</br></td>\n",
       "                </tr><tr>\n",
       "                    <td><strong>Compartments</strong></td>\n",
       "                    <td>Cytosol</td>\n",
       "                </tr><tr>\n",
       "                    <td><strong>Units</strong></td>\n",
       "                    <td>Millimoles, Hours, Liters</td>\n",
       "                </tr>\n",
       "            </table>\n",
       "        "
      ],
      "text/plain": [
       "<MassModel Core_RBC_Model at 0x12cf1a128>"
      ]
     },
     "execution_count": 6,
     "metadata": {},
     "output_type": "execute_result"
    }
   ],
   "source": [
    "mass_model"
   ]
  },
  {
   "cell_type": "markdown",
   "metadata": {},
   "source": [
    "More attributes are present within the masspy model, further qualifying the analysis of mass and cobra at the end of 5.1.1. MASS provides more flexibility for determining how the system behaves and allows for control over users to modulate different behaviors and perturbations whereas COBRA allows for the dimensional breakdown of the specific system through constraint based analysis and determination/ optimization of values based on the flux of reactions & metabolites into and out of the system. "
   ]
  },
  {
   "cell_type": "markdown",
   "metadata": {},
   "source": [
    "Upon further analysis, when we pull up a specific reaction, we can observe, "
   ]
  },
  {
   "cell_type": "code",
   "execution_count": 7,
   "metadata": {},
   "outputs": [
    {
     "data": {
      "text/html": [
       "\n",
       "            <table>\n",
       "                <tr>\n",
       "                    <td><strong>Reaction identifier</strong></td>\n",
       "                    <td>DPGM</td>\n",
       "                </tr><tr>\n",
       "                    <td><strong>Name</strong></td>\n",
       "                    <td>Diphosphoglyceromutase</td>\n",
       "                </tr><tr>\n",
       "                    <td><strong>Memory address</strong></td>\n",
       "                    <td>0x012cd6fb00</td>\n",
       "                </tr><tr>\n",
       "                    <td><strong>Subsystem</strong></td>\n",
       "                    <td>Hemoglobin</td>\n",
       "                </tr><tr>\n",
       "                    <td><strong>Stoichiometry</strong></td>\n",
       "                    <td>\n",
       "                        <p style='text-align:right'>_13dpg_c <=> _23dpg_c + h_c</p>\n",
       "                        <p style='text-align:right'>3-Phospho-D-glyceroyl phosphate <=> 2,3-Disphospho-D-glycerate + H+</p>\n",
       "                    </td>\n",
       "                </tr><tr>\n",
       "                    <td><strong>GPR</strong></td>\n",
       "                    <td></td>\n",
       "                </tr><tr>\n",
       "                    <td><strong>Kinetic Reversibility</strong></td>\n",
       "                    <td>True</td>\n",
       "                </tr>\n",
       "            </table>\n",
       "        "
      ],
      "text/plain": [
       "<MassReaction DPGM at 0x12cd6fb00>"
      ]
     },
     "execution_count": 7,
     "metadata": {},
     "output_type": "execute_result"
    }
   ],
   "source": [
    "mass_model.reactions[29]"
   ]
  },
  {
   "cell_type": "code",
   "execution_count": 8,
   "metadata": {},
   "outputs": [
    {
     "data": {
      "text/html": [
       "\n",
       "        <table>\n",
       "            <tr>\n",
       "                <td><strong>Reaction identifier</strong></td><td>EX_glu__L_e</td>\n",
       "            </tr><tr>\n",
       "                <td><strong>Name</strong></td><td>L-Glutamate exchange</td>\n",
       "            </tr><tr>\n",
       "                <td><strong>Memory address</strong></td>\n",
       "                <td>0x012d0c32e8</td>\n",
       "            </tr><tr>\n",
       "                <td><strong>Stoichiometry</strong></td>\n",
       "                <td>\n",
       "                    <p style='text-align:right'>glu__L_e --> </p>\n",
       "                    <p style='text-align:right'>L-Glutamate --> </p>\n",
       "                </td>\n",
       "            </tr><tr>\n",
       "                <td><strong>GPR</strong></td><td></td>\n",
       "            </tr><tr>\n",
       "                <td><strong>Lower bound</strong></td><td>0.0</td>\n",
       "            </tr><tr>\n",
       "                <td><strong>Upper bound</strong></td><td>1000.0</td>\n",
       "            </tr>\n",
       "        </table>\n",
       "        "
      ],
      "text/plain": [
       "<Reaction EX_glu__L_e at 0x12d0c32e8>"
      ]
     },
     "execution_count": 8,
     "metadata": {},
     "output_type": "execute_result"
    }
   ],
   "source": [
    "cobra_model.reactions[29]"
   ]
  },
  {
   "cell_type": "markdown",
   "metadata": {},
   "source": [
    "Within __cobra__, we can distinctly see that an emphasis on lower and upper bounds is placed so as to constrain the reaction. This allows for mathematical calculations to be formulated as the fluxes in and out of a system can be predicated on a certain boundary limit. Thereby, cobrapy works by determining the direction of a reaction (whether it's pushing forward or going back) based on the theoretical limits placed and values of the corresponding fluxes within those limits "
   ]
  },
  {
   "cell_type": "markdown",
   "metadata": {},
   "source": [
    "__One major distinction (due to the upper and lower bound constraints) is that there is no creation of initial conditions nor parameters which can be set.__  The constraints themselves act as conditions that must be met and parameters for the system to follow within cobrapy. In stark contrast, we always set up initial conditions for our metabolites and parameters for our reactions to determine solutions for any given model"
   ]
  },
  {
   "cell_type": "markdown",
   "metadata": {},
   "source": [
    "### 5.1.3 Genes"
   ]
  },
  {
   "cell_type": "code",
   "execution_count": 9,
   "metadata": {},
   "outputs": [],
   "source": [
    "#Skip 4 now "
   ]
  },
  {
   "cell_type": "markdown",
   "metadata": {},
   "source": [
    "## 5.2 Building a Model"
   ]
  },
  {
   "cell_type": "markdown",
   "metadata": {},
   "source": [
    "### 5.2.1 Model Creation"
   ]
  },
  {
   "cell_type": "markdown",
   "metadata": {},
   "source": [
    "A lot of the cobrapy method and masspy method for constrcution of a model initially overlaps. Both intiially are similar in that a model creation is required, however, cobrapy construction creates the reaction first but not the metabolites. Masspy construction begins with the creation of metabolites first and then the reactions, "
   ]
  },
  {
   "cell_type": "code",
   "execution_count": 10,
   "metadata": {},
   "outputs": [],
   "source": [
    "#Create CobraModel\n",
    "cobra_model = Model('example_model')\n",
    "\n",
    "#Generate CobraReactions\n",
    "cobra_reaction = Reaction('3OAS140')\n",
    "cobra_reaction.name = '3 oxoacyl acyl carrier protein synthase n C140 '\n",
    "cobra_reaction.subsystem = 'Cell Envelope Biosynthesis'\n",
    "cobra_reaction.lower_bound = 0.  # Default\n",
    "cobra_reaction.upper_bound = 1000.  #Default"
   ]
  },
  {
   "cell_type": "code",
   "execution_count": 11,
   "metadata": {},
   "outputs": [],
   "source": [
    "# Create MassModel\n",
    "mass_model = MassModel('Toy_Model')\n",
    "mass_model.description = 'Example Model used to Describe Simple Irreversible 2 Step Reaction'\n",
    "# Generate the MassMetabolites \n",
    "x1 = MassMetabolite('x1')\n",
    "x2 = MassMetabolite('x2')\n",
    "x3 = MassMetabolite('x3')\n",
    "# Generate the MassReactions \n",
    "v1 = MassReaction(\"v1\")\n",
    "v2 = MassReaction(\"v2\", reversible=False)"
   ]
  },
  {
   "cell_type": "markdown",
   "metadata": {},
   "source": [
    "It isn't necessary to create metabolites and reactions in that order when it comes to masspy, but since we are building the model from the bottom up, we begin with rudimentary objects and then follow a chronological process of more complex objects till we create the necessary metabolites and corresponding reactions."
   ]
  },
  {
   "cell_type": "markdown",
   "metadata": {},
   "source": [
    "Cobrapy is inherently different due to constrain based analysis; it follows a top-down system and thereby is more focused on the construction of the reactions first in order to determine the specific intricacies of the flux into and out of the system. Furthermore, setting the constrains and bounds of the reactions further helps to corroborate this top down mechanism; naturally, cobrapy add metabolites after the addition of reactions,"
   ]
  },
  {
   "cell_type": "code",
   "execution_count": 12,
   "metadata": {},
   "outputs": [],
   "source": [
    "#Generate CobraMetabolites\n",
    "ACP_c = Metabolite(\n",
    "    'ACP_c',\n",
    "    formula='C11H21N2O7PRS',\n",
    "    name='acyl-carrier-protein',\n",
    "    compartment='c')\n",
    "omrsACP_c = Metabolite(\n",
    "    '3omrsACP_c',\n",
    "    formula='C25H45N2O9PRS',\n",
    "    name='3-Oxotetradecanoyl-acyl-carrier-protein',\n",
    "    compartment='c')\n",
    "co2_c = Metabolite('co2_c', formula='CO2', name='CO2', compartment='c')\n",
    "malACP_c = Metabolite(\n",
    "    'malACP_c',\n",
    "    formula='C14H22N2O10PRS',\n",
    "    name='Malonyl-acyl-carrier-protein',\n",
    "    compartment='c')\n",
    "h_c = Metabolite('h_c', formula='H', name='H', compartment='c')\n",
    "ddcaACP_c = Metabolite(\n",
    "    'ddcaACP_c',\n",
    "    formula='C23H43N2O8PRS',\n",
    "    name='Dodecanoyl-ACP-n-C120ACP',\n",
    "    compartment='c')"
   ]
  },
  {
   "cell_type": "markdown",
   "metadata": {},
   "source": [
    "The detail for each metabolite in cobrapy is much more meticulous than the documentation used in masspy; from specifying the name and formula to determining which compartment the metabolites belong to, cobrapy hones in to specify intricacies of it's metabolites. "
   ]
  },
  {
   "cell_type": "markdown",
   "metadata": {},
   "source": [
    "### 5.2.2 Adding Metabolites to Reactions"
   ]
  },
  {
   "cell_type": "markdown",
   "metadata": {},
   "source": [
    "Both cobrapy and masspy add metabolites to reactions and then reactions to the model; there is no discrepency between the two procedures nor methodologies,"
   ]
  },
  {
   "cell_type": "code",
   "execution_count": 13,
   "metadata": {},
   "outputs": [
    {
     "data": {
      "text/plain": [
       "'ddcaACP_c + h_c + malACP_c --> 3omrsACP_c + ACP_c + co2_c'"
      ]
     },
     "execution_count": 13,
     "metadata": {},
     "output_type": "execute_result"
    }
   ],
   "source": [
    "#COBRA Method\n",
    "cobra_reaction.add_metabolites({\n",
    "    malACP_c: -1.0,\n",
    "    h_c: -1.0,\n",
    "    ddcaACP_c: -1.0,\n",
    "    co2_c: 1.0,\n",
    "    ACP_c: 1.0,\n",
    "    omrsACP_c: 1.0\n",
    "})\n",
    "\n",
    "cobra_reaction.reaction  # String output of reaction"
   ]
  },
  {
   "cell_type": "markdown",
   "metadata": {},
   "source": [
    "*Adding Genes to the Cobra Model*"
   ]
  },
  {
   "cell_type": "code",
   "execution_count": 14,
   "metadata": {},
   "outputs": [
    {
     "data": {
      "text/plain": [
       "frozenset({<Gene STM1197 at 0x12cf97e80>, <Gene STM2378 at 0x12cf974e0>})"
      ]
     },
     "execution_count": 14,
     "metadata": {},
     "output_type": "execute_result"
    }
   ],
   "source": [
    "#skip\n",
    "cobra_reaction.gene_reaction_rule = '( STM2378 or STM1197 )'\n",
    "cobra_reaction.genes"
   ]
  },
  {
   "cell_type": "code",
   "execution_count": 15,
   "metadata": {},
   "outputs": [],
   "source": [
    "pass"
   ]
  },
  {
   "cell_type": "code",
   "execution_count": 16,
   "metadata": {},
   "outputs": [],
   "source": [
    "#Add MassMetabolites to Rxns\n",
    "v1.add_metabolites({x1 : -1, x2 : 1})\n",
    "v2.add_metabolites({x2 : -1, x3 : 1})"
   ]
  },
  {
   "cell_type": "markdown",
   "metadata": {},
   "source": [
    "Thereafter, reactions are added to the model in a similar manner for both cobrapy and masspy"
   ]
  },
  {
   "cell_type": "code",
   "execution_count": 17,
   "metadata": {},
   "outputs": [],
   "source": [
    "cobra_model.add_reactions([cobra_reaction])"
   ]
  },
  {
   "cell_type": "code",
   "execution_count": 18,
   "metadata": {},
   "outputs": [],
   "source": [
    "mass_model.add_reactions([v1,v2])"
   ]
  },
  {
   "cell_type": "code",
   "execution_count": 19,
   "metadata": {},
   "outputs": [
    {
     "data": {
      "text/html": [
       "\n",
       "        <table>\n",
       "            <tr>\n",
       "                <td><strong>Name</strong></td>\n",
       "                <td>example_model</td>\n",
       "            </tr><tr>\n",
       "                <td><strong>Memory address</strong></td>\n",
       "                <td>0x012cf97978</td>\n",
       "            </tr><tr>\n",
       "                <td><strong>Number of metabolites</strong></td>\n",
       "                <td>6</td>\n",
       "            </tr><tr>\n",
       "                <td><strong>Number of reactions</strong></td>\n",
       "                <td>1</td>\n",
       "            </tr><tr>\n",
       "                <td><strong>Objective expression</strong></td>\n",
       "                <td>0</td>\n",
       "            </tr><tr>\n",
       "                <td><strong>Compartments</strong></td>\n",
       "                <td>c</td>\n",
       "            </tr>\n",
       "          </table>"
      ],
      "text/plain": [
       "<Model example_model at 0x12cf97978>"
      ]
     },
     "execution_count": 19,
     "metadata": {},
     "output_type": "execute_result"
    }
   ],
   "source": [
    "cobra_model"
   ]
  },
  {
   "cell_type": "code",
   "execution_count": 20,
   "metadata": {},
   "outputs": [
    {
     "data": {
      "text/html": [
       "\n",
       "            <table>\n",
       "                <tr>\n",
       "                    <td><strong>Name</strong></td><td>Toy_Model</td>\n",
       "                </tr><tr>\n",
       "                    <td><strong>Memory address</strong></td><td>0x012ced46d8</td>\n",
       "                </tr><tr>\n",
       "                    <td><strong>Stoichiometric Matrix</strong></td>\n",
       "                    <td>3x2</td>\n",
       "                </tr><tr>\n",
       "                    <td><strong>Matrix Rank</strong></td>\n",
       "                    <td>2</td>\n",
       "                </tr><tr>\n",
       "                    <td><strong>Matrix Type</strong></td>\n",
       "                    <td>dense, float64</td>\n",
       "                </tr><tr>\n",
       "                    <td><strong>Number of Metabolites</strong></td>\n",
       "                    <td>3</td>\n",
       "                </tr><tr>\n",
       "                    <td><strong>Number of Reactions</strong></td>\n",
       "                    <td>2</td>\n",
       "                </tr><tr>\n",
       "                    <td><strong>Number of Initial Conditions</strong></td>\n",
       "                    <td>0</td>\n",
       "                </tr><tr>\n",
       "                    <td><strong>Number of Forward Rate Constants</strong></td>\n",
       "                    <td>0</td>\n",
       "                </tr><tr>\n",
       "                    <td><strong>Number of Equilibrium Constants</strong></td>\n",
       "                    <td>1</td>\n",
       "                </tr><tr>\n",
       "                    <td><strong>Number of Irreversible Reactions</strong></td>\n",
       "                    <td>1</td>\n",
       "                </tr><tr>\n",
       "                    <td><strong>Number of Exchanges</strong></td>\n",
       "                    <td>0</td>\n",
       "                </tr><tr>\n",
       "                    <td><strong>Number of Fixed Concentrations</strong></td>\n",
       "                    <td>0</td>\n",
       "                </tr><tr>\n",
       "                    <td><strong>Number of Custom Rates</strong></td>\n",
       "                    <td>0</td>\n",
       "                </tr><tr>\n",
       "                    <td><strong>Number of Genes</strong></td>\n",
       "                    <td>0</td>\n",
       "                </tr><tr>\n",
       "                    <td><strong>Number of Enzymes</strong></td>\n",
       "                    <td>0</td>\n",
       "                </tr><tr>\n",
       "                    <td><strong>Modules</strong></td>\n",
       "                    <td></br></td>\n",
       "                </tr><tr>\n",
       "                    <td><strong>Compartments</strong></td>\n",
       "                    <td></td>\n",
       "                </tr><tr>\n",
       "                    <td><strong>Units</strong></td>\n",
       "                    <td></td>\n",
       "                </tr>\n",
       "            </table>\n",
       "        "
      ],
      "text/plain": [
       "<MassModel Toy_Model at 0x12ced46d8>"
      ]
     },
     "execution_count": 20,
     "metadata": {},
     "output_type": "execute_result"
    }
   ],
   "source": [
    "mass_model"
   ]
  },
  {
   "cell_type": "markdown",
   "metadata": {},
   "source": [
    "### 5.2.3 Objectives in Cobrapy"
   ]
  },
  {
   "cell_type": "markdown",
   "metadata": {},
   "source": [
    "The format of creating models is quite similar for mass and cobra; genes are the only section which are a little bit more intuitive; however, there is also the addition of an objective which cobra utilizes which is essentially the maximization of flux for the cobra model, "
   ]
  },
  {
   "cell_type": "code",
   "execution_count": 21,
   "metadata": {},
   "outputs": [],
   "source": [
    "cobra_model.objective = '3OAS140'"
   ]
  },
  {
   "cell_type": "markdown",
   "metadata": {},
   "source": [
    "Which can be examined by, "
   ]
  },
  {
   "cell_type": "code",
   "execution_count": 25,
   "metadata": {},
   "outputs": [
    {
     "name": "stdout",
     "output_type": "stream",
     "text": [
      "-1.0*3OAS140_reverse_65ddc + 1.0*3OAS140\n",
      "max\n"
     ]
    }
   ],
   "source": [
    "print(cobra_model.objective.expression)\n",
    "print(cobra_model.objective.direction)"
   ]
  },
  {
   "cell_type": "markdown",
   "metadata": {},
   "source": [
    "## 5.3 Simulations & Visualiation"
   ]
  },
  {
   "cell_type": "markdown",
   "metadata": {},
   "source": [
    "Simulations between cobrapy and masspy are extremely different; one is a mathematical modeling system comprised of determining fluxes based on constraints while the other focuses on the mass action stoichiometric system as a dynamic entity as it's own. From here, we see that the discrepency of how cobrapy simulates functions is based on flux optimization and constraint based analysis. Masspy can be contrasted upon, but cannot be compared to in detail due to the wide range of discrepency between the two methods of modeling. "
   ]
  },
  {
   "cell_type": "markdown",
   "metadata": {},
   "source": [
    "Furthermore, it is interesting to note that *cobrapy has no method to visualize data that is printed to us*. Most of the data is the raw presentation of data in the form of tables. This difference points to the more interesting nuances between the two modeling systems. "
   ]
  },
  {
   "cell_type": "markdown",
   "metadata": {},
   "source": [
    "*Note: We will not analyze cobrapy against masspy due to the great variation between the two models; rather, we advise individuals to read upon the simulation and analysis COBRA utilizes from their documentation page: https://cobrapy.readthedocs.io/en/latest/simulating.html * Our methods "
   ]
  }
 ],
 "metadata": {
  "kernelspec": {
   "display_name": "Python 3",
   "language": "python",
   "name": "python3"
  },
  "language_info": {
   "codemirror_mode": {
    "name": "ipython",
    "version": 3
   },
   "file_extension": ".py",
   "mimetype": "text/x-python",
   "name": "python",
   "nbconvert_exporter": "python",
   "pygments_lexer": "ipython3",
   "version": "3.7.3"
  }
 },
 "nbformat": 4,
 "nbformat_minor": 2
}
