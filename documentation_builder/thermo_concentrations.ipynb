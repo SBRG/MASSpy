{
 "cells": [
  {
   "cell_type": "markdown",
   "metadata": {},
   "source": [
    "# Thermodynamic Feasibility and Sampling of Metabolite Concentrations\n",
    "This notebook will demonstrate how **MASSpy** can be used to ensure thermodynamic feasibility in the metabolite concentrations of a model, and to generate samples of thermodynamically feasible metabolite concentrations for a model."
   ]
  },
  {
   "cell_type": "code",
   "execution_count": 1,
   "metadata": {},
   "outputs": [
    {
     "name": "stdout",
     "output_type": "stream",
     "text": [
      "Academic license - for non-commercial use only\n"
     ]
    }
   ],
   "source": [
    "# Disable gurobi logging output for this notebook.\n",
    "try:\n",
    "    import gurobipy\n",
    "    gurobipy.setParam(\"OutputFlag\", 0)\n",
    "except ImportError:\n",
    "    pass\n",
    "\n",
    "import matplotlib.pyplot as plt\n",
    "\n",
    "import numpy as np\n",
    "\n",
    "import mass.test\n",
    "\n",
    "from mass import MassConfiguration\n",
    "from mass.thermo import ConcSolver\n",
    "from mass.visualization import comparison_plot\n",
    "\n",
    "MASSCONFIGURATION = MassConfiguration()\n",
    "# Load the JSON version of the textbook model\n",
    "model = mass.test.create_test_model(\"textbook\", io=\"json\")"
   ]
  },
  {
   "cell_type": "markdown",
   "metadata": {},
   "source": [
    "**Note**: Throughout this notebook, the term *thermodynamic feasibility constraint* for a reaction refers to the following:\n",
    "\n",
    "For a given reaction:\n",
    "$$\n",
    "\\textbf{S}^T \\ln{(\\textbf{x})} < \\ln{(\\text{Keq})}\\ - \\epsilon\\ \\text{if}\\ \\text{v}\\ > 0\\\\\n",
    "\\textbf{S}^T \\ln{(\\textbf{x})} > \\ln{(\\text{Keq})}\\ + \\epsilon\\ \\text{if}\\ \\text{v}\\ < 0\\\\\n",
    "$$\n",
    "\n",
    "where \n",
    "* $\\textbf{S}$ refers to the stoichiometry of the reaction\n",
    "* $\\textbf{x}$ refers to the vector of concentrations for the reaction metabolites\n",
    "* $\\text{Keq}$ refers to the equilibrium constant of the reaction\n",
    "* $\\text{v}$ refers to the reaction flux.\n",
    "* $\\epsilon$ refers to a buffer value for the constraint."
   ]
  },
  {
   "cell_type": "markdown",
   "metadata": {},
   "source": [
    "## The ConcSolver object\n",
    "\n",
    "Upon initialization of the `ConcSolver` instance, the model becomes associated with the `ConcSolver` instance.\n",
    "Metabolite concentrations and reaction equilibrium constants are added as variables to the `ConcSolver`, and thermodynamic feasibility constraints based on the reaction's flux direction and stoichiometry are created and added to the solver. Note that **all solver variables and constraints exist in logarithmic space.**\n",
    "\n",
    "Metabolite concentrations that should be excluded from the solver can be defined using the `exclude_metabolites` argument (e.g. hydrogen and water). Reactions can also be excluded from the solver using the `exclude_reactions` argument.\n",
    "\n",
    "Reactions that should exist at equilibrium or equilibrate very quickly should be set using the `equilibrium_reactions` argument. These reactions, such as the hemoglobin binding reactions and the adenylate kinase (ADK1) reaction, typically have a steady state flux value of 0."
   ]
  },
  {
   "cell_type": "code",
   "execution_count": 2,
   "metadata": {},
   "outputs": [
    {
     "data": {
      "text/html": [
       "\n",
       "            <table>\n",
       "                <tr>\n",
       "                    <td><strong>Name</strong></td><td>RBC_PFK</td>\n",
       "                </tr><tr>\n",
       "                    <td><strong>Memory address</strong></td><td>0x01299a7250</td>\n",
       "                </tr><tr>\n",
       "                    <td><strong>Stoichiometric Matrix</strong></td>\n",
       "                    <td>68x76</td>\n",
       "                </tr><tr>\n",
       "                    <td><strong>Matrix Rank</strong></td>\n",
       "                    <td>63</td>\n",
       "                </tr><tr>\n",
       "                    <td><strong>Number of metabolites</strong></td>\n",
       "                    <td>68</td>\n",
       "                </tr><tr>\n",
       "                    <td><strong>Initial conditions defined</strong></td>\n",
       "                    <td>68/68</td>\n",
       "                </tr><tr>\n",
       "                    <td><strong>Number of reactions</strong></td>\n",
       "                    <td>76</td>\n",
       "                </tr><tr>\n",
       "                    <td><strong>Number of genes</strong></td>\n",
       "                    <td>0</td>\n",
       "                </tr><tr>\n",
       "                    <td><strong>Number of enzyme modules</strong></td>\n",
       "                    <td>1</td>\n",
       "                </tr><tr>\n",
       "                    <td><strong>Number of groups</strong></td>\n",
       "                    <td>16</td>\n",
       "                </tr><tr>\n",
       "                    <td><strong>Objective expression</strong></td>\n",
       "                    <td>0</td>\n",
       "                </tr><tr>\n",
       "                    <td><strong>Compartments</strong></td>\n",
       "                    <td>Cytosol</td>\n",
       "                </tr>\n",
       "            </table>\n",
       "        "
      ],
      "text/plain": [
       "<MassModel RBC_PFK at 0x1299a7250>"
      ]
     },
     "execution_count": 2,
     "metadata": {},
     "output_type": "execute_result"
    }
   ],
   "source": [
    "conc_solver = ConcSolver(\n",
    "    model,\n",
    "    excluded_metabolites=[\"h_c\", \"h2o_c\"],\n",
    "    excluded_reactions=None,\n",
    "    equilibrium_reactions=[\"HBDPG\", \"HBO1\", \"HBO2\", \"HBO3\", \"HBO4\", \"ADK1\"])\n",
    "# View the model in the ConcSolver\n",
    "conc_solver.model"
   ]
  },
  {
   "cell_type": "markdown",
   "metadata": {},
   "source": [
    "The `ConcSolver` also becomes associated with the loaded model."
   ]
  },
  {
   "cell_type": "code",
   "execution_count": 3,
   "metadata": {},
   "outputs": [
    {
     "name": "stdout",
     "output_type": "stream",
     "text": [
      "<ConcSolver RBC_PFK at 0x10f5db310>\n"
     ]
    }
   ],
   "source": [
    "print(model.conc_solver)"
   ]
  },
  {
   "cell_type": "markdown",
   "metadata": {},
   "source": [
    "Concentrations and equilibrium constants cannot be negative numbers, therefore the bounds for each variable are set to ensure such behavior. Howevever, because $\\ln(0)$ results in a domain error, the `ConcSolver` has the `zero_value_log_substitute` attribute. The value of the attribute is substituted for 0 to avoid any errors.\n",
    "\n",
    "For example, if `zero_value_log_substitute=1e-10`, then taking the logarithm of 0 is treated as $\\ln(0) \\approx \\ln(1*10^{-10}) = -23.026$"
   ]
  },
  {
   "cell_type": "code",
   "execution_count": 4,
   "metadata": {},
   "outputs": [
    {
     "name": "stdout",
     "output_type": "stream",
     "text": [
      "Substitute for ln(0): ln(1.0e-10)\n"
     ]
    }
   ],
   "source": [
    "print(\"Substitute for ln(0): ln({0:.1e})\".format(\n",
    "    conc_solver.zero_value_log_substitute))"
   ]
  },
  {
   "cell_type": "markdown",
   "metadata": {},
   "source": [
    "Variables can be accessed through the `variables` attribute. The number of variables will equal the combined total of  the number of included metabolites and the number of included reactions. Specific variables can be accessed using their identifiers as a key."
   ]
  },
  {
   "cell_type": "code",
   "execution_count": 5,
   "metadata": {},
   "outputs": [
    {
     "name": "stdout",
     "output_type": "stream",
     "text": [
      "Number of included metabolites: 66 \n",
      "Number of included reactions: 48 \n",
      "Total number of variables: 114\n",
      "\n",
      "The glucose concentration variable \n",
      "----------------------------------\n",
      " -23.025850929940457 <= glc__D_c <= inf\n"
     ]
    }
   ],
   "source": [
    "print(\"Number of included metabolites: {0}\".format(len(conc_solver.included_metabolites)),\n",
    "      \"\\nNumber of included reactions: {0}\".format(len(conc_solver.included_reactions)),\n",
    "      \"\\nTotal number of variables: {0}\\n\".format(len(conc_solver.variables)))\n",
    "\n",
    "# Access the glucose concentration variable\n",
    "variable = conc_solver.variables[\"glc__D_c\"]\n",
    "print(\"The glucose concentration variable\",\n",
    "      \"\\n----------------------------------\\n\",\n",
    "      variable)"
   ]
  },
  {
   "cell_type": "markdown",
   "metadata": {},
   "source": [
    "Constraints can be accessed through the `constraints` attribute. The number of constraints will equal the number of included reactions. Just like variables, specific constraints can be accessed using reaction identifiers as a key."
   ]
  },
  {
   "cell_type": "code",
   "execution_count": 6,
   "metadata": {},
   "outputs": [
    {
     "name": "stdout",
     "output_type": "stream",
     "text": [
      "Total number of constraints: 48\n",
      "\n",
      "Thermodynamic feasibility constraint for HEX1 \n",
      "-------------------------------------------\n",
      " HEX1: -1.0*Keq_HEX1 + 1.0*adp_c - 1.0*atp_c + 1.0*g6p_c - 1.0*glc__D_c <= 0\n"
     ]
    }
   ],
   "source": [
    "print(\"Total number of constraints: {0}\\n\".format(len(conc_solver.constraints)))\n",
    "# Access the hexokinase thermodynamic feasibility constraint\n",
    "print(\"Thermodynamic feasibility constraint for HEX1\",\n",
    "      \"\\n-------------------------------------------\\n\",\n",
    "      conc_solver.constraints[\"HEX1\"])"
   ]
  },
  {
   "cell_type": "markdown",
   "metadata": {},
   "source": [
    "Currently, the constraints do not have a buffer which provides some flexibility when solving the underlying mathematical problem of the `ConcSolver`. The `constraint_buffer` attribute can be used to set the *epsilon* value of the constraint. The constraints must be reset in order for the changed buffer value to take effect."
   ]
  },
  {
   "cell_type": "code",
   "execution_count": 7,
   "metadata": {},
   "outputs": [
    {
     "name": "stdout",
     "output_type": "stream",
     "text": [
      "Thermodynamic feasibility constraint for HEX1 \n",
      "-------------------------------------------\n",
      " HEX1: -1.0*Keq_HEX1 + 1.0*adp_c - 1.0*atp_c + 1.0*g6p_c - 1.0*glc__D_c <= -1e-07\n"
     ]
    }
   ],
   "source": [
    "conc_solver.constraint_buffer = 1e-7\n",
    "conc_solver.reset_constraints()\n",
    "print(\"Thermodynamic feasibility constraint for HEX1\",\n",
    "      \"\\n-------------------------------------------\\n\",\n",
    "      conc_solver.constraints[\"HEX1\"])"
   ]
  },
  {
   "cell_type": "markdown",
   "metadata": {},
   "source": [
    "Upon initialization of the `ConcSolver`, the `ConcSolver.problem_type` is considered generic and no objective is set."
   ]
  },
  {
   "cell_type": "code",
   "execution_count": 8,
   "metadata": {},
   "outputs": [
    {
     "name": "stdout",
     "output_type": "stream",
     "text": [
      "generic\n",
      "Maximize\n",
      "0\n"
     ]
    }
   ],
   "source": [
    "print(conc_solver.problem_type)\n",
    "print(conc_solver.objective)"
   ]
  },
  {
   "cell_type": "markdown",
   "metadata": {},
   "source": [
    "The following sections will demonstrate different types of problems that can be solved using the `ConcSolver`."
   ]
  },
  {
   "cell_type": "markdown",
   "metadata": {},
   "source": [
    "## Solving for thermodynamically feasible concentrations\n",
    "### Creating the QP problem\n",
    "\n",
    "In order to determine thermodynamically feasible concentrations, a quadratic programming (QP) problem can be set up as follows:\n",
    "\n",
    "Minimize\n",
    "$$\\ln(\\bf{x}/\\bf{x}_0)$$\n",
    "\n",
    "subject to\n",
    "\n",
    "$$\n",
    "\\textbf{S}^T \\ln{(\\textbf{x})} \\lt \\ln{(\\text{Keq}_i)}\\ - \\epsilon\\ \\text{if}\\ \\text{v}_i\\ \\gt 0 \\\\\n",
    "\\textbf{S}^T \\ln{(\\textbf{x})} \\gt \\ln{(\\text{Keq}_i)}\\ + \\epsilon\\ \\text{if}\\ \\text{v}_i\\ \\lt 0 \\\\\n",
    "\\text{Keq}_{i,\\ lb} \\leq \\text{Keq}_i \\leq \\text{Keq}_{i,\\ ub} \\\\\n",
    "\\text{x}_{j,\\ lb} \\leq \\text{x}_j \\leq \\text{x}_{j,\\ ub} \\\\\n",
    "$$\n",
    "where \n",
    "* $\\textbf{S}$ refers to the stoichiometric matrix\n",
    "* $\\textbf{x}$ refers to the vector of metabolite concentrations\n",
    "* $\\textbf{x}_0$ refers to the vector of initial metabolite concentrations\n",
    "* $\\text{Keq}_i$ refers to the equilibrium constant of reaction $i$.\n",
    "* $\\text{v}_i$ refers to the flux for reaction $i$.\n",
    "* $\\text{x}_j$ refers to the concentration of metabolite $j$.\n",
    "* $\\epsilon$ refers to a buffer value for the constraint."
   ]
  },
  {
   "cell_type": "markdown",
   "metadata": {},
   "source": [
    "The first step is to set the optimization solver to one that is capable of handling quadratic objectives. Here, the [gurobi](https://www.gurobi.com/) solver will be used."
   ]
  },
  {
   "cell_type": "code",
   "execution_count": 9,
   "metadata": {},
   "outputs": [
    {
     "name": "stdout",
     "output_type": "stream",
     "text": [
      "<optlang.gurobi_interface.Model object at 0x1299879d0>\n"
     ]
    }
   ],
   "source": [
    "conc_solver.solver = conc_solver.choose_solver(qp=True)\n",
    "print(repr(conc_solver.solver))"
   ]
  },
  {
   "cell_type": "markdown",
   "metadata": {},
   "source": [
    "To set up the underlying mathematical problem in the `ConcSolver`, the `setup_feasible_qp_problem` method can be used. The `fixed_conc_bounds` and `fixed_Keq_bounds` arguments can be used to set the upper and lower bounds of the corresponding variables equal to one other, fixing the variable's value. In this example, the metabolite concentrations will be allowed to change, while the equilibrium constants will be fixed at their original value."
   ]
  },
  {
   "cell_type": "code",
   "execution_count": 10,
   "metadata": {},
   "outputs": [],
   "source": [
    "conc_solver.setup_feasible_qp_problem(\n",
    "    fixed_Keq_bounds=conc_solver.model.reactions)"
   ]
  },
  {
   "cell_type": "markdown",
   "metadata": {},
   "source": [
    "Using the `setup_feasible_qp_problem` method will also set the objective for the optimization."
   ]
  },
  {
   "cell_type": "code",
   "execution_count": 11,
   "metadata": {},
   "outputs": [
    {
     "name": "stdout",
     "output_type": "stream",
     "text": [
      "min\n"
     ]
    },
    {
     "data": {
      "text/plain": [
       "<optlang.gurobi_interface.Objective at 0x129b9fd90>"
      ]
     },
     "execution_count": 11,
     "metadata": {},
     "output_type": "execute_result"
    }
   ],
   "source": [
    "print(conc_solver.objective_direction)\n",
    "conc_solver.objective"
   ]
  },
  {
   "cell_type": "markdown",
   "metadata": {},
   "source": [
    "After using the `setup_feasible_qp_problem` method, the `ConcSolver` is ready for optimization and the `problem_type` is changed to reflect the current problem to be solved by the solver."
   ]
  },
  {
   "cell_type": "code",
   "execution_count": 12,
   "metadata": {},
   "outputs": [
    {
     "name": "stdout",
     "output_type": "stream",
     "text": [
      "feasible_qp\n"
     ]
    }
   ],
   "source": [
    "print(conc_solver.problem_type)"
   ]
  },
  {
   "cell_type": "markdown",
   "metadata": {},
   "source": [
    "### The ConcSolution object\n",
    "Once the `ConcSolver` is set up to solve the QP, the next step is to use the `optimize` method to solve the QP. A successful optimization will return a `ConcSolution` object. All values are transformed back into linear space upon being returned."
   ]
  },
  {
   "cell_type": "code",
   "execution_count": 13,
   "metadata": {},
   "outputs": [
    {
     "data": {
      "text/html": [
       "<strong><em>Optimal</em> solution with objective value 0.000</strong><br><div>\n",
       "<style scoped>\n",
       "    .dataframe tbody tr th:only-of-type {\n",
       "        vertical-align: middle;\n",
       "    }\n",
       "\n",
       "    .dataframe tbody tr th {\n",
       "        vertical-align: top;\n",
       "    }\n",
       "\n",
       "    .dataframe thead th {\n",
       "        text-align: right;\n",
       "    }\n",
       "</style>\n",
       "<table border=\"1\" class=\"dataframe\">\n",
       "  <thead>\n",
       "    <tr style=\"text-align: right;\">\n",
       "      <th></th>\n",
       "      <th>variables</th>\n",
       "      <th>reduced_costs</th>\n",
       "    </tr>\n",
       "  </thead>\n",
       "  <tbody>\n",
       "    <tr>\n",
       "      <td>glc__D_c</td>\n",
       "      <td>1.296763</td>\n",
       "      <td>0.000000</td>\n",
       "    </tr>\n",
       "    <tr>\n",
       "      <td>g6p_c</td>\n",
       "      <td>0.165017</td>\n",
       "      <td>0.000000</td>\n",
       "    </tr>\n",
       "    <tr>\n",
       "      <td>f6p_c</td>\n",
       "      <td>0.067531</td>\n",
       "      <td>0.000000</td>\n",
       "    </tr>\n",
       "    <tr>\n",
       "      <td>fdp_c</td>\n",
       "      <td>0.016615</td>\n",
       "      <td>0.000000</td>\n",
       "    </tr>\n",
       "    <tr>\n",
       "      <td>dhap_c</td>\n",
       "      <td>0.169711</td>\n",
       "      <td>0.000000</td>\n",
       "    </tr>\n",
       "    <tr>\n",
       "      <td>...</td>\n",
       "      <td>...</td>\n",
       "      <td>...</td>\n",
       "    </tr>\n",
       "    <tr>\n",
       "      <td>Keq_PFK_L</td>\n",
       "      <td>0.001100</td>\n",
       "      <td>-0.103955</td>\n",
       "    </tr>\n",
       "    <tr>\n",
       "      <td>Keq_PFK_T1</td>\n",
       "      <td>10.000000</td>\n",
       "      <td>-1.097455</td>\n",
       "    </tr>\n",
       "    <tr>\n",
       "      <td>Keq_PFK_T2</td>\n",
       "      <td>10.000000</td>\n",
       "      <td>-0.408917</td>\n",
       "    </tr>\n",
       "    <tr>\n",
       "      <td>Keq_PFK_T3</td>\n",
       "      <td>10.000000</td>\n",
       "      <td>0.000000</td>\n",
       "    </tr>\n",
       "    <tr>\n",
       "      <td>Keq_PFK_T4</td>\n",
       "      <td>10.000000</td>\n",
       "      <td>0.000000</td>\n",
       "    </tr>\n",
       "  </tbody>\n",
       "</table>\n",
       "<p>114 rows × 2 columns</p>\n",
       "</div>"
      ],
      "text/plain": [
       "<Solution 0.000 at 0x129be0b10>"
      ]
     },
     "execution_count": 13,
     "metadata": {},
     "output_type": "execute_result"
    }
   ],
   "source": [
    "conc_solution = conc_solver.optimize()\n",
    "conc_solution"
   ]
  },
  {
   "cell_type": "markdown",
   "metadata": {},
   "source": [
    "The `ConcSolution` object has several methods for viewing the results of the optimization and returning `pandas` objects containing the numerical solutions."
   ]
  },
  {
   "cell_type": "code",
   "execution_count": 14,
   "metadata": {},
   "outputs": [
    {
     "data": {
      "text/plain": [
       "['Keq_reduced_costs',\n",
       " 'Keqs',\n",
       " 'Keqs_to_frame',\n",
       " 'concentration_reduced_costs',\n",
       " 'concentrations',\n",
       " 'concentrations_to_frame',\n",
       " 'get_primal_by_id',\n",
       " 'objective_value',\n",
       " 'shadow_prices',\n",
       " 'status',\n",
       " 'to_frame']"
      ]
     },
     "execution_count": 14,
     "metadata": {},
     "output_type": "execute_result"
    }
   ],
   "source": [
    "dir(conc_solution)"
   ]
  },
  {
   "cell_type": "markdown",
   "metadata": {},
   "source": [
    "If the visualization feature of **MASSPy** are enabled, the predicted values can be plotted against the original model values for comparison using the `comparison_plot` method."
   ]
  },
  {
   "cell_type": "code",
   "execution_count": 15,
   "metadata": {},
   "outputs": [
    {
     "data": {
      "image/png": "[encoded data removed]",
      "text/plain": [
       "<Figure size 432x432 with 1 Axes>"
      ]
     },
     "metadata": {
      "needs_background": "light"
     },
     "output_type": "display_data"
    }
   ],
   "source": [
    "# Create figure\n",
    "fig, ax = plt.subplots(figsize=(6, 6))\n",
    "\n",
    "# Compare values\n",
    "comparison_plot(x=model, y=conc_solution, compare=\"concentrations\",\n",
    "                observable=conc_solver.included_metabolites, legend=\"right outside\",\n",
    "                xlabel=\"Current Concentrations [mM]\", ylabel=\"Predicted Concentrations [mM]\",\n",
    "                plot_function=\"loglog\", xy_line=True, xy_legend=\"best\");"
   ]
  },
  {
   "cell_type": "markdown",
   "metadata": {},
   "source": [
    "The model in the `ConcSolver` can be updated with the results contained within the `ConcSolution` using the `update_model_with_solution` method. Setting `inplace=True` will update the current model of the `ConcSolver`, while setting `inplace=False` will replace the model of the `ConcSolver` with a updated copy the model without modifying the original. Note that this also will remove the previous model's association with the `ConcSolver`."
   ]
  },
  {
   "cell_type": "code",
   "execution_count": 16,
   "metadata": {},
   "outputs": [
    {
     "name": "stdout",
     "output_type": "stream",
     "text": [
      "Same model object? False\n",
      "None\n"
     ]
    }
   ],
   "source": [
    "conc_solver.update_model_with_solution(conc_solution, concentrations=True, Keqs=False,\n",
    "                                       inplace=False)\n",
    "print(\"Same model object? {0}\".format(conc_solver.model == model))\n",
    "print(model.conc_solver)"
   ]
  },
  {
   "cell_type": "markdown",
   "metadata": {},
   "source": [
    "## Concentration Sampling\n",
    "### Basic usage\n",
    "\n",
    "The easiest method of sampling concentrations is to use the `sample_concentrations` function in the `conc_sampling` submodule."
   ]
  },
  {
   "cell_type": "code",
   "execution_count": 17,
   "metadata": {},
   "outputs": [],
   "source": [
    "from mass.thermo.conc_sampling import sample_concentrations"
   ]
  },
  {
   "cell_type": "markdown",
   "metadata": {},
   "source": [
    "To set up the `ConcSolver` for sampling, the `setup_sampling_problem` method can be used. The `conc_percent_deviation` and `Keq_percent_deviation` arguments can be used to set the variable bounds for sampling. For this example, the defined concentrations will be allowed to deviate up to %75 from their baseline value, while the defined equilibrium constants will remain fixed at their current values. "
   ]
  },
  {
   "cell_type": "code",
   "execution_count": 18,
   "metadata": {},
   "outputs": [
    {
     "name": "stdout",
     "output_type": "stream",
     "text": [
      "sampling\n"
     ]
    }
   ],
   "source": [
    "conc_solver.setup_sampling_problem(\n",
    "    conc_percent_deviation=0.75,\n",
    "    Keq_percent_deviation=0)\n",
    "print(conc_solver.problem_type)"
   ]
  },
  {
   "cell_type": "markdown",
   "metadata": {},
   "source": [
    "To use the `sample_concentrations` function requires at least two arguments: a `ConcSolver` that has been set up for sampling, and the number of samples to generate."
   ]
  },
  {
   "cell_type": "code",
   "execution_count": 19,
   "metadata": {},
   "outputs": [
    {
     "data": {
      "text/html": [
       "<div>\n",
       "<style scoped>\n",
       "    .dataframe tbody tr th:only-of-type {\n",
       "        vertical-align: middle;\n",
       "    }\n",
       "\n",
       "    .dataframe tbody tr th {\n",
       "        vertical-align: top;\n",
       "    }\n",
       "\n",
       "    .dataframe thead th {\n",
       "        text-align: right;\n",
       "    }\n",
       "</style>\n",
       "<table border=\"1\" class=\"dataframe\">\n",
       "  <thead>\n",
       "    <tr style=\"text-align: right;\">\n",
       "      <th></th>\n",
       "      <th>glc__D_c</th>\n",
       "      <th>g6p_c</th>\n",
       "      <th>f6p_c</th>\n",
       "      <th>fdp_c</th>\n",
       "      <th>dhap_c</th>\n",
       "      <th>g3p_c</th>\n",
       "      <th>_13dpg_c</th>\n",
       "      <th>_3pg_c</th>\n",
       "      <th>_2pg_c</th>\n",
       "      <th>pep_c</th>\n",
       "      <th>...</th>\n",
       "      <th>pfk_R3_A_c</th>\n",
       "      <th>pfk_R3_AF_c</th>\n",
       "      <th>pfk_R4_c</th>\n",
       "      <th>pfk_R4_A_c</th>\n",
       "      <th>pfk_R4_AF_c</th>\n",
       "      <th>pfk_T0_c</th>\n",
       "      <th>pfk_T1_c</th>\n",
       "      <th>pfk_T2_c</th>\n",
       "      <th>pfk_T3_c</th>\n",
       "      <th>pfk_T4_c</th>\n",
       "    </tr>\n",
       "  </thead>\n",
       "  <tbody>\n",
       "    <tr>\n",
       "      <td>0</td>\n",
       "      <td>1.838733</td>\n",
       "      <td>0.231629</td>\n",
       "      <td>0.094778</td>\n",
       "      <td>0.023103</td>\n",
       "      <td>0.175205</td>\n",
       "      <td>0.008099</td>\n",
       "      <td>0.000495</td>\n",
       "      <td>0.101416</td>\n",
       "      <td>0.014912</td>\n",
       "      <td>0.025272</td>\n",
       "      <td>...</td>\n",
       "      <td>0.000008</td>\n",
       "      <td>1.333062e-06</td>\n",
       "      <td>3.784949e-07</td>\n",
       "      <td>0.000001</td>\n",
       "      <td>2.401801e-07</td>\n",
       "      <td>3.368819e-11</td>\n",
       "      <td>7.186951e-10</td>\n",
       "      <td>1.533245e-08</td>\n",
       "      <td>1.844079e-07</td>\n",
       "      <td>4.699242e-07</td>\n",
       "    </tr>\n",
       "    <tr>\n",
       "      <td>1</td>\n",
       "      <td>1.676334</td>\n",
       "      <td>0.241008</td>\n",
       "      <td>0.098624</td>\n",
       "      <td>0.026317</td>\n",
       "      <td>0.192492</td>\n",
       "      <td>0.009139</td>\n",
       "      <td>0.000334</td>\n",
       "      <td>0.115339</td>\n",
       "      <td>0.016961</td>\n",
       "      <td>0.028746</td>\n",
       "      <td>...</td>\n",
       "      <td>0.000009</td>\n",
       "      <td>1.451884e-06</td>\n",
       "      <td>4.084687e-07</td>\n",
       "      <td>0.000002</td>\n",
       "      <td>2.565310e-07</td>\n",
       "      <td>3.127272e-11</td>\n",
       "      <td>6.880689e-10</td>\n",
       "      <td>1.513265e-08</td>\n",
       "      <td>1.982327e-07</td>\n",
       "      <td>5.214509e-07</td>\n",
       "    </tr>\n",
       "    <tr>\n",
       "      <td>2</td>\n",
       "      <td>1.514303</td>\n",
       "      <td>0.191808</td>\n",
       "      <td>0.076961</td>\n",
       "      <td>0.024225</td>\n",
       "      <td>0.177437</td>\n",
       "      <td>0.009243</td>\n",
       "      <td>0.000344</td>\n",
       "      <td>0.106695</td>\n",
       "      <td>0.015442</td>\n",
       "      <td>0.021755</td>\n",
       "      <td>...</td>\n",
       "      <td>0.000004</td>\n",
       "      <td>8.306342e-07</td>\n",
       "      <td>3.409805e-07</td>\n",
       "      <td>0.000001</td>\n",
       "      <td>2.030264e-07</td>\n",
       "      <td>2.756611e-11</td>\n",
       "      <td>6.044215e-10</td>\n",
       "      <td>1.333798e-08</td>\n",
       "      <td>1.597282e-07</td>\n",
       "      <td>4.693096e-07</td>\n",
       "    </tr>\n",
       "    <tr>\n",
       "      <td>3</td>\n",
       "      <td>1.644269</td>\n",
       "      <td>0.192006</td>\n",
       "      <td>0.077014</td>\n",
       "      <td>0.023385</td>\n",
       "      <td>0.171895</td>\n",
       "      <td>0.009081</td>\n",
       "      <td>0.000432</td>\n",
       "      <td>0.104493</td>\n",
       "      <td>0.015119</td>\n",
       "      <td>0.021231</td>\n",
       "      <td>...</td>\n",
       "      <td>0.000004</td>\n",
       "      <td>7.650128e-07</td>\n",
       "      <td>3.072297e-07</td>\n",
       "      <td>0.000001</td>\n",
       "      <td>2.370071e-07</td>\n",
       "      <td>3.261670e-11</td>\n",
       "      <td>7.108681e-10</td>\n",
       "      <td>1.559474e-08</td>\n",
       "      <td>1.847535e-07</td>\n",
       "      <td>4.560103e-07</td>\n",
       "    </tr>\n",
       "    <tr>\n",
       "      <td>4</td>\n",
       "      <td>0.778380</td>\n",
       "      <td>0.119757</td>\n",
       "      <td>0.046252</td>\n",
       "      <td>0.013005</td>\n",
       "      <td>0.108509</td>\n",
       "      <td>0.005043</td>\n",
       "      <td>0.000404</td>\n",
       "      <td>0.055853</td>\n",
       "      <td>0.006737</td>\n",
       "      <td>0.009927</td>\n",
       "      <td>...</td>\n",
       "      <td>0.000003</td>\n",
       "      <td>5.707679e-07</td>\n",
       "      <td>3.331054e-07</td>\n",
       "      <td>0.000001</td>\n",
       "      <td>3.156769e-07</td>\n",
       "      <td>4.121357e-11</td>\n",
       "      <td>7.710548e-10</td>\n",
       "      <td>1.482616e-08</td>\n",
       "      <td>1.562883e-07</td>\n",
       "      <td>4.138175e-07</td>\n",
       "    </tr>\n",
       "  </tbody>\n",
       "</table>\n",
       "<p>5 rows × 66 columns</p>\n",
       "</div>"
      ],
      "text/plain": [
       "   glc__D_c     g6p_c     f6p_c     fdp_c    dhap_c     g3p_c  _13dpg_c  \\\n",
       "0  1.838733  0.231629  0.094778  0.023103  0.175205  0.008099  0.000495   \n",
       "1  1.676334  0.241008  0.098624  0.026317  0.192492  0.009139  0.000334   \n",
       "2  1.514303  0.191808  0.076961  0.024225  0.177437  0.009243  0.000344   \n",
       "3  1.644269  0.192006  0.077014  0.023385  0.171895  0.009081  0.000432   \n",
       "4  0.778380  0.119757  0.046252  0.013005  0.108509  0.005043  0.000404   \n",
       "\n",
       "     _3pg_c    _2pg_c     pep_c  ...  pfk_R3_A_c   pfk_R3_AF_c      pfk_R4_c  \\\n",
       "0  0.101416  0.014912  0.025272  ...    0.000008  1.333062e-06  3.784949e-07   \n",
       "1  0.115339  0.016961  0.028746  ...    0.000009  1.451884e-06  4.084687e-07   \n",
       "2  0.106695  0.015442  0.021755  ...    0.000004  8.306342e-07  3.409805e-07   \n",
       "3  0.104493  0.015119  0.021231  ...    0.000004  7.650128e-07  3.072297e-07   \n",
       "4  0.055853  0.006737  0.009927  ...    0.000003  5.707679e-07  3.331054e-07   \n",
       "\n",
       "   pfk_R4_A_c   pfk_R4_AF_c      pfk_T0_c      pfk_T1_c      pfk_T2_c  \\\n",
       "0    0.000001  2.401801e-07  3.368819e-11  7.186951e-10  1.533245e-08   \n",
       "1    0.000002  2.565310e-07  3.127272e-11  6.880689e-10  1.513265e-08   \n",
       "2    0.000001  2.030264e-07  2.756611e-11  6.044215e-10  1.333798e-08   \n",
       "3    0.000001  2.370071e-07  3.261670e-11  7.108681e-10  1.559474e-08   \n",
       "4    0.000001  3.156769e-07  4.121357e-11  7.710548e-10  1.482616e-08   \n",
       "\n",
       "       pfk_T3_c      pfk_T4_c  \n",
       "0  1.844079e-07  4.699242e-07  \n",
       "1  1.982327e-07  5.214509e-07  \n",
       "2  1.597282e-07  4.693096e-07  \n",
       "3  1.847535e-07  4.560103e-07  \n",
       "4  1.562883e-07  4.138175e-07  \n",
       "\n",
       "[5 rows x 66 columns]"
      ]
     },
     "execution_count": 19,
     "metadata": {},
     "output_type": "execute_result"
    }
   ],
   "source": [
    "samples = sample_concentrations(conc_solver, n=20)\n",
    "samples.head()"
   ]
  },
  {
   "cell_type": "markdown",
   "metadata": {},
   "source": [
    "By default `sample_concentrations` uses the `optgp` method <cite data-cite=\"optgp\">\n",
    "(Megchelenbrink, Huynen, and Marchiori, 2014)</cite> as it is suited for larger models and can run in parallel. By default the sampler uses the number of processes as defined in the `MassConfiguration` object. This can be changed by using the `processes` argument."
   ]
  },
  {
   "cell_type": "code",
   "execution_count": 20,
   "metadata": {},
   "outputs": [],
   "source": [
    "# print(\"One process:\")\n",
    "# %time samples = sample_concentrations(conc_solver, n=1000, processes=1)\n",
    "# print(\"\\nTwo processes:\")\n",
    "# %time samples = sample_concentrations(conc_solver, n=1000, processes=2)"
   ]
  },
  {
   "cell_type": "markdown",
   "metadata": {},
   "source": [
    "Alternatively the Artificial Centering Hit-and-Run for sampling <cite data-cite=\"achr\">\n",
    "(Kaufman and Smith, 1998)</cite> can be utilized by setting the method to `achr`. The `achr` method does not support parallel execution but has good convergence and is almost Markovian."
   ]
  },
  {
   "cell_type": "code",
   "execution_count": 21,
   "metadata": {},
   "outputs": [],
   "source": [
    "samples = sample_concentrations(conc_solver, n=100, method=\"achr\")"
   ]
  },
  {
   "cell_type": "markdown",
   "metadata": {},
   "source": [
    "In general, setting up the sampler is expensive since initial search directions are generated by solving many linear programming problems. Thus, it is recommended to generate as many samples as possible in one go. However, this might require finer control over the sampling procedure as described in the following section."
   ]
  },
  {
   "cell_type": "markdown",
   "metadata": {},
   "source": [
    "### Advance usage\n",
    "#### Sampler objects\n",
    "\n",
    "The concentration sampling process can be controlled on a lower level by using the sampler classes directly, found in the `conc_sampling` submodule."
   ]
  },
  {
   "cell_type": "code",
   "execution_count": 22,
   "metadata": {},
   "outputs": [],
   "source": [
    "from mass.thermo.conc_sampling import ConcACHRSampler, ConcOptGPSampler"
   ]
  },
  {
   "cell_type": "markdown",
   "metadata": {},
   "source": [
    "Both concentration sampler classes have standardized interfaces and take some additional arguments. \n",
    "\n",
    "For example, one such argument is the thinning factor, where “Thinning” means only recording samples every `x` iterations where `x` is the thinning factor. A higher thinning factors mean less correlated samples but also larger computation times.\n",
    "\n",
    "By default the samplers use a thinning factor of 100 which creates roughly uncorrelated samples. Increasing the thinning factor leads to better mixing of samples, while lowering the thinning factor leads to more correlated samples. For example, to study convergence for a model, it may be desirable to set a thinning factor of 1 to obtain all iterates.\n",
    "\n",
    "Samplers can also be seeded so that they produce the same results each time they are run."
   ]
  },
  {
   "cell_type": "code",
   "execution_count": 23,
   "metadata": {},
   "outputs": [
    {
     "data": {
      "text/html": [
       "<div>\n",
       "<style scoped>\n",
       "    .dataframe tbody tr th:only-of-type {\n",
       "        vertical-align: middle;\n",
       "    }\n",
       "\n",
       "    .dataframe tbody tr th {\n",
       "        vertical-align: top;\n",
       "    }\n",
       "\n",
       "    .dataframe thead th {\n",
       "        text-align: right;\n",
       "    }\n",
       "</style>\n",
       "<table border=\"1\" class=\"dataframe\">\n",
       "  <thead>\n",
       "    <tr style=\"text-align: right;\">\n",
       "      <th></th>\n",
       "      <th>glc__D_c</th>\n",
       "      <th>g6p_c</th>\n",
       "      <th>f6p_c</th>\n",
       "      <th>fdp_c</th>\n",
       "      <th>dhap_c</th>\n",
       "      <th>g3p_c</th>\n",
       "      <th>_13dpg_c</th>\n",
       "      <th>_3pg_c</th>\n",
       "      <th>_2pg_c</th>\n",
       "      <th>pep_c</th>\n",
       "      <th>...</th>\n",
       "      <th>pfk_R3_A_c</th>\n",
       "      <th>pfk_R3_AF_c</th>\n",
       "      <th>pfk_R4_c</th>\n",
       "      <th>pfk_R4_A_c</th>\n",
       "      <th>pfk_R4_AF_c</th>\n",
       "      <th>pfk_T0_c</th>\n",
       "      <th>pfk_T1_c</th>\n",
       "      <th>pfk_T2_c</th>\n",
       "      <th>pfk_T3_c</th>\n",
       "      <th>pfk_T4_c</th>\n",
       "    </tr>\n",
       "  </thead>\n",
       "  <tbody>\n",
       "    <tr>\n",
       "      <td>0</td>\n",
       "      <td>1.633146</td>\n",
       "      <td>0.202630</td>\n",
       "      <td>0.080851</td>\n",
       "      <td>0.019395</td>\n",
       "      <td>0.145014</td>\n",
       "      <td>0.007686</td>\n",
       "      <td>0.000484</td>\n",
       "      <td>0.093033</td>\n",
       "      <td>0.013340</td>\n",
       "      <td>0.022044</td>\n",
       "      <td>...</td>\n",
       "      <td>0.000003</td>\n",
       "      <td>4.536657e-07</td>\n",
       "      <td>3.693235e-07</td>\n",
       "      <td>0.000001</td>\n",
       "      <td>2.228540e-07</td>\n",
       "      <td>3.305780e-11</td>\n",
       "      <td>6.624534e-10</td>\n",
       "      <td>1.327507e-08</td>\n",
       "      <td>1.311209e-07</td>\n",
       "      <td>3.905471e-07</td>\n",
       "    </tr>\n",
       "    <tr>\n",
       "      <td>1</td>\n",
       "      <td>2.252195</td>\n",
       "      <td>0.286432</td>\n",
       "      <td>0.117150</td>\n",
       "      <td>0.028806</td>\n",
       "      <td>0.043647</td>\n",
       "      <td>0.002022</td>\n",
       "      <td>0.000364</td>\n",
       "      <td>0.022234</td>\n",
       "      <td>0.003268</td>\n",
       "      <td>0.005535</td>\n",
       "      <td>...</td>\n",
       "      <td>0.000002</td>\n",
       "      <td>3.631641e-07</td>\n",
       "      <td>3.030477e-07</td>\n",
       "      <td>0.000001</td>\n",
       "      <td>1.921315e-07</td>\n",
       "      <td>2.712551e-11</td>\n",
       "      <td>5.765688e-10</td>\n",
       "      <td>1.225531e-08</td>\n",
       "      <td>1.236175e-07</td>\n",
       "      <td>3.810101e-07</td>\n",
       "    </tr>\n",
       "    <tr>\n",
       "      <td>2</td>\n",
       "      <td>2.264961</td>\n",
       "      <td>0.288181</td>\n",
       "      <td>0.117917</td>\n",
       "      <td>0.029007</td>\n",
       "      <td>0.045051</td>\n",
       "      <td>0.002097</td>\n",
       "      <td>0.000369</td>\n",
       "      <td>0.023146</td>\n",
       "      <td>0.003403</td>\n",
       "      <td>0.005767</td>\n",
       "      <td>...</td>\n",
       "      <td>0.000002</td>\n",
       "      <td>3.617458e-07</td>\n",
       "      <td>3.019954e-07</td>\n",
       "      <td>0.000001</td>\n",
       "      <td>1.916309e-07</td>\n",
       "      <td>2.703132e-11</td>\n",
       "      <td>5.751626e-10</td>\n",
       "      <td>1.223810e-08</td>\n",
       "      <td>1.234895e-07</td>\n",
       "      <td>3.808444e-07</td>\n",
       "    </tr>\n",
       "    <tr>\n",
       "      <td>3</td>\n",
       "      <td>2.260816</td>\n",
       "      <td>0.287613</td>\n",
       "      <td>0.117668</td>\n",
       "      <td>0.028942</td>\n",
       "      <td>0.044231</td>\n",
       "      <td>0.002053</td>\n",
       "      <td>0.000366</td>\n",
       "      <td>0.022618</td>\n",
       "      <td>0.003325</td>\n",
       "      <td>0.005634</td>\n",
       "      <td>...</td>\n",
       "      <td>0.000002</td>\n",
       "      <td>3.622048e-07</td>\n",
       "      <td>3.023360e-07</td>\n",
       "      <td>0.000001</td>\n",
       "      <td>1.917929e-07</td>\n",
       "      <td>2.706181e-11</td>\n",
       "      <td>5.756178e-10</td>\n",
       "      <td>1.224367e-08</td>\n",
       "      <td>1.235310e-07</td>\n",
       "      <td>3.808981e-07</td>\n",
       "    </tr>\n",
       "    <tr>\n",
       "      <td>4</td>\n",
       "      <td>2.267571</td>\n",
       "      <td>0.288539</td>\n",
       "      <td>0.118073</td>\n",
       "      <td>0.027143</td>\n",
       "      <td>0.043710</td>\n",
       "      <td>0.002027</td>\n",
       "      <td>0.000365</td>\n",
       "      <td>0.022300</td>\n",
       "      <td>0.003279</td>\n",
       "      <td>0.005558</td>\n",
       "      <td>...</td>\n",
       "      <td>0.000002</td>\n",
       "      <td>3.614575e-07</td>\n",
       "      <td>3.017814e-07</td>\n",
       "      <td>0.000001</td>\n",
       "      <td>1.915290e-07</td>\n",
       "      <td>2.701217e-11</td>\n",
       "      <td>5.748764e-10</td>\n",
       "      <td>1.223459e-08</td>\n",
       "      <td>1.234634e-07</td>\n",
       "      <td>3.808107e-07</td>\n",
       "    </tr>\n",
       "  </tbody>\n",
       "</table>\n",
       "<p>5 rows × 66 columns</p>\n",
       "</div>"
      ],
      "text/plain": [
       "   glc__D_c     g6p_c     f6p_c     fdp_c    dhap_c     g3p_c  _13dpg_c  \\\n",
       "0  1.633146  0.202630  0.080851  0.019395  0.145014  0.007686  0.000484   \n",
       "1  2.252195  0.286432  0.117150  0.028806  0.043647  0.002022  0.000364   \n",
       "2  2.264961  0.288181  0.117917  0.029007  0.045051  0.002097  0.000369   \n",
       "3  2.260816  0.287613  0.117668  0.028942  0.044231  0.002053  0.000366   \n",
       "4  2.267571  0.288539  0.118073  0.027143  0.043710  0.002027  0.000365   \n",
       "\n",
       "     _3pg_c    _2pg_c     pep_c  ...  pfk_R3_A_c   pfk_R3_AF_c      pfk_R4_c  \\\n",
       "0  0.093033  0.013340  0.022044  ...    0.000003  4.536657e-07  3.693235e-07   \n",
       "1  0.022234  0.003268  0.005535  ...    0.000002  3.631641e-07  3.030477e-07   \n",
       "2  0.023146  0.003403  0.005767  ...    0.000002  3.617458e-07  3.019954e-07   \n",
       "3  0.022618  0.003325  0.005634  ...    0.000002  3.622048e-07  3.023360e-07   \n",
       "4  0.022300  0.003279  0.005558  ...    0.000002  3.614575e-07  3.017814e-07   \n",
       "\n",
       "   pfk_R4_A_c   pfk_R4_AF_c      pfk_T0_c      pfk_T1_c      pfk_T2_c  \\\n",
       "0    0.000001  2.228540e-07  3.305780e-11  6.624534e-10  1.327507e-08   \n",
       "1    0.000001  1.921315e-07  2.712551e-11  5.765688e-10  1.225531e-08   \n",
       "2    0.000001  1.916309e-07  2.703132e-11  5.751626e-10  1.223810e-08   \n",
       "3    0.000001  1.917929e-07  2.706181e-11  5.756178e-10  1.224367e-08   \n",
       "4    0.000001  1.915290e-07  2.701217e-11  5.748764e-10  1.223459e-08   \n",
       "\n",
       "       pfk_T3_c      pfk_T4_c  \n",
       "0  1.311209e-07  3.905471e-07  \n",
       "1  1.236175e-07  3.810101e-07  \n",
       "2  1.234895e-07  3.808444e-07  \n",
       "3  1.235310e-07  3.808981e-07  \n",
       "4  1.234634e-07  3.808107e-07  \n",
       "\n",
       "[5 rows x 66 columns]"
      ]
     },
     "execution_count": 23,
     "metadata": {},
     "output_type": "execute_result"
    }
   ],
   "source": [
    "conc_achr = ConcACHRSampler(conc_solver, thinning=1, seed=5)\n",
    "samples = conc_achr.sample(10, concs=True)\n",
    "# Display only the first 5 samples\n",
    "samples.head(5)"
   ]
  },
  {
   "cell_type": "markdown",
   "metadata": {},
   "source": [
    "The sample function also comes with a `concs` argument that controls the sample output. Setting `concs=True` will return only concentration variables, while setting `concs=False` will return the equilibrium constant variables and any additional variables as well."
   ]
  },
  {
   "cell_type": "code",
   "execution_count": 24,
   "metadata": {},
   "outputs": [
    {
     "name": "stdout",
     "output_type": "stream",
     "text": [
      "Index(['ade_c', 'adn_c', 'imp_c', 'prpp_c', 'nh3_c', 'glc__D_c', 'g6p_c',\n",
      "       'adp_c', 'atp_c', 'Keq_HEX1',\n",
      "       ...\n",
      "       'pfk_T0_c', 'Keq_PFK_L', 'pfk_T1_c', 'Keq_PFK_T1', 'pfk_T2_c',\n",
      "       'Keq_PFK_T2', 'pfk_T3_c', 'Keq_PFK_T3', 'pfk_T4_c', 'Keq_PFK_T4'],\n",
      "      dtype='object', length=114)\n"
     ]
    }
   ],
   "source": [
    "samples = conc_achr.sample(10, concs=False)\n",
    "print(samples.columns)"
   ]
  },
  {
   "cell_type": "markdown",
   "metadata": {},
   "source": [
    "The `ConcOptGPSampler` has an additional `processes` argument specifying how many processes are used to create parallel sampling chains. This should be in the order of avaialble CPU cores for maximum efficiency. As noted before class initialization can take up to a few minutes due to generation of initial search directions. Sampling on the other hand is quick."
   ]
  },
  {
   "cell_type": "code",
   "execution_count": 25,
   "metadata": {},
   "outputs": [],
   "source": [
    "conc_optgp = ConcOptGPSampler(conc_solver, processes=4, seed=5)"
   ]
  },
  {
   "cell_type": "markdown",
   "metadata": {},
   "source": [
    "For the `ConcOptGPSampler`, the number of samples should be a multiple of the number of processes, otherwise it will be increased to the nearest multiple automatically."
   ]
  },
  {
   "cell_type": "code",
   "execution_count": 26,
   "metadata": {},
   "outputs": [
    {
     "name": "stdout",
     "output_type": "stream",
     "text": [
      "Number of samples generated: 12\n"
     ]
    }
   ],
   "source": [
    "samples = conc_optgp.sample(10)\n",
    "print(\"Number of samples generated: {0}\".format(len(samples)))"
   ]
  },
  {
   "cell_type": "markdown",
   "metadata": {},
   "source": [
    "#### Batch sampling\n",
    "\n",
    "Sampler objects are made for generating billions of samples, however using the sample function might quickly fill up the computer RAM when working with genome-scale models. \n",
    "\n",
    "Here, the batch method of the sampler objects might come in handy. batch takes two arguments, the number of samples in each batch and the number of batches.\n",
    "\n",
    "Suppose the concentration of ATP, ADP and AMP are not known. The batch sampler could be used to generate 10 batches of feasible concentrations with 100 samples each with, which could then be averaged to get the mean metabolite concentrations per batch. Finally, the mean metabolite concentrations and standard deviation could be calculated."
   ]
  },
  {
   "cell_type": "code",
   "execution_count": 27,
   "metadata": {
    "scrolled": false
   },
   "outputs": [
    {
     "name": "stdout",
     "output_type": "stream",
     "text": [
      "Ave. atp_c concentration: 2.20308 +- 0.05220\n",
      "Ave. adp_c concentration: 0.23834 +- 0.00494\n",
      "Ave. amp_c concentration: 0.12918 +- 0.00184\n"
     ]
    }
   ],
   "source": [
    "# Remove current initial conditions for example\n",
    "conc_solver.model.metabolites.atp_c.ic = None\n",
    "conc_solver.model.metabolites.adp_c.ic = None\n",
    "conc_solver.model.metabolites.amp_c.ic = None\n",
    "# Set up concentration sampling problem\n",
    "conc_solver.setup_sampling_problem(\n",
    "    conc_percent_deviation=0.5,\n",
    "    Keq_percent_deviation=0)\n",
    "\n",
    "# Get batch samples\n",
    "conc_optgp = ConcOptGPSampler(conc_solver, processes=4, seed=5)\n",
    "batch_samples = [sample for sample in conc_optgp.batch(100, 10)]\n",
    "\n",
    "# Determine average metabolite concentrations per batch, and per \n",
    "for met in [\"atp_c\", \"adp_c\", \"amp_c\"]:\n",
    "    met = conc_solver.model.metabolites.get_by_id(met)\n",
    "    per_batch_atp_ave = [\n",
    "        np.mean(sample[met.id])\n",
    "        for sample in batch_samples]\n",
    "    print(\"Ave. {2} concentration: {0:.5f} +- {1:.5f}\".format(\n",
    "        np.mean(per_batch_atp_ave), np.std(per_batch_atp_ave), met.id))\n",
    "    met.ic = np.mean(per_batch_atp_ave)"
   ]
  }
 ],
 "metadata": {
  "kernelspec": {
   "display_name": "Python 3",
   "language": "python",
   "name": "python3"
  },
  "language_info": {
   "codemirror_mode": {
    "name": "ipython",
    "version": 3
   },
   "file_extension": ".py",
   "mimetype": "text/x-python",
   "name": "python",
   "nbconvert_exporter": "python",
   "pygments_lexer": "ipython3",
   "version": "3.7.4"
  }
 },
 "nbformat": 4,
 "nbformat_minor": 2
}
