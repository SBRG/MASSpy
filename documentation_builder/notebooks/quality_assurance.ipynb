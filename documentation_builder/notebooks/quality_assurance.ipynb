{
 "cells": [
  {
   "cell_type": "markdown",
   "metadata": {},
   "source": [
    "# Checking Model Quality\n",
    "\n",
    "This notebooks example demonstrates the various methods for ensuring quality and consistency in models. Here, the functions of the `qcqa` submodule are used to inspect a broken model and identify the issues that need attention."
   ]
  },
  {
   "cell_type": "code",
   "execution_count": 1,
   "metadata": {},
   "outputs": [
    {
     "name": "stdout",
     "output_type": "stream",
     "text": [
      "Academic license - for non-commercial use only\n"
     ]
    }
   ],
   "source": [
    "import mass.test\n",
    "\n",
    "from mass import MassConfiguration\n",
    "from mass.util import qcqa\n",
    "\n",
    "model = mass.test.create_test_model(\"Model_To_Repair\")"
   ]
  },
  {
   "cell_type": "markdown",
   "metadata": {},
   "source": [
    "## Inspecting a Model\n",
    "\n",
    "To quickly identify all issues in a model, the `qcqa_model` function of the `qcqa` submodule can be used. The function takes a `MassModel` and booleans for various flags, identifies issues in the model based on the flags, and prints a report outlining possible issues."
   ]
  },
  {
   "cell_type": "code",
   "execution_count": 2,
   "metadata": {},
   "outputs": [
    {
     "name": "stdout",
     "output_type": "stream",
     "text": [
      "╒═══════════════════════════════════════════════════════════════╕\n",
      "│ MODEL ID: RBC_PFK                                             │\n",
      "│ SIMULATABLE: False                                            │\n",
      "│ PARAMETERS NUMERICALY CONSISTENT: False                       │\n",
      "╞═══════════════════════════════════════════════════════════════╡\n",
      "│ ============================================================= │\n",
      "│                      MISSING PARAMETERS                       │\n",
      "│ ============================================================= │\n",
      "│ Reaction Parameters    Custom Parameters    S.S. Fluxes       │\n",
      "│ ---------------------  -------------------  -------------     │\n",
      "│ PGI: Keq; kf           PFK_R01: Keq_PFK_A   GAPD              │\n",
      "│ PGK: kf                PFK_R11: Keq_PFK_A                     │\n",
      "│ PGM: Keq               PFK_R21: Keq_PFK_A                     │\n",
      "│                        PFK_R31: Keq_PFK_A                     │\n",
      "│                        PFK_R41: Keq_PFK_A                     │\n",
      "│ ============================================================= │\n",
      "├───────────────────────────────────────────────────────────────┤\n",
      "│ ============================================================= │\n",
      "│                    MISSING CONCENTRATIONS                     │\n",
      "│ ============================================================= │\n",
      "│ Initial Conditions               Boundary Conditions          │\n",
      "│ -------------------------------  ---------------------        │\n",
      "│ glc__D_c (in HEX1, SK_glc__D_c)  h2o_b (in SK_h2o_c)          │\n",
      "│ ============================================================= │\n",
      "├───────────────────────────────────────────────────────────────┤\n",
      "│ ============================================================= │\n",
      "│                      CONSISTENCY CHECKS                       │\n",
      "│ ============================================================= │\n",
      "│ Superfluous Parameters    Elemental                           │\n",
      "│ ------------------------  ---------------------------------   │\n",
      "│ HEX1: Inconsistent        HEX1: {H: -3.0; O: -4.0; P: -1.0}   │\n",
      "│ PYK: Consistent           PGI: {H: 3.0; O: 4.0; P: 1.0}       │\n",
      "│                           G6PDH2r: {H: 3.0; O: 4.0; P: 1.0}   │\n",
      "│                           DM_nadh: {charge: 2.0}              │\n",
      "│                           GSHR: {charge: 2.0}                 │\n",
      "│ ============================================================= │\n",
      "╘═══════════════════════════════════════════════════════════════╛\n"
     ]
    }
   ],
   "source": [
    "qcqa.qcqa_model(\n",
    "    model,\n",
    "    parameters=True,        # Check for undefined but necessary parameters in the model\n",
    "    concentrations=True,    # Check for undefined but necessary concentrations in the model\n",
    "    fluxes=True,            # Check for undefined steady state fluxes for reactions in the model\n",
    "    superfluous=True,       # Check for excess parameters and ensure they are consistent.\n",
    "    elemental=True,         # Check mass and charge balancing of reactions in the model\n",
    "    simulation_only=True,  # Check for values necessary for simulation only\n",
    ")"
   ]
  },
  {
   "cell_type": "markdown",
   "metadata": {},
   "source": [
    "The `simulation_only` flag as `True` ensures that identified missing values in the report (excluding steady state fluxes) are necessary for simulation. As seen above, there are a number of missing values and consistency issues that need to be addressed."
   ]
  },
  {
   "cell_type": "markdown",
   "metadata": {},
   "source": [
    "## Identifying Missing Values\n",
    "\n",
    "The report printed by the `qcqa_model` function shows that there are a number of values in the model that have not yet been defined. Here, the functions of the `qcqa` submodule will be used to retrieve the objects in the model that are missing values so that they can be defined."
   ]
  },
  {
   "cell_type": "markdown",
   "metadata": {},
   "source": [
    "### Missing Parameters\n",
    "\n",
    "To identify the reactions that have missing parameter values, the `parameters` flag is set as `True`. Reaction parameters for mass action rate laws (e.g. forward and reverse rate constants, equilibrium constants) and custom parameters are both checked for undefined numerical values."
   ]
  },
  {
   "cell_type": "code",
   "execution_count": 3,
   "metadata": {},
   "outputs": [
    {
     "name": "stdout",
     "output_type": "stream",
     "text": [
      "╒══════════════════════════════════════════════╕\n",
      "│ MODEL ID: RBC_PFK                            │\n",
      "│ SIMULATABLE: False                           │\n",
      "│ PARAMETERS NUMERICALY CONSISTENT: False      │\n",
      "╞══════════════════════════════════════════════╡\n",
      "│ ============================================ │\n",
      "│             MISSING PARAMETERS               │\n",
      "│ ============================================ │\n",
      "│ Reaction Parameters    Custom Parameters     │\n",
      "│ ---------------------  -------------------   │\n",
      "│ PGI: Keq; kf           PFK_R01: Keq_PFK_A    │\n",
      "│ PGK: kf                PFK_R11: Keq_PFK_A    │\n",
      "│ PGM: Keq               PFK_R21: Keq_PFK_A    │\n",
      "│                        PFK_R31: Keq_PFK_A    │\n",
      "│                        PFK_R41: Keq_PFK_A    │\n",
      "│ ============================================ │\n",
      "╘══════════════════════════════════════════════╛\n"
     ]
    }
   ],
   "source": [
    "qcqa.qcqa_model(model, parameters=True)"
   ]
  },
  {
   "cell_type": "markdown",
   "metadata": {},
   "source": [
    "The report shows that the PGI, PGK, and PGM reactions are missing numerical values for forward rate and equilibrium constants. The `get_missing_reaction_parameters` function can be used to get these reaction objects from the model:"
   ]
  },
  {
   "cell_type": "code",
   "execution_count": 4,
   "metadata": {},
   "outputs": [
    {
     "data": {
      "text/plain": [
       "{<MassReaction PGI at 0x11adb9d90>: 'Keq; kf',\n",
       " <MassReaction PGK at 0x11e345950>: 'kf',\n",
       " <MassReaction PGM at 0x11e345bd0>: 'Keq'}"
      ]
     },
     "execution_count": 4,
     "metadata": {},
     "output_type": "execute_result"
    }
   ],
   "source": [
    "qcqa.get_missing_reaction_parameters(model)"
   ]
  },
  {
   "cell_type": "markdown",
   "metadata": {},
   "source": [
    "The `get_missing_reaction_parameters` function returns a `dict` containing reaction objects and a string corresponding to their missing parameters. To get a subset of these reactions, a list of reaction identifiers can be passed to the `reaction_list` argument. For example, to seperate the reactions missing forward rate constants from those that are missing equilibrium constants:"
   ]
  },
  {
   "cell_type": "code",
   "execution_count": 5,
   "metadata": {},
   "outputs": [
    {
     "name": "stdout",
     "output_type": "stream",
     "text": [
      "Missing forward rate constants: [<MassReaction PGI at 0x11adb9d90>, <MassReaction PGK at 0x11e345950>]\n",
      "Missing equilibrium constants: [<MassReaction PGI at 0x11adb9d90>, <MassReaction PGM at 0x11e345bd0>]\n"
     ]
    }
   ],
   "source": [
    "missing_kfs = qcqa.get_missing_reaction_parameters(model, reaction_list=[\"PGI\", \"PGK\"])\n",
    "missing_Keqs = qcqa.get_missing_reaction_parameters(model, reaction_list=[\"PGI\", \"PGM\"])\n",
    "\n",
    "print(\"Missing forward rate constants: {0!r}\".format(list(missing_kfs)))\n",
    "print(\"Missing equilibrium constants: {0!r}\".format(list(missing_Keqs)))"
   ]
  },
  {
   "cell_type": "markdown",
   "metadata": {},
   "source": [
    "To identify missing custom parameters and the reactions that utilize them, the `get_missing_custom_parameters` function can be used."
   ]
  },
  {
   "cell_type": "code",
   "execution_count": 6,
   "metadata": {},
   "outputs": [
    {
     "data": {
      "text/plain": [
       "{<EnzymeModuleReaction PFK_R01 at 0x11e3ca5d0>: 'Keq_PFK_A',\n",
       " <EnzymeModuleReaction PFK_R11 at 0x11e3cac10>: 'Keq_PFK_A',\n",
       " <EnzymeModuleReaction PFK_R21 at 0x11e3d47d0>: 'Keq_PFK_A',\n",
       " <EnzymeModuleReaction PFK_R31 at 0x11e3d42d0>: 'Keq_PFK_A',\n",
       " <EnzymeModuleReaction PFK_R41 at 0x11e3dcf10>: 'Keq_PFK_A'}"
      ]
     },
     "execution_count": 6,
     "metadata": {},
     "output_type": "execute_result"
    }
   ],
   "source": [
    "qcqa.get_missing_custom_parameters(model)"
   ]
  },
  {
   "cell_type": "markdown",
   "metadata": {},
   "source": [
    "Once defined, the parameters no longer appear in the returned `dict`. An empty `dict` means no undefined values were found."
   ]
  },
  {
   "cell_type": "code",
   "execution_count": 7,
   "metadata": {},
   "outputs": [
    {
     "name": "stdout",
     "output_type": "stream",
     "text": [
      "Missing reaction parameters: {}\n",
      "Missing custom parameters: {}\n"
     ]
    }
   ],
   "source": [
    "# Define missing parameters and update model\n",
    "missing_parameters = {\n",
    "    \"kf_PGI\": 2961.11, \"Keq_PGI\": 0.41,\n",
    "    \"kf_PGK\": 1061655.085,\n",
    "    \"Keq_PGM\": 0.147059,\n",
    "    \"Keq_PFK_A\": 14.706}\n",
    "model.update_parameters(missing_parameters)\n",
    "\n",
    "print(\"Missing reaction parameters: {0!r}\".format(qcqa.get_missing_reaction_parameters(model)))\n",
    "print(\"Missing custom parameters: {0!r}\".format(qcqa.get_missing_custom_parameters(model)))"
   ]
  },
  {
   "cell_type": "markdown",
   "metadata": {},
   "source": [
    "### Missing Fluxes\n",
    "To identify the reactions that have missing steady state flux values, the `fluxes` flag is set as `True`."
   ]
  },
  {
   "cell_type": "code",
   "execution_count": 8,
   "metadata": {},
   "outputs": [
    {
     "name": "stdout",
     "output_type": "stream",
     "text": [
      "╒══════════════════════════════════════════════╕\n",
      "│ MODEL ID: RBC_PFK                            │\n",
      "│ SIMULATABLE: False                           │\n",
      "│ PARAMETERS NUMERICALY CONSISTENT: False      │\n",
      "╞══════════════════════════════════════════════╡\n",
      "│ ============================================ │\n",
      "│             MISSING PARAMETERS               │\n",
      "│ ============================================ │\n",
      "│ S.S. Fluxes                                  │\n",
      "│ -------------                                │\n",
      "│ GAPD                                         │\n",
      "│ ============================================ │\n",
      "╘══════════════════════════════════════════════╛\n"
     ]
    }
   ],
   "source": [
    "qcqa.qcqa_model(model, fluxes=True)"
   ]
  },
  {
   "cell_type": "markdown",
   "metadata": {},
   "source": [
    "To get the reaction objects that are missing steady state fluxes, the `get_missing_steady_state_fluxes` function can be used. An empty `list` indicates no missing values were found."
   ]
  },
  {
   "cell_type": "code",
   "execution_count": 9,
   "metadata": {},
   "outputs": [
    {
     "name": "stdout",
     "output_type": "stream",
     "text": [
      "Before: [<MassReaction GAPD at 0x11e345350>]\n",
      "After: []\n"
     ]
    }
   ],
   "source": [
    "missing_fluxes = qcqa.get_missing_steady_state_fluxes(model)\n",
    "print(\"Before: {0!r}\".format(missing_fluxes))\n",
    "\n",
    "# Define missing flux value\n",
    "missing_fluxes[0].steady_state_flux = 2.305\n",
    "\n",
    "missing_fluxes = qcqa.get_missing_steady_state_fluxes(model)\n",
    "print(\"After: {0!r}\".format(missing_fluxes))"
   ]
  },
  {
   "cell_type": "markdown",
   "metadata": {},
   "source": [
    "### Missing Concentrations\n",
    "\n",
    "To identify the metabolites that have missing concentrations, the `concentrations` flag is set as `True`. Metabolite concentrations refer the initial conditions and the boundary conditions defined in the model."
   ]
  },
  {
   "cell_type": "code",
   "execution_count": 10,
   "metadata": {},
   "outputs": [
    {
     "name": "stdout",
     "output_type": "stream",
     "text": [
      "╒══════════════════════════════════════════════════════════╕\n",
      "│ MODEL ID: RBC_PFK                                        │\n",
      "│ SIMULATABLE: False                                       │\n",
      "│ PARAMETERS NUMERICALY CONSISTENT: False                  │\n",
      "╞══════════════════════════════════════════════════════════╡\n",
      "│ ======================================================== │\n",
      "│                 MISSING CONCENTRATIONS                   │\n",
      "│ ======================================================== │\n",
      "│ Initial Conditions               Boundary Conditions     │\n",
      "│ -------------------------------  ---------------------   │\n",
      "│ glc__D_c (in HEX1, SK_glc__D_c)  h2o_b (in SK_h2o_c)     │\n",
      "│ ======================================================== │\n",
      "╘══════════════════════════════════════════════════════════╛\n"
     ]
    }
   ],
   "source": [
    "qcqa.qcqa_model(model, concentrations=True)"
   ]
  },
  {
   "cell_type": "markdown",
   "metadata": {},
   "source": [
    "The `get_missing_initial_conditions` function can be used to return a list of metabolite objects that have undefined initial conditions:"
   ]
  },
  {
   "cell_type": "code",
   "execution_count": 11,
   "metadata": {
    "scrolled": true
   },
   "outputs": [
    {
     "name": "stdout",
     "output_type": "stream",
     "text": [
      "[<MassMetabolite glc__D_c at 0x11e31fc50>]\n"
     ]
    }
   ],
   "source": [
    "missing_ics = qcqa.get_missing_initial_conditions(model)\n",
    "print(missing_ics)"
   ]
  },
  {
   "cell_type": "markdown",
   "metadata": {},
   "source": [
    "The `get_missing_boundary_conditions` function can be used to return a list of metabolite objects that have undefined initial conditions:"
   ]
  },
  {
   "cell_type": "code",
   "execution_count": 12,
   "metadata": {
    "scrolled": true
   },
   "outputs": [
    {
     "data": {
      "text/plain": [
       "['h2o_b']"
      ]
     },
     "execution_count": 12,
     "metadata": {},
     "output_type": "execute_result"
    }
   ],
   "source": [
    "qcqa.get_missing_boundary_conditions(model)"
   ]
  },
  {
   "cell_type": "markdown",
   "metadata": {},
   "source": [
    "Once defined, the metabolites no longer appear in the returned `list`. An empty `list` means no undefined concentration were found."
   ]
  },
  {
   "cell_type": "code",
   "execution_count": 13,
   "metadata": {},
   "outputs": [
    {
     "name": "stdout",
     "output_type": "stream",
     "text": [
      "Missing initial conditions: []\n",
      "Missing boundary conditions: []\n"
     ]
    }
   ],
   "source": [
    "# Define missing initial condition\n",
    "missing_ics[0].initial_condition = 1.3\n",
    "# Define mising boundary condition\n",
    "model.boundary_conditions[\"h2o_b\"] = 1\n",
    "\n",
    "# Check model to ensure they have been defined\n",
    "print(\"Missing initial conditions: {0!r}\".format(qcqa.get_missing_initial_conditions(model)))\n",
    "print(\"Missing boundary conditions: {0!r}\".format(qcqa.get_missing_boundary_conditions(model)))"
   ]
  },
  {
   "cell_type": "markdown",
   "metadata": {},
   "source": [
    "After defining the missing values, the report displayed by the `qcqa_model` function shows that the model is simulatable. However, the model parameters are not considered numerically consistent, which may present some problems during the simulation processes."
   ]
  },
  {
   "cell_type": "code",
   "execution_count": 14,
   "metadata": {},
   "outputs": [
    {
     "name": "stdout",
     "output_type": "stream",
     "text": [
      "╒═══════════════════════════════════════════╕\n",
      "│ MODEL ID: RBC_PFK                         │\n",
      "│ SIMULATABLE: True                         │\n",
      "│ PARAMETERS NUMERICALY CONSISTENT: False   │\n",
      "╞═══════════════════════════════════════════╡\n",
      "╘═══════════════════════════════════════════╛\n"
     ]
    }
   ],
   "source": [
    "qcqa.qcqa_model(model, parameters=True, concentrations=True, fluxes=True)"
   ]
  },
  {
   "cell_type": "markdown",
   "metadata": {},
   "source": [
    "## Consistency Checks\n",
    "\n",
    "In addition to the undefined numerical values in the model, the initial report printed by the `qcqa_model` function also indicated some issues in parameter consistency and elemental balancing. Here, the functions of the `qcqa` submodule will be used to retrieve the objects in the model that have consistency issues so that they can be corrected."
   ]
  },
  {
   "cell_type": "markdown",
   "metadata": {},
   "source": [
    "### Elemental\n",
    "To identify the reactions that are not elementally balanced, the `elemental` flag is set as `True`. Note that pseudoreactions are typically not balanced and although boundary reactions are excluded by default, other pseudoreactions may exist in the system. In this model, the two pseudoreactions expected to be unbalanced are the `DM_nadh` and the `GSHR` reactions."
   ]
  },
  {
   "cell_type": "code",
   "execution_count": 15,
   "metadata": {},
   "outputs": [
    {
     "name": "stdout",
     "output_type": "stream",
     "text": [
      "╒══════════════════════════════════════════════╕\n",
      "│ MODEL ID: RBC_PFK                            │\n",
      "│ SIMULATABLE: True                            │\n",
      "│ PARAMETERS NUMERICALY CONSISTENT: False      │\n",
      "╞══════════════════════════════════════════════╡\n",
      "│ ============================================ │\n",
      "│             CONSISTENCY CHECKS               │\n",
      "│ ============================================ │\n",
      "│ Elemental                                    │\n",
      "│ ---------------------------------            │\n",
      "│ HEX1: {H: -3.0; O: -4.0; P: -1.0}            │\n",
      "│ PGI: {H: 3.0; O: 4.0; P: 1.0}                │\n",
      "│ G6PDH2r: {H: 3.0; O: 4.0; P: 1.0}            │\n",
      "│ DM_nadh: {charge: 2.0}                       │\n",
      "│ GSHR: {charge: 2.0}                          │\n",
      "│ ============================================ │\n",
      "╘══════════════════════════════════════════════╛\n"
     ]
    }
   ],
   "source": [
    "qcqa.qcqa_model(model, elemental=True)"
   ]
  },
  {
   "cell_type": "markdown",
   "metadata": {},
   "source": [
    "However, as seen above, there are reactions other than the two expected pseudoreactions that appear in the printed report. Specifically, these are reactions witgh an imbalance in phosphoric acid (H3PO4). To get the imbalanced reaction objects, the `check_elemental_consistency` function can be used."
   ]
  },
  {
   "cell_type": "code",
   "execution_count": 16,
   "metadata": {},
   "outputs": [
    {
     "data": {
      "text/plain": [
       "{<MassReaction HEX1 at 0x11e345290>: 'H: -3.0; O: -4.0; P: -1.0',\n",
       " <MassReaction PGI at 0x11adb9d90>: 'H: 3.0; O: 4.0; P: 1.0',\n",
       " <MassReaction G6PDH2r at 0x11e3942d0>: 'H: 3.0; O: 4.0; P: 1.0'}"
      ]
     },
     "execution_count": 16,
     "metadata": {},
     "output_type": "execute_result"
    }
   ],
   "source": [
    "imbalanced_reactions = qcqa.check_elemental_consistency(\n",
    "    model, reaction_list=[\"HEX1\", \"PGI\", \"G6PDH2r\"])\n",
    "imbalanced_reactions"
   ]
  },
  {
   "cell_type": "markdown",
   "metadata": {},
   "source": [
    "By looking at the reactions, their stoichiometries, and which elements/moieties are not balanced, it is clear that glucose 6-phosphate (G6P) is missing a phosphoric acid in its chemica formula."
   ]
  },
  {
   "cell_type": "code",
   "execution_count": 17,
   "metadata": {},
   "outputs": [
    {
     "name": "stdout",
     "output_type": "stream",
     "text": [
      "HEX1: atp_c + glc__D_c <=> adp_c + g6p_c + h_c\n",
      "PGI: g6p_c <=> f6p_c\n",
      "G6PDH2r: g6p_c + nadp_c <=> _6pgl_c + h_c + nadph_c\n",
      "\n",
      "g6p_c formula before: 'C6H8O5'\n"
     ]
    }
   ],
   "source": [
    "for reaction, unbalanced in imbalanced_reactions.items():\n",
    "    print(reaction)\n",
    "\n",
    "g6p_c = model.metabolites.get_by_id(\"g6p_c\")\n",
    "print(\"\\n{0} formula before: {1}\".format(g6p_c.id, repr(g6p_c.formula)))"
   ]
  },
  {
   "cell_type": "markdown",
   "metadata": {},
   "source": [
    "The current elemental composition of G6P can be combined with the elemental composition of phosphoric acid:"
   ]
  },
  {
   "cell_type": "code",
   "execution_count": 18,
   "metadata": {},
   "outputs": [
    {
     "name": "stdout",
     "output_type": "stream",
     "text": [
      "g6p_c formula after: 'C6H11O9P'\n"
     ]
    }
   ],
   "source": [
    "# Get existing formula composition\n",
    "formula_composition = g6p_c.elements\n",
    "\n",
    "# Update with the phosphoric acid\n",
    "phosphoric_acid = {\"H\": 3, \"P\": 1, \"O\": 4}\n",
    "for element, to_add in phosphoric_acid.items():\n",
    "    if element in formula_composition:\n",
    "        formula_composition[element] += to_add\n",
    "    else:\n",
    "        formula_composition[element] = to_add\n",
    "\n",
    "# Change the existing formula to the new one\n",
    "g6p_c.elements = formula_composition\n",
    "\n",
    "print(\"{0} formula after: {1}\".format(g6p_c.id, repr(g6p_c.formula)))"
   ]
  },
  {
   "cell_type": "markdown",
   "metadata": {},
   "source": [
    "The reactions are no longer considered imbalanced:"
   ]
  },
  {
   "cell_type": "code",
   "execution_count": 19,
   "metadata": {},
   "outputs": [
    {
     "data": {
      "text/plain": [
       "{}"
      ]
     },
     "execution_count": 19,
     "metadata": {},
     "output_type": "execute_result"
    }
   ],
   "source": [
    "imbalanced_reactions = qcqa.check_elemental_consistency(\n",
    "    model, reaction_list=[\"HEX1\", \"PGI\", \"G6PDH2r\"])\n",
    "imbalanced_reactions"
   ]
  },
  {
   "cell_type": "markdown",
   "metadata": {},
   "source": [
    "### Superfluous Parameters\n",
    "\n",
    "To identify the reactions with superfluous parameters, the `superfluous` flag is set as `True`. If a reaction has superfluous parameters, they are checked to ensure if they are numerically consistent:"
   ]
  },
  {
   "cell_type": "code",
   "execution_count": 20,
   "metadata": {},
   "outputs": [
    {
     "name": "stdout",
     "output_type": "stream",
     "text": [
      "╒══════════════════════════════════════════════╕\n",
      "│ MODEL ID: RBC_PFK                            │\n",
      "│ SIMULATABLE: True                            │\n",
      "│ PARAMETERS NUMERICALY CONSISTENT: False      │\n",
      "╞══════════════════════════════════════════════╡\n",
      "│ ============================================ │\n",
      "│             CONSISTENCY CHECKS               │\n",
      "│ ============================================ │\n",
      "│ Superfluous Parameters                       │\n",
      "│ ------------------------                     │\n",
      "│ HEX1: Inconsistent                           │\n",
      "│ PYK: Consistent                              │\n",
      "│ ============================================ │\n",
      "╘══════════════════════════════════════════════╛\n"
     ]
    }
   ],
   "source": [
    "qcqa.qcqa_model(model, superfluous=True)"
   ]
  },
  {
   "cell_type": "markdown",
   "metadata": {},
   "source": [
    "The pyruvate kinase reaction (PYK) contains a consistent superfluous parameter. A consistent superfluous parmameter indicates that although an extra parameter is defined, the forward rate constant, reverse rate constant, and the equilibrium constant are numerically consistent with consistency being determined as $|k_{f} / K_{eq} - k_{r}| \\le tolerance$. The tolerance is determined by the `decimal_precision` of the `MassConfiguration` object (e.g. a `decimal_precision` of 8 corresponds to rounding at the 8th digit right of the decimal, equivalent to $|k_{f} / K_{eq} - k_{r}| <= 10^{-8}$."
   ]
  },
  {
   "cell_type": "code",
   "execution_count": 21,
   "metadata": {},
   "outputs": [
    {
     "name": "stdout",
     "output_type": "stream",
     "text": [
      "0.0\n"
     ]
    }
   ],
   "source": [
    "PYK = model.reactions.get_by_id(\"PYK\")\n",
    "print(abs(PYK.kf / PYK.Keq - PYK.kr))"
   ]
  },
  {
   "cell_type": "markdown",
   "metadata": {},
   "source": [
    "The hexokinase reaction (HEX1) contains an inconsistent superfluous parameter."
   ]
  },
  {
   "cell_type": "code",
   "execution_count": 22,
   "metadata": {},
   "outputs": [
    {
     "name": "stdout",
     "output_type": "stream",
     "text": [
      "10.0\n"
     ]
    }
   ],
   "source": [
    "HEX1 = model.reactions.get_by_id(\"HEX1\")\n",
    "print(abs(HEX1.kf / HEX1.Keq - HEX1.kr))"
   ]
  },
  {
   "cell_type": "markdown",
   "metadata": {},
   "source": [
    "Inconsistent superfluous parameters can quickly be fixed by defining them to be a consistent value, or ignored by setting the value as `None`."
   ]
  },
  {
   "cell_type": "code",
   "execution_count": 23,
   "metadata": {},
   "outputs": [
    {
     "name": "stdout",
     "output_type": "stream",
     "text": [
      "╒══════════════════════════════════════════════╕\n",
      "│ MODEL ID: RBC_PFK                            │\n",
      "│ SIMULATABLE: True                            │\n",
      "│ PARAMETERS NUMERICALY CONSISTENT: True       │\n",
      "╞══════════════════════════════════════════════╡\n",
      "│ ============================================ │\n",
      "│             CONSISTENCY CHECKS               │\n",
      "│ ============================================ │\n",
      "│ Superfluous Parameters                       │\n",
      "│ ------------------------                     │\n",
      "│ PYK: Consistent                              │\n",
      "│ ============================================ │\n",
      "╘══════════════════════════════════════════════╛\n"
     ]
    }
   ],
   "source": [
    "HEX1.kr = None\n",
    "qcqa.qcqa_model(model, superfluous=True)"
   ]
  },
  {
   "cell_type": "markdown",
   "metadata": {},
   "source": [
    "After addressing several of the model issues, the `qcqa_model` function from the beginning of the notebook can be ran again. This time, the report indicates that the model is elementally balanced and contains the numerical values necessary for simulation"
   ]
  },
  {
   "cell_type": "code",
   "execution_count": 24,
   "metadata": {},
   "outputs": [
    {
     "name": "stdout",
     "output_type": "stream",
     "text": [
      "╒════════════════════════════════════════════════════╕\n",
      "│ MODEL ID: RBC_PFK                                  │\n",
      "│ SIMULATABLE: True                                  │\n",
      "│ PARAMETERS NUMERICALY CONSISTENT: True             │\n",
      "╞════════════════════════════════════════════════════╡\n",
      "│ ================================================== │\n",
      "│                CONSISTENCY CHECKS                  │\n",
      "│ ================================================== │\n",
      "│ Superfluous Parameters    Elemental                │\n",
      "│ ------------------------  ----------------------   │\n",
      "│ PYK: Consistent           DM_nadh: {charge: 2.0}   │\n",
      "│                           GSHR: {charge: 2.0}      │\n",
      "│ ================================================== │\n",
      "╘════════════════════════════════════════════════════╛\n"
     ]
    }
   ],
   "source": [
    "qcqa.qcqa_model(\n",
    "    model,\n",
    "    parameters=True,        # Check for undefined but necessary parameters in the model\n",
    "    concentrations=True,    # Check for undefined but necessary concentrations in the model\n",
    "    fluxes=True,            # Check for undefined steady state fluxes for reactions in the model\n",
    "    superfluous=True,       # Check for excess parameters and ensure they are consistent.\n",
    "    elemental=True,         # Check mass and charge balancing of reactions in the model\n",
    ")"
   ]
  }
 ],
 "metadata": {
  "kernelspec": {
   "display_name": "Python 3",
   "language": "python",
   "name": "python3"
  },
  "language_info": {
   "codemirror_mode": {
    "name": "ipython",
    "version": 3
   },
   "file_extension": ".py",
   "mimetype": "text/x-python",
   "name": "python",
   "nbconvert_exporter": "python",
   "pygments_lexer": "ipython3",
   "version": "3.7.4"
  }
 },
 "nbformat": 4,
 "nbformat_minor": 2
}
