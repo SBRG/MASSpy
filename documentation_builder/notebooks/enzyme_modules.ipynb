{
 "cells": [
  {
   "cell_type": "markdown",
   "metadata": {},
   "source": [
    "# Enzyme Modules\n",
    "\n",
    "An \"enzyme module\" is defined as a mechanistic description of a reaction consisting of mass action rate laws for all known reaction steps <cite data-cite=\"DZK+16\">(Du et al., 2016)</cite>. In **MASSpy**, enzyme modules are represented by the `EnzymeModule` object.\n",
    "\n",
    "To demonstrate the utility of an `EnzymeModule` object and how it aids in constructing mechanistic models of enzyme behavior, an `EnzymeModule` of hexokinase$^{1, 2}$ is constructed and then merged with a model of glycolysis$^{3}$ for verification."
   ]
  },
  {
   "cell_type": "markdown",
   "metadata": {},
   "source": [
    "## Constructing Enzyme Modules\n",
    "\n",
    "In order to construct the `EnzymeModule` of hexokinase, the following information is necessary:\n",
    "\n",
    "1. The enzyme is a monomer.\n",
    "2. The enzyme binding of substrates follows a random sequential mechanism\n",
    "3. The enzyme experiences product inhibtion, and is competitively inhibited by 23DPG when complexed with D-glucose.\n",
    "\n",
    "Total HEX1 Concentration$^2$: $\\text{[HEX1]}_{total} = 24 nM = 0.000024 mM$."
   ]
  },
  {
   "cell_type": "code",
   "execution_count": 1,
   "metadata": {},
   "outputs": [
    {
     "name": "stdout",
     "output_type": "stream",
     "text": [
      "Academic license - for non-commercial use only\n",
      "Read LP format model from file /var/folders/36/g2np3l0d6t9dyr4rk3tvc8f80000gn/T/tmp5ivj4b0_.lp\n",
      "Reading time = 0.00 seconds\n",
      ": 20 rows, 44 columns, 122 nonzeros\n"
     ]
    }
   ],
   "source": [
    "from operator import attrgetter\n",
    "\n",
    "from mass import MassMetabolite\n",
    "from mass.enzyme_modules import EnzymeModule\n",
    "from mass.test import create_test_model\n",
    "\n",
    "# Load the glycolysis and hemoglobin models, then merge them\n",
    "glycolysis = create_test_model(\"Glycolysis\")\n",
    "hemoglobin = create_test_model(\"Hemoglobin\")\n",
    "glyc_hb = glycolysis.merge(hemoglobin, inplace=False)"
   ]
  },
  {
   "cell_type": "markdown",
   "metadata": {},
   "source": [
    "The `EnzymeModule` is a subclass of the `MassModel`, meaning that it inherits the methods and many of the behaviors of the `MassModel` object. \n",
    "Just like a `MassModel`, an `EnzymeModule` object requires a unique identifier to be created. Optionally, the `name` and `subsystem` attributes of the enzyme during initialization."
   ]
  },
  {
   "cell_type": "code",
   "execution_count": 2,
   "metadata": {
    "scrolled": true
   },
   "outputs": [],
   "source": [
    "HEX1 = EnzymeModule(\"HEX1\", name=\"Hexokinase (D-glucose:ATP)\",\n",
    "                    subsystem=\"Glycolysis\")"
   ]
  },
  {
   "cell_type": "markdown",
   "metadata": {},
   "source": [
    "### Defining the enzyme ligands\n",
    "\n",
    "The ligands that interact with the enzyme, such as the substrates, activators, inhibitors, are created as `MassMetabolite` objects and added to the model."
   ]
  },
  {
   "cell_type": "code",
   "execution_count": 3,
   "metadata": {},
   "outputs": [],
   "source": [
    "glc__D_c = MassMetabolite(\n",
    "    \"glc__D_c\",\n",
    "    name=\"D-Glucose\",\n",
    "    formula=\"C6H12O6\",\n",
    "    charge=0,\n",
    "    compartment=\"c\")\n",
    "g6p_c = MassMetabolite(\n",
    "    \"g6p_c\",\n",
    "    name=\"D-Glucose 6-phosphate\",\n",
    "    formula=\"C6H11O9P\",\n",
    "    charge=-2,\n",
    "    compartment=\"c\")\n",
    "atp_c = MassMetabolite(\n",
    "    \"atp_c\",\n",
    "    name=\"ATP\",\n",
    "    formula=\"C10H12N5O13P3\",\n",
    "    charge=-4,\n",
    "    compartment=\"c\")\n",
    "adp_c = MassMetabolite(\n",
    "    \"adp_c\",\n",
    "    name=\"ADP\",\n",
    "    formula=\"C10H12N5O10P2\",\n",
    "    charge=-3,\n",
    "    compartment=\"c\")\n",
    "_23dpg_c = MassMetabolite(\n",
    "    \"_23dpg_c\", \n",
    "    name=\"2,3-Disphospho-D-glycerate\", \n",
    "    formula=\"C3H3O10P2\",\n",
    "    charge=-5,\n",
    "    compartment=\"c\")\n",
    "h_c = MassMetabolite(\n",
    "    \"h_c\",\n",
    "    name=\"H+\",\n",
    "    formula=\"H\",\n",
    "    charge=1,\n",
    "    compartment=\"c\")\n",
    "\n",
    "HEX1.add_metabolites([glc__D_c, g6p_c, atp_c, adp_c, _23dpg_c, h_c])"
   ]
  },
  {
   "cell_type": "markdown",
   "metadata": {},
   "source": [
    "Once added to the `EnzymeModule`, the enzyme ligands can be accessed using the `enzyme_module_ligands` attribute."
   ]
  },
  {
   "cell_type": "code",
   "execution_count": 4,
   "metadata": {},
   "outputs": [
    {
     "data": {
      "text/plain": [
       "[<MassMetabolite glc__D_c at 0x12bde9910>,\n",
       " <MassMetabolite g6p_c at 0x12bde98d0>,\n",
       " <MassMetabolite atp_c at 0x12bde9950>,\n",
       " <MassMetabolite adp_c at 0x12bde9990>,\n",
       " <MassMetabolite _23dpg_c at 0x12bde9a10>,\n",
       " <MassMetabolite h_c at 0x12bde9a50>]"
      ]
     },
     "execution_count": 4,
     "metadata": {},
     "output_type": "execute_result"
    }
   ],
   "source": [
    "HEX1.enzyme_module_ligands"
   ]
  },
  {
   "cell_type": "markdown",
   "metadata": {},
   "source": [
    "In order to keep track of the roles played by various ligands in the module, the `enzyme_module_ligands_categorized` attribute can be set. The attribute takes a `dict` where keys are categories and values are the relevant `MassMetabolite` objects. Note that an object can be a part of multiple categories."
   ]
  },
  {
   "cell_type": "code",
   "execution_count": 5,
   "metadata": {},
   "outputs": [
    {
     "data": {
      "text/plain": [
       "[<Group substrates at 0x12be01250>,\n",
       " <Group cofactors at 0x12be01350>,\n",
       " <Group inhibitors at 0x12be013d0>,\n",
       " <Group products at 0x12be01450>]"
      ]
     },
     "execution_count": 5,
     "metadata": {},
     "output_type": "execute_result"
    }
   ],
   "source": [
    "HEX1.enzyme_module_ligands_categorized =  {\n",
    "    \"substrates\": glc__D_c,\n",
    "    \"cofactors\": atp_c,\n",
    "    \"inhibitors\": _23dpg_c,\n",
    "    \"products\": [adp_c, g6p_c, h_c]}\n",
    "HEX1.enzyme_module_ligands_categorized"
   ]
  },
  {
   "cell_type": "markdown",
   "metadata": {},
   "source": [
    "For each category, a `cobra.Group` is created containing the relevant objects. Once set, the attribute returns a `cobra.DictList` containing the categorized groups. The groups and their members can be printed:"
   ]
  },
  {
   "cell_type": "code",
   "execution_count": 6,
   "metadata": {},
   "outputs": [
    {
     "name": "stdout",
     "output_type": "stream",
     "text": [
      "substrates: ['glc__D_c']\n",
      "cofactors: ['atp_c']\n",
      "inhibitors: ['_23dpg_c']\n",
      "products: ['adp_c', 'g6p_c', 'h_c']\n"
     ]
    }
   ],
   "source": [
    "for group in HEX1.enzyme_module_ligands_categorized:\n",
    "    print(\"{0}: {1}\".format(\n",
    "        group.id, str(sorted([m.id for m in group.members]))))"
   ]
  },
  {
   "cell_type": "markdown",
   "metadata": {},
   "source": [
    "### Defining the enzyme module forms\n",
    "\n",
    "After adding `MassMetabolite` objects for the ligands to the model, the various forms of the enzyme must be defined. These forms are represented by `EnzymeModuleForm` objects. "
   ]
  },
  {
   "cell_type": "markdown",
   "metadata": {},
   "source": [
    "#### The EnzymeModuleForm Object\n",
    "\n",
    "The `EnzymeModuleForm` object inherits from the `MassMetabolite` and therefore can be treated like any other metabolite in the model. However, the `EnzymeModuleForm` object contains the additional `bound_catalytic` and `bound_effectors` attributes to assist in tracking the metabolites bound to the enzyme form. \n",
    "\n",
    "The `EnzymeModule.make_enzyme_module_form()` method allows for the creation of an `EnzymeModuleForm` object while assigning categories for the  `EnzymeModuleForm` in the process. Using `make_enzyme_module_form()` also adds the species to the module upon creation, accessible via the `EnzymeModule.enzyme_module_forms` attribute."
   ]
  },
  {
   "cell_type": "code",
   "execution_count": 7,
   "metadata": {},
   "outputs": [
    {
     "data": {
      "text/plain": [
       "[<EnzymeModuleForm hex1_c at 0x12be1e410>,\n",
       " <EnzymeModuleForm hex1_A_c at 0x12be1e450>,\n",
       " <EnzymeModuleForm hex1_G_c at 0x12be1e590>,\n",
       " <EnzymeModuleForm hex1_AG_c at 0x12be1e8d0>,\n",
       " <EnzymeModuleForm hex1_G_CI_c at 0x12be1e810>,\n",
       " <EnzymeModuleForm hex1_A_PI_c at 0x12be1e9d0>,\n",
       " <EnzymeModuleForm hex1_G_PI_c at 0x12be1eb10>]"
      ]
     },
     "execution_count": 7,
     "metadata": {},
     "output_type": "execute_result"
    }
   ],
   "source": [
    "hex1_c = HEX1.make_enzyme_module_form(\n",
    "    \"hex1_c\",\n",
    "    name=\"automatic\",\n",
    "    categories=\"Active\",\n",
    "    compartment=\"c\")\n",
    "\n",
    "hex1_A_c = HEX1.make_enzyme_module_form(\n",
    "    \"hex1_A_c\",  # A stands complexted with ATP\n",
    "    name=\"automatic\",\n",
    "    categories=\"Active\",\n",
    "    bound_catalytic={atp_c: 1},\n",
    "    compartment=\"c\")\n",
    "\n",
    "hex1_G_c = HEX1.make_enzyme_module_form(\n",
    "    \"hex1_G_c\",  # G stands for complexed with Glucose\n",
    "    name=\"automatic\",\n",
    "    categories=\"Active\",\n",
    "    bound_catalytic={glc__D_c: 1},\n",
    "    compartment=\"c\")\n",
    "\n",
    "hex1_AG_c = HEX1.make_enzyme_module_form(\n",
    "    \"hex1_AG_c\",\n",
    "    name=\"automatic\",\n",
    "    categories=\"Active\",\n",
    "    bound_catalytic={glc__D_c: 1, atp_c: 1},\n",
    "    compartment=\"c\")\n",
    "\n",
    "hex1_G_CI_c = HEX1.make_enzyme_module_form(\n",
    "    \"hex1_G_CI_c\",  # CI stands for competitive inhibition\n",
    "    name=\"automatic\",\n",
    "    categories=\"Inhibited\",\n",
    "    bound_catalytic={glc__D_c: 1, _23dpg_c: 1},\n",
    "    compartment=\"c\")\n",
    "\n",
    "hex1_A_PI_c = HEX1.make_enzyme_module_form(\n",
    "    \"hex1_A_PI_c\",  # PI stands for competitive inhibition\n",
    "    name=\"automatic\",\n",
    "    categories=\"Inhibited\",\n",
    "    bound_catalytic={adp_c: 1},\n",
    "    compartment=\"c\")\n",
    "\n",
    "hex1_G_PI_c = HEX1.make_enzyme_module_form(\n",
    "    \"hex1_G_PI_c\",  # PI stands for competitive inhibition\n",
    "    name=\"automatic\",\n",
    "    categories=\"Inhibited\",\n",
    "    bound_catalytic={g6p_c: 1},\n",
    "    compartment=\"c\")\n",
    "\n",
    "HEX1.enzyme_module_forms"
   ]
  },
  {
   "cell_type": "markdown",
   "metadata": {},
   "source": [
    "The `bound_catalytic` attribute represents the ligands bound to active or catalytic sites of enzyme, while the `bound_effectors` attribute is represents ligands bound to other sites, such as those for allosteric regulators. Note that these two attributes behave identically."
   ]
  },
  {
   "cell_type": "code",
   "execution_count": 8,
   "metadata": {},
   "outputs": [
    {
     "name": "stdout",
     "output_type": "stream",
     "text": [
      "Bound to catalytic site of hex1_c:\n",
      "{}\n",
      "\n",
      "Bound to catalytic site of hex1_A_c:\n",
      "{<MassMetabolite atp_c at 0x12bde9950>: 1}\n",
      "\n",
      "Bound to catalytic site of hex1_G_c:\n",
      "{<MassMetabolite glc__D_c at 0x12bde9910>: 1}\n",
      "\n",
      "Bound to catalytic site of hex1_AG_c:\n",
      "{<MassMetabolite glc__D_c at 0x12bde9910>: 1, <MassMetabolite atp_c at 0x12bde9950>: 1}\n",
      "\n",
      "Bound to catalytic site of hex1_G_CI_c:\n",
      "{<MassMetabolite glc__D_c at 0x12bde9910>: 1, <MassMetabolite _23dpg_c at 0x12bde9a10>: 1}\n",
      "\n",
      "Bound to catalytic site of hex1_A_PI_c:\n",
      "{<MassMetabolite adp_c at 0x12bde9990>: 1}\n",
      "\n",
      "Bound to catalytic site of hex1_G_PI_c:\n",
      "{<MassMetabolite g6p_c at 0x12bde98d0>: 1}\n",
      "\n"
     ]
    }
   ],
   "source": [
    "# Print automatically generated names\n",
    "for enzyme_form in HEX1.enzyme_module_forms:\n",
    "    print(\"Bound to catalytic site of {0}:\\n{1}\\n\".format(\n",
    "        enzyme_form.id, enzyme_form.bound_catalytic))"
   ]
  },
  {
   "cell_type": "markdown",
   "metadata": {},
   "source": [
    "Setting the `bound_catalytic` and `bound_effectors` attributes on creation allow the `formula` and `charge` attributes of the various forms to be set such that mass and charge balancing is maintained the model. Note that the enzyme is represented as a moiety and the chemical formula represents the moieties bound to the enzyme."
   ]
  },
  {
   "cell_type": "code",
   "execution_count": 9,
   "metadata": {},
   "outputs": [
    {
     "data": {
      "text/html": [
       "<div>\n",
       "<style scoped>\n",
       "    .dataframe tbody tr th:only-of-type {\n",
       "        vertical-align: middle;\n",
       "    }\n",
       "\n",
       "    .dataframe tbody tr th {\n",
       "        vertical-align: top;\n",
       "    }\n",
       "\n",
       "    .dataframe thead th {\n",
       "        text-align: right;\n",
       "    }\n",
       "</style>\n",
       "<table border=\"1\" class=\"dataframe\">\n",
       "  <thead>\n",
       "    <tr style=\"text-align: right;\">\n",
       "      <th></th>\n",
       "      <th>hex1_c</th>\n",
       "      <th>hex1_A_c</th>\n",
       "      <th>hex1_G_c</th>\n",
       "      <th>hex1_AG_c</th>\n",
       "      <th>hex1_G_CI_c</th>\n",
       "      <th>hex1_A_PI_c</th>\n",
       "      <th>hex1_G_PI_c</th>\n",
       "    </tr>\n",
       "  </thead>\n",
       "  <tbody>\n",
       "    <tr>\n",
       "      <td>C</td>\n",
       "      <td>0.0</td>\n",
       "      <td>10.0</td>\n",
       "      <td>6.0</td>\n",
       "      <td>16.0</td>\n",
       "      <td>9.0</td>\n",
       "      <td>10.0</td>\n",
       "      <td>6.0</td>\n",
       "    </tr>\n",
       "    <tr>\n",
       "      <td>H</td>\n",
       "      <td>0.0</td>\n",
       "      <td>12.0</td>\n",
       "      <td>12.0</td>\n",
       "      <td>24.0</td>\n",
       "      <td>15.0</td>\n",
       "      <td>12.0</td>\n",
       "      <td>11.0</td>\n",
       "    </tr>\n",
       "    <tr>\n",
       "      <td>O</td>\n",
       "      <td>0.0</td>\n",
       "      <td>13.0</td>\n",
       "      <td>6.0</td>\n",
       "      <td>19.0</td>\n",
       "      <td>16.0</td>\n",
       "      <td>10.0</td>\n",
       "      <td>9.0</td>\n",
       "    </tr>\n",
       "    <tr>\n",
       "      <td>P</td>\n",
       "      <td>0.0</td>\n",
       "      <td>3.0</td>\n",
       "      <td>0.0</td>\n",
       "      <td>3.0</td>\n",
       "      <td>2.0</td>\n",
       "      <td>2.0</td>\n",
       "      <td>1.0</td>\n",
       "    </tr>\n",
       "    <tr>\n",
       "      <td>N</td>\n",
       "      <td>0.0</td>\n",
       "      <td>5.0</td>\n",
       "      <td>0.0</td>\n",
       "      <td>5.0</td>\n",
       "      <td>0.0</td>\n",
       "      <td>5.0</td>\n",
       "      <td>0.0</td>\n",
       "    </tr>\n",
       "    <tr>\n",
       "      <td>S</td>\n",
       "      <td>0.0</td>\n",
       "      <td>0.0</td>\n",
       "      <td>0.0</td>\n",
       "      <td>0.0</td>\n",
       "      <td>0.0</td>\n",
       "      <td>0.0</td>\n",
       "      <td>0.0</td>\n",
       "    </tr>\n",
       "    <tr>\n",
       "      <td>q</td>\n",
       "      <td>0.0</td>\n",
       "      <td>-4.0</td>\n",
       "      <td>0.0</td>\n",
       "      <td>-4.0</td>\n",
       "      <td>-5.0</td>\n",
       "      <td>-3.0</td>\n",
       "      <td>-2.0</td>\n",
       "    </tr>\n",
       "    <tr>\n",
       "      <td>[HEX]</td>\n",
       "      <td>1.0</td>\n",
       "      <td>1.0</td>\n",
       "      <td>1.0</td>\n",
       "      <td>1.0</td>\n",
       "      <td>1.0</td>\n",
       "      <td>1.0</td>\n",
       "      <td>1.0</td>\n",
       "    </tr>\n",
       "  </tbody>\n",
       "</table>\n",
       "</div>"
      ],
      "text/plain": [
       "       hex1_c  hex1_A_c  hex1_G_c  hex1_AG_c  hex1_G_CI_c  hex1_A_PI_c  \\\n",
       "C         0.0      10.0       6.0       16.0          9.0         10.0   \n",
       "H         0.0      12.0      12.0       24.0         15.0         12.0   \n",
       "O         0.0      13.0       6.0       19.0         16.0         10.0   \n",
       "P         0.0       3.0       0.0        3.0          2.0          2.0   \n",
       "N         0.0       5.0       0.0        5.0          0.0          5.0   \n",
       "S         0.0       0.0       0.0        0.0          0.0          0.0   \n",
       "q         0.0      -4.0       0.0       -4.0         -5.0         -3.0   \n",
       "[HEX]     1.0       1.0       1.0        1.0          1.0          1.0   \n",
       "\n",
       "       hex1_G_PI_c  \n",
       "C              6.0  \n",
       "H             11.0  \n",
       "O              9.0  \n",
       "P              1.0  \n",
       "N              0.0  \n",
       "S              0.0  \n",
       "q             -2.0  \n",
       "[HEX]          1.0  "
      ]
     },
     "execution_count": 9,
     "metadata": {},
     "output_type": "execute_result"
    }
   ],
   "source": [
    "# Get the elemental matrix for the enzyme\n",
    "df = HEX1.get_elemental_matrix(array_type=\"DataFrame\")\n",
    "# Use iloc to only look at EnzymeModuleForms\n",
    "df.iloc[:, 6:]"
   ]
  },
  {
   "cell_type": "markdown",
   "metadata": {},
   "source": [
    "Setting the `name` argument as \"automatic\" in the `EnzymeModule.make_enzyme_module_form()` method causes a name for the `EnzymeModuleForm` to be generated based on the metabolites in the `bound_catalytic` and `bound_effectors` attributes."
   ]
  },
  {
   "cell_type": "code",
   "execution_count": 10,
   "metadata": {},
   "outputs": [
    {
     "name": "stdout",
     "output_type": "stream",
     "text": [
      "HEX1\n",
      "HEX1-atp complex\n",
      "HEX1-glc__D complex\n",
      "HEX1-glc__D-atp complex\n",
      "HEX1-glc__D-_23dpg complex\n",
      "HEX1-adp complex\n",
      "HEX1-g6p complex\n"
     ]
    }
   ],
   "source": [
    "# Print automatically generated names\n",
    "for enzyme_form in HEX1.enzyme_module_forms:\n",
    "    print(enzyme_form.name)"
   ]
  },
  {
   "cell_type": "markdown",
   "metadata": {},
   "source": [
    "The `categories` argument allows for `EnzymeModuleForm` objects to be placed into `cobra.Group` objects representing those categories. As with the ligands, the categorized enzyme module forms can be returned in a `DictList` of `Group` objects using the `enzyme_module_forms_categorized` attribute."
   ]
  },
  {
   "cell_type": "code",
   "execution_count": 11,
   "metadata": {},
   "outputs": [
    {
     "name": "stdout",
     "output_type": "stream",
     "text": [
      "Active: ['hex1_AG_c', 'hex1_A_c', 'hex1_G_c', 'hex1_c']\n",
      "Inhibited: ['hex1_A_PI_c', 'hex1_G_CI_c', 'hex1_G_PI_c']\n"
     ]
    }
   ],
   "source": [
    "for group in HEX1.enzyme_module_forms_categorized:\n",
    "    print(\"{0}: {1}\".format(\n",
    "        group.id, str(sorted([m.id for m in group.members]))))"
   ]
  },
  {
   "cell_type": "markdown",
   "metadata": {},
   "source": [
    "Alternatively, the `enzyme_module_forms_categorized` attribute can be set using a `dict`:"
   ]
  },
  {
   "cell_type": "code",
   "execution_count": 12,
   "metadata": {},
   "outputs": [
    {
     "name": "stdout",
     "output_type": "stream",
     "text": [
      "Active: ['hex1_AG_c', 'hex1_A_c', 'hex1_G_c', 'hex1_c']\n",
      "Inhibited: ['hex1_A_PI_c', 'hex1_G_CI_c', 'hex1_G_PI_c']\n",
      "competitively_inhibited: ['hex1_G_CI_c']\n"
     ]
    }
   ],
   "source": [
    "HEX1.enzyme_module_forms_categorized =  {\n",
    "    \"competitively_inhibited\": hex1_G_CI_c}\n",
    "\n",
    "for group in HEX1.enzyme_module_forms_categorized:\n",
    "    print(\"{0}: {1}\".format(\n",
    "        group.id, str(sorted([m.id for m in group.members]))))"
   ]
  },
  {
   "cell_type": "markdown",
   "metadata": {},
   "source": [
    "### Defining enzyme module reactions"
   ]
  },
  {
   "cell_type": "markdown",
   "metadata": {},
   "source": [
    "With the ligands and various enzyme forms defined, the next step is to define all of the reaction steps that represent the catalytic mechanism and regulation of the enzyme module. These reactions are represented as `EnzymeModuleReaction` objects. "
   ]
  },
  {
   "cell_type": "markdown",
   "metadata": {},
   "source": [
    "#### The EnzymeModuleReaction Object\n",
    "\n",
    "The `EnzymeModuleReaction` object inherits from the `MassReaction` and therefore can be treated like any other reaction in the model. Like the `make_enzyme_module_form()` method, the `make_enzyme_module_reaction()` method allows for the creation of an `EnzymeModuleReaction` object while assigning categories for the `EnzymeModuleReaction` in the process.\n",
    "\n",
    "Species that exist in the model can also be added to the reaction by passing a dictionary of metabolites and their stoichiometric coefficients to the `metabolites_to_add` argument."
   ]
  },
  {
   "cell_type": "code",
   "execution_count": 13,
   "metadata": {},
   "outputs": [
    {
     "name": "stdout",
     "output_type": "stream",
     "text": [
      "HEX1_1: adp_c + hex1_c <=> hex1_A_PI_c\n",
      "HEX1_2: g6p_c + hex1_c <=> hex1_G_PI_c\n",
      "HEX1_3: glc__D_c + hex1_c <=> hex1_G_c\n",
      "HEX1_4: atp_c + hex1_c <=> hex1_A_c\n",
      "HEX1_5: _23dpg_c + hex1_G_c <=> hex1_G_CI_c\n",
      "HEX1_6: atp_c + hex1_G_c <=> hex1_AG_c\n",
      "HEX1_7: glc__D_c + hex1_A_c <=> hex1_AG_c\n",
      "HEX1_8: hex1_AG_c <=> adp_c + g6p_c + h_c + hex1_c\n"
     ]
    }
   ],
   "source": [
    "HEX1_1 = HEX1.make_enzyme_module_reaction(\n",
    "    \"HEX1_1\",\n",
    "    name=\"Automatic\",\n",
    "    subsystem=\"Glycolysis\",\n",
    "    reversible=True,\n",
    "    categories=\"product_inhibition\",\n",
    "    metabolites_to_add={\n",
    "        \"hex1_c\": -1,\n",
    "        \"adp_c\": -1,\n",
    "        \"hex1_A_PI_c\": 1})\n",
    "\n",
    "HEX1_2 = HEX1.make_enzyme_module_reaction(\n",
    "    \"HEX1_2\",\n",
    "    name=\"Automatic\",\n",
    "    subsystem=\"Glycolysis\",\n",
    "    reversible=True,\n",
    "    categories=\"product_inhibition\",\n",
    "    metabolites_to_add={\n",
    "        \"hex1_c\": -1,\n",
    "        \"g6p_c\": -1,\n",
    "        \"hex1_G_PI_c\": 1})\n",
    "\n",
    "HEX1_3 = HEX1.make_enzyme_module_reaction(\n",
    "    \"HEX1_3\",\n",
    "    name=\"Automatic\",\n",
    "    subsystem=\"Glycolysis\",\n",
    "    reversible=True,\n",
    "    categories=\"glc__D_c_binding\",\n",
    "    metabolites_to_add={\n",
    "        \"hex1_c\": -1,\n",
    "        \"glc__D_c\": -1,\n",
    "        \"hex1_G_c\": 1})\n",
    "\n",
    "HEX1_4 = HEX1.make_enzyme_module_reaction(\n",
    "    \"HEX1_4\",\n",
    "    name=\"Automatic\",\n",
    "    subsystem=\"Glycolysis\",\n",
    "    reversible=True,\n",
    "    categories=\"atp_c_binding\",\n",
    "    metabolites_to_add={\n",
    "        \"hex1_c\": -1,\n",
    "        \"atp_c\": -1,\n",
    "        \"hex1_A_c\": 1})\n",
    "\n",
    "HEX1_5 = HEX1.make_enzyme_module_reaction(\n",
    "    \"HEX1_5\",\n",
    "    name=\"Automatic\",\n",
    "    subsystem=\"Glycolysis\",\n",
    "    reversible=True,\n",
    "    categories=\"competitive_inhibition\",\n",
    "    metabolites_to_add={\n",
    "        \"hex1_G_c\": -1,\n",
    "        \"_23dpg_c\": -1,\n",
    "        \"hex1_G_CI_c\": 1})\n",
    "\n",
    "HEX1_6 = HEX1.make_enzyme_module_reaction(\n",
    "    \"HEX1_6\",\n",
    "    name=\"Automatic\",\n",
    "    subsystem=\"Glycolysis\",\n",
    "    reversible=True,\n",
    "    categories=\"atp_c_binding\",\n",
    "    metabolites_to_add={\n",
    "        \"hex1_G_c\": -1,\n",
    "        \"atp_c\": -1,\n",
    "        \"hex1_AG_c\": 1})\n",
    "\n",
    "HEX1_7 = HEX1.make_enzyme_module_reaction(\n",
    "    \"HEX1_7\",\n",
    "    name=\"Automatic\",\n",
    "    subsystem=\"Glycolysis\",\n",
    "    reversible=True,\n",
    "    categories=\"glc__D_c_binding\",\n",
    "    metabolites_to_add={\n",
    "        \"hex1_A_c\": -1,\n",
    "        \"glc__D_c\": -1,\n",
    "        \"hex1_AG_c\": 1})\n",
    "\n",
    "HEX1_8 = HEX1.make_enzyme_module_reaction(\n",
    "    \"HEX1_8\",\n",
    "    name=\"Automatic\",\n",
    "    subsystem=\"Glycolysis\",\n",
    "    reversible=True,\n",
    "    categories=\"catalyzation\",\n",
    "    metabolites_to_add={\n",
    "        \"hex1_AG_c\": -1,\n",
    "        \"hex1_c\": 1,\n",
    "        \"adp_c\": 1,\n",
    "        \"g6p_c\": 1,\n",
    "        \"h_c\": 1})\n",
    "\n",
    "for reaction in HEX1.enzyme_module_reactions:\n",
    "    print(reaction)"
   ]
  },
  {
   "cell_type": "markdown",
   "metadata": {},
   "source": [
    "The `categories` argument allows for `EnzymeModuleReactions` objects to be placed into `cobra.Group` objects representing those categories. As with the ligands and enzyme forms, a `DictList` of the relevant groups can be returned with the `enzyme_module_reactions_categorized` attribute."
   ]
  },
  {
   "cell_type": "code",
   "execution_count": 14,
   "metadata": {},
   "outputs": [
    {
     "data": {
      "text/plain": [
       "[<Group product_inhibition at 0x12be01850>,\n",
       " <Group glc__D_c_binding at 0x12be53710>,\n",
       " <Group atp_c_binding at 0x12be53b90>,\n",
       " <Group competitive_inhibition at 0x12be53890>,\n",
       " <Group catalyzation at 0x12be71b50>]"
      ]
     },
     "execution_count": 14,
     "metadata": {},
     "output_type": "execute_result"
    }
   ],
   "source": [
    "HEX1.enzyme_module_reactions_categorized"
   ]
  },
  {
   "cell_type": "markdown",
   "metadata": {},
   "source": [
    "#### Unifying rate parameters\n",
    "\n",
    "For this `EnzymeModule`, the reactions representing glucose binding to the enzyme and ATP binding to the enzyme have the same forward rate and equilibrium constants. Instead of defining the parameter values for each individual reaction, the `unify_rate_parameters()` method can be used to create custom rate laws for the given reactions that all depend on the same rate parameters.\n",
    "\n",
    "The `unify_rate_parameters()` method takes a list of reactions and an identifier to use for the unified parameter. The `enzyme_prefix` flag can be set to `True` to prefix the new parameter identifier with the identifier of the `EnzymeModule`, ensuring that any existing custom parameters are not overwritten."
   ]
  },
  {
   "cell_type": "code",
   "execution_count": 15,
   "metadata": {},
   "outputs": [
    {
     "name": "stdout",
     "output_type": "stream",
     "text": [
      "\n",
      "glc__D_c_binding\n",
      "----------------\n",
      "HEX1_3: kf_HEX1_G*(glc__D_c(t)*hex1_c(t) - hex1_G_c(t)/Keq_HEX1_G)\n",
      "HEX1_7: kf_HEX1_G*(glc__D_c(t)*hex1_A_c(t) - hex1_AG_c(t)/Keq_HEX1_G)\n",
      "\n",
      "atp_c_binding\n",
      "-------------\n",
      "HEX1_4: kf_HEX1_A*(atp_c(t)*hex1_c(t) - hex1_A_c(t)/Keq_HEX1_A)\n",
      "HEX1_6: kf_HEX1_A*(atp_c(t)*hex1_G_c(t) - hex1_AG_c(t)/Keq_HEX1_A)\n"
     ]
    }
   ],
   "source": [
    "for ligand, pid in zip([glc__D_c, atp_c],[\"G\", \"A\"]):\n",
    "    # Get the group of reactions corresponding to the ligand\n",
    "    category = \"_\".join((ligand.id, \"binding\"))\n",
    "    group = HEX1.enzyme_module_reactions_categorized.get_by_id(category)\n",
    "    \n",
    "    # Unify the parameters\n",
    "    HEX1.unify_rate_parameters(\n",
    "        group.members, new_parameter_id=pid, enzyme_prefix=True)\n",
    "\n",
    "    # Print the new reaction rates\n",
    "    print(\"\\n\" + category + \"\\n\" + \"-\" * len(category))\n",
    "    for reaction in sorted(group.members, key=attrgetter(\"id\")):\n",
    "        print(reaction.id + \": \" + str(reaction.rate))"
   ]
  },
  {
   "cell_type": "markdown",
   "metadata": {},
   "source": [
    "## Determining Enzyme Form Concentrations and Rate Constants\n",
    "\n",
    "The next step is to solve for the steady state concentrations for the various forms of the enzyme symbolically using **sympy**. Because the numerical values for the dissociation constants have been defined, these equations is solved in terms of the rate constants. The rate constants can be approximated using the total enzyme concentration as a constraint and substituted back into the equations to calculate the numerical values of the steady state concentrations."
   ]
  },
  {
   "cell_type": "code",
   "execution_count": 16,
   "metadata": {},
   "outputs": [],
   "source": [
    "from sympy import Eq, Symbol, lambdify, simplify, solveset\n",
    "\n",
    "from mass import strip_time\n",
    "from mass.util.matrix import matrix_rank"
   ]
  },
  {
   "cell_type": "markdown",
   "metadata": {},
   "source": [
    "### Solving steady state concentrations symbolically\n",
    "\n",
    "To get the symbolic solutions for the individual enzyme forms, the ODEs are first collected in a `dict` where keys are the enzyme forms and values are their ODEs without time dependency:"
   ]
  },
  {
   "cell_type": "code",
   "execution_count": 17,
   "metadata": {},
   "outputs": [
    {
     "name": "stdout",
     "output_type": "stream",
     "text": [
      "Rank Deficiency: 1\n"
     ]
    }
   ],
   "source": [
    "ode_dict = {\n",
    "    enzyme_form.id: Eq(strip_time(enzyme_form.ode))\n",
    "    for enzyme_form in HEX1.enzyme_module_forms}\n",
    "# Matrix rank of enzyme stoichiometric matrix without substrates\n",
    "rank = matrix_rank(HEX1.S[6:])\n",
    "print(\"Rank Deficiency: {0}\".format(len(ode_dict) - rank))"
   ]
  },
  {
   "cell_type": "markdown",
   "metadata": {},
   "source": [
    "Because the stoichiometric matrix (without ligands) has a rank deficiency of 1, there is a dependent variable unless another equation is added. Therefore the completely free enzyme form is treated as the dependent variable and all of the enzyme forms are solved in terms of the free enzyme form:"
   ]
  },
  {
   "cell_type": "code",
   "execution_count": 18,
   "metadata": {},
   "outputs": [],
   "source": [
    "enzyme_solutions = {}\n",
    "for enzyme_form in HEX1.enzyme_module_forms:\n",
    "    # Skip dependent variable\n",
    "    if enzyme_form.id == \"hex1_c\":\n",
    "        continue\n",
    "    # Get the ODE for the enzyme form from the ODE dict\n",
    "    equation = ode_dict[enzyme_form.id]\n",
    "    # Solve the equation for the enzyme form, substituting \n",
    "    # previously found enzyme form solutions into the equation\n",
    "    solution = solveset(equation.subs(enzyme_solutions),\n",
    "                        enzyme_form.id)\n",
    "    # Store the solution\n",
    "    enzyme_solutions[enzyme_form.id] = list(solution)[0]\n",
    "    # Substitute the new solution into existing solutions\n",
    "    enzyme_solutions.update({\n",
    "        enzyme_form: sol.subs(enzyme_solutions) \n",
    "        for enzyme_form, sol in enzyme_solutions.items()})\n",
    "    \n",
    "args = set()\n",
    "for solution in enzyme_solutions.values():\n",
    "    args.update(solution.atoms(Symbol))"
   ]
  },
  {
   "cell_type": "markdown",
   "metadata": {},
   "source": [
    "#### Defining the Rate Equation\n",
    "In order to make up for the rank deficiency, an additional equation is needed. Typically, the rate of the enzyme is the summation of the rates for the catalyzation reactions of the enzyme. The `make_enzyme_rate_equation()` method can be used to create the rate equation from a list of reactions. If `use_rates` is set as True, the rate law expressions are added together. If the `update_enzyme` flag is set as `True`, the rate equation is stored as a sympy expression in the `enzyme_rate_equation` attribute."
   ]
  },
  {
   "cell_type": "code",
   "execution_count": 19,
   "metadata": {},
   "outputs": [
    {
     "name": "stdout",
     "output_type": "stream",
     "text": [
      "kf_HEX1_8*(Keq_HEX1_8*hex1_AG_c(t) - adp_c(t)*g6p_c(t)*hex1_c(t))/Keq_HEX1_8\n"
     ]
    }
   ],
   "source": [
    "# Get the catalyzation reactions\n",
    "catalyzation_group = HEX1.enzyme_module_reactions_categorized.get_by_id(\n",
    "    \"catalyzation\")\n",
    "\n",
    "HEX1.make_enzyme_rate_equation(catalyzation_group.members,\n",
    "                               use_rates=True,\n",
    "                               update_enzyme=True)\n",
    "\n",
    "print(HEX1.enzyme_rate_equation)"
   ]
  },
  {
   "cell_type": "markdown",
   "metadata": {},
   "source": [
    "With the rate equation defined, the `enzyme_rate_error()` method can be used to get the equation as the difference between the steady state flux and the rate equation."
   ]
  },
  {
   "cell_type": "code",
   "execution_count": 20,
   "metadata": {},
   "outputs": [
    {
     "name": "stdout",
     "output_type": "stream",
     "text": [
      "v_HEX1 - kf_HEX1_8*(Keq_HEX1_8*hex1_AG_c - adp_c*g6p_c*hex1_c)/Keq_HEX1_8\n"
     ]
    }
   ],
   "source": [
    "enzyme_rate_equation = strip_time(HEX1.enzyme_rate_error(use_values=False))\n",
    "print(enzyme_rate_equation)"
   ]
  },
  {
   "cell_type": "markdown",
   "metadata": {},
   "source": [
    "The enzyme form solutions are substituted into the rate equation and the equation is solved for the free enzyme form. The solutions are then updated, resulting in symbolic equations that do not depend on any enzyme form."
   ]
  },
  {
   "cell_type": "code",
   "execution_count": 21,
   "metadata": {},
   "outputs": [
    {
     "name": "stdout",
     "output_type": "stream",
     "text": [
      "{Keq_HEX1_G, adp_c, kf_HEX1_G, _23dpg_c, kf_HEX1_8, v_HEX1, Keq_HEX1_1, Keq_HEX1_2, glc__D_c, atp_c, Keq_HEX1_8, Keq_HEX1_5, kf_HEX1_A, Keq_HEX1_A, g6p_c}\n"
     ]
    }
   ],
   "source": [
    "# Solve for last unknown concentration symbolically\n",
    "solution = solveset(enzyme_rate_equation.subs(enzyme_solutions),\n",
    "                    \"hex1_c\")\n",
    "\n",
    "# Update solution dictionary with the new solution\n",
    "enzyme_solutions[\"hex1_c\"] = list(solution)[0]\n",
    "\n",
    "# Update solutions with free variable solutions\n",
    "enzyme_solutions = {\n",
    "    enzyme_form: simplify(solution.subs(enzyme_solutions))\n",
    "    for enzyme_form, solution in enzyme_solutions.items()}\n",
    "\n",
    "args = set()\n",
    "for solution in enzyme_solutions.values():\n",
    "    args.update(solution.atoms(Symbol))\n",
    "print(args)"
   ]
  },
  {
   "cell_type": "markdown",
   "metadata": {},
   "source": [
    "Numerical values for known quantities can be substituted into the equations. For this `EnzymeModule` of Hexokinase, the following dissociation constants are used:\n",
    "\n",
    "$$\\begin{align}\n",
    "K_{d,\\ \\text{GLC-D}} &= 0.038\\ \\text{mM} \\\\\n",
    "K_{d,\\ \\text{ATP}} &= 2.06\\ \\text{mM} \\\\\n",
    "K_{i,\\ \\text{23DPG}} &= 5.5\\ \\text{mM} \\\\\n",
    "K_{i,\\ \\text{ADP}} &= 1\\ \\text{mM} \\\\\n",
    "K_{i,\\ \\text{G6P}} &= 66.67\\ \\text{mM} \\\\\n",
    "\\end{align}$$\n",
    "\n",
    "A value of $K_{\\text{HEX1}}= 313.12$ is used for the catalyzation step. Note that the inverse of the dissociation constant is used for reactions that form complexes. "
   ]
  },
  {
   "cell_type": "code",
   "execution_count": 22,
   "metadata": {},
   "outputs": [],
   "source": [
    "numerical_values = {\n",
    "    \"Keq_HEX1_1\": 1,\n",
    "    \"Keq_HEX1_2\": 1 / 66.67,\n",
    "    \"Keq_HEX1_G\": 1 / 0.038,  \n",
    "    \"Keq_HEX1_A\": 1 / 2.06,\n",
    "    \"Keq_HEX1_5\": 1 / 5.5,\n",
    "    \"Keq_HEX1_8\": 313.12}\n",
    "# Update the model with the parameters\n",
    "HEX1.update_parameters(numerical_values)"
   ]
  },
  {
   "cell_type": "markdown",
   "metadata": {},
   "source": [
    "The ligand concentrations and the rate for the enzyme are extracted from the glycolysis model merged with the hemoglobin model."
   ]
  },
  {
   "cell_type": "code",
   "execution_count": 23,
   "metadata": {},
   "outputs": [],
   "source": [
    "# Get steady state flux for EnzymeModule\n",
    "HEX1.enzyme_rate = glyc_hb.reactions.get_by_id(\"HEX1\").steady_state_flux\n",
    "numerical_values[HEX1.enzyme_flux_symbol_str] = HEX1.enzyme_rate\n",
    "\n",
    "# Get the ligand concentrations\n",
    "for met in HEX1.enzyme_module_ligands:\n",
    "    concentration = glyc_hb.metabolites.get_by_id(met.id).initial_condition\n",
    "    # Set the ligand initial condition and add to numercal values dictionary\n",
    "    met.initial_condition = concentration\n",
    "    numerical_values[met.id] = concentration"
   ]
  },
  {
   "cell_type": "markdown",
   "metadata": {},
   "source": [
    "The numerical values are substituted into the symbolic equations, resulting in the steady state concentrations being dependent only on the rate constants."
   ]
  },
  {
   "cell_type": "code",
   "execution_count": 24,
   "metadata": {},
   "outputs": [
    {
     "name": "stdout",
     "output_type": "stream",
     "text": [
      "{kf_HEX1_8, kf_HEX1_G, kf_HEX1_A}\n"
     ]
    }
   ],
   "source": [
    "enzyme_solutions = {\n",
    "    enzyme_form: simplify(sol.subs(numerical_values))\n",
    "    for enzyme_form, sol in enzyme_solutions.items()}\n",
    "\n",
    "args = set()\n",
    "for solution in enzyme_solutions.values():\n",
    "    args.update(solution.atoms(Symbol))\n",
    "print(args)"
   ]
  },
  {
   "cell_type": "markdown",
   "metadata": {},
   "source": [
    "### Approximating Rate Constants\n",
    "\n",
    "In order to determine the set of rate constants for this enzyme module, the absolute error between the total hexokinase concentration value found in literature, and the computed hexokinase concentration based on the choice of rate constants. Here, the `minimize()` function of the **scipy** package is utilized to approximate the rate constants. "
   ]
  },
  {
   "cell_type": "code",
   "execution_count": 25,
   "metadata": {},
   "outputs": [],
   "source": [
    "from scipy.optimize import minimize"
   ]
  },
  {
   "cell_type": "markdown",
   "metadata": {},
   "source": [
    "The objective function for the minimization is first made symbolically. The `enzyme_total_symbol_str` property can be used to represent the total enzyme concentration, while the `enzyme_concentration_total_equation` property creates the sum of all enzyme forms as a symbolic expression."
   ]
  },
  {
   "cell_type": "code",
   "execution_count": 26,
   "metadata": {
    "scrolled": true
   },
   "outputs": [
    {
     "name": "stdout",
     "output_type": "stream",
     "text": [
      "Abs(-HEX1_Total + hex1_AG_c + hex1_A_PI_c + hex1_A_c + hex1_G_CI_c + hex1_G_PI_c + hex1_G_c + hex1_c)\n"
     ]
    }
   ],
   "source": [
    "enzyme_total_error = abs(\n",
    "    Symbol(HEX1.enzyme_total_symbol_str)\n",
    "    - strip_time(HEX1.enzyme_concentration_total_equation))\n",
    "print(enzyme_total_error)"
   ]
  },
  {
   "cell_type": "markdown",
   "metadata": {},
   "source": [
    "The `enzyme_concentration_total` attribute can store the total amount of enzyme in the model and substiuted into the expression. The total HEX1 concentration is $24 * 10^{-6} \\text{mM}$."
   ]
  },
  {
   "cell_type": "code",
   "execution_count": 27,
   "metadata": {},
   "outputs": [
    {
     "name": "stdout",
     "output_type": "stream",
     "text": [
      "Abs(hex1_AG_c + hex1_A_PI_c + hex1_A_c + hex1_G_CI_c + hex1_G_PI_c + hex1_G_c + hex1_c - 2.4e-5)\n"
     ]
    }
   ],
   "source": [
    "HEX1.enzyme_concentration_total = 24e-6\n",
    "enzyme_total_error = enzyme_total_error.subs({\n",
    "    HEX1.enzyme_total_symbol_str: HEX1.enzyme_concentration_total})\n",
    "print(enzyme_total_error)"
   ]
  },
  {
   "cell_type": "markdown",
   "metadata": {},
   "source": [
    "Finally, the symbolic equations for the enzyme forms can be substituted into the equation, resulting in a symbolic expression representing the objective function for minimization, where the only unknowns variables are the rate constants. The `lambdify()` function of the **sympy** package can convert the symbolic objective into a lambda function that can be used with the `minimize()` function of **scipy**."
   ]
  },
  {
   "cell_type": "code",
   "execution_count": 28,
   "metadata": {},
   "outputs": [],
   "source": [
    "enzyme_total_error = simplify(enzyme_total_error.subs(enzyme_solutions))\n",
    "\n",
    "# Sort the arguments to ensure input format remains consistent\n",
    "args = sorted(list(map(str, args)))\n",
    "# Use lambdify to make objective function as a lambda function\n",
    "obj_fun = lambda x: lambdify(args, enzyme_total_error)(*x)"
   ]
  },
  {
   "cell_type": "markdown",
   "metadata": {},
   "source": [
    "The `minimize()` function can be used to approximate the rate constants. Note that these problems are typically nonlinear and therefore require a nonlinear optimization routine to find a feasible solution."
   ]
  },
  {
   "cell_type": "code",
   "execution_count": 29,
   "metadata": {},
   "outputs": [
    {
     "name": "stdout",
     "output_type": "stream",
     "text": [
      "{'kf_HEX1_8': 100000000.0025878, 'kf_HEX1_A': 9376585.030755484, 'kf_HEX1_G': 52006.59981223971}\n"
     ]
    }
   ],
   "source": [
    "# Minimize the objective function, initial guess based on publication values\n",
    "initial_guess = [1e8, 9376585, 52001]\n",
    "variable_bounds = ((0, 1e9), (0, 1e9), (0, 1e9))\n",
    "solution = minimize(obj_fun, x0=initial_guess,\n",
    "                    method=\"trust-constr\",\n",
    "                    bounds=variable_bounds)\n",
    "# Map solution array to variables\n",
    "rate_constants = dict(zip(args, solution.x))\n",
    "print(rate_constants)"
   ]
  },
  {
   "cell_type": "markdown",
   "metadata": {},
   "source": [
    "Because the rate constants associated with the inhibition of the enzyme forms were not necessary for the computing the steady state concentrations, a rapid binding assumption is made for these reactions and a large number can be set for the rate constants. The parameters are set for the reactions using the `update_parameters()` method."
   ]
  },
  {
   "cell_type": "code",
   "execution_count": 30,
   "metadata": {},
   "outputs": [],
   "source": [
    "rate_constants[\"kf_HEX1_1\"] = 1e6\n",
    "rate_constants[\"kf_HEX1_2\"] = 1e6\n",
    "rate_constants[\"kf_HEX1_5\"] = 1e6\n",
    "HEX1.update_parameters(rate_constants)"
   ]
  },
  {
   "cell_type": "markdown",
   "metadata": {},
   "source": [
    "### Calculating numerical values for steady state concentrations\n",
    "\n",
    "Once the rate constants have been estimated, they can be substituted back  the symbolic steady state concentrations equations in order to obtain their corresponding numerical values"
   ]
  },
  {
   "cell_type": "code",
   "execution_count": 31,
   "metadata": {},
   "outputs": [
    {
     "name": "stdout",
     "output_type": "stream",
     "text": [
      "hex1_A_c: 9.401421e-06\n",
      "hex1_G_c: 5.718872e-08\n",
      "hex1_AG_c: 1.174630e-08\n",
      "hex1_G_CI_c: 3.223364e-08\n",
      "hex1_A_PI_c: 3.519706e-06\n",
      "hex1_G_PI_c: 8.847367e-09\n",
      "hex1_c: 1.213692e-05\n"
     ]
    }
   ],
   "source": [
    "for enzyme_form, solution in enzyme_solutions.items():\n",
    "    # Get the enzyme form object, determine the steady state concentration\n",
    "    enzyme_form = HEX1.enzyme_module_forms.get_by_id(enzyme_form)\n",
    "    enzyme_form.initial_condition = float(solution.subs(rate_constants))\n",
    "    print(\"{0}: {1:e}\".format(enzyme_form.id,\n",
    "                              enzyme_form.initial_condition))"
   ]
  },
  {
   "cell_type": "markdown",
   "metadata": {},
   "source": [
    "#### Error values\n",
    "\n",
    "As a quality assurance check, the `enzyme_concentration_total_error()` method can be used to get the error between the `enzyme_concentration_total` attribute and the sum of the enzyme form concentrations. A positive value indicates the `enzyme_concentration_total` attribute is greater than the sum of the individual enzyme form concentrations that were computed."
   ]
  },
  {
   "cell_type": "code",
   "execution_count": 32,
   "metadata": {
    "scrolled": true
   },
   "outputs": [
    {
     "name": "stdout",
     "output_type": "stream",
     "text": [
      "Total Enzyme Concentration Error: -1.1680622689093244e-06\n"
     ]
    }
   ],
   "source": [
    "print(\"Total Enzyme Concentration Error: {0}\".format(\n",
    "    HEX1.enzyme_concentration_total_error(use_values=True)))"
   ]
  },
  {
   "cell_type": "markdown",
   "metadata": {},
   "source": [
    "Similarly the error between the `enzyme_rate` attribute and the computed value from the `enzyme_rate_equation` can be checked as well using the `enzyme_rate_error()` method, where A positive value indicates the `enzyme_rate` attribute is greater than the value computed using the rate equation."
   ]
  },
  {
   "cell_type": "code",
   "execution_count": 33,
   "metadata": {},
   "outputs": [
    {
     "name": "stdout",
     "output_type": "stream",
     "text": [
      "Enzyme Rate Error: 4.440892098500626e-16\n"
     ]
    }
   ],
   "source": [
    "print(\"Enzyme Rate Error: {0}\".format(\n",
    "    HEX1.enzyme_rate_error(use_values=True)))"
   ]
  },
  {
   "cell_type": "markdown",
   "metadata": {},
   "source": [
    "## Adding EnzymeModules to Models\n",
    "\n",
    "With the `EnzymeModule` has been built, it can be integrated into a larger network and simulated. To add an `EnzymeModule` to an existing `MassModel`, the `merge()` method can be used. After merging, the `remove_reactions()` method is used to remove the reaction that was just replaced with the enzyme module. Note that the `EnzymeModule` should always be merged into the `MassModel` as demonstrated below:"
   ]
  },
  {
   "cell_type": "code",
   "execution_count": 34,
   "metadata": {},
   "outputs": [
    {
     "name": "stdout",
     "output_type": "stream",
     "text": [
      "Read LP format model from file /var/folders/36/g2np3l0d6t9dyr4rk3tvc8f80000gn/T/tmpisyunayu.lp\n",
      "Reading time = 0.00 seconds\n",
      ": 28 rows, 60 columns, 168 nonzeros\n"
     ]
    }
   ],
   "source": [
    "glyc_hb_HEX1 = glyc_hb.merge(HEX1, inplace=False)\n",
    "glyc_hb_HEX1.remove_reactions([\n",
    "    glyc_hb_HEX1.reactions.get_by_id(\"HEX1\")])"
   ]
  },
  {
   "cell_type": "markdown",
   "metadata": {},
   "source": [
    "Everything in the `EnzymeModule` is transfered into the `MassModel` upon merging, including all enzyme forms, reactions steps, initial conditions, rate parameters, and category groups."
   ]
  },
  {
   "cell_type": "code",
   "execution_count": 35,
   "metadata": {},
   "outputs": [
    {
     "data": {
      "text/html": [
       "\n",
       "            <table>\n",
       "                <tr>\n",
       "                    <td><strong>Name</strong></td><td>Glycolysis_Hemoglobin_HEX1</td>\n",
       "                </tr><tr>\n",
       "                    <td><strong>Memory address</strong></td><td>0x012c53ecd0</td>\n",
       "                </tr><tr>\n",
       "                    <td><strong>Stoichiometric Matrix</strong></td>\n",
       "                    <td>35x37</td>\n",
       "                </tr><tr>\n",
       "                    <td><strong>Matrix Rank</strong></td>\n",
       "                    <td>32</td>\n",
       "                </tr><tr>\n",
       "                    <td><strong>Number of metabolites</strong></td>\n",
       "                    <td>35</td>\n",
       "                </tr><tr>\n",
       "                    <td><strong>Initial conditions defined</strong></td>\n",
       "                    <td>35/35</td>\n",
       "                </tr><tr>\n",
       "                    <td><strong>Number of reactions</strong></td>\n",
       "                    <td>37</td>\n",
       "                </tr><tr>\n",
       "                    <td><strong>Number of genes</strong></td>\n",
       "                    <td>0</td>\n",
       "                </tr><tr>\n",
       "                    <td><strong>Number of enzyme modules</strong></td>\n",
       "                    <td>1</td>\n",
       "                </tr><tr>\n",
       "                    <td><strong>Number of groups</strong></td>\n",
       "                    <td>12</td>\n",
       "                </tr><tr>\n",
       "                    <td><strong>Objective expression</strong></td>\n",
       "                    <td>0</td>\n",
       "                </tr><tr>\n",
       "                    <td><strong>Compartments</strong></td>\n",
       "                    <td>Cytosol</td>\n",
       "                </tr>\n",
       "            </table>\n",
       "        "
      ],
      "text/plain": [
       "<MassModel Glycolysis_Hemoglobin_HEX1 at 0x12c53ecd0>"
      ]
     },
     "execution_count": 35,
     "metadata": {},
     "output_type": "execute_result"
    }
   ],
   "source": [
    "glyc_hb_HEX1"
   ]
  },
  {
   "cell_type": "markdown",
   "metadata": {},
   "source": [
    "### The EnzymeModuleDict object\n",
    "\n",
    "During the merge process, an `EnzymeModuleDict` is created from the `EnzymeModule` and added to the `MassModel.enzyme_modules` attribute."
   ]
  },
  {
   "cell_type": "code",
   "execution_count": 36,
   "metadata": {},
   "outputs": [
    {
     "name": "stdout",
     "output_type": "stream",
     "text": [
      "[<EnzymeModuleDict HEX1 at 0x12be45cb0>]\n"
     ]
    },
    {
     "data": {
      "text/html": [
       "\n",
       "            <table>\n",
       "                <tr>\n",
       "                    <td><strong>Name</strong></td><td>HEX1</td>\n",
       "                </tr><tr>\n",
       "                    <td><strong>Memory address</strong></td><td>0x012be45cb0</td>\n",
       "                </tr><tr>\n",
       "                    <td><strong>Stoichiometric Matrix</strong></td>\n",
       "                    <td>13x8</td>\n",
       "                </tr><tr>\n",
       "                    <td><strong>Matrix Rank</strong></td>\n",
       "                    <td>7</td>\n",
       "                </tr><tr>\n",
       "                    <td><strong>Subsystem</strong></td>\n",
       "                    <td>Glycolysis</td>\n",
       "                </tr><tr>\n",
       "                    <td><strong>Number of Ligands</strong></td>\n",
       "                    <td>6</td>\n",
       "                </tr><tr>\n",
       "                    <td><strong>Number of EnzymeForms</strong></td>\n",
       "                    <td>7</td>\n",
       "                </tr><tr>\n",
       "                    <td><strong>Number of EnzymeModuleReactions</strong></td>\n",
       "                    <td>8</td>\n",
       "                </tr><tr>\n",
       "                    <td><strong>Enzyme Concentration Total</strong></td>\n",
       "                    <td>2.4e-05</td>\n",
       "                </tr><tr>\n",
       "                    <td><strong>Enzyme Net Flux</strong></td>\n",
       "                    <td>1.12</td>\n",
       "                </tr>\n",
       "            </table>\n",
       "        "
      ],
      "text/plain": [
       "<EnzymeModuleDict HEX1 at 0x12be45cb0>"
      ]
     },
     "execution_count": 36,
     "metadata": {},
     "output_type": "execute_result"
    }
   ],
   "source": [
    "print(glyc_hb_HEX1.enzyme_modules)\n",
    "HEX1_dict = glyc_hb_HEX1.enzyme_modules.get_by_id(\"HEX1\")\n",
    "HEX1_dict"
   ]
  },
  {
   "cell_type": "markdown",
   "metadata": {},
   "source": [
    "The `EnzymeModuleDict` inherits from an `OrderedDict`, thereby inheriting ordered dictionary methods such as `keys()`:"
   ]
  },
  {
   "cell_type": "code",
   "execution_count": 37,
   "metadata": {},
   "outputs": [
    {
     "name": "stdout",
     "output_type": "stream",
     "text": [
      "id\n",
      "name\n",
      "subsystem\n",
      "enzyme_module_ligands\n",
      "enzyme_module_forms\n",
      "enzyme_module_reactions\n",
      "enzyme_module_ligands_categorized\n",
      "enzyme_module_forms_categorized\n",
      "enzyme_module_reactions_categorized\n",
      "enzyme_concentration_total\n",
      "enzyme_rate\n",
      "enzyme_concentration_total_equation\n",
      "enzyme_rate_equation\n",
      "S\n",
      "model\n"
     ]
    }
   ],
   "source": [
    "print(\"\\n\".join(HEX1_dict.keys()))"
   ]
  },
  {
   "cell_type": "markdown",
   "metadata": {},
   "source": [
    "The `EnzymeModuleDict` stores several of the enzyme-specific attributes so that they can still be accessed after the enzyme module is integrated into a larger network. The keys of the `EnzymeModuleDict`  can also be treated as attribute accessors:"
   ]
  },
  {
   "cell_type": "code",
   "execution_count": 38,
   "metadata": {},
   "outputs": [
    {
     "name": "stdout",
     "output_type": "stream",
     "text": [
      "Enzyme Rate:\n",
      "1.12 = kf_HEX1_8*(Keq_HEX1_8*hex1_AG_c(t) - adp_c(t)*g6p_c(t)*hex1_c(t))/Keq_HEX1_8\n"
     ]
    }
   ],
   "source": [
    "print(\"Enzyme Rate:\\n{0} = {1}\".format(\n",
    "    HEX1_dict[\"enzyme_rate\"],       # Returned using dict key\n",
    "    HEX1_dict.enzyme_rate_equation  # Returned using attribute accessor\n",
    "))"
   ]
  },
  {
   "cell_type": "markdown",
   "metadata": {},
   "source": [
    "### Steady State Validation\n",
    "The last step is to ensure that a steady state can be reached with the completed enzyme module within a larger network context."
   ]
  },
  {
   "cell_type": "code",
   "execution_count": 39,
   "metadata": {},
   "outputs": [],
   "source": [
    "import matplotlib.pyplot as plt\n",
    "\n",
    "from mass import Simulation\n",
    "from mass.visualization import plot_time_profile"
   ]
  },
  {
   "cell_type": "markdown",
   "metadata": {},
   "source": [
    "Here, the model is simulated and the enzyme's ability to reach steady state is graphically verified: "
   ]
  },
  {
   "cell_type": "code",
   "execution_count": 40,
   "metadata": {},
   "outputs": [
    {
     "name": "stdout",
     "output_type": "stream",
     "text": [
      "Successfully loaded MassModel 'Glycolysis_Hemoglobin_HEX1' into RoadRunner.\n"
     ]
    },
    {
     "data": {
      "image/png": "[encoded data removed]",
      "text/plain": [
       "<Figure size 432x288 with 1 Axes>"
      ]
     },
     "metadata": {
      "needs_background": "light"
     },
     "output_type": "display_data"
    }
   ],
   "source": [
    "# Setup simulation object\n",
    "sim = Simulation(glyc_hb_HEX1, verbose=True)\n",
    "# Simulate from 0 to 1000 with 10001 points in the output\n",
    "conc_sol, flux_sol = sim.simulate(\n",
    "    glyc_hb_HEX1, time=(0, 1e3, 1e4 + 1))\n",
    "\n",
    "fig, ax = plt.subplots(nrows=1, ncols=1, figsize=(6, 4))\n",
    "plot_time_profile(\n",
    "    conc_sol, observable=HEX1_dict.enzyme_module_forms, ax=ax,\n",
    "    legend=\"right outside\", plot_function=\"loglog\",\n",
    "    xlabel=\"Time [hr]\", ylabel=\"Concentration [mM]\",\n",
    "    title=\"TIme profile of Concentrations for Enzyme Forms\");"
   ]
  },
  {
   "cell_type": "markdown",
   "metadata": {},
   "source": [
    "The plot shows that the enzyme can reach a steady state when integrated into a larger network, meaning the enzyme module representing hexokinase in for this system is complete!"
   ]
  },
  {
   "cell_type": "markdown",
   "metadata": {},
   "source": [
    "## Additional Examples\n",
    "For additional examples analyzing and visualizing networks with enzyme modules, see the following examples: \n",
    "\n",
    "* [Visualizing Catalytic Potentials of Glycolytic Regulatory Kinases: Part 1](./advanced_visualization/catalytic_potential_visualizations_p1.ipynb)\n",
    "* [Visualizing Catalytic Potentials of Glycolytic Regulatory Kinases: Part 2](./advanced_visualization/catalytic_potential_visualizations_p2.ipynb)"
   ]
  },
  {
   "cell_type": "markdown",
   "metadata": {},
   "source": [
    "$^1$ Procedure outlined in <cite data-cite=\"DZK+16\">Du et al., 2016</cite>\n",
    "\n",
    "$^2$ Hexokinase based on <cite data-cite=\"YAHP18\">Yurkovich et al., 2018</cite>, <cite data-cite=\"DZK+16\">Du et al., 2016</cite>, and <cite data-cite=\"MK99\">Mulquiney and Kuchel, 1999.</cite>\n",
    "\n",
    "$^3$ Glycolysis model based on <cite data-cite=\"YAHP18\">Yurkovich et al., 2018</cite> and Chapter 10 of <cite data-cite=\"Pal11\">Systems Biology: Simulation of Dynamic Network States</cite>"
   ]
  }
 ],
 "metadata": {
  "kernelspec": {
   "display_name": "Python 3",
   "language": "python",
   "name": "python3"
  },
  "language_info": {
   "codemirror_mode": {
    "name": "ipython",
    "version": 3
   },
   "file_extension": ".py",
   "mimetype": "text/x-python",
   "name": "python",
   "nbconvert_exporter": "python",
   "pygments_lexer": "ipython3",
   "version": "3.7.4"
  }
 },
 "nbformat": 4,
 "nbformat_minor": 2
}
