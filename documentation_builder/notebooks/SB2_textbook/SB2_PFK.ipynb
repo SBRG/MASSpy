{
 "cells": [
  {
   "cell_type": "markdown",
   "metadata": {},
   "source": [
    "# Phosphofructokinase (PFK) Model Construction\n",
    "\n",
    "Based on Chapter 14 of <cite data-cite=\"Pal11\">Systems Biology: Simulation of Dynamic Network States</cite>\n",
    "\n",
    "To construct the phosphofructokinase module, first we import **MASSpy** and other essential packages. Constants used throughout the notebook are also defined."
   ]
  },
  {
   "cell_type": "code",
   "execution_count": 1,
   "metadata": {},
   "outputs": [
    {
     "name": "stdout",
     "output_type": "stream",
     "text": [
      "Academic license - for non-commercial use only\n"
     ]
    }
   ],
   "source": [
    "from operator import attrgetter\n",
    "from os import path\n",
    "\n",
    "import matplotlib.pyplot as plt\n",
    "\n",
    "import numpy as np\n",
    "\n",
    "from scipy import optimize\n",
    "\n",
    "import sympy as sym\n",
    "\n",
    "from cobra import DictList\n",
    "\n",
    "from mass import MassConfiguration, MassMetabolite, Simulation, UnitDefinition\n",
    "from mass.enzyme_modules import EnzymeModule\n",
    "from mass.io import json, sbml\n",
    "from mass.util.expressions import Keq2k, k2Keq, strip_time\n",
    "from mass.util.matrix import matrix_rank\n",
    "from mass.util.qcqa import qcqa_model\n",
    "\n",
    "mass_config = MassConfiguration()\n",
    "\n",
    "mass_config.irreversible_Keq = float(\"inf\")"
   ]
  },
  {
   "cell_type": "markdown",
   "metadata": {},
   "source": [
    "Note that the total enzyme concentration of PFK is $33 nM = 0.033 \\mu M = 0.000033 mM$.\n",
    "\n",
    "For the construction of the `EnzymeModule` for PFK, the following assumptions were made:\n",
    "\n",
    "1. The enzyme is a homotetramer.\n",
    "2. The enzyme binding and catalyzation of substrates occurs in an ordered sequential mechanism.\n",
    "3. The mechanism of allosteric regulation is based on the Monod-Wyman-Changeux (MWC) model for allosteric transitions of homoproteins."
   ]
  },
  {
   "cell_type": "markdown",
   "metadata": {},
   "source": [
    "## Module Construction\n",
    "The first step of creating the PFK module is to define the `EnzymeModule`. The `EnzymeModule` is an extension of the `MassModel`, with additional enzyme-specific attributes that aid in the construction, validation, and utilization of the module.\n",
    "\n",
    "__Note:__ All `EnzymeModule` specific attributes start will start the prefix \"enzyme\" or \"enzyme_module\"."
   ]
  },
  {
   "cell_type": "code",
   "execution_count": 2,
   "metadata": {},
   "outputs": [],
   "source": [
    "PFK = EnzymeModule(\"PFK\", name=\"Phosphofructokinase\", \n",
    "                   subsystem=\"Glycolysis\")"
   ]
  },
  {
   "cell_type": "markdown",
   "metadata": {},
   "source": [
    "### Metabolites\n",
    "#### Ligands\n",
    "The next step is to define all of the metabolites using the `MassMetabolite` object. For `EnzymeModule` objects, the `MassMetabolite` objects will be refered to as ligands, for these `MassMetabolite` form a complex with the enzyme to serve some biological purpose. Some considerations for this step include the following:\n",
    "\n",
    "1. It is important to use a clear and consistent format for identifiers and names when defining the `MassMetabolite` objects for various reasons, some of which include improvements to model clarity and utility, assurance of unique identifiers (required to add metabolites to the model), and consistency when collaborating and communicating with others. \n",
    "\n",
    "2. In order to ensure our model is physiologically accurate, it is important to provide the `formula` argument with a string representing the chemical formula for each metabolite, and the `charge` argument with an integer representing the metabolite's ionic charge (Note that neutrally charged metabolites are provided with 0). These attributes can always be set later if necessary using the `formula` and `charge` attribute setter methods.\n",
    "\n",
    "3. To indicate that the cytosol is the cellular compartment in which the reactions occur, the string \"c\" is provided to the `compartment` argument.\n",
    "\n",
    "This model will be created using identifiers and names found in the [BiGG Database](http://bigg.ucsd.edu/).\n",
    "\n",
    "The ligands correspond to the activators, inhibitors, cofactors, substrates, and products involved in the enzyme catalyzed reaction. In this model, there are 6 species which must be considered."
   ]
  },
  {
   "cell_type": "code",
   "execution_count": 3,
   "metadata": {},
   "outputs": [],
   "source": [
    "f6p_c = MassMetabolite(\n",
    "    \"f6p_c\",\n",
    "    name=\"D-Fructose 6-phosphate\",\n",
    "    formula=\"C6H11O9P\",\n",
    "    charge=-2,\n",
    "    compartment=\"c\")\n",
    "fdp_c = MassMetabolite(\n",
    "    \"fdp_c\",\n",
    "    name=\"D-Fructose 1,6-bisphosphate\",\n",
    "    formula=\"C6H10O12P2\",\n",
    "    charge=-4,\n",
    "    compartment=\"c\")\n",
    "atp_c = MassMetabolite(\n",
    "    \"atp_c\",\n",
    "    name=\"ATP\",\n",
    "    formula=\"C10H12N5O13P3\",\n",
    "    charge=-4,\n",
    "    compartment=\"c\")\n",
    "adp_c = MassMetabolite(\n",
    "    \"adp_c\",\n",
    "    name=\"ADP\",\n",
    "    formula=\"C10H12N5O10P2\",\n",
    "    charge=-3,\n",
    "    compartment=\"c\")\n",
    "amp_c = MassMetabolite(\n",
    "    \"amp_c\",\n",
    "    name=\"AMP\",\n",
    "    formula=\"C10H12N5O7P\",\n",
    "    charge=-2,\n",
    "    compartment=\"c\")\n",
    "h_c = MassMetabolite(\n",
    "    \"h_c\",\n",
    "    name=\"H+\",\n",
    "    formula=\"H\",\n",
    "    charge=1,\n",
    "    compartment=\"c\") "
   ]
  },
  {
   "cell_type": "markdown",
   "metadata": {},
   "source": [
    "After generating the ligands, they are added to the `EnzymeModule` through the `add_metabolites` method. The ligands of the `EnzymeModule` can be viewed as a `DictList` through the `enzyme_module_ligands` attribute."
   ]
  },
  {
   "cell_type": "code",
   "execution_count": 4,
   "metadata": {},
   "outputs": [
    {
     "name": "stdout",
     "output_type": "stream",
     "text": [
      "All PFK Ligands: f6p_c; fdp_c; atp_c; adp_c; amp_c; h_c\n"
     ]
    }
   ],
   "source": [
    "# Add the metabolites to the EnzymeModule\n",
    "PFK.add_metabolites([f6p_c, fdp_c, atp_c, adp_c, amp_c, h_c])\n",
    "# Access DictList of ligands and print\n",
    "print(\"All {0} Ligands: {1}\".format(\n",
    "    PFK.id, \"; \".join([m.id for m in PFK.enzyme_module_ligands])))"
   ]
  },
  {
   "cell_type": "markdown",
   "metadata": {},
   "source": [
    "The `enzyme_module_ligands_categorized` attribute can be used to assign metabolites to groups of user-defined categories by providing a dictionary where keys are the categories and values are the metabolites. Note that any metabolite can be placed in more than one category."
   ]
  },
  {
   "cell_type": "code",
   "execution_count": 5,
   "metadata": {},
   "outputs": [
    {
     "name": "stdout",
     "output_type": "stream",
     "text": [
      "All PFK ligands (6 total):\n",
      "['f6p_c', 'fdp_c', 'atp_c', 'adp_c', 'amp_c', 'h_c']\n",
      "\n",
      "Substrates: ['f6p_c']\n",
      "Cofactors: ['atp_c']\n",
      "Activators: ['amp_c']\n",
      "Inhibitors: ['atp_c']\n",
      "Products: ['adp_c', 'fdp_c', 'h_c']\n"
     ]
    }
   ],
   "source": [
    "PFK.enzyme_module_ligands_categorized =  {\n",
    "    \"Substrates\": f6p_c,\n",
    "    \"Cofactors\": atp_c,\n",
    "    \"Activators\": amp_c,\n",
    "    \"Inhibitors\": atp_c,\n",
    "    \"Products\": [fdp_c, adp_c, h_c]}\n",
    "\n",
    "# Access DictList of ligands and print\n",
    "print(\"All {0} ligands ({1} total):\\n{2}\\n\".format(\n",
    "    PFK.id, len(PFK.enzyme_module_ligands),\n",
    "    str([m.id for m in PFK.enzyme_module_ligands])))\n",
    "\n",
    "# Access categorized attribute for ligands and print\n",
    "for group in PFK.enzyme_module_ligands_categorized:\n",
    "    print(\"{0}: {1}\".format(\n",
    "        group.id, str([m.id for m in group.members])))"
   ]
  },
  {
   "cell_type": "markdown",
   "metadata": {},
   "source": [
    "#### EnzymeModuleForms\n",
    "\n",
    "The next step is to define the various states of the enzyme and enzyme-ligand complexes. These states can be represented through an `EnzymeModuleForm` object. Just like how `EnzymeModule` objects extend `MassModels`, the `EnzymeModuleForm` objects extend `MassMetabolite` objects, giving them the same functionality as a `MassMetabolite`. However, there are three important additional attrubutes that are specific to the `EnzymeModuleForm`.\n",
    "\n",
    "* The first attribute is the `enzyme_module_id`. It is meant to hold the identifier or name of the corresponding `EnzymeModule`.\n",
    "* The second and third attributes are the `bound_catalytic` and `bound_effectors` attributes, designed to contain metabolites bound to the active/catalytic site and effector metabolites bound to the enzyme, respectively. \n",
    "* Automatic generation of the `name`, `formula`, and `charge` attributes attributes utilize the `bound_catalytic` and `bound_effectors` attributes, which can aid in identification of `EnzymeModuleForm` and mass and charge balancing of the reactions.\n",
    "\n",
    "The most convenient way to make an `EnzymeModuleForm` is through the `EnzymeModule.make_enzyme_module_form` method. There are several reasons to use this method to generate the `EnzymeModuleForm` objects:\n",
    "\n",
    "1. The only requirement to creating an `EnzymeModuleForm` is the identifier.\n",
    "2. A string can optionally be provided for the `name` argument to set the corresponding `name` attribute, or it can automatically be generated and set by setting the string \"Automatic\" (case sensitve). \n",
    "3. The `enzyme_module_id`, `formula` and `charge` attributes are set based on the identifier of the EnzymeModule and the MassMetabolite objects found in `bound_catalytic` and `bound_effectors`.\n",
    "4. Just like the `enzyme_module_ligands_categorized` attribute, there is the `enzyme_module_forms_categorized` attribute that behaves in a similar manner. Categories can be set at the time of construction by providing a string or a list of strings to the `categories` argument. \n",
    "5. `EnzymeModuleForm` objects are automatically added to the `EnzymeModule` once created.\n",
    "\n",
    "For this module, there are 20 `EnzymeModuleForm` objects that must be created. Because of the assumptions made for this module, a loop can be used to help automate the construction of the `EnzymeModuleForm` objects."
   ]
  },
  {
   "cell_type": "code",
   "execution_count": 6,
   "metadata": {},
   "outputs": [
    {
     "name": "stdout",
     "output_type": "stream",
     "text": [
      "All PFK enzyme module forms (20 total):\n",
      "['pfk_R0_c', 'pfk_R0_A_c', 'pfk_R0_AF_c', 'pfk_T0_c', 'pfk_R1_c', 'pfk_R1_A_c', 'pfk_R1_AF_c', 'pfk_T1_c', 'pfk_R2_c', 'pfk_R2_A_c', 'pfk_R2_AF_c', 'pfk_T2_c', 'pfk_R3_c', 'pfk_R3_A_c', 'pfk_R3_AF_c', 'pfk_T3_c', 'pfk_R4_c', 'pfk_R4_A_c', 'pfk_R4_AF_c', 'pfk_T4_c']\n",
      "\n",
      "Relaxed: ['pfk_R0_AF_c', 'pfk_R0_A_c', 'pfk_R0_c', 'pfk_R1_AF_c', 'pfk_R1_A_c', 'pfk_R1_c', 'pfk_R2_AF_c', 'pfk_R2_A_c', 'pfk_R2_c', 'pfk_R3_AF_c', 'pfk_R3_A_c', 'pfk_R3_c', 'pfk_R4_AF_c', 'pfk_R4_A_c', 'pfk_R4_c']\n",
      "\n",
      "Free_Catalytic: ['pfk_R0_c', 'pfk_R1_c', 'pfk_R2_c', 'pfk_R3_c', 'pfk_R4_c']\n",
      "\n",
      "Complexed_ATP: ['pfk_R0_A_c', 'pfk_R1_A_c', 'pfk_R2_A_c', 'pfk_R3_A_c', 'pfk_R4_A_c']\n",
      "\n",
      "Complexed_ATP_F6P: ['pfk_R0_AF_c', 'pfk_R1_AF_c', 'pfk_R2_AF_c', 'pfk_R3_AF_c', 'pfk_R4_AF_c']\n",
      "\n",
      "Tense: ['pfk_T0_c', 'pfk_T1_c', 'pfk_T2_c', 'pfk_T3_c', 'pfk_T4_c']\n",
      "\n"
     ]
    }
   ],
   "source": [
    "# Number of identical subunits\n",
    "n_subunits = 4\n",
    "\n",
    "for i in range(n_subunits + 1):\n",
    "    # Make enzyme module forms per number of bound activators (Up to 4 Total)\n",
    "    PFK.make_enzyme_module_form(\n",
    "        \"pfk_R{0:d}_c\".format(i), \n",
    "        name=\"Automatic\", \n",
    "        categories=(\"Relaxed\", \"Free_Catalytic\"),\n",
    "        bound_catalytic={},\n",
    "        bound_effectors={amp_c: i},\n",
    "        compartment=\"c\");\n",
    "\n",
    "    PFK.make_enzyme_module_form(\n",
    "        \"pfk_R{0:d}_A_c\".format(i), \n",
    "        name=\"Automatic\", \n",
    "        categories=(\"Relaxed\", \"Complexed_ATP\"),\n",
    "        bound_catalytic={atp_c: 1},\n",
    "        bound_effectors={amp_c: i},\n",
    "        compartment=\"c\");\n",
    "    \n",
    "    PFK.make_enzyme_module_form(\n",
    "        \"pfk_R{0:d}_AF_c\".format(i), \n",
    "        name=\"Automatic\", \n",
    "        categories=(\"Relaxed\", \"Complexed_ATP_F6P\"),\n",
    "        bound_catalytic={atp_c: 1, f6p_c: 1},\n",
    "        bound_effectors={amp_c: i},\n",
    "        compartment=\"c\");\n",
    "\n",
    "    # Make enzyme module forms per number of bound inhibitors (Up to 4 Total)\n",
    "    PFK.make_enzyme_module_form(\n",
    "        \"pfk_T{0:d}_c\".format(i), \n",
    "        name=\"Automatic\", \n",
    "        categories=\"Tense\",\n",
    "        bound_catalytic={},\n",
    "        bound_effectors={atp_c: i},\n",
    "        compartment=\"c\");\n",
    "\n",
    "# Access DictList of enzyme module forms and print\n",
    "print(\"All {0} enzyme module forms ({1} total):\\n{2}\\n\".format(\n",
    "    PFK.id, len(PFK.enzyme_module_forms),\n",
    "    str([m.id for m in PFK.enzyme_module_forms])))\n",
    "\n",
    "# Access categorized attribute for enzyme module forms and print\n",
    "for group in PFK.enzyme_module_forms_categorized:\n",
    "    print(\"{0}: {1}\\n\".format(\n",
    "        group.id, str(sorted([m.id for m in group.members]))))"
   ]
  },
  {
   "cell_type": "markdown",
   "metadata": {},
   "source": [
    "## Reactions\n",
    "### EnzymeModuleReactions\n",
    "Once all of the `MassMetabolite` and `EnzymeModuleForm` objects have been created, the next step is to define all of the enzyme-ligand binding reactions and conformation trasitions that occur in its mechanism.\n",
    "\n",
    "These reactions can be represented through an `EnzymeModuleReaction` object. As with the previous enzyme objects,  `EnzymeModuleReactions` extend `MassReaction` objects to maintain the same functionality. However, as with the `EnzymeModuleForm`, the `EnzymeModuleReaction` has additional enzyme-specific attributes, such as the `enzyme_module_id`.\n",
    "\n",
    "The most conveient way to make an `EnzymeModuleReaction` is through the `EnzymeModule.make_enzyme_module_reaction` method. There are several reasons to use this method to generate the EnzymeModuleReactions:\n",
    "\n",
    "1. The only requirement to creating an `EnzymeModuleReaction` is an identifier.\n",
    "2. A string can optionally be provided for the `name` argument to set the corresponding `name` attribute, or it can automatically be generated and set by setting the string \"Automatic\" (case sensitve). \n",
    "3. There is an `enzyme_module_reactions_categorized` attribute that behaves in a similar manner as the previous categorized attributes. Categories can be set at the time of construction by providing a string or a list of strings to the `categories` argument. \n",
    "4. `MassMetabolite` and `EnzymeModuleForm` objects that already exist in the `EnzymeModule` can be directly added to the newly created `EnzymeModuleReaction` by providing a dictionary to the optional `metabolites_to_add` argument using string identifiers (or the objects) as keys and their stoichiometric coefficients as the values.\n",
    "5. `EnzymeModuleReactions` are automatically added to the `EnzymeModule` once created.\n",
    "\n",
    "For this module, there are 24 `EnzymeModuleReactions` that must be created. Because of the assumptions made for this module, a loop can be used to help automate the construction of the `EnzymeModuleReactions`."
   ]
  },
  {
   "cell_type": "code",
   "execution_count": 7,
   "metadata": {
    "scrolled": false
   },
   "outputs": [
    {
     "name": "stdout",
     "output_type": "stream",
     "text": [
      "All PFK enzyme module reactions (24 total):\n",
      "['pfk_R0-atp binding', 'pfk_R0_A-f6p binding', 'pfk_R0_AF catalyzation', 'pfk_R0-amp binding', 'pfk_T0-atp binding', 'pfk_R1-atp binding', 'pfk_R1_A-f6p binding', 'pfk_R1_AF catalyzation', 'pfk_R1-amp binding', 'pfk_T1-atp binding', 'pfk_R2-atp binding', 'pfk_R2_A-f6p binding', 'pfk_R2_AF catalyzation', 'pfk_R2-amp binding', 'pfk_T2-atp binding', 'pfk_R3-atp binding', 'pfk_R3_A-f6p binding', 'pfk_R3_AF catalyzation', 'pfk_R3-amp binding', 'pfk_T3-atp binding', 'pfk_R4-atp binding', 'pfk_R4_A-f6p binding', 'pfk_R4_AF catalyzation', 'pfk_R0-pfk_T0 transition']\n",
      "\n",
      "atp_c_binding: ['PFK_R01', 'PFK_R11', 'PFK_R21', 'PFK_R31', 'PFK_R41']\n",
      "\n",
      "f6p_c_binding: ['PFK_R02', 'PFK_R12', 'PFK_R22', 'PFK_R32', 'PFK_R42']\n",
      "\n",
      "catalyzation: ['PFK_R03', 'PFK_R13', 'PFK_R23', 'PFK_R33', 'PFK_R43']\n",
      "\n",
      "amp_c_activation: ['PFK_R10', 'PFK_R20', 'PFK_R30', 'PFK_R40']\n",
      "\n",
      "atp_c_inhibition: ['PFK_T1', 'PFK_T2', 'PFK_T3', 'PFK_T4']\n",
      "\n",
      "RT_transition: ['PFK_L']\n",
      "\n"
     ]
    }
   ],
   "source": [
    "for i in range(n_subunits + 1):\n",
    "    # Make reactions for enzyme-ligand binding and catalytzation per number of bound activators (Up to 4 Total)\n",
    "    PFK.make_enzyme_module_reaction(\n",
    "        \"PFK_R{0:d}1\".format(i), \n",
    "        name=\"Automatic\",\n",
    "        subsystem=\"Glycolysis\",\n",
    "        reversible=True,\n",
    "        categories=\"atp_c_binding\",\n",
    "        metabolites_to_add={\n",
    "            \"pfk_R{0:d}_c\".format(i): -1, \n",
    "            \"atp_c\": -1, \n",
    "            \"pfk_R{0:d}_A_c\".format(i): 1})\n",
    "    \n",
    "    PFK.make_enzyme_module_reaction(\n",
    "        \"PFK_R{0:d}2\".format(i), \n",
    "        name=\"Automatic\",\n",
    "        subsystem=\"Glycolysis\",\n",
    "        reversible=True,\n",
    "        categories=\"f6p_c_binding\",\n",
    "        metabolites_to_add={\n",
    "            \"pfk_R{0:d}_A_c\".format(i): -1, \n",
    "            \"f6p_c\": -1, \n",
    "            \"pfk_R{0:d}_AF_c\".format(i): 1})\n",
    "    \n",
    "    PFK.make_enzyme_module_reaction(\n",
    "        \"PFK_R{0:d}3\".format(i), \n",
    "        name=\"Automatic\",\n",
    "        subsystem=\"Glycolysis\",\n",
    "        reversible=False,\n",
    "        categories=\"catalyzation\",\n",
    "        metabolites_to_add={\n",
    "            \"pfk_R{0:d}_AF_c\".format(i): -1, \n",
    "            \"pfk_R{0:d}_c\".format(i): 1, \n",
    "            \"adp_c\": 1, \n",
    "            \"fdp_c\": 1,\n",
    "            \"h_c\": 1})\n",
    "    \n",
    "    if i < n_subunits:\n",
    "        # Make enzyme reactions for enzyme-activator binding\n",
    "        PFK.make_enzyme_module_reaction(\n",
    "            \"PFK_R{0:d}0\".format(i + 1), \n",
    "            name=\"Automatic\",\n",
    "            subsystem=\"Glycolysis\",\n",
    "            reversible=True,\n",
    "            categories=\"amp_c_activation\",\n",
    "            metabolites_to_add={\n",
    "                \"pfk_R{0:d}_c\".format(i): -1, \n",
    "                \"amp_c\": -1, \n",
    "                \"pfk_R{0:d}_c\".format(i + 1): 1})\n",
    "\n",
    "        # Make enzyme reactions for enzyme-inhibitor binding\n",
    "        PFK.make_enzyme_module_reaction(\n",
    "            \"PFK_T{0:d}\".format(i + 1), \n",
    "            name=\"Automatic\",\n",
    "            subsystem=\"Glycolysis\",\n",
    "            reversible=True,\n",
    "            categories=\"atp_c_inhibition\",\n",
    "            metabolites_to_add={\n",
    "                \"pfk_T{0:d}_c\".format(i): -1, \n",
    "                \"atp_c\": -1, \n",
    "                \"pfk_T{0:d}_c\".format(i + 1): 1})\n",
    "\n",
    "# Make reaction representing enzyme transition from R to T state\n",
    "PFK.make_enzyme_module_reaction(\n",
    "    \"PFK_L\",\n",
    "    name=\"Automatic\",\n",
    "    subsystem=\"Glycolysis\",\n",
    "    reversible=True,\n",
    "    categories=\"RT_transition\",\n",
    "    metabolites_to_add={\n",
    "        \"pfk_R0_c\": -1, \n",
    "        \"pfk_T0_c\": 1})\n",
    "\n",
    "# Access DictList of enzyme module reactions and print\n",
    "print(\"All {0} enzyme module reactions ({1} total):\\n{2}\\n\".format(\n",
    "    PFK.id, len(PFK.enzyme_module_reactions),\n",
    "    str([m.name for m in PFK.enzyme_module_reactions])))\n",
    "\n",
    "# Access categorized attribute for enzyme module reactions and print\n",
    "for group in PFK.enzyme_module_reactions_categorized:\n",
    "    print(\"{0}: {1}\\n\".format(\n",
    "        group.id, str(sorted([m.id for m in group.members]))))"
   ]
  },
  {
   "cell_type": "markdown",
   "metadata": {},
   "source": [
    "### Create and  Unify Rate Parameters\n",
    "The next step is to unify rate parameters of binding steps that are not unique, allowing for those parameter values to be defined once and stored in the same place. Therefore, custom rate laws with custom parameters are used to reduce the number of parameters that need to be defined and better represent the module.\n",
    "\n",
    "The rate law parameters can be unified using the `EnzymeModule.unify_rate_parameters` class method. This method requires a list of reactions whose rate laws that should be identical, along with a string representation of the new identifier to use on the unified parameters. There is also the optional `prefix ` argument, which if set to True, will ensure the new parameter identifiers are prefixed with the `EnzymeModule` identifier. This can be used to help prevent custom parameters from being replaced when multiple models are merged.\n",
    "\n",
    "#### Allosteric Transitions: Symmetry Model\n",
    "\n",
    "Once rate parameters are unified, the allosteric regulation of this enzyme must be accounted for. Because this module is to be based on the (Monod-Wyman-Changeux) MWC model for ligand binding and allosteric regulation, the rate laws of the allosteric binding reactions must be adjusted to reflect the symmetry in the module using the number of identical binding sites to help determine the scalars for the parameters. \n",
    "\n",
    "For this module, PFK is considered a homotetramer, meaning it has four identical subunits $\\nu = 4$. Each subunit can be allosterically activated by AMP or inhibited by ATP. The helper functions `k2Keq`, `Keq2k`, and `strip_time` from the `mass.util` submodule will be used to help facilitate the rate law changes in this example so that the final rate laws are dependent on the forward rate (kf) and equilibrium (Keq) constants."
   ]
  },
  {
   "cell_type": "code",
   "execution_count": 8,
   "metadata": {
    "scrolled": false
   },
   "outputs": [
    {
     "name": "stdout",
     "output_type": "stream",
     "text": [
      "\n",
      "Category: atp_c_binding\n",
      "-----------------------\n",
      "PFK_R01: kf_PFK_A*(atp_c(t)*pfk_R0_c(t) - pfk_R0_A_c(t)/Keq_PFK_A)\n",
      "PFK_R11: kf_PFK_A*(atp_c(t)*pfk_R1_c(t) - pfk_R1_A_c(t)/Keq_PFK_A)\n",
      "PFK_R21: kf_PFK_A*(atp_c(t)*pfk_R2_c(t) - pfk_R2_A_c(t)/Keq_PFK_A)\n",
      "PFK_R31: kf_PFK_A*(atp_c(t)*pfk_R3_c(t) - pfk_R3_A_c(t)/Keq_PFK_A)\n",
      "PFK_R41: kf_PFK_A*(atp_c(t)*pfk_R4_c(t) - pfk_R4_A_c(t)/Keq_PFK_A)\n",
      "\n",
      "Category: f6p_c_binding\n",
      "-----------------------\n",
      "PFK_R02: kf_PFK_F*(f6p_c(t)*pfk_R0_A_c(t) - pfk_R0_AF_c(t)/Keq_PFK_F)\n",
      "PFK_R12: kf_PFK_F*(f6p_c(t)*pfk_R1_A_c(t) - pfk_R1_AF_c(t)/Keq_PFK_F)\n",
      "PFK_R22: kf_PFK_F*(f6p_c(t)*pfk_R2_A_c(t) - pfk_R2_AF_c(t)/Keq_PFK_F)\n",
      "PFK_R32: kf_PFK_F*(f6p_c(t)*pfk_R3_A_c(t) - pfk_R3_AF_c(t)/Keq_PFK_F)\n",
      "PFK_R42: kf_PFK_F*(f6p_c(t)*pfk_R4_A_c(t) - pfk_R4_AF_c(t)/Keq_PFK_F)\n",
      "\n",
      "Category: catalyzation\n",
      "----------------------\n",
      "PFK_R03: kf_PFK*pfk_R0_AF_c(t)\n",
      "PFK_R13: kf_PFK*pfk_R1_AF_c(t)\n",
      "PFK_R23: kf_PFK*pfk_R2_AF_c(t)\n",
      "PFK_R33: kf_PFK*pfk_R3_AF_c(t)\n",
      "PFK_R43: kf_PFK*pfk_R4_AF_c(t)\n",
      "\n",
      "Category: amp_c_activation\n",
      "--------------------------\n",
      "PFK_R10: kf_PFK_ACT*(4*amp_c(t)*pfk_R0_c(t) - pfk_R1_c(t)/Keq_PFK_ACT)\n",
      "PFK_R20: kf_PFK_ACT*(3*amp_c(t)*pfk_R1_c(t) - 2*pfk_R2_c(t)/Keq_PFK_ACT)\n",
      "PFK_R30: kf_PFK_ACT*(2*amp_c(t)*pfk_R2_c(t) - 3*pfk_R3_c(t)/Keq_PFK_ACT)\n",
      "PFK_R40: kf_PFK_ACT*(amp_c(t)*pfk_R3_c(t) - 4*pfk_R4_c(t)/Keq_PFK_ACT)\n",
      "\n",
      "Category: atp_c_inhibition\n",
      "--------------------------\n",
      "PFK_T1: kf_PFK_I*(4*atp_c(t)*pfk_T0_c(t) - pfk_T1_c(t)/Keq_PFK_I)\n",
      "PFK_T2: kf_PFK_I*(3*atp_c(t)*pfk_T1_c(t) - 2*pfk_T2_c(t)/Keq_PFK_I)\n",
      "PFK_T3: kf_PFK_I*(2*atp_c(t)*pfk_T2_c(t) - 3*pfk_T3_c(t)/Keq_PFK_I)\n",
      "PFK_T4: kf_PFK_I*(atp_c(t)*pfk_T3_c(t) - 4*pfk_T4_c(t)/Keq_PFK_I)\n",
      "\n",
      "Category: RT_transition\n",
      "-----------------------\n",
      "PFK_L: kf_PFK_L*(pfk_R0_c(t) - pfk_T0_c(t)/Keq_PFK_L)\n"
     ]
    }
   ],
   "source": [
    "abbreviations = [\"A\", \"F\", \"I\", \"ACT\"]\n",
    "ligands = [atp_c, f6p_c, atp_c, amp_c]\n",
    "\n",
    "for met, unified_id in zip(ligands, abbreviations):\n",
    "    category = {\"A\": \"binding\",\n",
    "                \"F\": \"binding\",\n",
    "                \"I\": \"inhibition\",\n",
    "                \"ACT\": \"activation\"}[unified_id]\n",
    "    group = PFK.enzyme_module_reactions_categorized.get_by_id(\n",
    "        \"_\".join((met.id, category)))\n",
    "    reactions = sorted(group.members, key=attrgetter(\"id\"))\n",
    "    PFK.unify_rate_parameters(reactions, unified_id,\n",
    "                              rate_type=2, enzyme_prefix=True)\n",
    "    # Add the coefficients to make symmetry model rate laws for activation and inhibition \n",
    "    if unified_id in [\"I\", \"ACT\"]:\n",
    "        for i, reaction in enumerate(reactions):\n",
    "            custom_rate = str(strip_time((reaction.rate)))\n",
    "            custom_rate = custom_rate.replace(\n",
    "                \"kf_\", \"{0:d}*kf_\".format(n_subunits - i))\n",
    "            custom_rate = custom_rate.replace(\n",
    "                \"kr_\", \"{0:d}*kr_\".format(i + 1))\n",
    "            PFK.add_custom_rate(reaction, custom_rate)\n",
    "            \n",
    "PFK.unify_rate_parameters(\n",
    "    PFK.enzyme_module_reactions_categorized.get_by_id(\"catalyzation\").members,\n",
    "    \"PFK\")\n",
    "# Update rate laws to be in terms of kf and Keq\n",
    "PFK.custom_rates.update(k2Keq(PFK.custom_rates))\n",
    "\n",
    "# Access categorized attribute for enzyme module reactions and print\n",
    "for group in PFK.enzyme_module_reactions_categorized:\n",
    "    header = \"Category: \" + group.id\n",
    "    print(\"\\n\" + header + \"\\n\" + \"-\" * len(header))\n",
    "    for reaction in sorted(group.members, key=attrgetter(\"id\")):\n",
    "        print(reaction.id + \": \" + str(reaction.rate))"
   ]
  },
  {
   "cell_type": "markdown",
   "metadata": {},
   "source": [
    "## The Steady State\n",
    "### Solve steady state concentrations symbolically\n",
    "To determine the steady state of the enzyme, a dictionary of the ordinary differential equations as symbolic expressions for each of the `EnzymeModuleForm` objects. The ligands are first removed from the equations by assuming their values are taken into account in a lumped rate constant parameter.\n",
    "\n",
    "For handling of all symbolic expressions, the **SymPy** package is used."
   ]
  },
  {
   "cell_type": "code",
   "execution_count": 9,
   "metadata": {},
   "outputs": [
    {
     "name": "stdout",
     "output_type": "stream",
     "text": [
      "Rank Deficiency: 1\n"
     ]
    }
   ],
   "source": [
    "# Make a dictionary of ODEs and lump ligands into rate parameters by giving them a value of 1\n",
    "ode_dict = {}\n",
    "lump_ligands = {sym.Symbol(met.id): 1 for met in PFK.enzyme_module_ligands}\n",
    "for enzyme_module_form in PFK.enzyme_module_forms:\n",
    "    symbol_key = sym.Symbol(enzyme_module_form.id)\n",
    "    ode = sym.Eq(strip_time(enzyme_module_form.ode))\n",
    "    ode_dict[symbol_key] = ode.subs(lump_ligands)\n",
    "\n",
    "rank = matrix_rank(PFK.S[6:])\n",
    "print(\"Rank Deficiency: {0}\".format(len(ode_dict) - rank))"
   ]
  },
  {
   "cell_type": "markdown",
   "metadata": {},
   "source": [
    "In order to solve the system of ODEs for the steady state concentrations, an additional equation is required due to the rank deficiency of the stoichiometric matrix. Therefore, the equation for the steady state flux through the enzyme, which will be referred to as the \"enzyme net flux equation\", must be defined. \n",
    "\n",
    "To define the enzyme net flux equation, the `EnzymeModule.make_enzyme_netflux_equation` class method can be used. \n",
    "\n",
    "* This equation is made by providing a reaction, or a list of reactions to add together.\n",
    "* Passing a bool to `use_rates` argument determines whether a symbolic equation is a summation of the flux symbols returned by `EnzymeModuleReaction.flux_symbol_str`, or a summation of the rates laws for those reactions.\n",
    "* The `update_enzyme` argument determines whether the new rate equation is set in the `enzyme_rate_equation` attribute.\n",
    "\n",
    "The flux through the enzyme typically corresponds to the sum of the fluxes through the catalytic reaction steps.\n",
    "Because the catalyzation reactions were assigned to the \"catalyzation\" cateogry, they can be accessed through the `enzyme_module_reactions_categorized` attribute to create the equation for $v_{\\mathrm{PFK}}$."
   ]
  },
  {
   "cell_type": "code",
   "execution_count": 10,
   "metadata": {},
   "outputs": [
    {
     "name": "stdout",
     "output_type": "stream",
     "text": [
      "kf_PFK⋅(pfk_R0_AF_c(t) + pfk_R1_AF_c(t) + pfk_R2_AF_c(t) + pfk_R3_AF_c(t) + pf\n",
      "k_R4_AF_c(t))\n"
     ]
    }
   ],
   "source": [
    "reactions = PFK.enzyme_module_reactions_categorized.get_by_id(\n",
    "    \"catalyzation\").members\n",
    "PFK.make_enzyme_rate_equation(\n",
    "    reactions,\n",
    "    use_rates=True, update_enzyme=True)\n",
    "sym.pprint(PFK.enzyme_rate_equation)"
   ]
  },
  {
   "cell_type": "markdown",
   "metadata": {},
   "source": [
    "The next step is to identify equations for the unknown concentrations in each reaction. These equations will need to be solved with a dependent variable before accounting for the enzyme net flux equation. The completely free form of the enzyme with no bound species will be treated as the dependent variable. \n",
    "\n",
    "To verify that all equations are in terms of the lumped rate parameters, and the dependent variable, the solutions can be iterated through using the atoms method to identify the equation arguments. There should be no `EnzymeModuleForm` identifiers with the exception of the dependent variable. "
   ]
  },
  {
   "cell_type": "code",
   "execution_count": 11,
   "metadata": {},
   "outputs": [
    {
     "name": "stdout",
     "output_type": "stream",
     "text": [
      "{Keq_PFK_F, kf_PFK_A, Keq_PFK_L, Keq_PFK_A, kf_PFK, kf_PFK_F, pfk_R0_c, Keq_PFK_ACT, Keq_PFK_I}\n"
     ]
    }
   ],
   "source": [
    "# Get enzyme module forms\n",
    "enzyme_module_forms = PFK.enzyme_module_forms.copy()\n",
    "# Reverse list for increased performance (due to symmetry assumption)\n",
    "# by solving for the most activated/inhibitors bound first.\n",
    "enzyme_module_forms.reverse()\n",
    "\n",
    "enzyme_solutions = {}\n",
    "for enzyme_module_form in enzyme_module_forms:\n",
    "    # Skip dependent variable\n",
    "    if \"pfk_R0_c\" == str(enzyme_module_form):\n",
    "        continue\n",
    "    enzyme_module_form = sym.Symbol(enzyme_module_form.id)\n",
    "    # Susbtitute in previous solutions and solve for the enzyme module form, \n",
    "    equation = ode_dict[enzyme_module_form]\n",
    "    sol = sym.solveset(equation.subs(enzyme_solutions), enzyme_module_form)\n",
    "    enzyme_solutions[enzyme_module_form] = list(sol)[0]\n",
    "    # Update the dictionary of solutions with the solutions\n",
    "    enzyme_solutions.update({\n",
    "        enzyme_module_form: sol.subs(enzyme_solutions) \n",
    "        for enzyme_module_form, sol in enzyme_solutions.items()})\n",
    "args = set()\n",
    "for sol in enzyme_solutions.values():\n",
    "    args.update(sol.atoms(sym.Symbol))\n",
    "print(args)"
   ]
  },
  {
   "cell_type": "markdown",
   "metadata": {},
   "source": [
    "The enzyme net flux equation can then be utilized as the last equation required to solve for the final unknown concentration variable in terms of the rate and equilibrium constants, allowing for all of the concentration variables to be defined in terms of the rate and equilibrium constants. Once the unknown variable has been solved for, the solution can be substituted back into the other equations. Because `sympy.solveset` function expects the input equations to be equal to 0, the `EnzymeModule.enzyme_rate_error` method with the `use_values`  argument set to `False` to get the appropriate expression."
   ]
  },
  {
   "cell_type": "code",
   "execution_count": 12,
   "metadata": {},
   "outputs": [
    {
     "name": "stdout",
     "output_type": "stream",
     "text": [
      "Enzyme Net Flux Equation\n",
      "------------------------\n",
      "-kf_PFK⋅(pfk_R0_AF_c + pfk_R1_AF_c + pfk_R2_AF_c + pfk_R3_AF_c + pfk_R4_AF_c) \n",
      "+ v_PFK\n",
      "\n",
      " {Keq_PFK_F, kf_PFK_A, Keq_PFK_L, v_PFK, Keq_PFK_A, kf_PFK, kf_PFK_F, Keq_PFK_ACT, Keq_PFK_I}\n"
     ]
    }
   ],
   "source": [
    "enzyme_rate_equation = strip_time(PFK.enzyme_rate_error(False))\n",
    "print(\"Enzyme Net Flux Equation\\n\" + \"-\"*24)\n",
    "sym.pprint(enzyme_rate_equation)\n",
    "\n",
    "# Solve for last unknown concentration symbolically\n",
    "sol = sym.solveset(enzyme_rate_equation.subs(enzyme_solutions), \"pfk_R0_c\")\n",
    "\n",
    "# Update solution dictionary with the new solution\n",
    "enzyme_solutions[sym.Symbol(\"pfk_R0_c\")] = list(sol)[0]\n",
    "\n",
    "# Update solutions with free variable solutions\n",
    "enzyme_solutions = {\n",
    "    enzyme_module_form: sym.simplify(solution.subs(enzyme_solutions))\n",
    "    for enzyme_module_form, solution in enzyme_solutions.items()}\n",
    "\n",
    "args = set()\n",
    "for sol in enzyme_solutions.values():\n",
    "    args.update(sol.atoms(sym.Symbol))\n",
    "print(\"\\n\", args)"
   ]
  },
  {
   "cell_type": "markdown",
   "metadata": {},
   "source": [
    "#### Numerical Values\n",
    "At this point, numerical values are defined for the dissociation constants and the concentrations of the substrates, cofactors, activators, and inhibitors. Providing these numerical values will speed up the subsequent calculations. \n",
    "\n",
    "To do this, experimental data is used to define the dissociations constants for the different binding steps under the QEA. The concentrations of the non-enzyme species are taken from the glycolysis model. Experimental data gives the following for the dissociation constants: \n",
    "\n",
    "$$K_i=0.1 mM,\\\n",
    "K_a=0.033 mM,\\\n",
    "K_A=0.068 mM,\\\n",
    "K_F=0.1 mM$$\n",
    "\n",
    "and an allosteric constant of $K_L = 0.0011$.\n",
    "\n",
    "__Note:__ The $K_i$ binding constant for ATP as an inhibitor was increased by a factor of ten since magnesium complexing of ATP is not considered here. "
   ]
  },
  {
   "cell_type": "code",
   "execution_count": 13,
   "metadata": {},
   "outputs": [
    {
     "name": "stdout",
     "output_type": "stream",
     "text": [
      "Ligand IDs: ['adp_c', 'amp_c', 'atp_c', 'f6p_c', 'fdp_c', 'h_c']\n",
      "Parameter IDs: ['PFK_A', 'PFK_F', 'PFK_I', 'PFK_ACT', 'PFK_L']\n",
      "\n",
      "Numerical Values\n",
      "----------------\n",
      "v_PFK = 1.12\n"
     ]
    }
   ],
   "source": [
    "numerical_values = {}\n",
    "\n",
    "# Get ligand IDs and parameter IDs\n",
    "ligand_ids = sorted([str(ligand) for ligand in PFK.enzyme_module_ligands])\n",
    "parameter_ids = [\"_\".join((PFK.id, abbrev)) for abbrev in abbreviations + [\"L\"]]\n",
    "print(\"Ligand IDs: \" + str(ligand_ids))\n",
    "print(\"Parameter IDs: \" + str(parameter_ids))\n",
    "\n",
    "# Load the glycolysis model to extract steady state values\n",
    "glycolysis = json.load_json_model(\n",
    "    path.realpath(path.join(\"../models\", \"SB2_Glycolysis.json\")))\n",
    "\n",
    "# Get the steady state flux value and add to numerical values\n",
    "PFK.enzyme_rate = glycolysis.reactions.get_by_id(PFK.id).steady_state_flux\n",
    "numerical_values.update({PFK.enzyme_flux_symbol_str: PFK.enzyme_rate})\n",
    "\n",
    "# Get the steady state concentration values and add to numerical values\n",
    "initial_conditions = {\n",
    "    str(ligand): glycolysis.initial_conditions[glycolysis.metabolites.get_by_id(ligand)]\n",
    "    for ligand in ligand_ids}\n",
    "\n",
    "# Define parameter values and add to numerical values\n",
    "# Because of the QEA, invert dissociation constants for Keq\n",
    "parameter_values = {\n",
    "    \"Keq_\" + parameter_id: value \n",
    "    for parameter_id, value in zip(parameter_ids, [1/0.068, 1/0.1, 1/0.1, 1/0.033, 0.0011])}\n",
    "\n",
    "# Display numerical values\n",
    "print(\"\\nNumerical Values\\n----------------\")\n",
    "for k, v in numerical_values.items():\n",
    "    print(\"{0} = {1}\".format(k, v))"
   ]
  },
  {
   "cell_type": "markdown",
   "metadata": {},
   "source": [
    "The next step is to define the numerical values, $K_i=0.1/1.6$, $K_a=0.033/0.0867$, $K_A=0.068/1.6$, $K_F=0.1/0.0198$, $v_{PFK}=1.12 \\text{mM/hr}$, and $K_L=1/0.0011$ using the dissociation constant values and the steady state concentrations of the ligands and introduce them into the solution to get the steady state concentrations of the enzyme module forms in terms of the rate constants. The values of the equilirbium constants and initial conditions are also stored for later use."
   ]
  },
  {
   "cell_type": "code",
   "execution_count": 14,
   "metadata": {},
   "outputs": [
    {
     "name": "stdout",
     "output_type": "stream",
     "text": [
      "\n",
      "Numerical Values\n",
      "----------------\n",
      "v_PFK = 1.12\n",
      "K_PFK_A = 0.0425\n",
      "K_PFK_F = 5.05050505050505\n",
      "K_PFK_ACT = 0.3804995151513754\n",
      "K_PFK_I = 0.0625\n",
      "K_PFK_L = 909.090909090909\n"
     ]
    }
   ],
   "source": [
    "# Match abbreviations to their corresponding ligands\n",
    "abbreviation_dict = {\"PFK_A\": \"atp_c\", \"PFK_F\": \"f6p_c\", \"PFK_ACT\": \"amp_c\", \"PFK_I\": \"atp_c\", \"PFK_L\": \"\"}\n",
    "\n",
    "k2K = {sym.Symbol(\"kr_\" + p): sym.Symbol(\"kf_\" + p)*sym.Symbol(\"K_\" + p) for p in abbreviation_dict.keys()}\n",
    "enzyme_solutions = {met: sym.simplify(Keq2k(solution).subs(enzyme_solutions).subs(k2K))\n",
    "                    for met, solution in enzyme_solutions.items()}\n",
    "K_values = dict(zip([\"K_\" + p for p in abbreviation_dict], [0.068, 0.1, 0.033, 0.1, 0.0011]))\n",
    "\n",
    "for abbrev, ligand_id in abbreviation_dict.items():\n",
    "    K_str = \"K_\" + abbrev\n",
    "    if ligand_id:\n",
    "        numerical_value = K_values[K_str]/initial_conditions[ligand_id]\n",
    "    else:\n",
    "        numerical_value = 1/K_values[K_str]\n",
    "    numerical_values[sym.Symbol(K_str)] = numerical_value\n",
    "    \n",
    "enzyme_solutions = {met: sym.simplify(solution.subs(numerical_values))\n",
    "                    for met, solution in enzyme_solutions.items()}\n",
    "\n",
    "# Display numerical values\n",
    "print(\"\\nNumerical Values\\n----------------\")\n",
    "for k, v in numerical_values.items():\n",
    "    print(\"{0} = {1}\".format(k, v))"
   ]
  },
  {
   "cell_type": "markdown",
   "metadata": {},
   "source": [
    "The last part of this step is to simplify the solutions for the enzyme module forms and, as a QA check, ensure that only rate constants are the only symbolic arguments in the solutions. "
   ]
  },
  {
   "cell_type": "code",
   "execution_count": 15,
   "metadata": {},
   "outputs": [
    {
     "name": "stdout",
     "output_type": "stream",
     "text": [
      "{kf_PFK, kf_PFK_F, kf_PFK_A}\n"
     ]
    }
   ],
   "source": [
    "# Substitute values into equations\n",
    "enzyme_solutions = {\n",
    "    enzyme_module_form: sym.simplify(solution.subs(numerical_values))\n",
    "    for enzyme_module_form, solution in enzyme_solutions.items()}\n",
    "\n",
    "args = set()\n",
    "for sol in enzyme_solutions.values():\n",
    "    args.update(sol.atoms(sym.Symbol))\n",
    "print(args)"
   ]
  },
  {
   "cell_type": "markdown",
   "metadata": {},
   "source": [
    "### Determine rate constants\n",
    "#### Total Enzyme Concentration and $r_{T}$ \n",
    "After solving for the enzyme module forms, the next step is to define equations for the total enzyme concentration and for the fraction of the enzyme in the T state. These two equations can be used as constraints for determining the rate parameters. To view the equation for the total enzyme concentration, we can use the `EnzymeModule.enzyme_concentration_total_equation` property."
   ]
  },
  {
   "cell_type": "code",
   "execution_count": 16,
   "metadata": {
    "scrolled": true
   },
   "outputs": [
    {
     "name": "stdout",
     "output_type": "stream",
     "text": [
      "pfk_R0_AF_c(t) + pfk_R0_A_c(t) + pfk_R0_c(t) + pfk_R1_AF_c(t) + pfk_R1_A_c(t) \n",
      "+ pfk_R1_c(t) + pfk_R2_AF_c(t) + pfk_R2_A_c(t) + pfk_R2_c(t) + pfk_R3_AF_c(t) \n",
      "+ pfk_R3_A_c(t) + pfk_R3_c(t) + pfk_R4_AF_c(t) + pfk_R4_A_c(t) + pfk_R4_c(t) +\n",
      " pfk_T0_c(t) + pfk_T1_c(t) + pfk_T2_c(t) + pfk_T3_c(t) + pfk_T4_c(t)\n"
     ]
    }
   ],
   "source": [
    "sym.pprint(PFK.enzyme_concentration_total_equation)"
   ]
  },
  {
   "cell_type": "markdown",
   "metadata": {},
   "source": [
    "The total concentration of PFK is 33 nM (=0.000033 mM). The `EnzymeModule.enzyme_concentration_total` atrribute can be used to set and store this concentration."
   ]
  },
  {
   "cell_type": "code",
   "execution_count": 17,
   "metadata": {},
   "outputs": [
    {
     "name": "stdout",
     "output_type": "stream",
     "text": [
      "3.3e-05\n"
     ]
    }
   ],
   "source": [
    "PFK.enzyme_concentration_total = 33e-6\n",
    "print(PFK.enzyme_concentration_total)"
   ]
  },
  {
   "cell_type": "markdown",
   "metadata": {},
   "source": [
    "To determine the rate constants, an optimization problem where the objective function is to minimize the error between the measured and calculated total enzyme concentrations. To create the objective function, the `EnzymeModule.enzyme_concentration_total_error` method with the `use_values` argument set as False to get the symbolic expression of the constraint. "
   ]
  },
  {
   "cell_type": "code",
   "execution_count": 18,
   "metadata": {},
   "outputs": [
    {
     "name": "stdout",
     "output_type": "stream",
     "text": [
      "│-PFK_Total + pfk_R0_AF_c + pfk_R0_A_c + pfk_R0_c + pfk_R1_AF_c + pfk_R1_A_c +\n",
      " pfk_R1_c + pfk_R2_AF_c + pfk_R2_A_c + pfk_R2_c + pfk_R3_AF_c + pfk_R3_A_c + p\n",
      "fk_R3_c + pfk_R4_AF_c + pfk_R4_A_c + pfk_R4_c + pfk_T0_c + pfk_T1_c + pfk_T2_c\n",
      " + pfk_T3_c + pfk_T4_c│\n"
     ]
    }
   ],
   "source": [
    "enzyme_total_constraint = abs(strip_time(PFK.enzyme_concentration_total_error(use_values=False)))\n",
    "sym.pprint(enzyme_total_constraint)"
   ]
  },
  {
   "cell_type": "markdown",
   "metadata": {},
   "source": [
    "Substitute the solutions for the enzyme forms to get an equation for the error in the enzyme total concentration in terms of the rate constants."
   ]
  },
  {
   "cell_type": "code",
   "execution_count": 19,
   "metadata": {},
   "outputs": [
    {
     "name": "stdout",
     "output_type": "stream",
     "text": [
      "│          1.19283868483391   1.71385140785683   7.14443780219149│\n",
      "│-3.3e-5 + ──────────────── + ──────────────── + ────────────────│\n",
      "│              kf_PFK_F           kf_PFK_A            kf_PFK     │\n"
     ]
    }
   ],
   "source": [
    "# Substitute value for enzyme concentration total\n",
    "enzyme_total_constraint = enzyme_total_constraint.subs({PFK.enzyme_total_symbol_str: PFK.enzyme_concentration_total})\n",
    "# Substitute solutions into constraint and simplify\n",
    "enzyme_total_constraint = sym.simplify(enzyme_total_constraint.subs(enzyme_solutions))\n",
    "sym.pprint(enzyme_total_constraint)"
   ]
  },
  {
   "cell_type": "markdown",
   "metadata": {},
   "source": [
    "To create the objective function in a format suitable for the minimization method from the `scipy.optimize` submodule, the `sympy.lambdify` function can be used to convert the symbolic expression into a lambda function with the rate constants as the arguments. This lambda function can then be used to generate the objective function for the `optimize.minimize` method."
   ]
  },
  {
   "cell_type": "code",
   "execution_count": 20,
   "metadata": {},
   "outputs": [],
   "source": [
    "# Create a sorted tuple of the arguments to ensure the input format does not change\n",
    "args = tuple(sorted([str(arg) for arg in list(args)]))\n",
    "# Create the objective function as a lambda function\n",
    "objective_function = lambda x: sym.lambdify(args, enzyme_total_constraint)(*x)"
   ]
  },
  {
   "cell_type": "markdown",
   "metadata": {},
   "source": [
    "Another constraint can be set on the amount of inhibited enzyme in the steady state of the system using the T fraction (denoted as $r_{T}$). This fraction is simply the amount of inhibited enzyme over the total amount of enzyme. The enzyme is inhibited between 10-15% under physiological conditions (Ponce et al. Biochimica et Biophysica Acta 1971 250(1):63-74)\n",
    "\n",
    "To make the fraction as a symbolic expression, we can use the `EnzymeModule.make_enzyme_fraction` method. This method is designed to assist in making fractions and ratios by passing to the function:\n",
    "1. A string to the `categorized_attr` argument identifying which categorized attribute (either \"forms\" for the `EnzymeModule.enzyme_module_forms_categorized` or \"reactions\" for the `EnzymeModule.enzyme_module_reactions_categorized`).\n",
    "2. A string for the `top` argument and a string for the `bottom` argument identifying the categories to sum and use in the numerator and the denominator, respectively.\n",
    "3. A bool to the `use_values` argument indicating whether to substitute numerical values into the expression to return a float or to keep the ratio as a **SymPy** expression.\n",
    "\n",
    "__Note:__ The string \"Equation\" can be passed to either the `top` or `bottom` arguments to utilize the equation stored either in `enzyme_concentration_total_equation` (for `categorized_attr`=\"forms\"), or   `enzyme_rate_equation` (for `categorized_attr`=\"reactions\")."
   ]
  },
  {
   "cell_type": "code",
   "execution_count": 21,
   "metadata": {},
   "outputs": [],
   "source": [
    "# Set the values for the constraint bounds\n",
    "r_T_lb, r_T_ub = (0.10, 0.15)\n",
    "# Make a symbolic expression for enzyme fraction.\n",
    "r_T_expr = PFK.make_enzyme_fraction(\n",
    "    categorized_attr=\"forms\", top=\"Tense\", bottom=\"Equation\",\n",
    "    use_values=False)\n",
    "# Substitute solutions into the expression to make\n",
    "# solely dependent on the rate constants\n",
    "r_T_expr = sym.simplify(strip_time(r_T_expr).subs(enzyme_solutions))\n",
    "\n",
    "# Make lambda functions for the T fraction constraint\n",
    "r_T_lb_constraint = lambda x: sym.lambdify(args, r_T_expr - r_T_lb)(*x)\n",
    "r_T_ub_constraint = lambda x: sym.lambdify(args, r_T_ub - r_T_expr)(*x)"
   ]
  },
  {
   "cell_type": "markdown",
   "metadata": {},
   "source": [
    "Lastly, we place lower and upper bounds on the rate constants to ensure that the values are non-negative and are within physiological limits, and then we solve the optmization problem. Once the optimization has finished, we check whether it was successful, and if so, what the optimality and errors are associated with this particular solution instance."
   ]
  },
  {
   "cell_type": "code",
   "execution_count": 22,
   "metadata": {
    "scrolled": false
   },
   "outputs": [
    {
     "name": "stdout",
     "output_type": "stream",
     "text": [
      "Ordered Args: ('kf_PFK', 'kf_PFK_A', 'kf_PFK_F')\n",
      "\n",
      "`xtol` termination condition is satisfied.\n",
      "Number of iterations: 104, function evaluations: 224, CG iterations: 116, optimality: 3.60e-11, constraint violation: 0.00e+00, execution time: 0.89 s.\n",
      "\n",
      "Optimization Success: True\n",
      "Optimization Optimality: 3.6029e-11\n",
      "Parameter Solutions: {'kf_PFK': 307263.0, 'kf_PFK_A': 200325.0, 'kf_PFK_F': 1000059.0}\n",
      "Optimization Error: 1.2079e-11\n"
     ]
    }
   ],
   "source": [
    "print(\"Ordered Args: {0}\\n\".format(str(args)))\n",
    "# Set arguments for minimization\n",
    "kf_bounds = ((1e2, 1e8), (1e2, 1e8), (1e2, 1e8))\n",
    "initial_guess = [\n",
    "    3.07e5,\n",
    "    2e5,\n",
    "    1e6,]\n",
    "\n",
    "# Find a feasible solution\n",
    "sol = optimize.minimize(\n",
    "    objective_function, x0=initial_guess,\n",
    "    method=\"trust-constr\",\n",
    "    bounds=kf_bounds,\n",
    "    options={\"gtol\": 1e-20, \"xtol\": 1e-20, \"maxiter\": 1e4, \"disp\": True})\n",
    "\n",
    "# Check whether optimzation was successful\n",
    "print(\"\\nOptimization Success: {0}\".format(sol.success))\n",
    "if sol.success:\n",
    "    # Update the paramter values dictionary with the feasible solution\n",
    "    parameter_values.update(dict(zip(args, [round(x) for x in sol.x])))\n",
    "    print(\"Optimization Optimality: {0:.4e}\".format(sol.optimality))\n",
    "    print(\"Parameter Solutions: {:}\".format(str({arg: parameter_values[arg] for arg in args})))\n",
    "    # Plug solutions back into constraints for validation\n",
    "    print(\"Optimization Error: {0:.4e}\".format(enzyme_total_constraint.subs(parameter_values)))"
   ]
  },
  {
   "cell_type": "markdown",
   "metadata": {},
   "source": [
    "With a successful optimization, the module is updated with the parameter values.  The inhibition and activation reactions are set to have a high forward rate constant and the allosteric transition even higher, limiting the amount of unbound enzyme and ensuring that the dynamics are determined by the dissociation and allosteric constants. \n",
    "\n",
    "__Note:__ This assumption for the rate constants can be made because none of the enzyme concentrations are dependendent on the activation, inhibition, and allosteric rate constants."
   ]
  },
  {
   "cell_type": "code",
   "execution_count": 23,
   "metadata": {},
   "outputs": [
    {
     "name": "stdout",
     "output_type": "stream",
     "text": [
      "Keq_PFK_A = 14.705882352941176\n",
      "Keq_PFK_F = 10.0\n",
      "Keq_PFK_I = 10.0\n",
      "Keq_PFK_ACT = 30.3030303030303\n",
      "Keq_PFK_L = 0.0011\n",
      "kf_PFK = 307263.0\n",
      "kf_PFK_A = 200325.0\n",
      "kf_PFK_F = 1000059.0\n",
      "kf_PFK_I = 1000000.0\n",
      "kf_PFK_ACT = 1000000.0\n",
      "kf_PFK_L = 1000000000000.0\n"
     ]
    }
   ],
   "source": [
    "# Add the activation, inhibition, and allosteric rate constants\n",
    "for abbrev, value in zip([\"I\", \"ACT\", \"L\"], [1e6, 1e6, 1e6**2]):\n",
    "    # Account for the enzyme prefix if used in the previous function\n",
    "    to_join = (\"kf\", PFK.id, abbrev)\n",
    "    param = \"_\".join(to_join)\n",
    "    parameter_values.update({param: value})\n",
    "        \n",
    "# Display numerical values\n",
    "for k, v in parameter_values.items():\n",
    "    print(\"{0} = {1}\".format(k, v))"
   ]
  },
  {
   "cell_type": "markdown",
   "metadata": {},
   "source": [
    "### Solve steady state concentrations numerically"
   ]
  },
  {
   "cell_type": "markdown",
   "metadata": {},
   "source": [
    "Once the rate constants have been defined, the steady state concentrations of the enzyme can be determined."
   ]
  },
  {
   "cell_type": "code",
   "execution_count": 24,
   "metadata": {},
   "outputs": [
    {
     "name": "stdout",
     "output_type": "stream",
     "text": [
      "Ligand Concentrations\n",
      "---------------------\n",
      "f6p_c = 0.0198\n",
      "fdp_c = 0.0146\n",
      "atp_c = 1.6\n",
      "adp_c = 0.29\n",
      "amp_c = 0.0867281\n",
      "h_c = 8.99757e-05\n",
      "\n",
      "Enzyme Concentrations\n",
      "----------------------\n",
      "pfk_R0_c = 3.705684451779081e-08\n",
      "pfk_R0_A_c = 1.1270977736701491e-07\n",
      "pfk_R0_AF_c = 2.1036774576199985e-08\n",
      "pfk_T0_c = 4.0762528969569896e-11\n",
      "pfk_R1_c = 3.895599656998077e-07\n",
      "pfk_R1_A_c = 1.1848611930259641e-06\n",
      "pfk_R1_AF_c = 2.2114902898450058e-07\n",
      "pfk_T1_c = 2.6088018540524733e-09\n",
      "pfk_R2_c = 1.5357179846004314e-06\n",
      "pfk_R2_A_c = 4.670943637948869e-06\n",
      "pfk_R2_AF_c = 8.71810686394121e-07\n",
      "pfk_T2_c = 6.261124449725935e-08\n",
      "pfk_R3_c = 2.690705109903528e-06\n",
      "pfk_R3_A_c = 8.183880139927137e-06\n",
      "pfk_R3_AF_c = 1.5274845331446054e-06\n",
      "pfk_T3_c = 6.678532746374332e-07\n",
      "pfk_R4_c = 1.7678768321380616e-06\n",
      "pfk_R4_A_c = 5.377063448209202e-06\n",
      "pfk_R4_AF_c = 1.0036047828713532e-06\n",
      "pfk_T4_c = 2.6714130985497327e-06\n"
     ]
    }
   ],
   "source": [
    "# Substitute values into equations\n",
    "initial_conditions.update({\n",
    "    str(enzyme_module_form): float(sym.simplify(solution.subs(parameter_values)))\n",
    "    for enzyme_module_form, solution in enzyme_solutions.items()})\n",
    "\n",
    "for header, dictlist in zip([\"Ligand\", \"\\nEnzyme\"], [PFK.enzyme_module_ligands, PFK.enzyme_module_forms]):\n",
    "    header += \" Concentrations\"\n",
    "    print(\"\\n\".join([header, \"-\" * len(header)]))\n",
    "    for form in dictlist:\n",
    "        ic = initial_conditions[form.id]\n",
    "        print(\"{0} = {1}\".format(form.id, ic))"
   ]
  },
  {
   "cell_type": "markdown",
   "metadata": {},
   "source": [
    "#### Set Initial Conditions and Parameters\n",
    "Once the steady state concentrations have been determined, the initial conditions and parameters are added to the module. All custom parameter are added to the custom_parameter attribute. The allosteric transition uses the standard parameter identifiers (returned by `kf_str` and `Keq_str` properties of the `EnzymeModuleReaction`), so they are popped out of the custom parameters and set through their respective attribute setter methods. "
   ]
  },
  {
   "cell_type": "code",
   "execution_count": 25,
   "metadata": {},
   "outputs": [],
   "source": [
    "# Set initial conditions\n",
    "for met, concentration in initial_conditions.items():\n",
    "    PFK.metabolites.get_by_id(str(met)).ic = concentration\n",
    "\n",
    "# Add the custom parameters and values for kf and Keq to model\n",
    "PFK.custom_parameters.update(parameter_values)\n",
    "# PFK_L uses standard reaction parameters and not custom parameters\n",
    "PFK_L = PFK.enzyme_module_reactions.PFK_L\n",
    "PFK_L.kf = PFK.custom_parameters.pop(PFK_L.kf_str)\n",
    "PFK_L.Keq = PFK.custom_parameters.pop(PFK_L.Keq_str)\n",
    "\n",
    "# Set parameter values in reaction fields\n",
    "for group in PFK.enzyme_module_reactions_categorized:\n",
    "    if group.id == \"atp_c_binding\":\n",
    "        param_id = \"PFK_A\"\n",
    "    elif group.id == \"f6p_c_binding\":\n",
    "        param_id = \"PFK_F\"\n",
    "    elif group.id == \"catalyzation\":\n",
    "        param_id = \"PFK\"\n",
    "    elif group.id == \"atp_c_inhibition\":\n",
    "        param_id = \"PFK_I\"\n",
    "    elif group.id == \"amp_c_activation\":\n",
    "        param_id = \"PFK_ACT\"\n",
    "    else:\n",
    "        continue\n",
    "    for reaction in group.members:\n",
    "        kf, Keq = (\"kf_\" + param_id, \"Keq_\" + param_id)\n",
    "        if kf in PFK.custom_parameters:\n",
    "            reaction.kf = PFK.custom_parameters[kf]\n",
    "        if Keq in PFK.custom_parameters:\n",
    "            reaction.Keq = PFK.custom_parameters[Keq]"
   ]
  },
  {
   "cell_type": "markdown",
   "metadata": {},
   "source": [
    "#### Ordering of internal species and reactions\n",
    "\n",
    "Sometimes, it is also desirable to reorder the metabolite and reaction objects inside the model to follow the physiology. To reorder the internal objects, one can use `cobra.DictList` containers and the `DictList.get_by_any` method with the list of object identifiers in the desirable order. To ensure all objects are still present and not forgotten in the model, a small QA check is also performed. "
   ]
  },
  {
   "cell_type": "code",
   "execution_count": 26,
   "metadata": {},
   "outputs": [
    {
     "data": {
      "text/html": [
       "<div>\n",
       "<style scoped>\n",
       "    .dataframe tbody tr th:only-of-type {\n",
       "        vertical-align: middle;\n",
       "    }\n",
       "\n",
       "    .dataframe tbody tr th {\n",
       "        vertical-align: top;\n",
       "    }\n",
       "\n",
       "    .dataframe thead th {\n",
       "        text-align: right;\n",
       "    }\n",
       "</style>\n",
       "<table border=\"1\" class=\"dataframe\">\n",
       "  <thead>\n",
       "    <tr style=\"text-align: right;\">\n",
       "      <th></th>\n",
       "      <th>PFK_R01</th>\n",
       "      <th>PFK_R02</th>\n",
       "      <th>PFK_R03</th>\n",
       "      <th>PFK_R10</th>\n",
       "      <th>PFK_R11</th>\n",
       "      <th>PFK_R12</th>\n",
       "      <th>PFK_R13</th>\n",
       "      <th>PFK_R20</th>\n",
       "      <th>PFK_R21</th>\n",
       "      <th>PFK_R22</th>\n",
       "      <th>...</th>\n",
       "      <th>PFK_R33</th>\n",
       "      <th>PFK_R40</th>\n",
       "      <th>PFK_R41</th>\n",
       "      <th>PFK_R42</th>\n",
       "      <th>PFK_R43</th>\n",
       "      <th>PFK_L</th>\n",
       "      <th>PFK_T1</th>\n",
       "      <th>PFK_T2</th>\n",
       "      <th>PFK_T3</th>\n",
       "      <th>PFK_T4</th>\n",
       "    </tr>\n",
       "  </thead>\n",
       "  <tbody>\n",
       "    <tr>\n",
       "      <td>f6p_c</td>\n",
       "      <td>0</td>\n",
       "      <td>-1</td>\n",
       "      <td>0</td>\n",
       "      <td>0</td>\n",
       "      <td>0</td>\n",
       "      <td>-1</td>\n",
       "      <td>0</td>\n",
       "      <td>0</td>\n",
       "      <td>0</td>\n",
       "      <td>-1</td>\n",
       "      <td>...</td>\n",
       "      <td>0</td>\n",
       "      <td>0</td>\n",
       "      <td>0</td>\n",
       "      <td>-1</td>\n",
       "      <td>0</td>\n",
       "      <td>0</td>\n",
       "      <td>0</td>\n",
       "      <td>0</td>\n",
       "      <td>0</td>\n",
       "      <td>0</td>\n",
       "    </tr>\n",
       "    <tr>\n",
       "      <td>fdp_c</td>\n",
       "      <td>0</td>\n",
       "      <td>0</td>\n",
       "      <td>1</td>\n",
       "      <td>0</td>\n",
       "      <td>0</td>\n",
       "      <td>0</td>\n",
       "      <td>1</td>\n",
       "      <td>0</td>\n",
       "      <td>0</td>\n",
       "      <td>0</td>\n",
       "      <td>...</td>\n",
       "      <td>1</td>\n",
       "      <td>0</td>\n",
       "      <td>0</td>\n",
       "      <td>0</td>\n",
       "      <td>1</td>\n",
       "      <td>0</td>\n",
       "      <td>0</td>\n",
       "      <td>0</td>\n",
       "      <td>0</td>\n",
       "      <td>0</td>\n",
       "    </tr>\n",
       "    <tr>\n",
       "      <td>amp_c</td>\n",
       "      <td>0</td>\n",
       "      <td>0</td>\n",
       "      <td>0</td>\n",
       "      <td>-1</td>\n",
       "      <td>0</td>\n",
       "      <td>0</td>\n",
       "      <td>0</td>\n",
       "      <td>-1</td>\n",
       "      <td>0</td>\n",
       "      <td>0</td>\n",
       "      <td>...</td>\n",
       "      <td>0</td>\n",
       "      <td>-1</td>\n",
       "      <td>0</td>\n",
       "      <td>0</td>\n",
       "      <td>0</td>\n",
       "      <td>0</td>\n",
       "      <td>0</td>\n",
       "      <td>0</td>\n",
       "      <td>0</td>\n",
       "      <td>0</td>\n",
       "    </tr>\n",
       "    <tr>\n",
       "      <td>adp_c</td>\n",
       "      <td>0</td>\n",
       "      <td>0</td>\n",
       "      <td>1</td>\n",
       "      <td>0</td>\n",
       "      <td>0</td>\n",
       "      <td>0</td>\n",
       "      <td>1</td>\n",
       "      <td>0</td>\n",
       "      <td>0</td>\n",
       "      <td>0</td>\n",
       "      <td>...</td>\n",
       "      <td>1</td>\n",
       "      <td>0</td>\n",
       "      <td>0</td>\n",
       "      <td>0</td>\n",
       "      <td>1</td>\n",
       "      <td>0</td>\n",
       "      <td>0</td>\n",
       "      <td>0</td>\n",
       "      <td>0</td>\n",
       "      <td>0</td>\n",
       "    </tr>\n",
       "    <tr>\n",
       "      <td>atp_c</td>\n",
       "      <td>-1</td>\n",
       "      <td>0</td>\n",
       "      <td>0</td>\n",
       "      <td>0</td>\n",
       "      <td>-1</td>\n",
       "      <td>0</td>\n",
       "      <td>0</td>\n",
       "      <td>0</td>\n",
       "      <td>-1</td>\n",
       "      <td>0</td>\n",
       "      <td>...</td>\n",
       "      <td>0</td>\n",
       "      <td>0</td>\n",
       "      <td>-1</td>\n",
       "      <td>0</td>\n",
       "      <td>0</td>\n",
       "      <td>0</td>\n",
       "      <td>-1</td>\n",
       "      <td>-1</td>\n",
       "      <td>-1</td>\n",
       "      <td>-1</td>\n",
       "    </tr>\n",
       "    <tr>\n",
       "      <td>h_c</td>\n",
       "      <td>0</td>\n",
       "      <td>0</td>\n",
       "      <td>1</td>\n",
       "      <td>0</td>\n",
       "      <td>0</td>\n",
       "      <td>0</td>\n",
       "      <td>1</td>\n",
       "      <td>0</td>\n",
       "      <td>0</td>\n",
       "      <td>0</td>\n",
       "      <td>...</td>\n",
       "      <td>1</td>\n",
       "      <td>0</td>\n",
       "      <td>0</td>\n",
       "      <td>0</td>\n",
       "      <td>1</td>\n",
       "      <td>0</td>\n",
       "      <td>0</td>\n",
       "      <td>0</td>\n",
       "      <td>0</td>\n",
       "      <td>0</td>\n",
       "    </tr>\n",
       "    <tr>\n",
       "      <td>pfk_R0_c</td>\n",
       "      <td>-1</td>\n",
       "      <td>0</td>\n",
       "      <td>1</td>\n",
       "      <td>-1</td>\n",
       "      <td>0</td>\n",
       "      <td>0</td>\n",
       "      <td>0</td>\n",
       "      <td>0</td>\n",
       "      <td>0</td>\n",
       "      <td>0</td>\n",
       "      <td>...</td>\n",
       "      <td>0</td>\n",
       "      <td>0</td>\n",
       "      <td>0</td>\n",
       "      <td>0</td>\n",
       "      <td>0</td>\n",
       "      <td>-1</td>\n",
       "      <td>0</td>\n",
       "      <td>0</td>\n",
       "      <td>0</td>\n",
       "      <td>0</td>\n",
       "    </tr>\n",
       "    <tr>\n",
       "      <td>pfk_R0_A_c</td>\n",
       "      <td>1</td>\n",
       "      <td>-1</td>\n",
       "      <td>0</td>\n",
       "      <td>0</td>\n",
       "      <td>0</td>\n",
       "      <td>0</td>\n",
       "      <td>0</td>\n",
       "      <td>0</td>\n",
       "      <td>0</td>\n",
       "      <td>0</td>\n",
       "      <td>...</td>\n",
       "      <td>0</td>\n",
       "      <td>0</td>\n",
       "      <td>0</td>\n",
       "      <td>0</td>\n",
       "      <td>0</td>\n",
       "      <td>0</td>\n",
       "      <td>0</td>\n",
       "      <td>0</td>\n",
       "      <td>0</td>\n",
       "      <td>0</td>\n",
       "    </tr>\n",
       "    <tr>\n",
       "      <td>pfk_R0_AF_c</td>\n",
       "      <td>0</td>\n",
       "      <td>1</td>\n",
       "      <td>-1</td>\n",
       "      <td>0</td>\n",
       "      <td>0</td>\n",
       "      <td>0</td>\n",
       "      <td>0</td>\n",
       "      <td>0</td>\n",
       "      <td>0</td>\n",
       "      <td>0</td>\n",
       "      <td>...</td>\n",
       "      <td>0</td>\n",
       "      <td>0</td>\n",
       "      <td>0</td>\n",
       "      <td>0</td>\n",
       "      <td>0</td>\n",
       "      <td>0</td>\n",
       "      <td>0</td>\n",
       "      <td>0</td>\n",
       "      <td>0</td>\n",
       "      <td>0</td>\n",
       "    </tr>\n",
       "    <tr>\n",
       "      <td>pfk_R1_c</td>\n",
       "      <td>0</td>\n",
       "      <td>0</td>\n",
       "      <td>0</td>\n",
       "      <td>1</td>\n",
       "      <td>-1</td>\n",
       "      <td>0</td>\n",
       "      <td>1</td>\n",
       "      <td>-1</td>\n",
       "      <td>0</td>\n",
       "      <td>0</td>\n",
       "      <td>...</td>\n",
       "      <td>0</td>\n",
       "      <td>0</td>\n",
       "      <td>0</td>\n",
       "      <td>0</td>\n",
       "      <td>0</td>\n",
       "      <td>0</td>\n",
       "      <td>0</td>\n",
       "      <td>0</td>\n",
       "      <td>0</td>\n",
       "      <td>0</td>\n",
       "    </tr>\n",
       "    <tr>\n",
       "      <td>pfk_R1_A_c</td>\n",
       "      <td>0</td>\n",
       "      <td>0</td>\n",
       "      <td>0</td>\n",
       "      <td>0</td>\n",
       "      <td>1</td>\n",
       "      <td>-1</td>\n",
       "      <td>0</td>\n",
       "      <td>0</td>\n",
       "      <td>0</td>\n",
       "      <td>0</td>\n",
       "      <td>...</td>\n",
       "      <td>0</td>\n",
       "      <td>0</td>\n",
       "      <td>0</td>\n",
       "      <td>0</td>\n",
       "      <td>0</td>\n",
       "      <td>0</td>\n",
       "      <td>0</td>\n",
       "      <td>0</td>\n",
       "      <td>0</td>\n",
       "      <td>0</td>\n",
       "    </tr>\n",
       "    <tr>\n",
       "      <td>pfk_R1_AF_c</td>\n",
       "      <td>0</td>\n",
       "      <td>0</td>\n",
       "      <td>0</td>\n",
       "      <td>0</td>\n",
       "      <td>0</td>\n",
       "      <td>1</td>\n",
       "      <td>-1</td>\n",
       "      <td>0</td>\n",
       "      <td>0</td>\n",
       "      <td>0</td>\n",
       "      <td>...</td>\n",
       "      <td>0</td>\n",
       "      <td>0</td>\n",
       "      <td>0</td>\n",
       "      <td>0</td>\n",
       "      <td>0</td>\n",
       "      <td>0</td>\n",
       "      <td>0</td>\n",
       "      <td>0</td>\n",
       "      <td>0</td>\n",
       "      <td>0</td>\n",
       "    </tr>\n",
       "    <tr>\n",
       "      <td>pfk_R2_c</td>\n",
       "      <td>0</td>\n",
       "      <td>0</td>\n",
       "      <td>0</td>\n",
       "      <td>0</td>\n",
       "      <td>0</td>\n",
       "      <td>0</td>\n",
       "      <td>0</td>\n",
       "      <td>1</td>\n",
       "      <td>-1</td>\n",
       "      <td>0</td>\n",
       "      <td>...</td>\n",
       "      <td>0</td>\n",
       "      <td>0</td>\n",
       "      <td>0</td>\n",
       "      <td>0</td>\n",
       "      <td>0</td>\n",
       "      <td>0</td>\n",
       "      <td>0</td>\n",
       "      <td>0</td>\n",
       "      <td>0</td>\n",
       "      <td>0</td>\n",
       "    </tr>\n",
       "    <tr>\n",
       "      <td>pfk_R2_A_c</td>\n",
       "      <td>0</td>\n",
       "      <td>0</td>\n",
       "      <td>0</td>\n",
       "      <td>0</td>\n",
       "      <td>0</td>\n",
       "      <td>0</td>\n",
       "      <td>0</td>\n",
       "      <td>0</td>\n",
       "      <td>1</td>\n",
       "      <td>-1</td>\n",
       "      <td>...</td>\n",
       "      <td>0</td>\n",
       "      <td>0</td>\n",
       "      <td>0</td>\n",
       "      <td>0</td>\n",
       "      <td>0</td>\n",
       "      <td>0</td>\n",
       "      <td>0</td>\n",
       "      <td>0</td>\n",
       "      <td>0</td>\n",
       "      <td>0</td>\n",
       "    </tr>\n",
       "    <tr>\n",
       "      <td>pfk_R2_AF_c</td>\n",
       "      <td>0</td>\n",
       "      <td>0</td>\n",
       "      <td>0</td>\n",
       "      <td>0</td>\n",
       "      <td>0</td>\n",
       "      <td>0</td>\n",
       "      <td>0</td>\n",
       "      <td>0</td>\n",
       "      <td>0</td>\n",
       "      <td>1</td>\n",
       "      <td>...</td>\n",
       "      <td>0</td>\n",
       "      <td>0</td>\n",
       "      <td>0</td>\n",
       "      <td>0</td>\n",
       "      <td>0</td>\n",
       "      <td>0</td>\n",
       "      <td>0</td>\n",
       "      <td>0</td>\n",
       "      <td>0</td>\n",
       "      <td>0</td>\n",
       "    </tr>\n",
       "    <tr>\n",
       "      <td>pfk_R3_c</td>\n",
       "      <td>0</td>\n",
       "      <td>0</td>\n",
       "      <td>0</td>\n",
       "      <td>0</td>\n",
       "      <td>0</td>\n",
       "      <td>0</td>\n",
       "      <td>0</td>\n",
       "      <td>0</td>\n",
       "      <td>0</td>\n",
       "      <td>0</td>\n",
       "      <td>...</td>\n",
       "      <td>1</td>\n",
       "      <td>-1</td>\n",
       "      <td>0</td>\n",
       "      <td>0</td>\n",
       "      <td>0</td>\n",
       "      <td>0</td>\n",
       "      <td>0</td>\n",
       "      <td>0</td>\n",
       "      <td>0</td>\n",
       "      <td>0</td>\n",
       "    </tr>\n",
       "    <tr>\n",
       "      <td>pfk_R3_A_c</td>\n",
       "      <td>0</td>\n",
       "      <td>0</td>\n",
       "      <td>0</td>\n",
       "      <td>0</td>\n",
       "      <td>0</td>\n",
       "      <td>0</td>\n",
       "      <td>0</td>\n",
       "      <td>0</td>\n",
       "      <td>0</td>\n",
       "      <td>0</td>\n",
       "      <td>...</td>\n",
       "      <td>0</td>\n",
       "      <td>0</td>\n",
       "      <td>0</td>\n",
       "      <td>0</td>\n",
       "      <td>0</td>\n",
       "      <td>0</td>\n",
       "      <td>0</td>\n",
       "      <td>0</td>\n",
       "      <td>0</td>\n",
       "      <td>0</td>\n",
       "    </tr>\n",
       "    <tr>\n",
       "      <td>pfk_R3_AF_c</td>\n",
       "      <td>0</td>\n",
       "      <td>0</td>\n",
       "      <td>0</td>\n",
       "      <td>0</td>\n",
       "      <td>0</td>\n",
       "      <td>0</td>\n",
       "      <td>0</td>\n",
       "      <td>0</td>\n",
       "      <td>0</td>\n",
       "      <td>0</td>\n",
       "      <td>...</td>\n",
       "      <td>-1</td>\n",
       "      <td>0</td>\n",
       "      <td>0</td>\n",
       "      <td>0</td>\n",
       "      <td>0</td>\n",
       "      <td>0</td>\n",
       "      <td>0</td>\n",
       "      <td>0</td>\n",
       "      <td>0</td>\n",
       "      <td>0</td>\n",
       "    </tr>\n",
       "    <tr>\n",
       "      <td>pfk_R4_c</td>\n",
       "      <td>0</td>\n",
       "      <td>0</td>\n",
       "      <td>0</td>\n",
       "      <td>0</td>\n",
       "      <td>0</td>\n",
       "      <td>0</td>\n",
       "      <td>0</td>\n",
       "      <td>0</td>\n",
       "      <td>0</td>\n",
       "      <td>0</td>\n",
       "      <td>...</td>\n",
       "      <td>0</td>\n",
       "      <td>1</td>\n",
       "      <td>-1</td>\n",
       "      <td>0</td>\n",
       "      <td>1</td>\n",
       "      <td>0</td>\n",
       "      <td>0</td>\n",
       "      <td>0</td>\n",
       "      <td>0</td>\n",
       "      <td>0</td>\n",
       "    </tr>\n",
       "    <tr>\n",
       "      <td>pfk_R4_A_c</td>\n",
       "      <td>0</td>\n",
       "      <td>0</td>\n",
       "      <td>0</td>\n",
       "      <td>0</td>\n",
       "      <td>0</td>\n",
       "      <td>0</td>\n",
       "      <td>0</td>\n",
       "      <td>0</td>\n",
       "      <td>0</td>\n",
       "      <td>0</td>\n",
       "      <td>...</td>\n",
       "      <td>0</td>\n",
       "      <td>0</td>\n",
       "      <td>1</td>\n",
       "      <td>-1</td>\n",
       "      <td>0</td>\n",
       "      <td>0</td>\n",
       "      <td>0</td>\n",
       "      <td>0</td>\n",
       "      <td>0</td>\n",
       "      <td>0</td>\n",
       "    </tr>\n",
       "    <tr>\n",
       "      <td>pfk_R4_AF_c</td>\n",
       "      <td>0</td>\n",
       "      <td>0</td>\n",
       "      <td>0</td>\n",
       "      <td>0</td>\n",
       "      <td>0</td>\n",
       "      <td>0</td>\n",
       "      <td>0</td>\n",
       "      <td>0</td>\n",
       "      <td>0</td>\n",
       "      <td>0</td>\n",
       "      <td>...</td>\n",
       "      <td>0</td>\n",
       "      <td>0</td>\n",
       "      <td>0</td>\n",
       "      <td>1</td>\n",
       "      <td>-1</td>\n",
       "      <td>0</td>\n",
       "      <td>0</td>\n",
       "      <td>0</td>\n",
       "      <td>0</td>\n",
       "      <td>0</td>\n",
       "    </tr>\n",
       "    <tr>\n",
       "      <td>pfk_T0_c</td>\n",
       "      <td>0</td>\n",
       "      <td>0</td>\n",
       "      <td>0</td>\n",
       "      <td>0</td>\n",
       "      <td>0</td>\n",
       "      <td>0</td>\n",
       "      <td>0</td>\n",
       "      <td>0</td>\n",
       "      <td>0</td>\n",
       "      <td>0</td>\n",
       "      <td>...</td>\n",
       "      <td>0</td>\n",
       "      <td>0</td>\n",
       "      <td>0</td>\n",
       "      <td>0</td>\n",
       "      <td>0</td>\n",
       "      <td>1</td>\n",
       "      <td>-1</td>\n",
       "      <td>0</td>\n",
       "      <td>0</td>\n",
       "      <td>0</td>\n",
       "    </tr>\n",
       "    <tr>\n",
       "      <td>pfk_T1_c</td>\n",
       "      <td>0</td>\n",
       "      <td>0</td>\n",
       "      <td>0</td>\n",
       "      <td>0</td>\n",
       "      <td>0</td>\n",
       "      <td>0</td>\n",
       "      <td>0</td>\n",
       "      <td>0</td>\n",
       "      <td>0</td>\n",
       "      <td>0</td>\n",
       "      <td>...</td>\n",
       "      <td>0</td>\n",
       "      <td>0</td>\n",
       "      <td>0</td>\n",
       "      <td>0</td>\n",
       "      <td>0</td>\n",
       "      <td>0</td>\n",
       "      <td>1</td>\n",
       "      <td>-1</td>\n",
       "      <td>0</td>\n",
       "      <td>0</td>\n",
       "    </tr>\n",
       "    <tr>\n",
       "      <td>pfk_T2_c</td>\n",
       "      <td>0</td>\n",
       "      <td>0</td>\n",
       "      <td>0</td>\n",
       "      <td>0</td>\n",
       "      <td>0</td>\n",
       "      <td>0</td>\n",
       "      <td>0</td>\n",
       "      <td>0</td>\n",
       "      <td>0</td>\n",
       "      <td>0</td>\n",
       "      <td>...</td>\n",
       "      <td>0</td>\n",
       "      <td>0</td>\n",
       "      <td>0</td>\n",
       "      <td>0</td>\n",
       "      <td>0</td>\n",
       "      <td>0</td>\n",
       "      <td>0</td>\n",
       "      <td>1</td>\n",
       "      <td>-1</td>\n",
       "      <td>0</td>\n",
       "    </tr>\n",
       "    <tr>\n",
       "      <td>pfk_T3_c</td>\n",
       "      <td>0</td>\n",
       "      <td>0</td>\n",
       "      <td>0</td>\n",
       "      <td>0</td>\n",
       "      <td>0</td>\n",
       "      <td>0</td>\n",
       "      <td>0</td>\n",
       "      <td>0</td>\n",
       "      <td>0</td>\n",
       "      <td>0</td>\n",
       "      <td>...</td>\n",
       "      <td>0</td>\n",
       "      <td>0</td>\n",
       "      <td>0</td>\n",
       "      <td>0</td>\n",
       "      <td>0</td>\n",
       "      <td>0</td>\n",
       "      <td>0</td>\n",
       "      <td>0</td>\n",
       "      <td>1</td>\n",
       "      <td>-1</td>\n",
       "    </tr>\n",
       "    <tr>\n",
       "      <td>pfk_T4_c</td>\n",
       "      <td>0</td>\n",
       "      <td>0</td>\n",
       "      <td>0</td>\n",
       "      <td>0</td>\n",
       "      <td>0</td>\n",
       "      <td>0</td>\n",
       "      <td>0</td>\n",
       "      <td>0</td>\n",
       "      <td>0</td>\n",
       "      <td>0</td>\n",
       "      <td>...</td>\n",
       "      <td>0</td>\n",
       "      <td>0</td>\n",
       "      <td>0</td>\n",
       "      <td>0</td>\n",
       "      <td>0</td>\n",
       "      <td>0</td>\n",
       "      <td>0</td>\n",
       "      <td>0</td>\n",
       "      <td>0</td>\n",
       "      <td>1</td>\n",
       "    </tr>\n",
       "  </tbody>\n",
       "</table>\n",
       "<p>26 rows × 24 columns</p>\n",
       "</div>"
      ],
      "text/plain": [
       "             PFK_R01  PFK_R02  PFK_R03  PFK_R10  PFK_R11  PFK_R12  PFK_R13  \\\n",
       "f6p_c              0       -1        0        0        0       -1        0   \n",
       "fdp_c              0        0        1        0        0        0        1   \n",
       "amp_c              0        0        0       -1        0        0        0   \n",
       "adp_c              0        0        1        0        0        0        1   \n",
       "atp_c             -1        0        0        0       -1        0        0   \n",
       "h_c                0        0        1        0        0        0        1   \n",
       "pfk_R0_c          -1        0        1       -1        0        0        0   \n",
       "pfk_R0_A_c         1       -1        0        0        0        0        0   \n",
       "pfk_R0_AF_c        0        1       -1        0        0        0        0   \n",
       "pfk_R1_c           0        0        0        1       -1        0        1   \n",
       "pfk_R1_A_c         0        0        0        0        1       -1        0   \n",
       "pfk_R1_AF_c        0        0        0        0        0        1       -1   \n",
       "pfk_R2_c           0        0        0        0        0        0        0   \n",
       "pfk_R2_A_c         0        0        0        0        0        0        0   \n",
       "pfk_R2_AF_c        0        0        0        0        0        0        0   \n",
       "pfk_R3_c           0        0        0        0        0        0        0   \n",
       "pfk_R3_A_c         0        0        0        0        0        0        0   \n",
       "pfk_R3_AF_c        0        0        0        0        0        0        0   \n",
       "pfk_R4_c           0        0        0        0        0        0        0   \n",
       "pfk_R4_A_c         0        0        0        0        0        0        0   \n",
       "pfk_R4_AF_c        0        0        0        0        0        0        0   \n",
       "pfk_T0_c           0        0        0        0        0        0        0   \n",
       "pfk_T1_c           0        0        0        0        0        0        0   \n",
       "pfk_T2_c           0        0        0        0        0        0        0   \n",
       "pfk_T3_c           0        0        0        0        0        0        0   \n",
       "pfk_T4_c           0        0        0        0        0        0        0   \n",
       "\n",
       "             PFK_R20  PFK_R21  PFK_R22  ...  PFK_R33  PFK_R40  PFK_R41  \\\n",
       "f6p_c              0        0       -1  ...        0        0        0   \n",
       "fdp_c              0        0        0  ...        1        0        0   \n",
       "amp_c             -1        0        0  ...        0       -1        0   \n",
       "adp_c              0        0        0  ...        1        0        0   \n",
       "atp_c              0       -1        0  ...        0        0       -1   \n",
       "h_c                0        0        0  ...        1        0        0   \n",
       "pfk_R0_c           0        0        0  ...        0        0        0   \n",
       "pfk_R0_A_c         0        0        0  ...        0        0        0   \n",
       "pfk_R0_AF_c        0        0        0  ...        0        0        0   \n",
       "pfk_R1_c          -1        0        0  ...        0        0        0   \n",
       "pfk_R1_A_c         0        0        0  ...        0        0        0   \n",
       "pfk_R1_AF_c        0        0        0  ...        0        0        0   \n",
       "pfk_R2_c           1       -1        0  ...        0        0        0   \n",
       "pfk_R2_A_c         0        1       -1  ...        0        0        0   \n",
       "pfk_R2_AF_c        0        0        1  ...        0        0        0   \n",
       "pfk_R3_c           0        0        0  ...        1       -1        0   \n",
       "pfk_R3_A_c         0        0        0  ...        0        0        0   \n",
       "pfk_R3_AF_c        0        0        0  ...       -1        0        0   \n",
       "pfk_R4_c           0        0        0  ...        0        1       -1   \n",
       "pfk_R4_A_c         0        0        0  ...        0        0        1   \n",
       "pfk_R4_AF_c        0        0        0  ...        0        0        0   \n",
       "pfk_T0_c           0        0        0  ...        0        0        0   \n",
       "pfk_T1_c           0        0        0  ...        0        0        0   \n",
       "pfk_T2_c           0        0        0  ...        0        0        0   \n",
       "pfk_T3_c           0        0        0  ...        0        0        0   \n",
       "pfk_T4_c           0        0        0  ...        0        0        0   \n",
       "\n",
       "             PFK_R42  PFK_R43  PFK_L  PFK_T1  PFK_T2  PFK_T3  PFK_T4  \n",
       "f6p_c             -1        0      0       0       0       0       0  \n",
       "fdp_c              0        1      0       0       0       0       0  \n",
       "amp_c              0        0      0       0       0       0       0  \n",
       "adp_c              0        1      0       0       0       0       0  \n",
       "atp_c              0        0      0      -1      -1      -1      -1  \n",
       "h_c                0        1      0       0       0       0       0  \n",
       "pfk_R0_c           0        0     -1       0       0       0       0  \n",
       "pfk_R0_A_c         0        0      0       0       0       0       0  \n",
       "pfk_R0_AF_c        0        0      0       0       0       0       0  \n",
       "pfk_R1_c           0        0      0       0       0       0       0  \n",
       "pfk_R1_A_c         0        0      0       0       0       0       0  \n",
       "pfk_R1_AF_c        0        0      0       0       0       0       0  \n",
       "pfk_R2_c           0        0      0       0       0       0       0  \n",
       "pfk_R2_A_c         0        0      0       0       0       0       0  \n",
       "pfk_R2_AF_c        0        0      0       0       0       0       0  \n",
       "pfk_R3_c           0        0      0       0       0       0       0  \n",
       "pfk_R3_A_c         0        0      0       0       0       0       0  \n",
       "pfk_R3_AF_c        0        0      0       0       0       0       0  \n",
       "pfk_R4_c           0        1      0       0       0       0       0  \n",
       "pfk_R4_A_c        -1        0      0       0       0       0       0  \n",
       "pfk_R4_AF_c        1       -1      0       0       0       0       0  \n",
       "pfk_T0_c           0        0      1      -1       0       0       0  \n",
       "pfk_T1_c           0        0      0       1      -1       0       0  \n",
       "pfk_T2_c           0        0      0       0       1      -1       0  \n",
       "pfk_T3_c           0        0      0       0       0       1      -1  \n",
       "pfk_T4_c           0        0      0       0       0       0       1  \n",
       "\n",
       "[26 rows x 24 columns]"
      ]
     },
     "execution_count": 26,
     "metadata": {},
     "output_type": "execute_result"
    }
   ],
   "source": [
    "new_metabolite_order = ['f6p_c', 'fdp_c', 'amp_c', 'adp_c', 'atp_c', 'h_c',\n",
    "                        'pfk_R0_c', 'pfk_R0_A_c', 'pfk_R0_AF_c', \n",
    "                        'pfk_R1_c', 'pfk_R1_A_c', 'pfk_R1_AF_c', \n",
    "                        'pfk_R2_c', 'pfk_R2_A_c', 'pfk_R2_AF_c', \n",
    "                        'pfk_R3_c', 'pfk_R3_A_c', 'pfk_R3_AF_c',\n",
    "                        'pfk_R4_c', 'pfk_R4_A_c', 'pfk_R4_AF_c',  \n",
    "                        'pfk_T0_c','pfk_T1_c', 'pfk_T2_c', 'pfk_T3_c', 'pfk_T4_c']\n",
    "\n",
    "if len(glycolysis.metabolites) == len(new_metabolite_order):\n",
    "    PFK.metabolites = DictList(\n",
    "        PFK.metabolites.get_by_any(new_metabolite_order))\n",
    "\n",
    "if len(PFK.metabolites) == len(new_metabolite_order):\n",
    "    PFK.metabolites = DictList(PFK.metabolites.get_by_any(new_metabolite_order))\n",
    "    \n",
    "new_reaction_order = [\"PFK_R01\", 'PFK_R02', \"PFK_R03\", \"PFK_R10\", \n",
    "                      \"PFK_R11\", \"PFK_R12\", \"PFK_R13\", \"PFK_R20\", \n",
    "                      \"PFK_R21\", \"PFK_R22\", \"PFK_R23\", \"PFK_R30\", \n",
    "                      \"PFK_R31\", \"PFK_R32\", \"PFK_R33\", \"PFK_R40\", \n",
    "                      \"PFK_R41\", \"PFK_R42\", \"PFK_R43\", \"PFK_L\", \n",
    "                      \"PFK_T1\", \"PFK_T2\", \"PFK_T3\", \"PFK_T4\"]\n",
    "\n",
    "if len(PFK.reactions) == len(new_reaction_order):\n",
    "    PFK.reactions = DictList(\n",
    "        PFK.reactions.get_by_any(new_reaction_order))\n",
    "    \n",
    "PFK.update_S(array_type=\"DataFrame\", dtype=int)"
   ]
  },
  {
   "cell_type": "markdown",
   "metadata": {},
   "source": [
    "## Module Validation \n",
    "### QC/QA model\n",
    "Before saving the module, it is important to ensure that the module is elementally balanced, and that the module can be integrated into a larger network for simulation. Therefore, the `qcqa_model` function from `mass.util.qcqa` is used to provide a report on the module quality and and indicate whether simulation is possible and if not, what parameters and/or initial conditions are missing. "
   ]
  },
  {
   "cell_type": "code",
   "execution_count": 27,
   "metadata": {},
   "outputs": [
    {
     "name": "stdout",
     "output_type": "stream",
     "text": [
      "╒══════════════════════════════════════════╕\n",
      "│ MODEL ID: PFK                            │\n",
      "│ SIMULATABLE: True                        │\n",
      "│ PARAMETERS NUMERICALY CONSISTENT: True   │\n",
      "╞══════════════════════════════════════════╡\n",
      "╘══════════════════════════════════════════╛\n"
     ]
    }
   ],
   "source": [
    "qcqa_model(PFK, parameters=True, concentrations=True, \n",
    "           fluxes=False, superfluous=True, elemental=True)"
   ]
  },
  {
   "cell_type": "markdown",
   "metadata": {},
   "source": [
    "### Constraint Satisfaction and Error Values\n",
    "Another QA check we perform is to substitute the steady state numerical values back into the constraints used in determining the rate constants in order to ensure that the constraints remain satisified, and that errors are small. "
   ]
  },
  {
   "cell_type": "code",
   "execution_count": 28,
   "metadata": {},
   "outputs": [
    {
     "name": "stdout",
     "output_type": "stream",
     "text": [
      "Enzyme T-fraction: 0.1032\n",
      "Concentration Absolute Error: 1.2079e-11\n",
      "Flux Absolute Error: 2.2204e-16\n"
     ]
    }
   ],
   "source": [
    "t_fraction = PFK.make_enzyme_fraction(\"forms\", top=\"Tense\",\n",
    "                                      bottom=\"Equation\", use_values=True)\n",
    "print(\"Enzyme T-fraction: {:.4f}\".format(t_fraction))\n",
    "\n",
    "print(\"Concentration Absolute Error: {0:.4e}\".format(\n",
    "    abs(PFK.enzyme_concentration_total_error(use_values=True))))\n",
    "print(\"Flux Absolute Error: {0:.4e}\".format(\n",
    "    abs(PFK.enzyme_rate_error(use_values=True))))"
   ]
  },
  {
   "cell_type": "markdown",
   "metadata": {},
   "source": [
    "### Add Enzyme to MassModel\n",
    "In order to determine whether the module can be successfully integrated into a model, another model can be loaded, merged with the module, and simulated. To validate this module, it will be merged with a glycolysis model. \n",
    "\n",
    "To integrate the `EnzymeModule` into the `MassModel`, the reaction that the EnzymeModule will be replacing is first removed. The `MassModel.merge` method can then be utilized to add the `EnzymeModule` to the `MassModel`. \n",
    "\n",
    "When merging an `EnzymeModule` and a `MassModel`, the `EnzymeModule` should always be merged into the `MassModel`."
   ]
  },
  {
   "cell_type": "code",
   "execution_count": 29,
   "metadata": {},
   "outputs": [
    {
     "data": {
      "text/html": [
       "\n",
       "            <table>\n",
       "                <tr>\n",
       "                    <td><strong>Name</strong></td><td>Glycolysis</td>\n",
       "                </tr><tr>\n",
       "                    <td><strong>Memory address</strong></td><td>0x0123430110</td>\n",
       "                </tr><tr>\n",
       "                    <td><strong>Stoichiometric Matrix</strong></td>\n",
       "                    <td>40x44</td>\n",
       "                </tr><tr>\n",
       "                    <td><strong>Matrix Rank</strong></td>\n",
       "                    <td>37</td>\n",
       "                </tr><tr>\n",
       "                    <td><strong>Number of metabolites</strong></td>\n",
       "                    <td>40</td>\n",
       "                </tr><tr>\n",
       "                    <td><strong>Initial conditions defined</strong></td>\n",
       "                    <td>40/40</td>\n",
       "                </tr><tr>\n",
       "                    <td><strong>Number of reactions</strong></td>\n",
       "                    <td>44</td>\n",
       "                </tr><tr>\n",
       "                    <td><strong>Number of genes</strong></td>\n",
       "                    <td>0</td>\n",
       "                </tr><tr>\n",
       "                    <td><strong>Number of enzyme modules</strong></td>\n",
       "                    <td>1</td>\n",
       "                </tr><tr>\n",
       "                    <td><strong>Number of groups</strong></td>\n",
       "                    <td>16</td>\n",
       "                </tr><tr>\n",
       "                    <td><strong>Objective expression</strong></td>\n",
       "                    <td>0</td>\n",
       "                </tr><tr>\n",
       "                    <td><strong>Compartments</strong></td>\n",
       "                    <td>Cytosol</td>\n",
       "                </tr>\n",
       "            </table>\n",
       "        "
      ],
      "text/plain": [
       "<MassModel Glycolysis at 0x123430110>"
      ]
     },
     "execution_count": 29,
     "metadata": {},
     "output_type": "execute_result"
    }
   ],
   "source": [
    "# Load and merge glycolysis with PFK model\n",
    "glycolysis = json.load_json_model(path.realpath(path.join(\"../models\", \"SB2_Glycolysis.json\")))\n",
    "# Remove the PFK MassReaction, then merge the EnzymeModule into the MassModel\n",
    "glycolysis.remove_reactions([glycolysis.reactions.get_by_id(\"PFK\")])\n",
    "glycolysis_PFK = glycolysis.merge(PFK)\n",
    "glycolysis_PFK"
   ]
  },
  {
   "cell_type": "markdown",
   "metadata": {},
   "source": [
    "Using `MassModel.merge` class method enables the `EnzymeModule` and `MassModel` to be merged like as if they were both `MassModel` objects. However, all attributes specific to the `EnzymeModule` (e.g the categorized attributes) are condensed into a speciailzed container called an `EnzymeModuleDict`.\n",
    "\n",
    "The `EnzymeModuleDict` behaves like an ordered dictionary, but is unique in that its contents can be accessed as if they were attributes. These attributes can be viewed using `EnzymeModuleDict.keys` method. All `EnzymeModuleDicts` associated with a `MassModel` can be accessed via `MassModel.enzyme_modules` attribute."
   ]
  },
  {
   "cell_type": "code",
   "execution_count": 30,
   "metadata": {},
   "outputs": [
    {
     "name": "stdout",
     "output_type": "stream",
     "text": [
      "[<EnzymeModuleDict PFK at 0x11fff5710>]\n",
      "\n",
      "Attribute Accessors:\n",
      "-------------------\n",
      "id\n",
      "name\n",
      "subsystem\n",
      "enzyme_module_ligands\n",
      "enzyme_module_forms\n",
      "enzyme_module_reactions\n",
      "enzyme_module_ligands_categorized\n",
      "enzyme_module_forms_categorized\n",
      "enzyme_module_reactions_categorized\n",
      "enzyme_concentration_total\n",
      "enzyme_rate\n",
      "enzyme_concentration_total_equation\n",
      "enzyme_rate_equation\n",
      "S\n",
      "model\n",
      "\n"
     ]
    },
    {
     "data": {
      "text/html": [
       "\n",
       "            <table>\n",
       "                <tr>\n",
       "                    <td><strong>Name</strong></td><td>PFK</td>\n",
       "                </tr><tr>\n",
       "                    <td><strong>Memory address</strong></td><td>0x011fff5710</td>\n",
       "                </tr><tr>\n",
       "                    <td><strong>Stoichiometric Matrix</strong></td>\n",
       "                    <td>26x24</td>\n",
       "                </tr><tr>\n",
       "                    <td><strong>Matrix Rank</strong></td>\n",
       "                    <td>20</td>\n",
       "                </tr><tr>\n",
       "                    <td><strong>Subsystem</strong></td>\n",
       "                    <td>Glycolysis</td>\n",
       "                </tr><tr>\n",
       "                    <td><strong>Number of Ligands</strong></td>\n",
       "                    <td>6</td>\n",
       "                </tr><tr>\n",
       "                    <td><strong>Number of EnzymeForms</strong></td>\n",
       "                    <td>20</td>\n",
       "                </tr><tr>\n",
       "                    <td><strong>Number of EnzymeModuleReactions</strong></td>\n",
       "                    <td>24</td>\n",
       "                </tr><tr>\n",
       "                    <td><strong>Enzyme Concentration Total</strong></td>\n",
       "                    <td>3.3e-05</td>\n",
       "                </tr><tr>\n",
       "                    <td><strong>Enzyme Net Flux</strong></td>\n",
       "                    <td>1.12</td>\n",
       "                </tr>\n",
       "            </table>\n",
       "        "
      ],
      "text/plain": [
       "<EnzymeModuleDict PFK at 0x11fff5710>"
      ]
     },
     "execution_count": 30,
     "metadata": {},
     "output_type": "execute_result"
    }
   ],
   "source": [
    "print(str(glycolysis_PFK.enzyme_modules) + \"\\n\")\n",
    "print(\"Attribute Accessors:\\n-------------------\\n\" + \"\\n\".join(list(\n",
    "    glycolysis_PFK.enzyme_modules.PFK.keys())) + \"\\n\")\n",
    "glycolysis_PFK.enzyme_modules.PFK"
   ]
  },
  {
   "cell_type": "markdown",
   "metadata": {},
   "source": [
    "### Validate Steady State\n",
    "\n",
    "To find the steady state of the model and perform simulations, the model must first be loaded into a `Simulation`. In order to load a model into a `Simulation`, the model must be simulatable, meaning there are no missing numerical values that would prevent the integration of the ODEs that comprise the model. The `verbose` argument can be used while loading a model to produce a message indicating the successful loading of a model, or why a model could not load.\n",
    "\n",
    "Once loaded into a `Simulation`, the `find_steady_state` method can be used with the `update_values` argument in order to update the initial conditions and fluxes of the model to a steady state. The model can then be simulated using the `simulate` method by passing the model to simulate, and a tuple containing the start time and the end time. The number of time points can also be included, but is optional.\n",
    "\n",
    "After a successful simulation, two `MassSolution` objects are returned. The first `MassSolution` contains the concentration results of the simulation, and the second contains the flux results of the simulation. \n",
    "\n",
    "To visually validate the steady state of the model, concentration and flux solutions can be plotted using the `plot_time_profile` function from `mass.visualization`. Alternatively, the `MassSolution.view_time_profile` property can be used to quickly generate a time profile for the results."
   ]
  },
  {
   "cell_type": "code",
   "execution_count": 31,
   "metadata": {
    "scrolled": false
   },
   "outputs": [
    {
     "name": "stdout",
     "output_type": "stream",
     "text": [
      "Successfully loaded MassModel 'Glycolysis' into RoadRunner.\n",
      "Setting simulation values for 'Glycolysis'\n",
      "Getting time points\n",
      "Simulating 'Glycolysis'\n",
      "Found steady state for 'Glycolysis'.\n",
      "Updating 'Glycolysis' values\n",
      "Adding 'Glycolysis' simulation solutions to output\n"
     ]
    },
    {
     "data": {
      "image/png": "[encoded data removed]",
      "text/plain": [
       "<Figure size 432x288 with 1 Axes>"
      ]
     },
     "metadata": {
      "needs_background": "light"
     },
     "output_type": "display_data"
    }
   ],
   "source": [
    "# Setup simulation object, ensure model is at steady state\n",
    "sim = Simulation(glycolysis_PFK, verbose=True)\n",
    "sim.find_steady_state(glycolysis_PFK, strategy=\"simulate\",\n",
    "                      update_values=True, verbose=True,\n",
    "                      tfinal=1e4, steps=1e6)\n",
    "\n",
    "# Simulate from 0 to 1000 with 10001 points in the output\n",
    "conc_sol, flux_sol = sim.simulate(\n",
    "    glycolysis_PFK,time=(0, 1e3, 1e4 + 1))\n",
    "# Quickly render and display time profiles\n",
    "conc_sol.view_time_profile()"
   ]
  },
  {
   "cell_type": "markdown",
   "metadata": {},
   "source": [
    "### Storing information and references\n",
    "#### Compartment\n",
    "Because the character \"c\" represents the cytosol compartment, it is recommended to define and set the compartment in the `EnzymeModule.compartments` attribute."
   ]
  },
  {
   "cell_type": "code",
   "execution_count": 32,
   "metadata": {},
   "outputs": [
    {
     "name": "stdout",
     "output_type": "stream",
     "text": [
      "{'c': 'Cytosol'}\n"
     ]
    }
   ],
   "source": [
    "PFK.compartments = {\"c\": \"Cytosol\"}\n",
    "print(PFK.compartments)"
   ]
  },
  {
   "cell_type": "markdown",
   "metadata": {},
   "source": [
    "#### Units\n",
    "All of the units for the numerical values used in this model are \"Millimoles\" for amount and \"Liters\" for volume (giving a concentration unit of 'Millimolar'), and \"Hours\" for time. In order to ensure that future users understand the numerical values for model, it is important to define the `MassModel.units` attribute.\n",
    "\n",
    "The `MassModel.units` is a `cobra.DictList` that contains only `UnitDefinition` objects from the `mass.core.unit` submodule. Each `UnitDefinition` is created from `Unit` objects representing the base units that comprise the `UnitDefinition`. These `Units` are stored in the `list_of_units` attribute. Pre-built units can be viewed using the `print_defined_unit_values` function from the `mass.core.unit` submodule. Alternatively, custom units can also be created using the `UnitDefinition.create_unit` method. For more information about units, please see the module docstring for `mass.core.unit` submodule.\n",
    "\n",
    "__Note:__ It is important to note that this attribute will NOT track units, but instead acts as a reference for the user and others so that they can perform necessary unit conversions."
   ]
  },
  {
   "cell_type": "code",
   "execution_count": 33,
   "metadata": {},
   "outputs": [
    {
     "name": "stdout",
     "output_type": "stream",
     "text": [
      "[<UnitDefinition Millimolar \"mM\" at 0x1232b8990>, <UnitDefinition hour \"hr\" at 0x1232b8f50>]\n"
     ]
    }
   ],
   "source": [
    "# Using pre-build units to define UnitDefinitions\n",
    "concentration = UnitDefinition(\"mM\", name=\"Millimolar\",\n",
    "                               list_of_units=[\"millimole\", \"per_litre\"])\n",
    "time = UnitDefinition(\"hr\", name=\"hour\", list_of_units=[\"hour\"])\n",
    "\n",
    "# Add units to model\n",
    "PFK.add_units([concentration, time])\n",
    "print(PFK.units)"
   ]
  },
  {
   "cell_type": "markdown",
   "metadata": {},
   "source": [
    "## Export\n",
    "\n",
    "After validation, the model is ready to be saved. The model can either be exported as a \".json\" file or as an \".sbml\" (\".xml\") file using their repsective submodules in `mass.io`.\n",
    "\n",
    "To export the model, only the path to the directory and the name of the model need to be specified."
   ]
  },
  {
   "cell_type": "code",
   "execution_count": 34,
   "metadata": {},
   "outputs": [],
   "source": [
    "filepath = path.realpath(path.join(\"../models\", \"SB2_\" + PFK.id))"
   ]
  },
  {
   "cell_type": "markdown",
   "metadata": {},
   "source": [
    "### Export using JSON"
   ]
  },
  {
   "cell_type": "code",
   "execution_count": 35,
   "metadata": {
    "scrolled": false
   },
   "outputs": [],
   "source": [
    "json.save_json_model(mass_model=PFK, filename=filepath + \".json\")"
   ]
  }
 ],
 "metadata": {
  "kernelspec": {
   "display_name": "Python 3",
   "language": "python",
   "name": "python3"
  },
  "language_info": {
   "codemirror_mode": {
    "name": "ipython",
    "version": 3
   },
   "file_extension": ".py",
   "mimetype": "text/x-python",
   "name": "python",
   "nbconvert_exporter": "python",
   "pygments_lexer": "ipython3",
   "version": "3.7.4"
  }
 },
 "nbformat": 4,
 "nbformat_minor": 2
}
