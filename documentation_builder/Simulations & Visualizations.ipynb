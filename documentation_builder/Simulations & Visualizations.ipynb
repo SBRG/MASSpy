{
 "cells": [
  {
   "cell_type": "markdown",
   "metadata": {},
   "source": [
    "# 3. Simulations and Visualization "
   ]
  },
  {
   "cell_type": "markdown",
   "metadata": {},
   "source": [
    "Simulatng models after the construction of the model can be very simple; from the simulation, various methods to visualize said simulations can help determine exactly the changes in flux and matter within the system based on the perturbations one gives within the systems. More on this will be discussed throughout this notebook. "
   ]
  },
  {
   "cell_type": "markdown",
   "metadata": {},
   "source": [
    "To start off, we use a Simulation object and this requires MassModel which is usually defined at the start of each simulation along with the other criteria's for building the model. Optimization of the model is inherent balanced throught the simulations unless otherwise specified; we will cover the basics of setting up simulations and work on optimizations later on in the workbook. "
   ]
  },
  {
   "cell_type": "code",
   "execution_count": 1,
   "metadata": {},
   "outputs": [],
   "source": [
    "from mass import Simulation"
   ]
  },
  {
   "cell_type": "code",
   "execution_count": 2,
   "metadata": {},
   "outputs": [],
   "source": [
    "from mass import MassModel, MassMetabolite, MassReaction, plot_simulation, plot_phase_portrait"
   ]
  },
  {
   "cell_type": "markdown",
   "metadata": {},
   "source": [
    "Some useful packages to help visualize simulations can be loaded at this time, "
   ]
  },
  {
   "cell_type": "code",
   "execution_count": 3,
   "metadata": {},
   "outputs": [],
   "source": [
    "import pandas as pd\n",
    "import numpy as np \n",
    "import matplotlib.pyplot as plt"
   ]
  },
  {
   "cell_type": "markdown",
   "metadata": {},
   "source": [
    "### 3.1 Simulate Models"
   ]
  },
  {
   "cell_type": "markdown",
   "metadata": {},
   "source": [
    "For the sake of convinience, we will utilize our Complex Model which was used in the Building Models Example, "
   ]
  },
  {
   "cell_type": "markdown",
   "metadata": {},
   "source": [
    "$$\\begin{equation} x_1 + x_2 \\underset{v_{-1}}{\\stackrel{v_1}{\\rightleftharpoons}} x_3 \\stackrel{v_2} \\rightarrow x_4 \\underset{v_{-3}}{\\stackrel{v_3}{\\rightleftharpoons}} x_5 \\end{equation}$$ "
   ]
  },
  {
   "cell_type": "code",
   "execution_count": 4,
   "metadata": {},
   "outputs": [],
   "source": [
    "# Create MassModel\n",
    "model = MassModel('Complex Model')\n",
    "# Generate the MassMetabolites \n",
    "x1 = MassMetabolite(\"x1\")\n",
    "x2 = MassMetabolite(\"x2\")\n",
    "x3 = MassMetabolite(\"x3\")\n",
    "x4 = MassMetabolite(\"x4\")\n",
    "x5 = MassMetabolite(\"x5\")\n",
    "# Generate the MassReactions \n",
    "v1 = MassReaction(\"v1\")\n",
    "v2 = MassReaction(\"v2\", reversible=False)\n",
    "v3 = MassReaction(\"v3\")\n",
    "# Add metabolites to the reaction, add reaction to the model\n",
    "v1.add_metabolites({x1: -1, x2: -1, x3: 1})\n",
    "v2.add_metabolites({x3: -1, x4: 1})\n",
    "v3.add_metabolites({x4: -1, x5: 1})\n",
    "model.add_reactions([v1, v2, v3])\n",
    "# Set parameters and initial conditions\n",
    "v1.kf = 1\n",
    "v1.Keq = 1\n",
    "v2.kf = 1\n",
    "v3.kf = 1\n",
    "v3.Keq = 1\n",
    "model.update_initial_conditions({x1: 1, x2: 1, x3: 0, x4: 0, x5:0 }, \n",
    "                                update_metabolites=True)"
   ]
  },
  {
   "cell_type": "code",
   "execution_count": 5,
   "metadata": {},
   "outputs": [
    {
     "data": {
      "text/html": [
       "\n",
       "            <table>\n",
       "                <tr>\n",
       "                    <td><strong>Name</strong></td><td>Complex Model</td>\n",
       "                </tr><tr>\n",
       "                    <td><strong>Memory address</strong></td><td>0x0124553748</td>\n",
       "                </tr><tr>\n",
       "                    <td><strong>Stoichiometric Matrix</strong></td>\n",
       "                    <td>5x3</td>\n",
       "                </tr><tr>\n",
       "                    <td><strong>Matrix Rank</strong></td>\n",
       "                    <td>3</td>\n",
       "                </tr><tr>\n",
       "                    <td><strong>Matrix Type</strong></td>\n",
       "                    <td>dense, float64</td>\n",
       "                </tr><tr>\n",
       "                    <td><strong>Number of Metabolites</strong></td>\n",
       "                    <td>5</td>\n",
       "                </tr><tr>\n",
       "                    <td><strong>Number of Reactions</strong></td>\n",
       "                    <td>3</td>\n",
       "                </tr><tr>\n",
       "                    <td><strong>Number of Initial Conditions</strong></td>\n",
       "                    <td>5</td>\n",
       "                </tr><tr>\n",
       "                    <td><strong>Number of Forward Rate Constants</strong></td>\n",
       "                    <td>3</td>\n",
       "                </tr><tr>\n",
       "                    <td><strong>Number of Equilibrium Constants</strong></td>\n",
       "                    <td>3</td>\n",
       "                </tr><tr>\n",
       "                    <td><strong>Number of Irreversible Reactions</strong></td>\n",
       "                    <td>1</td>\n",
       "                </tr><tr>\n",
       "                    <td><strong>Number of Exchanges</strong></td>\n",
       "                    <td>0</td>\n",
       "                </tr><tr>\n",
       "                    <td><strong>Number of Fixed Concentrations</strong></td>\n",
       "                    <td>0</td>\n",
       "                </tr><tr>\n",
       "                    <td><strong>Number of Custom Rates</strong></td>\n",
       "                    <td>0</td>\n",
       "                </tr><tr>\n",
       "                    <td><strong>Number of Genes</strong></td>\n",
       "                    <td>0</td>\n",
       "                </tr><tr>\n",
       "                    <td><strong>Number of Enzymes</strong></td>\n",
       "                    <td>0</td>\n",
       "                </tr><tr>\n",
       "                    <td><strong>Modules</strong></td>\n",
       "                    <td></br></td>\n",
       "                </tr><tr>\n",
       "                    <td><strong>Compartments</strong></td>\n",
       "                    <td></td>\n",
       "                </tr><tr>\n",
       "                    <td><strong>Units</strong></td>\n",
       "                    <td></td>\n",
       "                </tr>\n",
       "            </table>\n",
       "        "
      ],
      "text/plain": [
       "<MassModel Complex Model at 0x124553748>"
      ]
     },
     "execution_count": 5,
     "metadata": {},
     "output_type": "execute_result"
    }
   ],
   "source": [
    "model"
   ]
  },
  {
   "cell_type": "markdown",
   "metadata": {},
   "source": [
    "Let's simulate this model, "
   ]
  },
  {
   "cell_type": "code",
   "execution_count": 6,
   "metadata": {},
   "outputs": [],
   "source": [
    "sim = Simulation(model)"
   ]
  },
  {
   "cell_type": "markdown",
   "metadata": {},
   "source": [
    "**Simulation.simulate_model** method integrates the ordinary differential equations within the system given the time constraints are provided. The _output_ would be concentration and fluxes of the model system, "
   ]
  },
  {
   "cell_type": "code",
   "execution_count": 7,
   "metadata": {},
   "outputs": [],
   "source": [
    "t0= 0 \n",
    "tf= 1e6\n",
    "conc_sol, flux_sol = sim.simulate_model(model, time=(t0,tf), verbose = True)"
   ]
  },
  {
   "cell_type": "markdown",
   "metadata": {},
   "source": [
    "*NOTE*: There is a reason we set verbose as true when simulating models as there can be many times when the model has inconsistent data which corresponds to the simulations itself. If a model is unable to be simulated, there is a prompt as a response displaying a warning which will then pull up a QC/QA report which _highlights the inconsistencies, missing values, and any other issues_ to help assist and diagnose the porblem within the model."
   ]
  },
  {
   "cell_type": "markdown",
   "metadata": {},
   "source": [
    "### 3.2 Inspection of Solutions"
   ]
  },
  {
   "cell_type": "markdown",
   "metadata": {},
   "source": [
    "The default settings ensure that MassPy object Simulation uses scipy interpolating functions to construct corresponding flux and mass balances amongst the metabolites and the reactions given in order to derive concentrations and fluxes. **Simulation.simulate_model** returns two specified dictionary lists which are known as solution objects, "
   ]
  },
  {
   "cell_type": "markdown",
   "metadata": {},
   "source": [
    "The first Solution dictate MassMetabolite keys with their respective concentration solutions values,"
   ]
  },
  {
   "cell_type": "code",
   "execution_count": 8,
   "metadata": {},
   "outputs": [
    {
     "data": {
      "text/plain": [
       "{'x1': <scipy.interpolate.interpolate.interp1d at 0x1245bf688>,\n",
       " 'x2': <scipy.interpolate.interpolate.interp1d at 0x1245c2098>,\n",
       " 'x3': <scipy.interpolate.interpolate.interp1d at 0x1245c2548>,\n",
       " 'x4': <scipy.interpolate.interpolate.interp1d at 0x1245c2688>,\n",
       " 'x5': <scipy.interpolate.interpolate.interp1d at 0x1245c27c8>}"
      ]
     },
     "execution_count": 8,
     "metadata": {},
     "output_type": "execute_result"
    }
   ],
   "source": [
    "conc_sol.solutions"
   ]
  },
  {
   "cell_type": "markdown",
   "metadata": {},
   "source": [
    "Similarily, the second Solution distates the MassReaction keys with their respective flux solution values, "
   ]
  },
  {
   "cell_type": "code",
   "execution_count": 9,
   "metadata": {},
   "outputs": [
    {
     "data": {
      "text/plain": [
       "{'v1': <scipy.interpolate.interpolate.interp1d at 0x1245bf548>,\n",
       " 'v2': <scipy.interpolate.interpolate.interp1d at 0x1245bc728>,\n",
       " 'v3': <scipy.interpolate.interpolate.interp1d at 0x1245c2e08>}"
      ]
     },
     "execution_count": 9,
     "metadata": {},
     "output_type": "execute_result"
    }
   ],
   "source": [
    "flux_sol.solutions"
   ]
  },
  {
   "cell_type": "markdown",
   "metadata": {},
   "source": [
    "### 3.3 Query Time Response"
   ]
  },
  {
   "cell_type": "markdown",
   "metadata": {},
   "source": [
    "Interpolating functions comprise of functions respective of time; evaluating the function and the corresponding system at a specific timepoint can be accomplished through, "
   ]
  },
  {
   "cell_type": "code",
   "execution_count": 10,
   "metadata": {},
   "outputs": [
    {
     "name": "stdout",
     "output_type": "stream",
     "text": [
      "x1: 0.02029941848338077\n",
      "x2: 0.02029941848338077\n",
      "x3: 0.00020813483186141662\n",
      "x4: 0.48979879049147956\n",
      "x5: 0.489693656193278\n",
      "v1: 0.00020393155888925594\n",
      "v2: 0.00020813483186141662\n",
      "v3: 0.0001051342982015467\n",
      "\n"
     ]
    }
   ],
   "source": [
    "time_points= 100\n",
    "for metabolite, interpolating_function in conc_sol.items():\n",
    "    print (\"%s: %s\" % (metabolite, interpolating_function(time_points)))\n",
    "for reaction, interpolating_function in flux_sol.items():\n",
    "    print (\"%s: %s\" % (reaction, interpolating_function(time_points)))\n",
    "print()"
   ]
  },
  {
   "cell_type": "markdown",
   "metadata": {},
   "source": [
    "Instead of just values for one point, we can get points for multiple points of time"
   ]
  },
  {
   "cell_type": "code",
   "execution_count": 11,
   "metadata": {},
   "outputs": [
    {
     "name": "stdout",
     "output_type": "stream",
     "text": [
      "x1: [0.9990015  0.99014803 0.9132163  0.61047647 0.18422871 0.02029942\n",
      " 0.00200763]\n",
      "x2: [0.9990015  0.99014803 0.9132163  0.61047647 0.18422871 0.02029942\n",
      " 0.00200763]\n",
      "x3: [9.98003274e-04 9.80263113e-03 8.23893397e-02 2.11206344e-01\n",
      " 1.85878805e-02 2.08134832e-04 2.01731092e-06]\n",
      "x4: [4.98980085e-07 4.91773075e-05 4.25052336e-03 1.32388620e-01\n",
      " 4.03704479e-01 4.89798790e-01 4.98995682e-01]\n",
      "x5: [2.01410074e-10 1.63864187e-07 1.43832631e-04 4.59285663e-02\n",
      " 3.93478935e-01 4.89693656e-01 4.98994672e-01]\n",
      "v1: [9.97005989e-01 9.70590486e-01 7.51574653e-01 1.61475168e-01\n",
      " 1.53523352e-02 2.03931559e-04 2.01326042e-06]\n",
      "v2: [9.98003274e-04 9.80263113e-03 8.23893397e-02 2.11206344e-01\n",
      " 1.85878805e-02 2.08134832e-04 2.01731092e-06]\n",
      "v3: [4.98778675e-07 4.90134433e-05 4.10669073e-03 8.64600535e-02\n",
      " 1.02255445e-02 1.05134298e-04 1.00966927e-06]\n",
      "\n"
     ]
    }
   ],
   "source": [
    "time_points= [0.001, 0.01, 0.1, 1, 10, 100, 1000];\n",
    "for metabolite, interpolating_function in conc_sol.items():\n",
    "    print (\"%s: %s\" % (metabolite, interpolating_function(time_points)))\n",
    "for reaction, interpolating_function in flux_sol.items():\n",
    "    print (\"%s: %s\" % (reaction, interpolating_function(time_points)))\n",
    "print()"
   ]
  },
  {
   "cell_type": "markdown",
   "metadata": {},
   "source": [
    "Concentrations at these specific time stamps can be presented much more cleanly in a panda frame: "
   ]
  },
  {
   "cell_type": "code",
   "execution_count": 12,
   "metadata": {},
   "outputs": [
    {
     "data": {
      "text/html": [
       "<div>\n",
       "<style scoped>\n",
       "    .dataframe tbody tr th:only-of-type {\n",
       "        vertical-align: middle;\n",
       "    }\n",
       "\n",
       "    .dataframe tbody tr th {\n",
       "        vertical-align: top;\n",
       "    }\n",
       "\n",
       "    .dataframe thead th {\n",
       "        text-align: right;\n",
       "    }\n",
       "</style>\n",
       "<table border=\"1\" class=\"dataframe\">\n",
       "  <thead>\n",
       "    <tr style=\"text-align: right;\">\n",
       "      <th></th>\n",
       "      <th>0.001</th>\n",
       "      <th>0.01</th>\n",
       "      <th>0.1</th>\n",
       "      <th>1.0</th>\n",
       "      <th>10.0</th>\n",
       "      <th>100.0</th>\n",
       "      <th>1000.0</th>\n",
       "    </tr>\n",
       "  </thead>\n",
       "  <tbody>\n",
       "    <tr>\n",
       "      <th>x1</th>\n",
       "      <td>9.990015e-01</td>\n",
       "      <td>9.901480e-01</td>\n",
       "      <td>0.913216</td>\n",
       "      <td>0.610476</td>\n",
       "      <td>0.184229</td>\n",
       "      <td>0.020299</td>\n",
       "      <td>0.002008</td>\n",
       "    </tr>\n",
       "    <tr>\n",
       "      <th>x2</th>\n",
       "      <td>9.990015e-01</td>\n",
       "      <td>9.901480e-01</td>\n",
       "      <td>0.913216</td>\n",
       "      <td>0.610476</td>\n",
       "      <td>0.184229</td>\n",
       "      <td>0.020299</td>\n",
       "      <td>0.002008</td>\n",
       "    </tr>\n",
       "    <tr>\n",
       "      <th>x3</th>\n",
       "      <td>9.980033e-04</td>\n",
       "      <td>9.802631e-03</td>\n",
       "      <td>0.082389</td>\n",
       "      <td>0.211206</td>\n",
       "      <td>0.018588</td>\n",
       "      <td>0.000208</td>\n",
       "      <td>0.000002</td>\n",
       "    </tr>\n",
       "    <tr>\n",
       "      <th>x4</th>\n",
       "      <td>4.989801e-07</td>\n",
       "      <td>4.917731e-05</td>\n",
       "      <td>0.004251</td>\n",
       "      <td>0.132389</td>\n",
       "      <td>0.403704</td>\n",
       "      <td>0.489799</td>\n",
       "      <td>0.498996</td>\n",
       "    </tr>\n",
       "    <tr>\n",
       "      <th>x5</th>\n",
       "      <td>2.014101e-10</td>\n",
       "      <td>1.638642e-07</td>\n",
       "      <td>0.000144</td>\n",
       "      <td>0.045929</td>\n",
       "      <td>0.393479</td>\n",
       "      <td>0.489694</td>\n",
       "      <td>0.498995</td>\n",
       "    </tr>\n",
       "  </tbody>\n",
       "</table>\n",
       "</div>"
      ],
      "text/plain": [
       "        0.001         0.010     0.100     1.000     10.000    100.000   \\\n",
       "x1  9.990015e-01  9.901480e-01  0.913216  0.610476  0.184229  0.020299   \n",
       "x2  9.990015e-01  9.901480e-01  0.913216  0.610476  0.184229  0.020299   \n",
       "x3  9.980033e-04  9.802631e-03  0.082389  0.211206  0.018588  0.000208   \n",
       "x4  4.989801e-07  4.917731e-05  0.004251  0.132389  0.403704  0.489799   \n",
       "x5  2.014101e-10  1.638642e-07  0.000144  0.045929  0.393479  0.489694   \n",
       "\n",
       "    1000.000  \n",
       "x1  0.002008  \n",
       "x2  0.002008  \n",
       "x3  0.000002  \n",
       "x4  0.498996  \n",
       "x5  0.498995  "
      ]
     },
     "execution_count": 12,
     "metadata": {},
     "output_type": "execute_result"
    }
   ],
   "source": [
    "data = [interpolating_function(time_points) for interpolating_function in conc_sol.values()]\n",
    "index_col = [metabolite for metabolite in conc_sol.keys()]\n",
    "pd.DataFrame(data, index=index_col, columns=time_points)"
   ]
  },
  {
   "cell_type": "markdown",
   "metadata": {},
   "source": [
    "The same goes for reactions:"
   ]
  },
  {
   "cell_type": "code",
   "execution_count": 13,
   "metadata": {},
   "outputs": [
    {
     "data": {
      "text/html": [
       "<div>\n",
       "<style scoped>\n",
       "    .dataframe tbody tr th:only-of-type {\n",
       "        vertical-align: middle;\n",
       "    }\n",
       "\n",
       "    .dataframe tbody tr th {\n",
       "        vertical-align: top;\n",
       "    }\n",
       "\n",
       "    .dataframe thead th {\n",
       "        text-align: right;\n",
       "    }\n",
       "</style>\n",
       "<table border=\"1\" class=\"dataframe\">\n",
       "  <thead>\n",
       "    <tr style=\"text-align: right;\">\n",
       "      <th></th>\n",
       "      <th>0.001</th>\n",
       "      <th>0.01</th>\n",
       "      <th>0.1</th>\n",
       "      <th>1.0</th>\n",
       "      <th>10.0</th>\n",
       "      <th>100.0</th>\n",
       "      <th>1000.0</th>\n",
       "    </tr>\n",
       "  </thead>\n",
       "  <tbody>\n",
       "    <tr>\n",
       "      <th>v1</th>\n",
       "      <td>9.970060e-01</td>\n",
       "      <td>0.970590</td>\n",
       "      <td>0.751575</td>\n",
       "      <td>0.161475</td>\n",
       "      <td>0.015352</td>\n",
       "      <td>0.000204</td>\n",
       "      <td>0.000002</td>\n",
       "    </tr>\n",
       "    <tr>\n",
       "      <th>v2</th>\n",
       "      <td>9.980033e-04</td>\n",
       "      <td>0.009803</td>\n",
       "      <td>0.082389</td>\n",
       "      <td>0.211206</td>\n",
       "      <td>0.018588</td>\n",
       "      <td>0.000208</td>\n",
       "      <td>0.000002</td>\n",
       "    </tr>\n",
       "    <tr>\n",
       "      <th>v3</th>\n",
       "      <td>4.987787e-07</td>\n",
       "      <td>0.000049</td>\n",
       "      <td>0.004107</td>\n",
       "      <td>0.086460</td>\n",
       "      <td>0.010226</td>\n",
       "      <td>0.000105</td>\n",
       "      <td>0.000001</td>\n",
       "    </tr>\n",
       "  </tbody>\n",
       "</table>\n",
       "</div>"
      ],
      "text/plain": [
       "        0.001     0.010     0.100     1.000     10.000    100.000   1000.000\n",
       "v1  9.970060e-01  0.970590  0.751575  0.161475  0.015352  0.000204  0.000002\n",
       "v2  9.980033e-04  0.009803  0.082389  0.211206  0.018588  0.000208  0.000002\n",
       "v3  4.987787e-07  0.000049  0.004107  0.086460  0.010226  0.000105  0.000001"
      ]
     },
     "execution_count": 13,
     "metadata": {},
     "output_type": "execute_result"
    }
   ],
   "source": [
    "data = [interpolating_function(time_points) for interpolating_function in flux_sol.values()]\n",
    "index_col = [reaction for reaction in flux_sol.keys()]\n",
    "pd.DataFrame(data, index=index_col, columns=time_points)"
   ]
  },
  {
   "cell_type": "markdown",
   "metadata": {},
   "source": [
    "### 3.4 Filtering Specific Species & Fluxes"
   ]
  },
  {
   "cell_type": "markdown",
   "metadata": {},
   "source": [
    "Concentration and flux solutions are specialized dictionaries within MassPy and function similar to any other dictionary. Capturing solutions for concentrations or fluxes using MassMetabolite and MassReaction identifiers as keys works the same as any other dictionary:"
   ]
  },
  {
   "cell_type": "code",
   "execution_count": 14,
   "metadata": {},
   "outputs": [
    {
     "name": "stdout",
     "output_type": "stream",
     "text": [
      "x1 <scipy.interpolate.interpolate.interp1d object at 0x1245bf688>\n"
     ]
    }
   ],
   "source": [
    "print(x1.id, conc_sol[x1.id])"
   ]
  },
  {
   "cell_type": "markdown",
   "metadata": {},
   "source": [
    "To iterate through multiple reactions, one can: "
   ]
  },
  {
   "cell_type": "code",
   "execution_count": 15,
   "metadata": {},
   "outputs": [
    {
     "name": "stdout",
     "output_type": "stream",
     "text": [
      "v1 <scipy.interpolate.interpolate.interp1d object at 0x1245bf548>\n",
      "v2 <scipy.interpolate.interpolate.interp1d object at 0x1245bc728>\n"
     ]
    }
   ],
   "source": [
    "for flux in [v1,v2]: \n",
    "    print(flux.id, flux_sol[flux.id])"
   ]
  },
  {
   "cell_type": "markdown",
   "metadata": {},
   "source": [
    "### 3.5 Switching between numerical arrays and interpolating functions"
   ]
  },
  {
   "cell_type": "markdown",
   "metadata": {},
   "source": [
    "If we want to work with original time plots instead of with ODE's to determine the corresponding solutions used by the ODE solver, we can do so by accessing the original time point values within the Solution Object and using these to interpolate the functions, "
   ]
  },
  {
   "cell_type": "code",
   "execution_count": 16,
   "metadata": {},
   "outputs": [
    {
     "name": "stdout",
     "output_type": "stream",
     "text": [
      "[1.         0.999999   0.999998   0.99935003 0.99870332 0.99805786\n",
      " 0.99436381 0.99137664 0.98841645 0.98548294 0.98257577 0.97683921\n",
      " 0.97120433 0.9656687  0.96023001 0.95488598 0.93553741 0.91739526\n",
      " 0.90035959 0.88434016 0.86925533 0.85503108 0.83374205 0.81426783\n",
      " 0.7963935  0.77993319 0.76472564 0.75063056 0.73752555 0.72203462\n",
      " 0.70779676 0.69464813 0.68244936 0.6710816  0.66044319 0.65044695\n",
      " 0.63896779 0.62822378 0.61811734 0.6085667  0.59950321 0.59086897\n",
      " 0.5799286  0.56957066 0.55971765 0.5503068  0.54128695 0.53261617\n",
      " 0.52221091 0.51224292]\n"
     ]
    }
   ],
   "source": [
    "time_points = conc_sol.t\n",
    "#Function gets slice of all 1st 50 points\n",
    "print(conc_sol[\"x1\"](time_points[:50]))"
   ]
  },
  {
   "cell_type": "markdown",
   "metadata": {},
   "source": [
    "To convert an entire Solution object from interpolating functions to numerical assays or vice versa, we use the Solutions.interpolate setter method:"
   ]
  },
  {
   "cell_type": "code",
   "execution_count": 17,
   "metadata": {},
   "outputs": [
    {
     "data": {
      "text/plain": [
       "array([1.        , 0.999999  , 0.999998  , 0.99935003, 0.99870332,\n",
       "       0.99805786, 0.99436381, 0.99137664, 0.98841645, 0.98548294,\n",
       "       0.98257577, 0.97683921, 0.97120433, 0.9656687 , 0.96023001,\n",
       "       0.95488598, 0.93553741, 0.91739526, 0.90035959, 0.88434016,\n",
       "       0.86925533, 0.85503108, 0.83374205, 0.81426783, 0.7963935 ,\n",
       "       0.77993319, 0.76472564, 0.75063056, 0.73752555, 0.72203462,\n",
       "       0.70779676, 0.69464813, 0.68244936, 0.6710816 , 0.66044319,\n",
       "       0.65044695, 0.63896779, 0.62822378, 0.61811734, 0.6085667 ,\n",
       "       0.59950321, 0.59086897, 0.5799286 , 0.56957066, 0.55971765,\n",
       "       0.5503068 , 0.54128695, 0.53261617, 0.52221091, 0.51224292])"
      ]
     },
     "execution_count": 17,
     "metadata": {},
     "output_type": "execute_result"
    }
   ],
   "source": [
    "conc_sol.interpolate = False\n",
    "conc_sol.solutions[\"x1\"][:50]"
   ]
  },
  {
   "cell_type": "code",
   "execution_count": 18,
   "metadata": {},
   "outputs": [
    {
     "data": {
      "text/plain": [
       "{'x1': <scipy.interpolate.interpolate.interp1d at 0x1245c44a8>,\n",
       " 'x2': <scipy.interpolate.interpolate.interp1d at 0x1245c1098>,\n",
       " 'x3': <scipy.interpolate.interpolate.interp1d at 0x1245c1908>,\n",
       " 'x4': <scipy.interpolate.interpolate.interp1d at 0x1245c4188>,\n",
       " 'x5': <scipy.interpolate.interpolate.interp1d at 0x1245c19a8>}"
      ]
     },
     "execution_count": 18,
     "metadata": {},
     "output_type": "execute_result"
    }
   ],
   "source": [
    "conc_sol.interpolate = True\n",
    "conc_sol.solutions"
   ]
  },
  {
   "cell_type": "markdown",
   "metadata": {},
   "source": [
    "##### Something here detailing what we are trying to accomplish with the differentiation of the interpolating methods and why setting arrays is useful... "
   ]
  },
  {
   "cell_type": "markdown",
   "metadata": {},
   "source": [
    "### 3.6 Graphic visualization of Models"
   ]
  },
  {
   "cell_type": "markdown",
   "metadata": {},
   "source": [
    "Visualization of the solutions can be easily completed through MassPy after simulation of the model;"
   ]
  },
  {
   "cell_type": "code",
   "execution_count": 19,
   "metadata": {},
   "outputs": [],
   "source": [
    "import matplotlib.pyplot as plt\n",
    "from mass.core.visualization import (plot_phase_portrait, plot_simulation, plot_tiled_phase_portrait, get_defaults,\n",
    "                                   set_defaults, make_display_data)"
   ]
  },
  {
   "cell_type": "markdown",
   "metadata": {},
   "source": [
    "The matplotlib pthon package was imported above but it was done again here just to clarigy the package corresponds to the visualization; the documentation for visualiation class can be viewed to determine more details for plotting kwargs."
   ]
  },
  {
   "cell_type": "markdown",
   "metadata": {},
   "source": [
    "__3.6.1 Drawing Time Courses__"
   ]
  },
  {
   "cell_type": "markdown",
   "metadata": {},
   "source": [
    "Plotting dynamic simulations can be very simple with the __visualization.plot_simulations__ command,"
   ]
  },
  {
   "cell_type": "code",
   "execution_count": 20,
   "metadata": {},
   "outputs": [
    {
     "data": {
      "image/png": "[encoded data removed]",
      "text/plain": [
       "<Figure size 432x288 with 1 Axes>"
      ]
     },
     "metadata": {
      "needs_background": "light"
     },
     "output_type": "display_data"
    }
   ],
   "source": [
    "plot_simulation(conc_sol);"
   ]
  },
  {
   "cell_type": "markdown",
   "metadata": {},
   "source": [
    "It is very apparent that this graph is useless in terms of determining the dynamic interactions between the metabolites within the reaction system. Furthermore, the time scale is much larger than what we can visualize and extract information from. To rectify this issue, we use __plot_function__ kwarg to change the scale such that we keep the y-axis as a linear scale and interpret the x axis through a lograthmic scale, "
   ]
  },
  {
   "cell_type": "code",
   "execution_count": 21,
   "metadata": {},
   "outputs": [
    {
     "data": {
      "text/plain": [
       "<matplotlib.axes._subplots.AxesSubplot at 0x12870ba20>"
      ]
     },
     "execution_count": 21,
     "metadata": {},
     "output_type": "execute_result"
    },
    {
     "data": {
      "image/png": "[encoded data removed]",
      "text/plain": [
       "<Figure size 432x288 with 1 Axes>"
      ]
     },
     "metadata": {
      "needs_background": "light"
     },
     "output_type": "display_data"
    }
   ],
   "source": [
    "plot_simulation(conc_sol, plot_function = \"semilogx\")"
   ]
  },
  {
   "cell_type": "markdown",
   "metadata": {},
   "source": [
    "Espiecially useful is the observable argument which specifies the particular solutions you want to view in your concentration profiles while filtering out other solutions. If we want to plot just x4 and x5 since they are so close, we can do,"
   ]
  },
  {
   "cell_type": "code",
   "execution_count": 22,
   "metadata": {},
   "outputs": [
    {
     "data": {
      "text/plain": [
       "<matplotlib.axes._subplots.AxesSubplot at 0x128874b00>"
      ]
     },
     "execution_count": 22,
     "metadata": {},
     "output_type": "execute_result"
    },
    {
     "data": {
      "image/png": "[encoded data removed]",
      "text/plain": [
       "<Figure size 432x288 with 1 Axes>"
      ]
     },
     "metadata": {
      "needs_background": "light"
     },
     "output_type": "display_data"
    }
   ],
   "source": [
    "plot_simulation(conc_sol, observable=[\"x4\", \"x5\"], plot_function = 'semilogx')"
   ]
  },
  {
   "cell_type": "markdown",
   "metadata": {},
   "source": [
    "Furthermore, to analyze with more accurate information, it is necessary to add a title, axes labels and legends to the plot. Currently, the current default arguments can be viewed through __visualizations.get_defaults__ function and the syntax for each kwarg can be viwed through the __help__ function for *visualization.set_defaults*. View the previous notebooks to see a full detailed model on inspection of models. In order to do this, we can type: "
   ]
  },
  {
   "cell_type": "code",
   "execution_count": 23,
   "metadata": {},
   "outputs": [
    {
     "data": {
      "text/plain": [
       "<matplotlib.axes._subplots.AxesSubplot at 0x1288a3160>"
      ]
     },
     "execution_count": 23,
     "metadata": {},
     "output_type": "execute_result"
    },
    {
     "data": {
      "image/png": "[encoded data removed]",
      "text/plain": [
       "<Figure size 432x288 with 1 Axes>"
      ]
     },
     "metadata": {
      "needs_background": "light"
     },
     "output_type": "display_data"
    }
   ],
   "source": [
    "plot_simulation(conc_sol, legend = \"right outside\", plot_function=\"semilogx\", xlabel = \"Time\", ylabel=\"Concentration\",\n",
    "               title = (\"Concentration Solutions\", {\"size\": \"large\"}))"
   ]
  },
  {
   "cell_type": "markdown",
   "metadata": {},
   "source": [
    "__3.6.2 Phase Portraits__"
   ]
  },
  {
   "cell_type": "markdown",
   "metadata": {},
   "source": [
    "Another way to display visualization of solutions is to plot one dynamic response of a metabolite against another metabolite; this can be acieved through the *visualization.plot_phase_portrait* method:"
   ]
  },
  {
   "cell_type": "code",
   "execution_count": 24,
   "metadata": {},
   "outputs": [
    {
     "data": {
      "text/plain": [
       "<matplotlib.axes._subplots.AxesSubplot at 0x1287ee9b0>"
      ]
     },
     "execution_count": 24,
     "metadata": {},
     "output_type": "execute_result"
    },
    {
     "data": {
      "image/png": "[encoded data removed]",
      "text/plain": [
       "<Figure size 432x288 with 1 Axes>"
      ]
     },
     "metadata": {
      "needs_background": "light"
     },
     "output_type": "display_data"
    }
   ],
   "source": [
    "plot_phase_portrait(conc_sol, x=\"x1\", y=\"x2\", xlabel=\"x1\", ylabel=\"x2\")"
   ]
  },
  {
   "cell_type": "markdown",
   "metadata": {},
   "source": [
    "*Note*: __time_poi__ can be used to highlight points of interest you want your specific plot to contain; this can be done in a number of ways, most commonly by either providing iterable time points as \"points of interest\" or using a dictionary with keys as the time points and values correspoinding to a specific color. In the following example, colors are used to discern each point so we can remove annotations for each point,"
   ]
  },
  {
   "cell_type": "code",
   "execution_count": 25,
   "metadata": {},
   "outputs": [
    {
     "data": {
      "image/png": "[encoded data removed]",
      "text/plain": [
       "<Figure size 432x288 with 1 Axes>"
      ]
     },
     "metadata": {
      "needs_background": "light"
     },
     "output_type": "display_data"
    }
   ],
   "source": [
    "poi_dict = dict(zip([t0, 1e-1 , 1e0, 1e1, 1e3, tf], [\"red\", \"green\", \"purple\", \"blue\", \"cyan\", \"yellow\"]))\n",
    "plot_phase_portrait(conc_sol, x=\"x1\", y=\"x2\", time_poi= poi_dict, poi_labels=False);"
   ]
  },
  {
   "cell_type": "markdown",
   "metadata": {},
   "source": [
    "Multiple phase portraits can also be depicted with \\\\(x_1\\\\) simultaneously:  \\\\(x_1\\\\) vs \\\\(x_2\\\\), \\\\(x_1\\\\) vs \\\\(x_3\\\\), and \\\\(x_1\\\\) vs \\\\(x_4\\\\) can all be shown on the same phase portrait, "
   ]
  },
  {
   "cell_type": "code",
   "execution_count": 26,
   "metadata": {},
   "outputs": [
    {
     "data": {
      "text/plain": [
       "<matplotlib.axes._subplots.AxesSubplot at 0x128a27d68>"
      ]
     },
     "execution_count": 26,
     "metadata": {},
     "output_type": "execute_result"
    },
    {
     "data": {
      "image/png": "[encoded data removed]",
      "text/plain": [
       "<Figure size 432x288 with 1 Axes>"
      ]
     },
     "metadata": {
      "needs_background": "light"
     },
     "output_type": "display_data"
    }
   ],
   "source": [
    "plot_phase_portrait(conc_sol, x=[\"x1\"], y = [\"x2\", \"x3\", \"x4\"], legend =\"best\", xlabel = \"x1\", ylabel= \"[x2, x3, x4]\",\n",
    "                    title = (\"Phase portrait: x1 vs. [x2, x3, x4]\", {\"size\":\"large\"}))"
   ]
  },
  {
   "cell_type": "markdown",
   "metadata": {},
   "source": [
    "__3.6.3 Tiled Phase Portraits__"
   ]
  },
  {
   "cell_type": "markdown",
   "metadata": {},
   "source": [
    "All pairwise phase portraits can be generated and viwed at once using the tiled phase portrait method: __visualization.plot_tiled_phase_portrait__"
   ]
  },
  {
   "cell_type": "code",
   "execution_count": 27,
   "metadata": {},
   "outputs": [
    {
     "data": {
      "text/plain": [
       "<matplotlib.axes._subplots.AxesSubplot at 0x128cba160>"
      ]
     },
     "execution_count": 27,
     "metadata": {},
     "output_type": "execute_result"
    },
    {
     "data": {
      "image/png": "[encoded data removed]",
      "text/plain": [
       "<Figure size 432x288 with 1 Axes>"
      ]
     },
     "metadata": {
      "needs_background": "light"
     },
     "output_type": "display_data"
    }
   ],
   "source": [
    "plot_tiled_phase_portrait(conc_sol)"
   ]
  },
  {
   "cell_type": "markdown",
   "metadata": {},
   "source": [
    "This method is particularily useful for examining the dynamic behavior of metabolites for each pairwise metabolite concentrations over differing time scales in order to analyze their constraints and dependency for each of their respective fluxes. For example, from the overall behavior depicted above, using a fast timescale of (0,1), an intermediate scale from (3, 100) and a slow timescale of (300,1000) can be decomposed withinthe tiled phase portraits to analyze the solutions in depth, "
   ]
  },
  {
   "cell_type": "code",
   "execution_count": 28,
   "metadata": {},
   "outputs": [],
   "source": [
    "# observable = [\"x1\", \"x2\", \"x3\"]\n",
    "# n_sols = len(observable)\n",
    "# place = \"upper\"\n",
    "\n",
    "# # Correlation values\n",
    "# corr_a = []\n",
    "# corr_b = [[1, 1]]\n",
    "# corr_c = [[1, 1.02], [1, 0.51], [1, 0.5]]\n",
    "# corr_d = [[1, 1.02], [1, 1.02], [1, 1.02]]\n",
    "\n",
    "# # Format correlation data for tiled phase portraits\n",
    "# data_a, data_b, data_c, data_d = [\n",
    "#     make_display_data(n_sols, corr, \"{0:.2f}\\n{1:.2f}\", empty_tiles=place)\n",
    "#     for corr in [corr_a, corr_b, corr_c, corr_d]]\n",
    "\n",
    "# fig, axes = plt.subplots(2, 2, figsize=(10, 10))\n",
    "# times = [(0, 400000), (0, 1), (3, 100), (300, 10000)]\n",
    "# titles = [\"{0}:\\nt0={1}; tf={2}\".format(label, time[0], time[-1])\n",
    "#           for label, time in zip([\"(a)\", \"(b)\", \"(c)\", \"(d)\"], times)]\n",
    "# data_sets = [data_a, data_b, data_c, data_d]\n",
    "# for i, ax in enumerate(axes.flatten()):\n",
    "#     plot_tiled_phase_portrait(conc_sol, observable,\n",
    "#                               time=times[i], ax=ax, \n",
    "#                               display_data=data_sets[i], \n",
    "#                               empty_tiles=place,\n",
    "#                               fontsize=\"large\",\n",
    "#                               poi_labels=False, title=titles[i]);"
   ]
  },
  {
   "cell_type": "markdown",
   "metadata": {},
   "source": [
    "### 3.7 Post - Process Solutions"
   ]
  },
  {
   "cell_type": "markdown",
   "metadata": {},
   "source": [
    "#### 3.7.1 Analyzing Pool Behaviors"
   ]
  },
  {
   "cell_type": "markdown",
   "metadata": {},
   "source": [
    "To analyze the behavior of pools, we can create __Simulation.make_pools__ methodology derived from strings in order to represent pool formulas. Different parameters can be incorporated to the pool formulation using dictionary input for __parameters__ argument. "
   ]
  },
  {
   "cell_type": "code",
   "execution_count": 41,
   "metadata": {
    "scrolled": true
   },
   "outputs": [
    {
     "data": {
      "text/plain": [
       "{'p1': array([1.00000000e+00, 9.99997000e-01, 9.99994000e-01, 9.98050725e-01,\n",
       "        9.96112482e-01, 9.94179256e-01, 9.83139239e-01, 9.74241993e-01,\n",
       "        9.65451942e-01, 9.56767533e-01, 9.48187237e-01, 9.31333016e-01,\n",
       "        9.14877588e-01, 8.98809670e-01, 8.83118352e-01, 8.67793097e-01,\n",
       "        8.13093240e-01, 7.62959281e-01, 7.16944574e-01, 6.74653783e-01,\n",
       "        6.35735906e-01, 5.99878468e-01, 5.47816142e-01, 5.01980525e-01,\n",
       "        4.61520036e-01, 4.25715227e-01, 3.93955461e-01, 3.65720223e-01,\n",
       "        3.40563977e-01, 3.12266537e-01, 2.87708265e-01, 2.66325556e-01,\n",
       "        2.47647882e-01, 2.31280801e-01, 2.16892438e-01, 2.04202627e-01,\n",
       "        1.90627805e-01, 1.78883981e-01, 1.68671977e-01, 1.59745254e-01,\n",
       "        1.51900062e-01, 1.44967514e-01, 1.36896058e-01, 1.29932835e-01,\n",
       "        1.23865078e-01, 1.18524851e-01, 1.13779139e-01, 1.09522272e-01,\n",
       "        1.04759528e-01, 1.00502168e-01, 9.66524328e-02, 9.31355702e-02,\n",
       "        8.98940807e-02, 8.68834895e-02, 8.33015271e-02, 7.99876944e-02,\n",
       "        7.69003925e-02, 7.40081780e-02, 7.12868499e-02, 6.87174884e-02,\n",
       "        6.62849711e-02, 6.39769745e-02, 6.17832662e-02, 5.89073703e-02,\n",
       "        5.62161595e-02, 5.36932933e-02, 5.13247258e-02, 4.90981824e-02,\n",
       "        4.69286641e-02, 4.48892805e-02, 4.29703043e-02, 4.11629310e-02,\n",
       "        3.94591469e-02, 3.73769100e-02, 3.54443202e-02, 3.36481957e-02,\n",
       "        3.19767065e-02, 3.04191928e-02, 2.89660711e-02, 2.76087007e-02,\n",
       "        2.63392656e-02, 2.50507283e-02, 2.38495835e-02, 2.27284646e-02,\n",
       "        2.16807288e-02, 2.07003756e-02, 1.97777384e-02, 1.89126829e-02,\n",
       "        1.81006985e-02, 1.73376933e-02, 1.66199490e-02, 1.59316664e-02,\n",
       "        1.52836018e-02, 1.46727865e-02, 1.40965116e-02, 1.35523028e-02,\n",
       "        1.30323972e-02, 1.25408140e-02, 1.20755925e-02, 1.16349342e-02,\n",
       "        1.12171876e-02, 1.08140087e-02, 1.04315143e-02, 1.00683498e-02,\n",
       "        9.72326691e-03, 9.39511416e-03, 9.08030707e-03, 8.78062381e-03,\n",
       "        8.49513306e-03, 8.22297268e-03, 7.96334365e-03, 7.71274809e-03,\n",
       "        7.47350112e-03, 7.24494183e-03, 7.02645583e-03, 6.81747147e-03,\n",
       "        6.61745636e-03, 6.42591429e-03, 6.24238228e-03, 6.04884858e-03,\n",
       "        5.86398421e-03, 5.68728835e-03, 5.51829263e-03, 5.33097094e-03,\n",
       "        5.15283991e-03, 4.98331524e-03, 4.82185855e-03, 4.66789074e-03,\n",
       "        4.52104570e-03, 4.38089658e-03, 4.24704819e-03, 4.11715631e-03,\n",
       "        3.99303130e-03, 3.87434107e-03, 3.76077713e-03, 3.65076106e-03,\n",
       "        3.54542545e-03, 3.44451170e-03, 3.34777883e-03, 3.25443211e-03,\n",
       "        3.16487711e-03, 3.07891359e-03, 2.99635429e-03, 2.91652320e-03,\n",
       "        2.83979535e-03, 2.76601370e-03, 2.69503097e-03, 2.62640315e-03,\n",
       "        2.56032869e-03, 2.49668377e-03, 2.43535197e-03, 2.37597938e-03,\n",
       "        2.31872438e-03, 2.26348842e-03, 2.21017862e-03, 2.15852619e-03,\n",
       "        2.10864181e-03, 2.06044644e-03, 2.01386538e-03, 1.96868379e-03,\n",
       "        1.92498846e-03, 1.88271549e-03, 1.84180435e-03, 1.80208324e-03,\n",
       "        1.76361940e-03, 1.72636077e-03, 1.69025794e-03, 1.65517119e-03,\n",
       "        1.62115438e-03, 1.58816478e-03, 1.55616179e-03, 1.52503101e-03,\n",
       "        1.49481585e-03, 1.46548101e-03, 1.43699290e-03, 1.40925704e-03,\n",
       "        1.38230886e-03, 1.35611904e-03, 1.33065959e-03, 1.30585199e-03,\n",
       "        1.28172537e-03, 1.25825521e-03, 1.23541808e-03, 1.21314828e-03,\n",
       "        1.19146997e-03, 1.17036252e-03, 1.14980620e-03, 1.12974573e-03,\n",
       "        1.11020127e-03, 1.09115539e-03, 1.07259136e-03, 1.05446246e-03,\n",
       "        1.03678557e-03, 1.01954589e-03, 1.00272922e-03, 9.86295791e-04,\n",
       "        9.70259886e-04, 9.54608860e-04, 9.39330567e-04, 9.24391056e-04,\n",
       "        9.09802428e-04, 8.95553845e-04, 8.81634882e-04, 8.68016407e-04,\n",
       "        8.54708737e-04, 8.41702537e-04, 8.28988821e-04, 8.16558934e-04,\n",
       "        8.04404536e-04, 7.92517591e-04, 7.80890351e-04, 7.69515348e-04,\n",
       "        7.58385375e-04, 7.46955419e-04, 7.35779652e-04, 7.24851036e-04,\n",
       "        7.13758969e-04, 7.02918068e-04, 6.92320729e-04, 6.81450525e-04,\n",
       "        6.70832597e-04, 6.60459389e-04, 6.50596074e-04, 6.40950774e-04,\n",
       "        6.31517010e-04, 6.22136043e-04, 6.12961232e-04, 6.03986683e-04,\n",
       "        5.95279850e-04, 5.86758832e-04, 5.78418369e-04, 5.70144480e-04,\n",
       "        5.62045796e-04, 5.54117462e-04, 5.46419456e-04, 5.38879855e-04,\n",
       "        5.31494337e-04, 5.24204326e-04, 5.17062424e-04, 5.10064684e-04,\n",
       "        5.03233227e-04, 4.96537354e-04, 4.89973504e-04, 4.83503646e-04,\n",
       "        4.77160399e-04, 4.70940504e-04, 4.64857590e-04, 4.58891157e-04,\n",
       "        4.53038256e-04, 4.47275919e-04, 4.41622256e-04, 4.36074566e-04,\n",
       "        4.30638100e-04, 4.25302155e-04, 4.20064273e-04, 4.14909161e-04,\n",
       "        4.09847893e-04, 4.04878218e-04, 4.00002242e-04, 3.95213394e-04,\n",
       "        3.90509614e-04, 3.85880602e-04, 3.81333016e-04, 3.76864968e-04,\n",
       "        3.72476529e-04, 3.68163940e-04, 3.63925466e-04, 3.59753765e-04,\n",
       "        3.55653055e-04, 3.51621739e-04, 3.47659034e-04, 3.43762638e-04,\n",
       "        3.39931085e-04, 3.36158963e-04, 3.32449002e-04, 3.28799849e-04,\n",
       "        3.25210301e-04, 3.21678958e-04, 3.18204573e-04, 3.14782995e-04,\n",
       "        3.11416071e-04, 3.08102648e-04, 3.04841404e-04, 3.01631448e-04,\n",
       "        2.98471713e-04, 2.95358922e-04, 2.92294372e-04, 2.89277072e-04,\n",
       "        2.86305713e-04, 2.83379713e-04, 2.80498158e-04, 2.77658387e-04,\n",
       "        2.74861350e-04, 2.72106196e-04, 2.69391694e-04, 2.66717448e-04,\n",
       "        2.64082668e-04, 2.61485155e-04, 2.58925627e-04, 2.56403351e-04,\n",
       "        2.53917200e-04, 2.51466894e-04, 2.49051751e-04, 2.46669918e-04,\n",
       "        2.44321960e-04, 2.42007241e-04, 2.39724747e-04, 2.37474272e-04,\n",
       "        2.35255221e-04, 2.33066017e-04, 2.30907116e-04, 2.28777963e-04,\n",
       "        2.26677655e-04, 2.24606033e-04, 2.22562578e-04, 2.20545932e-04,\n",
       "        2.18556474e-04, 2.16593717e-04, 2.14656860e-04, 2.12745775e-04,\n",
       "        2.10860008e-04, 2.08998383e-04, 2.07161217e-04, 2.05348085e-04,\n",
       "        2.03558274e-04, 2.01791681e-04, 2.00047907e-04, 1.98325925e-04,\n",
       "        1.96626005e-04, 1.94947775e-04, 1.93290601e-04, 1.91654397e-04,\n",
       "        1.90038812e-04, 1.88442944e-04, 1.86867029e-04, 1.85310734e-04,\n",
       "        1.83741783e-04, 1.82192606e-04, 1.80662876e-04, 1.79161402e-04,\n",
       "        1.77678509e-04, 1.76213891e-04, 1.74715640e-04, 1.73236352e-04,\n",
       "        1.71775714e-04, 1.70381375e-04, 1.69003896e-04, 1.67643000e-04,\n",
       "        1.66228007e-04, 1.64830792e-04, 1.63451068e-04, 1.62156027e-04,\n",
       "        1.60876274e-04, 1.59611563e-04, 1.58256306e-04, 1.56918177e-04,\n",
       "        1.55596901e-04, 1.54413500e-04, 1.53243517e-04, 1.52086737e-04,\n",
       "        1.50817233e-04, 1.49563500e-04, 1.48325296e-04, 1.47227486e-04,\n",
       "        1.46141794e-04, 1.45068027e-04, 1.43834066e-04, 1.42615724e-04,\n",
       "        1.41412758e-04, 1.40420677e-04, 1.39438983e-04, 1.38467511e-04,\n",
       "        1.37356095e-04, 1.36257957e-04, 1.35172905e-04, 1.34211090e-04,\n",
       "        1.33259483e-04, 1.32317927e-04, 1.31134163e-04, 1.29966145e-04,\n",
       "        1.28813629e-04, 1.28024615e-04, 1.27242835e-04, 1.26468159e-04,\n",
       "        1.25684025e-04, 1.24907135e-04, 1.24137409e-04, 1.23140900e-04,\n",
       "        1.22156297e-04, 1.21183425e-04, 1.20310098e-04, 1.19446165e-04,\n",
       "        1.18591477e-04, 1.17630686e-04, 1.16681482e-04, 1.15743697e-04,\n",
       "        1.14934538e-04, 1.14133825e-04, 1.13341422e-04, 1.12403055e-04,\n",
       "        1.11476246e-04, 1.10560832e-04, 1.09848799e-04, 1.09143621e-04,\n",
       "        1.08445185e-04, 1.07642302e-04, 1.06848270e-04, 1.06062976e-04,\n",
       "        1.05345642e-04, 1.04635547e-04, 1.03932586e-04, 1.02897277e-04,\n",
       "        1.01877261e-04, 1.00872292e-04, 1.00392683e-04, 9.99165469e-05,\n",
       "        9.94437454e-05, 9.90775609e-05, 9.87133814e-05, 9.83511995e-05,\n",
       "        9.78802566e-05, 9.74126774e-05, 9.69484318e-05, 9.58524989e-05,\n",
       "        9.47748579e-05, 9.37151165e-05, 9.33107390e-05, 9.29091479e-05,\n",
       "        9.25100573e-05, 9.21810696e-05, 9.18538048e-05, 9.15282698e-05,\n",
       "        9.11484337e-05, 9.07709469e-05, 9.03957923e-05, 8.93903280e-05,\n",
       "        8.84013686e-05, 8.74285597e-05, 8.70666814e-05, 8.67072156e-05,\n",
       "        8.63498886e-05, 8.60494357e-05, 8.57505200e-05, 8.54531498e-05,\n",
       "        8.51137014e-05, 8.47762626e-05, 8.44408195e-05, 8.34888983e-05,\n",
       "        8.25527896e-05, 8.16328991e-05, 8.13376227e-05, 8.10436931e-05,\n",
       "        8.07513708e-05, 8.04651692e-05, 8.01805058e-05, 7.98973503e-05,\n",
       "        7.96466364e-05, 7.93971005e-05, 7.91487343e-05, 7.82207244e-05,\n",
       "        7.73087228e-05, 7.70832748e-05, 7.68589014e-05, 7.66354745e-05,\n",
       "        7.63880353e-05, 7.61417730e-05, 7.58966899e-05, 7.56109596e-05,\n",
       "        7.53268322e-05, 7.50442978e-05, 7.42565289e-05, 7.34809639e-05,\n",
       "        7.27173410e-05, 7.24454292e-05, 7.21751784e-05, 7.19063715e-05,\n",
       "        7.16740067e-05, 7.14427432e-05, 7.12125902e-05, 7.09576981e-05,\n",
       "        7.07041657e-05, 7.04519849e-05, 6.96246205e-05, 6.88114847e-05,\n",
       "        6.86105057e-05, 6.84105210e-05, 6.82113678e-05, 6.79959770e-05,\n",
       "        6.77815814e-05, 6.75681883e-05, 6.73341825e-05, 6.71013834e-05,\n",
       "        6.68697848e-05, 6.61856893e-05, 6.55119140e-05, 6.48482299e-05,\n",
       "        6.46214278e-05, 6.43959472e-05, 6.41715828e-05, 6.39731916e-05,\n",
       "        6.37756966e-05, 6.35791082e-05, 6.33664393e-05, 6.31548302e-05,\n",
       "        6.29442753e-05, 6.22075954e-05, 6.14835006e-05, 6.13045374e-05,\n",
       "        6.11264796e-05, 6.09491508e-05, 6.07644602e-05, 6.05805845e-05,\n",
       "        6.03975332e-05, 6.02019613e-05, 6.00073319e-05, 5.98136407e-05,\n",
       "        5.92047068e-05, 5.86048980e-05, 5.80139818e-05, 5.78245707e-05,\n",
       "        5.76362364e-05, 5.74487532e-05, 5.72783713e-05, 5.71087210e-05,\n",
       "        5.69398162e-05, 5.67619725e-05, 5.65849553e-05, 5.64087612e-05,\n",
       "        5.57966965e-05, 5.51943505e-05, 5.50453472e-05, 5.48970321e-05,\n",
       "        5.47492843e-05, 5.45925103e-05, 5.44363921e-05, 5.42809360e-05,\n",
       "        5.41137027e-05, 5.39472367e-05, 5.37815346e-05, 5.32035002e-05,\n",
       "        5.26345559e-05, 5.24938017e-05, 5.23536932e-05, 5.22141149e-05,\n",
       "        5.20677023e-05, 5.19218893e-05, 5.17766818e-05, 5.16211354e-05,\n",
       "        5.14662850e-05, 5.13121275e-05, 5.07526898e-05, 5.02021513e-05,\n",
       "        5.00659798e-05, 4.99304555e-05, 4.97954462e-05, 4.96580205e-05,\n",
       "        4.95211463e-05, 4.93848312e-05, 4.92408698e-05, 4.90975330e-05,\n",
       "        4.89548186e-05, 4.84301430e-05, 4.79136693e-05, 4.77859018e-05,\n",
       "        4.76587333e-05, 4.75320390e-05, 4.74036477e-05, 4.72757602e-05,\n",
       "        4.71483840e-05, 4.70142548e-05, 4.68806936e-05, 4.67476983e-05,\n",
       "        4.62431079e-05, 4.57464413e-05, 4.56235899e-05, 4.55013299e-05,\n",
       "        4.53795247e-05, 4.52591816e-05, 4.51393001e-05, 4.50198891e-05,\n",
       "        4.48952502e-05, 4.47711247e-05, 4.46475109e-05, 4.41700442e-05,\n",
       "        4.36999968e-05, 4.35837218e-05, 4.34680069e-05, 4.33527163e-05,\n",
       "        4.32400867e-05, 4.31278795e-05, 4.30161035e-05, 4.24320617e-05,\n",
       "        4.18597799e-05, 4.12989698e-05, 4.04724888e-05, 3.96705684e-05,\n",
       "        3.88922451e-05, 3.81365756e-05, 3.71629486e-05, 3.62260688e-05,\n",
       "        3.53241220e-05, 3.44554005e-05, 3.27654394e-05, 3.11966424e-05,\n",
       "        2.97376983e-05, 2.83786527e-05, 2.71105886e-05, 2.59255599e-05,\n",
       "        2.48164811e-05, 2.37770021e-05, 2.24801263e-05, 2.12863549e-05,\n",
       "        2.01852164e-05, 1.91669677e-05, 1.82246669e-05, 1.80634890e-05,\n",
       "        1.79043110e-05, 1.77474497e-05, 1.75927548e-05, 1.74400213e-05,\n",
       "        1.71404469e-05, 1.68484570e-05, 1.65638772e-05, 1.62864585e-05,\n",
       "        1.57320912e-05, 1.52055324e-05, 1.47049519e-05, 1.42286690e-05,\n",
       "        1.34600234e-05, 1.27519367e-05, 1.22146658e-05, 1.17106869e-05,\n",
       "        1.12373293e-05, 1.07919870e-05, 1.03724848e-05, 9.83566415e-06,\n",
       "        9.33926725e-06, 8.87986916e-06, 8.45292877e-06, 8.05690985e-06,\n",
       "        7.76217680e-06, 7.48229526e-06, 7.21810648e-06, 6.96848133e-06,\n",
       "        6.73036738e-06, 6.68074409e-06, 6.63182081e-06, 6.58344195e-06,\n",
       "        6.53556867e-06, 6.44137388e-06, 6.34919697e-06, 6.25898710e-06,\n",
       "        6.17068591e-06, 5.91673831e-06, 5.67813797e-06, 5.45367185e-06,\n",
       "        5.24225381e-06, 5.04289043e-06, 4.79649836e-06, 4.56772365e-06,\n",
       "        4.35492733e-06, 4.15665538e-06, 3.97161605e-06, 3.74542178e-06,\n",
       "        3.53799357e-06, 3.34734766e-06, 3.17163144e-06, 3.00959467e-06,\n",
       "        2.85912829e-06, 2.72008996e-06, 2.59133539e-06, 2.47077950e-06,\n",
       "        2.34528113e-06, 2.22908498e-06, 2.12126964e-06, 2.02109843e-06,\n",
       "        1.92785770e-06, 1.81184862e-06, 1.70590967e-06, 1.60926664e-06,\n",
       "        1.51977390e-06, 1.50498306e-06, 1.49022313e-06, 1.47546594e-06,\n",
       "        1.46097291e-06, 1.44672250e-06, 1.41883680e-06, 1.39173722e-06,\n",
       "        1.36956520e-06, 1.34871905e-06, 1.33026232e-06, 1.30994409e-06,\n",
       "        1.30627518e-06, 1.30303827e-06, 1.30006398e-06, 1.29707193e-06,\n",
       "        1.29402714e-06, 1.28933847e-06, 1.28474270e-06, 1.28017427e-06,\n",
       "        1.27561116e-06, 1.25859782e-06, 1.24191215e-06, 1.22556104e-06,\n",
       "        1.20177477e-06, 1.17867468e-06, 1.15624082e-06, 1.13443485e-06,\n",
       "        1.10256535e-06, 1.07201706e-06, 1.04272031e-06, 1.01460816e-06,\n",
       "        9.59735738e-07, 9.09194260e-07, 8.62540474e-07, 8.19388127e-07,\n",
       "        7.79394250e-07, 7.42258221e-07, 7.07714161e-07, 6.75526240e-07,\n",
       "        6.35164315e-07, 5.98308992e-07, 5.64580986e-07, 5.33590247e-07,\n",
       "        5.05198193e-07, 4.78661749e-07, 4.52205578e-07, 4.27739443e-07,\n",
       "        4.05172114e-07, 3.84364662e-07, 3.65112590e-07, 3.47271651e-07,\n",
       "        3.22023117e-07, 2.99432431e-07, 2.79136858e-07, 2.60836809e-07,\n",
       "        2.44278923e-07, 2.29248833e-07, 2.11745613e-07, 1.96176020e-07,\n",
       "        1.82252313e-07, 1.69799861e-07, 1.58442098e-07, 1.48678000e-07,\n",
       "        1.39063024e-07, 1.37660173e-07, 1.36231767e-07, 1.34791336e-07,\n",
       "        1.33386061e-07, 1.32002594e-07, 1.29298506e-07, 1.26673687e-07,\n",
       "        1.24129304e-07, 1.21661065e-07, 1.16531068e-07, 1.11718860e-07,\n",
       "        1.07198700e-07, 1.02947397e-07, 9.64423294e-08, 9.05342266e-08,\n",
       "        8.51525664e-08, 8.02372228e-08, 7.57354286e-08, 7.16021734e-08,\n",
       "        6.77982977e-08, 6.42896778e-08, 6.01315127e-08, 5.63633992e-08,\n",
       "        5.29403565e-08, 4.98145031e-08, 4.69728928e-08, 4.38940013e-08,\n",
       "        4.11154176e-08, 3.85927842e-08, 3.62952742e-08, 3.41970131e-08,\n",
       "        3.18711408e-08, 2.97753935e-08, 2.78793428e-08, 2.61590004e-08,\n",
       "        2.45910050e-08, 2.31641000e-08, 2.11642011e-08, 1.94139196e-08,\n",
       "        1.78721000e-08, 1.65068937e-08, 1.52923505e-08, 1.42070677e-08,\n",
       "        1.28322585e-08, 1.16477941e-08, 1.06199993e-08, 9.72248665e-09,\n",
       "        8.93412013e-09, 8.23788098e-09, 7.47313599e-09, 6.81043284e-09,\n",
       "        6.23125653e-09, 5.72626737e-09, 5.26960707e-09, 4.90033941e-09,\n",
       "        4.43431099e-09, 4.04779387e-09, 3.70989265e-09, 3.41246435e-09,\n",
       "        3.14948194e-09, 2.91574863e-09, 2.63812618e-09, 2.39834042e-09,\n",
       "        2.18981753e-09, 2.00735196e-09, 1.84677648e-09, 1.70472321e-09,\n",
       "        1.53382207e-09, 1.38738595e-09, 1.26095885e-09, 1.15105688e-09,\n",
       "        1.05492077e-09, 9.70342433e-10, 8.68469360e-10, 7.81833432e-10,\n",
       "        7.07540812e-10, 6.43355395e-10, 5.87523528e-10, 5.38654672e-10,\n",
       "        4.79657842e-10, 4.29846220e-10, 3.87407570e-10, 3.50957193e-10,\n",
       "        3.19419076e-10, 2.91947411e-10, 2.58613482e-10, 2.30677306e-10,\n",
       "        2.07033490e-10, 1.86847113e-10, 1.69475288e-10, 1.54417104e-10,\n",
       "        1.36008069e-10, 1.20703777e-10, 1.07843472e-10, 9.69343274e-11,\n",
       "        8.76004736e-11, 7.95517863e-11, 6.96244183e-11, 6.14447460e-11,\n",
       "        5.46254563e-11, 4.88817229e-11, 4.39984662e-11, 3.98113585e-11,\n",
       "        3.45985975e-11, 3.03457195e-11, 2.68308278e-11, 2.38933003e-11,\n",
       "        2.14130471e-11, 1.92993266e-11, 1.66441803e-11, 1.45017944e-11,\n",
       "        1.27462563e-11, 1.12919013e-11, 1.00730238e-11, 9.04091830e-12,\n",
       "        7.70971703e-12, 6.65255141e-12, 5.79739536e-12, 5.09774678e-12,\n",
       "        4.51757966e-12, 4.03069166e-12, 3.38856760e-12, 2.88879792e-12,\n",
       "        2.49065576e-12, 2.17012202e-12, 2.00244494e-12]),\n",
       " 'p2': array([ 0.00000000e+00,  9.99995000e-07,  1.99998500e-06,  6.49546954e-04,\n",
       "         1.29499622e-03,  1.93835350e-03,  5.60414721e-03,  8.54802562e-03,\n",
       "         1.14469974e-02,  1.43016331e-02,  1.71124947e-02,  2.26051062e-02,\n",
       "         2.79291770e-02,  3.30889326e-02,  3.80884878e-02,  4.29318459e-02,\n",
       "         5.98661055e-02,  7.48271167e-02,  8.79928079e-02,  9.95243447e-02,\n",
       "         1.09567957e-01,  1.18256483e-01,  1.29713122e-01,  1.38406417e-01,\n",
       "         1.44722789e-01,  1.48995838e-01,  1.51513999e-01,  1.52526974e-01,\n",
       "         1.52251225e-01,  1.50316068e-01,  1.46912329e-01,  1.42320161e-01,\n",
       "         1.36773701e-01,  1.30468640e-01,  1.23568478e-01,  1.16209713e-01,\n",
       "         1.06735312e-01,  9.69132445e-02,  8.68796418e-02,  7.67424045e-02,\n",
       "         6.65865445e-02,  5.64785647e-02,  4.31475511e-02,  3.00822908e-02,\n",
       "         1.73436957e-02,  4.97099360e-03, -7.01268832e-03, -1.85961177e-02,\n",
       "        -3.25167355e-02, -4.58157083e-02, -5.85109841e-02, -7.06264456e-02,\n",
       "        -8.21892481e-02, -9.32280482e-02, -1.06680631e-01, -1.19376437e-01,\n",
       "        -1.31372113e-01, -1.42720379e-01, -1.53469729e-01, -1.63664526e-01,\n",
       "        -1.73345149e-01, -1.82548287e-01, -1.91307275e-01, -2.02802641e-01,\n",
       "        -2.13570550e-01, -2.23675070e-01, -2.33172842e-01, -2.42114132e-01,\n",
       "        -2.50842399e-01, -2.59065510e-01, -2.66823380e-01, -2.74151880e-01,\n",
       "        -2.81083355e-01, -2.89590401e-01, -2.97527627e-01, -3.04946700e-01,\n",
       "        -3.11893455e-01, -3.18408665e-01, -3.24528768e-01, -3.30286402e-01,\n",
       "        -3.35710858e-01, -3.41260781e-01, -3.46478468e-01, -3.51391197e-01,\n",
       "        -3.56023465e-01, -3.60397324e-01, -3.64551890e-01, -3.68483908e-01,\n",
       "        -3.72209899e-01, -3.75744855e-01, -3.79102402e-01, -3.82353887e-01,\n",
       "        -3.85446027e-01, -3.88389741e-01, -3.91195005e-01, -3.93870950e-01,\n",
       "        -3.96453411e-01, -3.98920192e-01, -4.01278593e-01, -4.03535327e-01,\n",
       "        -4.05696585e-01, -4.07803935e-01, -4.09823873e-01, -4.11761537e-01,\n",
       "        -4.13621679e-01, -4.15408705e-01, -4.17140642e-01, -4.18806288e-01,\n",
       "        -4.20409256e-01, -4.21952910e-01, -4.23440381e-01, -4.24890623e-01,\n",
       "        -4.26289202e-01, -4.27638751e-01, -4.28941730e-01, -4.30200442e-01,\n",
       "        -4.31417044e-01, -4.32593557e-01, -4.33731878e-01, -4.34944464e-01,\n",
       "        -4.36115048e-01, -4.37245722e-01, -4.38338442e-01, -4.39563249e-01,\n",
       "        -4.40741943e-01, -4.41877020e-01, -4.42970798e-01, -4.44026027e-01,\n",
       "        -4.45044104e-01, -4.46026913e-01, -4.46976216e-01, -4.47907933e-01,\n",
       "        -4.48808398e-01, -4.49679125e-01, -4.50521535e-01, -4.51346703e-01,\n",
       "        -4.52145526e-01, -4.52919221e-01, -4.53668936e-01, -4.54400236e-01,\n",
       "        -4.55109379e-01, -4.55797341e-01, -4.56465039e-01, -4.57117454e-01,\n",
       "        -4.57751059e-01, -4.58366640e-01, -4.58964945e-01, -4.59549296e-01,\n",
       "        -4.60117602e-01, -4.60670505e-01, -4.61208613e-01, -4.61734679e-01,\n",
       "        -4.62246963e-01, -4.62745991e-01, -4.63232264e-01, -4.63707934e-01,\n",
       "        -4.64171694e-01, -4.64623980e-01, -4.65065208e-01, -4.65497157e-01,\n",
       "        -4.65918753e-01, -4.66330360e-01, -4.66732324e-01, -4.67126115e-01,\n",
       "        -4.67510857e-01, -4.67886855e-01, -4.68254400e-01, -4.68614727e-01,\n",
       "        -4.68967105e-01, -4.69311790e-01, -4.69649028e-01, -4.69979864e-01,\n",
       "        -4.70303681e-01, -4.70620698e-01, -4.70931125e-01, -4.71235852e-01,\n",
       "        -4.71534354e-01, -4.71826820e-01, -4.72113427e-01, -4.72394939e-01,\n",
       "        -4.72670908e-01, -4.72941495e-01, -4.73206853e-01, -4.73467641e-01,\n",
       "        -4.73723473e-01, -4.73974488e-01, -4.74220819e-01, -4.74463036e-01,\n",
       "        -4.74700806e-01, -4.74934249e-01, -4.75163481e-01, -4.75388997e-01,\n",
       "        -4.75610508e-01, -4.75828120e-01, -4.76041932e-01, -4.76252379e-01,\n",
       "        -4.76459208e-01, -4.76662511e-01, -4.76862375e-01, -4.77059182e-01,\n",
       "        -4.77252710e-01, -4.77443040e-01, -4.77630249e-01, -4.77814673e-01,\n",
       "        -4.77996116e-01, -4.78174651e-01, -4.78350345e-01, -4.78523266e-01,\n",
       "        -4.78693478e-01, -4.78861043e-01, -4.79026023e-01, -4.79188476e-01,\n",
       "        -4.79348460e-01, -4.79513842e-01, -4.79676624e-01, -4.79836866e-01,\n",
       "        -4.80000610e-01, -4.80161744e-01, -4.80320330e-01, -4.80484123e-01,\n",
       "        -4.80645240e-01, -4.80803746e-01, -4.80955497e-01, -4.81104890e-01,\n",
       "        -4.81251982e-01, -4.81399226e-01, -4.81544198e-01, -4.81686950e-01,\n",
       "        -4.81826356e-01, -4.81963676e-01, -4.82098956e-01, -4.82234024e-01,\n",
       "        -4.82367089e-01, -4.82498193e-01, -4.82626300e-01, -4.82752563e-01,\n",
       "        -4.82877020e-01, -4.83000635e-01, -4.83122495e-01, -4.83242635e-01,\n",
       "        -4.83360642e-01, -4.83477013e-01, -4.83591782e-01, -4.83705592e-01,\n",
       "        -4.83817847e-01, -4.83928579e-01, -4.84037517e-01, -4.84145000e-01,\n",
       "        -4.84251058e-01, -4.84356085e-01, -4.84459733e-01, -4.84562027e-01,\n",
       "        -4.84662848e-01, -4.84762371e-01, -4.84860621e-01, -4.84957867e-01,\n",
       "        -4.85053880e-01, -4.85148686e-01, -4.85242223e-01, -4.85334598e-01,\n",
       "        -4.85425833e-01, -4.85516111e-01, -4.85605286e-01, -4.85693378e-01,\n",
       "        -4.85780368e-01, -4.85866314e-01, -4.85951235e-01, -4.86035264e-01,\n",
       "        -4.86118301e-01, -4.86200363e-01, -4.86281452e-01, -4.86361601e-01,\n",
       "        -4.86440825e-01, -4.86519223e-01, -4.86596727e-01, -4.86673350e-01,\n",
       "        -4.86749106e-01, -4.86824012e-01, -4.86898081e-01, -4.86971391e-01,\n",
       "        -4.87043891e-01, -4.87115593e-01, -4.87186516e-01, -4.87256668e-01,\n",
       "        -4.87326061e-01, -4.87394757e-01, -4.87462716e-01, -4.87529952e-01,\n",
       "        -4.87596483e-01, -4.87662312e-01, -4.87727451e-01, -4.87791950e-01,\n",
       "        -4.87855779e-01, -4.87918948e-01, -4.87981477e-01, -4.88043366e-01,\n",
       "        -4.88104625e-01, -4.88165297e-01, -4.88225356e-01, -4.88284813e-01,\n",
       "        -4.88343686e-01, -4.88401973e-01, -4.88459684e-01, -4.88516856e-01,\n",
       "        -4.88573467e-01, -4.88629526e-01, -4.88685051e-01, -4.88740038e-01,\n",
       "        -4.88794498e-01, -4.88848460e-01, -4.88901909e-01, -4.88954850e-01,\n",
       "        -4.89007301e-01, -4.89059258e-01, -4.89110730e-01, -4.89161744e-01,\n",
       "        -4.89212285e-01, -4.89262359e-01, -4.89311981e-01, -4.89361150e-01,\n",
       "        -4.89409871e-01, -4.89458169e-01, -4.89506031e-01, -4.89553462e-01,\n",
       "        -4.89600477e-01, -4.89647073e-01, -4.89693255e-01, -4.89739047e-01,\n",
       "        -4.89784435e-01, -4.89829426e-01, -4.89874031e-01, -4.89918249e-01,\n",
       "        -4.89962085e-01, -4.90005558e-01, -4.90048658e-01, -4.90091390e-01,\n",
       "        -4.90134641e-01, -4.90177518e-01, -4.90220026e-01, -4.90261914e-01,\n",
       "        -4.90303446e-01, -4.90344628e-01, -4.90386922e-01, -4.90428850e-01,\n",
       "        -4.90470415e-01, -4.90510250e-01, -4.90549755e-01, -4.90588933e-01,\n",
       "        -4.90629829e-01, -4.90670373e-01, -4.90710569e-01, -4.90748444e-01,\n",
       "        -4.90786013e-01, -4.90823280e-01, -4.90863370e-01, -4.90903113e-01,\n",
       "        -4.90942513e-01, -4.90977937e-01, -4.91013086e-01, -4.91047964e-01,\n",
       "        -4.91086385e-01, -4.91124479e-01, -4.91162251e-01, -4.91195865e-01,\n",
       "        -4.91229226e-01, -4.91262336e-01, -4.91300529e-01, -4.91338391e-01,\n",
       "        -4.91375926e-01, -4.91406997e-01, -4.91437845e-01, -4.91468473e-01,\n",
       "        -4.91503639e-01, -4.91538516e-01, -4.91573110e-01, -4.91603886e-01,\n",
       "        -4.91634439e-01, -4.91664772e-01, -4.91703052e-01, -4.91740984e-01,\n",
       "        -4.91778572e-01, -4.91804399e-01, -4.91830064e-01, -4.91855570e-01,\n",
       "        -4.91881463e-01, -4.91907192e-01, -4.91932759e-01, -4.91965971e-01,\n",
       "        -4.91998912e-01, -4.92031585e-01, -4.92061022e-01, -4.92090243e-01,\n",
       "        -4.92119251e-01, -4.92151979e-01, -4.92184437e-01, -4.92216629e-01,\n",
       "        -4.92244506e-01, -4.92272185e-01, -4.92299668e-01, -4.92332332e-01,\n",
       "        -4.92364720e-01, -4.92396838e-01, -4.92421908e-01, -4.92446814e-01,\n",
       "        -4.92471558e-01, -4.92500096e-01, -4.92528419e-01, -4.92556529e-01,\n",
       "        -4.92582295e-01, -4.92607883e-01, -4.92633296e-01, -4.92670873e-01,\n",
       "        -4.92708070e-01, -4.92744892e-01, -4.92762530e-01, -4.92780083e-01,\n",
       "        -4.92797551e-01, -4.92811106e-01, -4.92824611e-01, -4.92838065e-01,\n",
       "        -4.92855594e-01, -4.92873038e-01, -4.92890398e-01, -4.92931535e-01,\n",
       "        -4.92972201e-01, -4.93012403e-01, -4.93027807e-01, -4.93043145e-01,\n",
       "        -4.93058415e-01, -4.93071023e-01, -4.93083586e-01, -4.93096103e-01,\n",
       "        -4.93110735e-01, -4.93125306e-01, -4.93139815e-01, -4.93178843e-01,\n",
       "        -4.93217431e-01, -4.93255586e-01, -4.93269838e-01, -4.93284031e-01,\n",
       "        -4.93298164e-01, -4.93310066e-01, -4.93321926e-01, -4.93333744e-01,\n",
       "        -4.93347258e-01, -4.93360718e-01, -4.93374124e-01, -4.93412304e-01,\n",
       "        -4.93450048e-01, -4.93487365e-01, -4.93499386e-01, -4.93511362e-01,\n",
       "        -4.93523295e-01, -4.93535000e-01, -4.93546664e-01, -4.93558286e-01,\n",
       "        -4.93568592e-01, -4.93578866e-01, -4.93589108e-01, -4.93627510e-01,\n",
       "        -4.93665456e-01, -4.93674872e-01, -4.93684261e-01, -4.93693622e-01,\n",
       "        -4.93704002e-01, -4.93714348e-01, -4.93724661e-01, -4.93736704e-01,\n",
       "        -4.93748701e-01, -4.93760652e-01, -4.93794088e-01, -4.93827168e-01,\n",
       "        -4.93859899e-01, -4.93871599e-01, -4.93883256e-01, -4.93894868e-01,\n",
       "        -4.93904920e-01, -4.93914939e-01, -4.93924925e-01, -4.93936003e-01,\n",
       "        -4.93947040e-01, -4.93958037e-01, -4.93994249e-01, -4.94030031e-01,\n",
       "        -4.94038910e-01, -4.94047763e-01, -4.94056589e-01, -4.94066147e-01,\n",
       "        -4.94075675e-01, -4.94085172e-01, -4.94095602e-01, -4.94105996e-01,\n",
       "        -4.94116354e-01, -4.94147048e-01, -4.94177425e-01, -4.94207488e-01,\n",
       "        -4.94217802e-01, -4.94228079e-01, -4.94238320e-01, -4.94247387e-01,\n",
       "        -4.94256425e-01, -4.94265435e-01, -4.94275197e-01, -4.94284926e-01,\n",
       "        -4.94294622e-01, -4.94328667e-01, -4.94362308e-01, -4.94370657e-01,\n",
       "        -4.94378981e-01, -4.94387280e-01, -4.94395934e-01, -4.94404561e-01,\n",
       "        -4.94413162e-01, -4.94422364e-01, -4.94431536e-01, -4.94440679e-01,\n",
       "        -4.94469513e-01, -4.94498050e-01, -4.94526295e-01, -4.94535384e-01,\n",
       "        -4.94544444e-01, -4.94553474e-01, -4.94561689e-01, -4.94569879e-01,\n",
       "        -4.94578045e-01, -4.94586655e-01, -4.94595238e-01, -4.94603794e-01,\n",
       "        -4.94633615e-01, -4.94663108e-01, -4.94670431e-01, -4.94677734e-01,\n",
       "        -4.94685017e-01, -4.94692754e-01, -4.94700468e-01, -4.94708159e-01,\n",
       "        -4.94716445e-01, -4.94724706e-01, -4.94732940e-01, -4.94761760e-01,\n",
       "        -4.94790267e-01, -4.94797346e-01, -4.94804405e-01, -4.94811445e-01,\n",
       "        -4.94818838e-01, -4.94826210e-01, -4.94833561e-01, -4.94841447e-01,\n",
       "        -4.94849308e-01, -4.94857145e-01, -4.94885682e-01, -4.94913904e-01,\n",
       "        -4.94920911e-01, -4.94927899e-01, -4.94934868e-01, -4.94941968e-01,\n",
       "        -4.94949049e-01, -4.94956110e-01, -4.94963578e-01, -4.94971023e-01,\n",
       "        -4.94978446e-01, -4.95005826e-01, -4.95032909e-01, -4.95039634e-01,\n",
       "        -4.95046341e-01, -4.95053030e-01, -4.95059815e-01, -4.95066582e-01,\n",
       "        -4.95073330e-01, -4.95080445e-01, -4.95087540e-01, -4.95094615e-01,\n",
       "        -4.95121543e-01, -4.95148177e-01, -4.95154791e-01, -4.95161386e-01,\n",
       "        -4.95167964e-01, -4.95174469e-01, -4.95180956e-01, -4.95187426e-01,\n",
       "        -4.95194188e-01, -4.95200931e-01, -4.95207655e-01, -4.95233710e-01,\n",
       "        -4.95259484e-01, -4.95265884e-01, -4.95272267e-01, -4.95278633e-01,\n",
       "        -4.95284857e-01, -4.95291065e-01, -4.95297257e-01, -4.95329737e-01,\n",
       "        -4.95361773e-01, -4.95393374e-01, -4.95440326e-01, -4.95486331e-01,\n",
       "        -4.95531419e-01, -4.95575618e-01, -4.95633198e-01, -4.95689302e-01,\n",
       "        -4.95743986e-01, -4.95797303e-01, -4.95902935e-01, -4.96003401e-01,\n",
       "        -4.96099069e-01, -4.96190271e-01, -4.96277313e-01, -4.96360474e-01,\n",
       "        -4.96440006e-01, -4.96516143e-01, -4.96613459e-01, -4.96705494e-01,\n",
       "        -4.96792666e-01, -4.96875350e-01, -4.96953886e-01, -4.96967495e-01,\n",
       "        -4.96980982e-01, -4.96994351e-01, -4.97007602e-01, -4.97020737e-01,\n",
       "        -4.97046664e-01, -4.97072144e-01, -4.97097189e-01, -4.97121810e-01,\n",
       "        -4.97171635e-01, -4.97219767e-01, -4.97266290e-01, -4.97311283e-01,\n",
       "        -4.97385489e-01, -4.97455718e-01, -4.97510290e-01, -4.97562571e-01,\n",
       "        -4.97612705e-01, -4.97660820e-01, -4.97707036e-01, -4.97767568e-01,\n",
       "        -4.97824989e-01, -4.97879534e-01, -4.97931412e-01, -4.97980816e-01,\n",
       "        -4.98018335e-01, -4.98054486e-01, -4.98089343e-01, -4.98122975e-01,\n",
       "        -4.98155443e-01, -4.98162273e-01, -4.98169053e-01, -4.98175783e-01,\n",
       "        -4.98182464e-01, -4.98195680e-01, -4.98208705e-01, -4.98221544e-01,\n",
       "        -4.98234200e-01, -4.98271107e-01, -4.98306504e-01, -4.98340482e-01,\n",
       "        -4.98373124e-01, -4.98404508e-01, -4.98444157e-01, -4.98481885e-01,\n",
       "        -4.98517827e-01, -4.98552108e-01, -4.98584841e-01, -4.98625899e-01,\n",
       "        -4.98664643e-01, -4.98701263e-01, -4.98735930e-01, -4.98768795e-01,\n",
       "        -4.98799996e-01, -4.98829655e-01, -4.98857885e-01, -4.98884785e-01,\n",
       "        -4.98913584e-01, -4.98940933e-01, -4.98966941e-01, -4.98991702e-01,\n",
       "        -4.99015305e-01, -4.99045487e-01, -4.99073875e-01, -4.99100624e-01,\n",
       "        -4.99125870e-01, -4.99130247e-01, -4.99134579e-01, -4.99138869e-01,\n",
       "        -4.99143116e-01, -4.99147321e-01, -4.99155610e-01, -4.99163738e-01,\n",
       "        -4.99170189e-01, -4.99176542e-01, -4.99182800e-01, -4.99188962e-01,\n",
       "        -4.99189910e-01, -4.99190857e-01, -4.99191803e-01, -4.99192745e-01,\n",
       "        -4.99193686e-01, -4.99195137e-01, -4.99196582e-01, -4.99198022e-01,\n",
       "        -4.99199457e-01, -4.99204828e-01, -4.99210127e-01, -4.99215356e-01,\n",
       "        -4.99223025e-01, -4.99230545e-01, -4.99237921e-01, -4.99245156e-01,\n",
       "        -4.99255860e-01, -4.99266264e-01, -4.99276381e-01, -4.99286223e-01,\n",
       "        -4.99305834e-01, -4.99324396e-01, -4.99341993e-01, -4.99358696e-01,\n",
       "        -4.99374573e-01, -4.99389682e-01, -4.99404078e-01, -4.99417812e-01,\n",
       "        -4.99435503e-01, -4.99452151e-01, -4.99467845e-01, -4.99482665e-01,\n",
       "        -4.99496682e-01, -4.99509960e-01, -4.99523812e-01, -4.99536903e-01,\n",
       "        -4.99549293e-01, -4.99561038e-01, -4.99572186e-01, -4.99582782e-01,\n",
       "        -4.99598254e-01, -4.99612619e-01, -4.99625992e-01, -4.99638474e-01,\n",
       "        -4.99650149e-01, -4.99661094e-01, -4.99674300e-01, -4.99686515e-01,\n",
       "        -4.99697848e-01, -4.99708390e-01, -4.99718221e-01, -4.99727412e-01,\n",
       "        -4.99736021e-01, -4.99737425e-01, -4.99738814e-01, -4.99740189e-01,\n",
       "        -4.99741549e-01, -4.99742895e-01, -4.99745546e-01, -4.99748142e-01,\n",
       "        -4.99750686e-01, -4.99753179e-01, -4.99758443e-01, -4.99763486e-01,\n",
       "        -4.99768324e-01, -4.99772967e-01, -4.99780262e-01, -4.99787103e-01,\n",
       "        -4.99793532e-01, -4.99799584e-01, -4.99805290e-01, -4.99810681e-01,\n",
       "        -4.99815781e-01, -4.99820614e-01, -4.99826516e-01, -4.99832042e-01,\n",
       "        -4.99837226e-01, -4.99842101e-01, -4.99846692e-01, -4.99851789e-01,\n",
       "        -4.99856559e-01, -4.99861031e-01, -4.99865232e-01, -4.99869188e-01,\n",
       "        -4.99873716e-01, -4.99877941e-01, -4.99881893e-01, -4.99885597e-01,\n",
       "        -4.99889076e-01, -4.99892349e-01, -4.99897099e-01, -4.99901447e-01,\n",
       "        -4.99905442e-01, -4.99909127e-01, -4.99912535e-01, -4.99915696e-01,\n",
       "        -4.99919880e-01, -4.99923668e-01, -4.99927114e-01, -4.99930263e-01,\n",
       "        -4.99933150e-01, -4.99935809e-01, -4.99938860e-01, -4.99941635e-01,\n",
       "        -4.99944169e-01, -4.99946492e-01, -4.99948630e-01, -4.99950603e-01,\n",
       "        -4.99952907e-01, -4.99955006e-01, -4.99956926e-01, -4.99958688e-01,\n",
       "        -4.99960312e-01, -4.99961813e-01, -4.99963677e-01, -4.99965367e-01,\n",
       "        -4.99966907e-01, -4.99968316e-01, -4.99969610e-01, -4.99970802e-01,\n",
       "        -4.99972305e-01, -4.99973660e-01, -4.99974889e-01, -4.99976008e-01,\n",
       "        -4.99977032e-01, -4.99977972e-01, -4.99979160e-01, -4.99980227e-01,\n",
       "        -4.99981190e-01, -4.99982064e-01, -4.99982860e-01, -4.99983588e-01,\n",
       "        -4.99984513e-01, -4.99985339e-01, -4.99986082e-01, -4.99986753e-01,\n",
       "        -4.99987362e-01, -4.99987918e-01, -4.99988628e-01, -4.99989260e-01,\n",
       "        -4.99989825e-01, -4.99990334e-01, -4.99990794e-01, -4.99991213e-01,\n",
       "        -4.99991753e-01, -4.99992231e-01, -4.99992657e-01, -4.99993038e-01,\n",
       "        -4.99993382e-01, -4.99993693e-01, -4.99994100e-01, -4.99994457e-01,\n",
       "        -4.99994774e-01, -4.99995056e-01, -4.99995310e-01, -4.99995538e-01,\n",
       "        -4.99995841e-01, -4.99996105e-01, -4.99996337e-01, -4.99996544e-01,\n",
       "        -4.99996728e-01, -4.99996894e-01, -4.99997115e-01, -4.99997307e-01,\n",
       "        -4.99997475e-01, -4.99997624e-01, -4.99997756e-01, -4.99997874e-01,\n",
       "        -4.99998037e-01, -4.99998176e-01, -4.99998297e-01, -4.99998403e-01,\n",
       "        -4.99998497e-01, -4.99998580e-01, -4.99998698e-01, -4.99998798e-01,\n",
       "        -4.99998884e-01, -4.99998958e-01, -4.99998999e-01]),\n",
       " 'p3': array([2.00000000e+00, 1.99999900e+00, 1.99999800e+00, 1.99934982e+00,\n",
       "        1.99870248e+00, 1.99805597e+00, 1.99434778e+00, 1.99133891e+00,\n",
       "        1.98834804e+00, 1.98537495e+00, 1.98241943e+00, 1.97656026e+00,\n",
       "        1.97076890e+00, 1.96504377e+00, 1.95938333e+00, 1.95378609e+00,\n",
       "        1.93321182e+00, 1.91344531e+00, 1.89442200e+00, 1.87608407e+00,\n",
       "        1.85837960e+00, 1.84126185e+00, 1.81479377e+00, 1.78958722e+00,\n",
       "        1.76550956e+00, 1.74244693e+00, 1.72030112e+00, 1.69898714e+00,\n",
       "        1.67843107e+00, 1.65313670e+00, 1.62886151e+00, 1.60550671e+00,\n",
       "        1.58298797e+00, 1.56123292e+00, 1.54017914e+00, 1.51977251e+00,\n",
       "        1.49558763e+00, 1.47222871e+00, 1.44963174e+00, 1.42774159e+00,\n",
       "        1.40651044e+00, 1.38589655e+00, 1.35927833e+00, 1.33361922e+00,\n",
       "        1.30885409e+00, 1.28492633e+00, 1.26178632e+00, 1.23939005e+00,\n",
       "        1.21236652e+00, 1.18637648e+00, 1.16135894e+00, 1.13725910e+00,\n",
       "        1.11402732e+00, 1.09161825e+00, 1.06398327e+00, 1.03755567e+00,\n",
       "        1.01226201e+00, 9.88035064e-01, 9.64812980e-01, 9.42538674e-01,\n",
       "        9.21159281e-01, 9.00625729e-01, 8.80892369e-01, 8.54708775e-01,\n",
       "        8.29884584e-01, 8.06323909e-01, 7.83939222e-01, 7.62650486e-01,\n",
       "        7.41662896e-01, 7.21699287e-01, 7.02691185e-01, 6.84575786e-01,\n",
       "        6.67295399e-01, 6.45886486e-01, 6.25705322e-01, 6.06654917e-01,\n",
       "        5.88647792e-01, 5.71604881e-01, 5.55454583e-01, 5.40131933e-01,\n",
       "        5.25577873e-01, 5.10564715e-01, 4.96333671e-01, 4.82827788e-01,\n",
       "        4.69995321e-01, 4.57789171e-01, 4.46112190e-01, 4.34984374e-01,\n",
       "        4.24369327e-01, 4.14233701e-01, 4.04546896e-01, 3.95109212e-01,\n",
       "        3.86080946e-01, 3.77436908e-01, 3.69153878e-01, 3.61210423e-01,\n",
       "        3.53504585e-01, 3.46106641e-01, 3.38999047e-01, 3.32165539e-01,\n",
       "        3.25591015e-01, 3.19151624e-01, 3.12952163e-01, 3.06979828e-01,\n",
       "        3.01222690e-01, 2.95669625e-01, 2.90266667e-01, 2.85050669e-01,\n",
       "        2.80012327e-01, 2.75142936e-01, 2.70434337e-01, 2.65827865e-01,\n",
       "        2.61370616e-01, 2.57055617e-01, 2.52876315e-01, 2.48826545e-01,\n",
       "        2.44900507e-01, 2.41092733e-01, 2.37398069e-01, 2.33450892e-01,\n",
       "        2.29629104e-01, 2.25926934e-01, 2.22338961e-01, 2.18305381e-01,\n",
       "        2.14411677e-01, 2.10650829e-01, 2.07016272e-01, 2.03499913e-01,\n",
       "        2.00098067e-01, 1.96805324e-01, 1.93616605e-01, 1.90479032e-01,\n",
       "        1.87439173e-01, 1.84492607e-01, 1.81635169e-01, 1.78829785e-01,\n",
       "        1.76107857e-01, 1.73465771e-01, 1.70900115e-01, 1.68392260e-01,\n",
       "        1.65955433e-01, 1.63586701e-01, 1.61283288e-01, 1.59028335e-01,\n",
       "        1.56834344e-01, 1.54698909e-01, 1.52619746e-01, 1.50585572e-01,\n",
       "        1.48603912e-01, 1.46672783e-01, 1.44790302e-01, 1.42947048e-01,\n",
       "        1.41149314e-01, 1.39395456e-01, 1.37683905e-01, 1.36007255e-01,\n",
       "        1.34370269e-01, 1.32771572e-01, 1.31209852e-01, 1.29678941e-01,\n",
       "        1.28182774e-01, 1.26720196e-01, 1.25290100e-01, 1.23887364e-01,\n",
       "        1.22515213e-01, 1.21172668e-01, 1.19858790e-01, 1.18569254e-01,\n",
       "        1.17306766e-01, 1.16070493e-01, 1.14859635e-01, 1.13670517e-01,\n",
       "        1.12505424e-01, 1.11363643e-01, 1.10244487e-01, 1.09144810e-01,\n",
       "        1.08066561e-01, 1.07009124e-01, 1.05971909e-01, 1.04952207e-01,\n",
       "        1.03951689e-01, 1.02969822e-01, 1.02006096e-01, 1.01058165e-01,\n",
       "        1.00127471e-01, 9.92135518e-02, 9.83159617e-02, 9.74326622e-02,\n",
       "        9.65649027e-02, 9.57122801e-02, 9.48744048e-02, 9.40494961e-02,\n",
       "        9.32386424e-02, 9.24414904e-02, 9.16576983e-02, 9.08857043e-02,\n",
       "        9.01264605e-02, 8.93796559e-02, 8.86449897e-02, 8.79210866e-02,\n",
       "        8.72087830e-02, 8.65078042e-02, 8.58178842e-02, 8.51378079e-02,\n",
       "        8.44683125e-02, 8.38091546e-02, 8.31600983e-02, 8.25209149e-02,\n",
       "        8.18913823e-02, 8.12712851e-02, 8.06604141e-02, 8.00585664e-02,\n",
       "        7.94655448e-02, 7.88521782e-02, 7.82481161e-02, 7.76531496e-02,\n",
       "        7.70448527e-02, 7.64459218e-02, 7.58561435e-02, 7.52466613e-02,\n",
       "        7.46468046e-02, 7.40563487e-02, 7.34907608e-02, 7.29336685e-02,\n",
       "        7.23848830e-02, 7.18352490e-02, 7.12938254e-02, 7.07604307e-02,\n",
       "        7.02392854e-02, 6.97256941e-02, 6.92194946e-02, 6.87138500e-02,\n",
       "        6.82154767e-02, 6.77242201e-02, 6.72439789e-02, 6.67704443e-02,\n",
       "        6.63034776e-02, 6.58394689e-02, 6.53818569e-02, 6.49305111e-02,\n",
       "        6.44869948e-02, 6.40494483e-02, 6.36177525e-02, 6.31894944e-02,\n",
       "        6.27669187e-02, 6.23499137e-02, 6.19395069e-02, 6.15344264e-02,\n",
       "        6.11345698e-02, 6.07384501e-02, 6.03473922e-02, 5.99613003e-02,\n",
       "        5.95806335e-02, 5.92047342e-02, 5.88335136e-02, 5.84659621e-02,\n",
       "        5.81029414e-02, 5.77443686e-02, 5.73904756e-02, 5.70408633e-02,\n",
       "        5.66954547e-02, 5.63535598e-02, 5.60157349e-02, 5.56819084e-02,\n",
       "        5.53521537e-02, 5.50262551e-02, 5.47041456e-02, 5.43853260e-02,\n",
       "        5.40701761e-02, 5.37586332e-02, 5.34506958e-02, 5.31462429e-02,\n",
       "        5.28452159e-02, 5.25472419e-02, 5.22525876e-02, 5.19611981e-02,\n",
       "        5.16730289e-02, 5.13880180e-02, 5.11061140e-02, 5.08270265e-02,\n",
       "        5.05509515e-02, 5.02778407e-02, 5.00076304e-02, 4.97402910e-02,\n",
       "        4.94757772e-02, 4.92138559e-02, 4.89546763e-02, 4.86981957e-02,\n",
       "        4.84443428e-02, 4.81931068e-02, 4.79444477e-02, 4.76981728e-02,\n",
       "        4.74544001e-02, 4.72130918e-02, 4.69741755e-02, 4.67376510e-02,\n",
       "        4.65034827e-02, 4.62715077e-02, 4.60418223e-02, 4.58143929e-02,\n",
       "        4.55891495e-02, 4.53660976e-02, 4.51452055e-02, 4.49263329e-02,\n",
       "        4.47095606e-02, 4.44948586e-02, 4.42821610e-02, 4.40714761e-02,\n",
       "        4.38627756e-02, 4.36559372e-02, 4.34510299e-02, 4.32480268e-02,\n",
       "        4.30468669e-02, 4.28475596e-02, 4.26500797e-02, 4.24543194e-02,\n",
       "        4.22603386e-02, 4.20681130e-02, 4.18775867e-02, 4.16887695e-02,\n",
       "        4.15016385e-02, 4.13160982e-02, 4.11322010e-02, 4.09499253e-02,\n",
       "        4.07692197e-02, 4.05900939e-02, 4.04125274e-02, 4.02364347e-02,\n",
       "        4.00618622e-02, 3.98887906e-02, 3.97171729e-02, 3.95470184e-02,\n",
       "        3.93783084e-02, 3.92109663e-02, 3.90450336e-02, 3.88804925e-02,\n",
       "        3.87139265e-02, 3.85487747e-02, 3.83850193e-02, 3.82236261e-02,\n",
       "        3.80635780e-02, 3.79048582e-02, 3.77418233e-02, 3.75801783e-02,\n",
       "        3.74199055e-02, 3.72662824e-02, 3.71139096e-02, 3.69627721e-02,\n",
       "        3.68049878e-02, 3.66485388e-02, 3.64934081e-02, 3.63472123e-02,\n",
       "        3.62021779e-02, 3.60582912e-02, 3.59034817e-02, 3.57499899e-02,\n",
       "        3.55977992e-02, 3.54609486e-02, 3.53251416e-02, 3.51903662e-02,\n",
       "        3.50418786e-02, 3.48946333e-02, 3.47486150e-02, 3.46186501e-02,\n",
       "        3.44896496e-02, 3.43616028e-02, 3.42138787e-02, 3.40674140e-02,\n",
       "        3.39221926e-02, 3.38019694e-02, 3.36825917e-02, 3.35640508e-02,\n",
       "        3.34279337e-02, 3.32929116e-02, 3.31589714e-02, 3.30397994e-02,\n",
       "        3.29214774e-02, 3.28039964e-02, 3.26557121e-02, 3.25087569e-02,\n",
       "        3.23631132e-02, 3.22630313e-02, 3.21635640e-02, 3.20647057e-02,\n",
       "        3.19643393e-02, 3.18645968e-02, 3.17654724e-02, 3.16366932e-02,\n",
       "        3.15089500e-02, 3.13822302e-02, 3.12680475e-02, 3.11546894e-02,\n",
       "        3.10421471e-02, 3.09151582e-02, 3.07892001e-02, 3.06642603e-02,\n",
       "        3.05560541e-02, 3.04486059e-02, 3.03419080e-02, 3.02150824e-02,\n",
       "        3.00893088e-02, 2.99645740e-02, 2.98671968e-02, 2.97704482e-02,\n",
       "        2.96743220e-02, 2.95634463e-02, 2.94533931e-02, 2.93441532e-02,\n",
       "        2.92440167e-02, 2.91445587e-02, 2.90457726e-02, 2.88996858e-02,\n",
       "        2.87550559e-02, 2.86118613e-02, 2.85432646e-02, 2.84749949e-02,\n",
       "        2.84070498e-02, 2.83543216e-02, 2.83017880e-02, 2.82494481e-02,\n",
       "        2.81812489e-02, 2.81133770e-02, 2.80458301e-02, 2.78857448e-02,\n",
       "        2.77274703e-02, 2.75709763e-02, 2.75110060e-02, 2.74512951e-02,\n",
       "        2.73918420e-02, 2.73427489e-02, 2.72938308e-02, 2.72450869e-02,\n",
       "        2.71881048e-02, 2.71313597e-02, 2.70748502e-02, 2.69228308e-02,\n",
       "        2.67725032e-02, 2.66238396e-02, 2.65683046e-02, 2.65129999e-02,\n",
       "        2.64579243e-02, 2.64115398e-02, 2.63653171e-02, 2.63192554e-02,\n",
       "        2.62665799e-02, 2.62141141e-02, 2.61618569e-02, 2.60130080e-02,\n",
       "        2.58658378e-02, 2.57203183e-02, 2.56734368e-02, 2.56267253e-02,\n",
       "        2.55801830e-02, 2.55345243e-02, 2.54890279e-02, 2.54436928e-02,\n",
       "        2.54034852e-02, 2.53634042e-02, 2.53234490e-02, 2.51736135e-02,\n",
       "        2.50255352e-02, 2.49887871e-02, 2.49521465e-02, 2.49156129e-02,\n",
       "        2.48750976e-02, 2.48347135e-02, 2.47944599e-02, 2.47474501e-02,\n",
       "        2.47006177e-02, 2.46539616e-02, 2.45234196e-02, 2.43942486e-02,\n",
       "        2.42664271e-02, 2.42207306e-02, 2.41752053e-02, 2.41298503e-02,\n",
       "        2.40905874e-02, 2.40514516e-02, 2.40124425e-02, 2.39691682e-02,\n",
       "        2.39260491e-02, 2.38830844e-02, 2.37415977e-02, 2.36017726e-02,\n",
       "        2.35670731e-02, 2.35324752e-02, 2.34979784e-02, 2.34606217e-02,\n",
       "        2.34233832e-02, 2.33862624e-02, 2.33454903e-02, 2.33048598e-02,\n",
       "        2.32643700e-02, 2.31443706e-02, 2.30255992e-02, 2.29080372e-02,\n",
       "        2.28677045e-02, 2.28275132e-02, 2.27874625e-02, 2.27520017e-02,\n",
       "        2.27166507e-02, 2.26814092e-02, 2.26432249e-02, 2.26051686e-02,\n",
       "        2.25672397e-02, 2.24340498e-02, 2.23024186e-02, 2.22697516e-02,\n",
       "        2.22371800e-02, 2.22047032e-02, 2.21708385e-02, 2.21370767e-02,\n",
       "        2.21034173e-02, 2.20674008e-02, 2.20315011e-02, 2.19957178e-02,\n",
       "        2.18828519e-02, 2.17711353e-02, 2.16605505e-02, 2.16249611e-02,\n",
       "        2.15894882e-02, 2.15541312e-02, 2.15219631e-02, 2.14898906e-02,\n",
       "        2.14579133e-02, 2.14241937e-02, 2.13905797e-02, 2.13570706e-02,\n",
       "        2.12402708e-02, 2.11247382e-02, 2.10960510e-02, 2.10674415e-02,\n",
       "        2.10389092e-02, 2.10085995e-02, 2.09783767e-02, 2.09482406e-02,\n",
       "        2.09157744e-02, 2.08834085e-02, 2.08511423e-02, 2.07382059e-02,\n",
       "        2.06264832e-02, 2.05987402e-02, 2.05710716e-02, 2.05434770e-02,\n",
       "        2.05144992e-02, 2.04856028e-02, 2.04567874e-02, 2.04258767e-02,\n",
       "        2.03950591e-02, 2.03643341e-02, 2.02524557e-02, 2.01417967e-02,\n",
       "        2.01143206e-02, 2.00869192e-02, 2.00595921e-02, 2.00317466e-02,\n",
       "        2.00039781e-02, 1.99762863e-02, 1.99470008e-02, 1.99178008e-02,\n",
       "        1.98886860e-02, 1.97812935e-02, 1.96750518e-02, 1.96486693e-02,\n",
       "        1.96223574e-02, 1.95961156e-02, 1.95694951e-02, 1.95429466e-02,\n",
       "        1.95164699e-02, 1.94885518e-02, 1.94607134e-02, 1.94329541e-02,\n",
       "        1.93272855e-02, 1.92227571e-02, 1.91968013e-02, 1.91709154e-02,\n",
       "        1.91450990e-02, 1.91195679e-02, 1.90941045e-02, 1.90687088e-02,\n",
       "        1.90421663e-02, 1.90156974e-02, 1.89893018e-02, 1.88870141e-02,\n",
       "        1.87858199e-02, 1.87606906e-02, 1.87356281e-02, 1.87106324e-02,\n",
       "        1.86861910e-02, 1.86618133e-02, 1.86374988e-02, 1.85099449e-02,\n",
       "        1.83841175e-02, 1.82599844e-02, 1.80755206e-02, 1.78947468e-02,\n",
       "        1.77175448e-02, 1.75438083e-02, 1.73174260e-02, 1.70967993e-02,\n",
       "        1.68817120e-02, 1.66719581e-02, 1.62562619e-02, 1.58607395e-02,\n",
       "        1.54839652e-02, 1.51246464e-02, 1.47816007e-02, 1.44537460e-02,\n",
       "        1.41400946e-02, 1.38397437e-02, 1.34557135e-02, 1.30923907e-02,\n",
       "        1.27481459e-02, 1.24215128e-02, 1.21111730e-02, 1.20573872e-02,\n",
       "        1.20040762e-02, 1.19512339e-02, 1.18988541e-02, 1.18469308e-02,\n",
       "        1.17444299e-02, 1.16436851e-02, 1.15446517e-02, 1.14472864e-02,\n",
       "        1.12502194e-02, 1.10598155e-02, 1.08757413e-02, 1.06976861e-02,\n",
       "        1.04039587e-02, 1.01258947e-02, 9.90977015e-03, 9.70267171e-03,\n",
       "        9.50404445e-03, 9.31337736e-03, 9.13020104e-03, 8.89023354e-03,\n",
       "        8.66254320e-03, 8.44621310e-03, 8.24041460e-03, 8.04439718e-03,\n",
       "        7.89550714e-03, 7.75202354e-03, 7.61365707e-03, 7.48013895e-03,\n",
       "        7.35121890e-03, 7.32409707e-03, 7.29717447e-03, 7.27044889e-03,\n",
       "        7.24391819e-03, 7.19143299e-03, 7.13970224e-03, 7.08870977e-03,\n",
       "        7.03843990e-03, 6.89183438e-03, 6.75120496e-03, 6.61619440e-03,\n",
       "        6.48647394e-03, 6.36173910e-03, 6.20413336e-03, 6.05414183e-03,\n",
       "        5.91122616e-03, 5.77489772e-03, 5.64471166e-03, 5.48138639e-03,\n",
       "        5.32724254e-03, 5.18152718e-03, 5.04356590e-03, 4.91275521e-03,\n",
       "        4.78855410e-03, 4.67047490e-03, 4.55807603e-03, 4.45095703e-03,\n",
       "        4.33626586e-03, 4.22733340e-03, 4.12373664e-03, 4.02509337e-03,\n",
       "        3.93105697e-03, 3.81079149e-03, 3.69766480e-03, 3.59105957e-03,\n",
       "        3.49042611e-03, 3.47298311e-03, 3.45571348e-03, 3.43861470e-03,\n",
       "        3.42168422e-03, 3.40491958e-03, 3.37187813e-03, 3.33947149e-03,\n",
       "        3.31375110e-03, 3.28842375e-03, 3.26348047e-03, 3.23891258e-03,\n",
       "        3.23512695e-03, 3.23135016e-03, 3.22758217e-03, 3.22382296e-03,\n",
       "        3.22007248e-03, 3.21428851e-03, 3.20852526e-03, 3.20278264e-03,\n",
       "        3.19706053e-03, 3.17564676e-03, 3.15451720e-03, 3.13366665e-03,\n",
       "        3.10308727e-03, 3.07310004e-03, 3.04368656e-03, 3.01483030e-03,\n",
       "        2.97214494e-03, 2.93065102e-03, 2.89029935e-03, 2.85104337e-03,\n",
       "        2.77282180e-03, 2.69877316e-03, 2.62857389e-03, 2.56193364e-03,\n",
       "        2.49858889e-03, 2.43830056e-03, 2.38085220e-03, 2.32604773e-03,\n",
       "        2.25544493e-03, 2.18900173e-03, 2.12636108e-03, 2.06720471e-03,\n",
       "        2.01124934e-03, 1.95824239e-03, 1.90294092e-03, 1.85067670e-03,\n",
       "        1.80120597e-03, 1.75431050e-03, 1.70979440e-03, 1.66748120e-03,\n",
       "        1.60569644e-03, 1.54832624e-03, 1.49491341e-03, 1.44506198e-03,\n",
       "        1.39842738e-03, 1.35470818e-03, 1.30195368e-03, 1.25315357e-03,\n",
       "        1.20787892e-03, 1.16576088e-03, 1.12648061e-03, 1.08976081e-03,\n",
       "        1.05535907e-03, 1.04974867e-03, 1.04419759e-03, 1.03870491e-03,\n",
       "        1.03326971e-03, 1.02789108e-03, 1.01730008e-03, 1.00692511e-03,\n",
       "        9.96759610e-04, 9.86797292e-04, 9.65763313e-04, 9.45607615e-04,\n",
       "        9.26276038e-04, 9.07718909e-04, 8.78565692e-04, 8.51223781e-04,\n",
       "        8.25531210e-04, 8.01344828e-04, 7.78536118e-04, 7.56990081e-04,\n",
       "        7.36604324e-04, 7.17287556e-04, 6.93696671e-04, 6.71607869e-04,\n",
       "        6.50882348e-04, 6.31397744e-04, 6.13045814e-04, 5.92667928e-04,\n",
       "        5.73600991e-04, 5.55722588e-04, 5.38925024e-04, 5.23113155e-04,\n",
       "        5.05008165e-04, 4.88114917e-04, 4.72315579e-04, 4.57506751e-04,\n",
       "        4.43597957e-04, 4.30509765e-04, 4.11519662e-04, 3.94134553e-04,\n",
       "        3.78158827e-04, 3.63427411e-04, 3.49800430e-04, 3.37158391e-04,\n",
       "        3.20428649e-04, 3.05281149e-04, 2.91500922e-04, 2.78910527e-04,\n",
       "        2.67362448e-04, 2.56732657e-04, 2.44528627e-04, 2.33432344e-04,\n",
       "        2.23299154e-04, 2.14008834e-04, 2.05460609e-04, 1.97569084e-04,\n",
       "        1.88354167e-04, 1.79960611e-04, 1.72283068e-04, 1.65233639e-04,\n",
       "        1.58738378e-04, 1.52734472e-04, 1.45280906e-04, 1.38521092e-04,\n",
       "        1.32362261e-04, 1.26727613e-04, 1.21553045e-04, 1.16784489e-04,\n",
       "        1.10775703e-04, 1.05355147e-04, 1.00440222e-04, 9.59632444e-05,\n",
       "        9.18682706e-05, 8.81084984e-05, 8.33549311e-05, 7.90882043e-05,\n",
       "        7.52368901e-05, 7.17430459e-05, 6.85592215e-05, 6.56460046e-05,\n",
       "        6.19466032e-05, 5.86420847e-05, 5.56721286e-05, 5.29882893e-05,\n",
       "        5.05512466e-05, 4.83285560e-05, 4.54857663e-05, 4.29590077e-05,\n",
       "        4.06980478e-05, 3.86629643e-05, 3.68216546e-05, 3.51478016e-05,\n",
       "        3.29860958e-05, 3.10750578e-05, 2.93731590e-05, 2.78477773e-05,\n",
       "        2.64729504e-05, 2.52275385e-05, 2.36008882e-05, 2.21714716e-05,\n",
       "        2.09051346e-05, 1.97754093e-05, 1.87614787e-05, 1.78465110e-05,\n",
       "        1.66370396e-05, 1.55812675e-05, 1.46512944e-05, 1.38258413e-05,\n",
       "        1.30884003e-05, 1.24257135e-05, 1.15392466e-05, 1.07710262e-05,\n",
       "        1.00984845e-05, 9.50473016e-06, 8.97688123e-06, 8.50466009e-06,\n",
       "        7.85353295e-06, 7.29524707e-06, 6.81078413e-06, 6.38633296e-06,\n",
       "        6.01164585e-06, 5.67860267e-06, 5.20659314e-06, 4.80733462e-06,\n",
       "        4.46453724e-06, 4.16692639e-06, 4.00244816e-06]),\n",
       " 'p4': array([0.00000000e+00, 9.99995999e-13, 2.99998400e-12, 2.11369415e-07,\n",
       "        8.42329958e-07, 1.89179744e-06, 1.60351766e-05, 3.77241303e-05,\n",
       "        6.84095441e-05, 1.07982136e-04, 1.56334039e-04, 2.78950656e-04,\n",
       "        4.35422056e-04, 6.24931127e-04, 8.46679686e-04, 1.09988855e-03,\n",
       "        2.32558598e-03, 3.94995197e-03, 5.93759392e-03, 8.25609614e-03,\n",
       "        1.08757346e-02, 1.37692315e-02, 1.89482810e-02, 2.46806075e-02,\n",
       "        3.08839356e-02, 3.74862619e-02, 4.44245177e-02, 5.16434221e-02,\n",
       "        5.90944849e-02, 6.88979192e-02, 7.89352472e-02, 8.91414128e-02,\n",
       "        9.94613913e-02, 1.09848684e-01, 1.20264050e-01, 1.30674437e-01,\n",
       "        1.43380169e-01, 1.55995077e-01, 1.68485598e-01, 1.80825116e-01,\n",
       "        1.92992763e-01, 2.04972414e-01, 2.20650273e-01, 2.35951436e-01,\n",
       "        2.50863570e-01, 2.65380471e-01, 2.79500631e-01, 2.93226119e-01,\n",
       "        3.09844389e-01, 3.25866440e-01, 3.41309145e-01, 3.56191488e-01,\n",
       "        3.70533692e-01, 3.84356592e-01, 4.01378393e-01, 4.17622452e-01,\n",
       "        4.33131500e-01, 4.47946566e-01, 4.62106720e-01, 4.75648959e-01,\n",
       "        4.88608165e-01, 5.01017130e-01, 5.12906625e-01, 5.28626378e-01,\n",
       "        5.43469247e-01, 5.57500567e-01, 5.70779918e-01, 5.83361649e-01,\n",
       "        5.95719458e-01, 6.07431469e-01, 6.18543650e-01, 6.29097963e-01,\n",
       "        6.39132764e-01, 6.51519925e-01, 6.63150621e-01, 6.74088271e-01,\n",
       "        6.84389717e-01, 6.94106016e-01, 7.03283139e-01, 7.11962566e-01,\n",
       "        7.20181790e-01, 7.28634802e-01, 7.36623447e-01, 7.44183318e-01,\n",
       "        7.51346584e-01, 7.58142384e-01, 7.64627224e-01, 7.70792163e-01,\n",
       "        7.76659409e-01, 7.82249226e-01, 7.87580130e-01, 7.92763205e-01,\n",
       "        7.97711497e-01, 8.02440075e-01, 8.06962779e-01, 8.11292339e-01,\n",
       "        8.15485142e-01, 8.19503695e-01, 8.23358316e-01, 8.27058543e-01,\n",
       "        8.30613207e-01, 8.34089735e-01, 8.37431981e-01, 8.40647367e-01,\n",
       "        8.43742793e-01, 8.46724676e-01, 8.49622351e-01, 8.52416382e-01,\n",
       "        8.55112098e-01, 8.57714473e-01, 8.60228159e-01, 8.62684701e-01,\n",
       "        8.65059194e-01, 8.67355588e-01, 8.69577591e-01, 8.71728682e-01,\n",
       "        8.73812130e-01, 8.75831010e-01, 8.77788216e-01, 8.79877335e-01,\n",
       "        8.81898263e-01, 8.83854226e-01, 8.85748244e-01, 8.87875595e-01,\n",
       "        8.89927273e-01, 8.91907171e-01, 8.93818925e-01, 8.95666955e-01,\n",
       "        8.97453350e-01, 8.99181090e-01, 9.00852971e-01, 9.02496809e-01,\n",
       "        9.04088291e-01, 9.05629840e-01, 9.07123733e-01, 9.08589429e-01,\n",
       "        9.10010591e-01, 9.11389189e-01, 9.12727078e-01, 9.14034039e-01,\n",
       "        9.15303237e-01, 9.16536262e-01, 9.17734618e-01, 9.18907126e-01,\n",
       "        9.20047330e-01, 9.21156529e-01, 9.22235954e-01, 9.23291505e-01,\n",
       "        9.24319310e-01, 9.25320438e-01, 9.26295901e-01, 9.27250610e-01,\n",
       "        9.28181336e-01, 9.29088959e-01, 9.29974319e-01, 9.30841273e-01,\n",
       "        9.31687380e-01, 9.32513375e-01, 9.33319959e-01, 9.34110336e-01,\n",
       "        9.34882493e-01, 9.35637047e-01, 9.36374586e-01, 9.37097767e-01,\n",
       "        9.37804943e-01, 9.38496634e-01, 9.39173338e-01, 9.39837296e-01,\n",
       "        9.40487127e-01, 9.41123272e-01, 9.41746156e-01, 9.42357678e-01,\n",
       "        9.42956674e-01, 9.43543521e-01, 9.44118581e-01, 9.44683481e-01,\n",
       "        9.45237227e-01, 9.45780144e-01, 9.46312543e-01, 9.46835823e-01,\n",
       "        9.47349131e-01, 9.47852750e-01, 9.48346947e-01, 9.48832931e-01,\n",
       "        9.49309969e-01, 9.49778304e-01, 9.50238170e-01, 9.50690617e-01,\n",
       "        9.51135009e-01, 9.51571557e-01, 9.52000467e-01, 9.52422653e-01,\n",
       "        9.52837563e-01, 9.53245383e-01, 9.53646290e-01, 9.54041087e-01,\n",
       "        9.54429292e-01, 9.54811067e-01, 9.55186568e-01, 9.55556502e-01,\n",
       "        9.55920445e-01, 9.56278539e-01, 9.56630925e-01, 9.56978224e-01,\n",
       "        9.57320064e-01, 9.57656571e-01, 9.57987868e-01, 9.58314074e-01,\n",
       "        9.58635305e-01, 9.58951673e-01, 9.59263287e-01, 9.59570253e-01,\n",
       "        9.59872673e-01, 9.60185422e-01, 9.60493380e-01, 9.60796657e-01,\n",
       "        9.61106683e-01, 9.61411891e-01, 9.61712391e-01, 9.62022885e-01,\n",
       "        9.62328430e-01, 9.62629143e-01, 9.62917150e-01, 9.63200792e-01,\n",
       "        9.63480166e-01, 9.63759935e-01, 9.64035488e-01, 9.64306919e-01,\n",
       "        9.64572082e-01, 9.64833368e-01, 9.65090862e-01, 9.65348041e-01,\n",
       "        9.65601491e-01, 9.65851291e-01, 9.66095461e-01, 9.66336193e-01,\n",
       "        9.66573559e-01, 9.66809394e-01, 9.67041951e-01, 9.67271299e-01,\n",
       "        9.67496643e-01, 9.67718930e-01, 9.67938221e-01, 9.68155743e-01,\n",
       "        9.68370356e-01, 9.68582118e-01, 9.68790508e-01, 9.68996174e-01,\n",
       "        9.69199166e-01, 9.69400243e-01, 9.69598730e-01, 9.69794678e-01,\n",
       "        9.69987855e-01, 9.70178594e-01, 9.70366942e-01, 9.70553412e-01,\n",
       "        9.70737566e-01, 9.70919448e-01, 9.71098940e-01, 9.71276246e-01,\n",
       "        9.71451405e-01, 9.71624767e-01, 9.71796051e-01, 9.71965294e-01,\n",
       "        9.72132459e-01, 9.72297656e-01, 9.72460920e-01, 9.72622503e-01,\n",
       "        9.72782213e-01, 9.72940084e-01, 9.73096115e-01, 9.73250369e-01,\n",
       "        9.73402876e-01, 9.73553826e-01, 9.73703082e-01, 9.73850674e-01,\n",
       "        9.73996625e-01, 9.74140966e-01, 9.74283723e-01, 9.74425045e-01,\n",
       "        9.74564831e-01, 9.74703107e-01, 9.74839906e-01, 9.74975241e-01,\n",
       "        9.75109138e-01, 9.75241714e-01, 9.75372894e-01, 9.75502699e-01,\n",
       "        9.75631166e-01, 9.75758301e-01, 9.75884125e-01, 9.76008734e-01,\n",
       "        9.76132070e-01, 9.76254151e-01, 9.76375016e-01, 9.76494663e-01,\n",
       "        9.76613112e-01, 9.76730444e-01, 9.76846611e-01, 9.76961632e-01,\n",
       "        9.77075540e-01, 9.77188333e-01, 9.77300029e-01, 9.77410697e-01,\n",
       "        9.77520297e-01, 9.77628845e-01, 9.77736374e-01, 9.77842880e-01,\n",
       "        9.77948377e-01, 9.78052927e-01, 9.78156496e-01, 9.78259097e-01,\n",
       "        9.78360762e-01, 9.78461485e-01, 9.78561281e-01, 9.78660202e-01,\n",
       "        9.78758219e-01, 9.78855345e-01, 9.78951607e-01, 9.79047002e-01,\n",
       "        9.79141540e-01, 9.79235271e-01, 9.79328167e-01, 9.79420240e-01,\n",
       "        9.79511515e-01, 9.79601989e-01, 9.79691671e-01, 9.79780605e-01,\n",
       "        9.79868767e-01, 9.79956167e-01, 9.80042830e-01, 9.80128750e-01,\n",
       "        9.80213937e-01, 9.80298430e-01, 9.80382208e-01, 9.80465280e-01,\n",
       "        9.80549370e-01, 9.80632744e-01, 9.80715409e-01, 9.80796878e-01,\n",
       "        9.80877665e-01, 9.80957778e-01, 9.81040066e-01, 9.81121650e-01,\n",
       "        9.81202537e-01, 9.81280066e-01, 9.81356961e-01, 9.81433229e-01,\n",
       "        9.81512849e-01, 9.81591791e-01, 9.81670066e-01, 9.81743829e-01,\n",
       "        9.81817004e-01, 9.81889597e-01, 9.81967698e-01, 9.82045131e-01,\n",
       "        9.82121905e-01, 9.82190938e-01, 9.82259442e-01, 9.82327424e-01,\n",
       "        9.82402319e-01, 9.82476585e-01, 9.82550230e-01, 9.82615776e-01,\n",
       "        9.82680833e-01, 9.82745408e-01, 9.82819903e-01, 9.82893760e-01,\n",
       "        9.82966988e-01, 9.83027608e-01, 9.83087801e-01, 9.83147569e-01,\n",
       "        9.83216198e-01, 9.83284272e-01, 9.83351798e-01, 9.83411877e-01,\n",
       "        9.83471526e-01, 9.83530749e-01, 9.83605498e-01, 9.83679574e-01,\n",
       "        9.83752986e-01, 9.83803431e-01, 9.83853565e-01, 9.83903391e-01,\n",
       "        9.83953976e-01, 9.84004245e-01, 9.84054201e-01, 9.84119101e-01,\n",
       "        9.84183477e-01, 9.84247335e-01, 9.84304873e-01, 9.84361995e-01,\n",
       "        9.84418703e-01, 9.84482689e-01, 9.84546154e-01, 9.84609104e-01,\n",
       "        9.84663621e-01, 9.84717755e-01, 9.84771509e-01, 9.84835402e-01,\n",
       "        9.84898763e-01, 9.84961598e-01, 9.85010651e-01, 9.85059386e-01,\n",
       "        9.85107806e-01, 9.85163654e-01, 9.85219087e-01, 9.85274108e-01,\n",
       "        9.85324543e-01, 9.85374635e-01, 9.85424387e-01, 9.85497960e-01,\n",
       "        9.85570796e-01, 9.85642906e-01, 9.85677450e-01, 9.85711828e-01,\n",
       "        9.85746042e-01, 9.85772593e-01, 9.85799046e-01, 9.85825401e-01,\n",
       "        9.85859741e-01, 9.85893916e-01, 9.85927926e-01, 9.86008528e-01,\n",
       "        9.86088216e-01, 9.86167003e-01, 9.86197195e-01, 9.86227256e-01,\n",
       "        9.86257186e-01, 9.86281901e-01, 9.86306527e-01, 9.86331065e-01,\n",
       "        9.86359750e-01, 9.86388315e-01, 9.86416761e-01, 9.86493284e-01,\n",
       "        9.86568952e-01, 9.86643780e-01, 9.86671732e-01, 9.86699568e-01,\n",
       "        9.86727288e-01, 9.86750633e-01, 9.86773897e-01, 9.86797080e-01,\n",
       "        9.86823591e-01, 9.86849996e-01, 9.86876295e-01, 9.86951205e-01,\n",
       "        9.87025267e-01, 9.87098496e-01, 9.87122088e-01, 9.87145593e-01,\n",
       "        9.87169013e-01, 9.87191988e-01, 9.87214882e-01, 9.87237694e-01,\n",
       "        9.87257925e-01, 9.87278093e-01, 9.87298197e-01, 9.87373587e-01,\n",
       "        9.87448091e-01, 9.87466580e-01, 9.87485015e-01, 9.87503395e-01,\n",
       "        9.87523779e-01, 9.87544097e-01, 9.87564348e-01, 9.87587999e-01,\n",
       "        9.87611560e-01, 9.87635032e-01, 9.87700704e-01, 9.87765684e-01,\n",
       "        9.87829984e-01, 9.87852970e-01, 9.87875871e-01, 9.87898685e-01,\n",
       "        9.87918435e-01, 9.87938121e-01, 9.87957742e-01, 9.87979509e-01,\n",
       "        9.88001198e-01, 9.88022809e-01, 9.88093973e-01, 9.88164299e-01,\n",
       "        9.88181751e-01, 9.88199152e-01, 9.88216502e-01, 9.88235290e-01,\n",
       "        9.88254018e-01, 9.88272687e-01, 9.88293192e-01, 9.88313626e-01,\n",
       "        9.88333989e-01, 9.88394337e-01, 9.88454065e-01, 9.88513183e-01,\n",
       "        9.88533465e-01, 9.88553676e-01, 9.88573815e-01, 9.88591647e-01,\n",
       "        9.88609423e-01, 9.88627143e-01, 9.88646344e-01, 9.88665479e-01,\n",
       "        9.88684551e-01, 9.88751520e-01, 9.88817704e-01, 9.88834128e-01,\n",
       "        9.88850505e-01, 9.88866834e-01, 9.88883860e-01, 9.88900834e-01,\n",
       "        9.88917757e-01, 9.88935865e-01, 9.88953913e-01, 9.88971904e-01,\n",
       "        9.89028646e-01, 9.89084809e-01, 9.89140401e-01, 9.89158292e-01,\n",
       "        9.89176125e-01, 9.89193899e-01, 9.89210069e-01, 9.89226192e-01,\n",
       "        9.89242266e-01, 9.89259216e-01, 9.89276113e-01, 9.89292958e-01,\n",
       "        9.89351668e-01, 9.89409740e-01, 9.89424160e-01, 9.89438540e-01,\n",
       "        9.89452881e-01, 9.89468116e-01, 9.89483306e-01, 9.89498453e-01,\n",
       "        9.89514771e-01, 9.89531039e-01, 9.89547256e-01, 9.89604018e-01,\n",
       "        9.89660168e-01, 9.89674111e-01, 9.89688017e-01, 9.89701885e-01,\n",
       "        9.89716448e-01, 9.89730970e-01, 9.89745452e-01, 9.89760986e-01,\n",
       "        9.89776474e-01, 9.89791914e-01, 9.89848138e-01, 9.89903746e-01,\n",
       "        9.89917553e-01, 9.89931323e-01, 9.89945055e-01, 9.89959048e-01,\n",
       "        9.89973001e-01, 9.89986917e-01, 9.90001632e-01, 9.90016305e-01,\n",
       "        9.90030935e-01, 9.90084897e-01, 9.90138280e-01, 9.90151536e-01,\n",
       "        9.90164757e-01, 9.90177942e-01, 9.90191318e-01, 9.90204657e-01,\n",
       "        9.90217960e-01, 9.90231987e-01, 9.90245974e-01, 9.90259921e-01,\n",
       "        9.90313011e-01, 9.90365527e-01, 9.90378567e-01, 9.90391572e-01,\n",
       "        9.90404542e-01, 9.90417369e-01, 9.90430162e-01, 9.90442920e-01,\n",
       "        9.90456254e-01, 9.90469552e-01, 9.90482812e-01, 9.90534198e-01,\n",
       "        9.90585034e-01, 9.90597657e-01, 9.90610247e-01, 9.90622804e-01,\n",
       "        9.90635081e-01, 9.90647327e-01, 9.90659541e-01, 9.90723614e-01,\n",
       "        9.90786818e-01, 9.90849169e-01, 9.90941820e-01, 9.91032613e-01,\n",
       "        9.91121608e-01, 9.91208860e-01, 9.91322544e-01, 9.91433332e-01,\n",
       "        9.91541332e-01, 9.91646649e-01, 9.91855353e-01, 9.92053908e-01,\n",
       "        9.92243033e-01, 9.92423380e-01, 9.92595544e-01, 9.92760070e-01,\n",
       "        9.92917456e-01, 9.93068157e-01, 9.93260827e-01, 9.93443092e-01,\n",
       "        9.93615770e-01, 9.93779600e-01, 9.93935246e-01, 9.93962220e-01,\n",
       "        9.93988956e-01, 9.94015456e-01, 9.94041724e-01, 9.94067763e-01,\n",
       "        9.94119164e-01, 9.94169684e-01, 9.94219344e-01, 9.94268167e-01,\n",
       "        9.94366980e-01, 9.94462447e-01, 9.94554737e-01, 9.94644004e-01,\n",
       "        9.94791256e-01, 9.94930644e-01, 9.95038977e-01, 9.95142780e-01,\n",
       "        9.95242332e-01, 9.95337890e-01, 9.95429689e-01, 9.95549943e-01,\n",
       "        9.95664038e-01, 9.95772435e-01, 9.95875549e-01, 9.95973757e-01,\n",
       "        9.96048351e-01, 9.96120232e-01, 9.96189548e-01, 9.96256434e-01,\n",
       "        9.96321013e-01, 9.96334599e-01, 9.96348085e-01, 9.96361472e-01,\n",
       "        9.96374761e-01, 9.96401051e-01, 9.96426963e-01, 9.96452505e-01,\n",
       "        9.96477684e-01, 9.96551114e-01, 9.96621549e-01, 9.96689167e-01,\n",
       "        9.96754133e-01, 9.96816601e-01, 9.96895528e-01, 9.96970638e-01,\n",
       "        9.97042203e-01, 9.97110467e-01, 9.97175653e-01, 9.97257429e-01,\n",
       "        9.97334605e-01, 9.97407558e-01, 9.97476627e-01, 9.97542114e-01,\n",
       "        9.97604290e-01, 9.97663399e-01, 9.97719664e-01, 9.97773283e-01,\n",
       "        9.97830692e-01, 9.97885216e-01, 9.97937069e-01, 9.97986441e-01,\n",
       "        9.98033506e-01, 9.98093697e-01, 9.98150313e-01, 9.98203664e-01,\n",
       "        9.98254025e-01, 9.98262755e-01, 9.98271397e-01, 9.98279954e-01,\n",
       "        9.98288426e-01, 9.98296816e-01, 9.98313350e-01, 9.98329567e-01,\n",
       "        9.98342438e-01, 9.98355112e-01, 9.98367595e-01, 9.98379888e-01,\n",
       "        9.98381782e-01, 9.98383672e-01, 9.98385558e-01, 9.98387439e-01,\n",
       "        9.98389316e-01, 9.98392210e-01, 9.98395094e-01, 9.98397968e-01,\n",
       "        9.98400831e-01, 9.98411546e-01, 9.98422119e-01, 9.98432553e-01,\n",
       "        9.98447855e-01, 9.98462860e-01, 9.98477578e-01, 9.98492017e-01,\n",
       "        9.98513375e-01, 9.98534138e-01, 9.98554328e-01, 9.98573970e-01,\n",
       "        9.98613109e-01, 9.98650158e-01, 9.98685281e-01, 9.98718623e-01,\n",
       "        9.98750315e-01, 9.98780478e-01, 9.98809220e-01, 9.98836638e-01,\n",
       "        9.98871960e-01, 9.98905200e-01, 9.98936537e-01, 9.98966131e-01,\n",
       "        9.98994123e-01, 9.99020639e-01, 9.99048303e-01, 9.99074448e-01,\n",
       "        9.99099194e-01, 9.99122652e-01, 9.99144920e-01, 9.99166086e-01,\n",
       "        9.99196991e-01, 9.99225687e-01, 9.99252404e-01, 9.99277338e-01,\n",
       "        9.99300664e-01, 9.99322531e-01, 9.99348917e-01, 9.99373325e-01,\n",
       "        9.99395969e-01, 9.99417035e-01, 9.99436680e-01, 9.99455046e-01,\n",
       "        9.99472251e-01, 9.99475057e-01, 9.99477833e-01, 9.99480580e-01,\n",
       "        9.99483298e-01, 9.99485988e-01, 9.99491285e-01, 9.99496474e-01,\n",
       "        9.99501558e-01, 9.99506540e-01, 9.99517060e-01, 9.99527140e-01,\n",
       "        9.99536808e-01, 9.99546089e-01, 9.99560669e-01, 9.99574343e-01,\n",
       "        9.99587192e-01, 9.99599287e-01, 9.99610694e-01, 9.99621469e-01,\n",
       "        9.99631664e-01, 9.99641324e-01, 9.99653122e-01, 9.99664168e-01,\n",
       "        9.99674532e-01, 9.99684276e-01, 9.99693454e-01, 9.99703644e-01,\n",
       "        9.99713179e-01, 9.99722119e-01, 9.99730519e-01, 9.99738426e-01,\n",
       "        9.99747480e-01, 9.99755928e-01, 9.99763828e-01, 9.99771234e-01,\n",
       "        9.99778189e-01, 9.99784734e-01, 9.99794230e-01, 9.99802923e-01,\n",
       "        9.99810912e-01, 9.99818278e-01, 9.99825092e-01, 9.99831414e-01,\n",
       "        9.99839779e-01, 9.99847354e-01, 9.99854244e-01, 9.99860540e-01,\n",
       "        9.99866314e-01, 9.99871630e-01, 9.99877732e-01, 9.99883280e-01,\n",
       "        9.99888347e-01, 9.99892993e-01, 9.99897267e-01, 9.99901213e-01,\n",
       "        9.99905821e-01, 9.99910018e-01, 9.99913857e-01, 9.99917381e-01,\n",
       "        9.99920629e-01, 9.99923631e-01, 9.99927358e-01, 9.99930738e-01,\n",
       "        9.99933818e-01, 9.99936635e-01, 9.99939223e-01, 9.99941607e-01,\n",
       "        9.99944611e-01, 9.99947322e-01, 9.99949779e-01, 9.99952018e-01,\n",
       "        9.99954065e-01, 9.99955945e-01, 9.99958322e-01, 9.99960456e-01,\n",
       "        9.99962381e-01, 9.99964128e-01, 9.99965720e-01, 9.99967177e-01,\n",
       "        9.99969026e-01, 9.99970679e-01, 9.99972164e-01, 9.99973506e-01,\n",
       "        9.99974724e-01, 9.99975836e-01, 9.99977257e-01, 9.99978520e-01,\n",
       "        9.99979651e-01, 9.99980668e-01, 9.99981589e-01, 9.99982426e-01,\n",
       "        9.99983507e-01, 9.99984462e-01, 9.99985313e-01, 9.99986076e-01,\n",
       "        9.99986763e-01, 9.99987386e-01, 9.99988200e-01, 9.99988914e-01,\n",
       "        9.99989547e-01, 9.99990112e-01, 9.99990619e-01, 9.99991077e-01,\n",
       "        9.99991681e-01, 9.99992209e-01, 9.99992674e-01, 9.99993087e-01,\n",
       "        9.99993456e-01, 9.99993787e-01, 9.99994230e-01, 9.99994614e-01,\n",
       "        9.99994951e-01, 9.99995248e-01, 9.99995512e-01, 9.99995748e-01,\n",
       "        9.99996073e-01, 9.99996352e-01, 9.99996595e-01, 9.99996807e-01,\n",
       "        9.99996994e-01, 9.99997161e-01, 9.99997397e-01, 9.99997596e-01,\n",
       "        9.99997768e-01, 9.99997917e-01, 9.99997999e-01])}"
      ]
     },
     "execution_count": 41,
     "metadata": {},
     "output_type": "execute_result"
    }
   ],
   "source": [
    "pools = ['x1*x2 - x3', 'x3 - x4', 'x1 + x2 + x3', 'x4 +x5'] #Not sure about pools here\n",
    "pool_sol = sim.make_pools(pools)\n",
    "pool_sol.solutions"
   ]
  },
  {
   "cell_type": "markdown",
   "metadata": {},
   "source": [
    "This tpye of function helps depict the entire solutions over different time ranges; *the interpolate function is not working for some reason; is this bc of the update?*"
   ]
  },
  {
   "cell_type": "code",
   "execution_count": 42,
   "metadata": {},
   "outputs": [
    {
     "data": {
      "text/plain": [
       "<matplotlib.axes._subplots.AxesSubplot at 0x1295836d8>"
      ]
     },
     "execution_count": 42,
     "metadata": {},
     "output_type": "execute_result"
    },
    {
     "data": {
      "image/png": "[encoded data removed]",
      "text/plain": [
       "<Figure size 432x288 with 1 Axes>"
      ]
     },
     "metadata": {
      "needs_background": "light"
     },
     "output_type": "display_data"
    }
   ],
   "source": [
    "plot_simulation(pool_sol, plot_function= 'semilogx', xlabel='Time', ylabel='Concentration',\n",
    "                title = (\"Pool Profile\",{\"size\":\"large\"}), legend = \"best\" )"
   ]
  },
  {
   "cell_type": "markdown",
   "metadata": {},
   "source": [
    "#### 3.7.2 Computing Fluxes"
   ]
  },
  {
   "cell_type": "markdown",
   "metadata": {},
   "source": [
    "Similar process can help derive behavior of the net flux through group of reactions utilizing __Simulation.make_net_fluxes__ method; both __Simulation.make_net_fluxes__ and __Simulation.make_pools__ rely on the __sympy.sympify__ function and can therefore use specific methodology within strings as well. Pull up sympy.sympify documentation through the help function for more help,"
   ]
  },
  {
   "cell_type": "markdown",
   "metadata": {},
   "source": [
    "*Note:* Using dictionary inputs allows for pool and net flux IDs to be user-defined. "
   ]
  },
  {
   "cell_type": "code",
   "execution_count": 43,
   "metadata": {},
   "outputs": [
    {
     "data": {
      "text/plain": [
       "{'v_net_fluxes_1': <scipy.interpolate.interpolate.interp1d at 0x1299fbef8>}"
      ]
     },
     "execution_count": 43,
     "metadata": {},
     "output_type": "execute_result"
    }
   ],
   "source": [
    "net_fluxes = {\"v_net_fluxes_1\":'Abs(v1) + Abs(v2) + Abs(v3)'} #What is the different b/w apostrophe and quotes? \n",
    "net_flux_sol = sim.make_net_fluxes(net_fluxes)\n",
    "net_flux_sol.solutions"
   ]
  },
  {
   "cell_type": "markdown",
   "metadata": {},
   "source": [
    "As aforementioned, this function solutions for individual fluxes over a time range of specified input and creates new scipy interpolating functions representing behavior of various flux combinations."
   ]
  },
  {
   "cell_type": "code",
   "execution_count": 44,
   "metadata": {},
   "outputs": [
    {
     "data": {
      "image/png": "[encoded data removed]",
      "text/plain": [
       "<Figure size 432x288 with 1 Axes>"
      ]
     },
     "metadata": {
      "needs_background": "light"
     },
     "output_type": "display_data"
    }
   ],
   "source": [
    "plot_simulation(net_flux_sol, legend=\"best\", plot_function=\"semilogx\", \n",
    "                xlabel=\"time\", ylabel=\"Fluxes\", \n",
    "                title=(\"Net Flux\", {\"size\": \"large\"}));"
   ]
  },
  {
   "cell_type": "markdown",
   "metadata": {},
   "source": [
    "#### 3.7.3 Plot Phase Portraits of Pools "
   ]
  },
  {
   "cell_type": "code",
   "execution_count": 45,
   "metadata": {},
   "outputs": [
    {
     "data": {
      "text/plain": [
       "<matplotlib.axes._subplots.AxesSubplot at 0x12a1290b8>"
      ]
     },
     "execution_count": 45,
     "metadata": {},
     "output_type": "execute_result"
    },
    {
     "data": {
      "image/png": "[encoded data removed]",
      "text/plain": [
       "<Figure size 360x360 with 1 Axes>"
      ]
     },
     "metadata": {
      "needs_background": "light"
     },
     "output_type": "display_data"
    }
   ],
   "source": [
    "fig, ax = plt.subplots(1,1,figsize=(5,5))\n",
    "plot_tiled_phase_portrait(pool_sol, ax=ax)"
   ]
  },
  {
   "cell_type": "markdown",
   "metadata": {},
   "source": [
    "From this depiction, we see how the metabolites are not dynamically independent of each other but are linearly dependent to some degree; more analysis of this can be visualized in other methods. "
   ]
  },
  {
   "cell_type": "code",
   "execution_count": null,
   "metadata": {},
   "outputs": [],
   "source": []
  }
 ],
 "metadata": {
  "kernelspec": {
   "display_name": "Python 3",
   "language": "python",
   "name": "python3"
  },
  "language_info": {
   "codemirror_mode": {
    "name": "ipython",
    "version": 3
   },
   "file_extension": ".py",
   "mimetype": "text/x-python",
   "name": "python",
   "nbconvert_exporter": "python",
   "pygments_lexer": "ipython3",
   "version": "3.7.3"
  }
 },
 "nbformat": 4,
 "nbformat_minor": 2
}
