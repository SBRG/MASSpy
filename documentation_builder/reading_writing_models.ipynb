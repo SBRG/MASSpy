{
 "cells": [
  {
   "cell_type": "markdown",
   "metadata": {},
   "source": [
    "# Reading and Writing Models\n",
    "\n",
    "In this notebook example, the import and export capabilities of **MASSpy** are demonstrated.\n",
    "\n",
    "**MASSpy** supports reading and writing models in the [SBML](http://sbml.org/Main_Page) and [JSON](http://www.json.org/) formats. Generally, SBML with the FBC version 2 extension and the groups version 1 extension is the preferred format for general use. The JSON format may be more useful for **MASSpy** specific functionality and in visualizing networks via the [Escher](https://escher.github.io/#/) network visualization tool.\n",
    "\n",
    "The **MASSpy** package also comes with models in various formats for testing purposes."
   ]
  },
  {
   "cell_type": "code",
   "execution_count": 1,
   "metadata": {},
   "outputs": [
    {
     "name": "stdout",
     "output_type": "stream",
     "text": [
      "Academic license - for non-commercial use only\n",
      "Glycolysis.json\n",
      "Glycolysis_FKRM.json\n",
      "Hemoglobin.json\n",
      "WholeCellRBC_MM_Rates.json\n",
      "WholeCellRBC_MM_Rates.xml\n",
      "textbook.json\n",
      "textbook.xml\n"
     ]
    }
   ],
   "source": [
    "import mass\n",
    "import mass.test\n",
    "\n",
    "from os.path import join\n",
    "\n",
    "model_dir = mass.test.MODELS_DIR\n",
    "\n",
    "textbook_model = mass.test.create_test_model(\"textbook\")\n",
    "# To view available models\n",
    "print(\"\\n\".join(name for name in mass.test.view_test_models()))"
   ]
  },
  {
   "cell_type": "markdown",
   "metadata": {},
   "source": [
    "## SBML"
   ]
  },
  {
   "cell_type": "code",
   "execution_count": 2,
   "metadata": {},
   "outputs": [],
   "source": [
    "from mass.io import sbml"
   ]
  },
  {
   "cell_type": "markdown",
   "metadata": {},
   "source": [
    "The [Systems Biology Markup Language](http://sbml.org/Main_Page) is an XML-based standard format for distributing models.\n",
    "\n",
    "**MASSpy** supports the reading and writing of SBML Level 3. **MASSpy** attempts to convert SBML Level 1 and Level 2 models to Level 3 before loading. "
   ]
  },
  {
   "cell_type": "code",
   "execution_count": 3,
   "metadata": {},
   "outputs": [
    {
     "data": {
      "text/html": [
       "\n",
       "            <table>\n",
       "                <tr>\n",
       "                    <td><strong>Name</strong></td><td>RBC_PFK</td>\n",
       "                </tr><tr>\n",
       "                    <td><strong>Memory address</strong></td><td>0x012a6a5290</td>\n",
       "                </tr><tr>\n",
       "                    <td><strong>Stoichiometric Matrix</strong></td>\n",
       "                    <td>68x76</td>\n",
       "                </tr><tr>\n",
       "                    <td><strong>Matrix Rank</strong></td>\n",
       "                    <td>63</td>\n",
       "                </tr><tr>\n",
       "                    <td><strong>Number of metabolites</strong></td>\n",
       "                    <td>68</td>\n",
       "                </tr><tr>\n",
       "                    <td><strong>Initial conditions defined</strong></td>\n",
       "                    <td>68/68</td>\n",
       "                </tr><tr>\n",
       "                    <td><strong>Number of reactions</strong></td>\n",
       "                    <td>76</td>\n",
       "                </tr><tr>\n",
       "                    <td><strong>Number of genes</strong></td>\n",
       "                    <td>0</td>\n",
       "                </tr><tr>\n",
       "                    <td><strong>Number of enzyme modules</strong></td>\n",
       "                    <td>1</td>\n",
       "                </tr><tr>\n",
       "                    <td><strong>Number of groups</strong></td>\n",
       "                    <td>16</td>\n",
       "                </tr><tr>\n",
       "                    <td><strong>Objective expression</strong></td>\n",
       "                    <td>0</td>\n",
       "                </tr><tr>\n",
       "                    <td><strong>Compartments</strong></td>\n",
       "                    <td>Cytosol</td>\n",
       "                </tr>\n",
       "            </table>\n",
       "        "
      ],
      "text/plain": [
       "<MassModel RBC_PFK at 0x12a6a5290>"
      ]
     },
     "execution_count": 3,
     "metadata": {},
     "output_type": "execute_result"
    }
   ],
   "source": [
    "sbml.read_sbml_model(join(model_dir, \"textbook.xml\"))"
   ]
  },
  {
   "cell_type": "code",
   "execution_count": 4,
   "metadata": {},
   "outputs": [],
   "source": [
    "sbml.write_sbml_model(textbook_model, \"test_textbook.xml\")"
   ]
  },
  {
   "cell_type": "markdown",
   "metadata": {},
   "source": [
    "**MASSpy** utilizes the [libSBML](http://sbml.org/Software/libSBML/5.18.0/docs/python-api/) package to read and write SBML files, supporting both the [FBC](http://sbml.org/Software/libSBML/5.18.0/docs/python-api/group__fbc.html) (version 2) and the [groups](http://sbml.org/Software/libSBML/5.18.0/docs/python-api/group__groups.html) (version 1) extensions.\n",
    "When reading in a model, **MASSpy** automatically detects whether the FBC and/or groups packages were used.\n",
    "\n",
    "In order to preserve information specific to `EnzymeModule` objects, the SBML groups package is used along with the notes section for SBML objects. The `use_groups_package` argument can be used to indicate whether to write groups information to the SBML file and by extension, `EnzymeModule` information as well. Disabling this attribute may result in a loss of the enzyme specific information (e.g. catagorized groups), but it does not prevent species and reactions of the enzyme module\n",
    "from being written.\n",
    "\n",
    "When writing a model, the `use_fbc_package` argument can be used to indicate whether to write additional model information (e.g. metabolite formula and charge, genes, reaction bounds) via the FBC package. "
   ]
  },
  {
   "cell_type": "markdown",
   "metadata": {},
   "source": [
    "## JSON"
   ]
  },
  {
   "cell_type": "code",
   "execution_count": 5,
   "metadata": {},
   "outputs": [],
   "source": [
    "from mass.io import json"
   ]
  },
  {
   "cell_type": "markdown",
   "metadata": {},
   "source": [
    "**MASSpy** models have a [JSON](http://www.json.org/) representation, allowing for interoperability with the [Escher](https://escher.github.io/#/) network visualization tool."
   ]
  },
  {
   "cell_type": "code",
   "execution_count": 6,
   "metadata": {},
   "outputs": [
    {
     "data": {
      "text/html": [
       "\n",
       "            <table>\n",
       "                <tr>\n",
       "                    <td><strong>Name</strong></td><td>RBC_PFK</td>\n",
       "                </tr><tr>\n",
       "                    <td><strong>Memory address</strong></td><td>0x012a733310</td>\n",
       "                </tr><tr>\n",
       "                    <td><strong>Stoichiometric Matrix</strong></td>\n",
       "                    <td>68x76</td>\n",
       "                </tr><tr>\n",
       "                    <td><strong>Matrix Rank</strong></td>\n",
       "                    <td>63</td>\n",
       "                </tr><tr>\n",
       "                    <td><strong>Number of metabolites</strong></td>\n",
       "                    <td>68</td>\n",
       "                </tr><tr>\n",
       "                    <td><strong>Initial conditions defined</strong></td>\n",
       "                    <td>68/68</td>\n",
       "                </tr><tr>\n",
       "                    <td><strong>Number of reactions</strong></td>\n",
       "                    <td>76</td>\n",
       "                </tr><tr>\n",
       "                    <td><strong>Number of genes</strong></td>\n",
       "                    <td>0</td>\n",
       "                </tr><tr>\n",
       "                    <td><strong>Number of enzyme modules</strong></td>\n",
       "                    <td>1</td>\n",
       "                </tr><tr>\n",
       "                    <td><strong>Number of groups</strong></td>\n",
       "                    <td>16</td>\n",
       "                </tr><tr>\n",
       "                    <td><strong>Objective expression</strong></td>\n",
       "                    <td>0</td>\n",
       "                </tr><tr>\n",
       "                    <td><strong>Compartments</strong></td>\n",
       "                    <td>Cytosol</td>\n",
       "                </tr>\n",
       "            </table>\n",
       "        "
      ],
      "text/plain": [
       "<MassModel RBC_PFK at 0x12a733310>"
      ]
     },
     "execution_count": 6,
     "metadata": {},
     "output_type": "execute_result"
    }
   ],
   "source": [
    "json.load_json_model(join(model_dir, \"textbook.json\"))"
   ]
  },
  {
   "cell_type": "code",
   "execution_count": 7,
   "metadata": {},
   "outputs": [],
   "source": [
    "json.save_json_model(textbook_model, \"test_textbook.json\")"
   ]
  },
  {
   "cell_type": "markdown",
   "metadata": {},
   "source": [
    "Consider having the [simplejson](https://pypi.org/project/simplejson/) package to speed up reading/writing of JSON models."
   ]
  }
 ],
 "metadata": {
  "kernelspec": {
   "display_name": "Python 3",
   "language": "python",
   "name": "python3"
  },
  "language_info": {
   "codemirror_mode": {
    "name": "ipython",
    "version": 3
   },
   "file_extension": ".py",
   "mimetype": "text/x-python",
   "name": "python",
   "nbconvert_exporter": "python",
   "pygments_lexer": "ipython3",
   "version": "3.7.4"
  }
 },
 "nbformat": 4,
 "nbformat_minor": 2
}
